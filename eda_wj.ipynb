{
 "cells": [
  {
   "cell_type": "markdown",
   "id": "75f84c24",
   "metadata": {},
   "source": [
    "## 1. 데이터셋 로딩 및 전처리"
   ]
  },
  {
   "cell_type": "markdown",
   "id": "ec9865c7",
   "metadata": {},
   "source": [
    "### 1-1. 데이터셋 불러오기"
   ]
  },
  {
   "cell_type": "code",
   "execution_count": 24,
   "id": "12d7bc5a",
   "metadata": {
    "ExecuteTime": {
     "end_time": "2024-06-13T10:28:06.072962Z",
     "start_time": "2024-06-13T10:28:06.052930Z"
    }
   },
   "outputs": [],
   "source": [
    "import pandas as pd\n",
    "import numpy as np\n",
    "import matplotlib.pyplot as plt\n",
    "import seaborn as sns\n",
    "import pickle\n",
    "from datetime import datetime\n",
    "\n",
    "from sklearn.model_selection import train_test_split, GridSearchCV\n",
    "from sklearn.metrics import confusion_matrix, accuracy_score, precision_score, recall_score, f1_score\n",
    "from xgboost import XGBClassifier\n",
    "from lightgbm import LGBMClassifier"
   ]
  },
  {
   "cell_type": "code",
   "execution_count": 25,
   "id": "ed8bd5d8",
   "metadata": {
    "ExecuteTime": {
     "end_time": "2024-06-13T10:28:09.102681Z",
     "start_time": "2024-06-13T10:28:06.233425Z"
    }
   },
   "outputs": [],
   "source": [
    "train = pd.read_csv('fog_train.csv', index_col=0).rename(columns=lambda x: x.split('.')[1])\n",
    "test = pd.read_csv('fog_test.csv', index_col=0).rename(columns=lambda x: x.split('.')[1])"
   ]
  },
  {
   "cell_type": "markdown",
   "id": "bcf114d3",
   "metadata": {},
   "source": [
    "### 1-2. 데이터셋 분포 확인"
   ]
  },
  {
   "cell_type": "code",
   "execution_count": 4,
   "id": "23b6d3ae",
   "metadata": {
    "ExecuteTime": {
     "end_time": "2024-06-13T10:12:58.550377Z",
     "start_time": "2024-06-13T10:12:58.498752Z"
    }
   },
   "outputs": [
    {
     "data": {
      "text/html": [
       "<div>\n",
       "<style scoped>\n",
       "    .dataframe tbody tr th:only-of-type {\n",
       "        vertical-align: middle;\n",
       "    }\n",
       "\n",
       "    .dataframe tbody tr th {\n",
       "        vertical-align: top;\n",
       "    }\n",
       "\n",
       "    .dataframe thead th {\n",
       "        text-align: right;\n",
       "    }\n",
       "</style>\n",
       "<table border=\"1\" class=\"dataframe\">\n",
       "  <thead>\n",
       "    <tr style=\"text-align: right;\">\n",
       "      <th></th>\n",
       "      <th>class</th>\n",
       "    </tr>\n",
       "    <tr>\n",
       "      <th>index</th>\n",
       "      <th></th>\n",
       "    </tr>\n",
       "  </thead>\n",
       "  <tbody>\n",
       "    <tr>\n",
       "      <th>-99</th>\n",
       "      <td>0.713%</td>\n",
       "    </tr>\n",
       "    <tr>\n",
       "      <th>1</th>\n",
       "      <td>0.249%</td>\n",
       "    </tr>\n",
       "    <tr>\n",
       "      <th>2</th>\n",
       "      <td>0.383%</td>\n",
       "    </tr>\n",
       "    <tr>\n",
       "      <th>3</th>\n",
       "      <td>0.386%</td>\n",
       "    </tr>\n",
       "    <tr>\n",
       "      <th>4</th>\n",
       "      <td>98.269%</td>\n",
       "    </tr>\n",
       "  </tbody>\n",
       "</table>\n",
       "</div>"
      ],
      "text/plain": [
       "         class\n",
       "index         \n",
       "-99     0.713%\n",
       " 1      0.249%\n",
       " 2      0.383%\n",
       " 3      0.386%\n",
       " 4     98.269%"
      ]
     },
     "execution_count": 4,
     "metadata": {},
     "output_type": "execute_result"
    }
   ],
   "source": [
    "# 클래스별 비율 확인\n",
    "np.round(\n",
    "    train['class'].value_counts(normalize=True).to_frame().reset_index().sort_values('index').set_index('index') * 100\n",
    ", 3).astype(str) + '%'"
   ]
  },
  {
   "cell_type": "code",
   "execution_count": 93,
   "id": "354758df",
   "metadata": {
    "ExecuteTime": {
     "end_time": "2024-06-06T12:17:24.568762Z",
     "start_time": "2024-06-06T12:17:24.508778Z"
    }
   },
   "outputs": [
    {
     "data": {
      "text/html": [
       "<div>\n",
       "<style scoped>\n",
       "    .dataframe tbody tr th:only-of-type {\n",
       "        vertical-align: middle;\n",
       "    }\n",
       "\n",
       "    .dataframe tbody tr th {\n",
       "        vertical-align: top;\n",
       "    }\n",
       "\n",
       "    .dataframe thead th {\n",
       "        text-align: right;\n",
       "    }\n",
       "</style>\n",
       "<table border=\"1\" class=\"dataframe\">\n",
       "  <thead>\n",
       "    <tr style=\"text-align: right;\">\n",
       "      <th></th>\n",
       "      <th>class</th>\n",
       "    </tr>\n",
       "    <tr>\n",
       "      <th>index</th>\n",
       "      <th></th>\n",
       "    </tr>\n",
       "  </thead>\n",
       "  <tbody>\n",
       "    <tr>\n",
       "      <th>1.0</th>\n",
       "      <td>0.251%</td>\n",
       "    </tr>\n",
       "    <tr>\n",
       "      <th>2.0</th>\n",
       "      <td>0.386%</td>\n",
       "    </tr>\n",
       "    <tr>\n",
       "      <th>3.0</th>\n",
       "      <td>0.389%</td>\n",
       "    </tr>\n",
       "    <tr>\n",
       "      <th>4.0</th>\n",
       "      <td>98.975%</td>\n",
       "    </tr>\n",
       "  </tbody>\n",
       "</table>\n",
       "</div>"
      ],
      "text/plain": [
       "         class\n",
       "index         \n",
       "1.0     0.251%\n",
       "2.0     0.386%\n",
       "3.0     0.389%\n",
       "4.0    98.975%"
      ]
     },
     "execution_count": 93,
     "metadata": {},
     "output_type": "execute_result"
    }
   ],
   "source": [
    "np.round(\n",
    "    train['class'].replace(-99, np.nan).replace(-99.9, np.nan)\\\n",
    "    .value_counts(normalize=True).to_frame().reset_index().sort_values('index').set_index('index') * 100\n",
    ", 3).astype(str) + '%'"
   ]
  },
  {
   "cell_type": "code",
   "execution_count": 94,
   "id": "48a025b1",
   "metadata": {
    "ExecuteTime": {
     "end_time": "2024-06-06T12:17:24.630577Z",
     "start_time": "2024-06-06T12:17:24.570991Z"
    }
   },
   "outputs": [
    {
     "data": {
      "text/html": [
       "<div>\n",
       "<style scoped>\n",
       "    .dataframe tbody tr th:only-of-type {\n",
       "        vertical-align: middle;\n",
       "    }\n",
       "\n",
       "    .dataframe tbody tr th {\n",
       "        vertical-align: top;\n",
       "    }\n",
       "\n",
       "    .dataframe thead th {\n",
       "        text-align: right;\n",
       "    }\n",
       "</style>\n",
       "<table border=\"1\" class=\"dataframe\">\n",
       "  <thead>\n",
       "    <tr style=\"text-align: right;\">\n",
       "      <th></th>\n",
       "      <th>class</th>\n",
       "    </tr>\n",
       "    <tr>\n",
       "      <th>index</th>\n",
       "      <th></th>\n",
       "    </tr>\n",
       "  </thead>\n",
       "  <tbody>\n",
       "    <tr>\n",
       "      <th>1.0</th>\n",
       "      <td>7866</td>\n",
       "    </tr>\n",
       "    <tr>\n",
       "      <th>2.0</th>\n",
       "      <td>12088</td>\n",
       "    </tr>\n",
       "    <tr>\n",
       "      <th>3.0</th>\n",
       "      <td>12180</td>\n",
       "    </tr>\n",
       "    <tr>\n",
       "      <th>4.0</th>\n",
       "      <td>3101809</td>\n",
       "    </tr>\n",
       "  </tbody>\n",
       "</table>\n",
       "</div>"
      ],
      "text/plain": [
       "         class\n",
       "index         \n",
       "1.0       7866\n",
       "2.0      12088\n",
       "3.0      12180\n",
       "4.0    3101809"
      ]
     },
     "execution_count": 94,
     "metadata": {},
     "output_type": "execute_result"
    }
   ],
   "source": [
    "np.round(\n",
    "    train['class'].replace(-99, np.nan).replace(-99.9, np.nan)\\\n",
    "    .value_counts().to_frame().reset_index().sort_values('index').set_index('index')\n",
    ", 3)"
   ]
  },
  {
   "cell_type": "markdown",
   "id": "399d7b12",
   "metadata": {},
   "source": [
    "### 1-3. 전처리"
   ]
  },
  {
   "cell_type": "code",
   "execution_count": 26,
   "id": "fb808f34",
   "metadata": {
    "ExecuteTime": {
     "end_time": "2024-06-13T10:28:10.714628Z",
     "start_time": "2024-06-13T10:28:09.796691Z"
    }
   },
   "outputs": [],
   "source": [
    "# 지역 처리\n",
    "train['stn_group'] = train['stn_id'].str[0]\n",
    "train['stn_group_binary'] = train['stn_group'].map({'A': 1, 'B': 2, 'C': 3, 'D': 4, 'E': 5})\n",
    "\n",
    "test['stn_group'] = test['stn_id'].str[0]\n",
    "test['stn_group_binary'] = test['stn_group'].map({'A': 1, 'B': 2, 'C': 3, 'D': 4, 'E': 5})"
   ]
  },
  {
   "cell_type": "code",
   "execution_count": 27,
   "id": "6b6bebd9",
   "metadata": {
    "ExecuteTime": {
     "end_time": "2024-06-13T10:28:13.345808Z",
     "start_time": "2024-06-13T10:28:10.717780Z"
    }
   },
   "outputs": [
    {
     "data": {
      "text/plain": [
       "((2994850, 9), (262800, 8))"
      ]
     },
     "execution_count": 27,
     "metadata": {},
     "output_type": "execute_result"
    }
   ],
   "source": [
    "# 안 쓰는 컬럼 drop\n",
    "drop_columns = ['year', 'month', 'day', 'time', 'minute'] + ['stn_id', 'stn_group']\n",
    "\n",
    "# train에서 class가 -99인 데이터(결측치) drop\n",
    "train['class'] = train['class'].replace(-99, np.nan).replace(-99.9, np.nan) - 1\n",
    "train = train.replace(-99, np.nan).replace(-99.9, np.nan)\n",
    "\n",
    "train_drop = train.dropna().drop(drop_columns, axis=1).drop('vis1', axis=1).reset_index(drop=True)\n",
    "test_drop = test.drop(drop_columns, axis=1).drop('class', axis=1).reset_index(drop=True)\n",
    "\n",
    "train_drop.shape, test_drop.shape"
   ]
  },
  {
   "cell_type": "markdown",
   "id": "9babe591",
   "metadata": {},
   "source": [
    "### 1-4. 과소표집"
   ]
  },
  {
   "cell_type": "markdown",
   "id": "acc0819e",
   "metadata": {},
   "source": [
    "```imbalanced-learn``` 모듈을 이용하면 좋다.\n",
    "\n",
    "1. **랜덤 과소표집 (Random Under-Sampling)**:\n",
    "   - 가장 기본적인 방법으로, 다수 클래스의 샘플을 무작위로 선택하여 소수 클래스의 샘플 수와 같거나 비슷하게 맞춥니다.\n",
    "   - 장점: 구현이 간단하고 빠름.\n",
    "   - 단점: 중요한 정보를 잃을 가능성이 있음.\n",
    "\n",
    "\n",
    "2. **클러스터 중심 과소표집 (Cluster Centroids)**:\n",
    "   - K-means 클러스터링을 사용하여 다수 클래스 샘플을 몇 개의 클러스터로 묶은 다음, 각 클러스터의 중심을 대표 샘플로 사용합니다.\n",
    "   - 장점: 데이터의 구조를 고려하여 샘플 수를 줄임.\n",
    "   - 단점: 클러스터링의 결과에 따라 성능이 달라질 수 있음.\n",
    "\n",
    "\n",
    "3. **토메크 링크 (Tomek Links)**:\n",
    "   - 서로 다른 클래스에 속하는 샘플 쌍(토메크 링크)을 찾아 제거하여 클래스 간의 경계를 더 명확히 함.\n",
    "   - 장점: 데이터의 경계를 명확히 하여 모델의 성능을 향상시킬 수 있음.\n",
    "   - 단점: 처리 속도가 상대적으로 느릴 수 있음.\n",
    "\n",
    "\n",
    "4. **편향된 무작위 과소표집 (NearMiss)**:\n",
    "   - 다수 클래스 샘플 중 소수 클래스 샘플과 가장 가까운 샘플을 선택하거나, 소수 클래스 샘플과의 평균 거리가 가까운 샘플을 선택하는 방식.\n",
    "   - 여러 가지 변형이 있으며, 데이터의 특성에 맞게 선택할 수 있음.\n",
    "   - 장점: 중요한 샘플을 유지할 가능성이 높음.\n",
    "   - 단점: 설정과 튜닝이 필요함.\n",
    "\n",
    "\n",
    "5. **Condensed Nearest Neighbor (CNN)**:\n",
    "   - KNN(K-Nearest Neighbor) 알고리즘을 사용하여 다수 클래스 샘플 중에서 필수적인 샘플만 남기고 나머지를 제거함.\n",
    "   - 장점: 모델의 성능을 향상시킬 수 있는 중요한 샘플만 유지.\n",
    "   - 단점: 연산 비용이 높을 수 있음.\n",
    "\n",
    "\n",
    "6. **Edited Nearest Neighbor (ENN)**:\n",
    "   - KNN 알고리즘을 사용하여 잘못 분류된 샘플을 제거함으로써 데이터의 품질을 높임.\n",
    "   - 장점: 데이터의 노이즈를 줄여 모델의 성능을 향상시킬 수 있음.\n",
    "   - 단점: 과소표집 과정에서 데이터 손실이 발생할 수 있음."
   ]
  },
  {
   "cell_type": "code",
   "execution_count": 7,
   "id": "58165c2e",
   "metadata": {
    "ExecuteTime": {
     "end_time": "2024-06-10T11:28:42.607260Z",
     "start_time": "2024-06-10T11:28:41.196749Z"
    }
   },
   "outputs": [
    {
     "name": "stdout",
     "output_type": "stream",
     "text": [
      "[Random Under-Sampling] Resampled dataset shape: Counter({0.0: 5899, 1.0: 5899, 2.0: 5899, 3.0: 5899}), 학습 시간: 0.38s\n"
     ]
    }
   ],
   "source": [
    "from imblearn.under_sampling import RandomUnderSampler\n",
    "from collections import Counter\n",
    "\n",
    "X = train_drop.drop('class', axis=1)\n",
    "y = train_drop['class']\n",
    "\n",
    "X_train, X_val, y_train, y_val = train_test_split(X, y, random_state=42, train_size=0.75, stratify=y)\n",
    "\n",
    "start_time = datetime.now()\n",
    "rus = RandomUnderSampler(random_state=42)\n",
    "X_train, y_train = rus.fit_resample(X_train, y_train)\n",
    "# X_res_rus, y_res_rus = rus.fit_resample(X_train, y_train)\n",
    "time_delta = datetime.now() - start_time\n",
    "print(f'''[Random Under-Sampling] Resampled dataset shape: {Counter(y_res_rus)}, 학습 시간: {time_delta.seconds}.{time_delta.microseconds // 10000}s''')"
   ]
  },
  {
   "cell_type": "markdown",
   "id": "91f2d408",
   "metadata": {},
   "source": [
    "### 1-5. 데이터셋 분리"
   ]
  },
  {
   "cell_type": "code",
   "execution_count": 10,
   "id": "23c74d2e",
   "metadata": {
    "ExecuteTime": {
     "end_time": "2024-06-13T10:13:58.344811Z",
     "start_time": "2024-06-13T10:13:57.223684Z"
    }
   },
   "outputs": [
    {
     "data": {
      "text/plain": [
       "((2350457, 8), (783486, 8), (2350457,), (783486,))"
      ]
     },
     "execution_count": 10,
     "metadata": {},
     "output_type": "execute_result"
    }
   ],
   "source": [
    "X_test = test_drop\n",
    "X = train_drop.drop('class', axis=1)\n",
    "y = train_drop['class']\n",
    "\n",
    "X_train, X_val, y_train, y_val = train_test_split(X, y, random_state=42, train_size=0.75, stratify=y)\n",
    "# X_train, X_val, y_train, y_val = train_test_split(X_res_rus, y_res_rus, random_state=42, train_size=0.75, stratify=y_res_rus)\n",
    "X_train.shape, X_val.shape, y_train.shape, y_val.shape"
   ]
  },
  {
   "cell_type": "markdown",
   "id": "73e7045d",
   "metadata": {},
   "source": [
    "---"
   ]
  },
  {
   "cell_type": "markdown",
   "id": "84e03f63",
   "metadata": {},
   "source": [
    "## 2. EDA"
   ]
  },
  {
   "cell_type": "code",
   "execution_count": 28,
   "id": "e7002bd1",
   "metadata": {
    "ExecuteTime": {
     "end_time": "2024-06-13T10:28:18.508769Z",
     "start_time": "2024-06-13T10:28:18.479295Z"
    }
   },
   "outputs": [
    {
     "data": {
      "text/html": [
       "<div>\n",
       "<style scoped>\n",
       "    .dataframe tbody tr th:only-of-type {\n",
       "        vertical-align: middle;\n",
       "    }\n",
       "\n",
       "    .dataframe tbody tr th {\n",
       "        vertical-align: top;\n",
       "    }\n",
       "\n",
       "    .dataframe thead th {\n",
       "        text-align: right;\n",
       "    }\n",
       "</style>\n",
       "<table border=\"1\" class=\"dataframe\">\n",
       "  <thead>\n",
       "    <tr style=\"text-align: right;\">\n",
       "      <th></th>\n",
       "      <th>ws10_deg</th>\n",
       "      <th>ws10_ms</th>\n",
       "      <th>ta</th>\n",
       "      <th>re</th>\n",
       "      <th>hm</th>\n",
       "      <th>sun10</th>\n",
       "      <th>ts</th>\n",
       "      <th>class</th>\n",
       "      <th>stn_group_binary</th>\n",
       "    </tr>\n",
       "  </thead>\n",
       "  <tbody>\n",
       "    <tr>\n",
       "      <th>0</th>\n",
       "      <td>0.0</td>\n",
       "      <td>0.0</td>\n",
       "      <td>-6.4</td>\n",
       "      <td>0.0</td>\n",
       "      <td>38.9</td>\n",
       "      <td>0.0</td>\n",
       "      <td>-2.8</td>\n",
       "      <td>3.0</td>\n",
       "      <td>1</td>\n",
       "    </tr>\n",
       "    <tr>\n",
       "      <th>1</th>\n",
       "      <td>0.0</td>\n",
       "      <td>0.0</td>\n",
       "      <td>-6.3</td>\n",
       "      <td>0.0</td>\n",
       "      <td>37.9</td>\n",
       "      <td>0.0</td>\n",
       "      <td>-2.7</td>\n",
       "      <td>3.0</td>\n",
       "      <td>1</td>\n",
       "    </tr>\n",
       "    <tr>\n",
       "      <th>2</th>\n",
       "      <td>0.0</td>\n",
       "      <td>0.0</td>\n",
       "      <td>-6.3</td>\n",
       "      <td>0.0</td>\n",
       "      <td>40.0</td>\n",
       "      <td>0.0</td>\n",
       "      <td>-2.6</td>\n",
       "      <td>3.0</td>\n",
       "      <td>1</td>\n",
       "    </tr>\n",
       "    <tr>\n",
       "      <th>3</th>\n",
       "      <td>27.8</td>\n",
       "      <td>0.4</td>\n",
       "      <td>-6.2</td>\n",
       "      <td>0.0</td>\n",
       "      <td>39.5</td>\n",
       "      <td>0.0</td>\n",
       "      <td>-2.6</td>\n",
       "      <td>3.0</td>\n",
       "      <td>1</td>\n",
       "    </tr>\n",
       "    <tr>\n",
       "      <th>4</th>\n",
       "      <td>59.7</td>\n",
       "      <td>0.5</td>\n",
       "      <td>-6.1</td>\n",
       "      <td>0.0</td>\n",
       "      <td>39.8</td>\n",
       "      <td>0.0</td>\n",
       "      <td>-2.5</td>\n",
       "      <td>3.0</td>\n",
       "      <td>1</td>\n",
       "    </tr>\n",
       "    <tr>\n",
       "      <th>...</th>\n",
       "      <td>...</td>\n",
       "      <td>...</td>\n",
       "      <td>...</td>\n",
       "      <td>...</td>\n",
       "      <td>...</td>\n",
       "      <td>...</td>\n",
       "      <td>...</td>\n",
       "      <td>...</td>\n",
       "      <td>...</td>\n",
       "    </tr>\n",
       "    <tr>\n",
       "      <th>2994845</th>\n",
       "      <td>305.3</td>\n",
       "      <td>7.7</td>\n",
       "      <td>2.5</td>\n",
       "      <td>0.0</td>\n",
       "      <td>50.2</td>\n",
       "      <td>0.0</td>\n",
       "      <td>-0.9</td>\n",
       "      <td>3.0</td>\n",
       "      <td>5</td>\n",
       "    </tr>\n",
       "    <tr>\n",
       "      <th>2994846</th>\n",
       "      <td>293.8</td>\n",
       "      <td>5.7</td>\n",
       "      <td>2.3</td>\n",
       "      <td>0.0</td>\n",
       "      <td>50.1</td>\n",
       "      <td>0.0</td>\n",
       "      <td>-1.3</td>\n",
       "      <td>3.0</td>\n",
       "      <td>5</td>\n",
       "    </tr>\n",
       "    <tr>\n",
       "      <th>2994847</th>\n",
       "      <td>274.2</td>\n",
       "      <td>4.9</td>\n",
       "      <td>2.2</td>\n",
       "      <td>0.0</td>\n",
       "      <td>51.0</td>\n",
       "      <td>0.0</td>\n",
       "      <td>-1.4</td>\n",
       "      <td>3.0</td>\n",
       "      <td>5</td>\n",
       "    </tr>\n",
       "    <tr>\n",
       "      <th>2994848</th>\n",
       "      <td>270.3</td>\n",
       "      <td>4.6</td>\n",
       "      <td>2.1</td>\n",
       "      <td>0.0</td>\n",
       "      <td>51.7</td>\n",
       "      <td>0.0</td>\n",
       "      <td>-1.6</td>\n",
       "      <td>3.0</td>\n",
       "      <td>5</td>\n",
       "    </tr>\n",
       "    <tr>\n",
       "      <th>2994849</th>\n",
       "      <td>254.8</td>\n",
       "      <td>4.1</td>\n",
       "      <td>2.1</td>\n",
       "      <td>0.0</td>\n",
       "      <td>53.3</td>\n",
       "      <td>0.0</td>\n",
       "      <td>-1.7</td>\n",
       "      <td>3.0</td>\n",
       "      <td>5</td>\n",
       "    </tr>\n",
       "  </tbody>\n",
       "</table>\n",
       "<p>2994850 rows × 9 columns</p>\n",
       "</div>"
      ],
      "text/plain": [
       "         ws10_deg  ws10_ms   ta   re    hm  sun10   ts  class  \\\n",
       "0             0.0      0.0 -6.4  0.0  38.9    0.0 -2.8    3.0   \n",
       "1             0.0      0.0 -6.3  0.0  37.9    0.0 -2.7    3.0   \n",
       "2             0.0      0.0 -6.3  0.0  40.0    0.0 -2.6    3.0   \n",
       "3            27.8      0.4 -6.2  0.0  39.5    0.0 -2.6    3.0   \n",
       "4            59.7      0.5 -6.1  0.0  39.8    0.0 -2.5    3.0   \n",
       "...           ...      ...  ...  ...   ...    ...  ...    ...   \n",
       "2994845     305.3      7.7  2.5  0.0  50.2    0.0 -0.9    3.0   \n",
       "2994846     293.8      5.7  2.3  0.0  50.1    0.0 -1.3    3.0   \n",
       "2994847     274.2      4.9  2.2  0.0  51.0    0.0 -1.4    3.0   \n",
       "2994848     270.3      4.6  2.1  0.0  51.7    0.0 -1.6    3.0   \n",
       "2994849     254.8      4.1  2.1  0.0  53.3    0.0 -1.7    3.0   \n",
       "\n",
       "         stn_group_binary  \n",
       "0                       1  \n",
       "1                       1  \n",
       "2                       1  \n",
       "3                       1  \n",
       "4                       1  \n",
       "...                   ...  \n",
       "2994845                 5  \n",
       "2994846                 5  \n",
       "2994847                 5  \n",
       "2994848                 5  \n",
       "2994849                 5  \n",
       "\n",
       "[2994850 rows x 9 columns]"
      ]
     },
     "execution_count": 28,
     "metadata": {},
     "output_type": "execute_result"
    }
   ],
   "source": [
    "train_drop"
   ]
  },
  {
   "cell_type": "code",
   "execution_count": 38,
   "id": "eeb39d7d",
   "metadata": {
    "ExecuteTime": {
     "end_time": "2024-06-13T10:31:53.649032Z",
     "start_time": "2024-06-13T10:31:52.970938Z"
    }
   },
   "outputs": [
    {
     "data": {
      "text/html": [
       "<div>\n",
       "<style scoped>\n",
       "    .dataframe tbody tr th:only-of-type {\n",
       "        vertical-align: middle;\n",
       "    }\n",
       "\n",
       "    .dataframe tbody tr th {\n",
       "        vertical-align: top;\n",
       "    }\n",
       "\n",
       "    .dataframe thead th {\n",
       "        text-align: right;\n",
       "    }\n",
       "</style>\n",
       "<table border=\"1\" class=\"dataframe\">\n",
       "  <thead>\n",
       "    <tr style=\"text-align: right;\">\n",
       "      <th></th>\n",
       "      <th>is_fog</th>\n",
       "    </tr>\n",
       "  </thead>\n",
       "  <tbody>\n",
       "    <tr>\n",
       "      <th>0</th>\n",
       "      <td>0.989408</td>\n",
       "    </tr>\n",
       "    <tr>\n",
       "      <th>1</th>\n",
       "      <td>0.010592</td>\n",
       "    </tr>\n",
       "  </tbody>\n",
       "</table>\n",
       "</div>"
      ],
      "text/plain": [
       "     is_fog\n",
       "0  0.989408\n",
       "1  0.010592"
      ]
     },
     "execution_count": 38,
     "metadata": {},
     "output_type": "execute_result"
    }
   ],
   "source": [
    "train_drop['is_fog'] = train_drop['class'].apply(lambda x: 0 if x >= 3 else 1)\n",
    "train_drop['is_fog'].value_counts(normalize=True).to_frame()"
   ]
  },
  {
   "cell_type": "markdown",
   "id": "dac12df5",
   "metadata": {},
   "source": [
    "### 2-1. 바람"
   ]
  },
  {
   "cell_type": "code",
   "execution_count": 29,
   "id": "6df498d9",
   "metadata": {
    "ExecuteTime": {
     "end_time": "2024-06-13T10:28:21.651412Z",
     "start_time": "2024-06-13T10:28:21.621477Z"
    }
   },
   "outputs": [
    {
     "data": {
      "text/plain": [
       "0.0"
      ]
     },
     "execution_count": 29,
     "metadata": {},
     "output_type": "execute_result"
    }
   ],
   "source": [
    "train_drop['ws10_deg'].min()"
   ]
  },
  {
   "cell_type": "code",
   "execution_count": 30,
   "id": "7d61573a",
   "metadata": {
    "ExecuteTime": {
     "end_time": "2024-06-13T10:28:24.977052Z",
     "start_time": "2024-06-13T10:28:24.059780Z"
    }
   },
   "outputs": [
    {
     "data": {
      "text/plain": [
       "0     408830\n",
       "1     686592\n",
       "2     556166\n",
       "3    1025752\n",
       "4     317510\n",
       "Name: ws10_dir, dtype: int64"
      ]
     },
     "execution_count": 30,
     "metadata": {},
     "output_type": "execute_result"
    }
   ],
   "source": [
    "train_drop['ws10_dir'] = train_drop['ws10_deg'].apply(lambda x: round(x / 90))\n",
    "train_drop['ws10_dir'].value_counts(sort=False)"
   ]
  },
  {
   "cell_type": "markdown",
   "id": "3ceba4cc",
   "metadata": {},
   "source": [
    "동서남북 방향이니까 0은 4와 같다."
   ]
  },
  {
   "cell_type": "code",
   "execution_count": 48,
   "id": "086b4459",
   "metadata": {
    "ExecuteTime": {
     "end_time": "2024-06-13T10:38:00.957224Z",
     "start_time": "2024-06-13T10:38:00.886136Z"
    }
   },
   "outputs": [
    {
     "data": {
      "text/html": [
       "<div>\n",
       "<style scoped>\n",
       "    .dataframe tbody tr th:only-of-type {\n",
       "        vertical-align: middle;\n",
       "    }\n",
       "\n",
       "    .dataframe tbody tr th {\n",
       "        vertical-align: top;\n",
       "    }\n",
       "\n",
       "    .dataframe thead th {\n",
       "        text-align: right;\n",
       "    }\n",
       "</style>\n",
       "<table border=\"1\" class=\"dataframe\">\n",
       "  <thead>\n",
       "    <tr style=\"text-align: right;\">\n",
       "      <th></th>\n",
       "      <th>ws10_dir</th>\n",
       "    </tr>\n",
       "  </thead>\n",
       "  <tbody>\n",
       "    <tr>\n",
       "      <th>0</th>\n",
       "      <td>726340</td>\n",
       "    </tr>\n",
       "    <tr>\n",
       "      <th>1</th>\n",
       "      <td>686592</td>\n",
       "    </tr>\n",
       "    <tr>\n",
       "      <th>2</th>\n",
       "      <td>556166</td>\n",
       "    </tr>\n",
       "    <tr>\n",
       "      <th>3</th>\n",
       "      <td>1025752</td>\n",
       "    </tr>\n",
       "  </tbody>\n",
       "</table>\n",
       "</div>"
      ],
      "text/plain": [
       "   ws10_dir\n",
       "0    726340\n",
       "1    686592\n",
       "2    556166\n",
       "3   1025752"
      ]
     },
     "execution_count": 48,
     "metadata": {},
     "output_type": "execute_result"
    }
   ],
   "source": [
    "train_drop['ws10_dir'] = train_drop['ws10_dir'].replace(4, 0)\n",
    "train_drop['ws10_dir'].value_counts(sort=False).to_frame()"
   ]
  },
  {
   "cell_type": "markdown",
   "id": "59280df8",
   "metadata": {},
   "source": [
    "0(북풍), 1(동풍), 2(남풍), 3(서풍)이고 **서풍**의 빈도가 가장 높다."
   ]
  },
  {
   "cell_type": "code",
   "execution_count": 72,
   "id": "67b27ea9",
   "metadata": {
    "ExecuteTime": {
     "end_time": "2024-06-13T10:48:16.665179Z",
     "start_time": "2024-06-13T10:48:16.447513Z"
    }
   },
   "outputs": [
    {
     "data": {
      "text/html": [
       "<div>\n",
       "<style scoped>\n",
       "    .dataframe tbody tr th:only-of-type {\n",
       "        vertical-align: middle;\n",
       "    }\n",
       "\n",
       "    .dataframe tbody tr th {\n",
       "        vertical-align: top;\n",
       "    }\n",
       "\n",
       "    .dataframe thead th {\n",
       "        text-align: right;\n",
       "    }\n",
       "</style>\n",
       "<table border=\"1\" class=\"dataframe\">\n",
       "  <thead>\n",
       "    <tr style=\"text-align: right;\">\n",
       "      <th>ws10_dir</th>\n",
       "      <th>동</th>\n",
       "      <th>서</th>\n",
       "      <th>남</th>\n",
       "      <th>북</th>\n",
       "    </tr>\n",
       "    <tr>\n",
       "      <th>is_fog</th>\n",
       "      <th></th>\n",
       "      <th></th>\n",
       "      <th></th>\n",
       "      <th></th>\n",
       "    </tr>\n",
       "  </thead>\n",
       "  <tbody>\n",
       "    <tr>\n",
       "      <th>0</th>\n",
       "      <td>22.91%</td>\n",
       "      <td>34.38%</td>\n",
       "      <td>18.54%</td>\n",
       "      <td>24.17%</td>\n",
       "    </tr>\n",
       "    <tr>\n",
       "      <th>1</th>\n",
       "      <td>24.33%</td>\n",
       "      <td>22.44%</td>\n",
       "      <td>21.57%</td>\n",
       "      <td>31.66%</td>\n",
       "    </tr>\n",
       "  </tbody>\n",
       "</table>\n",
       "</div>"
      ],
      "text/plain": [
       "ws10_dir       동       서       남       북\n",
       "is_fog                                  \n",
       "0         22.91%  34.38%  18.54%  24.17%\n",
       "1         24.33%  22.44%  21.57%  31.66%"
      ]
     },
     "execution_count": 72,
     "metadata": {},
     "output_type": "execute_result"
    }
   ],
   "source": [
    "(np.round(\n",
    "    train_drop.groupby('is_fog')['ws10_dir'].value_counts(normalize=True, sort=False).unstack() * 100\n",
    ", 2).astype(str) + '%').rename(columns={0: '북', 1: '동', 2: '남', 3: '서'})[['동', '서', '남', '북']]"
   ]
  },
  {
   "cell_type": "markdown",
   "id": "dda8a504",
   "metadata": {},
   "source": [
    "근데 안개 여부에 따라 발라서 보면 조금 달라진다. 평상시엔 서풍이 가장 많지만, 안개가 낀 날에는 **북풍**이 가장 많다."
   ]
  },
  {
   "cell_type": "code",
   "execution_count": 74,
   "id": "415e5fa4",
   "metadata": {
    "ExecuteTime": {
     "end_time": "2024-06-13T10:48:42.670865Z",
     "start_time": "2024-06-13T10:48:42.278208Z"
    }
   },
   "outputs": [
    {
     "data": {
      "image/png": "[encoded data removed]",
      "text/plain": [
       "<Figure size 1200x600 with 2 Axes>"
      ]
     },
     "metadata": {},
     "output_type": "display_data"
    }
   ],
   "source": [
    "plt.figure(figsize=(12, 6))\n",
    "\n",
    "sns.heatmap(\n",
    "    (train_drop.groupby('is_fog')['ws10_dir'].value_counts(normalize=True, sort=False).unstack() * 100)\\\n",
    "    .rename(columns={0: '북', 1: '동', 2: '남', 3: '서'})[['동', '서', '남', '북']],\n",
    "    vmax=50,\n",
    "    vmin=0,\n",
    "    cmap='Reds',\n",
    "    annot=True\n",
    ")\n",
    "\n",
    "plt.xlabel('풍향')\n",
    "plt.ylabel('안개 여부')\n",
    "plt.xticks()\n",
    "\n",
    "plt.show()"
   ]
  },
  {
   "cell_type": "code",
   "execution_count": 75,
   "id": "698e38e9",
   "metadata": {
    "ExecuteTime": {
     "end_time": "2024-06-13T10:48:59.778905Z",
     "start_time": "2024-06-13T10:48:57.574193Z"
    }
   },
   "outputs": [
    {
     "data": {
      "image/png": "[encoded data removed]",
      "text/plain": [
       "<Figure size 1200x900 with 11 Axes>"
      ]
     },
     "metadata": {},
     "output_type": "display_data"
    }
   ],
   "source": [
    "fig, axes = plt.subplots(figsize=(12, 9), ncols=2, nrows=3, constrained_layout=True)\n",
    "\n",
    "for i, (stn_group_binary, df) in enumerate(train_drop.groupby('stn_group_binary')):\n",
    "    sns.heatmap(\n",
    "        (df.groupby('is_fog')['ws10_dir'].value_counts(normalize=True, sort=False).unstack() * 100)\\\n",
    "        .rename(columns={0: '북', 1: '동', 2: '남', 3: '서'})[['동', '서', '남', '북']],\n",
    "        vmax=50,\n",
    "        vmin=0,\n",
    "        cmap='Reds',\n",
    "        annot=True,\n",
    "        ax=axes[i // 2][i % 2]\n",
    "    )\n",
    "    \n",
    "    axes[i // 2][i % 2].set_title(f'{stn_group_binary}그룹')\n",
    "\n",
    "plt.xlabel('풍향')\n",
    "plt.ylabel('안개 여부')\n",
    "\n",
    "plt.show()"
   ]
  },
  {
   "cell_type": "markdown",
   "id": "daa74549",
   "metadata": {},
   "source": [
    "**지역에 따라** 풍향이 다른 영향을 준다. 예를 들어, 1그룹에서는 북풍이 안개 발생을 주도하는 반면, 2그룹은 북동풍의 영향을 크게 받는다. 3그룹, 4그룹, 5그룹은 평상시의 풍향과 안개 꼈을 때의 풍향이 유사한 수준으로 보인다."
   ]
  },
  {
   "cell_type": "code",
   "execution_count": 83,
   "id": "6d0efb9e",
   "metadata": {
    "ExecuteTime": {
     "end_time": "2024-06-13T10:54:11.861581Z",
     "start_time": "2024-06-13T10:54:11.847259Z"
    }
   },
   "outputs": [],
   "source": [
    "pd.options.display.float_format = '{:,.3f}'.format"
   ]
  },
  {
   "cell_type": "code",
   "execution_count": 84,
   "id": "736085ed",
   "metadata": {
    "ExecuteTime": {
     "end_time": "2024-06-13T10:54:13.044236Z",
     "start_time": "2024-06-13T10:54:12.757526Z"
    }
   },
   "outputs": [
    {
     "name": "stdout",
     "output_type": "stream",
     "text": [
      "==============================\n",
      "[ 평상시 ]\n",
      "count   2,963,129.000\n",
      "mean            2.196\n",
      "std             1.752\n",
      "min             0.000\n",
      "25%             0.900\n",
      "50%             1.800\n",
      "75%             3.100\n",
      "max            21.100\n",
      "Name: ws10_ms, dtype: float64\n",
      "==============================\n",
      "[ 안개가 낀 경우 ]\n",
      "count   31,721.000\n",
      "mean         1.379\n",
      "std          1.546\n",
      "min          0.000\n",
      "25%          0.300\n",
      "50%          0.900\n",
      "75%          2.000\n",
      "max         21.600\n",
      "Name: ws10_ms, dtype: float64\n",
      "==============================\n"
     ]
    }
   ],
   "source": [
    "print(\"=\" * 30)\n",
    "for is_fog, df in train_drop.groupby('is_fog'):\n",
    "    print(\"[ 안개가 낀 경우 ]\") if is_fog else print(\"[ 평상시 ]\")\n",
    "    print(df['ws10_ms'].describe())\n",
    "    print(\"=\" * 30)"
   ]
  },
  {
   "cell_type": "code",
   "execution_count": 90,
   "id": "8ac11f6f",
   "metadata": {
    "ExecuteTime": {
     "end_time": "2024-06-13T10:57:12.111140Z",
     "start_time": "2024-06-13T10:57:11.647248Z"
    }
   },
   "outputs": [
    {
     "data": {
      "image/png": "[encoded data removed]",
      "text/plain": [
       "<Figure size 800x800 with 2 Axes>"
      ]
     },
     "metadata": {},
     "output_type": "display_data"
    }
   ],
   "source": [
    "fig, axes = plt.subplots(ncols=2, figsize=(8, 8))\n",
    "\n",
    "for i in range(2):\n",
    "    axes[i].boxplot(\n",
    "        train_drop[train_drop['is_fog'] == i]['ws10_ms']\n",
    "    )\n",
    "    title = \"안개가 낀 경우\" if i else \"평상시\"\n",
    "    axes[i].set_title(title)\n",
    "    axes[i].set_yticks([i for i in range(0, 26, 5)])\n",
    "\n",
    "plt.show()"
   ]
  },
  {
   "cell_type": "markdown",
   "id": "35f04ece",
   "metadata": {},
   "source": [
    "큰 차이는 아니지만 안개가 꼈을 때 순간풍속이 조금 낮은 것 같다."
   ]
  },
  {
   "cell_type": "markdown",
   "id": "cc964e80",
   "metadata": {},
   "source": [
    "### 2-2. 기온"
   ]
  },
  {
   "cell_type": "code",
   "execution_count": 95,
   "id": "1d661736",
   "metadata": {
    "ExecuteTime": {
     "end_time": "2024-06-13T11:02:39.222332Z",
     "start_time": "2024-06-13T11:02:38.892930Z"
    }
   },
   "outputs": [
    {
     "name": "stderr",
     "output_type": "stream",
     "text": [
      "C:\\Users\\louis\\anaconda3\\envs\\ml\\lib\\site-packages\\IPython\\core\\pylabtools.py:152: UserWarning: Glyph 8722 (\\N{MINUS SIGN}) missing from current font.\n",
      "  fig.canvas.print_figure(bytes_io, **kw)\n"
     ]
    },
    {
     "data": {
      "image/png": "[encoded data removed]",
      "text/plain": [
       "<Figure size 800x800 with 2 Axes>"
      ]
     },
     "metadata": {},
     "output_type": "display_data"
    }
   ],
   "source": [
    "fig, axes = plt.subplots(ncols=2, figsize=(8, 8))\n",
    "\n",
    "for i in range(2):\n",
    "    axes[i].boxplot(\n",
    "        train_drop[train_drop['is_fog'] == i]['ta']\n",
    "    )\n",
    "    title = \"안개가 낀 경우\" if i else \"평상시\"\n",
    "    axes[i].set_title(title)\n",
    "    axes[i].set_yticks([i for i in range(-20, 41, 10)])\n",
    "\n",
    "plt.show()"
   ]
  },
  {
   "cell_type": "code",
   "execution_count": 98,
   "id": "8833125e",
   "metadata": {
    "ExecuteTime": {
     "end_time": "2024-06-13T11:07:05.168373Z",
     "start_time": "2024-06-13T11:07:04.775582Z"
    }
   },
   "outputs": [
    {
     "name": "stderr",
     "output_type": "stream",
     "text": [
      "C:\\Users\\louis\\anaconda3\\envs\\ml\\lib\\site-packages\\IPython\\core\\pylabtools.py:152: UserWarning: Glyph 8722 (\\N{MINUS SIGN}) missing from current font.\n",
      "  fig.canvas.print_figure(bytes_io, **kw)\n"
     ]
    },
    {
     "data": {
      "image/png": "[encoded data removed]",
      "text/plain": [
       "<Figure size 800x800 with 2 Axes>"
      ]
     },
     "metadata": {},
     "output_type": "display_data"
    }
   ],
   "source": [
    "fig, axes = plt.subplots(ncols=2, figsize=(8, 8))\n",
    "\n",
    "for i in range(2):\n",
    "    axes[i].boxplot(\n",
    "        train_drop[train_drop['is_fog'] == i]['ts']\n",
    "    )\n",
    "    title = \"안개가 낀 경우\" if i else \"평상시\"\n",
    "    axes[i].set_title(title)\n",
    "    axes[i].set_yticks([i for i in range(-20, 81, 10)])\n",
    "\n",
    "plt.show()"
   ]
  },
  {
   "cell_type": "code",
   "execution_count": 99,
   "id": "562a8333",
   "metadata": {
    "ExecuteTime": {
     "end_time": "2024-06-13T11:08:31.020136Z",
     "start_time": "2024-06-13T11:08:30.989425Z"
    }
   },
   "outputs": [],
   "source": [
    "train_drop['ts-ta'] = train_drop['ts'] - train_drop['ta']"
   ]
  },
  {
   "cell_type": "code",
   "execution_count": 101,
   "id": "929d09ed",
   "metadata": {
    "ExecuteTime": {
     "end_time": "2024-06-13T11:09:12.628445Z",
     "start_time": "2024-06-13T11:09:11.950341Z"
    }
   },
   "outputs": [
    {
     "name": "stderr",
     "output_type": "stream",
     "text": [
      "C:\\Users\\louis\\anaconda3\\envs\\ml\\lib\\site-packages\\IPython\\core\\pylabtools.py:152: UserWarning: Glyph 8722 (\\N{MINUS SIGN}) missing from current font.\n",
      "  fig.canvas.print_figure(bytes_io, **kw)\n"
     ]
    },
    {
     "data": {
      "image/png": "[encoded data removed]",
      "text/plain": [
       "<Figure size 800x800 with 2 Axes>"
      ]
     },
     "metadata": {},
     "output_type": "display_data"
    }
   ],
   "source": [
    "fig, axes = plt.subplots(ncols=2, figsize=(8, 8))\n",
    "\n",
    "for i in range(2):\n",
    "    axes[i].boxplot(\n",
    "        train_drop[train_drop['is_fog'] == i]['ts-ta']\n",
    "    )\n",
    "    title = \"안개가 낀 경우\" if i else \"평상시\"\n",
    "    axes[i].set_title(title)\n",
    "    axes[i].set_yticks([i for i in range(-40, 51, 10)])\n",
    "\n",
    "plt.show()"
   ]
  },
  {
   "cell_type": "markdown",
   "id": "54daa56c",
   "metadata": {},
   "source": [
    "### 2-3. 강수 여부, 상대습도"
   ]
  },
  {
   "cell_type": "code",
   "execution_count": 103,
   "id": "6f79baa9",
   "metadata": {
    "ExecuteTime": {
     "end_time": "2024-06-13T11:18:16.499803Z",
     "start_time": "2024-06-13T11:18:16.076644Z"
    }
   },
   "outputs": [
    {
     "data": {
      "image/png": "[encoded data removed]",
      "text/plain": [
       "<Figure size 800x800 with 2 Axes>"
      ]
     },
     "metadata": {},
     "output_type": "display_data"
    }
   ],
   "source": [
    "fig, axes = plt.subplots(ncols=2, figsize=(8, 8))\n",
    "\n",
    "for i in range(2):\n",
    "    axes[i].boxplot(\n",
    "        train_drop[train_drop['is_fog'] == i]['hm']\n",
    "    )\n",
    "    title = \"안개가 낀 경우\" if i else \"평상시\"\n",
    "    axes[i].set_title(title)\n",
    "    axes[i].set_yticks([i for i in range(0, 101, 10)])\n",
    "\n",
    "plt.show()"
   ]
  },
  {
   "cell_type": "code",
   "execution_count": 108,
   "id": "b7549c0c",
   "metadata": {
    "ExecuteTime": {
     "end_time": "2024-06-13T11:21:50.284199Z",
     "start_time": "2024-06-13T11:21:49.678874Z"
    }
   },
   "outputs": [
    {
     "data": {
      "image/png": "[encoded data removed]",
      "text/plain": [
       "<Figure size 1200x600 with 4 Axes>"
      ]
     },
     "metadata": {},
     "output_type": "display_data"
    }
   ],
   "source": [
    "fig, axes = plt.subplots(ncols=4, figsize=(12, 6))\n",
    "\n",
    "for i in range(2):\n",
    "    axes[i].boxplot(\n",
    "        train_drop[(train_drop['is_fog'] == i) & (train_drop['re'] == 0)]['hm']\n",
    "    )\n",
    "    title = \"안개가 낀 경우(강수 X)\" if i else \"평상시(강수 X)\"\n",
    "    axes[i].set_title(title)\n",
    "    axes[i].set_yticks([i for i in range(0, 101, 10)])\n",
    "\n",
    "for i in range(2, 4):\n",
    "    axes[i].boxplot(\n",
    "        train_drop[(train_drop['is_fog'] == i - 2) & (train_drop['re'] == 1)]['hm']\n",
    "    )\n",
    "    title = \"안개가 낀 경우(강수)\" if i else \"평상시(강수)\"\n",
    "    axes[i].set_title(title)\n",
    "    axes[i].set_yticks([i for i in range(0, 101, 10)])\n",
    "    \n",
    "plt.show()"
   ]
  },
  {
   "cell_type": "markdown",
   "id": "19db205a",
   "metadata": {},
   "source": [
    "---"
   ]
  }
 ],
 "metadata": {
  "kernelspec": {
   "display_name": "Python 3 (ipykernel)",
   "language": "python",
   "name": "python3"
  },
  "language_info": {
   "codemirror_mode": {
    "name": "ipython",
    "version": 3
   },
   "file_extension": ".py",
   "mimetype": "text/x-python",
   "name": "python",
   "nbconvert_exporter": "python",
   "pygments_lexer": "ipython3",
   "version": "3.9.16"
  },
  "toc": {
   "base_numbering": 1,
   "nav_menu": {},
   "number_sections": false,
   "sideBar": true,
   "skip_h1_title": false,
   "title_cell": "Table of Contents",
   "title_sidebar": "Contents",
   "toc_cell": false,
   "toc_position": {
    "height": "calc(100% - 180px)",
    "left": "10px",
    "top": "150px",
    "width": "285.6px"
   },
   "toc_section_display": true,
   "toc_window_display": true
  }
 },
 "nbformat": 4,
 "nbformat_minor": 5
}
