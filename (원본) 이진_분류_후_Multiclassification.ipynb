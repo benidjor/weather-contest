{
  "cells": [
    {
      "cell_type": "markdown",
      "metadata": {
        "id": "rZf7AOw2z0u8"
      },
      "source": [
        "# 이진 분류 후 Multiclassification"
      ]
    },
    {
      "cell_type": "code",
      "execution_count": 1,
      "metadata": {
        "id": "9aFvJzLZzzEl"
      },
      "outputs": [
        {
          "name": "stderr",
          "output_type": "stream",
          "text": [
            "c:\\Users\\aryij\\anaconda3\\envs\\weather\\Lib\\site-packages\\tqdm\\auto.py:21: TqdmWarning: IProgress not found. Please update jupyter and ipywidgets. See https://ipywidgets.readthedocs.io/en/stable/user_install.html\n",
            "  from .autonotebook import tqdm as notebook_tqdm\n"
          ]
        }
      ],
      "source": [
        "import os\n",
        "\n",
        "import numpy as np\n",
        "import pandas as pd\n",
        "import matplotlib.pyplot as plt\n",
        "import seaborn as sns\n",
        "%matplotlib inline\n",
        "\n",
        "import pickle\n",
        "import optuna\n",
        "from optuna.samplers import TPESampler\n",
        "# from optuna.integration import CatBoostPruningCallback\n",
        "\n",
        "from sklearn import metrics\n",
        "from sklearn.tree import DecisionTreeClassifier\n",
        "from sklearn.ensemble import RandomForestClassifier\n",
        "# from xgboost import XGBClassifier\n",
        "# from lightgbm import LGBMClassifier\n",
        "from catboost import Pool, CatBoostClassifier\n",
        "# from sklearn.naive_bayes import GaussianNB\n",
        "\n",
        "from sklearn.model_selection import train_test_split\n",
        "\n",
        "# from sklearn.preprocessing import TargetEncoder\n",
        "from sklearn.preprocessing import LabelEncoder\n",
        "\n",
        "from sklearn.metrics import accuracy_score\n",
        "from sklearn.metrics import precision_score\n",
        "from sklearn.metrics import recall_score\n",
        "from sklearn.metrics import f1_score\n",
        "from sklearn.metrics import confusion_matrix\n",
        "from sklearn.metrics import classification_report\n",
        "from sklearn.metrics import make_scorer\n",
        "\n",
        "import warnings\n",
        "warnings.filterwarnings(action='ignore')\n",
        "\n",
        "pd.set_option(\"display.max_columns\", None)"
      ]
    },
    {
      "cell_type": "code",
      "execution_count": 2,
      "metadata": {
        "id": "QkUSHGnl0DyP"
      },
      "outputs": [],
      "source": [
        "def get_local_path(train_dataset_name, val_dataset_name, test_dataset_name):\n",
        "\n",
        "    # 작업 디렉토리 origin_dir에 선언\n",
        "    origin_dir = os.getcwd()\n",
        "\n",
        "    # \"..\" : 상위 디렉토리로 이동\n",
        "    os.chdir(\"..\")\n",
        "\n",
        "    # 상위 디렉토리에 fog_data가 없다면 fog_data 폴더 생성\n",
        "    # (이미 폴더 있어도 exist_ok=True면 넘어감)\n",
        "    os.makedirs(\"fog_data\", exist_ok=True)\n",
        "\n",
        "    # train/test 데이터셋 경로 잡아준다\n",
        "    train_path = os.path.join(os.getcwd(), \"fog_data\", train_dataset_name)\n",
        "    val_path = os.path.join(os.getcwd(), \"fog_data\", val_dataset_name)\n",
        "    test_path = os.path.join(os.getcwd(), \"fog_data\", test_dataset_name)\n",
        "\n",
        "    # 운영체제가 윈도우일 경우, \"\\\\\"를 \"/\"로 바꿔줘야 한다\n",
        "    if os.name == \"nt\":\n",
        "        train_path = train_path.replace(\"\\\\\", \"/\")\n",
        "        val_path = val_path.replace(\"\\\\\", \"/\")\n",
        "        test_path = test_path.replace(\"\\\\\", \"/\")\n",
        "\n",
        "    # origin_dir로 경로 다시 변경 (초기화)\n",
        "    os.chdir(origin_dir)\n",
        "\n",
        "    return train_path, val_path, test_path"
      ]
    },
    {
      "cell_type": "code",
      "execution_count": 3,
      "metadata": {
        "id": "5AQeBVkd0V4h"
      },
      "outputs": [],
      "source": [
        "# 전처리 중간에 nan 제거해주고 이상치 처리한 데이터프레임\n",
        "train_path, val_path, test_path = get_local_path(\n",
        "    # \"fog_train_merged_std.csv\",\n",
        "    # \"fog_val_merged_std.csv\",\n",
        "    # \"fog_test_merged_std.csv\"\n",
        "    \"fog_train_merged_month_stn_std.csv\",\n",
        "    \"fog_val_merged_month_stn_std.csv\",\n",
        "    \"fog_test_merged_month_stn_std.csv\"\n",
        "    )"
      ]
    },
    {
      "cell_type": "markdown",
      "metadata": {
        "id": "wPr9efC50ugC"
      },
      "source": [
        "## 1. 이진분류"
      ]
    },
    {
      "cell_type": "code",
      "execution_count": 4,
      "metadata": {
        "id": "vd_iiwo80Xje"
      },
      "outputs": [],
      "source": [
        "train_df = pd.read_csv(train_path)\n",
        "val_df = pd.read_csv(val_path)\n",
        "test_df = pd.read_csv(test_path)"
      ]
    },
    {
      "cell_type": "code",
      "execution_count": 5,
      "metadata": {
        "id": "kRo4O4lU_Hm0"
      },
      "outputs": [],
      "source": [
        "# train, test 데이터셋에서 -99, -99.9 포함한 컬럼 동일하기 때문에 같이 변수로 선언\n",
        "train_cols_na = train_df.columns[train_df.isna().any()].tolist()\n",
        "val_cols_na = val_df.columns[val_df.isna().any()].tolist()\n",
        "test_cols_na = test_df.columns[test_df.isna().any()].tolist()"
      ]
    },
    {
      "cell_type": "markdown",
      "metadata": {
        "id": "4Kpxpv65Jpt_"
      },
      "source": [
        "## 1-1. 결측치 채우기"
      ]
    },
    {
      "cell_type": "code",
      "execution_count": 11,
      "metadata": {
        "id": "cct5G6UHHp9V"
      },
      "outputs": [],
      "source": [
        "def fill_missing_values_with_monthly_mean(df, na_columns):\n",
        "\n",
        "    df_filled = df.copy()\n",
        "\n",
        "    # month, stn_id로 groupby 한 후 na_columns별로 각각 평균을 구한다\n",
        "    grouped_means = df.groupby(['month', 'stn_id'])[na_columns].transform('mean')\n",
        "\n",
        "    # na_columns별 결측치를 각 컬럼들의 결측치로 대체한다\n",
        "    for column in na_columns:\n",
        "        df_filled[column] = df_filled[column].fillna(grouped_means[column])\n",
        "\n",
        "    return df_filled"
      ]
    },
    {
      "cell_type": "code",
      "execution_count": 12,
      "metadata": {
        "id": "SBURx0uX_IPz"
      },
      "outputs": [],
      "source": [
        "train_df = fill_missing_values_with_monthly_mean(train_df, train_cols_na)\n",
        "val_df = fill_missing_values_with_monthly_mean(val_df, val_cols_na)\n",
        "test_df = fill_missing_values_with_monthly_mean(test_df, test_cols_na)"
      ]
    },
    {
      "cell_type": "markdown",
      "metadata": {
        "id": "hssIaUqL1_C4"
      },
      "source": [
        "## 1-1. RandomForest 이진분류"
      ]
    },
    {
      "cell_type": "markdown",
      "metadata": {
        "id": "GfCmvCiz2_dQ"
      },
      "source": [
        "### 1-1-1. train, val, test 데이터셋 분리"
      ]
    },
    {
      "cell_type": "code",
      "execution_count": 13,
      "metadata": {
        "id": "qCfzYL4cmusa"
      },
      "outputs": [],
      "source": [
        "# target 컬럼\n",
        "target_binary = \"is_fog\"\n",
        "# # 모델 생성시 사용할 컬럼 지정\n",
        "# used_cols = [\"month\", \"time\", \"stn_id\", \"ta\", \"ts\", \"temp_diff\", \"hm\",\n",
        "#              \"re\", \"ws10_ms\", \"sun10\", \"dew_reached\", \"ws10_deg\"]\n",
        "\n",
        "# 8방위 사용\n",
        "used_cols = [\"month\", \"time\", \"stn_id\", \"ta\", \"ts\", \"temp_diff\", \"hm\",\n",
        "             \"re\", \"ws10_ms\", \"sun10\", \"dew_reached\", \"t_td\", \"ws10_deg\"]\n",
        "\n",
        "# dew_reached 제거, 풍향 제거\n",
        "# used_cols = [\"month\", \"time\", \"stn_id\", \"ta\", \"ts\", \"temp_diff\", \"hm\",\n",
        "#              \"re\", \"ws10_ms\", \"sun10\"]\n",
        "\n",
        "# 풍향 제거\n",
        "# used_cols = [\"month\", \"time\", \"stn_id\", \"ta\", \"ts\", \"temp_diff\", \"hm\",\n",
        "#              \"re\", \"ws10_ms\", \"sun10\", \"dew_reached\"]\n",
        "\n",
        "X_train_binary = train_df[used_cols]\n",
        "y_train_binary = train_df[target_binary]\n",
        "\n",
        "X_val_binary = val_df[used_cols]\n",
        "y_val_binary = val_df[target_binary]\n",
        "\n",
        "X_test_binary = test_df[used_cols]"
      ]
    },
    {
      "cell_type": "code",
      "execution_count": 14,
      "metadata": {
        "id": "NKpivlFY10j7"
      },
      "outputs": [],
      "source": [
        "# target 컬럼\n",
        "target = \"class\"\n",
        "# # 모델 생성시 사용할 컬럼 지정\n",
        "# used_cols = [\"month\", \"time\", \"stn_id\", \"ta\", \"ts\", \"temp_diff\", \"hm\",\n",
        "#              \"re\", \"ws10_ms\", \"sun10\", \"dew_reached\", \"ws10_deg\"]\n",
        "\n",
        "# 8방위 사용\n",
        "used_cols = [\"month\", \"time\", \"stn_id\", \"ta\", \"ts\", \"temp_diff\", \"hm\",\n",
        "             \"re\", \"ws10_ms\", \"sun10\", \"dew_reached\",  \"t_td\", \"ws10_dir\"]\n",
        "\n",
        "# dew_reached 제거, 풍향 제거\n",
        "# used_cols = [\"month\", \"time\", \"stn_id\", \"ta\", \"ts\", \"temp_diff\", \"hm\",\n",
        "#              \"re\", \"ws10_ms\", \"sun10\"]\n",
        "\n",
        "# 풍향 제거\n",
        "# used_cols = [\"month\", \"time\", \"stn_id\", \"ta\", \"ts\", \"temp_diff\", \"hm\",\n",
        "#              \"re\", \"ws10_ms\", \"sun10\", \"dew_reached\"]\n",
        "\n",
        "X_train = train_df[used_cols]\n",
        "y_train = train_df[target]\n",
        "\n",
        "X_val = val_df[used_cols]\n",
        "y_val = val_df[target]\n",
        "\n",
        "X_test = test_df[used_cols]"
      ]
    },
    {
      "cell_type": "code",
      "execution_count": 15,
      "metadata": {
        "colab": {
          "base_uri": "https://localhost:8080/"
        },
        "id": "xTyIcMb822xx",
        "outputId": "e17ddca5-bb9d-4e3c-ba7e-0e793f3adb3e"
      },
      "outputs": [
        {
          "data": {
            "text/plain": [
              "((2350456, 13), (783486, 13), (2350456,), (783486,), (262800, 13))"
            ]
          },
          "execution_count": 15,
          "metadata": {},
          "output_type": "execute_result"
        }
      ],
      "source": [
        "X_train.shape, X_val.shape, y_train.shape, y_val.shape, X_test.shape"
      ]
    },
    {
      "cell_type": "markdown",
      "metadata": {
        "id": "sIvEOZXF9wSl"
      },
      "source": [
        "#### 1-2. CSI Index"
      ]
    },
    {
      "cell_type": "code",
      "execution_count": 16,
      "metadata": {
        "id": "Asj_GuSI9zyr"
      },
      "outputs": [],
      "source": [
        "# CSI 지수 함수 생성\n",
        "def csi_index(y_true, y_pred):\n",
        "\n",
        "    model_cm = confusion_matrix(y_true, y_pred)\n",
        "\n",
        "    H = (model_cm[0][0] + model_cm[1][1] + model_cm[2][2])\n",
        "    F = (model_cm[0][1] + model_cm[0][2] +\n",
        "            model_cm[1][0] + model_cm[1][2] +\n",
        "            model_cm[2][0] + model_cm[2][1] +\n",
        "            model_cm[3][0] + model_cm[3][1] + model_cm[3][2])\n",
        "    M = (model_cm[0][3] + model_cm[1][3] + model_cm[2][3])\n",
        "\n",
        "    model_csi = H / (H + F + M)\n",
        "\n",
        "    return model_csi\n",
        "\n",
        "csi_scorer = make_scorer(csi_index, greater_is_better=True)"
      ]
    },
    {
      "cell_type": "markdown",
      "metadata": {
        "id": "Z4rcaMNQ-edl"
      },
      "source": [
        "#### 1-1-3. Label Encoding"
      ]
    },
    {
      "cell_type": "code",
      "execution_count": 17,
      "metadata": {
        "id": "1_g5ZhrX-g8z"
      },
      "outputs": [],
      "source": [
        "# stn_id를 각각 1 ~ 5로 정한 딕셔너리 생성\n",
        "stn_id_map = {\"A\" : 1,\n",
        "              \"B\" : 2,\n",
        "              \"C\" : 3,\n",
        "              \"D\" : 4,\n",
        "              \"E\" : 5}\n",
        "\n",
        "# stn_id_map을 바탕으로 stn_id 컬럼 mapping\n",
        "X_train_binary[\"stn_id\"] = X_train_binary[\"stn_id\"].map(stn_id_map)\n",
        "X_val_binary[\"stn_id\"] = X_val_binary[\"stn_id\"].map(stn_id_map)\n",
        "X_test_binary[\"stn_id\"] = X_test_binary[\"stn_id\"].map(stn_id_map)"
      ]
    },
    {
      "cell_type": "markdown",
      "metadata": {
        "id": "X1EvmxWC90zy"
      },
      "source": [
        "#### 1-3. 모델 학습"
      ]
    },
    {
      "cell_type": "code",
      "execution_count": 19,
      "metadata": {
        "colab": {
          "base_uri": "https://localhost:8080/",
          "height": 356
        },
        "id": "f3tKW_gkrtts",
        "outputId": "87e660f5-87f9-4b17-a9bf-95cb21a3bd98"
      },
      "outputs": [
        {
          "name": "stdout",
          "output_type": "stream",
          "text": [
            "[[310839     91]\n",
            " [  1116    517]]\n",
            "[[153040    289]\n",
            " [  1450   2025]]\n",
            "[[78053     9]\n",
            " [  333   109]]\n",
            "[[115782     80]\n",
            " [   899    855]]\n",
            "[[117229     40]\n",
            " [   340    390]]\n"
          ]
        }
      ],
      "source": [
        "# stn_list=[\"A\",\"B\",\"C\",\"D\",\"E\"]\n",
        "stn_list = range(1, 6)\n",
        "\n",
        "X_val_binary_sorted = X_val_binary.sort_values('stn_id')\n",
        "y_val_binary_sorted = y_val_binary[X_val_binary.index]\n",
        "\n",
        "y_pred = pd.DataFrame()\n",
        "\n",
        "models = {i: RandomForestClassifier(random_state=42)  for i in stn_list}\n",
        "\n",
        "for i in stn_list:\n",
        "\n",
        "    now_idx_train = X_train_binary[X_train_binary['stn_id'] == i].index\n",
        "    now_idx_val = X_val_binary_sorted[X_val_binary_sorted['stn_id'] == i].index\n",
        "\n",
        "    now_idx_y_train = y_train_binary[X_train_binary['stn_id'] == i].index\n",
        "    now_idx_y_val = y_val_binary_sorted[X_val_binary_sorted['stn_id'] == i].index\n",
        "\n",
        "    models[i].fit(X_train_binary.loc[now_idx_train], y_train_binary.loc[now_idx_train])\n",
        "    y_pred_now = models[i].predict(X_val_binary_sorted.loc[now_idx_val])\n",
        "\n",
        "    # models[i].fit(now_idx_train, now_idx_y_train, cat_features=cat_features)\n",
        "    # y_pred_now = models[i].predict(now_idx_val)\n",
        "\n",
        "    y_pred = pd.concat([y_pred, pd.DataFrame(index=now_idx_val, data=y_pred_now)],\n",
        "                    axis=0,\n",
        "                    sort=False,\n",
        "                    ignore_index=False)\n",
        "\n",
        "    # csi = csi_index(y_val_binary_sorted.loc[now_idx_val], y_pred_now)\n",
        "    # precision =  precision_score(y_val_binary_sorted.loc[now_idx_val], y_pred_now, average='binary', pos_label='1')\n",
        "    cm = confusion_matrix(y_val_binary_sorted.loc[now_idx_val], y_pred_now)\n",
        "    # print(f\"\\t{i} 학습 완료! 부분 CSI: {np.round(precision, 5)}\")\n",
        "    print(cm)"
      ]
    },
    {
      "cell_type": "code",
      "execution_count": 33,
      "metadata": {},
      "outputs": [],
      "source": [
        "def binary_rf(X_train_binary, y_train_binary, X_val_binary, y_val_binary, X_test_binary):\n",
        "    stn_list = range(1, 6)\n",
        "\n",
        "    X_val_binary_sorted = X_val_binary.sort_values('stn_id')\n",
        "    y_val_binary_sorted = y_val_binary.loc[X_val_binary_sorted.index]\n",
        "\n",
        "    y_train_pred_df = pd.Series(index=X_train_binary.index, dtype=float)\n",
        "    y_val_pred_df = pd.Series(index=X_val_binary.index, dtype=float)\n",
        "    y_test_pred_df = pd.Series(index=X_test_binary.index, dtype=float)\n",
        "\n",
        "    models = {i: RandomForestClassifier(random_state=42) for i in stn_list}\n",
        "\n",
        "    for i in stn_list:\n",
        "        now_idx_train = X_train_binary[X_train_binary['stn_id'] == i].index\n",
        "        now_idx_val = X_val_binary_sorted[X_val_binary_sorted['stn_id'] == i].index\n",
        "        now_idx_test = X_test_binary[X_test_binary['stn_id'] == i].index\n",
        "\n",
        "        models[i].fit(X_train_binary.loc[now_idx_train], y_train_binary.loc[now_idx_train])\n",
        "\n",
        "        y_train_pred_now = models[i].predict(X_train_binary.loc[now_idx_train])\n",
        "        y_val_pred_now = models[i].predict(X_val_binary_sorted.loc[now_idx_val])\n",
        "        y_test_pred_now = models[i].predict(X_test_binary.loc[now_idx_test])\n",
        "\n",
        "        y_train_pred_df.loc[now_idx_train] = y_train_pred_now\n",
        "        y_val_pred_df.loc[now_idx_val] = y_val_pred_now\n",
        "        y_test_pred_df.loc[now_idx_test] = y_test_pred_now\n",
        "\n",
        "    return y_train_pred_df, y_val_pred_df, y_test_pred_df"
      ]
    },
    {
      "cell_type": "code",
      "execution_count": 34,
      "metadata": {},
      "outputs": [],
      "source": [
        "y_train_pred_rf, y_val_pred_rf, y_test_pred_rf = binary_rf(X_train_binary, y_train_binary, X_val_binary, y_val_binary, X_test_binary)"
      ]
    },
    {
      "cell_type": "code",
      "execution_count": 36,
      "metadata": {},
      "outputs": [
        {
          "data": {
            "text/plain": [
              "0.0    0.989758\n",
              "1.0    0.010242\n",
              "Name: proportion, dtype: float64"
            ]
          },
          "execution_count": 36,
          "metadata": {},
          "output_type": "execute_result"
        }
      ],
      "source": [
        "y_train_pred_rf.value_counts(normalize=True)"
      ]
    },
    {
      "cell_type": "code",
      "execution_count": 39,
      "metadata": {},
      "outputs": [
        {
          "data": {
            "text/plain": [
              "array([[2326345,      11],\n",
              "       [     37,   24063]], dtype=int64)"
            ]
          },
          "execution_count": 39,
          "metadata": {},
          "output_type": "execute_result"
        }
      ],
      "source": [
        "confusion_matrix(y_train_binary, y_train_pred_rf)"
      ]
    },
    {
      "cell_type": "code",
      "execution_count": 37,
      "metadata": {},
      "outputs": [
        {
          "data": {
            "text/plain": [
              "0.0    0.994378\n",
              "1.0    0.005622\n",
              "Name: proportion, dtype: float64"
            ]
          },
          "execution_count": 37,
          "metadata": {},
          "output_type": "execute_result"
        }
      ],
      "source": [
        "y_val_pred_rf.value_counts(normalize=True)"
      ]
    },
    {
      "cell_type": "code",
      "execution_count": 40,
      "metadata": {},
      "outputs": [
        {
          "data": {
            "text/plain": [
              "array([[774943,    509],\n",
              "       [  4138,   3896]], dtype=int64)"
            ]
          },
          "execution_count": 40,
          "metadata": {},
          "output_type": "execute_result"
        }
      ],
      "source": [
        "confusion_matrix(y_val_binary, y_val_pred_rf)"
      ]
    },
    {
      "cell_type": "code",
      "execution_count": 38,
      "metadata": {},
      "outputs": [
        {
          "data": {
            "text/plain": [
              "0.0    0.995944\n",
              "1.0    0.004056\n",
              "Name: proportion, dtype: float64"
            ]
          },
          "execution_count": 38,
          "metadata": {},
          "output_type": "execute_result"
        }
      ],
      "source": [
        "y_test_pred_rf.value_counts(normalize=True)"
      ]
    },
    {
      "cell_type": "code",
      "execution_count": null,
      "metadata": {},
      "outputs": [],
      "source": [
        "# save\n",
        "with open('y_train_pred_rf.pickle', 'wb') as f:\n",
        "    pickle.dump(y_train_pred_rf, f)\n",
        "\n",
        "with open('y_val_pred_rf.pickle', 'wb') as f:\n",
        "    pickle.dump(y_val_pred_rf, f)\n",
        "\n",
        "with open('y_test_pred_rf.pickle', 'wb') as f:\n",
        "    pickle.dump(y_test_pred_rf, f)"
      ]
    },
    {
      "cell_type": "code",
      "execution_count": null,
      "metadata": {},
      "outputs": [],
      "source": []
    },
    {
      "cell_type": "code",
      "execution_count": 41,
      "metadata": {},
      "outputs": [],
      "source": [
        "# save\n",
        "with open('y_train_pred_rf.pickle', 'wb') as f:\n",
        "    pickle.dump(y_train_pred_rf, f)\n",
        "\n",
        "with open('y_val_pred_rf.pickle', 'wb') as f:\n",
        "    pickle.dump(y_val_pred_rf, f)\n",
        "\n",
        "with open('y_test_pred_rf.pickle', 'wb') as f:\n",
        "    pickle.dump(y_test_pred_rf, f)"
      ]
    },
    {
      "cell_type": "code",
      "execution_count": 42,
      "metadata": {},
      "outputs": [],
      "source": [
        "# load\n",
        "with open('y_train_pred_rf.pickle', 'rb') as f:\n",
        "    y_pred_t = pickle.load(f)\n",
        "\n",
        "# load\n",
        "with open('y_val_pred_rf.pickle', 'rb') as f:\n",
        "    y_pred_v = pickle.load(f)\n",
        "\n",
        "# load\n",
        "with open('y_test_pred_rf.pickle', 'rb') as f:\n",
        "    y_pred_te = pickle.load(f)"
      ]
    },
    {
      "cell_type": "code",
      "execution_count": 109,
      "metadata": {},
      "outputs": [
        {
          "data": {
            "text/plain": [
              "0"
            ]
          },
          "execution_count": 109,
          "metadata": {},
          "output_type": "execute_result"
        }
      ],
      "source": [
        "y_train_pred_rf.isnull().sum()"
      ]
    },
    {
      "cell_type": "code",
      "execution_count": 110,
      "metadata": {},
      "outputs": [
        {
          "data": {
            "text/plain": [
              "0"
            ]
          },
          "execution_count": 110,
          "metadata": {},
          "output_type": "execute_result"
        }
      ],
      "source": [
        "y_val_pred_rf.isnull().sum()"
      ]
    },
    {
      "cell_type": "code",
      "execution_count": 111,
      "metadata": {},
      "outputs": [
        {
          "data": {
            "text/plain": [
              "0"
            ]
          },
          "execution_count": 111,
          "metadata": {},
          "output_type": "execute_result"
        }
      ],
      "source": [
        "y_test_pred_rf.isnull().sum()"
      ]
    },
    {
      "cell_type": "code",
      "execution_count": null,
      "metadata": {},
      "outputs": [],
      "source": []
    },
    {
      "cell_type": "markdown",
      "metadata": {},
      "source": [
        "#### classification"
      ]
    },
    {
      "cell_type": "code",
      "execution_count": 54,
      "metadata": {},
      "outputs": [],
      "source": [
        "y_train_pred_rf = y_train_pred_rf.astype(\"int\")\n",
        "y_val_pred_rf = y_val_pred_rf.astype(\"int\")\n",
        "y_test_pred_rf = y_test_pred_rf.astype(\"int\")"
      ]
    },
    {
      "cell_type": "code",
      "execution_count": 57,
      "metadata": {},
      "outputs": [],
      "source": [
        "rf_y_train_pred_idx = y_train_pred_rf[y_train_pred_rf==1].index\n",
        "rf_y_val_pred_idx = y_val_pred_rf[y_val_pred_rf==1].index\n",
        "rf_y_test_pred_idx = y_test_pred_rf[y_test_pred_rf==1].index"
      ]
    },
    {
      "cell_type": "code",
      "execution_count": 67,
      "metadata": {},
      "outputs": [],
      "source": [
        "X_train_cl = X_train_binary.loc[rf_y_train_pred_idx]\n",
        "X_val_cl = X_val_binary.loc[rf_y_val_pred_idx]\n",
        "X_test_cl = X_test_binary.loc[rf_y_test_pred_idx]"
      ]
    },
    {
      "cell_type": "code",
      "execution_count": 118,
      "metadata": {},
      "outputs": [
        {
          "data": {
            "text/html": [
              "<div>\n",
              "<style scoped>\n",
              "    .dataframe tbody tr th:only-of-type {\n",
              "        vertical-align: middle;\n",
              "    }\n",
              "\n",
              "    .dataframe tbody tr th {\n",
              "        vertical-align: top;\n",
              "    }\n",
              "\n",
              "    .dataframe thead th {\n",
              "        text-align: right;\n",
              "    }\n",
              "</style>\n",
              "<table border=\"1\" class=\"dataframe\">\n",
              "  <thead>\n",
              "    <tr style=\"text-align: right;\">\n",
              "      <th></th>\n",
              "      <th>month</th>\n",
              "      <th>time</th>\n",
              "      <th>stn_id</th>\n",
              "      <th>ta</th>\n",
              "      <th>ts</th>\n",
              "      <th>temp_diff</th>\n",
              "      <th>hm</th>\n",
              "      <th>re</th>\n",
              "      <th>ws10_ms</th>\n",
              "      <th>sun10</th>\n",
              "      <th>dew_reached</th>\n",
              "      <th>t_td</th>\n",
              "      <th>ws10_deg</th>\n",
              "    </tr>\n",
              "  </thead>\n",
              "  <tbody>\n",
              "    <tr>\n",
              "      <th>679</th>\n",
              "      <td>7</td>\n",
              "      <td>19</td>\n",
              "      <td>3</td>\n",
              "      <td>20.0</td>\n",
              "      <td>21.2</td>\n",
              "      <td>-1.2</td>\n",
              "      <td>90.6</td>\n",
              "      <td>0.0</td>\n",
              "      <td>1.5</td>\n",
              "      <td>0.000000</td>\n",
              "      <td>0</td>\n",
              "      <td>1.535988</td>\n",
              "      <td>317.6</td>\n",
              "    </tr>\n",
              "    <tr>\n",
              "      <th>826</th>\n",
              "      <td>2</td>\n",
              "      <td>6</td>\n",
              "      <td>3</td>\n",
              "      <td>8.2</td>\n",
              "      <td>4.0</td>\n",
              "      <td>4.2</td>\n",
              "      <td>56.7</td>\n",
              "      <td>0.0</td>\n",
              "      <td>2.2</td>\n",
              "      <td>0.000000</td>\n",
              "      <td>0</td>\n",
              "      <td>7.815944</td>\n",
              "      <td>238.8</td>\n",
              "    </tr>\n",
              "    <tr>\n",
              "      <th>1006</th>\n",
              "      <td>11</td>\n",
              "      <td>7</td>\n",
              "      <td>3</td>\n",
              "      <td>11.1</td>\n",
              "      <td>9.0</td>\n",
              "      <td>2.1</td>\n",
              "      <td>87.0</td>\n",
              "      <td>0.0</td>\n",
              "      <td>2.1</td>\n",
              "      <td>0.000000</td>\n",
              "      <td>1</td>\n",
              "      <td>2.013352</td>\n",
              "      <td>229.8</td>\n",
              "    </tr>\n",
              "    <tr>\n",
              "      <th>2250</th>\n",
              "      <td>8</td>\n",
              "      <td>16</td>\n",
              "      <td>3</td>\n",
              "      <td>24.2</td>\n",
              "      <td>26.7</td>\n",
              "      <td>-2.5</td>\n",
              "      <td>89.1</td>\n",
              "      <td>0.0</td>\n",
              "      <td>2.8</td>\n",
              "      <td>0.040000</td>\n",
              "      <td>0</td>\n",
              "      <td>1.853493</td>\n",
              "      <td>323.6</td>\n",
              "    </tr>\n",
              "    <tr>\n",
              "      <th>3811</th>\n",
              "      <td>4</td>\n",
              "      <td>1</td>\n",
              "      <td>3</td>\n",
              "      <td>9.6</td>\n",
              "      <td>7.6</td>\n",
              "      <td>2.0</td>\n",
              "      <td>75.7</td>\n",
              "      <td>0.0</td>\n",
              "      <td>3.4</td>\n",
              "      <td>0.000000</td>\n",
              "      <td>0</td>\n",
              "      <td>3.943753</td>\n",
              "      <td>236.6</td>\n",
              "    </tr>\n",
              "    <tr>\n",
              "      <th>...</th>\n",
              "      <td>...</td>\n",
              "      <td>...</td>\n",
              "      <td>...</td>\n",
              "      <td>...</td>\n",
              "      <td>...</td>\n",
              "      <td>...</td>\n",
              "      <td>...</td>\n",
              "      <td>...</td>\n",
              "      <td>...</td>\n",
              "      <td>...</td>\n",
              "      <td>...</td>\n",
              "      <td>...</td>\n",
              "      <td>...</td>\n",
              "    </tr>\n",
              "    <tr>\n",
              "      <th>2245212</th>\n",
              "      <td>2</td>\n",
              "      <td>19</td>\n",
              "      <td>3</td>\n",
              "      <td>8.7</td>\n",
              "      <td>6.6</td>\n",
              "      <td>2.1</td>\n",
              "      <td>92.2</td>\n",
              "      <td>0.0</td>\n",
              "      <td>0.9</td>\n",
              "      <td>0.000000</td>\n",
              "      <td>1</td>\n",
              "      <td>1.155216</td>\n",
              "      <td>212.2</td>\n",
              "    </tr>\n",
              "    <tr>\n",
              "      <th>2245319</th>\n",
              "      <td>10</td>\n",
              "      <td>7</td>\n",
              "      <td>3</td>\n",
              "      <td>7.3</td>\n",
              "      <td>5.7</td>\n",
              "      <td>1.6</td>\n",
              "      <td>77.4</td>\n",
              "      <td>0.0</td>\n",
              "      <td>2.1</td>\n",
              "      <td>0.000000</td>\n",
              "      <td>0</td>\n",
              "      <td>3.566072</td>\n",
              "      <td>218.6</td>\n",
              "    </tr>\n",
              "    <tr>\n",
              "      <th>2286689</th>\n",
              "      <td>3</td>\n",
              "      <td>6</td>\n",
              "      <td>3</td>\n",
              "      <td>1.3</td>\n",
              "      <td>1.4</td>\n",
              "      <td>-0.1</td>\n",
              "      <td>93.4</td>\n",
              "      <td>1.0</td>\n",
              "      <td>0.0</td>\n",
              "      <td>0.102947</td>\n",
              "      <td>0</td>\n",
              "      <td>0.913775</td>\n",
              "      <td>0.0</td>\n",
              "    </tr>\n",
              "    <tr>\n",
              "      <th>2297166</th>\n",
              "      <td>2</td>\n",
              "      <td>15</td>\n",
              "      <td>3</td>\n",
              "      <td>2.8</td>\n",
              "      <td>6.0</td>\n",
              "      <td>-3.2</td>\n",
              "      <td>55.3</td>\n",
              "      <td>0.0</td>\n",
              "      <td>9.3</td>\n",
              "      <td>0.090583</td>\n",
              "      <td>0</td>\n",
              "      <td>7.795464</td>\n",
              "      <td>240.9</td>\n",
              "    </tr>\n",
              "    <tr>\n",
              "      <th>2304266</th>\n",
              "      <td>9</td>\n",
              "      <td>6</td>\n",
              "      <td>3</td>\n",
              "      <td>19.2</td>\n",
              "      <td>19.4</td>\n",
              "      <td>-0.2</td>\n",
              "      <td>99.2</td>\n",
              "      <td>1.0</td>\n",
              "      <td>9.4</td>\n",
              "      <td>0.089621</td>\n",
              "      <td>0</td>\n",
              "      <td>0.124886</td>\n",
              "      <td>4.3</td>\n",
              "    </tr>\n",
              "  </tbody>\n",
              "</table>\n",
              "<p>1310 rows × 13 columns</p>\n",
              "</div>"
            ],
            "text/plain": [
              "         month  time  stn_id    ta    ts  temp_diff    hm   re  ws10_ms  \\\n",
              "679          7    19       3  20.0  21.2       -1.2  90.6  0.0      1.5   \n",
              "826          2     6       3   8.2   4.0        4.2  56.7  0.0      2.2   \n",
              "1006        11     7       3  11.1   9.0        2.1  87.0  0.0      2.1   \n",
              "2250         8    16       3  24.2  26.7       -2.5  89.1  0.0      2.8   \n",
              "3811         4     1       3   9.6   7.6        2.0  75.7  0.0      3.4   \n",
              "...        ...   ...     ...   ...   ...        ...   ...  ...      ...   \n",
              "2245212      2    19       3   8.7   6.6        2.1  92.2  0.0      0.9   \n",
              "2245319     10     7       3   7.3   5.7        1.6  77.4  0.0      2.1   \n",
              "2286689      3     6       3   1.3   1.4       -0.1  93.4  1.0      0.0   \n",
              "2297166      2    15       3   2.8   6.0       -3.2  55.3  0.0      9.3   \n",
              "2304266      9     6       3  19.2  19.4       -0.2  99.2  1.0      9.4   \n",
              "\n",
              "            sun10  dew_reached      t_td  ws10_deg  \n",
              "679      0.000000            0  1.535988     317.6  \n",
              "826      0.000000            0  7.815944     238.8  \n",
              "1006     0.000000            1  2.013352     229.8  \n",
              "2250     0.040000            0  1.853493     323.6  \n",
              "3811     0.000000            0  3.943753     236.6  \n",
              "...           ...          ...       ...       ...  \n",
              "2245212  0.000000            1  1.155216     212.2  \n",
              "2245319  0.000000            0  3.566072     218.6  \n",
              "2286689  0.102947            0  0.913775       0.0  \n",
              "2297166  0.090583            0  7.795464     240.9  \n",
              "2304266  0.089621            0  0.124886       4.3  \n",
              "\n",
              "[1310 rows x 13 columns]"
            ]
          },
          "execution_count": 118,
          "metadata": {},
          "output_type": "execute_result"
        }
      ],
      "source": [
        "X_train_cl[X_train_cl[\"stn_id\"]==3]"
      ]
    },
    {
      "cell_type": "code",
      "execution_count": 119,
      "metadata": {},
      "outputs": [
        {
          "data": {
            "text/html": [
              "<div>\n",
              "<style scoped>\n",
              "    .dataframe tbody tr th:only-of-type {\n",
              "        vertical-align: middle;\n",
              "    }\n",
              "\n",
              "    .dataframe tbody tr th {\n",
              "        vertical-align: top;\n",
              "    }\n",
              "\n",
              "    .dataframe thead th {\n",
              "        text-align: right;\n",
              "    }\n",
              "</style>\n",
              "<table border=\"1\" class=\"dataframe\">\n",
              "  <thead>\n",
              "    <tr style=\"text-align: right;\">\n",
              "      <th></th>\n",
              "      <th>month</th>\n",
              "      <th>time</th>\n",
              "      <th>stn_id</th>\n",
              "      <th>ta</th>\n",
              "      <th>ts</th>\n",
              "      <th>temp_diff</th>\n",
              "      <th>hm</th>\n",
              "      <th>re</th>\n",
              "      <th>ws10_ms</th>\n",
              "      <th>sun10</th>\n",
              "      <th>dew_reached</th>\n",
              "      <th>t_td</th>\n",
              "      <th>ws10_deg</th>\n",
              "    </tr>\n",
              "  </thead>\n",
              "  <tbody>\n",
              "    <tr>\n",
              "      <th>7816</th>\n",
              "      <td>10</td>\n",
              "      <td>19</td>\n",
              "      <td>3</td>\n",
              "      <td>17.4</td>\n",
              "      <td>17.7</td>\n",
              "      <td>-0.3</td>\n",
              "      <td>85.4</td>\n",
              "      <td>0.0</td>\n",
              "      <td>0.9</td>\n",
              "      <td>0.00</td>\n",
              "      <td>0</td>\n",
              "      <td>2.397258</td>\n",
              "      <td>191.0</td>\n",
              "    </tr>\n",
              "    <tr>\n",
              "      <th>15485</th>\n",
              "      <td>12</td>\n",
              "      <td>5</td>\n",
              "      <td>3</td>\n",
              "      <td>-0.5</td>\n",
              "      <td>1.7</td>\n",
              "      <td>-2.2</td>\n",
              "      <td>95.2</td>\n",
              "      <td>1.0</td>\n",
              "      <td>1.2</td>\n",
              "      <td>0.00</td>\n",
              "      <td>0</td>\n",
              "      <td>0.649003</td>\n",
              "      <td>233.7</td>\n",
              "    </tr>\n",
              "    <tr>\n",
              "      <th>16504</th>\n",
              "      <td>12</td>\n",
              "      <td>1</td>\n",
              "      <td>3</td>\n",
              "      <td>0.5</td>\n",
              "      <td>1.7</td>\n",
              "      <td>-1.2</td>\n",
              "      <td>97.0</td>\n",
              "      <td>1.0</td>\n",
              "      <td>2.8</td>\n",
              "      <td>0.00</td>\n",
              "      <td>0</td>\n",
              "      <td>0.405744</td>\n",
              "      <td>318.3</td>\n",
              "    </tr>\n",
              "    <tr>\n",
              "      <th>16686</th>\n",
              "      <td>9</td>\n",
              "      <td>1</td>\n",
              "      <td>3</td>\n",
              "      <td>19.5</td>\n",
              "      <td>20.2</td>\n",
              "      <td>-0.7</td>\n",
              "      <td>89.0</td>\n",
              "      <td>0.0</td>\n",
              "      <td>0.7</td>\n",
              "      <td>0.00</td>\n",
              "      <td>0</td>\n",
              "      <td>1.804156</td>\n",
              "      <td>171.6</td>\n",
              "    </tr>\n",
              "    <tr>\n",
              "      <th>19470</th>\n",
              "      <td>2</td>\n",
              "      <td>16</td>\n",
              "      <td>3</td>\n",
              "      <td>9.1</td>\n",
              "      <td>8.4</td>\n",
              "      <td>0.7</td>\n",
              "      <td>87.7</td>\n",
              "      <td>1.0</td>\n",
              "      <td>0.5</td>\n",
              "      <td>0.03</td>\n",
              "      <td>0</td>\n",
              "      <td>1.867669</td>\n",
              "      <td>227.9</td>\n",
              "    </tr>\n",
              "    <tr>\n",
              "      <th>...</th>\n",
              "      <td>...</td>\n",
              "      <td>...</td>\n",
              "      <td>...</td>\n",
              "      <td>...</td>\n",
              "      <td>...</td>\n",
              "      <td>...</td>\n",
              "      <td>...</td>\n",
              "      <td>...</td>\n",
              "      <td>...</td>\n",
              "      <td>...</td>\n",
              "      <td>...</td>\n",
              "      <td>...</td>\n",
              "      <td>...</td>\n",
              "    </tr>\n",
              "    <tr>\n",
              "      <th>717415</th>\n",
              "      <td>9</td>\n",
              "      <td>2</td>\n",
              "      <td>3</td>\n",
              "      <td>12.9</td>\n",
              "      <td>12.8</td>\n",
              "      <td>0.1</td>\n",
              "      <td>84.2</td>\n",
              "      <td>0.0</td>\n",
              "      <td>1.4</td>\n",
              "      <td>0.00</td>\n",
              "      <td>0</td>\n",
              "      <td>2.517887</td>\n",
              "      <td>211.5</td>\n",
              "    </tr>\n",
              "    <tr>\n",
              "      <th>720373</th>\n",
              "      <td>9</td>\n",
              "      <td>16</td>\n",
              "      <td>3</td>\n",
              "      <td>18.5</td>\n",
              "      <td>20.7</td>\n",
              "      <td>-2.2</td>\n",
              "      <td>92.8</td>\n",
              "      <td>1.0</td>\n",
              "      <td>1.5</td>\n",
              "      <td>0.02</td>\n",
              "      <td>0</td>\n",
              "      <td>1.150710</td>\n",
              "      <td>313.7</td>\n",
              "    </tr>\n",
              "    <tr>\n",
              "      <th>720833</th>\n",
              "      <td>3</td>\n",
              "      <td>20</td>\n",
              "      <td>3</td>\n",
              "      <td>0.6</td>\n",
              "      <td>0.2</td>\n",
              "      <td>0.4</td>\n",
              "      <td>99.6</td>\n",
              "      <td>1.0</td>\n",
              "      <td>1.1</td>\n",
              "      <td>0.00</td>\n",
              "      <td>1</td>\n",
              "      <td>0.053516</td>\n",
              "      <td>29.3</td>\n",
              "    </tr>\n",
              "    <tr>\n",
              "      <th>736852</th>\n",
              "      <td>3</td>\n",
              "      <td>12</td>\n",
              "      <td>3</td>\n",
              "      <td>9.2</td>\n",
              "      <td>11.5</td>\n",
              "      <td>-2.3</td>\n",
              "      <td>95.6</td>\n",
              "      <td>1.0</td>\n",
              "      <td>2.2</td>\n",
              "      <td>0.03</td>\n",
              "      <td>0</td>\n",
              "      <td>0.644091</td>\n",
              "      <td>314.5</td>\n",
              "    </tr>\n",
              "    <tr>\n",
              "      <th>745340</th>\n",
              "      <td>12</td>\n",
              "      <td>1</td>\n",
              "      <td>3</td>\n",
              "      <td>0.5</td>\n",
              "      <td>1.7</td>\n",
              "      <td>-1.2</td>\n",
              "      <td>96.6</td>\n",
              "      <td>0.0</td>\n",
              "      <td>2.5</td>\n",
              "      <td>0.00</td>\n",
              "      <td>0</td>\n",
              "      <td>0.460681</td>\n",
              "      <td>314.6</td>\n",
              "    </tr>\n",
              "  </tbody>\n",
              "</table>\n",
              "<p>118 rows × 13 columns</p>\n",
              "</div>"
            ],
            "text/plain": [
              "        month  time  stn_id    ta    ts  temp_diff    hm   re  ws10_ms  sun10  \\\n",
              "7816       10    19       3  17.4  17.7       -0.3  85.4  0.0      0.9   0.00   \n",
              "15485      12     5       3  -0.5   1.7       -2.2  95.2  1.0      1.2   0.00   \n",
              "16504      12     1       3   0.5   1.7       -1.2  97.0  1.0      2.8   0.00   \n",
              "16686       9     1       3  19.5  20.2       -0.7  89.0  0.0      0.7   0.00   \n",
              "19470       2    16       3   9.1   8.4        0.7  87.7  1.0      0.5   0.03   \n",
              "...       ...   ...     ...   ...   ...        ...   ...  ...      ...    ...   \n",
              "717415      9     2       3  12.9  12.8        0.1  84.2  0.0      1.4   0.00   \n",
              "720373      9    16       3  18.5  20.7       -2.2  92.8  1.0      1.5   0.02   \n",
              "720833      3    20       3   0.6   0.2        0.4  99.6  1.0      1.1   0.00   \n",
              "736852      3    12       3   9.2  11.5       -2.3  95.6  1.0      2.2   0.03   \n",
              "745340     12     1       3   0.5   1.7       -1.2  96.6  0.0      2.5   0.00   \n",
              "\n",
              "        dew_reached      t_td  ws10_deg  \n",
              "7816              0  2.397258     191.0  \n",
              "15485             0  0.649003     233.7  \n",
              "16504             0  0.405744     318.3  \n",
              "16686             0  1.804156     171.6  \n",
              "19470             0  1.867669     227.9  \n",
              "...             ...       ...       ...  \n",
              "717415            0  2.517887     211.5  \n",
              "720373            0  1.150710     313.7  \n",
              "720833            1  0.053516      29.3  \n",
              "736852            0  0.644091     314.5  \n",
              "745340            0  0.460681     314.6  \n",
              "\n",
              "[118 rows x 13 columns]"
            ]
          },
          "execution_count": 119,
          "metadata": {},
          "output_type": "execute_result"
        }
      ],
      "source": [
        "X_val_cl[X_val_cl[\"stn_id\"]==3]"
      ]
    },
    {
      "cell_type": "code",
      "execution_count": 121,
      "metadata": {},
      "outputs": [
        {
          "data": {
            "text/html": [
              "<div>\n",
              "<style scoped>\n",
              "    .dataframe tbody tr th:only-of-type {\n",
              "        vertical-align: middle;\n",
              "    }\n",
              "\n",
              "    .dataframe tbody tr th {\n",
              "        vertical-align: top;\n",
              "    }\n",
              "\n",
              "    .dataframe thead th {\n",
              "        text-align: right;\n",
              "    }\n",
              "</style>\n",
              "<table border=\"1\" class=\"dataframe\">\n",
              "  <thead>\n",
              "    <tr style=\"text-align: right;\">\n",
              "      <th></th>\n",
              "      <th>month</th>\n",
              "      <th>time</th>\n",
              "      <th>stn_id</th>\n",
              "      <th>ta</th>\n",
              "      <th>ts</th>\n",
              "      <th>temp_diff</th>\n",
              "      <th>hm</th>\n",
              "      <th>re</th>\n",
              "      <th>ws10_ms</th>\n",
              "      <th>sun10</th>\n",
              "      <th>dew_reached</th>\n",
              "      <th>t_td</th>\n",
              "      <th>ws10_deg</th>\n",
              "    </tr>\n",
              "  </thead>\n",
              "  <tbody>\n",
              "    <tr>\n",
              "      <th>42</th>\n",
              "      <td>1</td>\n",
              "      <td>7</td>\n",
              "      <td>1</td>\n",
              "      <td>-7.3</td>\n",
              "      <td>-3.6</td>\n",
              "      <td>-3.7</td>\n",
              "      <td>95.7</td>\n",
              "      <td>0.0</td>\n",
              "      <td>0.7</td>\n",
              "      <td>0.00</td>\n",
              "      <td>0</td>\n",
              "      <td>0.546824</td>\n",
              "      <td>279.3</td>\n",
              "    </tr>\n",
              "    <tr>\n",
              "      <th>48</th>\n",
              "      <td>1</td>\n",
              "      <td>8</td>\n",
              "      <td>1</td>\n",
              "      <td>-7.9</td>\n",
              "      <td>-3.8</td>\n",
              "      <td>-4.1</td>\n",
              "      <td>96.7</td>\n",
              "      <td>0.0</td>\n",
              "      <td>0.5</td>\n",
              "      <td>0.00</td>\n",
              "      <td>0</td>\n",
              "      <td>0.415527</td>\n",
              "      <td>278.0</td>\n",
              "    </tr>\n",
              "    <tr>\n",
              "      <th>51</th>\n",
              "      <td>1</td>\n",
              "      <td>8</td>\n",
              "      <td>1</td>\n",
              "      <td>-7.9</td>\n",
              "      <td>-3.9</td>\n",
              "      <td>-4.0</td>\n",
              "      <td>96.1</td>\n",
              "      <td>0.0</td>\n",
              "      <td>0.6</td>\n",
              "      <td>0.02</td>\n",
              "      <td>0</td>\n",
              "      <td>0.492431</td>\n",
              "      <td>54.3</td>\n",
              "    </tr>\n",
              "    <tr>\n",
              "      <th>52</th>\n",
              "      <td>1</td>\n",
              "      <td>8</td>\n",
              "      <td>1</td>\n",
              "      <td>-7.7</td>\n",
              "      <td>-3.9</td>\n",
              "      <td>-3.8</td>\n",
              "      <td>95.7</td>\n",
              "      <td>0.0</td>\n",
              "      <td>0.5</td>\n",
              "      <td>0.03</td>\n",
              "      <td>0</td>\n",
              "      <td>0.544899</td>\n",
              "      <td>112.2</td>\n",
              "    </tr>\n",
              "    <tr>\n",
              "      <th>53</th>\n",
              "      <td>1</td>\n",
              "      <td>8</td>\n",
              "      <td>1</td>\n",
              "      <td>-7.7</td>\n",
              "      <td>-3.8</td>\n",
              "      <td>-3.9</td>\n",
              "      <td>95.5</td>\n",
              "      <td>0.0</td>\n",
              "      <td>0.5</td>\n",
              "      <td>0.06</td>\n",
              "      <td>0</td>\n",
              "      <td>0.570770</td>\n",
              "      <td>56.7</td>\n",
              "    </tr>\n",
              "    <tr>\n",
              "      <th>...</th>\n",
              "      <td>...</td>\n",
              "      <td>...</td>\n",
              "      <td>...</td>\n",
              "      <td>...</td>\n",
              "      <td>...</td>\n",
              "      <td>...</td>\n",
              "      <td>...</td>\n",
              "      <td>...</td>\n",
              "      <td>...</td>\n",
              "      <td>...</td>\n",
              "      <td>...</td>\n",
              "      <td>...</td>\n",
              "      <td>...</td>\n",
              "    </tr>\n",
              "    <tr>\n",
              "      <th>173388</th>\n",
              "      <td>4</td>\n",
              "      <td>2</td>\n",
              "      <td>4</td>\n",
              "      <td>14.1</td>\n",
              "      <td>14.7</td>\n",
              "      <td>-0.6</td>\n",
              "      <td>92.3</td>\n",
              "      <td>0.0</td>\n",
              "      <td>3.6</td>\n",
              "      <td>0.00</td>\n",
              "      <td>0</td>\n",
              "      <td>1.191006</td>\n",
              "      <td>221.4</td>\n",
              "    </tr>\n",
              "    <tr>\n",
              "      <th>180868</th>\n",
              "      <td>6</td>\n",
              "      <td>0</td>\n",
              "      <td>4</td>\n",
              "      <td>19.0</td>\n",
              "      <td>20.3</td>\n",
              "      <td>-1.3</td>\n",
              "      <td>90.5</td>\n",
              "      <td>0.0</td>\n",
              "      <td>1.9</td>\n",
              "      <td>0.00</td>\n",
              "      <td>0</td>\n",
              "      <td>1.540904</td>\n",
              "      <td>100.0</td>\n",
              "    </tr>\n",
              "    <tr>\n",
              "      <th>186951</th>\n",
              "      <td>7</td>\n",
              "      <td>6</td>\n",
              "      <td>4</td>\n",
              "      <td>24.0</td>\n",
              "      <td>24.4</td>\n",
              "      <td>-0.4</td>\n",
              "      <td>96.6</td>\n",
              "      <td>1.0</td>\n",
              "      <td>4.4</td>\n",
              "      <td>0.00</td>\n",
              "      <td>0</td>\n",
              "      <td>0.557479</td>\n",
              "      <td>158.2</td>\n",
              "    </tr>\n",
              "    <tr>\n",
              "      <th>195834</th>\n",
              "      <td>9</td>\n",
              "      <td>23</td>\n",
              "      <td>4</td>\n",
              "      <td>21.4</td>\n",
              "      <td>20.2</td>\n",
              "      <td>1.2</td>\n",
              "      <td>81.9</td>\n",
              "      <td>0.0</td>\n",
              "      <td>1.5</td>\n",
              "      <td>0.00</td>\n",
              "      <td>0</td>\n",
              "      <td>3.121637</td>\n",
              "      <td>259.8</td>\n",
              "    </tr>\n",
              "    <tr>\n",
              "      <th>195838</th>\n",
              "      <td>9</td>\n",
              "      <td>23</td>\n",
              "      <td>4</td>\n",
              "      <td>21.2</td>\n",
              "      <td>19.9</td>\n",
              "      <td>1.3</td>\n",
              "      <td>81.3</td>\n",
              "      <td>0.0</td>\n",
              "      <td>1.2</td>\n",
              "      <td>0.00</td>\n",
              "      <td>0</td>\n",
              "      <td>3.230107</td>\n",
              "      <td>300.4</td>\n",
              "    </tr>\n",
              "  </tbody>\n",
              "</table>\n",
              "<p>1066 rows × 13 columns</p>\n",
              "</div>"
            ],
            "text/plain": [
              "        month  time  stn_id    ta    ts  temp_diff    hm   re  ws10_ms  sun10  \\\n",
              "42          1     7       1  -7.3  -3.6       -3.7  95.7  0.0      0.7   0.00   \n",
              "48          1     8       1  -7.9  -3.8       -4.1  96.7  0.0      0.5   0.00   \n",
              "51          1     8       1  -7.9  -3.9       -4.0  96.1  0.0      0.6   0.02   \n",
              "52          1     8       1  -7.7  -3.9       -3.8  95.7  0.0      0.5   0.03   \n",
              "53          1     8       1  -7.7  -3.8       -3.9  95.5  0.0      0.5   0.06   \n",
              "...       ...   ...     ...   ...   ...        ...   ...  ...      ...    ...   \n",
              "173388      4     2       4  14.1  14.7       -0.6  92.3  0.0      3.6   0.00   \n",
              "180868      6     0       4  19.0  20.3       -1.3  90.5  0.0      1.9   0.00   \n",
              "186951      7     6       4  24.0  24.4       -0.4  96.6  1.0      4.4   0.00   \n",
              "195834      9    23       4  21.4  20.2        1.2  81.9  0.0      1.5   0.00   \n",
              "195838      9    23       4  21.2  19.9        1.3  81.3  0.0      1.2   0.00   \n",
              "\n",
              "        dew_reached      t_td  ws10_deg  \n",
              "42                0  0.546824     279.3  \n",
              "48                0  0.415527     278.0  \n",
              "51                0  0.492431      54.3  \n",
              "52                0  0.544899     112.2  \n",
              "53                0  0.570770      56.7  \n",
              "...             ...       ...       ...  \n",
              "173388            0  1.191006     221.4  \n",
              "180868            0  1.540904     100.0  \n",
              "186951            0  0.557479     158.2  \n",
              "195834            0  3.121637     259.8  \n",
              "195838            0  3.230107     300.4  \n",
              "\n",
              "[1066 rows x 13 columns]"
            ]
          },
          "execution_count": 121,
          "metadata": {},
          "output_type": "execute_result"
        }
      ],
      "source": [
        "X_test_cl"
      ]
    },
    {
      "cell_type": "code",
      "execution_count": 120,
      "metadata": {},
      "outputs": [
        {
          "data": {
            "text/html": [
              "<div>\n",
              "<style scoped>\n",
              "    .dataframe tbody tr th:only-of-type {\n",
              "        vertical-align: middle;\n",
              "    }\n",
              "\n",
              "    .dataframe tbody tr th {\n",
              "        vertical-align: top;\n",
              "    }\n",
              "\n",
              "    .dataframe thead th {\n",
              "        text-align: right;\n",
              "    }\n",
              "</style>\n",
              "<table border=\"1\" class=\"dataframe\">\n",
              "  <thead>\n",
              "    <tr style=\"text-align: right;\">\n",
              "      <th></th>\n",
              "      <th>month</th>\n",
              "      <th>time</th>\n",
              "      <th>stn_id</th>\n",
              "      <th>ta</th>\n",
              "      <th>ts</th>\n",
              "      <th>temp_diff</th>\n",
              "      <th>hm</th>\n",
              "      <th>re</th>\n",
              "      <th>ws10_ms</th>\n",
              "      <th>sun10</th>\n",
              "      <th>dew_reached</th>\n",
              "      <th>t_td</th>\n",
              "      <th>ws10_deg</th>\n",
              "    </tr>\n",
              "  </thead>\n",
              "  <tbody>\n",
              "  </tbody>\n",
              "</table>\n",
              "</div>"
            ],
            "text/plain": [
              "Empty DataFrame\n",
              "Columns: [month, time, stn_id, ta, ts, temp_diff, hm, re, ws10_ms, sun10, dew_reached, t_td, ws10_deg]\n",
              "Index: []"
            ]
          },
          "execution_count": 120,
          "metadata": {},
          "output_type": "execute_result"
        }
      ],
      "source": [
        "X_test_cl[X_test_cl[\"stn_id\"]==3]"
      ]
    },
    {
      "cell_type": "code",
      "execution_count": 114,
      "metadata": {},
      "outputs": [],
      "source": [
        "y_train_cl = y_train.loc[rf_y_train_pred_idx]\n",
        "y_val_cl = y_val.loc[rf_y_val_pred_idx]\n",
        "# y_test_cl = y_test_binary.loc[rf_y_test_pred_idx]"
      ]
    },
    {
      "cell_type": "code",
      "execution_count": 99,
      "metadata": {},
      "outputs": [],
      "source": [
        "def class_rf(X_train_cl, y_train_cl, X_val_cl, y_val_cl, X_test_cl):\n",
        "    stn_list = range(1, 6)\n",
        "\n",
        "    X_val_cl_sorted = X_val_cl.sort_values('stn_id')\n",
        "    y_val_cl_sorted = y_val_cl.loc[X_val_cl_sorted.index]\n",
        "\n",
        "    y_train_pred_df = pd.Series(index=X_train_cl.index, dtype=int)\n",
        "    y_val_pred_df = pd.Series(index=X_val_cl.index, dtype=int)\n",
        "    y_test_pred_df = pd.Series(index=X_test_cl.index, dtype=int)\n",
        "\n",
        "    models = {i: RandomForestClassifier(random_state=42) for i in stn_list}\n",
        "\n",
        "    for i in stn_list:\n",
        "        now_idx_train = X_train_cl[X_train_cl['stn_id'] == i].index\n",
        "        now_idx_val = X_val_cl_sorted[X_val_cl_sorted['stn_id'] == i].index\n",
        "        now_idx_test = X_test_cl[X_test_cl['stn_id'] == i].index\n",
        "\n",
        "        # Check if there are samples for the current stn_id\n",
        "        if len(now_idx_train) == 0 or len(now_idx_val) == 0 or len(now_idx_test) == 0:\n",
        "            print(f\"No samples found for stn_id {i} in one of the datasets, skipping...\")\n",
        "            continue\n",
        "\n",
        "        models[i].fit(X_train_cl.loc[now_idx_train], y_train_cl.loc[now_idx_train])\n",
        "\n",
        "        y_train_pred_now = models[i].predict(X_train_cl.loc[now_idx_train])\n",
        "        y_val_pred_now = models[i].predict(X_val_cl_sorted.loc[now_idx_val])\n",
        "        y_test_pred_now = models[i].predict(X_test_cl.loc[now_idx_test])\n",
        "\n",
        "        y_train_pred_df.loc[now_idx_train] = y_train_pred_now\n",
        "        y_val_pred_df.loc[now_idx_val] = y_val_pred_now\n",
        "        y_test_pred_df.loc[now_idx_test] = y_test_pred_now\n",
        "\n",
        "    return y_train_pred_df, y_val_pred_df, y_test_pred_df"
      ]
    },
    {
      "cell_type": "code",
      "execution_count": 100,
      "metadata": {},
      "outputs": [
        {
          "name": "stdout",
          "output_type": "stream",
          "text": [
            "No samples found for stn_id 3 in one of the datasets, skipping...\n",
            "No samples found for stn_id 5 in one of the datasets, skipping...\n"
          ]
        }
      ],
      "source": [
        "y_train_pred_cl, y_val_pred_cl, y_test_pred_cl = class_rf(X_train_cl, y_train_cl, X_val_cl, y_val_cl, X_test_cl)"
      ]
    },
    {
      "cell_type": "code",
      "execution_count": 103,
      "metadata": {},
      "outputs": [
        {
          "data": {
            "text/plain": [
              "178        1\n",
              "200        2\n",
              "282        3\n",
              "342        1\n",
              "495        2\n",
              "          ..\n",
              "2348412    3\n",
              "2348565    1\n",
              "2349062    3\n",
              "2349193    3\n",
              "2350022    2\n",
              "Name: class, Length: 24074, dtype: int64"
            ]
          },
          "execution_count": 103,
          "metadata": {},
          "output_type": "execute_result"
        }
      ],
      "source": [
        "y_train_cl"
      ]
    },
    {
      "cell_type": "code",
      "execution_count": 108,
      "metadata": {},
      "outputs": [
        {
          "data": {
            "text/plain": [
              "178        1.0\n",
              "200        2.0\n",
              "282        3.0\n",
              "342        NaN\n",
              "495        2.0\n",
              "          ... \n",
              "2348412    3.0\n",
              "2348565    NaN\n",
              "2349062    3.0\n",
              "2349193    3.0\n",
              "2350022    2.0\n",
              "Length: 24074, dtype: float64"
            ]
          },
          "execution_count": 108,
          "metadata": {},
          "output_type": "execute_result"
        }
      ],
      "source": [
        "y_train_pred_cl"
      ]
    },
    {
      "cell_type": "code",
      "execution_count": 106,
      "metadata": {},
      "outputs": [
        {
          "data": {
            "text/plain": [
              "42        1.0\n",
              "48        2.0\n",
              "51        1.0\n",
              "52        2.0\n",
              "53        2.0\n",
              "         ... \n",
              "173388    1.0\n",
              "180868    3.0\n",
              "186951    3.0\n",
              "195834    2.0\n",
              "195838    2.0\n",
              "Length: 1066, dtype: float64"
            ]
          },
          "execution_count": 106,
          "metadata": {},
          "output_type": "execute_result"
        }
      ],
      "source": [
        "y_test_pred_cl"
      ]
    },
    {
      "cell_type": "code",
      "execution_count": null,
      "metadata": {},
      "outputs": [],
      "source": []
    },
    {
      "cell_type": "code",
      "execution_count": 94,
      "metadata": {},
      "outputs": [],
      "source": [
        "def class_rf(X_train_cl, y_train_cl, X_val_cl, y_val_cl, X_test_cl):\n",
        "    stn_list = range(1, 6)\n",
        "\n",
        "    X_val_cl_sorted = X_val_cl.sort_values('stn_id')\n",
        "    y_val_cl_sorted = y_val_cl.loc[X_val_cl_sorted.index]\n",
        "\n",
        "    y_train_pred_df = pd.Series(index=X_train_cl.index, dtype=int)\n",
        "    y_val_pred_df = pd.Series(index=X_val_cl.index, dtype=int)\n",
        "    y_test_pred_df = pd.Series(index=X_test_cl.index, dtype=int)\n",
        "\n",
        "    models = {i: RandomForestClassifier(random_state=42) for i in stn_list}\n",
        "\n",
        "    for i in stn_list:\n",
        "        now_idx_train = X_train_cl[X_train_cl['stn_id'] == i].index\n",
        "        now_idx_val = X_val_cl_sorted[X_val_cl_sorted['stn_id'] == i].index\n",
        "        now_idx_test = X_test_cl[X_test_cl['stn_id'] == i].index\n",
        "\n",
        "        # Check if there are samples for the current stn_id\n",
        "        if len(now_idx_train) == 0 or len(now_idx_val) == 0 or len(now_idx_test) == 0:\n",
        "            print(f\"No samples found for stn_id {i} in one of the datasets, skipping...\")\n",
        "            continue\n",
        "\n",
        "        models[i].fit(X_train_cl.loc[now_idx_train], y_train_cl.loc[now_idx_train])\n",
        "\n",
        "        y_train_pred_now = models[i].predict(X_train_cl.loc[now_idx_train])\n",
        "        y_val_pred_now = models[i].predict(X_val_cl_sorted.loc[now_idx_val])\n",
        "        y_test_pred_now = models[i].predict(X_test_cl.loc[now_idx_test])\n",
        "\n",
        "        y_train_pred_df.loc[now_idx_train] = y_train_pred_now\n",
        "        y_val_pred_df.loc[now_idx_val] = y_val_pred_now\n",
        "        y_test_pred_df.loc[now_idx_test] = y_test_pred_now\n",
        "\n",
        "    return y_train_pred_df, y_val_pred_df, y_test_pred_df"
      ]
    },
    {
      "cell_type": "code",
      "execution_count": 95,
      "metadata": {},
      "outputs": [
        {
          "name": "stdout",
          "output_type": "stream",
          "text": [
            "No samples found for stn_id 3 in one of the datasets, skipping...\n",
            "No samples found for stn_id 5 in one of the datasets, skipping...\n"
          ]
        }
      ],
      "source": [
        "y_train_pred_cl, y_val_pred_cl, y_test_pred_cl = class_rf(X_train_cl, y_train_cl, X_val_cl, y_val_cl, X_test_cl)"
      ]
    },
    {
      "cell_type": "code",
      "execution_count": 116,
      "metadata": {},
      "outputs": [
        {
          "data": {
            "text/html": [
              "<div>\n",
              "<style scoped>\n",
              "    .dataframe tbody tr th:only-of-type {\n",
              "        vertical-align: middle;\n",
              "    }\n",
              "\n",
              "    .dataframe tbody tr th {\n",
              "        vertical-align: top;\n",
              "    }\n",
              "\n",
              "    .dataframe thead th {\n",
              "        text-align: right;\n",
              "    }\n",
              "</style>\n",
              "<table border=\"1\" class=\"dataframe\">\n",
              "  <thead>\n",
              "    <tr style=\"text-align: right;\">\n",
              "      <th></th>\n",
              "      <th>month</th>\n",
              "      <th>time</th>\n",
              "      <th>stn_id</th>\n",
              "      <th>ta</th>\n",
              "      <th>ts</th>\n",
              "      <th>temp_diff</th>\n",
              "      <th>hm</th>\n",
              "      <th>re</th>\n",
              "      <th>ws10_ms</th>\n",
              "      <th>sun10</th>\n",
              "      <th>dew_reached</th>\n",
              "      <th>t_td</th>\n",
              "      <th>ws10_deg</th>\n",
              "    </tr>\n",
              "  </thead>\n",
              "  <tbody>\n",
              "    <tr>\n",
              "      <th>178</th>\n",
              "      <td>2</td>\n",
              "      <td>7</td>\n",
              "      <td>1</td>\n",
              "      <td>5.000000</td>\n",
              "      <td>1.200000</td>\n",
              "      <td>3.8</td>\n",
              "      <td>98.3</td>\n",
              "      <td>0.000000</td>\n",
              "      <td>0.6</td>\n",
              "      <td>0.000000</td>\n",
              "      <td>1</td>\n",
              "      <td>0.237423</td>\n",
              "      <td>268.5</td>\n",
              "    </tr>\n",
              "    <tr>\n",
              "      <th>200</th>\n",
              "      <td>12</td>\n",
              "      <td>6</td>\n",
              "      <td>2</td>\n",
              "      <td>-1.800000</td>\n",
              "      <td>-0.100000</td>\n",
              "      <td>-1.7</td>\n",
              "      <td>92.5</td>\n",
              "      <td>0.000000</td>\n",
              "      <td>0.0</td>\n",
              "      <td>0.000000</td>\n",
              "      <td>0</td>\n",
              "      <td>1.015562</td>\n",
              "      <td>0.0</td>\n",
              "    </tr>\n",
              "    <tr>\n",
              "      <th>282</th>\n",
              "      <td>10</td>\n",
              "      <td>4</td>\n",
              "      <td>1</td>\n",
              "      <td>19.100000</td>\n",
              "      <td>19.200000</td>\n",
              "      <td>-0.1</td>\n",
              "      <td>98.8</td>\n",
              "      <td>0.000000</td>\n",
              "      <td>0.0</td>\n",
              "      <td>0.000000</td>\n",
              "      <td>0</td>\n",
              "      <td>0.187512</td>\n",
              "      <td>0.0</td>\n",
              "    </tr>\n",
              "    <tr>\n",
              "      <th>342</th>\n",
              "      <td>7</td>\n",
              "      <td>4</td>\n",
              "      <td>5</td>\n",
              "      <td>23.400000</td>\n",
              "      <td>23.800000</td>\n",
              "      <td>-0.4</td>\n",
              "      <td>99.9</td>\n",
              "      <td>0.000000</td>\n",
              "      <td>2.0</td>\n",
              "      <td>0.000000</td>\n",
              "      <td>0</td>\n",
              "      <td>0.016083</td>\n",
              "      <td>40.6</td>\n",
              "    </tr>\n",
              "    <tr>\n",
              "      <th>495</th>\n",
              "      <td>8</td>\n",
              "      <td>3</td>\n",
              "      <td>2</td>\n",
              "      <td>16.200000</td>\n",
              "      <td>19.100000</td>\n",
              "      <td>-2.9</td>\n",
              "      <td>98.3</td>\n",
              "      <td>0.000000</td>\n",
              "      <td>0.8</td>\n",
              "      <td>0.000000</td>\n",
              "      <td>0</td>\n",
              "      <td>0.260173</td>\n",
              "      <td>317.6</td>\n",
              "    </tr>\n",
              "    <tr>\n",
              "      <th>...</th>\n",
              "      <td>...</td>\n",
              "      <td>...</td>\n",
              "      <td>...</td>\n",
              "      <td>...</td>\n",
              "      <td>...</td>\n",
              "      <td>...</td>\n",
              "      <td>...</td>\n",
              "      <td>...</td>\n",
              "      <td>...</td>\n",
              "      <td>...</td>\n",
              "      <td>...</td>\n",
              "      <td>...</td>\n",
              "      <td>...</td>\n",
              "    </tr>\n",
              "    <tr>\n",
              "      <th>2348412</th>\n",
              "      <td>1</td>\n",
              "      <td>20</td>\n",
              "      <td>2</td>\n",
              "      <td>2.200000</td>\n",
              "      <td>0.600000</td>\n",
              "      <td>1.6</td>\n",
              "      <td>95.5</td>\n",
              "      <td>0.034447</td>\n",
              "      <td>0.3</td>\n",
              "      <td>0.000000</td>\n",
              "      <td>1</td>\n",
              "      <td>0.621706</td>\n",
              "      <td>135.6</td>\n",
              "    </tr>\n",
              "    <tr>\n",
              "      <th>2348565</th>\n",
              "      <td>6</td>\n",
              "      <td>3</td>\n",
              "      <td>5</td>\n",
              "      <td>22.500000</td>\n",
              "      <td>22.900000</td>\n",
              "      <td>-0.4</td>\n",
              "      <td>99.9</td>\n",
              "      <td>0.000000</td>\n",
              "      <td>3.4</td>\n",
              "      <td>0.136851</td>\n",
              "      <td>0</td>\n",
              "      <td>0.015971</td>\n",
              "      <td>216.8</td>\n",
              "    </tr>\n",
              "    <tr>\n",
              "      <th>2349062</th>\n",
              "      <td>12</td>\n",
              "      <td>8</td>\n",
              "      <td>2</td>\n",
              "      <td>-18.200000</td>\n",
              "      <td>0.783418</td>\n",
              "      <td>81.7</td>\n",
              "      <td>77.5</td>\n",
              "      <td>0.000000</td>\n",
              "      <td>0.0</td>\n",
              "      <td>0.010000</td>\n",
              "      <td>1</td>\n",
              "      <td>2.842773</td>\n",
              "      <td>0.0</td>\n",
              "    </tr>\n",
              "    <tr>\n",
              "      <th>2349193</th>\n",
              "      <td>11</td>\n",
              "      <td>20</td>\n",
              "      <td>4</td>\n",
              "      <td>10.300000</td>\n",
              "      <td>10.400000</td>\n",
              "      <td>-0.1</td>\n",
              "      <td>97.7</td>\n",
              "      <td>0.000000</td>\n",
              "      <td>0.0</td>\n",
              "      <td>0.064884</td>\n",
              "      <td>0</td>\n",
              "      <td>0.336513</td>\n",
              "      <td>0.0</td>\n",
              "    </tr>\n",
              "    <tr>\n",
              "      <th>2350022</th>\n",
              "      <td>9</td>\n",
              "      <td>6</td>\n",
              "      <td>2</td>\n",
              "      <td>18.464966</td>\n",
              "      <td>21.433541</td>\n",
              "      <td>0.0</td>\n",
              "      <td>99.9</td>\n",
              "      <td>0.000000</td>\n",
              "      <td>0.6</td>\n",
              "      <td>0.000000</td>\n",
              "      <td>0</td>\n",
              "      <td>0.004369</td>\n",
              "      <td>339.9</td>\n",
              "    </tr>\n",
              "  </tbody>\n",
              "</table>\n",
              "<p>24074 rows × 13 columns</p>\n",
              "</div>"
            ],
            "text/plain": [
              "         month  time  stn_id         ta         ts  temp_diff    hm        re  \\\n",
              "178          2     7       1   5.000000   1.200000        3.8  98.3  0.000000   \n",
              "200         12     6       2  -1.800000  -0.100000       -1.7  92.5  0.000000   \n",
              "282         10     4       1  19.100000  19.200000       -0.1  98.8  0.000000   \n",
              "342          7     4       5  23.400000  23.800000       -0.4  99.9  0.000000   \n",
              "495          8     3       2  16.200000  19.100000       -2.9  98.3  0.000000   \n",
              "...        ...   ...     ...        ...        ...        ...   ...       ...   \n",
              "2348412      1    20       2   2.200000   0.600000        1.6  95.5  0.034447   \n",
              "2348565      6     3       5  22.500000  22.900000       -0.4  99.9  0.000000   \n",
              "2349062     12     8       2 -18.200000   0.783418       81.7  77.5  0.000000   \n",
              "2349193     11    20       4  10.300000  10.400000       -0.1  97.7  0.000000   \n",
              "2350022      9     6       2  18.464966  21.433541        0.0  99.9  0.000000   \n",
              "\n",
              "         ws10_ms     sun10  dew_reached      t_td  ws10_deg  \n",
              "178          0.6  0.000000            1  0.237423     268.5  \n",
              "200          0.0  0.000000            0  1.015562       0.0  \n",
              "282          0.0  0.000000            0  0.187512       0.0  \n",
              "342          2.0  0.000000            0  0.016083      40.6  \n",
              "495          0.8  0.000000            0  0.260173     317.6  \n",
              "...          ...       ...          ...       ...       ...  \n",
              "2348412      0.3  0.000000            1  0.621706     135.6  \n",
              "2348565      3.4  0.136851            0  0.015971     216.8  \n",
              "2349062      0.0  0.010000            1  2.842773       0.0  \n",
              "2349193      0.0  0.064884            0  0.336513       0.0  \n",
              "2350022      0.6  0.000000            0  0.004369     339.9  \n",
              "\n",
              "[24074 rows x 13 columns]"
            ]
          },
          "execution_count": 116,
          "metadata": {},
          "output_type": "execute_result"
        }
      ],
      "source": [
        "X_train_cl"
      ]
    },
    {
      "cell_type": "code",
      "execution_count": 96,
      "metadata": {},
      "outputs": [
        {
          "data": {
            "text/plain": [
              "178        1.0\n",
              "200        2.0\n",
              "282        3.0\n",
              "342        NaN\n",
              "495        2.0\n",
              "          ... \n",
              "2348412    3.0\n",
              "2348565    NaN\n",
              "2349062    3.0\n",
              "2349193    3.0\n",
              "2350022    2.0\n",
              "Length: 24074, dtype: float64"
            ]
          },
          "execution_count": 96,
          "metadata": {},
          "output_type": "execute_result"
        }
      ],
      "source": [
        "y_train_pred_cl"
      ]
    },
    {
      "cell_type": "code",
      "execution_count": null,
      "metadata": {},
      "outputs": [],
      "source": []
    },
    {
      "cell_type": "code",
      "execution_count": 122,
      "metadata": {},
      "outputs": [],
      "source": [
        "# stn_id별로 모델 X\n",
        "\n",
        "def class_rf(X_train_cl, y_train_cl, X_val_cl, y_val_cl, X_test_cl):\n",
        "    # Initialize RandomForestClassifier\n",
        "    model = RandomForestClassifier(random_state=42)\n",
        "\n",
        "    # Fit the model on the entire training data\n",
        "    model.fit(X_train_cl, y_train_cl)\n",
        "\n",
        "    # Predict on the training data\n",
        "    y_train_pred = model.predict(X_train_cl)\n",
        "    \n",
        "    # Predict on the validation data\n",
        "    y_val_pred = model.predict(X_val_cl)\n",
        "    \n",
        "    # Predict on the test data\n",
        "    y_test_pred = model.predict(X_test_cl)\n",
        "\n",
        "    # Convert predictions to Series with the original index\n",
        "    y_train_pred_df = pd.Series(y_train_pred, index=X_train_cl.index)\n",
        "    y_val_pred_df = pd.Series(y_val_pred, index=X_val_cl.index)\n",
        "    y_test_pred_df = pd.Series(y_test_pred, index=X_test_cl.index)\n",
        "\n",
        "    return y_train_pred_df, y_val_pred_df, y_test_pred_df"
      ]
    },
    {
      "cell_type": "code",
      "execution_count": 123,
      "metadata": {},
      "outputs": [],
      "source": [
        "y_train_pred_cl, y_val_pred_cl, y_test_pred_cl = class_rf(X_train_cl, y_train_cl, X_val_cl, y_val_cl, X_test_cl)"
      ]
    },
    {
      "cell_type": "code",
      "execution_count": 130,
      "metadata": {},
      "outputs": [
        {
          "data": {
            "text/plain": [
              "0"
            ]
          },
          "execution_count": 130,
          "metadata": {},
          "output_type": "execute_result"
        }
      ],
      "source": [
        "y_val_pred_cl.isnull().sum()"
      ]
    },
    {
      "cell_type": "code",
      "execution_count": 131,
      "metadata": {},
      "outputs": [
        {
          "data": {
            "text/plain": [
              "0"
            ]
          },
          "execution_count": 131,
          "metadata": {},
          "output_type": "execute_result"
        }
      ],
      "source": [
        "y_test_pred_cl.isnull().sum()"
      ]
    },
    {
      "cell_type": "code",
      "execution_count": 132,
      "metadata": {},
      "outputs": [],
      "source": [
        "rf_y_val_pred_idx_zero = y_val_pred_rf[y_val_pred_rf==0].index\n",
        "rf_y_test_pred_idx_zero = y_test_pred_rf[y_test_pred_rf==0].index"
      ]
    },
    {
      "cell_type": "code",
      "execution_count": 139,
      "metadata": {},
      "outputs": [
        {
          "data": {
            "text/plain": [
              "50        2\n",
              "287       1\n",
              "324       3\n",
              "345       2\n",
              "639       1\n",
              "         ..\n",
              "779928    3\n",
              "780608    1\n",
              "780901    2\n",
              "781445    2\n",
              "781555    3\n",
              "Length: 4405, dtype: int64"
            ]
          },
          "execution_count": 139,
          "metadata": {},
          "output_type": "execute_result"
        }
      ],
      "source": [
        "y_val_pred_cl"
      ]
    },
    {
      "cell_type": "code",
      "execution_count": 138,
      "metadata": {},
      "outputs": [
        {
          "data": {
            "text/plain": [
              "Index([     0,      1,      2,      3,      4,      5,      6,      7,      8,\n",
              "            9,\n",
              "       ...\n",
              "       783476, 783477, 783478, 783479, 783480, 783481, 783482, 783483, 783484,\n",
              "       783485],\n",
              "      dtype='int64', length=779081)"
            ]
          },
          "execution_count": 138,
          "metadata": {},
          "output_type": "execute_result"
        }
      ],
      "source": [
        "rf_y_val_pred_idx_zero"
      ]
    },
    {
      "cell_type": "code",
      "execution_count": 144,
      "metadata": {},
      "outputs": [],
      "source": [
        "y_val_cl_zero = y_val.loc[rf_y_val_pred_idx_zero]"
      ]
    },
    {
      "cell_type": "code",
      "execution_count": 145,
      "metadata": {},
      "outputs": [
        {
          "data": {
            "text/plain": [
              "0         4\n",
              "1         4\n",
              "2         4\n",
              "3         4\n",
              "4         4\n",
              "         ..\n",
              "783481    4\n",
              "783482    4\n",
              "783483    4\n",
              "783484    4\n",
              "783485    4\n",
              "Name: class, Length: 779081, dtype: int64"
            ]
          },
          "execution_count": 145,
          "metadata": {},
          "output_type": "execute_result"
        }
      ],
      "source": [
        "y_val_cl_zero"
      ]
    },
    {
      "cell_type": "code",
      "execution_count": 148,
      "metadata": {},
      "outputs": [],
      "source": [
        "y_val_final = pd.concat([y_val_cl_zero, y_val_pred_cl], axis=0).sort_index()"
      ]
    },
    {
      "cell_type": "code",
      "execution_count": 149,
      "metadata": {},
      "outputs": [
        {
          "data": {
            "text/plain": [
              "0         4\n",
              "1         4\n",
              "2         4\n",
              "3         4\n",
              "4         4\n",
              "         ..\n",
              "783481    4\n",
              "783482    4\n",
              "783483    4\n",
              "783484    4\n",
              "783485    4\n",
              "Length: 783486, dtype: int64"
            ]
          },
          "execution_count": 149,
          "metadata": {},
          "output_type": "execute_result"
        }
      ],
      "source": [
        "y_val_final"
      ]
    },
    {
      "cell_type": "code",
      "execution_count": 150,
      "metadata": {},
      "outputs": [
        {
          "data": {
            "text/plain": [
              "0         4\n",
              "1         4\n",
              "2         4\n",
              "3         4\n",
              "4         4\n",
              "         ..\n",
              "783481    4\n",
              "783482    4\n",
              "783483    4\n",
              "783484    4\n",
              "783485    4\n",
              "Name: class, Length: 783486, dtype: int64"
            ]
          },
          "execution_count": 150,
          "metadata": {},
          "output_type": "execute_result"
        }
      ],
      "source": [
        "y_val"
      ]
    },
    {
      "cell_type": "code",
      "execution_count": 151,
      "metadata": {},
      "outputs": [
        {
          "data": {
            "text/plain": [
              "0.8024113309141988"
            ]
          },
          "execution_count": 151,
          "metadata": {},
          "output_type": "execute_result"
        }
      ],
      "source": [
        "csi_index(y_val,y_val_final)"
      ]
    },
    {
      "cell_type": "code",
      "execution_count": 153,
      "metadata": {},
      "outputs": [
        {
          "data": {
            "text/plain": [
              "array([[  1607,    330,     30,      0],\n",
              "       [   248,   2542,    232,      0],\n",
              "       [    33,    306,   2706,      0],\n",
              "       [    59,    193,    257, 774943]], dtype=int64)"
            ]
          },
          "execution_count": 153,
          "metadata": {},
          "output_type": "execute_result"
        }
      ],
      "source": [
        "confusion_matrix(y_val, y_val_final)"
      ]
    },
    {
      "cell_type": "code",
      "execution_count": null,
      "metadata": {},
      "outputs": [],
      "source": []
    }
  ],
  "metadata": {
    "accelerator": "GPU",
    "colab": {
      "gpuType": "T4",
      "machine_shape": "hm",
      "provenance": [],
      "toc_visible": true
    },
    "kernelspec": {
      "display_name": "Python 3",
      "name": "python3"
    },
    "language_info": {
      "codemirror_mode": {
        "name": "ipython",
        "version": 3
      },
      "file_extension": ".py",
      "mimetype": "text/x-python",
      "name": "python",
      "nbconvert_exporter": "python",
      "pygments_lexer": "ipython3",
      "version": "3.11.0"
    }
  },
  "nbformat": 4,
  "nbformat_minor": 0
}
