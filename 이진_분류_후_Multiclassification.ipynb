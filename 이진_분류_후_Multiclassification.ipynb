{
  "cells": [
    {
      "cell_type": "markdown",
      "metadata": {
        "id": "rZf7AOw2z0u8"
      },
      "source": [
        "# 이진 분류 후 Multiclassification"
      ]
    },
    {
      "cell_type": "code",
      "execution_count": 1,
      "metadata": {
        "id": "9aFvJzLZzzEl"
      },
      "outputs": [],
      "source": [
        "import os\n",
        "\n",
        "import numpy as np\n",
        "import pandas as pd\n",
        "import matplotlib.pyplot as plt\n",
        "import seaborn as sns\n",
        "%matplotlib inline\n",
        "\n",
        "import pickle\n",
        "import optuna\n",
        "from optuna.samplers import TPESampler\n",
        "# from optuna.integration import CatBoostPruningCallback\n",
        "\n",
        "from sklearn import metrics\n",
        "from sklearn.tree import DecisionTreeClassifier\n",
        "from sklearn.ensemble import RandomForestClassifier\n",
        "# from xgboost import XGBClassifier\n",
        "# from lightgbm import LGBMClassifier\n",
        "from catboost import Pool, CatBoostClassifier\n",
        "# from sklearn.naive_bayes import GaussianNB\n",
        "\n",
        "from sklearn.model_selection import train_test_split\n",
        "\n",
        "# from sklearn.preprocessing import TargetEncoder\n",
        "from sklearn.preprocessing import LabelEncoder\n",
        "\n",
        "from sklearn.metrics import accuracy_score\n",
        "from sklearn.metrics import precision_score\n",
        "from sklearn.metrics import recall_score\n",
        "from sklearn.metrics import f1_score\n",
        "from sklearn.metrics import confusion_matrix\n",
        "from sklearn.metrics import classification_report\n",
        "from sklearn.metrics import make_scorer\n",
        "\n",
        "import warnings\n",
        "warnings.filterwarnings(action='ignore')\n",
        "\n",
        "pd.set_option(\"display.max_columns\", None)"
      ]
    },
    {
      "cell_type": "markdown",
      "metadata": {},
      "source": [
        "## 1. 데이터 불러오기"
      ]
    },
    {
      "cell_type": "code",
      "execution_count": 2,
      "metadata": {
        "id": "QkUSHGnl0DyP"
      },
      "outputs": [],
      "source": [
        "def get_local_path(train_dataset_name, val_dataset_name, test_dataset_name):\n",
        "\n",
        "    # 작업 디렉토리 origin_dir에 선언\n",
        "    origin_dir = os.getcwd()\n",
        "\n",
        "    # \"..\" : 상위 디렉토리로 이동\n",
        "    os.chdir(\"..\")\n",
        "\n",
        "    # 상위 디렉토리에 fog_data가 없다면 fog_data 폴더 생성\n",
        "    # (이미 폴더 있어도 exist_ok=True면 넘어감)\n",
        "    os.makedirs(\"fog_data\", exist_ok=True)\n",
        "\n",
        "    # train/test 데이터셋 경로 잡아준다\n",
        "    train_path = os.path.join(os.getcwd(), \"fog_data\", train_dataset_name)\n",
        "    val_path = os.path.join(os.getcwd(), \"fog_data\", val_dataset_name)\n",
        "    test_path = os.path.join(os.getcwd(), \"fog_data\", test_dataset_name)\n",
        "\n",
        "    # 운영체제가 윈도우일 경우, \"\\\\\"를 \"/\"로 바꿔줘야 한다\n",
        "    if os.name == \"nt\":\n",
        "        train_path = train_path.replace(\"\\\\\", \"/\")\n",
        "        val_path = val_path.replace(\"\\\\\", \"/\")\n",
        "        test_path = test_path.replace(\"\\\\\", \"/\")\n",
        "\n",
        "    # origin_dir로 경로 다시 변경 (초기화)\n",
        "    os.chdir(origin_dir)\n",
        "\n",
        "    return train_path, val_path, test_path"
      ]
    },
    {
      "cell_type": "code",
      "execution_count": 3,
      "metadata": {
        "id": "5AQeBVkd0V4h"
      },
      "outputs": [],
      "source": [
        "# 전처리 중간에 nan 제거해주고 이상치 처리한 데이터프레임\n",
        "train_path, val_path, test_path = get_local_path(\n",
        "    # \"fog_train_merged_std.csv\",\n",
        "    # \"fog_val_merged_std.csv\",\n",
        "    # \"fog_test_merged_std.csv\"\n",
        "    \"fog_train_merged_month_stn_std.csv\",\n",
        "    \"fog_val_merged_month_stn_std.csv\",\n",
        "    \"fog_test_merged_month_stn_std.csv\"\n",
        "    )"
      ]
    },
    {
      "cell_type": "code",
      "execution_count": 4,
      "metadata": {
        "id": "vd_iiwo80Xje"
      },
      "outputs": [],
      "source": [
        "train_df = pd.read_csv(train_path)\n",
        "val_df = pd.read_csv(val_path)\n",
        "test_df = pd.read_csv(test_path)"
      ]
    },
    {
      "cell_type": "markdown",
      "metadata": {
        "id": "4Kpxpv65Jpt_"
      },
      "source": [
        "## 2. Preprocessing"
      ]
    },
    {
      "cell_type": "markdown",
      "metadata": {},
      "source": [
        "### 2-1. 결측치 처리"
      ]
    },
    {
      "cell_type": "code",
      "execution_count": 5,
      "metadata": {},
      "outputs": [],
      "source": [
        "# train, val, test 데이터셋에서 -99, -99.9 포함한 컬럼 확인\n",
        "train_cols_na = train_df.columns[train_df.isna().any()].tolist()\n",
        "val_cols_na = val_df.columns[val_df.isna().any()].tolist()\n",
        "test_cols_na = test_df.columns[test_df.isna().any()].tolist()"
      ]
    },
    {
      "cell_type": "code",
      "execution_count": 6,
      "metadata": {
        "id": "cct5G6UHHp9V"
      },
      "outputs": [],
      "source": [
        "# 결측치 대체 함수\n",
        "def fill_missing_values_with_monthly_mean(df, na_columns):\n",
        "\n",
        "    df_filled = df.copy()\n",
        "\n",
        "    # month, stn_id로 groupby 한 후 na_columns별로 각각 평균을 구한다\n",
        "    grouped_means = df.groupby(['month', 'stn_id'])[na_columns].transform('mean')\n",
        "\n",
        "    # na_columns별 결측치를 각 컬럼들의 평균로 대체한다\n",
        "    for column in na_columns:\n",
        "        df_filled[column] = df_filled[column].fillna(grouped_means[column])\n",
        "\n",
        "    return df_filled"
      ]
    },
    {
      "cell_type": "code",
      "execution_count": 7,
      "metadata": {
        "id": "SBURx0uX_IPz"
      },
      "outputs": [],
      "source": [
        "# 결측치 대체 처리 (month, stn_id별 각 컬럼의 평균으로 대체)\n",
        "train_df = fill_missing_values_with_monthly_mean(train_df, train_cols_na)\n",
        "val_df = fill_missing_values_with_monthly_mean(val_df, val_cols_na)\n",
        "test_df = fill_missing_values_with_monthly_mean(test_df, test_cols_na)"
      ]
    },
    {
      "cell_type": "markdown",
      "metadata": {
        "id": "GfCmvCiz2_dQ"
      },
      "source": [
        "### 2-2. train, val, test 데이터셋 분리"
      ]
    },
    {
      "cell_type": "code",
      "execution_count": 8,
      "metadata": {
        "id": "qCfzYL4cmusa"
      },
      "outputs": [],
      "source": [
        "# 이진 분류시 사용할 train, validation, test 데이터셋 선언\n",
        "\n",
        "# target 컬럼\n",
        "target_binary = \"is_fog\"\n",
        "\n",
        "# 모델 생성시 사용할 컬럼 선택\n",
        "used_cols_binary = [\"month\", \"time\", \"stn_id\", \"ta\", \"ts\", \"temp_diff\", \"hm\",\n",
        "                    \"re\", \"ws10_ms\", \"sun10\", \"dew_reached\", \"t_td\", \"ws10_deg\"]\n",
        "\n",
        "X_train_binary = train_df[used_cols_binary]\n",
        "y_train_binary = train_df[target_binary]\n",
        "\n",
        "X_val_binary = val_df[used_cols_binary]\n",
        "y_val_binary = val_df[target_binary]\n",
        "\n",
        "X_test_binary = test_df[used_cols_binary]"
      ]
    },
    {
      "cell_type": "code",
      "execution_count": 9,
      "metadata": {
        "id": "NKpivlFY10j7"
      },
      "outputs": [],
      "source": [
        "# 이진 분류 이후, multiclassification에 사용할 컬럼 지정\n",
        "\n",
        "# target 컬럼\n",
        "target_multiclassification = \"class\"\n",
        "\n",
        "# 모델 생성시 사용할 컬럼 지정\n",
        "used_cols_multiclassification = [\"month\", \"time\", \"stn_id\", \"ta\", \"ts\", \"temp_diff\", \"hm\",\n",
        "                                 \"re\", \"ws10_ms\", \"sun10\", \"dew_reached\",  \"t_td\", \"ws10_deg\"]\n",
        "\n",
        "\n",
        "X_train_mc = train_df[used_cols_multiclassification]\n",
        "y_train_mc = train_df[target_multiclassification]\n",
        "\n",
        "X_val_mc = val_df[used_cols_multiclassification]\n",
        "y_val_mc = val_df[target_multiclassification]\n",
        "\n",
        "X_test_mc = test_df[used_cols_multiclassification]"
      ]
    },
    {
      "cell_type": "code",
      "execution_count": 10,
      "metadata": {
        "colab": {
          "base_uri": "https://localhost:8080/"
        },
        "id": "xTyIcMb822xx",
        "outputId": "e17ddca5-bb9d-4e3c-ba7e-0e793f3adb3e"
      },
      "outputs": [
        {
          "data": {
            "text/plain": [
              "((2350456, 13), (783486, 13), (2350456,), (783486,), (262800, 13))"
            ]
          },
          "execution_count": 10,
          "metadata": {},
          "output_type": "execute_result"
        }
      ],
      "source": [
        "X_train_binary.shape, X_val_binary.shape, y_train_binary.shape, y_val_binary.shape, X_test_binary.shape"
      ]
    },
    {
      "cell_type": "code",
      "execution_count": 11,
      "metadata": {},
      "outputs": [
        {
          "data": {
            "text/plain": [
              "((2350456, 13), (783486, 13), (2350456,), (783486,), (262800, 13))"
            ]
          },
          "execution_count": 11,
          "metadata": {},
          "output_type": "execute_result"
        }
      ],
      "source": [
        "X_train_mc.shape, X_val_mc.shape, y_train_mc.shape, y_val_mc.shape, X_test_mc.shape"
      ]
    },
    {
      "cell_type": "markdown",
      "metadata": {
        "id": "sIvEOZXF9wSl"
      },
      "source": [
        "### 2-3. CSI Index 생성"
      ]
    },
    {
      "cell_type": "code",
      "execution_count": 12,
      "metadata": {
        "id": "Asj_GuSI9zyr"
      },
      "outputs": [],
      "source": [
        "# CSI 지수 함수 생성\n",
        "def csi_index(y_true, y_pred):\n",
        "\n",
        "    model_cm = confusion_matrix(y_true, y_pred)\n",
        "\n",
        "    H = (model_cm[0][0] + model_cm[1][1] + model_cm[2][2])\n",
        "    F = (model_cm[0][1] + model_cm[0][2] +\n",
        "            model_cm[1][0] + model_cm[1][2] +\n",
        "            model_cm[2][0] + model_cm[2][1] +\n",
        "            model_cm[3][0] + model_cm[3][1] + model_cm[3][2])\n",
        "    M = (model_cm[0][3] + model_cm[1][3] + model_cm[2][3])\n",
        "\n",
        "    model_csi = H / (H + F + M)\n",
        "\n",
        "    return model_csi\n",
        "\n",
        "csi_scorer = make_scorer(csi_index, greater_is_better=True)"
      ]
    },
    {
      "cell_type": "markdown",
      "metadata": {
        "id": "Z4rcaMNQ-edl"
      },
      "source": [
        "### 2-4. Label Encoding"
      ]
    },
    {
      "cell_type": "code",
      "execution_count": 13,
      "metadata": {
        "id": "1_g5ZhrX-g8z"
      },
      "outputs": [],
      "source": [
        "# stn_id를 각각 1 ~ 5로 정한 딕셔너리 생성\n",
        "stn_id_map = {\"A\" : 1,\n",
        "              \"B\" : 2,\n",
        "              \"C\" : 3,\n",
        "              \"D\" : 4,\n",
        "              \"E\" : 5}\n",
        "\n",
        "# stn_id_map을 바탕으로 stn_id 컬럼 mapping\n",
        "X_train_binary[\"stn_id\"] = X_train_binary[\"stn_id\"].map(stn_id_map)\n",
        "X_val_binary[\"stn_id\"] = X_val_binary[\"stn_id\"].map(stn_id_map)\n",
        "X_test_binary[\"stn_id\"] = X_test_binary[\"stn_id\"].map(stn_id_map)"
      ]
    },
    {
      "cell_type": "code",
      "execution_count": 14,
      "metadata": {},
      "outputs": [],
      "source": [
        "# stn_id_map을 바탕으로 stn_id 컬럼 mapping\n",
        "X_train_mc[\"stn_id\"] = X_train_mc[\"stn_id\"].map(stn_id_map)\n",
        "X_val_mc[\"stn_id\"] = X_val_mc[\"stn_id\"].map(stn_id_map)\n",
        "X_test_mc[\"stn_id\"] = X_test_mc[\"stn_id\"].map(stn_id_map)"
      ]
    },
    {
      "cell_type": "markdown",
      "metadata": {},
      "source": [
        "## 3. 모델링"
      ]
    },
    {
      "cell_type": "markdown",
      "metadata": {
        "id": "X1EvmxWC90zy"
      },
      "source": [
        "#### 3-1. 이진 분류 모델"
      ]
    },
    {
      "cell_type": "code",
      "execution_count": 15,
      "metadata": {},
      "outputs": [],
      "source": [
        "def binary_rf(X_train_binary, y_train_binary, X_val_binary, y_val_binary, X_test_binary):\n",
        "    stn_list = range(1, 6)\n",
        "\n",
        "    # X_val_binary 데이터셋을 stn_id에 맞게 정렬\n",
        "    X_val_binary_sorted = X_val_binary.sort_values('stn_id')\n",
        "    y_val_binary_sorted = y_val_binary.loc[X_val_binary_sorted.index]\n",
        "\n",
        "    # X_train_binary, X_val_binary, X_test_binary index로 된 Series 선언\n",
        "    y_train_pred_df = pd.Series(index=X_train_binary.index, dtype=float)\n",
        "    y_val_pred_df = pd.Series(index=X_val_binary.index, dtype=float)\n",
        "    y_test_pred_df = pd.Series(index=X_test_binary.index, dtype=float)\n",
        "\n",
        "    # Random Forest 분류 모델 생성\n",
        "    models = {i: RandomForestClassifier(max_features=\"sqrt\", \n",
        "                                        # class_weight=\"balanced\",\n",
        "                                        max_depth=50,\n",
        "                                        random_state=42) for i in stn_list}\n",
        "\n",
        "    cm_binary = {}\n",
        "\n",
        "    # 관측소별 for 문\n",
        "    for i in stn_list:\n",
        "        # 관측소 별로 해당하는 index를 train_binary 데이터에서 뽑아온다\n",
        "        now_idx_train = X_train_binary[X_train_binary['stn_id'] == i].index\n",
        "        now_idx_val = X_val_binary_sorted[X_val_binary_sorted['stn_id'] == i].index\n",
        "        now_idx_test = X_test_binary[X_test_binary['stn_id'] == i].index\n",
        "\n",
        "        # 관측소별 index에 해당하는 X_train_binary, y_train_binary 데이터로 모델 학습\n",
        "        models[i].fit(X_train_binary.loc[now_idx_train], y_train_binary.loc[now_idx_train])\n",
        "\n",
        "        # 관측소별 index에 맞게 학습한 모델로 y_train, y_val, y_test 예측한 값 선언\n",
        "        y_train_pred_now = models[i].predict(X_train_binary.loc[now_idx_train])\n",
        "        y_val_pred_now = models[i].predict(X_val_binary_sorted.loc[now_idx_val])\n",
        "        y_test_pred_now = models[i].predict(X_test_binary.loc[now_idx_test])\n",
        "\n",
        "        # 값이 비어있는 Series에 모델로 예측한 값을 index에 맞게 채워 넣는다\n",
        "        y_train_pred_df.loc[now_idx_train] = y_train_pred_now\n",
        "        y_val_pred_df.loc[now_idx_val] = y_val_pred_now\n",
        "        y_test_pred_df.loc[now_idx_test] = y_test_pred_now\n",
        "\n",
        "        # confusion matrix 생성\n",
        "        cm_binary[i] = confusion_matrix(y_val_binary_sorted[now_idx_val], y_val_pred_now)\n",
        "\n",
        "\n",
        "    return y_train_pred_df, y_val_pred_df, y_test_pred_df, cm_binary"
      ]
    },
    {
      "cell_type": "code",
      "execution_count": 16,
      "metadata": {},
      "outputs": [],
      "source": [
        "y_train_pred_rf, y_val_pred_rf, y_test_pred_rf, cm_binary = binary_rf(X_train_binary, y_train_binary, X_val_binary, y_val_binary, X_test_binary)"
      ]
    },
    {
      "cell_type": "code",
      "execution_count": 18,
      "metadata": {},
      "outputs": [
        {
          "data": {
            "text/plain": [
              "{1: array([[310839,     91],\n",
              "        [  1116,    517]], dtype=int64),\n",
              " 2: array([[153040,    289],\n",
              "        [  1450,   2025]], dtype=int64),\n",
              " 3: array([[78053,     9],\n",
              "        [  333,   109]], dtype=int64),\n",
              " 4: array([[115782,     80],\n",
              "        [   899,    855]], dtype=int64),\n",
              " 5: array([[117229,     40],\n",
              "        [   340,    390]], dtype=int64)}"
            ]
          },
          "execution_count": 18,
          "metadata": {},
          "output_type": "execute_result"
        }
      ],
      "source": [
        "# 관측소별 이진분류 confusion matrix 확인\n",
        "cm_binary"
      ]
    },
    {
      "cell_type": "code",
      "execution_count": 19,
      "metadata": {},
      "outputs": [
        {
          "data": {
            "text/plain": [
              "array([[2326345,      11],\n",
              "       [     37,   24063]], dtype=int64)"
            ]
          },
          "execution_count": 19,
          "metadata": {},
          "output_type": "execute_result"
        }
      ],
      "source": [
        "# train 데이터 기준 이진 분류 예측 confusion matrix\n",
        "confusion_matrix(y_train_binary, y_train_pred_rf)"
      ]
    },
    {
      "cell_type": "code",
      "execution_count": 20,
      "metadata": {},
      "outputs": [
        {
          "data": {
            "text/plain": [
              "array([[774943,    509],\n",
              "       [  4138,   3896]], dtype=int64)"
            ]
          },
          "execution_count": 20,
          "metadata": {},
          "output_type": "execute_result"
        }
      ],
      "source": [
        "# validation 데이터 기준 이진 분류 예측 confusion matrix\n",
        "confusion_matrix(y_val_binary, y_val_pred_rf)"
      ]
    },
    {
      "cell_type": "code",
      "execution_count": 21,
      "metadata": {},
      "outputs": [
        {
          "data": {
            "text/plain": [
              "0.0    261734\n",
              "1.0      1066\n",
              "Name: count, dtype: int64"
            ]
          },
          "execution_count": 21,
          "metadata": {},
          "output_type": "execute_result"
        }
      ],
      "source": [
        "# test 데이터 기준 이진 분류 예측 결과\n",
        "y_test_pred_rf.value_counts()"
      ]
    },
    {
      "cell_type": "code",
      "execution_count": 22,
      "metadata": {},
      "outputs": [],
      "source": [
        "# pickle 저장\n",
        "\n",
        "# 이진 분류 결과 save\n",
        "with open('y_train_pred_rf_tuned.pickle', 'wb') as f:\n",
        "    pickle.dump(y_train_pred_rf, f)\n",
        "\n",
        "with open('y_val_pred_rf_tuned.pickle', 'wb') as f:\n",
        "    pickle.dump(y_val_pred_rf, f)\n",
        "\n",
        "with open('y_test_pred_rf_tuned.pickle', 'wb') as f:\n",
        "    pickle.dump(y_test_pred_rf, f)\n",
        "\n",
        "# confusion matrix 저장\n",
        "with open('cm_binary_tuned.pickle', 'wb') as f:\n",
        "    pickle.dump(cm_binary, f)"
      ]
    },
    {
      "cell_type": "code",
      "execution_count": 42,
      "metadata": {},
      "outputs": [],
      "source": [
        "# # load\n",
        "# with open('y_train_pred_rf.pickle', 'rb') as f:\n",
        "#     y_pred_t = pickle.load(f)\n",
        "\n",
        "# # load\n",
        "# with open('y_val_pred_rf.pickle', 'rb') as f:\n",
        "#     y_pred_v = pickle.load(f)\n",
        "\n",
        "# # load\n",
        "# with open('y_test_pred_rf.pickle', 'rb') as f:\n",
        "#     y_pred_te = pickle.load(f)"
      ]
    },
    {
      "cell_type": "markdown",
      "metadata": {},
      "source": [
        "### 3-2. 다중 분류 모델"
      ]
    },
    {
      "cell_type": "code",
      "execution_count": 23,
      "metadata": {},
      "outputs": [],
      "source": [
        "# 이진 분류의 예측값 (0, 1)이 float로 되어 있어 int로 변경\n",
        "y_train_pred_rf = y_train_pred_rf.astype(\"int\")\n",
        "y_val_pred_rf = y_val_pred_rf.astype(\"int\")\n",
        "y_test_pred_rf = y_test_pred_rf.astype(\"int\")"
      ]
    },
    {
      "cell_type": "code",
      "execution_count": 24,
      "metadata": {},
      "outputs": [],
      "source": [
        "# 이진 분류 예측값 중, 1로 나온 것들의 index 선언\n",
        "y_train_pred_rf_idx = y_train_pred_rf[y_train_pred_rf==1].index\n",
        "y_val_pred_rf_idx = y_val_pred_rf[y_val_pred_rf==1].index\n",
        "y_test_pred_rf_idx = y_test_pred_rf[y_test_pred_rf==1].index"
      ]
    },
    {
      "cell_type": "code",
      "execution_count": null,
      "metadata": {},
      "outputs": [],
      "source": [
        "# train, val, test 데이터프레임 class_predict 컬럼 drop (컬럼 내용 초기화 목적)\n",
        "# train_df = train_df.drop(columns=\"class_predict\")\n",
        "# val_df = val_df.drop(columns=\"class_predict\")\n",
        "# test_df = test_df.drop(columns=\"class_predict\")"
      ]
    },
    {
      "cell_type": "code",
      "execution_count": 26,
      "metadata": {},
      "outputs": [],
      "source": [
        "# train, val, test 데이터를 각각 이진 분류로 예측한 값인 is_fog==0으로 나온 index를\n",
        "# 새롭게 class_predict 컬럼을 생성하여 4(시정 >1000)로 선언\n",
        "# class_predict 컬럼의 나머지 값들 : NaN \n",
        "train_df.loc[y_train_pred_rf[y_train_pred_rf == 0].index, 'class_predict'] = 4"
      ]
    },
    {
      "cell_type": "code",
      "execution_count": 32,
      "metadata": {},
      "outputs": [],
      "source": [
        "val_df.loc[y_val_pred_rf[y_val_pred_rf == 0].index, 'class_predict'] = 4"
      ]
    },
    {
      "cell_type": "code",
      "execution_count": 33,
      "metadata": {},
      "outputs": [],
      "source": [
        "test_df.loc[y_test_pred_rf[y_test_pred_rf == 0].index, 'class_predict'] = 4"
      ]
    },
    {
      "cell_type": "code",
      "execution_count": 36,
      "metadata": {},
      "outputs": [],
      "source": [
        "# 이진 분류 후, is_fog==1 인 데이터의 multiclassification을 통해 class 컬럼을 예측해야 한다\n",
        "# X_train에서 실제로 안개가 낀 값 (is_fog==1)만 필터링하여 다중 분류의 train 값으로 선언\n",
        "\n",
        "X_train_cl = X_train_binary[y_train_binary == 1]\n",
        "y_train_cl = y_train_mc[y_train_binary == 1]"
      ]
    },
    {
      "cell_type": "code",
      "execution_count": 37,
      "metadata": {},
      "outputs": [],
      "source": [
        "# 이진 분류 예측값 중, 1로 나온 것들의 index를 다시 원본 X_val, X_test 데이터프레임에 필터링\n",
        "# 다중 분류의 예측값으로 사용\n",
        "\n",
        "X_val_cl = X_val_binary.loc[y_val_pred_rf_idx]\n",
        "y_val_cl = y_val_mc.loc[y_val_pred_rf_idx]\n",
        "\n",
        "X_test_cl = X_test_binary.loc[y_test_pred_rf_idx]"
      ]
    },
    {
      "cell_type": "code",
      "execution_count": 50,
      "metadata": {},
      "outputs": [],
      "source": [
        "def class_rf_stn(X_train_cl, y_train_cl, X_val_cl, y_val_cl, X_test_cl):\n",
        "    stn_list = range(1, 6)\n",
        "    cm_cl = {}\n",
        "\n",
        "    X_val_cl_sorted = X_val_cl.sort_values('stn_id')\n",
        "    y_val_cl_sorted = y_val_cl.loc[X_val_cl_sorted.index]\n",
        "\n",
        "    y_train_pred_df = pd.Series(index=X_train_cl.index, dtype=int)\n",
        "    y_val_pred_df = pd.Series(index=X_val_cl.index, dtype=int)\n",
        "    y_test_pred_df = pd.Series(index=X_test_cl.index, dtype=int)\n",
        "\n",
        "    models = {i: RandomForestClassifier(random_state=42) for i in stn_list}\n",
        "\n",
        "    for i in stn_list:\n",
        "        # train\n",
        "        now_idx_train = X_train_cl[X_train_cl['stn_id'] == i].index\n",
        "        \n",
        "        models[i].fit(X_train_cl.loc[now_idx_train], y_train_cl.loc[now_idx_train])\n",
        "        y_train_pred_now = models[i].predict(X_train_cl.loc[now_idx_train])\n",
        "        y_train_pred_df.loc[now_idx_train] = y_train_pred_now\n",
        "        \n",
        "        # validataion\n",
        "        now_idx_val = X_val_cl_sorted[X_val_cl_sorted['stn_id'] == i].index\n",
        "        y_val_pred_now = models[i].predict(X_val_cl_sorted.loc[now_idx_val])\n",
        "        y_val_pred_df.loc[now_idx_val] = y_val_pred_now\n",
        "\n",
        "        # test\n",
        "        now_idx_test = X_test_cl[X_test_cl['stn_id'] == i].index\n",
        "        if list(now_idx_test) == []:\n",
        "            print(f\"stn_id : {i}에 해당하는 값이 test 데이터셋에 없음\")\n",
        "            continue\n",
        "        y_test_pred_now = models[i].predict(X_test_cl.loc[now_idx_test])\n",
        "        y_test_pred_df.loc[now_idx_test] = y_test_pred_now\n",
        "\n",
        "        # confusion matrix 생성\n",
        "        cm_cl[i] = confusion_matrix(y_val_cl_sorted[now_idx_val], y_val_pred_now)\n",
        "        \n",
        "    return y_train_pred_df, y_val_pred_df, y_test_pred_df, cm_cl"
      ]
    },
    {
      "cell_type": "code",
      "execution_count": 51,
      "metadata": {},
      "outputs": [
        {
          "name": "stdout",
          "output_type": "stream",
          "text": [
            "stn_id : 3에 해당하는 값이 test 데이터셋에 없음\n",
            "stn_id : 5에 해당하는 값이 test 데이터셋에 없음\n"
          ]
        }
      ],
      "source": [
        "y_train_pred_cl, y_val_pred_cl, y_test_pred_cl, cm_cl = class_rf_stn(X_train_cl, y_train_cl, X_val_cl, y_val_cl, X_test_cl)"
      ]
    },
    {
      "cell_type": "code",
      "execution_count": 59,
      "metadata": {},
      "outputs": [],
      "source": [
        "train_df.loc[y_train_pred_cl.index, 'class_predict'] = y_train_pred_cl"
      ]
    },
    {
      "cell_type": "code",
      "execution_count": 60,
      "metadata": {},
      "outputs": [],
      "source": [
        "val_df.loc[y_val_pred_cl.index, 'class_predict'] = y_val_pred_cl"
      ]
    },
    {
      "cell_type": "code",
      "execution_count": 61,
      "metadata": {},
      "outputs": [],
      "source": [
        "test_df.loc[y_test_pred_cl.index, 'class_predict'] = y_test_pred_cl"
      ]
    },
    {
      "cell_type": "code",
      "execution_count": 62,
      "metadata": {},
      "outputs": [
        {
          "data": {
            "text/plain": [
              "class_predict\n",
              "1.0        64\n",
              "2.0       827\n",
              "3.0       175\n",
              "4.0    261734\n",
              "Name: count, dtype: int64"
            ]
          },
          "execution_count": 62,
          "metadata": {},
          "output_type": "execute_result"
        }
      ],
      "source": [
        "test_df[\"class_predict\"].value_counts().sort_index()"
      ]
    },
    {
      "cell_type": "code",
      "execution_count": 63,
      "metadata": {},
      "outputs": [
        {
          "data": {
            "text/plain": [
              "0.31862343439072927"
            ]
          },
          "execution_count": 63,
          "metadata": {},
          "output_type": "execute_result"
        }
      ],
      "source": [
        "csi_index(val_df[\"class\"], val_df[\"class_predict\"])"
      ]
    },
    {
      "cell_type": "code",
      "execution_count": 65,
      "metadata": {},
      "outputs": [
        {
          "data": {
            "text/plain": [
              "array([[   948,    332,     24,    663],\n",
              "       [   246,   1217,    234,   1325],\n",
              "       [    37,    301,    557,   2150],\n",
              "       [    58,    201,    250, 774943]], dtype=int64)"
            ]
          },
          "execution_count": 65,
          "metadata": {},
          "output_type": "execute_result"
        }
      ],
      "source": [
        "cm = confusion_matrix(val_df[\"class\"], val_df[\"class_predict\"])\n",
        "cm"
      ]
    },
    {
      "cell_type": "code",
      "execution_count": 67,
      "metadata": {},
      "outputs": [
        {
          "data": {
            "image/png": "[encoded data removed]",
            "text/plain": [
              "<Figure size 1000x500 with 2 Axes>"
            ]
          },
          "metadata": {
            "image/png": {
              "height": 473,
              "width": 810
            }
          },
          "output_type": "display_data"
        }
      ],
      "source": [
        "# Confusion Matrix 시각화\n",
        "\n",
        "plt.figure(figsize=(10,5))\n",
        "\n",
        "# target 컬럼 값들 unique_value에 선언\n",
        "unique_value = np.unique(val_df[\"class_predict\"], return_counts = False)\n",
        "\n",
        "# Confusion Matrix에 label 표시하기 위해 \"class\" + value 합쳐준다\n",
        "unique_value_list = []\n",
        "for i, value in enumerate(unique_value):\n",
        "    unique_value_list.append(\"class \" + str(int(value)))\n",
        "\n",
        "\n",
        "pred_labels = unique_value_list\n",
        "sns.heatmap(cm, \n",
        "            annot=True, \n",
        "            fmt=\"d\", \n",
        "            cmap=\"Blues\", \n",
        "            xticklabels = pred_labels, \n",
        "            yticklabels = pred_labels)\n",
        "\n",
        "plt.title(f'Confusion Matrix (CSI Index : {np.round(csi_index(val_df[\"class\"], val_df[\"class_predict\"]), 4)})')\n",
        "plt.xlabel('Predicted Label')\n",
        "plt.ylabel('True Label')\n",
        "plt.show()"
      ]
    },
    {
      "cell_type": "code",
      "execution_count": 68,
      "metadata": {},
      "outputs": [
        {
          "data": {
            "text/html": [
              "<div>\n",
              "<style scoped>\n",
              "    .dataframe tbody tr th:only-of-type {\n",
              "        vertical-align: middle;\n",
              "    }\n",
              "\n",
              "    .dataframe tbody tr th {\n",
              "        vertical-align: top;\n",
              "    }\n",
              "\n",
              "    .dataframe thead th {\n",
              "        text-align: right;\n",
              "    }\n",
              "</style>\n",
              "<table border=\"1\" class=\"dataframe\">\n",
              "  <thead>\n",
              "    <tr style=\"text-align: right;\">\n",
              "      <th></th>\n",
              "      <th>year</th>\n",
              "      <th>month</th>\n",
              "      <th>day</th>\n",
              "      <th>time</th>\n",
              "      <th>minute</th>\n",
              "      <th>stn_id</th>\n",
              "      <th>ws10_deg</th>\n",
              "      <th>ws10_ms</th>\n",
              "      <th>ta</th>\n",
              "      <th>re</th>\n",
              "      <th>hm</th>\n",
              "      <th>sun10</th>\n",
              "      <th>ts</th>\n",
              "      <th>is_fog</th>\n",
              "      <th>dew_point</th>\n",
              "      <th>dew_reached</th>\n",
              "      <th>temp_diff</th>\n",
              "      <th>ws10_dir</th>\n",
              "      <th>t_td</th>\n",
              "      <th>class_predict</th>\n",
              "    </tr>\n",
              "  </thead>\n",
              "  <tbody>\n",
              "    <tr>\n",
              "      <th>0</th>\n",
              "      <td>L</td>\n",
              "      <td>1</td>\n",
              "      <td>1</td>\n",
              "      <td>0</td>\n",
              "      <td>0</td>\n",
              "      <td>A</td>\n",
              "      <td>329.5</td>\n",
              "      <td>0.6</td>\n",
              "      <td>-2.5</td>\n",
              "      <td>0.0</td>\n",
              "      <td>87.5</td>\n",
              "      <td>0.0</td>\n",
              "      <td>-1.6</td>\n",
              "      <td>1</td>\n",
              "      <td>-4.223642</td>\n",
              "      <td>0</td>\n",
              "      <td>-0.9</td>\n",
              "      <td>NW</td>\n",
              "      <td>1.723642</td>\n",
              "      <td>4.0</td>\n",
              "    </tr>\n",
              "    <tr>\n",
              "      <th>1</th>\n",
              "      <td>L</td>\n",
              "      <td>1</td>\n",
              "      <td>1</td>\n",
              "      <td>0</td>\n",
              "      <td>10</td>\n",
              "      <td>A</td>\n",
              "      <td>321.8</td>\n",
              "      <td>1.2</td>\n",
              "      <td>-2.5</td>\n",
              "      <td>0.0</td>\n",
              "      <td>88.2</td>\n",
              "      <td>0.0</td>\n",
              "      <td>-1.6</td>\n",
              "      <td>1</td>\n",
              "      <td>-4.121508</td>\n",
              "      <td>0</td>\n",
              "      <td>-0.9</td>\n",
              "      <td>NW</td>\n",
              "      <td>1.621508</td>\n",
              "      <td>4.0</td>\n",
              "    </tr>\n",
              "    <tr>\n",
              "      <th>2</th>\n",
              "      <td>L</td>\n",
              "      <td>1</td>\n",
              "      <td>1</td>\n",
              "      <td>0</td>\n",
              "      <td>20</td>\n",
              "      <td>A</td>\n",
              "      <td>0.4</td>\n",
              "      <td>0.4</td>\n",
              "      <td>-2.5</td>\n",
              "      <td>0.0</td>\n",
              "      <td>88.6</td>\n",
              "      <td>0.0</td>\n",
              "      <td>-1.7</td>\n",
              "      <td>1</td>\n",
              "      <td>-4.063468</td>\n",
              "      <td>0</td>\n",
              "      <td>-0.8</td>\n",
              "      <td>N</td>\n",
              "      <td>1.563468</td>\n",
              "      <td>4.0</td>\n",
              "    </tr>\n",
              "    <tr>\n",
              "      <th>3</th>\n",
              "      <td>L</td>\n",
              "      <td>1</td>\n",
              "      <td>1</td>\n",
              "      <td>0</td>\n",
              "      <td>30</td>\n",
              "      <td>A</td>\n",
              "      <td>323.6</td>\n",
              "      <td>0.7</td>\n",
              "      <td>-2.6</td>\n",
              "      <td>0.0</td>\n",
              "      <td>88.7</td>\n",
              "      <td>0.0</td>\n",
              "      <td>-1.6</td>\n",
              "      <td>1</td>\n",
              "      <td>-4.147662</td>\n",
              "      <td>0</td>\n",
              "      <td>-1.0</td>\n",
              "      <td>NW</td>\n",
              "      <td>1.547662</td>\n",
              "      <td>4.0</td>\n",
              "    </tr>\n",
              "    <tr>\n",
              "      <th>4</th>\n",
              "      <td>L</td>\n",
              "      <td>1</td>\n",
              "      <td>1</td>\n",
              "      <td>0</td>\n",
              "      <td>40</td>\n",
              "      <td>A</td>\n",
              "      <td>208.4</td>\n",
              "      <td>0.2</td>\n",
              "      <td>-2.6</td>\n",
              "      <td>0.0</td>\n",
              "      <td>89.0</td>\n",
              "      <td>0.0</td>\n",
              "      <td>-1.6</td>\n",
              "      <td>1</td>\n",
              "      <td>-4.104366</td>\n",
              "      <td>0</td>\n",
              "      <td>-1.0</td>\n",
              "      <td>SW</td>\n",
              "      <td>1.504366</td>\n",
              "      <td>4.0</td>\n",
              "    </tr>\n",
              "    <tr>\n",
              "      <th>...</th>\n",
              "      <td>...</td>\n",
              "      <td>...</td>\n",
              "      <td>...</td>\n",
              "      <td>...</td>\n",
              "      <td>...</td>\n",
              "      <td>...</td>\n",
              "      <td>...</td>\n",
              "      <td>...</td>\n",
              "      <td>...</td>\n",
              "      <td>...</td>\n",
              "      <td>...</td>\n",
              "      <td>...</td>\n",
              "      <td>...</td>\n",
              "      <td>...</td>\n",
              "      <td>...</td>\n",
              "      <td>...</td>\n",
              "      <td>...</td>\n",
              "      <td>...</td>\n",
              "      <td>...</td>\n",
              "      <td>...</td>\n",
              "    </tr>\n",
              "    <tr>\n",
              "      <th>262795</th>\n",
              "      <td>L</td>\n",
              "      <td>12</td>\n",
              "      <td>31</td>\n",
              "      <td>23</td>\n",
              "      <td>10</td>\n",
              "      <td>E</td>\n",
              "      <td>338.8</td>\n",
              "      <td>6.1</td>\n",
              "      <td>4.5</td>\n",
              "      <td>0.0</td>\n",
              "      <td>71.3</td>\n",
              "      <td>0.0</td>\n",
              "      <td>1.9</td>\n",
              "      <td>1</td>\n",
              "      <td>-0.079539</td>\n",
              "      <td>0</td>\n",
              "      <td>2.6</td>\n",
              "      <td>N</td>\n",
              "      <td>4.579539</td>\n",
              "      <td>4.0</td>\n",
              "    </tr>\n",
              "    <tr>\n",
              "      <th>262796</th>\n",
              "      <td>L</td>\n",
              "      <td>12</td>\n",
              "      <td>31</td>\n",
              "      <td>23</td>\n",
              "      <td>20</td>\n",
              "      <td>E</td>\n",
              "      <td>335.2</td>\n",
              "      <td>5.8</td>\n",
              "      <td>4.6</td>\n",
              "      <td>0.0</td>\n",
              "      <td>71.4</td>\n",
              "      <td>0.0</td>\n",
              "      <td>1.9</td>\n",
              "      <td>1</td>\n",
              "      <td>0.035285</td>\n",
              "      <td>0</td>\n",
              "      <td>2.7</td>\n",
              "      <td>NW</td>\n",
              "      <td>4.564715</td>\n",
              "      <td>4.0</td>\n",
              "    </tr>\n",
              "    <tr>\n",
              "      <th>262797</th>\n",
              "      <td>L</td>\n",
              "      <td>12</td>\n",
              "      <td>31</td>\n",
              "      <td>23</td>\n",
              "      <td>30</td>\n",
              "      <td>E</td>\n",
              "      <td>337.1</td>\n",
              "      <td>5.3</td>\n",
              "      <td>4.5</td>\n",
              "      <td>0.0</td>\n",
              "      <td>72.1</td>\n",
              "      <td>0.0</td>\n",
              "      <td>1.8</td>\n",
              "      <td>1</td>\n",
              "      <td>0.068708</td>\n",
              "      <td>0</td>\n",
              "      <td>2.7</td>\n",
              "      <td>NW</td>\n",
              "      <td>4.431292</td>\n",
              "      <td>4.0</td>\n",
              "    </tr>\n",
              "    <tr>\n",
              "      <th>262798</th>\n",
              "      <td>L</td>\n",
              "      <td>12</td>\n",
              "      <td>31</td>\n",
              "      <td>23</td>\n",
              "      <td>40</td>\n",
              "      <td>E</td>\n",
              "      <td>322.0</td>\n",
              "      <td>3.7</td>\n",
              "      <td>4.3</td>\n",
              "      <td>0.0</td>\n",
              "      <td>72.5</td>\n",
              "      <td>0.0</td>\n",
              "      <td>1.4</td>\n",
              "      <td>1</td>\n",
              "      <td>-0.050479</td>\n",
              "      <td>0</td>\n",
              "      <td>2.9</td>\n",
              "      <td>NW</td>\n",
              "      <td>4.350479</td>\n",
              "      <td>4.0</td>\n",
              "    </tr>\n",
              "    <tr>\n",
              "      <th>262799</th>\n",
              "      <td>L</td>\n",
              "      <td>12</td>\n",
              "      <td>31</td>\n",
              "      <td>23</td>\n",
              "      <td>50</td>\n",
              "      <td>E</td>\n",
              "      <td>33.6</td>\n",
              "      <td>2.8</td>\n",
              "      <td>4.3</td>\n",
              "      <td>0.0</td>\n",
              "      <td>73.7</td>\n",
              "      <td>0.0</td>\n",
              "      <td>1.3</td>\n",
              "      <td>1</td>\n",
              "      <td>0.167756</td>\n",
              "      <td>0</td>\n",
              "      <td>3.0</td>\n",
              "      <td>NE</td>\n",
              "      <td>4.132244</td>\n",
              "      <td>4.0</td>\n",
              "    </tr>\n",
              "  </tbody>\n",
              "</table>\n",
              "<p>262800 rows × 20 columns</p>\n",
              "</div>"
            ],
            "text/plain": [
              "       year  month  day  time  minute stn_id  ws10_deg  ws10_ms   ta   re  \\\n",
              "0         L      1    1     0       0      A     329.5      0.6 -2.5  0.0   \n",
              "1         L      1    1     0      10      A     321.8      1.2 -2.5  0.0   \n",
              "2         L      1    1     0      20      A       0.4      0.4 -2.5  0.0   \n",
              "3         L      1    1     0      30      A     323.6      0.7 -2.6  0.0   \n",
              "4         L      1    1     0      40      A     208.4      0.2 -2.6  0.0   \n",
              "...     ...    ...  ...   ...     ...    ...       ...      ...  ...  ...   \n",
              "262795    L     12   31    23      10      E     338.8      6.1  4.5  0.0   \n",
              "262796    L     12   31    23      20      E     335.2      5.8  4.6  0.0   \n",
              "262797    L     12   31    23      30      E     337.1      5.3  4.5  0.0   \n",
              "262798    L     12   31    23      40      E     322.0      3.7  4.3  0.0   \n",
              "262799    L     12   31    23      50      E      33.6      2.8  4.3  0.0   \n",
              "\n",
              "          hm  sun10   ts  is_fog  dew_point  dew_reached  temp_diff ws10_dir  \\\n",
              "0       87.5    0.0 -1.6       1  -4.223642            0       -0.9       NW   \n",
              "1       88.2    0.0 -1.6       1  -4.121508            0       -0.9       NW   \n",
              "2       88.6    0.0 -1.7       1  -4.063468            0       -0.8        N   \n",
              "3       88.7    0.0 -1.6       1  -4.147662            0       -1.0       NW   \n",
              "4       89.0    0.0 -1.6       1  -4.104366            0       -1.0       SW   \n",
              "...      ...    ...  ...     ...        ...          ...        ...      ...   \n",
              "262795  71.3    0.0  1.9       1  -0.079539            0        2.6        N   \n",
              "262796  71.4    0.0  1.9       1   0.035285            0        2.7       NW   \n",
              "262797  72.1    0.0  1.8       1   0.068708            0        2.7       NW   \n",
              "262798  72.5    0.0  1.4       1  -0.050479            0        2.9       NW   \n",
              "262799  73.7    0.0  1.3       1   0.167756            0        3.0       NE   \n",
              "\n",
              "            t_td  class_predict  \n",
              "0       1.723642            4.0  \n",
              "1       1.621508            4.0  \n",
              "2       1.563468            4.0  \n",
              "3       1.547662            4.0  \n",
              "4       1.504366            4.0  \n",
              "...          ...            ...  \n",
              "262795  4.579539            4.0  \n",
              "262796  4.564715            4.0  \n",
              "262797  4.431292            4.0  \n",
              "262798  4.350479            4.0  \n",
              "262799  4.132244            4.0  \n",
              "\n",
              "[262800 rows x 20 columns]"
            ]
          },
          "execution_count": 68,
          "metadata": {},
          "output_type": "execute_result"
        }
      ],
      "source": [
        "test_df"
      ]
    },
    {
      "cell_type": "code",
      "execution_count": 70,
      "metadata": {},
      "outputs": [],
      "source": [
        "# 예측한 test_df 저장\n",
        "test_df.to_csv(\"data/test_df.csv\")"
      ]
    },
    {
      "cell_type": "code",
      "execution_count": null,
      "metadata": {},
      "outputs": [],
      "source": []
    },
    {
      "cell_type": "code",
      "execution_count": 100,
      "metadata": {},
      "outputs": [],
      "source": [
        "# stn_id별로 모델 X\n",
        "\n",
        "def class_rf(X_train_cl, y_train_cl, X_val_cl, y_val_cl, X_test_cl):\n",
        "    # 랜덤 포레스트 모델 생성\n",
        "    model = RandomForestClassifier(random_state=42)\n",
        "\n",
        "    # train_cl 데이터셋을 모델에 fitting\n",
        "    model.fit(X_train_cl, y_train_cl)\n",
        "\n",
        "    # 모델을 바탕으로 train_cl 데이터셋을 활용하여 y_train 값을 분류\n",
        "    y_train_pred = model.predict(X_train_cl)\n",
        "    \n",
        "    # 모델을 바탕으로 val_cl 데이터셋을 활용하여 y_val 값을 분류\n",
        "    y_val_pred = model.predict(X_val_cl)\n",
        "    \n",
        "    # 모델을 바탕으로 test_cl 데이터셋을 활용하여 y_val 값을 분류\n",
        "    y_test_pred = model.predict(X_test_cl)\n",
        "\n",
        "    # 원본 인덱스에 맞게, 분류한 값 (class)를 각각 Series로 선언\n",
        "    y_train_pred_df = pd.Series(y_train_pred, index=X_train_cl.index)\n",
        "    y_val_pred_df = pd.Series(y_val_pred, index=X_val_cl.index)\n",
        "    y_test_pred_df = pd.Series(y_test_pred, index=X_test_cl.index)\n",
        "\n",
        "    cm_multiclassification = confusion_matrix(y_val_cl, y_val_pred_df)\n",
        "\n",
        "    return y_train_pred_df, y_val_pred_df, y_test_pred_df, cm_multiclassification"
      ]
    },
    {
      "cell_type": "code",
      "execution_count": null,
      "metadata": {},
      "outputs": [],
      "source": []
    }
  ],
  "metadata": {
    "accelerator": "GPU",
    "colab": {
      "gpuType": "T4",
      "machine_shape": "hm",
      "provenance": [],
      "toc_visible": true
    },
    "kernelspec": {
      "display_name": "Python 3",
      "name": "python3"
    },
    "language_info": {
      "codemirror_mode": {
        "name": "ipython",
        "version": 3
      },
      "file_extension": ".py",
      "mimetype": "text/x-python",
      "name": "python",
      "nbconvert_exporter": "python",
      "pygments_lexer": "ipython3",
      "version": "3.11.0"
    }
  },
  "nbformat": 4,
  "nbformat_minor": 0
}
