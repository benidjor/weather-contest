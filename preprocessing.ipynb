{
 "cells": [
  {
   "cell_type": "markdown",
   "metadata": {},
   "source": [
    "# 안개 발생 진단 분류 모델 데이터셋 전처리"
   ]
  },
  {
   "cell_type": "markdown",
   "metadata": {},
   "source": [
    "## 데이터 설명"
   ]
  },
  {
   "cell_type": "markdown",
   "metadata": {},
   "source": [
    "- 컬럼\n",
    "\n",
    "    - `Year` : 년도\n",
    "    - `Month` : 월\n",
    "    - `Day` : 일\n",
    "    - `Time` : 시간 (0 ~ 23)\n",
    "    - `Minute` : 분 (10분 단위)\n",
    "    - `STN_ID` : 지점 번호\n",
    "    - `WS10(deg)` : 10분 평균 풍향, 단위: deg\n",
    "    - `WS10(m/s)` : 10분 평균 풍속, 단위: m/s\n",
    "    - `TA` : 1분 평균 기온 10분 주기, 단위: C\n",
    "    - `RE` : 강수 유무 (0:무강수, 1:강수)\n",
    "    - `HM` : 1분 평균 상대 습도 10분 주기, 단위: %\n",
    "    - `sun10` : 1분 일사량 10분단위 합계, 단위: MJ\n",
    "    - `TS` : 1분 평균 지면온도 10분 주기, 단위: C\n",
    "    - `VIS1` : 1분 평균 시정 10분 주기, 단위: C (VIS1 변수는 시정 구간을 알 수 있는 변수로 검증 데이터에서는 제외)\n",
    "    - `class` : 시정 구간\n",
    "\n",
    "- 시정 계급 기준 (비고: 안개의 기준)\n",
    "\n",
    "    - `1` : 0 < 시정 < 200\n",
    "    - `2` : 200 <= 시정 < 500\n",
    "    - `3` : 500 <= 시정 < 1000\n",
    "    - `4` : 1000 <= 시정\n"
   ]
  },
  {
   "cell_type": "markdown",
   "metadata": {},
   "source": [
    "## 데이터 불러오기"
   ]
  },
  {
   "cell_type": "code",
   "execution_count": 15,
   "metadata": {},
   "outputs": [],
   "source": [
    "import pandas as pd\n",
    "import numpy as np\n",
    "\n",
    "import matplotlib.pyplot as plt\n",
    "import seaborn as sns\n",
    "from matplotlib import rcParams\n",
    "\n",
    "import os\n",
    "import pickle\n",
    "\n",
    "import warnings\n",
    "warnings.filterwarnings(action='ignore')\n",
    "\n",
    "plt.rc('font', family='Malgun Gothic')\n",
    "plt.rcParams['axes.unicode_minus'] = False"
   ]
  },
  {
   "cell_type": "markdown",
   "metadata": {},
   "source": [
    "### 로컬 디렉토리 경로"
   ]
  },
  {
   "cell_type": "code",
   "execution_count": 21,
   "metadata": {},
   "outputs": [],
   "source": [
    "# 작업 디렉토리 변경 (로컬 디렉토리에서 작업시 실행)\n",
    "\n",
    "def get_local_path(train_dataset_name, test_dataset_name):\n",
    "\n",
    "    # 작업 디렉토리 origin_dir에 선언\n",
    "    origin_dir = os.getcwd()\n",
    "\n",
    "    # \"..\" : 상위 디렉토리로 이동\n",
    "    os.chdir(\"..\")\n",
    "\n",
    "    # 상위 디렉토리에 fog_data가 없다면 fog_data 폴더 생성\n",
    "    # (이미 폴더 있어도 exist_ok=True면 넘어감)\n",
    "    os.makedirs(\"fog_data\", exist_ok=True)\n",
    "\n",
    "    # train/test 데이터셋 경로 잡아준다\n",
    "    train_path = os.path.join(os.getcwd(), \"fog_data\", train_dataset_name)\n",
    "    test_path = os.path.join(os.getcwd(), \"fog_data\", test_dataset_name)\n",
    "\n",
    "    # 운영체제가 윈도우일 경우, \"\\\\\"를 \"/\"로 바꿔줘야 한다\n",
    "    if os.name == \"nt\":\n",
    "        train_path = train_path.replace(\"\\\\\", \"/\")\n",
    "        test_path = test_path.replace(\"\\\\\", \"/\")\n",
    "\n",
    "    # origin_dir로 경로 다시 변경 (초기화)\n",
    "    os.chdir(origin_dir)\n",
    "\n",
    "    return train_path, test_path"
   ]
  },
  {
   "cell_type": "code",
   "execution_count": 22,
   "metadata": {},
   "outputs": [],
   "source": [
    "train_path, test_path = get_local_path(\"fog_train.csv\", \"fog_test.csv\")"
   ]
  },
  {
   "cell_type": "markdown",
   "metadata": {},
   "source": [
    "### colab 디렉토리 경로"
   ]
  },
  {
   "cell_type": "code",
   "execution_count": 24,
   "metadata": {},
   "outputs": [],
   "source": [
    "# 구글 드라이브 파일 접근\n",
    "# from google.colab import drive\n",
    "# drive.mount('/content/drive')"
   ]
  },
  {
   "cell_type": "code",
   "execution_count": null,
   "metadata": {},
   "outputs": [],
   "source": [
    "# def get_colab_path(train_dataset_name, test_dataset_name):\n",
    "#     colab_dir = "
   ]
  },
  {
   "cell_type": "code",
   "execution_count": null,
   "metadata": {},
   "outputs": [],
   "source": [
    "# train_path = os.path.join(\"/content/drive/MyDrive/weather-contest/fog_data/fog_train.csv\"\n",
    "# test_path = \"/content/drive/MyDrive/weather-contest/fog_data/fog_test.csv\""
   ]
  },
  {
   "cell_type": "code",
   "execution_count": null,
   "metadata": {},
   "outputs": [],
   "source": []
  }
 ],
 "metadata": {
  "kernelspec": {
   "display_name": "weather",
   "language": "python",
   "name": "python3"
  },
  "language_info": {
   "codemirror_mode": {
    "name": "ipython",
    "version": 3
   },
   "file_extension": ".py",
   "mimetype": "text/x-python",
   "name": "python",
   "nbconvert_exporter": "python",
   "pygments_lexer": "ipython3",
   "version": "3.11.0"
  }
 },
 "nbformat": 4,
 "nbformat_minor": 2
}
