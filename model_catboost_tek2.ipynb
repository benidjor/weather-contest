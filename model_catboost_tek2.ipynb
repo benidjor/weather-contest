{
 "cells": [
  {
   "cell_type": "markdown",
   "metadata": {},
   "source": [
    "# 안개 발생 진단 분류 모델 생성"
   ]
  },
  {
   "cell_type": "markdown",
   "metadata": {},
   "source": [
    "## 1. 데이터 설명"
   ]
  },
  {
   "cell_type": "markdown",
   "metadata": {},
   "source": [
    "## 2. 데이터 불러오기"
   ]
  },
  {
   "cell_type": "code",
   "execution_count": 1,
   "metadata": {},
   "outputs": [
    {
     "name": "stderr",
     "output_type": "stream",
     "text": [
      "c:\\Users\\aryij\\anaconda3\\envs\\weather2\\Lib\\site-packages\\tqdm\\auto.py:21: TqdmWarning: IProgress not found. Please update jupyter and ipywidgets. See https://ipywidgets.readthedocs.io/en/stable/user_install.html\n",
      "  from .autonotebook import tqdm as notebook_tqdm\n"
     ]
    }
   ],
   "source": [
    "import os\n",
    "\n",
    "import numpy as np\n",
    "import pandas as pd\n",
    "import matplotlib.pyplot as plt\n",
    "import seaborn as sns\n",
    "%matplotlib inline\n",
    "\n",
    "import pickle\n",
    "import optuna\n",
    "from optuna.samplers import TPESampler\n",
    "\n",
    "from sklearn import metrics\n",
    "from sklearn.tree import DecisionTreeClassifier\n",
    "from sklearn.ensemble import RandomForestClassifier\n",
    "# from xgboost import XGBClassifier\n",
    "# from lightgbm import LGBMClassifier\n",
    "from catboost import CatBoostClassifier\n",
    "from sklearn.naive_bayes import GaussianNB\n",
    "from sklearn.naive_bayes import MultinomialNB\n",
    "from sklearn.naive_bayes import CategoricalNB\n",
    "\n",
    "from sklearn.model_selection import train_test_split\n",
    "\n",
    "# from sklearn.preprocessing import TargetEncoder\n",
    "from sklearn.preprocessing import LabelEncoder\n",
    "\n",
    "from sklearn.metrics import accuracy_score\n",
    "from sklearn.metrics import precision_score\n",
    "from sklearn.metrics import recall_score\n",
    "from sklearn.metrics import f1_score\n",
    "from sklearn.metrics import confusion_matrix\n",
    "from sklearn.metrics import classification_report\n",
    "from sklearn.metrics import make_scorer\n",
    "\n",
    "\n",
    "import warnings\n",
    "warnings.filterwarnings(action='ignore')"
   ]
  },
  {
   "cell_type": "code",
   "execution_count": 2,
   "metadata": {},
   "outputs": [],
   "source": [
    "def get_colab_path(train_dataset_name, test_dataset_name):\n",
    "\n",
    "    fog_folder = \"drive/MyDrive/weather_bigdata/fog_data\"\n",
    "    os.makedirs(fog_folder, exist_ok=True)\n",
    "\n",
    "    # train/test 데이터셋 경로 잡아준다\n",
    "    train_path = os.path.join(os.getcwd(), fog_folder, train_dataset_name)\n",
    "    test_path = os.path.join(os.getcwd(), fog_folder, test_dataset_name)\n",
    "\n",
    "    return train_path, test_path"
   ]
  },
  {
   "cell_type": "code",
   "execution_count": 3,
   "metadata": {},
   "outputs": [],
   "source": [
    "def get_local_path(train_dataset_name, test_dataset_name):\n",
    "\n",
    "    # 작업 디렉토리 origin_dir에 선언\n",
    "    origin_dir = os.getcwd()\n",
    "\n",
    "    # \"..\" : 상위 디렉토리로 이동\n",
    "    os.chdir(\"..\")\n",
    "\n",
    "    # 상위 디렉토리에 fog_data가 없다면 fog_data 폴더 생성\n",
    "    # (이미 폴더 있어도 exist_ok=True면 넘어감)\n",
    "    os.makedirs(\"fog_data\", exist_ok=True)\n",
    "\n",
    "    # train/test 데이터셋 경로 잡아준다\n",
    "    train_path = os.path.join(os.getcwd(), \"fog_data\", train_dataset_name)\n",
    "    test_path = os.path.join(os.getcwd(), \"fog_data\", test_dataset_name)\n",
    "\n",
    "    # 운영체제가 윈도우일 경우, \"\\\\\"를 \"/\"로 바꿔줘야 한다\n",
    "    if os.name == \"nt\":\n",
    "        train_path = train_path.replace(\"\\\\\", \"/\")\n",
    "        test_path = test_path.replace(\"\\\\\", \"/\")\n",
    "\n",
    "    # origin_dir로 경로 다시 변경 (초기화)\n",
    "    os.chdir(origin_dir)\n",
    "\n",
    "    return train_path, test_path"
   ]
  },
  {
   "cell_type": "code",
   "execution_count": 4,
   "metadata": {},
   "outputs": [],
   "source": [
    "# train_path, test_path = get_colab_path(\"fog_train_mod.csv\", \"fog_test_mod.csv\")\n",
    "train_path, test_path = get_local_path(\"fog_train_mod.csv\", \"fog_test_mod.csv\")"
   ]
  },
  {
   "cell_type": "code",
   "execution_count": 5,
   "metadata": {},
   "outputs": [],
   "source": [
    "train_df = pd.read_csv(train_path)\n",
    "test_df = pd.read_csv(test_path)"
   ]
  },
  {
   "cell_type": "code",
   "execution_count": 6,
   "metadata": {},
   "outputs": [
    {
     "data": {
      "text/html": [
       "<div>\n",
       "<style scoped>\n",
       "    .dataframe tbody tr th:only-of-type {\n",
       "        vertical-align: middle;\n",
       "    }\n",
       "\n",
       "    .dataframe tbody tr th {\n",
       "        vertical-align: top;\n",
       "    }\n",
       "\n",
       "    .dataframe thead th {\n",
       "        text-align: right;\n",
       "    }\n",
       "</style>\n",
       "<table border=\"1\" class=\"dataframe\">\n",
       "  <thead>\n",
       "    <tr style=\"text-align: right;\">\n",
       "      <th></th>\n",
       "      <th>year</th>\n",
       "      <th>month</th>\n",
       "      <th>time</th>\n",
       "      <th>stn_id</th>\n",
       "      <th>ws10_deg</th>\n",
       "      <th>ws10_ms</th>\n",
       "      <th>ta</th>\n",
       "      <th>re</th>\n",
       "      <th>hm</th>\n",
       "      <th>sun10</th>\n",
       "      <th>ts</th>\n",
       "      <th>vis1</th>\n",
       "      <th>class</th>\n",
       "      <th>is_fog</th>\n",
       "      <th>dew_point</th>\n",
       "      <th>dew_reached</th>\n",
       "      <th>temp_diff</th>\n",
       "      <th>diff_z_scores</th>\n",
       "    </tr>\n",
       "  </thead>\n",
       "  <tbody>\n",
       "    <tr>\n",
       "      <th>0</th>\n",
       "      <td>I</td>\n",
       "      <td>1</td>\n",
       "      <td>0</td>\n",
       "      <td>A</td>\n",
       "      <td>0.0</td>\n",
       "      <td>0.0</td>\n",
       "      <td>-6.4</td>\n",
       "      <td>0.0</td>\n",
       "      <td>38.9</td>\n",
       "      <td>0.0</td>\n",
       "      <td>-2.8</td>\n",
       "      <td>20000.0</td>\n",
       "      <td>4</td>\n",
       "      <td>0</td>\n",
       "      <td>-17.680941</td>\n",
       "      <td>0</td>\n",
       "      <td>-3.6</td>\n",
       "      <td>0.301936</td>\n",
       "    </tr>\n",
       "    <tr>\n",
       "      <th>1</th>\n",
       "      <td>I</td>\n",
       "      <td>1</td>\n",
       "      <td>0</td>\n",
       "      <td>A</td>\n",
       "      <td>0.0</td>\n",
       "      <td>0.0</td>\n",
       "      <td>-6.3</td>\n",
       "      <td>0.0</td>\n",
       "      <td>37.9</td>\n",
       "      <td>0.0</td>\n",
       "      <td>-2.7</td>\n",
       "      <td>20000.0</td>\n",
       "      <td>4</td>\n",
       "      <td>0</td>\n",
       "      <td>-17.886195</td>\n",
       "      <td>0</td>\n",
       "      <td>-3.6</td>\n",
       "      <td>0.301936</td>\n",
       "    </tr>\n",
       "    <tr>\n",
       "      <th>2</th>\n",
       "      <td>I</td>\n",
       "      <td>1</td>\n",
       "      <td>0</td>\n",
       "      <td>A</td>\n",
       "      <td>0.0</td>\n",
       "      <td>0.0</td>\n",
       "      <td>-6.3</td>\n",
       "      <td>0.0</td>\n",
       "      <td>40.0</td>\n",
       "      <td>0.0</td>\n",
       "      <td>-2.6</td>\n",
       "      <td>20000.0</td>\n",
       "      <td>4</td>\n",
       "      <td>0</td>\n",
       "      <td>-17.273211</td>\n",
       "      <td>0</td>\n",
       "      <td>-3.7</td>\n",
       "      <td>0.321744</td>\n",
       "    </tr>\n",
       "  </tbody>\n",
       "</table>\n",
       "</div>"
      ],
      "text/plain": [
       "  year  month  time stn_id  ws10_deg  ws10_ms   ta   re    hm  sun10   ts  \\\n",
       "0    I      1     0      A       0.0      0.0 -6.4  0.0  38.9    0.0 -2.8   \n",
       "1    I      1     0      A       0.0      0.0 -6.3  0.0  37.9    0.0 -2.7   \n",
       "2    I      1     0      A       0.0      0.0 -6.3  0.0  40.0    0.0 -2.6   \n",
       "\n",
       "      vis1  class  is_fog  dew_point  dew_reached  temp_diff  diff_z_scores  \n",
       "0  20000.0      4       0 -17.680941            0       -3.6       0.301936  \n",
       "1  20000.0      4       0 -17.886195            0       -3.6       0.301936  \n",
       "2  20000.0      4       0 -17.273211            0       -3.7       0.321744  "
      ]
     },
     "execution_count": 6,
     "metadata": {},
     "output_type": "execute_result"
    }
   ],
   "source": [
    "train_df.head(3)"
   ]
  },
  {
   "cell_type": "code",
   "execution_count": 7,
   "metadata": {},
   "outputs": [
    {
     "data": {
      "text/html": [
       "<div>\n",
       "<style scoped>\n",
       "    .dataframe tbody tr th:only-of-type {\n",
       "        vertical-align: middle;\n",
       "    }\n",
       "\n",
       "    .dataframe tbody tr th {\n",
       "        vertical-align: top;\n",
       "    }\n",
       "\n",
       "    .dataframe thead th {\n",
       "        text-align: right;\n",
       "    }\n",
       "</style>\n",
       "<table border=\"1\" class=\"dataframe\">\n",
       "  <thead>\n",
       "    <tr style=\"text-align: right;\">\n",
       "      <th></th>\n",
       "      <th>year</th>\n",
       "      <th>month</th>\n",
       "      <th>time</th>\n",
       "      <th>stn_id</th>\n",
       "      <th>ws10_deg</th>\n",
       "      <th>ws10_ms</th>\n",
       "      <th>ta</th>\n",
       "      <th>re</th>\n",
       "      <th>hm</th>\n",
       "      <th>sun10</th>\n",
       "      <th>ts</th>\n",
       "      <th>class</th>\n",
       "      <th>dew_point</th>\n",
       "      <th>dew_reached</th>\n",
       "      <th>temp_diff</th>\n",
       "    </tr>\n",
       "  </thead>\n",
       "  <tbody>\n",
       "    <tr>\n",
       "      <th>0</th>\n",
       "      <td>L</td>\n",
       "      <td>1</td>\n",
       "      <td>0</td>\n",
       "      <td>A</td>\n",
       "      <td>329.5</td>\n",
       "      <td>0.6</td>\n",
       "      <td>-2.5</td>\n",
       "      <td>0.0</td>\n",
       "      <td>87.5</td>\n",
       "      <td>0.0</td>\n",
       "      <td>-1.6</td>\n",
       "      <td>NaN</td>\n",
       "      <td>-4.223642</td>\n",
       "      <td>0</td>\n",
       "      <td>-0.9</td>\n",
       "    </tr>\n",
       "    <tr>\n",
       "      <th>1</th>\n",
       "      <td>L</td>\n",
       "      <td>1</td>\n",
       "      <td>0</td>\n",
       "      <td>A</td>\n",
       "      <td>321.8</td>\n",
       "      <td>1.2</td>\n",
       "      <td>-2.5</td>\n",
       "      <td>0.0</td>\n",
       "      <td>88.2</td>\n",
       "      <td>0.0</td>\n",
       "      <td>-1.6</td>\n",
       "      <td>NaN</td>\n",
       "      <td>-4.121508</td>\n",
       "      <td>0</td>\n",
       "      <td>-0.9</td>\n",
       "    </tr>\n",
       "    <tr>\n",
       "      <th>2</th>\n",
       "      <td>L</td>\n",
       "      <td>1</td>\n",
       "      <td>0</td>\n",
       "      <td>A</td>\n",
       "      <td>0.4</td>\n",
       "      <td>0.4</td>\n",
       "      <td>-2.5</td>\n",
       "      <td>0.0</td>\n",
       "      <td>88.6</td>\n",
       "      <td>0.0</td>\n",
       "      <td>-1.7</td>\n",
       "      <td>NaN</td>\n",
       "      <td>-4.063468</td>\n",
       "      <td>0</td>\n",
       "      <td>-0.8</td>\n",
       "    </tr>\n",
       "  </tbody>\n",
       "</table>\n",
       "</div>"
      ],
      "text/plain": [
       "  year  month  time stn_id  ws10_deg  ws10_ms   ta   re    hm  sun10   ts  \\\n",
       "0    L      1     0      A     329.5      0.6 -2.5  0.0  87.5    0.0 -1.6   \n",
       "1    L      1     0      A     321.8      1.2 -2.5  0.0  88.2    0.0 -1.6   \n",
       "2    L      1     0      A       0.4      0.4 -2.5  0.0  88.6    0.0 -1.7   \n",
       "\n",
       "   class  dew_point  dew_reached  temp_diff  \n",
       "0    NaN  -4.223642            0       -0.9  \n",
       "1    NaN  -4.121508            0       -0.9  \n",
       "2    NaN  -4.063468            0       -0.8  "
      ]
     },
     "execution_count": 7,
     "metadata": {},
     "output_type": "execute_result"
    }
   ],
   "source": [
    "test_df.head(3)"
   ]
  },
  {
   "cell_type": "markdown",
   "metadata": {},
   "source": [
    "## 3. 모델링"
   ]
  },
  {
   "cell_type": "markdown",
   "metadata": {},
   "source": [
    "### 3-1. 데이터 분리"
   ]
  },
  {
   "cell_type": "code",
   "execution_count": 8,
   "metadata": {},
   "outputs": [],
   "source": [
    "# Target 컬럼 : class\n",
    "target = \"class\"\n",
    "\n",
    "# 모델 생성시 사용할 컬럼 지정\n",
    "used_cols = [\"month\", \"time\", \"stn_id\", \"ta\", \"ts\", \"temp_diff\", \"hm\", \n",
    "             \"re\", \"ws10_deg\", \"ws10_ms\", \"sun10\", \"dew_reached\"]\n",
    "\n",
    "# train_df의 컬럼들 중 target (class) 제외한 컬럼들 X에 선언\n",
    "X = train_df[used_cols]\n",
    "y = train_df[target]"
   ]
  },
  {
   "cell_type": "markdown",
   "metadata": {},
   "source": [
    "#### 3-1-1. Train, Validation 데이터 분리"
   ]
  },
  {
   "cell_type": "code",
   "execution_count": 9,
   "metadata": {},
   "outputs": [
    {
     "data": {
      "text/plain": [
       "((2246136, 12), (748713, 12), (2246136,), (748713,))"
      ]
     },
     "execution_count": 9,
     "metadata": {},
     "output_type": "execute_result"
    }
   ],
   "source": [
    "X_train, X_val, y_train, y_val = train_test_split(X, y, random_state=42, train_size=0.75, stratify=y)\n",
    "X_train.shape, X_val.shape, y_train.shape, y_val.shape"
   ]
  },
  {
   "cell_type": "code",
   "execution_count": 14,
   "metadata": {},
   "outputs": [
    {
     "data": {
      "text/plain": [
       "(262800, 12)"
      ]
     },
     "execution_count": 14,
     "metadata": {},
     "output_type": "execute_result"
    }
   ],
   "source": [
    "X_test = test_df[used_cols]\n",
    "X_test.shape"
   ]
  },
  {
   "cell_type": "markdown",
   "metadata": {},
   "source": [
    "### 3-2. CSI 지수 생성"
   ]
  },
  {
   "cell_type": "code",
   "execution_count": 20,
   "metadata": {},
   "outputs": [],
   "source": [
    "# CSI 지수 함수 생성\n",
    "def csi_index(y_true, y_pred):\n",
    "\n",
    "    model_cm = confusion_matrix(y_true, y_pred)\n",
    "\n",
    "    H = (model_cm[0][0] + model_cm[1][1] + model_cm[2][2])\n",
    "    F = (model_cm[0][1] + model_cm[0][2] +\n",
    "            model_cm[1][0] + model_cm[1][2] +\n",
    "            model_cm[2][0] + model_cm[2][1] +\n",
    "            model_cm[3][0] + model_cm[3][1] + model_cm[3][2])\n",
    "    M = (model_cm[0][3] + model_cm[1][3] + model_cm[2][3])\n",
    "\n",
    "    model_csi = H / (H + F + M)\n",
    "\n",
    "    return model_csi\n",
    "\n",
    "csi_scorer = make_scorer(csi_index, greater_is_better=True)"
   ]
  },
  {
   "cell_type": "markdown",
   "metadata": {},
   "source": [
    "### 3-3. 인코딩"
   ]
  },
  {
   "cell_type": "markdown",
   "metadata": {},
   "source": [
    "#### 3-3-1. Label Encoding"
   ]
  },
  {
   "cell_type": "code",
   "execution_count": 15,
   "metadata": {},
   "outputs": [],
   "source": [
    "# Label Encoding 적용을 위해 train, val, test 데이터 copy()\n",
    "X_train_labeled = X_train.copy()\n",
    "X_val_labeled = X_val.copy()\n",
    "X_test_labeled = X_test.copy()"
   ]
  },
  {
   "cell_type": "code",
   "execution_count": 16,
   "metadata": {},
   "outputs": [],
   "source": [
    "# stn_id를 각각 1 ~ 5로 정한 딕셔너리 생성\n",
    "stn_id_map = {\"A\" : 1,\n",
    "              \"B\" : 2,\n",
    "              \"C\" : 3,\n",
    "              \"D\" : 4,\n",
    "              \"E\" : 5}\n",
    "\n",
    "# stn_id_map을 바탕으로 stn_id 컬럼 mapping\n",
    "X_train_labeled[\"stn_id\"] = X_train_labeled[\"stn_id\"].map(stn_id_map)\n",
    "X_val_labeled[\"stn_id\"] = X_val_labeled[\"stn_id\"].map(stn_id_map)\n",
    "X_test_labeled[\"stn_id\"] = X_test_labeled[\"stn_id\"].map(stn_id_map)"
   ]
  },
  {
   "cell_type": "markdown",
   "metadata": {},
   "source": [
    "### 3-4. Baseline 모델 생성"
   ]
  },
  {
   "cell_type": "code",
   "execution_count": 19,
   "metadata": {},
   "outputs": [
    {
     "data": {
      "text/html": [
       "<style>#sk-container-id-1 {\n",
       "  /* Definition of color scheme common for light and dark mode */\n",
       "  --sklearn-color-text: black;\n",
       "  --sklearn-color-line: gray;\n",
       "  /* Definition of color scheme for unfitted estimators */\n",
       "  --sklearn-color-unfitted-level-0: #fff5e6;\n",
       "  --sklearn-color-unfitted-level-1: #f6e4d2;\n",
       "  --sklearn-color-unfitted-level-2: #ffe0b3;\n",
       "  --sklearn-color-unfitted-level-3: chocolate;\n",
       "  /* Definition of color scheme for fitted estimators */\n",
       "  --sklearn-color-fitted-level-0: #f0f8ff;\n",
       "  --sklearn-color-fitted-level-1: #d4ebff;\n",
       "  --sklearn-color-fitted-level-2: #b3dbfd;\n",
       "  --sklearn-color-fitted-level-3: cornflowerblue;\n",
       "\n",
       "  /* Specific color for light theme */\n",
       "  --sklearn-color-text-on-default-background: var(--sg-text-color, var(--theme-code-foreground, var(--jp-content-font-color1, black)));\n",
       "  --sklearn-color-background: var(--sg-background-color, var(--theme-background, var(--jp-layout-color0, white)));\n",
       "  --sklearn-color-border-box: var(--sg-text-color, var(--theme-code-foreground, var(--jp-content-font-color1, black)));\n",
       "  --sklearn-color-icon: #696969;\n",
       "\n",
       "  @media (prefers-color-scheme: dark) {\n",
       "    /* Redefinition of color scheme for dark theme */\n",
       "    --sklearn-color-text-on-default-background: var(--sg-text-color, var(--theme-code-foreground, var(--jp-content-font-color1, white)));\n",
       "    --sklearn-color-background: var(--sg-background-color, var(--theme-background, var(--jp-layout-color0, #111)));\n",
       "    --sklearn-color-border-box: var(--sg-text-color, var(--theme-code-foreground, var(--jp-content-font-color1, white)));\n",
       "    --sklearn-color-icon: #878787;\n",
       "  }\n",
       "}\n",
       "\n",
       "#sk-container-id-1 {\n",
       "  color: var(--sklearn-color-text);\n",
       "}\n",
       "\n",
       "#sk-container-id-1 pre {\n",
       "  padding: 0;\n",
       "}\n",
       "\n",
       "#sk-container-id-1 input.sk-hidden--visually {\n",
       "  border: 0;\n",
       "  clip: rect(1px 1px 1px 1px);\n",
       "  clip: rect(1px, 1px, 1px, 1px);\n",
       "  height: 1px;\n",
       "  margin: -1px;\n",
       "  overflow: hidden;\n",
       "  padding: 0;\n",
       "  position: absolute;\n",
       "  width: 1px;\n",
       "}\n",
       "\n",
       "#sk-container-id-1 div.sk-dashed-wrapped {\n",
       "  border: 1px dashed var(--sklearn-color-line);\n",
       "  margin: 0 0.4em 0.5em 0.4em;\n",
       "  box-sizing: border-box;\n",
       "  padding-bottom: 0.4em;\n",
       "  background-color: var(--sklearn-color-background);\n",
       "}\n",
       "\n",
       "#sk-container-id-1 div.sk-container {\n",
       "  /* jupyter's `normalize.less` sets `[hidden] { display: none; }`\n",
       "     but bootstrap.min.css set `[hidden] { display: none !important; }`\n",
       "     so we also need the `!important` here to be able to override the\n",
       "     default hidden behavior on the sphinx rendered scikit-learn.org.\n",
       "     See: https://github.com/scikit-learn/scikit-learn/issues/21755 */\n",
       "  display: inline-block !important;\n",
       "  position: relative;\n",
       "}\n",
       "\n",
       "#sk-container-id-1 div.sk-text-repr-fallback {\n",
       "  display: none;\n",
       "}\n",
       "\n",
       "div.sk-parallel-item,\n",
       "div.sk-serial,\n",
       "div.sk-item {\n",
       "  /* draw centered vertical line to link estimators */\n",
       "  background-image: linear-gradient(var(--sklearn-color-text-on-default-background), var(--sklearn-color-text-on-default-background));\n",
       "  background-size: 2px 100%;\n",
       "  background-repeat: no-repeat;\n",
       "  background-position: center center;\n",
       "}\n",
       "\n",
       "/* Parallel-specific style estimator block */\n",
       "\n",
       "#sk-container-id-1 div.sk-parallel-item::after {\n",
       "  content: \"\";\n",
       "  width: 100%;\n",
       "  border-bottom: 2px solid var(--sklearn-color-text-on-default-background);\n",
       "  flex-grow: 1;\n",
       "}\n",
       "\n",
       "#sk-container-id-1 div.sk-parallel {\n",
       "  display: flex;\n",
       "  align-items: stretch;\n",
       "  justify-content: center;\n",
       "  background-color: var(--sklearn-color-background);\n",
       "  position: relative;\n",
       "}\n",
       "\n",
       "#sk-container-id-1 div.sk-parallel-item {\n",
       "  display: flex;\n",
       "  flex-direction: column;\n",
       "}\n",
       "\n",
       "#sk-container-id-1 div.sk-parallel-item:first-child::after {\n",
       "  align-self: flex-end;\n",
       "  width: 50%;\n",
       "}\n",
       "\n",
       "#sk-container-id-1 div.sk-parallel-item:last-child::after {\n",
       "  align-self: flex-start;\n",
       "  width: 50%;\n",
       "}\n",
       "\n",
       "#sk-container-id-1 div.sk-parallel-item:only-child::after {\n",
       "  width: 0;\n",
       "}\n",
       "\n",
       "/* Serial-specific style estimator block */\n",
       "\n",
       "#sk-container-id-1 div.sk-serial {\n",
       "  display: flex;\n",
       "  flex-direction: column;\n",
       "  align-items: center;\n",
       "  background-color: var(--sklearn-color-background);\n",
       "  padding-right: 1em;\n",
       "  padding-left: 1em;\n",
       "}\n",
       "\n",
       "\n",
       "/* Toggleable style: style used for estimator/Pipeline/ColumnTransformer box that is\n",
       "clickable and can be expanded/collapsed.\n",
       "- Pipeline and ColumnTransformer use this feature and define the default style\n",
       "- Estimators will overwrite some part of the style using the `sk-estimator` class\n",
       "*/\n",
       "\n",
       "/* Pipeline and ColumnTransformer style (default) */\n",
       "\n",
       "#sk-container-id-1 div.sk-toggleable {\n",
       "  /* Default theme specific background. It is overwritten whether we have a\n",
       "  specific estimator or a Pipeline/ColumnTransformer */\n",
       "  background-color: var(--sklearn-color-background);\n",
       "}\n",
       "\n",
       "/* Toggleable label */\n",
       "#sk-container-id-1 label.sk-toggleable__label {\n",
       "  cursor: pointer;\n",
       "  display: block;\n",
       "  width: 100%;\n",
       "  margin-bottom: 0;\n",
       "  padding: 0.5em;\n",
       "  box-sizing: border-box;\n",
       "  text-align: center;\n",
       "}\n",
       "\n",
       "#sk-container-id-1 label.sk-toggleable__label-arrow:before {\n",
       "  /* Arrow on the left of the label */\n",
       "  content: \"▸\";\n",
       "  float: left;\n",
       "  margin-right: 0.25em;\n",
       "  color: var(--sklearn-color-icon);\n",
       "}\n",
       "\n",
       "#sk-container-id-1 label.sk-toggleable__label-arrow:hover:before {\n",
       "  color: var(--sklearn-color-text);\n",
       "}\n",
       "\n",
       "/* Toggleable content - dropdown */\n",
       "\n",
       "#sk-container-id-1 div.sk-toggleable__content {\n",
       "  max-height: 0;\n",
       "  max-width: 0;\n",
       "  overflow: hidden;\n",
       "  text-align: left;\n",
       "  /* unfitted */\n",
       "  background-color: var(--sklearn-color-unfitted-level-0);\n",
       "}\n",
       "\n",
       "#sk-container-id-1 div.sk-toggleable__content.fitted {\n",
       "  /* fitted */\n",
       "  background-color: var(--sklearn-color-fitted-level-0);\n",
       "}\n",
       "\n",
       "#sk-container-id-1 div.sk-toggleable__content pre {\n",
       "  margin: 0.2em;\n",
       "  border-radius: 0.25em;\n",
       "  color: var(--sklearn-color-text);\n",
       "  /* unfitted */\n",
       "  background-color: var(--sklearn-color-unfitted-level-0);\n",
       "}\n",
       "\n",
       "#sk-container-id-1 div.sk-toggleable__content.fitted pre {\n",
       "  /* unfitted */\n",
       "  background-color: var(--sklearn-color-fitted-level-0);\n",
       "}\n",
       "\n",
       "#sk-container-id-1 input.sk-toggleable__control:checked~div.sk-toggleable__content {\n",
       "  /* Expand drop-down */\n",
       "  max-height: 200px;\n",
       "  max-width: 100%;\n",
       "  overflow: auto;\n",
       "}\n",
       "\n",
       "#sk-container-id-1 input.sk-toggleable__control:checked~label.sk-toggleable__label-arrow:before {\n",
       "  content: \"▾\";\n",
       "}\n",
       "\n",
       "/* Pipeline/ColumnTransformer-specific style */\n",
       "\n",
       "#sk-container-id-1 div.sk-label input.sk-toggleable__control:checked~label.sk-toggleable__label {\n",
       "  color: var(--sklearn-color-text);\n",
       "  background-color: var(--sklearn-color-unfitted-level-2);\n",
       "}\n",
       "\n",
       "#sk-container-id-1 div.sk-label.fitted input.sk-toggleable__control:checked~label.sk-toggleable__label {\n",
       "  background-color: var(--sklearn-color-fitted-level-2);\n",
       "}\n",
       "\n",
       "/* Estimator-specific style */\n",
       "\n",
       "/* Colorize estimator box */\n",
       "#sk-container-id-1 div.sk-estimator input.sk-toggleable__control:checked~label.sk-toggleable__label {\n",
       "  /* unfitted */\n",
       "  background-color: var(--sklearn-color-unfitted-level-2);\n",
       "}\n",
       "\n",
       "#sk-container-id-1 div.sk-estimator.fitted input.sk-toggleable__control:checked~label.sk-toggleable__label {\n",
       "  /* fitted */\n",
       "  background-color: var(--sklearn-color-fitted-level-2);\n",
       "}\n",
       "\n",
       "#sk-container-id-1 div.sk-label label.sk-toggleable__label,\n",
       "#sk-container-id-1 div.sk-label label {\n",
       "  /* The background is the default theme color */\n",
       "  color: var(--sklearn-color-text-on-default-background);\n",
       "}\n",
       "\n",
       "/* On hover, darken the color of the background */\n",
       "#sk-container-id-1 div.sk-label:hover label.sk-toggleable__label {\n",
       "  color: var(--sklearn-color-text);\n",
       "  background-color: var(--sklearn-color-unfitted-level-2);\n",
       "}\n",
       "\n",
       "/* Label box, darken color on hover, fitted */\n",
       "#sk-container-id-1 div.sk-label.fitted:hover label.sk-toggleable__label.fitted {\n",
       "  color: var(--sklearn-color-text);\n",
       "  background-color: var(--sklearn-color-fitted-level-2);\n",
       "}\n",
       "\n",
       "/* Estimator label */\n",
       "\n",
       "#sk-container-id-1 div.sk-label label {\n",
       "  font-family: monospace;\n",
       "  font-weight: bold;\n",
       "  display: inline-block;\n",
       "  line-height: 1.2em;\n",
       "}\n",
       "\n",
       "#sk-container-id-1 div.sk-label-container {\n",
       "  text-align: center;\n",
       "}\n",
       "\n",
       "/* Estimator-specific */\n",
       "#sk-container-id-1 div.sk-estimator {\n",
       "  font-family: monospace;\n",
       "  border: 1px dotted var(--sklearn-color-border-box);\n",
       "  border-radius: 0.25em;\n",
       "  box-sizing: border-box;\n",
       "  margin-bottom: 0.5em;\n",
       "  /* unfitted */\n",
       "  background-color: var(--sklearn-color-unfitted-level-0);\n",
       "}\n",
       "\n",
       "#sk-container-id-1 div.sk-estimator.fitted {\n",
       "  /* fitted */\n",
       "  background-color: var(--sklearn-color-fitted-level-0);\n",
       "}\n",
       "\n",
       "/* on hover */\n",
       "#sk-container-id-1 div.sk-estimator:hover {\n",
       "  /* unfitted */\n",
       "  background-color: var(--sklearn-color-unfitted-level-2);\n",
       "}\n",
       "\n",
       "#sk-container-id-1 div.sk-estimator.fitted:hover {\n",
       "  /* fitted */\n",
       "  background-color: var(--sklearn-color-fitted-level-2);\n",
       "}\n",
       "\n",
       "/* Specification for estimator info (e.g. \"i\" and \"?\") */\n",
       "\n",
       "/* Common style for \"i\" and \"?\" */\n",
       "\n",
       ".sk-estimator-doc-link,\n",
       "a:link.sk-estimator-doc-link,\n",
       "a:visited.sk-estimator-doc-link {\n",
       "  float: right;\n",
       "  font-size: smaller;\n",
       "  line-height: 1em;\n",
       "  font-family: monospace;\n",
       "  background-color: var(--sklearn-color-background);\n",
       "  border-radius: 1em;\n",
       "  height: 1em;\n",
       "  width: 1em;\n",
       "  text-decoration: none !important;\n",
       "  margin-left: 1ex;\n",
       "  /* unfitted */\n",
       "  border: var(--sklearn-color-unfitted-level-1) 1pt solid;\n",
       "  color: var(--sklearn-color-unfitted-level-1);\n",
       "}\n",
       "\n",
       ".sk-estimator-doc-link.fitted,\n",
       "a:link.sk-estimator-doc-link.fitted,\n",
       "a:visited.sk-estimator-doc-link.fitted {\n",
       "  /* fitted */\n",
       "  border: var(--sklearn-color-fitted-level-1) 1pt solid;\n",
       "  color: var(--sklearn-color-fitted-level-1);\n",
       "}\n",
       "\n",
       "/* On hover */\n",
       "div.sk-estimator:hover .sk-estimator-doc-link:hover,\n",
       ".sk-estimator-doc-link:hover,\n",
       "div.sk-label-container:hover .sk-estimator-doc-link:hover,\n",
       ".sk-estimator-doc-link:hover {\n",
       "  /* unfitted */\n",
       "  background-color: var(--sklearn-color-unfitted-level-3);\n",
       "  color: var(--sklearn-color-background);\n",
       "  text-decoration: none;\n",
       "}\n",
       "\n",
       "div.sk-estimator.fitted:hover .sk-estimator-doc-link.fitted:hover,\n",
       ".sk-estimator-doc-link.fitted:hover,\n",
       "div.sk-label-container:hover .sk-estimator-doc-link.fitted:hover,\n",
       ".sk-estimator-doc-link.fitted:hover {\n",
       "  /* fitted */\n",
       "  background-color: var(--sklearn-color-fitted-level-3);\n",
       "  color: var(--sklearn-color-background);\n",
       "  text-decoration: none;\n",
       "}\n",
       "\n",
       "/* Span, style for the box shown on hovering the info icon */\n",
       ".sk-estimator-doc-link span {\n",
       "  display: none;\n",
       "  z-index: 9999;\n",
       "  position: relative;\n",
       "  font-weight: normal;\n",
       "  right: .2ex;\n",
       "  padding: .5ex;\n",
       "  margin: .5ex;\n",
       "  width: min-content;\n",
       "  min-width: 20ex;\n",
       "  max-width: 50ex;\n",
       "  color: var(--sklearn-color-text);\n",
       "  box-shadow: 2pt 2pt 4pt #999;\n",
       "  /* unfitted */\n",
       "  background: var(--sklearn-color-unfitted-level-0);\n",
       "  border: .5pt solid var(--sklearn-color-unfitted-level-3);\n",
       "}\n",
       "\n",
       ".sk-estimator-doc-link.fitted span {\n",
       "  /* fitted */\n",
       "  background: var(--sklearn-color-fitted-level-0);\n",
       "  border: var(--sklearn-color-fitted-level-3);\n",
       "}\n",
       "\n",
       ".sk-estimator-doc-link:hover span {\n",
       "  display: block;\n",
       "}\n",
       "\n",
       "/* \"?\"-specific style due to the `<a>` HTML tag */\n",
       "\n",
       "#sk-container-id-1 a.estimator_doc_link {\n",
       "  float: right;\n",
       "  font-size: 1rem;\n",
       "  line-height: 1em;\n",
       "  font-family: monospace;\n",
       "  background-color: var(--sklearn-color-background);\n",
       "  border-radius: 1rem;\n",
       "  height: 1rem;\n",
       "  width: 1rem;\n",
       "  text-decoration: none;\n",
       "  /* unfitted */\n",
       "  color: var(--sklearn-color-unfitted-level-1);\n",
       "  border: var(--sklearn-color-unfitted-level-1) 1pt solid;\n",
       "}\n",
       "\n",
       "#sk-container-id-1 a.estimator_doc_link.fitted {\n",
       "  /* fitted */\n",
       "  border: var(--sklearn-color-fitted-level-1) 1pt solid;\n",
       "  color: var(--sklearn-color-fitted-level-1);\n",
       "}\n",
       "\n",
       "/* On hover */\n",
       "#sk-container-id-1 a.estimator_doc_link:hover {\n",
       "  /* unfitted */\n",
       "  background-color: var(--sklearn-color-unfitted-level-3);\n",
       "  color: var(--sklearn-color-background);\n",
       "  text-decoration: none;\n",
       "}\n",
       "\n",
       "#sk-container-id-1 a.estimator_doc_link.fitted:hover {\n",
       "  /* fitted */\n",
       "  background-color: var(--sklearn-color-fitted-level-3);\n",
       "}\n",
       "</style><div id=\"sk-container-id-1\" class=\"sk-top-container\"><div class=\"sk-text-repr-fallback\"><pre>DecisionTreeClassifier(random_state=42)</pre><b>In a Jupyter environment, please rerun this cell to show the HTML representation or trust the notebook. <br />On GitHub, the HTML representation is unable to render, please try loading this page with nbviewer.org.</b></div><div class=\"sk-container\" hidden><div class=\"sk-item\"><div class=\"sk-estimator fitted sk-toggleable\"><input class=\"sk-toggleable__control sk-hidden--visually\" id=\"sk-estimator-id-1\" type=\"checkbox\" checked><label for=\"sk-estimator-id-1\" class=\"sk-toggleable__label fitted sk-toggleable__label-arrow fitted\">&nbsp;&nbsp;DecisionTreeClassifier<a class=\"sk-estimator-doc-link fitted\" rel=\"noreferrer\" target=\"_blank\" href=\"https://scikit-learn.org/1.4/modules/generated/sklearn.tree.DecisionTreeClassifier.html\">?<span>Documentation for DecisionTreeClassifier</span></a><span class=\"sk-estimator-doc-link fitted\">i<span>Fitted</span></span></label><div class=\"sk-toggleable__content fitted\"><pre>DecisionTreeClassifier(random_state=42)</pre></div> </div></div></div></div>"
      ],
      "text/plain": [
       "DecisionTreeClassifier(random_state=42)"
      ]
     },
     "execution_count": 19,
     "metadata": {},
     "output_type": "execute_result"
    }
   ],
   "source": [
    "# 의사결정나무 모델로 Baseline 모델 생성\n",
    "dt = DecisionTreeClassifier(random_state=42)\n",
    "dt.fit(X_train_labeled, y_train)"
   ]
  },
  {
   "cell_type": "code",
   "execution_count": 21,
   "metadata": {},
   "outputs": [],
   "source": [
    "def model_comparison(models, X_train, y_train, X_val, y_val, when=\"Before\"):\n",
    "    models_results = []\n",
    "\n",
    "    for model_name, model in models:\n",
    "\n",
    "        # 모델 생성 및 훈련\n",
    "        # 트리 기반 모델들은 각 변수의 information gain을 기반으로 판단하기 때문에 굳이 스케일링 해줄 필요가 없다\n",
    "\n",
    "        model.fit(X_train, y_train)\n",
    "\n",
    "        y_train_pred = model.predict(X_train)\n",
    "        y_val_pred = model.predict(X_val)\n",
    "\n",
    "        # 모델의 Accuracy, Precision, Recall, F1 score, CSI 지수 확인\n",
    "        accuracy = accuracy_score(y_val, y_val_pred)\n",
    "        precision = precision_score(y_val, y_val_pred, average=\"weighted\")\n",
    "        recall = recall_score(y_val, y_val_pred, average=\"weighted\")\n",
    "        f1_score_ = f1_score(y_val, y_val_pred, average=\"weighted\")\n",
    "        csi_index_ = csi_index(y_val, y_val_pred)\n",
    "        # rootMeanSqLogErr = get_rmsle(y_val, y_val_pred)\n",
    "\n",
    "        # 결과를 리스트에 저장\n",
    "        models_results.append({\"Model\" : model_name,\n",
    "                               \"Accuracy\" : np.round(accuracy, 4),\n",
    "                               \"Precision\" : np.round(precision, 4),\n",
    "                               \"Recall\" : np.round(recall, 4),\n",
    "                               \"F1 Score\" : np.round(f1_score_, 4),\n",
    "                               \"CSI Index\" : np.round(csi_index_, 4)\n",
    "                               })\n",
    "\n",
    "    # 결과 리스트를 DataFrame으로 변환\n",
    "    models_df = pd.DataFrame(models_results)\n",
    "\n",
    "    print(f\"\\n======== Models {when} Hyper Parameter Tuning ========\\n\")\n",
    "\n",
    "    return models_df.sort_values(by=[\"CSI Index\", \"Accuracy\", \"F1 Score\"],\n",
    "                                 ascending=[False, True, False]\n",
    "                                 ).reset_index(drop=True)\n"
   ]
  },
  {
   "cell_type": "code",
   "execution_count": 29,
   "metadata": {},
   "outputs": [],
   "source": [
    "def model_comparison_cat(models, X_train, y_train, X_val, y_val, when=\"Before\"):\n",
    "    models_results = []\n",
    "\n",
    "    for model_name, model in models:\n",
    "\n",
    "        # 모델 생성 및 훈련\n",
    "        # 트리 기반 모델들은 각 변수의 information gain을 기반으로 판단하기 때문에 굳이 스케일링 해줄 필요가 없다\n",
    "\n",
    "        if model_name in [\"CatBoost\", \"CatBoost_tuned\"]:\n",
    "            cat_features = X_train.select_dtypes(exclude=np.number).columns.tolist()\n",
    "\n",
    "            # 모델 생성 및 훈련\n",
    "            model.fit(X_train_no_enc, y_train, cat_features=cat_features)\n",
    "\n",
    "            # Robust Scaling 거치지 않은 train 데이터를 바탕으로 예측\n",
    "            y_train_pred_cat = model.predict(X_train_no_enc)\n",
    "            y_val_pred_cat = model.predict(X_val_no_enc)\n",
    "\n",
    "            # 모델의 Accuracy, Precision, Recall, F1 score, CSI 지수 확인\n",
    "            accuracy = accuracy_score(y_val, y_val_pred_cat)\n",
    "            precision = precision_score(y_val, y_val_pred_cat, average=\"weighted\")\n",
    "            recall = recall_score(y_val, y_val_pred_cat, average=\"weighted\")\n",
    "            f1_score_ = f1_score(y_val, y_val_pred_cat, average=\"weighted\")\n",
    "            csi_index_ = csi_index(y_val, y_val_pred_cat)\n",
    "            # rootMeanSqLogErr = get_rmsle(y_val, y_val_pred_cat)\n",
    "\n",
    "            # 결과를 리스트에 저장\n",
    "            models_results.append({\"Model\" : model_name,\n",
    "                                \"Accuracy\" : np.round(accuracy, 4),\n",
    "                                \"Precision\" : np.round(precision, 4),\n",
    "                                \"Recall\" : np.round(recall, 4),\n",
    "                                \"F1 Score\" : np.round(f1_score_, 4),\n",
    "                                \"CSI Index\" : np.round(csi_index_, 4)\n",
    "                                })\n",
    "\n",
    "        else:\n",
    "            model.fit(X_train, y_train)\n",
    "\n",
    "            y_train_pred = model.predict(X_train)\n",
    "            y_val_pred = model.predict(X_val)\n",
    "\n",
    "            # 모델의 Accuracy, Precision, Recall, F1 score, CSI 지수 확인\n",
    "            accuracy = accuracy_score(y_val, y_val_pred)\n",
    "            precision = precision_score(y_val, y_val_pred, average=\"weighted\")\n",
    "            recall = recall_score(y_val, y_val_pred, average=\"weighted\")\n",
    "            f1_score_ = f1_score(y_val, y_val_pred, average=\"weighted\")\n",
    "            csi_index_ = csi_index(y_val, y_val_pred)\n",
    "            # rootMeanSqLogErr = get_rmsle(y_val, y_val_pred)\n",
    "\n",
    "            # 결과를 리스트에 저장\n",
    "            models_results.append({\"Model\" : model_name,\n",
    "                                \"Accuracy\" : np.round(accuracy, 4),\n",
    "                                \"Precision\" : np.round(precision, 4),\n",
    "                                \"Recall\" : np.round(recall, 4),\n",
    "                                \"F1 Score\" : np.round(f1_score_, 4),\n",
    "                                \"CSI Index\" : np.round(csi_index_, 4)\n",
    "                                })\n",
    "\n",
    "    # 결과 리스트를 DataFrame으로 변환\n",
    "    models_df = pd.DataFrame(models_results)\n",
    "\n",
    "    print(f\"\\n======== Models {when} Hyper Parameter Tuning ========\\n\")\n",
    "\n",
    "    return models_df.sort_values(by=[\"CSI Index\", \"Accuracy\", \"F1 Score\"],\n",
    "                                 ascending=[False, True, False]\n",
    "                                 ).reset_index(drop=True)\n"
   ]
  },
  {
   "cell_type": "markdown",
   "metadata": {},
   "source": [
    "### 3-5. 하이퍼 파라미터 튜닝 전 모델 생성 (CatBoost)"
   ]
  },
  {
   "cell_type": "code",
   "execution_count": 30,
   "metadata": {},
   "outputs": [],
   "source": [
    "models = [\n",
    "    (\"Decision Tree\", DecisionTreeClassifier(random_state=42)),\n",
    "    (\"CatBoost\", CatBoostClassifier(loss_function='MultiClass', verbose=0, task_type=\"GPU\",random_state=42)),\n",
    "    # (\"Naive Bayes\", GaussianNB()),\n",
    "    # (\"Random Forest\", RandomForestClassifier(random_state=42))\n",
    "]"
   ]
  },
  {
   "cell_type": "code",
   "execution_count": 23,
   "metadata": {},
   "outputs": [
    {
     "name": "stdout",
     "output_type": "stream",
     "text": [
      "\n",
      "======== Models Before Hyper Parameter Tuning ========\n",
      "\n"
     ]
    },
    {
     "data": {
      "text/html": [
       "<div>\n",
       "<style scoped>\n",
       "    .dataframe tbody tr th:only-of-type {\n",
       "        vertical-align: middle;\n",
       "    }\n",
       "\n",
       "    .dataframe tbody tr th {\n",
       "        vertical-align: top;\n",
       "    }\n",
       "\n",
       "    .dataframe thead th {\n",
       "        text-align: right;\n",
       "    }\n",
       "</style>\n",
       "<table border=\"1\" class=\"dataframe\">\n",
       "  <thead>\n",
       "    <tr style=\"text-align: right;\">\n",
       "      <th></th>\n",
       "      <th>Model</th>\n",
       "      <th>Accuracy</th>\n",
       "      <th>Precision</th>\n",
       "      <th>Recall</th>\n",
       "      <th>F1 Score</th>\n",
       "      <th>CSI Index</th>\n",
       "    </tr>\n",
       "  </thead>\n",
       "  <tbody>\n",
       "    <tr>\n",
       "      <th>0</th>\n",
       "      <td>Decision Tree</td>\n",
       "      <td>0.9875</td>\n",
       "      <td>0.9884</td>\n",
       "      <td>0.9875</td>\n",
       "      <td>0.9879</td>\n",
       "      <td>0.2378</td>\n",
       "    </tr>\n",
       "    <tr>\n",
       "      <th>1</th>\n",
       "      <td>CatBoost</td>\n",
       "      <td>0.9911</td>\n",
       "      <td>0.9881</td>\n",
       "      <td>0.9911</td>\n",
       "      <td>0.9885</td>\n",
       "      <td>0.1947</td>\n",
       "    </tr>\n",
       "  </tbody>\n",
       "</table>\n",
       "</div>"
      ],
      "text/plain": [
       "           Model  Accuracy  Precision  Recall  F1 Score  CSI Index\n",
       "0  Decision Tree    0.9875     0.9884  0.9875    0.9879     0.2378\n",
       "1       CatBoost    0.9911     0.9881  0.9911    0.9885     0.1947"
      ]
     },
     "execution_count": 23,
     "metadata": {},
     "output_type": "execute_result"
    }
   ],
   "source": [
    "model_comparison(models, X_train_labeled, y_train, X_val_labeled, y_val)"
   ]
  },
  {
   "cell_type": "markdown",
   "metadata": {},
   "source": [
    "#### 3-5-2. 범주형 변수 인코딩 하지 않은 데이터셋 모델 생성 (CatBoost)"
   ]
  },
  {
   "cell_type": "code",
   "execution_count": 31,
   "metadata": {},
   "outputs": [],
   "source": [
    "X_train_no_enc = X_train.copy()\n",
    "X_val_no_enc = X_val.copy()"
   ]
  },
  {
   "cell_type": "code",
   "execution_count": 32,
   "metadata": {},
   "outputs": [
    {
     "ename": "CatBoostError",
     "evalue": "Bad value for num_feature[non_default_doc_idx=0,feature_idx=2]=\"D\": Cannot convert 'b'D'' to float",
     "output_type": "error",
     "traceback": [
      "\u001b[1;31m---------------------------------------------------------------------------\u001b[0m",
      "\u001b[1;31mTypeError\u001b[0m                                 Traceback (most recent call last)",
      "File \u001b[1;32m_catboost.pyx:2383\u001b[0m, in \u001b[0;36m_catboost.get_float_feature\u001b[1;34m()\u001b[0m\n",
      "File \u001b[1;32m_catboost.pyx:1188\u001b[0m, in \u001b[0;36m_catboost._FloatOrNan\u001b[1;34m()\u001b[0m\n",
      "File \u001b[1;32m_catboost.pyx:983\u001b[0m, in \u001b[0;36m_catboost._FloatOrNanFromString\u001b[1;34m()\u001b[0m\n",
      "\u001b[1;31mTypeError\u001b[0m: Cannot convert 'b'D'' to float",
      "\nDuring handling of the above exception, another exception occurred:\n",
      "\u001b[1;31mCatBoostError\u001b[0m                             Traceback (most recent call last)",
      "Cell \u001b[1;32mIn[32], line 1\u001b[0m\n\u001b[1;32m----> 1\u001b[0m model_comparison_cat(models, X_train_labeled, y_train, X_val_labeled, y_val)\n",
      "Cell \u001b[1;32mIn[29], line 13\u001b[0m, in \u001b[0;36mmodel_comparison_cat\u001b[1;34m(models, X_train, y_train, X_val, y_val, when)\u001b[0m\n\u001b[0;32m     10\u001b[0m cat_features \u001b[38;5;241m=\u001b[39m X_train\u001b[38;5;241m.\u001b[39mselect_dtypes(exclude\u001b[38;5;241m=\u001b[39mnp\u001b[38;5;241m.\u001b[39mnumber)\u001b[38;5;241m.\u001b[39mcolumns\u001b[38;5;241m.\u001b[39mtolist()\n\u001b[0;32m     12\u001b[0m \u001b[38;5;66;03m# 모델 생성 및 훈련\u001b[39;00m\n\u001b[1;32m---> 13\u001b[0m model\u001b[38;5;241m.\u001b[39mfit(X_train_no_enc, y_train, cat_features\u001b[38;5;241m=\u001b[39mcat_features)\n\u001b[0;32m     15\u001b[0m \u001b[38;5;66;03m# Robust Scaling 거치지 않은 train 데이터를 바탕으로 예측\u001b[39;00m\n\u001b[0;32m     16\u001b[0m y_train_pred_cat \u001b[38;5;241m=\u001b[39m model\u001b[38;5;241m.\u001b[39mpredict(X_train_no_enc)\n",
      "File \u001b[1;32mc:\\Users\\aryij\\anaconda3\\envs\\weather2\\Lib\\site-packages\\catboost\\core.py:5220\u001b[0m, in \u001b[0;36mCatBoostClassifier.fit\u001b[1;34m(self, X, y, cat_features, text_features, embedding_features, sample_weight, baseline, use_best_model, eval_set, verbose, logging_level, plot, plot_file, column_description, verbose_eval, metric_period, silent, early_stopping_rounds, save_snapshot, snapshot_file, snapshot_interval, init_model, callbacks, log_cout, log_cerr)\u001b[0m\n\u001b[0;32m   5217\u001b[0m \u001b[38;5;28;01mif\u001b[39;00m \u001b[38;5;124m'\u001b[39m\u001b[38;5;124mloss_function\u001b[39m\u001b[38;5;124m'\u001b[39m \u001b[38;5;129;01min\u001b[39;00m params:\n\u001b[0;32m   5218\u001b[0m     CatBoostClassifier\u001b[38;5;241m.\u001b[39m_check_is_compatible_loss(params[\u001b[38;5;124m'\u001b[39m\u001b[38;5;124mloss_function\u001b[39m\u001b[38;5;124m'\u001b[39m])\n\u001b[1;32m-> 5220\u001b[0m \u001b[38;5;28mself\u001b[39m\u001b[38;5;241m.\u001b[39m_fit(X, y, cat_features, text_features, embedding_features, \u001b[38;5;28;01mNone\u001b[39;00m, sample_weight, \u001b[38;5;28;01mNone\u001b[39;00m, \u001b[38;5;28;01mNone\u001b[39;00m, \u001b[38;5;28;01mNone\u001b[39;00m, \u001b[38;5;28;01mNone\u001b[39;00m, baseline, use_best_model,\n\u001b[0;32m   5221\u001b[0m           eval_set, verbose, logging_level, plot, plot_file, column_description, verbose_eval, metric_period,\n\u001b[0;32m   5222\u001b[0m           silent, early_stopping_rounds, save_snapshot, snapshot_file, snapshot_interval, init_model, callbacks, log_cout, log_cerr)\n\u001b[0;32m   5223\u001b[0m \u001b[38;5;28;01mreturn\u001b[39;00m \u001b[38;5;28mself\u001b[39m\n",
      "File \u001b[1;32mc:\\Users\\aryij\\anaconda3\\envs\\weather2\\Lib\\site-packages\\catboost\\core.py:2385\u001b[0m, in \u001b[0;36mCatBoost._fit\u001b[1;34m(self, X, y, cat_features, text_features, embedding_features, pairs, sample_weight, group_id, group_weight, subgroup_id, pairs_weight, baseline, use_best_model, eval_set, verbose, logging_level, plot, plot_file, column_description, verbose_eval, metric_period, silent, early_stopping_rounds, save_snapshot, snapshot_file, snapshot_interval, init_model, callbacks, log_cout, log_cerr)\u001b[0m\n\u001b[0;32m   2382\u001b[0m \u001b[38;5;28;01mif\u001b[39;00m y \u001b[38;5;129;01mis\u001b[39;00m \u001b[38;5;28;01mNone\u001b[39;00m \u001b[38;5;129;01mand\u001b[39;00m \u001b[38;5;129;01mnot\u001b[39;00m \u001b[38;5;28misinstance\u001b[39m(X, PATH_TYPES \u001b[38;5;241m+\u001b[39m (Pool,)):\n\u001b[0;32m   2383\u001b[0m     \u001b[38;5;28;01mraise\u001b[39;00m CatBoostError(\u001b[38;5;124m\"\u001b[39m\u001b[38;5;124my may be None only when X is an instance of catboost.Pool or string\u001b[39m\u001b[38;5;124m\"\u001b[39m)\n\u001b[1;32m-> 2385\u001b[0m train_params \u001b[38;5;241m=\u001b[39m \u001b[38;5;28mself\u001b[39m\u001b[38;5;241m.\u001b[39m_prepare_train_params(\n\u001b[0;32m   2386\u001b[0m     X\u001b[38;5;241m=\u001b[39mX, y\u001b[38;5;241m=\u001b[39my, cat_features\u001b[38;5;241m=\u001b[39mcat_features, text_features\u001b[38;5;241m=\u001b[39mtext_features, embedding_features\u001b[38;5;241m=\u001b[39membedding_features,\n\u001b[0;32m   2387\u001b[0m     pairs\u001b[38;5;241m=\u001b[39mpairs, sample_weight\u001b[38;5;241m=\u001b[39msample_weight, group_id\u001b[38;5;241m=\u001b[39mgroup_id, group_weight\u001b[38;5;241m=\u001b[39mgroup_weight,\n\u001b[0;32m   2388\u001b[0m     subgroup_id\u001b[38;5;241m=\u001b[39msubgroup_id, pairs_weight\u001b[38;5;241m=\u001b[39mpairs_weight, baseline\u001b[38;5;241m=\u001b[39mbaseline, use_best_model\u001b[38;5;241m=\u001b[39muse_best_model,\n\u001b[0;32m   2389\u001b[0m     eval_set\u001b[38;5;241m=\u001b[39meval_set, verbose\u001b[38;5;241m=\u001b[39mverbose, logging_level\u001b[38;5;241m=\u001b[39mlogging_level, plot\u001b[38;5;241m=\u001b[39mplot, plot_file\u001b[38;5;241m=\u001b[39mplot_file,\n\u001b[0;32m   2390\u001b[0m     column_description\u001b[38;5;241m=\u001b[39mcolumn_description, verbose_eval\u001b[38;5;241m=\u001b[39mverbose_eval, metric_period\u001b[38;5;241m=\u001b[39mmetric_period,\n\u001b[0;32m   2391\u001b[0m     silent\u001b[38;5;241m=\u001b[39msilent, early_stopping_rounds\u001b[38;5;241m=\u001b[39mearly_stopping_rounds, save_snapshot\u001b[38;5;241m=\u001b[39msave_snapshot,\n\u001b[0;32m   2392\u001b[0m     snapshot_file\u001b[38;5;241m=\u001b[39msnapshot_file, snapshot_interval\u001b[38;5;241m=\u001b[39msnapshot_interval, init_model\u001b[38;5;241m=\u001b[39minit_model,\n\u001b[0;32m   2393\u001b[0m     callbacks\u001b[38;5;241m=\u001b[39mcallbacks\n\u001b[0;32m   2394\u001b[0m )\n\u001b[0;32m   2395\u001b[0m params \u001b[38;5;241m=\u001b[39m train_params[\u001b[38;5;124m\"\u001b[39m\u001b[38;5;124mparams\u001b[39m\u001b[38;5;124m\"\u001b[39m]\n\u001b[0;32m   2396\u001b[0m train_pool \u001b[38;5;241m=\u001b[39m train_params[\u001b[38;5;124m\"\u001b[39m\u001b[38;5;124mtrain_pool\u001b[39m\u001b[38;5;124m\"\u001b[39m]\n",
      "File \u001b[1;32mc:\\Users\\aryij\\anaconda3\\envs\\weather2\\Lib\\site-packages\\catboost\\core.py:2265\u001b[0m, in \u001b[0;36mCatBoost._prepare_train_params\u001b[1;34m(self, X, y, cat_features, text_features, embedding_features, pairs, sample_weight, group_id, group_weight, subgroup_id, pairs_weight, baseline, use_best_model, eval_set, verbose, logging_level, plot, plot_file, column_description, verbose_eval, metric_period, silent, early_stopping_rounds, save_snapshot, snapshot_file, snapshot_interval, init_model, callbacks)\u001b[0m\n\u001b[0;32m   2262\u001b[0m text_features \u001b[38;5;241m=\u001b[39m _process_feature_indices(text_features, X, params, \u001b[38;5;124m'\u001b[39m\u001b[38;5;124mtext_features\u001b[39m\u001b[38;5;124m'\u001b[39m)\n\u001b[0;32m   2263\u001b[0m embedding_features \u001b[38;5;241m=\u001b[39m _process_feature_indices(embedding_features, X, params, \u001b[38;5;124m'\u001b[39m\u001b[38;5;124membedding_features\u001b[39m\u001b[38;5;124m'\u001b[39m)\n\u001b[1;32m-> 2265\u001b[0m train_pool \u001b[38;5;241m=\u001b[39m _build_train_pool(X, y, cat_features, text_features, embedding_features, pairs,\n\u001b[0;32m   2266\u001b[0m                                sample_weight, group_id, group_weight, subgroup_id, pairs_weight,\n\u001b[0;32m   2267\u001b[0m                                baseline, column_description)\n\u001b[0;32m   2268\u001b[0m \u001b[38;5;28;01mif\u001b[39;00m train_pool\u001b[38;5;241m.\u001b[39mis_empty_:\n\u001b[0;32m   2269\u001b[0m     \u001b[38;5;28;01mraise\u001b[39;00m CatBoostError(\u001b[38;5;124m\"\u001b[39m\u001b[38;5;124mX is empty.\u001b[39m\u001b[38;5;124m\"\u001b[39m)\n",
      "File \u001b[1;32mc:\\Users\\aryij\\anaconda3\\envs\\weather2\\Lib\\site-packages\\catboost\\core.py:1503\u001b[0m, in \u001b[0;36m_build_train_pool\u001b[1;34m(X, y, cat_features, text_features, embedding_features, pairs, sample_weight, group_id, group_weight, subgroup_id, pairs_weight, baseline, column_description)\u001b[0m\n\u001b[0;32m   1501\u001b[0m     \u001b[38;5;28;01mif\u001b[39;00m y \u001b[38;5;129;01mis\u001b[39;00m \u001b[38;5;28;01mNone\u001b[39;00m:\n\u001b[0;32m   1502\u001b[0m         \u001b[38;5;28;01mraise\u001b[39;00m CatBoostError(\u001b[38;5;124m\"\u001b[39m\u001b[38;5;124my has not initialized in fit(): X is not catboost.Pool object, y must be not None in fit().\u001b[39m\u001b[38;5;124m\"\u001b[39m)\n\u001b[1;32m-> 1503\u001b[0m     train_pool \u001b[38;5;241m=\u001b[39m Pool(X, y, cat_features\u001b[38;5;241m=\u001b[39mcat_features, text_features\u001b[38;5;241m=\u001b[39mtext_features, embedding_features\u001b[38;5;241m=\u001b[39membedding_features, pairs\u001b[38;5;241m=\u001b[39mpairs, weight\u001b[38;5;241m=\u001b[39msample_weight, group_id\u001b[38;5;241m=\u001b[39mgroup_id,\n\u001b[0;32m   1504\u001b[0m                       group_weight\u001b[38;5;241m=\u001b[39mgroup_weight, subgroup_id\u001b[38;5;241m=\u001b[39msubgroup_id, pairs_weight\u001b[38;5;241m=\u001b[39mpairs_weight, baseline\u001b[38;5;241m=\u001b[39mbaseline)\n\u001b[0;32m   1505\u001b[0m \u001b[38;5;28;01mreturn\u001b[39;00m train_pool\n",
      "File \u001b[1;32mc:\\Users\\aryij\\anaconda3\\envs\\weather2\\Lib\\site-packages\\catboost\\core.py:848\u001b[0m, in \u001b[0;36mPool.__init__\u001b[1;34m(self, data, label, cat_features, text_features, embedding_features, embedding_features_data, column_description, pairs, delimiter, has_header, ignore_csv_quoting, weight, group_id, group_weight, subgroup_id, pairs_weight, baseline, timestamp, feature_names, feature_tags, thread_count, log_cout, log_cerr, data_can_be_none)\u001b[0m\n\u001b[0;32m    842\u001b[0m         \u001b[38;5;28;01mif\u001b[39;00m \u001b[38;5;28misinstance\u001b[39m(feature_names, PATH_TYPES):\n\u001b[0;32m    843\u001b[0m             \u001b[38;5;28;01mraise\u001b[39;00m CatBoostError(\n\u001b[0;32m    844\u001b[0m                 \u001b[38;5;124m\"\u001b[39m\u001b[38;5;124mfeature_names must be None or have non-string type when the pool is created from \u001b[39m\u001b[38;5;124m\"\u001b[39m\n\u001b[0;32m    845\u001b[0m                 \u001b[38;5;124m\"\u001b[39m\u001b[38;5;124mpython objects.\u001b[39m\u001b[38;5;124m\"\u001b[39m\n\u001b[0;32m    846\u001b[0m             )\n\u001b[1;32m--> 848\u001b[0m         \u001b[38;5;28mself\u001b[39m\u001b[38;5;241m.\u001b[39m_init(data, label, cat_features, text_features, embedding_features, embedding_features_data, pairs, weight,\n\u001b[0;32m    849\u001b[0m                    group_id, group_weight, subgroup_id, pairs_weight, baseline, timestamp, feature_names, feature_tags, thread_count)\n\u001b[0;32m    850\u001b[0m \u001b[38;5;28;01melif\u001b[39;00m \u001b[38;5;129;01mnot\u001b[39;00m data_can_be_none:\n\u001b[0;32m    851\u001b[0m     \u001b[38;5;28;01mraise\u001b[39;00m CatBoostError(\u001b[38;5;124m\"\u001b[39m\u001b[38;5;124m'\u001b[39m\u001b[38;5;124mdata\u001b[39m\u001b[38;5;124m'\u001b[39m\u001b[38;5;124m parameter can\u001b[39m\u001b[38;5;124m'\u001b[39m\u001b[38;5;124mt be None\u001b[39m\u001b[38;5;124m\"\u001b[39m)\n",
      "File \u001b[1;32mc:\\Users\\aryij\\anaconda3\\envs\\weather2\\Lib\\site-packages\\catboost\\core.py:1481\u001b[0m, in \u001b[0;36mPool._init\u001b[1;34m(self, data, label, cat_features, text_features, embedding_features, embedding_features_data, pairs, weight, group_id, group_weight, subgroup_id, pairs_weight, baseline, timestamp, feature_names, feature_tags, thread_count)\u001b[0m\n\u001b[0;32m   1479\u001b[0m \u001b[38;5;28;01mif\u001b[39;00m feature_tags \u001b[38;5;129;01mis\u001b[39;00m \u001b[38;5;129;01mnot\u001b[39;00m \u001b[38;5;28;01mNone\u001b[39;00m:\n\u001b[0;32m   1480\u001b[0m     feature_tags \u001b[38;5;241m=\u001b[39m \u001b[38;5;28mself\u001b[39m\u001b[38;5;241m.\u001b[39m_check_transform_tags(feature_tags, feature_names)\n\u001b[1;32m-> 1481\u001b[0m \u001b[38;5;28mself\u001b[39m\u001b[38;5;241m.\u001b[39m_init_pool(data, label, cat_features, text_features, embedding_features, embedding_features_data, pairs, weight,\n\u001b[0;32m   1482\u001b[0m                 group_id, group_weight, subgroup_id, pairs_weight, baseline, timestamp, feature_names, feature_tags, thread_count)\n",
      "File \u001b[1;32m_catboost.pyx:4159\u001b[0m, in \u001b[0;36m_catboost._PoolBase._init_pool\u001b[1;34m()\u001b[0m\n",
      "File \u001b[1;32m_catboost.pyx:4209\u001b[0m, in \u001b[0;36m_catboost._PoolBase._init_pool\u001b[1;34m()\u001b[0m\n",
      "File \u001b[1;32m_catboost.pyx:4025\u001b[0m, in \u001b[0;36m_catboost._PoolBase._init_features_order_layout_pool\u001b[1;34m()\u001b[0m\n",
      "File \u001b[1;32m_catboost.pyx:2963\u001b[0m, in \u001b[0;36m_catboost._set_features_order_data_pd_data_frame\u001b[1;34m()\u001b[0m\n",
      "File \u001b[1;32m_catboost.pyx:2427\u001b[0m, in \u001b[0;36m_catboost.create_num_factor_data\u001b[1;34m()\u001b[0m\n",
      "File \u001b[1;32m_catboost.pyx:2385\u001b[0m, in \u001b[0;36m_catboost.get_float_feature\u001b[1;34m()\u001b[0m\n",
      "\u001b[1;31mCatBoostError\u001b[0m: Bad value for num_feature[non_default_doc_idx=0,feature_idx=2]=\"D\": Cannot convert 'b'D'' to float"
     ]
    }
   ],
   "source": [
    "model_comparison_cat(models, X_train_labeled, y_train, X_val_labeled, y_val)"
   ]
  },
  {
   "cell_type": "markdown",
   "metadata": {},
   "source": [
    "### 3-4. 하이퍼 파라미터 튜닝"
   ]
  },
  {
   "cell_type": "markdown",
   "metadata": {},
   "source": [
    "#### 3-4-1. CatBoost 튜닝"
   ]
  },
  {
   "cell_type": "code",
   "execution_count": 33,
   "metadata": {},
   "outputs": [],
   "source": [
    "# optuna sampling seed 고정\n",
    "sampler = TPESampler(seed=42)"
   ]
  },
  {
   "cell_type": "code",
   "execution_count": 36,
   "metadata": {},
   "outputs": [],
   "source": [
    "# https://practicaldatascience.co.uk/machine-learning/how-to-tune-a-catboostclassifier-model-with-optuna\n",
    "# https://optuna.readthedocs.io/en/stable/tutorial/10_key_features/002_configurations.html#configurations\n",
    "# https://catboost.ai/en/docs/concepts/parameter-tuning#methods-for-hyperparameter-search-by-optuna\n",
    "\n",
    "def objective_cat(trial):\n",
    "    params = {\n",
    "        # \"loss_function\":'MultiClass',\n",
    "        \"iterations\": trial.suggest_int(\"iterations\", 100, 1000),\n",
    "        # \"iterations\" : trial.suggest_int('n_estimators', 500, 4000),\n",
    "        \"learning_rate\": trial.suggest_float(\"learning_rate\", 1e-3, 1e-1, log=True),\n",
    "        \"depth\": trial.suggest_int(\"depth\", 3, 10),\n",
    "        \"l2_leaf_reg\": trial.suggest_float(\"l2_leaf_reg\", 1e-8, 100.0, log=True),\n",
    "        \"bootstrap_type\": trial.suggest_categorical(\"bootstrap_type\", [\"Bayesian\", \"Poisson\"]),\n",
    "        \"random_strength\": trial.suggest_float(\"random_strength\", 1e-8, 10.0, log=True),\n",
    "        \"bagging_temperature\": trial.suggest_float(\"bagging_temperature\", 0.0, 1.0),\n",
    "        \"od_type\": trial.suggest_categorical(\"od_type\", [\"IncToDec\", \"Iter\"]),\n",
    "        \"od_wait\": trial.suggest_int(\"od_wait\", 10, 50),\n",
    "        # \"subsample\": trial.suggest_float(\"subsample\", 0.05, 1.0),\n",
    "        # \"colsample_bylevel\": trial.suggest_float(\"colsample_bylevel\", 0.05, 1.0),\n",
    "        \"min_data_in_leaf\": trial.suggest_int(\"min_data_in_leaf\", 1, 100),\n",
    "        # \"verbose\": False\n",
    "    }\n",
    "\n",
    "    model = CatBoostClassifier(**params,\n",
    "                               loss_function=\"MultiClass\",\n",
    "                               silent=True,\n",
    "                               task_type=\"GPU\",\n",
    "                               random_state=42)\n",
    "\n",
    "    model.fit(X_train_labeled, y_train)\n",
    "    predictions = model.predict(X_val_labeled)\n",
    "    csi = csi_index(y_val, predictions)\n",
    "\n",
    "    return csi"
   ]
  },
  {
   "cell_type": "code",
   "execution_count": 37,
   "metadata": {},
   "outputs": [
    {
     "name": "stderr",
     "output_type": "stream",
     "text": [
      "[I 2024-06-20 15:27:26,454] A new study created in memory with name: catboost\n",
      "[I 2024-06-20 15:27:43,428] Trial 0 finished with value: 0.12850265399333416 and parameters: {'iterations': 437, 'learning_rate': 0.07969454818643935, 'depth': 8, 'l2_leaf_reg': 0.00969582664451522, 'bootstrap_type': 'Bayesian', 'random_strength': 3.3323645788192616e-08, 'bagging_temperature': 0.8661761457749352, 'od_type': 'Iter', 'od_wait': 10, 'min_data_in_leaf': 97}. Best is trial 0 with value: 0.12850265399333416.\n",
      "[I 2024-06-20 15:27:51,306] Trial 1 finished with value: 0.0 and parameters: {'iterations': 850, 'learning_rate': 0.0026587543983272706, 'depth': 4, 'l2_leaf_reg': 6.8240955406304e-07, 'bootstrap_type': 'Poisson', 'random_strength': 7.71800699380605e-05, 'bagging_temperature': 0.2912291401980419, 'od_type': 'IncToDec', 'od_wait': 21, 'min_data_in_leaf': 37}. Best is trial 0 with value: 0.12850265399333416.\n",
      "[I 2024-06-20 15:28:03,302] Trial 2 finished with value: 0.030605499735589636 and parameters: {'iterations': 510, 'learning_rate': 0.037183641805732096, 'depth': 4, 'l2_leaf_reg': 0.0013878559259972313, 'bootstrap_type': 'Bayesian', 'random_strength': 0.0029369981104377003, 'bagging_temperature': 0.17052412368729153, 'od_type': 'Iter', 'od_wait': 49, 'min_data_in_leaf': 81}. Best is trial 0 with value: 0.12850265399333416.\n",
      "[I 2024-06-20 15:28:07,725] Trial 3 finished with value: 0.0 and parameters: {'iterations': 374, 'learning_rate': 0.0015679933916723015, 'depth': 8, 'l2_leaf_reg': 0.0002520721916536751, 'bootstrap_type': 'Poisson', 'random_strength': 2.039373116525212e-08, 'bagging_temperature': 0.9093204020787821, 'od_type': 'Iter', 'od_wait': 22, 'min_data_in_leaf': 53}. Best is trial 0 with value: 0.12850265399333416.\n",
      "[I 2024-06-20 15:28:48,414] Trial 4 finished with value: 0.017504376094023506 and parameters: {'iterations': 592, 'learning_rate': 0.0023426581058204046, 'depth': 10, 'l2_leaf_reg': 0.5640638061927871, 'bootstrap_type': 'Bayesian', 'random_strength': 0.002404915432737351, 'bagging_temperature': 0.9218742350231168, 'od_type': 'Iter', 'od_wait': 11, 'min_data_in_leaf': 33}. Best is trial 0 with value: 0.12850265399333416.\n",
      "[I 2024-06-20 15:28:53,363] Trial 5 finished with value: 0.0 and parameters: {'iterations': 450, 'learning_rate': 0.003488976654890368, 'depth': 9, 'l2_leaf_reg': 3.6943094166639305e-05, 'bootstrap_type': 'Poisson', 'random_strength': 1.8548894229694903e-07, 'bagging_temperature': 0.8021969807540397, 'od_type': 'Iter', 'od_wait': 41, 'min_data_in_leaf': 20}. Best is trial 0 with value: 0.12850265399333416.\n",
      "[I 2024-06-20 15:28:59,206] Trial 6 finished with value: 0.023342903507676944 and parameters: {'iterations': 104, 'learning_rate': 0.04274869455295218, 'depth': 8, 'l2_leaf_reg': 0.19501664486433953, 'bootstrap_type': 'Bayesian', 'random_strength': 1.683416412018213e-05, 'bagging_temperature': 0.11586905952512971, 'od_type': 'IncToDec', 'od_wait': 23, 'min_data_in_leaf': 7}. Best is trial 0 with value: 0.12850265399333416.\n",
      "[I 2024-06-20 15:29:16,871] Trial 7 finished with value: 0.012149298597194389 and parameters: {'iterations': 380, 'learning_rate': 0.004470608546778492, 'depth': 8, 'l2_leaf_reg': 0.023745138854603057, 'bootstrap_type': 'Bayesian', 'random_strength': 1.1921975182604538e-07, 'bagging_temperature': 0.713244787222995, 'od_type': 'IncToDec', 'od_wait': 41, 'min_data_in_leaf': 50}. Best is trial 0 with value: 0.12850265399333416.\n",
      "[I 2024-06-20 15:29:22,596] Trial 8 finished with value: 0.0 and parameters: {'iterations': 570, 'learning_rate': 0.007162786999897343, 'depth': 3, 'l2_leaf_reg': 1.1992625444272377e-07, 'bootstrap_type': 'Poisson', 'random_strength': 6.748446817464346e-06, 'bagging_temperature': 0.5085706911647028, 'od_type': 'IncToDec', 'od_wait': 26, 'min_data_in_leaf': 76}. Best is trial 0 with value: 0.12850265399333416.\n",
      "[I 2024-06-20 15:29:31,869] Trial 9 finished with value: 0.02829862312322701 and parameters: {'iterations': 306, 'learning_rate': 0.0014254757044027432, 'depth': 5, 'l2_leaf_reg': 4.094613109347322e-07, 'bootstrap_type': 'Bayesian', 'random_strength': 0.005019191993687105, 'bagging_temperature': 0.8714605901877177, 'od_type': 'IncToDec', 'od_wait': 46, 'min_data_in_leaf': 54}. Best is trial 0 with value: 0.12850265399333416.\n",
      "[I 2024-06-20 15:29:56,232] Trial 10 finished with value: 0.07002974714923153 and parameters: {'iterations': 800, 'learning_rate': 0.07340472227986776, 'depth': 6, 'l2_leaf_reg': 21.033106415444113, 'bootstrap_type': 'Bayesian', 'random_strength': 1.4756493047283814, 'bagging_temperature': 0.6074415617554525, 'od_type': 'Iter', 'od_wait': 11, 'min_data_in_leaf': 100}. Best is trial 0 with value: 0.12850265399333416.\n",
      "[I 2024-06-20 15:30:21,429] Trial 11 finished with value: 0.06046684877079712 and parameters: {'iterations': 848, 'learning_rate': 0.07791470666172784, 'depth': 6, 'l2_leaf_reg': 64.4440957814152, 'bootstrap_type': 'Bayesian', 'random_strength': 3.1435438438978305, 'bagging_temperature': 0.6008661887429185, 'od_type': 'Iter', 'od_wait': 10, 'min_data_in_leaf': 98}. Best is trial 0 with value: 0.12850265399333416.\n",
      "[I 2024-06-20 15:30:37,038] Trial 12 finished with value: 0.02541739347121854 and parameters: {'iterations': 700, 'learning_rate': 0.022148502825661876, 'depth': 6, 'l2_leaf_reg': 22.60068605998035, 'bootstrap_type': 'Bayesian', 'random_strength': 8.185652848091712, 'bagging_temperature': 0.35249858262874667, 'od_type': 'Iter', 'od_wait': 16, 'min_data_in_leaf': 100}. Best is trial 0 with value: 0.12850265399333416.\n",
      "[I 2024-06-20 15:31:12,564] Trial 13 finished with value: 0.15022724481021987 and parameters: {'iterations': 1000, 'learning_rate': 0.088487022118016, 'depth': 7, 'l2_leaf_reg': 1.9597053943018024, 'bootstrap_type': 'Bayesian', 'random_strength': 0.11807907742306739, 'bagging_temperature': 0.6666235095215836, 'od_type': 'Iter', 'od_wait': 31, 'min_data_in_leaf': 79}. Best is trial 13 with value: 0.15022724481021987.\n",
      "[I 2024-06-20 15:31:49,109] Trial 14 finished with value: 0.06106491249844855 and parameters: {'iterations': 1000, 'learning_rate': 0.01763697836025293, 'depth': 7, 'l2_leaf_reg': 0.018424939111915294, 'bootstrap_type': 'Bayesian', 'random_strength': 0.12922141789093058, 'bagging_temperature': 0.9976844538285258, 'od_type': 'Iter', 'od_wait': 34, 'min_data_in_leaf': 77}. Best is trial 13 with value: 0.15022724481021987.\n",
      "[I 2024-06-20 15:32:06,385] Trial 15 finished with value: 0.13398249722667324 and parameters: {'iterations': 245, 'learning_rate': 0.09159517668296738, 'depth': 10, 'l2_leaf_reg': 0.8169769867912269, 'bootstrap_type': 'Bayesian', 'random_strength': 0.1269902253237556, 'bagging_temperature': 0.7586750388290595, 'od_type': 'Iter', 'od_wait': 33, 'min_data_in_leaf': 86}. Best is trial 13 with value: 0.15022724481021987.\n",
      "[I 2024-06-20 15:32:17,706] Trial 16 finished with value: 0.04905989291495455 and parameters: {'iterations': 152, 'learning_rate': 0.04136007077217569, 'depth': 10, 'l2_leaf_reg': 1.6109780216310035, 'bootstrap_type': 'Bayesian', 'random_strength': 0.10351163679178885, 'bagging_temperature': 0.687251132087726, 'od_type': 'Iter', 'od_wait': 32, 'min_data_in_leaf': 66}. Best is trial 13 with value: 0.15022724481021987.\n",
      "[I 2024-06-20 15:33:09,814] Trial 17 finished with value: 0.06731246895181321 and parameters: {'iterations': 1000, 'learning_rate': 0.013227907907383964, 'depth': 9, 'l2_leaf_reg': 5.3157887457487805, 'bootstrap_type': 'Bayesian', 'random_strength': 0.09616612884893987, 'bagging_temperature': 0.4460495607012286, 'od_type': 'Iter', 'od_wait': 36, 'min_data_in_leaf': 85}. Best is trial 13 with value: 0.15022724481021987.\n",
      "[I 2024-06-20 15:33:13,196] Trial 18 finished with value: 0.0 and parameters: {'iterations': 248, 'learning_rate': 0.09852767339522597, 'depth': 7, 'l2_leaf_reg': 2.8606591329549132e-05, 'bootstrap_type': 'Poisson', 'random_strength': 0.029634287504931602, 'bagging_temperature': 0.7320834468418582, 'od_type': 'Iter', 'od_wait': 28, 'min_data_in_leaf': 70}. Best is trial 13 with value: 0.15022724481021987.\n",
      "[I 2024-06-20 15:33:48,249] Trial 19 finished with value: 0.11493257453915626 and parameters: {'iterations': 664, 'learning_rate': 0.03333434570823335, 'depth': 9, 'l2_leaf_reg': 0.13393029022436292, 'bootstrap_type': 'Bayesian', 'random_strength': 0.5839482157870645, 'bagging_temperature': 0.5708337413370526, 'od_type': 'Iter', 'od_wait': 38, 'min_data_in_leaf': 87}. Best is trial 13 with value: 0.15022724481021987.\n",
      "[I 2024-06-20 15:34:04,419] Trial 20 finished with value: 0.019 and parameters: {'iterations': 229, 'learning_rate': 0.008329381426541825, 'depth': 10, 'l2_leaf_reg': 2.2118845958753117, 'bootstrap_type': 'Bayesian', 'random_strength': 0.00034868116218423516, 'bagging_temperature': 0.017358403505768893, 'od_type': 'Iter', 'od_wait': 30, 'min_data_in_leaf': 61}. Best is trial 13 with value: 0.15022724481021987.\n",
      "[I 2024-06-20 15:34:20,930] Trial 21 finished with value: 0.0810575968222443 and parameters: {'iterations': 435, 'learning_rate': 0.059533315220159894, 'depth': 7, 'l2_leaf_reg': 0.009181639321828266, 'bootstrap_type': 'Bayesian', 'random_strength': 1.254445495611163e-06, 'bagging_temperature': 0.8025921156567402, 'od_type': 'Iter', 'od_wait': 17, 'min_data_in_leaf': 91}. Best is trial 13 with value: 0.15022724481021987.\n",
      "[I 2024-06-20 15:34:35,081] Trial 22 finished with value: 0.07649530400395452 and parameters: {'iterations': 301, 'learning_rate': 0.057168838776139444, 'depth': 8, 'l2_leaf_reg': 0.0017181346820347183, 'bootstrap_type': 'Bayesian', 'random_strength': 0.0003500091380662373, 'bagging_temperature': 0.7946145228622407, 'od_type': 'Iter', 'od_wait': 26, 'min_data_in_leaf': 89}. Best is trial 13 with value: 0.15022724481021987.\n",
      "[I 2024-06-20 15:34:45,901] Trial 23 finished with value: 0.10442959663449641 and parameters: {'iterations': 184, 'learning_rate': 0.09387721592332608, 'depth': 9, 'l2_leaf_reg': 0.07304484857244697, 'bootstrap_type': 'Bayesian', 'random_strength': 0.005593968236903707, 'bagging_temperature': 0.6834622297906345, 'od_type': 'Iter', 'od_wait': 32, 'min_data_in_leaf': 71}. Best is trial 13 with value: 0.15022724481021987.\n",
      "[I 2024-06-20 15:35:03,700] Trial 24 finished with value: 0.04477611940298507 and parameters: {'iterations': 473, 'learning_rate': 0.023093487310145842, 'depth': 7, 'l2_leaf_reg': 0.685122910466002, 'bootstrap_type': 'Bayesian', 'random_strength': 1.0054466020671164e-08, 'bagging_temperature': 0.8355135854921585, 'od_type': 'Iter', 'od_wait': 39, 'min_data_in_leaf': 91}. Best is trial 13 with value: 0.15022724481021987.\n",
      "[I 2024-06-20 15:35:14,254] Trial 25 finished with value: 0.04234446790016143 and parameters: {'iterations': 362, 'learning_rate': 0.05548387329459253, 'depth': 5, 'l2_leaf_reg': 0.004975238660213763, 'bootstrap_type': 'Bayesian', 'random_strength': 0.021199481352586397, 'bagging_temperature': 0.5001899884993684, 'od_type': 'Iter', 'od_wait': 16, 'min_data_in_leaf': 79}. Best is trial 13 with value: 0.15022724481021987.\n",
      "[I 2024-06-20 15:35:20,763] Trial 26 finished with value: 0.0 and parameters: {'iterations': 661, 'learning_rate': 0.028969313082476984, 'depth': 8, 'l2_leaf_reg': 0.0001715605308402952, 'bootstrap_type': 'Poisson', 'random_strength': 0.2682547079098937, 'bagging_temperature': 0.9399265148086288, 'od_type': 'IncToDec', 'od_wait': 29, 'min_data_in_leaf': 94}. Best is trial 13 with value: 0.15022724481021987.\n",
      "[I 2024-06-20 15:36:07,840] Trial 27 finished with value: 0.15621927236971483 and parameters: {'iterations': 732, 'learning_rate': 0.061711212692623654, 'depth': 10, 'l2_leaf_reg': 6.258074384548299, 'bootstrap_type': 'Bayesian', 'random_strength': 6.678890832789503e-05, 'bagging_temperature': 0.6397180562067, 'od_type': 'Iter', 'od_wait': 44, 'min_data_in_leaf': 61}. Best is trial 27 with value: 0.15621927236971483.\n",
      "[I 2024-06-20 15:37:06,130] Trial 28 finished with value: 0.08052527254707631 and parameters: {'iterations': 935, 'learning_rate': 0.052139144281777315, 'depth': 10, 'l2_leaf_reg': 93.05550686664408, 'bootstrap_type': 'Bayesian', 'random_strength': 0.0009053508358234803, 'bagging_temperature': 0.6541716001735779, 'od_type': 'Iter', 'od_wait': 45, 'min_data_in_leaf': 61}. Best is trial 27 with value: 0.15621927236971483.\n",
      "[I 2024-06-20 15:37:44,859] Trial 29 finished with value: 0.1495763232223996 and parameters: {'iterations': 754, 'learning_rate': 0.07148744675212015, 'depth': 9, 'l2_leaf_reg': 5.541174395616028, 'bootstrap_type': 'Bayesian', 'random_strength': 2.7792914205681874e-05, 'bagging_temperature': 0.4453985068001922, 'od_type': 'Iter', 'od_wait': 50, 'min_data_in_leaf': 42}. Best is trial 27 with value: 0.15621927236971483.\n",
      "[I 2024-06-20 15:38:26,623] Trial 30 finished with value: 0.049396540997884784 and parameters: {'iterations': 787, 'learning_rate': 0.01174781397817659, 'depth': 9, 'l2_leaf_reg': 15.23435521040566, 'bootstrap_type': 'Bayesian', 'random_strength': 6.234522362456408e-05, 'bagging_temperature': 0.40177179365661475, 'od_type': 'Iter', 'od_wait': 50, 'min_data_in_leaf': 44}. Best is trial 27 with value: 0.15621927236971483.\n",
      "[I 2024-06-20 15:39:12,778] Trial 31 finished with value: 0.17262925753491792 and parameters: {'iterations': 721, 'learning_rate': 0.08347984583467273, 'depth': 10, 'l2_leaf_reg': 7.2458469976169, 'bootstrap_type': 'Bayesian', 'random_strength': 9.08630979983158e-06, 'bagging_temperature': 0.5398356245184525, 'od_type': 'Iter', 'od_wait': 45, 'min_data_in_leaf': 26}. Best is trial 31 with value: 0.17262925753491792.\n",
      "[I 2024-06-20 15:40:00,654] Trial 32 finished with value: 0.17063005638636922 and parameters: {'iterations': 742, 'learning_rate': 0.06912135954593564, 'depth': 10, 'l2_leaf_reg': 5.084067353008751, 'bootstrap_type': 'Bayesian', 'random_strength': 3.125475051121112e-06, 'bagging_temperature': 0.5520752549584362, 'od_type': 'Iter', 'od_wait': 45, 'min_data_in_leaf': 25}. Best is trial 31 with value: 0.17262925753491792.\n",
      "[I 2024-06-20 15:40:58,463] Trial 33 finished with value: 0.14970501474926254 and parameters: {'iterations': 907, 'learning_rate': 0.045906704683371116, 'depth': 10, 'l2_leaf_reg': 6.270549944718349, 'bootstrap_type': 'Bayesian', 'random_strength': 2.6555919555218436e-06, 'bagging_temperature': 0.5469565916404845, 'od_type': 'Iter', 'od_wait': 45, 'min_data_in_leaf': 25}. Best is trial 31 with value: 0.17262925753491792.\n",
      "[I 2024-06-20 15:41:05,398] Trial 34 finished with value: 0.0 and parameters: {'iterations': 728, 'learning_rate': 0.06854253582680381, 'depth': 10, 'l2_leaf_reg': 0.24669419853728586, 'bootstrap_type': 'Poisson', 'random_strength': 0.0001353786893687122, 'bagging_temperature': 0.2973868273489816, 'od_type': 'Iter', 'od_wait': 47, 'min_data_in_leaf': 11}. Best is trial 31 with value: 0.17262925753491792.\n",
      "[I 2024-06-20 15:41:22,330] Trial 35 finished with value: 0.021242034237161065 and parameters: {'iterations': 860, 'learning_rate': 0.029082375073228965, 'depth': 3, 'l2_leaf_reg': 2.9031111426751797, 'bootstrap_type': 'Bayesian', 'random_strength': 7.327165103510794e-07, 'bagging_temperature': 0.6189186324344523, 'od_type': 'Iter', 'od_wait': 43, 'min_data_in_leaf': 30}. Best is trial 31 with value: 0.17262925753491792.\n",
      "[I 2024-06-20 15:41:55,351] Trial 36 finished with value: 0.0741246585547554 and parameters: {'iterations': 640, 'learning_rate': 0.03705229913946734, 'depth': 9, 'l2_leaf_reg': 23.017778886349785, 'bootstrap_type': 'Bayesian', 'random_strength': 1.000494797099199e-05, 'bagging_temperature': 0.5444196958762008, 'od_type': 'IncToDec', 'od_wait': 43, 'min_data_in_leaf': 18}. Best is trial 31 with value: 0.17262925753491792.\n",
      "[I 2024-06-20 15:42:01,495] Trial 37 finished with value: 0.0 and parameters: {'iterations': 617, 'learning_rate': 0.09987330496452135, 'depth': 4, 'l2_leaf_reg': 95.59043528993608, 'bootstrap_type': 'Poisson', 'random_strength': 2.5205661623929136e-07, 'bagging_temperature': 0.448139364189634, 'od_type': 'Iter', 'od_wait': 48, 'min_data_in_leaf': 35}. Best is trial 31 with value: 0.17262925753491792.\n",
      "[I 2024-06-20 15:42:36,530] Trial 38 finished with value: 0.1728834355828221 and parameters: {'iterations': 531, 'learning_rate': 0.06042957269441014, 'depth': 10, 'l2_leaf_reg': 0.05664037673349348, 'bootstrap_type': 'Bayesian', 'random_strength': 4.822534135760565e-06, 'bagging_temperature': 0.6473969778351402, 'od_type': 'Iter', 'od_wait': 42, 'min_data_in_leaf': 13}. Best is trial 38 with value: 0.1728834355828221.\n",
      "[I 2024-06-20 15:43:11,087] Trial 39 finished with value: 0.0706832298136646 and parameters: {'iterations': 518, 'learning_rate': 0.017979266686440835, 'depth': 10, 'l2_leaf_reg': 0.36783001577055846, 'bootstrap_type': 'Bayesian', 'random_strength': 4.014686291027886e-06, 'bagging_temperature': 0.21286635221015604, 'od_type': 'IncToDec', 'od_wait': 42, 'min_data_in_leaf': 1}. Best is trial 38 with value: 0.1728834355828221.\n",
      "[I 2024-06-20 15:43:16,524] Trial 40 finished with value: 0.0 and parameters: {'iterations': 526, 'learning_rate': 0.04934114453914739, 'depth': 9, 'l2_leaf_reg': 0.0601768522569606, 'bootstrap_type': 'Poisson', 'random_strength': 4.1385159299104125e-05, 'bagging_temperature': 0.3745021910002649, 'od_type': 'Iter', 'od_wait': 40, 'min_data_in_leaf': 15}. Best is trial 38 with value: 0.1728834355828221.\n",
      "[I 2024-06-20 15:44:02,641] Trial 41 finished with value: 0.18075980392156862 and parameters: {'iterations': 713, 'learning_rate': 0.06512476888838793, 'depth': 10, 'l2_leaf_reg': 1.9540205333883462, 'bootstrap_type': 'Bayesian', 'random_strength': 7.892031578087885e-07, 'bagging_temperature': 0.6464470635508613, 'od_type': 'Iter', 'od_wait': 36, 'min_data_in_leaf': 24}. Best is trial 41 with value: 0.18075980392156862.\n",
      "[I 2024-06-20 15:44:40,577] Trial 42 finished with value: 0.12074494326591022 and parameters: {'iterations': 593, 'learning_rate': 0.06619154768656074, 'depth': 10, 'l2_leaf_reg': 14.044017053012396, 'bootstrap_type': 'Bayesian', 'random_strength': 5.032900733966309e-07, 'bagging_temperature': 0.6411869658502167, 'od_type': 'Iter', 'od_wait': 36, 'min_data_in_leaf': 25}. Best is trial 41 with value: 0.18075980392156862.\n",
      "[I 2024-06-20 15:45:26,185] Trial 43 finished with value: 0.15356220007382798 and parameters: {'iterations': 702, 'learning_rate': 0.0422945309375492, 'depth': 10, 'l2_leaf_reg': 0.9083403757744986, 'bootstrap_type': 'Bayesian', 'random_strength': 2.441307868462252e-06, 'bagging_temperature': 0.566999774100265, 'od_type': 'Iter', 'od_wait': 44, 'min_data_in_leaf': 25}. Best is trial 41 with value: 0.18075980392156862.\n",
      "[I 2024-06-20 15:46:18,511] Trial 44 finished with value: 0.22924231420963448 and parameters: {'iterations': 804, 'learning_rate': 0.07504802997156956, 'depth': 10, 'l2_leaf_reg': 0.04926798977573663, 'bootstrap_type': 'Bayesian', 'random_strength': 8.147391269333127e-08, 'bagging_temperature': 0.5141465172459883, 'od_type': 'Iter', 'od_wait': 38, 'min_data_in_leaf': 6}. Best is trial 44 with value: 0.22924231420963448.\n",
      "[I 2024-06-20 15:47:00,900] Trial 45 finished with value: 0.20031699585466958 and parameters: {'iterations': 816, 'learning_rate': 0.07472233110659904, 'depth': 9, 'l2_leaf_reg': 0.11478689810697323, 'bootstrap_type': 'Bayesian', 'random_strength': 1.764182490686026e-07, 'bagging_temperature': 0.4961637597937188, 'od_type': 'IncToDec', 'od_wait': 37, 'min_data_in_leaf': 6}. Best is trial 44 with value: 0.22924231420963448.\n",
      "[I 2024-06-20 15:47:44,613] Trial 46 finished with value: 0.03624813153961136 and parameters: {'iterations': 819, 'learning_rate': 0.006287069147825519, 'depth': 9, 'l2_leaf_reg': 0.033545560469819616, 'bootstrap_type': 'Bayesian', 'random_strength': 3.777342947480532e-08, 'bagging_temperature': 0.4872710431617479, 'od_type': 'IncToDec', 'od_wait': 37, 'min_data_in_leaf': 4}. Best is trial 44 with value: 0.22924231420963448.\n",
      "[I 2024-06-20 15:48:30,445] Trial 47 finished with value: 0.21163186012627488 and parameters: {'iterations': 889, 'learning_rate': 0.07847662471020311, 'depth': 9, 'l2_leaf_reg': 0.0053058387613493735, 'bootstrap_type': 'Bayesian', 'random_strength': 7.27375485572758e-08, 'bagging_temperature': 0.3134946651582055, 'od_type': 'IncToDec', 'od_wait': 34, 'min_data_in_leaf': 9}. Best is trial 44 with value: 0.22924231420963448.\n",
      "[I 2024-06-20 15:49:10,658] Trial 48 finished with value: 0.005256241787122208 and parameters: {'iterations': 913, 'learning_rate': 0.0022865869378469314, 'depth': 8, 'l2_leaf_reg': 0.0005317967094447149, 'bootstrap_type': 'Bayesian', 'random_strength': 6.555030219983396e-08, 'bagging_temperature': 0.26753312817999986, 'od_type': 'IncToDec', 'od_wait': 35, 'min_data_in_leaf': 9}. Best is trial 44 with value: 0.22924231420963448.\n",
      "[I 2024-06-20 15:49:54,578] Trial 49 finished with value: 0.1409371146732429 and parameters: {'iterations': 841, 'learning_rate': 0.035344525266671686, 'depth': 9, 'l2_leaf_reg': 0.0038993992673048796, 'bootstrap_type': 'Bayesian', 'random_strength': 1.336152888746642e-07, 'bagging_temperature': 0.14421949861787697, 'od_type': 'IncToDec', 'od_wait': 40, 'min_data_in_leaf': 12}. Best is trial 44 with value: 0.22924231420963448.\n",
      "[I 2024-06-20 15:50:35,255] Trial 50 finished with value: 0.09994125422235277 and parameters: {'iterations': 947, 'learning_rate': 0.07963693879238545, 'depth': 8, 'l2_leaf_reg': 1.3739033139717642e-08, 'bootstrap_type': 'Bayesian', 'random_strength': 1.9492126271650485e-08, 'bagging_temperature': 0.3119906648436482, 'od_type': 'IncToDec', 'od_wait': 38, 'min_data_in_leaf': 5}. Best is trial 44 with value: 0.22924231420963448.\n",
      "[I 2024-06-20 15:51:26,924] Trial 51 finished with value: 0.017776664997496243 and parameters: {'iterations': 779, 'learning_rate': 0.0011292802388172395, 'depth': 10, 'l2_leaf_reg': 0.13740924440249752, 'bootstrap_type': 'Bayesian', 'random_strength': 3.8556691465382834e-07, 'bagging_temperature': 0.4828076025853524, 'od_type': 'IncToDec', 'od_wait': 34, 'min_data_in_leaf': 19}. Best is trial 44 with value: 0.22924231420963448.\n",
      "[I 2024-06-20 15:52:12,582] Trial 52 finished with value: 0.21439844603617822 and parameters: {'iterations': 875, 'learning_rate': 0.08042698147802936, 'depth': 9, 'l2_leaf_reg': 0.018274820891933632, 'bootstrap_type': 'Bayesian', 'random_strength': 8.599862400006329e-08, 'bagging_temperature': 0.4090426989678063, 'od_type': 'IncToDec', 'od_wait': 41, 'min_data_in_leaf': 15}. Best is trial 44 with value: 0.22924231420963448.\n",
      "[I 2024-06-20 15:52:59,920] Trial 53 finished with value: 0.1760520181572813 and parameters: {'iterations': 905, 'learning_rate': 0.04904710979160339, 'depth': 9, 'l2_leaf_reg': 0.014418020093072513, 'bootstrap_type': 'Bayesian', 'random_strength': 9.527358560604166e-08, 'bagging_temperature': 0.3565096284221134, 'od_type': 'IncToDec', 'od_wait': 41, 'min_data_in_leaf': 15}. Best is trial 44 with value: 0.22924231420963448.\n",
      "[I 2024-06-20 15:53:45,640] Trial 54 finished with value: 0.2073704694721479 and parameters: {'iterations': 881, 'learning_rate': 0.0776329199856063, 'depth': 9, 'l2_leaf_reg': 0.011254386694179502, 'bootstrap_type': 'Bayesian', 'random_strength': 5.489399751856933e-08, 'bagging_temperature': 0.24219295008003977, 'od_type': 'IncToDec', 'od_wait': 38, 'min_data_in_leaf': 1}. Best is trial 44 with value: 0.22924231420963448.\n",
      "[I 2024-06-20 15:54:22,665] Trial 55 finished with value: 0.18372575332438698 and parameters: {'iterations': 871, 'learning_rate': 0.07986088569068234, 'depth': 8, 'l2_leaf_reg': 0.0026992599376090775, 'bootstrap_type': 'Bayesian', 'random_strength': 3.137268616352226e-08, 'bagging_temperature': 0.22858763183954045, 'od_type': 'IncToDec', 'od_wait': 37, 'min_data_in_leaf': 1}. Best is trial 44 with value: 0.22924231420963448.\n",
      "[I 2024-06-20 15:55:00,025] Trial 56 finished with value: 0.08586592991129853 and parameters: {'iterations': 871, 'learning_rate': 0.0801444757442281, 'depth': 8, 'l2_leaf_reg': 7.775706319256852e-05, 'bootstrap_type': 'Bayesian', 'random_strength': 3.8396813490571956e-08, 'bagging_temperature': 0.2427239435562345, 'od_type': 'IncToDec', 'od_wait': 39, 'min_data_in_leaf': 2}. Best is trial 44 with value: 0.22924231420963448.\n",
      "[I 2024-06-20 15:55:08,738] Trial 57 finished with value: 0.0 and parameters: {'iterations': 964, 'learning_rate': 0.08400269956272849, 'depth': 8, 'l2_leaf_reg': 0.000755384825446075, 'bootstrap_type': 'Poisson', 'random_strength': 1.3399027442596407e-08, 'bagging_temperature': 0.11135282125388113, 'od_type': 'IncToDec', 'od_wait': 37, 'min_data_in_leaf': 6}. Best is trial 44 with value: 0.22924231420963448.\n",
      "[I 2024-06-20 15:55:54,534] Trial 58 finished with value: 0.16304481276856966 and parameters: {'iterations': 883, 'learning_rate': 0.042333563225741305, 'depth': 9, 'l2_leaf_reg': 0.002692105793389285, 'bootstrap_type': 'Bayesian', 'random_strength': 5.6812981252107476e-08, 'bagging_temperature': 0.20299182293815915, 'od_type': 'IncToDec', 'od_wait': 34, 'min_data_in_leaf': 8}. Best is trial 44 with value: 0.22924231420963448.\n",
      "[I 2024-06-20 15:56:28,512] Trial 59 finished with value: 0.0988970132606271 and parameters: {'iterations': 814, 'learning_rate': 0.02921351870782395, 'depth': 8, 'l2_leaf_reg': 0.007107342213089703, 'bootstrap_type': 'Bayesian', 'random_strength': 1.7899450268065986e-07, 'bagging_temperature': 0.3118154985739407, 'od_type': 'IncToDec', 'od_wait': 33, 'min_data_in_leaf': 9}. Best is trial 44 with value: 0.22924231420963448.\n",
      "[I 2024-06-20 15:57:18,401] Trial 60 finished with value: 0.24036144578313254 and parameters: {'iterations': 966, 'learning_rate': 0.09794813784502736, 'depth': 9, 'l2_leaf_reg': 0.021217065634989235, 'bootstrap_type': 'Bayesian', 'random_strength': 2.6209324064749942e-08, 'bagging_temperature': 0.40828008214886186, 'od_type': 'IncToDec', 'od_wait': 31, 'min_data_in_leaf': 1}. Best is trial 60 with value: 0.24036144578313254.\n",
      "[I 2024-06-20 15:58:10,240] Trial 61 finished with value: 0.23447860156720915 and parameters: {'iterations': 968, 'learning_rate': 0.09838278877220193, 'depth': 9, 'l2_leaf_reg': 0.027488383609517657, 'bootstrap_type': 'Bayesian', 'random_strength': 3.237383029465639e-08, 'bagging_temperature': 0.4243800244130577, 'od_type': 'IncToDec', 'od_wait': 26, 'min_data_in_leaf': 1}. Best is trial 60 with value: 0.24036144578313254.\n",
      "[I 2024-06-20 15:59:00,610] Trial 62 finished with value: 0.23626705300012074 and parameters: {'iterations': 967, 'learning_rate': 0.09548713167944911, 'depth': 9, 'l2_leaf_reg': 0.021922716820773177, 'bootstrap_type': 'Bayesian', 'random_strength': 2.2738419333702407e-08, 'bagging_temperature': 0.4160600409457718, 'od_type': 'IncToDec', 'od_wait': 26, 'min_data_in_leaf': 5}. Best is trial 60 with value: 0.24036144578313254.\n",
      "[I 2024-06-20 15:59:50,453] Trial 63 finished with value: 0.2298961603477421 and parameters: {'iterations': 969, 'learning_rate': 0.09117261735878911, 'depth': 9, 'l2_leaf_reg': 0.02311976650912601, 'bootstrap_type': 'Bayesian', 'random_strength': 2.1779524865163682e-08, 'bagging_temperature': 0.40037961230065156, 'od_type': 'IncToDec', 'od_wait': 25, 'min_data_in_leaf': 4}. Best is trial 60 with value: 0.24036144578313254.\n",
      "[I 2024-06-20 16:00:40,741] Trial 64 finished with value: 0.232317146644174 and parameters: {'iterations': 977, 'learning_rate': 0.09569260818277271, 'depth': 9, 'l2_leaf_reg': 0.028150623907642718, 'bootstrap_type': 'Bayesian', 'random_strength': 2.4626764778557702e-08, 'bagging_temperature': 0.427822258733241, 'od_type': 'IncToDec', 'od_wait': 24, 'min_data_in_leaf': 17}. Best is trial 60 with value: 0.24036144578313254.\n",
      "[I 2024-06-20 16:01:30,624] Trial 65 finished with value: 0.23093629343629343 and parameters: {'iterations': 971, 'learning_rate': 0.0923563906529398, 'depth': 9, 'l2_leaf_reg': 0.022025877281815553, 'bootstrap_type': 'Bayesian', 'random_strength': 1.6738559257712455e-08, 'bagging_temperature': 0.40715803749306867, 'od_type': 'IncToDec', 'od_wait': 23, 'min_data_in_leaf': 15}. Best is trial 60 with value: 0.24036144578313254.\n",
      "[I 2024-06-20 16:02:21,171] Trial 66 finished with value: 0.23418102928769435 and parameters: {'iterations': 979, 'learning_rate': 0.0979877124196495, 'depth': 9, 'l2_leaf_reg': 0.03246436159973723, 'bootstrap_type': 'Bayesian', 'random_strength': 1.3037444690437328e-08, 'bagging_temperature': 0.4106306711996057, 'od_type': 'IncToDec', 'od_wait': 21, 'min_data_in_leaf': 4}. Best is trial 60 with value: 0.24036144578313254.\n",
      "[I 2024-06-20 16:03:02,021] Trial 67 finished with value: 0.2040247302703358 and parameters: {'iterations': 976, 'learning_rate': 0.09861133691417777, 'depth': 8, 'l2_leaf_reg': 0.02677476517646882, 'bootstrap_type': 'Bayesian', 'random_strength': 1.7457665624910636e-08, 'bagging_temperature': 0.3856104103979885, 'od_type': 'IncToDec', 'od_wait': 24, 'min_data_in_leaf': 21}. Best is trial 60 with value: 0.24036144578313254.\n",
      "[I 2024-06-20 16:03:52,997] Trial 68 finished with value: 0.2243613028211648 and parameters: {'iterations': 979, 'learning_rate': 0.09462066649023214, 'depth': 9, 'l2_leaf_reg': 0.45059176751043467, 'bootstrap_type': 'Bayesian', 'random_strength': 1.0257451023557523e-08, 'bagging_temperature': 0.42767103847915305, 'od_type': 'IncToDec', 'od_wait': 20, 'min_data_in_leaf': 17}. Best is trial 60 with value: 0.24036144578313254.\n",
      "[I 2024-06-20 16:04:01,320] Trial 69 finished with value: 0.0 and parameters: {'iterations': 940, 'learning_rate': 0.05657303968902462, 'depth': 9, 'l2_leaf_reg': 8.288993588619989e-06, 'bootstrap_type': 'Poisson', 'random_strength': 1.8175385212367465e-08, 'bagging_temperature': 0.45972549012803166, 'od_type': 'IncToDec', 'od_wait': 27, 'min_data_in_leaf': 4}. Best is trial 60 with value: 0.24036144578313254.\n",
      "[I 2024-06-20 16:04:34,844] Trial 70 finished with value: 0.10841225626740947 and parameters: {'iterations': 928, 'learning_rate': 0.08961647159144619, 'depth': 7, 'l2_leaf_reg': 0.0019559112265343914, 'bootstrap_type': 'Bayesian', 'random_strength': 2.9121103336449318e-08, 'bagging_temperature': 0.34361604024333, 'od_type': 'IncToDec', 'od_wait': 21, 'min_data_in_leaf': 12}. Best is trial 60 with value: 0.24036144578313254.\n",
      "[I 2024-06-20 16:05:26,411] Trial 71 finished with value: 0.23595370147094286 and parameters: {'iterations': 998, 'learning_rate': 0.09738491997041254, 'depth': 9, 'l2_leaf_reg': 0.03714558027093505, 'bootstrap_type': 'Bayesian', 'random_strength': 2.7877381335666347e-08, 'bagging_temperature': 0.4058229903330809, 'od_type': 'IncToDec', 'od_wait': 24, 'min_data_in_leaf': 4}. Best is trial 60 with value: 0.24036144578313254.\n",
      "[I 2024-06-20 16:06:16,039] Trial 72 finished with value: 0.20416615909367766 and parameters: {'iterations': 962, 'learning_rate': 0.06468087485335161, 'depth': 9, 'l2_leaf_reg': 0.02579593987459108, 'bootstrap_type': 'Bayesian', 'random_strength': 2.732356317271791e-08, 'bagging_temperature': 0.4225628427085383, 'od_type': 'IncToDec', 'od_wait': 24, 'min_data_in_leaf': 4}. Best is trial 60 with value: 0.24036144578313254.\n",
      "[I 2024-06-20 16:07:07,254] Trial 73 finished with value: 0.23075993717530507 and parameters: {'iterations': 990, 'learning_rate': 0.0988582404289859, 'depth': 9, 'l2_leaf_reg': 0.23350339312637983, 'bootstrap_type': 'Bayesian', 'random_strength': 1.0070899553587888e-08, 'bagging_temperature': 0.38783071705063227, 'od_type': 'IncToDec', 'od_wait': 19, 'min_data_in_leaf': 10}. Best is trial 60 with value: 0.24036144578313254.\n",
      "[I 2024-06-20 16:07:48,870] Trial 74 finished with value: 0.20089936801166747 and parameters: {'iterations': 998, 'learning_rate': 0.099749786645928, 'depth': 8, 'l2_leaf_reg': 0.23933657679546316, 'bootstrap_type': 'Bayesian', 'random_strength': 2.9445119075864603e-07, 'bagging_temperature': 0.3488699162386477, 'od_type': 'IncToDec', 'od_wait': 19, 'min_data_in_leaf': 21}. Best is trial 60 with value: 0.24036144578313254.\n",
      "[I 2024-06-20 16:08:37,069] Trial 75 finished with value: 0.18595546855884512 and parameters: {'iterations': 925, 'learning_rate': 0.05513279395979247, 'depth': 9, 'l2_leaf_reg': 0.07796105389519062, 'bootstrap_type': 'Bayesian', 'random_strength': 4.61355401397469e-08, 'bagging_temperature': 0.46119036028107263, 'od_type': 'IncToDec', 'od_wait': 22, 'min_data_in_leaf': 9}. Best is trial 60 with value: 0.24036144578313254.\n",
      "[I 2024-06-20 16:09:30,697] Trial 76 finished with value: 0.08314370733415018 and parameters: {'iterations': 999, 'learning_rate': 0.0876833506422597, 'depth': 9, 'l2_leaf_reg': 0.0010196565683337085, 'bootstrap_type': 'Bayesian', 'random_strength': 1.2990070240240285e-08, 'bagging_temperature': 0.36987712696222474, 'od_type': 'IncToDec', 'od_wait': 13, 'min_data_in_leaf': 11}. Best is trial 60 with value: 0.24036144578313254.\n",
      "[I 2024-06-20 16:10:11,884] Trial 77 finished with value: 0.01837270341207349 and parameters: {'iterations': 949, 'learning_rate': 0.003727468863659354, 'depth': 8, 'l2_leaf_reg': 0.009350291626397196, 'bootstrap_type': 'Bayesian', 'random_strength': 1.0984970471355694e-08, 'bagging_temperature': 0.42925881514345465, 'od_type': 'IncToDec', 'od_wait': 18, 'min_data_in_leaf': 30}. Best is trial 60 with value: 0.24036144578313254.\n",
      "[I 2024-06-20 16:10:41,933] Trial 78 finished with value: 0.1112618724559023 and parameters: {'iterations': 977, 'learning_rate': 0.06883022308614395, 'depth': 6, 'l2_leaf_reg': 0.10833705528194351, 'bootstrap_type': 'Bayesian', 'random_strength': 1.2145316846235394e-07, 'bagging_temperature': 0.3411123733150853, 'od_type': 'IncToDec', 'od_wait': 29, 'min_data_in_leaf': 15}. Best is trial 60 with value: 0.24036144578313254.\n",
      "[I 2024-06-20 16:11:28,428] Trial 79 finished with value: 0.21423384168482207 and parameters: {'iterations': 910, 'learning_rate': 0.09933004408984034, 'depth': 9, 'l2_leaf_reg': 0.9757418259733024, 'bootstrap_type': 'Bayesian', 'random_strength': 2.543847316007407e-08, 'bagging_temperature': 0.5208110908236628, 'od_type': 'IncToDec', 'od_wait': 23, 'min_data_in_leaf': 7}. Best is trial 60 with value: 0.24036144578313254.\n",
      "[I 2024-06-20 16:11:51,190] Trial 80 finished with value: 0.07370246500681284 and parameters: {'iterations': 844, 'learning_rate': 0.06220717928315655, 'depth': 5, 'l2_leaf_reg': 0.04405942386166819, 'bootstrap_type': 'Bayesian', 'random_strength': 1.428302494246318e-07, 'bagging_temperature': 0.46996298316476337, 'od_type': 'IncToDec', 'od_wait': 27, 'min_data_in_leaf': 3}. Best is trial 60 with value: 0.24036144578313254.\n",
      "[I 2024-06-20 16:12:41,266] Trial 81 finished with value: 0.2216963960684383 and parameters: {'iterations': 953, 'learning_rate': 0.08620909096815739, 'depth': 9, 'l2_leaf_reg': 0.1966199579346576, 'bootstrap_type': 'Bayesian', 'random_strength': 2.077549359940118e-08, 'bagging_temperature': 0.3931355182599495, 'od_type': 'IncToDec', 'od_wait': 25, 'min_data_in_leaf': 1}. Best is trial 60 with value: 0.24036144578313254.\n",
      "[I 2024-06-20 16:13:31,759] Trial 82 finished with value: 0.23299915448725692 and parameters: {'iterations': 975, 'learning_rate': 0.0891708063319166, 'depth': 9, 'l2_leaf_reg': 0.013578846084311962, 'bootstrap_type': 'Bayesian', 'random_strength': 4.239264105353955e-08, 'bagging_temperature': 0.4196333530057545, 'od_type': 'IncToDec', 'od_wait': 22, 'min_data_in_leaf': 12}. Best is trial 60 with value: 0.24036144578313254.\n",
      "[I 2024-06-20 16:14:23,010] Trial 83 finished with value: 0.2168044747081712 and parameters: {'iterations': 991, 'learning_rate': 0.07403692447532366, 'depth': 9, 'l2_leaf_reg': 0.014125965817916582, 'bootstrap_type': 'Bayesian', 'random_strength': 3.668081864028556e-08, 'bagging_temperature': 0.43644833863918464, 'od_type': 'IncToDec', 'od_wait': 22, 'min_data_in_leaf': 13}. Best is trial 60 with value: 0.24036144578313254.\n",
      "[I 2024-06-20 16:15:10,808] Trial 84 finished with value: 0.20311549227211878 and parameters: {'iterations': 927, 'learning_rate': 0.06796694511726316, 'depth': 9, 'l2_leaf_reg': 0.006350870649125347, 'bootstrap_type': 'Bayesian', 'random_strength': 4.9052689276751895e-08, 'bagging_temperature': 0.32868650800517446, 'od_type': 'IncToDec', 'od_wait': 20, 'min_data_in_leaf': 11}. Best is trial 60 with value: 0.24036144578313254.\n",
      "[I 2024-06-20 16:15:59,662] Trial 85 finished with value: 0.22578304510823557 and parameters: {'iterations': 947, 'learning_rate': 0.08890813632618781, 'depth': 9, 'l2_leaf_reg': 0.03960757831072769, 'bootstrap_type': 'Bayesian', 'random_strength': 1.0515703281841322e-08, 'bagging_temperature': 0.3770763067206331, 'od_type': 'IncToDec', 'od_wait': 15, 'min_data_in_leaf': 7}. Best is trial 60 with value: 0.24036144578313254.\n",
      "[I 2024-06-20 16:16:08,063] Trial 86 finished with value: 0.0 and parameters: {'iterations': 897, 'learning_rate': 0.05299598935451566, 'depth': 8, 'l2_leaf_reg': 0.3348615818920274, 'bootstrap_type': 'Poisson', 'random_strength': 2.765618907231674e-07, 'bagging_temperature': 0.28326270903465844, 'od_type': 'IncToDec', 'od_wait': 30, 'min_data_in_leaf': 17}. Best is trial 60 with value: 0.24036144578313254.\n",
      "[I 2024-06-20 16:17:10,432] Trial 87 finished with value: 0.25162142685563293 and parameters: {'iterations': 969, 'learning_rate': 0.0878195653278425, 'depth': 10, 'l2_leaf_reg': 0.11654433378634937, 'bootstrap_type': 'Bayesian', 'random_strength': 1.3986307347140839e-06, 'bagging_temperature': 0.5870994114781527, 'od_type': 'IncToDec', 'od_wait': 23, 'min_data_in_leaf': 9}. Best is trial 87 with value: 0.25162142685563293.\n",
      "[I 2024-06-20 16:18:14,385] Trial 88 finished with value: 0.22241127856101117 and parameters: {'iterations': 969, 'learning_rate': 0.05946586846079832, 'depth': 10, 'l2_leaf_reg': 0.08431468314537856, 'bootstrap_type': 'Bayesian', 'random_strength': 1.1324243538026553e-06, 'bagging_temperature': 0.5758388805026702, 'od_type': 'IncToDec', 'od_wait': 26, 'min_data_in_leaf': 41}. Best is trial 87 with value: 0.25162142685563293.\n",
      "[I 2024-06-20 16:19:14,339] Trial 89 finished with value: 0.2385486981677917 and parameters: {'iterations': 927, 'learning_rate': 0.07179463061436674, 'depth': 10, 'l2_leaf_reg': 0.004516611513895602, 'bootstrap_type': 'Bayesian', 'random_strength': 4.777110122938993e-07, 'bagging_temperature': 0.5210451417302772, 'od_type': 'IncToDec', 'od_wait': 23, 'min_data_in_leaf': 7}. Best is trial 87 with value: 0.25162142685563293.\n",
      "[I 2024-06-20 16:20:18,607] Trial 90 finished with value: 0.10125306063661242 and parameters: {'iterations': 923, 'learning_rate': 0.08526130617463092, 'depth': 10, 'l2_leaf_reg': 0.0004825835938382025, 'bootstrap_type': 'Bayesian', 'random_strength': 1.5616819161217024e-06, 'bagging_temperature': 0.5124529154070004, 'od_type': 'IncToDec', 'od_wait': 28, 'min_data_in_leaf': 7}. Best is trial 87 with value: 0.25162142685563293.\n",
      "[I 2024-06-20 16:21:11,352] Trial 91 finished with value: 0.24273833915873208 and parameters: {'iterations': 951, 'learning_rate': 0.06993374626074052, 'depth': 10, 'l2_leaf_reg': 0.004586933973618455, 'bootstrap_type': 'Bayesian', 'random_strength': 4.0143302374082616e-07, 'bagging_temperature': 0.4789879850058307, 'od_type': 'IncToDec', 'od_wait': 23, 'min_data_in_leaf': 50}. Best is trial 87 with value: 0.25162142685563293.\n",
      "[I 2024-06-20 16:22:02,040] Trial 92 finished with value: 0.23753771876885937 and parameters: {'iterations': 937, 'learning_rate': 0.07279865739197453, 'depth': 10, 'l2_leaf_reg': 0.003595108176795162, 'bootstrap_type': 'Bayesian', 'random_strength': 7.732422910366735e-07, 'bagging_temperature': 0.4766122613640013, 'od_type': 'IncToDec', 'od_wait': 24, 'min_data_in_leaf': 51}. Best is trial 87 with value: 0.25162142685563293.\n",
      "[I 2024-06-20 16:22:50,698] Trial 93 finished with value: 0.23757106568283537 and parameters: {'iterations': 896, 'learning_rate': 0.07211694133024031, 'depth': 10, 'l2_leaf_reg': 0.004179253405402651, 'bootstrap_type': 'Bayesian', 'random_strength': 5.424855270557167e-07, 'bagging_temperature': 0.5933292501496674, 'od_type': 'IncToDec', 'od_wait': 21, 'min_data_in_leaf': 53}. Best is trial 87 with value: 0.25162142685563293.\n",
      "[I 2024-06-20 16:23:41,984] Trial 94 finished with value: 0.24122542515981185 and parameters: {'iterations': 945, 'learning_rate': 0.07193151884467737, 'depth': 10, 'l2_leaf_reg': 0.0035727708835040905, 'bootstrap_type': 'Bayesian', 'random_strength': 5.837848009919771e-07, 'bagging_temperature': 0.594903295238004, 'od_type': 'IncToDec', 'od_wait': 21, 'min_data_in_leaf': 51}. Best is trial 87 with value: 0.25162142685563293.\n",
      "[I 2024-06-20 16:24:30,901] Trial 95 finished with value: 0.19733789229454146 and parameters: {'iterations': 902, 'learning_rate': 0.04619116178485705, 'depth': 10, 'l2_leaf_reg': 0.004013643996570457, 'bootstrap_type': 'Bayesian', 'random_strength': 8.394722416374043e-07, 'bagging_temperature': 0.5925425193446194, 'od_type': 'IncToDec', 'od_wait': 25, 'min_data_in_leaf': 51}. Best is trial 87 with value: 0.25162142685563293.\n",
      "[I 2024-06-20 16:25:22,413] Trial 96 finished with value: 0.21665702718334298 and parameters: {'iterations': 938, 'learning_rate': 0.07001772696272476, 'depth': 10, 'l2_leaf_reg': 0.0010554192900928394, 'bootstrap_type': 'Bayesian', 'random_strength': 4.1088471432850583e-07, 'bagging_temperature': 0.7273605561439083, 'od_type': 'IncToDec', 'od_wait': 27, 'min_data_in_leaf': 47}. Best is trial 87 with value: 0.25162142685563293.\n",
      "[I 2024-06-20 16:26:10,824] Trial 97 finished with value: 0.09827049714161662 and parameters: {'iterations': 852, 'learning_rate': 0.0727496759661235, 'depth': 10, 'l2_leaf_reg': 0.00018752109627629367, 'bootstrap_type': 'Bayesian', 'random_strength': 1.9806385689105675e-06, 'bagging_temperature': 0.6883024471441676, 'od_type': 'IncToDec', 'od_wait': 23, 'min_data_in_leaf': 57}. Best is trial 87 with value: 0.25162142685563293.\n",
      "[I 2024-06-20 16:27:02,547] Trial 98 finished with value: 0.20619059224957348 and parameters: {'iterations': 949, 'learning_rate': 0.04787868798095626, 'depth': 10, 'l2_leaf_reg': 0.0023763153302498222, 'bootstrap_type': 'Bayesian', 'random_strength': 5.692651979512544e-07, 'bagging_temperature': 0.5296346519094414, 'od_type': 'IncToDec', 'od_wait': 26, 'min_data_in_leaf': 45}. Best is trial 87 with value: 0.25162142685563293.\n",
      "[I 2024-06-20 16:27:09,380] Trial 99 finished with value: 0.0 and parameters: {'iterations': 895, 'learning_rate': 0.06123689116594069, 'depth': 10, 'l2_leaf_reg': 0.00041832816475512137, 'bootstrap_type': 'Poisson', 'random_strength': 8.292546018889473e-06, 'bagging_temperature': 0.6201253041630609, 'od_type': 'IncToDec', 'od_wait': 30, 'min_data_in_leaf': 55}. Best is trial 87 with value: 0.25162142685563293.\n"
     ]
    }
   ],
   "source": [
    "study_cat = optuna.create_study(study_name=\"catboost\", direction='maximize', pruner=\"MedianPruner\", sampler=sampler)\n",
    "study_cat.optimize(objective_cat, n_trials=100)"
   ]
  },
  {
   "cell_type": "code",
   "execution_count": 38,
   "metadata": {},
   "outputs": [
    {
     "name": "stdout",
     "output_type": "stream",
     "text": [
      "Best hyperparameters:\n",
      "{'iterations': 969, 'learning_rate': 0.0878195653278425, 'depth': 10, 'l2_leaf_reg': 0.11654433378634937, 'bootstrap_type': 'Bayesian', 'random_strength': 1.3986307347140839e-06, 'bagging_temperature': 0.5870994114781527, 'od_type': 'IncToDec', 'od_wait': 23, 'min_data_in_leaf': 9}\n",
      "-----------------------------------------------------------------------------------------------------------------\n",
      "Best CSI Index:\n",
      "0.25162142685563293\n"
     ]
    }
   ],
   "source": [
    "print(\"Best hyperparameters:\", study_cat.best_params, sep=\"\\n\")\n",
    "print(\"-----------------------------------------------------------------------------------------------------------------\")\n",
    "print(\"Best CSI Index:\", study_cat.best_value, sep=\"\\n\")"
   ]
  },
  {
   "cell_type": "code",
   "execution_count": 47,
   "metadata": {},
   "outputs": [
    {
     "ename": "ValueError",
     "evalue": "Mime type rendering requires nbformat>=4.2.0 but it is not installed",
     "output_type": "error",
     "traceback": [
      "\u001b[1;31m---------------------------------------------------------------------------\u001b[0m",
      "\u001b[1;31mValueError\u001b[0m                                Traceback (most recent call last)",
      "File \u001b[1;32mc:\\Users\\aryij\\anaconda3\\envs\\weather2\\Lib\\site-packages\\IPython\\core\\formatters.py:925\u001b[0m, in \u001b[0;36mIPythonDisplayFormatter.__call__\u001b[1;34m(self, obj)\u001b[0m\n\u001b[0;32m    923\u001b[0m method \u001b[38;5;241m=\u001b[39m get_real_method(obj, \u001b[38;5;28mself\u001b[39m\u001b[38;5;241m.\u001b[39mprint_method)\n\u001b[0;32m    924\u001b[0m \u001b[38;5;28;01mif\u001b[39;00m method \u001b[38;5;129;01mis\u001b[39;00m \u001b[38;5;129;01mnot\u001b[39;00m \u001b[38;5;28;01mNone\u001b[39;00m:\n\u001b[1;32m--> 925\u001b[0m     method()\n\u001b[0;32m    926\u001b[0m     \u001b[38;5;28;01mreturn\u001b[39;00m \u001b[38;5;28;01mTrue\u001b[39;00m\n",
      "File \u001b[1;32mc:\\Users\\aryij\\anaconda3\\envs\\weather2\\Lib\\site-packages\\plotly\\basedatatypes.py:832\u001b[0m, in \u001b[0;36mBaseFigure._ipython_display_\u001b[1;34m(self)\u001b[0m\n\u001b[0;32m    829\u001b[0m \u001b[38;5;28;01mimport\u001b[39;00m \u001b[38;5;21;01mplotly\u001b[39;00m\u001b[38;5;21;01m.\u001b[39;00m\u001b[38;5;21;01mio\u001b[39;00m \u001b[38;5;28;01mas\u001b[39;00m \u001b[38;5;21;01mpio\u001b[39;00m\n\u001b[0;32m    831\u001b[0m \u001b[38;5;28;01mif\u001b[39;00m pio\u001b[38;5;241m.\u001b[39mrenderers\u001b[38;5;241m.\u001b[39mrender_on_display \u001b[38;5;129;01mand\u001b[39;00m pio\u001b[38;5;241m.\u001b[39mrenderers\u001b[38;5;241m.\u001b[39mdefault:\n\u001b[1;32m--> 832\u001b[0m     pio\u001b[38;5;241m.\u001b[39mshow(\u001b[38;5;28mself\u001b[39m)\n\u001b[0;32m    833\u001b[0m \u001b[38;5;28;01melse\u001b[39;00m:\n\u001b[0;32m    834\u001b[0m     \u001b[38;5;28mprint\u001b[39m(\u001b[38;5;28mrepr\u001b[39m(\u001b[38;5;28mself\u001b[39m))\n",
      "File \u001b[1;32mc:\\Users\\aryij\\anaconda3\\envs\\weather2\\Lib\\site-packages\\plotly\\io\\_renderers.py:394\u001b[0m, in \u001b[0;36mshow\u001b[1;34m(fig, renderer, validate, **kwargs)\u001b[0m\n\u001b[0;32m    389\u001b[0m         \u001b[38;5;28;01mraise\u001b[39;00m \u001b[38;5;167;01mValueError\u001b[39;00m(\n\u001b[0;32m    390\u001b[0m             \u001b[38;5;124m\"\u001b[39m\u001b[38;5;124mMime type rendering requires ipython but it is not installed\u001b[39m\u001b[38;5;124m\"\u001b[39m\n\u001b[0;32m    391\u001b[0m         )\n\u001b[0;32m    393\u001b[0m     \u001b[38;5;28;01mif\u001b[39;00m \u001b[38;5;129;01mnot\u001b[39;00m nbformat \u001b[38;5;129;01mor\u001b[39;00m Version(nbformat\u001b[38;5;241m.\u001b[39m__version__) \u001b[38;5;241m<\u001b[39m Version(\u001b[38;5;124m\"\u001b[39m\u001b[38;5;124m4.2.0\u001b[39m\u001b[38;5;124m\"\u001b[39m):\n\u001b[1;32m--> 394\u001b[0m         \u001b[38;5;28;01mraise\u001b[39;00m \u001b[38;5;167;01mValueError\u001b[39;00m(\n\u001b[0;32m    395\u001b[0m             \u001b[38;5;124m\"\u001b[39m\u001b[38;5;124mMime type rendering requires nbformat>=4.2.0 but it is not installed\u001b[39m\u001b[38;5;124m\"\u001b[39m\n\u001b[0;32m    396\u001b[0m         )\n\u001b[0;32m    398\u001b[0m     ipython_display\u001b[38;5;241m.\u001b[39mdisplay(bundle, raw\u001b[38;5;241m=\u001b[39m\u001b[38;5;28;01mTrue\u001b[39;00m)\n\u001b[0;32m    400\u001b[0m \u001b[38;5;66;03m# external renderers\u001b[39;00m\n",
      "\u001b[1;31mValueError\u001b[0m: Mime type rendering requires nbformat>=4.2.0 but it is not installed"
     ]
    },
    {
     "data": {
      "application/vnd.plotly.v1+json": {
       "config": {
        "plotlyServerURL": "https://plot.ly"
       },
       "data": [
        {
         "cliponaxis": false,
         "hovertemplate": [
          "random_strength (FloatDistribution): 0.000727617502335013<extra></extra>",
          "l2_leaf_reg (FloatDistribution): 0.0016466069500772331<extra></extra>",
          "od_type (CategoricalDistribution): 0.003049161142826468<extra></extra>",
          "bagging_temperature (FloatDistribution): 0.012851442534485832<extra></extra>",
          "min_data_in_leaf (IntDistribution): 0.018278405917158156<extra></extra>",
          "od_wait (IntDistribution): 0.040996698796146855<extra></extra>",
          "depth (IntDistribution): 0.09428634405916232<extra></extra>",
          "iterations (IntDistribution): 0.10174062493360612<extra></extra>",
          "learning_rate (FloatDistribution): 0.24178010825288918<extra></extra>",
          "bootstrap_type (CategoricalDistribution): 0.48464298991131266<extra></extra>"
         ],
         "name": "Objective Value",
         "orientation": "h",
         "text": [
          "<0.01",
          "<0.01",
          "<0.01",
          "0.01",
          "0.02",
          "0.04",
          "0.09",
          "0.10",
          "0.24",
          "0.48"
         ],
         "textposition": "outside",
         "type": "bar",
         "x": [
          0.000727617502335013,
          0.0016466069500772331,
          0.003049161142826468,
          0.012851442534485832,
          0.018278405917158156,
          0.040996698796146855,
          0.09428634405916232,
          0.10174062493360612,
          0.24178010825288918,
          0.48464298991131266
         ],
         "y": [
          "random_strength",
          "l2_leaf_reg",
          "od_type",
          "bagging_temperature",
          "min_data_in_leaf",
          "od_wait",
          "depth",
          "iterations",
          "learning_rate",
          "bootstrap_type"
         ]
        }
       ],
       "layout": {
        "template": {
         "data": {
          "bar": [
           {
            "error_x": {
             "color": "#2a3f5f"
            },
            "error_y": {
             "color": "#2a3f5f"
            },
            "marker": {
             "line": {
              "color": "#E5ECF6",
              "width": 0.5
             },
             "pattern": {
              "fillmode": "overlay",
              "size": 10,
              "solidity": 0.2
             }
            },
            "type": "bar"
           }
          ],
          "barpolar": [
           {
            "marker": {
             "line": {
              "color": "#E5ECF6",
              "width": 0.5
             },
             "pattern": {
              "fillmode": "overlay",
              "size": 10,
              "solidity": 0.2
             }
            },
            "type": "barpolar"
           }
          ],
          "carpet": [
           {
            "aaxis": {
             "endlinecolor": "#2a3f5f",
             "gridcolor": "white",
             "linecolor": "white",
             "minorgridcolor": "white",
             "startlinecolor": "#2a3f5f"
            },
            "baxis": {
             "endlinecolor": "#2a3f5f",
             "gridcolor": "white",
             "linecolor": "white",
             "minorgridcolor": "white",
             "startlinecolor": "#2a3f5f"
            },
            "type": "carpet"
           }
          ],
          "choropleth": [
           {
            "colorbar": {
             "outlinewidth": 0,
             "ticks": ""
            },
            "type": "choropleth"
           }
          ],
          "contour": [
           {
            "colorbar": {
             "outlinewidth": 0,
             "ticks": ""
            },
            "colorscale": [
             [
              0,
              "#0d0887"
             ],
             [
              0.1111111111111111,
              "#46039f"
             ],
             [
              0.2222222222222222,
              "#7201a8"
             ],
             [
              0.3333333333333333,
              "#9c179e"
             ],
             [
              0.4444444444444444,
              "#bd3786"
             ],
             [
              0.5555555555555556,
              "#d8576b"
             ],
             [
              0.6666666666666666,
              "#ed7953"
             ],
             [
              0.7777777777777778,
              "#fb9f3a"
             ],
             [
              0.8888888888888888,
              "#fdca26"
             ],
             [
              1,
              "#f0f921"
             ]
            ],
            "type": "contour"
           }
          ],
          "contourcarpet": [
           {
            "colorbar": {
             "outlinewidth": 0,
             "ticks": ""
            },
            "type": "contourcarpet"
           }
          ],
          "heatmap": [
           {
            "colorbar": {
             "outlinewidth": 0,
             "ticks": ""
            },
            "colorscale": [
             [
              0,
              "#0d0887"
             ],
             [
              0.1111111111111111,
              "#46039f"
             ],
             [
              0.2222222222222222,
              "#7201a8"
             ],
             [
              0.3333333333333333,
              "#9c179e"
             ],
             [
              0.4444444444444444,
              "#bd3786"
             ],
             [
              0.5555555555555556,
              "#d8576b"
             ],
             [
              0.6666666666666666,
              "#ed7953"
             ],
             [
              0.7777777777777778,
              "#fb9f3a"
             ],
             [
              0.8888888888888888,
              "#fdca26"
             ],
             [
              1,
              "#f0f921"
             ]
            ],
            "type": "heatmap"
           }
          ],
          "heatmapgl": [
           {
            "colorbar": {
             "outlinewidth": 0,
             "ticks": ""
            },
            "colorscale": [
             [
              0,
              "#0d0887"
             ],
             [
              0.1111111111111111,
              "#46039f"
             ],
             [
              0.2222222222222222,
              "#7201a8"
             ],
             [
              0.3333333333333333,
              "#9c179e"
             ],
             [
              0.4444444444444444,
              "#bd3786"
             ],
             [
              0.5555555555555556,
              "#d8576b"
             ],
             [
              0.6666666666666666,
              "#ed7953"
             ],
             [
              0.7777777777777778,
              "#fb9f3a"
             ],
             [
              0.8888888888888888,
              "#fdca26"
             ],
             [
              1,
              "#f0f921"
             ]
            ],
            "type": "heatmapgl"
           }
          ],
          "histogram": [
           {
            "marker": {
             "pattern": {
              "fillmode": "overlay",
              "size": 10,
              "solidity": 0.2
             }
            },
            "type": "histogram"
           }
          ],
          "histogram2d": [
           {
            "colorbar": {
             "outlinewidth": 0,
             "ticks": ""
            },
            "colorscale": [
             [
              0,
              "#0d0887"
             ],
             [
              0.1111111111111111,
              "#46039f"
             ],
             [
              0.2222222222222222,
              "#7201a8"
             ],
             [
              0.3333333333333333,
              "#9c179e"
             ],
             [
              0.4444444444444444,
              "#bd3786"
             ],
             [
              0.5555555555555556,
              "#d8576b"
             ],
             [
              0.6666666666666666,
              "#ed7953"
             ],
             [
              0.7777777777777778,
              "#fb9f3a"
             ],
             [
              0.8888888888888888,
              "#fdca26"
             ],
             [
              1,
              "#f0f921"
             ]
            ],
            "type": "histogram2d"
           }
          ],
          "histogram2dcontour": [
           {
            "colorbar": {
             "outlinewidth": 0,
             "ticks": ""
            },
            "colorscale": [
             [
              0,
              "#0d0887"
             ],
             [
              0.1111111111111111,
              "#46039f"
             ],
             [
              0.2222222222222222,
              "#7201a8"
             ],
             [
              0.3333333333333333,
              "#9c179e"
             ],
             [
              0.4444444444444444,
              "#bd3786"
             ],
             [
              0.5555555555555556,
              "#d8576b"
             ],
             [
              0.6666666666666666,
              "#ed7953"
             ],
             [
              0.7777777777777778,
              "#fb9f3a"
             ],
             [
              0.8888888888888888,
              "#fdca26"
             ],
             [
              1,
              "#f0f921"
             ]
            ],
            "type": "histogram2dcontour"
           }
          ],
          "mesh3d": [
           {
            "colorbar": {
             "outlinewidth": 0,
             "ticks": ""
            },
            "type": "mesh3d"
           }
          ],
          "parcoords": [
           {
            "line": {
             "colorbar": {
              "outlinewidth": 0,
              "ticks": ""
             }
            },
            "type": "parcoords"
           }
          ],
          "pie": [
           {
            "automargin": true,
            "type": "pie"
           }
          ],
          "scatter": [
           {
            "fillpattern": {
             "fillmode": "overlay",
             "size": 10,
             "solidity": 0.2
            },
            "type": "scatter"
           }
          ],
          "scatter3d": [
           {
            "line": {
             "colorbar": {
              "outlinewidth": 0,
              "ticks": ""
             }
            },
            "marker": {
             "colorbar": {
              "outlinewidth": 0,
              "ticks": ""
             }
            },
            "type": "scatter3d"
           }
          ],
          "scattercarpet": [
           {
            "marker": {
             "colorbar": {
              "outlinewidth": 0,
              "ticks": ""
             }
            },
            "type": "scattercarpet"
           }
          ],
          "scattergeo": [
           {
            "marker": {
             "colorbar": {
              "outlinewidth": 0,
              "ticks": ""
             }
            },
            "type": "scattergeo"
           }
          ],
          "scattergl": [
           {
            "marker": {
             "colorbar": {
              "outlinewidth": 0,
              "ticks": ""
             }
            },
            "type": "scattergl"
           }
          ],
          "scattermapbox": [
           {
            "marker": {
             "colorbar": {
              "outlinewidth": 0,
              "ticks": ""
             }
            },
            "type": "scattermapbox"
           }
          ],
          "scatterpolar": [
           {
            "marker": {
             "colorbar": {
              "outlinewidth": 0,
              "ticks": ""
             }
            },
            "type": "scatterpolar"
           }
          ],
          "scatterpolargl": [
           {
            "marker": {
             "colorbar": {
              "outlinewidth": 0,
              "ticks": ""
             }
            },
            "type": "scatterpolargl"
           }
          ],
          "scatterternary": [
           {
            "marker": {
             "colorbar": {
              "outlinewidth": 0,
              "ticks": ""
             }
            },
            "type": "scatterternary"
           }
          ],
          "surface": [
           {
            "colorbar": {
             "outlinewidth": 0,
             "ticks": ""
            },
            "colorscale": [
             [
              0,
              "#0d0887"
             ],
             [
              0.1111111111111111,
              "#46039f"
             ],
             [
              0.2222222222222222,
              "#7201a8"
             ],
             [
              0.3333333333333333,
              "#9c179e"
             ],
             [
              0.4444444444444444,
              "#bd3786"
             ],
             [
              0.5555555555555556,
              "#d8576b"
             ],
             [
              0.6666666666666666,
              "#ed7953"
             ],
             [
              0.7777777777777778,
              "#fb9f3a"
             ],
             [
              0.8888888888888888,
              "#fdca26"
             ],
             [
              1,
              "#f0f921"
             ]
            ],
            "type": "surface"
           }
          ],
          "table": [
           {
            "cells": {
             "fill": {
              "color": "#EBF0F8"
             },
             "line": {
              "color": "white"
             }
            },
            "header": {
             "fill": {
              "color": "#C8D4E3"
             },
             "line": {
              "color": "white"
             }
            },
            "type": "table"
           }
          ]
         },
         "layout": {
          "annotationdefaults": {
           "arrowcolor": "#2a3f5f",
           "arrowhead": 0,
           "arrowwidth": 1
          },
          "autotypenumbers": "strict",
          "coloraxis": {
           "colorbar": {
            "outlinewidth": 0,
            "ticks": ""
           }
          },
          "colorscale": {
           "diverging": [
            [
             0,
             "#8e0152"
            ],
            [
             0.1,
             "#c51b7d"
            ],
            [
             0.2,
             "#de77ae"
            ],
            [
             0.3,
             "#f1b6da"
            ],
            [
             0.4,
             "#fde0ef"
            ],
            [
             0.5,
             "#f7f7f7"
            ],
            [
             0.6,
             "#e6f5d0"
            ],
            [
             0.7,
             "#b8e186"
            ],
            [
             0.8,
             "#7fbc41"
            ],
            [
             0.9,
             "#4d9221"
            ],
            [
             1,
             "#276419"
            ]
           ],
           "sequential": [
            [
             0,
             "#0d0887"
            ],
            [
             0.1111111111111111,
             "#46039f"
            ],
            [
             0.2222222222222222,
             "#7201a8"
            ],
            [
             0.3333333333333333,
             "#9c179e"
            ],
            [
             0.4444444444444444,
             "#bd3786"
            ],
            [
             0.5555555555555556,
             "#d8576b"
            ],
            [
             0.6666666666666666,
             "#ed7953"
            ],
            [
             0.7777777777777778,
             "#fb9f3a"
            ],
            [
             0.8888888888888888,
             "#fdca26"
            ],
            [
             1,
             "#f0f921"
            ]
           ],
           "sequentialminus": [
            [
             0,
             "#0d0887"
            ],
            [
             0.1111111111111111,
             "#46039f"
            ],
            [
             0.2222222222222222,
             "#7201a8"
            ],
            [
             0.3333333333333333,
             "#9c179e"
            ],
            [
             0.4444444444444444,
             "#bd3786"
            ],
            [
             0.5555555555555556,
             "#d8576b"
            ],
            [
             0.6666666666666666,
             "#ed7953"
            ],
            [
             0.7777777777777778,
             "#fb9f3a"
            ],
            [
             0.8888888888888888,
             "#fdca26"
            ],
            [
             1,
             "#f0f921"
            ]
           ]
          },
          "colorway": [
           "#636efa",
           "#EF553B",
           "#00cc96",
           "#ab63fa",
           "#FFA15A",
           "#19d3f3",
           "#FF6692",
           "#B6E880",
           "#FF97FF",
           "#FECB52"
          ],
          "font": {
           "color": "#2a3f5f"
          },
          "geo": {
           "bgcolor": "white",
           "lakecolor": "white",
           "landcolor": "#E5ECF6",
           "showlakes": true,
           "showland": true,
           "subunitcolor": "white"
          },
          "hoverlabel": {
           "align": "left"
          },
          "hovermode": "closest",
          "mapbox": {
           "style": "light"
          },
          "paper_bgcolor": "white",
          "plot_bgcolor": "#E5ECF6",
          "polar": {
           "angularaxis": {
            "gridcolor": "white",
            "linecolor": "white",
            "ticks": ""
           },
           "bgcolor": "#E5ECF6",
           "radialaxis": {
            "gridcolor": "white",
            "linecolor": "white",
            "ticks": ""
           }
          },
          "scene": {
           "xaxis": {
            "backgroundcolor": "#E5ECF6",
            "gridcolor": "white",
            "gridwidth": 2,
            "linecolor": "white",
            "showbackground": true,
            "ticks": "",
            "zerolinecolor": "white"
           },
           "yaxis": {
            "backgroundcolor": "#E5ECF6",
            "gridcolor": "white",
            "gridwidth": 2,
            "linecolor": "white",
            "showbackground": true,
            "ticks": "",
            "zerolinecolor": "white"
           },
           "zaxis": {
            "backgroundcolor": "#E5ECF6",
            "gridcolor": "white",
            "gridwidth": 2,
            "linecolor": "white",
            "showbackground": true,
            "ticks": "",
            "zerolinecolor": "white"
           }
          },
          "shapedefaults": {
           "line": {
            "color": "#2a3f5f"
           }
          },
          "ternary": {
           "aaxis": {
            "gridcolor": "white",
            "linecolor": "white",
            "ticks": ""
           },
           "baxis": {
            "gridcolor": "white",
            "linecolor": "white",
            "ticks": ""
           },
           "bgcolor": "#E5ECF6",
           "caxis": {
            "gridcolor": "white",
            "linecolor": "white",
            "ticks": ""
           }
          },
          "title": {
           "x": 0.05
          },
          "xaxis": {
           "automargin": true,
           "gridcolor": "white",
           "linecolor": "white",
           "ticks": "",
           "title": {
            "standoff": 15
           },
           "zerolinecolor": "white",
           "zerolinewidth": 2
          },
          "yaxis": {
           "automargin": true,
           "gridcolor": "white",
           "linecolor": "white",
           "ticks": "",
           "title": {
            "standoff": 15
           },
           "zerolinecolor": "white",
           "zerolinewidth": 2
          }
         }
        },
        "title": {
         "text": "Hyperparameter Importances"
        },
        "xaxis": {
         "title": {
          "text": "Hyperparameter Importance"
         }
        },
        "yaxis": {
         "title": {
          "text": "Hyperparameter"
         }
        }
       }
      },
      "text/html": [
       "<div>                        <script type=\"text/javascript\">window.PlotlyConfig = {MathJaxConfig: 'local'};</script>\n",
       "        <script charset=\"utf-8\" src=\"https://cdn.plot.ly/plotly-2.32.0.min.js\"></script>                <div id=\"62ec9893-d38a-467f-adee-a5f31b2ee658\" class=\"plotly-graph-div\" style=\"height:100%; width:100%;\"></div>            <script type=\"text/javascript\">                                    window.PLOTLYENV=window.PLOTLYENV || {};                                    if (document.getElementById(\"62ec9893-d38a-467f-adee-a5f31b2ee658\")) {                    Plotly.newPlot(                        \"62ec9893-d38a-467f-adee-a5f31b2ee658\",                        [{\"cliponaxis\":false,\"hovertemplate\":[\"random_strength (FloatDistribution): 0.000727617502335013\\u003cextra\\u003e\\u003c\\u002fextra\\u003e\",\"l2_leaf_reg (FloatDistribution): 0.0016466069500772331\\u003cextra\\u003e\\u003c\\u002fextra\\u003e\",\"od_type (CategoricalDistribution): 0.003049161142826468\\u003cextra\\u003e\\u003c\\u002fextra\\u003e\",\"bagging_temperature (FloatDistribution): 0.012851442534485832\\u003cextra\\u003e\\u003c\\u002fextra\\u003e\",\"min_data_in_leaf (IntDistribution): 0.018278405917158156\\u003cextra\\u003e\\u003c\\u002fextra\\u003e\",\"od_wait (IntDistribution): 0.040996698796146855\\u003cextra\\u003e\\u003c\\u002fextra\\u003e\",\"depth (IntDistribution): 0.09428634405916232\\u003cextra\\u003e\\u003c\\u002fextra\\u003e\",\"iterations (IntDistribution): 0.10174062493360612\\u003cextra\\u003e\\u003c\\u002fextra\\u003e\",\"learning_rate (FloatDistribution): 0.24178010825288918\\u003cextra\\u003e\\u003c\\u002fextra\\u003e\",\"bootstrap_type (CategoricalDistribution): 0.48464298991131266\\u003cextra\\u003e\\u003c\\u002fextra\\u003e\"],\"name\":\"Objective Value\",\"orientation\":\"h\",\"text\":[\"\\u003c0.01\",\"\\u003c0.01\",\"\\u003c0.01\",\"0.01\",\"0.02\",\"0.04\",\"0.09\",\"0.10\",\"0.24\",\"0.48\"],\"textposition\":\"outside\",\"x\":[0.000727617502335013,0.0016466069500772331,0.003049161142826468,0.012851442534485832,0.018278405917158156,0.040996698796146855,0.09428634405916232,0.10174062493360612,0.24178010825288918,0.48464298991131266],\"y\":[\"random_strength\",\"l2_leaf_reg\",\"od_type\",\"bagging_temperature\",\"min_data_in_leaf\",\"od_wait\",\"depth\",\"iterations\",\"learning_rate\",\"bootstrap_type\"],\"type\":\"bar\"}],                        {\"title\":{\"text\":\"Hyperparameter Importances\"},\"xaxis\":{\"title\":{\"text\":\"Hyperparameter Importance\"}},\"yaxis\":{\"title\":{\"text\":\"Hyperparameter\"}},\"template\":{\"data\":{\"histogram2dcontour\":[{\"type\":\"histogram2dcontour\",\"colorbar\":{\"outlinewidth\":0,\"ticks\":\"\"},\"colorscale\":[[0.0,\"#0d0887\"],[0.1111111111111111,\"#46039f\"],[0.2222222222222222,\"#7201a8\"],[0.3333333333333333,\"#9c179e\"],[0.4444444444444444,\"#bd3786\"],[0.5555555555555556,\"#d8576b\"],[0.6666666666666666,\"#ed7953\"],[0.7777777777777778,\"#fb9f3a\"],[0.8888888888888888,\"#fdca26\"],[1.0,\"#f0f921\"]]}],\"choropleth\":[{\"type\":\"choropleth\",\"colorbar\":{\"outlinewidth\":0,\"ticks\":\"\"}}],\"histogram2d\":[{\"type\":\"histogram2d\",\"colorbar\":{\"outlinewidth\":0,\"ticks\":\"\"},\"colorscale\":[[0.0,\"#0d0887\"],[0.1111111111111111,\"#46039f\"],[0.2222222222222222,\"#7201a8\"],[0.3333333333333333,\"#9c179e\"],[0.4444444444444444,\"#bd3786\"],[0.5555555555555556,\"#d8576b\"],[0.6666666666666666,\"#ed7953\"],[0.7777777777777778,\"#fb9f3a\"],[0.8888888888888888,\"#fdca26\"],[1.0,\"#f0f921\"]]}],\"heatmap\":[{\"type\":\"heatmap\",\"colorbar\":{\"outlinewidth\":0,\"ticks\":\"\"},\"colorscale\":[[0.0,\"#0d0887\"],[0.1111111111111111,\"#46039f\"],[0.2222222222222222,\"#7201a8\"],[0.3333333333333333,\"#9c179e\"],[0.4444444444444444,\"#bd3786\"],[0.5555555555555556,\"#d8576b\"],[0.6666666666666666,\"#ed7953\"],[0.7777777777777778,\"#fb9f3a\"],[0.8888888888888888,\"#fdca26\"],[1.0,\"#f0f921\"]]}],\"heatmapgl\":[{\"type\":\"heatmapgl\",\"colorbar\":{\"outlinewidth\":0,\"ticks\":\"\"},\"colorscale\":[[0.0,\"#0d0887\"],[0.1111111111111111,\"#46039f\"],[0.2222222222222222,\"#7201a8\"],[0.3333333333333333,\"#9c179e\"],[0.4444444444444444,\"#bd3786\"],[0.5555555555555556,\"#d8576b\"],[0.6666666666666666,\"#ed7953\"],[0.7777777777777778,\"#fb9f3a\"],[0.8888888888888888,\"#fdca26\"],[1.0,\"#f0f921\"]]}],\"contourcarpet\":[{\"type\":\"contourcarpet\",\"colorbar\":{\"outlinewidth\":0,\"ticks\":\"\"}}],\"contour\":[{\"type\":\"contour\",\"colorbar\":{\"outlinewidth\":0,\"ticks\":\"\"},\"colorscale\":[[0.0,\"#0d0887\"],[0.1111111111111111,\"#46039f\"],[0.2222222222222222,\"#7201a8\"],[0.3333333333333333,\"#9c179e\"],[0.4444444444444444,\"#bd3786\"],[0.5555555555555556,\"#d8576b\"],[0.6666666666666666,\"#ed7953\"],[0.7777777777777778,\"#fb9f3a\"],[0.8888888888888888,\"#fdca26\"],[1.0,\"#f0f921\"]]}],\"surface\":[{\"type\":\"surface\",\"colorbar\":{\"outlinewidth\":0,\"ticks\":\"\"},\"colorscale\":[[0.0,\"#0d0887\"],[0.1111111111111111,\"#46039f\"],[0.2222222222222222,\"#7201a8\"],[0.3333333333333333,\"#9c179e\"],[0.4444444444444444,\"#bd3786\"],[0.5555555555555556,\"#d8576b\"],[0.6666666666666666,\"#ed7953\"],[0.7777777777777778,\"#fb9f3a\"],[0.8888888888888888,\"#fdca26\"],[1.0,\"#f0f921\"]]}],\"mesh3d\":[{\"type\":\"mesh3d\",\"colorbar\":{\"outlinewidth\":0,\"ticks\":\"\"}}],\"scatter\":[{\"fillpattern\":{\"fillmode\":\"overlay\",\"size\":10,\"solidity\":0.2},\"type\":\"scatter\"}],\"parcoords\":[{\"type\":\"parcoords\",\"line\":{\"colorbar\":{\"outlinewidth\":0,\"ticks\":\"\"}}}],\"scatterpolargl\":[{\"type\":\"scatterpolargl\",\"marker\":{\"colorbar\":{\"outlinewidth\":0,\"ticks\":\"\"}}}],\"bar\":[{\"error_x\":{\"color\":\"#2a3f5f\"},\"error_y\":{\"color\":\"#2a3f5f\"},\"marker\":{\"line\":{\"color\":\"#E5ECF6\",\"width\":0.5},\"pattern\":{\"fillmode\":\"overlay\",\"size\":10,\"solidity\":0.2}},\"type\":\"bar\"}],\"scattergeo\":[{\"type\":\"scattergeo\",\"marker\":{\"colorbar\":{\"outlinewidth\":0,\"ticks\":\"\"}}}],\"scatterpolar\":[{\"type\":\"scatterpolar\",\"marker\":{\"colorbar\":{\"outlinewidth\":0,\"ticks\":\"\"}}}],\"histogram\":[{\"marker\":{\"pattern\":{\"fillmode\":\"overlay\",\"size\":10,\"solidity\":0.2}},\"type\":\"histogram\"}],\"scattergl\":[{\"type\":\"scattergl\",\"marker\":{\"colorbar\":{\"outlinewidth\":0,\"ticks\":\"\"}}}],\"scatter3d\":[{\"type\":\"scatter3d\",\"line\":{\"colorbar\":{\"outlinewidth\":0,\"ticks\":\"\"}},\"marker\":{\"colorbar\":{\"outlinewidth\":0,\"ticks\":\"\"}}}],\"scattermapbox\":[{\"type\":\"scattermapbox\",\"marker\":{\"colorbar\":{\"outlinewidth\":0,\"ticks\":\"\"}}}],\"scatterternary\":[{\"type\":\"scatterternary\",\"marker\":{\"colorbar\":{\"outlinewidth\":0,\"ticks\":\"\"}}}],\"scattercarpet\":[{\"type\":\"scattercarpet\",\"marker\":{\"colorbar\":{\"outlinewidth\":0,\"ticks\":\"\"}}}],\"carpet\":[{\"aaxis\":{\"endlinecolor\":\"#2a3f5f\",\"gridcolor\":\"white\",\"linecolor\":\"white\",\"minorgridcolor\":\"white\",\"startlinecolor\":\"#2a3f5f\"},\"baxis\":{\"endlinecolor\":\"#2a3f5f\",\"gridcolor\":\"white\",\"linecolor\":\"white\",\"minorgridcolor\":\"white\",\"startlinecolor\":\"#2a3f5f\"},\"type\":\"carpet\"}],\"table\":[{\"cells\":{\"fill\":{\"color\":\"#EBF0F8\"},\"line\":{\"color\":\"white\"}},\"header\":{\"fill\":{\"color\":\"#C8D4E3\"},\"line\":{\"color\":\"white\"}},\"type\":\"table\"}],\"barpolar\":[{\"marker\":{\"line\":{\"color\":\"#E5ECF6\",\"width\":0.5},\"pattern\":{\"fillmode\":\"overlay\",\"size\":10,\"solidity\":0.2}},\"type\":\"barpolar\"}],\"pie\":[{\"automargin\":true,\"type\":\"pie\"}]},\"layout\":{\"autotypenumbers\":\"strict\",\"colorway\":[\"#636efa\",\"#EF553B\",\"#00cc96\",\"#ab63fa\",\"#FFA15A\",\"#19d3f3\",\"#FF6692\",\"#B6E880\",\"#FF97FF\",\"#FECB52\"],\"font\":{\"color\":\"#2a3f5f\"},\"hovermode\":\"closest\",\"hoverlabel\":{\"align\":\"left\"},\"paper_bgcolor\":\"white\",\"plot_bgcolor\":\"#E5ECF6\",\"polar\":{\"bgcolor\":\"#E5ECF6\",\"angularaxis\":{\"gridcolor\":\"white\",\"linecolor\":\"white\",\"ticks\":\"\"},\"radialaxis\":{\"gridcolor\":\"white\",\"linecolor\":\"white\",\"ticks\":\"\"}},\"ternary\":{\"bgcolor\":\"#E5ECF6\",\"aaxis\":{\"gridcolor\":\"white\",\"linecolor\":\"white\",\"ticks\":\"\"},\"baxis\":{\"gridcolor\":\"white\",\"linecolor\":\"white\",\"ticks\":\"\"},\"caxis\":{\"gridcolor\":\"white\",\"linecolor\":\"white\",\"ticks\":\"\"}},\"coloraxis\":{\"colorbar\":{\"outlinewidth\":0,\"ticks\":\"\"}},\"colorscale\":{\"sequential\":[[0.0,\"#0d0887\"],[0.1111111111111111,\"#46039f\"],[0.2222222222222222,\"#7201a8\"],[0.3333333333333333,\"#9c179e\"],[0.4444444444444444,\"#bd3786\"],[0.5555555555555556,\"#d8576b\"],[0.6666666666666666,\"#ed7953\"],[0.7777777777777778,\"#fb9f3a\"],[0.8888888888888888,\"#fdca26\"],[1.0,\"#f0f921\"]],\"sequentialminus\":[[0.0,\"#0d0887\"],[0.1111111111111111,\"#46039f\"],[0.2222222222222222,\"#7201a8\"],[0.3333333333333333,\"#9c179e\"],[0.4444444444444444,\"#bd3786\"],[0.5555555555555556,\"#d8576b\"],[0.6666666666666666,\"#ed7953\"],[0.7777777777777778,\"#fb9f3a\"],[0.8888888888888888,\"#fdca26\"],[1.0,\"#f0f921\"]],\"diverging\":[[0,\"#8e0152\"],[0.1,\"#c51b7d\"],[0.2,\"#de77ae\"],[0.3,\"#f1b6da\"],[0.4,\"#fde0ef\"],[0.5,\"#f7f7f7\"],[0.6,\"#e6f5d0\"],[0.7,\"#b8e186\"],[0.8,\"#7fbc41\"],[0.9,\"#4d9221\"],[1,\"#276419\"]]},\"xaxis\":{\"gridcolor\":\"white\",\"linecolor\":\"white\",\"ticks\":\"\",\"title\":{\"standoff\":15},\"zerolinecolor\":\"white\",\"automargin\":true,\"zerolinewidth\":2},\"yaxis\":{\"gridcolor\":\"white\",\"linecolor\":\"white\",\"ticks\":\"\",\"title\":{\"standoff\":15},\"zerolinecolor\":\"white\",\"automargin\":true,\"zerolinewidth\":2},\"scene\":{\"xaxis\":{\"backgroundcolor\":\"#E5ECF6\",\"gridcolor\":\"white\",\"linecolor\":\"white\",\"showbackground\":true,\"ticks\":\"\",\"zerolinecolor\":\"white\",\"gridwidth\":2},\"yaxis\":{\"backgroundcolor\":\"#E5ECF6\",\"gridcolor\":\"white\",\"linecolor\":\"white\",\"showbackground\":true,\"ticks\":\"\",\"zerolinecolor\":\"white\",\"gridwidth\":2},\"zaxis\":{\"backgroundcolor\":\"#E5ECF6\",\"gridcolor\":\"white\",\"linecolor\":\"white\",\"showbackground\":true,\"ticks\":\"\",\"zerolinecolor\":\"white\",\"gridwidth\":2}},\"shapedefaults\":{\"line\":{\"color\":\"#2a3f5f\"}},\"annotationdefaults\":{\"arrowcolor\":\"#2a3f5f\",\"arrowhead\":0,\"arrowwidth\":1},\"geo\":{\"bgcolor\":\"white\",\"landcolor\":\"#E5ECF6\",\"subunitcolor\":\"white\",\"showland\":true,\"showlakes\":true,\"lakecolor\":\"white\"},\"title\":{\"x\":0.05},\"mapbox\":{\"style\":\"light\"}}}},                        {\"responsive\": true}                    )                };                            </script>        </div>"
      ],
      "text/plain": [
       "Figure({\n",
       "    'data': [{'cliponaxis': False,\n",
       "              'hovertemplate': [random_strength (FloatDistribution):\n",
       "                                0.000727617502335013<extra></extra>, l2_leaf_reg\n",
       "                                (FloatDistribution):\n",
       "                                0.0016466069500772331<extra></extra>, od_type\n",
       "                                (CategoricalDistribution):\n",
       "                                0.003049161142826468<extra></extra>,\n",
       "                                bagging_temperature (FloatDistribution):\n",
       "                                0.012851442534485832<extra></extra>,\n",
       "                                min_data_in_leaf (IntDistribution):\n",
       "                                0.018278405917158156<extra></extra>, od_wait\n",
       "                                (IntDistribution):\n",
       "                                0.040996698796146855<extra></extra>, depth\n",
       "                                (IntDistribution):\n",
       "                                0.09428634405916232<extra></extra>, iterations\n",
       "                                (IntDistribution):\n",
       "                                0.10174062493360612<extra></extra>, learning_rate\n",
       "                                (FloatDistribution):\n",
       "                                0.24178010825288918<extra></extra>, bootstrap_type\n",
       "                                (CategoricalDistribution):\n",
       "                                0.48464298991131266<extra></extra>],\n",
       "              'name': 'Objective Value',\n",
       "              'orientation': 'h',\n",
       "              'text': [<0.01, <0.01, <0.01, 0.01, 0.02, 0.04, 0.09, 0.10, 0.24,\n",
       "                       0.48],\n",
       "              'textposition': 'outside',\n",
       "              'type': 'bar',\n",
       "              'x': [0.000727617502335013, 0.0016466069500772331,\n",
       "                    0.003049161142826468, 0.012851442534485832,\n",
       "                    0.018278405917158156, 0.040996698796146855,\n",
       "                    0.09428634405916232, 0.10174062493360612, 0.24178010825288918,\n",
       "                    0.48464298991131266],\n",
       "              'y': [random_strength, l2_leaf_reg, od_type, bagging_temperature,\n",
       "                    min_data_in_leaf, od_wait, depth, iterations, learning_rate,\n",
       "                    bootstrap_type]}],\n",
       "    'layout': {'template': '...',\n",
       "               'title': {'text': 'Hyperparameter Importances'},\n",
       "               'xaxis': {'title': {'text': 'Hyperparameter Importance'}},\n",
       "               'yaxis': {'title': {'text': 'Hyperparameter'}}}\n",
       "})"
      ]
     },
     "execution_count": 47,
     "metadata": {},
     "output_type": "execute_result"
    }
   ],
   "source": [
    "# 하이퍼파라미터별 중요도를 확인할 수 있는 그래프\n",
    "optuna.visualization.plot_param_importances(study_cat)"
   ]
  },
  {
   "cell_type": "code",
   "execution_count": 49,
   "metadata": {},
   "outputs": [
    {
     "ename": "ValueError",
     "evalue": "Mime type rendering requires nbformat>=4.2.0 but it is not installed",
     "output_type": "error",
     "traceback": [
      "\u001b[1;31m---------------------------------------------------------------------------\u001b[0m",
      "\u001b[1;31mValueError\u001b[0m                                Traceback (most recent call last)",
      "File \u001b[1;32mc:\\Users\\aryij\\anaconda3\\envs\\weather2\\Lib\\site-packages\\IPython\\core\\formatters.py:925\u001b[0m, in \u001b[0;36mIPythonDisplayFormatter.__call__\u001b[1;34m(self, obj)\u001b[0m\n\u001b[0;32m    923\u001b[0m method \u001b[38;5;241m=\u001b[39m get_real_method(obj, \u001b[38;5;28mself\u001b[39m\u001b[38;5;241m.\u001b[39mprint_method)\n\u001b[0;32m    924\u001b[0m \u001b[38;5;28;01mif\u001b[39;00m method \u001b[38;5;129;01mis\u001b[39;00m \u001b[38;5;129;01mnot\u001b[39;00m \u001b[38;5;28;01mNone\u001b[39;00m:\n\u001b[1;32m--> 925\u001b[0m     method()\n\u001b[0;32m    926\u001b[0m     \u001b[38;5;28;01mreturn\u001b[39;00m \u001b[38;5;28;01mTrue\u001b[39;00m\n",
      "File \u001b[1;32mc:\\Users\\aryij\\anaconda3\\envs\\weather2\\Lib\\site-packages\\plotly\\basedatatypes.py:832\u001b[0m, in \u001b[0;36mBaseFigure._ipython_display_\u001b[1;34m(self)\u001b[0m\n\u001b[0;32m    829\u001b[0m \u001b[38;5;28;01mimport\u001b[39;00m \u001b[38;5;21;01mplotly\u001b[39;00m\u001b[38;5;21;01m.\u001b[39;00m\u001b[38;5;21;01mio\u001b[39;00m \u001b[38;5;28;01mas\u001b[39;00m \u001b[38;5;21;01mpio\u001b[39;00m\n\u001b[0;32m    831\u001b[0m \u001b[38;5;28;01mif\u001b[39;00m pio\u001b[38;5;241m.\u001b[39mrenderers\u001b[38;5;241m.\u001b[39mrender_on_display \u001b[38;5;129;01mand\u001b[39;00m pio\u001b[38;5;241m.\u001b[39mrenderers\u001b[38;5;241m.\u001b[39mdefault:\n\u001b[1;32m--> 832\u001b[0m     pio\u001b[38;5;241m.\u001b[39mshow(\u001b[38;5;28mself\u001b[39m)\n\u001b[0;32m    833\u001b[0m \u001b[38;5;28;01melse\u001b[39;00m:\n\u001b[0;32m    834\u001b[0m     \u001b[38;5;28mprint\u001b[39m(\u001b[38;5;28mrepr\u001b[39m(\u001b[38;5;28mself\u001b[39m))\n",
      "File \u001b[1;32mc:\\Users\\aryij\\anaconda3\\envs\\weather2\\Lib\\site-packages\\plotly\\io\\_renderers.py:394\u001b[0m, in \u001b[0;36mshow\u001b[1;34m(fig, renderer, validate, **kwargs)\u001b[0m\n\u001b[0;32m    389\u001b[0m         \u001b[38;5;28;01mraise\u001b[39;00m \u001b[38;5;167;01mValueError\u001b[39;00m(\n\u001b[0;32m    390\u001b[0m             \u001b[38;5;124m\"\u001b[39m\u001b[38;5;124mMime type rendering requires ipython but it is not installed\u001b[39m\u001b[38;5;124m\"\u001b[39m\n\u001b[0;32m    391\u001b[0m         )\n\u001b[0;32m    393\u001b[0m     \u001b[38;5;28;01mif\u001b[39;00m \u001b[38;5;129;01mnot\u001b[39;00m nbformat \u001b[38;5;129;01mor\u001b[39;00m Version(nbformat\u001b[38;5;241m.\u001b[39m__version__) \u001b[38;5;241m<\u001b[39m Version(\u001b[38;5;124m\"\u001b[39m\u001b[38;5;124m4.2.0\u001b[39m\u001b[38;5;124m\"\u001b[39m):\n\u001b[1;32m--> 394\u001b[0m         \u001b[38;5;28;01mraise\u001b[39;00m \u001b[38;5;167;01mValueError\u001b[39;00m(\n\u001b[0;32m    395\u001b[0m             \u001b[38;5;124m\"\u001b[39m\u001b[38;5;124mMime type rendering requires nbformat>=4.2.0 but it is not installed\u001b[39m\u001b[38;5;124m\"\u001b[39m\n\u001b[0;32m    396\u001b[0m         )\n\u001b[0;32m    398\u001b[0m     ipython_display\u001b[38;5;241m.\u001b[39mdisplay(bundle, raw\u001b[38;5;241m=\u001b[39m\u001b[38;5;28;01mTrue\u001b[39;00m)\n\u001b[0;32m    400\u001b[0m \u001b[38;5;66;03m# external renderers\u001b[39;00m\n",
      "\u001b[1;31mValueError\u001b[0m: Mime type rendering requires nbformat>=4.2.0 but it is not installed"
     ]
    },
    {
     "data": {
      "application/vnd.plotly.v1+json": {
       "config": {
        "plotlyServerURL": "https://plot.ly"
       },
       "data": [
        {
         "mode": "markers",
         "name": "Objective Value",
         "type": "scatter",
         "x": [
          0,
          1,
          2,
          3,
          4,
          5,
          6,
          7,
          8,
          9,
          10,
          11,
          12,
          13,
          14,
          15,
          16,
          17,
          18,
          19,
          20,
          21,
          22,
          23,
          24,
          25,
          26,
          27,
          28,
          29,
          30,
          31,
          32,
          33,
          34,
          35,
          36,
          37,
          38,
          39,
          40,
          41,
          42,
          43,
          44,
          45,
          46,
          47,
          48,
          49,
          50,
          51,
          52,
          53,
          54,
          55,
          56,
          57,
          58,
          59,
          60,
          61,
          62,
          63,
          64,
          65,
          66,
          67,
          68,
          69,
          70,
          71,
          72,
          73,
          74,
          75,
          76,
          77,
          78,
          79,
          80,
          81,
          82,
          83,
          84,
          85,
          86,
          87,
          88,
          89,
          90,
          91,
          92,
          93,
          94,
          95,
          96,
          97,
          98,
          99
         ],
         "y": [
          0.12850265399333416,
          0,
          0.030605499735589636,
          0,
          0.017504376094023506,
          0,
          0.023342903507676944,
          0.012149298597194389,
          0,
          0.02829862312322701,
          0.07002974714923153,
          0.06046684877079712,
          0.02541739347121854,
          0.15022724481021987,
          0.06106491249844855,
          0.13398249722667324,
          0.04905989291495455,
          0.06731246895181321,
          0,
          0.11493257453915626,
          0.019,
          0.0810575968222443,
          0.07649530400395452,
          0.10442959663449641,
          0.04477611940298507,
          0.04234446790016143,
          0,
          0.15621927236971483,
          0.08052527254707631,
          0.1495763232223996,
          0.049396540997884784,
          0.17262925753491792,
          0.17063005638636922,
          0.14970501474926254,
          0,
          0.021242034237161065,
          0.0741246585547554,
          0,
          0.1728834355828221,
          0.0706832298136646,
          0,
          0.18075980392156862,
          0.12074494326591022,
          0.15356220007382798,
          0.22924231420963448,
          0.20031699585466958,
          0.03624813153961136,
          0.21163186012627488,
          0.005256241787122208,
          0.1409371146732429,
          0.09994125422235277,
          0.017776664997496243,
          0.21439844603617822,
          0.1760520181572813,
          0.2073704694721479,
          0.18372575332438698,
          0.08586592991129853,
          0,
          0.16304481276856966,
          0.0988970132606271,
          0.24036144578313254,
          0.23447860156720915,
          0.23626705300012074,
          0.2298961603477421,
          0.232317146644174,
          0.23093629343629343,
          0.23418102928769435,
          0.2040247302703358,
          0.2243613028211648,
          0,
          0.10841225626740947,
          0.23595370147094286,
          0.20416615909367766,
          0.23075993717530507,
          0.20089936801166747,
          0.18595546855884512,
          0.08314370733415018,
          0.01837270341207349,
          0.1112618724559023,
          0.21423384168482207,
          0.07370246500681284,
          0.2216963960684383,
          0.23299915448725692,
          0.2168044747081712,
          0.20311549227211878,
          0.22578304510823557,
          0,
          0.25162142685563293,
          0.22241127856101117,
          0.2385486981677917,
          0.10125306063661242,
          0.24273833915873208,
          0.23753771876885937,
          0.23757106568283537,
          0.24122542515981185,
          0.19733789229454146,
          0.21665702718334298,
          0.09827049714161662,
          0.20619059224957348,
          0
         ]
        },
        {
         "mode": "lines",
         "name": "Best Value",
         "type": "scatter",
         "x": [
          0,
          1,
          2,
          3,
          4,
          5,
          6,
          7,
          8,
          9,
          10,
          11,
          12,
          13,
          14,
          15,
          16,
          17,
          18,
          19,
          20,
          21,
          22,
          23,
          24,
          25,
          26,
          27,
          28,
          29,
          30,
          31,
          32,
          33,
          34,
          35,
          36,
          37,
          38,
          39,
          40,
          41,
          42,
          43,
          44,
          45,
          46,
          47,
          48,
          49,
          50,
          51,
          52,
          53,
          54,
          55,
          56,
          57,
          58,
          59,
          60,
          61,
          62,
          63,
          64,
          65,
          66,
          67,
          68,
          69,
          70,
          71,
          72,
          73,
          74,
          75,
          76,
          77,
          78,
          79,
          80,
          81,
          82,
          83,
          84,
          85,
          86,
          87,
          88,
          89,
          90,
          91,
          92,
          93,
          94,
          95,
          96,
          97,
          98,
          99
         ],
         "y": [
          0.12850265399333416,
          0.12850265399333416,
          0.12850265399333416,
          0.12850265399333416,
          0.12850265399333416,
          0.12850265399333416,
          0.12850265399333416,
          0.12850265399333416,
          0.12850265399333416,
          0.12850265399333416,
          0.12850265399333416,
          0.12850265399333416,
          0.12850265399333416,
          0.15022724481021987,
          0.15022724481021987,
          0.15022724481021987,
          0.15022724481021987,
          0.15022724481021987,
          0.15022724481021987,
          0.15022724481021987,
          0.15022724481021987,
          0.15022724481021987,
          0.15022724481021987,
          0.15022724481021987,
          0.15022724481021987,
          0.15022724481021987,
          0.15022724481021987,
          0.15621927236971483,
          0.15621927236971483,
          0.15621927236971483,
          0.15621927236971483,
          0.17262925753491792,
          0.17262925753491792,
          0.17262925753491792,
          0.17262925753491792,
          0.17262925753491792,
          0.17262925753491792,
          0.17262925753491792,
          0.1728834355828221,
          0.1728834355828221,
          0.1728834355828221,
          0.18075980392156862,
          0.18075980392156862,
          0.18075980392156862,
          0.22924231420963448,
          0.22924231420963448,
          0.22924231420963448,
          0.22924231420963448,
          0.22924231420963448,
          0.22924231420963448,
          0.22924231420963448,
          0.22924231420963448,
          0.22924231420963448,
          0.22924231420963448,
          0.22924231420963448,
          0.22924231420963448,
          0.22924231420963448,
          0.22924231420963448,
          0.22924231420963448,
          0.22924231420963448,
          0.24036144578313254,
          0.24036144578313254,
          0.24036144578313254,
          0.24036144578313254,
          0.24036144578313254,
          0.24036144578313254,
          0.24036144578313254,
          0.24036144578313254,
          0.24036144578313254,
          0.24036144578313254,
          0.24036144578313254,
          0.24036144578313254,
          0.24036144578313254,
          0.24036144578313254,
          0.24036144578313254,
          0.24036144578313254,
          0.24036144578313254,
          0.24036144578313254,
          0.24036144578313254,
          0.24036144578313254,
          0.24036144578313254,
          0.24036144578313254,
          0.24036144578313254,
          0.24036144578313254,
          0.24036144578313254,
          0.24036144578313254,
          0.24036144578313254,
          0.25162142685563293,
          0.25162142685563293,
          0.25162142685563293,
          0.25162142685563293,
          0.25162142685563293,
          0.25162142685563293,
          0.25162142685563293,
          0.25162142685563293,
          0.25162142685563293,
          0.25162142685563293,
          0.25162142685563293,
          0.25162142685563293,
          0.25162142685563293
         ]
        },
        {
         "marker": {
          "color": "#cccccc"
         },
         "mode": "markers",
         "name": "Infeasible Trial",
         "showlegend": false,
         "type": "scatter",
         "x": [],
         "y": []
        }
       ],
       "layout": {
        "template": {
         "data": {
          "bar": [
           {
            "error_x": {
             "color": "#2a3f5f"
            },
            "error_y": {
             "color": "#2a3f5f"
            },
            "marker": {
             "line": {
              "color": "#E5ECF6",
              "width": 0.5
             },
             "pattern": {
              "fillmode": "overlay",
              "size": 10,
              "solidity": 0.2
             }
            },
            "type": "bar"
           }
          ],
          "barpolar": [
           {
            "marker": {
             "line": {
              "color": "#E5ECF6",
              "width": 0.5
             },
             "pattern": {
              "fillmode": "overlay",
              "size": 10,
              "solidity": 0.2
             }
            },
            "type": "barpolar"
           }
          ],
          "carpet": [
           {
            "aaxis": {
             "endlinecolor": "#2a3f5f",
             "gridcolor": "white",
             "linecolor": "white",
             "minorgridcolor": "white",
             "startlinecolor": "#2a3f5f"
            },
            "baxis": {
             "endlinecolor": "#2a3f5f",
             "gridcolor": "white",
             "linecolor": "white",
             "minorgridcolor": "white",
             "startlinecolor": "#2a3f5f"
            },
            "type": "carpet"
           }
          ],
          "choropleth": [
           {
            "colorbar": {
             "outlinewidth": 0,
             "ticks": ""
            },
            "type": "choropleth"
           }
          ],
          "contour": [
           {
            "colorbar": {
             "outlinewidth": 0,
             "ticks": ""
            },
            "colorscale": [
             [
              0,
              "#0d0887"
             ],
             [
              0.1111111111111111,
              "#46039f"
             ],
             [
              0.2222222222222222,
              "#7201a8"
             ],
             [
              0.3333333333333333,
              "#9c179e"
             ],
             [
              0.4444444444444444,
              "#bd3786"
             ],
             [
              0.5555555555555556,
              "#d8576b"
             ],
             [
              0.6666666666666666,
              "#ed7953"
             ],
             [
              0.7777777777777778,
              "#fb9f3a"
             ],
             [
              0.8888888888888888,
              "#fdca26"
             ],
             [
              1,
              "#f0f921"
             ]
            ],
            "type": "contour"
           }
          ],
          "contourcarpet": [
           {
            "colorbar": {
             "outlinewidth": 0,
             "ticks": ""
            },
            "type": "contourcarpet"
           }
          ],
          "heatmap": [
           {
            "colorbar": {
             "outlinewidth": 0,
             "ticks": ""
            },
            "colorscale": [
             [
              0,
              "#0d0887"
             ],
             [
              0.1111111111111111,
              "#46039f"
             ],
             [
              0.2222222222222222,
              "#7201a8"
             ],
             [
              0.3333333333333333,
              "#9c179e"
             ],
             [
              0.4444444444444444,
              "#bd3786"
             ],
             [
              0.5555555555555556,
              "#d8576b"
             ],
             [
              0.6666666666666666,
              "#ed7953"
             ],
             [
              0.7777777777777778,
              "#fb9f3a"
             ],
             [
              0.8888888888888888,
              "#fdca26"
             ],
             [
              1,
              "#f0f921"
             ]
            ],
            "type": "heatmap"
           }
          ],
          "heatmapgl": [
           {
            "colorbar": {
             "outlinewidth": 0,
             "ticks": ""
            },
            "colorscale": [
             [
              0,
              "#0d0887"
             ],
             [
              0.1111111111111111,
              "#46039f"
             ],
             [
              0.2222222222222222,
              "#7201a8"
             ],
             [
              0.3333333333333333,
              "#9c179e"
             ],
             [
              0.4444444444444444,
              "#bd3786"
             ],
             [
              0.5555555555555556,
              "#d8576b"
             ],
             [
              0.6666666666666666,
              "#ed7953"
             ],
             [
              0.7777777777777778,
              "#fb9f3a"
             ],
             [
              0.8888888888888888,
              "#fdca26"
             ],
             [
              1,
              "#f0f921"
             ]
            ],
            "type": "heatmapgl"
           }
          ],
          "histogram": [
           {
            "marker": {
             "pattern": {
              "fillmode": "overlay",
              "size": 10,
              "solidity": 0.2
             }
            },
            "type": "histogram"
           }
          ],
          "histogram2d": [
           {
            "colorbar": {
             "outlinewidth": 0,
             "ticks": ""
            },
            "colorscale": [
             [
              0,
              "#0d0887"
             ],
             [
              0.1111111111111111,
              "#46039f"
             ],
             [
              0.2222222222222222,
              "#7201a8"
             ],
             [
              0.3333333333333333,
              "#9c179e"
             ],
             [
              0.4444444444444444,
              "#bd3786"
             ],
             [
              0.5555555555555556,
              "#d8576b"
             ],
             [
              0.6666666666666666,
              "#ed7953"
             ],
             [
              0.7777777777777778,
              "#fb9f3a"
             ],
             [
              0.8888888888888888,
              "#fdca26"
             ],
             [
              1,
              "#f0f921"
             ]
            ],
            "type": "histogram2d"
           }
          ],
          "histogram2dcontour": [
           {
            "colorbar": {
             "outlinewidth": 0,
             "ticks": ""
            },
            "colorscale": [
             [
              0,
              "#0d0887"
             ],
             [
              0.1111111111111111,
              "#46039f"
             ],
             [
              0.2222222222222222,
              "#7201a8"
             ],
             [
              0.3333333333333333,
              "#9c179e"
             ],
             [
              0.4444444444444444,
              "#bd3786"
             ],
             [
              0.5555555555555556,
              "#d8576b"
             ],
             [
              0.6666666666666666,
              "#ed7953"
             ],
             [
              0.7777777777777778,
              "#fb9f3a"
             ],
             [
              0.8888888888888888,
              "#fdca26"
             ],
             [
              1,
              "#f0f921"
             ]
            ],
            "type": "histogram2dcontour"
           }
          ],
          "mesh3d": [
           {
            "colorbar": {
             "outlinewidth": 0,
             "ticks": ""
            },
            "type": "mesh3d"
           }
          ],
          "parcoords": [
           {
            "line": {
             "colorbar": {
              "outlinewidth": 0,
              "ticks": ""
             }
            },
            "type": "parcoords"
           }
          ],
          "pie": [
           {
            "automargin": true,
            "type": "pie"
           }
          ],
          "scatter": [
           {
            "fillpattern": {
             "fillmode": "overlay",
             "size": 10,
             "solidity": 0.2
            },
            "type": "scatter"
           }
          ],
          "scatter3d": [
           {
            "line": {
             "colorbar": {
              "outlinewidth": 0,
              "ticks": ""
             }
            },
            "marker": {
             "colorbar": {
              "outlinewidth": 0,
              "ticks": ""
             }
            },
            "type": "scatter3d"
           }
          ],
          "scattercarpet": [
           {
            "marker": {
             "colorbar": {
              "outlinewidth": 0,
              "ticks": ""
             }
            },
            "type": "scattercarpet"
           }
          ],
          "scattergeo": [
           {
            "marker": {
             "colorbar": {
              "outlinewidth": 0,
              "ticks": ""
             }
            },
            "type": "scattergeo"
           }
          ],
          "scattergl": [
           {
            "marker": {
             "colorbar": {
              "outlinewidth": 0,
              "ticks": ""
             }
            },
            "type": "scattergl"
           }
          ],
          "scattermapbox": [
           {
            "marker": {
             "colorbar": {
              "outlinewidth": 0,
              "ticks": ""
             }
            },
            "type": "scattermapbox"
           }
          ],
          "scatterpolar": [
           {
            "marker": {
             "colorbar": {
              "outlinewidth": 0,
              "ticks": ""
             }
            },
            "type": "scatterpolar"
           }
          ],
          "scatterpolargl": [
           {
            "marker": {
             "colorbar": {
              "outlinewidth": 0,
              "ticks": ""
             }
            },
            "type": "scatterpolargl"
           }
          ],
          "scatterternary": [
           {
            "marker": {
             "colorbar": {
              "outlinewidth": 0,
              "ticks": ""
             }
            },
            "type": "scatterternary"
           }
          ],
          "surface": [
           {
            "colorbar": {
             "outlinewidth": 0,
             "ticks": ""
            },
            "colorscale": [
             [
              0,
              "#0d0887"
             ],
             [
              0.1111111111111111,
              "#46039f"
             ],
             [
              0.2222222222222222,
              "#7201a8"
             ],
             [
              0.3333333333333333,
              "#9c179e"
             ],
             [
              0.4444444444444444,
              "#bd3786"
             ],
             [
              0.5555555555555556,
              "#d8576b"
             ],
             [
              0.6666666666666666,
              "#ed7953"
             ],
             [
              0.7777777777777778,
              "#fb9f3a"
             ],
             [
              0.8888888888888888,
              "#fdca26"
             ],
             [
              1,
              "#f0f921"
             ]
            ],
            "type": "surface"
           }
          ],
          "table": [
           {
            "cells": {
             "fill": {
              "color": "#EBF0F8"
             },
             "line": {
              "color": "white"
             }
            },
            "header": {
             "fill": {
              "color": "#C8D4E3"
             },
             "line": {
              "color": "white"
             }
            },
            "type": "table"
           }
          ]
         },
         "layout": {
          "annotationdefaults": {
           "arrowcolor": "#2a3f5f",
           "arrowhead": 0,
           "arrowwidth": 1
          },
          "autotypenumbers": "strict",
          "coloraxis": {
           "colorbar": {
            "outlinewidth": 0,
            "ticks": ""
           }
          },
          "colorscale": {
           "diverging": [
            [
             0,
             "#8e0152"
            ],
            [
             0.1,
             "#c51b7d"
            ],
            [
             0.2,
             "#de77ae"
            ],
            [
             0.3,
             "#f1b6da"
            ],
            [
             0.4,
             "#fde0ef"
            ],
            [
             0.5,
             "#f7f7f7"
            ],
            [
             0.6,
             "#e6f5d0"
            ],
            [
             0.7,
             "#b8e186"
            ],
            [
             0.8,
             "#7fbc41"
            ],
            [
             0.9,
             "#4d9221"
            ],
            [
             1,
             "#276419"
            ]
           ],
           "sequential": [
            [
             0,
             "#0d0887"
            ],
            [
             0.1111111111111111,
             "#46039f"
            ],
            [
             0.2222222222222222,
             "#7201a8"
            ],
            [
             0.3333333333333333,
             "#9c179e"
            ],
            [
             0.4444444444444444,
             "#bd3786"
            ],
            [
             0.5555555555555556,
             "#d8576b"
            ],
            [
             0.6666666666666666,
             "#ed7953"
            ],
            [
             0.7777777777777778,
             "#fb9f3a"
            ],
            [
             0.8888888888888888,
             "#fdca26"
            ],
            [
             1,
             "#f0f921"
            ]
           ],
           "sequentialminus": [
            [
             0,
             "#0d0887"
            ],
            [
             0.1111111111111111,
             "#46039f"
            ],
            [
             0.2222222222222222,
             "#7201a8"
            ],
            [
             0.3333333333333333,
             "#9c179e"
            ],
            [
             0.4444444444444444,
             "#bd3786"
            ],
            [
             0.5555555555555556,
             "#d8576b"
            ],
            [
             0.6666666666666666,
             "#ed7953"
            ],
            [
             0.7777777777777778,
             "#fb9f3a"
            ],
            [
             0.8888888888888888,
             "#fdca26"
            ],
            [
             1,
             "#f0f921"
            ]
           ]
          },
          "colorway": [
           "#636efa",
           "#EF553B",
           "#00cc96",
           "#ab63fa",
           "#FFA15A",
           "#19d3f3",
           "#FF6692",
           "#B6E880",
           "#FF97FF",
           "#FECB52"
          ],
          "font": {
           "color": "#2a3f5f"
          },
          "geo": {
           "bgcolor": "white",
           "lakecolor": "white",
           "landcolor": "#E5ECF6",
           "showlakes": true,
           "showland": true,
           "subunitcolor": "white"
          },
          "hoverlabel": {
           "align": "left"
          },
          "hovermode": "closest",
          "mapbox": {
           "style": "light"
          },
          "paper_bgcolor": "white",
          "plot_bgcolor": "#E5ECF6",
          "polar": {
           "angularaxis": {
            "gridcolor": "white",
            "linecolor": "white",
            "ticks": ""
           },
           "bgcolor": "#E5ECF6",
           "radialaxis": {
            "gridcolor": "white",
            "linecolor": "white",
            "ticks": ""
           }
          },
          "scene": {
           "xaxis": {
            "backgroundcolor": "#E5ECF6",
            "gridcolor": "white",
            "gridwidth": 2,
            "linecolor": "white",
            "showbackground": true,
            "ticks": "",
            "zerolinecolor": "white"
           },
           "yaxis": {
            "backgroundcolor": "#E5ECF6",
            "gridcolor": "white",
            "gridwidth": 2,
            "linecolor": "white",
            "showbackground": true,
            "ticks": "",
            "zerolinecolor": "white"
           },
           "zaxis": {
            "backgroundcolor": "#E5ECF6",
            "gridcolor": "white",
            "gridwidth": 2,
            "linecolor": "white",
            "showbackground": true,
            "ticks": "",
            "zerolinecolor": "white"
           }
          },
          "shapedefaults": {
           "line": {
            "color": "#2a3f5f"
           }
          },
          "ternary": {
           "aaxis": {
            "gridcolor": "white",
            "linecolor": "white",
            "ticks": ""
           },
           "baxis": {
            "gridcolor": "white",
            "linecolor": "white",
            "ticks": ""
           },
           "bgcolor": "#E5ECF6",
           "caxis": {
            "gridcolor": "white",
            "linecolor": "white",
            "ticks": ""
           }
          },
          "title": {
           "x": 0.05
          },
          "xaxis": {
           "automargin": true,
           "gridcolor": "white",
           "linecolor": "white",
           "ticks": "",
           "title": {
            "standoff": 15
           },
           "zerolinecolor": "white",
           "zerolinewidth": 2
          },
          "yaxis": {
           "automargin": true,
           "gridcolor": "white",
           "linecolor": "white",
           "ticks": "",
           "title": {
            "standoff": 15
           },
           "zerolinecolor": "white",
           "zerolinewidth": 2
          }
         }
        },
        "title": {
         "text": "Optimization History Plot"
        },
        "xaxis": {
         "title": {
          "text": "Trial"
         }
        },
        "yaxis": {
         "title": {
          "text": "Objective Value"
         }
        }
       }
      },
      "text/html": [
       "<div>                        <script type=\"text/javascript\">window.PlotlyConfig = {MathJaxConfig: 'local'};</script>\n",
       "        <script charset=\"utf-8\" src=\"https://cdn.plot.ly/plotly-2.32.0.min.js\"></script>                <div id=\"acc5e9b4-a210-4d11-a55b-b2bd4a5949fe\" class=\"plotly-graph-div\" style=\"height:100%; width:100%;\"></div>            <script type=\"text/javascript\">                                    window.PLOTLYENV=window.PLOTLYENV || {};                                    if (document.getElementById(\"acc5e9b4-a210-4d11-a55b-b2bd4a5949fe\")) {                    Plotly.newPlot(                        \"acc5e9b4-a210-4d11-a55b-b2bd4a5949fe\",                        [{\"mode\":\"markers\",\"name\":\"Objective Value\",\"x\":[0,1,2,3,4,5,6,7,8,9,10,11,12,13,14,15,16,17,18,19,20,21,22,23,24,25,26,27,28,29,30,31,32,33,34,35,36,37,38,39,40,41,42,43,44,45,46,47,48,49,50,51,52,53,54,55,56,57,58,59,60,61,62,63,64,65,66,67,68,69,70,71,72,73,74,75,76,77,78,79,80,81,82,83,84,85,86,87,88,89,90,91,92,93,94,95,96,97,98,99],\"y\":[0.12850265399333416,0.0,0.030605499735589636,0.0,0.017504376094023506,0.0,0.023342903507676944,0.012149298597194389,0.0,0.02829862312322701,0.07002974714923153,0.06046684877079712,0.02541739347121854,0.15022724481021987,0.06106491249844855,0.13398249722667324,0.04905989291495455,0.06731246895181321,0.0,0.11493257453915626,0.019,0.0810575968222443,0.07649530400395452,0.10442959663449641,0.04477611940298507,0.04234446790016143,0.0,0.15621927236971483,0.08052527254707631,0.1495763232223996,0.049396540997884784,0.17262925753491792,0.17063005638636922,0.14970501474926254,0.0,0.021242034237161065,0.0741246585547554,0.0,0.1728834355828221,0.0706832298136646,0.0,0.18075980392156862,0.12074494326591022,0.15356220007382798,0.22924231420963448,0.20031699585466958,0.03624813153961136,0.21163186012627488,0.005256241787122208,0.1409371146732429,0.09994125422235277,0.017776664997496243,0.21439844603617822,0.1760520181572813,0.2073704694721479,0.18372575332438698,0.08586592991129853,0.0,0.16304481276856966,0.0988970132606271,0.24036144578313254,0.23447860156720915,0.23626705300012074,0.2298961603477421,0.232317146644174,0.23093629343629343,0.23418102928769435,0.2040247302703358,0.2243613028211648,0.0,0.10841225626740947,0.23595370147094286,0.20416615909367766,0.23075993717530507,0.20089936801166747,0.18595546855884512,0.08314370733415018,0.01837270341207349,0.1112618724559023,0.21423384168482207,0.07370246500681284,0.2216963960684383,0.23299915448725692,0.2168044747081712,0.20311549227211878,0.22578304510823557,0.0,0.25162142685563293,0.22241127856101117,0.2385486981677917,0.10125306063661242,0.24273833915873208,0.23753771876885937,0.23757106568283537,0.24122542515981185,0.19733789229454146,0.21665702718334298,0.09827049714161662,0.20619059224957348,0.0],\"type\":\"scatter\"},{\"mode\":\"lines\",\"name\":\"Best Value\",\"x\":[0,1,2,3,4,5,6,7,8,9,10,11,12,13,14,15,16,17,18,19,20,21,22,23,24,25,26,27,28,29,30,31,32,33,34,35,36,37,38,39,40,41,42,43,44,45,46,47,48,49,50,51,52,53,54,55,56,57,58,59,60,61,62,63,64,65,66,67,68,69,70,71,72,73,74,75,76,77,78,79,80,81,82,83,84,85,86,87,88,89,90,91,92,93,94,95,96,97,98,99],\"y\":[0.12850265399333416,0.12850265399333416,0.12850265399333416,0.12850265399333416,0.12850265399333416,0.12850265399333416,0.12850265399333416,0.12850265399333416,0.12850265399333416,0.12850265399333416,0.12850265399333416,0.12850265399333416,0.12850265399333416,0.15022724481021987,0.15022724481021987,0.15022724481021987,0.15022724481021987,0.15022724481021987,0.15022724481021987,0.15022724481021987,0.15022724481021987,0.15022724481021987,0.15022724481021987,0.15022724481021987,0.15022724481021987,0.15022724481021987,0.15022724481021987,0.15621927236971483,0.15621927236971483,0.15621927236971483,0.15621927236971483,0.17262925753491792,0.17262925753491792,0.17262925753491792,0.17262925753491792,0.17262925753491792,0.17262925753491792,0.17262925753491792,0.1728834355828221,0.1728834355828221,0.1728834355828221,0.18075980392156862,0.18075980392156862,0.18075980392156862,0.22924231420963448,0.22924231420963448,0.22924231420963448,0.22924231420963448,0.22924231420963448,0.22924231420963448,0.22924231420963448,0.22924231420963448,0.22924231420963448,0.22924231420963448,0.22924231420963448,0.22924231420963448,0.22924231420963448,0.22924231420963448,0.22924231420963448,0.22924231420963448,0.24036144578313254,0.24036144578313254,0.24036144578313254,0.24036144578313254,0.24036144578313254,0.24036144578313254,0.24036144578313254,0.24036144578313254,0.24036144578313254,0.24036144578313254,0.24036144578313254,0.24036144578313254,0.24036144578313254,0.24036144578313254,0.24036144578313254,0.24036144578313254,0.24036144578313254,0.24036144578313254,0.24036144578313254,0.24036144578313254,0.24036144578313254,0.24036144578313254,0.24036144578313254,0.24036144578313254,0.24036144578313254,0.24036144578313254,0.24036144578313254,0.25162142685563293,0.25162142685563293,0.25162142685563293,0.25162142685563293,0.25162142685563293,0.25162142685563293,0.25162142685563293,0.25162142685563293,0.25162142685563293,0.25162142685563293,0.25162142685563293,0.25162142685563293,0.25162142685563293],\"type\":\"scatter\"},{\"marker\":{\"color\":\"#cccccc\"},\"mode\":\"markers\",\"name\":\"Infeasible Trial\",\"showlegend\":false,\"x\":[],\"y\":[],\"type\":\"scatter\"}],                        {\"title\":{\"text\":\"Optimization History Plot\"},\"xaxis\":{\"title\":{\"text\":\"Trial\"}},\"yaxis\":{\"title\":{\"text\":\"Objective Value\"}},\"template\":{\"data\":{\"histogram2dcontour\":[{\"type\":\"histogram2dcontour\",\"colorbar\":{\"outlinewidth\":0,\"ticks\":\"\"},\"colorscale\":[[0.0,\"#0d0887\"],[0.1111111111111111,\"#46039f\"],[0.2222222222222222,\"#7201a8\"],[0.3333333333333333,\"#9c179e\"],[0.4444444444444444,\"#bd3786\"],[0.5555555555555556,\"#d8576b\"],[0.6666666666666666,\"#ed7953\"],[0.7777777777777778,\"#fb9f3a\"],[0.8888888888888888,\"#fdca26\"],[1.0,\"#f0f921\"]]}],\"choropleth\":[{\"type\":\"choropleth\",\"colorbar\":{\"outlinewidth\":0,\"ticks\":\"\"}}],\"histogram2d\":[{\"type\":\"histogram2d\",\"colorbar\":{\"outlinewidth\":0,\"ticks\":\"\"},\"colorscale\":[[0.0,\"#0d0887\"],[0.1111111111111111,\"#46039f\"],[0.2222222222222222,\"#7201a8\"],[0.3333333333333333,\"#9c179e\"],[0.4444444444444444,\"#bd3786\"],[0.5555555555555556,\"#d8576b\"],[0.6666666666666666,\"#ed7953\"],[0.7777777777777778,\"#fb9f3a\"],[0.8888888888888888,\"#fdca26\"],[1.0,\"#f0f921\"]]}],\"heatmap\":[{\"type\":\"heatmap\",\"colorbar\":{\"outlinewidth\":0,\"ticks\":\"\"},\"colorscale\":[[0.0,\"#0d0887\"],[0.1111111111111111,\"#46039f\"],[0.2222222222222222,\"#7201a8\"],[0.3333333333333333,\"#9c179e\"],[0.4444444444444444,\"#bd3786\"],[0.5555555555555556,\"#d8576b\"],[0.6666666666666666,\"#ed7953\"],[0.7777777777777778,\"#fb9f3a\"],[0.8888888888888888,\"#fdca26\"],[1.0,\"#f0f921\"]]}],\"heatmapgl\":[{\"type\":\"heatmapgl\",\"colorbar\":{\"outlinewidth\":0,\"ticks\":\"\"},\"colorscale\":[[0.0,\"#0d0887\"],[0.1111111111111111,\"#46039f\"],[0.2222222222222222,\"#7201a8\"],[0.3333333333333333,\"#9c179e\"],[0.4444444444444444,\"#bd3786\"],[0.5555555555555556,\"#d8576b\"],[0.6666666666666666,\"#ed7953\"],[0.7777777777777778,\"#fb9f3a\"],[0.8888888888888888,\"#fdca26\"],[1.0,\"#f0f921\"]]}],\"contourcarpet\":[{\"type\":\"contourcarpet\",\"colorbar\":{\"outlinewidth\":0,\"ticks\":\"\"}}],\"contour\":[{\"type\":\"contour\",\"colorbar\":{\"outlinewidth\":0,\"ticks\":\"\"},\"colorscale\":[[0.0,\"#0d0887\"],[0.1111111111111111,\"#46039f\"],[0.2222222222222222,\"#7201a8\"],[0.3333333333333333,\"#9c179e\"],[0.4444444444444444,\"#bd3786\"],[0.5555555555555556,\"#d8576b\"],[0.6666666666666666,\"#ed7953\"],[0.7777777777777778,\"#fb9f3a\"],[0.8888888888888888,\"#fdca26\"],[1.0,\"#f0f921\"]]}],\"surface\":[{\"type\":\"surface\",\"colorbar\":{\"outlinewidth\":0,\"ticks\":\"\"},\"colorscale\":[[0.0,\"#0d0887\"],[0.1111111111111111,\"#46039f\"],[0.2222222222222222,\"#7201a8\"],[0.3333333333333333,\"#9c179e\"],[0.4444444444444444,\"#bd3786\"],[0.5555555555555556,\"#d8576b\"],[0.6666666666666666,\"#ed7953\"],[0.7777777777777778,\"#fb9f3a\"],[0.8888888888888888,\"#fdca26\"],[1.0,\"#f0f921\"]]}],\"mesh3d\":[{\"type\":\"mesh3d\",\"colorbar\":{\"outlinewidth\":0,\"ticks\":\"\"}}],\"scatter\":[{\"fillpattern\":{\"fillmode\":\"overlay\",\"size\":10,\"solidity\":0.2},\"type\":\"scatter\"}],\"parcoords\":[{\"type\":\"parcoords\",\"line\":{\"colorbar\":{\"outlinewidth\":0,\"ticks\":\"\"}}}],\"scatterpolargl\":[{\"type\":\"scatterpolargl\",\"marker\":{\"colorbar\":{\"outlinewidth\":0,\"ticks\":\"\"}}}],\"bar\":[{\"error_x\":{\"color\":\"#2a3f5f\"},\"error_y\":{\"color\":\"#2a3f5f\"},\"marker\":{\"line\":{\"color\":\"#E5ECF6\",\"width\":0.5},\"pattern\":{\"fillmode\":\"overlay\",\"size\":10,\"solidity\":0.2}},\"type\":\"bar\"}],\"scattergeo\":[{\"type\":\"scattergeo\",\"marker\":{\"colorbar\":{\"outlinewidth\":0,\"ticks\":\"\"}}}],\"scatterpolar\":[{\"type\":\"scatterpolar\",\"marker\":{\"colorbar\":{\"outlinewidth\":0,\"ticks\":\"\"}}}],\"histogram\":[{\"marker\":{\"pattern\":{\"fillmode\":\"overlay\",\"size\":10,\"solidity\":0.2}},\"type\":\"histogram\"}],\"scattergl\":[{\"type\":\"scattergl\",\"marker\":{\"colorbar\":{\"outlinewidth\":0,\"ticks\":\"\"}}}],\"scatter3d\":[{\"type\":\"scatter3d\",\"line\":{\"colorbar\":{\"outlinewidth\":0,\"ticks\":\"\"}},\"marker\":{\"colorbar\":{\"outlinewidth\":0,\"ticks\":\"\"}}}],\"scattermapbox\":[{\"type\":\"scattermapbox\",\"marker\":{\"colorbar\":{\"outlinewidth\":0,\"ticks\":\"\"}}}],\"scatterternary\":[{\"type\":\"scatterternary\",\"marker\":{\"colorbar\":{\"outlinewidth\":0,\"ticks\":\"\"}}}],\"scattercarpet\":[{\"type\":\"scattercarpet\",\"marker\":{\"colorbar\":{\"outlinewidth\":0,\"ticks\":\"\"}}}],\"carpet\":[{\"aaxis\":{\"endlinecolor\":\"#2a3f5f\",\"gridcolor\":\"white\",\"linecolor\":\"white\",\"minorgridcolor\":\"white\",\"startlinecolor\":\"#2a3f5f\"},\"baxis\":{\"endlinecolor\":\"#2a3f5f\",\"gridcolor\":\"white\",\"linecolor\":\"white\",\"minorgridcolor\":\"white\",\"startlinecolor\":\"#2a3f5f\"},\"type\":\"carpet\"}],\"table\":[{\"cells\":{\"fill\":{\"color\":\"#EBF0F8\"},\"line\":{\"color\":\"white\"}},\"header\":{\"fill\":{\"color\":\"#C8D4E3\"},\"line\":{\"color\":\"white\"}},\"type\":\"table\"}],\"barpolar\":[{\"marker\":{\"line\":{\"color\":\"#E5ECF6\",\"width\":0.5},\"pattern\":{\"fillmode\":\"overlay\",\"size\":10,\"solidity\":0.2}},\"type\":\"barpolar\"}],\"pie\":[{\"automargin\":true,\"type\":\"pie\"}]},\"layout\":{\"autotypenumbers\":\"strict\",\"colorway\":[\"#636efa\",\"#EF553B\",\"#00cc96\",\"#ab63fa\",\"#FFA15A\",\"#19d3f3\",\"#FF6692\",\"#B6E880\",\"#FF97FF\",\"#FECB52\"],\"font\":{\"color\":\"#2a3f5f\"},\"hovermode\":\"closest\",\"hoverlabel\":{\"align\":\"left\"},\"paper_bgcolor\":\"white\",\"plot_bgcolor\":\"#E5ECF6\",\"polar\":{\"bgcolor\":\"#E5ECF6\",\"angularaxis\":{\"gridcolor\":\"white\",\"linecolor\":\"white\",\"ticks\":\"\"},\"radialaxis\":{\"gridcolor\":\"white\",\"linecolor\":\"white\",\"ticks\":\"\"}},\"ternary\":{\"bgcolor\":\"#E5ECF6\",\"aaxis\":{\"gridcolor\":\"white\",\"linecolor\":\"white\",\"ticks\":\"\"},\"baxis\":{\"gridcolor\":\"white\",\"linecolor\":\"white\",\"ticks\":\"\"},\"caxis\":{\"gridcolor\":\"white\",\"linecolor\":\"white\",\"ticks\":\"\"}},\"coloraxis\":{\"colorbar\":{\"outlinewidth\":0,\"ticks\":\"\"}},\"colorscale\":{\"sequential\":[[0.0,\"#0d0887\"],[0.1111111111111111,\"#46039f\"],[0.2222222222222222,\"#7201a8\"],[0.3333333333333333,\"#9c179e\"],[0.4444444444444444,\"#bd3786\"],[0.5555555555555556,\"#d8576b\"],[0.6666666666666666,\"#ed7953\"],[0.7777777777777778,\"#fb9f3a\"],[0.8888888888888888,\"#fdca26\"],[1.0,\"#f0f921\"]],\"sequentialminus\":[[0.0,\"#0d0887\"],[0.1111111111111111,\"#46039f\"],[0.2222222222222222,\"#7201a8\"],[0.3333333333333333,\"#9c179e\"],[0.4444444444444444,\"#bd3786\"],[0.5555555555555556,\"#d8576b\"],[0.6666666666666666,\"#ed7953\"],[0.7777777777777778,\"#fb9f3a\"],[0.8888888888888888,\"#fdca26\"],[1.0,\"#f0f921\"]],\"diverging\":[[0,\"#8e0152\"],[0.1,\"#c51b7d\"],[0.2,\"#de77ae\"],[0.3,\"#f1b6da\"],[0.4,\"#fde0ef\"],[0.5,\"#f7f7f7\"],[0.6,\"#e6f5d0\"],[0.7,\"#b8e186\"],[0.8,\"#7fbc41\"],[0.9,\"#4d9221\"],[1,\"#276419\"]]},\"xaxis\":{\"gridcolor\":\"white\",\"linecolor\":\"white\",\"ticks\":\"\",\"title\":{\"standoff\":15},\"zerolinecolor\":\"white\",\"automargin\":true,\"zerolinewidth\":2},\"yaxis\":{\"gridcolor\":\"white\",\"linecolor\":\"white\",\"ticks\":\"\",\"title\":{\"standoff\":15},\"zerolinecolor\":\"white\",\"automargin\":true,\"zerolinewidth\":2},\"scene\":{\"xaxis\":{\"backgroundcolor\":\"#E5ECF6\",\"gridcolor\":\"white\",\"linecolor\":\"white\",\"showbackground\":true,\"ticks\":\"\",\"zerolinecolor\":\"white\",\"gridwidth\":2},\"yaxis\":{\"backgroundcolor\":\"#E5ECF6\",\"gridcolor\":\"white\",\"linecolor\":\"white\",\"showbackground\":true,\"ticks\":\"\",\"zerolinecolor\":\"white\",\"gridwidth\":2},\"zaxis\":{\"backgroundcolor\":\"#E5ECF6\",\"gridcolor\":\"white\",\"linecolor\":\"white\",\"showbackground\":true,\"ticks\":\"\",\"zerolinecolor\":\"white\",\"gridwidth\":2}},\"shapedefaults\":{\"line\":{\"color\":\"#2a3f5f\"}},\"annotationdefaults\":{\"arrowcolor\":\"#2a3f5f\",\"arrowhead\":0,\"arrowwidth\":1},\"geo\":{\"bgcolor\":\"white\",\"landcolor\":\"#E5ECF6\",\"subunitcolor\":\"white\",\"showland\":true,\"showlakes\":true,\"lakecolor\":\"white\"},\"title\":{\"x\":0.05},\"mapbox\":{\"style\":\"light\"}}}},                        {\"responsive\": true}                    )                };                            </script>        </div>"
      ],
      "text/plain": [
       "Figure({\n",
       "    'data': [{'mode': 'markers',\n",
       "              'name': 'Objective Value',\n",
       "              'type': 'scatter',\n",
       "              'x': [0, 1, 2, 3, 4, 5, 6, 7, 8, 9, 10, 11, 12, 13, 14, 15, 16, 17,\n",
       "                    18, 19, 20, 21, 22, 23, 24, 25, 26, 27, 28, 29, 30, 31, 32, 33,\n",
       "                    34, 35, 36, 37, 38, 39, 40, 41, 42, 43, 44, 45, 46, 47, 48, 49,\n",
       "                    50, 51, 52, 53, 54, 55, 56, 57, 58, 59, 60, 61, 62, 63, 64, 65,\n",
       "                    66, 67, 68, 69, 70, 71, 72, 73, 74, 75, 76, 77, 78, 79, 80, 81,\n",
       "                    82, 83, 84, 85, 86, 87, 88, 89, 90, 91, 92, 93, 94, 95, 96, 97,\n",
       "                    98, 99],\n",
       "              'y': [0.12850265399333416, 0.0, 0.030605499735589636, 0.0,\n",
       "                    0.017504376094023506, 0.0, 0.023342903507676944,\n",
       "                    0.012149298597194389, 0.0, 0.02829862312322701,\n",
       "                    0.07002974714923153, 0.06046684877079712, 0.02541739347121854,\n",
       "                    0.15022724481021987, 0.06106491249844855, 0.13398249722667324,\n",
       "                    0.04905989291495455, 0.06731246895181321, 0.0,\n",
       "                    0.11493257453915626, 0.019, 0.0810575968222443,\n",
       "                    0.07649530400395452, 0.10442959663449641, 0.04477611940298507,\n",
       "                    0.04234446790016143, 0.0, 0.15621927236971483,\n",
       "                    0.08052527254707631, 0.1495763232223996, 0.049396540997884784,\n",
       "                    0.17262925753491792, 0.17063005638636922, 0.14970501474926254,\n",
       "                    0.0, 0.021242034237161065, 0.0741246585547554, 0.0,\n",
       "                    0.1728834355828221, 0.0706832298136646, 0.0,\n",
       "                    0.18075980392156862, 0.12074494326591022, 0.15356220007382798,\n",
       "                    0.22924231420963448, 0.20031699585466958, 0.03624813153961136,\n",
       "                    0.21163186012627488, 0.005256241787122208, 0.1409371146732429,\n",
       "                    0.09994125422235277, 0.017776664997496243, 0.21439844603617822,\n",
       "                    0.1760520181572813, 0.2073704694721479, 0.18372575332438698,\n",
       "                    0.08586592991129853, 0.0, 0.16304481276856966,\n",
       "                    0.0988970132606271, 0.24036144578313254, 0.23447860156720915,\n",
       "                    0.23626705300012074, 0.2298961603477421, 0.232317146644174,\n",
       "                    0.23093629343629343, 0.23418102928769435, 0.2040247302703358,\n",
       "                    0.2243613028211648, 0.0, 0.10841225626740947,\n",
       "                    0.23595370147094286, 0.20416615909367766, 0.23075993717530507,\n",
       "                    0.20089936801166747, 0.18595546855884512, 0.08314370733415018,\n",
       "                    0.01837270341207349, 0.1112618724559023, 0.21423384168482207,\n",
       "                    0.07370246500681284, 0.2216963960684383, 0.23299915448725692,\n",
       "                    0.2168044747081712, 0.20311549227211878, 0.22578304510823557,\n",
       "                    0.0, 0.25162142685563293, 0.22241127856101117,\n",
       "                    0.2385486981677917, 0.10125306063661242, 0.24273833915873208,\n",
       "                    0.23753771876885937, 0.23757106568283537, 0.24122542515981185,\n",
       "                    0.19733789229454146, 0.21665702718334298, 0.09827049714161662,\n",
       "                    0.20619059224957348, 0.0]},\n",
       "             {'mode': 'lines',\n",
       "              'name': 'Best Value',\n",
       "              'type': 'scatter',\n",
       "              'x': [0, 1, 2, 3, 4, 5, 6, 7, 8, 9, 10, 11, 12, 13, 14, 15, 16, 17,\n",
       "                    18, 19, 20, 21, 22, 23, 24, 25, 26, 27, 28, 29, 30, 31, 32, 33,\n",
       "                    34, 35, 36, 37, 38, 39, 40, 41, 42, 43, 44, 45, 46, 47, 48, 49,\n",
       "                    50, 51, 52, 53, 54, 55, 56, 57, 58, 59, 60, 61, 62, 63, 64, 65,\n",
       "                    66, 67, 68, 69, 70, 71, 72, 73, 74, 75, 76, 77, 78, 79, 80, 81,\n",
       "                    82, 83, 84, 85, 86, 87, 88, 89, 90, 91, 92, 93, 94, 95, 96, 97,\n",
       "                    98, 99],\n",
       "              'y': [0.12850265399333416, 0.12850265399333416, 0.12850265399333416,\n",
       "                    0.12850265399333416, 0.12850265399333416, 0.12850265399333416,\n",
       "                    0.12850265399333416, 0.12850265399333416, 0.12850265399333416,\n",
       "                    0.12850265399333416, 0.12850265399333416, 0.12850265399333416,\n",
       "                    0.12850265399333416, 0.15022724481021987, 0.15022724481021987,\n",
       "                    0.15022724481021987, 0.15022724481021987, 0.15022724481021987,\n",
       "                    0.15022724481021987, 0.15022724481021987, 0.15022724481021987,\n",
       "                    0.15022724481021987, 0.15022724481021987, 0.15022724481021987,\n",
       "                    0.15022724481021987, 0.15022724481021987, 0.15022724481021987,\n",
       "                    0.15621927236971483, 0.15621927236971483, 0.15621927236971483,\n",
       "                    0.15621927236971483, 0.17262925753491792, 0.17262925753491792,\n",
       "                    0.17262925753491792, 0.17262925753491792, 0.17262925753491792,\n",
       "                    0.17262925753491792, 0.17262925753491792, 0.1728834355828221,\n",
       "                    0.1728834355828221, 0.1728834355828221, 0.18075980392156862,\n",
       "                    0.18075980392156862, 0.18075980392156862, 0.22924231420963448,\n",
       "                    0.22924231420963448, 0.22924231420963448, 0.22924231420963448,\n",
       "                    0.22924231420963448, 0.22924231420963448, 0.22924231420963448,\n",
       "                    0.22924231420963448, 0.22924231420963448, 0.22924231420963448,\n",
       "                    0.22924231420963448, 0.22924231420963448, 0.22924231420963448,\n",
       "                    0.22924231420963448, 0.22924231420963448, 0.22924231420963448,\n",
       "                    0.24036144578313254, 0.24036144578313254, 0.24036144578313254,\n",
       "                    0.24036144578313254, 0.24036144578313254, 0.24036144578313254,\n",
       "                    0.24036144578313254, 0.24036144578313254, 0.24036144578313254,\n",
       "                    0.24036144578313254, 0.24036144578313254, 0.24036144578313254,\n",
       "                    0.24036144578313254, 0.24036144578313254, 0.24036144578313254,\n",
       "                    0.24036144578313254, 0.24036144578313254, 0.24036144578313254,\n",
       "                    0.24036144578313254, 0.24036144578313254, 0.24036144578313254,\n",
       "                    0.24036144578313254, 0.24036144578313254, 0.24036144578313254,\n",
       "                    0.24036144578313254, 0.24036144578313254, 0.24036144578313254,\n",
       "                    0.25162142685563293, 0.25162142685563293, 0.25162142685563293,\n",
       "                    0.25162142685563293, 0.25162142685563293, 0.25162142685563293,\n",
       "                    0.25162142685563293, 0.25162142685563293, 0.25162142685563293,\n",
       "                    0.25162142685563293, 0.25162142685563293, 0.25162142685563293,\n",
       "                    0.25162142685563293]},\n",
       "             {'marker': {'color': '#cccccc'},\n",
       "              'mode': 'markers',\n",
       "              'name': 'Infeasible Trial',\n",
       "              'showlegend': False,\n",
       "              'type': 'scatter',\n",
       "              'x': [],\n",
       "              'y': []}],\n",
       "    'layout': {'template': '...',\n",
       "               'title': {'text': 'Optimization History Plot'},\n",
       "               'xaxis': {'title': {'text': 'Trial'}},\n",
       "               'yaxis': {'title': {'text': 'Objective Value'}}}\n",
       "})"
      ]
     },
     "execution_count": 49,
     "metadata": {},
     "output_type": "execute_result"
    }
   ],
   "source": [
    "# 하이퍼파라미터 최적화 과정을 확인\n",
    "optuna.visualization.plot_optimization_history(study_cat)"
   ]
  },
  {
   "cell_type": "code",
   "execution_count": 77,
   "metadata": {},
   "outputs": [
    {
     "data": {
      "text/plain": [
       "{'iterations': 969,\n",
       " 'learning_rate': 0.0878195653278425,\n",
       " 'depth': 10,\n",
       " 'l2_leaf_reg': 0.11654433378634937,\n",
       " 'bootstrap_type': 'Bayesian',\n",
       " 'random_strength': 1.3986307347140839e-06,\n",
       " 'bagging_temperature': 0.5870994114781527,\n",
       " 'od_type': 'IncToDec',\n",
       " 'od_wait': 23,\n",
       " 'min_data_in_leaf': 9}"
      ]
     },
     "execution_count": 77,
     "metadata": {},
     "output_type": "execute_result"
    }
   ],
   "source": [
    "# 하이퍼파라미터 튜닝을 통해 나온 최적의 하이퍼 파라미터 best_params에 선언\n",
    "best_params = study_cat.best_params"
   ]
  },
  {
   "cell_type": "code",
   "execution_count": 78,
   "metadata": {},
   "outputs": [],
   "source": [
    "# CatBoost 모델을 돌릴 때 추가로 설정해주는 하이퍼파라미터\n",
    "params_dict = {\"loss_function\" : \"MultiClass\",\n",
    "               \"verbose\" : 0,\n",
    "               \"task_type\" : \"GPU\",\n",
    "               \"devices\" : \"0\",\n",
    "               \"random_state\" : 42}"
   ]
  },
  {
   "cell_type": "code",
   "execution_count": 80,
   "metadata": {},
   "outputs": [],
   "source": [
    "# best_params에 params_dict을 합쳐준다\n",
    "def params(params):\n",
    "\n",
    "    params_dict = {\"loss_function\" : \"MultiClass\",\n",
    "                   \"verbose\" : 0,\n",
    "                   \"task_type\" : \"GPU\",\n",
    "                   \"devices\" : \"0\",\n",
    "                   \"random_state\" : 42}\n",
    "    \n",
    "    for key, value in params_dict.items():\n",
    "        params[key] = value\n",
    "    \n",
    "    return params"
   ]
  },
  {
   "cell_type": "code",
   "execution_count": 81,
   "metadata": {},
   "outputs": [
    {
     "data": {
      "text/plain": [
       "{'iterations': 969,\n",
       " 'learning_rate': 0.0878195653278425,\n",
       " 'depth': 10,\n",
       " 'l2_leaf_reg': 0.11654433378634937,\n",
       " 'bootstrap_type': 'Bayesian',\n",
       " 'random_strength': 1.3986307347140839e-06,\n",
       " 'bagging_temperature': 0.5870994114781527,\n",
       " 'od_type': 'IncToDec',\n",
       " 'od_wait': 23,\n",
       " 'min_data_in_leaf': 9,\n",
       " 'loss_function': 'MultiClass',\n",
       " 'verbose': 0,\n",
       " 'task_type': 'GPU',\n",
       " 'devices': '0',\n",
       " 'random_state': 42}"
      ]
     },
     "execution_count": 81,
     "metadata": {},
     "output_type": "execute_result"
    }
   ],
   "source": [
    "params(best_params)"
   ]
  },
  {
   "cell_type": "code",
   "execution_count": 83,
   "metadata": {},
   "outputs": [],
   "source": [
    "# 튜닝한 하이퍼 파라미터를 바탕으로, CatBoostClassifier 선언\n",
    "cat_optuna = CatBoostClassifier(**params(best_params))"
   ]
  },
  {
   "cell_type": "code",
   "execution_count": 85,
   "metadata": {},
   "outputs": [
    {
     "data": {
      "text/plain": [
       "{'iterations': 969,\n",
       " 'learning_rate': 0.0878195653278425,\n",
       " 'depth': 10,\n",
       " 'l2_leaf_reg': 0.11654433378634937,\n",
       " 'loss_function': 'MultiClass',\n",
       " 'od_wait': 23,\n",
       " 'od_type': 'IncToDec',\n",
       " 'verbose': 0,\n",
       " 'random_strength': 1.3986307347140839e-06,\n",
       " 'bagging_temperature': 0.5870994114781527,\n",
       " 'task_type': 'GPU',\n",
       " 'devices': '0',\n",
       " 'bootstrap_type': 'Bayesian',\n",
       " 'random_state': 42,\n",
       " 'min_data_in_leaf': 9}"
      ]
     },
     "execution_count": 85,
     "metadata": {},
     "output_type": "execute_result"
    }
   ],
   "source": [
    "cat_optuna.get_params()"
   ]
  },
  {
   "cell_type": "markdown",
   "metadata": {},
   "source": [
    "#### 3-4-2. 모델 비교"
   ]
  },
  {
   "cell_type": "code",
   "execution_count": 87,
   "metadata": {},
   "outputs": [],
   "source": [
    "params_dict = {\"loss_function\" : \"MultiClass\",\n",
    "                \"verbose\" : 0,\n",
    "                \"task_type\" : \"GPU\",\n",
    "                \"devices\" : \"0\",\n",
    "                \"random_state\" : 42}\n",
    "\n",
    "models_tuned = [\n",
    "    (\"Decision Tree\", DecisionTreeClassifier(random_state=42)),\n",
    "    (\"CatBoost\", CatBoostClassifier(**params_dict)),\n",
    "    (\"CatBoost_tuned\", cat_optuna)\n",
    "]"
   ]
  },
  {
   "cell_type": "code",
   "execution_count": 89,
   "metadata": {},
   "outputs": [
    {
     "name": "stdout",
     "output_type": "stream",
     "text": [
      "\n",
      "======== Models After Hyper Parameter Tuning ========\n",
      "\n"
     ]
    },
    {
     "data": {
      "text/html": [
       "<div>\n",
       "<style scoped>\n",
       "    .dataframe tbody tr th:only-of-type {\n",
       "        vertical-align: middle;\n",
       "    }\n",
       "\n",
       "    .dataframe tbody tr th {\n",
       "        vertical-align: top;\n",
       "    }\n",
       "\n",
       "    .dataframe thead th {\n",
       "        text-align: right;\n",
       "    }\n",
       "</style>\n",
       "<table border=\"1\" class=\"dataframe\">\n",
       "  <thead>\n",
       "    <tr style=\"text-align: right;\">\n",
       "      <th></th>\n",
       "      <th>Model</th>\n",
       "      <th>Accuracy</th>\n",
       "      <th>Precision</th>\n",
       "      <th>Recall</th>\n",
       "      <th>F1 Score</th>\n",
       "      <th>CSI Index</th>\n",
       "    </tr>\n",
       "  </thead>\n",
       "  <tbody>\n",
       "    <tr>\n",
       "      <th>0</th>\n",
       "      <td>CatBoost_tuned</td>\n",
       "      <td>0.9917</td>\n",
       "      <td>0.9892</td>\n",
       "      <td>0.9917</td>\n",
       "      <td>0.9896</td>\n",
       "      <td>0.2516</td>\n",
       "    </tr>\n",
       "    <tr>\n",
       "      <th>1</th>\n",
       "      <td>Decision Tree</td>\n",
       "      <td>0.9875</td>\n",
       "      <td>0.9884</td>\n",
       "      <td>0.9875</td>\n",
       "      <td>0.9879</td>\n",
       "      <td>0.2378</td>\n",
       "    </tr>\n",
       "    <tr>\n",
       "      <th>2</th>\n",
       "      <td>CatBoost</td>\n",
       "      <td>0.9911</td>\n",
       "      <td>0.9881</td>\n",
       "      <td>0.9911</td>\n",
       "      <td>0.9885</td>\n",
       "      <td>0.1947</td>\n",
       "    </tr>\n",
       "  </tbody>\n",
       "</table>\n",
       "</div>"
      ],
      "text/plain": [
       "            Model  Accuracy  Precision  Recall  F1 Score  CSI Index\n",
       "0  CatBoost_tuned    0.9917     0.9892  0.9917    0.9896     0.2516\n",
       "1   Decision Tree    0.9875     0.9884  0.9875    0.9879     0.2378\n",
       "2        CatBoost    0.9911     0.9881  0.9911    0.9885     0.1947"
      ]
     },
     "execution_count": 89,
     "metadata": {},
     "output_type": "execute_result"
    }
   ],
   "source": [
    "model_comparison(models_tuned, X_train_labeled, y_train, X_val_labeled, y_val, when=\"After\")"
   ]
  },
  {
   "cell_type": "markdown",
   "metadata": {},
   "source": [
    "#### 3-4-3. 모델 학습 (튜닝한 CatBoost)"
   ]
  },
  {
   "cell_type": "code",
   "execution_count": 90,
   "metadata": {},
   "outputs": [
    {
     "data": {
      "text/plain": [
       "<catboost.core.CatBoostClassifier at 0x1fff01a76b0>"
      ]
     },
     "execution_count": 90,
     "metadata": {},
     "output_type": "execute_result"
    }
   ],
   "source": [
    "cat_optuna.fit(X_train_labeled, y_train)"
   ]
  },
  {
   "cell_type": "code",
   "execution_count": 91,
   "metadata": {},
   "outputs": [],
   "source": [
    "y_val_pred = cat_optuna.predict(X_val_labeled)"
   ]
  },
  {
   "cell_type": "code",
   "execution_count": 98,
   "metadata": {},
   "outputs": [
    {
     "name": "stdout",
     "output_type": "stream",
     "text": [
      "[[   809    229      8    905]\n",
      " [   191    929    119   1755]\n",
      " [    21    208    367   2389]\n",
      " [    55    166    167 740395]]\n"
     ]
    },
    {
     "data": {
      "text/plain": [
       "0.25306564077903343"
      ]
     },
     "execution_count": 98,
     "metadata": {},
     "output_type": "execute_result"
    }
   ],
   "source": [
    "cat_cm = confusion_matrix(y_val, y_val_pred)\n",
    "print(cat_cm)\n",
    "\n",
    "csi_cat = csi_index(y_val, y_val_pred)\n",
    "csi_cat"
   ]
  },
  {
   "cell_type": "code",
   "execution_count": 100,
   "metadata": {},
   "outputs": [
    {
     "data": {
      "image/png": "[encoded data removed]",
      "text/plain": [
       "<Figure size 1000x500 with 2 Axes>"
      ]
     },
     "metadata": {
      "image/png": {
       "height": 469,
       "width": 803
      }
     },
     "output_type": "display_data"
    }
   ],
   "source": [
    "# Confusion Matrix 시각화\n",
    "\n",
    "plt.figure(figsize=(10,5))\n",
    "\n",
    "# target 컬럼 값들 unique_value에 선언\n",
    "unique_value = np.unique(y_val_pred, return_counts = False)\n",
    "\n",
    "# Confusion Matrix에 label 표시하기 위해 \"class\" + value 합쳐준다\n",
    "unique_value_list = []\n",
    "for i, value in enumerate(unique_value):\n",
    "    unique_value_list.append(\"class \" + str(int(value)))\n",
    "\n",
    "\n",
    "pred_labels = unique_value_list\n",
    "sns.heatmap(cat_cm, \n",
    "            annot=True, \n",
    "            fmt=\"d\", \n",
    "            cmap=\"Blues\", \n",
    "            xticklabels = pred_labels, \n",
    "            yticklabels = pred_labels)\n",
    "\n",
    "plt.title(f'Confusion Matrix with CatBoost (CSI Index : {np.round(csi_cat, 4)})')\n",
    "plt.xlabel('Predicted Label')\n",
    "plt.ylabel('True Label')\n",
    "plt.show()"
   ]
  },
  {
   "cell_type": "markdown",
   "metadata": {},
   "source": [
    "#### 3-4-4. 모델 저장 (pickle)"
   ]
  },
  {
   "cell_type": "code",
   "execution_count": 103,
   "metadata": {},
   "outputs": [],
   "source": [
    "# 전처리 마친 데이터셋 저장할 경로 설정하는 함수\n",
    "\n",
    "def save_pickle_path(model_name):\n",
    "        \n",
    "    # 작업 디렉토리 origin_dir에 선언\n",
    "    origin_dir = os.getcwd()\n",
    "\n",
    "    # \"..\" : 상위 디렉토리로 이동\n",
    "    os.chdir(\"..\")\n",
    "\n",
    "    # pickle 저장 이름 설정\n",
    "    save_pickle = model_name + \".pkl\"\n",
    "    # 전처리 거친 데이터셋 저장 경로 설정\n",
    "    pickle_save_path = os.path.join(os.getcwd(), \"fog_data\", save_pickle)\n",
    "    \n",
    "    \n",
    "    # 운영체제가 윈도우일 경우, \"\\\\\"를 \"/\"로 바꿔줘야 한다\n",
    "    if os.name == \"nt\":\n",
    "        pickle_save_path = pickle_save_path.replace(\"\\\\\", \"/\")\n",
    "\n",
    "    # # origin_dir로 경로 다시 변경 (초기화)\n",
    "    os.chdir(origin_dir)\n",
    "\n",
    "    return pickle_save_path"
   ]
  },
  {
   "cell_type": "code",
   "execution_count": 104,
   "metadata": {},
   "outputs": [
    {
     "data": {
      "text/plain": [
       "'c:/Users/aryij/Documents/DataStudy/fog_data/cat_optuna.pkl'"
      ]
     },
     "execution_count": 104,
     "metadata": {},
     "output_type": "execute_result"
    }
   ],
   "source": [
    "save_pickle_path(\"cat_optuna\")"
   ]
  },
  {
   "cell_type": "code",
   "execution_count": 105,
   "metadata": {},
   "outputs": [],
   "source": [
    "# 하이퍼파라미터 튜닝 거친 모델 pickle 저장\n",
    "with open(file=save_pickle_path(\"cat_optuna\"), mode='wb') as f:\n",
    "    pickle.dump(cat_optuna, f)"
   ]
  },
  {
   "cell_type": "code",
   "execution_count": 107,
   "metadata": {},
   "outputs": [],
   "source": [
    "# pickle로 저장한 모델 불러오기\n",
    "with open(file=save_pickle_path(\"cat_optuna\"), mode=\"rb\") as f:\n",
    "    # loaded_model 이라는 이름에 모델 불러온다\n",
    "    loaded_model = pickle.load(f)"
   ]
  },
  {
   "cell_type": "code",
   "execution_count": null,
   "metadata": {},
   "outputs": [],
   "source": []
  }
 ],
 "metadata": {
  "kernelspec": {
   "display_name": "weather2",
   "language": "python",
   "name": "python3"
  },
  "language_info": {
   "codemirror_mode": {
    "name": "ipython",
    "version": 3
   },
   "file_extension": ".py",
   "mimetype": "text/x-python",
   "name": "python",
   "nbconvert_exporter": "python",
   "pygments_lexer": "ipython3",
   "version": "3.12.3"
  }
 },
 "nbformat": 4,
 "nbformat_minor": 2
}
