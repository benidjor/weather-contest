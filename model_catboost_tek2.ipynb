{
 "cells": [
  {
   "cell_type": "markdown",
   "metadata": {},
   "source": [
    "# 안개 발생 진단 분류 모델 생성"
   ]
  },
  {
   "cell_type": "markdown",
   "metadata": {},
   "source": [
    "## 1. 데이터 설명"
   ]
  },
  {
   "cell_type": "markdown",
   "metadata": {},
   "source": [
    "## 2. 데이터 불러오기"
   ]
  },
  {
   "cell_type": "code",
   "execution_count": 1,
   "metadata": {},
   "outputs": [
    {
     "name": "stderr",
     "output_type": "stream",
     "text": [
      "c:\\Users\\aryij\\anaconda3\\envs\\weather2\\Lib\\site-packages\\tqdm\\auto.py:21: TqdmWarning: IProgress not found. Please update jupyter and ipywidgets. See https://ipywidgets.readthedocs.io/en/stable/user_install.html\n",
      "  from .autonotebook import tqdm as notebook_tqdm\n"
     ]
    }
   ],
   "source": [
    "import os\n",
    "\n",
    "import numpy as np\n",
    "import pandas as pd\n",
    "import matplotlib.pyplot as plt\n",
    "import seaborn as sns\n",
    "%matplotlib inline\n",
    "\n",
    "import pickle\n",
    "import optuna\n",
    "from optuna.samplers import TPESampler\n",
    "\n",
    "from sklearn import metrics\n",
    "from sklearn.tree import DecisionTreeClassifier\n",
    "from sklearn.ensemble import RandomForestClassifier\n",
    "# from xgboost import XGBClassifier\n",
    "# from lightgbm import LGBMClassifier\n",
    "from catboost import Pool, CatBoostClassifier\n",
    "from sklearn.naive_bayes import GaussianNB\n",
    "from sklearn.naive_bayes import MultinomialNB\n",
    "from sklearn.naive_bayes import CategoricalNB\n",
    "\n",
    "from sklearn.model_selection import train_test_split\n",
    "\n",
    "# from sklearn.preprocessing import TargetEncoder\n",
    "from sklearn.preprocessing import LabelEncoder\n",
    "\n",
    "from sklearn.metrics import accuracy_score\n",
    "from sklearn.metrics import precision_score\n",
    "from sklearn.metrics import recall_score\n",
    "from sklearn.metrics import f1_score\n",
    "from sklearn.metrics import confusion_matrix\n",
    "from sklearn.metrics import classification_report\n",
    "from sklearn.metrics import make_scorer\n",
    "\n",
    "\n",
    "import warnings\n",
    "warnings.filterwarnings(action='ignore')"
   ]
  },
  {
   "cell_type": "code",
   "execution_count": 2,
   "metadata": {},
   "outputs": [],
   "source": [
    "# def get_colab_path(train_dataset_name, test_dataset_name):\n",
    "\n",
    "#     fog_folder = \"drive/MyDrive/weather_bigdata/fog_data\"\n",
    "#     os.makedirs(fog_folder, exist_ok=True)\n",
    "\n",
    "#     # train/test 데이터셋 경로 잡아준다\n",
    "#     train_path = os.path.join(os.getcwd(), fog_folder, train_dataset_name)\n",
    "#     test_path = os.path.join(os.getcwd(), fog_folder, test_dataset_name)\n",
    "\n",
    "#     return train_path, test_path"
   ]
  },
  {
   "cell_type": "code",
   "execution_count": 3,
   "metadata": {},
   "outputs": [],
   "source": [
    "def get_local_path(train_dataset_name, val_dataset_name, test_dataset_name):\n",
    "\n",
    "    # 작업 디렉토리 origin_dir에 선언\n",
    "    origin_dir = os.getcwd()\n",
    "\n",
    "    # \"..\" : 상위 디렉토리로 이동\n",
    "    os.chdir(\"..\")\n",
    "\n",
    "    # 상위 디렉토리에 fog_data가 없다면 fog_data 폴더 생성\n",
    "    # (이미 폴더 있어도 exist_ok=True면 넘어감)\n",
    "    os.makedirs(\"fog_data\", exist_ok=True)\n",
    "\n",
    "    # train/test 데이터셋 경로 잡아준다\n",
    "    train_path = os.path.join(os.getcwd(), \"fog_data\", train_dataset_name)\n",
    "    val_path = os.path.join(os.getcwd(), \"fog_data\", val_dataset_name)\n",
    "    test_path = os.path.join(os.getcwd(), \"fog_data\", test_dataset_name)\n",
    "\n",
    "    # 운영체제가 윈도우일 경우, \"\\\\\"를 \"/\"로 바꿔줘야 한다\n",
    "    if os.name == \"nt\":\n",
    "        train_path = train_path.replace(\"\\\\\", \"/\")\n",
    "        val_path = val_path.replace(\"\\\\\", \"/\")\n",
    "        test_path = test_path.replace(\"\\\\\", \"/\")\n",
    "\n",
    "    # origin_dir로 경로 다시 변경 (초기화)\n",
    "    os.chdir(origin_dir)\n",
    "\n",
    "    return train_path, val_path, test_path"
   ]
  },
  {
   "cell_type": "code",
   "execution_count": 4,
   "metadata": {},
   "outputs": [],
   "source": [
    "# train_path, test_path = get_colab_path(\"fog_train_mod.csv\", \"fog_test_mod.csv\")\n",
    "# train_path, val_path, test_path = get_local_path(\"fog_train_mod.csv\", \"fog_val_mod.csv\", \"fog_test_mod.csv\")\n",
    "\n",
    "# 전처리 중간에 nan 제거해주고 이상치 제거한 train_df\n",
    "train_path, val_path, test_path = get_local_path(\"fog_train_no_nan.csv\", \"fog_val_mod.csv\", \"fog_test_mod.csv\")\n"
   ]
  },
  {
   "cell_type": "code",
   "execution_count": 5,
   "metadata": {},
   "outputs": [],
   "source": [
    "train_df = pd.read_csv(train_path)\n",
    "val_df = pd.read_csv(val_path)\n",
    "test_df = pd.read_csv(test_path)"
   ]
  },
  {
   "cell_type": "code",
   "execution_count": 6,
   "metadata": {},
   "outputs": [
    {
     "data": {
      "text/plain": [
       "class\n",
       "4.0    2187331\n",
       "2.0       8928\n",
       "3.0       8861\n",
       "1.0       5836\n",
       "Name: count, dtype: int64"
      ]
     },
     "execution_count": 6,
     "metadata": {},
     "output_type": "execute_result"
    }
   ],
   "source": [
    "train_df[\"class\"].value_counts()"
   ]
  },
  {
   "cell_type": "code",
   "execution_count": 7,
   "metadata": {},
   "outputs": [
    {
     "name": "stdout",
     "output_type": "stream",
     "text": [
      "<class 'pandas.core.frame.DataFrame'>\n",
      "RangeIndex: 2210956 entries, 0 to 2210955\n",
      "Data columns (total 18 columns):\n",
      " #   Column       Dtype  \n",
      "---  ------       -----  \n",
      " 0   year         object \n",
      " 1   month        int64  \n",
      " 2   time         int64  \n",
      " 3   stn_id       object \n",
      " 4   ws10_deg     float64\n",
      " 5   ws10_ms      float64\n",
      " 6   ta           float64\n",
      " 7   re           float64\n",
      " 8   hm           float64\n",
      " 9   sun10        float64\n",
      " 10  ts           float64\n",
      " 11  vis1         int64  \n",
      " 12  class        float64\n",
      " 13  is_fog       int64  \n",
      " 14  dew_point    float64\n",
      " 15  dew_reached  int64  \n",
      " 16  temp_diff    float64\n",
      " 17  ws10_dir     object \n",
      "dtypes: float64(10), int64(5), object(3)\n",
      "memory usage: 303.6+ MB\n"
     ]
    }
   ],
   "source": [
    "train_df.info()"
   ]
  },
  {
   "cell_type": "code",
   "execution_count": 8,
   "metadata": {},
   "outputs": [],
   "source": [
    "# 강수량 (re) 컬럼이 float라 integer로 변환\n",
    "train_df[\"re\"] = train_df[\"re\"].astype(\"int\")\n",
    "val_df[\"re\"] = val_df[\"re\"].astype(\"int\")\n",
    "test_df[\"re\"] = test_df[\"re\"].astype(\"int\")"
   ]
  },
  {
   "cell_type": "code",
   "execution_count": 9,
   "metadata": {},
   "outputs": [
    {
     "data": {
      "text/html": [
       "<div>\n",
       "<style scoped>\n",
       "    .dataframe tbody tr th:only-of-type {\n",
       "        vertical-align: middle;\n",
       "    }\n",
       "\n",
       "    .dataframe tbody tr th {\n",
       "        vertical-align: top;\n",
       "    }\n",
       "\n",
       "    .dataframe thead th {\n",
       "        text-align: right;\n",
       "    }\n",
       "</style>\n",
       "<table border=\"1\" class=\"dataframe\">\n",
       "  <thead>\n",
       "    <tr style=\"text-align: right;\">\n",
       "      <th></th>\n",
       "      <th>year</th>\n",
       "      <th>month</th>\n",
       "      <th>time</th>\n",
       "      <th>stn_id</th>\n",
       "      <th>ws10_deg</th>\n",
       "      <th>ws10_ms</th>\n",
       "      <th>ta</th>\n",
       "      <th>re</th>\n",
       "      <th>hm</th>\n",
       "      <th>sun10</th>\n",
       "      <th>ts</th>\n",
       "      <th>vis1</th>\n",
       "      <th>class</th>\n",
       "      <th>is_fog</th>\n",
       "      <th>dew_point</th>\n",
       "      <th>dew_reached</th>\n",
       "      <th>temp_diff</th>\n",
       "      <th>ws10_dir</th>\n",
       "    </tr>\n",
       "  </thead>\n",
       "  <tbody>\n",
       "    <tr>\n",
       "      <th>0</th>\n",
       "      <td>J</td>\n",
       "      <td>4</td>\n",
       "      <td>15</td>\n",
       "      <td>B</td>\n",
       "      <td>112.4</td>\n",
       "      <td>2.2</td>\n",
       "      <td>10.3</td>\n",
       "      <td>0</td>\n",
       "      <td>59.3</td>\n",
       "      <td>0.14</td>\n",
       "      <td>13.8</td>\n",
       "      <td>20000</td>\n",
       "      <td>4.0</td>\n",
       "      <td>0</td>\n",
       "      <td>2.959540</td>\n",
       "      <td>0</td>\n",
       "      <td>-3.5</td>\n",
       "      <td>E</td>\n",
       "    </tr>\n",
       "    <tr>\n",
       "      <th>1</th>\n",
       "      <td>I</td>\n",
       "      <td>4</td>\n",
       "      <td>9</td>\n",
       "      <td>B</td>\n",
       "      <td>273.6</td>\n",
       "      <td>4.8</td>\n",
       "      <td>10.1</td>\n",
       "      <td>0</td>\n",
       "      <td>54.4</td>\n",
       "      <td>0.31</td>\n",
       "      <td>18.3</td>\n",
       "      <td>20000</td>\n",
       "      <td>4.0</td>\n",
       "      <td>0</td>\n",
       "      <td>1.603905</td>\n",
       "      <td>0</td>\n",
       "      <td>-8.2</td>\n",
       "      <td>W</td>\n",
       "    </tr>\n",
       "    <tr>\n",
       "      <th>2</th>\n",
       "      <td>I</td>\n",
       "      <td>3</td>\n",
       "      <td>10</td>\n",
       "      <td>D</td>\n",
       "      <td>158.2</td>\n",
       "      <td>3.1</td>\n",
       "      <td>18.1</td>\n",
       "      <td>0</td>\n",
       "      <td>47.0</td>\n",
       "      <td>0.22</td>\n",
       "      <td>20.1</td>\n",
       "      <td>50100</td>\n",
       "      <td>4.0</td>\n",
       "      <td>0</td>\n",
       "      <td>6.970513</td>\n",
       "      <td>0</td>\n",
       "      <td>-2.0</td>\n",
       "      <td>S</td>\n",
       "    </tr>\n",
       "  </tbody>\n",
       "</table>\n",
       "</div>"
      ],
      "text/plain": [
       "  year  month  time stn_id  ws10_deg  ws10_ms    ta  re    hm  sun10    ts  \\\n",
       "0    J      4    15      B     112.4      2.2  10.3   0  59.3   0.14  13.8   \n",
       "1    I      4     9      B     273.6      4.8  10.1   0  54.4   0.31  18.3   \n",
       "2    I      3    10      D     158.2      3.1  18.1   0  47.0   0.22  20.1   \n",
       "\n",
       "    vis1  class  is_fog  dew_point  dew_reached  temp_diff ws10_dir  \n",
       "0  20000    4.0       0   2.959540            0       -3.5        E  \n",
       "1  20000    4.0       0   1.603905            0       -8.2        W  \n",
       "2  50100    4.0       0   6.970513            0       -2.0        S  "
      ]
     },
     "execution_count": 9,
     "metadata": {},
     "output_type": "execute_result"
    }
   ],
   "source": [
    "train_df.head(3)"
   ]
  },
  {
   "cell_type": "code",
   "execution_count": 10,
   "metadata": {},
   "outputs": [
    {
     "data": {
      "text/html": [
       "<div>\n",
       "<style scoped>\n",
       "    .dataframe tbody tr th:only-of-type {\n",
       "        vertical-align: middle;\n",
       "    }\n",
       "\n",
       "    .dataframe tbody tr th {\n",
       "        vertical-align: top;\n",
       "    }\n",
       "\n",
       "    .dataframe thead th {\n",
       "        text-align: right;\n",
       "    }\n",
       "</style>\n",
       "<table border=\"1\" class=\"dataframe\">\n",
       "  <thead>\n",
       "    <tr style=\"text-align: right;\">\n",
       "      <th></th>\n",
       "      <th>year</th>\n",
       "      <th>month</th>\n",
       "      <th>time</th>\n",
       "      <th>stn_id</th>\n",
       "      <th>ws10_deg</th>\n",
       "      <th>ws10_ms</th>\n",
       "      <th>ta</th>\n",
       "      <th>re</th>\n",
       "      <th>hm</th>\n",
       "      <th>sun10</th>\n",
       "      <th>ts</th>\n",
       "      <th>vis1</th>\n",
       "      <th>class</th>\n",
       "      <th>is_fog</th>\n",
       "      <th>dew_point</th>\n",
       "      <th>dew_reached</th>\n",
       "      <th>temp_diff</th>\n",
       "      <th>ws10_dir</th>\n",
       "    </tr>\n",
       "  </thead>\n",
       "  <tbody>\n",
       "    <tr>\n",
       "      <th>0</th>\n",
       "      <td>I</td>\n",
       "      <td>3</td>\n",
       "      <td>8</td>\n",
       "      <td>B</td>\n",
       "      <td>283.0</td>\n",
       "      <td>3.1</td>\n",
       "      <td>4.2</td>\n",
       "      <td>0</td>\n",
       "      <td>63.9</td>\n",
       "      <td>0.08</td>\n",
       "      <td>5.7</td>\n",
       "      <td>8888</td>\n",
       "      <td>4.0</td>\n",
       "      <td>0</td>\n",
       "      <td>-1.810578</td>\n",
       "      <td>0</td>\n",
       "      <td>-1.5</td>\n",
       "      <td>W</td>\n",
       "    </tr>\n",
       "    <tr>\n",
       "      <th>1</th>\n",
       "      <td>I</td>\n",
       "      <td>2</td>\n",
       "      <td>7</td>\n",
       "      <td>D</td>\n",
       "      <td>305.7</td>\n",
       "      <td>5.0</td>\n",
       "      <td>-0.1</td>\n",
       "      <td>0</td>\n",
       "      <td>93.5</td>\n",
       "      <td>0.00</td>\n",
       "      <td>0.2</td>\n",
       "      <td>4687</td>\n",
       "      <td>4.0</td>\n",
       "      <td>0</td>\n",
       "      <td>-0.988863</td>\n",
       "      <td>0</td>\n",
       "      <td>-0.3</td>\n",
       "      <td>NW</td>\n",
       "    </tr>\n",
       "    <tr>\n",
       "      <th>2</th>\n",
       "      <td>I</td>\n",
       "      <td>4</td>\n",
       "      <td>3</td>\n",
       "      <td>A</td>\n",
       "      <td>68.9</td>\n",
       "      <td>0.1</td>\n",
       "      <td>6.7</td>\n",
       "      <td>0</td>\n",
       "      <td>46.2</td>\n",
       "      <td>0.00</td>\n",
       "      <td>4.2</td>\n",
       "      <td>15715</td>\n",
       "      <td>4.0</td>\n",
       "      <td>0</td>\n",
       "      <td>-3.687619</td>\n",
       "      <td>0</td>\n",
       "      <td>2.5</td>\n",
       "      <td>E</td>\n",
       "    </tr>\n",
       "  </tbody>\n",
       "</table>\n",
       "</div>"
      ],
      "text/plain": [
       "  year  month  time stn_id  ws10_deg  ws10_ms   ta  re    hm  sun10   ts  \\\n",
       "0    I      3     8      B     283.0      3.1  4.2   0  63.9   0.08  5.7   \n",
       "1    I      2     7      D     305.7      5.0 -0.1   0  93.5   0.00  0.2   \n",
       "2    I      4     3      A      68.9      0.1  6.7   0  46.2   0.00  4.2   \n",
       "\n",
       "    vis1  class  is_fog  dew_point  dew_reached  temp_diff ws10_dir  \n",
       "0   8888    4.0       0  -1.810578            0       -1.5        W  \n",
       "1   4687    4.0       0  -0.988863            0       -0.3       NW  \n",
       "2  15715    4.0       0  -3.687619            0        2.5        E  "
      ]
     },
     "execution_count": 10,
     "metadata": {},
     "output_type": "execute_result"
    }
   ],
   "source": [
    "val_df.head(3)"
   ]
  },
  {
   "cell_type": "code",
   "execution_count": 11,
   "metadata": {},
   "outputs": [
    {
     "data": {
      "text/html": [
       "<div>\n",
       "<style scoped>\n",
       "    .dataframe tbody tr th:only-of-type {\n",
       "        vertical-align: middle;\n",
       "    }\n",
       "\n",
       "    .dataframe tbody tr th {\n",
       "        vertical-align: top;\n",
       "    }\n",
       "\n",
       "    .dataframe thead th {\n",
       "        text-align: right;\n",
       "    }\n",
       "</style>\n",
       "<table border=\"1\" class=\"dataframe\">\n",
       "  <thead>\n",
       "    <tr style=\"text-align: right;\">\n",
       "      <th></th>\n",
       "      <th>year</th>\n",
       "      <th>month</th>\n",
       "      <th>time</th>\n",
       "      <th>stn_id</th>\n",
       "      <th>ws10_deg</th>\n",
       "      <th>ws10_ms</th>\n",
       "      <th>ta</th>\n",
       "      <th>re</th>\n",
       "      <th>hm</th>\n",
       "      <th>sun10</th>\n",
       "      <th>ts</th>\n",
       "      <th>class</th>\n",
       "      <th>is_fog</th>\n",
       "      <th>dew_point</th>\n",
       "      <th>dew_reached</th>\n",
       "      <th>temp_diff</th>\n",
       "      <th>ws10_dir</th>\n",
       "    </tr>\n",
       "  </thead>\n",
       "  <tbody>\n",
       "    <tr>\n",
       "      <th>0</th>\n",
       "      <td>L</td>\n",
       "      <td>1</td>\n",
       "      <td>0</td>\n",
       "      <td>A</td>\n",
       "      <td>329.5</td>\n",
       "      <td>0.6</td>\n",
       "      <td>-2.5</td>\n",
       "      <td>0</td>\n",
       "      <td>87.5</td>\n",
       "      <td>0.0</td>\n",
       "      <td>-1.6</td>\n",
       "      <td>NaN</td>\n",
       "      <td>1</td>\n",
       "      <td>-4.223642</td>\n",
       "      <td>0</td>\n",
       "      <td>-0.9</td>\n",
       "      <td>NW</td>\n",
       "    </tr>\n",
       "    <tr>\n",
       "      <th>1</th>\n",
       "      <td>L</td>\n",
       "      <td>1</td>\n",
       "      <td>0</td>\n",
       "      <td>A</td>\n",
       "      <td>321.8</td>\n",
       "      <td>1.2</td>\n",
       "      <td>-2.5</td>\n",
       "      <td>0</td>\n",
       "      <td>88.2</td>\n",
       "      <td>0.0</td>\n",
       "      <td>-1.6</td>\n",
       "      <td>NaN</td>\n",
       "      <td>1</td>\n",
       "      <td>-4.121508</td>\n",
       "      <td>0</td>\n",
       "      <td>-0.9</td>\n",
       "      <td>NW</td>\n",
       "    </tr>\n",
       "    <tr>\n",
       "      <th>2</th>\n",
       "      <td>L</td>\n",
       "      <td>1</td>\n",
       "      <td>0</td>\n",
       "      <td>A</td>\n",
       "      <td>0.4</td>\n",
       "      <td>0.4</td>\n",
       "      <td>-2.5</td>\n",
       "      <td>0</td>\n",
       "      <td>88.6</td>\n",
       "      <td>0.0</td>\n",
       "      <td>-1.7</td>\n",
       "      <td>NaN</td>\n",
       "      <td>1</td>\n",
       "      <td>-4.063468</td>\n",
       "      <td>0</td>\n",
       "      <td>-0.8</td>\n",
       "      <td>N</td>\n",
       "    </tr>\n",
       "  </tbody>\n",
       "</table>\n",
       "</div>"
      ],
      "text/plain": [
       "  year  month  time stn_id  ws10_deg  ws10_ms   ta  re    hm  sun10   ts  \\\n",
       "0    L      1     0      A     329.5      0.6 -2.5   0  87.5    0.0 -1.6   \n",
       "1    L      1     0      A     321.8      1.2 -2.5   0  88.2    0.0 -1.6   \n",
       "2    L      1     0      A       0.4      0.4 -2.5   0  88.6    0.0 -1.7   \n",
       "\n",
       "   class  is_fog  dew_point  dew_reached  temp_diff ws10_dir  \n",
       "0    NaN       1  -4.223642            0       -0.9       NW  \n",
       "1    NaN       1  -4.121508            0       -0.9       NW  \n",
       "2    NaN       1  -4.063468            0       -0.8        N  "
      ]
     },
     "execution_count": 11,
     "metadata": {},
     "output_type": "execute_result"
    }
   ],
   "source": [
    "test_df.head(3)"
   ]
  },
  {
   "cell_type": "markdown",
   "metadata": {},
   "source": [
    "## 3. 모델링"
   ]
  },
  {
   "cell_type": "markdown",
   "metadata": {},
   "source": [
    "### 3-1. 데이터 분리"
   ]
  },
  {
   "cell_type": "code",
   "execution_count": 12,
   "metadata": {},
   "outputs": [],
   "source": [
    "# # Target 컬럼 : class\n",
    "# target = \"class\"\n",
    "\n",
    "# # 모델 생성시 사용할 컬럼 지정\n",
    "# used_cols = [\"month\", \"time\", \"stn_id\", \"ta\", \"ts\", \"temp_diff\", \"hm\", \n",
    "#              \"re\", \"ws10_deg\", \"ws10_ms\", \"sun10\", \"dew_reached\"]\n",
    "\n",
    "# # train_df의 컬럼들 중 target (class) 제외한 컬럼들 X에 선언\n",
    "# X = train_df[used_cols]\n",
    "# y = train_df[target]"
   ]
  },
  {
   "cell_type": "code",
   "execution_count": 61,
   "metadata": {},
   "outputs": [],
   "source": [
    "# target 컬럼\n",
    "target = \"class\"\n",
    "\n",
    "# # 모델 생성시 사용할 컬럼 지정\n",
    "used_cols = [\"month\", \"time\", \"stn_id\", \"ta\", \"ts\", \"temp_diff\", \"hm\", \n",
    "             \"re\", \"ws10_deg\", \"ws10_ms\", \"sun10\", \"dew_reached\"]\n",
    "\n",
    "# 8방위 사용\n",
    "# used_cols = [\"month\", \"time\", \"stn_id\", \"ta\", \"ts\", \"temp_diff\", \"hm\", \n",
    "#              \"re\", \"ws10_dir\", \"ws10_ms\", \"sun10\", \"dew_reached\"]\n",
    "\n",
    "\n",
    "# used_cols = [\"time\", \"stn_id\", \"temp_diff\", \"hm\", \n",
    "#              \"re\", \"ws10_ms\", \"dew_reached\"]\n",
    "\n",
    "# used_cols = [\"time\", \"stn_id\", \"temp_diff\", \"hm\", \"month\",\n",
    "#              \"re\", \"ws10_ms\", \"dew_reached\"]\n",
    "\n",
    "# used_cols = [\"month\", \"time\", \"stn_id\", \"ta\", \"ts\", \"temp_diff\", \"hm\",\n",
    "#              \"ws10_ms\"]\n",
    "\n",
    "X_train = train_df[used_cols]\n",
    "y_train = train_df[target]\n",
    "\n",
    "X_val = val_df[used_cols]\n",
    "y_val = val_df[target]\n",
    "\n",
    "X_test = test_df[used_cols]"
   ]
  },
  {
   "cell_type": "code",
   "execution_count": 62,
   "metadata": {},
   "outputs": [
    {
     "data": {
      "text/plain": [
       "class\n",
       "4.0    2187331\n",
       "2.0       8928\n",
       "3.0       8861\n",
       "1.0       5836\n",
       "Name: count, dtype: int64"
      ]
     },
     "execution_count": 62,
     "metadata": {},
     "output_type": "execute_result"
    }
   ],
   "source": [
    "y_train.value_counts()"
   ]
  },
  {
   "cell_type": "code",
   "execution_count": 63,
   "metadata": {},
   "outputs": [
    {
     "data": {
      "text/plain": [
       "class\n",
       "4.0    775452\n",
       "3.0      3045\n",
       "2.0      3022\n",
       "1.0      1967\n",
       "Name: count, dtype: int64"
      ]
     },
     "execution_count": 63,
     "metadata": {},
     "output_type": "execute_result"
    }
   ],
   "source": [
    "y_val.value_counts()"
   ]
  },
  {
   "cell_type": "markdown",
   "metadata": {},
   "source": [
    "#### 3-1-1. Train, Validation 데이터 분리"
   ]
  },
  {
   "cell_type": "code",
   "execution_count": 45,
   "metadata": {},
   "outputs": [],
   "source": [
    "# X_train, X_val, y_train, y_val = train_test_split(X, y, random_state=42, train_size=0.75, stratify=y)\n",
    "# X_train.shape, X_val.shape, y_train.shape, y_val.shape"
   ]
  },
  {
   "cell_type": "code",
   "execution_count": 46,
   "metadata": {},
   "outputs": [],
   "source": [
    "# X_test = test_df[used_cols]\n",
    "# X_test.shape"
   ]
  },
  {
   "cell_type": "code",
   "execution_count": 64,
   "metadata": {},
   "outputs": [
    {
     "data": {
      "text/plain": [
       "((2210956, 12), (783486, 12), (2210956,), (783486,), (262800, 12))"
      ]
     },
     "execution_count": 64,
     "metadata": {},
     "output_type": "execute_result"
    }
   ],
   "source": [
    "X_train.shape, X_val.shape, y_train.shape, y_val.shape, X_test.shape"
   ]
  },
  {
   "cell_type": "code",
   "execution_count": 65,
   "metadata": {},
   "outputs": [
    {
     "data": {
      "text/html": [
       "<div>\n",
       "<style scoped>\n",
       "    .dataframe tbody tr th:only-of-type {\n",
       "        vertical-align: middle;\n",
       "    }\n",
       "\n",
       "    .dataframe tbody tr th {\n",
       "        vertical-align: top;\n",
       "    }\n",
       "\n",
       "    .dataframe thead th {\n",
       "        text-align: right;\n",
       "    }\n",
       "</style>\n",
       "<table border=\"1\" class=\"dataframe\">\n",
       "  <thead>\n",
       "    <tr style=\"text-align: right;\">\n",
       "      <th></th>\n",
       "      <th>month</th>\n",
       "      <th>time</th>\n",
       "      <th>stn_id</th>\n",
       "      <th>ta</th>\n",
       "      <th>ts</th>\n",
       "      <th>temp_diff</th>\n",
       "      <th>hm</th>\n",
       "      <th>re</th>\n",
       "      <th>ws10_deg</th>\n",
       "      <th>ws10_ms</th>\n",
       "      <th>sun10</th>\n",
       "      <th>dew_reached</th>\n",
       "    </tr>\n",
       "  </thead>\n",
       "  <tbody>\n",
       "    <tr>\n",
       "      <th>0</th>\n",
       "      <td>4</td>\n",
       "      <td>15</td>\n",
       "      <td>B</td>\n",
       "      <td>10.3</td>\n",
       "      <td>13.8</td>\n",
       "      <td>-3.5</td>\n",
       "      <td>59.3</td>\n",
       "      <td>0</td>\n",
       "      <td>112.4</td>\n",
       "      <td>2.2</td>\n",
       "      <td>0.14</td>\n",
       "      <td>0</td>\n",
       "    </tr>\n",
       "    <tr>\n",
       "      <th>1</th>\n",
       "      <td>4</td>\n",
       "      <td>9</td>\n",
       "      <td>B</td>\n",
       "      <td>10.1</td>\n",
       "      <td>18.3</td>\n",
       "      <td>-8.2</td>\n",
       "      <td>54.4</td>\n",
       "      <td>0</td>\n",
       "      <td>273.6</td>\n",
       "      <td>4.8</td>\n",
       "      <td>0.31</td>\n",
       "      <td>0</td>\n",
       "    </tr>\n",
       "    <tr>\n",
       "      <th>2</th>\n",
       "      <td>3</td>\n",
       "      <td>10</td>\n",
       "      <td>D</td>\n",
       "      <td>18.1</td>\n",
       "      <td>20.1</td>\n",
       "      <td>-2.0</td>\n",
       "      <td>47.0</td>\n",
       "      <td>0</td>\n",
       "      <td>158.2</td>\n",
       "      <td>3.1</td>\n",
       "      <td>0.22</td>\n",
       "      <td>0</td>\n",
       "    </tr>\n",
       "    <tr>\n",
       "      <th>3</th>\n",
       "      <td>7</td>\n",
       "      <td>23</td>\n",
       "      <td>A</td>\n",
       "      <td>24.0</td>\n",
       "      <td>24.3</td>\n",
       "      <td>-0.3</td>\n",
       "      <td>81.8</td>\n",
       "      <td>0</td>\n",
       "      <td>238.0</td>\n",
       "      <td>0.9</td>\n",
       "      <td>0.00</td>\n",
       "      <td>0</td>\n",
       "    </tr>\n",
       "    <tr>\n",
       "      <th>4</th>\n",
       "      <td>1</td>\n",
       "      <td>0</td>\n",
       "      <td>D</td>\n",
       "      <td>-3.8</td>\n",
       "      <td>-3.0</td>\n",
       "      <td>-0.8</td>\n",
       "      <td>81.6</td>\n",
       "      <td>0</td>\n",
       "      <td>303.7</td>\n",
       "      <td>1.0</td>\n",
       "      <td>0.00</td>\n",
       "      <td>0</td>\n",
       "    </tr>\n",
       "  </tbody>\n",
       "</table>\n",
       "</div>"
      ],
      "text/plain": [
       "   month  time stn_id    ta    ts  temp_diff    hm  re  ws10_deg  ws10_ms  \\\n",
       "0      4    15      B  10.3  13.8       -3.5  59.3   0     112.4      2.2   \n",
       "1      4     9      B  10.1  18.3       -8.2  54.4   0     273.6      4.8   \n",
       "2      3    10      D  18.1  20.1       -2.0  47.0   0     158.2      3.1   \n",
       "3      7    23      A  24.0  24.3       -0.3  81.8   0     238.0      0.9   \n",
       "4      1     0      D  -3.8  -3.0       -0.8  81.6   0     303.7      1.0   \n",
       "\n",
       "   sun10  dew_reached  \n",
       "0   0.14            0  \n",
       "1   0.31            0  \n",
       "2   0.22            0  \n",
       "3   0.00            0  \n",
       "4   0.00            0  "
      ]
     },
     "execution_count": 65,
     "metadata": {},
     "output_type": "execute_result"
    }
   ],
   "source": [
    "X_train.head()"
   ]
  },
  {
   "cell_type": "code",
   "execution_count": 66,
   "metadata": {},
   "outputs": [
    {
     "data": {
      "text/html": [
       "<div>\n",
       "<style scoped>\n",
       "    .dataframe tbody tr th:only-of-type {\n",
       "        vertical-align: middle;\n",
       "    }\n",
       "\n",
       "    .dataframe tbody tr th {\n",
       "        vertical-align: top;\n",
       "    }\n",
       "\n",
       "    .dataframe thead th {\n",
       "        text-align: right;\n",
       "    }\n",
       "</style>\n",
       "<table border=\"1\" class=\"dataframe\">\n",
       "  <thead>\n",
       "    <tr style=\"text-align: right;\">\n",
       "      <th></th>\n",
       "      <th>month</th>\n",
       "      <th>time</th>\n",
       "      <th>stn_id</th>\n",
       "      <th>ta</th>\n",
       "      <th>ts</th>\n",
       "      <th>temp_diff</th>\n",
       "      <th>hm</th>\n",
       "      <th>re</th>\n",
       "      <th>ws10_deg</th>\n",
       "      <th>ws10_ms</th>\n",
       "      <th>sun10</th>\n",
       "      <th>dew_reached</th>\n",
       "    </tr>\n",
       "  </thead>\n",
       "  <tbody>\n",
       "    <tr>\n",
       "      <th>0</th>\n",
       "      <td>3</td>\n",
       "      <td>8</td>\n",
       "      <td>B</td>\n",
       "      <td>4.2</td>\n",
       "      <td>5.7</td>\n",
       "      <td>-1.5</td>\n",
       "      <td>63.9</td>\n",
       "      <td>0</td>\n",
       "      <td>283.0</td>\n",
       "      <td>3.1</td>\n",
       "      <td>0.08</td>\n",
       "      <td>0</td>\n",
       "    </tr>\n",
       "    <tr>\n",
       "      <th>1</th>\n",
       "      <td>2</td>\n",
       "      <td>7</td>\n",
       "      <td>D</td>\n",
       "      <td>-0.1</td>\n",
       "      <td>0.2</td>\n",
       "      <td>-0.3</td>\n",
       "      <td>93.5</td>\n",
       "      <td>0</td>\n",
       "      <td>305.7</td>\n",
       "      <td>5.0</td>\n",
       "      <td>0.00</td>\n",
       "      <td>0</td>\n",
       "    </tr>\n",
       "    <tr>\n",
       "      <th>2</th>\n",
       "      <td>4</td>\n",
       "      <td>3</td>\n",
       "      <td>A</td>\n",
       "      <td>6.7</td>\n",
       "      <td>4.2</td>\n",
       "      <td>2.5</td>\n",
       "      <td>46.2</td>\n",
       "      <td>0</td>\n",
       "      <td>68.9</td>\n",
       "      <td>0.1</td>\n",
       "      <td>0.00</td>\n",
       "      <td>0</td>\n",
       "    </tr>\n",
       "  </tbody>\n",
       "</table>\n",
       "</div>"
      ],
      "text/plain": [
       "   month  time stn_id   ta   ts  temp_diff    hm  re  ws10_deg  ws10_ms  \\\n",
       "0      3     8      B  4.2  5.7       -1.5  63.9   0     283.0      3.1   \n",
       "1      2     7      D -0.1  0.2       -0.3  93.5   0     305.7      5.0   \n",
       "2      4     3      A  6.7  4.2        2.5  46.2   0      68.9      0.1   \n",
       "\n",
       "   sun10  dew_reached  \n",
       "0   0.08            0  \n",
       "1   0.00            0  \n",
       "2   0.00            0  "
      ]
     },
     "execution_count": 66,
     "metadata": {},
     "output_type": "execute_result"
    }
   ],
   "source": [
    "X_val.head(3)"
   ]
  },
  {
   "cell_type": "markdown",
   "metadata": {},
   "source": [
    "### 3-2. CSI 지수 생성"
   ]
  },
  {
   "cell_type": "code",
   "execution_count": 67,
   "metadata": {},
   "outputs": [],
   "source": [
    "# CSI 지수 함수 생성\n",
    "def csi_index(y_true, y_pred):\n",
    "\n",
    "    model_cm = confusion_matrix(y_true, y_pred)\n",
    "\n",
    "    H = (model_cm[0][0] + model_cm[1][1] + model_cm[2][2])\n",
    "    F = (model_cm[0][1] + model_cm[0][2] +\n",
    "            model_cm[1][0] + model_cm[1][2] +\n",
    "            model_cm[2][0] + model_cm[2][1] +\n",
    "            model_cm[3][0] + model_cm[3][1] + model_cm[3][2])\n",
    "    M = (model_cm[0][3] + model_cm[1][3] + model_cm[2][3])\n",
    "\n",
    "    model_csi = H / (H + F + M)\n",
    "\n",
    "    return model_csi\n",
    "\n",
    "csi_scorer = make_scorer(csi_index, greater_is_better=True)"
   ]
  },
  {
   "cell_type": "markdown",
   "metadata": {},
   "source": [
    "### 3-3. 인코딩"
   ]
  },
  {
   "cell_type": "markdown",
   "metadata": {},
   "source": [
    "#### 3-3-1. Label Encoding"
   ]
  },
  {
   "cell_type": "code",
   "execution_count": 68,
   "metadata": {},
   "outputs": [],
   "source": [
    "# Label Encoding 적용을 위해 train, val, test 데이터 copy()\n",
    "X_train_labeled = X_train.copy()\n",
    "X_val_labeled = X_val.copy()\n",
    "X_test_labeled = X_test.copy()"
   ]
  },
  {
   "cell_type": "code",
   "execution_count": 69,
   "metadata": {},
   "outputs": [],
   "source": [
    "# stn_id를 각각 1 ~ 5로 정한 딕셔너리 생성\n",
    "stn_id_map = {\"A\" : 1,\n",
    "              \"B\" : 2,\n",
    "              \"C\" : 3,\n",
    "              \"D\" : 4,\n",
    "              \"E\" : 5}\n",
    "\n",
    "# stn_id_map을 바탕으로 stn_id 컬럼 mapping\n",
    "X_train_labeled[\"stn_id\"] = X_train_labeled[\"stn_id\"].map(stn_id_map)\n",
    "X_val_labeled[\"stn_id\"] = X_val_labeled[\"stn_id\"].map(stn_id_map)\n",
    "X_test_labeled[\"stn_id\"] = X_test_labeled[\"stn_id\"].map(stn_id_map)"
   ]
  },
  {
   "cell_type": "code",
   "execution_count": 70,
   "metadata": {},
   "outputs": [],
   "source": [
    "# # ws10_dir를 각각 1 ~ 5로 정한 딕셔너리 생성\n",
    "# ws10_dir_map = {\"N\" : 1,\n",
    "#               \"NE\" : 2,\n",
    "#               \"E\" : 3,\n",
    "#               \"SE\" : 4,\n",
    "#               \"S\" : 5,\n",
    "#               \"SW\" : 6,\n",
    "#               \"W\" : 7,\n",
    "#               \"NW\" : 8}\n",
    "\n",
    "# # ws10_dir_map을 바탕으로 ws10_dir 컬럼 mapping\n",
    "# X_train_labeled[\"ws10_dir\"] = X_train_labeled[\"ws10_dir\"].map(ws10_dir_map)\n",
    "# X_val_labeled[\"ws10_dir\"] = X_val_labeled[\"ws10_dir\"].map(ws10_dir_map)\n",
    "# X_test_labeled[\"ws10_dir\"] = X_test_labeled[\"ws10_dir\"].map(ws10_dir_map)"
   ]
  },
  {
   "cell_type": "markdown",
   "metadata": {},
   "source": [
    "### 3-4. Baseline 모델 생성"
   ]
  },
  {
   "cell_type": "code",
   "execution_count": 71,
   "metadata": {},
   "outputs": [
    {
     "data": {
      "text/html": [
       "<style>#sk-container-id-3 {\n",
       "  /* Definition of color scheme common for light and dark mode */\n",
       "  --sklearn-color-text: black;\n",
       "  --sklearn-color-line: gray;\n",
       "  /* Definition of color scheme for unfitted estimators */\n",
       "  --sklearn-color-unfitted-level-0: #fff5e6;\n",
       "  --sklearn-color-unfitted-level-1: #f6e4d2;\n",
       "  --sklearn-color-unfitted-level-2: #ffe0b3;\n",
       "  --sklearn-color-unfitted-level-3: chocolate;\n",
       "  /* Definition of color scheme for fitted estimators */\n",
       "  --sklearn-color-fitted-level-0: #f0f8ff;\n",
       "  --sklearn-color-fitted-level-1: #d4ebff;\n",
       "  --sklearn-color-fitted-level-2: #b3dbfd;\n",
       "  --sklearn-color-fitted-level-3: cornflowerblue;\n",
       "\n",
       "  /* Specific color for light theme */\n",
       "  --sklearn-color-text-on-default-background: var(--sg-text-color, var(--theme-code-foreground, var(--jp-content-font-color1, black)));\n",
       "  --sklearn-color-background: var(--sg-background-color, var(--theme-background, var(--jp-layout-color0, white)));\n",
       "  --sklearn-color-border-box: var(--sg-text-color, var(--theme-code-foreground, var(--jp-content-font-color1, black)));\n",
       "  --sklearn-color-icon: #696969;\n",
       "\n",
       "  @media (prefers-color-scheme: dark) {\n",
       "    /* Redefinition of color scheme for dark theme */\n",
       "    --sklearn-color-text-on-default-background: var(--sg-text-color, var(--theme-code-foreground, var(--jp-content-font-color1, white)));\n",
       "    --sklearn-color-background: var(--sg-background-color, var(--theme-background, var(--jp-layout-color0, #111)));\n",
       "    --sklearn-color-border-box: var(--sg-text-color, var(--theme-code-foreground, var(--jp-content-font-color1, white)));\n",
       "    --sklearn-color-icon: #878787;\n",
       "  }\n",
       "}\n",
       "\n",
       "#sk-container-id-3 {\n",
       "  color: var(--sklearn-color-text);\n",
       "}\n",
       "\n",
       "#sk-container-id-3 pre {\n",
       "  padding: 0;\n",
       "}\n",
       "\n",
       "#sk-container-id-3 input.sk-hidden--visually {\n",
       "  border: 0;\n",
       "  clip: rect(1px 1px 1px 1px);\n",
       "  clip: rect(1px, 1px, 1px, 1px);\n",
       "  height: 1px;\n",
       "  margin: -1px;\n",
       "  overflow: hidden;\n",
       "  padding: 0;\n",
       "  position: absolute;\n",
       "  width: 1px;\n",
       "}\n",
       "\n",
       "#sk-container-id-3 div.sk-dashed-wrapped {\n",
       "  border: 1px dashed var(--sklearn-color-line);\n",
       "  margin: 0 0.4em 0.5em 0.4em;\n",
       "  box-sizing: border-box;\n",
       "  padding-bottom: 0.4em;\n",
       "  background-color: var(--sklearn-color-background);\n",
       "}\n",
       "\n",
       "#sk-container-id-3 div.sk-container {\n",
       "  /* jupyter's `normalize.less` sets `[hidden] { display: none; }`\n",
       "     but bootstrap.min.css set `[hidden] { display: none !important; }`\n",
       "     so we also need the `!important` here to be able to override the\n",
       "     default hidden behavior on the sphinx rendered scikit-learn.org.\n",
       "     See: https://github.com/scikit-learn/scikit-learn/issues/21755 */\n",
       "  display: inline-block !important;\n",
       "  position: relative;\n",
       "}\n",
       "\n",
       "#sk-container-id-3 div.sk-text-repr-fallback {\n",
       "  display: none;\n",
       "}\n",
       "\n",
       "div.sk-parallel-item,\n",
       "div.sk-serial,\n",
       "div.sk-item {\n",
       "  /* draw centered vertical line to link estimators */\n",
       "  background-image: linear-gradient(var(--sklearn-color-text-on-default-background), var(--sklearn-color-text-on-default-background));\n",
       "  background-size: 2px 100%;\n",
       "  background-repeat: no-repeat;\n",
       "  background-position: center center;\n",
       "}\n",
       "\n",
       "/* Parallel-specific style estimator block */\n",
       "\n",
       "#sk-container-id-3 div.sk-parallel-item::after {\n",
       "  content: \"\";\n",
       "  width: 100%;\n",
       "  border-bottom: 2px solid var(--sklearn-color-text-on-default-background);\n",
       "  flex-grow: 1;\n",
       "}\n",
       "\n",
       "#sk-container-id-3 div.sk-parallel {\n",
       "  display: flex;\n",
       "  align-items: stretch;\n",
       "  justify-content: center;\n",
       "  background-color: var(--sklearn-color-background);\n",
       "  position: relative;\n",
       "}\n",
       "\n",
       "#sk-container-id-3 div.sk-parallel-item {\n",
       "  display: flex;\n",
       "  flex-direction: column;\n",
       "}\n",
       "\n",
       "#sk-container-id-3 div.sk-parallel-item:first-child::after {\n",
       "  align-self: flex-end;\n",
       "  width: 50%;\n",
       "}\n",
       "\n",
       "#sk-container-id-3 div.sk-parallel-item:last-child::after {\n",
       "  align-self: flex-start;\n",
       "  width: 50%;\n",
       "}\n",
       "\n",
       "#sk-container-id-3 div.sk-parallel-item:only-child::after {\n",
       "  width: 0;\n",
       "}\n",
       "\n",
       "/* Serial-specific style estimator block */\n",
       "\n",
       "#sk-container-id-3 div.sk-serial {\n",
       "  display: flex;\n",
       "  flex-direction: column;\n",
       "  align-items: center;\n",
       "  background-color: var(--sklearn-color-background);\n",
       "  padding-right: 1em;\n",
       "  padding-left: 1em;\n",
       "}\n",
       "\n",
       "\n",
       "/* Toggleable style: style used for estimator/Pipeline/ColumnTransformer box that is\n",
       "clickable and can be expanded/collapsed.\n",
       "- Pipeline and ColumnTransformer use this feature and define the default style\n",
       "- Estimators will overwrite some part of the style using the `sk-estimator` class\n",
       "*/\n",
       "\n",
       "/* Pipeline and ColumnTransformer style (default) */\n",
       "\n",
       "#sk-container-id-3 div.sk-toggleable {\n",
       "  /* Default theme specific background. It is overwritten whether we have a\n",
       "  specific estimator or a Pipeline/ColumnTransformer */\n",
       "  background-color: var(--sklearn-color-background);\n",
       "}\n",
       "\n",
       "/* Toggleable label */\n",
       "#sk-container-id-3 label.sk-toggleable__label {\n",
       "  cursor: pointer;\n",
       "  display: block;\n",
       "  width: 100%;\n",
       "  margin-bottom: 0;\n",
       "  padding: 0.5em;\n",
       "  box-sizing: border-box;\n",
       "  text-align: center;\n",
       "}\n",
       "\n",
       "#sk-container-id-3 label.sk-toggleable__label-arrow:before {\n",
       "  /* Arrow on the left of the label */\n",
       "  content: \"▸\";\n",
       "  float: left;\n",
       "  margin-right: 0.25em;\n",
       "  color: var(--sklearn-color-icon);\n",
       "}\n",
       "\n",
       "#sk-container-id-3 label.sk-toggleable__label-arrow:hover:before {\n",
       "  color: var(--sklearn-color-text);\n",
       "}\n",
       "\n",
       "/* Toggleable content - dropdown */\n",
       "\n",
       "#sk-container-id-3 div.sk-toggleable__content {\n",
       "  max-height: 0;\n",
       "  max-width: 0;\n",
       "  overflow: hidden;\n",
       "  text-align: left;\n",
       "  /* unfitted */\n",
       "  background-color: var(--sklearn-color-unfitted-level-0);\n",
       "}\n",
       "\n",
       "#sk-container-id-3 div.sk-toggleable__content.fitted {\n",
       "  /* fitted */\n",
       "  background-color: var(--sklearn-color-fitted-level-0);\n",
       "}\n",
       "\n",
       "#sk-container-id-3 div.sk-toggleable__content pre {\n",
       "  margin: 0.2em;\n",
       "  border-radius: 0.25em;\n",
       "  color: var(--sklearn-color-text);\n",
       "  /* unfitted */\n",
       "  background-color: var(--sklearn-color-unfitted-level-0);\n",
       "}\n",
       "\n",
       "#sk-container-id-3 div.sk-toggleable__content.fitted pre {\n",
       "  /* unfitted */\n",
       "  background-color: var(--sklearn-color-fitted-level-0);\n",
       "}\n",
       "\n",
       "#sk-container-id-3 input.sk-toggleable__control:checked~div.sk-toggleable__content {\n",
       "  /* Expand drop-down */\n",
       "  max-height: 200px;\n",
       "  max-width: 100%;\n",
       "  overflow: auto;\n",
       "}\n",
       "\n",
       "#sk-container-id-3 input.sk-toggleable__control:checked~label.sk-toggleable__label-arrow:before {\n",
       "  content: \"▾\";\n",
       "}\n",
       "\n",
       "/* Pipeline/ColumnTransformer-specific style */\n",
       "\n",
       "#sk-container-id-3 div.sk-label input.sk-toggleable__control:checked~label.sk-toggleable__label {\n",
       "  color: var(--sklearn-color-text);\n",
       "  background-color: var(--sklearn-color-unfitted-level-2);\n",
       "}\n",
       "\n",
       "#sk-container-id-3 div.sk-label.fitted input.sk-toggleable__control:checked~label.sk-toggleable__label {\n",
       "  background-color: var(--sklearn-color-fitted-level-2);\n",
       "}\n",
       "\n",
       "/* Estimator-specific style */\n",
       "\n",
       "/* Colorize estimator box */\n",
       "#sk-container-id-3 div.sk-estimator input.sk-toggleable__control:checked~label.sk-toggleable__label {\n",
       "  /* unfitted */\n",
       "  background-color: var(--sklearn-color-unfitted-level-2);\n",
       "}\n",
       "\n",
       "#sk-container-id-3 div.sk-estimator.fitted input.sk-toggleable__control:checked~label.sk-toggleable__label {\n",
       "  /* fitted */\n",
       "  background-color: var(--sklearn-color-fitted-level-2);\n",
       "}\n",
       "\n",
       "#sk-container-id-3 div.sk-label label.sk-toggleable__label,\n",
       "#sk-container-id-3 div.sk-label label {\n",
       "  /* The background is the default theme color */\n",
       "  color: var(--sklearn-color-text-on-default-background);\n",
       "}\n",
       "\n",
       "/* On hover, darken the color of the background */\n",
       "#sk-container-id-3 div.sk-label:hover label.sk-toggleable__label {\n",
       "  color: var(--sklearn-color-text);\n",
       "  background-color: var(--sklearn-color-unfitted-level-2);\n",
       "}\n",
       "\n",
       "/* Label box, darken color on hover, fitted */\n",
       "#sk-container-id-3 div.sk-label.fitted:hover label.sk-toggleable__label.fitted {\n",
       "  color: var(--sklearn-color-text);\n",
       "  background-color: var(--sklearn-color-fitted-level-2);\n",
       "}\n",
       "\n",
       "/* Estimator label */\n",
       "\n",
       "#sk-container-id-3 div.sk-label label {\n",
       "  font-family: monospace;\n",
       "  font-weight: bold;\n",
       "  display: inline-block;\n",
       "  line-height: 1.2em;\n",
       "}\n",
       "\n",
       "#sk-container-id-3 div.sk-label-container {\n",
       "  text-align: center;\n",
       "}\n",
       "\n",
       "/* Estimator-specific */\n",
       "#sk-container-id-3 div.sk-estimator {\n",
       "  font-family: monospace;\n",
       "  border: 1px dotted var(--sklearn-color-border-box);\n",
       "  border-radius: 0.25em;\n",
       "  box-sizing: border-box;\n",
       "  margin-bottom: 0.5em;\n",
       "  /* unfitted */\n",
       "  background-color: var(--sklearn-color-unfitted-level-0);\n",
       "}\n",
       "\n",
       "#sk-container-id-3 div.sk-estimator.fitted {\n",
       "  /* fitted */\n",
       "  background-color: var(--sklearn-color-fitted-level-0);\n",
       "}\n",
       "\n",
       "/* on hover */\n",
       "#sk-container-id-3 div.sk-estimator:hover {\n",
       "  /* unfitted */\n",
       "  background-color: var(--sklearn-color-unfitted-level-2);\n",
       "}\n",
       "\n",
       "#sk-container-id-3 div.sk-estimator.fitted:hover {\n",
       "  /* fitted */\n",
       "  background-color: var(--sklearn-color-fitted-level-2);\n",
       "}\n",
       "\n",
       "/* Specification for estimator info (e.g. \"i\" and \"?\") */\n",
       "\n",
       "/* Common style for \"i\" and \"?\" */\n",
       "\n",
       ".sk-estimator-doc-link,\n",
       "a:link.sk-estimator-doc-link,\n",
       "a:visited.sk-estimator-doc-link {\n",
       "  float: right;\n",
       "  font-size: smaller;\n",
       "  line-height: 1em;\n",
       "  font-family: monospace;\n",
       "  background-color: var(--sklearn-color-background);\n",
       "  border-radius: 1em;\n",
       "  height: 1em;\n",
       "  width: 1em;\n",
       "  text-decoration: none !important;\n",
       "  margin-left: 1ex;\n",
       "  /* unfitted */\n",
       "  border: var(--sklearn-color-unfitted-level-1) 1pt solid;\n",
       "  color: var(--sklearn-color-unfitted-level-1);\n",
       "}\n",
       "\n",
       ".sk-estimator-doc-link.fitted,\n",
       "a:link.sk-estimator-doc-link.fitted,\n",
       "a:visited.sk-estimator-doc-link.fitted {\n",
       "  /* fitted */\n",
       "  border: var(--sklearn-color-fitted-level-1) 1pt solid;\n",
       "  color: var(--sklearn-color-fitted-level-1);\n",
       "}\n",
       "\n",
       "/* On hover */\n",
       "div.sk-estimator:hover .sk-estimator-doc-link:hover,\n",
       ".sk-estimator-doc-link:hover,\n",
       "div.sk-label-container:hover .sk-estimator-doc-link:hover,\n",
       ".sk-estimator-doc-link:hover {\n",
       "  /* unfitted */\n",
       "  background-color: var(--sklearn-color-unfitted-level-3);\n",
       "  color: var(--sklearn-color-background);\n",
       "  text-decoration: none;\n",
       "}\n",
       "\n",
       "div.sk-estimator.fitted:hover .sk-estimator-doc-link.fitted:hover,\n",
       ".sk-estimator-doc-link.fitted:hover,\n",
       "div.sk-label-container:hover .sk-estimator-doc-link.fitted:hover,\n",
       ".sk-estimator-doc-link.fitted:hover {\n",
       "  /* fitted */\n",
       "  background-color: var(--sklearn-color-fitted-level-3);\n",
       "  color: var(--sklearn-color-background);\n",
       "  text-decoration: none;\n",
       "}\n",
       "\n",
       "/* Span, style for the box shown on hovering the info icon */\n",
       ".sk-estimator-doc-link span {\n",
       "  display: none;\n",
       "  z-index: 9999;\n",
       "  position: relative;\n",
       "  font-weight: normal;\n",
       "  right: .2ex;\n",
       "  padding: .5ex;\n",
       "  margin: .5ex;\n",
       "  width: min-content;\n",
       "  min-width: 20ex;\n",
       "  max-width: 50ex;\n",
       "  color: var(--sklearn-color-text);\n",
       "  box-shadow: 2pt 2pt 4pt #999;\n",
       "  /* unfitted */\n",
       "  background: var(--sklearn-color-unfitted-level-0);\n",
       "  border: .5pt solid var(--sklearn-color-unfitted-level-3);\n",
       "}\n",
       "\n",
       ".sk-estimator-doc-link.fitted span {\n",
       "  /* fitted */\n",
       "  background: var(--sklearn-color-fitted-level-0);\n",
       "  border: var(--sklearn-color-fitted-level-3);\n",
       "}\n",
       "\n",
       ".sk-estimator-doc-link:hover span {\n",
       "  display: block;\n",
       "}\n",
       "\n",
       "/* \"?\"-specific style due to the `<a>` HTML tag */\n",
       "\n",
       "#sk-container-id-3 a.estimator_doc_link {\n",
       "  float: right;\n",
       "  font-size: 1rem;\n",
       "  line-height: 1em;\n",
       "  font-family: monospace;\n",
       "  background-color: var(--sklearn-color-background);\n",
       "  border-radius: 1rem;\n",
       "  height: 1rem;\n",
       "  width: 1rem;\n",
       "  text-decoration: none;\n",
       "  /* unfitted */\n",
       "  color: var(--sklearn-color-unfitted-level-1);\n",
       "  border: var(--sklearn-color-unfitted-level-1) 1pt solid;\n",
       "}\n",
       "\n",
       "#sk-container-id-3 a.estimator_doc_link.fitted {\n",
       "  /* fitted */\n",
       "  border: var(--sklearn-color-fitted-level-1) 1pt solid;\n",
       "  color: var(--sklearn-color-fitted-level-1);\n",
       "}\n",
       "\n",
       "/* On hover */\n",
       "#sk-container-id-3 a.estimator_doc_link:hover {\n",
       "  /* unfitted */\n",
       "  background-color: var(--sklearn-color-unfitted-level-3);\n",
       "  color: var(--sklearn-color-background);\n",
       "  text-decoration: none;\n",
       "}\n",
       "\n",
       "#sk-container-id-3 a.estimator_doc_link.fitted:hover {\n",
       "  /* fitted */\n",
       "  background-color: var(--sklearn-color-fitted-level-3);\n",
       "}\n",
       "</style><div id=\"sk-container-id-3\" class=\"sk-top-container\"><div class=\"sk-text-repr-fallback\"><pre>DecisionTreeClassifier(random_state=42)</pre><b>In a Jupyter environment, please rerun this cell to show the HTML representation or trust the notebook. <br />On GitHub, the HTML representation is unable to render, please try loading this page with nbviewer.org.</b></div><div class=\"sk-container\" hidden><div class=\"sk-item\"><div class=\"sk-estimator fitted sk-toggleable\"><input class=\"sk-toggleable__control sk-hidden--visually\" id=\"sk-estimator-id-3\" type=\"checkbox\" checked><label for=\"sk-estimator-id-3\" class=\"sk-toggleable__label fitted sk-toggleable__label-arrow fitted\">&nbsp;&nbsp;DecisionTreeClassifier<a class=\"sk-estimator-doc-link fitted\" rel=\"noreferrer\" target=\"_blank\" href=\"https://scikit-learn.org/1.4/modules/generated/sklearn.tree.DecisionTreeClassifier.html\">?<span>Documentation for DecisionTreeClassifier</span></a><span class=\"sk-estimator-doc-link fitted\">i<span>Fitted</span></span></label><div class=\"sk-toggleable__content fitted\"><pre>DecisionTreeClassifier(random_state=42)</pre></div> </div></div></div></div>"
      ],
      "text/plain": [
       "DecisionTreeClassifier(random_state=42)"
      ]
     },
     "execution_count": 71,
     "metadata": {},
     "output_type": "execute_result"
    }
   ],
   "source": [
    "# 의사결정나무 모델로 Baseline 모델 생성\n",
    "dt = DecisionTreeClassifier(random_state=42)\n",
    "dt.fit(X_train_labeled, y_train)"
   ]
  },
  {
   "cell_type": "code",
   "execution_count": 72,
   "metadata": {},
   "outputs": [],
   "source": [
    "def model_comparison(models, X_train, y_train, X_val, y_val, when=\"Before\"):\n",
    "    models_results = []\n",
    "\n",
    "    for model_name, model in models:\n",
    "\n",
    "        # 모델 생성 및 훈련\n",
    "        # 트리 기반 모델들은 각 변수의 information gain을 기반으로 판단하기 때문에 굳이 스케일링 해줄 필요가 없다\n",
    "\n",
    "        model.fit(X_train, y_train)\n",
    "\n",
    "        y_train_pred = model.predict(X_train)\n",
    "        y_val_pred = model.predict(X_val)\n",
    "\n",
    "        # 모델의 Accuracy, Precision, Recall, F1 score, CSI 지수 확인\n",
    "        accuracy = accuracy_score(y_val, y_val_pred)\n",
    "        precision = precision_score(y_val, y_val_pred, average=\"weighted\")\n",
    "        recall = recall_score(y_val, y_val_pred, average=\"weighted\")\n",
    "        f1_score_ = f1_score(y_val, y_val_pred, average=\"weighted\")\n",
    "        csi_index_ = csi_index(y_val, y_val_pred)\n",
    "        # rootMeanSqLogErr = get_rmsle(y_val, y_val_pred)\n",
    "\n",
    "        # 결과를 리스트에 저장\n",
    "        models_results.append({\"Model\" : model_name,\n",
    "                               \"Accuracy\" : np.round(accuracy, 4),\n",
    "                               \"Precision\" : np.round(precision, 4),\n",
    "                               \"Recall\" : np.round(recall, 4),\n",
    "                               \"F1 Score\" : np.round(f1_score_, 4),\n",
    "                               \"CSI Index\" : np.round(csi_index_, 4)\n",
    "                               })\n",
    "\n",
    "    # 결과 리스트를 DataFrame으로 변환\n",
    "    models_df = pd.DataFrame(models_results)\n",
    "\n",
    "    print(f\"\\n======== Models {when} Hyper Parameter Tuning ========\\n\")\n",
    "\n",
    "    return models_df.sort_values(by=[\"CSI Index\", \"Accuracy\", \"F1 Score\"],\n",
    "                                 ascending=[False, True, False]\n",
    "                                 ).reset_index(drop=True)\n"
   ]
  },
  {
   "cell_type": "markdown",
   "metadata": {},
   "source": [
    "### 3-5. 하이퍼 파라미터 튜닝 전 모델 생성 (CatBoost)"
   ]
  },
  {
   "cell_type": "code",
   "execution_count": 73,
   "metadata": {},
   "outputs": [],
   "source": [
    "models = [\n",
    "    (\"Decision Tree\", DecisionTreeClassifier(random_state=42)),\n",
    "    (\"CatBoost\", CatBoostClassifier(loss_function='MultiClass', verbose=0, task_type=\"GPU\",random_state=42)),\n",
    "    # (\"Naive Bayes\", GaussianNB()),\n",
    "    # (\"Random Forest\", RandomForestClassifier(random_state=42))\n",
    "]"
   ]
  },
  {
   "cell_type": "code",
   "execution_count": 74,
   "metadata": {},
   "outputs": [
    {
     "name": "stdout",
     "output_type": "stream",
     "text": [
      "\n",
      "======== Models Before Hyper Parameter Tuning ========\n",
      "\n"
     ]
    },
    {
     "data": {
      "text/html": [
       "<div>\n",
       "<style scoped>\n",
       "    .dataframe tbody tr th:only-of-type {\n",
       "        vertical-align: middle;\n",
       "    }\n",
       "\n",
       "    .dataframe tbody tr th {\n",
       "        vertical-align: top;\n",
       "    }\n",
       "\n",
       "    .dataframe thead th {\n",
       "        text-align: right;\n",
       "    }\n",
       "</style>\n",
       "<table border=\"1\" class=\"dataframe\">\n",
       "  <thead>\n",
       "    <tr style=\"text-align: right;\">\n",
       "      <th></th>\n",
       "      <th>Model</th>\n",
       "      <th>Accuracy</th>\n",
       "      <th>Precision</th>\n",
       "      <th>Recall</th>\n",
       "      <th>F1 Score</th>\n",
       "      <th>CSI Index</th>\n",
       "    </tr>\n",
       "  </thead>\n",
       "  <tbody>\n",
       "    <tr>\n",
       "      <th>0</th>\n",
       "      <td>Decision Tree</td>\n",
       "      <td>0.9874</td>\n",
       "      <td>0.9883</td>\n",
       "      <td>0.9874</td>\n",
       "      <td>0.9878</td>\n",
       "      <td>0.2220</td>\n",
       "    </tr>\n",
       "    <tr>\n",
       "      <th>1</th>\n",
       "      <td>CatBoost</td>\n",
       "      <td>0.9913</td>\n",
       "      <td>0.9883</td>\n",
       "      <td>0.9913</td>\n",
       "      <td>0.9887</td>\n",
       "      <td>0.1827</td>\n",
       "    </tr>\n",
       "  </tbody>\n",
       "</table>\n",
       "</div>"
      ],
      "text/plain": [
       "           Model  Accuracy  Precision  Recall  F1 Score  CSI Index\n",
       "0  Decision Tree    0.9874     0.9883  0.9874    0.9878     0.2220\n",
       "1       CatBoost    0.9913     0.9883  0.9913    0.9887     0.1827"
      ]
     },
     "execution_count": 74,
     "metadata": {},
     "output_type": "execute_result"
    }
   ],
   "source": [
    "model_comparison(models, X_train_labeled, y_train, X_val_labeled, y_val)"
   ]
  },
  {
   "cell_type": "markdown",
   "metadata": {},
   "source": [
    "#### 3-5-2. 범주형 변수 인코딩 하지 않은 데이터셋 모델 생성 (CatBoost)"
   ]
  },
  {
   "cell_type": "code",
   "execution_count": 75,
   "metadata": {},
   "outputs": [],
   "source": [
    "X_train_no_enc = X_train.copy()\n",
    "X_val_no_enc = X_val.copy()"
   ]
  },
  {
   "cell_type": "code",
   "execution_count": 76,
   "metadata": {},
   "outputs": [],
   "source": [
    "def model_comparison_cat(models, X_train, y_train, X_val, y_val, when=\"Before\"):\n",
    "    models_results = []\n",
    "\n",
    "    for model_name, model in models:\n",
    "\n",
    "        # 모델 생성 및 훈련\n",
    "        # 트리 기반 모델들은 각 변수의 information gain을 기반으로 판단하기 때문에 굳이 스케일링 해줄 필요가 없다\n",
    "\n",
    "        if model_name in [\"CatBoost\", \"CatBoost_tuned\"]:\n",
    "\n",
    "            train_data = X_train_no_enc\n",
    "            eval_data = X_val_no_enc\n",
    "\n",
    "            # cat_features = ['month', 'stn_id', 're', 'dew_reached', \"ws10_dir\"]\n",
    "            cat_features = ['month', 'stn_id', 're', 'dew_reached']\n",
    "            # cat_features = ['stn_id', 're', 'dew_reached']\n",
    "            # cat_features = ['month', 'stn_id', 're', 'dew_reached']\n",
    "            # cat_features = ['month', 'stn_id']\n",
    "\n",
    "\n",
    "            train_label = y_train\n",
    "            eval_label = y_val\n",
    "\n",
    "            train_dataset = Pool(data=train_data,\n",
    "                                label=train_label,\n",
    "                                cat_features=cat_features)\n",
    "\n",
    "            eval_dataset = Pool(data=eval_data,\n",
    "                                label=eval_label,\n",
    "                                cat_features=cat_features)\n",
    "\n",
    "            # Initialize CatBoostClassifier\n",
    "            model = CatBoostClassifier(loss_function='MultiClass', \n",
    "                                            verbose=0, \n",
    "                                            task_type=\"GPU\",\n",
    "                                            devices=\"0\",\n",
    "                                            random_state=42)\n",
    "\n",
    "            # 모델 생성 및 훈련\n",
    "            model.fit(train_dataset)\n",
    "\n",
    "            # Robust Scaling 거치지 않은 train 데이터를 바탕으로 예측\n",
    "            # y_train_pred_cat = model.predict(X_train_no_enc)\n",
    "            y_val_pred_cat = model.predict(eval_dataset)\n",
    "\n",
    "            # 모델의 Accuracy, Precision, Recall, F1 score, CSI 지수 확인\n",
    "            accuracy = accuracy_score(y_val, y_val_pred_cat)\n",
    "            precision = precision_score(y_val, y_val_pred_cat, average=\"weighted\")\n",
    "            recall = recall_score(y_val, y_val_pred_cat, average=\"weighted\")\n",
    "            f1_score_ = f1_score(y_val, y_val_pred_cat, average=\"weighted\")\n",
    "            csi_index_ = csi_index(y_val, y_val_pred_cat)\n",
    "            # rootMeanSqLogErr = get_rmsle(y_val, y_val_pred_cat)\n",
    "\n",
    "            # 결과를 리스트에 저장\n",
    "            models_results.append({\"Model\" : model_name,\n",
    "                                \"Accuracy\" : np.round(accuracy, 4),\n",
    "                                \"Precision\" : np.round(precision, 4),\n",
    "                                \"Recall\" : np.round(recall, 4),\n",
    "                                \"F1 Score\" : np.round(f1_score_, 4),\n",
    "                                \"CSI Index\" : np.round(csi_index_, 4)\n",
    "                                })\n",
    "\n",
    "        else:\n",
    "            model.fit(X_train, y_train)\n",
    "\n",
    "            y_train_pred = model.predict(X_train)\n",
    "            y_val_pred = model.predict(X_val)\n",
    "\n",
    "            # 모델의 Accuracy, Precision, Recall, F1 score, CSI 지수 확인\n",
    "            accuracy = accuracy_score(y_val, y_val_pred)\n",
    "            precision = precision_score(y_val, y_val_pred, average=\"weighted\")\n",
    "            recall = recall_score(y_val, y_val_pred, average=\"weighted\")\n",
    "            f1_score_ = f1_score(y_val, y_val_pred, average=\"weighted\")\n",
    "            csi_index_ = csi_index(y_val, y_val_pred)\n",
    "            # rootMeanSqLogErr = get_rmsle(y_val, y_val_pred)\n",
    "\n",
    "            # 결과를 리스트에 저장\n",
    "            models_results.append({\"Model\" : model_name,\n",
    "                                \"Accuracy\" : np.round(accuracy, 4),\n",
    "                                \"Precision\" : np.round(precision, 4),\n",
    "                                \"Recall\" : np.round(recall, 4),\n",
    "                                \"F1 Score\" : np.round(f1_score_, 4),\n",
    "                                \"CSI Index\" : np.round(csi_index_, 4)\n",
    "                                })\n",
    "\n",
    "    # 결과 리스트를 DataFrame으로 변환\n",
    "    models_df = pd.DataFrame(models_results)\n",
    "\n",
    "    print(f\"\\n======== Models {when} Hyper Parameter Tuning ========\\n\")\n",
    "\n",
    "    return models_df.sort_values(by=[\"CSI Index\", \"Accuracy\", \"F1 Score\"],\n",
    "                                 ascending=[False, True, False]\n",
    "                                 ).reset_index(drop=True)\n"
   ]
  },
  {
   "cell_type": "code",
   "execution_count": 77,
   "metadata": {},
   "outputs": [
    {
     "name": "stdout",
     "output_type": "stream",
     "text": [
      "\n",
      "======== Models Before Hyper Parameter Tuning ========\n",
      "\n"
     ]
    },
    {
     "data": {
      "text/html": [
       "<div>\n",
       "<style scoped>\n",
       "    .dataframe tbody tr th:only-of-type {\n",
       "        vertical-align: middle;\n",
       "    }\n",
       "\n",
       "    .dataframe tbody tr th {\n",
       "        vertical-align: top;\n",
       "    }\n",
       "\n",
       "    .dataframe thead th {\n",
       "        text-align: right;\n",
       "    }\n",
       "</style>\n",
       "<table border=\"1\" class=\"dataframe\">\n",
       "  <thead>\n",
       "    <tr style=\"text-align: right;\">\n",
       "      <th></th>\n",
       "      <th>Model</th>\n",
       "      <th>Accuracy</th>\n",
       "      <th>Precision</th>\n",
       "      <th>Recall</th>\n",
       "      <th>F1 Score</th>\n",
       "      <th>CSI Index</th>\n",
       "    </tr>\n",
       "  </thead>\n",
       "  <tbody>\n",
       "    <tr>\n",
       "      <th>0</th>\n",
       "      <td>Decision Tree</td>\n",
       "      <td>0.9874</td>\n",
       "      <td>0.9883</td>\n",
       "      <td>0.9874</td>\n",
       "      <td>0.9878</td>\n",
       "      <td>0.2220</td>\n",
       "    </tr>\n",
       "    <tr>\n",
       "      <th>1</th>\n",
       "      <td>CatBoost</td>\n",
       "      <td>0.9913</td>\n",
       "      <td>0.9884</td>\n",
       "      <td>0.9913</td>\n",
       "      <td>0.9887</td>\n",
       "      <td>0.1876</td>\n",
       "    </tr>\n",
       "  </tbody>\n",
       "</table>\n",
       "</div>"
      ],
      "text/plain": [
       "           Model  Accuracy  Precision  Recall  F1 Score  CSI Index\n",
       "0  Decision Tree    0.9874     0.9883  0.9874    0.9878     0.2220\n",
       "1       CatBoost    0.9913     0.9884  0.9913    0.9887     0.1876"
      ]
     },
     "execution_count": 77,
     "metadata": {},
     "output_type": "execute_result"
    }
   ],
   "source": [
    "model_comparison_cat(models, X_train_labeled, y_train, X_val_labeled, y_val)"
   ]
  },
  {
   "cell_type": "markdown",
   "metadata": {},
   "source": [
    "#### 모델 학습"
   ]
  },
  {
   "cell_type": "code",
   "execution_count": 78,
   "metadata": {},
   "outputs": [],
   "source": [
    "train_data = X_train_no_enc\n",
    "eval_data = X_val_no_enc\n",
    "\n",
    "cat_features = ['month', 'stn_id', 're', 'dew_reached']\n",
    "\n",
    "train_label = y_train\n",
    "eval_label = y_val\n",
    "\n",
    "train_dataset = Pool(data=train_data,\n",
    "                    label=train_label,\n",
    "                    cat_features=cat_features)\n",
    "\n",
    "eval_dataset = Pool(data=eval_data,\n",
    "                    label=eval_label,\n",
    "                    cat_features=cat_features)"
   ]
  },
  {
   "cell_type": "code",
   "execution_count": 79,
   "metadata": {},
   "outputs": [
    {
     "data": {
      "text/plain": [
       "<catboost.core.CatBoostClassifier at 0x1a501580920>"
      ]
     },
     "execution_count": 79,
     "metadata": {},
     "output_type": "execute_result"
    }
   ],
   "source": [
    "cat_no_enc = CatBoostClassifier(loss_function='MultiClass', \n",
    "                                verbose=0, \n",
    "                                task_type=\"GPU\",\n",
    "                                devices=\"0\",\n",
    "                                random_state=42)\n",
    "\n",
    "cat_no_enc.fit(train_dataset)"
   ]
  },
  {
   "cell_type": "code",
   "execution_count": 80,
   "metadata": {},
   "outputs": [],
   "source": [
    "y_val_pred_cat = cat_no_enc.predict(eval_dataset)"
   ]
  },
  {
   "cell_type": "code",
   "execution_count": 81,
   "metadata": {},
   "outputs": [
    {
     "name": "stdout",
     "output_type": "stream",
     "text": [
      "[[   616    195     12   1144]\n",
      " [   163    730     91   2038]\n",
      " [    29    188    228   2600]\n",
      " [    79    170    108 775095]]\n"
     ]
    },
    {
     "data": {
      "text/plain": [
       "0.18758193302347753"
      ]
     },
     "execution_count": 81,
     "metadata": {},
     "output_type": "execute_result"
    }
   ],
   "source": [
    "cat_cm = confusion_matrix(y_val, y_val_pred_cat)\n",
    "print(cat_cm)\n",
    "\n",
    "csi_cat = csi_index(y_val, y_val_pred_cat)\n",
    "csi_cat"
   ]
  },
  {
   "cell_type": "code",
   "execution_count": 82,
   "metadata": {},
   "outputs": [
    {
     "data": {
      "image/png": "[encoded data removed]",
      "text/plain": [
       "<Figure size 1000x500 with 2 Axes>"
      ]
     },
     "metadata": {
      "image/png": {
       "height": 469,
       "width": 803
      }
     },
     "output_type": "display_data"
    }
   ],
   "source": [
    "# Confusion Matrix 시각화\n",
    "\n",
    "plt.figure(figsize=(10,5))\n",
    "\n",
    "# target 컬럼 값들 unique_value에 선언\n",
    "unique_value = np.unique(y_val_pred_cat, return_counts = False)\n",
    "\n",
    "# Confusion Matrix에 label 표시하기 위해 \"class\" + value 합쳐준다\n",
    "unique_value_list = []\n",
    "for i, value in enumerate(unique_value):\n",
    "    unique_value_list.append(\"class \" + str(int(value)))\n",
    "\n",
    "\n",
    "pred_labels = unique_value_list\n",
    "sns.heatmap(cat_cm, \n",
    "            annot=True, \n",
    "            fmt=\"d\", \n",
    "            cmap=\"Blues\", \n",
    "            xticklabels = pred_labels, \n",
    "            yticklabels = pred_labels)\n",
    "\n",
    "plt.title(f'Confusion Matrix with CatBoost (CSI Index : {np.round(csi_cat, 4)})')\n",
    "plt.xlabel('Predicted Label')\n",
    "plt.ylabel('True Label')\n",
    "plt.show()"
   ]
  },
  {
   "cell_type": "code",
   "execution_count": 70,
   "metadata": {},
   "outputs": [
    {
     "data": {
      "text/plain": [
       "class\n",
       "4.0    2208397\n",
       "3.0       8914\n",
       "2.0       8842\n",
       "1.0       5817\n",
       "Name: count, dtype: int64"
      ]
     },
     "execution_count": 70,
     "metadata": {},
     "output_type": "execute_result"
    }
   ],
   "source": [
    "y_train.value_counts()"
   ]
  },
  {
   "cell_type": "code",
   "execution_count": null,
   "metadata": {},
   "outputs": [],
   "source": []
  },
  {
   "cell_type": "markdown",
   "metadata": {},
   "source": [
    "### 3-4. 하이퍼 파라미터 튜닝"
   ]
  },
  {
   "cell_type": "markdown",
   "metadata": {},
   "source": [
    "#### 3-4-1. CatBoost 튜닝"
   ]
  },
  {
   "cell_type": "code",
   "execution_count": 83,
   "metadata": {},
   "outputs": [],
   "source": [
    "# optuna sampling seed 고정\n",
    "sampler = TPESampler(seed=42)"
   ]
  },
  {
   "cell_type": "code",
   "execution_count": 36,
   "metadata": {},
   "outputs": [],
   "source": [
    "# https://practicaldatascience.co.uk/machine-learning/how-to-tune-a-catboostclassifier-model-with-optuna\n",
    "# https://optuna.readthedocs.io/en/stable/tutorial/10_key_features/002_configurations.html#configurations\n",
    "# https://catboost.ai/en/docs/concepts/parameter-tuning#methods-for-hyperparameter-search-by-optuna\n",
    "\n",
    "def objective_cat(trial):\n",
    "    params = {\n",
    "        # \"loss_function\":'MultiClass',\n",
    "        \"iterations\": trial.suggest_int(\"iterations\", 100, 1000),\n",
    "        # \"iterations\" : trial.suggest_int('n_estimators', 500, 4000),\n",
    "        \"learning_rate\": trial.suggest_float(\"learning_rate\", 1e-3, 1e-1, log=True),\n",
    "        \"depth\": trial.suggest_int(\"depth\", 3, 10),\n",
    "        \"l2_leaf_reg\": trial.suggest_float(\"l2_leaf_reg\", 1e-8, 100.0, log=True),\n",
    "        \"bootstrap_type\": trial.suggest_categorical(\"bootstrap_type\", [\"Bayesian\", \"Poisson\"]),\n",
    "        \"random_strength\": trial.suggest_float(\"random_strength\", 1e-8, 10.0, log=True),\n",
    "        \"bagging_temperature\": trial.suggest_float(\"bagging_temperature\", 0.0, 1.0),\n",
    "        \"od_type\": trial.suggest_categorical(\"od_type\", [\"IncToDec\", \"Iter\"]),\n",
    "        \"od_wait\": trial.suggest_int(\"od_wait\", 10, 50),\n",
    "        # \"subsample\": trial.suggest_float(\"subsample\", 0.05, 1.0),\n",
    "        # \"colsample_bylevel\": trial.suggest_float(\"colsample_bylevel\", 0.05, 1.0),\n",
    "        \"min_data_in_leaf\": trial.suggest_int(\"min_data_in_leaf\", 1, 100),\n",
    "        # \"verbose\": False\n",
    "    }\n",
    "\n",
    "    model = CatBoostClassifier(**params,\n",
    "                               loss_function=\"MultiClass\",\n",
    "                               silent=True,\n",
    "                               task_type=\"GPU\",\n",
    "                               random_state=42)\n",
    "\n",
    "    model.fit(X_train_labeled, y_train)\n",
    "    predictions = model.predict(X_val_labeled)\n",
    "    csi = csi_index(y_val, predictions)\n",
    "\n",
    "    return csi"
   ]
  },
  {
   "cell_type": "code",
   "execution_count": 37,
   "metadata": {},
   "outputs": [
    {
     "name": "stderr",
     "output_type": "stream",
     "text": [
      "[I 2024-06-20 15:27:26,454] A new study created in memory with name: catboost\n",
      "[I 2024-06-20 15:27:43,428] Trial 0 finished with value: 0.12850265399333416 and parameters: {'iterations': 437, 'learning_rate': 0.07969454818643935, 'depth': 8, 'l2_leaf_reg': 0.00969582664451522, 'bootstrap_type': 'Bayesian', 'random_strength': 3.3323645788192616e-08, 'bagging_temperature': 0.8661761457749352, 'od_type': 'Iter', 'od_wait': 10, 'min_data_in_leaf': 97}. Best is trial 0 with value: 0.12850265399333416.\n",
      "[I 2024-06-20 15:27:51,306] Trial 1 finished with value: 0.0 and parameters: {'iterations': 850, 'learning_rate': 0.0026587543983272706, 'depth': 4, 'l2_leaf_reg': 6.8240955406304e-07, 'bootstrap_type': 'Poisson', 'random_strength': 7.71800699380605e-05, 'bagging_temperature': 0.2912291401980419, 'od_type': 'IncToDec', 'od_wait': 21, 'min_data_in_leaf': 37}. Best is trial 0 with value: 0.12850265399333416.\n",
      "[I 2024-06-20 15:28:03,302] Trial 2 finished with value: 0.030605499735589636 and parameters: {'iterations': 510, 'learning_rate': 0.037183641805732096, 'depth': 4, 'l2_leaf_reg': 0.0013878559259972313, 'bootstrap_type': 'Bayesian', 'random_strength': 0.0029369981104377003, 'bagging_temperature': 0.17052412368729153, 'od_type': 'Iter', 'od_wait': 49, 'min_data_in_leaf': 81}. Best is trial 0 with value: 0.12850265399333416.\n",
      "[I 2024-06-20 15:28:07,725] Trial 3 finished with value: 0.0 and parameters: {'iterations': 374, 'learning_rate': 0.0015679933916723015, 'depth': 8, 'l2_leaf_reg': 0.0002520721916536751, 'bootstrap_type': 'Poisson', 'random_strength': 2.039373116525212e-08, 'bagging_temperature': 0.9093204020787821, 'od_type': 'Iter', 'od_wait': 22, 'min_data_in_leaf': 53}. Best is trial 0 with value: 0.12850265399333416.\n",
      "[I 2024-06-20 15:28:48,414] Trial 4 finished with value: 0.017504376094023506 and parameters: {'iterations': 592, 'learning_rate': 0.0023426581058204046, 'depth': 10, 'l2_leaf_reg': 0.5640638061927871, 'bootstrap_type': 'Bayesian', 'random_strength': 0.002404915432737351, 'bagging_temperature': 0.9218742350231168, 'od_type': 'Iter', 'od_wait': 11, 'min_data_in_leaf': 33}. Best is trial 0 with value: 0.12850265399333416.\n",
      "[I 2024-06-20 15:28:53,363] Trial 5 finished with value: 0.0 and parameters: {'iterations': 450, 'learning_rate': 0.003488976654890368, 'depth': 9, 'l2_leaf_reg': 3.6943094166639305e-05, 'bootstrap_type': 'Poisson', 'random_strength': 1.8548894229694903e-07, 'bagging_temperature': 0.8021969807540397, 'od_type': 'Iter', 'od_wait': 41, 'min_data_in_leaf': 20}. Best is trial 0 with value: 0.12850265399333416.\n",
      "[I 2024-06-20 15:28:59,206] Trial 6 finished with value: 0.023342903507676944 and parameters: {'iterations': 104, 'learning_rate': 0.04274869455295218, 'depth': 8, 'l2_leaf_reg': 0.19501664486433953, 'bootstrap_type': 'Bayesian', 'random_strength': 1.683416412018213e-05, 'bagging_temperature': 0.11586905952512971, 'od_type': 'IncToDec', 'od_wait': 23, 'min_data_in_leaf': 7}. Best is trial 0 with value: 0.12850265399333416.\n",
      "[I 2024-06-20 15:29:16,871] Trial 7 finished with value: 0.012149298597194389 and parameters: {'iterations': 380, 'learning_rate': 0.004470608546778492, 'depth': 8, 'l2_leaf_reg': 0.023745138854603057, 'bootstrap_type': 'Bayesian', 'random_strength': 1.1921975182604538e-07, 'bagging_temperature': 0.713244787222995, 'od_type': 'IncToDec', 'od_wait': 41, 'min_data_in_leaf': 50}. Best is trial 0 with value: 0.12850265399333416.\n",
      "[I 2024-06-20 15:29:22,596] Trial 8 finished with value: 0.0 and parameters: {'iterations': 570, 'learning_rate': 0.007162786999897343, 'depth': 3, 'l2_leaf_reg': 1.1992625444272377e-07, 'bootstrap_type': 'Poisson', 'random_strength': 6.748446817464346e-06, 'bagging_temperature': 0.5085706911647028, 'od_type': 'IncToDec', 'od_wait': 26, 'min_data_in_leaf': 76}. Best is trial 0 with value: 0.12850265399333416.\n",
      "[I 2024-06-20 15:29:31,869] Trial 9 finished with value: 0.02829862312322701 and parameters: {'iterations': 306, 'learning_rate': 0.0014254757044027432, 'depth': 5, 'l2_leaf_reg': 4.094613109347322e-07, 'bootstrap_type': 'Bayesian', 'random_strength': 0.005019191993687105, 'bagging_temperature': 0.8714605901877177, 'od_type': 'IncToDec', 'od_wait': 46, 'min_data_in_leaf': 54}. Best is trial 0 with value: 0.12850265399333416.\n",
      "[I 2024-06-20 15:29:56,232] Trial 10 finished with value: 0.07002974714923153 and parameters: {'iterations': 800, 'learning_rate': 0.07340472227986776, 'depth': 6, 'l2_leaf_reg': 21.033106415444113, 'bootstrap_type': 'Bayesian', 'random_strength': 1.4756493047283814, 'bagging_temperature': 0.6074415617554525, 'od_type': 'Iter', 'od_wait': 11, 'min_data_in_leaf': 100}. Best is trial 0 with value: 0.12850265399333416.\n",
      "[I 2024-06-20 15:30:21,429] Trial 11 finished with value: 0.06046684877079712 and parameters: {'iterations': 848, 'learning_rate': 0.07791470666172784, 'depth': 6, 'l2_leaf_reg': 64.4440957814152, 'bootstrap_type': 'Bayesian', 'random_strength': 3.1435438438978305, 'bagging_temperature': 0.6008661887429185, 'od_type': 'Iter', 'od_wait': 10, 'min_data_in_leaf': 98}. Best is trial 0 with value: 0.12850265399333416.\n",
      "[I 2024-06-20 15:30:37,038] Trial 12 finished with value: 0.02541739347121854 and parameters: {'iterations': 700, 'learning_rate': 0.022148502825661876, 'depth': 6, 'l2_leaf_reg': 22.60068605998035, 'bootstrap_type': 'Bayesian', 'random_strength': 8.185652848091712, 'bagging_temperature': 0.35249858262874667, 'od_type': 'Iter', 'od_wait': 16, 'min_data_in_leaf': 100}. Best is trial 0 with value: 0.12850265399333416.\n",
      "[I 2024-06-20 15:31:12,564] Trial 13 finished with value: 0.15022724481021987 and parameters: {'iterations': 1000, 'learning_rate': 0.088487022118016, 'depth': 7, 'l2_leaf_reg': 1.9597053943018024, 'bootstrap_type': 'Bayesian', 'random_strength': 0.11807907742306739, 'bagging_temperature': 0.6666235095215836, 'od_type': 'Iter', 'od_wait': 31, 'min_data_in_leaf': 79}. Best is trial 13 with value: 0.15022724481021987.\n",
      "[I 2024-06-20 15:31:49,109] Trial 14 finished with value: 0.06106491249844855 and parameters: {'iterations': 1000, 'learning_rate': 0.01763697836025293, 'depth': 7, 'l2_leaf_reg': 0.018424939111915294, 'bootstrap_type': 'Bayesian', 'random_strength': 0.12922141789093058, 'bagging_temperature': 0.9976844538285258, 'od_type': 'Iter', 'od_wait': 34, 'min_data_in_leaf': 77}. Best is trial 13 with value: 0.15022724481021987.\n",
      "[I 2024-06-20 15:32:06,385] Trial 15 finished with value: 0.13398249722667324 and parameters: {'iterations': 245, 'learning_rate': 0.09159517668296738, 'depth': 10, 'l2_leaf_reg': 0.8169769867912269, 'bootstrap_type': 'Bayesian', 'random_strength': 0.1269902253237556, 'bagging_temperature': 0.7586750388290595, 'od_type': 'Iter', 'od_wait': 33, 'min_data_in_leaf': 86}. Best is trial 13 with value: 0.15022724481021987.\n",
      "[I 2024-06-20 15:32:17,706] Trial 16 finished with value: 0.04905989291495455 and parameters: {'iterations': 152, 'learning_rate': 0.04136007077217569, 'depth': 10, 'l2_leaf_reg': 1.6109780216310035, 'bootstrap_type': 'Bayesian', 'random_strength': 0.10351163679178885, 'bagging_temperature': 0.687251132087726, 'od_type': 'Iter', 'od_wait': 32, 'min_data_in_leaf': 66}. Best is trial 13 with value: 0.15022724481021987.\n",
      "[I 2024-06-20 15:33:09,814] Trial 17 finished with value: 0.06731246895181321 and parameters: {'iterations': 1000, 'learning_rate': 0.013227907907383964, 'depth': 9, 'l2_leaf_reg': 5.3157887457487805, 'bootstrap_type': 'Bayesian', 'random_strength': 0.09616612884893987, 'bagging_temperature': 0.4460495607012286, 'od_type': 'Iter', 'od_wait': 36, 'min_data_in_leaf': 85}. Best is trial 13 with value: 0.15022724481021987.\n",
      "[I 2024-06-20 15:33:13,196] Trial 18 finished with value: 0.0 and parameters: {'iterations': 248, 'learning_rate': 0.09852767339522597, 'depth': 7, 'l2_leaf_reg': 2.8606591329549132e-05, 'bootstrap_type': 'Poisson', 'random_strength': 0.029634287504931602, 'bagging_temperature': 0.7320834468418582, 'od_type': 'Iter', 'od_wait': 28, 'min_data_in_leaf': 70}. Best is trial 13 with value: 0.15022724481021987.\n",
      "[I 2024-06-20 15:33:48,249] Trial 19 finished with value: 0.11493257453915626 and parameters: {'iterations': 664, 'learning_rate': 0.03333434570823335, 'depth': 9, 'l2_leaf_reg': 0.13393029022436292, 'bootstrap_type': 'Bayesian', 'random_strength': 0.5839482157870645, 'bagging_temperature': 0.5708337413370526, 'od_type': 'Iter', 'od_wait': 38, 'min_data_in_leaf': 87}. Best is trial 13 with value: 0.15022724481021987.\n",
      "[I 2024-06-20 15:34:04,419] Trial 20 finished with value: 0.019 and parameters: {'iterations': 229, 'learning_rate': 0.008329381426541825, 'depth': 10, 'l2_leaf_reg': 2.2118845958753117, 'bootstrap_type': 'Bayesian', 'random_strength': 0.00034868116218423516, 'bagging_temperature': 0.017358403505768893, 'od_type': 'Iter', 'od_wait': 30, 'min_data_in_leaf': 61}. Best is trial 13 with value: 0.15022724481021987.\n",
      "[I 2024-06-20 15:34:20,930] Trial 21 finished with value: 0.0810575968222443 and parameters: {'iterations': 435, 'learning_rate': 0.059533315220159894, 'depth': 7, 'l2_leaf_reg': 0.009181639321828266, 'bootstrap_type': 'Bayesian', 'random_strength': 1.254445495611163e-06, 'bagging_temperature': 0.8025921156567402, 'od_type': 'Iter', 'od_wait': 17, 'min_data_in_leaf': 91}. Best is trial 13 with value: 0.15022724481021987.\n",
      "[I 2024-06-20 15:34:35,081] Trial 22 finished with value: 0.07649530400395452 and parameters: {'iterations': 301, 'learning_rate': 0.057168838776139444, 'depth': 8, 'l2_leaf_reg': 0.0017181346820347183, 'bootstrap_type': 'Bayesian', 'random_strength': 0.0003500091380662373, 'bagging_temperature': 0.7946145228622407, 'od_type': 'Iter', 'od_wait': 26, 'min_data_in_leaf': 89}. Best is trial 13 with value: 0.15022724481021987.\n",
      "[I 2024-06-20 15:34:45,901] Trial 23 finished with value: 0.10442959663449641 and parameters: {'iterations': 184, 'learning_rate': 0.09387721592332608, 'depth': 9, 'l2_leaf_reg': 0.07304484857244697, 'bootstrap_type': 'Bayesian', 'random_strength': 0.005593968236903707, 'bagging_temperature': 0.6834622297906345, 'od_type': 'Iter', 'od_wait': 32, 'min_data_in_leaf': 71}. Best is trial 13 with value: 0.15022724481021987.\n",
      "[I 2024-06-20 15:35:03,700] Trial 24 finished with value: 0.04477611940298507 and parameters: {'iterations': 473, 'learning_rate': 0.023093487310145842, 'depth': 7, 'l2_leaf_reg': 0.685122910466002, 'bootstrap_type': 'Bayesian', 'random_strength': 1.0054466020671164e-08, 'bagging_temperature': 0.8355135854921585, 'od_type': 'Iter', 'od_wait': 39, 'min_data_in_leaf': 91}. Best is trial 13 with value: 0.15022724481021987.\n",
      "[I 2024-06-20 15:35:14,254] Trial 25 finished with value: 0.04234446790016143 and parameters: {'iterations': 362, 'learning_rate': 0.05548387329459253, 'depth': 5, 'l2_leaf_reg': 0.004975238660213763, 'bootstrap_type': 'Bayesian', 'random_strength': 0.021199481352586397, 'bagging_temperature': 0.5001899884993684, 'od_type': 'Iter', 'od_wait': 16, 'min_data_in_leaf': 79}. Best is trial 13 with value: 0.15022724481021987.\n",
      "[I 2024-06-20 15:35:20,763] Trial 26 finished with value: 0.0 and parameters: {'iterations': 661, 'learning_rate': 0.028969313082476984, 'depth': 8, 'l2_leaf_reg': 0.0001715605308402952, 'bootstrap_type': 'Poisson', 'random_strength': 0.2682547079098937, 'bagging_temperature': 0.9399265148086288, 'od_type': 'IncToDec', 'od_wait': 29, 'min_data_in_leaf': 94}. Best is trial 13 with value: 0.15022724481021987.\n",
      "[I 2024-06-20 15:36:07,840] Trial 27 finished with value: 0.15621927236971483 and parameters: {'iterations': 732, 'learning_rate': 0.061711212692623654, 'depth': 10, 'l2_leaf_reg': 6.258074384548299, 'bootstrap_type': 'Bayesian', 'random_strength': 6.678890832789503e-05, 'bagging_temperature': 0.6397180562067, 'od_type': 'Iter', 'od_wait': 44, 'min_data_in_leaf': 61}. Best is trial 27 with value: 0.15621927236971483.\n",
      "[I 2024-06-20 15:37:06,130] Trial 28 finished with value: 0.08052527254707631 and parameters: {'iterations': 935, 'learning_rate': 0.052139144281777315, 'depth': 10, 'l2_leaf_reg': 93.05550686664408, 'bootstrap_type': 'Bayesian', 'random_strength': 0.0009053508358234803, 'bagging_temperature': 0.6541716001735779, 'od_type': 'Iter', 'od_wait': 45, 'min_data_in_leaf': 61}. Best is trial 27 with value: 0.15621927236971483.\n",
      "[I 2024-06-20 15:37:44,859] Trial 29 finished with value: 0.1495763232223996 and parameters: {'iterations': 754, 'learning_rate': 0.07148744675212015, 'depth': 9, 'l2_leaf_reg': 5.541174395616028, 'bootstrap_type': 'Bayesian', 'random_strength': 2.7792914205681874e-05, 'bagging_temperature': 0.4453985068001922, 'od_type': 'Iter', 'od_wait': 50, 'min_data_in_leaf': 42}. Best is trial 27 with value: 0.15621927236971483.\n",
      "[I 2024-06-20 15:38:26,623] Trial 30 finished with value: 0.049396540997884784 and parameters: {'iterations': 787, 'learning_rate': 0.01174781397817659, 'depth': 9, 'l2_leaf_reg': 15.23435521040566, 'bootstrap_type': 'Bayesian', 'random_strength': 6.234522362456408e-05, 'bagging_temperature': 0.40177179365661475, 'od_type': 'Iter', 'od_wait': 50, 'min_data_in_leaf': 44}. Best is trial 27 with value: 0.15621927236971483.\n",
      "[I 2024-06-20 15:39:12,778] Trial 31 finished with value: 0.17262925753491792 and parameters: {'iterations': 721, 'learning_rate': 0.08347984583467273, 'depth': 10, 'l2_leaf_reg': 7.2458469976169, 'bootstrap_type': 'Bayesian', 'random_strength': 9.08630979983158e-06, 'bagging_temperature': 0.5398356245184525, 'od_type': 'Iter', 'od_wait': 45, 'min_data_in_leaf': 26}. Best is trial 31 with value: 0.17262925753491792.\n",
      "[I 2024-06-20 15:40:00,654] Trial 32 finished with value: 0.17063005638636922 and parameters: {'iterations': 742, 'learning_rate': 0.06912135954593564, 'depth': 10, 'l2_leaf_reg': 5.084067353008751, 'bootstrap_type': 'Bayesian', 'random_strength': 3.125475051121112e-06, 'bagging_temperature': 0.5520752549584362, 'od_type': 'Iter', 'od_wait': 45, 'min_data_in_leaf': 25}. Best is trial 31 with value: 0.17262925753491792.\n",
      "[I 2024-06-20 15:40:58,463] Trial 33 finished with value: 0.14970501474926254 and parameters: {'iterations': 907, 'learning_rate': 0.045906704683371116, 'depth': 10, 'l2_leaf_reg': 6.270549944718349, 'bootstrap_type': 'Bayesian', 'random_strength': 2.6555919555218436e-06, 'bagging_temperature': 0.5469565916404845, 'od_type': 'Iter', 'od_wait': 45, 'min_data_in_leaf': 25}. Best is trial 31 with value: 0.17262925753491792.\n",
      "[I 2024-06-20 15:41:05,398] Trial 34 finished with value: 0.0 and parameters: {'iterations': 728, 'learning_rate': 0.06854253582680381, 'depth': 10, 'l2_leaf_reg': 0.24669419853728586, 'bootstrap_type': 'Poisson', 'random_strength': 0.0001353786893687122, 'bagging_temperature': 0.2973868273489816, 'od_type': 'Iter', 'od_wait': 47, 'min_data_in_leaf': 11}. Best is trial 31 with value: 0.17262925753491792.\n",
      "[I 2024-06-20 15:41:22,330] Trial 35 finished with value: 0.021242034237161065 and parameters: {'iterations': 860, 'learning_rate': 0.029082375073228965, 'depth': 3, 'l2_leaf_reg': 2.9031111426751797, 'bootstrap_type': 'Bayesian', 'random_strength': 7.327165103510794e-07, 'bagging_temperature': 0.6189186324344523, 'od_type': 'Iter', 'od_wait': 43, 'min_data_in_leaf': 30}. Best is trial 31 with value: 0.17262925753491792.\n",
      "[I 2024-06-20 15:41:55,351] Trial 36 finished with value: 0.0741246585547554 and parameters: {'iterations': 640, 'learning_rate': 0.03705229913946734, 'depth': 9, 'l2_leaf_reg': 23.017778886349785, 'bootstrap_type': 'Bayesian', 'random_strength': 1.000494797099199e-05, 'bagging_temperature': 0.5444196958762008, 'od_type': 'IncToDec', 'od_wait': 43, 'min_data_in_leaf': 18}. Best is trial 31 with value: 0.17262925753491792.\n",
      "[I 2024-06-20 15:42:01,495] Trial 37 finished with value: 0.0 and parameters: {'iterations': 617, 'learning_rate': 0.09987330496452135, 'depth': 4, 'l2_leaf_reg': 95.59043528993608, 'bootstrap_type': 'Poisson', 'random_strength': 2.5205661623929136e-07, 'bagging_temperature': 0.448139364189634, 'od_type': 'Iter', 'od_wait': 48, 'min_data_in_leaf': 35}. Best is trial 31 with value: 0.17262925753491792.\n",
      "[I 2024-06-20 15:42:36,530] Trial 38 finished with value: 0.1728834355828221 and parameters: {'iterations': 531, 'learning_rate': 0.06042957269441014, 'depth': 10, 'l2_leaf_reg': 0.05664037673349348, 'bootstrap_type': 'Bayesian', 'random_strength': 4.822534135760565e-06, 'bagging_temperature': 0.6473969778351402, 'od_type': 'Iter', 'od_wait': 42, 'min_data_in_leaf': 13}. Best is trial 38 with value: 0.1728834355828221.\n",
      "[I 2024-06-20 15:43:11,087] Trial 39 finished with value: 0.0706832298136646 and parameters: {'iterations': 518, 'learning_rate': 0.017979266686440835, 'depth': 10, 'l2_leaf_reg': 0.36783001577055846, 'bootstrap_type': 'Bayesian', 'random_strength': 4.014686291027886e-06, 'bagging_temperature': 0.21286635221015604, 'od_type': 'IncToDec', 'od_wait': 42, 'min_data_in_leaf': 1}. Best is trial 38 with value: 0.1728834355828221.\n",
      "[I 2024-06-20 15:43:16,524] Trial 40 finished with value: 0.0 and parameters: {'iterations': 526, 'learning_rate': 0.04934114453914739, 'depth': 9, 'l2_leaf_reg': 0.0601768522569606, 'bootstrap_type': 'Poisson', 'random_strength': 4.1385159299104125e-05, 'bagging_temperature': 0.3745021910002649, 'od_type': 'Iter', 'od_wait': 40, 'min_data_in_leaf': 15}. Best is trial 38 with value: 0.1728834355828221.\n",
      "[I 2024-06-20 15:44:02,641] Trial 41 finished with value: 0.18075980392156862 and parameters: {'iterations': 713, 'learning_rate': 0.06512476888838793, 'depth': 10, 'l2_leaf_reg': 1.9540205333883462, 'bootstrap_type': 'Bayesian', 'random_strength': 7.892031578087885e-07, 'bagging_temperature': 0.6464470635508613, 'od_type': 'Iter', 'od_wait': 36, 'min_data_in_leaf': 24}. Best is trial 41 with value: 0.18075980392156862.\n",
      "[I 2024-06-20 15:44:40,577] Trial 42 finished with value: 0.12074494326591022 and parameters: {'iterations': 593, 'learning_rate': 0.06619154768656074, 'depth': 10, 'l2_leaf_reg': 14.044017053012396, 'bootstrap_type': 'Bayesian', 'random_strength': 5.032900733966309e-07, 'bagging_temperature': 0.6411869658502167, 'od_type': 'Iter', 'od_wait': 36, 'min_data_in_leaf': 25}. Best is trial 41 with value: 0.18075980392156862.\n",
      "[I 2024-06-20 15:45:26,185] Trial 43 finished with value: 0.15356220007382798 and parameters: {'iterations': 702, 'learning_rate': 0.0422945309375492, 'depth': 10, 'l2_leaf_reg': 0.9083403757744986, 'bootstrap_type': 'Bayesian', 'random_strength': 2.441307868462252e-06, 'bagging_temperature': 0.566999774100265, 'od_type': 'Iter', 'od_wait': 44, 'min_data_in_leaf': 25}. Best is trial 41 with value: 0.18075980392156862.\n",
      "[I 2024-06-20 15:46:18,511] Trial 44 finished with value: 0.22924231420963448 and parameters: {'iterations': 804, 'learning_rate': 0.07504802997156956, 'depth': 10, 'l2_leaf_reg': 0.04926798977573663, 'bootstrap_type': 'Bayesian', 'random_strength': 8.147391269333127e-08, 'bagging_temperature': 0.5141465172459883, 'od_type': 'Iter', 'od_wait': 38, 'min_data_in_leaf': 6}. Best is trial 44 with value: 0.22924231420963448.\n",
      "[I 2024-06-20 15:47:00,900] Trial 45 finished with value: 0.20031699585466958 and parameters: {'iterations': 816, 'learning_rate': 0.07472233110659904, 'depth': 9, 'l2_leaf_reg': 0.11478689810697323, 'bootstrap_type': 'Bayesian', 'random_strength': 1.764182490686026e-07, 'bagging_temperature': 0.4961637597937188, 'od_type': 'IncToDec', 'od_wait': 37, 'min_data_in_leaf': 6}. Best is trial 44 with value: 0.22924231420963448.\n",
      "[I 2024-06-20 15:47:44,613] Trial 46 finished with value: 0.03624813153961136 and parameters: {'iterations': 819, 'learning_rate': 0.006287069147825519, 'depth': 9, 'l2_leaf_reg': 0.033545560469819616, 'bootstrap_type': 'Bayesian', 'random_strength': 3.777342947480532e-08, 'bagging_temperature': 0.4872710431617479, 'od_type': 'IncToDec', 'od_wait': 37, 'min_data_in_leaf': 4}. Best is trial 44 with value: 0.22924231420963448.\n",
      "[I 2024-06-20 15:48:30,445] Trial 47 finished with value: 0.21163186012627488 and parameters: {'iterations': 889, 'learning_rate': 0.07847662471020311, 'depth': 9, 'l2_leaf_reg': 0.0053058387613493735, 'bootstrap_type': 'Bayesian', 'random_strength': 7.27375485572758e-08, 'bagging_temperature': 0.3134946651582055, 'od_type': 'IncToDec', 'od_wait': 34, 'min_data_in_leaf': 9}. Best is trial 44 with value: 0.22924231420963448.\n",
      "[I 2024-06-20 15:49:10,658] Trial 48 finished with value: 0.005256241787122208 and parameters: {'iterations': 913, 'learning_rate': 0.0022865869378469314, 'depth': 8, 'l2_leaf_reg': 0.0005317967094447149, 'bootstrap_type': 'Bayesian', 'random_strength': 6.555030219983396e-08, 'bagging_temperature': 0.26753312817999986, 'od_type': 'IncToDec', 'od_wait': 35, 'min_data_in_leaf': 9}. Best is trial 44 with value: 0.22924231420963448.\n",
      "[I 2024-06-20 15:49:54,578] Trial 49 finished with value: 0.1409371146732429 and parameters: {'iterations': 841, 'learning_rate': 0.035344525266671686, 'depth': 9, 'l2_leaf_reg': 0.0038993992673048796, 'bootstrap_type': 'Bayesian', 'random_strength': 1.336152888746642e-07, 'bagging_temperature': 0.14421949861787697, 'od_type': 'IncToDec', 'od_wait': 40, 'min_data_in_leaf': 12}. Best is trial 44 with value: 0.22924231420963448.\n",
      "[I 2024-06-20 15:50:35,255] Trial 50 finished with value: 0.09994125422235277 and parameters: {'iterations': 947, 'learning_rate': 0.07963693879238545, 'depth': 8, 'l2_leaf_reg': 1.3739033139717642e-08, 'bootstrap_type': 'Bayesian', 'random_strength': 1.9492126271650485e-08, 'bagging_temperature': 0.3119906648436482, 'od_type': 'IncToDec', 'od_wait': 38, 'min_data_in_leaf': 5}. Best is trial 44 with value: 0.22924231420963448.\n",
      "[I 2024-06-20 15:51:26,924] Trial 51 finished with value: 0.017776664997496243 and parameters: {'iterations': 779, 'learning_rate': 0.0011292802388172395, 'depth': 10, 'l2_leaf_reg': 0.13740924440249752, 'bootstrap_type': 'Bayesian', 'random_strength': 3.8556691465382834e-07, 'bagging_temperature': 0.4828076025853524, 'od_type': 'IncToDec', 'od_wait': 34, 'min_data_in_leaf': 19}. Best is trial 44 with value: 0.22924231420963448.\n",
      "[I 2024-06-20 15:52:12,582] Trial 52 finished with value: 0.21439844603617822 and parameters: {'iterations': 875, 'learning_rate': 0.08042698147802936, 'depth': 9, 'l2_leaf_reg': 0.018274820891933632, 'bootstrap_type': 'Bayesian', 'random_strength': 8.599862400006329e-08, 'bagging_temperature': 0.4090426989678063, 'od_type': 'IncToDec', 'od_wait': 41, 'min_data_in_leaf': 15}. Best is trial 44 with value: 0.22924231420963448.\n",
      "[I 2024-06-20 15:52:59,920] Trial 53 finished with value: 0.1760520181572813 and parameters: {'iterations': 905, 'learning_rate': 0.04904710979160339, 'depth': 9, 'l2_leaf_reg': 0.014418020093072513, 'bootstrap_type': 'Bayesian', 'random_strength': 9.527358560604166e-08, 'bagging_temperature': 0.3565096284221134, 'od_type': 'IncToDec', 'od_wait': 41, 'min_data_in_leaf': 15}. Best is trial 44 with value: 0.22924231420963448.\n",
      "[I 2024-06-20 15:53:45,640] Trial 54 finished with value: 0.2073704694721479 and parameters: {'iterations': 881, 'learning_rate': 0.0776329199856063, 'depth': 9, 'l2_leaf_reg': 0.011254386694179502, 'bootstrap_type': 'Bayesian', 'random_strength': 5.489399751856933e-08, 'bagging_temperature': 0.24219295008003977, 'od_type': 'IncToDec', 'od_wait': 38, 'min_data_in_leaf': 1}. Best is trial 44 with value: 0.22924231420963448.\n",
      "[I 2024-06-20 15:54:22,665] Trial 55 finished with value: 0.18372575332438698 and parameters: {'iterations': 871, 'learning_rate': 0.07986088569068234, 'depth': 8, 'l2_leaf_reg': 0.0026992599376090775, 'bootstrap_type': 'Bayesian', 'random_strength': 3.137268616352226e-08, 'bagging_temperature': 0.22858763183954045, 'od_type': 'IncToDec', 'od_wait': 37, 'min_data_in_leaf': 1}. Best is trial 44 with value: 0.22924231420963448.\n",
      "[I 2024-06-20 15:55:00,025] Trial 56 finished with value: 0.08586592991129853 and parameters: {'iterations': 871, 'learning_rate': 0.0801444757442281, 'depth': 8, 'l2_leaf_reg': 7.775706319256852e-05, 'bootstrap_type': 'Bayesian', 'random_strength': 3.8396813490571956e-08, 'bagging_temperature': 0.2427239435562345, 'od_type': 'IncToDec', 'od_wait': 39, 'min_data_in_leaf': 2}. Best is trial 44 with value: 0.22924231420963448.\n",
      "[I 2024-06-20 15:55:08,738] Trial 57 finished with value: 0.0 and parameters: {'iterations': 964, 'learning_rate': 0.08400269956272849, 'depth': 8, 'l2_leaf_reg': 0.000755384825446075, 'bootstrap_type': 'Poisson', 'random_strength': 1.3399027442596407e-08, 'bagging_temperature': 0.11135282125388113, 'od_type': 'IncToDec', 'od_wait': 37, 'min_data_in_leaf': 6}. Best is trial 44 with value: 0.22924231420963448.\n",
      "[I 2024-06-20 15:55:54,534] Trial 58 finished with value: 0.16304481276856966 and parameters: {'iterations': 883, 'learning_rate': 0.042333563225741305, 'depth': 9, 'l2_leaf_reg': 0.002692105793389285, 'bootstrap_type': 'Bayesian', 'random_strength': 5.6812981252107476e-08, 'bagging_temperature': 0.20299182293815915, 'od_type': 'IncToDec', 'od_wait': 34, 'min_data_in_leaf': 8}. Best is trial 44 with value: 0.22924231420963448.\n",
      "[I 2024-06-20 15:56:28,512] Trial 59 finished with value: 0.0988970132606271 and parameters: {'iterations': 814, 'learning_rate': 0.02921351870782395, 'depth': 8, 'l2_leaf_reg': 0.007107342213089703, 'bootstrap_type': 'Bayesian', 'random_strength': 1.7899450268065986e-07, 'bagging_temperature': 0.3118154985739407, 'od_type': 'IncToDec', 'od_wait': 33, 'min_data_in_leaf': 9}. Best is trial 44 with value: 0.22924231420963448.\n",
      "[I 2024-06-20 15:57:18,401] Trial 60 finished with value: 0.24036144578313254 and parameters: {'iterations': 966, 'learning_rate': 0.09794813784502736, 'depth': 9, 'l2_leaf_reg': 0.021217065634989235, 'bootstrap_type': 'Bayesian', 'random_strength': 2.6209324064749942e-08, 'bagging_temperature': 0.40828008214886186, 'od_type': 'IncToDec', 'od_wait': 31, 'min_data_in_leaf': 1}. Best is trial 60 with value: 0.24036144578313254.\n",
      "[I 2024-06-20 15:58:10,240] Trial 61 finished with value: 0.23447860156720915 and parameters: {'iterations': 968, 'learning_rate': 0.09838278877220193, 'depth': 9, 'l2_leaf_reg': 0.027488383609517657, 'bootstrap_type': 'Bayesian', 'random_strength': 3.237383029465639e-08, 'bagging_temperature': 0.4243800244130577, 'od_type': 'IncToDec', 'od_wait': 26, 'min_data_in_leaf': 1}. Best is trial 60 with value: 0.24036144578313254.\n",
      "[I 2024-06-20 15:59:00,610] Trial 62 finished with value: 0.23626705300012074 and parameters: {'iterations': 967, 'learning_rate': 0.09548713167944911, 'depth': 9, 'l2_leaf_reg': 0.021922716820773177, 'bootstrap_type': 'Bayesian', 'random_strength': 2.2738419333702407e-08, 'bagging_temperature': 0.4160600409457718, 'od_type': 'IncToDec', 'od_wait': 26, 'min_data_in_leaf': 5}. Best is trial 60 with value: 0.24036144578313254.\n",
      "[I 2024-06-20 15:59:50,453] Trial 63 finished with value: 0.2298961603477421 and parameters: {'iterations': 969, 'learning_rate': 0.09117261735878911, 'depth': 9, 'l2_leaf_reg': 0.02311976650912601, 'bootstrap_type': 'Bayesian', 'random_strength': 2.1779524865163682e-08, 'bagging_temperature': 0.40037961230065156, 'od_type': 'IncToDec', 'od_wait': 25, 'min_data_in_leaf': 4}. Best is trial 60 with value: 0.24036144578313254.\n",
      "[I 2024-06-20 16:00:40,741] Trial 64 finished with value: 0.232317146644174 and parameters: {'iterations': 977, 'learning_rate': 0.09569260818277271, 'depth': 9, 'l2_leaf_reg': 0.028150623907642718, 'bootstrap_type': 'Bayesian', 'random_strength': 2.4626764778557702e-08, 'bagging_temperature': 0.427822258733241, 'od_type': 'IncToDec', 'od_wait': 24, 'min_data_in_leaf': 17}. Best is trial 60 with value: 0.24036144578313254.\n",
      "[I 2024-06-20 16:01:30,624] Trial 65 finished with value: 0.23093629343629343 and parameters: {'iterations': 971, 'learning_rate': 0.0923563906529398, 'depth': 9, 'l2_leaf_reg': 0.022025877281815553, 'bootstrap_type': 'Bayesian', 'random_strength': 1.6738559257712455e-08, 'bagging_temperature': 0.40715803749306867, 'od_type': 'IncToDec', 'od_wait': 23, 'min_data_in_leaf': 15}. Best is trial 60 with value: 0.24036144578313254.\n",
      "[I 2024-06-20 16:02:21,171] Trial 66 finished with value: 0.23418102928769435 and parameters: {'iterations': 979, 'learning_rate': 0.0979877124196495, 'depth': 9, 'l2_leaf_reg': 0.03246436159973723, 'bootstrap_type': 'Bayesian', 'random_strength': 1.3037444690437328e-08, 'bagging_temperature': 0.4106306711996057, 'od_type': 'IncToDec', 'od_wait': 21, 'min_data_in_leaf': 4}. Best is trial 60 with value: 0.24036144578313254.\n",
      "[I 2024-06-20 16:03:02,021] Trial 67 finished with value: 0.2040247302703358 and parameters: {'iterations': 976, 'learning_rate': 0.09861133691417777, 'depth': 8, 'l2_leaf_reg': 0.02677476517646882, 'bootstrap_type': 'Bayesian', 'random_strength': 1.7457665624910636e-08, 'bagging_temperature': 0.3856104103979885, 'od_type': 'IncToDec', 'od_wait': 24, 'min_data_in_leaf': 21}. Best is trial 60 with value: 0.24036144578313254.\n",
      "[I 2024-06-20 16:03:52,997] Trial 68 finished with value: 0.2243613028211648 and parameters: {'iterations': 979, 'learning_rate': 0.09462066649023214, 'depth': 9, 'l2_leaf_reg': 0.45059176751043467, 'bootstrap_type': 'Bayesian', 'random_strength': 1.0257451023557523e-08, 'bagging_temperature': 0.42767103847915305, 'od_type': 'IncToDec', 'od_wait': 20, 'min_data_in_leaf': 17}. Best is trial 60 with value: 0.24036144578313254.\n",
      "[I 2024-06-20 16:04:01,320] Trial 69 finished with value: 0.0 and parameters: {'iterations': 940, 'learning_rate': 0.05657303968902462, 'depth': 9, 'l2_leaf_reg': 8.288993588619989e-06, 'bootstrap_type': 'Poisson', 'random_strength': 1.8175385212367465e-08, 'bagging_temperature': 0.45972549012803166, 'od_type': 'IncToDec', 'od_wait': 27, 'min_data_in_leaf': 4}. Best is trial 60 with value: 0.24036144578313254.\n",
      "[I 2024-06-20 16:04:34,844] Trial 70 finished with value: 0.10841225626740947 and parameters: {'iterations': 928, 'learning_rate': 0.08961647159144619, 'depth': 7, 'l2_leaf_reg': 0.0019559112265343914, 'bootstrap_type': 'Bayesian', 'random_strength': 2.9121103336449318e-08, 'bagging_temperature': 0.34361604024333, 'od_type': 'IncToDec', 'od_wait': 21, 'min_data_in_leaf': 12}. Best is trial 60 with value: 0.24036144578313254.\n",
      "[I 2024-06-20 16:05:26,411] Trial 71 finished with value: 0.23595370147094286 and parameters: {'iterations': 998, 'learning_rate': 0.09738491997041254, 'depth': 9, 'l2_leaf_reg': 0.03714558027093505, 'bootstrap_type': 'Bayesian', 'random_strength': 2.7877381335666347e-08, 'bagging_temperature': 0.4058229903330809, 'od_type': 'IncToDec', 'od_wait': 24, 'min_data_in_leaf': 4}. Best is trial 60 with value: 0.24036144578313254.\n",
      "[I 2024-06-20 16:06:16,039] Trial 72 finished with value: 0.20416615909367766 and parameters: {'iterations': 962, 'learning_rate': 0.06468087485335161, 'depth': 9, 'l2_leaf_reg': 0.02579593987459108, 'bootstrap_type': 'Bayesian', 'random_strength': 2.732356317271791e-08, 'bagging_temperature': 0.4225628427085383, 'od_type': 'IncToDec', 'od_wait': 24, 'min_data_in_leaf': 4}. Best is trial 60 with value: 0.24036144578313254.\n",
      "[I 2024-06-20 16:07:07,254] Trial 73 finished with value: 0.23075993717530507 and parameters: {'iterations': 990, 'learning_rate': 0.0988582404289859, 'depth': 9, 'l2_leaf_reg': 0.23350339312637983, 'bootstrap_type': 'Bayesian', 'random_strength': 1.0070899553587888e-08, 'bagging_temperature': 0.38783071705063227, 'od_type': 'IncToDec', 'od_wait': 19, 'min_data_in_leaf': 10}. Best is trial 60 with value: 0.24036144578313254.\n",
      "[I 2024-06-20 16:07:48,870] Trial 74 finished with value: 0.20089936801166747 and parameters: {'iterations': 998, 'learning_rate': 0.099749786645928, 'depth': 8, 'l2_leaf_reg': 0.23933657679546316, 'bootstrap_type': 'Bayesian', 'random_strength': 2.9445119075864603e-07, 'bagging_temperature': 0.3488699162386477, 'od_type': 'IncToDec', 'od_wait': 19, 'min_data_in_leaf': 21}. Best is trial 60 with value: 0.24036144578313254.\n",
      "[I 2024-06-20 16:08:37,069] Trial 75 finished with value: 0.18595546855884512 and parameters: {'iterations': 925, 'learning_rate': 0.05513279395979247, 'depth': 9, 'l2_leaf_reg': 0.07796105389519062, 'bootstrap_type': 'Bayesian', 'random_strength': 4.61355401397469e-08, 'bagging_temperature': 0.46119036028107263, 'od_type': 'IncToDec', 'od_wait': 22, 'min_data_in_leaf': 9}. Best is trial 60 with value: 0.24036144578313254.\n",
      "[I 2024-06-20 16:09:30,697] Trial 76 finished with value: 0.08314370733415018 and parameters: {'iterations': 999, 'learning_rate': 0.0876833506422597, 'depth': 9, 'l2_leaf_reg': 0.0010196565683337085, 'bootstrap_type': 'Bayesian', 'random_strength': 1.2990070240240285e-08, 'bagging_temperature': 0.36987712696222474, 'od_type': 'IncToDec', 'od_wait': 13, 'min_data_in_leaf': 11}. Best is trial 60 with value: 0.24036144578313254.\n",
      "[I 2024-06-20 16:10:11,884] Trial 77 finished with value: 0.01837270341207349 and parameters: {'iterations': 949, 'learning_rate': 0.003727468863659354, 'depth': 8, 'l2_leaf_reg': 0.009350291626397196, 'bootstrap_type': 'Bayesian', 'random_strength': 1.0984970471355694e-08, 'bagging_temperature': 0.42925881514345465, 'od_type': 'IncToDec', 'od_wait': 18, 'min_data_in_leaf': 30}. Best is trial 60 with value: 0.24036144578313254.\n",
      "[I 2024-06-20 16:10:41,933] Trial 78 finished with value: 0.1112618724559023 and parameters: {'iterations': 977, 'learning_rate': 0.06883022308614395, 'depth': 6, 'l2_leaf_reg': 0.10833705528194351, 'bootstrap_type': 'Bayesian', 'random_strength': 1.2145316846235394e-07, 'bagging_temperature': 0.3411123733150853, 'od_type': 'IncToDec', 'od_wait': 29, 'min_data_in_leaf': 15}. Best is trial 60 with value: 0.24036144578313254.\n",
      "[I 2024-06-20 16:11:28,428] Trial 79 finished with value: 0.21423384168482207 and parameters: {'iterations': 910, 'learning_rate': 0.09933004408984034, 'depth': 9, 'l2_leaf_reg': 0.9757418259733024, 'bootstrap_type': 'Bayesian', 'random_strength': 2.543847316007407e-08, 'bagging_temperature': 0.5208110908236628, 'od_type': 'IncToDec', 'od_wait': 23, 'min_data_in_leaf': 7}. Best is trial 60 with value: 0.24036144578313254.\n",
      "[I 2024-06-20 16:11:51,190] Trial 80 finished with value: 0.07370246500681284 and parameters: {'iterations': 844, 'learning_rate': 0.06220717928315655, 'depth': 5, 'l2_leaf_reg': 0.04405942386166819, 'bootstrap_type': 'Bayesian', 'random_strength': 1.428302494246318e-07, 'bagging_temperature': 0.46996298316476337, 'od_type': 'IncToDec', 'od_wait': 27, 'min_data_in_leaf': 3}. Best is trial 60 with value: 0.24036144578313254.\n",
      "[I 2024-06-20 16:12:41,266] Trial 81 finished with value: 0.2216963960684383 and parameters: {'iterations': 953, 'learning_rate': 0.08620909096815739, 'depth': 9, 'l2_leaf_reg': 0.1966199579346576, 'bootstrap_type': 'Bayesian', 'random_strength': 2.077549359940118e-08, 'bagging_temperature': 0.3931355182599495, 'od_type': 'IncToDec', 'od_wait': 25, 'min_data_in_leaf': 1}. Best is trial 60 with value: 0.24036144578313254.\n",
      "[I 2024-06-20 16:13:31,759] Trial 82 finished with value: 0.23299915448725692 and parameters: {'iterations': 975, 'learning_rate': 0.0891708063319166, 'depth': 9, 'l2_leaf_reg': 0.013578846084311962, 'bootstrap_type': 'Bayesian', 'random_strength': 4.239264105353955e-08, 'bagging_temperature': 0.4196333530057545, 'od_type': 'IncToDec', 'od_wait': 22, 'min_data_in_leaf': 12}. Best is trial 60 with value: 0.24036144578313254.\n",
      "[I 2024-06-20 16:14:23,010] Trial 83 finished with value: 0.2168044747081712 and parameters: {'iterations': 991, 'learning_rate': 0.07403692447532366, 'depth': 9, 'l2_leaf_reg': 0.014125965817916582, 'bootstrap_type': 'Bayesian', 'random_strength': 3.668081864028556e-08, 'bagging_temperature': 0.43644833863918464, 'od_type': 'IncToDec', 'od_wait': 22, 'min_data_in_leaf': 13}. Best is trial 60 with value: 0.24036144578313254.\n",
      "[I 2024-06-20 16:15:10,808] Trial 84 finished with value: 0.20311549227211878 and parameters: {'iterations': 927, 'learning_rate': 0.06796694511726316, 'depth': 9, 'l2_leaf_reg': 0.006350870649125347, 'bootstrap_type': 'Bayesian', 'random_strength': 4.9052689276751895e-08, 'bagging_temperature': 0.32868650800517446, 'od_type': 'IncToDec', 'od_wait': 20, 'min_data_in_leaf': 11}. Best is trial 60 with value: 0.24036144578313254.\n",
      "[I 2024-06-20 16:15:59,662] Trial 85 finished with value: 0.22578304510823557 and parameters: {'iterations': 947, 'learning_rate': 0.08890813632618781, 'depth': 9, 'l2_leaf_reg': 0.03960757831072769, 'bootstrap_type': 'Bayesian', 'random_strength': 1.0515703281841322e-08, 'bagging_temperature': 0.3770763067206331, 'od_type': 'IncToDec', 'od_wait': 15, 'min_data_in_leaf': 7}. Best is trial 60 with value: 0.24036144578313254.\n",
      "[I 2024-06-20 16:16:08,063] Trial 86 finished with value: 0.0 and parameters: {'iterations': 897, 'learning_rate': 0.05299598935451566, 'depth': 8, 'l2_leaf_reg': 0.3348615818920274, 'bootstrap_type': 'Poisson', 'random_strength': 2.765618907231674e-07, 'bagging_temperature': 0.28326270903465844, 'od_type': 'IncToDec', 'od_wait': 30, 'min_data_in_leaf': 17}. Best is trial 60 with value: 0.24036144578313254.\n",
      "[I 2024-06-20 16:17:10,432] Trial 87 finished with value: 0.25162142685563293 and parameters: {'iterations': 969, 'learning_rate': 0.0878195653278425, 'depth': 10, 'l2_leaf_reg': 0.11654433378634937, 'bootstrap_type': 'Bayesian', 'random_strength': 1.3986307347140839e-06, 'bagging_temperature': 0.5870994114781527, 'od_type': 'IncToDec', 'od_wait': 23, 'min_data_in_leaf': 9}. Best is trial 87 with value: 0.25162142685563293.\n",
      "[I 2024-06-20 16:18:14,385] Trial 88 finished with value: 0.22241127856101117 and parameters: {'iterations': 969, 'learning_rate': 0.05946586846079832, 'depth': 10, 'l2_leaf_reg': 0.08431468314537856, 'bootstrap_type': 'Bayesian', 'random_strength': 1.1324243538026553e-06, 'bagging_temperature': 0.5758388805026702, 'od_type': 'IncToDec', 'od_wait': 26, 'min_data_in_leaf': 41}. Best is trial 87 with value: 0.25162142685563293.\n",
      "[I 2024-06-20 16:19:14,339] Trial 89 finished with value: 0.2385486981677917 and parameters: {'iterations': 927, 'learning_rate': 0.07179463061436674, 'depth': 10, 'l2_leaf_reg': 0.004516611513895602, 'bootstrap_type': 'Bayesian', 'random_strength': 4.777110122938993e-07, 'bagging_temperature': 0.5210451417302772, 'od_type': 'IncToDec', 'od_wait': 23, 'min_data_in_leaf': 7}. Best is trial 87 with value: 0.25162142685563293.\n",
      "[I 2024-06-20 16:20:18,607] Trial 90 finished with value: 0.10125306063661242 and parameters: {'iterations': 923, 'learning_rate': 0.08526130617463092, 'depth': 10, 'l2_leaf_reg': 0.0004825835938382025, 'bootstrap_type': 'Bayesian', 'random_strength': 1.5616819161217024e-06, 'bagging_temperature': 0.5124529154070004, 'od_type': 'IncToDec', 'od_wait': 28, 'min_data_in_leaf': 7}. Best is trial 87 with value: 0.25162142685563293.\n",
      "[I 2024-06-20 16:21:11,352] Trial 91 finished with value: 0.24273833915873208 and parameters: {'iterations': 951, 'learning_rate': 0.06993374626074052, 'depth': 10, 'l2_leaf_reg': 0.004586933973618455, 'bootstrap_type': 'Bayesian', 'random_strength': 4.0143302374082616e-07, 'bagging_temperature': 0.4789879850058307, 'od_type': 'IncToDec', 'od_wait': 23, 'min_data_in_leaf': 50}. Best is trial 87 with value: 0.25162142685563293.\n",
      "[I 2024-06-20 16:22:02,040] Trial 92 finished with value: 0.23753771876885937 and parameters: {'iterations': 937, 'learning_rate': 0.07279865739197453, 'depth': 10, 'l2_leaf_reg': 0.003595108176795162, 'bootstrap_type': 'Bayesian', 'random_strength': 7.732422910366735e-07, 'bagging_temperature': 0.4766122613640013, 'od_type': 'IncToDec', 'od_wait': 24, 'min_data_in_leaf': 51}. Best is trial 87 with value: 0.25162142685563293.\n",
      "[I 2024-06-20 16:22:50,698] Trial 93 finished with value: 0.23757106568283537 and parameters: {'iterations': 896, 'learning_rate': 0.07211694133024031, 'depth': 10, 'l2_leaf_reg': 0.004179253405402651, 'bootstrap_type': 'Bayesian', 'random_strength': 5.424855270557167e-07, 'bagging_temperature': 0.5933292501496674, 'od_type': 'IncToDec', 'od_wait': 21, 'min_data_in_leaf': 53}. Best is trial 87 with value: 0.25162142685563293.\n",
      "[I 2024-06-20 16:23:41,984] Trial 94 finished with value: 0.24122542515981185 and parameters: {'iterations': 945, 'learning_rate': 0.07193151884467737, 'depth': 10, 'l2_leaf_reg': 0.0035727708835040905, 'bootstrap_type': 'Bayesian', 'random_strength': 5.837848009919771e-07, 'bagging_temperature': 0.594903295238004, 'od_type': 'IncToDec', 'od_wait': 21, 'min_data_in_leaf': 51}. Best is trial 87 with value: 0.25162142685563293.\n",
      "[I 2024-06-20 16:24:30,901] Trial 95 finished with value: 0.19733789229454146 and parameters: {'iterations': 902, 'learning_rate': 0.04619116178485705, 'depth': 10, 'l2_leaf_reg': 0.004013643996570457, 'bootstrap_type': 'Bayesian', 'random_strength': 8.394722416374043e-07, 'bagging_temperature': 0.5925425193446194, 'od_type': 'IncToDec', 'od_wait': 25, 'min_data_in_leaf': 51}. Best is trial 87 with value: 0.25162142685563293.\n",
      "[I 2024-06-20 16:25:22,413] Trial 96 finished with value: 0.21665702718334298 and parameters: {'iterations': 938, 'learning_rate': 0.07001772696272476, 'depth': 10, 'l2_leaf_reg': 0.0010554192900928394, 'bootstrap_type': 'Bayesian', 'random_strength': 4.1088471432850583e-07, 'bagging_temperature': 0.7273605561439083, 'od_type': 'IncToDec', 'od_wait': 27, 'min_data_in_leaf': 47}. Best is trial 87 with value: 0.25162142685563293.\n",
      "[I 2024-06-20 16:26:10,824] Trial 97 finished with value: 0.09827049714161662 and parameters: {'iterations': 852, 'learning_rate': 0.0727496759661235, 'depth': 10, 'l2_leaf_reg': 0.00018752109627629367, 'bootstrap_type': 'Bayesian', 'random_strength': 1.9806385689105675e-06, 'bagging_temperature': 0.6883024471441676, 'od_type': 'IncToDec', 'od_wait': 23, 'min_data_in_leaf': 57}. Best is trial 87 with value: 0.25162142685563293.\n",
      "[I 2024-06-20 16:27:02,547] Trial 98 finished with value: 0.20619059224957348 and parameters: {'iterations': 949, 'learning_rate': 0.04787868798095626, 'depth': 10, 'l2_leaf_reg': 0.0023763153302498222, 'bootstrap_type': 'Bayesian', 'random_strength': 5.692651979512544e-07, 'bagging_temperature': 0.5296346519094414, 'od_type': 'IncToDec', 'od_wait': 26, 'min_data_in_leaf': 45}. Best is trial 87 with value: 0.25162142685563293.\n",
      "[I 2024-06-20 16:27:09,380] Trial 99 finished with value: 0.0 and parameters: {'iterations': 895, 'learning_rate': 0.06123689116594069, 'depth': 10, 'l2_leaf_reg': 0.00041832816475512137, 'bootstrap_type': 'Poisson', 'random_strength': 8.292546018889473e-06, 'bagging_temperature': 0.6201253041630609, 'od_type': 'IncToDec', 'od_wait': 30, 'min_data_in_leaf': 55}. Best is trial 87 with value: 0.25162142685563293.\n"
     ]
    }
   ],
   "source": [
    "study_cat = optuna.create_study(study_name=\"catboost\", direction='maximize', pruner=\"MedianPruner\", sampler=sampler)\n",
    "study_cat.optimize(objective_cat, n_trials=100)"
   ]
  },
  {
   "cell_type": "code",
   "execution_count": 38,
   "metadata": {},
   "outputs": [
    {
     "name": "stdout",
     "output_type": "stream",
     "text": [
      "Best hyperparameters:\n",
      "{'iterations': 969, 'learning_rate': 0.0878195653278425, 'depth': 10, 'l2_leaf_reg': 0.11654433378634937, 'bootstrap_type': 'Bayesian', 'random_strength': 1.3986307347140839e-06, 'bagging_temperature': 0.5870994114781527, 'od_type': 'IncToDec', 'od_wait': 23, 'min_data_in_leaf': 9}\n",
      "-----------------------------------------------------------------------------------------------------------------\n",
      "Best CSI Index:\n",
      "0.25162142685563293\n"
     ]
    }
   ],
   "source": [
    "print(\"Best hyperparameters:\", study_cat.best_params, sep=\"\\n\")\n",
    "print(\"-----------------------------------------------------------------------------------------------------------------\")\n",
    "print(\"Best CSI Index:\", study_cat.best_value, sep=\"\\n\")"
   ]
  },
  {
   "cell_type": "code",
   "execution_count": 47,
   "metadata": {},
   "outputs": [
    {
     "ename": "ValueError",
     "evalue": "Mime type rendering requires nbformat>=4.2.0 but it is not installed",
     "output_type": "error",
     "traceback": [
      "\u001b[1;31m---------------------------------------------------------------------------\u001b[0m",
      "\u001b[1;31mValueError\u001b[0m                                Traceback (most recent call last)",
      "File \u001b[1;32mc:\\Users\\aryij\\anaconda3\\envs\\weather2\\Lib\\site-packages\\IPython\\core\\formatters.py:925\u001b[0m, in \u001b[0;36mIPythonDisplayFormatter.__call__\u001b[1;34m(self, obj)\u001b[0m\n\u001b[0;32m    923\u001b[0m method \u001b[38;5;241m=\u001b[39m get_real_method(obj, \u001b[38;5;28mself\u001b[39m\u001b[38;5;241m.\u001b[39mprint_method)\n\u001b[0;32m    924\u001b[0m \u001b[38;5;28;01mif\u001b[39;00m method \u001b[38;5;129;01mis\u001b[39;00m \u001b[38;5;129;01mnot\u001b[39;00m \u001b[38;5;28;01mNone\u001b[39;00m:\n\u001b[1;32m--> 925\u001b[0m     method()\n\u001b[0;32m    926\u001b[0m     \u001b[38;5;28;01mreturn\u001b[39;00m \u001b[38;5;28;01mTrue\u001b[39;00m\n",
      "File \u001b[1;32mc:\\Users\\aryij\\anaconda3\\envs\\weather2\\Lib\\site-packages\\plotly\\basedatatypes.py:832\u001b[0m, in \u001b[0;36mBaseFigure._ipython_display_\u001b[1;34m(self)\u001b[0m\n\u001b[0;32m    829\u001b[0m \u001b[38;5;28;01mimport\u001b[39;00m \u001b[38;5;21;01mplotly\u001b[39;00m\u001b[38;5;21;01m.\u001b[39;00m\u001b[38;5;21;01mio\u001b[39;00m \u001b[38;5;28;01mas\u001b[39;00m \u001b[38;5;21;01mpio\u001b[39;00m\n\u001b[0;32m    831\u001b[0m \u001b[38;5;28;01mif\u001b[39;00m pio\u001b[38;5;241m.\u001b[39mrenderers\u001b[38;5;241m.\u001b[39mrender_on_display \u001b[38;5;129;01mand\u001b[39;00m pio\u001b[38;5;241m.\u001b[39mrenderers\u001b[38;5;241m.\u001b[39mdefault:\n\u001b[1;32m--> 832\u001b[0m     pio\u001b[38;5;241m.\u001b[39mshow(\u001b[38;5;28mself\u001b[39m)\n\u001b[0;32m    833\u001b[0m \u001b[38;5;28;01melse\u001b[39;00m:\n\u001b[0;32m    834\u001b[0m     \u001b[38;5;28mprint\u001b[39m(\u001b[38;5;28mrepr\u001b[39m(\u001b[38;5;28mself\u001b[39m))\n",
      "File \u001b[1;32mc:\\Users\\aryij\\anaconda3\\envs\\weather2\\Lib\\site-packages\\plotly\\io\\_renderers.py:394\u001b[0m, in \u001b[0;36mshow\u001b[1;34m(fig, renderer, validate, **kwargs)\u001b[0m\n\u001b[0;32m    389\u001b[0m         \u001b[38;5;28;01mraise\u001b[39;00m \u001b[38;5;167;01mValueError\u001b[39;00m(\n\u001b[0;32m    390\u001b[0m             \u001b[38;5;124m\"\u001b[39m\u001b[38;5;124mMime type rendering requires ipython but it is not installed\u001b[39m\u001b[38;5;124m\"\u001b[39m\n\u001b[0;32m    391\u001b[0m         )\n\u001b[0;32m    393\u001b[0m     \u001b[38;5;28;01mif\u001b[39;00m \u001b[38;5;129;01mnot\u001b[39;00m nbformat \u001b[38;5;129;01mor\u001b[39;00m Version(nbformat\u001b[38;5;241m.\u001b[39m__version__) \u001b[38;5;241m<\u001b[39m Version(\u001b[38;5;124m\"\u001b[39m\u001b[38;5;124m4.2.0\u001b[39m\u001b[38;5;124m\"\u001b[39m):\n\u001b[1;32m--> 394\u001b[0m         \u001b[38;5;28;01mraise\u001b[39;00m \u001b[38;5;167;01mValueError\u001b[39;00m(\n\u001b[0;32m    395\u001b[0m             \u001b[38;5;124m\"\u001b[39m\u001b[38;5;124mMime type rendering requires nbformat>=4.2.0 but it is not installed\u001b[39m\u001b[38;5;124m\"\u001b[39m\n\u001b[0;32m    396\u001b[0m         )\n\u001b[0;32m    398\u001b[0m     ipython_display\u001b[38;5;241m.\u001b[39mdisplay(bundle, raw\u001b[38;5;241m=\u001b[39m\u001b[38;5;28;01mTrue\u001b[39;00m)\n\u001b[0;32m    400\u001b[0m \u001b[38;5;66;03m# external renderers\u001b[39;00m\n",
      "\u001b[1;31mValueError\u001b[0m: Mime type rendering requires nbformat>=4.2.0 but it is not installed"
     ]
    },
    {
     "data": {
      "application/vnd.plotly.v1+json": {
       "config": {
        "plotlyServerURL": "https://plot.ly"
       },
       "data": [
        {
         "cliponaxis": false,
         "hovertemplate": [
          "random_strength (FloatDistribution): 0.000727617502335013<extra></extra>",
          "l2_leaf_reg (FloatDistribution): 0.0016466069500772331<extra></extra>",
          "od_type (CategoricalDistribution): 0.003049161142826468<extra></extra>",
          "bagging_temperature (FloatDistribution): 0.012851442534485832<extra></extra>",
          "min_data_in_leaf (IntDistribution): 0.018278405917158156<extra></extra>",
          "od_wait (IntDistribution): 0.040996698796146855<extra></extra>",
          "depth (IntDistribution): 0.09428634405916232<extra></extra>",
          "iterations (IntDistribution): 0.10174062493360612<extra></extra>",
          "learning_rate (FloatDistribution): 0.24178010825288918<extra></extra>",
          "bootstrap_type (CategoricalDistribution): 0.48464298991131266<extra></extra>"
         ],
         "name": "Objective Value",
         "orientation": "h",
         "text": [
          "<0.01",
          "<0.01",
          "<0.01",
          "0.01",
          "0.02",
          "0.04",
          "0.09",
          "0.10",
          "0.24",
          "0.48"
         ],
         "textposition": "outside",
         "type": "bar",
         "x": [
          0.000727617502335013,
          0.0016466069500772331,
          0.003049161142826468,
          0.012851442534485832,
          0.018278405917158156,
          0.040996698796146855,
          0.09428634405916232,
          0.10174062493360612,
          0.24178010825288918,
          0.48464298991131266
         ],
         "y": [
          "random_strength",
          "l2_leaf_reg",
          "od_type",
          "bagging_temperature",
          "min_data_in_leaf",
          "od_wait",
          "depth",
          "iterations",
          "learning_rate",
          "bootstrap_type"
         ]
        }
       ],
       "layout": {
        "template": {
         "data": {
          "bar": [
           {
            "error_x": {
             "color": "#2a3f5f"
            },
            "error_y": {
             "color": "#2a3f5f"
            },
            "marker": {
             "line": {
              "color": "#E5ECF6",
              "width": 0.5
             },
             "pattern": {
              "fillmode": "overlay",
              "size": 10,
              "solidity": 0.2
             }
            },
            "type": "bar"
           }
          ],
          "barpolar": [
           {
            "marker": {
             "line": {
              "color": "#E5ECF6",
              "width": 0.5
             },
             "pattern": {
              "fillmode": "overlay",
              "size": 10,
              "solidity": 0.2
             }
            },
            "type": "barpolar"
           }
          ],
          "carpet": [
           {
            "aaxis": {
             "endlinecolor": "#2a3f5f",
             "gridcolor": "white",
             "linecolor": "white",
             "minorgridcolor": "white",
             "startlinecolor": "#2a3f5f"
            },
            "baxis": {
             "endlinecolor": "#2a3f5f",
             "gridcolor": "white",
             "linecolor": "white",
             "minorgridcolor": "white",
             "startlinecolor": "#2a3f5f"
            },
            "type": "carpet"
           }
          ],
          "choropleth": [
           {
            "colorbar": {
             "outlinewidth": 0,
             "ticks": ""
            },
            "type": "choropleth"
           }
          ],
          "contour": [
           {
            "colorbar": {
             "outlinewidth": 0,
             "ticks": ""
            },
            "colorscale": [
             [
              0,
              "#0d0887"
             ],
             [
              0.1111111111111111,
              "#46039f"
             ],
             [
              0.2222222222222222,
              "#7201a8"
             ],
             [
              0.3333333333333333,
              "#9c179e"
             ],
             [
              0.4444444444444444,
              "#bd3786"
             ],
             [
              0.5555555555555556,
              "#d8576b"
             ],
             [
              0.6666666666666666,
              "#ed7953"
             ],
             [
              0.7777777777777778,
              "#fb9f3a"
             ],
             [
              0.8888888888888888,
              "#fdca26"
             ],
             [
              1,
              "#f0f921"
             ]
            ],
            "type": "contour"
           }
          ],
          "contourcarpet": [
           {
            "colorbar": {
             "outlinewidth": 0,
             "ticks": ""
            },
            "type": "contourcarpet"
           }
          ],
          "heatmap": [
           {
            "colorbar": {
             "outlinewidth": 0,
             "ticks": ""
            },
            "colorscale": [
             [
              0,
              "#0d0887"
             ],
             [
              0.1111111111111111,
              "#46039f"
             ],
             [
              0.2222222222222222,
              "#7201a8"
             ],
             [
              0.3333333333333333,
              "#9c179e"
             ],
             [
              0.4444444444444444,
              "#bd3786"
             ],
             [
              0.5555555555555556,
              "#d8576b"
             ],
             [
              0.6666666666666666,
              "#ed7953"
             ],
             [
              0.7777777777777778,
              "#fb9f3a"
             ],
             [
              0.8888888888888888,
              "#fdca26"
             ],
             [
              1,
              "#f0f921"
             ]
            ],
            "type": "heatmap"
           }
          ],
          "heatmapgl": [
           {
            "colorbar": {
             "outlinewidth": 0,
             "ticks": ""
            },
            "colorscale": [
             [
              0,
              "#0d0887"
             ],
             [
              0.1111111111111111,
              "#46039f"
             ],
             [
              0.2222222222222222,
              "#7201a8"
             ],
             [
              0.3333333333333333,
              "#9c179e"
             ],
             [
              0.4444444444444444,
              "#bd3786"
             ],
             [
              0.5555555555555556,
              "#d8576b"
             ],
             [
              0.6666666666666666,
              "#ed7953"
             ],
             [
              0.7777777777777778,
              "#fb9f3a"
             ],
             [
              0.8888888888888888,
              "#fdca26"
             ],
             [
              1,
              "#f0f921"
             ]
            ],
            "type": "heatmapgl"
           }
          ],
          "histogram": [
           {
            "marker": {
             "pattern": {
              "fillmode": "overlay",
              "size": 10,
              "solidity": 0.2
             }
            },
            "type": "histogram"
           }
          ],
          "histogram2d": [
           {
            "colorbar": {
             "outlinewidth": 0,
             "ticks": ""
            },
            "colorscale": [
             [
              0,
              "#0d0887"
             ],
             [
              0.1111111111111111,
              "#46039f"
             ],
             [
              0.2222222222222222,
              "#7201a8"
             ],
             [
              0.3333333333333333,
              "#9c179e"
             ],
             [
              0.4444444444444444,
              "#bd3786"
             ],
             [
              0.5555555555555556,
              "#d8576b"
             ],
             [
              0.6666666666666666,
              "#ed7953"
             ],
             [
              0.7777777777777778,
              "#fb9f3a"
             ],
             [
              0.8888888888888888,
              "#fdca26"
             ],
             [
              1,
              "#f0f921"
             ]
            ],
            "type": "histogram2d"
           }
          ],
          "histogram2dcontour": [
           {
            "colorbar": {
             "outlinewidth": 0,
             "ticks": ""
            },
            "colorscale": [
             [
              0,
              "#0d0887"
             ],
             [
              0.1111111111111111,
              "#46039f"
             ],
             [
              0.2222222222222222,
              "#7201a8"
             ],
             [
              0.3333333333333333,
              "#9c179e"
             ],
             [
              0.4444444444444444,
              "#bd3786"
             ],
             [
              0.5555555555555556,
              "#d8576b"
             ],
             [
              0.6666666666666666,
              "#ed7953"
             ],
             [
              0.7777777777777778,
              "#fb9f3a"
             ],
             [
              0.8888888888888888,
              "#fdca26"
             ],
             [
              1,
              "#f0f921"
             ]
            ],
            "type": "histogram2dcontour"
           }
          ],
          "mesh3d": [
           {
            "colorbar": {
             "outlinewidth": 0,
             "ticks": ""
            },
            "type": "mesh3d"
           }
          ],
          "parcoords": [
           {
            "line": {
             "colorbar": {
              "outlinewidth": 0,
              "ticks": ""
             }
            },
            "type": "parcoords"
           }
          ],
          "pie": [
           {
            "automargin": true,
            "type": "pie"
           }
          ],
          "scatter": [
           {
            "fillpattern": {
             "fillmode": "overlay",
             "size": 10,
             "solidity": 0.2
            },
            "type": "scatter"
           }
          ],
          "scatter3d": [
           {
            "line": {
             "colorbar": {
              "outlinewidth": 0,
              "ticks": ""
             }
            },
            "marker": {
             "colorbar": {
              "outlinewidth": 0,
              "ticks": ""
             }
            },
            "type": "scatter3d"
           }
          ],
          "scattercarpet": [
           {
            "marker": {
             "colorbar": {
              "outlinewidth": 0,
              "ticks": ""
             }
            },
            "type": "scattercarpet"
           }
          ],
          "scattergeo": [
           {
            "marker": {
             "colorbar": {
              "outlinewidth": 0,
              "ticks": ""
             }
            },
            "type": "scattergeo"
           }
          ],
          "scattergl": [
           {
            "marker": {
             "colorbar": {
              "outlinewidth": 0,
              "ticks": ""
             }
            },
            "type": "scattergl"
           }
          ],
          "scattermapbox": [
           {
            "marker": {
             "colorbar": {
              "outlinewidth": 0,
              "ticks": ""
             }
            },
            "type": "scattermapbox"
           }
          ],
          "scatterpolar": [
           {
            "marker": {
             "colorbar": {
              "outlinewidth": 0,
              "ticks": ""
             }
            },
            "type": "scatterpolar"
           }
          ],
          "scatterpolargl": [
           {
            "marker": {
             "colorbar": {
              "outlinewidth": 0,
              "ticks": ""
             }
            },
            "type": "scatterpolargl"
           }
          ],
          "scatterternary": [
           {
            "marker": {
             "colorbar": {
              "outlinewidth": 0,
              "ticks": ""
             }
            },
            "type": "scatterternary"
           }
          ],
          "surface": [
           {
            "colorbar": {
             "outlinewidth": 0,
             "ticks": ""
            },
            "colorscale": [
             [
              0,
              "#0d0887"
             ],
             [
              0.1111111111111111,
              "#46039f"
             ],
             [
              0.2222222222222222,
              "#7201a8"
             ],
             [
              0.3333333333333333,
              "#9c179e"
             ],
             [
              0.4444444444444444,
              "#bd3786"
             ],
             [
              0.5555555555555556,
              "#d8576b"
             ],
             [
              0.6666666666666666,
              "#ed7953"
             ],
             [
              0.7777777777777778,
              "#fb9f3a"
             ],
             [
              0.8888888888888888,
              "#fdca26"
             ],
             [
              1,
              "#f0f921"
             ]
            ],
            "type": "surface"
           }
          ],
          "table": [
           {
            "cells": {
             "fill": {
              "color": "#EBF0F8"
             },
             "line": {
              "color": "white"
             }
            },
            "header": {
             "fill": {
              "color": "#C8D4E3"
             },
             "line": {
              "color": "white"
             }
            },
            "type": "table"
           }
          ]
         },
         "layout": {
          "annotationdefaults": {
           "arrowcolor": "#2a3f5f",
           "arrowhead": 0,
           "arrowwidth": 1
          },
          "autotypenumbers": "strict",
          "coloraxis": {
           "colorbar": {
            "outlinewidth": 0,
            "ticks": ""
           }
          },
          "colorscale": {
           "diverging": [
            [
             0,
             "#8e0152"
            ],
            [
             0.1,
             "#c51b7d"
            ],
            [
             0.2,
             "#de77ae"
            ],
            [
             0.3,
             "#f1b6da"
            ],
            [
             0.4,
             "#fde0ef"
            ],
            [
             0.5,
             "#f7f7f7"
            ],
            [
             0.6,
             "#e6f5d0"
            ],
            [
             0.7,
             "#b8e186"
            ],
            [
             0.8,
             "#7fbc41"
            ],
            [
             0.9,
             "#4d9221"
            ],
            [
             1,
             "#276419"
            ]
           ],
           "sequential": [
            [
             0,
             "#0d0887"
            ],
            [
             0.1111111111111111,
             "#46039f"
            ],
            [
             0.2222222222222222,
             "#7201a8"
            ],
            [
             0.3333333333333333,
             "#9c179e"
            ],
            [
             0.4444444444444444,
             "#bd3786"
            ],
            [
             0.5555555555555556,
             "#d8576b"
            ],
            [
             0.6666666666666666,
             "#ed7953"
            ],
            [
             0.7777777777777778,
             "#fb9f3a"
            ],
            [
             0.8888888888888888,
             "#fdca26"
            ],
            [
             1,
             "#f0f921"
            ]
           ],
           "sequentialminus": [
            [
             0,
             "#0d0887"
            ],
            [
             0.1111111111111111,
             "#46039f"
            ],
            [
             0.2222222222222222,
             "#7201a8"
            ],
            [
             0.3333333333333333,
             "#9c179e"
            ],
            [
             0.4444444444444444,
             "#bd3786"
            ],
            [
             0.5555555555555556,
             "#d8576b"
            ],
            [
             0.6666666666666666,
             "#ed7953"
            ],
            [
             0.7777777777777778,
             "#fb9f3a"
            ],
            [
             0.8888888888888888,
             "#fdca26"
            ],
            [
             1,
             "#f0f921"
            ]
           ]
          },
          "colorway": [
           "#636efa",
           "#EF553B",
           "#00cc96",
           "#ab63fa",
           "#FFA15A",
           "#19d3f3",
           "#FF6692",
           "#B6E880",
           "#FF97FF",
           "#FECB52"
          ],
          "font": {
           "color": "#2a3f5f"
          },
          "geo": {
           "bgcolor": "white",
           "lakecolor": "white",
           "landcolor": "#E5ECF6",
           "showlakes": true,
           "showland": true,
           "subunitcolor": "white"
          },
          "hoverlabel": {
           "align": "left"
          },
          "hovermode": "closest",
          "mapbox": {
           "style": "light"
          },
          "paper_bgcolor": "white",
          "plot_bgcolor": "#E5ECF6",
          "polar": {
           "angularaxis": {
            "gridcolor": "white",
            "linecolor": "white",
            "ticks": ""
           },
           "bgcolor": "#E5ECF6",
           "radialaxis": {
            "gridcolor": "white",
            "linecolor": "white",
            "ticks": ""
           }
          },
          "scene": {
           "xaxis": {
            "backgroundcolor": "#E5ECF6",
            "gridcolor": "white",
            "gridwidth": 2,
            "linecolor": "white",
            "showbackground": true,
            "ticks": "",
            "zerolinecolor": "white"
           },
           "yaxis": {
            "backgroundcolor": "#E5ECF6",
            "gridcolor": "white",
            "gridwidth": 2,
            "linecolor": "white",
            "showbackground": true,
            "ticks": "",
            "zerolinecolor": "white"
           },
           "zaxis": {
            "backgroundcolor": "#E5ECF6",
            "gridcolor": "white",
            "gridwidth": 2,
            "linecolor": "white",
            "showbackground": true,
            "ticks": "",
            "zerolinecolor": "white"
           }
          },
          "shapedefaults": {
           "line": {
            "color": "#2a3f5f"
           }
          },
          "ternary": {
           "aaxis": {
            "gridcolor": "white",
            "linecolor": "white",
            "ticks": ""
           },
           "baxis": {
            "gridcolor": "white",
            "linecolor": "white",
            "ticks": ""
           },
           "bgcolor": "#E5ECF6",
           "caxis": {
            "gridcolor": "white",
            "linecolor": "white",
            "ticks": ""
           }
          },
          "title": {
           "x": 0.05
          },
          "xaxis": {
           "automargin": true,
           "gridcolor": "white",
           "linecolor": "white",
           "ticks": "",
           "title": {
            "standoff": 15
           },
           "zerolinecolor": "white",
           "zerolinewidth": 2
          },
          "yaxis": {
           "automargin": true,
           "gridcolor": "white",
           "linecolor": "white",
           "ticks": "",
           "title": {
            "standoff": 15
           },
           "zerolinecolor": "white",
           "zerolinewidth": 2
          }
         }
        },
        "title": {
         "text": "Hyperparameter Importances"
        },
        "xaxis": {
         "title": {
          "text": "Hyperparameter Importance"
         }
        },
        "yaxis": {
         "title": {
          "text": "Hyperparameter"
         }
        }
       }
      },
      "text/html": [
       "<div>                        <script type=\"text/javascript\">window.PlotlyConfig = {MathJaxConfig: 'local'};</script>\n",
       "        <script charset=\"utf-8\" src=\"https://cdn.plot.ly/plotly-2.32.0.min.js\"></script>                <div id=\"62ec9893-d38a-467f-adee-a5f31b2ee658\" class=\"plotly-graph-div\" style=\"height:100%; width:100%;\"></div>            <script type=\"text/javascript\">                                    window.PLOTLYENV=window.PLOTLYENV || {};                                    if (document.getElementById(\"62ec9893-d38a-467f-adee-a5f31b2ee658\")) {                    Plotly.newPlot(                        \"62ec9893-d38a-467f-adee-a5f31b2ee658\",                        [{\"cliponaxis\":false,\"hovertemplate\":[\"random_strength (FloatDistribution): 0.000727617502335013\\u003cextra\\u003e\\u003c\\u002fextra\\u003e\",\"l2_leaf_reg (FloatDistribution): 0.0016466069500772331\\u003cextra\\u003e\\u003c\\u002fextra\\u003e\",\"od_type (CategoricalDistribution): 0.003049161142826468\\u003cextra\\u003e\\u003c\\u002fextra\\u003e\",\"bagging_temperature (FloatDistribution): 0.012851442534485832\\u003cextra\\u003e\\u003c\\u002fextra\\u003e\",\"min_data_in_leaf (IntDistribution): 0.018278405917158156\\u003cextra\\u003e\\u003c\\u002fextra\\u003e\",\"od_wait (IntDistribution): 0.040996698796146855\\u003cextra\\u003e\\u003c\\u002fextra\\u003e\",\"depth (IntDistribution): 0.09428634405916232\\u003cextra\\u003e\\u003c\\u002fextra\\u003e\",\"iterations (IntDistribution): 0.10174062493360612\\u003cextra\\u003e\\u003c\\u002fextra\\u003e\",\"learning_rate (FloatDistribution): 0.24178010825288918\\u003cextra\\u003e\\u003c\\u002fextra\\u003e\",\"bootstrap_type (CategoricalDistribution): 0.48464298991131266\\u003cextra\\u003e\\u003c\\u002fextra\\u003e\"],\"name\":\"Objective Value\",\"orientation\":\"h\",\"text\":[\"\\u003c0.01\",\"\\u003c0.01\",\"\\u003c0.01\",\"0.01\",\"0.02\",\"0.04\",\"0.09\",\"0.10\",\"0.24\",\"0.48\"],\"textposition\":\"outside\",\"x\":[0.000727617502335013,0.0016466069500772331,0.003049161142826468,0.012851442534485832,0.018278405917158156,0.040996698796146855,0.09428634405916232,0.10174062493360612,0.24178010825288918,0.48464298991131266],\"y\":[\"random_strength\",\"l2_leaf_reg\",\"od_type\",\"bagging_temperature\",\"min_data_in_leaf\",\"od_wait\",\"depth\",\"iterations\",\"learning_rate\",\"bootstrap_type\"],\"type\":\"bar\"}],                        {\"title\":{\"text\":\"Hyperparameter Importances\"},\"xaxis\":{\"title\":{\"text\":\"Hyperparameter Importance\"}},\"yaxis\":{\"title\":{\"text\":\"Hyperparameter\"}},\"template\":{\"data\":{\"histogram2dcontour\":[{\"type\":\"histogram2dcontour\",\"colorbar\":{\"outlinewidth\":0,\"ticks\":\"\"},\"colorscale\":[[0.0,\"#0d0887\"],[0.1111111111111111,\"#46039f\"],[0.2222222222222222,\"#7201a8\"],[0.3333333333333333,\"#9c179e\"],[0.4444444444444444,\"#bd3786\"],[0.5555555555555556,\"#d8576b\"],[0.6666666666666666,\"#ed7953\"],[0.7777777777777778,\"#fb9f3a\"],[0.8888888888888888,\"#fdca26\"],[1.0,\"#f0f921\"]]}],\"choropleth\":[{\"type\":\"choropleth\",\"colorbar\":{\"outlinewidth\":0,\"ticks\":\"\"}}],\"histogram2d\":[{\"type\":\"histogram2d\",\"colorbar\":{\"outlinewidth\":0,\"ticks\":\"\"},\"colorscale\":[[0.0,\"#0d0887\"],[0.1111111111111111,\"#46039f\"],[0.2222222222222222,\"#7201a8\"],[0.3333333333333333,\"#9c179e\"],[0.4444444444444444,\"#bd3786\"],[0.5555555555555556,\"#d8576b\"],[0.6666666666666666,\"#ed7953\"],[0.7777777777777778,\"#fb9f3a\"],[0.8888888888888888,\"#fdca26\"],[1.0,\"#f0f921\"]]}],\"heatmap\":[{\"type\":\"heatmap\",\"colorbar\":{\"outlinewidth\":0,\"ticks\":\"\"},\"colorscale\":[[0.0,\"#0d0887\"],[0.1111111111111111,\"#46039f\"],[0.2222222222222222,\"#7201a8\"],[0.3333333333333333,\"#9c179e\"],[0.4444444444444444,\"#bd3786\"],[0.5555555555555556,\"#d8576b\"],[0.6666666666666666,\"#ed7953\"],[0.7777777777777778,\"#fb9f3a\"],[0.8888888888888888,\"#fdca26\"],[1.0,\"#f0f921\"]]}],\"heatmapgl\":[{\"type\":\"heatmapgl\",\"colorbar\":{\"outlinewidth\":0,\"ticks\":\"\"},\"colorscale\":[[0.0,\"#0d0887\"],[0.1111111111111111,\"#46039f\"],[0.2222222222222222,\"#7201a8\"],[0.3333333333333333,\"#9c179e\"],[0.4444444444444444,\"#bd3786\"],[0.5555555555555556,\"#d8576b\"],[0.6666666666666666,\"#ed7953\"],[0.7777777777777778,\"#fb9f3a\"],[0.8888888888888888,\"#fdca26\"],[1.0,\"#f0f921\"]]}],\"contourcarpet\":[{\"type\":\"contourcarpet\",\"colorbar\":{\"outlinewidth\":0,\"ticks\":\"\"}}],\"contour\":[{\"type\":\"contour\",\"colorbar\":{\"outlinewidth\":0,\"ticks\":\"\"},\"colorscale\":[[0.0,\"#0d0887\"],[0.1111111111111111,\"#46039f\"],[0.2222222222222222,\"#7201a8\"],[0.3333333333333333,\"#9c179e\"],[0.4444444444444444,\"#bd3786\"],[0.5555555555555556,\"#d8576b\"],[0.6666666666666666,\"#ed7953\"],[0.7777777777777778,\"#fb9f3a\"],[0.8888888888888888,\"#fdca26\"],[1.0,\"#f0f921\"]]}],\"surface\":[{\"type\":\"surface\",\"colorbar\":{\"outlinewidth\":0,\"ticks\":\"\"},\"colorscale\":[[0.0,\"#0d0887\"],[0.1111111111111111,\"#46039f\"],[0.2222222222222222,\"#7201a8\"],[0.3333333333333333,\"#9c179e\"],[0.4444444444444444,\"#bd3786\"],[0.5555555555555556,\"#d8576b\"],[0.6666666666666666,\"#ed7953\"],[0.7777777777777778,\"#fb9f3a\"],[0.8888888888888888,\"#fdca26\"],[1.0,\"#f0f921\"]]}],\"mesh3d\":[{\"type\":\"mesh3d\",\"colorbar\":{\"outlinewidth\":0,\"ticks\":\"\"}}],\"scatter\":[{\"fillpattern\":{\"fillmode\":\"overlay\",\"size\":10,\"solidity\":0.2},\"type\":\"scatter\"}],\"parcoords\":[{\"type\":\"parcoords\",\"line\":{\"colorbar\":{\"outlinewidth\":0,\"ticks\":\"\"}}}],\"scatterpolargl\":[{\"type\":\"scatterpolargl\",\"marker\":{\"colorbar\":{\"outlinewidth\":0,\"ticks\":\"\"}}}],\"bar\":[{\"error_x\":{\"color\":\"#2a3f5f\"},\"error_y\":{\"color\":\"#2a3f5f\"},\"marker\":{\"line\":{\"color\":\"#E5ECF6\",\"width\":0.5},\"pattern\":{\"fillmode\":\"overlay\",\"size\":10,\"solidity\":0.2}},\"type\":\"bar\"}],\"scattergeo\":[{\"type\":\"scattergeo\",\"marker\":{\"colorbar\":{\"outlinewidth\":0,\"ticks\":\"\"}}}],\"scatterpolar\":[{\"type\":\"scatterpolar\",\"marker\":{\"colorbar\":{\"outlinewidth\":0,\"ticks\":\"\"}}}],\"histogram\":[{\"marker\":{\"pattern\":{\"fillmode\":\"overlay\",\"size\":10,\"solidity\":0.2}},\"type\":\"histogram\"}],\"scattergl\":[{\"type\":\"scattergl\",\"marker\":{\"colorbar\":{\"outlinewidth\":0,\"ticks\":\"\"}}}],\"scatter3d\":[{\"type\":\"scatter3d\",\"line\":{\"colorbar\":{\"outlinewidth\":0,\"ticks\":\"\"}},\"marker\":{\"colorbar\":{\"outlinewidth\":0,\"ticks\":\"\"}}}],\"scattermapbox\":[{\"type\":\"scattermapbox\",\"marker\":{\"colorbar\":{\"outlinewidth\":0,\"ticks\":\"\"}}}],\"scatterternary\":[{\"type\":\"scatterternary\",\"marker\":{\"colorbar\":{\"outlinewidth\":0,\"ticks\":\"\"}}}],\"scattercarpet\":[{\"type\":\"scattercarpet\",\"marker\":{\"colorbar\":{\"outlinewidth\":0,\"ticks\":\"\"}}}],\"carpet\":[{\"aaxis\":{\"endlinecolor\":\"#2a3f5f\",\"gridcolor\":\"white\",\"linecolor\":\"white\",\"minorgridcolor\":\"white\",\"startlinecolor\":\"#2a3f5f\"},\"baxis\":{\"endlinecolor\":\"#2a3f5f\",\"gridcolor\":\"white\",\"linecolor\":\"white\",\"minorgridcolor\":\"white\",\"startlinecolor\":\"#2a3f5f\"},\"type\":\"carpet\"}],\"table\":[{\"cells\":{\"fill\":{\"color\":\"#EBF0F8\"},\"line\":{\"color\":\"white\"}},\"header\":{\"fill\":{\"color\":\"#C8D4E3\"},\"line\":{\"color\":\"white\"}},\"type\":\"table\"}],\"barpolar\":[{\"marker\":{\"line\":{\"color\":\"#E5ECF6\",\"width\":0.5},\"pattern\":{\"fillmode\":\"overlay\",\"size\":10,\"solidity\":0.2}},\"type\":\"barpolar\"}],\"pie\":[{\"automargin\":true,\"type\":\"pie\"}]},\"layout\":{\"autotypenumbers\":\"strict\",\"colorway\":[\"#636efa\",\"#EF553B\",\"#00cc96\",\"#ab63fa\",\"#FFA15A\",\"#19d3f3\",\"#FF6692\",\"#B6E880\",\"#FF97FF\",\"#FECB52\"],\"font\":{\"color\":\"#2a3f5f\"},\"hovermode\":\"closest\",\"hoverlabel\":{\"align\":\"left\"},\"paper_bgcolor\":\"white\",\"plot_bgcolor\":\"#E5ECF6\",\"polar\":{\"bgcolor\":\"#E5ECF6\",\"angularaxis\":{\"gridcolor\":\"white\",\"linecolor\":\"white\",\"ticks\":\"\"},\"radialaxis\":{\"gridcolor\":\"white\",\"linecolor\":\"white\",\"ticks\":\"\"}},\"ternary\":{\"bgcolor\":\"#E5ECF6\",\"aaxis\":{\"gridcolor\":\"white\",\"linecolor\":\"white\",\"ticks\":\"\"},\"baxis\":{\"gridcolor\":\"white\",\"linecolor\":\"white\",\"ticks\":\"\"},\"caxis\":{\"gridcolor\":\"white\",\"linecolor\":\"white\",\"ticks\":\"\"}},\"coloraxis\":{\"colorbar\":{\"outlinewidth\":0,\"ticks\":\"\"}},\"colorscale\":{\"sequential\":[[0.0,\"#0d0887\"],[0.1111111111111111,\"#46039f\"],[0.2222222222222222,\"#7201a8\"],[0.3333333333333333,\"#9c179e\"],[0.4444444444444444,\"#bd3786\"],[0.5555555555555556,\"#d8576b\"],[0.6666666666666666,\"#ed7953\"],[0.7777777777777778,\"#fb9f3a\"],[0.8888888888888888,\"#fdca26\"],[1.0,\"#f0f921\"]],\"sequentialminus\":[[0.0,\"#0d0887\"],[0.1111111111111111,\"#46039f\"],[0.2222222222222222,\"#7201a8\"],[0.3333333333333333,\"#9c179e\"],[0.4444444444444444,\"#bd3786\"],[0.5555555555555556,\"#d8576b\"],[0.6666666666666666,\"#ed7953\"],[0.7777777777777778,\"#fb9f3a\"],[0.8888888888888888,\"#fdca26\"],[1.0,\"#f0f921\"]],\"diverging\":[[0,\"#8e0152\"],[0.1,\"#c51b7d\"],[0.2,\"#de77ae\"],[0.3,\"#f1b6da\"],[0.4,\"#fde0ef\"],[0.5,\"#f7f7f7\"],[0.6,\"#e6f5d0\"],[0.7,\"#b8e186\"],[0.8,\"#7fbc41\"],[0.9,\"#4d9221\"],[1,\"#276419\"]]},\"xaxis\":{\"gridcolor\":\"white\",\"linecolor\":\"white\",\"ticks\":\"\",\"title\":{\"standoff\":15},\"zerolinecolor\":\"white\",\"automargin\":true,\"zerolinewidth\":2},\"yaxis\":{\"gridcolor\":\"white\",\"linecolor\":\"white\",\"ticks\":\"\",\"title\":{\"standoff\":15},\"zerolinecolor\":\"white\",\"automargin\":true,\"zerolinewidth\":2},\"scene\":{\"xaxis\":{\"backgroundcolor\":\"#E5ECF6\",\"gridcolor\":\"white\",\"linecolor\":\"white\",\"showbackground\":true,\"ticks\":\"\",\"zerolinecolor\":\"white\",\"gridwidth\":2},\"yaxis\":{\"backgroundcolor\":\"#E5ECF6\",\"gridcolor\":\"white\",\"linecolor\":\"white\",\"showbackground\":true,\"ticks\":\"\",\"zerolinecolor\":\"white\",\"gridwidth\":2},\"zaxis\":{\"backgroundcolor\":\"#E5ECF6\",\"gridcolor\":\"white\",\"linecolor\":\"white\",\"showbackground\":true,\"ticks\":\"\",\"zerolinecolor\":\"white\",\"gridwidth\":2}},\"shapedefaults\":{\"line\":{\"color\":\"#2a3f5f\"}},\"annotationdefaults\":{\"arrowcolor\":\"#2a3f5f\",\"arrowhead\":0,\"arrowwidth\":1},\"geo\":{\"bgcolor\":\"white\",\"landcolor\":\"#E5ECF6\",\"subunitcolor\":\"white\",\"showland\":true,\"showlakes\":true,\"lakecolor\":\"white\"},\"title\":{\"x\":0.05},\"mapbox\":{\"style\":\"light\"}}}},                        {\"responsive\": true}                    )                };                            </script>        </div>"
      ],
      "text/plain": [
       "Figure({\n",
       "    'data': [{'cliponaxis': False,\n",
       "              'hovertemplate': [random_strength (FloatDistribution):\n",
       "                                0.000727617502335013<extra></extra>, l2_leaf_reg\n",
       "                                (FloatDistribution):\n",
       "                                0.0016466069500772331<extra></extra>, od_type\n",
       "                                (CategoricalDistribution):\n",
       "                                0.003049161142826468<extra></extra>,\n",
       "                                bagging_temperature (FloatDistribution):\n",
       "                                0.012851442534485832<extra></extra>,\n",
       "                                min_data_in_leaf (IntDistribution):\n",
       "                                0.018278405917158156<extra></extra>, od_wait\n",
       "                                (IntDistribution):\n",
       "                                0.040996698796146855<extra></extra>, depth\n",
       "                                (IntDistribution):\n",
       "                                0.09428634405916232<extra></extra>, iterations\n",
       "                                (IntDistribution):\n",
       "                                0.10174062493360612<extra></extra>, learning_rate\n",
       "                                (FloatDistribution):\n",
       "                                0.24178010825288918<extra></extra>, bootstrap_type\n",
       "                                (CategoricalDistribution):\n",
       "                                0.48464298991131266<extra></extra>],\n",
       "              'name': 'Objective Value',\n",
       "              'orientation': 'h',\n",
       "              'text': [<0.01, <0.01, <0.01, 0.01, 0.02, 0.04, 0.09, 0.10, 0.24,\n",
       "                       0.48],\n",
       "              'textposition': 'outside',\n",
       "              'type': 'bar',\n",
       "              'x': [0.000727617502335013, 0.0016466069500772331,\n",
       "                    0.003049161142826468, 0.012851442534485832,\n",
       "                    0.018278405917158156, 0.040996698796146855,\n",
       "                    0.09428634405916232, 0.10174062493360612, 0.24178010825288918,\n",
       "                    0.48464298991131266],\n",
       "              'y': [random_strength, l2_leaf_reg, od_type, bagging_temperature,\n",
       "                    min_data_in_leaf, od_wait, depth, iterations, learning_rate,\n",
       "                    bootstrap_type]}],\n",
       "    'layout': {'template': '...',\n",
       "               'title': {'text': 'Hyperparameter Importances'},\n",
       "               'xaxis': {'title': {'text': 'Hyperparameter Importance'}},\n",
       "               'yaxis': {'title': {'text': 'Hyperparameter'}}}\n",
       "})"
      ]
     },
     "execution_count": 47,
     "metadata": {},
     "output_type": "execute_result"
    }
   ],
   "source": [
    "# 하이퍼파라미터별 중요도를 확인할 수 있는 그래프\n",
    "optuna.visualization.plot_param_importances(study_cat)"
   ]
  },
  {
   "cell_type": "code",
   "execution_count": 49,
   "metadata": {},
   "outputs": [
    {
     "ename": "ValueError",
     "evalue": "Mime type rendering requires nbformat>=4.2.0 but it is not installed",
     "output_type": "error",
     "traceback": [
      "\u001b[1;31m---------------------------------------------------------------------------\u001b[0m",
      "\u001b[1;31mValueError\u001b[0m                                Traceback (most recent call last)",
      "File \u001b[1;32mc:\\Users\\aryij\\anaconda3\\envs\\weather2\\Lib\\site-packages\\IPython\\core\\formatters.py:925\u001b[0m, in \u001b[0;36mIPythonDisplayFormatter.__call__\u001b[1;34m(self, obj)\u001b[0m\n\u001b[0;32m    923\u001b[0m method \u001b[38;5;241m=\u001b[39m get_real_method(obj, \u001b[38;5;28mself\u001b[39m\u001b[38;5;241m.\u001b[39mprint_method)\n\u001b[0;32m    924\u001b[0m \u001b[38;5;28;01mif\u001b[39;00m method \u001b[38;5;129;01mis\u001b[39;00m \u001b[38;5;129;01mnot\u001b[39;00m \u001b[38;5;28;01mNone\u001b[39;00m:\n\u001b[1;32m--> 925\u001b[0m     method()\n\u001b[0;32m    926\u001b[0m     \u001b[38;5;28;01mreturn\u001b[39;00m \u001b[38;5;28;01mTrue\u001b[39;00m\n",
      "File \u001b[1;32mc:\\Users\\aryij\\anaconda3\\envs\\weather2\\Lib\\site-packages\\plotly\\basedatatypes.py:832\u001b[0m, in \u001b[0;36mBaseFigure._ipython_display_\u001b[1;34m(self)\u001b[0m\n\u001b[0;32m    829\u001b[0m \u001b[38;5;28;01mimport\u001b[39;00m \u001b[38;5;21;01mplotly\u001b[39;00m\u001b[38;5;21;01m.\u001b[39;00m\u001b[38;5;21;01mio\u001b[39;00m \u001b[38;5;28;01mas\u001b[39;00m \u001b[38;5;21;01mpio\u001b[39;00m\n\u001b[0;32m    831\u001b[0m \u001b[38;5;28;01mif\u001b[39;00m pio\u001b[38;5;241m.\u001b[39mrenderers\u001b[38;5;241m.\u001b[39mrender_on_display \u001b[38;5;129;01mand\u001b[39;00m pio\u001b[38;5;241m.\u001b[39mrenderers\u001b[38;5;241m.\u001b[39mdefault:\n\u001b[1;32m--> 832\u001b[0m     pio\u001b[38;5;241m.\u001b[39mshow(\u001b[38;5;28mself\u001b[39m)\n\u001b[0;32m    833\u001b[0m \u001b[38;5;28;01melse\u001b[39;00m:\n\u001b[0;32m    834\u001b[0m     \u001b[38;5;28mprint\u001b[39m(\u001b[38;5;28mrepr\u001b[39m(\u001b[38;5;28mself\u001b[39m))\n",
      "File \u001b[1;32mc:\\Users\\aryij\\anaconda3\\envs\\weather2\\Lib\\site-packages\\plotly\\io\\_renderers.py:394\u001b[0m, in \u001b[0;36mshow\u001b[1;34m(fig, renderer, validate, **kwargs)\u001b[0m\n\u001b[0;32m    389\u001b[0m         \u001b[38;5;28;01mraise\u001b[39;00m \u001b[38;5;167;01mValueError\u001b[39;00m(\n\u001b[0;32m    390\u001b[0m             \u001b[38;5;124m\"\u001b[39m\u001b[38;5;124mMime type rendering requires ipython but it is not installed\u001b[39m\u001b[38;5;124m\"\u001b[39m\n\u001b[0;32m    391\u001b[0m         )\n\u001b[0;32m    393\u001b[0m     \u001b[38;5;28;01mif\u001b[39;00m \u001b[38;5;129;01mnot\u001b[39;00m nbformat \u001b[38;5;129;01mor\u001b[39;00m Version(nbformat\u001b[38;5;241m.\u001b[39m__version__) \u001b[38;5;241m<\u001b[39m Version(\u001b[38;5;124m\"\u001b[39m\u001b[38;5;124m4.2.0\u001b[39m\u001b[38;5;124m\"\u001b[39m):\n\u001b[1;32m--> 394\u001b[0m         \u001b[38;5;28;01mraise\u001b[39;00m \u001b[38;5;167;01mValueError\u001b[39;00m(\n\u001b[0;32m    395\u001b[0m             \u001b[38;5;124m\"\u001b[39m\u001b[38;5;124mMime type rendering requires nbformat>=4.2.0 but it is not installed\u001b[39m\u001b[38;5;124m\"\u001b[39m\n\u001b[0;32m    396\u001b[0m         )\n\u001b[0;32m    398\u001b[0m     ipython_display\u001b[38;5;241m.\u001b[39mdisplay(bundle, raw\u001b[38;5;241m=\u001b[39m\u001b[38;5;28;01mTrue\u001b[39;00m)\n\u001b[0;32m    400\u001b[0m \u001b[38;5;66;03m# external renderers\u001b[39;00m\n",
      "\u001b[1;31mValueError\u001b[0m: Mime type rendering requires nbformat>=4.2.0 but it is not installed"
     ]
    },
    {
     "data": {
      "application/vnd.plotly.v1+json": {
       "config": {
        "plotlyServerURL": "https://plot.ly"
       },
       "data": [
        {
         "mode": "markers",
         "name": "Objective Value",
         "type": "scatter",
         "x": [
          0,
          1,
          2,
          3,
          4,
          5,
          6,
          7,
          8,
          9,
          10,
          11,
          12,
          13,
          14,
          15,
          16,
          17,
          18,
          19,
          20,
          21,
          22,
          23,
          24,
          25,
          26,
          27,
          28,
          29,
          30,
          31,
          32,
          33,
          34,
          35,
          36,
          37,
          38,
          39,
          40,
          41,
          42,
          43,
          44,
          45,
          46,
          47,
          48,
          49,
          50,
          51,
          52,
          53,
          54,
          55,
          56,
          57,
          58,
          59,
          60,
          61,
          62,
          63,
          64,
          65,
          66,
          67,
          68,
          69,
          70,
          71,
          72,
          73,
          74,
          75,
          76,
          77,
          78,
          79,
          80,
          81,
          82,
          83,
          84,
          85,
          86,
          87,
          88,
          89,
          90,
          91,
          92,
          93,
          94,
          95,
          96,
          97,
          98,
          99
         ],
         "y": [
          0.12850265399333416,
          0,
          0.030605499735589636,
          0,
          0.017504376094023506,
          0,
          0.023342903507676944,
          0.012149298597194389,
          0,
          0.02829862312322701,
          0.07002974714923153,
          0.06046684877079712,
          0.02541739347121854,
          0.15022724481021987,
          0.06106491249844855,
          0.13398249722667324,
          0.04905989291495455,
          0.06731246895181321,
          0,
          0.11493257453915626,
          0.019,
          0.0810575968222443,
          0.07649530400395452,
          0.10442959663449641,
          0.04477611940298507,
          0.04234446790016143,
          0,
          0.15621927236971483,
          0.08052527254707631,
          0.1495763232223996,
          0.049396540997884784,
          0.17262925753491792,
          0.17063005638636922,
          0.14970501474926254,
          0,
          0.021242034237161065,
          0.0741246585547554,
          0,
          0.1728834355828221,
          0.0706832298136646,
          0,
          0.18075980392156862,
          0.12074494326591022,
          0.15356220007382798,
          0.22924231420963448,
          0.20031699585466958,
          0.03624813153961136,
          0.21163186012627488,
          0.005256241787122208,
          0.1409371146732429,
          0.09994125422235277,
          0.017776664997496243,
          0.21439844603617822,
          0.1760520181572813,
          0.2073704694721479,
          0.18372575332438698,
          0.08586592991129853,
          0,
          0.16304481276856966,
          0.0988970132606271,
          0.24036144578313254,
          0.23447860156720915,
          0.23626705300012074,
          0.2298961603477421,
          0.232317146644174,
          0.23093629343629343,
          0.23418102928769435,
          0.2040247302703358,
          0.2243613028211648,
          0,
          0.10841225626740947,
          0.23595370147094286,
          0.20416615909367766,
          0.23075993717530507,
          0.20089936801166747,
          0.18595546855884512,
          0.08314370733415018,
          0.01837270341207349,
          0.1112618724559023,
          0.21423384168482207,
          0.07370246500681284,
          0.2216963960684383,
          0.23299915448725692,
          0.2168044747081712,
          0.20311549227211878,
          0.22578304510823557,
          0,
          0.25162142685563293,
          0.22241127856101117,
          0.2385486981677917,
          0.10125306063661242,
          0.24273833915873208,
          0.23753771876885937,
          0.23757106568283537,
          0.24122542515981185,
          0.19733789229454146,
          0.21665702718334298,
          0.09827049714161662,
          0.20619059224957348,
          0
         ]
        },
        {
         "mode": "lines",
         "name": "Best Value",
         "type": "scatter",
         "x": [
          0,
          1,
          2,
          3,
          4,
          5,
          6,
          7,
          8,
          9,
          10,
          11,
          12,
          13,
          14,
          15,
          16,
          17,
          18,
          19,
          20,
          21,
          22,
          23,
          24,
          25,
          26,
          27,
          28,
          29,
          30,
          31,
          32,
          33,
          34,
          35,
          36,
          37,
          38,
          39,
          40,
          41,
          42,
          43,
          44,
          45,
          46,
          47,
          48,
          49,
          50,
          51,
          52,
          53,
          54,
          55,
          56,
          57,
          58,
          59,
          60,
          61,
          62,
          63,
          64,
          65,
          66,
          67,
          68,
          69,
          70,
          71,
          72,
          73,
          74,
          75,
          76,
          77,
          78,
          79,
          80,
          81,
          82,
          83,
          84,
          85,
          86,
          87,
          88,
          89,
          90,
          91,
          92,
          93,
          94,
          95,
          96,
          97,
          98,
          99
         ],
         "y": [
          0.12850265399333416,
          0.12850265399333416,
          0.12850265399333416,
          0.12850265399333416,
          0.12850265399333416,
          0.12850265399333416,
          0.12850265399333416,
          0.12850265399333416,
          0.12850265399333416,
          0.12850265399333416,
          0.12850265399333416,
          0.12850265399333416,
          0.12850265399333416,
          0.15022724481021987,
          0.15022724481021987,
          0.15022724481021987,
          0.15022724481021987,
          0.15022724481021987,
          0.15022724481021987,
          0.15022724481021987,
          0.15022724481021987,
          0.15022724481021987,
          0.15022724481021987,
          0.15022724481021987,
          0.15022724481021987,
          0.15022724481021987,
          0.15022724481021987,
          0.15621927236971483,
          0.15621927236971483,
          0.15621927236971483,
          0.15621927236971483,
          0.17262925753491792,
          0.17262925753491792,
          0.17262925753491792,
          0.17262925753491792,
          0.17262925753491792,
          0.17262925753491792,
          0.17262925753491792,
          0.1728834355828221,
          0.1728834355828221,
          0.1728834355828221,
          0.18075980392156862,
          0.18075980392156862,
          0.18075980392156862,
          0.22924231420963448,
          0.22924231420963448,
          0.22924231420963448,
          0.22924231420963448,
          0.22924231420963448,
          0.22924231420963448,
          0.22924231420963448,
          0.22924231420963448,
          0.22924231420963448,
          0.22924231420963448,
          0.22924231420963448,
          0.22924231420963448,
          0.22924231420963448,
          0.22924231420963448,
          0.22924231420963448,
          0.22924231420963448,
          0.24036144578313254,
          0.24036144578313254,
          0.24036144578313254,
          0.24036144578313254,
          0.24036144578313254,
          0.24036144578313254,
          0.24036144578313254,
          0.24036144578313254,
          0.24036144578313254,
          0.24036144578313254,
          0.24036144578313254,
          0.24036144578313254,
          0.24036144578313254,
          0.24036144578313254,
          0.24036144578313254,
          0.24036144578313254,
          0.24036144578313254,
          0.24036144578313254,
          0.24036144578313254,
          0.24036144578313254,
          0.24036144578313254,
          0.24036144578313254,
          0.24036144578313254,
          0.24036144578313254,
          0.24036144578313254,
          0.24036144578313254,
          0.24036144578313254,
          0.25162142685563293,
          0.25162142685563293,
          0.25162142685563293,
          0.25162142685563293,
          0.25162142685563293,
          0.25162142685563293,
          0.25162142685563293,
          0.25162142685563293,
          0.25162142685563293,
          0.25162142685563293,
          0.25162142685563293,
          0.25162142685563293,
          0.25162142685563293
         ]
        },
        {
         "marker": {
          "color": "#cccccc"
         },
         "mode": "markers",
         "name": "Infeasible Trial",
         "showlegend": false,
         "type": "scatter",
         "x": [],
         "y": []
        }
       ],
       "layout": {
        "template": {
         "data": {
          "bar": [
           {
            "error_x": {
             "color": "#2a3f5f"
            },
            "error_y": {
             "color": "#2a3f5f"
            },
            "marker": {
             "line": {
              "color": "#E5ECF6",
              "width": 0.5
             },
             "pattern": {
              "fillmode": "overlay",
              "size": 10,
              "solidity": 0.2
             }
            },
            "type": "bar"
           }
          ],
          "barpolar": [
           {
            "marker": {
             "line": {
              "color": "#E5ECF6",
              "width": 0.5
             },
             "pattern": {
              "fillmode": "overlay",
              "size": 10,
              "solidity": 0.2
             }
            },
            "type": "barpolar"
           }
          ],
          "carpet": [
           {
            "aaxis": {
             "endlinecolor": "#2a3f5f",
             "gridcolor": "white",
             "linecolor": "white",
             "minorgridcolor": "white",
             "startlinecolor": "#2a3f5f"
            },
            "baxis": {
             "endlinecolor": "#2a3f5f",
             "gridcolor": "white",
             "linecolor": "white",
             "minorgridcolor": "white",
             "startlinecolor": "#2a3f5f"
            },
            "type": "carpet"
           }
          ],
          "choropleth": [
           {
            "colorbar": {
             "outlinewidth": 0,
             "ticks": ""
            },
            "type": "choropleth"
           }
          ],
          "contour": [
           {
            "colorbar": {
             "outlinewidth": 0,
             "ticks": ""
            },
            "colorscale": [
             [
              0,
              "#0d0887"
             ],
             [
              0.1111111111111111,
              "#46039f"
             ],
             [
              0.2222222222222222,
              "#7201a8"
             ],
             [
              0.3333333333333333,
              "#9c179e"
             ],
             [
              0.4444444444444444,
              "#bd3786"
             ],
             [
              0.5555555555555556,
              "#d8576b"
             ],
             [
              0.6666666666666666,
              "#ed7953"
             ],
             [
              0.7777777777777778,
              "#fb9f3a"
             ],
             [
              0.8888888888888888,
              "#fdca26"
             ],
             [
              1,
              "#f0f921"
             ]
            ],
            "type": "contour"
           }
          ],
          "contourcarpet": [
           {
            "colorbar": {
             "outlinewidth": 0,
             "ticks": ""
            },
            "type": "contourcarpet"
           }
          ],
          "heatmap": [
           {
            "colorbar": {
             "outlinewidth": 0,
             "ticks": ""
            },
            "colorscale": [
             [
              0,
              "#0d0887"
             ],
             [
              0.1111111111111111,
              "#46039f"
             ],
             [
              0.2222222222222222,
              "#7201a8"
             ],
             [
              0.3333333333333333,
              "#9c179e"
             ],
             [
              0.4444444444444444,
              "#bd3786"
             ],
             [
              0.5555555555555556,
              "#d8576b"
             ],
             [
              0.6666666666666666,
              "#ed7953"
             ],
             [
              0.7777777777777778,
              "#fb9f3a"
             ],
             [
              0.8888888888888888,
              "#fdca26"
             ],
             [
              1,
              "#f0f921"
             ]
            ],
            "type": "heatmap"
           }
          ],
          "heatmapgl": [
           {
            "colorbar": {
             "outlinewidth": 0,
             "ticks": ""
            },
            "colorscale": [
             [
              0,
              "#0d0887"
             ],
             [
              0.1111111111111111,
              "#46039f"
             ],
             [
              0.2222222222222222,
              "#7201a8"
             ],
             [
              0.3333333333333333,
              "#9c179e"
             ],
             [
              0.4444444444444444,
              "#bd3786"
             ],
             [
              0.5555555555555556,
              "#d8576b"
             ],
             [
              0.6666666666666666,
              "#ed7953"
             ],
             [
              0.7777777777777778,
              "#fb9f3a"
             ],
             [
              0.8888888888888888,
              "#fdca26"
             ],
             [
              1,
              "#f0f921"
             ]
            ],
            "type": "heatmapgl"
           }
          ],
          "histogram": [
           {
            "marker": {
             "pattern": {
              "fillmode": "overlay",
              "size": 10,
              "solidity": 0.2
             }
            },
            "type": "histogram"
           }
          ],
          "histogram2d": [
           {
            "colorbar": {
             "outlinewidth": 0,
             "ticks": ""
            },
            "colorscale": [
             [
              0,
              "#0d0887"
             ],
             [
              0.1111111111111111,
              "#46039f"
             ],
             [
              0.2222222222222222,
              "#7201a8"
             ],
             [
              0.3333333333333333,
              "#9c179e"
             ],
             [
              0.4444444444444444,
              "#bd3786"
             ],
             [
              0.5555555555555556,
              "#d8576b"
             ],
             [
              0.6666666666666666,
              "#ed7953"
             ],
             [
              0.7777777777777778,
              "#fb9f3a"
             ],
             [
              0.8888888888888888,
              "#fdca26"
             ],
             [
              1,
              "#f0f921"
             ]
            ],
            "type": "histogram2d"
           }
          ],
          "histogram2dcontour": [
           {
            "colorbar": {
             "outlinewidth": 0,
             "ticks": ""
            },
            "colorscale": [
             [
              0,
              "#0d0887"
             ],
             [
              0.1111111111111111,
              "#46039f"
             ],
             [
              0.2222222222222222,
              "#7201a8"
             ],
             [
              0.3333333333333333,
              "#9c179e"
             ],
             [
              0.4444444444444444,
              "#bd3786"
             ],
             [
              0.5555555555555556,
              "#d8576b"
             ],
             [
              0.6666666666666666,
              "#ed7953"
             ],
             [
              0.7777777777777778,
              "#fb9f3a"
             ],
             [
              0.8888888888888888,
              "#fdca26"
             ],
             [
              1,
              "#f0f921"
             ]
            ],
            "type": "histogram2dcontour"
           }
          ],
          "mesh3d": [
           {
            "colorbar": {
             "outlinewidth": 0,
             "ticks": ""
            },
            "type": "mesh3d"
           }
          ],
          "parcoords": [
           {
            "line": {
             "colorbar": {
              "outlinewidth": 0,
              "ticks": ""
             }
            },
            "type": "parcoords"
           }
          ],
          "pie": [
           {
            "automargin": true,
            "type": "pie"
           }
          ],
          "scatter": [
           {
            "fillpattern": {
             "fillmode": "overlay",
             "size": 10,
             "solidity": 0.2
            },
            "type": "scatter"
           }
          ],
          "scatter3d": [
           {
            "line": {
             "colorbar": {
              "outlinewidth": 0,
              "ticks": ""
             }
            },
            "marker": {
             "colorbar": {
              "outlinewidth": 0,
              "ticks": ""
             }
            },
            "type": "scatter3d"
           }
          ],
          "scattercarpet": [
           {
            "marker": {
             "colorbar": {
              "outlinewidth": 0,
              "ticks": ""
             }
            },
            "type": "scattercarpet"
           }
          ],
          "scattergeo": [
           {
            "marker": {
             "colorbar": {
              "outlinewidth": 0,
              "ticks": ""
             }
            },
            "type": "scattergeo"
           }
          ],
          "scattergl": [
           {
            "marker": {
             "colorbar": {
              "outlinewidth": 0,
              "ticks": ""
             }
            },
            "type": "scattergl"
           }
          ],
          "scattermapbox": [
           {
            "marker": {
             "colorbar": {
              "outlinewidth": 0,
              "ticks": ""
             }
            },
            "type": "scattermapbox"
           }
          ],
          "scatterpolar": [
           {
            "marker": {
             "colorbar": {
              "outlinewidth": 0,
              "ticks": ""
             }
            },
            "type": "scatterpolar"
           }
          ],
          "scatterpolargl": [
           {
            "marker": {
             "colorbar": {
              "outlinewidth": 0,
              "ticks": ""
             }
            },
            "type": "scatterpolargl"
           }
          ],
          "scatterternary": [
           {
            "marker": {
             "colorbar": {
              "outlinewidth": 0,
              "ticks": ""
             }
            },
            "type": "scatterternary"
           }
          ],
          "surface": [
           {
            "colorbar": {
             "outlinewidth": 0,
             "ticks": ""
            },
            "colorscale": [
             [
              0,
              "#0d0887"
             ],
             [
              0.1111111111111111,
              "#46039f"
             ],
             [
              0.2222222222222222,
              "#7201a8"
             ],
             [
              0.3333333333333333,
              "#9c179e"
             ],
             [
              0.4444444444444444,
              "#bd3786"
             ],
             [
              0.5555555555555556,
              "#d8576b"
             ],
             [
              0.6666666666666666,
              "#ed7953"
             ],
             [
              0.7777777777777778,
              "#fb9f3a"
             ],
             [
              0.8888888888888888,
              "#fdca26"
             ],
             [
              1,
              "#f0f921"
             ]
            ],
            "type": "surface"
           }
          ],
          "table": [
           {
            "cells": {
             "fill": {
              "color": "#EBF0F8"
             },
             "line": {
              "color": "white"
             }
            },
            "header": {
             "fill": {
              "color": "#C8D4E3"
             },
             "line": {
              "color": "white"
             }
            },
            "type": "table"
           }
          ]
         },
         "layout": {
          "annotationdefaults": {
           "arrowcolor": "#2a3f5f",
           "arrowhead": 0,
           "arrowwidth": 1
          },
          "autotypenumbers": "strict",
          "coloraxis": {
           "colorbar": {
            "outlinewidth": 0,
            "ticks": ""
           }
          },
          "colorscale": {
           "diverging": [
            [
             0,
             "#8e0152"
            ],
            [
             0.1,
             "#c51b7d"
            ],
            [
             0.2,
             "#de77ae"
            ],
            [
             0.3,
             "#f1b6da"
            ],
            [
             0.4,
             "#fde0ef"
            ],
            [
             0.5,
             "#f7f7f7"
            ],
            [
             0.6,
             "#e6f5d0"
            ],
            [
             0.7,
             "#b8e186"
            ],
            [
             0.8,
             "#7fbc41"
            ],
            [
             0.9,
             "#4d9221"
            ],
            [
             1,
             "#276419"
            ]
           ],
           "sequential": [
            [
             0,
             "#0d0887"
            ],
            [
             0.1111111111111111,
             "#46039f"
            ],
            [
             0.2222222222222222,
             "#7201a8"
            ],
            [
             0.3333333333333333,
             "#9c179e"
            ],
            [
             0.4444444444444444,
             "#bd3786"
            ],
            [
             0.5555555555555556,
             "#d8576b"
            ],
            [
             0.6666666666666666,
             "#ed7953"
            ],
            [
             0.7777777777777778,
             "#fb9f3a"
            ],
            [
             0.8888888888888888,
             "#fdca26"
            ],
            [
             1,
             "#f0f921"
            ]
           ],
           "sequentialminus": [
            [
             0,
             "#0d0887"
            ],
            [
             0.1111111111111111,
             "#46039f"
            ],
            [
             0.2222222222222222,
             "#7201a8"
            ],
            [
             0.3333333333333333,
             "#9c179e"
            ],
            [
             0.4444444444444444,
             "#bd3786"
            ],
            [
             0.5555555555555556,
             "#d8576b"
            ],
            [
             0.6666666666666666,
             "#ed7953"
            ],
            [
             0.7777777777777778,
             "#fb9f3a"
            ],
            [
             0.8888888888888888,
             "#fdca26"
            ],
            [
             1,
             "#f0f921"
            ]
           ]
          },
          "colorway": [
           "#636efa",
           "#EF553B",
           "#00cc96",
           "#ab63fa",
           "#FFA15A",
           "#19d3f3",
           "#FF6692",
           "#B6E880",
           "#FF97FF",
           "#FECB52"
          ],
          "font": {
           "color": "#2a3f5f"
          },
          "geo": {
           "bgcolor": "white",
           "lakecolor": "white",
           "landcolor": "#E5ECF6",
           "showlakes": true,
           "showland": true,
           "subunitcolor": "white"
          },
          "hoverlabel": {
           "align": "left"
          },
          "hovermode": "closest",
          "mapbox": {
           "style": "light"
          },
          "paper_bgcolor": "white",
          "plot_bgcolor": "#E5ECF6",
          "polar": {
           "angularaxis": {
            "gridcolor": "white",
            "linecolor": "white",
            "ticks": ""
           },
           "bgcolor": "#E5ECF6",
           "radialaxis": {
            "gridcolor": "white",
            "linecolor": "white",
            "ticks": ""
           }
          },
          "scene": {
           "xaxis": {
            "backgroundcolor": "#E5ECF6",
            "gridcolor": "white",
            "gridwidth": 2,
            "linecolor": "white",
            "showbackground": true,
            "ticks": "",
            "zerolinecolor": "white"
           },
           "yaxis": {
            "backgroundcolor": "#E5ECF6",
            "gridcolor": "white",
            "gridwidth": 2,
            "linecolor": "white",
            "showbackground": true,
            "ticks": "",
            "zerolinecolor": "white"
           },
           "zaxis": {
            "backgroundcolor": "#E5ECF6",
            "gridcolor": "white",
            "gridwidth": 2,
            "linecolor": "white",
            "showbackground": true,
            "ticks": "",
            "zerolinecolor": "white"
           }
          },
          "shapedefaults": {
           "line": {
            "color": "#2a3f5f"
           }
          },
          "ternary": {
           "aaxis": {
            "gridcolor": "white",
            "linecolor": "white",
            "ticks": ""
           },
           "baxis": {
            "gridcolor": "white",
            "linecolor": "white",
            "ticks": ""
           },
           "bgcolor": "#E5ECF6",
           "caxis": {
            "gridcolor": "white",
            "linecolor": "white",
            "ticks": ""
           }
          },
          "title": {
           "x": 0.05
          },
          "xaxis": {
           "automargin": true,
           "gridcolor": "white",
           "linecolor": "white",
           "ticks": "",
           "title": {
            "standoff": 15
           },
           "zerolinecolor": "white",
           "zerolinewidth": 2
          },
          "yaxis": {
           "automargin": true,
           "gridcolor": "white",
           "linecolor": "white",
           "ticks": "",
           "title": {
            "standoff": 15
           },
           "zerolinecolor": "white",
           "zerolinewidth": 2
          }
         }
        },
        "title": {
         "text": "Optimization History Plot"
        },
        "xaxis": {
         "title": {
          "text": "Trial"
         }
        },
        "yaxis": {
         "title": {
          "text": "Objective Value"
         }
        }
       }
      },
      "text/html": [
       "<div>                        <script type=\"text/javascript\">window.PlotlyConfig = {MathJaxConfig: 'local'};</script>\n",
       "        <script charset=\"utf-8\" src=\"https://cdn.plot.ly/plotly-2.32.0.min.js\"></script>                <div id=\"acc5e9b4-a210-4d11-a55b-b2bd4a5949fe\" class=\"plotly-graph-div\" style=\"height:100%; width:100%;\"></div>            <script type=\"text/javascript\">                                    window.PLOTLYENV=window.PLOTLYENV || {};                                    if (document.getElementById(\"acc5e9b4-a210-4d11-a55b-b2bd4a5949fe\")) {                    Plotly.newPlot(                        \"acc5e9b4-a210-4d11-a55b-b2bd4a5949fe\",                        [{\"mode\":\"markers\",\"name\":\"Objective Value\",\"x\":[0,1,2,3,4,5,6,7,8,9,10,11,12,13,14,15,16,17,18,19,20,21,22,23,24,25,26,27,28,29,30,31,32,33,34,35,36,37,38,39,40,41,42,43,44,45,46,47,48,49,50,51,52,53,54,55,56,57,58,59,60,61,62,63,64,65,66,67,68,69,70,71,72,73,74,75,76,77,78,79,80,81,82,83,84,85,86,87,88,89,90,91,92,93,94,95,96,97,98,99],\"y\":[0.12850265399333416,0.0,0.030605499735589636,0.0,0.017504376094023506,0.0,0.023342903507676944,0.012149298597194389,0.0,0.02829862312322701,0.07002974714923153,0.06046684877079712,0.02541739347121854,0.15022724481021987,0.06106491249844855,0.13398249722667324,0.04905989291495455,0.06731246895181321,0.0,0.11493257453915626,0.019,0.0810575968222443,0.07649530400395452,0.10442959663449641,0.04477611940298507,0.04234446790016143,0.0,0.15621927236971483,0.08052527254707631,0.1495763232223996,0.049396540997884784,0.17262925753491792,0.17063005638636922,0.14970501474926254,0.0,0.021242034237161065,0.0741246585547554,0.0,0.1728834355828221,0.0706832298136646,0.0,0.18075980392156862,0.12074494326591022,0.15356220007382798,0.22924231420963448,0.20031699585466958,0.03624813153961136,0.21163186012627488,0.005256241787122208,0.1409371146732429,0.09994125422235277,0.017776664997496243,0.21439844603617822,0.1760520181572813,0.2073704694721479,0.18372575332438698,0.08586592991129853,0.0,0.16304481276856966,0.0988970132606271,0.24036144578313254,0.23447860156720915,0.23626705300012074,0.2298961603477421,0.232317146644174,0.23093629343629343,0.23418102928769435,0.2040247302703358,0.2243613028211648,0.0,0.10841225626740947,0.23595370147094286,0.20416615909367766,0.23075993717530507,0.20089936801166747,0.18595546855884512,0.08314370733415018,0.01837270341207349,0.1112618724559023,0.21423384168482207,0.07370246500681284,0.2216963960684383,0.23299915448725692,0.2168044747081712,0.20311549227211878,0.22578304510823557,0.0,0.25162142685563293,0.22241127856101117,0.2385486981677917,0.10125306063661242,0.24273833915873208,0.23753771876885937,0.23757106568283537,0.24122542515981185,0.19733789229454146,0.21665702718334298,0.09827049714161662,0.20619059224957348,0.0],\"type\":\"scatter\"},{\"mode\":\"lines\",\"name\":\"Best Value\",\"x\":[0,1,2,3,4,5,6,7,8,9,10,11,12,13,14,15,16,17,18,19,20,21,22,23,24,25,26,27,28,29,30,31,32,33,34,35,36,37,38,39,40,41,42,43,44,45,46,47,48,49,50,51,52,53,54,55,56,57,58,59,60,61,62,63,64,65,66,67,68,69,70,71,72,73,74,75,76,77,78,79,80,81,82,83,84,85,86,87,88,89,90,91,92,93,94,95,96,97,98,99],\"y\":[0.12850265399333416,0.12850265399333416,0.12850265399333416,0.12850265399333416,0.12850265399333416,0.12850265399333416,0.12850265399333416,0.12850265399333416,0.12850265399333416,0.12850265399333416,0.12850265399333416,0.12850265399333416,0.12850265399333416,0.15022724481021987,0.15022724481021987,0.15022724481021987,0.15022724481021987,0.15022724481021987,0.15022724481021987,0.15022724481021987,0.15022724481021987,0.15022724481021987,0.15022724481021987,0.15022724481021987,0.15022724481021987,0.15022724481021987,0.15022724481021987,0.15621927236971483,0.15621927236971483,0.15621927236971483,0.15621927236971483,0.17262925753491792,0.17262925753491792,0.17262925753491792,0.17262925753491792,0.17262925753491792,0.17262925753491792,0.17262925753491792,0.1728834355828221,0.1728834355828221,0.1728834355828221,0.18075980392156862,0.18075980392156862,0.18075980392156862,0.22924231420963448,0.22924231420963448,0.22924231420963448,0.22924231420963448,0.22924231420963448,0.22924231420963448,0.22924231420963448,0.22924231420963448,0.22924231420963448,0.22924231420963448,0.22924231420963448,0.22924231420963448,0.22924231420963448,0.22924231420963448,0.22924231420963448,0.22924231420963448,0.24036144578313254,0.24036144578313254,0.24036144578313254,0.24036144578313254,0.24036144578313254,0.24036144578313254,0.24036144578313254,0.24036144578313254,0.24036144578313254,0.24036144578313254,0.24036144578313254,0.24036144578313254,0.24036144578313254,0.24036144578313254,0.24036144578313254,0.24036144578313254,0.24036144578313254,0.24036144578313254,0.24036144578313254,0.24036144578313254,0.24036144578313254,0.24036144578313254,0.24036144578313254,0.24036144578313254,0.24036144578313254,0.24036144578313254,0.24036144578313254,0.25162142685563293,0.25162142685563293,0.25162142685563293,0.25162142685563293,0.25162142685563293,0.25162142685563293,0.25162142685563293,0.25162142685563293,0.25162142685563293,0.25162142685563293,0.25162142685563293,0.25162142685563293,0.25162142685563293],\"type\":\"scatter\"},{\"marker\":{\"color\":\"#cccccc\"},\"mode\":\"markers\",\"name\":\"Infeasible Trial\",\"showlegend\":false,\"x\":[],\"y\":[],\"type\":\"scatter\"}],                        {\"title\":{\"text\":\"Optimization History Plot\"},\"xaxis\":{\"title\":{\"text\":\"Trial\"}},\"yaxis\":{\"title\":{\"text\":\"Objective Value\"}},\"template\":{\"data\":{\"histogram2dcontour\":[{\"type\":\"histogram2dcontour\",\"colorbar\":{\"outlinewidth\":0,\"ticks\":\"\"},\"colorscale\":[[0.0,\"#0d0887\"],[0.1111111111111111,\"#46039f\"],[0.2222222222222222,\"#7201a8\"],[0.3333333333333333,\"#9c179e\"],[0.4444444444444444,\"#bd3786\"],[0.5555555555555556,\"#d8576b\"],[0.6666666666666666,\"#ed7953\"],[0.7777777777777778,\"#fb9f3a\"],[0.8888888888888888,\"#fdca26\"],[1.0,\"#f0f921\"]]}],\"choropleth\":[{\"type\":\"choropleth\",\"colorbar\":{\"outlinewidth\":0,\"ticks\":\"\"}}],\"histogram2d\":[{\"type\":\"histogram2d\",\"colorbar\":{\"outlinewidth\":0,\"ticks\":\"\"},\"colorscale\":[[0.0,\"#0d0887\"],[0.1111111111111111,\"#46039f\"],[0.2222222222222222,\"#7201a8\"],[0.3333333333333333,\"#9c179e\"],[0.4444444444444444,\"#bd3786\"],[0.5555555555555556,\"#d8576b\"],[0.6666666666666666,\"#ed7953\"],[0.7777777777777778,\"#fb9f3a\"],[0.8888888888888888,\"#fdca26\"],[1.0,\"#f0f921\"]]}],\"heatmap\":[{\"type\":\"heatmap\",\"colorbar\":{\"outlinewidth\":0,\"ticks\":\"\"},\"colorscale\":[[0.0,\"#0d0887\"],[0.1111111111111111,\"#46039f\"],[0.2222222222222222,\"#7201a8\"],[0.3333333333333333,\"#9c179e\"],[0.4444444444444444,\"#bd3786\"],[0.5555555555555556,\"#d8576b\"],[0.6666666666666666,\"#ed7953\"],[0.7777777777777778,\"#fb9f3a\"],[0.8888888888888888,\"#fdca26\"],[1.0,\"#f0f921\"]]}],\"heatmapgl\":[{\"type\":\"heatmapgl\",\"colorbar\":{\"outlinewidth\":0,\"ticks\":\"\"},\"colorscale\":[[0.0,\"#0d0887\"],[0.1111111111111111,\"#46039f\"],[0.2222222222222222,\"#7201a8\"],[0.3333333333333333,\"#9c179e\"],[0.4444444444444444,\"#bd3786\"],[0.5555555555555556,\"#d8576b\"],[0.6666666666666666,\"#ed7953\"],[0.7777777777777778,\"#fb9f3a\"],[0.8888888888888888,\"#fdca26\"],[1.0,\"#f0f921\"]]}],\"contourcarpet\":[{\"type\":\"contourcarpet\",\"colorbar\":{\"outlinewidth\":0,\"ticks\":\"\"}}],\"contour\":[{\"type\":\"contour\",\"colorbar\":{\"outlinewidth\":0,\"ticks\":\"\"},\"colorscale\":[[0.0,\"#0d0887\"],[0.1111111111111111,\"#46039f\"],[0.2222222222222222,\"#7201a8\"],[0.3333333333333333,\"#9c179e\"],[0.4444444444444444,\"#bd3786\"],[0.5555555555555556,\"#d8576b\"],[0.6666666666666666,\"#ed7953\"],[0.7777777777777778,\"#fb9f3a\"],[0.8888888888888888,\"#fdca26\"],[1.0,\"#f0f921\"]]}],\"surface\":[{\"type\":\"surface\",\"colorbar\":{\"outlinewidth\":0,\"ticks\":\"\"},\"colorscale\":[[0.0,\"#0d0887\"],[0.1111111111111111,\"#46039f\"],[0.2222222222222222,\"#7201a8\"],[0.3333333333333333,\"#9c179e\"],[0.4444444444444444,\"#bd3786\"],[0.5555555555555556,\"#d8576b\"],[0.6666666666666666,\"#ed7953\"],[0.7777777777777778,\"#fb9f3a\"],[0.8888888888888888,\"#fdca26\"],[1.0,\"#f0f921\"]]}],\"mesh3d\":[{\"type\":\"mesh3d\",\"colorbar\":{\"outlinewidth\":0,\"ticks\":\"\"}}],\"scatter\":[{\"fillpattern\":{\"fillmode\":\"overlay\",\"size\":10,\"solidity\":0.2},\"type\":\"scatter\"}],\"parcoords\":[{\"type\":\"parcoords\",\"line\":{\"colorbar\":{\"outlinewidth\":0,\"ticks\":\"\"}}}],\"scatterpolargl\":[{\"type\":\"scatterpolargl\",\"marker\":{\"colorbar\":{\"outlinewidth\":0,\"ticks\":\"\"}}}],\"bar\":[{\"error_x\":{\"color\":\"#2a3f5f\"},\"error_y\":{\"color\":\"#2a3f5f\"},\"marker\":{\"line\":{\"color\":\"#E5ECF6\",\"width\":0.5},\"pattern\":{\"fillmode\":\"overlay\",\"size\":10,\"solidity\":0.2}},\"type\":\"bar\"}],\"scattergeo\":[{\"type\":\"scattergeo\",\"marker\":{\"colorbar\":{\"outlinewidth\":0,\"ticks\":\"\"}}}],\"scatterpolar\":[{\"type\":\"scatterpolar\",\"marker\":{\"colorbar\":{\"outlinewidth\":0,\"ticks\":\"\"}}}],\"histogram\":[{\"marker\":{\"pattern\":{\"fillmode\":\"overlay\",\"size\":10,\"solidity\":0.2}},\"type\":\"histogram\"}],\"scattergl\":[{\"type\":\"scattergl\",\"marker\":{\"colorbar\":{\"outlinewidth\":0,\"ticks\":\"\"}}}],\"scatter3d\":[{\"type\":\"scatter3d\",\"line\":{\"colorbar\":{\"outlinewidth\":0,\"ticks\":\"\"}},\"marker\":{\"colorbar\":{\"outlinewidth\":0,\"ticks\":\"\"}}}],\"scattermapbox\":[{\"type\":\"scattermapbox\",\"marker\":{\"colorbar\":{\"outlinewidth\":0,\"ticks\":\"\"}}}],\"scatterternary\":[{\"type\":\"scatterternary\",\"marker\":{\"colorbar\":{\"outlinewidth\":0,\"ticks\":\"\"}}}],\"scattercarpet\":[{\"type\":\"scattercarpet\",\"marker\":{\"colorbar\":{\"outlinewidth\":0,\"ticks\":\"\"}}}],\"carpet\":[{\"aaxis\":{\"endlinecolor\":\"#2a3f5f\",\"gridcolor\":\"white\",\"linecolor\":\"white\",\"minorgridcolor\":\"white\",\"startlinecolor\":\"#2a3f5f\"},\"baxis\":{\"endlinecolor\":\"#2a3f5f\",\"gridcolor\":\"white\",\"linecolor\":\"white\",\"minorgridcolor\":\"white\",\"startlinecolor\":\"#2a3f5f\"},\"type\":\"carpet\"}],\"table\":[{\"cells\":{\"fill\":{\"color\":\"#EBF0F8\"},\"line\":{\"color\":\"white\"}},\"header\":{\"fill\":{\"color\":\"#C8D4E3\"},\"line\":{\"color\":\"white\"}},\"type\":\"table\"}],\"barpolar\":[{\"marker\":{\"line\":{\"color\":\"#E5ECF6\",\"width\":0.5},\"pattern\":{\"fillmode\":\"overlay\",\"size\":10,\"solidity\":0.2}},\"type\":\"barpolar\"}],\"pie\":[{\"automargin\":true,\"type\":\"pie\"}]},\"layout\":{\"autotypenumbers\":\"strict\",\"colorway\":[\"#636efa\",\"#EF553B\",\"#00cc96\",\"#ab63fa\",\"#FFA15A\",\"#19d3f3\",\"#FF6692\",\"#B6E880\",\"#FF97FF\",\"#FECB52\"],\"font\":{\"color\":\"#2a3f5f\"},\"hovermode\":\"closest\",\"hoverlabel\":{\"align\":\"left\"},\"paper_bgcolor\":\"white\",\"plot_bgcolor\":\"#E5ECF6\",\"polar\":{\"bgcolor\":\"#E5ECF6\",\"angularaxis\":{\"gridcolor\":\"white\",\"linecolor\":\"white\",\"ticks\":\"\"},\"radialaxis\":{\"gridcolor\":\"white\",\"linecolor\":\"white\",\"ticks\":\"\"}},\"ternary\":{\"bgcolor\":\"#E5ECF6\",\"aaxis\":{\"gridcolor\":\"white\",\"linecolor\":\"white\",\"ticks\":\"\"},\"baxis\":{\"gridcolor\":\"white\",\"linecolor\":\"white\",\"ticks\":\"\"},\"caxis\":{\"gridcolor\":\"white\",\"linecolor\":\"white\",\"ticks\":\"\"}},\"coloraxis\":{\"colorbar\":{\"outlinewidth\":0,\"ticks\":\"\"}},\"colorscale\":{\"sequential\":[[0.0,\"#0d0887\"],[0.1111111111111111,\"#46039f\"],[0.2222222222222222,\"#7201a8\"],[0.3333333333333333,\"#9c179e\"],[0.4444444444444444,\"#bd3786\"],[0.5555555555555556,\"#d8576b\"],[0.6666666666666666,\"#ed7953\"],[0.7777777777777778,\"#fb9f3a\"],[0.8888888888888888,\"#fdca26\"],[1.0,\"#f0f921\"]],\"sequentialminus\":[[0.0,\"#0d0887\"],[0.1111111111111111,\"#46039f\"],[0.2222222222222222,\"#7201a8\"],[0.3333333333333333,\"#9c179e\"],[0.4444444444444444,\"#bd3786\"],[0.5555555555555556,\"#d8576b\"],[0.6666666666666666,\"#ed7953\"],[0.7777777777777778,\"#fb9f3a\"],[0.8888888888888888,\"#fdca26\"],[1.0,\"#f0f921\"]],\"diverging\":[[0,\"#8e0152\"],[0.1,\"#c51b7d\"],[0.2,\"#de77ae\"],[0.3,\"#f1b6da\"],[0.4,\"#fde0ef\"],[0.5,\"#f7f7f7\"],[0.6,\"#e6f5d0\"],[0.7,\"#b8e186\"],[0.8,\"#7fbc41\"],[0.9,\"#4d9221\"],[1,\"#276419\"]]},\"xaxis\":{\"gridcolor\":\"white\",\"linecolor\":\"white\",\"ticks\":\"\",\"title\":{\"standoff\":15},\"zerolinecolor\":\"white\",\"automargin\":true,\"zerolinewidth\":2},\"yaxis\":{\"gridcolor\":\"white\",\"linecolor\":\"white\",\"ticks\":\"\",\"title\":{\"standoff\":15},\"zerolinecolor\":\"white\",\"automargin\":true,\"zerolinewidth\":2},\"scene\":{\"xaxis\":{\"backgroundcolor\":\"#E5ECF6\",\"gridcolor\":\"white\",\"linecolor\":\"white\",\"showbackground\":true,\"ticks\":\"\",\"zerolinecolor\":\"white\",\"gridwidth\":2},\"yaxis\":{\"backgroundcolor\":\"#E5ECF6\",\"gridcolor\":\"white\",\"linecolor\":\"white\",\"showbackground\":true,\"ticks\":\"\",\"zerolinecolor\":\"white\",\"gridwidth\":2},\"zaxis\":{\"backgroundcolor\":\"#E5ECF6\",\"gridcolor\":\"white\",\"linecolor\":\"white\",\"showbackground\":true,\"ticks\":\"\",\"zerolinecolor\":\"white\",\"gridwidth\":2}},\"shapedefaults\":{\"line\":{\"color\":\"#2a3f5f\"}},\"annotationdefaults\":{\"arrowcolor\":\"#2a3f5f\",\"arrowhead\":0,\"arrowwidth\":1},\"geo\":{\"bgcolor\":\"white\",\"landcolor\":\"#E5ECF6\",\"subunitcolor\":\"white\",\"showland\":true,\"showlakes\":true,\"lakecolor\":\"white\"},\"title\":{\"x\":0.05},\"mapbox\":{\"style\":\"light\"}}}},                        {\"responsive\": true}                    )                };                            </script>        </div>"
      ],
      "text/plain": [
       "Figure({\n",
       "    'data': [{'mode': 'markers',\n",
       "              'name': 'Objective Value',\n",
       "              'type': 'scatter',\n",
       "              'x': [0, 1, 2, 3, 4, 5, 6, 7, 8, 9, 10, 11, 12, 13, 14, 15, 16, 17,\n",
       "                    18, 19, 20, 21, 22, 23, 24, 25, 26, 27, 28, 29, 30, 31, 32, 33,\n",
       "                    34, 35, 36, 37, 38, 39, 40, 41, 42, 43, 44, 45, 46, 47, 48, 49,\n",
       "                    50, 51, 52, 53, 54, 55, 56, 57, 58, 59, 60, 61, 62, 63, 64, 65,\n",
       "                    66, 67, 68, 69, 70, 71, 72, 73, 74, 75, 76, 77, 78, 79, 80, 81,\n",
       "                    82, 83, 84, 85, 86, 87, 88, 89, 90, 91, 92, 93, 94, 95, 96, 97,\n",
       "                    98, 99],\n",
       "              'y': [0.12850265399333416, 0.0, 0.030605499735589636, 0.0,\n",
       "                    0.017504376094023506, 0.0, 0.023342903507676944,\n",
       "                    0.012149298597194389, 0.0, 0.02829862312322701,\n",
       "                    0.07002974714923153, 0.06046684877079712, 0.02541739347121854,\n",
       "                    0.15022724481021987, 0.06106491249844855, 0.13398249722667324,\n",
       "                    0.04905989291495455, 0.06731246895181321, 0.0,\n",
       "                    0.11493257453915626, 0.019, 0.0810575968222443,\n",
       "                    0.07649530400395452, 0.10442959663449641, 0.04477611940298507,\n",
       "                    0.04234446790016143, 0.0, 0.15621927236971483,\n",
       "                    0.08052527254707631, 0.1495763232223996, 0.049396540997884784,\n",
       "                    0.17262925753491792, 0.17063005638636922, 0.14970501474926254,\n",
       "                    0.0, 0.021242034237161065, 0.0741246585547554, 0.0,\n",
       "                    0.1728834355828221, 0.0706832298136646, 0.0,\n",
       "                    0.18075980392156862, 0.12074494326591022, 0.15356220007382798,\n",
       "                    0.22924231420963448, 0.20031699585466958, 0.03624813153961136,\n",
       "                    0.21163186012627488, 0.005256241787122208, 0.1409371146732429,\n",
       "                    0.09994125422235277, 0.017776664997496243, 0.21439844603617822,\n",
       "                    0.1760520181572813, 0.2073704694721479, 0.18372575332438698,\n",
       "                    0.08586592991129853, 0.0, 0.16304481276856966,\n",
       "                    0.0988970132606271, 0.24036144578313254, 0.23447860156720915,\n",
       "                    0.23626705300012074, 0.2298961603477421, 0.232317146644174,\n",
       "                    0.23093629343629343, 0.23418102928769435, 0.2040247302703358,\n",
       "                    0.2243613028211648, 0.0, 0.10841225626740947,\n",
       "                    0.23595370147094286, 0.20416615909367766, 0.23075993717530507,\n",
       "                    0.20089936801166747, 0.18595546855884512, 0.08314370733415018,\n",
       "                    0.01837270341207349, 0.1112618724559023, 0.21423384168482207,\n",
       "                    0.07370246500681284, 0.2216963960684383, 0.23299915448725692,\n",
       "                    0.2168044747081712, 0.20311549227211878, 0.22578304510823557,\n",
       "                    0.0, 0.25162142685563293, 0.22241127856101117,\n",
       "                    0.2385486981677917, 0.10125306063661242, 0.24273833915873208,\n",
       "                    0.23753771876885937, 0.23757106568283537, 0.24122542515981185,\n",
       "                    0.19733789229454146, 0.21665702718334298, 0.09827049714161662,\n",
       "                    0.20619059224957348, 0.0]},\n",
       "             {'mode': 'lines',\n",
       "              'name': 'Best Value',\n",
       "              'type': 'scatter',\n",
       "              'x': [0, 1, 2, 3, 4, 5, 6, 7, 8, 9, 10, 11, 12, 13, 14, 15, 16, 17,\n",
       "                    18, 19, 20, 21, 22, 23, 24, 25, 26, 27, 28, 29, 30, 31, 32, 33,\n",
       "                    34, 35, 36, 37, 38, 39, 40, 41, 42, 43, 44, 45, 46, 47, 48, 49,\n",
       "                    50, 51, 52, 53, 54, 55, 56, 57, 58, 59, 60, 61, 62, 63, 64, 65,\n",
       "                    66, 67, 68, 69, 70, 71, 72, 73, 74, 75, 76, 77, 78, 79, 80, 81,\n",
       "                    82, 83, 84, 85, 86, 87, 88, 89, 90, 91, 92, 93, 94, 95, 96, 97,\n",
       "                    98, 99],\n",
       "              'y': [0.12850265399333416, 0.12850265399333416, 0.12850265399333416,\n",
       "                    0.12850265399333416, 0.12850265399333416, 0.12850265399333416,\n",
       "                    0.12850265399333416, 0.12850265399333416, 0.12850265399333416,\n",
       "                    0.12850265399333416, 0.12850265399333416, 0.12850265399333416,\n",
       "                    0.12850265399333416, 0.15022724481021987, 0.15022724481021987,\n",
       "                    0.15022724481021987, 0.15022724481021987, 0.15022724481021987,\n",
       "                    0.15022724481021987, 0.15022724481021987, 0.15022724481021987,\n",
       "                    0.15022724481021987, 0.15022724481021987, 0.15022724481021987,\n",
       "                    0.15022724481021987, 0.15022724481021987, 0.15022724481021987,\n",
       "                    0.15621927236971483, 0.15621927236971483, 0.15621927236971483,\n",
       "                    0.15621927236971483, 0.17262925753491792, 0.17262925753491792,\n",
       "                    0.17262925753491792, 0.17262925753491792, 0.17262925753491792,\n",
       "                    0.17262925753491792, 0.17262925753491792, 0.1728834355828221,\n",
       "                    0.1728834355828221, 0.1728834355828221, 0.18075980392156862,\n",
       "                    0.18075980392156862, 0.18075980392156862, 0.22924231420963448,\n",
       "                    0.22924231420963448, 0.22924231420963448, 0.22924231420963448,\n",
       "                    0.22924231420963448, 0.22924231420963448, 0.22924231420963448,\n",
       "                    0.22924231420963448, 0.22924231420963448, 0.22924231420963448,\n",
       "                    0.22924231420963448, 0.22924231420963448, 0.22924231420963448,\n",
       "                    0.22924231420963448, 0.22924231420963448, 0.22924231420963448,\n",
       "                    0.24036144578313254, 0.24036144578313254, 0.24036144578313254,\n",
       "                    0.24036144578313254, 0.24036144578313254, 0.24036144578313254,\n",
       "                    0.24036144578313254, 0.24036144578313254, 0.24036144578313254,\n",
       "                    0.24036144578313254, 0.24036144578313254, 0.24036144578313254,\n",
       "                    0.24036144578313254, 0.24036144578313254, 0.24036144578313254,\n",
       "                    0.24036144578313254, 0.24036144578313254, 0.24036144578313254,\n",
       "                    0.24036144578313254, 0.24036144578313254, 0.24036144578313254,\n",
       "                    0.24036144578313254, 0.24036144578313254, 0.24036144578313254,\n",
       "                    0.24036144578313254, 0.24036144578313254, 0.24036144578313254,\n",
       "                    0.25162142685563293, 0.25162142685563293, 0.25162142685563293,\n",
       "                    0.25162142685563293, 0.25162142685563293, 0.25162142685563293,\n",
       "                    0.25162142685563293, 0.25162142685563293, 0.25162142685563293,\n",
       "                    0.25162142685563293, 0.25162142685563293, 0.25162142685563293,\n",
       "                    0.25162142685563293]},\n",
       "             {'marker': {'color': '#cccccc'},\n",
       "              'mode': 'markers',\n",
       "              'name': 'Infeasible Trial',\n",
       "              'showlegend': False,\n",
       "              'type': 'scatter',\n",
       "              'x': [],\n",
       "              'y': []}],\n",
       "    'layout': {'template': '...',\n",
       "               'title': {'text': 'Optimization History Plot'},\n",
       "               'xaxis': {'title': {'text': 'Trial'}},\n",
       "               'yaxis': {'title': {'text': 'Objective Value'}}}\n",
       "})"
      ]
     },
     "execution_count": 49,
     "metadata": {},
     "output_type": "execute_result"
    }
   ],
   "source": [
    "# 하이퍼파라미터 최적화 과정을 확인\n",
    "optuna.visualization.plot_optimization_history(study_cat)"
   ]
  },
  {
   "cell_type": "code",
   "execution_count": 77,
   "metadata": {},
   "outputs": [
    {
     "data": {
      "text/plain": [
       "{'iterations': 969,\n",
       " 'learning_rate': 0.0878195653278425,\n",
       " 'depth': 10,\n",
       " 'l2_leaf_reg': 0.11654433378634937,\n",
       " 'bootstrap_type': 'Bayesian',\n",
       " 'random_strength': 1.3986307347140839e-06,\n",
       " 'bagging_temperature': 0.5870994114781527,\n",
       " 'od_type': 'IncToDec',\n",
       " 'od_wait': 23,\n",
       " 'min_data_in_leaf': 9}"
      ]
     },
     "execution_count": 77,
     "metadata": {},
     "output_type": "execute_result"
    }
   ],
   "source": [
    "# 하이퍼파라미터 튜닝을 통해 나온 최적의 하이퍼 파라미터 best_params에 선언\n",
    "best_params = study_cat.best_params"
   ]
  },
  {
   "cell_type": "code",
   "execution_count": 78,
   "metadata": {},
   "outputs": [],
   "source": [
    "# CatBoost 모델을 돌릴 때 추가로 설정해주는 하이퍼파라미터\n",
    "params_dict = {\"loss_function\" : \"MultiClass\",\n",
    "               \"verbose\" : 0,\n",
    "               \"task_type\" : \"GPU\",\n",
    "               \"devices\" : \"0\",\n",
    "               \"random_state\" : 42}"
   ]
  },
  {
   "cell_type": "code",
   "execution_count": 80,
   "metadata": {},
   "outputs": [],
   "source": [
    "# best_params에 params_dict을 합쳐준다\n",
    "def params(params):\n",
    "\n",
    "    params_dict = {\"loss_function\" : \"MultiClass\",\n",
    "                   \"verbose\" : 0,\n",
    "                   \"task_type\" : \"GPU\",\n",
    "                   \"devices\" : \"0\",\n",
    "                   \"random_state\" : 42}\n",
    "    \n",
    "    for key, value in params_dict.items():\n",
    "        params[key] = value\n",
    "    \n",
    "    return params"
   ]
  },
  {
   "cell_type": "code",
   "execution_count": 81,
   "metadata": {},
   "outputs": [
    {
     "data": {
      "text/plain": [
       "{'iterations': 969,\n",
       " 'learning_rate': 0.0878195653278425,\n",
       " 'depth': 10,\n",
       " 'l2_leaf_reg': 0.11654433378634937,\n",
       " 'bootstrap_type': 'Bayesian',\n",
       " 'random_strength': 1.3986307347140839e-06,\n",
       " 'bagging_temperature': 0.5870994114781527,\n",
       " 'od_type': 'IncToDec',\n",
       " 'od_wait': 23,\n",
       " 'min_data_in_leaf': 9,\n",
       " 'loss_function': 'MultiClass',\n",
       " 'verbose': 0,\n",
       " 'task_type': 'GPU',\n",
       " 'devices': '0',\n",
       " 'random_state': 42}"
      ]
     },
     "execution_count": 81,
     "metadata": {},
     "output_type": "execute_result"
    }
   ],
   "source": [
    "params(best_params)"
   ]
  },
  {
   "cell_type": "code",
   "execution_count": 83,
   "metadata": {},
   "outputs": [],
   "source": [
    "# 튜닝한 하이퍼 파라미터를 바탕으로, CatBoostClassifier 선언\n",
    "cat_optuna = CatBoostClassifier(**params(best_params))"
   ]
  },
  {
   "cell_type": "code",
   "execution_count": 85,
   "metadata": {},
   "outputs": [
    {
     "data": {
      "text/plain": [
       "{'iterations': 969,\n",
       " 'learning_rate': 0.0878195653278425,\n",
       " 'depth': 10,\n",
       " 'l2_leaf_reg': 0.11654433378634937,\n",
       " 'loss_function': 'MultiClass',\n",
       " 'od_wait': 23,\n",
       " 'od_type': 'IncToDec',\n",
       " 'verbose': 0,\n",
       " 'random_strength': 1.3986307347140839e-06,\n",
       " 'bagging_temperature': 0.5870994114781527,\n",
       " 'task_type': 'GPU',\n",
       " 'devices': '0',\n",
       " 'bootstrap_type': 'Bayesian',\n",
       " 'random_state': 42,\n",
       " 'min_data_in_leaf': 9}"
      ]
     },
     "execution_count": 85,
     "metadata": {},
     "output_type": "execute_result"
    }
   ],
   "source": [
    "cat_optuna.get_params()"
   ]
  },
  {
   "cell_type": "markdown",
   "metadata": {},
   "source": [
    "#### 3-4. CatBoost 인코딩 X"
   ]
  },
  {
   "cell_type": "code",
   "execution_count": 84,
   "metadata": {},
   "outputs": [],
   "source": [
    "# optuna sampling seed 고정\n",
    "sampler = TPESampler(seed=42)"
   ]
  },
  {
   "cell_type": "code",
   "execution_count": 98,
   "metadata": {},
   "outputs": [],
   "source": [
    "def objective_cat_no_enc(trial):\n",
    "    params = {\n",
    "        # \"loss_function\":'MultiClass',\n",
    "        \"iterations\": trial.suggest_int(\"iterations\", 900, 1000),\n",
    "        # \"iterations\" : trial.suggest_int('n_estimators', 500, 4000),\n",
    "        \"learning_rate\": trial.suggest_float(\"learning_rate\", 1e-2, 1e-1, log=True),\n",
    "        \"depth\": trial.suggest_int(\"depth\", 10, 12),\n",
    "        \"l2_leaf_reg\": trial.suggest_float(\"l2_leaf_reg\", 1e-1, 1.0, log=True),\n",
    "        \"bootstrap_type\": trial.suggest_categorical(\"bootstrap_type\", [\"Bayesian\", \"Poisson\"]),\n",
    "        \"random_strength\": trial.suggest_float(\"random_strength\", 1e-2, 1.0, log=True),\n",
    "        \"bagging_temperature\": trial.suggest_float(\"bagging_temperature\", 0.4, 1.0),\n",
    "        \"od_type\": trial.suggest_categorical(\"od_type\", [\"IncToDec\", \"Iter\"]),\n",
    "        \"od_wait\": trial.suggest_int(\"od_wait\", 20, 30),\n",
    "        # \"subsample\": trial.suggest_float(\"subsample\", 0.05, 1.0),\n",
    "        # \"colsample_bylevel\": trial.suggest_float(\"colsample_bylevel\", 0.05, 1.0),\n",
    "        \"min_data_in_leaf\": trial.suggest_int(\"min_data_in_leaf\", 5, 10),\n",
    "        # \"verbose\": False,\n",
    "        \"loss_function\": trial.suggest_categorical(\"loss_function\", [\"MultiClass\"]),\n",
    "        \"task_type\": trial.suggest_categorical(\"task_type\", [\"GPU\"]),\n",
    "        \"random_state\":trial.suggest_int(\"random_state\", 42, 42)\n",
    "    }\n",
    "\n",
    "    cat_features = ['month', 'stn_id', 're', 'dew_reached']\n",
    "\n",
    "    model = CatBoostClassifier(**params, verbose=False)\n",
    "                            #    loss_function=\"MultiClass\",\n",
    "                            #    silent=True,\n",
    "                            #    task_type=\"GPU\",\n",
    "                            #    random_state=42)\n",
    "\n",
    "    model.fit(X_train_no_enc, y_train, cat_features=cat_features)\n",
    "    predictions = model.predict(X_val_no_enc)\n",
    "    csi = csi_index(y_val, predictions)\n",
    "\n",
    "    return csi"
   ]
  },
  {
   "cell_type": "code",
   "execution_count": 99,
   "metadata": {},
   "outputs": [
    {
     "name": "stderr",
     "output_type": "stream",
     "text": [
      "[I 2024-06-23 07:23:28,955] A new study created in memory with name: catboost_no_enc\n",
      "[I 2024-06-23 07:23:51,854] Trial 0 finished with value: 0.0 and parameters: {'iterations': 931, 'learning_rate': 0.0322530426717912, 'depth': 12, 'l2_leaf_reg': 0.17753837036522244, 'bootstrap_type': 'Poisson', 'random_strength': 0.02868113482103008, 'bagging_temperature': 0.44618794589727584, 'od_type': 'IncToDec', 'od_wait': 30, 'min_data_in_leaf': 9, 'loss_funtion': 'MultiClass', 'task_type': 'GPU', 'random_state': 42}. Best is trial 0 with value: 0.0.\n",
      "[I 2024-06-23 07:26:24,681] Trial 1 finished with value: 0.27806031933767 and parameters: {'iterations': 963, 'learning_rate': 0.07438075634395301, 'depth': 12, 'l2_leaf_reg': 0.15366326576125022, 'bootstrap_type': 'Bayesian', 'random_strength': 0.4119839624605187, 'bagging_temperature': 0.937654779954096, 'od_type': 'IncToDec', 'od_wait': 22, 'min_data_in_leaf': 7, 'loss_funtion': 'MultiClass', 'task_type': 'GPU', 'random_state': 42}. Best is trial 1 with value: 0.27806031933767.\n",
      "[I 2024-06-23 07:27:48,061] Trial 2 finished with value: 0.22630189584833213 and parameters: {'iterations': 982, 'learning_rate': 0.07256556536786182, 'depth': 10, 'l2_leaf_reg': 0.3241509528627272, 'bootstrap_type': 'Bayesian', 'random_strength': 0.01736723715159317, 'bagging_temperature': 0.6025691028421768, 'od_type': 'IncToDec', 'od_wait': 25, 'min_data_in_leaf': 9, 'loss_funtion': 'MultiClass', 'task_type': 'GPU', 'random_state': 42}. Best is trial 1 with value: 0.27806031933767.\n",
      "[I 2024-06-23 07:30:11,131] Trial 3 finished with value: 0.28725905030559473 and parameters: {'iterations': 936, 'learning_rate': 0.09370916815598128, 'depth': 12, 'l2_leaf_reg': 0.1785592264516227, 'bootstrap_type': 'Bayesian', 'random_strength': 0.03712624179040532, 'bagging_temperature': 0.4221321684127197, 'od_type': 'IncToDec', 'od_wait': 20, 'min_data_in_leaf': 6, 'loss_funtion': 'MultiClass', 'task_type': 'GPU', 'random_state': 42}. Best is trial 3 with value: 0.28725905030559473.\n",
      "[I 2024-06-23 07:31:34,807] Trial 4 finished with value: 0.10239491691104595 and parameters: {'iterations': 991, 'learning_rate': 0.017360486469796304, 'depth': 10, 'l2_leaf_reg': 0.30864039085286243, 'bootstrap_type': 'Bayesian', 'random_strength': 0.22093834415066277, 'bagging_temperature': 0.8569717691972305, 'od_type': 'Iter', 'od_wait': 24, 'min_data_in_leaf': 8, 'loss_funtion': 'MultiClass', 'task_type': 'GPU', 'random_state': 42}. Best is trial 3 with value: 0.28725905030559473.\n",
      "[I 2024-06-23 07:32:55,794] Trial 5 finished with value: 0.14817065759085937 and parameters: {'iterations': 963, 'learning_rate': 0.03433797531418577, 'depth': 10, 'l2_leaf_reg': 0.6843881726124968, 'bootstrap_type': 'Bayesian', 'random_strength': 0.01206563777437894, 'bagging_temperature': 0.754535765912945, 'od_type': 'IncToDec', 'od_wait': 25, 'min_data_in_leaf': 6, 'loss_funtion': 'MultiClass', 'task_type': 'GPU', 'random_state': 42}. Best is trial 3 with value: 0.28725905030559473.\n",
      "[I 2024-06-23 07:35:25,038] Trial 6 finished with value: 0.12281772677328776 and parameters: {'iterations': 965, 'learning_rate': 0.014940544624243646, 'depth': 12, 'l2_leaf_reg': 0.2436325699083496, 'bootstrap_type': 'Bayesian', 'random_strength': 0.04809862951501385, 'bagging_temperature': 0.46808411274435346, 'od_type': 'IncToDec', 'od_wait': 22, 'min_data_in_leaf': 8, 'loss_funtion': 'MultiClass', 'task_type': 'GPU', 'random_state': 42}. Best is trial 3 with value: 0.28725905030559473.\n",
      "[I 2024-06-23 07:35:47,780] Trial 7 finished with value: 0.0 and parameters: {'iterations': 982, 'learning_rate': 0.035908793342403184, 'depth': 11, 'l2_leaf_reg': 0.17452284774749144, 'bootstrap_type': 'Poisson', 'random_strength': 0.6321732490144019, 'bagging_temperature': 0.7798608743639608, 'od_type': 'Iter', 'od_wait': 27, 'min_data_in_leaf': 10, 'loss_funtion': 'MultiClass', 'task_type': 'GPU', 'random_state': 42}. Best is trial 3 with value: 0.28725905030559473.\n",
      "[I 2024-06-23 07:36:10,856] Trial 8 finished with value: 0.0 and parameters: {'iterations': 989, 'learning_rate': 0.06023869375703683, 'depth': 11, 'l2_leaf_reg': 0.1213779966035863, 'bootstrap_type': 'Poisson', 'random_strength': 0.16325185294676908, 'bagging_temperature': 0.4055182309699778, 'od_type': 'Iter', 'od_wait': 20, 'min_data_in_leaf': 5, 'loss_funtion': 'MultiClass', 'task_type': 'GPU', 'random_state': 42}. Best is trial 3 with value: 0.28725905030559473.\n",
      "[I 2024-06-23 07:37:56,089] Trial 9 finished with value: 0.22194153735113678 and parameters: {'iterations': 955, 'learning_rate': 0.0491920812880881, 'depth': 11, 'l2_leaf_reg': 0.16759818435211718, 'bootstrap_type': 'Bayesian', 'random_strength': 0.04475065500006154, 'bagging_temperature': 0.8478948430708144, 'od_type': 'Iter', 'od_wait': 27, 'min_data_in_leaf': 8, 'loss_funtion': 'MultiClass', 'task_type': 'GPU', 'random_state': 42}. Best is trial 3 with value: 0.28725905030559473.\n",
      "[I 2024-06-23 07:38:17,792] Trial 10 finished with value: 0.0 and parameters: {'iterations': 904, 'learning_rate': 0.010139048090380883, 'depth': 12, 'l2_leaf_reg': 0.554821519836515, 'bootstrap_type': 'Poisson', 'random_strength': 0.08617467629165365, 'bagging_temperature': 0.6167871978650856, 'od_type': 'IncToDec', 'od_wait': 20, 'min_data_in_leaf': 5, 'loss_funtion': 'MultiClass', 'task_type': 'GPU', 'random_state': 42}. Best is trial 3 with value: 0.28725905030559473.\n",
      "[I 2024-06-23 07:40:43,325] Trial 11 finished with value: 0.28793225123500354 and parameters: {'iterations': 936, 'learning_rate': 0.09272876248237034, 'depth': 12, 'l2_leaf_reg': 0.11480834664234904, 'bootstrap_type': 'Bayesian', 'random_strength': 0.7432308912830164, 'bagging_temperature': 0.9763304890160861, 'od_type': 'IncToDec', 'od_wait': 22, 'min_data_in_leaf': 6, 'loss_funtion': 'MultiClass', 'task_type': 'GPU', 'random_state': 42}. Best is trial 11 with value: 0.28793225123500354.\n",
      "[I 2024-06-23 07:43:06,166] Trial 12 finished with value: 0.2931722196152041 and parameters: {'iterations': 930, 'learning_rate': 0.09983669530310456, 'depth': 12, 'l2_leaf_reg': 0.1147068286463238, 'bootstrap_type': 'Bayesian', 'random_strength': 0.9568085992921923, 'bagging_temperature': 0.9638236103673785, 'od_type': 'IncToDec', 'od_wait': 22, 'min_data_in_leaf': 6, 'loss_funtion': 'MultiClass', 'task_type': 'GPU', 'random_state': 42}. Best is trial 12 with value: 0.2931722196152041.\n",
      "[I 2024-06-23 07:45:27,787] Trial 13 finished with value: 0.2905571847507331 and parameters: {'iterations': 924, 'learning_rate': 0.09683389684397928, 'depth': 12, 'l2_leaf_reg': 0.10860598960508636, 'bootstrap_type': 'Bayesian', 'random_strength': 0.9950971701518668, 'bagging_temperature': 0.9948452370703834, 'od_type': 'IncToDec', 'od_wait': 22, 'min_data_in_leaf': 6, 'loss_funtion': 'MultiClass', 'task_type': 'GPU', 'random_state': 42}. Best is trial 12 with value: 0.2931722196152041.\n",
      "[I 2024-06-23 07:47:08,633] Trial 14 finished with value: 0.22529976019184653 and parameters: {'iterations': 910, 'learning_rate': 0.052368997965588325, 'depth': 11, 'l2_leaf_reg': 0.11769112747107878, 'bootstrap_type': 'Bayesian', 'random_strength': 0.9381526079309349, 'bagging_temperature': 0.998361368762777, 'od_type': 'IncToDec', 'od_wait': 23, 'min_data_in_leaf': 7, 'loss_funtion': 'MultiClass', 'task_type': 'GPU', 'random_state': 42}. Best is trial 12 with value: 0.2931722196152041.\n",
      "[I 2024-06-23 07:49:30,388] Trial 15 finished with value: 0.14765263926052055 and parameters: {'iterations': 918, 'learning_rate': 0.022217772808291784, 'depth': 12, 'l2_leaf_reg': 0.9490005532105715, 'bootstrap_type': 'Bayesian', 'random_strength': 0.35380667927151804, 'bagging_temperature': 0.9037235616896369, 'od_type': 'IncToDec', 'od_wait': 23, 'min_data_in_leaf': 6, 'loss_funtion': 'MultiClass', 'task_type': 'GPU', 'random_state': 42}. Best is trial 12 with value: 0.2931722196152041.\n",
      "[I 2024-06-23 07:51:11,718] Trial 16 finished with value: 0.27720084965777675 and parameters: {'iterations': 922, 'learning_rate': 0.09845913553238173, 'depth': 11, 'l2_leaf_reg': 0.1021023799242402, 'bootstrap_type': 'Bayesian', 'random_strength': 0.42177545705694447, 'bagging_temperature': 0.8818558550319799, 'od_type': 'IncToDec', 'od_wait': 27, 'min_data_in_leaf': 5, 'loss_funtion': 'MultiClass', 'task_type': 'GPU', 'random_state': 42}. Best is trial 12 with value: 0.2931722196152041.\n",
      "[I 2024-06-23 07:53:37,829] Trial 17 finished with value: 0.23776391554702495 and parameters: {'iterations': 944, 'learning_rate': 0.044591078085547575, 'depth': 12, 'l2_leaf_reg': 0.22944531640548357, 'bootstrap_type': 'Bayesian', 'random_strength': 0.20617982003071667, 'bagging_temperature': 0.6451925417403698, 'od_type': 'IncToDec', 'od_wait': 21, 'min_data_in_leaf': 7, 'loss_funtion': 'MultiClass', 'task_type': 'GPU', 'random_state': 42}. Best is trial 12 with value: 0.2931722196152041.\n",
      "[I 2024-06-23 07:53:59,792] Trial 18 finished with value: 0.0 and parameters: {'iterations': 923, 'learning_rate': 0.07063130630875347, 'depth': 11, 'l2_leaf_reg': 0.39821660477626525, 'bootstrap_type': 'Poisson', 'random_strength': 0.10535549758318115, 'bagging_temperature': 0.7649860107477254, 'od_type': 'Iter', 'od_wait': 24, 'min_data_in_leaf': 6, 'loss_funtion': 'MultiClass', 'task_type': 'GPU', 'random_state': 42}. Best is trial 12 with value: 0.2931722196152041.\n",
      "[I 2024-06-23 07:56:26,587] Trial 19 finished with value: 0.17832929782082324 and parameters: {'iterations': 945, 'learning_rate': 0.02435729928121124, 'depth': 12, 'l2_leaf_reg': 0.14134159541726996, 'bootstrap_type': 'Bayesian', 'random_strength': 0.5478918430679048, 'bagging_temperature': 0.9445016006525577, 'od_type': 'IncToDec', 'od_wait': 30, 'min_data_in_leaf': 5, 'loss_funtion': 'MultiClass', 'task_type': 'GPU', 'random_state': 42}. Best is trial 12 with value: 0.2931722196152041.\n",
      "[I 2024-06-23 07:58:07,576] Trial 20 finished with value: 0.243876209821962 and parameters: {'iterations': 913, 'learning_rate': 0.06208615996715284, 'depth': 11, 'l2_leaf_reg': 0.1000766240075895, 'bootstrap_type': 'Bayesian', 'random_strength': 0.9270172674912857, 'bagging_temperature': 0.8204015246167171, 'od_type': 'IncToDec', 'od_wait': 21, 'min_data_in_leaf': 7, 'loss_funtion': 'MultiClass', 'task_type': 'GPU', 'random_state': 42}. Best is trial 12 with value: 0.2931722196152041.\n",
      "[I 2024-06-23 08:00:31,116] Trial 21 finished with value: 0.28039906103286383 and parameters: {'iterations': 933, 'learning_rate': 0.08747553968909785, 'depth': 12, 'l2_leaf_reg': 0.12782930262455264, 'bootstrap_type': 'Bayesian', 'random_strength': 0.9884157497090024, 'bagging_temperature': 0.9829980545849427, 'od_type': 'IncToDec', 'od_wait': 22, 'min_data_in_leaf': 6, 'loss_funtion': 'MultiClass', 'task_type': 'GPU', 'random_state': 42}. Best is trial 12 with value: 0.2931722196152041.\n",
      "[I 2024-06-23 08:02:54,185] Trial 22 finished with value: 0.278995756718529 and parameters: {'iterations': 928, 'learning_rate': 0.08499420175054545, 'depth': 12, 'l2_leaf_reg': 0.22103121702747772, 'bootstrap_type': 'Bayesian', 'random_strength': 0.6350410336999934, 'bagging_temperature': 0.9490568243059672, 'od_type': 'IncToDec', 'od_wait': 23, 'min_data_in_leaf': 6, 'loss_funtion': 'MultiClass', 'task_type': 'GPU', 'random_state': 42}. Best is trial 12 with value: 0.2931722196152041.\n",
      "[I 2024-06-23 08:05:18,792] Trial 23 finished with value: 0.2900188323917137 and parameters: {'iterations': 939, 'learning_rate': 0.09718784266210637, 'depth': 12, 'l2_leaf_reg': 0.10323517066092204, 'bootstrap_type': 'Bayesian', 'random_strength': 0.31994558476421003, 'bagging_temperature': 0.9286792822874959, 'od_type': 'IncToDec', 'od_wait': 21, 'min_data_in_leaf': 5, 'loss_funtion': 'MultiClass', 'task_type': 'GPU', 'random_state': 42}. Best is trial 12 with value: 0.2931722196152041.\n",
      "[I 2024-06-23 08:07:39,571] Trial 24 finished with value: 0.2305755395683453 and parameters: {'iterations': 900, 'learning_rate': 0.04239377620629889, 'depth': 12, 'l2_leaf_reg': 0.14206980233999944, 'bootstrap_type': 'Bayesian', 'random_strength': 0.30671543769302806, 'bagging_temperature': 0.9063815975800915, 'od_type': 'IncToDec', 'od_wait': 21, 'min_data_in_leaf': 5, 'loss_funtion': 'MultiClass', 'task_type': 'GPU', 'random_state': 42}. Best is trial 12 with value: 0.2931722196152041.\n",
      "[I 2024-06-23 08:10:06,655] Trial 25 finished with value: 0.26761734997029113 and parameters: {'iterations': 951, 'learning_rate': 0.06097515279359286, 'depth': 12, 'l2_leaf_reg': 0.1015175950474555, 'bootstrap_type': 'Bayesian', 'random_strength': 0.25457027023417383, 'bagging_temperature': 0.700113993099621, 'od_type': 'IncToDec', 'od_wait': 24, 'min_data_in_leaf': 5, 'loss_funtion': 'MultiClass', 'task_type': 'GPU', 'random_state': 42}. Best is trial 12 with value: 0.2931722196152041.\n",
      "[I 2024-06-23 08:10:29,714] Trial 26 finished with value: 0.0 and parameters: {'iterations': 942, 'learning_rate': 0.0797902615391844, 'depth': 12, 'l2_leaf_reg': 0.20416574917424024, 'bootstrap_type': 'Poisson', 'random_strength': 0.5118829302299718, 'bagging_temperature': 0.5374928280264752, 'od_type': 'Iter', 'od_wait': 21, 'min_data_in_leaf': 7, 'loss_funtion': 'MultiClass', 'task_type': 'GPU', 'random_state': 42}. Best is trial 12 with value: 0.2931722196152041.\n",
      "[I 2024-06-23 08:12:11,308] Trial 27 finished with value: 0.27771198484130744 and parameters: {'iterations': 915, 'learning_rate': 0.09876351980893978, 'depth': 11, 'l2_leaf_reg': 0.13671121703289973, 'bootstrap_type': 'Bayesian', 'random_strength': 0.1211419467444612, 'bagging_temperature': 0.819739100223358, 'od_type': 'IncToDec', 'od_wait': 23, 'min_data_in_leaf': 5, 'loss_funtion': 'MultiClass', 'task_type': 'GPU', 'random_state': 42}. Best is trial 12 with value: 0.2931722196152041.\n",
      "[I 2024-06-23 08:14:35,942] Trial 28 finished with value: 0.26741839762611275 and parameters: {'iterations': 927, 'learning_rate': 0.06637885977713653, 'depth': 12, 'l2_leaf_reg': 0.29875676471389956, 'bootstrap_type': 'Bayesian', 'random_strength': 0.15182275249142338, 'bagging_temperature': 0.927717611723504, 'od_type': 'IncToDec', 'od_wait': 26, 'min_data_in_leaf': 6, 'loss_funtion': 'MultiClass', 'task_type': 'GPU', 'random_state': 42}. Best is trial 12 with value: 0.2931722196152041.\n",
      "[I 2024-06-23 08:14:58,462] Trial 29 finished with value: 0.0 and parameters: {'iterations': 939, 'learning_rate': 0.027874093791183073, 'depth': 12, 'l2_leaf_reg': 0.18947979591283792, 'bootstrap_type': 'Poisson', 'random_strength': 0.07976288750552991, 'bagging_temperature': 0.9892370649298379, 'od_type': 'IncToDec', 'od_wait': 29, 'min_data_in_leaf': 10, 'loss_funtion': 'MultiClass', 'task_type': 'GPU', 'random_state': 42}. Best is trial 12 with value: 0.2931722196152041.\n",
      "[I 2024-06-23 08:17:27,322] Trial 30 finished with value: 0.2532824063022201 and parameters: {'iterations': 954, 'learning_rate': 0.05230247475869188, 'depth': 12, 'l2_leaf_reg': 0.1550681935899459, 'bootstrap_type': 'Bayesian', 'random_strength': 0.48077957960872975, 'bagging_temperature': 0.8739990495553775, 'od_type': 'IncToDec', 'od_wait': 20, 'min_data_in_leaf': 9, 'loss_funtion': 'MultiClass', 'task_type': 'GPU', 'random_state': 42}. Best is trial 12 with value: 0.2931722196152041.\n",
      "[I 2024-06-23 08:19:51,456] Trial 31 finished with value: 0.28605173024684066 and parameters: {'iterations': 934, 'learning_rate': 0.0817692643937638, 'depth': 12, 'l2_leaf_reg': 0.11397521798764408, 'bootstrap_type': 'Bayesian', 'random_strength': 0.7273038915885469, 'bagging_temperature': 0.9690834102974448, 'od_type': 'IncToDec', 'od_wait': 22, 'min_data_in_leaf': 6, 'loss_funtion': 'MultiClass', 'task_type': 'GPU', 'random_state': 42}. Best is trial 12 with value: 0.2931722196152041.\n",
      "[I 2024-06-23 08:22:15,171] Trial 32 finished with value: 0.2928889931940859 and parameters: {'iterations': 931, 'learning_rate': 0.09816495353732034, 'depth': 12, 'l2_leaf_reg': 0.11411571934691717, 'bootstrap_type': 'Bayesian', 'random_strength': 0.7337394880720745, 'bagging_temperature': 0.941386283622231, 'od_type': 'IncToDec', 'od_wait': 22, 'min_data_in_leaf': 7, 'loss_funtion': 'MultiClass', 'task_type': 'GPU', 'random_state': 42}. Best is trial 12 with value: 0.2931722196152041.\n",
      "[I 2024-06-23 08:24:38,812] Trial 33 finished with value: 0.2761803336883209 and parameters: {'iterations': 928, 'learning_rate': 0.07417093142673636, 'depth': 12, 'l2_leaf_reg': 0.15036337835075836, 'bootstrap_type': 'Bayesian', 'random_strength': 0.3245153964917275, 'bagging_temperature': 0.9171056721462583, 'od_type': 'IncToDec', 'od_wait': 21, 'min_data_in_leaf': 7, 'loss_funtion': 'MultiClass', 'task_type': 'GPU', 'random_state': 42}. Best is trial 12 with value: 0.2931722196152041.\n",
      "[I 2024-06-23 08:27:01,842] Trial 34 finished with value: 0.27888022678951097 and parameters: {'iterations': 921, 'learning_rate': 0.07784387064741255, 'depth': 12, 'l2_leaf_reg': 0.1308729155057031, 'bootstrap_type': 'Bayesian', 'random_strength': 0.8376112769952226, 'bagging_temperature': 0.9449848024816647, 'od_type': 'IncToDec', 'od_wait': 23, 'min_data_in_leaf': 7, 'loss_funtion': 'MultiClass', 'task_type': 'GPU', 'random_state': 42}. Best is trial 12 with value: 0.2931722196152041.\n",
      "[I 2024-06-23 08:29:22,044] Trial 35 finished with value: 0.28640093786635407 and parameters: {'iterations': 908, 'learning_rate': 0.09798416368452745, 'depth': 12, 'l2_leaf_reg': 0.11560867752880787, 'bootstrap_type': 'Bayesian', 'random_strength': 0.4216029494462849, 'bagging_temperature': 0.8297360774142007, 'od_type': 'IncToDec', 'od_wait': 22, 'min_data_in_leaf': 8, 'loss_funtion': 'MultiClass', 'task_type': 'GPU', 'random_state': 42}. Best is trial 12 with value: 0.2931722196152041.\n",
      "[I 2024-06-23 08:31:50,744] Trial 36 finished with value: 0.26812796208530804 and parameters: {'iterations': 960, 'learning_rate': 0.06954203221024007, 'depth': 12, 'l2_leaf_reg': 0.39747277605643644, 'bootstrap_type': 'Bayesian', 'random_strength': 0.5892836832577117, 'bagging_temperature': 0.8884516750617238, 'od_type': 'IncToDec', 'od_wait': 24, 'min_data_in_leaf': 6, 'loss_funtion': 'MultiClass', 'task_type': 'GPU', 'random_state': 42}. Best is trial 12 with value: 0.2931722196152041.\n",
      "[I 2024-06-23 08:33:11,340] Trial 37 finished with value: 0.24330463892874224 and parameters: {'iterations': 947, 'learning_rate': 0.0846663251569096, 'depth': 10, 'l2_leaf_reg': 0.16022583447639055, 'bootstrap_type': 'Bayesian', 'random_strength': 0.022649855551517876, 'bagging_temperature': 0.7269186489514545, 'od_type': 'IncToDec', 'od_wait': 20, 'min_data_in_leaf': 7, 'loss_funtion': 'MultiClass', 'task_type': 'GPU', 'random_state': 42}. Best is trial 12 with value: 0.2931722196152041.\n",
      "[I 2024-06-23 08:35:41,161] Trial 38 finished with value: 0.28477288773829135 and parameters: {'iterations': 970, 'learning_rate': 0.08703956295202678, 'depth': 12, 'l2_leaf_reg': 0.26769751001277453, 'bootstrap_type': 'Bayesian', 'random_strength': 0.7704758488381748, 'bagging_temperature': 0.7879245234775498, 'od_type': 'Iter', 'od_wait': 25, 'min_data_in_leaf': 6, 'loss_funtion': 'MultiClass', 'task_type': 'GPU', 'random_state': 42}. Best is trial 12 with value: 0.2931722196152041.\n",
      "[I 2024-06-23 08:38:08,527] Trial 39 finished with value: 0.26005010139568174 and parameters: {'iterations': 938, 'learning_rate': 0.05623432214678569, 'depth': 12, 'l2_leaf_reg': 0.18337551121589737, 'bootstrap_type': 'Bayesian', 'random_strength': 0.2712512300516339, 'bagging_temperature': 0.9532165468252846, 'od_type': 'IncToDec', 'od_wait': 21, 'min_data_in_leaf': 5, 'loss_funtion': 'MultiClass', 'task_type': 'GPU', 'random_state': 42}. Best is trial 12 with value: 0.2931722196152041.\n",
      "[I 2024-06-23 08:38:30,584] Trial 40 finished with value: 0.0 and parameters: {'iterations': 931, 'learning_rate': 0.038278771370061755, 'depth': 11, 'l2_leaf_reg': 0.1083102861806843, 'bootstrap_type': 'Poisson', 'random_strength': 0.36548125465930364, 'bagging_temperature': 0.8567060425530753, 'od_type': 'IncToDec', 'od_wait': 22, 'min_data_in_leaf': 8, 'loss_funtion': 'MultiClass', 'task_type': 'GPU', 'random_state': 42}. Best is trial 12 with value: 0.2931722196152041.\n",
      "[I 2024-06-23 08:40:55,827] Trial 41 finished with value: 0.2911688920121808 and parameters: {'iterations': 938, 'learning_rate': 0.0999732052188367, 'depth': 12, 'l2_leaf_reg': 0.1252791809327128, 'bootstrap_type': 'Bayesian', 'random_strength': 0.6504880053213251, 'bagging_temperature': 0.9666717729654328, 'od_type': 'IncToDec', 'od_wait': 22, 'min_data_in_leaf': 6, 'loss_funtion': 'MultiClass', 'task_type': 'GPU', 'random_state': 42}. Best is trial 12 with value: 0.2931722196152041.\n",
      "[I 2024-06-23 08:43:20,707] Trial 42 finished with value: 0.27711413364872856 and parameters: {'iterations': 939, 'learning_rate': 0.07332107323022724, 'depth': 12, 'l2_leaf_reg': 0.12880924755939802, 'bootstrap_type': 'Bayesian', 'random_strength': 0.6839762666854259, 'bagging_temperature': 0.9195412699418195, 'od_type': 'IncToDec', 'od_wait': 22, 'min_data_in_leaf': 6, 'loss_funtion': 'MultiClass', 'task_type': 'GPU', 'random_state': 42}. Best is trial 12 with value: 0.2931722196152041.\n",
      "[I 2024-06-23 08:45:42,751] Trial 43 finished with value: 0.28936220287126385 and parameters: {'iterations': 925, 'learning_rate': 0.0906547882555025, 'depth': 12, 'l2_leaf_reg': 0.12373738625455497, 'bootstrap_type': 'Bayesian', 'random_strength': 0.9909037294219961, 'bagging_temperature': 0.9982527232831665, 'od_type': 'IncToDec', 'od_wait': 23, 'min_data_in_leaf': 5, 'loss_funtion': 'MultiClass', 'task_type': 'GPU', 'random_state': 42}. Best is trial 12 with value: 0.2931722196152041.\n",
      "[I 2024-06-23 08:48:05,631] Trial 44 finished with value: 0.2889854391733208 and parameters: {'iterations': 930, 'learning_rate': 0.09885521654182636, 'depth': 12, 'l2_leaf_reg': 0.11006246567300462, 'bootstrap_type': 'Bayesian', 'random_strength': 0.4793043189591878, 'bagging_temperature': 0.9594349981030692, 'od_type': 'Iter', 'od_wait': 21, 'min_data_in_leaf': 6, 'loss_funtion': 'MultiClass', 'task_type': 'GPU', 'random_state': 42}. Best is trial 12 with value: 0.2931722196152041.\n",
      "[I 2024-06-23 08:49:23,996] Trial 45 finished with value: 0.071052309200049 and parameters: {'iterations': 918, 'learning_rate': 0.01161713098852707, 'depth': 10, 'l2_leaf_reg': 0.145927640407004, 'bootstrap_type': 'Bayesian', 'random_strength': 0.6088564941930791, 'bagging_temperature': 0.9254938814684383, 'od_type': 'IncToDec', 'od_wait': 20, 'min_data_in_leaf': 7, 'loss_funtion': 'MultiClass', 'task_type': 'GPU', 'random_state': 42}. Best is trial 12 with value: 0.2931722196152041.\n",
      "[I 2024-06-23 08:51:50,175] Trial 46 finished with value: 0.27122473246135553 and parameters: {'iterations': 949, 'learning_rate': 0.06598585552664464, 'depth': 12, 'l2_leaf_reg': 0.16210710936138456, 'bootstrap_type': 'Bayesian', 'random_strength': 0.8209103803145115, 'bagging_temperature': 0.8894497332349747, 'od_type': 'IncToDec', 'od_wait': 25, 'min_data_in_leaf': 5, 'loss_funtion': 'MultiClass', 'task_type': 'GPU', 'random_state': 42}. Best is trial 12 with value: 0.2931722196152041.\n",
      "[I 2024-06-23 08:54:24,098] Trial 47 finished with value: 0.2859835100117786 and parameters: {'iterations': 997, 'learning_rate': 0.0779805318857332, 'depth': 12, 'l2_leaf_reg': 0.12175372391246926, 'bootstrap_type': 'Bayesian', 'random_strength': 0.20546438566553388, 'bagging_temperature': 0.9681026181940737, 'od_type': 'IncToDec', 'od_wait': 24, 'min_data_in_leaf': 6, 'loss_funtion': 'MultiClass', 'task_type': 'GPU', 'random_state': 42}. Best is trial 12 with value: 0.2931722196152041.\n",
      "[I 2024-06-23 08:54:46,504] Trial 48 finished with value: 0.0 and parameters: {'iterations': 935, 'learning_rate': 0.09055887459261319, 'depth': 12, 'l2_leaf_reg': 0.6227583802659902, 'bootstrap_type': 'Poisson', 'random_strength': 0.42477771608010706, 'bagging_temperature': 0.48647326715075434, 'od_type': 'IncToDec', 'od_wait': 22, 'min_data_in_leaf': 8, 'loss_funtion': 'MultiClass', 'task_type': 'GPU', 'random_state': 42}. Best is trial 12 with value: 0.2931722196152041.\n",
      "[I 2024-06-23 08:56:30,658] Trial 49 finished with value: 0.1239164937126114 and parameters: {'iterations': 943, 'learning_rate': 0.018192803386835626, 'depth': 11, 'l2_leaf_reg': 0.1008312854238249, 'bootstrap_type': 'Bayesian', 'random_strength': 0.7340130664699865, 'bagging_temperature': 0.9989926718124382, 'od_type': 'Iter', 'od_wait': 23, 'min_data_in_leaf': 6, 'loss_funtion': 'MultiClass', 'task_type': 'GPU', 'random_state': 42}. Best is trial 12 with value: 0.2931722196152041.\n",
      "[I 2024-06-23 08:58:52,109] Trial 50 finished with value: 0.2914419695193435 and parameters: {'iterations': 919, 'learning_rate': 0.09985805436935463, 'depth': 12, 'l2_leaf_reg': 0.1353016967182949, 'bootstrap_type': 'Bayesian', 'random_strength': 0.5331991659894839, 'bagging_temperature': 0.9345097004041447, 'od_type': 'IncToDec', 'od_wait': 21, 'min_data_in_leaf': 7, 'loss_funtion': 'MultiClass', 'task_type': 'GPU', 'random_state': 42}. Best is trial 12 with value: 0.2931722196152041.\n",
      "[I 2024-06-23 09:01:13,628] Trial 51 finished with value: 0.29276315789473684 and parameters: {'iterations': 919, 'learning_rate': 0.09958580828804613, 'depth': 12, 'l2_leaf_reg': 0.10998549416477212, 'bootstrap_type': 'Bayesian', 'random_strength': 0.5276157771747381, 'bagging_temperature': 0.9338605498984635, 'od_type': 'IncToDec', 'od_wait': 21, 'min_data_in_leaf': 7, 'loss_funtion': 'MultiClass', 'task_type': 'GPU', 'random_state': 42}. Best is trial 12 with value: 0.2931722196152041.\n",
      "[I 2024-06-23 09:03:35,102] Trial 52 finished with value: 0.28311902795800403 and parameters: {'iterations': 918, 'learning_rate': 0.08326559386740026, 'depth': 12, 'l2_leaf_reg': 0.13402350528791818, 'bootstrap_type': 'Bayesian', 'random_strength': 0.6132929696726209, 'bagging_temperature': 0.8662346798382395, 'od_type': 'IncToDec', 'od_wait': 20, 'min_data_in_leaf': 7, 'loss_funtion': 'MultiClass', 'task_type': 'GPU', 'random_state': 42}. Best is trial 12 with value: 0.2931722196152041.\n",
      "[I 2024-06-23 09:05:55,532] Trial 53 finished with value: 0.2885542877308552 and parameters: {'iterations': 909, 'learning_rate': 0.09094877096188098, 'depth': 12, 'l2_leaf_reg': 0.11341776490171795, 'bootstrap_type': 'Bayesian', 'random_strength': 0.5048358599494229, 'bagging_temperature': 0.968963788030498, 'od_type': 'IncToDec', 'od_wait': 22, 'min_data_in_leaf': 7, 'loss_funtion': 'MultiClass', 'task_type': 'GPU', 'random_state': 42}. Best is trial 12 with value: 0.2931722196152041.\n",
      "[I 2024-06-23 09:08:17,003] Trial 54 finished with value: 0.2765004126871831 and parameters: {'iterations': 913, 'learning_rate': 0.07881079924894863, 'depth': 12, 'l2_leaf_reg': 0.16950275929707478, 'bootstrap_type': 'Bayesian', 'random_strength': 0.06641265411941129, 'bagging_temperature': 0.8979433475793137, 'od_type': 'IncToDec', 'od_wait': 21, 'min_data_in_leaf': 8, 'loss_funtion': 'MultiClass', 'task_type': 'GPU', 'random_state': 42}. Best is trial 12 with value: 0.2931722196152041.\n",
      "[I 2024-06-23 09:10:39,277] Trial 55 finished with value: 0.28512639623750735 and parameters: {'iterations': 922, 'learning_rate': 0.09088287946729431, 'depth': 12, 'l2_leaf_reg': 0.12245940303646281, 'bootstrap_type': 'Bayesian', 'random_strength': 0.8984320942121886, 'bagging_temperature': 0.8416125662449669, 'od_type': 'IncToDec', 'od_wait': 22, 'min_data_in_leaf': 7, 'loss_funtion': 'MultiClass', 'task_type': 'GPU', 'random_state': 42}. Best is trial 12 with value: 0.2931722196152041.\n",
      "[W 2024-06-23 09:10:54,237] Trial 56 failed with parameters: {'iterations': 905, 'learning_rate': 0.09990452938360975, 'depth': 12, 'l2_leaf_reg': 0.8607000841233803, 'bootstrap_type': 'Bayesian', 'random_strength': 0.01121026811491841, 'bagging_temperature': 0.9440972765055362, 'od_type': 'IncToDec', 'od_wait': 23, 'min_data_in_leaf': 8, 'loss_funtion': 'MultiClass', 'task_type': 'GPU', 'random_state': 42} because of the following error: KeyboardInterrupt('').\n",
      "Traceback (most recent call last):\n",
      "  File \"c:\\Users\\aryij\\anaconda3\\envs\\weather2\\Lib\\site-packages\\optuna\\study\\_optimize.py\", line 196, in _run_trial\n",
      "    value_or_values = func(trial)\n",
      "                      ^^^^^^^^^^^\n",
      "  File \"C:\\Users\\aryij\\AppData\\Local\\Temp\\ipykernel_29328\\1637149916.py\", line 31, in objective_cat_no_enc\n",
      "    model.fit(X_train_no_enc, y_train, cat_features=cat_features)\n",
      "  File \"c:\\Users\\aryij\\anaconda3\\envs\\weather2\\Lib\\site-packages\\catboost\\core.py\", line 5220, in fit\n",
      "    self._fit(X, y, cat_features, text_features, embedding_features, None, sample_weight, None, None, None, None, baseline, use_best_model,\n",
      "  File \"c:\\Users\\aryij\\anaconda3\\envs\\weather2\\Lib\\site-packages\\catboost\\core.py\", line 2400, in _fit\n",
      "    self._train(\n",
      "  File \"c:\\Users\\aryij\\anaconda3\\envs\\weather2\\Lib\\site-packages\\catboost\\core.py\", line 1780, in _train\n",
      "    self._object._train(train_pool, test_pool, params, allow_clear_pool, init_model._object if init_model else None)\n",
      "  File \"_catboost.pyx\", line 4833, in _catboost._CatBoost._train\n",
      "  File \"_catboost.pyx\", line 4882, in _catboost._CatBoost._train\n",
      "KeyboardInterrupt\n",
      "[W 2024-06-23 09:10:54,238] Trial 56 failed with value None.\n"
     ]
    },
    {
     "ename": "KeyboardInterrupt",
     "evalue": "",
     "output_type": "error",
     "traceback": [
      "\u001b[1;31m---------------------------------------------------------------------------\u001b[0m",
      "\u001b[1;31mKeyboardInterrupt\u001b[0m                         Traceback (most recent call last)",
      "Cell \u001b[1;32mIn[99], line 2\u001b[0m\n\u001b[0;32m      1\u001b[0m study_cat_no_enc \u001b[38;5;241m=\u001b[39m optuna\u001b[38;5;241m.\u001b[39mcreate_study(study_name\u001b[38;5;241m=\u001b[39m\u001b[38;5;124m\"\u001b[39m\u001b[38;5;124mcatboost_no_enc\u001b[39m\u001b[38;5;124m\"\u001b[39m, direction\u001b[38;5;241m=\u001b[39m\u001b[38;5;124m'\u001b[39m\u001b[38;5;124mmaximize\u001b[39m\u001b[38;5;124m'\u001b[39m, pruner\u001b[38;5;241m=\u001b[39m\u001b[38;5;124m\"\u001b[39m\u001b[38;5;124mHyperbandPruner\u001b[39m\u001b[38;5;124m\"\u001b[39m, sampler\u001b[38;5;241m=\u001b[39msampler)\n\u001b[1;32m----> 2\u001b[0m study_cat_no_enc\u001b[38;5;241m.\u001b[39moptimize(objective_cat_no_enc, n_trials\u001b[38;5;241m=\u001b[39m\u001b[38;5;241m100\u001b[39m)\n",
      "File \u001b[1;32mc:\\Users\\aryij\\anaconda3\\envs\\weather2\\Lib\\site-packages\\optuna\\study\\study.py:451\u001b[0m, in \u001b[0;36mStudy.optimize\u001b[1;34m(self, func, n_trials, timeout, n_jobs, catch, callbacks, gc_after_trial, show_progress_bar)\u001b[0m\n\u001b[0;32m    348\u001b[0m \u001b[38;5;28;01mdef\u001b[39;00m \u001b[38;5;21moptimize\u001b[39m(\n\u001b[0;32m    349\u001b[0m     \u001b[38;5;28mself\u001b[39m,\n\u001b[0;32m    350\u001b[0m     func: ObjectiveFuncType,\n\u001b[1;32m   (...)\u001b[0m\n\u001b[0;32m    357\u001b[0m     show_progress_bar: \u001b[38;5;28mbool\u001b[39m \u001b[38;5;241m=\u001b[39m \u001b[38;5;28;01mFalse\u001b[39;00m,\n\u001b[0;32m    358\u001b[0m ) \u001b[38;5;241m-\u001b[39m\u001b[38;5;241m>\u001b[39m \u001b[38;5;28;01mNone\u001b[39;00m:\n\u001b[0;32m    359\u001b[0m \u001b[38;5;250m    \u001b[39m\u001b[38;5;124;03m\"\"\"Optimize an objective function.\u001b[39;00m\n\u001b[0;32m    360\u001b[0m \n\u001b[0;32m    361\u001b[0m \u001b[38;5;124;03m    Optimization is done by choosing a suitable set of hyperparameter values from a given\u001b[39;00m\n\u001b[1;32m   (...)\u001b[0m\n\u001b[0;32m    449\u001b[0m \u001b[38;5;124;03m            If nested invocation of this method occurs.\u001b[39;00m\n\u001b[0;32m    450\u001b[0m \u001b[38;5;124;03m    \"\"\"\u001b[39;00m\n\u001b[1;32m--> 451\u001b[0m     _optimize(\n\u001b[0;32m    452\u001b[0m         study\u001b[38;5;241m=\u001b[39m\u001b[38;5;28mself\u001b[39m,\n\u001b[0;32m    453\u001b[0m         func\u001b[38;5;241m=\u001b[39mfunc,\n\u001b[0;32m    454\u001b[0m         n_trials\u001b[38;5;241m=\u001b[39mn_trials,\n\u001b[0;32m    455\u001b[0m         timeout\u001b[38;5;241m=\u001b[39mtimeout,\n\u001b[0;32m    456\u001b[0m         n_jobs\u001b[38;5;241m=\u001b[39mn_jobs,\n\u001b[0;32m    457\u001b[0m         catch\u001b[38;5;241m=\u001b[39m\u001b[38;5;28mtuple\u001b[39m(catch) \u001b[38;5;28;01mif\u001b[39;00m \u001b[38;5;28misinstance\u001b[39m(catch, Iterable) \u001b[38;5;28;01melse\u001b[39;00m (catch,),\n\u001b[0;32m    458\u001b[0m         callbacks\u001b[38;5;241m=\u001b[39mcallbacks,\n\u001b[0;32m    459\u001b[0m         gc_after_trial\u001b[38;5;241m=\u001b[39mgc_after_trial,\n\u001b[0;32m    460\u001b[0m         show_progress_bar\u001b[38;5;241m=\u001b[39mshow_progress_bar,\n\u001b[0;32m    461\u001b[0m     )\n",
      "File \u001b[1;32mc:\\Users\\aryij\\anaconda3\\envs\\weather2\\Lib\\site-packages\\optuna\\study\\_optimize.py:62\u001b[0m, in \u001b[0;36m_optimize\u001b[1;34m(study, func, n_trials, timeout, n_jobs, catch, callbacks, gc_after_trial, show_progress_bar)\u001b[0m\n\u001b[0;32m     60\u001b[0m \u001b[38;5;28;01mtry\u001b[39;00m:\n\u001b[0;32m     61\u001b[0m     \u001b[38;5;28;01mif\u001b[39;00m n_jobs \u001b[38;5;241m==\u001b[39m \u001b[38;5;241m1\u001b[39m:\n\u001b[1;32m---> 62\u001b[0m         _optimize_sequential(\n\u001b[0;32m     63\u001b[0m             study,\n\u001b[0;32m     64\u001b[0m             func,\n\u001b[0;32m     65\u001b[0m             n_trials,\n\u001b[0;32m     66\u001b[0m             timeout,\n\u001b[0;32m     67\u001b[0m             catch,\n\u001b[0;32m     68\u001b[0m             callbacks,\n\u001b[0;32m     69\u001b[0m             gc_after_trial,\n\u001b[0;32m     70\u001b[0m             reseed_sampler_rng\u001b[38;5;241m=\u001b[39m\u001b[38;5;28;01mFalse\u001b[39;00m,\n\u001b[0;32m     71\u001b[0m             time_start\u001b[38;5;241m=\u001b[39m\u001b[38;5;28;01mNone\u001b[39;00m,\n\u001b[0;32m     72\u001b[0m             progress_bar\u001b[38;5;241m=\u001b[39mprogress_bar,\n\u001b[0;32m     73\u001b[0m         )\n\u001b[0;32m     74\u001b[0m     \u001b[38;5;28;01melse\u001b[39;00m:\n\u001b[0;32m     75\u001b[0m         \u001b[38;5;28;01mif\u001b[39;00m n_jobs \u001b[38;5;241m==\u001b[39m \u001b[38;5;241m-\u001b[39m\u001b[38;5;241m1\u001b[39m:\n",
      "File \u001b[1;32mc:\\Users\\aryij\\anaconda3\\envs\\weather2\\Lib\\site-packages\\optuna\\study\\_optimize.py:159\u001b[0m, in \u001b[0;36m_optimize_sequential\u001b[1;34m(study, func, n_trials, timeout, catch, callbacks, gc_after_trial, reseed_sampler_rng, time_start, progress_bar)\u001b[0m\n\u001b[0;32m    156\u001b[0m         \u001b[38;5;28;01mbreak\u001b[39;00m\n\u001b[0;32m    158\u001b[0m \u001b[38;5;28;01mtry\u001b[39;00m:\n\u001b[1;32m--> 159\u001b[0m     frozen_trial \u001b[38;5;241m=\u001b[39m _run_trial(study, func, catch)\n\u001b[0;32m    160\u001b[0m \u001b[38;5;28;01mfinally\u001b[39;00m:\n\u001b[0;32m    161\u001b[0m     \u001b[38;5;66;03m# The following line mitigates memory problems that can be occurred in some\u001b[39;00m\n\u001b[0;32m    162\u001b[0m     \u001b[38;5;66;03m# environments (e.g., services that use computing containers such as GitHub Actions).\u001b[39;00m\n\u001b[0;32m    163\u001b[0m     \u001b[38;5;66;03m# Please refer to the following PR for further details:\u001b[39;00m\n\u001b[0;32m    164\u001b[0m     \u001b[38;5;66;03m# https://github.com/optuna/optuna/pull/325.\u001b[39;00m\n\u001b[0;32m    165\u001b[0m     \u001b[38;5;28;01mif\u001b[39;00m gc_after_trial:\n",
      "File \u001b[1;32mc:\\Users\\aryij\\anaconda3\\envs\\weather2\\Lib\\site-packages\\optuna\\study\\_optimize.py:247\u001b[0m, in \u001b[0;36m_run_trial\u001b[1;34m(study, func, catch)\u001b[0m\n\u001b[0;32m    240\u001b[0m         \u001b[38;5;28;01massert\u001b[39;00m \u001b[38;5;28;01mFalse\u001b[39;00m, \u001b[38;5;124m\"\u001b[39m\u001b[38;5;124mShould not reach.\u001b[39m\u001b[38;5;124m\"\u001b[39m\n\u001b[0;32m    242\u001b[0m \u001b[38;5;28;01mif\u001b[39;00m (\n\u001b[0;32m    243\u001b[0m     frozen_trial\u001b[38;5;241m.\u001b[39mstate \u001b[38;5;241m==\u001b[39m TrialState\u001b[38;5;241m.\u001b[39mFAIL\n\u001b[0;32m    244\u001b[0m     \u001b[38;5;129;01mand\u001b[39;00m func_err \u001b[38;5;129;01mis\u001b[39;00m \u001b[38;5;129;01mnot\u001b[39;00m \u001b[38;5;28;01mNone\u001b[39;00m\n\u001b[0;32m    245\u001b[0m     \u001b[38;5;129;01mand\u001b[39;00m \u001b[38;5;129;01mnot\u001b[39;00m \u001b[38;5;28misinstance\u001b[39m(func_err, catch)\n\u001b[0;32m    246\u001b[0m ):\n\u001b[1;32m--> 247\u001b[0m     \u001b[38;5;28;01mraise\u001b[39;00m func_err\n\u001b[0;32m    248\u001b[0m \u001b[38;5;28;01mreturn\u001b[39;00m frozen_trial\n",
      "File \u001b[1;32mc:\\Users\\aryij\\anaconda3\\envs\\weather2\\Lib\\site-packages\\optuna\\study\\_optimize.py:196\u001b[0m, in \u001b[0;36m_run_trial\u001b[1;34m(study, func, catch)\u001b[0m\n\u001b[0;32m    194\u001b[0m \u001b[38;5;28;01mwith\u001b[39;00m get_heartbeat_thread(trial\u001b[38;5;241m.\u001b[39m_trial_id, study\u001b[38;5;241m.\u001b[39m_storage):\n\u001b[0;32m    195\u001b[0m     \u001b[38;5;28;01mtry\u001b[39;00m:\n\u001b[1;32m--> 196\u001b[0m         value_or_values \u001b[38;5;241m=\u001b[39m func(trial)\n\u001b[0;32m    197\u001b[0m     \u001b[38;5;28;01mexcept\u001b[39;00m exceptions\u001b[38;5;241m.\u001b[39mTrialPruned \u001b[38;5;28;01mas\u001b[39;00m e:\n\u001b[0;32m    198\u001b[0m         \u001b[38;5;66;03m# TODO(mamu): Handle multi-objective cases.\u001b[39;00m\n\u001b[0;32m    199\u001b[0m         state \u001b[38;5;241m=\u001b[39m TrialState\u001b[38;5;241m.\u001b[39mPRUNED\n",
      "Cell \u001b[1;32mIn[98], line 31\u001b[0m, in \u001b[0;36mobjective_cat_no_enc\u001b[1;34m(trial)\u001b[0m\n\u001b[0;32m     25\u001b[0m model \u001b[38;5;241m=\u001b[39m CatBoostClassifier(\u001b[38;5;241m*\u001b[39m\u001b[38;5;241m*\u001b[39mparams, verbose\u001b[38;5;241m=\u001b[39m\u001b[38;5;28;01mFalse\u001b[39;00m)\n\u001b[0;32m     26\u001b[0m                         \u001b[38;5;66;03m#    loss_function=\"MultiClass\",\u001b[39;00m\n\u001b[0;32m     27\u001b[0m                         \u001b[38;5;66;03m#    silent=True,\u001b[39;00m\n\u001b[0;32m     28\u001b[0m                         \u001b[38;5;66;03m#    task_type=\"GPU\",\u001b[39;00m\n\u001b[0;32m     29\u001b[0m                         \u001b[38;5;66;03m#    random_state=42)\u001b[39;00m\n\u001b[1;32m---> 31\u001b[0m model\u001b[38;5;241m.\u001b[39mfit(X_train_no_enc, y_train, cat_features\u001b[38;5;241m=\u001b[39mcat_features)\n\u001b[0;32m     32\u001b[0m predictions \u001b[38;5;241m=\u001b[39m model\u001b[38;5;241m.\u001b[39mpredict(X_val_no_enc)\n\u001b[0;32m     33\u001b[0m csi \u001b[38;5;241m=\u001b[39m csi_index(y_val, predictions)\n",
      "File \u001b[1;32mc:\\Users\\aryij\\anaconda3\\envs\\weather2\\Lib\\site-packages\\catboost\\core.py:5220\u001b[0m, in \u001b[0;36mCatBoostClassifier.fit\u001b[1;34m(self, X, y, cat_features, text_features, embedding_features, sample_weight, baseline, use_best_model, eval_set, verbose, logging_level, plot, plot_file, column_description, verbose_eval, metric_period, silent, early_stopping_rounds, save_snapshot, snapshot_file, snapshot_interval, init_model, callbacks, log_cout, log_cerr)\u001b[0m\n\u001b[0;32m   5217\u001b[0m \u001b[38;5;28;01mif\u001b[39;00m \u001b[38;5;124m'\u001b[39m\u001b[38;5;124mloss_function\u001b[39m\u001b[38;5;124m'\u001b[39m \u001b[38;5;129;01min\u001b[39;00m params:\n\u001b[0;32m   5218\u001b[0m     CatBoostClassifier\u001b[38;5;241m.\u001b[39m_check_is_compatible_loss(params[\u001b[38;5;124m'\u001b[39m\u001b[38;5;124mloss_function\u001b[39m\u001b[38;5;124m'\u001b[39m])\n\u001b[1;32m-> 5220\u001b[0m \u001b[38;5;28mself\u001b[39m\u001b[38;5;241m.\u001b[39m_fit(X, y, cat_features, text_features, embedding_features, \u001b[38;5;28;01mNone\u001b[39;00m, sample_weight, \u001b[38;5;28;01mNone\u001b[39;00m, \u001b[38;5;28;01mNone\u001b[39;00m, \u001b[38;5;28;01mNone\u001b[39;00m, \u001b[38;5;28;01mNone\u001b[39;00m, baseline, use_best_model,\n\u001b[0;32m   5221\u001b[0m           eval_set, verbose, logging_level, plot, plot_file, column_description, verbose_eval, metric_period,\n\u001b[0;32m   5222\u001b[0m           silent, early_stopping_rounds, save_snapshot, snapshot_file, snapshot_interval, init_model, callbacks, log_cout, log_cerr)\n\u001b[0;32m   5223\u001b[0m \u001b[38;5;28;01mreturn\u001b[39;00m \u001b[38;5;28mself\u001b[39m\n",
      "File \u001b[1;32mc:\\Users\\aryij\\anaconda3\\envs\\weather2\\Lib\\site-packages\\catboost\\core.py:2400\u001b[0m, in \u001b[0;36mCatBoost._fit\u001b[1;34m(self, X, y, cat_features, text_features, embedding_features, pairs, sample_weight, group_id, group_weight, subgroup_id, pairs_weight, baseline, use_best_model, eval_set, verbose, logging_level, plot, plot_file, column_description, verbose_eval, metric_period, silent, early_stopping_rounds, save_snapshot, snapshot_file, snapshot_interval, init_model, callbacks, log_cout, log_cerr)\u001b[0m\n\u001b[0;32m   2397\u001b[0m allow_clear_pool \u001b[38;5;241m=\u001b[39m train_params[\u001b[38;5;124m\"\u001b[39m\u001b[38;5;124mallow_clear_pool\u001b[39m\u001b[38;5;124m\"\u001b[39m]\n\u001b[0;32m   2399\u001b[0m \u001b[38;5;28;01mwith\u001b[39;00m plot_wrapper(plot, plot_file, \u001b[38;5;124m'\u001b[39m\u001b[38;5;124mTraining plots\u001b[39m\u001b[38;5;124m'\u001b[39m, [_get_train_dir(\u001b[38;5;28mself\u001b[39m\u001b[38;5;241m.\u001b[39mget_params())]):\n\u001b[1;32m-> 2400\u001b[0m     \u001b[38;5;28mself\u001b[39m\u001b[38;5;241m.\u001b[39m_train(\n\u001b[0;32m   2401\u001b[0m         train_pool,\n\u001b[0;32m   2402\u001b[0m         train_params[\u001b[38;5;124m\"\u001b[39m\u001b[38;5;124meval_sets\u001b[39m\u001b[38;5;124m\"\u001b[39m],\n\u001b[0;32m   2403\u001b[0m         params,\n\u001b[0;32m   2404\u001b[0m         allow_clear_pool,\n\u001b[0;32m   2405\u001b[0m         train_params[\u001b[38;5;124m\"\u001b[39m\u001b[38;5;124minit_model\u001b[39m\u001b[38;5;124m\"\u001b[39m]\n\u001b[0;32m   2406\u001b[0m     )\n\u001b[0;32m   2408\u001b[0m \u001b[38;5;66;03m# Have property feature_importance possibly set\u001b[39;00m\n\u001b[0;32m   2409\u001b[0m loss \u001b[38;5;241m=\u001b[39m \u001b[38;5;28mself\u001b[39m\u001b[38;5;241m.\u001b[39m_object\u001b[38;5;241m.\u001b[39m_get_loss_function_name()\n",
      "File \u001b[1;32mc:\\Users\\aryij\\anaconda3\\envs\\weather2\\Lib\\site-packages\\catboost\\core.py:1780\u001b[0m, in \u001b[0;36m_CatBoostBase._train\u001b[1;34m(self, train_pool, test_pool, params, allow_clear_pool, init_model)\u001b[0m\n\u001b[0;32m   1779\u001b[0m \u001b[38;5;28;01mdef\u001b[39;00m \u001b[38;5;21m_train\u001b[39m(\u001b[38;5;28mself\u001b[39m, train_pool, test_pool, params, allow_clear_pool, init_model):\n\u001b[1;32m-> 1780\u001b[0m     \u001b[38;5;28mself\u001b[39m\u001b[38;5;241m.\u001b[39m_object\u001b[38;5;241m.\u001b[39m_train(train_pool, test_pool, params, allow_clear_pool, init_model\u001b[38;5;241m.\u001b[39m_object \u001b[38;5;28;01mif\u001b[39;00m init_model \u001b[38;5;28;01melse\u001b[39;00m \u001b[38;5;28;01mNone\u001b[39;00m)\n\u001b[0;32m   1781\u001b[0m     \u001b[38;5;28mself\u001b[39m\u001b[38;5;241m.\u001b[39m_set_trained_model_attributes()\n",
      "File \u001b[1;32m_catboost.pyx:4833\u001b[0m, in \u001b[0;36m_catboost._CatBoost._train\u001b[1;34m()\u001b[0m\n",
      "File \u001b[1;32m_catboost.pyx:4882\u001b[0m, in \u001b[0;36m_catboost._CatBoost._train\u001b[1;34m()\u001b[0m\n",
      "\u001b[1;31mKeyboardInterrupt\u001b[0m: "
     ]
    }
   ],
   "source": [
    "study_cat_no_enc = optuna.create_study(study_name=\"catboost_no_enc\", direction='maximize', pruner=\"HyperbandPruner\", sampler=sampler)\n",
    "study_cat_no_enc.optimize(objective_cat_no_enc, n_trials=100)"
   ]
  },
  {
   "cell_type": "code",
   "execution_count": 177,
   "metadata": {},
   "outputs": [
    {
     "name": "stdout",
     "output_type": "stream",
     "text": [
      "Best hyperparameters:\n",
      "{'iterations': 927, 'learning_rate': 0.09884918112580136, 'depth': 10, 'l2_leaf_reg': 0.006029773218917519, 'bootstrap_type': 'Bayesian', 'random_strength': 0.00044516435580350196, 'bagging_temperature': 0.06321863987627019, 'od_type': 'Iter', 'od_wait': 18, 'min_data_in_leaf': 86}\n",
      "-----------------------------------------------------------------------------------------------------------------\n",
      "Best CSI Index:\n",
      "0.2587320574162679\n"
     ]
    }
   ],
   "source": [
    "print(\"Best hyperparameters:\", study_cat_no_enc.best_params, sep=\"\\n\")\n",
    "print(\"-----------------------------------------------------------------------------------------------------------------\")\n",
    "print(\"Best CSI Index:\", study_cat_no_enc.best_value, sep=\"\\n\")"
   ]
  },
  {
   "cell_type": "code",
   "execution_count": 178,
   "metadata": {},
   "outputs": [
    {
     "ename": "ValueError",
     "evalue": "Mime type rendering requires nbformat>=4.2.0 but it is not installed",
     "output_type": "error",
     "traceback": [
      "\u001b[1;31m---------------------------------------------------------------------------\u001b[0m",
      "\u001b[1;31mValueError\u001b[0m                                Traceback (most recent call last)",
      "File \u001b[1;32mc:\\Users\\aryij\\anaconda3\\envs\\weather2\\Lib\\site-packages\\IPython\\core\\formatters.py:925\u001b[0m, in \u001b[0;36mIPythonDisplayFormatter.__call__\u001b[1;34m(self, obj)\u001b[0m\n\u001b[0;32m    923\u001b[0m method \u001b[38;5;241m=\u001b[39m get_real_method(obj, \u001b[38;5;28mself\u001b[39m\u001b[38;5;241m.\u001b[39mprint_method)\n\u001b[0;32m    924\u001b[0m \u001b[38;5;28;01mif\u001b[39;00m method \u001b[38;5;129;01mis\u001b[39;00m \u001b[38;5;129;01mnot\u001b[39;00m \u001b[38;5;28;01mNone\u001b[39;00m:\n\u001b[1;32m--> 925\u001b[0m     method()\n\u001b[0;32m    926\u001b[0m     \u001b[38;5;28;01mreturn\u001b[39;00m \u001b[38;5;28;01mTrue\u001b[39;00m\n",
      "File \u001b[1;32mc:\\Users\\aryij\\anaconda3\\envs\\weather2\\Lib\\site-packages\\plotly\\basedatatypes.py:832\u001b[0m, in \u001b[0;36mBaseFigure._ipython_display_\u001b[1;34m(self)\u001b[0m\n\u001b[0;32m    829\u001b[0m \u001b[38;5;28;01mimport\u001b[39;00m \u001b[38;5;21;01mplotly\u001b[39;00m\u001b[38;5;21;01m.\u001b[39;00m\u001b[38;5;21;01mio\u001b[39;00m \u001b[38;5;28;01mas\u001b[39;00m \u001b[38;5;21;01mpio\u001b[39;00m\n\u001b[0;32m    831\u001b[0m \u001b[38;5;28;01mif\u001b[39;00m pio\u001b[38;5;241m.\u001b[39mrenderers\u001b[38;5;241m.\u001b[39mrender_on_display \u001b[38;5;129;01mand\u001b[39;00m pio\u001b[38;5;241m.\u001b[39mrenderers\u001b[38;5;241m.\u001b[39mdefault:\n\u001b[1;32m--> 832\u001b[0m     pio\u001b[38;5;241m.\u001b[39mshow(\u001b[38;5;28mself\u001b[39m)\n\u001b[0;32m    833\u001b[0m \u001b[38;5;28;01melse\u001b[39;00m:\n\u001b[0;32m    834\u001b[0m     \u001b[38;5;28mprint\u001b[39m(\u001b[38;5;28mrepr\u001b[39m(\u001b[38;5;28mself\u001b[39m))\n",
      "File \u001b[1;32mc:\\Users\\aryij\\anaconda3\\envs\\weather2\\Lib\\site-packages\\plotly\\io\\_renderers.py:394\u001b[0m, in \u001b[0;36mshow\u001b[1;34m(fig, renderer, validate, **kwargs)\u001b[0m\n\u001b[0;32m    389\u001b[0m         \u001b[38;5;28;01mraise\u001b[39;00m \u001b[38;5;167;01mValueError\u001b[39;00m(\n\u001b[0;32m    390\u001b[0m             \u001b[38;5;124m\"\u001b[39m\u001b[38;5;124mMime type rendering requires ipython but it is not installed\u001b[39m\u001b[38;5;124m\"\u001b[39m\n\u001b[0;32m    391\u001b[0m         )\n\u001b[0;32m    393\u001b[0m     \u001b[38;5;28;01mif\u001b[39;00m \u001b[38;5;129;01mnot\u001b[39;00m nbformat \u001b[38;5;129;01mor\u001b[39;00m Version(nbformat\u001b[38;5;241m.\u001b[39m__version__) \u001b[38;5;241m<\u001b[39m Version(\u001b[38;5;124m\"\u001b[39m\u001b[38;5;124m4.2.0\u001b[39m\u001b[38;5;124m\"\u001b[39m):\n\u001b[1;32m--> 394\u001b[0m         \u001b[38;5;28;01mraise\u001b[39;00m \u001b[38;5;167;01mValueError\u001b[39;00m(\n\u001b[0;32m    395\u001b[0m             \u001b[38;5;124m\"\u001b[39m\u001b[38;5;124mMime type rendering requires nbformat>=4.2.0 but it is not installed\u001b[39m\u001b[38;5;124m\"\u001b[39m\n\u001b[0;32m    396\u001b[0m         )\n\u001b[0;32m    398\u001b[0m     ipython_display\u001b[38;5;241m.\u001b[39mdisplay(bundle, raw\u001b[38;5;241m=\u001b[39m\u001b[38;5;28;01mTrue\u001b[39;00m)\n\u001b[0;32m    400\u001b[0m \u001b[38;5;66;03m# external renderers\u001b[39;00m\n",
      "\u001b[1;31mValueError\u001b[0m: Mime type rendering requires nbformat>=4.2.0 but it is not installed"
     ]
    },
    {
     "data": {
      "application/vnd.plotly.v1+json": {
       "config": {
        "plotlyServerURL": "https://plot.ly"
       },
       "data": [
        {
         "cliponaxis": false,
         "hovertemplate": [
          "random_strength (FloatDistribution): 0.0001897742509499148<extra></extra>",
          "l2_leaf_reg (FloatDistribution): 0.000256762554585744<extra></extra>",
          "od_type (CategoricalDistribution): 0.0013887726822324447<extra></extra>",
          "bagging_temperature (FloatDistribution): 0.003906969648397853<extra></extra>",
          "od_wait (IntDistribution): 0.005988051793351469<extra></extra>",
          "iterations (IntDistribution): 0.010486613375497998<extra></extra>",
          "min_data_in_leaf (IntDistribution): 0.01629313334389075<extra></extra>",
          "depth (IntDistribution): 0.02788166709714984<extra></extra>",
          "learning_rate (FloatDistribution): 0.19767460787623292<extra></extra>",
          "bootstrap_type (CategoricalDistribution): 0.7359336473777108<extra></extra>"
         ],
         "name": "Objective Value",
         "orientation": "h",
         "text": [
          "<0.01",
          "<0.01",
          "<0.01",
          "<0.01",
          "<0.01",
          "0.01",
          "0.02",
          "0.03",
          "0.20",
          "0.74"
         ],
         "textposition": "outside",
         "type": "bar",
         "x": [
          0.0001897742509499148,
          0.000256762554585744,
          0.0013887726822324447,
          0.003906969648397853,
          0.005988051793351469,
          0.010486613375497998,
          0.01629313334389075,
          0.02788166709714984,
          0.19767460787623292,
          0.7359336473777108
         ],
         "y": [
          "random_strength",
          "l2_leaf_reg",
          "od_type",
          "bagging_temperature",
          "od_wait",
          "iterations",
          "min_data_in_leaf",
          "depth",
          "learning_rate",
          "bootstrap_type"
         ]
        }
       ],
       "layout": {
        "template": {
         "data": {
          "bar": [
           {
            "error_x": {
             "color": "#2a3f5f"
            },
            "error_y": {
             "color": "#2a3f5f"
            },
            "marker": {
             "line": {
              "color": "#E5ECF6",
              "width": 0.5
             },
             "pattern": {
              "fillmode": "overlay",
              "size": 10,
              "solidity": 0.2
             }
            },
            "type": "bar"
           }
          ],
          "barpolar": [
           {
            "marker": {
             "line": {
              "color": "#E5ECF6",
              "width": 0.5
             },
             "pattern": {
              "fillmode": "overlay",
              "size": 10,
              "solidity": 0.2
             }
            },
            "type": "barpolar"
           }
          ],
          "carpet": [
           {
            "aaxis": {
             "endlinecolor": "#2a3f5f",
             "gridcolor": "white",
             "linecolor": "white",
             "minorgridcolor": "white",
             "startlinecolor": "#2a3f5f"
            },
            "baxis": {
             "endlinecolor": "#2a3f5f",
             "gridcolor": "white",
             "linecolor": "white",
             "minorgridcolor": "white",
             "startlinecolor": "#2a3f5f"
            },
            "type": "carpet"
           }
          ],
          "choropleth": [
           {
            "colorbar": {
             "outlinewidth": 0,
             "ticks": ""
            },
            "type": "choropleth"
           }
          ],
          "contour": [
           {
            "colorbar": {
             "outlinewidth": 0,
             "ticks": ""
            },
            "colorscale": [
             [
              0,
              "#0d0887"
             ],
             [
              0.1111111111111111,
              "#46039f"
             ],
             [
              0.2222222222222222,
              "#7201a8"
             ],
             [
              0.3333333333333333,
              "#9c179e"
             ],
             [
              0.4444444444444444,
              "#bd3786"
             ],
             [
              0.5555555555555556,
              "#d8576b"
             ],
             [
              0.6666666666666666,
              "#ed7953"
             ],
             [
              0.7777777777777778,
              "#fb9f3a"
             ],
             [
              0.8888888888888888,
              "#fdca26"
             ],
             [
              1,
              "#f0f921"
             ]
            ],
            "type": "contour"
           }
          ],
          "contourcarpet": [
           {
            "colorbar": {
             "outlinewidth": 0,
             "ticks": ""
            },
            "type": "contourcarpet"
           }
          ],
          "heatmap": [
           {
            "colorbar": {
             "outlinewidth": 0,
             "ticks": ""
            },
            "colorscale": [
             [
              0,
              "#0d0887"
             ],
             [
              0.1111111111111111,
              "#46039f"
             ],
             [
              0.2222222222222222,
              "#7201a8"
             ],
             [
              0.3333333333333333,
              "#9c179e"
             ],
             [
              0.4444444444444444,
              "#bd3786"
             ],
             [
              0.5555555555555556,
              "#d8576b"
             ],
             [
              0.6666666666666666,
              "#ed7953"
             ],
             [
              0.7777777777777778,
              "#fb9f3a"
             ],
             [
              0.8888888888888888,
              "#fdca26"
             ],
             [
              1,
              "#f0f921"
             ]
            ],
            "type": "heatmap"
           }
          ],
          "heatmapgl": [
           {
            "colorbar": {
             "outlinewidth": 0,
             "ticks": ""
            },
            "colorscale": [
             [
              0,
              "#0d0887"
             ],
             [
              0.1111111111111111,
              "#46039f"
             ],
             [
              0.2222222222222222,
              "#7201a8"
             ],
             [
              0.3333333333333333,
              "#9c179e"
             ],
             [
              0.4444444444444444,
              "#bd3786"
             ],
             [
              0.5555555555555556,
              "#d8576b"
             ],
             [
              0.6666666666666666,
              "#ed7953"
             ],
             [
              0.7777777777777778,
              "#fb9f3a"
             ],
             [
              0.8888888888888888,
              "#fdca26"
             ],
             [
              1,
              "#f0f921"
             ]
            ],
            "type": "heatmapgl"
           }
          ],
          "histogram": [
           {
            "marker": {
             "pattern": {
              "fillmode": "overlay",
              "size": 10,
              "solidity": 0.2
             }
            },
            "type": "histogram"
           }
          ],
          "histogram2d": [
           {
            "colorbar": {
             "outlinewidth": 0,
             "ticks": ""
            },
            "colorscale": [
             [
              0,
              "#0d0887"
             ],
             [
              0.1111111111111111,
              "#46039f"
             ],
             [
              0.2222222222222222,
              "#7201a8"
             ],
             [
              0.3333333333333333,
              "#9c179e"
             ],
             [
              0.4444444444444444,
              "#bd3786"
             ],
             [
              0.5555555555555556,
              "#d8576b"
             ],
             [
              0.6666666666666666,
              "#ed7953"
             ],
             [
              0.7777777777777778,
              "#fb9f3a"
             ],
             [
              0.8888888888888888,
              "#fdca26"
             ],
             [
              1,
              "#f0f921"
             ]
            ],
            "type": "histogram2d"
           }
          ],
          "histogram2dcontour": [
           {
            "colorbar": {
             "outlinewidth": 0,
             "ticks": ""
            },
            "colorscale": [
             [
              0,
              "#0d0887"
             ],
             [
              0.1111111111111111,
              "#46039f"
             ],
             [
              0.2222222222222222,
              "#7201a8"
             ],
             [
              0.3333333333333333,
              "#9c179e"
             ],
             [
              0.4444444444444444,
              "#bd3786"
             ],
             [
              0.5555555555555556,
              "#d8576b"
             ],
             [
              0.6666666666666666,
              "#ed7953"
             ],
             [
              0.7777777777777778,
              "#fb9f3a"
             ],
             [
              0.8888888888888888,
              "#fdca26"
             ],
             [
              1,
              "#f0f921"
             ]
            ],
            "type": "histogram2dcontour"
           }
          ],
          "mesh3d": [
           {
            "colorbar": {
             "outlinewidth": 0,
             "ticks": ""
            },
            "type": "mesh3d"
           }
          ],
          "parcoords": [
           {
            "line": {
             "colorbar": {
              "outlinewidth": 0,
              "ticks": ""
             }
            },
            "type": "parcoords"
           }
          ],
          "pie": [
           {
            "automargin": true,
            "type": "pie"
           }
          ],
          "scatter": [
           {
            "fillpattern": {
             "fillmode": "overlay",
             "size": 10,
             "solidity": 0.2
            },
            "type": "scatter"
           }
          ],
          "scatter3d": [
           {
            "line": {
             "colorbar": {
              "outlinewidth": 0,
              "ticks": ""
             }
            },
            "marker": {
             "colorbar": {
              "outlinewidth": 0,
              "ticks": ""
             }
            },
            "type": "scatter3d"
           }
          ],
          "scattercarpet": [
           {
            "marker": {
             "colorbar": {
              "outlinewidth": 0,
              "ticks": ""
             }
            },
            "type": "scattercarpet"
           }
          ],
          "scattergeo": [
           {
            "marker": {
             "colorbar": {
              "outlinewidth": 0,
              "ticks": ""
             }
            },
            "type": "scattergeo"
           }
          ],
          "scattergl": [
           {
            "marker": {
             "colorbar": {
              "outlinewidth": 0,
              "ticks": ""
             }
            },
            "type": "scattergl"
           }
          ],
          "scattermapbox": [
           {
            "marker": {
             "colorbar": {
              "outlinewidth": 0,
              "ticks": ""
             }
            },
            "type": "scattermapbox"
           }
          ],
          "scatterpolar": [
           {
            "marker": {
             "colorbar": {
              "outlinewidth": 0,
              "ticks": ""
             }
            },
            "type": "scatterpolar"
           }
          ],
          "scatterpolargl": [
           {
            "marker": {
             "colorbar": {
              "outlinewidth": 0,
              "ticks": ""
             }
            },
            "type": "scatterpolargl"
           }
          ],
          "scatterternary": [
           {
            "marker": {
             "colorbar": {
              "outlinewidth": 0,
              "ticks": ""
             }
            },
            "type": "scatterternary"
           }
          ],
          "surface": [
           {
            "colorbar": {
             "outlinewidth": 0,
             "ticks": ""
            },
            "colorscale": [
             [
              0,
              "#0d0887"
             ],
             [
              0.1111111111111111,
              "#46039f"
             ],
             [
              0.2222222222222222,
              "#7201a8"
             ],
             [
              0.3333333333333333,
              "#9c179e"
             ],
             [
              0.4444444444444444,
              "#bd3786"
             ],
             [
              0.5555555555555556,
              "#d8576b"
             ],
             [
              0.6666666666666666,
              "#ed7953"
             ],
             [
              0.7777777777777778,
              "#fb9f3a"
             ],
             [
              0.8888888888888888,
              "#fdca26"
             ],
             [
              1,
              "#f0f921"
             ]
            ],
            "type": "surface"
           }
          ],
          "table": [
           {
            "cells": {
             "fill": {
              "color": "#EBF0F8"
             },
             "line": {
              "color": "white"
             }
            },
            "header": {
             "fill": {
              "color": "#C8D4E3"
             },
             "line": {
              "color": "white"
             }
            },
            "type": "table"
           }
          ]
         },
         "layout": {
          "annotationdefaults": {
           "arrowcolor": "#2a3f5f",
           "arrowhead": 0,
           "arrowwidth": 1
          },
          "autotypenumbers": "strict",
          "coloraxis": {
           "colorbar": {
            "outlinewidth": 0,
            "ticks": ""
           }
          },
          "colorscale": {
           "diverging": [
            [
             0,
             "#8e0152"
            ],
            [
             0.1,
             "#c51b7d"
            ],
            [
             0.2,
             "#de77ae"
            ],
            [
             0.3,
             "#f1b6da"
            ],
            [
             0.4,
             "#fde0ef"
            ],
            [
             0.5,
             "#f7f7f7"
            ],
            [
             0.6,
             "#e6f5d0"
            ],
            [
             0.7,
             "#b8e186"
            ],
            [
             0.8,
             "#7fbc41"
            ],
            [
             0.9,
             "#4d9221"
            ],
            [
             1,
             "#276419"
            ]
           ],
           "sequential": [
            [
             0,
             "#0d0887"
            ],
            [
             0.1111111111111111,
             "#46039f"
            ],
            [
             0.2222222222222222,
             "#7201a8"
            ],
            [
             0.3333333333333333,
             "#9c179e"
            ],
            [
             0.4444444444444444,
             "#bd3786"
            ],
            [
             0.5555555555555556,
             "#d8576b"
            ],
            [
             0.6666666666666666,
             "#ed7953"
            ],
            [
             0.7777777777777778,
             "#fb9f3a"
            ],
            [
             0.8888888888888888,
             "#fdca26"
            ],
            [
             1,
             "#f0f921"
            ]
           ],
           "sequentialminus": [
            [
             0,
             "#0d0887"
            ],
            [
             0.1111111111111111,
             "#46039f"
            ],
            [
             0.2222222222222222,
             "#7201a8"
            ],
            [
             0.3333333333333333,
             "#9c179e"
            ],
            [
             0.4444444444444444,
             "#bd3786"
            ],
            [
             0.5555555555555556,
             "#d8576b"
            ],
            [
             0.6666666666666666,
             "#ed7953"
            ],
            [
             0.7777777777777778,
             "#fb9f3a"
            ],
            [
             0.8888888888888888,
             "#fdca26"
            ],
            [
             1,
             "#f0f921"
            ]
           ]
          },
          "colorway": [
           "#636efa",
           "#EF553B",
           "#00cc96",
           "#ab63fa",
           "#FFA15A",
           "#19d3f3",
           "#FF6692",
           "#B6E880",
           "#FF97FF",
           "#FECB52"
          ],
          "font": {
           "color": "#2a3f5f"
          },
          "geo": {
           "bgcolor": "white",
           "lakecolor": "white",
           "landcolor": "#E5ECF6",
           "showlakes": true,
           "showland": true,
           "subunitcolor": "white"
          },
          "hoverlabel": {
           "align": "left"
          },
          "hovermode": "closest",
          "mapbox": {
           "style": "light"
          },
          "paper_bgcolor": "white",
          "plot_bgcolor": "#E5ECF6",
          "polar": {
           "angularaxis": {
            "gridcolor": "white",
            "linecolor": "white",
            "ticks": ""
           },
           "bgcolor": "#E5ECF6",
           "radialaxis": {
            "gridcolor": "white",
            "linecolor": "white",
            "ticks": ""
           }
          },
          "scene": {
           "xaxis": {
            "backgroundcolor": "#E5ECF6",
            "gridcolor": "white",
            "gridwidth": 2,
            "linecolor": "white",
            "showbackground": true,
            "ticks": "",
            "zerolinecolor": "white"
           },
           "yaxis": {
            "backgroundcolor": "#E5ECF6",
            "gridcolor": "white",
            "gridwidth": 2,
            "linecolor": "white",
            "showbackground": true,
            "ticks": "",
            "zerolinecolor": "white"
           },
           "zaxis": {
            "backgroundcolor": "#E5ECF6",
            "gridcolor": "white",
            "gridwidth": 2,
            "linecolor": "white",
            "showbackground": true,
            "ticks": "",
            "zerolinecolor": "white"
           }
          },
          "shapedefaults": {
           "line": {
            "color": "#2a3f5f"
           }
          },
          "ternary": {
           "aaxis": {
            "gridcolor": "white",
            "linecolor": "white",
            "ticks": ""
           },
           "baxis": {
            "gridcolor": "white",
            "linecolor": "white",
            "ticks": ""
           },
           "bgcolor": "#E5ECF6",
           "caxis": {
            "gridcolor": "white",
            "linecolor": "white",
            "ticks": ""
           }
          },
          "title": {
           "x": 0.05
          },
          "xaxis": {
           "automargin": true,
           "gridcolor": "white",
           "linecolor": "white",
           "ticks": "",
           "title": {
            "standoff": 15
           },
           "zerolinecolor": "white",
           "zerolinewidth": 2
          },
          "yaxis": {
           "automargin": true,
           "gridcolor": "white",
           "linecolor": "white",
           "ticks": "",
           "title": {
            "standoff": 15
           },
           "zerolinecolor": "white",
           "zerolinewidth": 2
          }
         }
        },
        "title": {
         "text": "Hyperparameter Importances"
        },
        "xaxis": {
         "title": {
          "text": "Hyperparameter Importance"
         }
        },
        "yaxis": {
         "title": {
          "text": "Hyperparameter"
         }
        }
       }
      },
      "text/html": [
       "<div>                        <script type=\"text/javascript\">window.PlotlyConfig = {MathJaxConfig: 'local'};</script>\n",
       "        <script charset=\"utf-8\" src=\"https://cdn.plot.ly/plotly-2.32.0.min.js\"></script>                <div id=\"8c73762a-6cfa-4c65-a4ad-88fbb92e0024\" class=\"plotly-graph-div\" style=\"height:100%; width:100%;\"></div>            <script type=\"text/javascript\">                                    window.PLOTLYENV=window.PLOTLYENV || {};                                    if (document.getElementById(\"8c73762a-6cfa-4c65-a4ad-88fbb92e0024\")) {                    Plotly.newPlot(                        \"8c73762a-6cfa-4c65-a4ad-88fbb92e0024\",                        [{\"cliponaxis\":false,\"hovertemplate\":[\"random_strength (FloatDistribution): 0.0001897742509499148\\u003cextra\\u003e\\u003c\\u002fextra\\u003e\",\"l2_leaf_reg (FloatDistribution): 0.000256762554585744\\u003cextra\\u003e\\u003c\\u002fextra\\u003e\",\"od_type (CategoricalDistribution): 0.0013887726822324447\\u003cextra\\u003e\\u003c\\u002fextra\\u003e\",\"bagging_temperature (FloatDistribution): 0.003906969648397853\\u003cextra\\u003e\\u003c\\u002fextra\\u003e\",\"od_wait (IntDistribution): 0.005988051793351469\\u003cextra\\u003e\\u003c\\u002fextra\\u003e\",\"iterations (IntDistribution): 0.010486613375497998\\u003cextra\\u003e\\u003c\\u002fextra\\u003e\",\"min_data_in_leaf (IntDistribution): 0.01629313334389075\\u003cextra\\u003e\\u003c\\u002fextra\\u003e\",\"depth (IntDistribution): 0.02788166709714984\\u003cextra\\u003e\\u003c\\u002fextra\\u003e\",\"learning_rate (FloatDistribution): 0.19767460787623292\\u003cextra\\u003e\\u003c\\u002fextra\\u003e\",\"bootstrap_type (CategoricalDistribution): 0.7359336473777108\\u003cextra\\u003e\\u003c\\u002fextra\\u003e\"],\"name\":\"Objective Value\",\"orientation\":\"h\",\"text\":[\"\\u003c0.01\",\"\\u003c0.01\",\"\\u003c0.01\",\"\\u003c0.01\",\"\\u003c0.01\",\"0.01\",\"0.02\",\"0.03\",\"0.20\",\"0.74\"],\"textposition\":\"outside\",\"x\":[0.0001897742509499148,0.000256762554585744,0.0013887726822324447,0.003906969648397853,0.005988051793351469,0.010486613375497998,0.01629313334389075,0.02788166709714984,0.19767460787623292,0.7359336473777108],\"y\":[\"random_strength\",\"l2_leaf_reg\",\"od_type\",\"bagging_temperature\",\"od_wait\",\"iterations\",\"min_data_in_leaf\",\"depth\",\"learning_rate\",\"bootstrap_type\"],\"type\":\"bar\"}],                        {\"title\":{\"text\":\"Hyperparameter Importances\"},\"xaxis\":{\"title\":{\"text\":\"Hyperparameter Importance\"}},\"yaxis\":{\"title\":{\"text\":\"Hyperparameter\"}},\"template\":{\"data\":{\"histogram2dcontour\":[{\"type\":\"histogram2dcontour\",\"colorbar\":{\"outlinewidth\":0,\"ticks\":\"\"},\"colorscale\":[[0.0,\"#0d0887\"],[0.1111111111111111,\"#46039f\"],[0.2222222222222222,\"#7201a8\"],[0.3333333333333333,\"#9c179e\"],[0.4444444444444444,\"#bd3786\"],[0.5555555555555556,\"#d8576b\"],[0.6666666666666666,\"#ed7953\"],[0.7777777777777778,\"#fb9f3a\"],[0.8888888888888888,\"#fdca26\"],[1.0,\"#f0f921\"]]}],\"choropleth\":[{\"type\":\"choropleth\",\"colorbar\":{\"outlinewidth\":0,\"ticks\":\"\"}}],\"histogram2d\":[{\"type\":\"histogram2d\",\"colorbar\":{\"outlinewidth\":0,\"ticks\":\"\"},\"colorscale\":[[0.0,\"#0d0887\"],[0.1111111111111111,\"#46039f\"],[0.2222222222222222,\"#7201a8\"],[0.3333333333333333,\"#9c179e\"],[0.4444444444444444,\"#bd3786\"],[0.5555555555555556,\"#d8576b\"],[0.6666666666666666,\"#ed7953\"],[0.7777777777777778,\"#fb9f3a\"],[0.8888888888888888,\"#fdca26\"],[1.0,\"#f0f921\"]]}],\"heatmap\":[{\"type\":\"heatmap\",\"colorbar\":{\"outlinewidth\":0,\"ticks\":\"\"},\"colorscale\":[[0.0,\"#0d0887\"],[0.1111111111111111,\"#46039f\"],[0.2222222222222222,\"#7201a8\"],[0.3333333333333333,\"#9c179e\"],[0.4444444444444444,\"#bd3786\"],[0.5555555555555556,\"#d8576b\"],[0.6666666666666666,\"#ed7953\"],[0.7777777777777778,\"#fb9f3a\"],[0.8888888888888888,\"#fdca26\"],[1.0,\"#f0f921\"]]}],\"heatmapgl\":[{\"type\":\"heatmapgl\",\"colorbar\":{\"outlinewidth\":0,\"ticks\":\"\"},\"colorscale\":[[0.0,\"#0d0887\"],[0.1111111111111111,\"#46039f\"],[0.2222222222222222,\"#7201a8\"],[0.3333333333333333,\"#9c179e\"],[0.4444444444444444,\"#bd3786\"],[0.5555555555555556,\"#d8576b\"],[0.6666666666666666,\"#ed7953\"],[0.7777777777777778,\"#fb9f3a\"],[0.8888888888888888,\"#fdca26\"],[1.0,\"#f0f921\"]]}],\"contourcarpet\":[{\"type\":\"contourcarpet\",\"colorbar\":{\"outlinewidth\":0,\"ticks\":\"\"}}],\"contour\":[{\"type\":\"contour\",\"colorbar\":{\"outlinewidth\":0,\"ticks\":\"\"},\"colorscale\":[[0.0,\"#0d0887\"],[0.1111111111111111,\"#46039f\"],[0.2222222222222222,\"#7201a8\"],[0.3333333333333333,\"#9c179e\"],[0.4444444444444444,\"#bd3786\"],[0.5555555555555556,\"#d8576b\"],[0.6666666666666666,\"#ed7953\"],[0.7777777777777778,\"#fb9f3a\"],[0.8888888888888888,\"#fdca26\"],[1.0,\"#f0f921\"]]}],\"surface\":[{\"type\":\"surface\",\"colorbar\":{\"outlinewidth\":0,\"ticks\":\"\"},\"colorscale\":[[0.0,\"#0d0887\"],[0.1111111111111111,\"#46039f\"],[0.2222222222222222,\"#7201a8\"],[0.3333333333333333,\"#9c179e\"],[0.4444444444444444,\"#bd3786\"],[0.5555555555555556,\"#d8576b\"],[0.6666666666666666,\"#ed7953\"],[0.7777777777777778,\"#fb9f3a\"],[0.8888888888888888,\"#fdca26\"],[1.0,\"#f0f921\"]]}],\"mesh3d\":[{\"type\":\"mesh3d\",\"colorbar\":{\"outlinewidth\":0,\"ticks\":\"\"}}],\"scatter\":[{\"fillpattern\":{\"fillmode\":\"overlay\",\"size\":10,\"solidity\":0.2},\"type\":\"scatter\"}],\"parcoords\":[{\"type\":\"parcoords\",\"line\":{\"colorbar\":{\"outlinewidth\":0,\"ticks\":\"\"}}}],\"scatterpolargl\":[{\"type\":\"scatterpolargl\",\"marker\":{\"colorbar\":{\"outlinewidth\":0,\"ticks\":\"\"}}}],\"bar\":[{\"error_x\":{\"color\":\"#2a3f5f\"},\"error_y\":{\"color\":\"#2a3f5f\"},\"marker\":{\"line\":{\"color\":\"#E5ECF6\",\"width\":0.5},\"pattern\":{\"fillmode\":\"overlay\",\"size\":10,\"solidity\":0.2}},\"type\":\"bar\"}],\"scattergeo\":[{\"type\":\"scattergeo\",\"marker\":{\"colorbar\":{\"outlinewidth\":0,\"ticks\":\"\"}}}],\"scatterpolar\":[{\"type\":\"scatterpolar\",\"marker\":{\"colorbar\":{\"outlinewidth\":0,\"ticks\":\"\"}}}],\"histogram\":[{\"marker\":{\"pattern\":{\"fillmode\":\"overlay\",\"size\":10,\"solidity\":0.2}},\"type\":\"histogram\"}],\"scattergl\":[{\"type\":\"scattergl\",\"marker\":{\"colorbar\":{\"outlinewidth\":0,\"ticks\":\"\"}}}],\"scatter3d\":[{\"type\":\"scatter3d\",\"line\":{\"colorbar\":{\"outlinewidth\":0,\"ticks\":\"\"}},\"marker\":{\"colorbar\":{\"outlinewidth\":0,\"ticks\":\"\"}}}],\"scattermapbox\":[{\"type\":\"scattermapbox\",\"marker\":{\"colorbar\":{\"outlinewidth\":0,\"ticks\":\"\"}}}],\"scatterternary\":[{\"type\":\"scatterternary\",\"marker\":{\"colorbar\":{\"outlinewidth\":0,\"ticks\":\"\"}}}],\"scattercarpet\":[{\"type\":\"scattercarpet\",\"marker\":{\"colorbar\":{\"outlinewidth\":0,\"ticks\":\"\"}}}],\"carpet\":[{\"aaxis\":{\"endlinecolor\":\"#2a3f5f\",\"gridcolor\":\"white\",\"linecolor\":\"white\",\"minorgridcolor\":\"white\",\"startlinecolor\":\"#2a3f5f\"},\"baxis\":{\"endlinecolor\":\"#2a3f5f\",\"gridcolor\":\"white\",\"linecolor\":\"white\",\"minorgridcolor\":\"white\",\"startlinecolor\":\"#2a3f5f\"},\"type\":\"carpet\"}],\"table\":[{\"cells\":{\"fill\":{\"color\":\"#EBF0F8\"},\"line\":{\"color\":\"white\"}},\"header\":{\"fill\":{\"color\":\"#C8D4E3\"},\"line\":{\"color\":\"white\"}},\"type\":\"table\"}],\"barpolar\":[{\"marker\":{\"line\":{\"color\":\"#E5ECF6\",\"width\":0.5},\"pattern\":{\"fillmode\":\"overlay\",\"size\":10,\"solidity\":0.2}},\"type\":\"barpolar\"}],\"pie\":[{\"automargin\":true,\"type\":\"pie\"}]},\"layout\":{\"autotypenumbers\":\"strict\",\"colorway\":[\"#636efa\",\"#EF553B\",\"#00cc96\",\"#ab63fa\",\"#FFA15A\",\"#19d3f3\",\"#FF6692\",\"#B6E880\",\"#FF97FF\",\"#FECB52\"],\"font\":{\"color\":\"#2a3f5f\"},\"hovermode\":\"closest\",\"hoverlabel\":{\"align\":\"left\"},\"paper_bgcolor\":\"white\",\"plot_bgcolor\":\"#E5ECF6\",\"polar\":{\"bgcolor\":\"#E5ECF6\",\"angularaxis\":{\"gridcolor\":\"white\",\"linecolor\":\"white\",\"ticks\":\"\"},\"radialaxis\":{\"gridcolor\":\"white\",\"linecolor\":\"white\",\"ticks\":\"\"}},\"ternary\":{\"bgcolor\":\"#E5ECF6\",\"aaxis\":{\"gridcolor\":\"white\",\"linecolor\":\"white\",\"ticks\":\"\"},\"baxis\":{\"gridcolor\":\"white\",\"linecolor\":\"white\",\"ticks\":\"\"},\"caxis\":{\"gridcolor\":\"white\",\"linecolor\":\"white\",\"ticks\":\"\"}},\"coloraxis\":{\"colorbar\":{\"outlinewidth\":0,\"ticks\":\"\"}},\"colorscale\":{\"sequential\":[[0.0,\"#0d0887\"],[0.1111111111111111,\"#46039f\"],[0.2222222222222222,\"#7201a8\"],[0.3333333333333333,\"#9c179e\"],[0.4444444444444444,\"#bd3786\"],[0.5555555555555556,\"#d8576b\"],[0.6666666666666666,\"#ed7953\"],[0.7777777777777778,\"#fb9f3a\"],[0.8888888888888888,\"#fdca26\"],[1.0,\"#f0f921\"]],\"sequentialminus\":[[0.0,\"#0d0887\"],[0.1111111111111111,\"#46039f\"],[0.2222222222222222,\"#7201a8\"],[0.3333333333333333,\"#9c179e\"],[0.4444444444444444,\"#bd3786\"],[0.5555555555555556,\"#d8576b\"],[0.6666666666666666,\"#ed7953\"],[0.7777777777777778,\"#fb9f3a\"],[0.8888888888888888,\"#fdca26\"],[1.0,\"#f0f921\"]],\"diverging\":[[0,\"#8e0152\"],[0.1,\"#c51b7d\"],[0.2,\"#de77ae\"],[0.3,\"#f1b6da\"],[0.4,\"#fde0ef\"],[0.5,\"#f7f7f7\"],[0.6,\"#e6f5d0\"],[0.7,\"#b8e186\"],[0.8,\"#7fbc41\"],[0.9,\"#4d9221\"],[1,\"#276419\"]]},\"xaxis\":{\"gridcolor\":\"white\",\"linecolor\":\"white\",\"ticks\":\"\",\"title\":{\"standoff\":15},\"zerolinecolor\":\"white\",\"automargin\":true,\"zerolinewidth\":2},\"yaxis\":{\"gridcolor\":\"white\",\"linecolor\":\"white\",\"ticks\":\"\",\"title\":{\"standoff\":15},\"zerolinecolor\":\"white\",\"automargin\":true,\"zerolinewidth\":2},\"scene\":{\"xaxis\":{\"backgroundcolor\":\"#E5ECF6\",\"gridcolor\":\"white\",\"linecolor\":\"white\",\"showbackground\":true,\"ticks\":\"\",\"zerolinecolor\":\"white\",\"gridwidth\":2},\"yaxis\":{\"backgroundcolor\":\"#E5ECF6\",\"gridcolor\":\"white\",\"linecolor\":\"white\",\"showbackground\":true,\"ticks\":\"\",\"zerolinecolor\":\"white\",\"gridwidth\":2},\"zaxis\":{\"backgroundcolor\":\"#E5ECF6\",\"gridcolor\":\"white\",\"linecolor\":\"white\",\"showbackground\":true,\"ticks\":\"\",\"zerolinecolor\":\"white\",\"gridwidth\":2}},\"shapedefaults\":{\"line\":{\"color\":\"#2a3f5f\"}},\"annotationdefaults\":{\"arrowcolor\":\"#2a3f5f\",\"arrowhead\":0,\"arrowwidth\":1},\"geo\":{\"bgcolor\":\"white\",\"landcolor\":\"#E5ECF6\",\"subunitcolor\":\"white\",\"showland\":true,\"showlakes\":true,\"lakecolor\":\"white\"},\"title\":{\"x\":0.05},\"mapbox\":{\"style\":\"light\"}}}},                        {\"responsive\": true}                    )                };                            </script>        </div>"
      ],
      "text/plain": [
       "Figure({\n",
       "    'data': [{'cliponaxis': False,\n",
       "              'hovertemplate': [random_strength (FloatDistribution):\n",
       "                                0.0001897742509499148<extra></extra>, l2_leaf_reg\n",
       "                                (FloatDistribution):\n",
       "                                0.000256762554585744<extra></extra>, od_type\n",
       "                                (CategoricalDistribution):\n",
       "                                0.0013887726822324447<extra></extra>,\n",
       "                                bagging_temperature (FloatDistribution):\n",
       "                                0.003906969648397853<extra></extra>, od_wait\n",
       "                                (IntDistribution):\n",
       "                                0.005988051793351469<extra></extra>, iterations\n",
       "                                (IntDistribution):\n",
       "                                0.010486613375497998<extra></extra>,\n",
       "                                min_data_in_leaf (IntDistribution):\n",
       "                                0.01629313334389075<extra></extra>, depth\n",
       "                                (IntDistribution):\n",
       "                                0.02788166709714984<extra></extra>, learning_rate\n",
       "                                (FloatDistribution):\n",
       "                                0.19767460787623292<extra></extra>, bootstrap_type\n",
       "                                (CategoricalDistribution):\n",
       "                                0.7359336473777108<extra></extra>],\n",
       "              'name': 'Objective Value',\n",
       "              'orientation': 'h',\n",
       "              'text': [<0.01, <0.01, <0.01, <0.01, <0.01, 0.01, 0.02, 0.03, 0.20,\n",
       "                       0.74],\n",
       "              'textposition': 'outside',\n",
       "              'type': 'bar',\n",
       "              'x': [0.0001897742509499148, 0.000256762554585744,\n",
       "                    0.0013887726822324447, 0.003906969648397853,\n",
       "                    0.005988051793351469, 0.010486613375497998,\n",
       "                    0.01629313334389075, 0.02788166709714984, 0.19767460787623292,\n",
       "                    0.7359336473777108],\n",
       "              'y': [random_strength, l2_leaf_reg, od_type, bagging_temperature,\n",
       "                    od_wait, iterations, min_data_in_leaf, depth, learning_rate,\n",
       "                    bootstrap_type]}],\n",
       "    'layout': {'template': '...',\n",
       "               'title': {'text': 'Hyperparameter Importances'},\n",
       "               'xaxis': {'title': {'text': 'Hyperparameter Importance'}},\n",
       "               'yaxis': {'title': {'text': 'Hyperparameter'}}}\n",
       "})"
      ]
     },
     "execution_count": 178,
     "metadata": {},
     "output_type": "execute_result"
    }
   ],
   "source": [
    "# 하이퍼파라미터별 중요도를 확인할 수 있는 그래프\n",
    "optuna.visualization.plot_param_importances(study_cat_no_enc)"
   ]
  },
  {
   "cell_type": "code",
   "execution_count": 179,
   "metadata": {},
   "outputs": [
    {
     "ename": "ValueError",
     "evalue": "Mime type rendering requires nbformat>=4.2.0 but it is not installed",
     "output_type": "error",
     "traceback": [
      "\u001b[1;31m---------------------------------------------------------------------------\u001b[0m",
      "\u001b[1;31mValueError\u001b[0m                                Traceback (most recent call last)",
      "File \u001b[1;32mc:\\Users\\aryij\\anaconda3\\envs\\weather2\\Lib\\site-packages\\IPython\\core\\formatters.py:925\u001b[0m, in \u001b[0;36mIPythonDisplayFormatter.__call__\u001b[1;34m(self, obj)\u001b[0m\n\u001b[0;32m    923\u001b[0m method \u001b[38;5;241m=\u001b[39m get_real_method(obj, \u001b[38;5;28mself\u001b[39m\u001b[38;5;241m.\u001b[39mprint_method)\n\u001b[0;32m    924\u001b[0m \u001b[38;5;28;01mif\u001b[39;00m method \u001b[38;5;129;01mis\u001b[39;00m \u001b[38;5;129;01mnot\u001b[39;00m \u001b[38;5;28;01mNone\u001b[39;00m:\n\u001b[1;32m--> 925\u001b[0m     method()\n\u001b[0;32m    926\u001b[0m     \u001b[38;5;28;01mreturn\u001b[39;00m \u001b[38;5;28;01mTrue\u001b[39;00m\n",
      "File \u001b[1;32mc:\\Users\\aryij\\anaconda3\\envs\\weather2\\Lib\\site-packages\\plotly\\basedatatypes.py:832\u001b[0m, in \u001b[0;36mBaseFigure._ipython_display_\u001b[1;34m(self)\u001b[0m\n\u001b[0;32m    829\u001b[0m \u001b[38;5;28;01mimport\u001b[39;00m \u001b[38;5;21;01mplotly\u001b[39;00m\u001b[38;5;21;01m.\u001b[39;00m\u001b[38;5;21;01mio\u001b[39;00m \u001b[38;5;28;01mas\u001b[39;00m \u001b[38;5;21;01mpio\u001b[39;00m\n\u001b[0;32m    831\u001b[0m \u001b[38;5;28;01mif\u001b[39;00m pio\u001b[38;5;241m.\u001b[39mrenderers\u001b[38;5;241m.\u001b[39mrender_on_display \u001b[38;5;129;01mand\u001b[39;00m pio\u001b[38;5;241m.\u001b[39mrenderers\u001b[38;5;241m.\u001b[39mdefault:\n\u001b[1;32m--> 832\u001b[0m     pio\u001b[38;5;241m.\u001b[39mshow(\u001b[38;5;28mself\u001b[39m)\n\u001b[0;32m    833\u001b[0m \u001b[38;5;28;01melse\u001b[39;00m:\n\u001b[0;32m    834\u001b[0m     \u001b[38;5;28mprint\u001b[39m(\u001b[38;5;28mrepr\u001b[39m(\u001b[38;5;28mself\u001b[39m))\n",
      "File \u001b[1;32mc:\\Users\\aryij\\anaconda3\\envs\\weather2\\Lib\\site-packages\\plotly\\io\\_renderers.py:394\u001b[0m, in \u001b[0;36mshow\u001b[1;34m(fig, renderer, validate, **kwargs)\u001b[0m\n\u001b[0;32m    389\u001b[0m         \u001b[38;5;28;01mraise\u001b[39;00m \u001b[38;5;167;01mValueError\u001b[39;00m(\n\u001b[0;32m    390\u001b[0m             \u001b[38;5;124m\"\u001b[39m\u001b[38;5;124mMime type rendering requires ipython but it is not installed\u001b[39m\u001b[38;5;124m\"\u001b[39m\n\u001b[0;32m    391\u001b[0m         )\n\u001b[0;32m    393\u001b[0m     \u001b[38;5;28;01mif\u001b[39;00m \u001b[38;5;129;01mnot\u001b[39;00m nbformat \u001b[38;5;129;01mor\u001b[39;00m Version(nbformat\u001b[38;5;241m.\u001b[39m__version__) \u001b[38;5;241m<\u001b[39m Version(\u001b[38;5;124m\"\u001b[39m\u001b[38;5;124m4.2.0\u001b[39m\u001b[38;5;124m\"\u001b[39m):\n\u001b[1;32m--> 394\u001b[0m         \u001b[38;5;28;01mraise\u001b[39;00m \u001b[38;5;167;01mValueError\u001b[39;00m(\n\u001b[0;32m    395\u001b[0m             \u001b[38;5;124m\"\u001b[39m\u001b[38;5;124mMime type rendering requires nbformat>=4.2.0 but it is not installed\u001b[39m\u001b[38;5;124m\"\u001b[39m\n\u001b[0;32m    396\u001b[0m         )\n\u001b[0;32m    398\u001b[0m     ipython_display\u001b[38;5;241m.\u001b[39mdisplay(bundle, raw\u001b[38;5;241m=\u001b[39m\u001b[38;5;28;01mTrue\u001b[39;00m)\n\u001b[0;32m    400\u001b[0m \u001b[38;5;66;03m# external renderers\u001b[39;00m\n",
      "\u001b[1;31mValueError\u001b[0m: Mime type rendering requires nbformat>=4.2.0 but it is not installed"
     ]
    },
    {
     "data": {
      "application/vnd.plotly.v1+json": {
       "config": {
        "plotlyServerURL": "https://plot.ly"
       },
       "data": [
        {
         "mode": "markers",
         "name": "Objective Value",
         "type": "scatter",
         "x": [
          0,
          1,
          2,
          3,
          4,
          5,
          6,
          7,
          8,
          9,
          10,
          11,
          12,
          13,
          14,
          15,
          16,
          17,
          18,
          19,
          20,
          21,
          22,
          23,
          24,
          25,
          26,
          27,
          28,
          29,
          30,
          31,
          32,
          33,
          34,
          35,
          36,
          37,
          38,
          39,
          40,
          41,
          42,
          43,
          44,
          45,
          46,
          47,
          48,
          49,
          50,
          51,
          52,
          53,
          54,
          55,
          56,
          57,
          58,
          59,
          60,
          61,
          62,
          63,
          64,
          65,
          66,
          67,
          68,
          69,
          70,
          71,
          72,
          73,
          74,
          75,
          76,
          77,
          78,
          79,
          80,
          81,
          82,
          83,
          84,
          85,
          86,
          87,
          88,
          89,
          90,
          91,
          92,
          93,
          94,
          95,
          96,
          97,
          98,
          99
         ],
         "y": [
          0,
          0.023342903507676944,
          0.012149298597194389,
          0,
          0.02829862312322701,
          0.003986841419876508,
          0,
          0,
          0,
          0.034253326761951704,
          0.04224652087475149,
          0.04114356743318832,
          0.04277542899776175,
          0.0347058091802463,
          0.12255203842837788,
          0.14013287401574803,
          0.13677212852394435,
          0.2116177540625758,
          0.17183098591549295,
          0.1435270887325682,
          0.07817243472981178,
          0.12756489493201484,
          0.15966283899340336,
          0.06799003455758258,
          0.09423434593924365,
          0.08975560521952275,
          0.1370516029078775,
          0.2086374695863747,
          0.21046878795239252,
          0,
          0.05438028870084619,
          0.1757583170254403,
          0.20450944546008532,
          0.1790953545232274,
          0.016143161056188213,
          0.19450522732798445,
          0.14241676942046855,
          0,
          0.03598555597061387,
          0,
          0.0509867028034217,
          0.20368797767802985,
          0.20559270516717326,
          0.15075562108367122,
          0.17060335332272672,
          0,
          0.13626265119723524,
          0.1276885043263288,
          0.15592387968078575,
          0.12527825871877318,
          0,
          0.22854387656702024,
          0.2009254749147589,
          0.20514069923254963,
          0.08187013702403084,
          0.20009737098344693,
          0.20251785498123714,
          0.19288595526219288,
          0.11170212765957446,
          0.10615422639644093,
          0.021630615640599003,
          0.2109858130229174,
          0.08344095279093126,
          0.17672994488671157,
          0.0059074912016088485,
          0.11122561648877438,
          0.17411534223092934,
          0.207303712720633,
          0,
          0.08137555328566565,
          0.08181818181818182,
          0.18876239441792142,
          0.09760386898219389,
          0.2587320574162679,
          0.22713009896210476,
          0.09783003120690907,
          0.2273002055374199,
          0.19773667559016792,
          0.07106263427532639,
          0.234168071273778,
          0.055781391147244806,
          0.22721236267053,
          0.2225042301184433,
          0.22042945529540217,
          0.21988643228222787,
          0.1732418524871355,
          0.21506550218340612,
          0,
          0.1577263779527559,
          0.21304294926390072,
          0.07059671028935047,
          0.2114334263866974,
          0.21324245374878287,
          0.07924417753039402,
          0.23167791706846674,
          0.2352727712592234,
          0.2318560560318802,
          0.22914402994084268,
          0.20177896917265747,
          0
         ]
        },
        {
         "mode": "lines",
         "name": "Best Value",
         "type": "scatter",
         "x": [
          0,
          1,
          2,
          3,
          4,
          5,
          6,
          7,
          8,
          9,
          10,
          11,
          12,
          13,
          14,
          15,
          16,
          17,
          18,
          19,
          20,
          21,
          22,
          23,
          24,
          25,
          26,
          27,
          28,
          29,
          30,
          31,
          32,
          33,
          34,
          35,
          36,
          37,
          38,
          39,
          40,
          41,
          42,
          43,
          44,
          45,
          46,
          47,
          48,
          49,
          50,
          51,
          52,
          53,
          54,
          55,
          56,
          57,
          58,
          59,
          60,
          61,
          62,
          63,
          64,
          65,
          66,
          67,
          68,
          69,
          70,
          71,
          72,
          73,
          74,
          75,
          76,
          77,
          78,
          79,
          80,
          81,
          82,
          83,
          84,
          85,
          86,
          87,
          88,
          89,
          90,
          91,
          92,
          93,
          94,
          95,
          96,
          97,
          98,
          99
         ],
         "y": [
          0,
          0.023342903507676944,
          0.023342903507676944,
          0.023342903507676944,
          0.02829862312322701,
          0.02829862312322701,
          0.02829862312322701,
          0.02829862312322701,
          0.02829862312322701,
          0.034253326761951704,
          0.04224652087475149,
          0.04224652087475149,
          0.04277542899776175,
          0.04277542899776175,
          0.12255203842837788,
          0.14013287401574803,
          0.14013287401574803,
          0.2116177540625758,
          0.2116177540625758,
          0.2116177540625758,
          0.2116177540625758,
          0.2116177540625758,
          0.2116177540625758,
          0.2116177540625758,
          0.2116177540625758,
          0.2116177540625758,
          0.2116177540625758,
          0.2116177540625758,
          0.2116177540625758,
          0.2116177540625758,
          0.2116177540625758,
          0.2116177540625758,
          0.2116177540625758,
          0.2116177540625758,
          0.2116177540625758,
          0.2116177540625758,
          0.2116177540625758,
          0.2116177540625758,
          0.2116177540625758,
          0.2116177540625758,
          0.2116177540625758,
          0.2116177540625758,
          0.2116177540625758,
          0.2116177540625758,
          0.2116177540625758,
          0.2116177540625758,
          0.2116177540625758,
          0.2116177540625758,
          0.2116177540625758,
          0.2116177540625758,
          0.2116177540625758,
          0.22854387656702024,
          0.22854387656702024,
          0.22854387656702024,
          0.22854387656702024,
          0.22854387656702024,
          0.22854387656702024,
          0.22854387656702024,
          0.22854387656702024,
          0.22854387656702024,
          0.22854387656702024,
          0.22854387656702024,
          0.22854387656702024,
          0.22854387656702024,
          0.22854387656702024,
          0.22854387656702024,
          0.22854387656702024,
          0.22854387656702024,
          0.22854387656702024,
          0.22854387656702024,
          0.22854387656702024,
          0.22854387656702024,
          0.22854387656702024,
          0.2587320574162679,
          0.2587320574162679,
          0.2587320574162679,
          0.2587320574162679,
          0.2587320574162679,
          0.2587320574162679,
          0.2587320574162679,
          0.2587320574162679,
          0.2587320574162679,
          0.2587320574162679,
          0.2587320574162679,
          0.2587320574162679,
          0.2587320574162679,
          0.2587320574162679,
          0.2587320574162679,
          0.2587320574162679,
          0.2587320574162679,
          0.2587320574162679,
          0.2587320574162679,
          0.2587320574162679,
          0.2587320574162679,
          0.2587320574162679,
          0.2587320574162679,
          0.2587320574162679,
          0.2587320574162679,
          0.2587320574162679,
          0.2587320574162679
         ]
        },
        {
         "marker": {
          "color": "#cccccc"
         },
         "mode": "markers",
         "name": "Infeasible Trial",
         "showlegend": false,
         "type": "scatter",
         "x": [],
         "y": []
        }
       ],
       "layout": {
        "template": {
         "data": {
          "bar": [
           {
            "error_x": {
             "color": "#2a3f5f"
            },
            "error_y": {
             "color": "#2a3f5f"
            },
            "marker": {
             "line": {
              "color": "#E5ECF6",
              "width": 0.5
             },
             "pattern": {
              "fillmode": "overlay",
              "size": 10,
              "solidity": 0.2
             }
            },
            "type": "bar"
           }
          ],
          "barpolar": [
           {
            "marker": {
             "line": {
              "color": "#E5ECF6",
              "width": 0.5
             },
             "pattern": {
              "fillmode": "overlay",
              "size": 10,
              "solidity": 0.2
             }
            },
            "type": "barpolar"
           }
          ],
          "carpet": [
           {
            "aaxis": {
             "endlinecolor": "#2a3f5f",
             "gridcolor": "white",
             "linecolor": "white",
             "minorgridcolor": "white",
             "startlinecolor": "#2a3f5f"
            },
            "baxis": {
             "endlinecolor": "#2a3f5f",
             "gridcolor": "white",
             "linecolor": "white",
             "minorgridcolor": "white",
             "startlinecolor": "#2a3f5f"
            },
            "type": "carpet"
           }
          ],
          "choropleth": [
           {
            "colorbar": {
             "outlinewidth": 0,
             "ticks": ""
            },
            "type": "choropleth"
           }
          ],
          "contour": [
           {
            "colorbar": {
             "outlinewidth": 0,
             "ticks": ""
            },
            "colorscale": [
             [
              0,
              "#0d0887"
             ],
             [
              0.1111111111111111,
              "#46039f"
             ],
             [
              0.2222222222222222,
              "#7201a8"
             ],
             [
              0.3333333333333333,
              "#9c179e"
             ],
             [
              0.4444444444444444,
              "#bd3786"
             ],
             [
              0.5555555555555556,
              "#d8576b"
             ],
             [
              0.6666666666666666,
              "#ed7953"
             ],
             [
              0.7777777777777778,
              "#fb9f3a"
             ],
             [
              0.8888888888888888,
              "#fdca26"
             ],
             [
              1,
              "#f0f921"
             ]
            ],
            "type": "contour"
           }
          ],
          "contourcarpet": [
           {
            "colorbar": {
             "outlinewidth": 0,
             "ticks": ""
            },
            "type": "contourcarpet"
           }
          ],
          "heatmap": [
           {
            "colorbar": {
             "outlinewidth": 0,
             "ticks": ""
            },
            "colorscale": [
             [
              0,
              "#0d0887"
             ],
             [
              0.1111111111111111,
              "#46039f"
             ],
             [
              0.2222222222222222,
              "#7201a8"
             ],
             [
              0.3333333333333333,
              "#9c179e"
             ],
             [
              0.4444444444444444,
              "#bd3786"
             ],
             [
              0.5555555555555556,
              "#d8576b"
             ],
             [
              0.6666666666666666,
              "#ed7953"
             ],
             [
              0.7777777777777778,
              "#fb9f3a"
             ],
             [
              0.8888888888888888,
              "#fdca26"
             ],
             [
              1,
              "#f0f921"
             ]
            ],
            "type": "heatmap"
           }
          ],
          "heatmapgl": [
           {
            "colorbar": {
             "outlinewidth": 0,
             "ticks": ""
            },
            "colorscale": [
             [
              0,
              "#0d0887"
             ],
             [
              0.1111111111111111,
              "#46039f"
             ],
             [
              0.2222222222222222,
              "#7201a8"
             ],
             [
              0.3333333333333333,
              "#9c179e"
             ],
             [
              0.4444444444444444,
              "#bd3786"
             ],
             [
              0.5555555555555556,
              "#d8576b"
             ],
             [
              0.6666666666666666,
              "#ed7953"
             ],
             [
              0.7777777777777778,
              "#fb9f3a"
             ],
             [
              0.8888888888888888,
              "#fdca26"
             ],
             [
              1,
              "#f0f921"
             ]
            ],
            "type": "heatmapgl"
           }
          ],
          "histogram": [
           {
            "marker": {
             "pattern": {
              "fillmode": "overlay",
              "size": 10,
              "solidity": 0.2
             }
            },
            "type": "histogram"
           }
          ],
          "histogram2d": [
           {
            "colorbar": {
             "outlinewidth": 0,
             "ticks": ""
            },
            "colorscale": [
             [
              0,
              "#0d0887"
             ],
             [
              0.1111111111111111,
              "#46039f"
             ],
             [
              0.2222222222222222,
              "#7201a8"
             ],
             [
              0.3333333333333333,
              "#9c179e"
             ],
             [
              0.4444444444444444,
              "#bd3786"
             ],
             [
              0.5555555555555556,
              "#d8576b"
             ],
             [
              0.6666666666666666,
              "#ed7953"
             ],
             [
              0.7777777777777778,
              "#fb9f3a"
             ],
             [
              0.8888888888888888,
              "#fdca26"
             ],
             [
              1,
              "#f0f921"
             ]
            ],
            "type": "histogram2d"
           }
          ],
          "histogram2dcontour": [
           {
            "colorbar": {
             "outlinewidth": 0,
             "ticks": ""
            },
            "colorscale": [
             [
              0,
              "#0d0887"
             ],
             [
              0.1111111111111111,
              "#46039f"
             ],
             [
              0.2222222222222222,
              "#7201a8"
             ],
             [
              0.3333333333333333,
              "#9c179e"
             ],
             [
              0.4444444444444444,
              "#bd3786"
             ],
             [
              0.5555555555555556,
              "#d8576b"
             ],
             [
              0.6666666666666666,
              "#ed7953"
             ],
             [
              0.7777777777777778,
              "#fb9f3a"
             ],
             [
              0.8888888888888888,
              "#fdca26"
             ],
             [
              1,
              "#f0f921"
             ]
            ],
            "type": "histogram2dcontour"
           }
          ],
          "mesh3d": [
           {
            "colorbar": {
             "outlinewidth": 0,
             "ticks": ""
            },
            "type": "mesh3d"
           }
          ],
          "parcoords": [
           {
            "line": {
             "colorbar": {
              "outlinewidth": 0,
              "ticks": ""
             }
            },
            "type": "parcoords"
           }
          ],
          "pie": [
           {
            "automargin": true,
            "type": "pie"
           }
          ],
          "scatter": [
           {
            "fillpattern": {
             "fillmode": "overlay",
             "size": 10,
             "solidity": 0.2
            },
            "type": "scatter"
           }
          ],
          "scatter3d": [
           {
            "line": {
             "colorbar": {
              "outlinewidth": 0,
              "ticks": ""
             }
            },
            "marker": {
             "colorbar": {
              "outlinewidth": 0,
              "ticks": ""
             }
            },
            "type": "scatter3d"
           }
          ],
          "scattercarpet": [
           {
            "marker": {
             "colorbar": {
              "outlinewidth": 0,
              "ticks": ""
             }
            },
            "type": "scattercarpet"
           }
          ],
          "scattergeo": [
           {
            "marker": {
             "colorbar": {
              "outlinewidth": 0,
              "ticks": ""
             }
            },
            "type": "scattergeo"
           }
          ],
          "scattergl": [
           {
            "marker": {
             "colorbar": {
              "outlinewidth": 0,
              "ticks": ""
             }
            },
            "type": "scattergl"
           }
          ],
          "scattermapbox": [
           {
            "marker": {
             "colorbar": {
              "outlinewidth": 0,
              "ticks": ""
             }
            },
            "type": "scattermapbox"
           }
          ],
          "scatterpolar": [
           {
            "marker": {
             "colorbar": {
              "outlinewidth": 0,
              "ticks": ""
             }
            },
            "type": "scatterpolar"
           }
          ],
          "scatterpolargl": [
           {
            "marker": {
             "colorbar": {
              "outlinewidth": 0,
              "ticks": ""
             }
            },
            "type": "scatterpolargl"
           }
          ],
          "scatterternary": [
           {
            "marker": {
             "colorbar": {
              "outlinewidth": 0,
              "ticks": ""
             }
            },
            "type": "scatterternary"
           }
          ],
          "surface": [
           {
            "colorbar": {
             "outlinewidth": 0,
             "ticks": ""
            },
            "colorscale": [
             [
              0,
              "#0d0887"
             ],
             [
              0.1111111111111111,
              "#46039f"
             ],
             [
              0.2222222222222222,
              "#7201a8"
             ],
             [
              0.3333333333333333,
              "#9c179e"
             ],
             [
              0.4444444444444444,
              "#bd3786"
             ],
             [
              0.5555555555555556,
              "#d8576b"
             ],
             [
              0.6666666666666666,
              "#ed7953"
             ],
             [
              0.7777777777777778,
              "#fb9f3a"
             ],
             [
              0.8888888888888888,
              "#fdca26"
             ],
             [
              1,
              "#f0f921"
             ]
            ],
            "type": "surface"
           }
          ],
          "table": [
           {
            "cells": {
             "fill": {
              "color": "#EBF0F8"
             },
             "line": {
              "color": "white"
             }
            },
            "header": {
             "fill": {
              "color": "#C8D4E3"
             },
             "line": {
              "color": "white"
             }
            },
            "type": "table"
           }
          ]
         },
         "layout": {
          "annotationdefaults": {
           "arrowcolor": "#2a3f5f",
           "arrowhead": 0,
           "arrowwidth": 1
          },
          "autotypenumbers": "strict",
          "coloraxis": {
           "colorbar": {
            "outlinewidth": 0,
            "ticks": ""
           }
          },
          "colorscale": {
           "diverging": [
            [
             0,
             "#8e0152"
            ],
            [
             0.1,
             "#c51b7d"
            ],
            [
             0.2,
             "#de77ae"
            ],
            [
             0.3,
             "#f1b6da"
            ],
            [
             0.4,
             "#fde0ef"
            ],
            [
             0.5,
             "#f7f7f7"
            ],
            [
             0.6,
             "#e6f5d0"
            ],
            [
             0.7,
             "#b8e186"
            ],
            [
             0.8,
             "#7fbc41"
            ],
            [
             0.9,
             "#4d9221"
            ],
            [
             1,
             "#276419"
            ]
           ],
           "sequential": [
            [
             0,
             "#0d0887"
            ],
            [
             0.1111111111111111,
             "#46039f"
            ],
            [
             0.2222222222222222,
             "#7201a8"
            ],
            [
             0.3333333333333333,
             "#9c179e"
            ],
            [
             0.4444444444444444,
             "#bd3786"
            ],
            [
             0.5555555555555556,
             "#d8576b"
            ],
            [
             0.6666666666666666,
             "#ed7953"
            ],
            [
             0.7777777777777778,
             "#fb9f3a"
            ],
            [
             0.8888888888888888,
             "#fdca26"
            ],
            [
             1,
             "#f0f921"
            ]
           ],
           "sequentialminus": [
            [
             0,
             "#0d0887"
            ],
            [
             0.1111111111111111,
             "#46039f"
            ],
            [
             0.2222222222222222,
             "#7201a8"
            ],
            [
             0.3333333333333333,
             "#9c179e"
            ],
            [
             0.4444444444444444,
             "#bd3786"
            ],
            [
             0.5555555555555556,
             "#d8576b"
            ],
            [
             0.6666666666666666,
             "#ed7953"
            ],
            [
             0.7777777777777778,
             "#fb9f3a"
            ],
            [
             0.8888888888888888,
             "#fdca26"
            ],
            [
             1,
             "#f0f921"
            ]
           ]
          },
          "colorway": [
           "#636efa",
           "#EF553B",
           "#00cc96",
           "#ab63fa",
           "#FFA15A",
           "#19d3f3",
           "#FF6692",
           "#B6E880",
           "#FF97FF",
           "#FECB52"
          ],
          "font": {
           "color": "#2a3f5f"
          },
          "geo": {
           "bgcolor": "white",
           "lakecolor": "white",
           "landcolor": "#E5ECF6",
           "showlakes": true,
           "showland": true,
           "subunitcolor": "white"
          },
          "hoverlabel": {
           "align": "left"
          },
          "hovermode": "closest",
          "mapbox": {
           "style": "light"
          },
          "paper_bgcolor": "white",
          "plot_bgcolor": "#E5ECF6",
          "polar": {
           "angularaxis": {
            "gridcolor": "white",
            "linecolor": "white",
            "ticks": ""
           },
           "bgcolor": "#E5ECF6",
           "radialaxis": {
            "gridcolor": "white",
            "linecolor": "white",
            "ticks": ""
           }
          },
          "scene": {
           "xaxis": {
            "backgroundcolor": "#E5ECF6",
            "gridcolor": "white",
            "gridwidth": 2,
            "linecolor": "white",
            "showbackground": true,
            "ticks": "",
            "zerolinecolor": "white"
           },
           "yaxis": {
            "backgroundcolor": "#E5ECF6",
            "gridcolor": "white",
            "gridwidth": 2,
            "linecolor": "white",
            "showbackground": true,
            "ticks": "",
            "zerolinecolor": "white"
           },
           "zaxis": {
            "backgroundcolor": "#E5ECF6",
            "gridcolor": "white",
            "gridwidth": 2,
            "linecolor": "white",
            "showbackground": true,
            "ticks": "",
            "zerolinecolor": "white"
           }
          },
          "shapedefaults": {
           "line": {
            "color": "#2a3f5f"
           }
          },
          "ternary": {
           "aaxis": {
            "gridcolor": "white",
            "linecolor": "white",
            "ticks": ""
           },
           "baxis": {
            "gridcolor": "white",
            "linecolor": "white",
            "ticks": ""
           },
           "bgcolor": "#E5ECF6",
           "caxis": {
            "gridcolor": "white",
            "linecolor": "white",
            "ticks": ""
           }
          },
          "title": {
           "x": 0.05
          },
          "xaxis": {
           "automargin": true,
           "gridcolor": "white",
           "linecolor": "white",
           "ticks": "",
           "title": {
            "standoff": 15
           },
           "zerolinecolor": "white",
           "zerolinewidth": 2
          },
          "yaxis": {
           "automargin": true,
           "gridcolor": "white",
           "linecolor": "white",
           "ticks": "",
           "title": {
            "standoff": 15
           },
           "zerolinecolor": "white",
           "zerolinewidth": 2
          }
         }
        },
        "title": {
         "text": "Optimization History Plot"
        },
        "xaxis": {
         "title": {
          "text": "Trial"
         }
        },
        "yaxis": {
         "title": {
          "text": "Objective Value"
         }
        }
       }
      },
      "text/html": [
       "<div>                        <script type=\"text/javascript\">window.PlotlyConfig = {MathJaxConfig: 'local'};</script>\n",
       "        <script charset=\"utf-8\" src=\"https://cdn.plot.ly/plotly-2.32.0.min.js\"></script>                <div id=\"f2290d0e-84ed-4116-878a-1603073af510\" class=\"plotly-graph-div\" style=\"height:100%; width:100%;\"></div>            <script type=\"text/javascript\">                                    window.PLOTLYENV=window.PLOTLYENV || {};                                    if (document.getElementById(\"f2290d0e-84ed-4116-878a-1603073af510\")) {                    Plotly.newPlot(                        \"f2290d0e-84ed-4116-878a-1603073af510\",                        [{\"mode\":\"markers\",\"name\":\"Objective Value\",\"x\":[0,1,2,3,4,5,6,7,8,9,10,11,12,13,14,15,16,17,18,19,20,21,22,23,24,25,26,27,28,29,30,31,32,33,34,35,36,37,38,39,40,41,42,43,44,45,46,47,48,49,50,51,52,53,54,55,56,57,58,59,60,61,62,63,64,65,66,67,68,69,70,71,72,73,74,75,76,77,78,79,80,81,82,83,84,85,86,87,88,89,90,91,92,93,94,95,96,97,98,99],\"y\":[0.0,0.023342903507676944,0.012149298597194389,0.0,0.02829862312322701,0.003986841419876508,0.0,0.0,0.0,0.034253326761951704,0.04224652087475149,0.04114356743318832,0.04277542899776175,0.0347058091802463,0.12255203842837788,0.14013287401574803,0.13677212852394435,0.2116177540625758,0.17183098591549295,0.1435270887325682,0.07817243472981178,0.12756489493201484,0.15966283899340336,0.06799003455758258,0.09423434593924365,0.08975560521952275,0.1370516029078775,0.2086374695863747,0.21046878795239252,0.0,0.05438028870084619,0.1757583170254403,0.20450944546008532,0.1790953545232274,0.016143161056188213,0.19450522732798445,0.14241676942046855,0.0,0.03598555597061387,0.0,0.0509867028034217,0.20368797767802985,0.20559270516717326,0.15075562108367122,0.17060335332272672,0.0,0.13626265119723524,0.1276885043263288,0.15592387968078575,0.12527825871877318,0.0,0.22854387656702024,0.2009254749147589,0.20514069923254963,0.08187013702403084,0.20009737098344693,0.20251785498123714,0.19288595526219288,0.11170212765957446,0.10615422639644093,0.021630615640599003,0.2109858130229174,0.08344095279093126,0.17672994488671157,0.0059074912016088485,0.11122561648877438,0.17411534223092934,0.207303712720633,0.0,0.08137555328566565,0.08181818181818182,0.18876239441792142,0.09760386898219389,0.2587320574162679,0.22713009896210476,0.09783003120690907,0.2273002055374199,0.19773667559016792,0.07106263427532639,0.234168071273778,0.055781391147244806,0.22721236267053,0.2225042301184433,0.22042945529540217,0.21988643228222787,0.1732418524871355,0.21506550218340612,0.0,0.1577263779527559,0.21304294926390072,0.07059671028935047,0.2114334263866974,0.21324245374878287,0.07924417753039402,0.23167791706846674,0.2352727712592234,0.2318560560318802,0.22914402994084268,0.20177896917265747,0.0],\"type\":\"scatter\"},{\"mode\":\"lines\",\"name\":\"Best Value\",\"x\":[0,1,2,3,4,5,6,7,8,9,10,11,12,13,14,15,16,17,18,19,20,21,22,23,24,25,26,27,28,29,30,31,32,33,34,35,36,37,38,39,40,41,42,43,44,45,46,47,48,49,50,51,52,53,54,55,56,57,58,59,60,61,62,63,64,65,66,67,68,69,70,71,72,73,74,75,76,77,78,79,80,81,82,83,84,85,86,87,88,89,90,91,92,93,94,95,96,97,98,99],\"y\":[0.0,0.023342903507676944,0.023342903507676944,0.023342903507676944,0.02829862312322701,0.02829862312322701,0.02829862312322701,0.02829862312322701,0.02829862312322701,0.034253326761951704,0.04224652087475149,0.04224652087475149,0.04277542899776175,0.04277542899776175,0.12255203842837788,0.14013287401574803,0.14013287401574803,0.2116177540625758,0.2116177540625758,0.2116177540625758,0.2116177540625758,0.2116177540625758,0.2116177540625758,0.2116177540625758,0.2116177540625758,0.2116177540625758,0.2116177540625758,0.2116177540625758,0.2116177540625758,0.2116177540625758,0.2116177540625758,0.2116177540625758,0.2116177540625758,0.2116177540625758,0.2116177540625758,0.2116177540625758,0.2116177540625758,0.2116177540625758,0.2116177540625758,0.2116177540625758,0.2116177540625758,0.2116177540625758,0.2116177540625758,0.2116177540625758,0.2116177540625758,0.2116177540625758,0.2116177540625758,0.2116177540625758,0.2116177540625758,0.2116177540625758,0.2116177540625758,0.22854387656702024,0.22854387656702024,0.22854387656702024,0.22854387656702024,0.22854387656702024,0.22854387656702024,0.22854387656702024,0.22854387656702024,0.22854387656702024,0.22854387656702024,0.22854387656702024,0.22854387656702024,0.22854387656702024,0.22854387656702024,0.22854387656702024,0.22854387656702024,0.22854387656702024,0.22854387656702024,0.22854387656702024,0.22854387656702024,0.22854387656702024,0.22854387656702024,0.2587320574162679,0.2587320574162679,0.2587320574162679,0.2587320574162679,0.2587320574162679,0.2587320574162679,0.2587320574162679,0.2587320574162679,0.2587320574162679,0.2587320574162679,0.2587320574162679,0.2587320574162679,0.2587320574162679,0.2587320574162679,0.2587320574162679,0.2587320574162679,0.2587320574162679,0.2587320574162679,0.2587320574162679,0.2587320574162679,0.2587320574162679,0.2587320574162679,0.2587320574162679,0.2587320574162679,0.2587320574162679,0.2587320574162679,0.2587320574162679],\"type\":\"scatter\"},{\"marker\":{\"color\":\"#cccccc\"},\"mode\":\"markers\",\"name\":\"Infeasible Trial\",\"showlegend\":false,\"x\":[],\"y\":[],\"type\":\"scatter\"}],                        {\"title\":{\"text\":\"Optimization History Plot\"},\"xaxis\":{\"title\":{\"text\":\"Trial\"}},\"yaxis\":{\"title\":{\"text\":\"Objective Value\"}},\"template\":{\"data\":{\"histogram2dcontour\":[{\"type\":\"histogram2dcontour\",\"colorbar\":{\"outlinewidth\":0,\"ticks\":\"\"},\"colorscale\":[[0.0,\"#0d0887\"],[0.1111111111111111,\"#46039f\"],[0.2222222222222222,\"#7201a8\"],[0.3333333333333333,\"#9c179e\"],[0.4444444444444444,\"#bd3786\"],[0.5555555555555556,\"#d8576b\"],[0.6666666666666666,\"#ed7953\"],[0.7777777777777778,\"#fb9f3a\"],[0.8888888888888888,\"#fdca26\"],[1.0,\"#f0f921\"]]}],\"choropleth\":[{\"type\":\"choropleth\",\"colorbar\":{\"outlinewidth\":0,\"ticks\":\"\"}}],\"histogram2d\":[{\"type\":\"histogram2d\",\"colorbar\":{\"outlinewidth\":0,\"ticks\":\"\"},\"colorscale\":[[0.0,\"#0d0887\"],[0.1111111111111111,\"#46039f\"],[0.2222222222222222,\"#7201a8\"],[0.3333333333333333,\"#9c179e\"],[0.4444444444444444,\"#bd3786\"],[0.5555555555555556,\"#d8576b\"],[0.6666666666666666,\"#ed7953\"],[0.7777777777777778,\"#fb9f3a\"],[0.8888888888888888,\"#fdca26\"],[1.0,\"#f0f921\"]]}],\"heatmap\":[{\"type\":\"heatmap\",\"colorbar\":{\"outlinewidth\":0,\"ticks\":\"\"},\"colorscale\":[[0.0,\"#0d0887\"],[0.1111111111111111,\"#46039f\"],[0.2222222222222222,\"#7201a8\"],[0.3333333333333333,\"#9c179e\"],[0.4444444444444444,\"#bd3786\"],[0.5555555555555556,\"#d8576b\"],[0.6666666666666666,\"#ed7953\"],[0.7777777777777778,\"#fb9f3a\"],[0.8888888888888888,\"#fdca26\"],[1.0,\"#f0f921\"]]}],\"heatmapgl\":[{\"type\":\"heatmapgl\",\"colorbar\":{\"outlinewidth\":0,\"ticks\":\"\"},\"colorscale\":[[0.0,\"#0d0887\"],[0.1111111111111111,\"#46039f\"],[0.2222222222222222,\"#7201a8\"],[0.3333333333333333,\"#9c179e\"],[0.4444444444444444,\"#bd3786\"],[0.5555555555555556,\"#d8576b\"],[0.6666666666666666,\"#ed7953\"],[0.7777777777777778,\"#fb9f3a\"],[0.8888888888888888,\"#fdca26\"],[1.0,\"#f0f921\"]]}],\"contourcarpet\":[{\"type\":\"contourcarpet\",\"colorbar\":{\"outlinewidth\":0,\"ticks\":\"\"}}],\"contour\":[{\"type\":\"contour\",\"colorbar\":{\"outlinewidth\":0,\"ticks\":\"\"},\"colorscale\":[[0.0,\"#0d0887\"],[0.1111111111111111,\"#46039f\"],[0.2222222222222222,\"#7201a8\"],[0.3333333333333333,\"#9c179e\"],[0.4444444444444444,\"#bd3786\"],[0.5555555555555556,\"#d8576b\"],[0.6666666666666666,\"#ed7953\"],[0.7777777777777778,\"#fb9f3a\"],[0.8888888888888888,\"#fdca26\"],[1.0,\"#f0f921\"]]}],\"surface\":[{\"type\":\"surface\",\"colorbar\":{\"outlinewidth\":0,\"ticks\":\"\"},\"colorscale\":[[0.0,\"#0d0887\"],[0.1111111111111111,\"#46039f\"],[0.2222222222222222,\"#7201a8\"],[0.3333333333333333,\"#9c179e\"],[0.4444444444444444,\"#bd3786\"],[0.5555555555555556,\"#d8576b\"],[0.6666666666666666,\"#ed7953\"],[0.7777777777777778,\"#fb9f3a\"],[0.8888888888888888,\"#fdca26\"],[1.0,\"#f0f921\"]]}],\"mesh3d\":[{\"type\":\"mesh3d\",\"colorbar\":{\"outlinewidth\":0,\"ticks\":\"\"}}],\"scatter\":[{\"fillpattern\":{\"fillmode\":\"overlay\",\"size\":10,\"solidity\":0.2},\"type\":\"scatter\"}],\"parcoords\":[{\"type\":\"parcoords\",\"line\":{\"colorbar\":{\"outlinewidth\":0,\"ticks\":\"\"}}}],\"scatterpolargl\":[{\"type\":\"scatterpolargl\",\"marker\":{\"colorbar\":{\"outlinewidth\":0,\"ticks\":\"\"}}}],\"bar\":[{\"error_x\":{\"color\":\"#2a3f5f\"},\"error_y\":{\"color\":\"#2a3f5f\"},\"marker\":{\"line\":{\"color\":\"#E5ECF6\",\"width\":0.5},\"pattern\":{\"fillmode\":\"overlay\",\"size\":10,\"solidity\":0.2}},\"type\":\"bar\"}],\"scattergeo\":[{\"type\":\"scattergeo\",\"marker\":{\"colorbar\":{\"outlinewidth\":0,\"ticks\":\"\"}}}],\"scatterpolar\":[{\"type\":\"scatterpolar\",\"marker\":{\"colorbar\":{\"outlinewidth\":0,\"ticks\":\"\"}}}],\"histogram\":[{\"marker\":{\"pattern\":{\"fillmode\":\"overlay\",\"size\":10,\"solidity\":0.2}},\"type\":\"histogram\"}],\"scattergl\":[{\"type\":\"scattergl\",\"marker\":{\"colorbar\":{\"outlinewidth\":0,\"ticks\":\"\"}}}],\"scatter3d\":[{\"type\":\"scatter3d\",\"line\":{\"colorbar\":{\"outlinewidth\":0,\"ticks\":\"\"}},\"marker\":{\"colorbar\":{\"outlinewidth\":0,\"ticks\":\"\"}}}],\"scattermapbox\":[{\"type\":\"scattermapbox\",\"marker\":{\"colorbar\":{\"outlinewidth\":0,\"ticks\":\"\"}}}],\"scatterternary\":[{\"type\":\"scatterternary\",\"marker\":{\"colorbar\":{\"outlinewidth\":0,\"ticks\":\"\"}}}],\"scattercarpet\":[{\"type\":\"scattercarpet\",\"marker\":{\"colorbar\":{\"outlinewidth\":0,\"ticks\":\"\"}}}],\"carpet\":[{\"aaxis\":{\"endlinecolor\":\"#2a3f5f\",\"gridcolor\":\"white\",\"linecolor\":\"white\",\"minorgridcolor\":\"white\",\"startlinecolor\":\"#2a3f5f\"},\"baxis\":{\"endlinecolor\":\"#2a3f5f\",\"gridcolor\":\"white\",\"linecolor\":\"white\",\"minorgridcolor\":\"white\",\"startlinecolor\":\"#2a3f5f\"},\"type\":\"carpet\"}],\"table\":[{\"cells\":{\"fill\":{\"color\":\"#EBF0F8\"},\"line\":{\"color\":\"white\"}},\"header\":{\"fill\":{\"color\":\"#C8D4E3\"},\"line\":{\"color\":\"white\"}},\"type\":\"table\"}],\"barpolar\":[{\"marker\":{\"line\":{\"color\":\"#E5ECF6\",\"width\":0.5},\"pattern\":{\"fillmode\":\"overlay\",\"size\":10,\"solidity\":0.2}},\"type\":\"barpolar\"}],\"pie\":[{\"automargin\":true,\"type\":\"pie\"}]},\"layout\":{\"autotypenumbers\":\"strict\",\"colorway\":[\"#636efa\",\"#EF553B\",\"#00cc96\",\"#ab63fa\",\"#FFA15A\",\"#19d3f3\",\"#FF6692\",\"#B6E880\",\"#FF97FF\",\"#FECB52\"],\"font\":{\"color\":\"#2a3f5f\"},\"hovermode\":\"closest\",\"hoverlabel\":{\"align\":\"left\"},\"paper_bgcolor\":\"white\",\"plot_bgcolor\":\"#E5ECF6\",\"polar\":{\"bgcolor\":\"#E5ECF6\",\"angularaxis\":{\"gridcolor\":\"white\",\"linecolor\":\"white\",\"ticks\":\"\"},\"radialaxis\":{\"gridcolor\":\"white\",\"linecolor\":\"white\",\"ticks\":\"\"}},\"ternary\":{\"bgcolor\":\"#E5ECF6\",\"aaxis\":{\"gridcolor\":\"white\",\"linecolor\":\"white\",\"ticks\":\"\"},\"baxis\":{\"gridcolor\":\"white\",\"linecolor\":\"white\",\"ticks\":\"\"},\"caxis\":{\"gridcolor\":\"white\",\"linecolor\":\"white\",\"ticks\":\"\"}},\"coloraxis\":{\"colorbar\":{\"outlinewidth\":0,\"ticks\":\"\"}},\"colorscale\":{\"sequential\":[[0.0,\"#0d0887\"],[0.1111111111111111,\"#46039f\"],[0.2222222222222222,\"#7201a8\"],[0.3333333333333333,\"#9c179e\"],[0.4444444444444444,\"#bd3786\"],[0.5555555555555556,\"#d8576b\"],[0.6666666666666666,\"#ed7953\"],[0.7777777777777778,\"#fb9f3a\"],[0.8888888888888888,\"#fdca26\"],[1.0,\"#f0f921\"]],\"sequentialminus\":[[0.0,\"#0d0887\"],[0.1111111111111111,\"#46039f\"],[0.2222222222222222,\"#7201a8\"],[0.3333333333333333,\"#9c179e\"],[0.4444444444444444,\"#bd3786\"],[0.5555555555555556,\"#d8576b\"],[0.6666666666666666,\"#ed7953\"],[0.7777777777777778,\"#fb9f3a\"],[0.8888888888888888,\"#fdca26\"],[1.0,\"#f0f921\"]],\"diverging\":[[0,\"#8e0152\"],[0.1,\"#c51b7d\"],[0.2,\"#de77ae\"],[0.3,\"#f1b6da\"],[0.4,\"#fde0ef\"],[0.5,\"#f7f7f7\"],[0.6,\"#e6f5d0\"],[0.7,\"#b8e186\"],[0.8,\"#7fbc41\"],[0.9,\"#4d9221\"],[1,\"#276419\"]]},\"xaxis\":{\"gridcolor\":\"white\",\"linecolor\":\"white\",\"ticks\":\"\",\"title\":{\"standoff\":15},\"zerolinecolor\":\"white\",\"automargin\":true,\"zerolinewidth\":2},\"yaxis\":{\"gridcolor\":\"white\",\"linecolor\":\"white\",\"ticks\":\"\",\"title\":{\"standoff\":15},\"zerolinecolor\":\"white\",\"automargin\":true,\"zerolinewidth\":2},\"scene\":{\"xaxis\":{\"backgroundcolor\":\"#E5ECF6\",\"gridcolor\":\"white\",\"linecolor\":\"white\",\"showbackground\":true,\"ticks\":\"\",\"zerolinecolor\":\"white\",\"gridwidth\":2},\"yaxis\":{\"backgroundcolor\":\"#E5ECF6\",\"gridcolor\":\"white\",\"linecolor\":\"white\",\"showbackground\":true,\"ticks\":\"\",\"zerolinecolor\":\"white\",\"gridwidth\":2},\"zaxis\":{\"backgroundcolor\":\"#E5ECF6\",\"gridcolor\":\"white\",\"linecolor\":\"white\",\"showbackground\":true,\"ticks\":\"\",\"zerolinecolor\":\"white\",\"gridwidth\":2}},\"shapedefaults\":{\"line\":{\"color\":\"#2a3f5f\"}},\"annotationdefaults\":{\"arrowcolor\":\"#2a3f5f\",\"arrowhead\":0,\"arrowwidth\":1},\"geo\":{\"bgcolor\":\"white\",\"landcolor\":\"#E5ECF6\",\"subunitcolor\":\"white\",\"showland\":true,\"showlakes\":true,\"lakecolor\":\"white\"},\"title\":{\"x\":0.05},\"mapbox\":{\"style\":\"light\"}}}},                        {\"responsive\": true}                    )                };                            </script>        </div>"
      ],
      "text/plain": [
       "Figure({\n",
       "    'data': [{'mode': 'markers',\n",
       "              'name': 'Objective Value',\n",
       "              'type': 'scatter',\n",
       "              'x': [0, 1, 2, 3, 4, 5, 6, 7, 8, 9, 10, 11, 12, 13, 14, 15, 16, 17,\n",
       "                    18, 19, 20, 21, 22, 23, 24, 25, 26, 27, 28, 29, 30, 31, 32, 33,\n",
       "                    34, 35, 36, 37, 38, 39, 40, 41, 42, 43, 44, 45, 46, 47, 48, 49,\n",
       "                    50, 51, 52, 53, 54, 55, 56, 57, 58, 59, 60, 61, 62, 63, 64, 65,\n",
       "                    66, 67, 68, 69, 70, 71, 72, 73, 74, 75, 76, 77, 78, 79, 80, 81,\n",
       "                    82, 83, 84, 85, 86, 87, 88, 89, 90, 91, 92, 93, 94, 95, 96, 97,\n",
       "                    98, 99],\n",
       "              'y': [0.0, 0.023342903507676944, 0.012149298597194389, 0.0,\n",
       "                    0.02829862312322701, 0.003986841419876508, 0.0, 0.0, 0.0,\n",
       "                    0.034253326761951704, 0.04224652087475149, 0.04114356743318832,\n",
       "                    0.04277542899776175, 0.0347058091802463, 0.12255203842837788,\n",
       "                    0.14013287401574803, 0.13677212852394435, 0.2116177540625758,\n",
       "                    0.17183098591549295, 0.1435270887325682, 0.07817243472981178,\n",
       "                    0.12756489493201484, 0.15966283899340336, 0.06799003455758258,\n",
       "                    0.09423434593924365, 0.08975560521952275, 0.1370516029078775,\n",
       "                    0.2086374695863747, 0.21046878795239252, 0.0,\n",
       "                    0.05438028870084619, 0.1757583170254403, 0.20450944546008532,\n",
       "                    0.1790953545232274, 0.016143161056188213, 0.19450522732798445,\n",
       "                    0.14241676942046855, 0.0, 0.03598555597061387, 0.0,\n",
       "                    0.0509867028034217, 0.20368797767802985, 0.20559270516717326,\n",
       "                    0.15075562108367122, 0.17060335332272672, 0.0,\n",
       "                    0.13626265119723524, 0.1276885043263288, 0.15592387968078575,\n",
       "                    0.12527825871877318, 0.0, 0.22854387656702024,\n",
       "                    0.2009254749147589, 0.20514069923254963, 0.08187013702403084,\n",
       "                    0.20009737098344693, 0.20251785498123714, 0.19288595526219288,\n",
       "                    0.11170212765957446, 0.10615422639644093, 0.021630615640599003,\n",
       "                    0.2109858130229174, 0.08344095279093126, 0.17672994488671157,\n",
       "                    0.0059074912016088485, 0.11122561648877438,\n",
       "                    0.17411534223092934, 0.207303712720633, 0.0,\n",
       "                    0.08137555328566565, 0.08181818181818182, 0.18876239441792142,\n",
       "                    0.09760386898219389, 0.2587320574162679, 0.22713009896210476,\n",
       "                    0.09783003120690907, 0.2273002055374199, 0.19773667559016792,\n",
       "                    0.07106263427532639, 0.234168071273778, 0.055781391147244806,\n",
       "                    0.22721236267053, 0.2225042301184433, 0.22042945529540217,\n",
       "                    0.21988643228222787, 0.1732418524871355, 0.21506550218340612,\n",
       "                    0.0, 0.1577263779527559, 0.21304294926390072,\n",
       "                    0.07059671028935047, 0.2114334263866974, 0.21324245374878287,\n",
       "                    0.07924417753039402, 0.23167791706846674, 0.2352727712592234,\n",
       "                    0.2318560560318802, 0.22914402994084268, 0.20177896917265747,\n",
       "                    0.0]},\n",
       "             {'mode': 'lines',\n",
       "              'name': 'Best Value',\n",
       "              'type': 'scatter',\n",
       "              'x': [0, 1, 2, 3, 4, 5, 6, 7, 8, 9, 10, 11, 12, 13, 14, 15, 16, 17,\n",
       "                    18, 19, 20, 21, 22, 23, 24, 25, 26, 27, 28, 29, 30, 31, 32, 33,\n",
       "                    34, 35, 36, 37, 38, 39, 40, 41, 42, 43, 44, 45, 46, 47, 48, 49,\n",
       "                    50, 51, 52, 53, 54, 55, 56, 57, 58, 59, 60, 61, 62, 63, 64, 65,\n",
       "                    66, 67, 68, 69, 70, 71, 72, 73, 74, 75, 76, 77, 78, 79, 80, 81,\n",
       "                    82, 83, 84, 85, 86, 87, 88, 89, 90, 91, 92, 93, 94, 95, 96, 97,\n",
       "                    98, 99],\n",
       "              'y': [0.0, 0.023342903507676944, 0.023342903507676944,\n",
       "                    0.023342903507676944, 0.02829862312322701, 0.02829862312322701,\n",
       "                    0.02829862312322701, 0.02829862312322701, 0.02829862312322701,\n",
       "                    0.034253326761951704, 0.04224652087475149, 0.04224652087475149,\n",
       "                    0.04277542899776175, 0.04277542899776175, 0.12255203842837788,\n",
       "                    0.14013287401574803, 0.14013287401574803, 0.2116177540625758,\n",
       "                    0.2116177540625758, 0.2116177540625758, 0.2116177540625758,\n",
       "                    0.2116177540625758, 0.2116177540625758, 0.2116177540625758,\n",
       "                    0.2116177540625758, 0.2116177540625758, 0.2116177540625758,\n",
       "                    0.2116177540625758, 0.2116177540625758, 0.2116177540625758,\n",
       "                    0.2116177540625758, 0.2116177540625758, 0.2116177540625758,\n",
       "                    0.2116177540625758, 0.2116177540625758, 0.2116177540625758,\n",
       "                    0.2116177540625758, 0.2116177540625758, 0.2116177540625758,\n",
       "                    0.2116177540625758, 0.2116177540625758, 0.2116177540625758,\n",
       "                    0.2116177540625758, 0.2116177540625758, 0.2116177540625758,\n",
       "                    0.2116177540625758, 0.2116177540625758, 0.2116177540625758,\n",
       "                    0.2116177540625758, 0.2116177540625758, 0.2116177540625758,\n",
       "                    0.22854387656702024, 0.22854387656702024, 0.22854387656702024,\n",
       "                    0.22854387656702024, 0.22854387656702024, 0.22854387656702024,\n",
       "                    0.22854387656702024, 0.22854387656702024, 0.22854387656702024,\n",
       "                    0.22854387656702024, 0.22854387656702024, 0.22854387656702024,\n",
       "                    0.22854387656702024, 0.22854387656702024, 0.22854387656702024,\n",
       "                    0.22854387656702024, 0.22854387656702024, 0.22854387656702024,\n",
       "                    0.22854387656702024, 0.22854387656702024, 0.22854387656702024,\n",
       "                    0.22854387656702024, 0.2587320574162679, 0.2587320574162679,\n",
       "                    0.2587320574162679, 0.2587320574162679, 0.2587320574162679,\n",
       "                    0.2587320574162679, 0.2587320574162679, 0.2587320574162679,\n",
       "                    0.2587320574162679, 0.2587320574162679, 0.2587320574162679,\n",
       "                    0.2587320574162679, 0.2587320574162679, 0.2587320574162679,\n",
       "                    0.2587320574162679, 0.2587320574162679, 0.2587320574162679,\n",
       "                    0.2587320574162679, 0.2587320574162679, 0.2587320574162679,\n",
       "                    0.2587320574162679, 0.2587320574162679, 0.2587320574162679,\n",
       "                    0.2587320574162679, 0.2587320574162679, 0.2587320574162679,\n",
       "                    0.2587320574162679]},\n",
       "             {'marker': {'color': '#cccccc'},\n",
       "              'mode': 'markers',\n",
       "              'name': 'Infeasible Trial',\n",
       "              'showlegend': False,\n",
       "              'type': 'scatter',\n",
       "              'x': [],\n",
       "              'y': []}],\n",
       "    'layout': {'template': '...',\n",
       "               'title': {'text': 'Optimization History Plot'},\n",
       "               'xaxis': {'title': {'text': 'Trial'}},\n",
       "               'yaxis': {'title': {'text': 'Objective Value'}}}\n",
       "})"
      ]
     },
     "execution_count": 179,
     "metadata": {},
     "output_type": "execute_result"
    }
   ],
   "source": [
    "# 하이퍼파라미터 최적화 과정을 확인\n",
    "optuna.visualization.plot_optimization_history(study_cat_no_enc)"
   ]
  },
  {
   "cell_type": "code",
   "execution_count": 181,
   "metadata": {},
   "outputs": [],
   "source": [
    "# 하이퍼파라미터 튜닝을 통해 나온 최적의 하이퍼 파라미터 best_params에 선언\n",
    "best_params_no_enc = study_cat_no_enc.best_params"
   ]
  },
  {
   "cell_type": "code",
   "execution_count": 182,
   "metadata": {},
   "outputs": [
    {
     "data": {
      "text/plain": [
       "{'iterations': 927,\n",
       " 'learning_rate': 0.09884918112580136,\n",
       " 'depth': 10,\n",
       " 'l2_leaf_reg': 0.006029773218917519,\n",
       " 'bootstrap_type': 'Bayesian',\n",
       " 'random_strength': 0.00044516435580350196,\n",
       " 'bagging_temperature': 0.06321863987627019,\n",
       " 'od_type': 'Iter',\n",
       " 'od_wait': 18,\n",
       " 'min_data_in_leaf': 86}"
      ]
     },
     "execution_count": 182,
     "metadata": {},
     "output_type": "execute_result"
    }
   ],
   "source": [
    "best_params_no_enc"
   ]
  },
  {
   "cell_type": "code",
   "execution_count": 184,
   "metadata": {},
   "outputs": [],
   "source": [
    "# CatBoost 모델을 돌릴 때 추가로 설정해주는 하이퍼파라미터\n",
    "params_dict = {\"loss_function\" : \"MultiClass\",\n",
    "               \"verbose\" : 0,\n",
    "               \"task_type\" : \"GPU\",\n",
    "               \"devices\" : \"0\",\n",
    "               \"random_state\" : 42}"
   ]
  },
  {
   "cell_type": "code",
   "execution_count": 185,
   "metadata": {},
   "outputs": [
    {
     "data": {
      "text/plain": [
       "{'iterations': 927,\n",
       " 'learning_rate': 0.09884918112580136,\n",
       " 'depth': 10,\n",
       " 'l2_leaf_reg': 0.006029773218917519,\n",
       " 'bootstrap_type': 'Bayesian',\n",
       " 'random_strength': 0.00044516435580350196,\n",
       " 'bagging_temperature': 0.06321863987627019,\n",
       " 'od_type': 'Iter',\n",
       " 'od_wait': 18,\n",
       " 'min_data_in_leaf': 86,\n",
       " 'loss_function': 'MultiClass',\n",
       " 'verbose': 0,\n",
       " 'task_type': 'GPU',\n",
       " 'devices': '0',\n",
       " 'random_state': 42}"
      ]
     },
     "execution_count": 185,
     "metadata": {},
     "output_type": "execute_result"
    }
   ],
   "source": [
    "params(best_params_no_enc)"
   ]
  },
  {
   "cell_type": "code",
   "execution_count": 106,
   "metadata": {},
   "outputs": [],
   "source": [
    "# 튜닝한 하이퍼 파라미터를 바탕으로, CatBoostClassifier 선언\n",
    "# cat_optuna_no_enc = CatBoostClassifier(**params(best_params_no_enc))\n",
    "best_params_no_enc = {'iterations': 930, \n",
    "                      'learning_rate': 0.09983669530310456, \n",
    "                      'depth': 12, \n",
    "                      'l2_leaf_reg': 0.1147068286463238, \n",
    "                      'bootstrap_type': 'Bayesian', \n",
    "                      'random_strength': 0.9568085992921923, \n",
    "                      'bagging_temperature': 0.9638236103673785, \n",
    "                      'od_type': 'IncToDec', \n",
    "                      'od_wait': 22, \n",
    "                      'min_data_in_leaf': 6, \n",
    "                      'loss_function': 'MultiClass', \n",
    "                      'task_type': 'GPU', \n",
    "                      'random_state': 42}\n",
    "\n",
    "cat_optuna_no_enc = CatBoostClassifier(**best_params_no_enc)"
   ]
  },
  {
   "cell_type": "code",
   "execution_count": 107,
   "metadata": {},
   "outputs": [
    {
     "data": {
      "text/plain": [
       "{'iterations': 930,\n",
       " 'learning_rate': 0.09983669530310456,\n",
       " 'depth': 12,\n",
       " 'l2_leaf_reg': 0.1147068286463238,\n",
       " 'loss_function': 'MultiClass',\n",
       " 'od_wait': 22,\n",
       " 'od_type': 'IncToDec',\n",
       " 'random_strength': 0.9568085992921923,\n",
       " 'bagging_temperature': 0.9638236103673785,\n",
       " 'task_type': 'GPU',\n",
       " 'bootstrap_type': 'Bayesian',\n",
       " 'random_state': 42,\n",
       " 'min_data_in_leaf': 6}"
      ]
     },
     "execution_count": 107,
     "metadata": {},
     "output_type": "execute_result"
    }
   ],
   "source": [
    "cat_optuna_no_enc.get_params()"
   ]
  },
  {
   "cell_type": "markdown",
   "metadata": {},
   "source": [
    "#### 3-4-2. 모델 비교"
   ]
  },
  {
   "cell_type": "code",
   "execution_count": 188,
   "metadata": {},
   "outputs": [],
   "source": [
    "\n",
    "models_tuned = [\n",
    "    (\"Decision Tree\", DecisionTreeClassifier(random_state=42)),\n",
    "    (\"CatBoost\", CatBoostClassifier(**params_dict)),\n",
    "    (\"CatBoost_tuned\", cat_optuna),\n",
    "    (\"CatBoost_tuned_no_enc\", cat_optuna_no_enc),\n",
    "]"
   ]
  },
  {
   "cell_type": "code",
   "execution_count": 189,
   "metadata": {},
   "outputs": [
    {
     "name": "stdout",
     "output_type": "stream",
     "text": [
      "\n",
      "======== Models After Hyper Parameter Tuning ========\n",
      "\n"
     ]
    },
    {
     "data": {
      "text/html": [
       "<div>\n",
       "<style scoped>\n",
       "    .dataframe tbody tr th:only-of-type {\n",
       "        vertical-align: middle;\n",
       "    }\n",
       "\n",
       "    .dataframe tbody tr th {\n",
       "        vertical-align: top;\n",
       "    }\n",
       "\n",
       "    .dataframe thead th {\n",
       "        text-align: right;\n",
       "    }\n",
       "</style>\n",
       "<table border=\"1\" class=\"dataframe\">\n",
       "  <thead>\n",
       "    <tr style=\"text-align: right;\">\n",
       "      <th></th>\n",
       "      <th>Model</th>\n",
       "      <th>Accuracy</th>\n",
       "      <th>Precision</th>\n",
       "      <th>Recall</th>\n",
       "      <th>F1 Score</th>\n",
       "      <th>CSI Index</th>\n",
       "    </tr>\n",
       "  </thead>\n",
       "  <tbody>\n",
       "    <tr>\n",
       "      <th>0</th>\n",
       "      <td>CatBoost_tuned_no_enc</td>\n",
       "      <td>0.9917</td>\n",
       "      <td>0.9893</td>\n",
       "      <td>0.9917</td>\n",
       "      <td>0.9897</td>\n",
       "      <td>0.2585</td>\n",
       "    </tr>\n",
       "    <tr>\n",
       "      <th>1</th>\n",
       "      <td>CatBoost_tuned</td>\n",
       "      <td>0.9917</td>\n",
       "      <td>0.9892</td>\n",
       "      <td>0.9917</td>\n",
       "      <td>0.9896</td>\n",
       "      <td>0.2516</td>\n",
       "    </tr>\n",
       "    <tr>\n",
       "      <th>2</th>\n",
       "      <td>Decision Tree</td>\n",
       "      <td>0.9875</td>\n",
       "      <td>0.9884</td>\n",
       "      <td>0.9875</td>\n",
       "      <td>0.9879</td>\n",
       "      <td>0.2378</td>\n",
       "    </tr>\n",
       "    <tr>\n",
       "      <th>3</th>\n",
       "      <td>CatBoost</td>\n",
       "      <td>0.9911</td>\n",
       "      <td>0.9881</td>\n",
       "      <td>0.9911</td>\n",
       "      <td>0.9885</td>\n",
       "      <td>0.1947</td>\n",
       "    </tr>\n",
       "  </tbody>\n",
       "</table>\n",
       "</div>"
      ],
      "text/plain": [
       "                   Model  Accuracy  Precision  Recall  F1 Score  CSI Index\n",
       "0  CatBoost_tuned_no_enc    0.9917     0.9893  0.9917    0.9897     0.2585\n",
       "1         CatBoost_tuned    0.9917     0.9892  0.9917    0.9896     0.2516\n",
       "2          Decision Tree    0.9875     0.9884  0.9875    0.9879     0.2378\n",
       "3               CatBoost    0.9911     0.9881  0.9911    0.9885     0.1947"
      ]
     },
     "execution_count": 189,
     "metadata": {},
     "output_type": "execute_result"
    }
   ],
   "source": [
    "model_comparison(models_tuned, X_train_labeled, y_train, X_val_labeled, y_val, when=\"After\")"
   ]
  },
  {
   "cell_type": "markdown",
   "metadata": {},
   "source": [
    "#### 3-4-3. 모델 학습 (튜닝한 CatBoost)"
   ]
  },
  {
   "cell_type": "code",
   "execution_count": 90,
   "metadata": {},
   "outputs": [
    {
     "data": {
      "text/plain": [
       "<catboost.core.CatBoostClassifier at 0x1fff01a76b0>"
      ]
     },
     "execution_count": 90,
     "metadata": {},
     "output_type": "execute_result"
    }
   ],
   "source": [
    "cat_optuna.fit(X_train_labeled, y_train)"
   ]
  },
  {
   "cell_type": "code",
   "execution_count": 91,
   "metadata": {},
   "outputs": [],
   "source": [
    "y_val_pred = cat_optuna.predict(X_val_labeled)"
   ]
  },
  {
   "cell_type": "code",
   "execution_count": 98,
   "metadata": {},
   "outputs": [
    {
     "name": "stdout",
     "output_type": "stream",
     "text": [
      "[[   809    229      8    905]\n",
      " [   191    929    119   1755]\n",
      " [    21    208    367   2389]\n",
      " [    55    166    167 740395]]\n"
     ]
    },
    {
     "data": {
      "text/plain": [
       "0.25306564077903343"
      ]
     },
     "execution_count": 98,
     "metadata": {},
     "output_type": "execute_result"
    }
   ],
   "source": [
    "cat_cm = confusion_matrix(y_val, y_val_pred)\n",
    "print(cat_cm)\n",
    "\n",
    "csi_cat = csi_index(y_val, y_val_pred)\n",
    "csi_cat"
   ]
  },
  {
   "cell_type": "code",
   "execution_count": 100,
   "metadata": {},
   "outputs": [
    {
     "data": {
      "image/png": "[encoded data removed]",
      "text/plain": [
       "<Figure size 1000x500 with 2 Axes>"
      ]
     },
     "metadata": {
      "image/png": {
       "height": 469,
       "width": 803
      }
     },
     "output_type": "display_data"
    }
   ],
   "source": [
    "# Confusion Matrix 시각화\n",
    "\n",
    "plt.figure(figsize=(10,5))\n",
    "\n",
    "# target 컬럼 값들 unique_value에 선언\n",
    "unique_value = np.unique(y_val_pred, return_counts = False)\n",
    "\n",
    "# Confusion Matrix에 label 표시하기 위해 \"class\" + value 합쳐준다\n",
    "unique_value_list = []\n",
    "for i, value in enumerate(unique_value):\n",
    "    unique_value_list.append(\"class \" + str(int(value)))\n",
    "\n",
    "\n",
    "pred_labels = unique_value_list\n",
    "sns.heatmap(cat_cm, \n",
    "            annot=True, \n",
    "            fmt=\"d\", \n",
    "            cmap=\"Blues\", \n",
    "            xticklabels = pred_labels, \n",
    "            yticklabels = pred_labels)\n",
    "\n",
    "plt.title(f'Confusion Matrix with CatBoost (CSI Index : {np.round(csi_cat, 4)})')\n",
    "plt.xlabel('Predicted Label')\n",
    "plt.ylabel('True Label')\n",
    "plt.show()"
   ]
  },
  {
   "cell_type": "markdown",
   "metadata": {},
   "source": [
    "#### 인코딩 안함"
   ]
  },
  {
   "cell_type": "code",
   "execution_count": 111,
   "metadata": {},
   "outputs": [
    {
     "name": "stdout",
     "output_type": "stream",
     "text": [
      "0:\tlearn: 1.1100039\ttotal: 250ms\tremaining: 3m 52s\n",
      "1:\tlearn: 0.9239873\ttotal: 394ms\tremaining: 3m 2s\n",
      "2:\tlearn: 0.7861073\ttotal: 536ms\tremaining: 2m 45s\n",
      "3:\tlearn: 0.6785817\ttotal: 677ms\tremaining: 2m 36s\n",
      "4:\tlearn: 0.5919626\ttotal: 815ms\tremaining: 2m 30s\n",
      "5:\tlearn: 0.5206203\ttotal: 947ms\tremaining: 2m 25s\n",
      "6:\tlearn: 0.4609207\ttotal: 1.08s\tremaining: 2m 23s\n",
      "7:\tlearn: 0.4103362\ttotal: 1.21s\tremaining: 2m 19s\n",
      "8:\tlearn: 0.3670544\ttotal: 1.35s\tremaining: 2m 17s\n",
      "9:\tlearn: 0.3297740\ttotal: 1.49s\tremaining: 2m 16s\n",
      "10:\tlearn: 0.2974231\ttotal: 1.62s\tremaining: 2m 15s\n",
      "11:\tlearn: 0.2691783\ttotal: 1.76s\tremaining: 2m 14s\n",
      "12:\tlearn: 0.2444662\ttotal: 1.9s\tremaining: 2m 13s\n",
      "13:\tlearn: 0.2227580\ttotal: 2.04s\tremaining: 2m 13s\n",
      "14:\tlearn: 0.2036082\ttotal: 2.18s\tremaining: 2m 13s\n",
      "15:\tlearn: 0.1866948\ttotal: 2.32s\tremaining: 2m 12s\n",
      "16:\tlearn: 0.1716895\ttotal: 2.46s\tremaining: 2m 12s\n",
      "17:\tlearn: 0.1583690\ttotal: 2.61s\tremaining: 2m 12s\n",
      "18:\tlearn: 0.1465562\ttotal: 2.75s\tremaining: 2m 11s\n",
      "19:\tlearn: 0.1359761\ttotal: 2.89s\tremaining: 2m 11s\n",
      "20:\tlearn: 0.1265825\ttotal: 3.03s\tremaining: 2m 11s\n",
      "21:\tlearn: 0.1181428\ttotal: 3.18s\tremaining: 2m 11s\n",
      "22:\tlearn: 0.1106388\ttotal: 3.32s\tremaining: 2m 11s\n",
      "23:\tlearn: 0.1039131\ttotal: 3.47s\tremaining: 2m 10s\n",
      "24:\tlearn: 0.0979952\ttotal: 3.62s\tremaining: 2m 10s\n",
      "25:\tlearn: 0.0926100\ttotal: 3.76s\tremaining: 2m 10s\n",
      "26:\tlearn: 0.0877765\ttotal: 3.91s\tremaining: 2m 10s\n",
      "27:\tlearn: 0.0834081\ttotal: 4.06s\tremaining: 2m 10s\n",
      "28:\tlearn: 0.0795933\ttotal: 4.2s\tremaining: 2m 10s\n",
      "29:\tlearn: 0.0760735\ttotal: 4.33s\tremaining: 2m 10s\n",
      "30:\tlearn: 0.0728542\ttotal: 4.49s\tremaining: 2m 10s\n",
      "31:\tlearn: 0.0699718\ttotal: 4.63s\tremaining: 2m 10s\n",
      "32:\tlearn: 0.0673769\ttotal: 4.77s\tremaining: 2m 9s\n",
      "33:\tlearn: 0.0650798\ttotal: 4.92s\tremaining: 2m 9s\n",
      "34:\tlearn: 0.0630439\ttotal: 5.05s\tremaining: 2m 9s\n",
      "35:\tlearn: 0.0611468\ttotal: 5.19s\tremaining: 2m 8s\n",
      "36:\tlearn: 0.0595070\ttotal: 5.32s\tremaining: 2m 8s\n",
      "37:\tlearn: 0.0579819\ttotal: 5.46s\tremaining: 2m 8s\n",
      "38:\tlearn: 0.0565898\ttotal: 5.6s\tremaining: 2m 8s\n",
      "39:\tlearn: 0.0553172\ttotal: 5.74s\tremaining: 2m 7s\n",
      "40:\tlearn: 0.0541477\ttotal: 5.88s\tremaining: 2m 7s\n",
      "41:\tlearn: 0.0531324\ttotal: 6.03s\tremaining: 2m 7s\n",
      "42:\tlearn: 0.0522865\ttotal: 6.16s\tremaining: 2m 7s\n",
      "43:\tlearn: 0.0509878\ttotal: 6.32s\tremaining: 2m 7s\n",
      "44:\tlearn: 0.0498993\ttotal: 6.46s\tremaining: 2m 7s\n",
      "45:\tlearn: 0.0489788\ttotal: 6.61s\tremaining: 2m 6s\n",
      "46:\tlearn: 0.0481333\ttotal: 6.75s\tremaining: 2m 6s\n",
      "47:\tlearn: 0.0473735\ttotal: 6.9s\tremaining: 2m 6s\n",
      "48:\tlearn: 0.0467046\ttotal: 7.05s\tremaining: 2m 6s\n",
      "49:\tlearn: 0.0460258\ttotal: 7.2s\tremaining: 2m 6s\n",
      "50:\tlearn: 0.0454502\ttotal: 7.34s\tremaining: 2m 6s\n",
      "51:\tlearn: 0.0449581\ttotal: 7.49s\tremaining: 2m 6s\n",
      "52:\tlearn: 0.0444936\ttotal: 7.64s\tremaining: 2m 6s\n",
      "53:\tlearn: 0.0441175\ttotal: 7.78s\tremaining: 2m 6s\n",
      "54:\tlearn: 0.0436945\ttotal: 7.92s\tremaining: 2m 6s\n",
      "55:\tlearn: 0.0433130\ttotal: 8.07s\tremaining: 2m 5s\n",
      "56:\tlearn: 0.0427893\ttotal: 8.22s\tremaining: 2m 5s\n",
      "57:\tlearn: 0.0423292\ttotal: 8.37s\tremaining: 2m 5s\n",
      "58:\tlearn: 0.0418766\ttotal: 8.52s\tremaining: 2m 5s\n",
      "59:\tlearn: 0.0414773\ttotal: 8.68s\tremaining: 2m 5s\n",
      "60:\tlearn: 0.0410605\ttotal: 8.89s\tremaining: 2m 6s\n",
      "61:\tlearn: 0.0407824\ttotal: 9.03s\tremaining: 2m 6s\n",
      "62:\tlearn: 0.0404941\ttotal: 9.18s\tremaining: 2m 6s\n",
      "63:\tlearn: 0.0402105\ttotal: 9.32s\tremaining: 2m 6s\n",
      "64:\tlearn: 0.0399543\ttotal: 9.46s\tremaining: 2m 5s\n",
      "65:\tlearn: 0.0397229\ttotal: 9.6s\tremaining: 2m 5s\n",
      "66:\tlearn: 0.0393548\ttotal: 9.77s\tremaining: 2m 5s\n",
      "67:\tlearn: 0.0390503\ttotal: 9.92s\tremaining: 2m 5s\n",
      "68:\tlearn: 0.0387257\ttotal: 10.1s\tremaining: 2m 5s\n",
      "69:\tlearn: 0.0384089\ttotal: 10.2s\tremaining: 2m 5s\n",
      "70:\tlearn: 0.0381882\ttotal: 10.3s\tremaining: 2m 5s\n",
      "71:\tlearn: 0.0379043\ttotal: 10.5s\tremaining: 2m 4s\n",
      "72:\tlearn: 0.0377353\ttotal: 10.6s\tremaining: 2m 4s\n",
      "73:\tlearn: 0.0374878\ttotal: 10.8s\tremaining: 2m 4s\n",
      "74:\tlearn: 0.0371767\ttotal: 10.9s\tremaining: 2m 4s\n",
      "75:\tlearn: 0.0369891\ttotal: 11.1s\tremaining: 2m 4s\n",
      "76:\tlearn: 0.0368391\ttotal: 11.2s\tremaining: 2m 4s\n",
      "77:\tlearn: 0.0366963\ttotal: 11.4s\tremaining: 2m 4s\n",
      "78:\tlearn: 0.0365278\ttotal: 11.5s\tremaining: 2m 4s\n",
      "79:\tlearn: 0.0363743\ttotal: 11.7s\tremaining: 2m 3s\n",
      "80:\tlearn: 0.0362206\ttotal: 11.8s\tremaining: 2m 3s\n",
      "81:\tlearn: 0.0360413\ttotal: 11.9s\tremaining: 2m 3s\n",
      "82:\tlearn: 0.0358643\ttotal: 12.1s\tremaining: 2m 3s\n",
      "83:\tlearn: 0.0356713\ttotal: 12.2s\tremaining: 2m 3s\n",
      "84:\tlearn: 0.0355293\ttotal: 12.4s\tremaining: 2m 3s\n",
      "85:\tlearn: 0.0353284\ttotal: 12.6s\tremaining: 2m 3s\n",
      "86:\tlearn: 0.0352019\ttotal: 12.7s\tremaining: 2m 3s\n",
      "87:\tlearn: 0.0350056\ttotal: 12.9s\tremaining: 2m 3s\n",
      "88:\tlearn: 0.0348973\ttotal: 13s\tremaining: 2m 3s\n",
      "89:\tlearn: 0.0347293\ttotal: 13.2s\tremaining: 2m 2s\n",
      "90:\tlearn: 0.0346192\ttotal: 13.3s\tremaining: 2m 2s\n",
      "91:\tlearn: 0.0344805\ttotal: 13.5s\tremaining: 2m 2s\n",
      "92:\tlearn: 0.0343221\ttotal: 13.6s\tremaining: 2m 2s\n",
      "93:\tlearn: 0.0342310\ttotal: 13.8s\tremaining: 2m 2s\n",
      "94:\tlearn: 0.0340687\ttotal: 13.9s\tremaining: 2m 2s\n",
      "95:\tlearn: 0.0339840\ttotal: 14s\tremaining: 2m 1s\n",
      "96:\tlearn: 0.0339050\ttotal: 14.2s\tremaining: 2m 1s\n",
      "97:\tlearn: 0.0338066\ttotal: 14.3s\tremaining: 2m 1s\n",
      "98:\tlearn: 0.0336752\ttotal: 14.5s\tremaining: 2m 1s\n",
      "99:\tlearn: 0.0335365\ttotal: 14.7s\tremaining: 2m 2s\n",
      "100:\tlearn: 0.0334215\ttotal: 14.8s\tremaining: 2m 1s\n",
      "101:\tlearn: 0.0332812\ttotal: 15s\tremaining: 2m 1s\n",
      "102:\tlearn: 0.0331641\ttotal: 15.2s\tremaining: 2m 1s\n",
      "103:\tlearn: 0.0330822\ttotal: 15.3s\tremaining: 2m 1s\n",
      "104:\tlearn: 0.0330251\ttotal: 15.4s\tremaining: 2m 1s\n",
      "105:\tlearn: 0.0328748\ttotal: 15.6s\tremaining: 2m 1s\n",
      "106:\tlearn: 0.0327961\ttotal: 15.7s\tremaining: 2m\n",
      "107:\tlearn: 0.0326477\ttotal: 15.9s\tremaining: 2m\n",
      "108:\tlearn: 0.0325316\ttotal: 16s\tremaining: 2m\n",
      "109:\tlearn: 0.0324193\ttotal: 16.2s\tremaining: 2m\n",
      "110:\tlearn: 0.0323044\ttotal: 16.3s\tremaining: 2m\n",
      "111:\tlearn: 0.0321821\ttotal: 16.4s\tremaining: 2m\n",
      "112:\tlearn: 0.0320966\ttotal: 16.6s\tremaining: 1m 59s\n",
      "113:\tlearn: 0.0319875\ttotal: 16.7s\tremaining: 1m 59s\n",
      "114:\tlearn: 0.0318601\ttotal: 16.9s\tremaining: 1m 59s\n",
      "115:\tlearn: 0.0317563\ttotal: 17s\tremaining: 1m 59s\n",
      "116:\tlearn: 0.0316576\ttotal: 17.2s\tremaining: 1m 59s\n",
      "117:\tlearn: 0.0315075\ttotal: 17.3s\tremaining: 1m 59s\n",
      "118:\tlearn: 0.0313811\ttotal: 17.5s\tremaining: 1m 59s\n",
      "119:\tlearn: 0.0312998\ttotal: 17.6s\tremaining: 1m 59s\n",
      "120:\tlearn: 0.0311306\ttotal: 17.8s\tremaining: 1m 58s\n",
      "121:\tlearn: 0.0310542\ttotal: 17.9s\tremaining: 1m 58s\n",
      "122:\tlearn: 0.0309784\ttotal: 18.1s\tremaining: 1m 58s\n",
      "123:\tlearn: 0.0309149\ttotal: 18.2s\tremaining: 1m 58s\n",
      "124:\tlearn: 0.0308175\ttotal: 18.4s\tremaining: 1m 58s\n",
      "125:\tlearn: 0.0307088\ttotal: 18.5s\tremaining: 1m 58s\n",
      "126:\tlearn: 0.0307088\ttotal: 18.6s\tremaining: 1m 57s\n",
      "127:\tlearn: 0.0306199\ttotal: 18.7s\tremaining: 1m 57s\n",
      "128:\tlearn: 0.0305155\ttotal: 18.9s\tremaining: 1m 57s\n",
      "129:\tlearn: 0.0304525\ttotal: 19s\tremaining: 1m 56s\n",
      "130:\tlearn: 0.0303335\ttotal: 19.2s\tremaining: 1m 56s\n",
      "131:\tlearn: 0.0302732\ttotal: 19.3s\tremaining: 1m 56s\n",
      "132:\tlearn: 0.0302019\ttotal: 19.4s\tremaining: 1m 56s\n",
      "133:\tlearn: 0.0301154\ttotal: 19.6s\tremaining: 1m 56s\n",
      "134:\tlearn: 0.0300195\ttotal: 19.7s\tremaining: 1m 56s\n",
      "135:\tlearn: 0.0299547\ttotal: 19.9s\tremaining: 1m 56s\n",
      "136:\tlearn: 0.0298873\ttotal: 20s\tremaining: 1m 55s\n",
      "137:\tlearn: 0.0297933\ttotal: 20.2s\tremaining: 1m 55s\n",
      "138:\tlearn: 0.0296858\ttotal: 20.3s\tremaining: 1m 55s\n",
      "139:\tlearn: 0.0296272\ttotal: 20.5s\tremaining: 1m 55s\n",
      "140:\tlearn: 0.0296271\ttotal: 20.5s\tremaining: 1m 54s\n",
      "141:\tlearn: 0.0295396\ttotal: 20.6s\tremaining: 1m 54s\n",
      "142:\tlearn: 0.0294608\ttotal: 20.8s\tremaining: 1m 54s\n",
      "143:\tlearn: 0.0293911\ttotal: 20.9s\tremaining: 1m 54s\n",
      "144:\tlearn: 0.0293152\ttotal: 21.1s\tremaining: 1m 53s\n",
      "145:\tlearn: 0.0292005\ttotal: 21.2s\tremaining: 1m 54s\n",
      "146:\tlearn: 0.0291591\ttotal: 21.4s\tremaining: 1m 53s\n",
      "147:\tlearn: 0.0290819\ttotal: 21.5s\tremaining: 1m 53s\n",
      "148:\tlearn: 0.0290399\ttotal: 21.7s\tremaining: 1m 53s\n",
      "149:\tlearn: 0.0289638\ttotal: 21.8s\tremaining: 1m 53s\n",
      "150:\tlearn: 0.0288985\ttotal: 22s\tremaining: 1m 53s\n",
      "151:\tlearn: 0.0288350\ttotal: 22.1s\tremaining: 1m 53s\n",
      "152:\tlearn: 0.0287801\ttotal: 22.3s\tremaining: 1m 53s\n",
      "153:\tlearn: 0.0286983\ttotal: 22.4s\tremaining: 1m 52s\n",
      "154:\tlearn: 0.0286497\ttotal: 22.5s\tremaining: 1m 52s\n",
      "155:\tlearn: 0.0285630\ttotal: 22.7s\tremaining: 1m 52s\n",
      "156:\tlearn: 0.0285076\ttotal: 22.8s\tremaining: 1m 52s\n",
      "157:\tlearn: 0.0284107\ttotal: 23s\tremaining: 1m 52s\n",
      "158:\tlearn: 0.0282660\ttotal: 23.2s\tremaining: 1m 52s\n",
      "159:\tlearn: 0.0282143\ttotal: 23.3s\tremaining: 1m 52s\n",
      "160:\tlearn: 0.0281006\ttotal: 23.5s\tremaining: 1m 52s\n",
      "161:\tlearn: 0.0280462\ttotal: 23.6s\tremaining: 1m 51s\n",
      "162:\tlearn: 0.0279949\ttotal: 23.7s\tremaining: 1m 51s\n",
      "163:\tlearn: 0.0279184\ttotal: 23.9s\tremaining: 1m 51s\n",
      "164:\tlearn: 0.0278615\ttotal: 24s\tremaining: 1m 51s\n",
      "165:\tlearn: 0.0277982\ttotal: 24.2s\tremaining: 1m 51s\n",
      "166:\tlearn: 0.0277138\ttotal: 24.3s\tremaining: 1m 51s\n",
      "167:\tlearn: 0.0276252\ttotal: 24.5s\tremaining: 1m 51s\n",
      "168:\tlearn: 0.0275554\ttotal: 24.6s\tremaining: 1m 50s\n",
      "169:\tlearn: 0.0275068\ttotal: 24.8s\tremaining: 1m 50s\n",
      "170:\tlearn: 0.0274410\ttotal: 24.9s\tremaining: 1m 50s\n",
      "171:\tlearn: 0.0273930\ttotal: 25.1s\tremaining: 1m 50s\n",
      "172:\tlearn: 0.0273523\ttotal: 25.2s\tremaining: 1m 50s\n",
      "173:\tlearn: 0.0273075\ttotal: 25.3s\tremaining: 1m 50s\n",
      "174:\tlearn: 0.0272069\ttotal: 25.5s\tremaining: 1m 49s\n",
      "175:\tlearn: 0.0271446\ttotal: 25.6s\tremaining: 1m 49s\n",
      "176:\tlearn: 0.0270750\ttotal: 25.8s\tremaining: 1m 49s\n",
      "177:\tlearn: 0.0269844\ttotal: 25.9s\tremaining: 1m 49s\n",
      "178:\tlearn: 0.0269246\ttotal: 26.1s\tremaining: 1m 49s\n",
      "179:\tlearn: 0.0268527\ttotal: 26.2s\tremaining: 1m 49s\n",
      "180:\tlearn: 0.0267561\ttotal: 26.4s\tremaining: 1m 49s\n",
      "181:\tlearn: 0.0266939\ttotal: 26.5s\tremaining: 1m 48s\n",
      "182:\tlearn: 0.0266459\ttotal: 26.6s\tremaining: 1m 48s\n",
      "183:\tlearn: 0.0265911\ttotal: 26.8s\tremaining: 1m 48s\n",
      "184:\tlearn: 0.0265238\ttotal: 26.9s\tremaining: 1m 48s\n",
      "185:\tlearn: 0.0264903\ttotal: 27.1s\tremaining: 1m 48s\n",
      "186:\tlearn: 0.0263864\ttotal: 27.2s\tremaining: 1m 48s\n",
      "187:\tlearn: 0.0263270\ttotal: 27.4s\tremaining: 1m 48s\n",
      "188:\tlearn: 0.0262581\ttotal: 27.6s\tremaining: 1m 48s\n",
      "189:\tlearn: 0.0261241\ttotal: 27.7s\tremaining: 1m 48s\n",
      "190:\tlearn: 0.0260508\ttotal: 27.9s\tremaining: 1m 47s\n",
      "191:\tlearn: 0.0260079\ttotal: 28s\tremaining: 1m 47s\n",
      "192:\tlearn: 0.0259081\ttotal: 28.2s\tremaining: 1m 47s\n",
      "193:\tlearn: 0.0258503\ttotal: 28.3s\tremaining: 1m 47s\n",
      "194:\tlearn: 0.0257804\ttotal: 28.5s\tremaining: 1m 47s\n",
      "195:\tlearn: 0.0257069\ttotal: 28.6s\tremaining: 1m 47s\n",
      "196:\tlearn: 0.0256139\ttotal: 28.8s\tremaining: 1m 47s\n",
      "197:\tlearn: 0.0255421\ttotal: 28.9s\tremaining: 1m 46s\n",
      "198:\tlearn: 0.0254713\ttotal: 29.1s\tremaining: 1m 46s\n",
      "199:\tlearn: 0.0254100\ttotal: 29.2s\tremaining: 1m 46s\n",
      "200:\tlearn: 0.0253009\ttotal: 29.4s\tremaining: 1m 46s\n",
      "201:\tlearn: 0.0252270\ttotal: 29.5s\tremaining: 1m 46s\n",
      "202:\tlearn: 0.0250410\ttotal: 29.7s\tremaining: 1m 46s\n",
      "203:\tlearn: 0.0249958\ttotal: 29.9s\tremaining: 1m 46s\n",
      "204:\tlearn: 0.0249309\ttotal: 30s\tremaining: 1m 46s\n",
      "205:\tlearn: 0.0248452\ttotal: 30.2s\tremaining: 1m 46s\n",
      "206:\tlearn: 0.0248033\ttotal: 30.3s\tremaining: 1m 45s\n",
      "207:\tlearn: 0.0247336\ttotal: 30.5s\tremaining: 1m 45s\n",
      "208:\tlearn: 0.0247031\ttotal: 30.6s\tremaining: 1m 45s\n",
      "209:\tlearn: 0.0246187\ttotal: 30.8s\tremaining: 1m 45s\n",
      "210:\tlearn: 0.0245171\ttotal: 30.9s\tremaining: 1m 45s\n",
      "211:\tlearn: 0.0244591\ttotal: 31s\tremaining: 1m 45s\n",
      "212:\tlearn: 0.0244270\ttotal: 31.2s\tremaining: 1m 44s\n",
      "213:\tlearn: 0.0243874\ttotal: 31.3s\tremaining: 1m 44s\n",
      "214:\tlearn: 0.0243318\ttotal: 31.5s\tremaining: 1m 44s\n",
      "215:\tlearn: 0.0242589\ttotal: 31.6s\tremaining: 1m 44s\n",
      "216:\tlearn: 0.0241788\ttotal: 31.8s\tremaining: 1m 44s\n",
      "217:\tlearn: 0.0240989\ttotal: 31.9s\tremaining: 1m 44s\n",
      "218:\tlearn: 0.0240421\ttotal: 32.1s\tremaining: 1m 44s\n",
      "219:\tlearn: 0.0239912\ttotal: 32.2s\tremaining: 1m 43s\n",
      "220:\tlearn: 0.0239331\ttotal: 32.3s\tremaining: 1m 43s\n",
      "221:\tlearn: 0.0238861\ttotal: 32.5s\tremaining: 1m 43s\n",
      "222:\tlearn: 0.0238239\ttotal: 32.6s\tremaining: 1m 43s\n",
      "223:\tlearn: 0.0237958\ttotal: 32.8s\tremaining: 1m 43s\n",
      "224:\tlearn: 0.0236685\ttotal: 32.9s\tremaining: 1m 43s\n",
      "225:\tlearn: 0.0236149\ttotal: 33.1s\tremaining: 1m 43s\n",
      "226:\tlearn: 0.0235739\ttotal: 33.2s\tremaining: 1m 42s\n",
      "227:\tlearn: 0.0235322\ttotal: 33.4s\tremaining: 1m 42s\n",
      "228:\tlearn: 0.0234689\ttotal: 33.6s\tremaining: 1m 42s\n",
      "229:\tlearn: 0.0233749\ttotal: 33.7s\tremaining: 1m 42s\n",
      "230:\tlearn: 0.0232858\ttotal: 33.9s\tremaining: 1m 42s\n",
      "231:\tlearn: 0.0232399\ttotal: 34s\tremaining: 1m 42s\n",
      "232:\tlearn: 0.0232025\ttotal: 34.2s\tremaining: 1m 42s\n",
      "233:\tlearn: 0.0231733\ttotal: 34.3s\tremaining: 1m 42s\n",
      "234:\tlearn: 0.0231313\ttotal: 34.4s\tremaining: 1m 41s\n",
      "235:\tlearn: 0.0230778\ttotal: 34.6s\tremaining: 1m 41s\n",
      "236:\tlearn: 0.0230581\ttotal: 34.7s\tremaining: 1m 41s\n",
      "237:\tlearn: 0.0230086\ttotal: 34.9s\tremaining: 1m 41s\n",
      "238:\tlearn: 0.0229229\ttotal: 35s\tremaining: 1m 41s\n",
      "239:\tlearn: 0.0228940\ttotal: 35.1s\tremaining: 1m 41s\n",
      "240:\tlearn: 0.0228476\ttotal: 35.3s\tremaining: 1m 40s\n",
      "241:\tlearn: 0.0228212\ttotal: 35.4s\tremaining: 1m 40s\n",
      "242:\tlearn: 0.0227905\ttotal: 35.6s\tremaining: 1m 40s\n",
      "243:\tlearn: 0.0227652\ttotal: 35.7s\tremaining: 1m 40s\n",
      "244:\tlearn: 0.0226774\ttotal: 35.9s\tremaining: 1m 40s\n",
      "245:\tlearn: 0.0226177\ttotal: 36s\tremaining: 1m 40s\n",
      "246:\tlearn: 0.0225532\ttotal: 36.2s\tremaining: 1m 40s\n",
      "247:\tlearn: 0.0225266\ttotal: 36.3s\tremaining: 1m 39s\n",
      "248:\tlearn: 0.0224655\ttotal: 36.5s\tremaining: 1m 39s\n",
      "249:\tlearn: 0.0224324\ttotal: 36.6s\tremaining: 1m 39s\n",
      "250:\tlearn: 0.0224057\ttotal: 36.7s\tremaining: 1m 39s\n",
      "251:\tlearn: 0.0223706\ttotal: 36.9s\tremaining: 1m 39s\n",
      "252:\tlearn: 0.0222866\ttotal: 37s\tremaining: 1m 39s\n",
      "253:\tlearn: 0.0222543\ttotal: 37.1s\tremaining: 1m 38s\n",
      "254:\tlearn: 0.0222165\ttotal: 37.3s\tremaining: 1m 38s\n",
      "255:\tlearn: 0.0221691\ttotal: 37.4s\tremaining: 1m 38s\n",
      "256:\tlearn: 0.0221337\ttotal: 37.6s\tremaining: 1m 38s\n",
      "257:\tlearn: 0.0220935\ttotal: 37.7s\tremaining: 1m 38s\n",
      "258:\tlearn: 0.0220401\ttotal: 37.9s\tremaining: 1m 38s\n",
      "259:\tlearn: 0.0219919\ttotal: 38s\tremaining: 1m 38s\n",
      "260:\tlearn: 0.0219306\ttotal: 38.2s\tremaining: 1m 37s\n",
      "261:\tlearn: 0.0219042\ttotal: 38.3s\tremaining: 1m 37s\n",
      "262:\tlearn: 0.0218077\ttotal: 38.5s\tremaining: 1m 37s\n",
      "263:\tlearn: 0.0217429\ttotal: 38.6s\tremaining: 1m 37s\n",
      "264:\tlearn: 0.0217131\ttotal: 38.8s\tremaining: 1m 37s\n",
      "265:\tlearn: 0.0216825\ttotal: 38.9s\tremaining: 1m 37s\n",
      "266:\tlearn: 0.0216539\ttotal: 39.1s\tremaining: 1m 36s\n",
      "267:\tlearn: 0.0215767\ttotal: 39.2s\tremaining: 1m 36s\n",
      "268:\tlearn: 0.0215097\ttotal: 39.4s\tremaining: 1m 36s\n",
      "269:\tlearn: 0.0213954\ttotal: 39.5s\tremaining: 1m 36s\n",
      "270:\tlearn: 0.0213352\ttotal: 39.7s\tremaining: 1m 36s\n",
      "271:\tlearn: 0.0212775\ttotal: 39.8s\tremaining: 1m 36s\n",
      "272:\tlearn: 0.0212265\ttotal: 40s\tremaining: 1m 36s\n",
      "273:\tlearn: 0.0211981\ttotal: 40.1s\tremaining: 1m 36s\n",
      "274:\tlearn: 0.0211652\ttotal: 40.3s\tremaining: 1m 35s\n",
      "275:\tlearn: 0.0211059\ttotal: 40.5s\tremaining: 1m 35s\n",
      "276:\tlearn: 0.0210658\ttotal: 40.7s\tremaining: 1m 35s\n",
      "277:\tlearn: 0.0209877\ttotal: 40.8s\tremaining: 1m 35s\n",
      "278:\tlearn: 0.0209708\ttotal: 41s\tremaining: 1m 35s\n",
      "279:\tlearn: 0.0209375\ttotal: 41.1s\tremaining: 1m 35s\n",
      "280:\tlearn: 0.0209188\ttotal: 41.3s\tremaining: 1m 35s\n",
      "281:\tlearn: 0.0208642\ttotal: 41.4s\tremaining: 1m 35s\n",
      "282:\tlearn: 0.0208229\ttotal: 41.5s\tremaining: 1m 34s\n",
      "283:\tlearn: 0.0207730\ttotal: 41.7s\tremaining: 1m 34s\n",
      "284:\tlearn: 0.0207319\ttotal: 41.8s\tremaining: 1m 34s\n",
      "285:\tlearn: 0.0207072\ttotal: 42s\tremaining: 1m 34s\n",
      "286:\tlearn: 0.0206599\ttotal: 42.1s\tremaining: 1m 34s\n",
      "287:\tlearn: 0.0206112\ttotal: 42.3s\tremaining: 1m 34s\n",
      "288:\tlearn: 0.0205884\ttotal: 42.4s\tremaining: 1m 34s\n",
      "289:\tlearn: 0.0205360\ttotal: 42.6s\tremaining: 1m 33s\n",
      "290:\tlearn: 0.0204854\ttotal: 42.7s\tremaining: 1m 33s\n",
      "291:\tlearn: 0.0204518\ttotal: 42.9s\tremaining: 1m 33s\n",
      "292:\tlearn: 0.0204003\ttotal: 43s\tremaining: 1m 33s\n",
      "293:\tlearn: 0.0203272\ttotal: 43.2s\tremaining: 1m 33s\n",
      "294:\tlearn: 0.0203044\ttotal: 43.3s\tremaining: 1m 33s\n",
      "295:\tlearn: 0.0202489\ttotal: 43.4s\tremaining: 1m 33s\n",
      "296:\tlearn: 0.0202170\ttotal: 43.6s\tremaining: 1m 32s\n",
      "297:\tlearn: 0.0201772\ttotal: 43.7s\tremaining: 1m 32s\n",
      "298:\tlearn: 0.0201180\ttotal: 43.9s\tremaining: 1m 32s\n",
      "299:\tlearn: 0.0200797\ttotal: 44s\tremaining: 1m 32s\n",
      "300:\tlearn: 0.0200553\ttotal: 44.2s\tremaining: 1m 32s\n",
      "301:\tlearn: 0.0200009\ttotal: 44.3s\tremaining: 1m 32s\n",
      "302:\tlearn: 0.0199691\ttotal: 44.5s\tremaining: 1m 31s\n",
      "303:\tlearn: 0.0199271\ttotal: 44.6s\tremaining: 1m 31s\n",
      "304:\tlearn: 0.0198951\ttotal: 44.7s\tremaining: 1m 31s\n",
      "305:\tlearn: 0.0198605\ttotal: 44.9s\tremaining: 1m 31s\n",
      "306:\tlearn: 0.0197833\ttotal: 45s\tremaining: 1m 31s\n",
      "307:\tlearn: 0.0197599\ttotal: 45.2s\tremaining: 1m 31s\n",
      "308:\tlearn: 0.0197236\ttotal: 45.3s\tremaining: 1m 31s\n",
      "309:\tlearn: 0.0196580\ttotal: 45.5s\tremaining: 1m 30s\n",
      "310:\tlearn: 0.0196223\ttotal: 45.6s\tremaining: 1m 30s\n",
      "311:\tlearn: 0.0195726\ttotal: 45.7s\tremaining: 1m 30s\n",
      "312:\tlearn: 0.0195149\ttotal: 45.9s\tremaining: 1m 30s\n",
      "313:\tlearn: 0.0194835\ttotal: 46s\tremaining: 1m 30s\n",
      "314:\tlearn: 0.0194528\ttotal: 46.2s\tremaining: 1m 30s\n",
      "315:\tlearn: 0.0194334\ttotal: 46.3s\tremaining: 1m 29s\n",
      "316:\tlearn: 0.0194028\ttotal: 46.4s\tremaining: 1m 29s\n",
      "317:\tlearn: 0.0193692\ttotal: 46.6s\tremaining: 1m 29s\n",
      "318:\tlearn: 0.0193135\ttotal: 46.7s\tremaining: 1m 29s\n",
      "319:\tlearn: 0.0192800\ttotal: 46.9s\tremaining: 1m 29s\n",
      "320:\tlearn: 0.0192607\ttotal: 47s\tremaining: 1m 29s\n",
      "321:\tlearn: 0.0192195\ttotal: 47.2s\tremaining: 1m 29s\n",
      "322:\tlearn: 0.0191828\ttotal: 47.3s\tremaining: 1m 28s\n",
      "323:\tlearn: 0.0191163\ttotal: 47.5s\tremaining: 1m 28s\n",
      "324:\tlearn: 0.0190749\ttotal: 47.6s\tremaining: 1m 28s\n",
      "325:\tlearn: 0.0190267\ttotal: 47.8s\tremaining: 1m 28s\n",
      "326:\tlearn: 0.0190120\ttotal: 47.9s\tremaining: 1m 28s\n",
      "327:\tlearn: 0.0189738\ttotal: 48s\tremaining: 1m 28s\n",
      "328:\tlearn: 0.0189322\ttotal: 48.2s\tremaining: 1m 28s\n",
      "329:\tlearn: 0.0189182\ttotal: 48.3s\tremaining: 1m 27s\n",
      "330:\tlearn: 0.0188372\ttotal: 48.5s\tremaining: 1m 27s\n",
      "331:\tlearn: 0.0187954\ttotal: 48.6s\tremaining: 1m 27s\n",
      "332:\tlearn: 0.0187684\ttotal: 48.7s\tremaining: 1m 27s\n",
      "333:\tlearn: 0.0186923\ttotal: 48.9s\tremaining: 1m 27s\n",
      "334:\tlearn: 0.0186478\ttotal: 49s\tremaining: 1m 27s\n",
      "335:\tlearn: 0.0185960\ttotal: 49.2s\tremaining: 1m 26s\n",
      "336:\tlearn: 0.0185707\ttotal: 49.3s\tremaining: 1m 26s\n",
      "337:\tlearn: 0.0185246\ttotal: 49.5s\tremaining: 1m 26s\n",
      "338:\tlearn: 0.0184560\ttotal: 49.6s\tremaining: 1m 26s\n",
      "339:\tlearn: 0.0184146\ttotal: 49.8s\tremaining: 1m 26s\n",
      "340:\tlearn: 0.0183904\ttotal: 49.9s\tremaining: 1m 26s\n",
      "341:\tlearn: 0.0183703\ttotal: 50s\tremaining: 1m 26s\n",
      "342:\tlearn: 0.0183426\ttotal: 50.2s\tremaining: 1m 25s\n",
      "343:\tlearn: 0.0183030\ttotal: 50.3s\tremaining: 1m 25s\n",
      "344:\tlearn: 0.0182821\ttotal: 50.5s\tremaining: 1m 25s\n",
      "345:\tlearn: 0.0182190\ttotal: 50.6s\tremaining: 1m 25s\n",
      "346:\tlearn: 0.0181815\ttotal: 50.8s\tremaining: 1m 25s\n",
      "347:\tlearn: 0.0181455\ttotal: 50.9s\tremaining: 1m 25s\n",
      "348:\tlearn: 0.0181047\ttotal: 51s\tremaining: 1m 24s\n",
      "349:\tlearn: 0.0180724\ttotal: 51.2s\tremaining: 1m 24s\n",
      "350:\tlearn: 0.0180543\ttotal: 51.3s\tremaining: 1m 24s\n",
      "351:\tlearn: 0.0180147\ttotal: 51.5s\tremaining: 1m 24s\n",
      "352:\tlearn: 0.0179844\ttotal: 51.6s\tremaining: 1m 24s\n",
      "353:\tlearn: 0.0179654\ttotal: 51.8s\tremaining: 1m 24s\n",
      "354:\tlearn: 0.0179446\ttotal: 51.9s\tremaining: 1m 24s\n",
      "355:\tlearn: 0.0179161\ttotal: 52s\tremaining: 1m 23s\n",
      "356:\tlearn: 0.0178848\ttotal: 52.2s\tremaining: 1m 23s\n",
      "357:\tlearn: 0.0178607\ttotal: 52.3s\tremaining: 1m 23s\n",
      "358:\tlearn: 0.0178191\ttotal: 52.5s\tremaining: 1m 23s\n",
      "359:\tlearn: 0.0177917\ttotal: 52.6s\tremaining: 1m 23s\n",
      "360:\tlearn: 0.0177712\ttotal: 52.7s\tremaining: 1m 23s\n",
      "361:\tlearn: 0.0177198\ttotal: 52.9s\tremaining: 1m 22s\n",
      "362:\tlearn: 0.0176711\ttotal: 53s\tremaining: 1m 22s\n",
      "363:\tlearn: 0.0176031\ttotal: 53.2s\tremaining: 1m 22s\n",
      "364:\tlearn: 0.0175707\ttotal: 53.3s\tremaining: 1m 22s\n",
      "365:\tlearn: 0.0175327\ttotal: 53.5s\tremaining: 1m 22s\n",
      "366:\tlearn: 0.0175006\ttotal: 53.6s\tremaining: 1m 22s\n",
      "367:\tlearn: 0.0174707\ttotal: 53.8s\tremaining: 1m 22s\n",
      "368:\tlearn: 0.0174478\ttotal: 53.9s\tremaining: 1m 21s\n",
      "369:\tlearn: 0.0173796\ttotal: 54s\tremaining: 1m 21s\n",
      "370:\tlearn: 0.0173302\ttotal: 54.2s\tremaining: 1m 21s\n",
      "371:\tlearn: 0.0172997\ttotal: 54.3s\tremaining: 1m 21s\n",
      "372:\tlearn: 0.0172597\ttotal: 54.5s\tremaining: 1m 21s\n",
      "373:\tlearn: 0.0172224\ttotal: 54.6s\tremaining: 1m 21s\n",
      "374:\tlearn: 0.0171884\ttotal: 54.8s\tremaining: 1m 21s\n",
      "375:\tlearn: 0.0171498\ttotal: 54.9s\tremaining: 1m 20s\n",
      "376:\tlearn: 0.0171099\ttotal: 55.1s\tremaining: 1m 20s\n",
      "377:\tlearn: 0.0170908\ttotal: 55.2s\tremaining: 1m 20s\n",
      "378:\tlearn: 0.0170619\ttotal: 55.3s\tremaining: 1m 20s\n",
      "379:\tlearn: 0.0169982\ttotal: 55.5s\tremaining: 1m 20s\n",
      "380:\tlearn: 0.0169642\ttotal: 55.7s\tremaining: 1m 20s\n",
      "381:\tlearn: 0.0169203\ttotal: 55.8s\tremaining: 1m 20s\n",
      "382:\tlearn: 0.0168978\ttotal: 55.9s\tremaining: 1m 19s\n",
      "383:\tlearn: 0.0168701\ttotal: 56.1s\tremaining: 1m 19s\n",
      "384:\tlearn: 0.0168226\ttotal: 56.2s\tremaining: 1m 19s\n",
      "385:\tlearn: 0.0167780\ttotal: 56.4s\tremaining: 1m 19s\n",
      "386:\tlearn: 0.0167383\ttotal: 56.5s\tremaining: 1m 19s\n",
      "387:\tlearn: 0.0167115\ttotal: 56.7s\tremaining: 1m 19s\n",
      "388:\tlearn: 0.0166942\ttotal: 56.8s\tremaining: 1m 19s\n",
      "389:\tlearn: 0.0166633\ttotal: 57s\tremaining: 1m 18s\n",
      "390:\tlearn: 0.0166314\ttotal: 57.1s\tremaining: 1m 18s\n",
      "391:\tlearn: 0.0165841\ttotal: 57.3s\tremaining: 1m 18s\n",
      "392:\tlearn: 0.0165682\ttotal: 57.4s\tremaining: 1m 18s\n",
      "393:\tlearn: 0.0165328\ttotal: 57.5s\tremaining: 1m 18s\n",
      "394:\tlearn: 0.0165077\ttotal: 57.7s\tremaining: 1m 18s\n",
      "395:\tlearn: 0.0164811\ttotal: 57.8s\tremaining: 1m 17s\n",
      "396:\tlearn: 0.0164637\ttotal: 58s\tremaining: 1m 17s\n",
      "397:\tlearn: 0.0164363\ttotal: 58.1s\tremaining: 1m 17s\n",
      "398:\tlearn: 0.0164168\ttotal: 58.2s\tremaining: 1m 17s\n",
      "399:\tlearn: 0.0163737\ttotal: 58.4s\tremaining: 1m 17s\n",
      "400:\tlearn: 0.0163472\ttotal: 58.5s\tremaining: 1m 17s\n",
      "401:\tlearn: 0.0163208\ttotal: 58.7s\tremaining: 1m 17s\n",
      "402:\tlearn: 0.0163109\ttotal: 58.8s\tremaining: 1m 16s\n",
      "403:\tlearn: 0.0162898\ttotal: 58.9s\tremaining: 1m 16s\n",
      "404:\tlearn: 0.0162313\ttotal: 59.1s\tremaining: 1m 16s\n",
      "405:\tlearn: 0.0162111\ttotal: 59.2s\tremaining: 1m 16s\n",
      "406:\tlearn: 0.0161945\ttotal: 59.4s\tremaining: 1m 16s\n",
      "407:\tlearn: 0.0161700\ttotal: 59.5s\tremaining: 1m 16s\n",
      "408:\tlearn: 0.0161138\ttotal: 59.7s\tremaining: 1m 16s\n",
      "409:\tlearn: 0.0160791\ttotal: 59.8s\tremaining: 1m 15s\n",
      "410:\tlearn: 0.0160481\ttotal: 60s\tremaining: 1m 15s\n",
      "411:\tlearn: 0.0160200\ttotal: 1m\tremaining: 1m 15s\n",
      "412:\tlearn: 0.0159916\ttotal: 1m\tremaining: 1m 15s\n",
      "413:\tlearn: 0.0159756\ttotal: 1m\tremaining: 1m 15s\n",
      "414:\tlearn: 0.0159329\ttotal: 1m\tremaining: 1m 15s\n",
      "415:\tlearn: 0.0158963\ttotal: 1m\tremaining: 1m 15s\n",
      "416:\tlearn: 0.0158750\ttotal: 1m\tremaining: 1m 14s\n",
      "417:\tlearn: 0.0158611\ttotal: 1m\tremaining: 1m 14s\n",
      "418:\tlearn: 0.0158484\ttotal: 1m 1s\tremaining: 1m 14s\n",
      "419:\tlearn: 0.0158348\ttotal: 1m 1s\tremaining: 1m 14s\n",
      "420:\tlearn: 0.0157956\ttotal: 1m 1s\tremaining: 1m 14s\n",
      "421:\tlearn: 0.0157505\ttotal: 1m 1s\tremaining: 1m 14s\n",
      "422:\tlearn: 0.0157071\ttotal: 1m 1s\tremaining: 1m 13s\n",
      "423:\tlearn: 0.0156799\ttotal: 1m 1s\tremaining: 1m 13s\n",
      "424:\tlearn: 0.0156448\ttotal: 1m 2s\tremaining: 1m 13s\n",
      "425:\tlearn: 0.0156256\ttotal: 1m 2s\tremaining: 1m 13s\n",
      "426:\tlearn: 0.0155950\ttotal: 1m 2s\tremaining: 1m 13s\n",
      "427:\tlearn: 0.0155545\ttotal: 1m 2s\tremaining: 1m 13s\n",
      "428:\tlearn: 0.0154932\ttotal: 1m 2s\tremaining: 1m 13s\n",
      "429:\tlearn: 0.0154457\ttotal: 1m 2s\tremaining: 1m 12s\n",
      "430:\tlearn: 0.0154057\ttotal: 1m 2s\tremaining: 1m 12s\n",
      "431:\tlearn: 0.0153760\ttotal: 1m 3s\tremaining: 1m 12s\n",
      "432:\tlearn: 0.0153527\ttotal: 1m 3s\tremaining: 1m 12s\n",
      "433:\tlearn: 0.0153302\ttotal: 1m 3s\tremaining: 1m 12s\n",
      "434:\tlearn: 0.0153133\ttotal: 1m 3s\tremaining: 1m 12s\n",
      "435:\tlearn: 0.0152853\ttotal: 1m 3s\tremaining: 1m 12s\n",
      "436:\tlearn: 0.0152681\ttotal: 1m 3s\tremaining: 1m 11s\n",
      "437:\tlearn: 0.0152473\ttotal: 1m 3s\tremaining: 1m 11s\n",
      "438:\tlearn: 0.0152065\ttotal: 1m 4s\tremaining: 1m 11s\n",
      "439:\tlearn: 0.0151690\ttotal: 1m 4s\tremaining: 1m 11s\n",
      "440:\tlearn: 0.0151455\ttotal: 1m 4s\tremaining: 1m 11s\n",
      "441:\tlearn: 0.0151190\ttotal: 1m 4s\tremaining: 1m 11s\n",
      "442:\tlearn: 0.0150892\ttotal: 1m 4s\tremaining: 1m 11s\n",
      "443:\tlearn: 0.0150375\ttotal: 1m 4s\tremaining: 1m 10s\n",
      "444:\tlearn: 0.0150062\ttotal: 1m 4s\tremaining: 1m 10s\n",
      "445:\tlearn: 0.0149906\ttotal: 1m 5s\tremaining: 1m 10s\n",
      "446:\tlearn: 0.0149731\ttotal: 1m 5s\tremaining: 1m 10s\n",
      "447:\tlearn: 0.0149496\ttotal: 1m 5s\tremaining: 1m 10s\n",
      "448:\tlearn: 0.0149240\ttotal: 1m 5s\tremaining: 1m 10s\n",
      "449:\tlearn: 0.0149105\ttotal: 1m 5s\tremaining: 1m 10s\n",
      "450:\tlearn: 0.0148664\ttotal: 1m 5s\tremaining: 1m 9s\n",
      "451:\tlearn: 0.0148464\ttotal: 1m 5s\tremaining: 1m 9s\n",
      "452:\tlearn: 0.0148345\ttotal: 1m 6s\tremaining: 1m 9s\n",
      "453:\tlearn: 0.0148137\ttotal: 1m 6s\tremaining: 1m 9s\n",
      "454:\tlearn: 0.0147915\ttotal: 1m 6s\tremaining: 1m 9s\n",
      "455:\tlearn: 0.0147769\ttotal: 1m 6s\tremaining: 1m 9s\n",
      "456:\tlearn: 0.0147523\ttotal: 1m 6s\tremaining: 1m 8s\n",
      "457:\tlearn: 0.0147311\ttotal: 1m 6s\tremaining: 1m 8s\n",
      "458:\tlearn: 0.0146811\ttotal: 1m 6s\tremaining: 1m 8s\n",
      "459:\tlearn: 0.0146505\ttotal: 1m 7s\tremaining: 1m 8s\n",
      "460:\tlearn: 0.0146310\ttotal: 1m 7s\tremaining: 1m 8s\n",
      "461:\tlearn: 0.0145993\ttotal: 1m 7s\tremaining: 1m 8s\n",
      "462:\tlearn: 0.0145932\ttotal: 1m 7s\tremaining: 1m 8s\n",
      "463:\tlearn: 0.0145665\ttotal: 1m 7s\tremaining: 1m 7s\n",
      "464:\tlearn: 0.0145472\ttotal: 1m 7s\tremaining: 1m 7s\n",
      "465:\tlearn: 0.0145330\ttotal: 1m 7s\tremaining: 1m 7s\n",
      "466:\tlearn: 0.0145121\ttotal: 1m 8s\tremaining: 1m 7s\n",
      "467:\tlearn: 0.0144869\ttotal: 1m 8s\tremaining: 1m 7s\n",
      "468:\tlearn: 0.0144682\ttotal: 1m 8s\tremaining: 1m 7s\n",
      "469:\tlearn: 0.0144446\ttotal: 1m 8s\tremaining: 1m 7s\n",
      "470:\tlearn: 0.0143991\ttotal: 1m 8s\tremaining: 1m 6s\n",
      "471:\tlearn: 0.0143841\ttotal: 1m 8s\tremaining: 1m 6s\n",
      "472:\tlearn: 0.0143645\ttotal: 1m 8s\tremaining: 1m 6s\n",
      "473:\tlearn: 0.0143536\ttotal: 1m 9s\tremaining: 1m 6s\n",
      "474:\tlearn: 0.0143138\ttotal: 1m 9s\tremaining: 1m 6s\n",
      "475:\tlearn: 0.0142890\ttotal: 1m 9s\tremaining: 1m 6s\n",
      "476:\tlearn: 0.0142779\ttotal: 1m 9s\tremaining: 1m 6s\n",
      "477:\tlearn: 0.0142566\ttotal: 1m 9s\tremaining: 1m 5s\n",
      "478:\tlearn: 0.0142337\ttotal: 1m 9s\tremaining: 1m 5s\n",
      "479:\tlearn: 0.0142233\ttotal: 1m 9s\tremaining: 1m 5s\n",
      "480:\tlearn: 0.0142087\ttotal: 1m 10s\tremaining: 1m 5s\n",
      "481:\tlearn: 0.0141973\ttotal: 1m 10s\tremaining: 1m 5s\n",
      "482:\tlearn: 0.0141658\ttotal: 1m 10s\tremaining: 1m 5s\n",
      "483:\tlearn: 0.0141408\ttotal: 1m 10s\tremaining: 1m 5s\n",
      "484:\tlearn: 0.0141265\ttotal: 1m 10s\tremaining: 1m 4s\n",
      "485:\tlearn: 0.0141127\ttotal: 1m 10s\tremaining: 1m 4s\n",
      "486:\tlearn: 0.0140841\ttotal: 1m 10s\tremaining: 1m 4s\n",
      "487:\tlearn: 0.0140618\ttotal: 1m 11s\tremaining: 1m 4s\n",
      "488:\tlearn: 0.0140417\ttotal: 1m 11s\tremaining: 1m 4s\n",
      "489:\tlearn: 0.0140283\ttotal: 1m 11s\tremaining: 1m 4s\n",
      "490:\tlearn: 0.0140200\ttotal: 1m 11s\tremaining: 1m 4s\n",
      "491:\tlearn: 0.0139978\ttotal: 1m 11s\tremaining: 1m 3s\n",
      "492:\tlearn: 0.0139802\ttotal: 1m 11s\tremaining: 1m 3s\n",
      "493:\tlearn: 0.0139690\ttotal: 1m 12s\tremaining: 1m 3s\n",
      "494:\tlearn: 0.0139525\ttotal: 1m 12s\tremaining: 1m 3s\n",
      "495:\tlearn: 0.0139321\ttotal: 1m 12s\tremaining: 1m 3s\n",
      "496:\tlearn: 0.0139187\ttotal: 1m 12s\tremaining: 1m 3s\n",
      "497:\tlearn: 0.0139055\ttotal: 1m 12s\tremaining: 1m 3s\n",
      "498:\tlearn: 0.0138898\ttotal: 1m 12s\tremaining: 1m 3s\n",
      "499:\tlearn: 0.0138566\ttotal: 1m 13s\tremaining: 1m 2s\n",
      "500:\tlearn: 0.0138269\ttotal: 1m 13s\tremaining: 1m 2s\n",
      "501:\tlearn: 0.0138101\ttotal: 1m 13s\tremaining: 1m 2s\n",
      "502:\tlearn: 0.0137947\ttotal: 1m 13s\tremaining: 1m 2s\n",
      "503:\tlearn: 0.0137756\ttotal: 1m 13s\tremaining: 1m 2s\n",
      "504:\tlearn: 0.0137567\ttotal: 1m 13s\tremaining: 1m 2s\n",
      "505:\tlearn: 0.0137274\ttotal: 1m 13s\tremaining: 1m 1s\n",
      "506:\tlearn: 0.0136970\ttotal: 1m 14s\tremaining: 1m 1s\n",
      "507:\tlearn: 0.0136817\ttotal: 1m 14s\tremaining: 1m 1s\n",
      "508:\tlearn: 0.0136556\ttotal: 1m 14s\tremaining: 1m 1s\n",
      "509:\tlearn: 0.0136358\ttotal: 1m 14s\tremaining: 1m 1s\n",
      "510:\tlearn: 0.0136208\ttotal: 1m 14s\tremaining: 1m 1s\n",
      "511:\tlearn: 0.0136005\ttotal: 1m 14s\tremaining: 1m 1s\n",
      "512:\tlearn: 0.0135694\ttotal: 1m 15s\tremaining: 1m 1s\n",
      "513:\tlearn: 0.0135498\ttotal: 1m 15s\tremaining: 1m\n",
      "514:\tlearn: 0.0135194\ttotal: 1m 15s\tremaining: 1m\n",
      "515:\tlearn: 0.0134845\ttotal: 1m 15s\tremaining: 1m\n",
      "516:\tlearn: 0.0134718\ttotal: 1m 15s\tremaining: 1m\n",
      "517:\tlearn: 0.0134588\ttotal: 1m 16s\tremaining: 1m\n",
      "518:\tlearn: 0.0134374\ttotal: 1m 16s\tremaining: 1m\n",
      "519:\tlearn: 0.0134217\ttotal: 1m 16s\tremaining: 1m\n",
      "520:\tlearn: 0.0134069\ttotal: 1m 16s\tremaining: 1m\n",
      "521:\tlearn: 0.0133955\ttotal: 1m 17s\tremaining: 1m\n",
      "522:\tlearn: 0.0133741\ttotal: 1m 17s\tremaining: 1m\n",
      "523:\tlearn: 0.0133658\ttotal: 1m 17s\tremaining: 1m\n",
      "524:\tlearn: 0.0133338\ttotal: 1m 17s\tremaining: 1m\n",
      "525:\tlearn: 0.0132989\ttotal: 1m 17s\tremaining: 59.9s\n",
      "526:\tlearn: 0.0132676\ttotal: 1m 18s\tremaining: 59.7s\n",
      "527:\tlearn: 0.0132433\ttotal: 1m 18s\tremaining: 59.6s\n",
      "528:\tlearn: 0.0132330\ttotal: 1m 18s\tremaining: 59.4s\n",
      "529:\tlearn: 0.0132170\ttotal: 1m 18s\tremaining: 59.3s\n",
      "530:\tlearn: 0.0132011\ttotal: 1m 18s\tremaining: 59.2s\n",
      "531:\tlearn: 0.0131854\ttotal: 1m 18s\tremaining: 59s\n",
      "532:\tlearn: 0.0131716\ttotal: 1m 19s\tremaining: 58.9s\n",
      "533:\tlearn: 0.0131287\ttotal: 1m 19s\tremaining: 58.7s\n",
      "534:\tlearn: 0.0130914\ttotal: 1m 19s\tremaining: 58.6s\n",
      "535:\tlearn: 0.0130769\ttotal: 1m 19s\tremaining: 58.4s\n",
      "536:\tlearn: 0.0130411\ttotal: 1m 19s\tremaining: 58.3s\n",
      "537:\tlearn: 0.0130323\ttotal: 1m 19s\tremaining: 58.1s\n",
      "538:\tlearn: 0.0130156\ttotal: 1m 19s\tremaining: 58s\n",
      "539:\tlearn: 0.0130029\ttotal: 1m 20s\tremaining: 57.9s\n",
      "540:\tlearn: 0.0129693\ttotal: 1m 20s\tremaining: 57.7s\n",
      "541:\tlearn: 0.0129343\ttotal: 1m 20s\tremaining: 57.6s\n",
      "542:\tlearn: 0.0129193\ttotal: 1m 20s\tremaining: 57.5s\n",
      "543:\tlearn: 0.0128996\ttotal: 1m 20s\tremaining: 57.3s\n",
      "544:\tlearn: 0.0128922\ttotal: 1m 20s\tremaining: 57.2s\n",
      "545:\tlearn: 0.0128844\ttotal: 1m 21s\tremaining: 57.1s\n",
      "546:\tlearn: 0.0128554\ttotal: 1m 21s\tremaining: 56.9s\n",
      "547:\tlearn: 0.0128315\ttotal: 1m 21s\tremaining: 56.8s\n",
      "548:\tlearn: 0.0128126\ttotal: 1m 21s\tremaining: 56.6s\n",
      "549:\tlearn: 0.0127962\ttotal: 1m 21s\tremaining: 56.5s\n",
      "550:\tlearn: 0.0127726\ttotal: 1m 21s\tremaining: 56.4s\n",
      "551:\tlearn: 0.0127470\ttotal: 1m 22s\tremaining: 56.2s\n",
      "552:\tlearn: 0.0127328\ttotal: 1m 22s\tremaining: 56s\n",
      "553:\tlearn: 0.0127176\ttotal: 1m 22s\tremaining: 55.9s\n",
      "554:\tlearn: 0.0126941\ttotal: 1m 22s\tremaining: 55.8s\n",
      "555:\tlearn: 0.0126820\ttotal: 1m 22s\tremaining: 55.6s\n",
      "556:\tlearn: 0.0126626\ttotal: 1m 22s\tremaining: 55.5s\n",
      "557:\tlearn: 0.0126365\ttotal: 1m 22s\tremaining: 55.3s\n",
      "558:\tlearn: 0.0125930\ttotal: 1m 23s\tremaining: 55.2s\n",
      "559:\tlearn: 0.0125588\ttotal: 1m 23s\tremaining: 55s\n",
      "560:\tlearn: 0.0125408\ttotal: 1m 23s\tremaining: 54.9s\n",
      "561:\tlearn: 0.0125180\ttotal: 1m 23s\tremaining: 54.7s\n",
      "562:\tlearn: 0.0125047\ttotal: 1m 23s\tremaining: 54.6s\n",
      "563:\tlearn: 0.0124838\ttotal: 1m 23s\tremaining: 54.4s\n",
      "564:\tlearn: 0.0124635\ttotal: 1m 24s\tremaining: 54.3s\n",
      "565:\tlearn: 0.0124296\ttotal: 1m 24s\tremaining: 54.1s\n",
      "566:\tlearn: 0.0124084\ttotal: 1m 24s\tremaining: 54s\n",
      "567:\tlearn: 0.0123901\ttotal: 1m 24s\tremaining: 53.9s\n",
      "568:\tlearn: 0.0123805\ttotal: 1m 24s\tremaining: 53.7s\n",
      "569:\tlearn: 0.0123699\ttotal: 1m 24s\tremaining: 53.5s\n",
      "570:\tlearn: 0.0123570\ttotal: 1m 24s\tremaining: 53.4s\n",
      "571:\tlearn: 0.0123283\ttotal: 1m 25s\tremaining: 53.2s\n",
      "572:\tlearn: 0.0123092\ttotal: 1m 25s\tremaining: 53.1s\n",
      "573:\tlearn: 0.0122772\ttotal: 1m 25s\tremaining: 52.9s\n",
      "574:\tlearn: 0.0122642\ttotal: 1m 25s\tremaining: 52.8s\n",
      "575:\tlearn: 0.0122487\ttotal: 1m 25s\tremaining: 52.6s\n",
      "576:\tlearn: 0.0122343\ttotal: 1m 25s\tremaining: 52.5s\n",
      "577:\tlearn: 0.0122153\ttotal: 1m 25s\tremaining: 52.3s\n",
      "578:\tlearn: 0.0121899\ttotal: 1m 26s\tremaining: 52.2s\n",
      "579:\tlearn: 0.0121734\ttotal: 1m 26s\tremaining: 52s\n",
      "580:\tlearn: 0.0121627\ttotal: 1m 26s\tremaining: 51.9s\n",
      "581:\tlearn: 0.0121419\ttotal: 1m 26s\tremaining: 51.7s\n",
      "582:\tlearn: 0.0121217\ttotal: 1m 26s\tremaining: 51.6s\n",
      "583:\tlearn: 0.0121106\ttotal: 1m 26s\tremaining: 51.4s\n",
      "584:\tlearn: 0.0121003\ttotal: 1m 26s\tremaining: 51.3s\n",
      "585:\tlearn: 0.0120739\ttotal: 1m 27s\tremaining: 51.1s\n",
      "586:\tlearn: 0.0120424\ttotal: 1m 27s\tremaining: 51s\n",
      "587:\tlearn: 0.0120209\ttotal: 1m 27s\tremaining: 50.8s\n",
      "588:\tlearn: 0.0120084\ttotal: 1m 27s\tremaining: 50.7s\n",
      "589:\tlearn: 0.0120001\ttotal: 1m 27s\tremaining: 50.5s\n",
      "590:\tlearn: 0.0119949\ttotal: 1m 27s\tremaining: 50.4s\n",
      "591:\tlearn: 0.0119749\ttotal: 1m 27s\tremaining: 50.2s\n",
      "592:\tlearn: 0.0119525\ttotal: 1m 28s\tremaining: 50.1s\n",
      "593:\tlearn: 0.0119237\ttotal: 1m 28s\tremaining: 49.9s\n",
      "594:\tlearn: 0.0119109\ttotal: 1m 28s\tremaining: 49.8s\n",
      "595:\tlearn: 0.0118986\ttotal: 1m 28s\tremaining: 49.6s\n",
      "596:\tlearn: 0.0118900\ttotal: 1m 28s\tremaining: 49.5s\n",
      "597:\tlearn: 0.0118720\ttotal: 1m 28s\tremaining: 49.4s\n",
      "598:\tlearn: 0.0118611\ttotal: 1m 29s\tremaining: 49.2s\n",
      "599:\tlearn: 0.0118438\ttotal: 1m 29s\tremaining: 49.1s\n",
      "600:\tlearn: 0.0118267\ttotal: 1m 29s\tremaining: 48.9s\n",
      "601:\tlearn: 0.0118045\ttotal: 1m 29s\tremaining: 48.8s\n",
      "602:\tlearn: 0.0117876\ttotal: 1m 29s\tremaining: 48.6s\n",
      "603:\tlearn: 0.0117666\ttotal: 1m 29s\tremaining: 48.5s\n",
      "604:\tlearn: 0.0117386\ttotal: 1m 29s\tremaining: 48.3s\n",
      "605:\tlearn: 0.0117221\ttotal: 1m 30s\tremaining: 48.2s\n",
      "606:\tlearn: 0.0116974\ttotal: 1m 30s\tremaining: 48s\n",
      "607:\tlearn: 0.0116834\ttotal: 1m 30s\tremaining: 47.9s\n",
      "608:\tlearn: 0.0116582\ttotal: 1m 30s\tremaining: 47.7s\n",
      "609:\tlearn: 0.0116413\ttotal: 1m 30s\tremaining: 47.6s\n",
      "610:\tlearn: 0.0116237\ttotal: 1m 30s\tremaining: 47.4s\n",
      "611:\tlearn: 0.0115958\ttotal: 1m 30s\tremaining: 47.3s\n",
      "612:\tlearn: 0.0115669\ttotal: 1m 31s\tremaining: 47.1s\n",
      "613:\tlearn: 0.0115599\ttotal: 1m 31s\tremaining: 47s\n",
      "614:\tlearn: 0.0115433\ttotal: 1m 31s\tremaining: 46.8s\n",
      "615:\tlearn: 0.0115221\ttotal: 1m 31s\tremaining: 46.7s\n",
      "616:\tlearn: 0.0115120\ttotal: 1m 31s\tremaining: 46.5s\n",
      "617:\tlearn: 0.0115006\ttotal: 1m 31s\tremaining: 46.4s\n",
      "618:\tlearn: 0.0114865\ttotal: 1m 31s\tremaining: 46.2s\n",
      "619:\tlearn: 0.0114549\ttotal: 1m 32s\tremaining: 46.1s\n",
      "620:\tlearn: 0.0114389\ttotal: 1m 32s\tremaining: 45.9s\n",
      "621:\tlearn: 0.0114246\ttotal: 1m 32s\tremaining: 45.8s\n",
      "622:\tlearn: 0.0114086\ttotal: 1m 32s\tremaining: 45.6s\n",
      "623:\tlearn: 0.0113920\ttotal: 1m 32s\tremaining: 45.5s\n",
      "624:\tlearn: 0.0113732\ttotal: 1m 32s\tremaining: 45.4s\n",
      "625:\tlearn: 0.0113493\ttotal: 1m 33s\tremaining: 45.2s\n",
      "626:\tlearn: 0.0113241\ttotal: 1m 33s\tremaining: 45.1s\n",
      "627:\tlearn: 0.0113150\ttotal: 1m 33s\tremaining: 44.9s\n",
      "628:\tlearn: 0.0113042\ttotal: 1m 33s\tremaining: 44.8s\n",
      "629:\tlearn: 0.0112856\ttotal: 1m 33s\tremaining: 44.6s\n",
      "630:\tlearn: 0.0112600\ttotal: 1m 33s\tremaining: 44.5s\n",
      "631:\tlearn: 0.0112500\ttotal: 1m 34s\tremaining: 44.3s\n",
      "632:\tlearn: 0.0112440\ttotal: 1m 34s\tremaining: 44.2s\n",
      "633:\tlearn: 0.0112352\ttotal: 1m 34s\tremaining: 44s\n",
      "634:\tlearn: 0.0112212\ttotal: 1m 34s\tremaining: 43.9s\n",
      "635:\tlearn: 0.0112115\ttotal: 1m 34s\tremaining: 43.7s\n",
      "636:\tlearn: 0.0111949\ttotal: 1m 34s\tremaining: 43.6s\n",
      "637:\tlearn: 0.0111812\ttotal: 1m 34s\tremaining: 43.4s\n",
      "638:\tlearn: 0.0111677\ttotal: 1m 35s\tremaining: 43.3s\n",
      "639:\tlearn: 0.0111594\ttotal: 1m 35s\tremaining: 43.1s\n",
      "640:\tlearn: 0.0111431\ttotal: 1m 35s\tremaining: 43s\n",
      "641:\tlearn: 0.0111294\ttotal: 1m 35s\tremaining: 42.8s\n",
      "642:\tlearn: 0.0111120\ttotal: 1m 35s\tremaining: 42.7s\n",
      "643:\tlearn: 0.0111057\ttotal: 1m 35s\tremaining: 42.5s\n",
      "644:\tlearn: 0.0110874\ttotal: 1m 35s\tremaining: 42.4s\n",
      "645:\tlearn: 0.0110666\ttotal: 1m 36s\tremaining: 42.3s\n",
      "646:\tlearn: 0.0110426\ttotal: 1m 36s\tremaining: 42.1s\n",
      "647:\tlearn: 0.0110182\ttotal: 1m 36s\tremaining: 42s\n",
      "648:\tlearn: 0.0109919\ttotal: 1m 36s\tremaining: 41.8s\n",
      "649:\tlearn: 0.0109652\ttotal: 1m 36s\tremaining: 41.7s\n",
      "650:\tlearn: 0.0109493\ttotal: 1m 36s\tremaining: 41.5s\n",
      "651:\tlearn: 0.0109271\ttotal: 1m 37s\tremaining: 41.4s\n",
      "652:\tlearn: 0.0109130\ttotal: 1m 37s\tremaining: 41.2s\n",
      "653:\tlearn: 0.0109048\ttotal: 1m 37s\tremaining: 41.1s\n",
      "654:\tlearn: 0.0108933\ttotal: 1m 37s\tremaining: 41s\n",
      "655:\tlearn: 0.0108772\ttotal: 1m 37s\tremaining: 40.8s\n",
      "656:\tlearn: 0.0108628\ttotal: 1m 37s\tremaining: 40.7s\n",
      "657:\tlearn: 0.0108406\ttotal: 1m 38s\tremaining: 40.5s\n",
      "658:\tlearn: 0.0108296\ttotal: 1m 38s\tremaining: 40.4s\n",
      "659:\tlearn: 0.0108159\ttotal: 1m 38s\tremaining: 40.2s\n",
      "660:\tlearn: 0.0107885\ttotal: 1m 38s\tremaining: 40.1s\n",
      "661:\tlearn: 0.0107728\ttotal: 1m 38s\tremaining: 39.9s\n",
      "662:\tlearn: 0.0107619\ttotal: 1m 38s\tremaining: 39.8s\n",
      "663:\tlearn: 0.0107509\ttotal: 1m 38s\tremaining: 39.6s\n",
      "664:\tlearn: 0.0107304\ttotal: 1m 39s\tremaining: 39.5s\n",
      "665:\tlearn: 0.0107053\ttotal: 1m 39s\tremaining: 39.3s\n",
      "666:\tlearn: 0.0106911\ttotal: 1m 39s\tremaining: 39.2s\n",
      "667:\tlearn: 0.0106719\ttotal: 1m 39s\tremaining: 39s\n",
      "668:\tlearn: 0.0106645\ttotal: 1m 39s\tremaining: 38.9s\n",
      "669:\tlearn: 0.0106558\ttotal: 1m 39s\tremaining: 38.7s\n",
      "670:\tlearn: 0.0106312\ttotal: 1m 40s\tremaining: 38.6s\n",
      "671:\tlearn: 0.0106213\ttotal: 1m 40s\tremaining: 38.5s\n",
      "672:\tlearn: 0.0106035\ttotal: 1m 40s\tremaining: 38.3s\n",
      "673:\tlearn: 0.0105976\ttotal: 1m 40s\tremaining: 38.2s\n",
      "674:\tlearn: 0.0105879\ttotal: 1m 40s\tremaining: 38s\n",
      "675:\tlearn: 0.0105722\ttotal: 1m 40s\tremaining: 37.9s\n",
      "676:\tlearn: 0.0105613\ttotal: 1m 40s\tremaining: 37.7s\n",
      "677:\tlearn: 0.0105456\ttotal: 1m 41s\tremaining: 37.6s\n",
      "678:\tlearn: 0.0105303\ttotal: 1m 41s\tremaining: 37.4s\n",
      "679:\tlearn: 0.0105189\ttotal: 1m 41s\tremaining: 37.3s\n",
      "680:\tlearn: 0.0105007\ttotal: 1m 41s\tremaining: 37.1s\n",
      "681:\tlearn: 0.0104901\ttotal: 1m 41s\tremaining: 37s\n",
      "682:\tlearn: 0.0104822\ttotal: 1m 41s\tremaining: 36.8s\n",
      "683:\tlearn: 0.0104704\ttotal: 1m 41s\tremaining: 36.7s\n",
      "684:\tlearn: 0.0104461\ttotal: 1m 42s\tremaining: 36.5s\n",
      "685:\tlearn: 0.0104335\ttotal: 1m 42s\tremaining: 36.4s\n",
      "686:\tlearn: 0.0104206\ttotal: 1m 42s\tremaining: 36.2s\n",
      "687:\tlearn: 0.0104089\ttotal: 1m 42s\tremaining: 36.1s\n",
      "688:\tlearn: 0.0103993\ttotal: 1m 42s\tremaining: 35.9s\n",
      "689:\tlearn: 0.0103820\ttotal: 1m 42s\tremaining: 35.8s\n",
      "690:\tlearn: 0.0103604\ttotal: 1m 43s\tremaining: 35.7s\n",
      "691:\tlearn: 0.0103547\ttotal: 1m 43s\tremaining: 35.5s\n",
      "692:\tlearn: 0.0103460\ttotal: 1m 43s\tremaining: 35.3s\n",
      "693:\tlearn: 0.0103390\ttotal: 1m 43s\tremaining: 35.2s\n",
      "694:\tlearn: 0.0103308\ttotal: 1m 43s\tremaining: 35s\n",
      "695:\tlearn: 0.0103225\ttotal: 1m 43s\tremaining: 34.9s\n",
      "696:\tlearn: 0.0103132\ttotal: 1m 43s\tremaining: 34.7s\n",
      "697:\tlearn: 0.0103019\ttotal: 1m 44s\tremaining: 34.6s\n",
      "698:\tlearn: 0.0102840\ttotal: 1m 44s\tremaining: 34.4s\n",
      "699:\tlearn: 0.0102761\ttotal: 1m 44s\tremaining: 34.3s\n",
      "700:\tlearn: 0.0102644\ttotal: 1m 44s\tremaining: 34.1s\n",
      "701:\tlearn: 0.0102540\ttotal: 1m 44s\tremaining: 34s\n",
      "702:\tlearn: 0.0102459\ttotal: 1m 44s\tremaining: 33.8s\n",
      "703:\tlearn: 0.0102280\ttotal: 1m 45s\tremaining: 33.7s\n",
      "704:\tlearn: 0.0102178\ttotal: 1m 45s\tremaining: 33.6s\n",
      "705:\tlearn: 0.0101956\ttotal: 1m 45s\tremaining: 33.4s\n",
      "706:\tlearn: 0.0101780\ttotal: 1m 45s\tremaining: 33.3s\n",
      "707:\tlearn: 0.0101656\ttotal: 1m 45s\tremaining: 33.1s\n",
      "708:\tlearn: 0.0101505\ttotal: 1m 45s\tremaining: 33s\n",
      "709:\tlearn: 0.0101401\ttotal: 1m 45s\tremaining: 32.8s\n",
      "710:\tlearn: 0.0101308\ttotal: 1m 46s\tremaining: 32.7s\n",
      "711:\tlearn: 0.0101044\ttotal: 1m 46s\tremaining: 32.5s\n",
      "712:\tlearn: 0.0100910\ttotal: 1m 46s\tremaining: 32.4s\n",
      "713:\tlearn: 0.0100817\ttotal: 1m 46s\tremaining: 32.2s\n",
      "714:\tlearn: 0.0100598\ttotal: 1m 46s\tremaining: 32.1s\n",
      "715:\tlearn: 0.0100393\ttotal: 1m 46s\tremaining: 31.9s\n",
      "716:\tlearn: 0.0100198\ttotal: 1m 47s\tremaining: 31.8s\n",
      "717:\tlearn: 0.0100058\ttotal: 1m 47s\tremaining: 31.7s\n",
      "718:\tlearn: 0.0099864\ttotal: 1m 47s\tremaining: 31.5s\n",
      "719:\tlearn: 0.0099758\ttotal: 1m 47s\tremaining: 31.4s\n",
      "720:\tlearn: 0.0099671\ttotal: 1m 47s\tremaining: 31.2s\n",
      "721:\tlearn: 0.0099476\ttotal: 1m 47s\tremaining: 31.1s\n",
      "722:\tlearn: 0.0099413\ttotal: 1m 47s\tremaining: 30.9s\n",
      "723:\tlearn: 0.0099311\ttotal: 1m 48s\tremaining: 30.8s\n",
      "724:\tlearn: 0.0099235\ttotal: 1m 48s\tremaining: 30.6s\n",
      "725:\tlearn: 0.0099150\ttotal: 1m 48s\tremaining: 30.5s\n",
      "726:\tlearn: 0.0098961\ttotal: 1m 48s\tremaining: 30.3s\n",
      "727:\tlearn: 0.0098846\ttotal: 1m 48s\tremaining: 30.2s\n",
      "728:\tlearn: 0.0098722\ttotal: 1m 48s\tremaining: 30s\n",
      "729:\tlearn: 0.0098575\ttotal: 1m 48s\tremaining: 29.9s\n",
      "730:\tlearn: 0.0098414\ttotal: 1m 49s\tremaining: 29.7s\n",
      "731:\tlearn: 0.0098313\ttotal: 1m 49s\tremaining: 29.6s\n",
      "732:\tlearn: 0.0098154\ttotal: 1m 49s\tremaining: 29.4s\n",
      "733:\tlearn: 0.0097938\ttotal: 1m 49s\tremaining: 29.3s\n",
      "734:\tlearn: 0.0097857\ttotal: 1m 49s\tremaining: 29.1s\n",
      "735:\tlearn: 0.0097651\ttotal: 1m 49s\tremaining: 29s\n",
      "736:\tlearn: 0.0097567\ttotal: 1m 50s\tremaining: 28.8s\n",
      "737:\tlearn: 0.0097405\ttotal: 1m 50s\tremaining: 28.7s\n",
      "738:\tlearn: 0.0097326\ttotal: 1m 50s\tremaining: 28.5s\n",
      "739:\tlearn: 0.0097259\ttotal: 1m 50s\tremaining: 28.4s\n",
      "740:\tlearn: 0.0097158\ttotal: 1m 50s\tremaining: 28.2s\n",
      "741:\tlearn: 0.0097078\ttotal: 1m 50s\tremaining: 28.1s\n",
      "742:\tlearn: 0.0096949\ttotal: 1m 50s\tremaining: 27.9s\n",
      "743:\tlearn: 0.0096821\ttotal: 1m 51s\tremaining: 27.8s\n",
      "744:\tlearn: 0.0096638\ttotal: 1m 51s\tremaining: 27.6s\n",
      "745:\tlearn: 0.0096515\ttotal: 1m 51s\tremaining: 27.5s\n",
      "746:\tlearn: 0.0096417\ttotal: 1m 51s\tremaining: 27.3s\n",
      "747:\tlearn: 0.0096356\ttotal: 1m 51s\tremaining: 27.2s\n",
      "748:\tlearn: 0.0096102\ttotal: 1m 51s\tremaining: 27s\n",
      "749:\tlearn: 0.0096010\ttotal: 1m 51s\tremaining: 26.9s\n",
      "750:\tlearn: 0.0095876\ttotal: 1m 52s\tremaining: 26.7s\n",
      "751:\tlearn: 0.0095743\ttotal: 1m 52s\tremaining: 26.6s\n",
      "752:\tlearn: 0.0095631\ttotal: 1m 52s\tremaining: 26.4s\n",
      "753:\tlearn: 0.0095571\ttotal: 1m 52s\tremaining: 26.2s\n",
      "754:\tlearn: 0.0095482\ttotal: 1m 52s\tremaining: 26.1s\n",
      "755:\tlearn: 0.0095295\ttotal: 1m 52s\tremaining: 25.9s\n",
      "756:\tlearn: 0.0095181\ttotal: 1m 52s\tremaining: 25.8s\n",
      "757:\tlearn: 0.0095034\ttotal: 1m 53s\tremaining: 25.6s\n",
      "758:\tlearn: 0.0094937\ttotal: 1m 53s\tremaining: 25.5s\n",
      "759:\tlearn: 0.0094863\ttotal: 1m 53s\tremaining: 25.3s\n",
      "760:\tlearn: 0.0094738\ttotal: 1m 53s\tremaining: 25.2s\n",
      "761:\tlearn: 0.0094680\ttotal: 1m 53s\tremaining: 25s\n",
      "762:\tlearn: 0.0094549\ttotal: 1m 53s\tremaining: 24.9s\n",
      "763:\tlearn: 0.0094429\ttotal: 1m 53s\tremaining: 24.7s\n",
      "764:\tlearn: 0.0094302\ttotal: 1m 54s\tremaining: 24.6s\n",
      "765:\tlearn: 0.0094193\ttotal: 1m 54s\tremaining: 24.4s\n",
      "766:\tlearn: 0.0094095\ttotal: 1m 54s\tremaining: 24.3s\n",
      "767:\tlearn: 0.0094001\ttotal: 1m 54s\tremaining: 24.1s\n",
      "768:\tlearn: 0.0093912\ttotal: 1m 54s\tremaining: 24s\n",
      "769:\tlearn: 0.0093833\ttotal: 1m 54s\tremaining: 23.8s\n",
      "770:\tlearn: 0.0093725\ttotal: 1m 54s\tremaining: 23.7s\n",
      "771:\tlearn: 0.0093529\ttotal: 1m 55s\tremaining: 23.5s\n",
      "772:\tlearn: 0.0093343\ttotal: 1m 55s\tremaining: 23.4s\n",
      "773:\tlearn: 0.0093228\ttotal: 1m 55s\tremaining: 23.3s\n",
      "774:\tlearn: 0.0093036\ttotal: 1m 55s\tremaining: 23.1s\n",
      "775:\tlearn: 0.0092867\ttotal: 1m 55s\tremaining: 23s\n",
      "776:\tlearn: 0.0092672\ttotal: 1m 55s\tremaining: 22.8s\n",
      "777:\tlearn: 0.0092553\ttotal: 1m 55s\tremaining: 22.7s\n",
      "778:\tlearn: 0.0092448\ttotal: 1m 56s\tremaining: 22.5s\n",
      "779:\tlearn: 0.0092250\ttotal: 1m 56s\tremaining: 22.4s\n",
      "780:\tlearn: 0.0092150\ttotal: 1m 56s\tremaining: 22.2s\n",
      "781:\tlearn: 0.0092035\ttotal: 1m 56s\tremaining: 22.1s\n",
      "782:\tlearn: 0.0091965\ttotal: 1m 56s\tremaining: 21.9s\n",
      "783:\tlearn: 0.0091782\ttotal: 1m 56s\tremaining: 21.8s\n",
      "784:\tlearn: 0.0091660\ttotal: 1m 56s\tremaining: 21.6s\n",
      "785:\tlearn: 0.0091499\ttotal: 1m 57s\tremaining: 21.5s\n",
      "786:\tlearn: 0.0091441\ttotal: 1m 57s\tremaining: 21.3s\n",
      "787:\tlearn: 0.0091242\ttotal: 1m 57s\tremaining: 21.2s\n",
      "788:\tlearn: 0.0091139\ttotal: 1m 57s\tremaining: 21s\n",
      "789:\tlearn: 0.0091049\ttotal: 1m 57s\tremaining: 20.9s\n",
      "790:\tlearn: 0.0090902\ttotal: 1m 57s\tremaining: 20.7s\n",
      "791:\tlearn: 0.0090740\ttotal: 1m 57s\tremaining: 20.6s\n",
      "792:\tlearn: 0.0090606\ttotal: 1m 58s\tremaining: 20.4s\n",
      "793:\tlearn: 0.0090538\ttotal: 1m 58s\tremaining: 20.3s\n",
      "794:\tlearn: 0.0090333\ttotal: 1m 58s\tremaining: 20.1s\n",
      "795:\tlearn: 0.0090263\ttotal: 1m 58s\tremaining: 20s\n",
      "796:\tlearn: 0.0090143\ttotal: 1m 58s\tremaining: 19.8s\n",
      "797:\tlearn: 0.0090033\ttotal: 1m 58s\tremaining: 19.7s\n",
      "798:\tlearn: 0.0089868\ttotal: 1m 59s\tremaining: 19.5s\n",
      "799:\tlearn: 0.0089809\ttotal: 1m 59s\tremaining: 19.4s\n",
      "800:\tlearn: 0.0089673\ttotal: 1m 59s\tremaining: 19.2s\n",
      "801:\tlearn: 0.0089581\ttotal: 1m 59s\tremaining: 19.1s\n",
      "802:\tlearn: 0.0089444\ttotal: 1m 59s\tremaining: 18.9s\n",
      "803:\tlearn: 0.0089313\ttotal: 1m 59s\tremaining: 18.8s\n",
      "804:\tlearn: 0.0089218\ttotal: 1m 59s\tremaining: 18.6s\n",
      "805:\tlearn: 0.0089075\ttotal: 2m\tremaining: 18.5s\n",
      "806:\tlearn: 0.0088980\ttotal: 2m\tremaining: 18.3s\n",
      "807:\tlearn: 0.0088847\ttotal: 2m\tremaining: 18.2s\n",
      "808:\tlearn: 0.0088695\ttotal: 2m\tremaining: 18s\n",
      "809:\tlearn: 0.0088642\ttotal: 2m\tremaining: 17.9s\n",
      "810:\tlearn: 0.0088567\ttotal: 2m\tremaining: 17.7s\n",
      "811:\tlearn: 0.0088470\ttotal: 2m\tremaining: 17.6s\n",
      "812:\tlearn: 0.0088306\ttotal: 2m 1s\tremaining: 17.4s\n",
      "813:\tlearn: 0.0088179\ttotal: 2m 1s\tremaining: 17.3s\n",
      "814:\tlearn: 0.0088110\ttotal: 2m 1s\tremaining: 17.1s\n",
      "815:\tlearn: 0.0087999\ttotal: 2m 1s\tremaining: 17s\n",
      "816:\tlearn: 0.0087917\ttotal: 2m 1s\tremaining: 16.8s\n",
      "817:\tlearn: 0.0087829\ttotal: 2m 1s\tremaining: 16.7s\n",
      "818:\tlearn: 0.0087682\ttotal: 2m 1s\tremaining: 16.5s\n",
      "819:\tlearn: 0.0087542\ttotal: 2m 2s\tremaining: 16.4s\n",
      "820:\tlearn: 0.0087440\ttotal: 2m 2s\tremaining: 16.2s\n",
      "821:\tlearn: 0.0087350\ttotal: 2m 2s\tremaining: 16.1s\n",
      "822:\tlearn: 0.0087224\ttotal: 2m 2s\tremaining: 15.9s\n",
      "823:\tlearn: 0.0087142\ttotal: 2m 2s\tremaining: 15.8s\n",
      "824:\tlearn: 0.0087029\ttotal: 2m 2s\tremaining: 15.6s\n",
      "825:\tlearn: 0.0086974\ttotal: 2m 2s\tremaining: 15.5s\n",
      "826:\tlearn: 0.0086912\ttotal: 2m 3s\tremaining: 15.3s\n",
      "827:\tlearn: 0.0086802\ttotal: 2m 3s\tremaining: 15.2s\n",
      "828:\tlearn: 0.0086687\ttotal: 2m 3s\tremaining: 15s\n",
      "829:\tlearn: 0.0086539\ttotal: 2m 3s\tremaining: 14.9s\n",
      "830:\tlearn: 0.0086382\ttotal: 2m 3s\tremaining: 14.7s\n",
      "831:\tlearn: 0.0086316\ttotal: 2m 3s\tremaining: 14.6s\n",
      "832:\tlearn: 0.0086237\ttotal: 2m 3s\tremaining: 14.4s\n",
      "833:\tlearn: 0.0086146\ttotal: 2m 4s\tremaining: 14.3s\n",
      "834:\tlearn: 0.0086065\ttotal: 2m 4s\tremaining: 14.1s\n",
      "835:\tlearn: 0.0085990\ttotal: 2m 4s\tremaining: 14s\n",
      "836:\tlearn: 0.0085814\ttotal: 2m 4s\tremaining: 13.8s\n",
      "837:\tlearn: 0.0085705\ttotal: 2m 4s\tremaining: 13.7s\n",
      "838:\tlearn: 0.0085611\ttotal: 2m 4s\tremaining: 13.5s\n",
      "839:\tlearn: 0.0085540\ttotal: 2m 4s\tremaining: 13.4s\n",
      "840:\tlearn: 0.0085442\ttotal: 2m 5s\tremaining: 13.2s\n",
      "841:\tlearn: 0.0085379\ttotal: 2m 5s\tremaining: 13.1s\n",
      "842:\tlearn: 0.0085278\ttotal: 2m 5s\tremaining: 12.9s\n",
      "843:\tlearn: 0.0085193\ttotal: 2m 5s\tremaining: 12.8s\n",
      "844:\tlearn: 0.0085090\ttotal: 2m 5s\tremaining: 12.6s\n",
      "845:\tlearn: 0.0085041\ttotal: 2m 5s\tremaining: 12.5s\n",
      "846:\tlearn: 0.0084971\ttotal: 2m 5s\tremaining: 12.3s\n",
      "847:\tlearn: 0.0084798\ttotal: 2m 6s\tremaining: 12.2s\n",
      "848:\tlearn: 0.0084756\ttotal: 2m 6s\tremaining: 12s\n",
      "849:\tlearn: 0.0084658\ttotal: 2m 6s\tremaining: 11.9s\n",
      "850:\tlearn: 0.0084603\ttotal: 2m 6s\tremaining: 11.7s\n",
      "851:\tlearn: 0.0084501\ttotal: 2m 6s\tremaining: 11.6s\n",
      "852:\tlearn: 0.0084355\ttotal: 2m 6s\tremaining: 11.5s\n",
      "853:\tlearn: 0.0084279\ttotal: 2m 7s\tremaining: 11.3s\n",
      "854:\tlearn: 0.0084161\ttotal: 2m 7s\tremaining: 11.2s\n",
      "855:\tlearn: 0.0084066\ttotal: 2m 7s\tremaining: 11s\n",
      "856:\tlearn: 0.0084001\ttotal: 2m 7s\tremaining: 10.9s\n",
      "857:\tlearn: 0.0083910\ttotal: 2m 7s\tremaining: 10.7s\n",
      "858:\tlearn: 0.0083824\ttotal: 2m 7s\tremaining: 10.6s\n",
      "859:\tlearn: 0.0083766\ttotal: 2m 7s\tremaining: 10.4s\n",
      "860:\tlearn: 0.0083611\ttotal: 2m 8s\tremaining: 10.3s\n",
      "861:\tlearn: 0.0083446\ttotal: 2m 8s\tremaining: 10.1s\n",
      "862:\tlearn: 0.0083386\ttotal: 2m 8s\tremaining: 9.96s\n",
      "863:\tlearn: 0.0083234\ttotal: 2m 8s\tremaining: 9.82s\n",
      "864:\tlearn: 0.0083144\ttotal: 2m 8s\tremaining: 9.67s\n",
      "865:\tlearn: 0.0083011\ttotal: 2m 8s\tremaining: 9.52s\n",
      "866:\tlearn: 0.0082889\ttotal: 2m 8s\tremaining: 9.37s\n",
      "867:\tlearn: 0.0082726\ttotal: 2m 9s\tremaining: 9.22s\n",
      "868:\tlearn: 0.0082613\ttotal: 2m 9s\tremaining: 9.07s\n",
      "869:\tlearn: 0.0082515\ttotal: 2m 9s\tremaining: 8.93s\n",
      "870:\tlearn: 0.0082383\ttotal: 2m 9s\tremaining: 8.78s\n",
      "871:\tlearn: 0.0082306\ttotal: 2m 9s\tremaining: 8.63s\n",
      "872:\tlearn: 0.0082224\ttotal: 2m 9s\tremaining: 8.48s\n",
      "873:\tlearn: 0.0082129\ttotal: 2m 10s\tremaining: 8.33s\n",
      "874:\tlearn: 0.0082032\ttotal: 2m 10s\tremaining: 8.18s\n",
      "875:\tlearn: 0.0081957\ttotal: 2m 10s\tremaining: 8.03s\n",
      "876:\tlearn: 0.0081902\ttotal: 2m 10s\tremaining: 7.88s\n",
      "877:\tlearn: 0.0081783\ttotal: 2m 10s\tremaining: 7.73s\n",
      "878:\tlearn: 0.0081723\ttotal: 2m 10s\tremaining: 7.58s\n",
      "879:\tlearn: 0.0081681\ttotal: 2m 10s\tremaining: 7.43s\n",
      "880:\tlearn: 0.0081545\ttotal: 2m 11s\tremaining: 7.29s\n",
      "881:\tlearn: 0.0081403\ttotal: 2m 11s\tremaining: 7.14s\n",
      "882:\tlearn: 0.0081174\ttotal: 2m 11s\tremaining: 6.99s\n",
      "883:\tlearn: 0.0081125\ttotal: 2m 11s\tremaining: 6.84s\n",
      "884:\tlearn: 0.0080983\ttotal: 2m 11s\tremaining: 6.69s\n",
      "885:\tlearn: 0.0080847\ttotal: 2m 11s\tremaining: 6.54s\n",
      "886:\tlearn: 0.0080653\ttotal: 2m 11s\tremaining: 6.39s\n",
      "887:\tlearn: 0.0080536\ttotal: 2m 12s\tremaining: 6.25s\n",
      "888:\tlearn: 0.0080476\ttotal: 2m 12s\tremaining: 6.1s\n",
      "889:\tlearn: 0.0080438\ttotal: 2m 12s\tremaining: 5.95s\n",
      "890:\tlearn: 0.0080375\ttotal: 2m 12s\tremaining: 5.8s\n",
      "891:\tlearn: 0.0080247\ttotal: 2m 12s\tremaining: 5.65s\n",
      "892:\tlearn: 0.0080111\ttotal: 2m 12s\tremaining: 5.5s\n",
      "893:\tlearn: 0.0080043\ttotal: 2m 12s\tremaining: 5.36s\n",
      "894:\tlearn: 0.0079936\ttotal: 2m 13s\tremaining: 5.21s\n",
      "895:\tlearn: 0.0079895\ttotal: 2m 13s\tremaining: 5.06s\n",
      "896:\tlearn: 0.0079818\ttotal: 2m 13s\tremaining: 4.91s\n",
      "897:\tlearn: 0.0079716\ttotal: 2m 13s\tremaining: 4.76s\n",
      "898:\tlearn: 0.0079645\ttotal: 2m 13s\tremaining: 4.61s\n",
      "899:\tlearn: 0.0079574\ttotal: 2m 13s\tremaining: 4.46s\n",
      "900:\tlearn: 0.0079470\ttotal: 2m 13s\tremaining: 4.31s\n",
      "901:\tlearn: 0.0079359\ttotal: 2m 14s\tremaining: 4.16s\n",
      "902:\tlearn: 0.0079191\ttotal: 2m 14s\tremaining: 4.01s\n",
      "903:\tlearn: 0.0079132\ttotal: 2m 14s\tremaining: 3.87s\n",
      "904:\tlearn: 0.0079029\ttotal: 2m 14s\tremaining: 3.72s\n",
      "905:\tlearn: 0.0078934\ttotal: 2m 14s\tremaining: 3.57s\n",
      "906:\tlearn: 0.0078867\ttotal: 2m 14s\tremaining: 3.42s\n",
      "907:\tlearn: 0.0078757\ttotal: 2m 14s\tremaining: 3.27s\n",
      "908:\tlearn: 0.0078636\ttotal: 2m 15s\tremaining: 3.12s\n",
      "909:\tlearn: 0.0078550\ttotal: 2m 15s\tremaining: 2.97s\n",
      "910:\tlearn: 0.0078479\ttotal: 2m 15s\tremaining: 2.82s\n",
      "911:\tlearn: 0.0078407\ttotal: 2m 15s\tremaining: 2.67s\n",
      "912:\tlearn: 0.0078269\ttotal: 2m 15s\tremaining: 2.53s\n",
      "913:\tlearn: 0.0078193\ttotal: 2m 15s\tremaining: 2.38s\n",
      "914:\tlearn: 0.0078136\ttotal: 2m 15s\tremaining: 2.23s\n",
      "915:\tlearn: 0.0078044\ttotal: 2m 16s\tremaining: 2.08s\n",
      "916:\tlearn: 0.0077964\ttotal: 2m 16s\tremaining: 1.93s\n",
      "917:\tlearn: 0.0077830\ttotal: 2m 16s\tremaining: 1.78s\n",
      "918:\tlearn: 0.0077684\ttotal: 2m 16s\tremaining: 1.63s\n",
      "919:\tlearn: 0.0077634\ttotal: 2m 16s\tremaining: 1.49s\n",
      "920:\tlearn: 0.0077583\ttotal: 2m 16s\tremaining: 1.34s\n",
      "921:\tlearn: 0.0077500\ttotal: 2m 17s\tremaining: 1.19s\n",
      "922:\tlearn: 0.0077449\ttotal: 2m 17s\tremaining: 1.04s\n",
      "923:\tlearn: 0.0077428\ttotal: 2m 17s\tremaining: 891ms\n",
      "924:\tlearn: 0.0077322\ttotal: 2m 17s\tremaining: 743ms\n",
      "925:\tlearn: 0.0077209\ttotal: 2m 17s\tremaining: 594ms\n",
      "926:\tlearn: 0.0077049\ttotal: 2m 17s\tremaining: 446ms\n",
      "927:\tlearn: 0.0077001\ttotal: 2m 17s\tremaining: 297ms\n",
      "928:\tlearn: 0.0076843\ttotal: 2m 18s\tremaining: 149ms\n",
      "929:\tlearn: 0.0076667\ttotal: 2m 18s\tremaining: 0us\n"
     ]
    },
    {
     "data": {
      "text/plain": [
       "<catboost.core.CatBoostClassifier at 0x1a565ed4bf0>"
      ]
     },
     "execution_count": 111,
     "metadata": {},
     "output_type": "execute_result"
    }
   ],
   "source": [
    "cat_optuna_no_enc.fit(X_train_no_enc, y_train, cat_features=cat_features)"
   ]
  },
  {
   "cell_type": "code",
   "execution_count": 112,
   "metadata": {},
   "outputs": [],
   "source": [
    "y_val_pred_no_enc = cat_optuna_no_enc.predict(X_val_no_enc)"
   ]
  },
  {
   "cell_type": "code",
   "execution_count": 113,
   "metadata": {},
   "outputs": [
    {
     "name": "stdout",
     "output_type": "stream",
     "text": [
      "[[   937    262     27    741]\n",
      " [   223   1057    188   1554]\n",
      " [    29    254    505   2257]\n",
      " [    66    162    262 774962]]\n"
     ]
    },
    {
     "data": {
      "text/plain": [
       "0.2931722196152041"
      ]
     },
     "execution_count": 113,
     "metadata": {},
     "output_type": "execute_result"
    }
   ],
   "source": [
    "cat_cm = confusion_matrix(y_val, y_val_pred_no_enc)\n",
    "print(cat_cm)\n",
    "\n",
    "csi_cat = csi_index(y_val, y_val_pred_no_enc)\n",
    "csi_cat"
   ]
  },
  {
   "cell_type": "code",
   "execution_count": 191,
   "metadata": {},
   "outputs": [],
   "source": [
    "# y_val_pred_no_enc = cat_optuna_no_enc.predict(X_val)"
   ]
  },
  {
   "cell_type": "code",
   "execution_count": 114,
   "metadata": {},
   "outputs": [],
   "source": [
    "# cat_cm_no_enc = confusion_matrix(y_val, y_val_pred_no_enc)\n",
    "# print(cat_cm_no_enc)\n",
    "\n",
    "# csi_cat_no_enc = csi_index(y_val, y_val_pred_no_enc)\n",
    "# # csi_cat_no_enc"
   ]
  },
  {
   "cell_type": "code",
   "execution_count": 116,
   "metadata": {},
   "outputs": [
    {
     "data": {
      "image/png": "[encoded data removed]",
      "text/plain": [
       "<Figure size 1000x500 with 2 Axes>"
      ]
     },
     "metadata": {
      "image/png": {
       "height": 469,
       "width": 803
      }
     },
     "output_type": "display_data"
    }
   ],
   "source": [
    "# Confusion Matrix 시각화\n",
    "\n",
    "plt.figure(figsize=(10,5))\n",
    "\n",
    "# target 컬럼 값들 unique_value에 선언\n",
    "unique_value = np.unique(y_val_pred_no_enc, return_counts = False)\n",
    "\n",
    "# Confusion Matrix에 label 표시하기 위해 \"class\" + value 합쳐준다\n",
    "unique_value_list = []\n",
    "for i, value in enumerate(unique_value):\n",
    "    unique_value_list.append(\"class \" + str(int(value)))\n",
    "\n",
    "\n",
    "pred_labels = unique_value_list\n",
    "sns.heatmap(cat_cm, \n",
    "            annot=True, \n",
    "            fmt=\"d\", \n",
    "            cmap=\"Blues\", \n",
    "            xticklabels = pred_labels, \n",
    "            yticklabels = pred_labels)\n",
    "\n",
    "plt.title(f'Confusion Matrix with CatBoost (No Encoded, CSI Index : {np.round(csi_cat, 4)})')\n",
    "plt.xlabel('Predicted Label')\n",
    "plt.ylabel('True Label')\n",
    "plt.show()"
   ]
  },
  {
   "cell_type": "code",
   "execution_count": null,
   "metadata": {},
   "outputs": [],
   "source": []
  },
  {
   "cell_type": "markdown",
   "metadata": {},
   "source": [
    "#### 3-4-4. 모델 저장 (pickle)"
   ]
  },
  {
   "cell_type": "code",
   "execution_count": 117,
   "metadata": {},
   "outputs": [],
   "source": [
    "# 전처리 마친 데이터셋 저장할 경로 설정하는 함수\n",
    "\n",
    "def save_pickle_path(model_name):\n",
    "        \n",
    "    # 작업 디렉토리 origin_dir에 선언\n",
    "    origin_dir = os.getcwd()\n",
    "\n",
    "    # \"..\" : 상위 디렉토리로 이동\n",
    "    os.chdir(\"..\")\n",
    "\n",
    "    # pickle 저장 이름 설정\n",
    "    save_pickle = model_name + \".pkl\"\n",
    "    # 전처리 거친 데이터셋 저장 경로 설정\n",
    "    pickle_save_path = os.path.join(os.getcwd(), \"fog_data\", save_pickle)\n",
    "    \n",
    "    \n",
    "    # 운영체제가 윈도우일 경우, \"\\\\\"를 \"/\"로 바꿔줘야 한다\n",
    "    if os.name == \"nt\":\n",
    "        pickle_save_path = pickle_save_path.replace(\"\\\\\", \"/\")\n",
    "\n",
    "    # # origin_dir로 경로 다시 변경 (초기화)\n",
    "    os.chdir(origin_dir)\n",
    "\n",
    "    return pickle_save_path"
   ]
  },
  {
   "cell_type": "code",
   "execution_count": 104,
   "metadata": {},
   "outputs": [
    {
     "data": {
      "text/plain": [
       "'c:/Users/aryij/Documents/DataStudy/fog_data/cat_optuna.pkl'"
      ]
     },
     "execution_count": 104,
     "metadata": {},
     "output_type": "execute_result"
    }
   ],
   "source": [
    "save_pickle_path(\"cat_optuna\")"
   ]
  },
  {
   "cell_type": "code",
   "execution_count": 118,
   "metadata": {},
   "outputs": [
    {
     "data": {
      "text/plain": [
       "'c:/Users/aryij/Documents/DataStudy/fog_data/cat_optuna_no_enc.pkl'"
      ]
     },
     "execution_count": 118,
     "metadata": {},
     "output_type": "execute_result"
    }
   ],
   "source": [
    "save_pickle_path(\"cat_optuna_no_enc\")"
   ]
  },
  {
   "cell_type": "code",
   "execution_count": 105,
   "metadata": {},
   "outputs": [],
   "source": [
    "# 하이퍼파라미터 튜닝 거친 모델 pickle 저장\n",
    "with open(file=save_pickle_path(\"cat_optuna\"), mode='wb') as f:\n",
    "    pickle.dump(cat_optuna, f)"
   ]
  },
  {
   "cell_type": "code",
   "execution_count": 119,
   "metadata": {},
   "outputs": [],
   "source": [
    "# 하이퍼파라미터 튜닝 거친 모델 pickle 저장\n",
    "with open(file=save_pickle_path(\"cat_optuna_no_enc\"), mode='wb') as f:\n",
    "    pickle.dump(cat_optuna_no_enc, f)"
   ]
  },
  {
   "cell_type": "code",
   "execution_count": 107,
   "metadata": {},
   "outputs": [],
   "source": [
    "# pickle로 저장한 모델 불러오기\n",
    "with open(file=save_pickle_path(\"cat_optuna\"), mode=\"rb\") as f:\n",
    "    # loaded_model 이라는 이름에 모델 불러온다\n",
    "    loaded_model = pickle.load(f)"
   ]
  },
  {
   "cell_type": "code",
   "execution_count": 121,
   "metadata": {},
   "outputs": [
    {
     "data": {
      "text/html": [
       "<div>\n",
       "<style scoped>\n",
       "    .dataframe tbody tr th:only-of-type {\n",
       "        vertical-align: middle;\n",
       "    }\n",
       "\n",
       "    .dataframe tbody tr th {\n",
       "        vertical-align: top;\n",
       "    }\n",
       "\n",
       "    .dataframe thead th {\n",
       "        text-align: right;\n",
       "    }\n",
       "</style>\n",
       "<table border=\"1\" class=\"dataframe\">\n",
       "  <thead>\n",
       "    <tr style=\"text-align: right;\">\n",
       "      <th></th>\n",
       "      <th>month</th>\n",
       "      <th>time</th>\n",
       "      <th>stn_id</th>\n",
       "      <th>ta</th>\n",
       "      <th>ts</th>\n",
       "      <th>temp_diff</th>\n",
       "      <th>hm</th>\n",
       "      <th>re</th>\n",
       "      <th>ws10_deg</th>\n",
       "      <th>ws10_ms</th>\n",
       "      <th>sun10</th>\n",
       "      <th>dew_reached</th>\n",
       "    </tr>\n",
       "  </thead>\n",
       "  <tbody>\n",
       "    <tr>\n",
       "      <th>0</th>\n",
       "      <td>4</td>\n",
       "      <td>15</td>\n",
       "      <td>B</td>\n",
       "      <td>10.3</td>\n",
       "      <td>13.8</td>\n",
       "      <td>-3.5</td>\n",
       "      <td>59.3</td>\n",
       "      <td>0</td>\n",
       "      <td>112.4</td>\n",
       "      <td>2.2</td>\n",
       "      <td>0.14</td>\n",
       "      <td>0</td>\n",
       "    </tr>\n",
       "    <tr>\n",
       "      <th>1</th>\n",
       "      <td>4</td>\n",
       "      <td>9</td>\n",
       "      <td>B</td>\n",
       "      <td>10.1</td>\n",
       "      <td>18.3</td>\n",
       "      <td>-8.2</td>\n",
       "      <td>54.4</td>\n",
       "      <td>0</td>\n",
       "      <td>273.6</td>\n",
       "      <td>4.8</td>\n",
       "      <td>0.31</td>\n",
       "      <td>0</td>\n",
       "    </tr>\n",
       "    <tr>\n",
       "      <th>2</th>\n",
       "      <td>3</td>\n",
       "      <td>10</td>\n",
       "      <td>D</td>\n",
       "      <td>18.1</td>\n",
       "      <td>20.1</td>\n",
       "      <td>-2.0</td>\n",
       "      <td>47.0</td>\n",
       "      <td>0</td>\n",
       "      <td>158.2</td>\n",
       "      <td>3.1</td>\n",
       "      <td>0.22</td>\n",
       "      <td>0</td>\n",
       "    </tr>\n",
       "    <tr>\n",
       "      <th>3</th>\n",
       "      <td>7</td>\n",
       "      <td>23</td>\n",
       "      <td>A</td>\n",
       "      <td>24.0</td>\n",
       "      <td>24.3</td>\n",
       "      <td>-0.3</td>\n",
       "      <td>81.8</td>\n",
       "      <td>0</td>\n",
       "      <td>238.0</td>\n",
       "      <td>0.9</td>\n",
       "      <td>0.00</td>\n",
       "      <td>0</td>\n",
       "    </tr>\n",
       "    <tr>\n",
       "      <th>4</th>\n",
       "      <td>1</td>\n",
       "      <td>0</td>\n",
       "      <td>D</td>\n",
       "      <td>-3.8</td>\n",
       "      <td>-3.0</td>\n",
       "      <td>-0.8</td>\n",
       "      <td>81.6</td>\n",
       "      <td>0</td>\n",
       "      <td>303.7</td>\n",
       "      <td>1.0</td>\n",
       "      <td>0.00</td>\n",
       "      <td>0</td>\n",
       "    </tr>\n",
       "    <tr>\n",
       "      <th>...</th>\n",
       "      <td>...</td>\n",
       "      <td>...</td>\n",
       "      <td>...</td>\n",
       "      <td>...</td>\n",
       "      <td>...</td>\n",
       "      <td>...</td>\n",
       "      <td>...</td>\n",
       "      <td>...</td>\n",
       "      <td>...</td>\n",
       "      <td>...</td>\n",
       "      <td>...</td>\n",
       "      <td>...</td>\n",
       "    </tr>\n",
       "    <tr>\n",
       "      <th>2210951</th>\n",
       "      <td>3</td>\n",
       "      <td>15</td>\n",
       "      <td>A</td>\n",
       "      <td>3.7</td>\n",
       "      <td>9.2</td>\n",
       "      <td>-5.5</td>\n",
       "      <td>50.9</td>\n",
       "      <td>0</td>\n",
       "      <td>291.9</td>\n",
       "      <td>4.7</td>\n",
       "      <td>0.06</td>\n",
       "      <td>0</td>\n",
       "    </tr>\n",
       "    <tr>\n",
       "      <th>2210952</th>\n",
       "      <td>3</td>\n",
       "      <td>0</td>\n",
       "      <td>A</td>\n",
       "      <td>10.4</td>\n",
       "      <td>7.2</td>\n",
       "      <td>3.2</td>\n",
       "      <td>64.0</td>\n",
       "      <td>0</td>\n",
       "      <td>120.0</td>\n",
       "      <td>1.2</td>\n",
       "      <td>0.00</td>\n",
       "      <td>0</td>\n",
       "    </tr>\n",
       "    <tr>\n",
       "      <th>2210953</th>\n",
       "      <td>8</td>\n",
       "      <td>2</td>\n",
       "      <td>D</td>\n",
       "      <td>25.4</td>\n",
       "      <td>25.3</td>\n",
       "      <td>0.1</td>\n",
       "      <td>92.7</td>\n",
       "      <td>0</td>\n",
       "      <td>239.4</td>\n",
       "      <td>3.4</td>\n",
       "      <td>0.00</td>\n",
       "      <td>0</td>\n",
       "    </tr>\n",
       "    <tr>\n",
       "      <th>2210954</th>\n",
       "      <td>11</td>\n",
       "      <td>21</td>\n",
       "      <td>A</td>\n",
       "      <td>11.4</td>\n",
       "      <td>5.5</td>\n",
       "      <td>5.9</td>\n",
       "      <td>83.4</td>\n",
       "      <td>0</td>\n",
       "      <td>184.6</td>\n",
       "      <td>0.7</td>\n",
       "      <td>0.00</td>\n",
       "      <td>1</td>\n",
       "    </tr>\n",
       "    <tr>\n",
       "      <th>2210955</th>\n",
       "      <td>9</td>\n",
       "      <td>13</td>\n",
       "      <td>B</td>\n",
       "      <td>22.1</td>\n",
       "      <td>29.5</td>\n",
       "      <td>-7.4</td>\n",
       "      <td>63.1</td>\n",
       "      <td>0</td>\n",
       "      <td>80.4</td>\n",
       "      <td>1.9</td>\n",
       "      <td>0.25</td>\n",
       "      <td>0</td>\n",
       "    </tr>\n",
       "  </tbody>\n",
       "</table>\n",
       "<p>2210956 rows × 12 columns</p>\n",
       "</div>"
      ],
      "text/plain": [
       "         month  time stn_id    ta    ts  temp_diff    hm  re  ws10_deg  \\\n",
       "0            4    15      B  10.3  13.8       -3.5  59.3   0     112.4   \n",
       "1            4     9      B  10.1  18.3       -8.2  54.4   0     273.6   \n",
       "2            3    10      D  18.1  20.1       -2.0  47.0   0     158.2   \n",
       "3            7    23      A  24.0  24.3       -0.3  81.8   0     238.0   \n",
       "4            1     0      D  -3.8  -3.0       -0.8  81.6   0     303.7   \n",
       "...        ...   ...    ...   ...   ...        ...   ...  ..       ...   \n",
       "2210951      3    15      A   3.7   9.2       -5.5  50.9   0     291.9   \n",
       "2210952      3     0      A  10.4   7.2        3.2  64.0   0     120.0   \n",
       "2210953      8     2      D  25.4  25.3        0.1  92.7   0     239.4   \n",
       "2210954     11    21      A  11.4   5.5        5.9  83.4   0     184.6   \n",
       "2210955      9    13      B  22.1  29.5       -7.4  63.1   0      80.4   \n",
       "\n",
       "         ws10_ms  sun10  dew_reached  \n",
       "0            2.2   0.14            0  \n",
       "1            4.8   0.31            0  \n",
       "2            3.1   0.22            0  \n",
       "3            0.9   0.00            0  \n",
       "4            1.0   0.00            0  \n",
       "...          ...    ...          ...  \n",
       "2210951      4.7   0.06            0  \n",
       "2210952      1.2   0.00            0  \n",
       "2210953      3.4   0.00            0  \n",
       "2210954      0.7   0.00            1  \n",
       "2210955      1.9   0.25            0  \n",
       "\n",
       "[2210956 rows x 12 columns]"
      ]
     },
     "execution_count": 121,
     "metadata": {},
     "output_type": "execute_result"
    }
   ],
   "source": [
    "X_train_no_enc"
   ]
  },
  {
   "cell_type": "code",
   "execution_count": 120,
   "metadata": {},
   "outputs": [
    {
     "data": {
      "text/html": [
       "<div>\n",
       "<style scoped>\n",
       "    .dataframe tbody tr th:only-of-type {\n",
       "        vertical-align: middle;\n",
       "    }\n",
       "\n",
       "    .dataframe tbody tr th {\n",
       "        vertical-align: top;\n",
       "    }\n",
       "\n",
       "    .dataframe thead th {\n",
       "        text-align: right;\n",
       "    }\n",
       "</style>\n",
       "<table border=\"1\" class=\"dataframe\">\n",
       "  <thead>\n",
       "    <tr style=\"text-align: right;\">\n",
       "      <th></th>\n",
       "      <th>month</th>\n",
       "      <th>time</th>\n",
       "      <th>stn_id</th>\n",
       "      <th>ta</th>\n",
       "      <th>ts</th>\n",
       "      <th>temp_diff</th>\n",
       "      <th>hm</th>\n",
       "      <th>re</th>\n",
       "      <th>ws10_deg</th>\n",
       "      <th>ws10_ms</th>\n",
       "      <th>sun10</th>\n",
       "      <th>dew_reached</th>\n",
       "    </tr>\n",
       "  </thead>\n",
       "  <tbody>\n",
       "    <tr>\n",
       "      <th>0</th>\n",
       "      <td>1</td>\n",
       "      <td>0</td>\n",
       "      <td>A</td>\n",
       "      <td>-2.5</td>\n",
       "      <td>-1.6</td>\n",
       "      <td>-0.9</td>\n",
       "      <td>87.5</td>\n",
       "      <td>0</td>\n",
       "      <td>329.5</td>\n",
       "      <td>0.6</td>\n",
       "      <td>0.0</td>\n",
       "      <td>0</td>\n",
       "    </tr>\n",
       "    <tr>\n",
       "      <th>1</th>\n",
       "      <td>1</td>\n",
       "      <td>0</td>\n",
       "      <td>A</td>\n",
       "      <td>-2.5</td>\n",
       "      <td>-1.6</td>\n",
       "      <td>-0.9</td>\n",
       "      <td>88.2</td>\n",
       "      <td>0</td>\n",
       "      <td>321.8</td>\n",
       "      <td>1.2</td>\n",
       "      <td>0.0</td>\n",
       "      <td>0</td>\n",
       "    </tr>\n",
       "    <tr>\n",
       "      <th>2</th>\n",
       "      <td>1</td>\n",
       "      <td>0</td>\n",
       "      <td>A</td>\n",
       "      <td>-2.5</td>\n",
       "      <td>-1.7</td>\n",
       "      <td>-0.8</td>\n",
       "      <td>88.6</td>\n",
       "      <td>0</td>\n",
       "      <td>0.4</td>\n",
       "      <td>0.4</td>\n",
       "      <td>0.0</td>\n",
       "      <td>0</td>\n",
       "    </tr>\n",
       "    <tr>\n",
       "      <th>3</th>\n",
       "      <td>1</td>\n",
       "      <td>0</td>\n",
       "      <td>A</td>\n",
       "      <td>-2.6</td>\n",
       "      <td>-1.6</td>\n",
       "      <td>-1.0</td>\n",
       "      <td>88.7</td>\n",
       "      <td>0</td>\n",
       "      <td>323.6</td>\n",
       "      <td>0.7</td>\n",
       "      <td>0.0</td>\n",
       "      <td>0</td>\n",
       "    </tr>\n",
       "    <tr>\n",
       "      <th>4</th>\n",
       "      <td>1</td>\n",
       "      <td>0</td>\n",
       "      <td>A</td>\n",
       "      <td>-2.6</td>\n",
       "      <td>-1.6</td>\n",
       "      <td>-1.0</td>\n",
       "      <td>89.0</td>\n",
       "      <td>0</td>\n",
       "      <td>208.4</td>\n",
       "      <td>0.2</td>\n",
       "      <td>0.0</td>\n",
       "      <td>0</td>\n",
       "    </tr>\n",
       "    <tr>\n",
       "      <th>...</th>\n",
       "      <td>...</td>\n",
       "      <td>...</td>\n",
       "      <td>...</td>\n",
       "      <td>...</td>\n",
       "      <td>...</td>\n",
       "      <td>...</td>\n",
       "      <td>...</td>\n",
       "      <td>...</td>\n",
       "      <td>...</td>\n",
       "      <td>...</td>\n",
       "      <td>...</td>\n",
       "      <td>...</td>\n",
       "    </tr>\n",
       "    <tr>\n",
       "      <th>262795</th>\n",
       "      <td>12</td>\n",
       "      <td>23</td>\n",
       "      <td>E</td>\n",
       "      <td>4.5</td>\n",
       "      <td>1.9</td>\n",
       "      <td>2.6</td>\n",
       "      <td>71.3</td>\n",
       "      <td>0</td>\n",
       "      <td>338.8</td>\n",
       "      <td>6.1</td>\n",
       "      <td>0.0</td>\n",
       "      <td>0</td>\n",
       "    </tr>\n",
       "    <tr>\n",
       "      <th>262796</th>\n",
       "      <td>12</td>\n",
       "      <td>23</td>\n",
       "      <td>E</td>\n",
       "      <td>4.6</td>\n",
       "      <td>1.9</td>\n",
       "      <td>2.7</td>\n",
       "      <td>71.4</td>\n",
       "      <td>0</td>\n",
       "      <td>335.2</td>\n",
       "      <td>5.8</td>\n",
       "      <td>0.0</td>\n",
       "      <td>0</td>\n",
       "    </tr>\n",
       "    <tr>\n",
       "      <th>262797</th>\n",
       "      <td>12</td>\n",
       "      <td>23</td>\n",
       "      <td>E</td>\n",
       "      <td>4.5</td>\n",
       "      <td>1.8</td>\n",
       "      <td>2.7</td>\n",
       "      <td>72.1</td>\n",
       "      <td>0</td>\n",
       "      <td>337.1</td>\n",
       "      <td>5.3</td>\n",
       "      <td>0.0</td>\n",
       "      <td>0</td>\n",
       "    </tr>\n",
       "    <tr>\n",
       "      <th>262798</th>\n",
       "      <td>12</td>\n",
       "      <td>23</td>\n",
       "      <td>E</td>\n",
       "      <td>4.3</td>\n",
       "      <td>1.4</td>\n",
       "      <td>2.9</td>\n",
       "      <td>72.5</td>\n",
       "      <td>0</td>\n",
       "      <td>322.0</td>\n",
       "      <td>3.7</td>\n",
       "      <td>0.0</td>\n",
       "      <td>0</td>\n",
       "    </tr>\n",
       "    <tr>\n",
       "      <th>262799</th>\n",
       "      <td>12</td>\n",
       "      <td>23</td>\n",
       "      <td>E</td>\n",
       "      <td>4.3</td>\n",
       "      <td>1.3</td>\n",
       "      <td>3.0</td>\n",
       "      <td>73.7</td>\n",
       "      <td>0</td>\n",
       "      <td>33.6</td>\n",
       "      <td>2.8</td>\n",
       "      <td>0.0</td>\n",
       "      <td>0</td>\n",
       "    </tr>\n",
       "  </tbody>\n",
       "</table>\n",
       "<p>262800 rows × 12 columns</p>\n",
       "</div>"
      ],
      "text/plain": [
       "        month  time stn_id   ta   ts  temp_diff    hm  re  ws10_deg  ws10_ms  \\\n",
       "0           1     0      A -2.5 -1.6       -0.9  87.5   0     329.5      0.6   \n",
       "1           1     0      A -2.5 -1.6       -0.9  88.2   0     321.8      1.2   \n",
       "2           1     0      A -2.5 -1.7       -0.8  88.6   0       0.4      0.4   \n",
       "3           1     0      A -2.6 -1.6       -1.0  88.7   0     323.6      0.7   \n",
       "4           1     0      A -2.6 -1.6       -1.0  89.0   0     208.4      0.2   \n",
       "...       ...   ...    ...  ...  ...        ...   ...  ..       ...      ...   \n",
       "262795     12    23      E  4.5  1.9        2.6  71.3   0     338.8      6.1   \n",
       "262796     12    23      E  4.6  1.9        2.7  71.4   0     335.2      5.8   \n",
       "262797     12    23      E  4.5  1.8        2.7  72.1   0     337.1      5.3   \n",
       "262798     12    23      E  4.3  1.4        2.9  72.5   0     322.0      3.7   \n",
       "262799     12    23      E  4.3  1.3        3.0  73.7   0      33.6      2.8   \n",
       "\n",
       "        sun10  dew_reached  \n",
       "0         0.0            0  \n",
       "1         0.0            0  \n",
       "2         0.0            0  \n",
       "3         0.0            0  \n",
       "4         0.0            0  \n",
       "...       ...          ...  \n",
       "262795    0.0            0  \n",
       "262796    0.0            0  \n",
       "262797    0.0            0  \n",
       "262798    0.0            0  \n",
       "262799    0.0            0  \n",
       "\n",
       "[262800 rows x 12 columns]"
      ]
     },
     "execution_count": 120,
     "metadata": {},
     "output_type": "execute_result"
    }
   ],
   "source": [
    "X_test"
   ]
  },
  {
   "cell_type": "code",
   "execution_count": 122,
   "metadata": {},
   "outputs": [],
   "source": [
    "y_test_pred = cat_optuna_no_enc.predict(X_test)"
   ]
  },
  {
   "cell_type": "code",
   "execution_count": 132,
   "metadata": {},
   "outputs": [],
   "source": [
    "y_test_pred_df = pd.DataFrame(y_test_pred)"
   ]
  },
  {
   "cell_type": "code",
   "execution_count": 135,
   "metadata": {},
   "outputs": [
    {
     "ename": "PermissionError",
     "evalue": "[Errno 13] Permission denied: 'C:/Users/aryij/Documents/DataStudy/weather-contest/data'",
     "output_type": "error",
     "traceback": [
      "\u001b[1;31m---------------------------------------------------------------------------\u001b[0m",
      "\u001b[1;31mPermissionError\u001b[0m                           Traceback (most recent call last)",
      "Cell \u001b[1;32mIn[135], line 1\u001b[0m\n\u001b[1;32m----> 1\u001b[0m y_test_pred_df\u001b[38;5;241m.\u001b[39mto_csv(\u001b[38;5;124m\"\u001b[39m\u001b[38;5;124mC:/Users/aryij/Documents/DataStudy/weather-contest/data\u001b[39m\u001b[38;5;124m\"\u001b[39m)\n",
      "File \u001b[1;32mc:\\Users\\aryij\\anaconda3\\envs\\weather2\\Lib\\site-packages\\pandas\\util\\_decorators.py:333\u001b[0m, in \u001b[0;36mdeprecate_nonkeyword_arguments.<locals>.decorate.<locals>.wrapper\u001b[1;34m(*args, **kwargs)\u001b[0m\n\u001b[0;32m    327\u001b[0m \u001b[38;5;28;01mif\u001b[39;00m \u001b[38;5;28mlen\u001b[39m(args) \u001b[38;5;241m>\u001b[39m num_allow_args:\n\u001b[0;32m    328\u001b[0m     warnings\u001b[38;5;241m.\u001b[39mwarn(\n\u001b[0;32m    329\u001b[0m         msg\u001b[38;5;241m.\u001b[39mformat(arguments\u001b[38;5;241m=\u001b[39m_format_argument_list(allow_args)),\n\u001b[0;32m    330\u001b[0m         \u001b[38;5;167;01mFutureWarning\u001b[39;00m,\n\u001b[0;32m    331\u001b[0m         stacklevel\u001b[38;5;241m=\u001b[39mfind_stack_level(),\n\u001b[0;32m    332\u001b[0m     )\n\u001b[1;32m--> 333\u001b[0m \u001b[38;5;28;01mreturn\u001b[39;00m func(\u001b[38;5;241m*\u001b[39margs, \u001b[38;5;241m*\u001b[39m\u001b[38;5;241m*\u001b[39mkwargs)\n",
      "File \u001b[1;32mc:\\Users\\aryij\\anaconda3\\envs\\weather2\\Lib\\site-packages\\pandas\\core\\generic.py:3967\u001b[0m, in \u001b[0;36mNDFrame.to_csv\u001b[1;34m(self, path_or_buf, sep, na_rep, float_format, columns, header, index, index_label, mode, encoding, compression, quoting, quotechar, lineterminator, chunksize, date_format, doublequote, escapechar, decimal, errors, storage_options)\u001b[0m\n\u001b[0;32m   3956\u001b[0m df \u001b[38;5;241m=\u001b[39m \u001b[38;5;28mself\u001b[39m \u001b[38;5;28;01mif\u001b[39;00m \u001b[38;5;28misinstance\u001b[39m(\u001b[38;5;28mself\u001b[39m, ABCDataFrame) \u001b[38;5;28;01melse\u001b[39;00m \u001b[38;5;28mself\u001b[39m\u001b[38;5;241m.\u001b[39mto_frame()\n\u001b[0;32m   3958\u001b[0m formatter \u001b[38;5;241m=\u001b[39m DataFrameFormatter(\n\u001b[0;32m   3959\u001b[0m     frame\u001b[38;5;241m=\u001b[39mdf,\n\u001b[0;32m   3960\u001b[0m     header\u001b[38;5;241m=\u001b[39mheader,\n\u001b[1;32m   (...)\u001b[0m\n\u001b[0;32m   3964\u001b[0m     decimal\u001b[38;5;241m=\u001b[39mdecimal,\n\u001b[0;32m   3965\u001b[0m )\n\u001b[1;32m-> 3967\u001b[0m \u001b[38;5;28;01mreturn\u001b[39;00m DataFrameRenderer(formatter)\u001b[38;5;241m.\u001b[39mto_csv(\n\u001b[0;32m   3968\u001b[0m     path_or_buf,\n\u001b[0;32m   3969\u001b[0m     lineterminator\u001b[38;5;241m=\u001b[39mlineterminator,\n\u001b[0;32m   3970\u001b[0m     sep\u001b[38;5;241m=\u001b[39msep,\n\u001b[0;32m   3971\u001b[0m     encoding\u001b[38;5;241m=\u001b[39mencoding,\n\u001b[0;32m   3972\u001b[0m     errors\u001b[38;5;241m=\u001b[39merrors,\n\u001b[0;32m   3973\u001b[0m     compression\u001b[38;5;241m=\u001b[39mcompression,\n\u001b[0;32m   3974\u001b[0m     quoting\u001b[38;5;241m=\u001b[39mquoting,\n\u001b[0;32m   3975\u001b[0m     columns\u001b[38;5;241m=\u001b[39mcolumns,\n\u001b[0;32m   3976\u001b[0m     index_label\u001b[38;5;241m=\u001b[39mindex_label,\n\u001b[0;32m   3977\u001b[0m     mode\u001b[38;5;241m=\u001b[39mmode,\n\u001b[0;32m   3978\u001b[0m     chunksize\u001b[38;5;241m=\u001b[39mchunksize,\n\u001b[0;32m   3979\u001b[0m     quotechar\u001b[38;5;241m=\u001b[39mquotechar,\n\u001b[0;32m   3980\u001b[0m     date_format\u001b[38;5;241m=\u001b[39mdate_format,\n\u001b[0;32m   3981\u001b[0m     doublequote\u001b[38;5;241m=\u001b[39mdoublequote,\n\u001b[0;32m   3982\u001b[0m     escapechar\u001b[38;5;241m=\u001b[39mescapechar,\n\u001b[0;32m   3983\u001b[0m     storage_options\u001b[38;5;241m=\u001b[39mstorage_options,\n\u001b[0;32m   3984\u001b[0m )\n",
      "File \u001b[1;32mc:\\Users\\aryij\\anaconda3\\envs\\weather2\\Lib\\site-packages\\pandas\\io\\formats\\format.py:1014\u001b[0m, in \u001b[0;36mDataFrameRenderer.to_csv\u001b[1;34m(self, path_or_buf, encoding, sep, columns, index_label, mode, compression, quoting, quotechar, lineterminator, chunksize, date_format, doublequote, escapechar, errors, storage_options)\u001b[0m\n\u001b[0;32m    993\u001b[0m     created_buffer \u001b[38;5;241m=\u001b[39m \u001b[38;5;28;01mFalse\u001b[39;00m\n\u001b[0;32m    995\u001b[0m csv_formatter \u001b[38;5;241m=\u001b[39m CSVFormatter(\n\u001b[0;32m    996\u001b[0m     path_or_buf\u001b[38;5;241m=\u001b[39mpath_or_buf,\n\u001b[0;32m    997\u001b[0m     lineterminator\u001b[38;5;241m=\u001b[39mlineterminator,\n\u001b[1;32m   (...)\u001b[0m\n\u001b[0;32m   1012\u001b[0m     formatter\u001b[38;5;241m=\u001b[39m\u001b[38;5;28mself\u001b[39m\u001b[38;5;241m.\u001b[39mfmt,\n\u001b[0;32m   1013\u001b[0m )\n\u001b[1;32m-> 1014\u001b[0m csv_formatter\u001b[38;5;241m.\u001b[39msave()\n\u001b[0;32m   1016\u001b[0m \u001b[38;5;28;01mif\u001b[39;00m created_buffer:\n\u001b[0;32m   1017\u001b[0m     \u001b[38;5;28;01massert\u001b[39;00m \u001b[38;5;28misinstance\u001b[39m(path_or_buf, StringIO)\n",
      "File \u001b[1;32mc:\\Users\\aryij\\anaconda3\\envs\\weather2\\Lib\\site-packages\\pandas\\io\\formats\\csvs.py:251\u001b[0m, in \u001b[0;36mCSVFormatter.save\u001b[1;34m(self)\u001b[0m\n\u001b[0;32m    247\u001b[0m \u001b[38;5;250m\u001b[39m\u001b[38;5;124;03m\"\"\"\u001b[39;00m\n\u001b[0;32m    248\u001b[0m \u001b[38;5;124;03mCreate the writer & save.\u001b[39;00m\n\u001b[0;32m    249\u001b[0m \u001b[38;5;124;03m\"\"\"\u001b[39;00m\n\u001b[0;32m    250\u001b[0m \u001b[38;5;66;03m# apply compression and byte/text conversion\u001b[39;00m\n\u001b[1;32m--> 251\u001b[0m \u001b[38;5;28;01mwith\u001b[39;00m get_handle(\n\u001b[0;32m    252\u001b[0m     \u001b[38;5;28mself\u001b[39m\u001b[38;5;241m.\u001b[39mfilepath_or_buffer,\n\u001b[0;32m    253\u001b[0m     \u001b[38;5;28mself\u001b[39m\u001b[38;5;241m.\u001b[39mmode,\n\u001b[0;32m    254\u001b[0m     encoding\u001b[38;5;241m=\u001b[39m\u001b[38;5;28mself\u001b[39m\u001b[38;5;241m.\u001b[39mencoding,\n\u001b[0;32m    255\u001b[0m     errors\u001b[38;5;241m=\u001b[39m\u001b[38;5;28mself\u001b[39m\u001b[38;5;241m.\u001b[39merrors,\n\u001b[0;32m    256\u001b[0m     compression\u001b[38;5;241m=\u001b[39m\u001b[38;5;28mself\u001b[39m\u001b[38;5;241m.\u001b[39mcompression,\n\u001b[0;32m    257\u001b[0m     storage_options\u001b[38;5;241m=\u001b[39m\u001b[38;5;28mself\u001b[39m\u001b[38;5;241m.\u001b[39mstorage_options,\n\u001b[0;32m    258\u001b[0m ) \u001b[38;5;28;01mas\u001b[39;00m handles:\n\u001b[0;32m    259\u001b[0m     \u001b[38;5;66;03m# Note: self.encoding is irrelevant here\u001b[39;00m\n\u001b[0;32m    260\u001b[0m     \u001b[38;5;28mself\u001b[39m\u001b[38;5;241m.\u001b[39mwriter \u001b[38;5;241m=\u001b[39m csvlib\u001b[38;5;241m.\u001b[39mwriter(\n\u001b[0;32m    261\u001b[0m         handles\u001b[38;5;241m.\u001b[39mhandle,\n\u001b[0;32m    262\u001b[0m         lineterminator\u001b[38;5;241m=\u001b[39m\u001b[38;5;28mself\u001b[39m\u001b[38;5;241m.\u001b[39mlineterminator,\n\u001b[1;32m   (...)\u001b[0m\n\u001b[0;32m    267\u001b[0m         quotechar\u001b[38;5;241m=\u001b[39m\u001b[38;5;28mself\u001b[39m\u001b[38;5;241m.\u001b[39mquotechar,\n\u001b[0;32m    268\u001b[0m     )\n\u001b[0;32m    270\u001b[0m     \u001b[38;5;28mself\u001b[39m\u001b[38;5;241m.\u001b[39m_save()\n",
      "File \u001b[1;32mc:\\Users\\aryij\\anaconda3\\envs\\weather2\\Lib\\site-packages\\pandas\\io\\common.py:873\u001b[0m, in \u001b[0;36mget_handle\u001b[1;34m(path_or_buf, mode, encoding, compression, memory_map, is_text, errors, storage_options)\u001b[0m\n\u001b[0;32m    868\u001b[0m \u001b[38;5;28;01melif\u001b[39;00m \u001b[38;5;28misinstance\u001b[39m(handle, \u001b[38;5;28mstr\u001b[39m):\n\u001b[0;32m    869\u001b[0m     \u001b[38;5;66;03m# Check whether the filename is to be opened in binary mode.\u001b[39;00m\n\u001b[0;32m    870\u001b[0m     \u001b[38;5;66;03m# Binary mode does not support 'encoding' and 'newline'.\u001b[39;00m\n\u001b[0;32m    871\u001b[0m     \u001b[38;5;28;01mif\u001b[39;00m ioargs\u001b[38;5;241m.\u001b[39mencoding \u001b[38;5;129;01mand\u001b[39;00m \u001b[38;5;124m\"\u001b[39m\u001b[38;5;124mb\u001b[39m\u001b[38;5;124m\"\u001b[39m \u001b[38;5;129;01mnot\u001b[39;00m \u001b[38;5;129;01min\u001b[39;00m ioargs\u001b[38;5;241m.\u001b[39mmode:\n\u001b[0;32m    872\u001b[0m         \u001b[38;5;66;03m# Encoding\u001b[39;00m\n\u001b[1;32m--> 873\u001b[0m         handle \u001b[38;5;241m=\u001b[39m \u001b[38;5;28mopen\u001b[39m(\n\u001b[0;32m    874\u001b[0m             handle,\n\u001b[0;32m    875\u001b[0m             ioargs\u001b[38;5;241m.\u001b[39mmode,\n\u001b[0;32m    876\u001b[0m             encoding\u001b[38;5;241m=\u001b[39mioargs\u001b[38;5;241m.\u001b[39mencoding,\n\u001b[0;32m    877\u001b[0m             errors\u001b[38;5;241m=\u001b[39merrors,\n\u001b[0;32m    878\u001b[0m             newline\u001b[38;5;241m=\u001b[39m\u001b[38;5;124m\"\u001b[39m\u001b[38;5;124m\"\u001b[39m,\n\u001b[0;32m    879\u001b[0m         )\n\u001b[0;32m    880\u001b[0m     \u001b[38;5;28;01melse\u001b[39;00m:\n\u001b[0;32m    881\u001b[0m         \u001b[38;5;66;03m# Binary mode\u001b[39;00m\n\u001b[0;32m    882\u001b[0m         handle \u001b[38;5;241m=\u001b[39m \u001b[38;5;28mopen\u001b[39m(handle, ioargs\u001b[38;5;241m.\u001b[39mmode)\n",
      "\u001b[1;31mPermissionError\u001b[0m: [Errno 13] Permission denied: 'C:/Users/aryij/Documents/DataStudy/weather-contest/data'"
     ]
    }
   ],
   "source": [
    "y_test_pred_df.to_csv(\"C:/Users/aryij/Documents/DataStudy/weather-contest/data\")"
   ]
  },
  {
   "cell_type": "code",
   "execution_count": null,
   "metadata": {},
   "outputs": [],
   "source": []
  },
  {
   "cell_type": "code",
   "execution_count": null,
   "metadata": {},
   "outputs": [],
   "source": []
  }
 ],
 "metadata": {
  "kernelspec": {
   "display_name": "weather2",
   "language": "python",
   "name": "python3"
  },
  "language_info": {
   "codemirror_mode": {
    "name": "ipython",
    "version": 3
   },
   "file_extension": ".py",
   "mimetype": "text/x-python",
   "name": "python",
   "nbconvert_exporter": "python",
   "pygments_lexer": "ipython3",
   "version": "3.12.3"
  }
 },
 "nbformat": 4,
 "nbformat_minor": 2
}
