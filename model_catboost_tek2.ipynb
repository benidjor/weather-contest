{
 "cells": [
  {
   "cell_type": "markdown",
   "metadata": {},
   "source": [
    "# 안개 발생 진단 분류 모델 생성"
   ]
  },
  {
   "cell_type": "markdown",
   "metadata": {},
   "source": [
    "## 1. 데이터 설명"
   ]
  },
  {
   "cell_type": "markdown",
   "metadata": {},
   "source": [
    "## 2. 데이터 불러오기"
   ]
  },
  {
   "cell_type": "code",
   "execution_count": 97,
   "metadata": {},
   "outputs": [],
   "source": [
    "import os\n",
    "\n",
    "import numpy as np\n",
    "import pandas as pd\n",
    "import matplotlib.pyplot as plt\n",
    "import seaborn as sns\n",
    "%matplotlib inline\n",
    "\n",
    "import pickle\n",
    "import optuna\n",
    "from optuna.samplers import TPESampler\n",
    "from optuna.integration import CatBoostPruningCallback\n",
    "\n",
    "from sklearn import metrics\n",
    "from sklearn.tree import DecisionTreeClassifier\n",
    "from sklearn.ensemble import RandomForestClassifier\n",
    "from xgboost import XGBClassifier\n",
    "from lightgbm import LGBMClassifier\n",
    "from catboost import Pool, CatBoostClassifier\n",
    "from sklearn.naive_bayes import GaussianNB\n",
    "\n",
    "from sklearn.model_selection import train_test_split\n",
    "\n",
    "# from sklearn.preprocessing import TargetEncoder\n",
    "from sklearn.preprocessing import LabelEncoder\n",
    "\n",
    "from sklearn.metrics import accuracy_score\n",
    "from sklearn.metrics import precision_score\n",
    "from sklearn.metrics import recall_score\n",
    "from sklearn.metrics import f1_score\n",
    "from sklearn.metrics import confusion_matrix\n",
    "from sklearn.metrics import classification_report\n",
    "from sklearn.metrics import make_scorer\n",
    "\n",
    "import warnings\n",
    "warnings.filterwarnings(action='ignore')\n",
    "\n",
    "pd.set_option(\"display.max_columns\", None)"
   ]
  },
  {
   "cell_type": "code",
   "execution_count": 98,
   "metadata": {},
   "outputs": [],
   "source": [
    "# def get_colab_path(train_dataset_name, test_dataset_name):\n",
    "\n",
    "#     fog_folder = \"drive/MyDrive/weather_bigdata/fog_data\"\n",
    "#     os.makedirs(fog_folder, exist_ok=True)\n",
    "\n",
    "#     # train/test 데이터셋 경로 잡아준다\n",
    "#     train_path = os.path.join(os.getcwd(), fog_folder, train_dataset_name)\n",
    "#     test_path = os.path.join(os.getcwd(), fog_folder, test_dataset_name)\n",
    "\n",
    "#     return train_path, test_path"
   ]
  },
  {
   "cell_type": "code",
   "execution_count": 275,
   "metadata": {},
   "outputs": [],
   "source": [
    "def get_local_path(train_dataset_name, val_dataset_name, test_dataset_name):\n",
    "\n",
    "    # 작업 디렉토리 origin_dir에 선언\n",
    "    origin_dir = os.getcwd()\n",
    "\n",
    "    # \"..\" : 상위 디렉토리로 이동\n",
    "    os.chdir(\"..\")\n",
    "\n",
    "    # 상위 디렉토리에 fog_data가 없다면 fog_data 폴더 생성\n",
    "    # (이미 폴더 있어도 exist_ok=True면 넘어감)\n",
    "    os.makedirs(\"fog_data\", exist_ok=True)\n",
    "\n",
    "    # train/test 데이터셋 경로 잡아준다\n",
    "    train_path = os.path.join(os.getcwd(), \"fog_data\", train_dataset_name)\n",
    "    val_path = os.path.join(os.getcwd(), \"fog_data\", val_dataset_name)\n",
    "    test_path = os.path.join(os.getcwd(), \"fog_data\", test_dataset_name)\n",
    "\n",
    "    # 운영체제가 윈도우일 경우, \"\\\\\"를 \"/\"로 바꿔줘야 한다\n",
    "    if os.name == \"nt\":\n",
    "        train_path = train_path.replace(\"\\\\\", \"/\")\n",
    "        val_path = val_path.replace(\"\\\\\", \"/\")\n",
    "        test_path = test_path.replace(\"\\\\\", \"/\")\n",
    "\n",
    "    # origin_dir로 경로 다시 변경 (초기화)\n",
    "    os.chdir(origin_dir)\n",
    "\n",
    "    return train_path, val_path, test_path"
   ]
  },
  {
   "cell_type": "code",
   "execution_count": 276,
   "metadata": {},
   "outputs": [],
   "source": [
    "# 전처리 중간에 nan 제거해주고 이상치 처리한 데이터프레임\n",
    "train_path, val_path, test_path = get_local_path(\n",
    "    # \"fog_train_merged_std.csv\",\n",
    "    # \"fog_val_merged_std.csv\", \n",
    "    # \"fog_test_merged_std.csv\"\n",
    "    \"fog_train_merged_month_stn_std.csv\",\n",
    "    \"fog_val_merged_month_stn_std.csv\",\n",
    "    \"fog_test_merged_month_stn_std.csv\"\n",
    "    )"
   ]
  },
  {
   "cell_type": "code",
   "execution_count": 277,
   "metadata": {},
   "outputs": [],
   "source": [
    "train_df = pd.read_csv(train_path)\n",
    "val_df = pd.read_csv(val_path)\n",
    "test_df = pd.read_csv(test_path)"
   ]
  },
  {
   "cell_type": "code",
   "execution_count": 278,
   "metadata": {},
   "outputs": [
    {
     "data": {
      "text/plain": [
       "((2350456, 21), (783486, 21), (262800, 19))"
      ]
     },
     "execution_count": 278,
     "metadata": {},
     "output_type": "execute_result"
    }
   ],
   "source": [
    "train_df.shape, val_df.shape, test_df.shape"
   ]
  },
  {
   "cell_type": "code",
   "execution_count": 279,
   "metadata": {},
   "outputs": [],
   "source": [
    "# def make_categorical(df, col_list):\n",
    "\n",
    "#     # class 컬럼 순서형 변수로 변경\n",
    "#     for column in col_list:\n",
    "#         if column in [\"year\", \"month\", \"day\", \"time\", \"minute\"]:\n",
    "#             df[column] = pd.Categorical(df[column],\n",
    "#                                         categories=np.unique(df[column]),\n",
    "#                                         ordered=True)\n",
    "#         else:\n",
    "#             df[column] = pd.Categorical(df[column],\n",
    "#                                         categories=np.unique(df[column]),\n",
    "#                                         ordered=False)\n",
    "#     return df"
   ]
  },
  {
   "cell_type": "code",
   "execution_count": 280,
   "metadata": {},
   "outputs": [],
   "source": [
    "def make_str(df, col_list):\n",
    "    for col in col_list:\n",
    "        df[col] = df[col].astype(\"str\")\n",
    "    return df"
   ]
  },
  {
   "cell_type": "code",
   "execution_count": 281,
   "metadata": {},
   "outputs": [],
   "source": [
    "# 범주형 변수들을 categorical_list에 선언\n",
    "\n",
    "# month도 순서가 있기 때문에 ordinal\n",
    "# https://wikidocs.net/161040#ordinal\n",
    "\n",
    "categorical_list = [\"year\", \"month\", \"day\", \"time\", \"minute\", \"stn_id\", \"re\", \"is_fog\", \"dew_reached\", \"ws10_dir\", \"class\"]\n",
    "train_df = make_str(train_df, categorical_list)\n",
    "val_df = make_str(val_df, categorical_list)\n",
    "\n",
    "# test 데이터셋에는 class 컬럼이 없기 때문에, class 컬럼을 삭제한다\n",
    "categorical_list.pop()\n",
    "test_df = make_str(test_df, categorical_list)"
   ]
  },
  {
   "cell_type": "markdown",
   "metadata": {},
   "source": [
    "## 3. 모델링"
   ]
  },
  {
   "cell_type": "markdown",
   "metadata": {},
   "source": [
    "### 3-1. 데이터 분리"
   ]
  },
  {
   "cell_type": "code",
   "execution_count": 282,
   "metadata": {},
   "outputs": [],
   "source": [
    "# sun10_cond = (train_df[\"sun10\"] >= 0.7)\n",
    "# train_df.loc[sun10_cond, \"sun10\"] = 100"
   ]
  },
  {
   "cell_type": "code",
   "execution_count": 324,
   "metadata": {},
   "outputs": [],
   "source": [
    "# target 컬럼\n",
    "target = \"class\"\n",
    "\n",
    "# # 모델 생성시 사용할 컬럼 지정\n",
    "# used_cols = [\"month\", \"time\", \"stn_id\", \"ta\", \"ts\", \"temp_diff\", \"hm\", \n",
    "#              \"re\", \"ws10_ms\", \"sun10\", \"dew_reached\", \"ws10_deg\"]\n",
    "\n",
    "# 8방위 사용\n",
    "used_cols = [\"month\", \"time\", \"stn_id\", \"ta\", \"ts\", \"temp_diff\", \"hm\", \n",
    "             \"re\", \"ws10_ms\", \"sun10\", \"dew_reached\",  \"t_td\", \"ws10_dir\"]\n",
    "\n",
    "# dew_reached 제거, 풍향 제거\n",
    "# used_cols = [\"month\", \"time\", \"stn_id\", \"ta\", \"ts\", \"temp_diff\", \"hm\", \n",
    "#              \"re\", \"ws10_ms\", \"sun10\"]\n",
    "\n",
    "# 풍향 제거\n",
    "# used_cols = [\"month\", \"time\", \"stn_id\", \"ta\", \"ts\", \"temp_diff\", \"hm\", \n",
    "#              \"re\", \"ws10_ms\", \"sun10\", \"dew_reached\"]\n",
    "\n",
    "X_train = train_df[used_cols]\n",
    "y_train = train_df[target]\n",
    "\n",
    "X_val = val_df[used_cols]\n",
    "y_val = val_df[target]\n",
    "\n",
    "X_test = test_df[used_cols]"
   ]
  },
  {
   "cell_type": "code",
   "execution_count": 325,
   "metadata": {},
   "outputs": [
    {
     "data": {
      "text/html": [
       "<div>\n",
       "<style scoped>\n",
       "    .dataframe tbody tr th:only-of-type {\n",
       "        vertical-align: middle;\n",
       "    }\n",
       "\n",
       "    .dataframe tbody tr th {\n",
       "        vertical-align: top;\n",
       "    }\n",
       "\n",
       "    .dataframe thead th {\n",
       "        text-align: right;\n",
       "    }\n",
       "</style>\n",
       "<table border=\"1\" class=\"dataframe\">\n",
       "  <thead>\n",
       "    <tr style=\"text-align: right;\">\n",
       "      <th></th>\n",
       "      <th>month</th>\n",
       "      <th>time</th>\n",
       "      <th>stn_id</th>\n",
       "      <th>ta</th>\n",
       "      <th>ts</th>\n",
       "      <th>temp_diff</th>\n",
       "      <th>hm</th>\n",
       "      <th>re</th>\n",
       "      <th>ws10_ms</th>\n",
       "      <th>sun10</th>\n",
       "      <th>dew_reached</th>\n",
       "      <th>t_td</th>\n",
       "      <th>ws10_dir</th>\n",
       "    </tr>\n",
       "  </thead>\n",
       "  <tbody>\n",
       "    <tr>\n",
       "      <th>0</th>\n",
       "      <td>4</td>\n",
       "      <td>15</td>\n",
       "      <td>B</td>\n",
       "      <td>10.3</td>\n",
       "      <td>13.8</td>\n",
       "      <td>-3.5</td>\n",
       "      <td>59.3</td>\n",
       "      <td>0.0</td>\n",
       "      <td>2.2</td>\n",
       "      <td>0.14</td>\n",
       "      <td>0</td>\n",
       "      <td>7.340460</td>\n",
       "      <td>E</td>\n",
       "    </tr>\n",
       "    <tr>\n",
       "      <th>1</th>\n",
       "      <td>4</td>\n",
       "      <td>9</td>\n",
       "      <td>B</td>\n",
       "      <td>10.1</td>\n",
       "      <td>18.3</td>\n",
       "      <td>-8.2</td>\n",
       "      <td>54.4</td>\n",
       "      <td>0.0</td>\n",
       "      <td>4.8</td>\n",
       "      <td>0.31</td>\n",
       "      <td>0</td>\n",
       "      <td>8.496095</td>\n",
       "      <td>W</td>\n",
       "    </tr>\n",
       "    <tr>\n",
       "      <th>2</th>\n",
       "      <td>3</td>\n",
       "      <td>10</td>\n",
       "      <td>D</td>\n",
       "      <td>18.1</td>\n",
       "      <td>20.1</td>\n",
       "      <td>-2.0</td>\n",
       "      <td>47.0</td>\n",
       "      <td>0.0</td>\n",
       "      <td>3.1</td>\n",
       "      <td>0.22</td>\n",
       "      <td>0</td>\n",
       "      <td>11.129487</td>\n",
       "      <td>S</td>\n",
       "    </tr>\n",
       "  </tbody>\n",
       "</table>\n",
       "</div>"
      ],
      "text/plain": [
       "  month time stn_id    ta    ts  temp_diff    hm   re  ws10_ms  sun10  \\\n",
       "0     4   15      B  10.3  13.8       -3.5  59.3  0.0      2.2   0.14   \n",
       "1     4    9      B  10.1  18.3       -8.2  54.4  0.0      4.8   0.31   \n",
       "2     3   10      D  18.1  20.1       -2.0  47.0  0.0      3.1   0.22   \n",
       "\n",
       "  dew_reached       t_td ws10_dir  \n",
       "0           0   7.340460        E  \n",
       "1           0   8.496095        W  \n",
       "2           0  11.129487        S  "
      ]
     },
     "execution_count": 325,
     "metadata": {},
     "output_type": "execute_result"
    }
   ],
   "source": [
    "X_train.head(3)"
   ]
  },
  {
   "cell_type": "code",
   "execution_count": 326,
   "metadata": {},
   "outputs": [
    {
     "data": {
      "text/plain": [
       "class\n",
       "4    2326356\n",
       "3       9135\n",
       "2       9066\n",
       "1       5899\n",
       "Name: count, dtype: int64"
      ]
     },
     "execution_count": 326,
     "metadata": {},
     "output_type": "execute_result"
    }
   ],
   "source": [
    "y_train.value_counts()"
   ]
  },
  {
   "cell_type": "code",
   "execution_count": 327,
   "metadata": {},
   "outputs": [
    {
     "data": {
      "text/plain": [
       "class\n",
       "4    775452\n",
       "3      3045\n",
       "2      3022\n",
       "1      1967\n",
       "Name: count, dtype: int64"
      ]
     },
     "execution_count": 327,
     "metadata": {},
     "output_type": "execute_result"
    }
   ],
   "source": [
    "y_val.value_counts()"
   ]
  },
  {
   "cell_type": "markdown",
   "metadata": {},
   "source": [
    "#### 3-1-1. Train, Validation 데이터 분리"
   ]
  },
  {
   "cell_type": "code",
   "execution_count": 328,
   "metadata": {},
   "outputs": [
    {
     "data": {
      "text/plain": [
       "((2350456, 13), (783486, 13), (2350456,), (783486,), (262800, 13))"
      ]
     },
     "execution_count": 328,
     "metadata": {},
     "output_type": "execute_result"
    }
   ],
   "source": [
    "X_train.shape, X_val.shape, y_train.shape, y_val.shape, X_test.shape"
   ]
  },
  {
   "cell_type": "code",
   "execution_count": 329,
   "metadata": {},
   "outputs": [
    {
     "data": {
      "text/html": [
       "<div>\n",
       "<style scoped>\n",
       "    .dataframe tbody tr th:only-of-type {\n",
       "        vertical-align: middle;\n",
       "    }\n",
       "\n",
       "    .dataframe tbody tr th {\n",
       "        vertical-align: top;\n",
       "    }\n",
       "\n",
       "    .dataframe thead th {\n",
       "        text-align: right;\n",
       "    }\n",
       "</style>\n",
       "<table border=\"1\" class=\"dataframe\">\n",
       "  <thead>\n",
       "    <tr style=\"text-align: right;\">\n",
       "      <th></th>\n",
       "      <th>month</th>\n",
       "      <th>time</th>\n",
       "      <th>stn_id</th>\n",
       "      <th>ta</th>\n",
       "      <th>ts</th>\n",
       "      <th>temp_diff</th>\n",
       "      <th>hm</th>\n",
       "      <th>re</th>\n",
       "      <th>ws10_ms</th>\n",
       "      <th>sun10</th>\n",
       "      <th>dew_reached</th>\n",
       "      <th>t_td</th>\n",
       "      <th>ws10_dir</th>\n",
       "    </tr>\n",
       "  </thead>\n",
       "  <tbody>\n",
       "    <tr>\n",
       "      <th>0</th>\n",
       "      <td>4</td>\n",
       "      <td>15</td>\n",
       "      <td>B</td>\n",
       "      <td>10.3</td>\n",
       "      <td>13.8</td>\n",
       "      <td>-3.5</td>\n",
       "      <td>59.3</td>\n",
       "      <td>0.0</td>\n",
       "      <td>2.2</td>\n",
       "      <td>0.14</td>\n",
       "      <td>0</td>\n",
       "      <td>7.340460</td>\n",
       "      <td>E</td>\n",
       "    </tr>\n",
       "    <tr>\n",
       "      <th>1</th>\n",
       "      <td>4</td>\n",
       "      <td>9</td>\n",
       "      <td>B</td>\n",
       "      <td>10.1</td>\n",
       "      <td>18.3</td>\n",
       "      <td>-8.2</td>\n",
       "      <td>54.4</td>\n",
       "      <td>0.0</td>\n",
       "      <td>4.8</td>\n",
       "      <td>0.31</td>\n",
       "      <td>0</td>\n",
       "      <td>8.496095</td>\n",
       "      <td>W</td>\n",
       "    </tr>\n",
       "    <tr>\n",
       "      <th>2</th>\n",
       "      <td>3</td>\n",
       "      <td>10</td>\n",
       "      <td>D</td>\n",
       "      <td>18.1</td>\n",
       "      <td>20.1</td>\n",
       "      <td>-2.0</td>\n",
       "      <td>47.0</td>\n",
       "      <td>0.0</td>\n",
       "      <td>3.1</td>\n",
       "      <td>0.22</td>\n",
       "      <td>0</td>\n",
       "      <td>11.129487</td>\n",
       "      <td>S</td>\n",
       "    </tr>\n",
       "  </tbody>\n",
       "</table>\n",
       "</div>"
      ],
      "text/plain": [
       "  month time stn_id    ta    ts  temp_diff    hm   re  ws10_ms  sun10  \\\n",
       "0     4   15      B  10.3  13.8       -3.5  59.3  0.0      2.2   0.14   \n",
       "1     4    9      B  10.1  18.3       -8.2  54.4  0.0      4.8   0.31   \n",
       "2     3   10      D  18.1  20.1       -2.0  47.0  0.0      3.1   0.22   \n",
       "\n",
       "  dew_reached       t_td ws10_dir  \n",
       "0           0   7.340460        E  \n",
       "1           0   8.496095        W  \n",
       "2           0  11.129487        S  "
      ]
     },
     "execution_count": 329,
     "metadata": {},
     "output_type": "execute_result"
    }
   ],
   "source": [
    "X_train.head(3)"
   ]
  },
  {
   "cell_type": "code",
   "execution_count": 330,
   "metadata": {},
   "outputs": [
    {
     "data": {
      "text/html": [
       "<div>\n",
       "<style scoped>\n",
       "    .dataframe tbody tr th:only-of-type {\n",
       "        vertical-align: middle;\n",
       "    }\n",
       "\n",
       "    .dataframe tbody tr th {\n",
       "        vertical-align: top;\n",
       "    }\n",
       "\n",
       "    .dataframe thead th {\n",
       "        text-align: right;\n",
       "    }\n",
       "</style>\n",
       "<table border=\"1\" class=\"dataframe\">\n",
       "  <thead>\n",
       "    <tr style=\"text-align: right;\">\n",
       "      <th></th>\n",
       "      <th>month</th>\n",
       "      <th>time</th>\n",
       "      <th>stn_id</th>\n",
       "      <th>ta</th>\n",
       "      <th>ts</th>\n",
       "      <th>temp_diff</th>\n",
       "      <th>hm</th>\n",
       "      <th>re</th>\n",
       "      <th>ws10_ms</th>\n",
       "      <th>sun10</th>\n",
       "      <th>dew_reached</th>\n",
       "      <th>t_td</th>\n",
       "      <th>ws10_dir</th>\n",
       "    </tr>\n",
       "  </thead>\n",
       "  <tbody>\n",
       "    <tr>\n",
       "      <th>0</th>\n",
       "      <td>3</td>\n",
       "      <td>8</td>\n",
       "      <td>B</td>\n",
       "      <td>4.2</td>\n",
       "      <td>5.7</td>\n",
       "      <td>-1.5</td>\n",
       "      <td>63.9</td>\n",
       "      <td>0.0</td>\n",
       "      <td>3.1</td>\n",
       "      <td>0.08</td>\n",
       "      <td>0</td>\n",
       "      <td>6.010578</td>\n",
       "      <td>W</td>\n",
       "    </tr>\n",
       "    <tr>\n",
       "      <th>1</th>\n",
       "      <td>2</td>\n",
       "      <td>7</td>\n",
       "      <td>D</td>\n",
       "      <td>-0.1</td>\n",
       "      <td>0.2</td>\n",
       "      <td>-0.3</td>\n",
       "      <td>93.5</td>\n",
       "      <td>0.0</td>\n",
       "      <td>5.0</td>\n",
       "      <td>0.00</td>\n",
       "      <td>0</td>\n",
       "      <td>0.888863</td>\n",
       "      <td>NW</td>\n",
       "    </tr>\n",
       "    <tr>\n",
       "      <th>2</th>\n",
       "      <td>4</td>\n",
       "      <td>3</td>\n",
       "      <td>A</td>\n",
       "      <td>6.7</td>\n",
       "      <td>4.2</td>\n",
       "      <td>2.5</td>\n",
       "      <td>46.2</td>\n",
       "      <td>0.0</td>\n",
       "      <td>0.1</td>\n",
       "      <td>0.00</td>\n",
       "      <td>0</td>\n",
       "      <td>10.387619</td>\n",
       "      <td>E</td>\n",
       "    </tr>\n",
       "  </tbody>\n",
       "</table>\n",
       "</div>"
      ],
      "text/plain": [
       "  month time stn_id   ta   ts  temp_diff    hm   re  ws10_ms  sun10  \\\n",
       "0     3    8      B  4.2  5.7       -1.5  63.9  0.0      3.1   0.08   \n",
       "1     2    7      D -0.1  0.2       -0.3  93.5  0.0      5.0   0.00   \n",
       "2     4    3      A  6.7  4.2        2.5  46.2  0.0      0.1   0.00   \n",
       "\n",
       "  dew_reached       t_td ws10_dir  \n",
       "0           0   6.010578        W  \n",
       "1           0   0.888863       NW  \n",
       "2           0  10.387619        E  "
      ]
     },
     "execution_count": 330,
     "metadata": {},
     "output_type": "execute_result"
    }
   ],
   "source": [
    "X_val.head(3)"
   ]
  },
  {
   "cell_type": "markdown",
   "metadata": {},
   "source": [
    "### 3-2. CSI 지수 생성"
   ]
  },
  {
   "cell_type": "code",
   "execution_count": 331,
   "metadata": {},
   "outputs": [],
   "source": [
    "# CSI 지수 함수 생성\n",
    "def csi_index(y_true, y_pred):\n",
    "\n",
    "    model_cm = confusion_matrix(y_true, y_pred)\n",
    "\n",
    "    H = (model_cm[0][0] + model_cm[1][1] + model_cm[2][2])\n",
    "    F = (model_cm[0][1] + model_cm[0][2] +\n",
    "            model_cm[1][0] + model_cm[1][2] +\n",
    "            model_cm[2][0] + model_cm[2][1] +\n",
    "            model_cm[3][0] + model_cm[3][1] + model_cm[3][2])\n",
    "    M = (model_cm[0][3] + model_cm[1][3] + model_cm[2][3])\n",
    "\n",
    "    model_csi = H / (H + F + M)\n",
    "\n",
    "    return model_csi\n",
    "\n",
    "csi_scorer = make_scorer(csi_index, greater_is_better=True)"
   ]
  },
  {
   "cell_type": "markdown",
   "metadata": {},
   "source": [
    "### 3-3. 인코딩"
   ]
  },
  {
   "cell_type": "markdown",
   "metadata": {},
   "source": [
    "#### 3-3-1. Label Encoding"
   ]
  },
  {
   "cell_type": "code",
   "execution_count": 332,
   "metadata": {},
   "outputs": [],
   "source": [
    "# # Label Encoding 적용을 위해 train, val, test 데이터 copy()\n",
    "# X_train_labeled = X_train.copy()\n",
    "# X_val_labeled = X_val.copy()\n",
    "# X_test_labeled = X_test.copy()"
   ]
  },
  {
   "cell_type": "code",
   "execution_count": 333,
   "metadata": {},
   "outputs": [],
   "source": [
    "# # stn_id를 각각 1 ~ 5로 정한 딕셔너리 생성\n",
    "# stn_id_map = {\"A\" : 1,\n",
    "#               \"B\" : 2,\n",
    "#               \"C\" : 3,\n",
    "#               \"D\" : 4,\n",
    "#               \"E\" : 5}\n",
    "\n",
    "# # stn_id_map을 바탕으로 stn_id 컬럼 mapping\n",
    "# X_train_labeled[\"stn_id\"] = X_train_labeled[\"stn_id\"].map(stn_id_map)\n",
    "# X_val_labeled[\"stn_id\"] = X_val_labeled[\"stn_id\"].map(stn_id_map)\n",
    "# X_test_labeled[\"stn_id\"] = X_test_labeled[\"stn_id\"].map(stn_id_map)"
   ]
  },
  {
   "cell_type": "code",
   "execution_count": 334,
   "metadata": {},
   "outputs": [],
   "source": [
    "# # ws10_dir를 각각 1 ~ 5로 정한 딕셔너리 생성\n",
    "# ws10_dir_map = {\"N\" : 1,\n",
    "#               \"NE\" : 2,\n",
    "#               \"E\" : 3,\n",
    "#               \"SE\" : 4,\n",
    "#               \"S\" : 5,\n",
    "#               \"SW\" : 6,\n",
    "#               \"W\" : 7,\n",
    "#               \"NW\" : 8}\n",
    "\n",
    "# # ws10_dir_map을 바탕으로 ws10_dir 컬럼 mapping\n",
    "# X_train_labeled[\"ws10_dir\"] = X_train_labeled[\"ws10_dir\"].map(ws10_dir_map)\n",
    "# X_val_labeled[\"ws10_dir\"] = X_val_labeled[\"ws10_dir\"].map(ws10_dir_map)\n",
    "# X_test_labeled[\"ws10_dir\"] = X_test_labeled[\"ws10_dir\"].map(ws10_dir_map)"
   ]
  },
  {
   "cell_type": "code",
   "execution_count": 335,
   "metadata": {},
   "outputs": [],
   "source": [
    "# def to_int(df, col_list):\n",
    "#     for col in col_list:\n",
    "#         df[col] = df[col].astype(\"int\")\n",
    "#     return df"
   ]
  },
  {
   "cell_type": "code",
   "execution_count": 336,
   "metadata": {},
   "outputs": [],
   "source": [
    "# int_col_list = [\"month\", \"day\", \"time\", \"minute\", \"re\", \"ws10_dir\", \"dew_reached\"]\n",
    "# X_train_labeled = to_int(X_train_labeled, int_col_list)\n",
    "# X_val_labeled = to_int(X_val_labeled, int_col_list)\n",
    "# X_test_labeled = to_int(X_test_labeled, int_col_list)"
   ]
  },
  {
   "cell_type": "markdown",
   "metadata": {},
   "source": [
    "### 3-4. Baseline 모델 생성"
   ]
  },
  {
   "cell_type": "code",
   "execution_count": 337,
   "metadata": {},
   "outputs": [],
   "source": [
    "# # 의사결정나무 모델로 Baseline 모델 생성\n",
    "# dt = DecisionTreeClassifier(random_state=42)\n",
    "# dt.fit(X_train_labeled, y_train)"
   ]
  },
  {
   "cell_type": "markdown",
   "metadata": {},
   "source": [
    "### 3-5. 하이퍼 파라미터 튜닝 전 모델 생성 (CatBoost)"
   ]
  },
  {
   "cell_type": "code",
   "execution_count": 338,
   "metadata": {},
   "outputs": [],
   "source": [
    "# X_train_no_enc = X_train.copy()\n",
    "# X_val_no_enc = X_val.copy()"
   ]
  },
  {
   "cell_type": "code",
   "execution_count": 339,
   "metadata": {},
   "outputs": [
    {
     "name": "stdout",
     "output_type": "stream",
     "text": [
      "<class 'pandas.core.frame.DataFrame'>\n",
      "RangeIndex: 2350456 entries, 0 to 2350455\n",
      "Data columns (total 13 columns):\n",
      " #   Column       Dtype  \n",
      "---  ------       -----  \n",
      " 0   month        object \n",
      " 1   time         object \n",
      " 2   stn_id       object \n",
      " 3   ta           float64\n",
      " 4   ts           float64\n",
      " 5   temp_diff    float64\n",
      " 6   hm           float64\n",
      " 7   re           object \n",
      " 8   ws10_ms      float64\n",
      " 9   sun10        float64\n",
      " 10  dew_reached  object \n",
      " 11  t_td         float64\n",
      " 12  ws10_dir     object \n",
      "dtypes: float64(7), object(6)\n",
      "memory usage: 233.1+ MB\n"
     ]
    }
   ],
   "source": [
    "X_train.info()"
   ]
  },
  {
   "cell_type": "code",
   "execution_count": 340,
   "metadata": {},
   "outputs": [],
   "source": [
    "models = [\n",
    "    # (\"Decision Tree\", DecisionTreeClassifier(random_state=42)),\n",
    "    (\"CatBoost\", CatBoostClassifier(\n",
    "                                        loss_function='MultiClass', \n",
    "                                        # custom_metric=[CSIMetric()],\n",
    "                                        # eval_metric=CSIMetric(),\n",
    "                                        verbose=0, \n",
    "                                        task_type=\"GPU\", \n",
    "                                        devices=\"0\", \n",
    "                                        nan_mode=\"Max\",\n",
    "                                        random_state=42)\n",
    "        ),\n",
    "    (\"CatBoost_FF\", CatBoostClassifier(\n",
    "                                        loss_function='MultiClass', \n",
    "                                        # custom_metric=[CSIMetric()],\n",
    "                                        # eval_metric=CSIMetric(),\n",
    "                                        verbose=0, \n",
    "                                        task_type=\"GPU\", \n",
    "                                        devices=\"0\", \n",
    "                                        simple_ctr=\"FeatureFreq\",\n",
    "                                        combinations_ctr=\"FeatureFreq\",\n",
    "                                        nan_mode=\"Max\",\n",
    "                                        random_state=42)\n",
    "        ),\n",
    "    # (\"CatBoost_Buckets\", CatBoostClassifier(\n",
    "    #                                     loss_function='MultiClass', \n",
    "    #                                     # custom_metric=[CSIMetric()],\n",
    "    #                                     # eval_metric=CSIMetric(),\n",
    "    #                                     verbose=0, \n",
    "    #                                     task_type=\"GPU\", \n",
    "    #                                     devices=\"0\", \n",
    "    #                                     simple_ctr=\"Buckets\",\n",
    "    #                                     combinations_ctr=\"Buckets\",\n",
    "    #                                     nan_mode=\"Max\",\n",
    "    #                                     random_state=42)\n",
    "    #     ),\n",
    "]\n",
    "\n",
    "cat_features = [\"month\", \"time\", \"stn_id\", \"re\", \"dew_reached\", \"ws10_dir\"]\n",
    "# cat_features = [\"month\", \"time\", \"stn_id\", \"re\"]"
   ]
  },
  {
   "cell_type": "code",
   "execution_count": 341,
   "metadata": {},
   "outputs": [
    {
     "data": {
      "text/html": [
       "<div>\n",
       "<style scoped>\n",
       "    .dataframe tbody tr th:only-of-type {\n",
       "        vertical-align: middle;\n",
       "    }\n",
       "\n",
       "    .dataframe tbody tr th {\n",
       "        vertical-align: top;\n",
       "    }\n",
       "\n",
       "    .dataframe thead th {\n",
       "        text-align: right;\n",
       "    }\n",
       "</style>\n",
       "<table border=\"1\" class=\"dataframe\">\n",
       "  <thead>\n",
       "    <tr style=\"text-align: right;\">\n",
       "      <th></th>\n",
       "      <th>month</th>\n",
       "      <th>time</th>\n",
       "      <th>stn_id</th>\n",
       "      <th>ta</th>\n",
       "      <th>ts</th>\n",
       "      <th>temp_diff</th>\n",
       "      <th>hm</th>\n",
       "      <th>re</th>\n",
       "      <th>ws10_ms</th>\n",
       "      <th>sun10</th>\n",
       "      <th>dew_reached</th>\n",
       "      <th>t_td</th>\n",
       "      <th>ws10_dir</th>\n",
       "    </tr>\n",
       "  </thead>\n",
       "  <tbody>\n",
       "    <tr>\n",
       "      <th>0</th>\n",
       "      <td>4</td>\n",
       "      <td>15</td>\n",
       "      <td>B</td>\n",
       "      <td>10.3</td>\n",
       "      <td>13.8</td>\n",
       "      <td>-3.5</td>\n",
       "      <td>59.3</td>\n",
       "      <td>0.0</td>\n",
       "      <td>2.2</td>\n",
       "      <td>0.14</td>\n",
       "      <td>0</td>\n",
       "      <td>7.340460</td>\n",
       "      <td>E</td>\n",
       "    </tr>\n",
       "    <tr>\n",
       "      <th>1</th>\n",
       "      <td>4</td>\n",
       "      <td>9</td>\n",
       "      <td>B</td>\n",
       "      <td>10.1</td>\n",
       "      <td>18.3</td>\n",
       "      <td>-8.2</td>\n",
       "      <td>54.4</td>\n",
       "      <td>0.0</td>\n",
       "      <td>4.8</td>\n",
       "      <td>0.31</td>\n",
       "      <td>0</td>\n",
       "      <td>8.496095</td>\n",
       "      <td>W</td>\n",
       "    </tr>\n",
       "    <tr>\n",
       "      <th>2</th>\n",
       "      <td>3</td>\n",
       "      <td>10</td>\n",
       "      <td>D</td>\n",
       "      <td>18.1</td>\n",
       "      <td>20.1</td>\n",
       "      <td>-2.0</td>\n",
       "      <td>47.0</td>\n",
       "      <td>0.0</td>\n",
       "      <td>3.1</td>\n",
       "      <td>0.22</td>\n",
       "      <td>0</td>\n",
       "      <td>11.129487</td>\n",
       "      <td>S</td>\n",
       "    </tr>\n",
       "  </tbody>\n",
       "</table>\n",
       "</div>"
      ],
      "text/plain": [
       "  month time stn_id    ta    ts  temp_diff    hm   re  ws10_ms  sun10  \\\n",
       "0     4   15      B  10.3  13.8       -3.5  59.3  0.0      2.2   0.14   \n",
       "1     4    9      B  10.1  18.3       -8.2  54.4  0.0      4.8   0.31   \n",
       "2     3   10      D  18.1  20.1       -2.0  47.0  0.0      3.1   0.22   \n",
       "\n",
       "  dew_reached       t_td ws10_dir  \n",
       "0           0   7.340460        E  \n",
       "1           0   8.496095        W  \n",
       "2           0  11.129487        S  "
      ]
     },
     "execution_count": 341,
     "metadata": {},
     "output_type": "execute_result"
    }
   ],
   "source": [
    "X_train.head(3)"
   ]
  },
  {
   "cell_type": "code",
   "execution_count": 342,
   "metadata": {},
   "outputs": [],
   "source": [
    "def model_comparison_cat(models, X_train, y_train, X_val, y_val, cat_features=cat_features, when=\"Before\"):\n",
    "    models_results = []\n",
    "\n",
    "    for model_name, model in models:\n",
    "\n",
    "        # 모델 생성 및 훈련\n",
    "        # 트리 기반 모델들은 각 변수의 information gain을 기반으로 판단하기 때문에 굳이 스케일링 해줄 필요가 없다\n",
    "\n",
    "        train_data = X_train\n",
    "        eval_data = X_val\n",
    "\n",
    "        train_label = y_train\n",
    "        eval_label = y_val\n",
    "\n",
    "        train_dataset = Pool(data=train_data,\n",
    "                            label=train_label,\n",
    "                            cat_features=cat_features)\n",
    "\n",
    "        eval_dataset = Pool(data=eval_data,\n",
    "                            label=eval_label,\n",
    "                            cat_features=cat_features)\n",
    "\n",
    "        # CatBoostClassifier\n",
    "        model = model\n",
    "\n",
    "        # 모델 생성 및 훈련\n",
    "        model.fit(train_dataset)\n",
    "\n",
    "        # Robust Scaling 거치지 않은 train 데이터를 바탕으로 예측\n",
    "        y_val_pred_cat = model.predict(eval_dataset)\n",
    "\n",
    "        # 모델의 Accuracy, Precision, Recall, F1 score, CSI 지수 확인\n",
    "        accuracy = accuracy_score(y_val, y_val_pred_cat)\n",
    "        precision = precision_score(y_val, y_val_pred_cat, average=\"weighted\")\n",
    "        recall = recall_score(y_val, y_val_pred_cat, average=\"weighted\")\n",
    "        f1_score_ = f1_score(y_val, y_val_pred_cat, average=\"weighted\")\n",
    "        csi_index_ = csi_index(y_val, y_val_pred_cat)\n",
    "\n",
    "        # 결과를 리스트에 저장\n",
    "        models_results.append({\"Model\" : model_name,\n",
    "                            \"Accuracy\" : np.round(accuracy, 4),\n",
    "                            \"Precision\" : np.round(precision, 4),\n",
    "                            \"Recall\" : np.round(recall, 4),\n",
    "                            \"F1 Score\" : np.round(f1_score_, 4),\n",
    "                            \"CSI Index\" : np.round(csi_index_, 4)\n",
    "                            })\n",
    "\n",
    "    # 결과 리스트를 DataFrame으로 변환\n",
    "    models_df = pd.DataFrame(models_results)\n",
    "\n",
    "    print(f\"\\n======== Models {when} Hyper Parameter Tuning ========\\n\")\n",
    "\n",
    "    return models_df.sort_values(by=[\"CSI Index\", \"Accuracy\", \"F1 Score\"],\n",
    "                                 ascending=[False, True, False]\n",
    "                                 ).reset_index(drop=True)"
   ]
  },
  {
   "cell_type": "code",
   "execution_count": 343,
   "metadata": {},
   "outputs": [
    {
     "name": "stdout",
     "output_type": "stream",
     "text": [
      "\n",
      "======== Models Before Hyper Parameter Tuning ========\n",
      "\n"
     ]
    },
    {
     "data": {
      "text/html": [
       "<div>\n",
       "<style scoped>\n",
       "    .dataframe tbody tr th:only-of-type {\n",
       "        vertical-align: middle;\n",
       "    }\n",
       "\n",
       "    .dataframe tbody tr th {\n",
       "        vertical-align: top;\n",
       "    }\n",
       "\n",
       "    .dataframe thead th {\n",
       "        text-align: right;\n",
       "    }\n",
       "</style>\n",
       "<table border=\"1\" class=\"dataframe\">\n",
       "  <thead>\n",
       "    <tr style=\"text-align: right;\">\n",
       "      <th></th>\n",
       "      <th>Model</th>\n",
       "      <th>Accuracy</th>\n",
       "      <th>Precision</th>\n",
       "      <th>Recall</th>\n",
       "      <th>F1 Score</th>\n",
       "      <th>CSI Index</th>\n",
       "    </tr>\n",
       "  </thead>\n",
       "  <tbody>\n",
       "    <tr>\n",
       "      <th>0</th>\n",
       "      <td>CatBoost_FF</td>\n",
       "      <td>0.9911</td>\n",
       "      <td>0.9881</td>\n",
       "      <td>0.9911</td>\n",
       "      <td>0.9884</td>\n",
       "      <td>0.1678</td>\n",
       "    </tr>\n",
       "    <tr>\n",
       "      <th>1</th>\n",
       "      <td>CatBoost</td>\n",
       "      <td>0.9911</td>\n",
       "      <td>0.9879</td>\n",
       "      <td>0.9911</td>\n",
       "      <td>0.9884</td>\n",
       "      <td>0.1671</td>\n",
       "    </tr>\n",
       "  </tbody>\n",
       "</table>\n",
       "</div>"
      ],
      "text/plain": [
       "         Model  Accuracy  Precision  Recall  F1 Score  CSI Index\n",
       "0  CatBoost_FF    0.9911     0.9881  0.9911    0.9884     0.1678\n",
       "1     CatBoost    0.9911     0.9879  0.9911    0.9884     0.1671"
      ]
     },
     "execution_count": 343,
     "metadata": {},
     "output_type": "execute_result"
    }
   ],
   "source": [
    "model_comparison_cat(models, X_train, y_train, X_val, y_val)"
   ]
  },
  {
   "cell_type": "markdown",
   "metadata": {},
   "source": [
    "## 하이퍼파라미터 튜닝"
   ]
  },
  {
   "cell_type": "code",
   "execution_count": 344,
   "metadata": {},
   "outputs": [],
   "source": [
    "# optuna sampling seed 고정\n",
    "sampler = TPESampler(seed=42)"
   ]
  },
  {
   "cell_type": "code",
   "execution_count": 372,
   "metadata": {},
   "outputs": [],
   "source": [
    "def objective(trial, cat_features=cat_features):\n",
    "\n",
    "    param = {\n",
    "        \"iterations\": trial.suggest_int(\"iterations\", 100, 1000),\n",
    "        # \"objective\": trial.suggest_categorical(\"objective\", [\"Logloss\", \"CrossEntropy\"]),\n",
    "        \"colsample_bylevel\": trial.suggest_float(\"colsample_bylevel\", 0.01, 0.1, log=True),\n",
    "        # \"learning_rate\": trial.suggest_float(\"learning_rate\", 1e-3, 1e-1, log=True),\n",
    "        \"depth\": trial.suggest_int(\"depth\", 3, 12),\n",
    "        # \"boosting_type\": trial.suggest_categorical(\"boosting_type\", [\"Ordered\", \"Plain\"]),\n",
    "        \"od_wait\": trial.suggest_int(\"od_wait\", 10, 50),\n",
    "        \"simple_ctr\" : trial.suggest_categorical(\"simple_ctr\", [None, \"FeatureFreq\"]),\n",
    "        \"combinations_ctr\" : trial.suggest_categorical(\"combinations_ctr\", [None, \"FeatureFreq\"]),\n",
    "        \"bootstrap_type\": \"Bayesian\",\n",
    "        \"loss_function\": \"MultiClass\",\n",
    "        \"task_type\": \"GPU\",\n",
    "        \"devices\": \"0\",\n",
    "        \"nan_mode\": \"Max\",\n",
    "        \"random_state\": 42,\n",
    "        \"verbose\" : False\n",
    "    }\n",
    "\n",
    "    if param[\"bootstrap_type\"] == \"Bayesian\":\n",
    "        param[\"bagging_temperature\"] = trial.suggest_float(\"bagging_temperature\", 0, 10)\n",
    "    elif param[\"bootstrap_type\"] == \"Bernoulli\":\n",
    "        param[\"subsample\"] = trial.suggest_float(\"subsample\", 0.1, 1, log=True)\n",
    "\n",
    "\n",
    "    cat_features = cat_features\n",
    "\n",
    "    train_data = X_train\n",
    "    eval_data = X_val\n",
    "\n",
    "    train_label = y_train\n",
    "    eval_label = y_val\n",
    "\n",
    "    train_dataset = Pool(data=train_data,\n",
    "                        label=train_label,\n",
    "                        cat_features=cat_features)\n",
    "\n",
    "    eval_dataset = Pool(data=eval_data,\n",
    "                        label=eval_label,\n",
    "                        cat_features=cat_features)\n",
    "\n",
    "    gbm = CatBoostClassifier(**param)\n",
    "\n",
    "    # pruning_callback = CatBoostPruningCallback(trial, \"Accuracy\")\n",
    "    gbm.fit(\n",
    "        train_dataset,\n",
    "        verbose=0,\n",
    "        # callbacks=[pruning_callback]\n",
    "    )\n",
    "\n",
    "    # evoke pruning manually.\n",
    "    # pruning_callback.check_pruned()\n",
    "\n",
    "    preds = gbm.predict(eval_dataset)\n",
    "    csi = csi_index(y_val, preds)\n",
    "\n",
    "    return csi"
   ]
  },
  {
   "cell_type": "code",
   "execution_count": 377,
   "metadata": {},
   "outputs": [],
   "source": [
    "def objective_cat_no_enc(trial, cat_features=cat_features):\n",
    "    params = {\n",
    "        # \"loss_function\":'MultiClass',\n",
    "        \"iterations\": trial.suggest_int(\"iterations\", 100, 1000),\n",
    "        # \"iterations\" : trial.suggest_int('n_estimators', 500, 4000),\n",
    "        \"learning_rate\": trial.suggest_float(\"learning_rate\", 1e-3, 1e-1, log=True),\n",
    "        \"depth\": trial.suggest_int(\"depth\", 3, 12),\n",
    "        # \"l2_leaf_reg\": trial.suggest_float(\"l2_leaf_reg\", 1e-8, 100.0, log=True),\n",
    "        # \"bootstrap_type\": trial.suggest_categorical(\"bootstrap_type\", [\"Bayesian\", \"Poisson\"]),\n",
    "        # \"random_strength\": trial.suggest_float(\"random_strength\", 1e-8, 10.0, log=True),\n",
    "        \"bagging_temperature\": trial.suggest_float(\"bagging_temperature\", 0.0, 1.0),\n",
    "        # \"od_type\": trial.suggest_categorical(\"od_type\", [\"IncToDec\", \"Iter\"]),\n",
    "        \"od_wait\": trial.suggest_int(\"od_wait\", 10, 50),\n",
    "        # \"subsample\": trial.suggest_float(\"subsample\", 0.05, 1.0),\n",
    "        # \"colsample_bylevel\": trial.suggest_float(\"colsample_bylevel\", 0.05, 1.0),\n",
    "        \"min_data_in_leaf\": trial.suggest_int(\"min_data_in_leaf\", 1, 100),\n",
    "        \"simple_ctr\" : trial.suggest_categorical(\"simple_ctr\", [None, \"FeatureFreq\"]),\n",
    "        \"combinations_ctr\" : trial.suggest_categorical(\"combinations_ctr\", [None, \"FeatureFreq\"]),\n",
    "        # \"verbose\": False\n",
    "        # \"loss_function\": trial.suggest_categorical(\"loss_function\", [\"MultiClass\"]),\n",
    "        \"bootstrap_type\": \"Bayesian\",\n",
    "        \"loss_function\": \"MultiClass\",\n",
    "        # \"task_type\": trial.suggest_categorical(\"task_type\", [\"GPU\"]),\n",
    "        \"task_type\": \"GPU\",\n",
    "        \"devices\": \"0\",\n",
    "        \"nan_mode\": \"Max\",\n",
    "        # \"random_state\":trial.suggest_int(\"random_state\", 42, 42)\n",
    "        \"random_state\": 42,\n",
    "        \"verbose\" : False\n",
    "    }\n",
    "\n",
    "    cat_features = cat_features\n",
    "\n",
    "    train_data = X_train\n",
    "    eval_data = X_val\n",
    "\n",
    "    train_label = y_train\n",
    "    eval_label = y_val\n",
    "\n",
    "    train_dataset = Pool(data=train_data,\n",
    "                        label=train_label,\n",
    "                        cat_features=cat_features)\n",
    "\n",
    "    eval_dataset = Pool(data=eval_data,\n",
    "                        label=eval_label,\n",
    "                        cat_features=cat_features)\n",
    "\n",
    "    model = CatBoostClassifier(**params)\n",
    "                            #    loss_function=\"MultiClass\",\n",
    "                            #    silent=True,\n",
    "                            #    task_type=\"GPU\",\n",
    "                            #    random_state=42)\n",
    "\n",
    "    model.fit(train_dataset)\n",
    "    predictions = model.predict(eval_dataset)\n",
    "    csi = csi_index(y_val, predictions)\n",
    "\n",
    "    return csi"
   ]
  },
  {
   "cell_type": "code",
   "execution_count": 374,
   "metadata": {},
   "outputs": [],
   "source": [
    "# study_cat_no_enc = optuna.create_study(study_name=\"catboost_no_enc\", direction='maximize', pruner=\"HyperbandPruner\", sampler=sampler)\n",
    "# study_cat_no_enc.optimize(objective_cat_no_enc, n_trials=100)"
   ]
  },
  {
   "cell_type": "code",
   "execution_count": 378,
   "metadata": {},
   "outputs": [
    {
     "name": "stderr",
     "output_type": "stream",
     "text": [
      "[I 2024-06-27 14:45:44,240] A new study created in memory with name: catboost\n",
      "Change of simpleCtr will not affect combinations ctrs.\n",
      "Change of simpleCtr will not affect combinations ctrs.\n",
      "Change of simpleCtr will not affect combinations ctrs.\n",
      "Change of simpleCtr will not affect combinations ctrs.\n",
      "[I 2024-06-27 14:47:07,989] Trial 0 finished with value: 0.08847711375628911 and parameters: {'iterations': 834, 'learning_rate': 0.025924756604751596, 'depth': 10, 'bagging_temperature': 0.7712703466859457, 'od_wait': 13, 'min_data_in_leaf': 36, 'simple_ctr': 'FeatureFreq', 'combinations_ctr': None}. Best is trial 0 with value: 0.08847711375628911.\n",
      "Change of combinations ctrs will not affect simple ctrs\n",
      "Change of combinations ctrs will not affect simple ctrs\n",
      "Change of combinations ctrs will not affect simple ctrs\n",
      "Change of combinations ctrs will not affect simple ctrs\n",
      "[I 2024-06-27 14:47:30,755] Trial 1 finished with value: 0.0 and parameters: {'iterations': 157, 'learning_rate': 0.004187594718900628, 'depth': 6, 'bagging_temperature': 0.7296061783380641, 'od_wait': 36, 'min_data_in_leaf': 89, 'simple_ctr': None, 'combinations_ctr': 'FeatureFreq'}. Best is trial 0 with value: 0.08847711375628911.\n",
      "[I 2024-06-27 14:48:18,054] Trial 2 finished with value: 0.054641453831041256 and parameters: {'iterations': 605, 'learning_rate': 0.03482846706526884, 'depth': 7, 'bagging_temperature': 0.5227328293819941, 'od_wait': 27, 'min_data_in_leaf': 3, 'simple_ctr': None, 'combinations_ctr': None}. Best is trial 0 with value: 0.08847711375628911.\n",
      "[I 2024-06-27 14:48:52,336] Trial 3 finished with value: 0.0468999386126458 and parameters: {'iterations': 558, 'learning_rate': 0.06533305220227735, 'depth': 5, 'bagging_temperature': 0.41038292303562973, 'od_wait': 40, 'min_data_in_leaf': 23, 'simple_ctr': 'FeatureFreq', 'combinations_ctr': 'FeatureFreq'}. Best is trial 0 with value: 0.08847711375628911.\n",
      "Change of simpleCtr will not affect combinations ctrs.\n",
      "Change of simpleCtr will not affect combinations ctrs.\n",
      "Change of simpleCtr will not affect combinations ctrs.\n",
      "Change of simpleCtr will not affect combinations ctrs.\n",
      "[I 2024-06-27 14:50:33,702] Trial 4 finished with value: 0.07839528892160472 and parameters: {'iterations': 828, 'learning_rate': 0.018484491720988625, 'depth': 11, 'bagging_temperature': 0.8036720768991145, 'od_wait': 17, 'min_data_in_leaf': 90, 'simple_ctr': 'FeatureFreq', 'combinations_ctr': None}. Best is trial 0 with value: 0.08847711375628911.\n",
      "[I 2024-06-27 14:50:59,813] Trial 5 finished with value: 0.0 and parameters: {'iterations': 199, 'learning_rate': 0.0028567374298471885, 'depth': 7, 'bagging_temperature': 0.8180147659224931, 'od_wait': 45, 'min_data_in_leaf': 1, 'simple_ctr': None, 'combinations_ctr': None}. Best is trial 0 with value: 0.08847711375628911.\n",
      "Change of combinations ctrs will not affect simple ctrs\n",
      "Change of combinations ctrs will not affect simple ctrs\n",
      "Change of combinations ctrs will not affect simple ctrs\n",
      "Change of combinations ctrs will not affect simple ctrs\n",
      "[I 2024-06-27 14:51:34,084] Trial 6 finished with value: 0.05560328955443722 and parameters: {'iterations': 404, 'learning_rate': 0.07688106801474955, 'depth': 6, 'bagging_temperature': 0.5187906217433661, 'od_wait': 38, 'min_data_in_leaf': 37, 'simple_ctr': None, 'combinations_ctr': 'FeatureFreq'}. Best is trial 0 with value: 0.08847711375628911.\n",
      "Change of simpleCtr will not affect combinations ctrs.\n",
      "Change of simpleCtr will not affect combinations ctrs.\n",
      "Change of simpleCtr will not affect combinations ctrs.\n",
      "Change of simpleCtr will not affect combinations ctrs.\n",
      "[I 2024-06-27 14:51:58,078] Trial 7 finished with value: 0.0 and parameters: {'iterations': 371, 'learning_rate': 0.003712624179040533, 'depth': 3, 'bagging_temperature': 0.6095643339798968, 'od_wait': 30, 'min_data_in_leaf': 6, 'simple_ctr': 'FeatureFreq', 'combinations_ctr': None}. Best is trial 0 with value: 0.08847711375628911.\n",
      "Change of combinations ctrs will not affect simple ctrs\n",
      "Change of combinations ctrs will not affect simple ctrs\n",
      "Change of combinations ctrs will not affect simple ctrs\n",
      "Change of combinations ctrs will not affect simple ctrs\n",
      "[I 2024-06-27 14:52:35,702] Trial 8 finished with value: 0.057692307692307696 and parameters: {'iterations': 540, 'learning_rate': 0.09360540102485378, 'depth': 5, 'bagging_temperature': 0.6721355474058786, 'od_wait': 41, 'min_data_in_leaf': 24, 'simple_ctr': None, 'combinations_ctr': 'FeatureFreq'}. Best is trial 0 with value: 0.08847711375628911.\n",
      "[I 2024-06-27 14:53:48,255] Trial 9 finished with value: 0.012263099219620958 and parameters: {'iterations': 582, 'learning_rate': 0.0015155823539597607, 'depth': 11, 'bagging_temperature': 0.32078006497173583, 'od_wait': 17, 'min_data_in_leaf': 5, 'simple_ctr': 'FeatureFreq', 'combinations_ctr': 'FeatureFreq'}. Best is trial 0 with value: 0.08847711375628911.\n",
      "Change of simpleCtr will not affect combinations ctrs.\n",
      "Change of simpleCtr will not affect combinations ctrs.\n",
      "Change of simpleCtr will not affect combinations ctrs.\n",
      "Change of simpleCtr will not affect combinations ctrs.\n",
      "[I 2024-06-27 14:55:11,068] Trial 10 finished with value: 0.04343011811023622 and parameters: {'iterations': 980, 'learning_rate': 0.010573371992702028, 'depth': 9, 'bagging_temperature': 0.017961875614819767, 'od_wait': 10, 'min_data_in_leaf': 66, 'simple_ctr': 'FeatureFreq', 'combinations_ctr': None}. Best is trial 0 with value: 0.08847711375628911.\n",
      "Change of simpleCtr will not affect combinations ctrs.\n",
      "Change of simpleCtr will not affect combinations ctrs.\n",
      "Change of simpleCtr will not affect combinations ctrs.\n",
      "Change of simpleCtr will not affect combinations ctrs.\n",
      "[I 2024-06-27 14:57:52,910] Trial 11 finished with value: 0.09618919250091901 and parameters: {'iterations': 893, 'learning_rate': 0.017881422228281162, 'depth': 12, 'bagging_temperature': 0.9458097199737133, 'od_wait': 20, 'min_data_in_leaf': 60, 'simple_ctr': 'FeatureFreq', 'combinations_ctr': None}. Best is trial 11 with value: 0.09618919250091901.\n",
      "Change of simpleCtr will not affect combinations ctrs.\n",
      "Change of simpleCtr will not affect combinations ctrs.\n",
      "Change of simpleCtr will not affect combinations ctrs.\n",
      "Change of simpleCtr will not affect combinations ctrs.\n",
      "[I 2024-06-27 15:00:23,405] Trial 12 finished with value: 0.10140845070422536 and parameters: {'iterations': 828, 'learning_rate': 0.020332743706231872, 'depth': 12, 'bagging_temperature': 0.9681517888433236, 'od_wait': 21, 'min_data_in_leaf': 53, 'simple_ctr': 'FeatureFreq', 'combinations_ctr': None}. Best is trial 12 with value: 0.10140845070422536.\n",
      "Change of simpleCtr will not affect combinations ctrs.\n",
      "Change of simpleCtr will not affect combinations ctrs.\n",
      "Change of simpleCtr will not affect combinations ctrs.\n",
      "Change of simpleCtr will not affect combinations ctrs.\n",
      "[I 2024-06-27 15:02:38,789] Trial 13 finished with value: 0.047624907703667244 and parameters: {'iterations': 795, 'learning_rate': 0.00888311665369204, 'depth': 12, 'bagging_temperature': 0.9960165317474355, 'od_wait': 22, 'min_data_in_leaf': 67, 'simple_ctr': 'FeatureFreq', 'combinations_ctr': None}. Best is trial 12 with value: 0.10140845070422536.\n",
      "Change of simpleCtr will not affect combinations ctrs.\n",
      "Change of simpleCtr will not affect combinations ctrs.\n",
      "Change of simpleCtr will not affect combinations ctrs.\n",
      "Change of simpleCtr will not affect combinations ctrs.\n",
      "[I 2024-06-27 15:03:53,614] Trial 14 finished with value: 0.05177714918214242 and parameters: {'iterations': 922, 'learning_rate': 0.012911711403145105, 'depth': 9, 'bagging_temperature': 0.998851272005369, 'od_wait': 23, 'min_data_in_leaf': 62, 'simple_ctr': 'FeatureFreq', 'combinations_ctr': None}. Best is trial 12 with value: 0.10140845070422536.\n",
      "Change of simpleCtr will not affect combinations ctrs.\n",
      "Change of simpleCtr will not affect combinations ctrs.\n",
      "Change of simpleCtr will not affect combinations ctrs.\n",
      "Change of simpleCtr will not affect combinations ctrs.\n",
      "[I 2024-06-27 15:05:57,176] Trial 15 finished with value: 0.13435747378688126 and parameters: {'iterations': 702, 'learning_rate': 0.03884671900493546, 'depth': 12, 'bagging_temperature': 0.9002732729446177, 'od_wait': 23, 'min_data_in_leaf': 55, 'simple_ctr': 'FeatureFreq', 'combinations_ctr': None}. Best is trial 15 with value: 0.13435747378688126.\n",
      "Change of simpleCtr will not affect combinations ctrs.\n",
      "Change of simpleCtr will not affect combinations ctrs.\n",
      "Change of simpleCtr will not affect combinations ctrs.\n",
      "Change of simpleCtr will not affect combinations ctrs.\n",
      "[I 2024-06-27 15:06:56,810] Trial 16 finished with value: 0.09327123421987989 and parameters: {'iterations': 698, 'learning_rate': 0.041579330362804125, 'depth': 9, 'bagging_temperature': 0.8757654468820366, 'od_wait': 26, 'min_data_in_leaf': 47, 'simple_ctr': 'FeatureFreq', 'combinations_ctr': None}. Best is trial 15 with value: 0.13435747378688126.\n",
      "Change of simpleCtr will not affect combinations ctrs.\n",
      "Change of simpleCtr will not affect combinations ctrs.\n",
      "Change of simpleCtr will not affect combinations ctrs.\n",
      "Change of simpleCtr will not affect combinations ctrs.\n",
      "[I 2024-06-27 15:08:30,795] Trial 17 finished with value: 0.027979785529397262 and parameters: {'iterations': 753, 'learning_rate': 0.006563241205089954, 'depth': 11, 'bagging_temperature': 0.21263036293030757, 'od_wait': 33, 'min_data_in_leaf': 79, 'simple_ctr': 'FeatureFreq', 'combinations_ctr': None}. Best is trial 15 with value: 0.13435747378688126.\n",
      "Change of simpleCtr will not affect combinations ctrs.\n",
      "Change of simpleCtr will not affect combinations ctrs.\n",
      "Change of simpleCtr will not affect combinations ctrs.\n",
      "Change of simpleCtr will not affect combinations ctrs.\n",
      "[I 2024-06-27 15:10:29,114] Trial 18 finished with value: 0.14214372716199755 and parameters: {'iterations': 648, 'learning_rate': 0.04532442236283646, 'depth': 12, 'bagging_temperature': 0.8925240783482054, 'od_wait': 49, 'min_data_in_leaf': 50, 'simple_ctr': 'FeatureFreq', 'combinations_ctr': None}. Best is trial 18 with value: 0.14214372716199755.\n",
      "Change of simpleCtr will not affect combinations ctrs.\n",
      "Change of simpleCtr will not affect combinations ctrs.\n",
      "Change of simpleCtr will not affect combinations ctrs.\n",
      "Change of simpleCtr will not affect combinations ctrs.\n",
      "[I 2024-06-27 15:11:05,465] Trial 19 finished with value: 0.05333661054442669 and parameters: {'iterations': 415, 'learning_rate': 0.039060295435834044, 'depth': 8, 'bagging_temperature': 0.6257350145789646, 'od_wait': 45, 'min_data_in_leaf': 75, 'simple_ctr': 'FeatureFreq', 'combinations_ctr': None}. Best is trial 18 with value: 0.14214372716199755.\n",
      "Change of simpleCtr will not affect combinations ctrs.\n",
      "Change of simpleCtr will not affect combinations ctrs.\n",
      "Change of simpleCtr will not affect combinations ctrs.\n",
      "Change of simpleCtr will not affect combinations ctrs.\n",
      "[I 2024-06-27 15:12:15,048] Trial 20 finished with value: 0.12923677151914167 and parameters: {'iterations': 664, 'learning_rate': 0.05903082654957611, 'depth': 10, 'bagging_temperature': 0.8795007958880703, 'od_wait': 50, 'min_data_in_leaf': 42, 'simple_ctr': 'FeatureFreq', 'combinations_ctr': None}. Best is trial 18 with value: 0.14214372716199755.\n",
      "Change of simpleCtr will not affect combinations ctrs.\n",
      "Change of simpleCtr will not affect combinations ctrs.\n",
      "Change of simpleCtr will not affect combinations ctrs.\n",
      "Change of simpleCtr will not affect combinations ctrs.\n",
      "[I 2024-06-27 15:13:26,616] Trial 21 finished with value: 0.12701711491442544 and parameters: {'iterations': 679, 'learning_rate': 0.054507216983899646, 'depth': 10, 'bagging_temperature': 0.8731586942574047, 'od_wait': 50, 'min_data_in_leaf': 46, 'simple_ctr': 'FeatureFreq', 'combinations_ctr': None}. Best is trial 18 with value: 0.14214372716199755.\n",
      "Change of simpleCtr will not affect combinations ctrs.\n",
      "Change of simpleCtr will not affect combinations ctrs.\n",
      "Change of simpleCtr will not affect combinations ctrs.\n",
      "Change of simpleCtr will not affect combinations ctrs.\n",
      "[I 2024-06-27 15:14:21,161] Trial 22 finished with value: 0.098922624877571 and parameters: {'iterations': 488, 'learning_rate': 0.04977487234660359, 'depth': 10, 'bagging_temperature': 0.8690193908638019, 'od_wait': 49, 'min_data_in_leaf': 36, 'simple_ctr': 'FeatureFreq', 'combinations_ctr': None}. Best is trial 18 with value: 0.14214372716199755.\n",
      "Change of simpleCtr will not affect combinations ctrs.\n",
      "Change of simpleCtr will not affect combinations ctrs.\n",
      "Change of simpleCtr will not affect combinations ctrs.\n",
      "Change of simpleCtr will not affect combinations ctrs.\n",
      "[I 2024-06-27 15:16:16,932] Trial 23 finished with value: 0.10695056289769946 and parameters: {'iterations': 655, 'learning_rate': 0.028789017309147905, 'depth': 12, 'bagging_temperature': 0.7239795222135981, 'od_wait': 45, 'min_data_in_leaf': 52, 'simple_ctr': 'FeatureFreq', 'combinations_ctr': None}. Best is trial 18 with value: 0.14214372716199755.\n",
      "Change of simpleCtr will not affect combinations ctrs.\n",
      "Change of simpleCtr will not affect combinations ctrs.\n",
      "Change of simpleCtr will not affect combinations ctrs.\n",
      "Change of simpleCtr will not affect combinations ctrs.\n",
      "[I 2024-06-27 15:17:53,154] Trial 24 finished with value: 0.18919570722295911 and parameters: {'iterations': 728, 'learning_rate': 0.09557610824947936, 'depth': 11, 'bagging_temperature': 0.9015766743128278, 'od_wait': 47, 'min_data_in_leaf': 25, 'simple_ctr': 'FeatureFreq', 'combinations_ctr': None}. Best is trial 24 with value: 0.18919570722295911.\n",
      "Change of simpleCtr will not affect combinations ctrs.\n",
      "Change of simpleCtr will not affect combinations ctrs.\n",
      "Change of simpleCtr will not affect combinations ctrs.\n",
      "Change of simpleCtr will not affect combinations ctrs.\n",
      "[I 2024-06-27 15:19:32,555] Trial 25 finished with value: 0.18604370397199083 and parameters: {'iterations': 762, 'learning_rate': 0.08803281351556093, 'depth': 11, 'bagging_temperature': 0.6562306490010055, 'od_wait': 43, 'min_data_in_leaf': 24, 'simple_ctr': 'FeatureFreq', 'combinations_ctr': None}. Best is trial 24 with value: 0.18919570722295911.\n",
      "Change of combinations ctrs will not affect simple ctrs\n",
      "Change of combinations ctrs will not affect simple ctrs\n",
      "Change of combinations ctrs will not affect simple ctrs\n",
      "Change of combinations ctrs will not affect simple ctrs\n",
      "[I 2024-06-27 15:21:14,864] Trial 26 finished with value: 0.18957631198844488 and parameters: {'iterations': 752, 'learning_rate': 0.09819904436910847, 'depth': 11, 'bagging_temperature': 0.6422676233260873, 'od_wait': 43, 'min_data_in_leaf': 20, 'simple_ctr': None, 'combinations_ctr': 'FeatureFreq'}. Best is trial 26 with value: 0.18957631198844488.\n",
      "Change of combinations ctrs will not affect simple ctrs\n",
      "Change of combinations ctrs will not affect simple ctrs\n",
      "Change of combinations ctrs will not affect simple ctrs\n",
      "Change of combinations ctrs will not affect simple ctrs\n",
      "[I 2024-06-27 15:22:57,472] Trial 27 finished with value: 0.18440057775637939 and parameters: {'iterations': 759, 'learning_rate': 0.09282923327498148, 'depth': 11, 'bagging_temperature': 0.44024398016009747, 'od_wait': 42, 'min_data_in_leaf': 17, 'simple_ctr': None, 'combinations_ctr': 'FeatureFreq'}. Best is trial 26 with value: 0.18957631198844488.\n",
      "Change of combinations ctrs will not affect simple ctrs\n",
      "Change of combinations ctrs will not affect simple ctrs\n",
      "Change of combinations ctrs will not affect simple ctrs\n",
      "Change of combinations ctrs will not affect simple ctrs\n",
      "[I 2024-06-27 15:24:07,053] Trial 28 finished with value: 0.13813229571984437 and parameters: {'iterations': 909, 'learning_rate': 0.09177855952367982, 'depth': 8, 'bagging_temperature': 0.6140709102234133, 'od_wait': 34, 'min_data_in_leaf': 14, 'simple_ctr': None, 'combinations_ctr': 'FeatureFreq'}. Best is trial 26 with value: 0.18957631198844488.\n",
      "Change of combinations ctrs will not affect simple ctrs\n",
      "Change of combinations ctrs will not affect simple ctrs\n",
      "Change of combinations ctrs will not affect simple ctrs\n",
      "Change of combinations ctrs will not affect simple ctrs\n",
      "[I 2024-06-27 15:25:16,950] Trial 29 finished with value: 0.07304816766760633 and parameters: {'iterations': 754, 'learning_rate': 0.025640428800034094, 'depth': 9, 'bagging_temperature': 0.7373374770720523, 'od_wait': 46, 'min_data_in_leaf': 28, 'simple_ctr': None, 'combinations_ctr': 'FeatureFreq'}. Best is trial 26 with value: 0.18957631198844488.\n",
      "Change of combinations ctrs will not affect simple ctrs\n",
      "Change of combinations ctrs will not affect simple ctrs\n",
      "Change of combinations ctrs will not affect simple ctrs\n",
      "Change of combinations ctrs will not affect simple ctrs\n",
      "[I 2024-06-27 15:27:26,825] Trial 30 finished with value: 0.18569530022955177 and parameters: {'iterations': 986, 'learning_rate': 0.07051493284789867, 'depth': 11, 'bagging_temperature': 0.5719340490947102, 'od_wait': 42, 'min_data_in_leaf': 29, 'simple_ctr': None, 'combinations_ctr': 'FeatureFreq'}. Best is trial 26 with value: 0.18957631198844488.\n",
      "Change of combinations ctrs will not affect simple ctrs\n",
      "Change of combinations ctrs will not affect simple ctrs\n",
      "Change of combinations ctrs will not affect simple ctrs\n",
      "Change of combinations ctrs will not affect simple ctrs\n"
     ]
    }
   ],
   "source": [
    "study_cat = optuna.create_study(study_name=\"catboost\", direction='maximize', pruner=\"HyperbandPruner\", sampler=sampler)\n",
    "study_cat.optimize(objective_cat_no_enc, n_trials=100)"
   ]
  },
  {
   "cell_type": "code",
   "execution_count": null,
   "metadata": {},
   "outputs": [],
   "source": [
    "print(\"Best hyperparameters:\", study_cat.best_params, sep=\"\\n\")\n",
    "print(\"-----------------------------------------------------------------------------------------------------------------\")\n",
    "print(\"Best CSI Index:\", study_cat.best_value, sep=\"\\n\")"
   ]
  },
  {
   "cell_type": "code",
   "execution_count": null,
   "metadata": {},
   "outputs": [],
   "source": [
    "# 하이퍼파라미터별 중요도를 확인할 수 있는 그래프\n",
    "optuna.visualization.plot_param_importances(study_cat)"
   ]
  },
  {
   "cell_type": "code",
   "execution_count": null,
   "metadata": {},
   "outputs": [],
   "source": [
    "# 하이퍼파라미터 최적화 과정을 확인\n",
    "optuna.visualization.plot_optimization_history(study_cat)"
   ]
  },
  {
   "cell_type": "code",
   "execution_count": null,
   "metadata": {},
   "outputs": [],
   "source": [
    "# 하이퍼파라미터 튜닝을 통해 나온 최적의 하이퍼 파라미터 best_params에 선언\n",
    "best_params_no_enc = study_cat.best_params"
   ]
  },
  {
   "cell_type": "code",
   "execution_count": null,
   "metadata": {},
   "outputs": [],
   "source": [
    "best_params_no_enc"
   ]
  },
  {
   "cell_type": "code",
   "execution_count": null,
   "metadata": {},
   "outputs": [],
   "source": []
  },
  {
   "cell_type": "code",
   "execution_count": null,
   "metadata": {},
   "outputs": [],
   "source": [
    "# 모델 비교\n",
    "\n",
    "models_tuned = [\n",
    "    (\"Decision Tree\", DecisionTreeClassifier(random_state=42)),\n",
    "    (\"CatBoost\", CatBoostClassifier(**params_dict)),\n",
    "    (\"CatBoost_tuned\", cat_optuna),\n",
    "    (\"CatBoost_tuned_no_enc\", cat_optuna_no_enc),\n",
    "]"
   ]
  },
  {
   "cell_type": "code",
   "execution_count": null,
   "metadata": {},
   "outputs": [],
   "source": [
    "# 학습\n",
    "cat_optuna_no_enc.fit(X_train_no_enc, y_train, cat_features=cat_features)"
   ]
  },
  {
   "cell_type": "code",
   "execution_count": null,
   "metadata": {},
   "outputs": [],
   "source": []
  },
  {
   "cell_type": "code",
   "execution_count": null,
   "metadata": {},
   "outputs": [],
   "source": []
  },
  {
   "cell_type": "markdown",
   "metadata": {},
   "source": [
    "### 3-6. 모델 학습 (CatBoost)"
   ]
  },
  {
   "cell_type": "code",
   "execution_count": 49,
   "metadata": {},
   "outputs": [],
   "source": [
    "train_data = X_train\n",
    "eval_data = X_val\n",
    "\n",
    "cat_features = cat_features\n",
    "\n",
    "train_label = y_train\n",
    "eval_label = y_val\n",
    "\n",
    "train_dataset = Pool(data=train_data,\n",
    "                    label=train_label,\n",
    "                    cat_features=cat_features)\n",
    "\n",
    "eval_dataset = Pool(data=eval_data,\n",
    "                    label=eval_label,\n",
    "                    cat_features=cat_features)"
   ]
  },
  {
   "cell_type": "code",
   "execution_count": 50,
   "metadata": {},
   "outputs": [
    {
     "data": {
      "text/plain": [
       "<catboost.core.Pool at 0x16d01876b70>"
      ]
     },
     "execution_count": 50,
     "metadata": {},
     "output_type": "execute_result"
    }
   ],
   "source": [
    "eval_dataset"
   ]
  },
  {
   "cell_type": "code",
   "execution_count": 510,
   "metadata": {},
   "outputs": [
    {
     "data": {
      "text/plain": [
       "<catboost.core.CatBoostClassifier at 0x1bf886138c0>"
      ]
     },
     "execution_count": 510,
     "metadata": {},
     "output_type": "execute_result"
    }
   ],
   "source": [
    "cat_no_enc = CatBoostClassifier(loss_function='MultiClass', \n",
    "                                verbose=0, \n",
    "                                task_type=\"GPU\",\n",
    "                                devices=\"0\",\n",
    "                                random_state=42)\n",
    "\n",
    "cat_no_enc.fit(train_dataset)"
   ]
  },
  {
   "cell_type": "code",
   "execution_count": 511,
   "metadata": {},
   "outputs": [],
   "source": [
    "y_val_pred_cat = cat_no_enc.predict(eval_dataset)"
   ]
  },
  {
   "cell_type": "code",
   "execution_count": 512,
   "metadata": {},
   "outputs": [
    {
     "name": "stdout",
     "output_type": "stream",
     "text": [
      "[[   705    206     10   1046]\n",
      " [   167    826     90   1939]\n",
      " [    40    211    228   2566]\n",
      " [    68    166    112 775106]]\n"
     ]
    },
    {
     "data": {
      "text/plain": [
       "0.20990453460620526"
      ]
     },
     "execution_count": 512,
     "metadata": {},
     "output_type": "execute_result"
    }
   ],
   "source": [
    "cat_cm = confusion_matrix(y_val, y_val_pred_cat)\n",
    "print(cat_cm)\n",
    "\n",
    "csi_cat = csi_index(y_val, y_val_pred_cat)\n",
    "csi_cat"
   ]
  },
  {
   "cell_type": "code",
   "execution_count": 513,
   "metadata": {},
   "outputs": [
    {
     "data": {
      "image/png": "[encoded data removed]",
      "text/plain": [
       "<Figure size 1000x500 with 2 Axes>"
      ]
     },
     "metadata": {
      "image/png": {
       "height": 469,
       "width": 803
      }
     },
     "output_type": "display_data"
    }
   ],
   "source": [
    "# Confusion Matrix 시각화\n",
    "\n",
    "plt.figure(figsize=(10,5))\n",
    "\n",
    "# target 컬럼 값들 unique_value에 선언\n",
    "unique_value = np.unique(y_val_pred_cat, return_counts = False)\n",
    "\n",
    "# Confusion Matrix에 label 표시하기 위해 \"class\" + value 합쳐준다\n",
    "unique_value_list = []\n",
    "for i, value in enumerate(unique_value):\n",
    "    unique_value_list.append(\"class \" + str(int(value)))\n",
    "\n",
    "\n",
    "pred_labels = unique_value_list\n",
    "sns.heatmap(cat_cm, \n",
    "            annot=True, \n",
    "            fmt=\"d\", \n",
    "            cmap=\"Blues\", \n",
    "            xticklabels = pred_labels, \n",
    "            yticklabels = pred_labels)\n",
    "\n",
    "plt.title(f'Confusion Matrix with CatBoost (CSI Index : {np.round(csi_cat, 4)})')\n",
    "plt.xlabel('Predicted Label')\n",
    "plt.ylabel('True Label')\n",
    "plt.show()"
   ]
  },
  {
   "cell_type": "markdown",
   "metadata": {},
   "source": [
    "## 4. 하이퍼 파라미터 튜닝"
   ]
  },
  {
   "cell_type": "markdown",
   "metadata": {},
   "source": [
    "#### 4-1. CatBoost 튜닝"
   ]
  },
  {
   "cell_type": "code",
   "execution_count": 318,
   "metadata": {},
   "outputs": [],
   "source": [
    "# optuna sampling seed 고정\n",
    "sampler = TPESampler(seed=42)"
   ]
  },
  {
   "cell_type": "code",
   "execution_count": 331,
   "metadata": {},
   "outputs": [],
   "source": [
    "# https://practicaldatascience.co.uk/machine-learning/how-to-tune-a-catboostclassifier-model-with-optuna\n",
    "# https://optuna.readthedocs.io/en/stable/tutorial/10_key_features/002_configurations.html#configurations\n",
    "# https://catboost.ai/en/docs/concepts/parameter-tuning#methods-for-hyperparameter-search-by-optuna\n",
    "\n",
    "def objective_cat(trial):\n",
    "    params = {\n",
    "        # \"loss_function\":'MultiClass',\n",
    "        \"iterations\": trial.suggest_int(\"iterations\", 100, 1000),\n",
    "        # \"iterations\" : trial.suggest_int('n_estimators', 500, 4000),\n",
    "        \"learning_rate\": trial.suggest_float(\"learning_rate\", 1e-3, 1e-1, log=True),\n",
    "        \"depth\": trial.suggest_int(\"depth\", 3, 10),\n",
    "        \"l2_leaf_reg\": trial.suggest_float(\"l2_leaf_reg\", 1e-8, 100.0, log=True),\n",
    "        \"bootstrap_type\": trial.suggest_categorical(\"bootstrap_type\", [\"Bayesian\", \"Poisson\"]),\n",
    "        \"random_strength\": trial.suggest_float(\"random_strength\", 1e-8, 10.0, log=True),\n",
    "        \"bagging_temperature\": trial.suggest_float(\"bagging_temperature\", 0.0, 1.0),\n",
    "        \"od_type\": trial.suggest_categorical(\"od_type\", [\"IncToDec\", \"Iter\"]),\n",
    "        \"od_wait\": trial.suggest_int(\"od_wait\", 10, 50),\n",
    "        # \"subsample\": trial.suggest_float(\"subsample\", 0.05, 1.0),\n",
    "        # \"colsample_bylevel\": trial.suggest_float(\"colsample_bylevel\", 0.05, 1.0),\n",
    "        \"min_data_in_leaf\": trial.suggest_int(\"min_data_in_leaf\", 1, 100),\n",
    "        # \"verbose\": False\n",
    "        # \"loss_function\": trial.suggest_categorical(\"loss_function\", [\"MultiClass\"]),\n",
    "        \"loss_function\": \"MultiClass\",\n",
    "        # \"task_type\": trial.suggest_categorical(\"task_type\", [\"GPU\"]),\n",
    "        \"task_type\": \"GPU\",\n",
    "        # \"random_state\":trial.suggest_int(\"random_state\", 42, 42)\n",
    "        \"random_state\": 42,\n",
    "        \"verbose\" : False\n",
    "    }\n",
    "\n",
    "    model = CatBoostClassifier(**params\n",
    "                            #    loss_function=\"MultiClass\",\n",
    "                               )\n",
    "                            #    task_type=\"GPU\",\n",
    "                            #    random_state=42)\n",
    "\n",
    "    model.fit(X_train_labeled, y_train)\n",
    "    predictions = model.predict(X_val_labeled)\n",
    "    csi = csi_index(y_val, predictions)\n",
    "\n",
    "    return csi"
   ]
  },
  {
   "cell_type": "code",
   "execution_count": 332,
   "metadata": {},
   "outputs": [
    {
     "name": "stderr",
     "output_type": "stream",
     "text": [
      "[I 2024-06-24 21:59:40,509] A new study created in memory with name: catboost\n",
      "[I 2024-06-24 21:59:47,281] Trial 0 finished with value: 0.0 and parameters: {'iterations': 850, 'learning_rate': 0.0026587543983272706, 'depth': 4, 'l2_leaf_reg': 6.8240955406304e-07, 'bootstrap_type': 'Poisson', 'random_strength': 7.71800699380605e-05, 'bagging_temperature': 0.2912291401980419, 'od_type': 'IncToDec', 'od_wait': 21, 'min_data_in_leaf': 37}. Best is trial 0 with value: 0.0.\n",
      "[I 2024-06-24 21:59:58,284] Trial 1 finished with value: 0.0205579058699101 and parameters: {'iterations': 510, 'learning_rate': 0.037183641805732096, 'depth': 4, 'l2_leaf_reg': 0.0013878559259972313, 'bootstrap_type': 'Bayesian', 'random_strength': 0.0029369981104377003, 'bagging_temperature': 0.17052412368729153, 'od_type': 'Iter', 'od_wait': 49, 'min_data_in_leaf': 81}. Best is trial 1 with value: 0.0205579058699101.\n",
      "[I 2024-06-24 22:00:02,029] Trial 2 finished with value: 0.0 and parameters: {'iterations': 374, 'learning_rate': 0.0015679933916723015, 'depth': 8, 'l2_leaf_reg': 0.0002520721916536751, 'bootstrap_type': 'Poisson', 'random_strength': 2.039373116525212e-08, 'bagging_temperature': 0.9093204020787821, 'od_type': 'Iter', 'od_wait': 22, 'min_data_in_leaf': 53}. Best is trial 1 with value: 0.0205579058699101.\n",
      "[I 2024-06-24 22:00:36,930] Trial 3 finished with value: 0.017806355879807098 and parameters: {'iterations': 592, 'learning_rate': 0.0023426581058204046, 'depth': 10, 'l2_leaf_reg': 0.5640638061927871, 'bootstrap_type': 'Bayesian', 'random_strength': 0.002404915432737351, 'bagging_temperature': 0.9218742350231168, 'od_type': 'Iter', 'od_wait': 11, 'min_data_in_leaf': 33}. Best is trial 1 with value: 0.0205579058699101.\n",
      "[I 2024-06-24 22:00:41,058] Trial 4 finished with value: 0.0 and parameters: {'iterations': 450, 'learning_rate': 0.003488976654890368, 'depth': 9, 'l2_leaf_reg': 3.6943094166639305e-05, 'bootstrap_type': 'Poisson', 'random_strength': 1.8548894229694903e-07, 'bagging_temperature': 0.8021969807540397, 'od_type': 'Iter', 'od_wait': 41, 'min_data_in_leaf': 20}. Best is trial 1 with value: 0.0205579058699101.\n",
      "[I 2024-06-24 22:00:46,153] Trial 5 finished with value: 0.023545364891518736 and parameters: {'iterations': 104, 'learning_rate': 0.04274869455295218, 'depth': 8, 'l2_leaf_reg': 0.19501664486433953, 'bootstrap_type': 'Bayesian', 'random_strength': 1.683416412018213e-05, 'bagging_temperature': 0.11586905952512971, 'od_type': 'IncToDec', 'od_wait': 23, 'min_data_in_leaf': 7}. Best is trial 5 with value: 0.023545364891518736.\n",
      "[I 2024-06-24 22:01:00,886] Trial 6 finished with value: 0.011142751021418843 and parameters: {'iterations': 380, 'learning_rate': 0.004470608546778492, 'depth': 8, 'l2_leaf_reg': 0.023745138854603057, 'bootstrap_type': 'Bayesian', 'random_strength': 1.1921975182604538e-07, 'bagging_temperature': 0.713244787222995, 'od_type': 'IncToDec', 'od_wait': 41, 'min_data_in_leaf': 50}. Best is trial 5 with value: 0.023545364891518736.\n",
      "[I 2024-06-24 22:01:05,709] Trial 7 finished with value: 0.0 and parameters: {'iterations': 570, 'learning_rate': 0.007162786999897343, 'depth': 3, 'l2_leaf_reg': 1.1992625444272377e-07, 'bootstrap_type': 'Poisson', 'random_strength': 6.748446817464346e-06, 'bagging_temperature': 0.5085706911647028, 'od_type': 'IncToDec', 'od_wait': 26, 'min_data_in_leaf': 76}. Best is trial 5 with value: 0.023545364891518736.\n",
      "[I 2024-06-24 22:01:13,909] Trial 8 finished with value: 0.04223083805547271 and parameters: {'iterations': 306, 'learning_rate': 0.0014254757044027432, 'depth': 5, 'l2_leaf_reg': 4.094613109347322e-07, 'bootstrap_type': 'Bayesian', 'random_strength': 0.005019191993687105, 'bagging_temperature': 0.8714605901877177, 'od_type': 'IncToDec', 'od_wait': 46, 'min_data_in_leaf': 54}. Best is trial 8 with value: 0.04223083805547271.\n",
      "[I 2024-06-24 22:01:20,272] Trial 9 finished with value: 0.0 and parameters: {'iterations': 827, 'learning_rate': 0.06197015748809146, 'depth': 5, 'l2_leaf_reg': 1.2604314912760477e-07, 'bootstrap_type': 'Poisson', 'random_strength': 0.23021461620759875, 'bagging_temperature': 0.8607305832563434, 'od_type': 'Iter', 'od_wait': 27, 'min_data_in_leaf': 23}. Best is trial 8 with value: 0.04223083805547271.\n",
      "[I 2024-06-24 22:01:24,916] Trial 10 finished with value: 0.0 and parameters: {'iterations': 123, 'learning_rate': 0.0010280029617905616, 'depth': 6, 'l2_leaf_reg': 21.033106415444113, 'bootstrap_type': 'Bayesian', 'random_strength': 1.4756493047283814, 'bagging_temperature': 0.6074415617554525, 'od_type': 'IncToDec', 'od_wait': 37, 'min_data_in_leaf': 100}. Best is trial 8 with value: 0.04223083805547271.\n",
      "[I 2024-06-24 22:01:29,940] Trial 11 finished with value: 0.007809594644849386 and parameters: {'iterations': 117, 'learning_rate': 0.019121240972909452, 'depth': 7, 'l2_leaf_reg': 0.2685275698192396, 'bootstrap_type': 'Bayesian', 'random_strength': 0.06191836613933384, 'bagging_temperature': 0.011046564754964586, 'od_type': 'IncToDec', 'od_wait': 13, 'min_data_in_leaf': 6}. Best is trial 8 with value: 0.04223083805547271.\n",
      "[I 2024-06-24 22:01:37,709] Trial 12 finished with value: 0.04640550407188992 and parameters: {'iterations': 254, 'learning_rate': 0.09936382399770066, 'depth': 6, 'l2_leaf_reg': 8.61583449933299e-06, 'bootstrap_type': 'Bayesian', 'random_strength': 1.3547706415131761e-05, 'bagging_temperature': 0.3416430261964636, 'od_type': 'IncToDec', 'od_wait': 50, 'min_data_in_leaf': 1}. Best is trial 12 with value: 0.04640550407188992.\n",
      "[I 2024-06-24 22:01:45,846] Trial 13 finished with value: 0.0456856058168715 and parameters: {'iterations': 267, 'learning_rate': 0.01333222001920214, 'depth': 6, 'l2_leaf_reg': 5.63886253520408e-06, 'bootstrap_type': 'Bayesian', 'random_strength': 0.0009705898182210585, 'bagging_temperature': 0.3605405266617698, 'od_type': 'IncToDec', 'od_wait': 50, 'min_data_in_leaf': 59}. Best is trial 12 with value: 0.04640550407188992.\n",
      "[I 2024-06-24 22:01:54,035] Trial 14 finished with value: 0.047839506172839504 and parameters: {'iterations': 273, 'learning_rate': 0.08984088873175998, 'depth': 6, 'l2_leaf_reg': 8.758223111297918e-06, 'bootstrap_type': 'Bayesian', 'random_strength': 2.117416456016295e-06, 'bagging_temperature': 0.394745440914864, 'od_type': 'IncToDec', 'od_wait': 34, 'min_data_in_leaf': 70}. Best is trial 14 with value: 0.047839506172839504.\n",
      "[I 2024-06-24 22:02:02,541] Trial 15 finished with value: 0.05429046483047784 and parameters: {'iterations': 239, 'learning_rate': 0.09096015328440264, 'depth': 7, 'l2_leaf_reg': 1.074115813166602e-05, 'bootstrap_type': 'Bayesian', 'random_strength': 1.7574102080011637e-06, 'bagging_temperature': 0.35229716140074374, 'od_type': 'IncToDec', 'od_wait': 33, 'min_data_in_leaf': 71}. Best is trial 15 with value: 0.05429046483047784.\n",
      "[I 2024-06-24 22:02:24,135] Trial 16 finished with value: 0.0888950238111671 and parameters: {'iterations': 692, 'learning_rate': 0.09426733354241841, 'depth': 7, 'l2_leaf_reg': 1.445845315888713e-08, 'bootstrap_type': 'Bayesian', 'random_strength': 1.3091906547886307e-06, 'bagging_temperature': 0.48076535818858895, 'od_type': 'IncToDec', 'od_wait': 33, 'min_data_in_leaf': 72}. Best is trial 16 with value: 0.0888950238111671.\n",
      "[I 2024-06-24 22:02:45,643] Trial 17 finished with value: 0.08964637516830841 and parameters: {'iterations': 691, 'learning_rate': 0.022002596514397833, 'depth': 7, 'l2_leaf_reg': 3.83279592653704e-08, 'bootstrap_type': 'Bayesian', 'random_strength': 4.246789666833594e-07, 'bagging_temperature': 0.5228952247619013, 'od_type': 'IncToDec', 'od_wait': 32, 'min_data_in_leaf': 94}. Best is trial 17 with value: 0.08964637516830841.\n",
      "[I 2024-06-24 22:03:26,678] Trial 18 finished with value: 0.1385528920167143 and parameters: {'iterations': 698, 'learning_rate': 0.025120135327194624, 'depth': 10, 'l2_leaf_reg': 1.3010242089036219e-08, 'bootstrap_type': 'Bayesian', 'random_strength': 4.002115488199144e-07, 'bagging_temperature': 0.5490364848145018, 'od_type': 'IncToDec', 'od_wait': 30, 'min_data_in_leaf': 99}. Best is trial 18 with value: 0.1385528920167143.\n",
      "[I 2024-06-24 22:04:23,685] Trial 19 finished with value: 0.13077326147166704 and parameters: {'iterations': 960, 'learning_rate': 0.024549049762406717, 'depth': 10, 'l2_leaf_reg': 1.0495661208934116e-08, 'bootstrap_type': 'Bayesian', 'random_strength': 5.4534510711112046e-08, 'bagging_temperature': 0.629096388183182, 'od_type': 'IncToDec', 'od_wait': 17, 'min_data_in_leaf': 98}. Best is trial 18 with value: 0.1385528920167143.\n",
      "[I 2024-06-24 22:05:20,907] Trial 20 finished with value: 0.13769488561853416 and parameters: {'iterations': 981, 'learning_rate': 0.008720848585040823, 'depth': 10, 'l2_leaf_reg': 1.0068753456779249e-08, 'bootstrap_type': 'Bayesian', 'random_strength': 1.1084736405609443e-08, 'bagging_temperature': 0.6735622704737831, 'od_type': 'IncToDec', 'od_wait': 16, 'min_data_in_leaf': 87}. Best is trial 18 with value: 0.1385528920167143.\n",
      "[I 2024-06-24 22:06:19,292] Trial 21 finished with value: 0.13659921902733405 and parameters: {'iterations': 999, 'learning_rate': 0.008463738516503151, 'depth': 10, 'l2_leaf_reg': 2.0729832296553686e-08, 'bootstrap_type': 'Bayesian', 'random_strength': 1.13947210008889e-08, 'bagging_temperature': 0.6689585241926572, 'od_type': 'IncToDec', 'od_wait': 16, 'min_data_in_leaf': 88}. Best is trial 18 with value: 0.1385528920167143.\n",
      "[I 2024-06-24 22:07:04,471] Trial 22 finished with value: 0.11514530415050142 and parameters: {'iterations': 1000, 'learning_rate': 0.00751169114801992, 'depth': 9, 'l2_leaf_reg': 6.117802856457412e-07, 'bootstrap_type': 'Bayesian', 'random_strength': 1.6218134071774495e-08, 'bagging_temperature': 0.6817651271491076, 'od_type': 'IncToDec', 'od_wait': 17, 'min_data_in_leaf': 86}. Best is trial 18 with value: 0.1385528920167143.\n",
      "[I 2024-06-24 22:07:57,513] Trial 23 finished with value: 0.13411078717201166 and parameters: {'iterations': 896, 'learning_rate': 0.011531507706874168, 'depth': 10, 'l2_leaf_reg': 5.1520651133326036e-08, 'bootstrap_type': 'Bayesian', 'random_strength': 1.140515728980022e-08, 'bagging_temperature': 0.758231129088197, 'od_type': 'IncToDec', 'od_wait': 16, 'min_data_in_leaf': 89}. Best is trial 18 with value: 0.1385528920167143.\n",
      "[I 2024-06-24 22:08:29,532] Trial 24 finished with value: 0.1093268334647645 and parameters: {'iterations': 706, 'learning_rate': 0.006379698120168489, 'depth': 9, 'l2_leaf_reg': 1.0213530713937982e-08, 'bootstrap_type': 'Bayesian', 'random_strength': 2.9833858849929005e-07, 'bagging_temperature': 0.589893059593082, 'od_type': 'IncToDec', 'od_wait': 13, 'min_data_in_leaf': 89}. Best is trial 18 with value: 0.1385528920167143.\n",
      "[I 2024-06-24 22:09:15,279] Trial 25 finished with value: 0.12997231531400263 and parameters: {'iterations': 775, 'learning_rate': 0.014075836468945276, 'depth': 10, 'l2_leaf_reg': 9.259088872685945e-07, 'bootstrap_type': 'Bayesian', 'random_strength': 6.20552292066172e-08, 'bagging_temperature': 0.7790328322834236, 'od_type': 'IncToDec', 'od_wait': 28, 'min_data_in_leaf': 82}. Best is trial 18 with value: 0.1385528920167143.\n",
      "[I 2024-06-24 22:09:21,982] Trial 26 finished with value: 0.0 and parameters: {'iterations': 911, 'learning_rate': 0.005067933091592135, 'depth': 9, 'l2_leaf_reg': 0.0002686973310770088, 'bootstrap_type': 'Poisson', 'random_strength': 0.00011995208196325145, 'bagging_temperature': 0.4571091340412785, 'od_type': 'Iter', 'od_wait': 20, 'min_data_in_leaf': 63}. Best is trial 18 with value: 0.1385528920167143.\n",
      "[I 2024-06-24 22:10:04,002] Trial 27 finished with value: 0.12346773002510708 and parameters: {'iterations': 752, 'learning_rate': 0.031513444250904334, 'depth': 10, 'l2_leaf_reg': 1.714375380234932e-07, 'bootstrap_type': 'Bayesian', 'random_strength': 1.1244211549691986e-08, 'bagging_temperature': 0.6523628934188335, 'od_type': 'IncToDec', 'od_wait': 10, 'min_data_in_leaf': 94}. Best is trial 18 with value: 0.1385528920167143.\n",
      "[I 2024-06-24 22:10:47,024] Trial 28 finished with value: 0.1160241592722392 and parameters: {'iterations': 933, 'learning_rate': 0.009298251935104926, 'depth': 9, 'l2_leaf_reg': 1.5026647119614942e-06, 'bootstrap_type': 'Bayesian', 'random_strength': 4.2604699655249713e-07, 'bagging_temperature': 0.5622568956465667, 'od_type': 'IncToDec', 'od_wait': 19, 'min_data_in_leaf': 79}. Best is trial 18 with value: 0.1385528920167143.\n",
      "[I 2024-06-24 22:10:53,655] Trial 29 finished with value: 0.0 and parameters: {'iterations': 848, 'learning_rate': 0.01580880042552407, 'depth': 8, 'l2_leaf_reg': 4.7637733347508446e-08, 'bootstrap_type': 'Poisson', 'random_strength': 5.0929103401441196e-08, 'bagging_temperature': 0.7182316931753123, 'od_type': 'IncToDec', 'od_wait': 15, 'min_data_in_leaf': 41}. Best is trial 18 with value: 0.1385528920167143.\n",
      "[W 2024-06-24 22:10:55,701] Trial 30 failed with parameters: {'iterations': 643, 'learning_rate': 0.009603748820931093, 'depth': 10, 'l2_leaf_reg': 88.59722348582764, 'bootstrap_type': 'Bayesian', 'random_strength': 4.351735538469263e-06, 'bagging_temperature': 0.9990756465496373, 'od_type': 'IncToDec', 'od_wait': 23, 'min_data_in_leaf': 64} because of the following error: KeyboardInterrupt('').\n",
      "Traceback (most recent call last):\n",
      "  File \"c:\\Users\\aryij\\anaconda3\\envs\\weather2\\Lib\\site-packages\\optuna\\study\\_optimize.py\", line 196, in _run_trial\n",
      "    value_or_values = func(trial)\n",
      "                      ^^^^^^^^^^^\n",
      "  File \"C:\\Users\\aryij\\AppData\\Local\\Temp\\ipykernel_21320\\3272598872.py\", line 37, in objective_cat\n",
      "    model.fit(X_train_labeled, y_train)\n",
      "  File \"c:\\Users\\aryij\\anaconda3\\envs\\weather2\\Lib\\site-packages\\catboost\\core.py\", line 5220, in fit\n",
      "    self._fit(X, y, cat_features, text_features, embedding_features, None, sample_weight, None, None, None, None, baseline, use_best_model,\n",
      "  File \"c:\\Users\\aryij\\anaconda3\\envs\\weather2\\Lib\\site-packages\\catboost\\core.py\", line 2400, in _fit\n",
      "    self._train(\n",
      "  File \"c:\\Users\\aryij\\anaconda3\\envs\\weather2\\Lib\\site-packages\\catboost\\core.py\", line 1780, in _train\n",
      "    self._object._train(train_pool, test_pool, params, allow_clear_pool, init_model._object if init_model else None)\n",
      "  File \"_catboost.pyx\", line 4833, in _catboost._CatBoost._train\n",
      "  File \"_catboost.pyx\", line 4882, in _catboost._CatBoost._train\n",
      "KeyboardInterrupt\n",
      "[W 2024-06-24 22:10:55,702] Trial 30 failed with value None.\n"
     ]
    },
    {
     "ename": "KeyboardInterrupt",
     "evalue": "",
     "output_type": "error",
     "traceback": [
      "\u001b[1;31m---------------------------------------------------------------------------\u001b[0m",
      "\u001b[1;31mKeyboardInterrupt\u001b[0m                         Traceback (most recent call last)",
      "Cell \u001b[1;32mIn[332], line 2\u001b[0m\n\u001b[0;32m      1\u001b[0m study_cat \u001b[38;5;241m=\u001b[39m optuna\u001b[38;5;241m.\u001b[39mcreate_study(study_name\u001b[38;5;241m=\u001b[39m\u001b[38;5;124m\"\u001b[39m\u001b[38;5;124mcatboost\u001b[39m\u001b[38;5;124m\"\u001b[39m, direction\u001b[38;5;241m=\u001b[39m\u001b[38;5;124m'\u001b[39m\u001b[38;5;124mmaximize\u001b[39m\u001b[38;5;124m'\u001b[39m, pruner\u001b[38;5;241m=\u001b[39m\u001b[38;5;124m\"\u001b[39m\u001b[38;5;124mHyperbandPruner\u001b[39m\u001b[38;5;124m\"\u001b[39m, sampler\u001b[38;5;241m=\u001b[39msampler)\n\u001b[1;32m----> 2\u001b[0m study_cat\u001b[38;5;241m.\u001b[39moptimize(objective_cat, n_trials\u001b[38;5;241m=\u001b[39m\u001b[38;5;241m100\u001b[39m)\n",
      "File \u001b[1;32mc:\\Users\\aryij\\anaconda3\\envs\\weather2\\Lib\\site-packages\\optuna\\study\\study.py:451\u001b[0m, in \u001b[0;36mStudy.optimize\u001b[1;34m(self, func, n_trials, timeout, n_jobs, catch, callbacks, gc_after_trial, show_progress_bar)\u001b[0m\n\u001b[0;32m    348\u001b[0m \u001b[38;5;28;01mdef\u001b[39;00m \u001b[38;5;21moptimize\u001b[39m(\n\u001b[0;32m    349\u001b[0m     \u001b[38;5;28mself\u001b[39m,\n\u001b[0;32m    350\u001b[0m     func: ObjectiveFuncType,\n\u001b[1;32m   (...)\u001b[0m\n\u001b[0;32m    357\u001b[0m     show_progress_bar: \u001b[38;5;28mbool\u001b[39m \u001b[38;5;241m=\u001b[39m \u001b[38;5;28;01mFalse\u001b[39;00m,\n\u001b[0;32m    358\u001b[0m ) \u001b[38;5;241m-\u001b[39m\u001b[38;5;241m>\u001b[39m \u001b[38;5;28;01mNone\u001b[39;00m:\n\u001b[0;32m    359\u001b[0m \u001b[38;5;250m    \u001b[39m\u001b[38;5;124;03m\"\"\"Optimize an objective function.\u001b[39;00m\n\u001b[0;32m    360\u001b[0m \n\u001b[0;32m    361\u001b[0m \u001b[38;5;124;03m    Optimization is done by choosing a suitable set of hyperparameter values from a given\u001b[39;00m\n\u001b[1;32m   (...)\u001b[0m\n\u001b[0;32m    449\u001b[0m \u001b[38;5;124;03m            If nested invocation of this method occurs.\u001b[39;00m\n\u001b[0;32m    450\u001b[0m \u001b[38;5;124;03m    \"\"\"\u001b[39;00m\n\u001b[1;32m--> 451\u001b[0m     _optimize(\n\u001b[0;32m    452\u001b[0m         study\u001b[38;5;241m=\u001b[39m\u001b[38;5;28mself\u001b[39m,\n\u001b[0;32m    453\u001b[0m         func\u001b[38;5;241m=\u001b[39mfunc,\n\u001b[0;32m    454\u001b[0m         n_trials\u001b[38;5;241m=\u001b[39mn_trials,\n\u001b[0;32m    455\u001b[0m         timeout\u001b[38;5;241m=\u001b[39mtimeout,\n\u001b[0;32m    456\u001b[0m         n_jobs\u001b[38;5;241m=\u001b[39mn_jobs,\n\u001b[0;32m    457\u001b[0m         catch\u001b[38;5;241m=\u001b[39m\u001b[38;5;28mtuple\u001b[39m(catch) \u001b[38;5;28;01mif\u001b[39;00m \u001b[38;5;28misinstance\u001b[39m(catch, Iterable) \u001b[38;5;28;01melse\u001b[39;00m (catch,),\n\u001b[0;32m    458\u001b[0m         callbacks\u001b[38;5;241m=\u001b[39mcallbacks,\n\u001b[0;32m    459\u001b[0m         gc_after_trial\u001b[38;5;241m=\u001b[39mgc_after_trial,\n\u001b[0;32m    460\u001b[0m         show_progress_bar\u001b[38;5;241m=\u001b[39mshow_progress_bar,\n\u001b[0;32m    461\u001b[0m     )\n",
      "File \u001b[1;32mc:\\Users\\aryij\\anaconda3\\envs\\weather2\\Lib\\site-packages\\optuna\\study\\_optimize.py:62\u001b[0m, in \u001b[0;36m_optimize\u001b[1;34m(study, func, n_trials, timeout, n_jobs, catch, callbacks, gc_after_trial, show_progress_bar)\u001b[0m\n\u001b[0;32m     60\u001b[0m \u001b[38;5;28;01mtry\u001b[39;00m:\n\u001b[0;32m     61\u001b[0m     \u001b[38;5;28;01mif\u001b[39;00m n_jobs \u001b[38;5;241m==\u001b[39m \u001b[38;5;241m1\u001b[39m:\n\u001b[1;32m---> 62\u001b[0m         _optimize_sequential(\n\u001b[0;32m     63\u001b[0m             study,\n\u001b[0;32m     64\u001b[0m             func,\n\u001b[0;32m     65\u001b[0m             n_trials,\n\u001b[0;32m     66\u001b[0m             timeout,\n\u001b[0;32m     67\u001b[0m             catch,\n\u001b[0;32m     68\u001b[0m             callbacks,\n\u001b[0;32m     69\u001b[0m             gc_after_trial,\n\u001b[0;32m     70\u001b[0m             reseed_sampler_rng\u001b[38;5;241m=\u001b[39m\u001b[38;5;28;01mFalse\u001b[39;00m,\n\u001b[0;32m     71\u001b[0m             time_start\u001b[38;5;241m=\u001b[39m\u001b[38;5;28;01mNone\u001b[39;00m,\n\u001b[0;32m     72\u001b[0m             progress_bar\u001b[38;5;241m=\u001b[39mprogress_bar,\n\u001b[0;32m     73\u001b[0m         )\n\u001b[0;32m     74\u001b[0m     \u001b[38;5;28;01melse\u001b[39;00m:\n\u001b[0;32m     75\u001b[0m         \u001b[38;5;28;01mif\u001b[39;00m n_jobs \u001b[38;5;241m==\u001b[39m \u001b[38;5;241m-\u001b[39m\u001b[38;5;241m1\u001b[39m:\n",
      "File \u001b[1;32mc:\\Users\\aryij\\anaconda3\\envs\\weather2\\Lib\\site-packages\\optuna\\study\\_optimize.py:159\u001b[0m, in \u001b[0;36m_optimize_sequential\u001b[1;34m(study, func, n_trials, timeout, catch, callbacks, gc_after_trial, reseed_sampler_rng, time_start, progress_bar)\u001b[0m\n\u001b[0;32m    156\u001b[0m         \u001b[38;5;28;01mbreak\u001b[39;00m\n\u001b[0;32m    158\u001b[0m \u001b[38;5;28;01mtry\u001b[39;00m:\n\u001b[1;32m--> 159\u001b[0m     frozen_trial \u001b[38;5;241m=\u001b[39m _run_trial(study, func, catch)\n\u001b[0;32m    160\u001b[0m \u001b[38;5;28;01mfinally\u001b[39;00m:\n\u001b[0;32m    161\u001b[0m     \u001b[38;5;66;03m# The following line mitigates memory problems that can be occurred in some\u001b[39;00m\n\u001b[0;32m    162\u001b[0m     \u001b[38;5;66;03m# environments (e.g., services that use computing containers such as GitHub Actions).\u001b[39;00m\n\u001b[0;32m    163\u001b[0m     \u001b[38;5;66;03m# Please refer to the following PR for further details:\u001b[39;00m\n\u001b[0;32m    164\u001b[0m     \u001b[38;5;66;03m# https://github.com/optuna/optuna/pull/325.\u001b[39;00m\n\u001b[0;32m    165\u001b[0m     \u001b[38;5;28;01mif\u001b[39;00m gc_after_trial:\n",
      "File \u001b[1;32mc:\\Users\\aryij\\anaconda3\\envs\\weather2\\Lib\\site-packages\\optuna\\study\\_optimize.py:247\u001b[0m, in \u001b[0;36m_run_trial\u001b[1;34m(study, func, catch)\u001b[0m\n\u001b[0;32m    240\u001b[0m         \u001b[38;5;28;01massert\u001b[39;00m \u001b[38;5;28;01mFalse\u001b[39;00m, \u001b[38;5;124m\"\u001b[39m\u001b[38;5;124mShould not reach.\u001b[39m\u001b[38;5;124m\"\u001b[39m\n\u001b[0;32m    242\u001b[0m \u001b[38;5;28;01mif\u001b[39;00m (\n\u001b[0;32m    243\u001b[0m     frozen_trial\u001b[38;5;241m.\u001b[39mstate \u001b[38;5;241m==\u001b[39m TrialState\u001b[38;5;241m.\u001b[39mFAIL\n\u001b[0;32m    244\u001b[0m     \u001b[38;5;129;01mand\u001b[39;00m func_err \u001b[38;5;129;01mis\u001b[39;00m \u001b[38;5;129;01mnot\u001b[39;00m \u001b[38;5;28;01mNone\u001b[39;00m\n\u001b[0;32m    245\u001b[0m     \u001b[38;5;129;01mand\u001b[39;00m \u001b[38;5;129;01mnot\u001b[39;00m \u001b[38;5;28misinstance\u001b[39m(func_err, catch)\n\u001b[0;32m    246\u001b[0m ):\n\u001b[1;32m--> 247\u001b[0m     \u001b[38;5;28;01mraise\u001b[39;00m func_err\n\u001b[0;32m    248\u001b[0m \u001b[38;5;28;01mreturn\u001b[39;00m frozen_trial\n",
      "File \u001b[1;32mc:\\Users\\aryij\\anaconda3\\envs\\weather2\\Lib\\site-packages\\optuna\\study\\_optimize.py:196\u001b[0m, in \u001b[0;36m_run_trial\u001b[1;34m(study, func, catch)\u001b[0m\n\u001b[0;32m    194\u001b[0m \u001b[38;5;28;01mwith\u001b[39;00m get_heartbeat_thread(trial\u001b[38;5;241m.\u001b[39m_trial_id, study\u001b[38;5;241m.\u001b[39m_storage):\n\u001b[0;32m    195\u001b[0m     \u001b[38;5;28;01mtry\u001b[39;00m:\n\u001b[1;32m--> 196\u001b[0m         value_or_values \u001b[38;5;241m=\u001b[39m func(trial)\n\u001b[0;32m    197\u001b[0m     \u001b[38;5;28;01mexcept\u001b[39;00m exceptions\u001b[38;5;241m.\u001b[39mTrialPruned \u001b[38;5;28;01mas\u001b[39;00m e:\n\u001b[0;32m    198\u001b[0m         \u001b[38;5;66;03m# TODO(mamu): Handle multi-objective cases.\u001b[39;00m\n\u001b[0;32m    199\u001b[0m         state \u001b[38;5;241m=\u001b[39m TrialState\u001b[38;5;241m.\u001b[39mPRUNED\n",
      "Cell \u001b[1;32mIn[331], line 37\u001b[0m, in \u001b[0;36mobjective_cat\u001b[1;34m(trial)\u001b[0m\n\u001b[0;32m     31\u001b[0m model \u001b[38;5;241m=\u001b[39m CatBoostClassifier(\u001b[38;5;241m*\u001b[39m\u001b[38;5;241m*\u001b[39mparams\n\u001b[0;32m     32\u001b[0m                         \u001b[38;5;66;03m#    loss_function=\"MultiClass\",\u001b[39;00m\n\u001b[0;32m     33\u001b[0m                            )\n\u001b[0;32m     34\u001b[0m                         \u001b[38;5;66;03m#    task_type=\"GPU\",\u001b[39;00m\n\u001b[0;32m     35\u001b[0m                         \u001b[38;5;66;03m#    random_state=42)\u001b[39;00m\n\u001b[1;32m---> 37\u001b[0m model\u001b[38;5;241m.\u001b[39mfit(X_train_labeled, y_train)\n\u001b[0;32m     38\u001b[0m predictions \u001b[38;5;241m=\u001b[39m model\u001b[38;5;241m.\u001b[39mpredict(X_val_labeled)\n\u001b[0;32m     39\u001b[0m csi \u001b[38;5;241m=\u001b[39m csi_index(y_val, predictions)\n",
      "File \u001b[1;32mc:\\Users\\aryij\\anaconda3\\envs\\weather2\\Lib\\site-packages\\catboost\\core.py:5220\u001b[0m, in \u001b[0;36mCatBoostClassifier.fit\u001b[1;34m(self, X, y, cat_features, text_features, embedding_features, sample_weight, baseline, use_best_model, eval_set, verbose, logging_level, plot, plot_file, column_description, verbose_eval, metric_period, silent, early_stopping_rounds, save_snapshot, snapshot_file, snapshot_interval, init_model, callbacks, log_cout, log_cerr)\u001b[0m\n\u001b[0;32m   5217\u001b[0m \u001b[38;5;28;01mif\u001b[39;00m \u001b[38;5;124m'\u001b[39m\u001b[38;5;124mloss_function\u001b[39m\u001b[38;5;124m'\u001b[39m \u001b[38;5;129;01min\u001b[39;00m params:\n\u001b[0;32m   5218\u001b[0m     CatBoostClassifier\u001b[38;5;241m.\u001b[39m_check_is_compatible_loss(params[\u001b[38;5;124m'\u001b[39m\u001b[38;5;124mloss_function\u001b[39m\u001b[38;5;124m'\u001b[39m])\n\u001b[1;32m-> 5220\u001b[0m \u001b[38;5;28mself\u001b[39m\u001b[38;5;241m.\u001b[39m_fit(X, y, cat_features, text_features, embedding_features, \u001b[38;5;28;01mNone\u001b[39;00m, sample_weight, \u001b[38;5;28;01mNone\u001b[39;00m, \u001b[38;5;28;01mNone\u001b[39;00m, \u001b[38;5;28;01mNone\u001b[39;00m, \u001b[38;5;28;01mNone\u001b[39;00m, baseline, use_best_model,\n\u001b[0;32m   5221\u001b[0m           eval_set, verbose, logging_level, plot, plot_file, column_description, verbose_eval, metric_period,\n\u001b[0;32m   5222\u001b[0m           silent, early_stopping_rounds, save_snapshot, snapshot_file, snapshot_interval, init_model, callbacks, log_cout, log_cerr)\n\u001b[0;32m   5223\u001b[0m \u001b[38;5;28;01mreturn\u001b[39;00m \u001b[38;5;28mself\u001b[39m\n",
      "File \u001b[1;32mc:\\Users\\aryij\\anaconda3\\envs\\weather2\\Lib\\site-packages\\catboost\\core.py:2400\u001b[0m, in \u001b[0;36mCatBoost._fit\u001b[1;34m(self, X, y, cat_features, text_features, embedding_features, pairs, sample_weight, group_id, group_weight, subgroup_id, pairs_weight, baseline, use_best_model, eval_set, verbose, logging_level, plot, plot_file, column_description, verbose_eval, metric_period, silent, early_stopping_rounds, save_snapshot, snapshot_file, snapshot_interval, init_model, callbacks, log_cout, log_cerr)\u001b[0m\n\u001b[0;32m   2397\u001b[0m allow_clear_pool \u001b[38;5;241m=\u001b[39m train_params[\u001b[38;5;124m\"\u001b[39m\u001b[38;5;124mallow_clear_pool\u001b[39m\u001b[38;5;124m\"\u001b[39m]\n\u001b[0;32m   2399\u001b[0m \u001b[38;5;28;01mwith\u001b[39;00m plot_wrapper(plot, plot_file, \u001b[38;5;124m'\u001b[39m\u001b[38;5;124mTraining plots\u001b[39m\u001b[38;5;124m'\u001b[39m, [_get_train_dir(\u001b[38;5;28mself\u001b[39m\u001b[38;5;241m.\u001b[39mget_params())]):\n\u001b[1;32m-> 2400\u001b[0m     \u001b[38;5;28mself\u001b[39m\u001b[38;5;241m.\u001b[39m_train(\n\u001b[0;32m   2401\u001b[0m         train_pool,\n\u001b[0;32m   2402\u001b[0m         train_params[\u001b[38;5;124m\"\u001b[39m\u001b[38;5;124meval_sets\u001b[39m\u001b[38;5;124m\"\u001b[39m],\n\u001b[0;32m   2403\u001b[0m         params,\n\u001b[0;32m   2404\u001b[0m         allow_clear_pool,\n\u001b[0;32m   2405\u001b[0m         train_params[\u001b[38;5;124m\"\u001b[39m\u001b[38;5;124minit_model\u001b[39m\u001b[38;5;124m\"\u001b[39m]\n\u001b[0;32m   2406\u001b[0m     )\n\u001b[0;32m   2408\u001b[0m \u001b[38;5;66;03m# Have property feature_importance possibly set\u001b[39;00m\n\u001b[0;32m   2409\u001b[0m loss \u001b[38;5;241m=\u001b[39m \u001b[38;5;28mself\u001b[39m\u001b[38;5;241m.\u001b[39m_object\u001b[38;5;241m.\u001b[39m_get_loss_function_name()\n",
      "File \u001b[1;32mc:\\Users\\aryij\\anaconda3\\envs\\weather2\\Lib\\site-packages\\catboost\\core.py:1780\u001b[0m, in \u001b[0;36m_CatBoostBase._train\u001b[1;34m(self, train_pool, test_pool, params, allow_clear_pool, init_model)\u001b[0m\n\u001b[0;32m   1779\u001b[0m \u001b[38;5;28;01mdef\u001b[39;00m \u001b[38;5;21m_train\u001b[39m(\u001b[38;5;28mself\u001b[39m, train_pool, test_pool, params, allow_clear_pool, init_model):\n\u001b[1;32m-> 1780\u001b[0m     \u001b[38;5;28mself\u001b[39m\u001b[38;5;241m.\u001b[39m_object\u001b[38;5;241m.\u001b[39m_train(train_pool, test_pool, params, allow_clear_pool, init_model\u001b[38;5;241m.\u001b[39m_object \u001b[38;5;28;01mif\u001b[39;00m init_model \u001b[38;5;28;01melse\u001b[39;00m \u001b[38;5;28;01mNone\u001b[39;00m)\n\u001b[0;32m   1781\u001b[0m     \u001b[38;5;28mself\u001b[39m\u001b[38;5;241m.\u001b[39m_set_trained_model_attributes()\n",
      "File \u001b[1;32m_catboost.pyx:4833\u001b[0m, in \u001b[0;36m_catboost._CatBoost._train\u001b[1;34m()\u001b[0m\n",
      "File \u001b[1;32m_catboost.pyx:4882\u001b[0m, in \u001b[0;36m_catboost._CatBoost._train\u001b[1;34m()\u001b[0m\n",
      "\u001b[1;31mKeyboardInterrupt\u001b[0m: "
     ]
    }
   ],
   "source": [
    "study_cat = optuna.create_study(study_name=\"catboost\", direction='maximize', pruner=\"HyperbandPruner\", sampler=sampler)\n",
    "study_cat.optimize(objective_cat, n_trials=100)"
   ]
  },
  {
   "cell_type": "code",
   "execution_count": null,
   "metadata": {},
   "outputs": [
    {
     "name": "stdout",
     "output_type": "stream",
     "text": [
      "Best hyperparameters:\n",
      "{'iterations': 847, 'learning_rate': 0.09884590626951238, 'depth': 10, 'l2_leaf_reg': 0.05525462311307756, 'bootstrap_type': 'Bayesian', 'random_strength': 0.0008044769106469332, 'bagging_temperature': 0.8651534530853479, 'od_type': 'IncToDec', 'od_wait': 37, 'min_data_in_leaf': 54, 'loss_function': 'MultiClass', 'task_type': 'GPU', 'random_state': 42}\n",
      "-----------------------------------------------------------------------------------------------------------------\n",
      "Best CSI Index:\n",
      "0.24231918708906156\n"
     ]
    }
   ],
   "source": [
    "print(\"Best hyperparameters:\", study_cat.best_params, sep=\"\\n\")\n",
    "print(\"-----------------------------------------------------------------------------------------------------------------\")\n",
    "print(\"Best CSI Index:\", study_cat.best_value, sep=\"\\n\")"
   ]
  },
  {
   "cell_type": "code",
   "execution_count": null,
   "metadata": {},
   "outputs": [
    {
     "data": {
      "application/vnd.plotly.v1+json": {
       "config": {
        "plotlyServerURL": "https://plot.ly"
       },
       "data": [
        {
         "cliponaxis": false,
         "hovertemplate": [
          "loss_function (CategoricalDistribution): 0.0<extra></extra>",
          "random_state (IntDistribution): 0.0<extra></extra>",
          "task_type (CategoricalDistribution): 0.0<extra></extra>",
          "l2_leaf_reg (FloatDistribution): 0.0007732438563471542<extra></extra>",
          "random_strength (FloatDistribution): 0.0024337852951380056<extra></extra>",
          "od_type (CategoricalDistribution): 0.003840720592423091<extra></extra>",
          "iterations (IntDistribution): 0.010200491809378624<extra></extra>",
          "od_wait (IntDistribution): 0.01651529338896545<extra></extra>",
          "bagging_temperature (FloatDistribution): 0.017557764778822146<extra></extra>",
          "min_data_in_leaf (IntDistribution): 0.0328000797502148<extra></extra>",
          "depth (IntDistribution): 0.04564777966703132<extra></extra>",
          "learning_rate (FloatDistribution): 0.2135179347498701<extra></extra>",
          "bootstrap_type (CategoricalDistribution): 0.6567129061118089<extra></extra>"
         ],
         "name": "Objective Value",
         "orientation": "h",
         "text": [
          "<0.01",
          "<0.01",
          "<0.01",
          "<0.01",
          "<0.01",
          "<0.01",
          "0.01",
          "0.02",
          "0.02",
          "0.03",
          "0.05",
          "0.21",
          "0.66"
         ],
         "textposition": "outside",
         "type": "bar",
         "x": [
          0,
          0,
          0,
          0.0007732438563471542,
          0.0024337852951380056,
          0.003840720592423091,
          0.010200491809378624,
          0.01651529338896545,
          0.017557764778822146,
          0.0328000797502148,
          0.04564777966703132,
          0.2135179347498701,
          0.6567129061118089
         ],
         "y": [
          "loss_function",
          "random_state",
          "task_type",
          "l2_leaf_reg",
          "random_strength",
          "od_type",
          "iterations",
          "od_wait",
          "bagging_temperature",
          "min_data_in_leaf",
          "depth",
          "learning_rate",
          "bootstrap_type"
         ]
        }
       ],
       "layout": {
        "template": {
         "data": {
          "bar": [
           {
            "error_x": {
             "color": "#2a3f5f"
            },
            "error_y": {
             "color": "#2a3f5f"
            },
            "marker": {
             "line": {
              "color": "#E5ECF6",
              "width": 0.5
             },
             "pattern": {
              "fillmode": "overlay",
              "size": 10,
              "solidity": 0.2
             }
            },
            "type": "bar"
           }
          ],
          "barpolar": [
           {
            "marker": {
             "line": {
              "color": "#E5ECF6",
              "width": 0.5
             },
             "pattern": {
              "fillmode": "overlay",
              "size": 10,
              "solidity": 0.2
             }
            },
            "type": "barpolar"
           }
          ],
          "carpet": [
           {
            "aaxis": {
             "endlinecolor": "#2a3f5f",
             "gridcolor": "white",
             "linecolor": "white",
             "minorgridcolor": "white",
             "startlinecolor": "#2a3f5f"
            },
            "baxis": {
             "endlinecolor": "#2a3f5f",
             "gridcolor": "white",
             "linecolor": "white",
             "minorgridcolor": "white",
             "startlinecolor": "#2a3f5f"
            },
            "type": "carpet"
           }
          ],
          "choropleth": [
           {
            "colorbar": {
             "outlinewidth": 0,
             "ticks": ""
            },
            "type": "choropleth"
           }
          ],
          "contour": [
           {
            "colorbar": {
             "outlinewidth": 0,
             "ticks": ""
            },
            "colorscale": [
             [
              0,
              "#0d0887"
             ],
             [
              0.1111111111111111,
              "#46039f"
             ],
             [
              0.2222222222222222,
              "#7201a8"
             ],
             [
              0.3333333333333333,
              "#9c179e"
             ],
             [
              0.4444444444444444,
              "#bd3786"
             ],
             [
              0.5555555555555556,
              "#d8576b"
             ],
             [
              0.6666666666666666,
              "#ed7953"
             ],
             [
              0.7777777777777778,
              "#fb9f3a"
             ],
             [
              0.8888888888888888,
              "#fdca26"
             ],
             [
              1,
              "#f0f921"
             ]
            ],
            "type": "contour"
           }
          ],
          "contourcarpet": [
           {
            "colorbar": {
             "outlinewidth": 0,
             "ticks": ""
            },
            "type": "contourcarpet"
           }
          ],
          "heatmap": [
           {
            "colorbar": {
             "outlinewidth": 0,
             "ticks": ""
            },
            "colorscale": [
             [
              0,
              "#0d0887"
             ],
             [
              0.1111111111111111,
              "#46039f"
             ],
             [
              0.2222222222222222,
              "#7201a8"
             ],
             [
              0.3333333333333333,
              "#9c179e"
             ],
             [
              0.4444444444444444,
              "#bd3786"
             ],
             [
              0.5555555555555556,
              "#d8576b"
             ],
             [
              0.6666666666666666,
              "#ed7953"
             ],
             [
              0.7777777777777778,
              "#fb9f3a"
             ],
             [
              0.8888888888888888,
              "#fdca26"
             ],
             [
              1,
              "#f0f921"
             ]
            ],
            "type": "heatmap"
           }
          ],
          "heatmapgl": [
           {
            "colorbar": {
             "outlinewidth": 0,
             "ticks": ""
            },
            "colorscale": [
             [
              0,
              "#0d0887"
             ],
             [
              0.1111111111111111,
              "#46039f"
             ],
             [
              0.2222222222222222,
              "#7201a8"
             ],
             [
              0.3333333333333333,
              "#9c179e"
             ],
             [
              0.4444444444444444,
              "#bd3786"
             ],
             [
              0.5555555555555556,
              "#d8576b"
             ],
             [
              0.6666666666666666,
              "#ed7953"
             ],
             [
              0.7777777777777778,
              "#fb9f3a"
             ],
             [
              0.8888888888888888,
              "#fdca26"
             ],
             [
              1,
              "#f0f921"
             ]
            ],
            "type": "heatmapgl"
           }
          ],
          "histogram": [
           {
            "marker": {
             "pattern": {
              "fillmode": "overlay",
              "size": 10,
              "solidity": 0.2
             }
            },
            "type": "histogram"
           }
          ],
          "histogram2d": [
           {
            "colorbar": {
             "outlinewidth": 0,
             "ticks": ""
            },
            "colorscale": [
             [
              0,
              "#0d0887"
             ],
             [
              0.1111111111111111,
              "#46039f"
             ],
             [
              0.2222222222222222,
              "#7201a8"
             ],
             [
              0.3333333333333333,
              "#9c179e"
             ],
             [
              0.4444444444444444,
              "#bd3786"
             ],
             [
              0.5555555555555556,
              "#d8576b"
             ],
             [
              0.6666666666666666,
              "#ed7953"
             ],
             [
              0.7777777777777778,
              "#fb9f3a"
             ],
             [
              0.8888888888888888,
              "#fdca26"
             ],
             [
              1,
              "#f0f921"
             ]
            ],
            "type": "histogram2d"
           }
          ],
          "histogram2dcontour": [
           {
            "colorbar": {
             "outlinewidth": 0,
             "ticks": ""
            },
            "colorscale": [
             [
              0,
              "#0d0887"
             ],
             [
              0.1111111111111111,
              "#46039f"
             ],
             [
              0.2222222222222222,
              "#7201a8"
             ],
             [
              0.3333333333333333,
              "#9c179e"
             ],
             [
              0.4444444444444444,
              "#bd3786"
             ],
             [
              0.5555555555555556,
              "#d8576b"
             ],
             [
              0.6666666666666666,
              "#ed7953"
             ],
             [
              0.7777777777777778,
              "#fb9f3a"
             ],
             [
              0.8888888888888888,
              "#fdca26"
             ],
             [
              1,
              "#f0f921"
             ]
            ],
            "type": "histogram2dcontour"
           }
          ],
          "mesh3d": [
           {
            "colorbar": {
             "outlinewidth": 0,
             "ticks": ""
            },
            "type": "mesh3d"
           }
          ],
          "parcoords": [
           {
            "line": {
             "colorbar": {
              "outlinewidth": 0,
              "ticks": ""
             }
            },
            "type": "parcoords"
           }
          ],
          "pie": [
           {
            "automargin": true,
            "type": "pie"
           }
          ],
          "scatter": [
           {
            "fillpattern": {
             "fillmode": "overlay",
             "size": 10,
             "solidity": 0.2
            },
            "type": "scatter"
           }
          ],
          "scatter3d": [
           {
            "line": {
             "colorbar": {
              "outlinewidth": 0,
              "ticks": ""
             }
            },
            "marker": {
             "colorbar": {
              "outlinewidth": 0,
              "ticks": ""
             }
            },
            "type": "scatter3d"
           }
          ],
          "scattercarpet": [
           {
            "marker": {
             "colorbar": {
              "outlinewidth": 0,
              "ticks": ""
             }
            },
            "type": "scattercarpet"
           }
          ],
          "scattergeo": [
           {
            "marker": {
             "colorbar": {
              "outlinewidth": 0,
              "ticks": ""
             }
            },
            "type": "scattergeo"
           }
          ],
          "scattergl": [
           {
            "marker": {
             "colorbar": {
              "outlinewidth": 0,
              "ticks": ""
             }
            },
            "type": "scattergl"
           }
          ],
          "scattermapbox": [
           {
            "marker": {
             "colorbar": {
              "outlinewidth": 0,
              "ticks": ""
             }
            },
            "type": "scattermapbox"
           }
          ],
          "scatterpolar": [
           {
            "marker": {
             "colorbar": {
              "outlinewidth": 0,
              "ticks": ""
             }
            },
            "type": "scatterpolar"
           }
          ],
          "scatterpolargl": [
           {
            "marker": {
             "colorbar": {
              "outlinewidth": 0,
              "ticks": ""
             }
            },
            "type": "scatterpolargl"
           }
          ],
          "scatterternary": [
           {
            "marker": {
             "colorbar": {
              "outlinewidth": 0,
              "ticks": ""
             }
            },
            "type": "scatterternary"
           }
          ],
          "surface": [
           {
            "colorbar": {
             "outlinewidth": 0,
             "ticks": ""
            },
            "colorscale": [
             [
              0,
              "#0d0887"
             ],
             [
              0.1111111111111111,
              "#46039f"
             ],
             [
              0.2222222222222222,
              "#7201a8"
             ],
             [
              0.3333333333333333,
              "#9c179e"
             ],
             [
              0.4444444444444444,
              "#bd3786"
             ],
             [
              0.5555555555555556,
              "#d8576b"
             ],
             [
              0.6666666666666666,
              "#ed7953"
             ],
             [
              0.7777777777777778,
              "#fb9f3a"
             ],
             [
              0.8888888888888888,
              "#fdca26"
             ],
             [
              1,
              "#f0f921"
             ]
            ],
            "type": "surface"
           }
          ],
          "table": [
           {
            "cells": {
             "fill": {
              "color": "#EBF0F8"
             },
             "line": {
              "color": "white"
             }
            },
            "header": {
             "fill": {
              "color": "#C8D4E3"
             },
             "line": {
              "color": "white"
             }
            },
            "type": "table"
           }
          ]
         },
         "layout": {
          "annotationdefaults": {
           "arrowcolor": "#2a3f5f",
           "arrowhead": 0,
           "arrowwidth": 1
          },
          "autotypenumbers": "strict",
          "coloraxis": {
           "colorbar": {
            "outlinewidth": 0,
            "ticks": ""
           }
          },
          "colorscale": {
           "diverging": [
            [
             0,
             "#8e0152"
            ],
            [
             0.1,
             "#c51b7d"
            ],
            [
             0.2,
             "#de77ae"
            ],
            [
             0.3,
             "#f1b6da"
            ],
            [
             0.4,
             "#fde0ef"
            ],
            [
             0.5,
             "#f7f7f7"
            ],
            [
             0.6,
             "#e6f5d0"
            ],
            [
             0.7,
             "#b8e186"
            ],
            [
             0.8,
             "#7fbc41"
            ],
            [
             0.9,
             "#4d9221"
            ],
            [
             1,
             "#276419"
            ]
           ],
           "sequential": [
            [
             0,
             "#0d0887"
            ],
            [
             0.1111111111111111,
             "#46039f"
            ],
            [
             0.2222222222222222,
             "#7201a8"
            ],
            [
             0.3333333333333333,
             "#9c179e"
            ],
            [
             0.4444444444444444,
             "#bd3786"
            ],
            [
             0.5555555555555556,
             "#d8576b"
            ],
            [
             0.6666666666666666,
             "#ed7953"
            ],
            [
             0.7777777777777778,
             "#fb9f3a"
            ],
            [
             0.8888888888888888,
             "#fdca26"
            ],
            [
             1,
             "#f0f921"
            ]
           ],
           "sequentialminus": [
            [
             0,
             "#0d0887"
            ],
            [
             0.1111111111111111,
             "#46039f"
            ],
            [
             0.2222222222222222,
             "#7201a8"
            ],
            [
             0.3333333333333333,
             "#9c179e"
            ],
            [
             0.4444444444444444,
             "#bd3786"
            ],
            [
             0.5555555555555556,
             "#d8576b"
            ],
            [
             0.6666666666666666,
             "#ed7953"
            ],
            [
             0.7777777777777778,
             "#fb9f3a"
            ],
            [
             0.8888888888888888,
             "#fdca26"
            ],
            [
             1,
             "#f0f921"
            ]
           ]
          },
          "colorway": [
           "#636efa",
           "#EF553B",
           "#00cc96",
           "#ab63fa",
           "#FFA15A",
           "#19d3f3",
           "#FF6692",
           "#B6E880",
           "#FF97FF",
           "#FECB52"
          ],
          "font": {
           "color": "#2a3f5f"
          },
          "geo": {
           "bgcolor": "white",
           "lakecolor": "white",
           "landcolor": "#E5ECF6",
           "showlakes": true,
           "showland": true,
           "subunitcolor": "white"
          },
          "hoverlabel": {
           "align": "left"
          },
          "hovermode": "closest",
          "mapbox": {
           "style": "light"
          },
          "paper_bgcolor": "white",
          "plot_bgcolor": "#E5ECF6",
          "polar": {
           "angularaxis": {
            "gridcolor": "white",
            "linecolor": "white",
            "ticks": ""
           },
           "bgcolor": "#E5ECF6",
           "radialaxis": {
            "gridcolor": "white",
            "linecolor": "white",
            "ticks": ""
           }
          },
          "scene": {
           "xaxis": {
            "backgroundcolor": "#E5ECF6",
            "gridcolor": "white",
            "gridwidth": 2,
            "linecolor": "white",
            "showbackground": true,
            "ticks": "",
            "zerolinecolor": "white"
           },
           "yaxis": {
            "backgroundcolor": "#E5ECF6",
            "gridcolor": "white",
            "gridwidth": 2,
            "linecolor": "white",
            "showbackground": true,
            "ticks": "",
            "zerolinecolor": "white"
           },
           "zaxis": {
            "backgroundcolor": "#E5ECF6",
            "gridcolor": "white",
            "gridwidth": 2,
            "linecolor": "white",
            "showbackground": true,
            "ticks": "",
            "zerolinecolor": "white"
           }
          },
          "shapedefaults": {
           "line": {
            "color": "#2a3f5f"
           }
          },
          "ternary": {
           "aaxis": {
            "gridcolor": "white",
            "linecolor": "white",
            "ticks": ""
           },
           "baxis": {
            "gridcolor": "white",
            "linecolor": "white",
            "ticks": ""
           },
           "bgcolor": "#E5ECF6",
           "caxis": {
            "gridcolor": "white",
            "linecolor": "white",
            "ticks": ""
           }
          },
          "title": {
           "x": 0.05
          },
          "xaxis": {
           "automargin": true,
           "gridcolor": "white",
           "linecolor": "white",
           "ticks": "",
           "title": {
            "standoff": 15
           },
           "zerolinecolor": "white",
           "zerolinewidth": 2
          },
          "yaxis": {
           "automargin": true,
           "gridcolor": "white",
           "linecolor": "white",
           "ticks": "",
           "title": {
            "standoff": 15
           },
           "zerolinecolor": "white",
           "zerolinewidth": 2
          }
         }
        },
        "title": {
         "text": "Hyperparameter Importances"
        },
        "xaxis": {
         "title": {
          "text": "Hyperparameter Importance"
         }
        },
        "yaxis": {
         "title": {
          "text": "Hyperparameter"
         }
        }
       }
      }
     },
     "metadata": {},
     "output_type": "display_data"
    }
   ],
   "source": [
    "# 하이퍼파라미터별 중요도를 확인할 수 있는 그래프\n",
    "optuna.visualization.plot_param_importances(study_cat)"
   ]
  },
  {
   "cell_type": "code",
   "execution_count": null,
   "metadata": {},
   "outputs": [
    {
     "data": {
      "application/vnd.plotly.v1+json": {
       "config": {
        "plotlyServerURL": "https://plot.ly"
       },
       "data": [
        {
         "mode": "markers",
         "name": "Objective Value",
         "type": "scatter",
         "x": [
          0,
          1,
          2,
          3,
          4,
          5,
          6,
          7,
          8,
          9,
          10,
          11,
          12,
          13,
          14,
          15,
          16,
          17,
          18,
          19,
          20,
          21,
          22,
          23,
          24,
          25,
          26,
          27,
          28,
          29,
          30,
          31,
          32,
          33,
          34,
          35,
          36,
          37,
          38,
          39,
          40,
          41,
          42,
          43,
          44,
          45,
          46,
          47,
          48,
          49,
          50,
          51,
          52,
          53,
          54,
          55,
          56,
          57,
          58,
          59,
          60,
          61,
          62,
          63,
          64,
          65,
          66,
          67,
          68,
          69,
          70,
          71,
          72,
          73,
          74,
          75,
          76,
          77,
          78,
          79,
          80,
          81,
          82,
          83,
          84,
          85,
          86,
          87,
          88,
          89,
          90,
          91,
          92,
          93,
          94,
          95,
          96,
          97,
          98,
          99
         ],
         "y": [
          0,
          0.023410547067520947,
          0.011515601783060922,
          0,
          0.03853507868804236,
          0,
          0,
          0,
          0,
          0.03610562241781929,
          0,
          0.04893529893529894,
          0.04742573619434242,
          0.05638824694618686,
          0.03344216006353128,
          0.06444399268143931,
          0.0685913043478261,
          0.08020033388981636,
          0.08187215242302913,
          0.08048985696924371,
          0.11840700405722827,
          0.0767472240365774,
          0.16684736778701362,
          0.12227764934906923,
          0.12103150468312858,
          0.12721965458525905,
          0.05966499572074826,
          0.1325564457392571,
          0.055344679808987385,
          0,
          0.0639988845510318,
          0.12954186413902052,
          0.11088145896656534,
          0.14942389326864766,
          0.129126213592233,
          0.01163654369893538,
          0.17963566172035228,
          0,
          0.04657736266437262,
          0,
          0.09015044663845792,
          0.06749760306807287,
          0.14747939893359185,
          0.10537215251553174,
          0.16970428485214242,
          0,
          0.10243961645830804,
          0.1454171207167938,
          0.08967954185451443,
          0,
          0,
          0.07604052239716831,
          0.15618195015727074,
          0.13478102632536698,
          0.08640919090686873,
          0.14354995150339475,
          0.12683756530190743,
          0.16547633458419078,
          0.06710751898114131,
          0.12845152657827516,
          0.22526290630975143,
          0.2156227501799856,
          0.22552070864256643,
          0.23353221957040574,
          0.2205864751645721,
          0.21517472474868357,
          0.2265727587441805,
          0.2250776954338991,
          0.22613908872901678,
          0,
          0.07336851589651178,
          0.22110190853438963,
          0.23012652184292193,
          0.21983946328022044,
          0.24231918708906156,
          0.09535333978702808,
          0.19766462019983147,
          0.1560154926167998,
          0.22179640718562874,
          0.18888354186717998,
          0.08059094125973107,
          0.2214114832535885,
          0.2130950953351721,
          0.18777871519826445,
          0.19869182929444565,
          0.16153195602271353,
          0.2248414502812014,
          0,
          0.19245101574708498,
          0.14270126091173618,
          0.21964627151051624,
          0.223151355871461,
          0.20352087546092543,
          0.02651375015414971,
          0.2395223880597015,
          0.2333253930443068,
          0.2328080229226361,
          0.1084731305089565,
          0.016833766555266742,
          0
         ]
        },
        {
         "mode": "lines",
         "name": "Best Value",
         "type": "scatter",
         "x": [
          0,
          1,
          2,
          3,
          4,
          5,
          6,
          7,
          8,
          9,
          10,
          11,
          12,
          13,
          14,
          15,
          16,
          17,
          18,
          19,
          20,
          21,
          22,
          23,
          24,
          25,
          26,
          27,
          28,
          29,
          30,
          31,
          32,
          33,
          34,
          35,
          36,
          37,
          38,
          39,
          40,
          41,
          42,
          43,
          44,
          45,
          46,
          47,
          48,
          49,
          50,
          51,
          52,
          53,
          54,
          55,
          56,
          57,
          58,
          59,
          60,
          61,
          62,
          63,
          64,
          65,
          66,
          67,
          68,
          69,
          70,
          71,
          72,
          73,
          74,
          75,
          76,
          77,
          78,
          79,
          80,
          81,
          82,
          83,
          84,
          85,
          86,
          87,
          88,
          89,
          90,
          91,
          92,
          93,
          94,
          95,
          96,
          97,
          98,
          99
         ],
         "y": [
          0,
          0.023410547067520947,
          0.023410547067520947,
          0.023410547067520947,
          0.03853507868804236,
          0.03853507868804236,
          0.03853507868804236,
          0.03853507868804236,
          0.03853507868804236,
          0.03853507868804236,
          0.03853507868804236,
          0.04893529893529894,
          0.04893529893529894,
          0.05638824694618686,
          0.05638824694618686,
          0.06444399268143931,
          0.0685913043478261,
          0.08020033388981636,
          0.08187215242302913,
          0.08187215242302913,
          0.11840700405722827,
          0.11840700405722827,
          0.16684736778701362,
          0.16684736778701362,
          0.16684736778701362,
          0.16684736778701362,
          0.16684736778701362,
          0.16684736778701362,
          0.16684736778701362,
          0.16684736778701362,
          0.16684736778701362,
          0.16684736778701362,
          0.16684736778701362,
          0.16684736778701362,
          0.16684736778701362,
          0.16684736778701362,
          0.17963566172035228,
          0.17963566172035228,
          0.17963566172035228,
          0.17963566172035228,
          0.17963566172035228,
          0.17963566172035228,
          0.17963566172035228,
          0.17963566172035228,
          0.17963566172035228,
          0.17963566172035228,
          0.17963566172035228,
          0.17963566172035228,
          0.17963566172035228,
          0.17963566172035228,
          0.17963566172035228,
          0.17963566172035228,
          0.17963566172035228,
          0.17963566172035228,
          0.17963566172035228,
          0.17963566172035228,
          0.17963566172035228,
          0.17963566172035228,
          0.17963566172035228,
          0.17963566172035228,
          0.22526290630975143,
          0.22526290630975143,
          0.22552070864256643,
          0.23353221957040574,
          0.23353221957040574,
          0.23353221957040574,
          0.23353221957040574,
          0.23353221957040574,
          0.23353221957040574,
          0.23353221957040574,
          0.23353221957040574,
          0.23353221957040574,
          0.23353221957040574,
          0.23353221957040574,
          0.24231918708906156,
          0.24231918708906156,
          0.24231918708906156,
          0.24231918708906156,
          0.24231918708906156,
          0.24231918708906156,
          0.24231918708906156,
          0.24231918708906156,
          0.24231918708906156,
          0.24231918708906156,
          0.24231918708906156,
          0.24231918708906156,
          0.24231918708906156,
          0.24231918708906156,
          0.24231918708906156,
          0.24231918708906156,
          0.24231918708906156,
          0.24231918708906156,
          0.24231918708906156,
          0.24231918708906156,
          0.24231918708906156,
          0.24231918708906156,
          0.24231918708906156,
          0.24231918708906156,
          0.24231918708906156,
          0.24231918708906156
         ]
        },
        {
         "marker": {
          "color": "#cccccc"
         },
         "mode": "markers",
         "name": "Infeasible Trial",
         "showlegend": false,
         "type": "scatter",
         "x": [],
         "y": []
        }
       ],
       "layout": {
        "template": {
         "data": {
          "bar": [
           {
            "error_x": {
             "color": "#2a3f5f"
            },
            "error_y": {
             "color": "#2a3f5f"
            },
            "marker": {
             "line": {
              "color": "#E5ECF6",
              "width": 0.5
             },
             "pattern": {
              "fillmode": "overlay",
              "size": 10,
              "solidity": 0.2
             }
            },
            "type": "bar"
           }
          ],
          "barpolar": [
           {
            "marker": {
             "line": {
              "color": "#E5ECF6",
              "width": 0.5
             },
             "pattern": {
              "fillmode": "overlay",
              "size": 10,
              "solidity": 0.2
             }
            },
            "type": "barpolar"
           }
          ],
          "carpet": [
           {
            "aaxis": {
             "endlinecolor": "#2a3f5f",
             "gridcolor": "white",
             "linecolor": "white",
             "minorgridcolor": "white",
             "startlinecolor": "#2a3f5f"
            },
            "baxis": {
             "endlinecolor": "#2a3f5f",
             "gridcolor": "white",
             "linecolor": "white",
             "minorgridcolor": "white",
             "startlinecolor": "#2a3f5f"
            },
            "type": "carpet"
           }
          ],
          "choropleth": [
           {
            "colorbar": {
             "outlinewidth": 0,
             "ticks": ""
            },
            "type": "choropleth"
           }
          ],
          "contour": [
           {
            "colorbar": {
             "outlinewidth": 0,
             "ticks": ""
            },
            "colorscale": [
             [
              0,
              "#0d0887"
             ],
             [
              0.1111111111111111,
              "#46039f"
             ],
             [
              0.2222222222222222,
              "#7201a8"
             ],
             [
              0.3333333333333333,
              "#9c179e"
             ],
             [
              0.4444444444444444,
              "#bd3786"
             ],
             [
              0.5555555555555556,
              "#d8576b"
             ],
             [
              0.6666666666666666,
              "#ed7953"
             ],
             [
              0.7777777777777778,
              "#fb9f3a"
             ],
             [
              0.8888888888888888,
              "#fdca26"
             ],
             [
              1,
              "#f0f921"
             ]
            ],
            "type": "contour"
           }
          ],
          "contourcarpet": [
           {
            "colorbar": {
             "outlinewidth": 0,
             "ticks": ""
            },
            "type": "contourcarpet"
           }
          ],
          "heatmap": [
           {
            "colorbar": {
             "outlinewidth": 0,
             "ticks": ""
            },
            "colorscale": [
             [
              0,
              "#0d0887"
             ],
             [
              0.1111111111111111,
              "#46039f"
             ],
             [
              0.2222222222222222,
              "#7201a8"
             ],
             [
              0.3333333333333333,
              "#9c179e"
             ],
             [
              0.4444444444444444,
              "#bd3786"
             ],
             [
              0.5555555555555556,
              "#d8576b"
             ],
             [
              0.6666666666666666,
              "#ed7953"
             ],
             [
              0.7777777777777778,
              "#fb9f3a"
             ],
             [
              0.8888888888888888,
              "#fdca26"
             ],
             [
              1,
              "#f0f921"
             ]
            ],
            "type": "heatmap"
           }
          ],
          "heatmapgl": [
           {
            "colorbar": {
             "outlinewidth": 0,
             "ticks": ""
            },
            "colorscale": [
             [
              0,
              "#0d0887"
             ],
             [
              0.1111111111111111,
              "#46039f"
             ],
             [
              0.2222222222222222,
              "#7201a8"
             ],
             [
              0.3333333333333333,
              "#9c179e"
             ],
             [
              0.4444444444444444,
              "#bd3786"
             ],
             [
              0.5555555555555556,
              "#d8576b"
             ],
             [
              0.6666666666666666,
              "#ed7953"
             ],
             [
              0.7777777777777778,
              "#fb9f3a"
             ],
             [
              0.8888888888888888,
              "#fdca26"
             ],
             [
              1,
              "#f0f921"
             ]
            ],
            "type": "heatmapgl"
           }
          ],
          "histogram": [
           {
            "marker": {
             "pattern": {
              "fillmode": "overlay",
              "size": 10,
              "solidity": 0.2
             }
            },
            "type": "histogram"
           }
          ],
          "histogram2d": [
           {
            "colorbar": {
             "outlinewidth": 0,
             "ticks": ""
            },
            "colorscale": [
             [
              0,
              "#0d0887"
             ],
             [
              0.1111111111111111,
              "#46039f"
             ],
             [
              0.2222222222222222,
              "#7201a8"
             ],
             [
              0.3333333333333333,
              "#9c179e"
             ],
             [
              0.4444444444444444,
              "#bd3786"
             ],
             [
              0.5555555555555556,
              "#d8576b"
             ],
             [
              0.6666666666666666,
              "#ed7953"
             ],
             [
              0.7777777777777778,
              "#fb9f3a"
             ],
             [
              0.8888888888888888,
              "#fdca26"
             ],
             [
              1,
              "#f0f921"
             ]
            ],
            "type": "histogram2d"
           }
          ],
          "histogram2dcontour": [
           {
            "colorbar": {
             "outlinewidth": 0,
             "ticks": ""
            },
            "colorscale": [
             [
              0,
              "#0d0887"
             ],
             [
              0.1111111111111111,
              "#46039f"
             ],
             [
              0.2222222222222222,
              "#7201a8"
             ],
             [
              0.3333333333333333,
              "#9c179e"
             ],
             [
              0.4444444444444444,
              "#bd3786"
             ],
             [
              0.5555555555555556,
              "#d8576b"
             ],
             [
              0.6666666666666666,
              "#ed7953"
             ],
             [
              0.7777777777777778,
              "#fb9f3a"
             ],
             [
              0.8888888888888888,
              "#fdca26"
             ],
             [
              1,
              "#f0f921"
             ]
            ],
            "type": "histogram2dcontour"
           }
          ],
          "mesh3d": [
           {
            "colorbar": {
             "outlinewidth": 0,
             "ticks": ""
            },
            "type": "mesh3d"
           }
          ],
          "parcoords": [
           {
            "line": {
             "colorbar": {
              "outlinewidth": 0,
              "ticks": ""
             }
            },
            "type": "parcoords"
           }
          ],
          "pie": [
           {
            "automargin": true,
            "type": "pie"
           }
          ],
          "scatter": [
           {
            "fillpattern": {
             "fillmode": "overlay",
             "size": 10,
             "solidity": 0.2
            },
            "type": "scatter"
           }
          ],
          "scatter3d": [
           {
            "line": {
             "colorbar": {
              "outlinewidth": 0,
              "ticks": ""
             }
            },
            "marker": {
             "colorbar": {
              "outlinewidth": 0,
              "ticks": ""
             }
            },
            "type": "scatter3d"
           }
          ],
          "scattercarpet": [
           {
            "marker": {
             "colorbar": {
              "outlinewidth": 0,
              "ticks": ""
             }
            },
            "type": "scattercarpet"
           }
          ],
          "scattergeo": [
           {
            "marker": {
             "colorbar": {
              "outlinewidth": 0,
              "ticks": ""
             }
            },
            "type": "scattergeo"
           }
          ],
          "scattergl": [
           {
            "marker": {
             "colorbar": {
              "outlinewidth": 0,
              "ticks": ""
             }
            },
            "type": "scattergl"
           }
          ],
          "scattermapbox": [
           {
            "marker": {
             "colorbar": {
              "outlinewidth": 0,
              "ticks": ""
             }
            },
            "type": "scattermapbox"
           }
          ],
          "scatterpolar": [
           {
            "marker": {
             "colorbar": {
              "outlinewidth": 0,
              "ticks": ""
             }
            },
            "type": "scatterpolar"
           }
          ],
          "scatterpolargl": [
           {
            "marker": {
             "colorbar": {
              "outlinewidth": 0,
              "ticks": ""
             }
            },
            "type": "scatterpolargl"
           }
          ],
          "scatterternary": [
           {
            "marker": {
             "colorbar": {
              "outlinewidth": 0,
              "ticks": ""
             }
            },
            "type": "scatterternary"
           }
          ],
          "surface": [
           {
            "colorbar": {
             "outlinewidth": 0,
             "ticks": ""
            },
            "colorscale": [
             [
              0,
              "#0d0887"
             ],
             [
              0.1111111111111111,
              "#46039f"
             ],
             [
              0.2222222222222222,
              "#7201a8"
             ],
             [
              0.3333333333333333,
              "#9c179e"
             ],
             [
              0.4444444444444444,
              "#bd3786"
             ],
             [
              0.5555555555555556,
              "#d8576b"
             ],
             [
              0.6666666666666666,
              "#ed7953"
             ],
             [
              0.7777777777777778,
              "#fb9f3a"
             ],
             [
              0.8888888888888888,
              "#fdca26"
             ],
             [
              1,
              "#f0f921"
             ]
            ],
            "type": "surface"
           }
          ],
          "table": [
           {
            "cells": {
             "fill": {
              "color": "#EBF0F8"
             },
             "line": {
              "color": "white"
             }
            },
            "header": {
             "fill": {
              "color": "#C8D4E3"
             },
             "line": {
              "color": "white"
             }
            },
            "type": "table"
           }
          ]
         },
         "layout": {
          "annotationdefaults": {
           "arrowcolor": "#2a3f5f",
           "arrowhead": 0,
           "arrowwidth": 1
          },
          "autotypenumbers": "strict",
          "coloraxis": {
           "colorbar": {
            "outlinewidth": 0,
            "ticks": ""
           }
          },
          "colorscale": {
           "diverging": [
            [
             0,
             "#8e0152"
            ],
            [
             0.1,
             "#c51b7d"
            ],
            [
             0.2,
             "#de77ae"
            ],
            [
             0.3,
             "#f1b6da"
            ],
            [
             0.4,
             "#fde0ef"
            ],
            [
             0.5,
             "#f7f7f7"
            ],
            [
             0.6,
             "#e6f5d0"
            ],
            [
             0.7,
             "#b8e186"
            ],
            [
             0.8,
             "#7fbc41"
            ],
            [
             0.9,
             "#4d9221"
            ],
            [
             1,
             "#276419"
            ]
           ],
           "sequential": [
            [
             0,
             "#0d0887"
            ],
            [
             0.1111111111111111,
             "#46039f"
            ],
            [
             0.2222222222222222,
             "#7201a8"
            ],
            [
             0.3333333333333333,
             "#9c179e"
            ],
            [
             0.4444444444444444,
             "#bd3786"
            ],
            [
             0.5555555555555556,
             "#d8576b"
            ],
            [
             0.6666666666666666,
             "#ed7953"
            ],
            [
             0.7777777777777778,
             "#fb9f3a"
            ],
            [
             0.8888888888888888,
             "#fdca26"
            ],
            [
             1,
             "#f0f921"
            ]
           ],
           "sequentialminus": [
            [
             0,
             "#0d0887"
            ],
            [
             0.1111111111111111,
             "#46039f"
            ],
            [
             0.2222222222222222,
             "#7201a8"
            ],
            [
             0.3333333333333333,
             "#9c179e"
            ],
            [
             0.4444444444444444,
             "#bd3786"
            ],
            [
             0.5555555555555556,
             "#d8576b"
            ],
            [
             0.6666666666666666,
             "#ed7953"
            ],
            [
             0.7777777777777778,
             "#fb9f3a"
            ],
            [
             0.8888888888888888,
             "#fdca26"
            ],
            [
             1,
             "#f0f921"
            ]
           ]
          },
          "colorway": [
           "#636efa",
           "#EF553B",
           "#00cc96",
           "#ab63fa",
           "#FFA15A",
           "#19d3f3",
           "#FF6692",
           "#B6E880",
           "#FF97FF",
           "#FECB52"
          ],
          "font": {
           "color": "#2a3f5f"
          },
          "geo": {
           "bgcolor": "white",
           "lakecolor": "white",
           "landcolor": "#E5ECF6",
           "showlakes": true,
           "showland": true,
           "subunitcolor": "white"
          },
          "hoverlabel": {
           "align": "left"
          },
          "hovermode": "closest",
          "mapbox": {
           "style": "light"
          },
          "paper_bgcolor": "white",
          "plot_bgcolor": "#E5ECF6",
          "polar": {
           "angularaxis": {
            "gridcolor": "white",
            "linecolor": "white",
            "ticks": ""
           },
           "bgcolor": "#E5ECF6",
           "radialaxis": {
            "gridcolor": "white",
            "linecolor": "white",
            "ticks": ""
           }
          },
          "scene": {
           "xaxis": {
            "backgroundcolor": "#E5ECF6",
            "gridcolor": "white",
            "gridwidth": 2,
            "linecolor": "white",
            "showbackground": true,
            "ticks": "",
            "zerolinecolor": "white"
           },
           "yaxis": {
            "backgroundcolor": "#E5ECF6",
            "gridcolor": "white",
            "gridwidth": 2,
            "linecolor": "white",
            "showbackground": true,
            "ticks": "",
            "zerolinecolor": "white"
           },
           "zaxis": {
            "backgroundcolor": "#E5ECF6",
            "gridcolor": "white",
            "gridwidth": 2,
            "linecolor": "white",
            "showbackground": true,
            "ticks": "",
            "zerolinecolor": "white"
           }
          },
          "shapedefaults": {
           "line": {
            "color": "#2a3f5f"
           }
          },
          "ternary": {
           "aaxis": {
            "gridcolor": "white",
            "linecolor": "white",
            "ticks": ""
           },
           "baxis": {
            "gridcolor": "white",
            "linecolor": "white",
            "ticks": ""
           },
           "bgcolor": "#E5ECF6",
           "caxis": {
            "gridcolor": "white",
            "linecolor": "white",
            "ticks": ""
           }
          },
          "title": {
           "x": 0.05
          },
          "xaxis": {
           "automargin": true,
           "gridcolor": "white",
           "linecolor": "white",
           "ticks": "",
           "title": {
            "standoff": 15
           },
           "zerolinecolor": "white",
           "zerolinewidth": 2
          },
          "yaxis": {
           "automargin": true,
           "gridcolor": "white",
           "linecolor": "white",
           "ticks": "",
           "title": {
            "standoff": 15
           },
           "zerolinecolor": "white",
           "zerolinewidth": 2
          }
         }
        },
        "title": {
         "text": "Optimization History Plot"
        },
        "xaxis": {
         "title": {
          "text": "Trial"
         }
        },
        "yaxis": {
         "title": {
          "text": "Objective Value"
         }
        }
       }
      }
     },
     "metadata": {},
     "output_type": "display_data"
    }
   ],
   "source": [
    "# 하이퍼파라미터 최적화 과정을 확인\n",
    "optuna.visualization.plot_optimization_history(study_cat)"
   ]
  },
  {
   "cell_type": "code",
   "execution_count": null,
   "metadata": {},
   "outputs": [],
   "source": [
    "# 하이퍼파라미터 튜닝을 통해 나온 최적의 하이퍼 파라미터 best_params에 선언\n",
    "best_params = study_cat.best_params"
   ]
  },
  {
   "cell_type": "code",
   "execution_count": null,
   "metadata": {},
   "outputs": [],
   "source": [
    "# CatBoost 모델을 돌릴 때 추가로 설정해주는 하이퍼파라미터\n",
    "params_dict = {\"loss_function\" : \"MultiClass\",\n",
    "               \"verbose\" : 0,\n",
    "               \"task_type\" : \"GPU\",\n",
    "               \"devices\" : \"0\",\n",
    "               \"random_state\" : 42}"
   ]
  },
  {
   "cell_type": "code",
   "execution_count": 80,
   "metadata": {},
   "outputs": [],
   "source": [
    "# best_params에 params_dict을 합쳐준다\n",
    "def params(params):\n",
    "\n",
    "    params_dict = {\"loss_function\" : \"MultiClass\",\n",
    "                   \"verbose\" : 0,\n",
    "                   \"task_type\" : \"GPU\",\n",
    "                   \"devices\" : \"0\",\n",
    "                   \"random_state\" : 42}\n",
    "    \n",
    "    for key, value in params_dict.items():\n",
    "        params[key] = value\n",
    "    \n",
    "    return params"
   ]
  },
  {
   "cell_type": "code",
   "execution_count": 81,
   "metadata": {},
   "outputs": [
    {
     "data": {
      "text/plain": [
       "{'iterations': 969,\n",
       " 'learning_rate': 0.0878195653278425,\n",
       " 'depth': 10,\n",
       " 'l2_leaf_reg': 0.11654433378634937,\n",
       " 'bootstrap_type': 'Bayesian',\n",
       " 'random_strength': 1.3986307347140839e-06,\n",
       " 'bagging_temperature': 0.5870994114781527,\n",
       " 'od_type': 'IncToDec',\n",
       " 'od_wait': 23,\n",
       " 'min_data_in_leaf': 9,\n",
       " 'loss_function': 'MultiClass',\n",
       " 'verbose': 0,\n",
       " 'task_type': 'GPU',\n",
       " 'devices': '0',\n",
       " 'random_state': 42}"
      ]
     },
     "execution_count": 81,
     "metadata": {},
     "output_type": "execute_result"
    }
   ],
   "source": [
    "params(best_params)"
   ]
  },
  {
   "cell_type": "code",
   "execution_count": 83,
   "metadata": {},
   "outputs": [],
   "source": [
    "# 튜닝한 하이퍼 파라미터를 바탕으로, CatBoostClassifier 선언\n",
    "cat_optuna = CatBoostClassifier(**params(best_params))"
   ]
  },
  {
   "cell_type": "code",
   "execution_count": 85,
   "metadata": {},
   "outputs": [
    {
     "data": {
      "text/plain": [
       "{'iterations': 969,\n",
       " 'learning_rate': 0.0878195653278425,\n",
       " 'depth': 10,\n",
       " 'l2_leaf_reg': 0.11654433378634937,\n",
       " 'loss_function': 'MultiClass',\n",
       " 'od_wait': 23,\n",
       " 'od_type': 'IncToDec',\n",
       " 'verbose': 0,\n",
       " 'random_strength': 1.3986307347140839e-06,\n",
       " 'bagging_temperature': 0.5870994114781527,\n",
       " 'task_type': 'GPU',\n",
       " 'devices': '0',\n",
       " 'bootstrap_type': 'Bayesian',\n",
       " 'random_state': 42,\n",
       " 'min_data_in_leaf': 9}"
      ]
     },
     "execution_count": 85,
     "metadata": {},
     "output_type": "execute_result"
    }
   ],
   "source": [
    "cat_optuna.get_params()"
   ]
  },
  {
   "cell_type": "markdown",
   "metadata": {},
   "source": [
    "#### 4-2. CatBoost 인코딩 X"
   ]
  },
  {
   "cell_type": "code",
   "execution_count": 134,
   "metadata": {},
   "outputs": [],
   "source": [
    "# optuna sampling seed 고정\n",
    "sampler = TPESampler(seed=42)"
   ]
  },
  {
   "cell_type": "code",
   "execution_count": 1,
   "metadata": {},
   "outputs": [
    {
     "ename": "NameError",
     "evalue": "name 'cat_features' is not defined",
     "output_type": "error",
     "traceback": [
      "\u001b[1;31m---------------------------------------------------------------------------\u001b[0m",
      "\u001b[1;31mNameError\u001b[0m                                 Traceback (most recent call last)",
      "Cell \u001b[1;32mIn[1], line 1\u001b[0m\n\u001b[1;32m----> 1\u001b[0m \u001b[38;5;28;01mdef\u001b[39;00m \u001b[38;5;21mobjective_cat_no_enc\u001b[39m(trial, cat_features\u001b[38;5;241m=\u001b[39mcat_features):\n\u001b[0;32m      2\u001b[0m     params \u001b[38;5;241m=\u001b[39m {\n\u001b[0;32m      3\u001b[0m         \u001b[38;5;66;03m# \"loss_function\":'MultiClass',\u001b[39;00m\n\u001b[0;32m      4\u001b[0m         \u001b[38;5;124m\"\u001b[39m\u001b[38;5;124miterations\u001b[39m\u001b[38;5;124m\"\u001b[39m: trial\u001b[38;5;241m.\u001b[39msuggest_int(\u001b[38;5;124m\"\u001b[39m\u001b[38;5;124miterations\u001b[39m\u001b[38;5;124m\"\u001b[39m, \u001b[38;5;241m100\u001b[39m, \u001b[38;5;241m1000\u001b[39m),\n\u001b[1;32m   (...)\u001b[0m\n\u001b[0;32m     26\u001b[0m         \u001b[38;5;124m\"\u001b[39m\u001b[38;5;124mverbose\u001b[39m\u001b[38;5;124m\"\u001b[39m : \u001b[38;5;28;01mFalse\u001b[39;00m\n\u001b[0;32m     27\u001b[0m     }\n\u001b[0;32m     29\u001b[0m     cat_features \u001b[38;5;241m=\u001b[39m cat_features\n",
      "\u001b[1;31mNameError\u001b[0m: name 'cat_features' is not defined"
     ]
    }
   ],
   "source": [
    "def objective_cat_no_enc(trial, cat_features=cat_features):\n",
    "    params = {\n",
    "        # \"loss_function\":'MultiClass',\n",
    "        \"iterations\": trial.suggest_int(\"iterations\", 100, 1000),\n",
    "        # \"iterations\" : trial.suggest_int('n_estimators', 500, 4000),\n",
    "        \"learning_rate\": trial.suggest_float(\"learning_rate\", 1e-3, 1e-1, log=True),\n",
    "        \"depth\": trial.suggest_int(\"depth\", 3, 10),\n",
    "        # \"l2_leaf_reg\": trial.suggest_float(\"l2_leaf_reg\", 1e-8, 100.0, log=True),\n",
    "        \"bootstrap_type\": trial.suggest_categorical(\"bootstrap_type\", [\"Bayesian\", \"Poisson\"]),\n",
    "        # \"random_strength\": trial.suggest_float(\"random_strength\", 1e-8, 10.0, log=True),\n",
    "        \"bagging_temperature\": trial.suggest_float(\"bagging_temperature\", 0.0, 1.0),\n",
    "        # \"od_type\": trial.suggest_categorical(\"od_type\", [\"IncToDec\", \"Iter\"]),\n",
    "        \"od_wait\": trial.suggest_int(\"od_wait\", 10, 50),\n",
    "        # \"subsample\": trial.suggest_float(\"subsample\", 0.05, 1.0),\n",
    "        # \"colsample_bylevel\": trial.suggest_float(\"colsample_bylevel\", 0.05, 1.0),\n",
    "        \"min_data_in_leaf\": trial.suggest_int(\"min_data_in_leaf\", 1, 100),\n",
    "        \"simple_ctr\" : trial.suggest_categorical(\"simple_ctr\", [None, \"FeatureFreq\", \"Buckets\"]),\n",
    "        \"combinations_ctr\" : trial.suggest_categorical(\"combinations_ctr\", [None, \"FeatureFreq\", \"Buckets\"]),\n",
    "        # \"verbose\": False\n",
    "        # \"loss_function\": trial.suggest_categorical(\"loss_function\", [\"MultiClass\"]),\n",
    "        \"loss_function\": \"MultiClass\",\n",
    "        # \"task_type\": trial.suggest_categorical(\"task_type\", [\"GPU\"]),\n",
    "        \"task_type\": \"GPU\",\n",
    "        # \"random_state\":trial.suggest_int(\"random_state\", 42, 42)\n",
    "        \"random_state\": 42,\n",
    "        \"verbose\" : False\n",
    "    }\n",
    "\n",
    "    cat_features = cat_features\n",
    "\n",
    "    train_data = X_train_no_enc\n",
    "    eval_data = X_val_no_enc\n",
    "\n",
    "    train_label = y_train\n",
    "    eval_label = y_val\n",
    "\n",
    "    train_dataset = Pool(data=train_data,\n",
    "                        label=train_label,\n",
    "                        cat_features=cat_features)\n",
    "\n",
    "    eval_dataset = Pool(data=eval_data,\n",
    "                        label=eval_label,\n",
    "                        cat_features=cat_features)\n",
    "\n",
    "    model = CatBoostClassifier(**params)\n",
    "                            #    loss_function=\"MultiClass\",\n",
    "                            #    silent=True,\n",
    "                            #    task_type=\"GPU\",\n",
    "                            #    random_state=42)\n",
    "\n",
    "    model.fit(train_dataset)\n",
    "    predictions = model.predict(eval_dataset)\n",
    "    csi = csi_index(y_val, predictions)\n",
    "\n",
    "    return csi"
   ]
  },
  {
   "cell_type": "code",
   "execution_count": 141,
   "metadata": {},
   "outputs": [
    {
     "name": "stderr",
     "output_type": "stream",
     "text": [
      "[I 2024-06-26 23:11:58,164] A new study created in memory with name: catboost_no_enc\n",
      "[I 2024-06-26 23:12:40,276] Trial 0 finished with value: 0.00422360248447205 and parameters: {'iterations': 807, 'learning_rate': 0.002508115686045232, 'depth': 7, 'bootstrap_type': 'Bayesian', 'bagging_temperature': 0.6075448519014384, 'od_wait': 16, 'min_data_in_leaf': 7, 'simple_ctr': 'FeatureFreq', 'combinations_ctr': 'Buckets'}. Best is trial 0 with value: 0.00422360248447205.\n",
      "Change of simpleCtr will not affect combinations ctrs.\n",
      "Change of simpleCtr will not affect combinations ctrs.\n",
      "Change of simpleCtr will not affect combinations ctrs.\n",
      "Change of simpleCtr will not affect combinations ctrs.\n",
      "[I 2024-06-26 23:12:51,093] Trial 1 finished with value: 0.0 and parameters: {'iterations': 496, 'learning_rate': 0.0017541893487450805, 'depth': 6, 'bootstrap_type': 'Poisson', 'bagging_temperature': 0.2587799816000169, 'od_wait': 37, 'min_data_in_leaf': 32, 'simple_ctr': 'FeatureFreq', 'combinations_ctr': None}. Best is trial 0 with value: 0.00422360248447205.\n",
      "[I 2024-06-26 23:13:08,950] Trial 2 finished with value: 0.0 and parameters: {'iterations': 906, 'learning_rate': 0.015696396388661146, 'depth': 10, 'bootstrap_type': 'Poisson', 'bagging_temperature': 0.045227288910538066, 'od_wait': 23, 'min_data_in_leaf': 39, 'simple_ctr': 'FeatureFreq', 'combinations_ctr': 'FeatureFreq'}. Best is trial 0 with value: 0.00422360248447205.\n",
      "[I 2024-06-26 23:14:16,281] Trial 3 finished with value: 0.007199602780536246 and parameters: {'iterations': 822, 'learning_rate': 0.0014096175149815868, 'depth': 10, 'bootstrap_type': 'Bayesian', 'bagging_temperature': 0.005522117123602399, 'od_wait': 43, 'min_data_in_leaf': 71, 'simple_ctr': 'FeatureFreq', 'combinations_ctr': 'Buckets'}. Best is trial 3 with value: 0.007199602780536246.\n",
      "[I 2024-06-26 23:14:32,396] Trial 4 finished with value: 0.0 and parameters: {'iterations': 661, 'learning_rate': 0.004589824181495649, 'depth': 3, 'bootstrap_type': 'Poisson', 'bagging_temperature': 0.7296061783380641, 'od_wait': 36, 'min_data_in_leaf': 89, 'simple_ctr': 'Buckets', 'combinations_ctr': 'Buckets'}. Best is trial 3 with value: 0.007199602780536246.\n",
      "[I 2024-06-26 23:14:43,849] Trial 5 finished with value: 0.0 and parameters: {'iterations': 544, 'learning_rate': 0.011103647313054618, 'depth': 6, 'bootstrap_type': 'Poisson', 'bagging_temperature': 0.03142918568673425, 'od_wait': 36, 'min_data_in_leaf': 32, 'simple_ctr': 'FeatureFreq', 'combinations_ctr': 'FeatureFreq'}. Best is trial 3 with value: 0.007199602780536246.\n",
      "[I 2024-06-26 23:14:52,002] Trial 6 finished with value: 0.0 and parameters: {'iterations': 169, 'learning_rate': 0.0037975447986784154, 'depth': 4, 'bootstrap_type': 'Bayesian', 'bagging_temperature': 0.6334037565104235, 'od_wait': 45, 'min_data_in_leaf': 81, 'simple_ctr': 'FeatureFreq', 'combinations_ctr': 'FeatureFreq'}. Best is trial 3 with value: 0.007199602780536246.\n",
      "Change of simpleCtr will not affect combinations ctrs.\n",
      "Change of simpleCtr will not affect combinations ctrs.\n",
      "Change of simpleCtr will not affect combinations ctrs.\n",
      "Change of simpleCtr will not affect combinations ctrs.\n",
      "[I 2024-06-26 23:15:00,384] Trial 7 finished with value: 0.0 and parameters: {'iterations': 199, 'learning_rate': 0.0028567374298471885, 'depth': 6, 'bootstrap_type': 'Poisson', 'bagging_temperature': 0.006952130531190703, 'od_wait': 30, 'min_data_in_leaf': 42, 'simple_ctr': 'Buckets', 'combinations_ctr': None}. Best is trial 3 with value: 0.007199602780536246.\n",
      "[I 2024-06-26 23:16:01,161] Trial 8 finished with value: 0.017559045381476443 and parameters: {'iterations': 733, 'learning_rate': 0.0053365330663796085, 'depth': 10, 'bootstrap_type': 'Bayesian', 'bagging_temperature': 0.49724850589238545, 'od_wait': 22, 'min_data_in_leaf': 29, 'simple_ctr': 'FeatureFreq', 'combinations_ctr': 'Buckets'}. Best is trial 8 with value: 0.017559045381476443.\n",
      "[I 2024-06-26 23:16:20,358] Trial 9 finished with value: 0.0 and parameters: {'iterations': 315, 'learning_rate': 0.0019489008462344254, 'depth': 6, 'bootstrap_type': 'Bayesian', 'bagging_temperature': 0.6721355474058786, 'od_wait': 41, 'min_data_in_leaf': 24, 'simple_ctr': None, 'combinations_ctr': None}. Best is trial 8 with value: 0.017559045381476443.\n",
      "Change of combinations ctrs will not affect simple ctrs\n",
      "Change of combinations ctrs will not affect simple ctrs\n",
      "Change of combinations ctrs will not affect simple ctrs\n",
      "Change of combinations ctrs will not affect simple ctrs\n",
      "[I 2024-06-26 23:17:20,123] Trial 10 finished with value: 0.09782608695652174 and parameters: {'iterations': 971, 'learning_rate': 0.03363458701677618, 'depth': 8, 'bootstrap_type': 'Bayesian', 'bagging_temperature': 0.9459640555841514, 'od_wait': 11, 'min_data_in_leaf': 61, 'simple_ctr': None, 'combinations_ctr': 'Buckets'}. Best is trial 10 with value: 0.09782608695652174.\n",
      "Change of combinations ctrs will not affect simple ctrs\n",
      "Change of combinations ctrs will not affect simple ctrs\n",
      "Change of combinations ctrs will not affect simple ctrs\n",
      "Change of combinations ctrs will not affect simple ctrs\n",
      "[I 2024-06-26 23:18:21,517] Trial 11 finished with value: 0.1316461856673561 and parameters: {'iterations': 998, 'learning_rate': 0.05756131868718066, 'depth': 8, 'bootstrap_type': 'Bayesian', 'bagging_temperature': 0.9501180639551592, 'od_wait': 10, 'min_data_in_leaf': 61, 'simple_ctr': None, 'combinations_ctr': 'Buckets'}. Best is trial 11 with value: 0.1316461856673561.\n",
      "Change of combinations ctrs will not affect simple ctrs\n",
      "Change of combinations ctrs will not affect simple ctrs\n",
      "Change of combinations ctrs will not affect simple ctrs\n",
      "Change of combinations ctrs will not affect simple ctrs\n",
      "[I 2024-06-26 23:19:21,074] Trial 12 finished with value: 0.13215109923478682 and parameters: {'iterations': 971, 'learning_rate': 0.06135141878939983, 'depth': 8, 'bootstrap_type': 'Bayesian', 'bagging_temperature': 0.9967353978914852, 'od_wait': 11, 'min_data_in_leaf': 63, 'simple_ctr': None, 'combinations_ctr': 'Buckets'}. Best is trial 12 with value: 0.13215109923478682.\n",
      "Change of combinations ctrs will not affect simple ctrs\n",
      "Change of combinations ctrs will not affect simple ctrs\n",
      "Change of combinations ctrs will not affect simple ctrs\n",
      "Change of combinations ctrs will not affect simple ctrs\n",
      "[I 2024-06-26 23:20:22,064] Trial 13 finished with value: 0.164166465037503 and parameters: {'iterations': 997, 'learning_rate': 0.09423626162042117, 'depth': 8, 'bootstrap_type': 'Bayesian', 'bagging_temperature': 0.9859165755982205, 'od_wait': 11, 'min_data_in_leaf': 58, 'simple_ctr': None, 'combinations_ctr': 'Buckets'}. Best is trial 13 with value: 0.164166465037503.\n",
      "Change of combinations ctrs will not affect simple ctrs\n",
      "Change of combinations ctrs will not affect simple ctrs\n",
      "Change of combinations ctrs will not affect simple ctrs\n",
      "Change of combinations ctrs will not affect simple ctrs\n",
      "[I 2024-06-26 23:21:16,607] Trial 14 finished with value: 0.1483050847457627 and parameters: {'iterations': 884, 'learning_rate': 0.08524636948952197, 'depth': 8, 'bootstrap_type': 'Bayesian', 'bagging_temperature': 0.8369345753470396, 'od_wait': 17, 'min_data_in_leaf': 55, 'simple_ctr': None, 'combinations_ctr': 'Buckets'}. Best is trial 13 with value: 0.164166465037503.\n",
      "Change of combinations ctrs will not affect simple ctrs\n",
      "Change of combinations ctrs will not affect simple ctrs\n",
      "Change of combinations ctrs will not affect simple ctrs\n",
      "Change of combinations ctrs will not affect simple ctrs\n",
      "[I 2024-06-26 23:22:08,088] Trial 15 finished with value: 0.17001452081316554 and parameters: {'iterations': 693, 'learning_rate': 0.09931618190480944, 'depth': 9, 'bootstrap_type': 'Bayesian', 'bagging_temperature': 0.8145901286801434, 'od_wait': 19, 'min_data_in_leaf': 98, 'simple_ctr': None, 'combinations_ctr': 'Buckets'}. Best is trial 15 with value: 0.17001452081316554.\n",
      "Change of combinations ctrs will not affect simple ctrs\n",
      "Change of combinations ctrs will not affect simple ctrs\n",
      "Change of combinations ctrs will not affect simple ctrs\n",
      "Change of combinations ctrs will not affect simple ctrs\n",
      "[I 2024-06-26 23:22:39,963] Trial 16 finished with value: 0.05815950920245399 and parameters: {'iterations': 388, 'learning_rate': 0.029286401061257204, 'depth': 9, 'bootstrap_type': 'Bayesian', 'bagging_temperature': 0.8405371917283122, 'od_wait': 24, 'min_data_in_leaf': 100, 'simple_ctr': None, 'combinations_ctr': 'Buckets'}. Best is trial 15 with value: 0.17001452081316554.\n",
      "Change of combinations ctrs will not affect simple ctrs\n",
      "Change of combinations ctrs will not affect simple ctrs\n",
      "Change of combinations ctrs will not affect simple ctrs\n",
      "Change of combinations ctrs will not affect simple ctrs\n",
      "[I 2024-06-26 23:23:27,250] Trial 17 finished with value: 0.1532864419112297 and parameters: {'iterations': 640, 'learning_rate': 0.09387046792672521, 'depth': 9, 'bootstrap_type': 'Bayesian', 'bagging_temperature': 0.42414546361265504, 'od_wait': 16, 'min_data_in_leaf': 82, 'simple_ctr': None, 'combinations_ctr': 'Buckets'}. Best is trial 15 with value: 0.17001452081316554.\n",
      "[I 2024-06-26 23:24:15,767] Trial 18 finished with value: 0.08024464831804282 and parameters: {'iterations': 643, 'learning_rate': 0.028500154558618304, 'depth': 9, 'bootstrap_type': 'Bayesian', 'bagging_temperature': 0.819067376234501, 'od_wait': 28, 'min_data_in_leaf': 98, 'simple_ctr': None, 'combinations_ctr': None}. Best is trial 15 with value: 0.17001452081316554.\n",
      "[I 2024-06-26 23:24:41,919] Trial 19 finished with value: 0.04022072348252606 and parameters: {'iterations': 464, 'learning_rate': 0.04459277004981, 'depth': 7, 'bootstrap_type': 'Bayesian', 'bagging_temperature': 0.30285564775125035, 'od_wait': 19, 'min_data_in_leaf': 15, 'simple_ctr': 'Buckets', 'combinations_ctr': 'FeatureFreq'}. Best is trial 15 with value: 0.17001452081316554.\n",
      "Change of combinations ctrs will not affect simple ctrs\n",
      "Change of combinations ctrs will not affect simple ctrs\n",
      "Change of combinations ctrs will not affect simple ctrs\n",
      "Change of combinations ctrs will not affect simple ctrs\n",
      "[I 2024-06-26 23:25:13,540] Trial 20 finished with value: 0.028683500858053445 and parameters: {'iterations': 752, 'learning_rate': 0.018416030561803333, 'depth': 4, 'bootstrap_type': 'Bayesian', 'bagging_temperature': 0.7721170757803051, 'od_wait': 27, 'min_data_in_leaf': 74, 'simple_ctr': None, 'combinations_ctr': 'Buckets'}. Best is trial 15 with value: 0.17001452081316554.\n",
      "Change of combinations ctrs will not affect simple ctrs\n",
      "Change of combinations ctrs will not affect simple ctrs\n",
      "Change of combinations ctrs will not affect simple ctrs\n",
      "Change of combinations ctrs will not affect simple ctrs\n",
      "[I 2024-06-26 23:26:00,292] Trial 21 finished with value: 0.15183881539021726 and parameters: {'iterations': 632, 'learning_rate': 0.09411345364429115, 'depth': 9, 'bootstrap_type': 'Bayesian', 'bagging_temperature': 0.4643491055095344, 'od_wait': 15, 'min_data_in_leaf': 87, 'simple_ctr': None, 'combinations_ctr': 'Buckets'}. Best is trial 15 with value: 0.17001452081316554.\n",
      "Change of combinations ctrs will not affect simple ctrs\n",
      "Change of combinations ctrs will not affect simple ctrs\n",
      "Change of combinations ctrs will not affect simple ctrs\n",
      "Change of combinations ctrs will not affect simple ctrs\n",
      "[I 2024-06-26 23:26:44,517] Trial 22 finished with value: 0.14112365004247057 and parameters: {'iterations': 591, 'learning_rate': 0.08693801653136937, 'depth': 9, 'bootstrap_type': 'Bayesian', 'bagging_temperature': 0.3713683266692612, 'od_wait': 14, 'min_data_in_leaf': 90, 'simple_ctr': None, 'combinations_ctr': 'Buckets'}. Best is trial 15 with value: 0.17001452081316554.\n",
      "Change of combinations ctrs will not affect simple ctrs\n",
      "Change of combinations ctrs will not affect simple ctrs\n",
      "Change of combinations ctrs will not affect simple ctrs\n",
      "Change of combinations ctrs will not affect simple ctrs\n",
      "[I 2024-06-26 23:27:24,925] Trial 23 finished with value: 0.09341799975576993 and parameters: {'iterations': 716, 'learning_rate': 0.060132995548464005, 'depth': 7, 'bootstrap_type': 'Bayesian', 'bagging_temperature': 0.8994190895809941, 'od_wait': 19, 'min_data_in_leaf': 74, 'simple_ctr': None, 'combinations_ctr': 'Buckets'}. Best is trial 15 with value: 0.17001452081316554.\n",
      "Change of combinations ctrs will not affect simple ctrs\n",
      "Change of combinations ctrs will not affect simple ctrs\n",
      "Change of combinations ctrs will not affect simple ctrs\n",
      "Change of combinations ctrs will not affect simple ctrs\n",
      "[I 2024-06-26 23:28:24,070] Trial 24 finished with value: 0.16990701606086223 and parameters: {'iterations': 824, 'learning_rate': 0.09973026847681427, 'depth': 9, 'bootstrap_type': 'Bayesian', 'bagging_temperature': 0.18147997139370156, 'od_wait': 13, 'min_data_in_leaf': 80, 'simple_ctr': None, 'combinations_ctr': 'Buckets'}. Best is trial 15 with value: 0.17001452081316554.\n",
      "Change of combinations ctrs will not affect simple ctrs\n",
      "Change of combinations ctrs will not affect simple ctrs\n",
      "Change of combinations ctrs will not affect simple ctrs\n",
      "Change of combinations ctrs will not affect simple ctrs\n",
      "[I 2024-06-26 23:29:18,535] Trial 25 finished with value: 0.10298598415600244 and parameters: {'iterations': 891, 'learning_rate': 0.044902734382589876, 'depth': 8, 'bootstrap_type': 'Bayesian', 'bagging_temperature': 0.1745434597332726, 'od_wait': 13, 'min_data_in_leaf': 48, 'simple_ctr': None, 'combinations_ctr': 'Buckets'}. Best is trial 15 with value: 0.17001452081316554.\n",
      "[I 2024-06-26 23:29:37,282] Trial 26 finished with value: 0.0 and parameters: {'iterations': 819, 'learning_rate': 0.0010012078005753858, 'depth': 10, 'bootstrap_type': 'Poisson', 'bagging_temperature': 0.15956221589128453, 'od_wait': 50, 'min_data_in_leaf': 95, 'simple_ctr': 'Buckets', 'combinations_ctr': 'Buckets'}. Best is trial 15 with value: 0.17001452081316554.\n",
      "[I 2024-06-26 23:30:42,960] Trial 27 finished with value: 0.0780523611450942 and parameters: {'iterations': 902, 'learning_rate': 0.02047323987715947, 'depth': 9, 'bootstrap_type': 'Bayesian', 'bagging_temperature': 0.5747828175907358, 'od_wait': 21, 'min_data_in_leaf': 67, 'simple_ctr': None, 'combinations_ctr': None}. Best is trial 15 with value: 0.17001452081316554.\n",
      "Change of combinations ctrs will not affect simple ctrs\n",
      "Change of combinations ctrs will not affect simple ctrs\n",
      "Change of combinations ctrs will not affect simple ctrs\n",
      "Change of combinations ctrs will not affect simple ctrs\n",
      "[I 2024-06-26 23:31:26,746] Trial 28 finished with value: 0.030797546012269937 and parameters: {'iterations': 785, 'learning_rate': 0.008825960559781389, 'depth': 7, 'bootstrap_type': 'Bayesian', 'bagging_temperature': 0.7130245108259385, 'od_wait': 13, 'min_data_in_leaf': 82, 'simple_ctr': None, 'combinations_ctr': 'FeatureFreq'}. Best is trial 15 with value: 0.17001452081316554.\n",
      "Change of combinations ctrs will not affect simple ctrs\n",
      "Change of combinations ctrs will not affect simple ctrs\n",
      "Change of combinations ctrs will not affect simple ctrs\n",
      "Change of combinations ctrs will not affect simple ctrs\n",
      "[I 2024-06-26 23:32:18,684] Trial 29 finished with value: 0.1276621638067421 and parameters: {'iterations': 833, 'learning_rate': 0.06559838225061755, 'depth': 8, 'bootstrap_type': 'Bayesian', 'bagging_temperature': 0.5782178466798952, 'od_wait': 19, 'min_data_in_leaf': 53, 'simple_ctr': None, 'combinations_ctr': 'Buckets'}. Best is trial 15 with value: 0.17001452081316554.\n",
      "[I 2024-06-26 23:32:49,784] Trial 30 finished with value: 0.0329036218538981 and parameters: {'iterations': 698, 'learning_rate': 0.042079222129097274, 'depth': 5, 'bootstrap_type': 'Bayesian', 'bagging_temperature': 0.8952154919985151, 'od_wait': 25, 'min_data_in_leaf': 7, 'simple_ctr': 'Buckets', 'combinations_ctr': 'Buckets'}. Best is trial 15 with value: 0.17001452081316554.\n",
      "Change of combinations ctrs will not affect simple ctrs\n",
      "Change of combinations ctrs will not affect simple ctrs\n",
      "Change of combinations ctrs will not affect simple ctrs\n",
      "Change of combinations ctrs will not affect simple ctrs\n",
      "[I 2024-06-26 23:33:32,828] Trial 31 finished with value: 0.14731980065637534 and parameters: {'iterations': 571, 'learning_rate': 0.09157817799109652, 'depth': 9, 'bootstrap_type': 'Bayesian', 'bagging_temperature': 0.4078294570894184, 'od_wait': 17, 'min_data_in_leaf': 80, 'simple_ctr': None, 'combinations_ctr': 'Buckets'}. Best is trial 15 with value: 0.17001452081316554.\n",
      "Change of combinations ctrs will not affect simple ctrs\n",
      "Change of combinations ctrs will not affect simple ctrs\n",
      "Change of combinations ctrs will not affect simple ctrs\n",
      "Change of combinations ctrs will not affect simple ctrs\n",
      "[I 2024-06-26 23:34:10,823] Trial 32 finished with value: 0.1205742791093807 and parameters: {'iterations': 495, 'learning_rate': 0.07573902509055958, 'depth': 9, 'bootstrap_type': 'Bayesian', 'bagging_temperature': 0.21565732055299036, 'od_wait': 16, 'min_data_in_leaf': 94, 'simple_ctr': None, 'combinations_ctr': 'Buckets'}. Best is trial 15 with value: 0.17001452081316554.\n",
      "Change of combinations ctrs will not affect simple ctrs\n",
      "Change of combinations ctrs will not affect simple ctrs\n",
      "Change of combinations ctrs will not affect simple ctrs\n",
      "Change of combinations ctrs will not affect simple ctrs\n",
      "[I 2024-06-26 23:35:10,824] Trial 33 finished with value: 0.17679024272430865 and parameters: {'iterations': 684, 'learning_rate': 0.09855117767473463, 'depth': 10, 'bootstrap_type': 'Bayesian', 'bagging_temperature': 0.12265574067778813, 'od_wait': 10, 'min_data_in_leaf': 84, 'simple_ctr': None, 'combinations_ctr': 'Buckets'}. Best is trial 33 with value: 0.17679024272430865.\n",
      "Change of combinations ctrs will not affect simple ctrs\n",
      "Change of combinations ctrs will not affect simple ctrs\n",
      "Change of combinations ctrs will not affect simple ctrs\n",
      "Change of combinations ctrs will not affect simple ctrs\n",
      "[I 2024-06-26 23:35:28,948] Trial 34 finished with value: 0.0 and parameters: {'iterations': 764, 'learning_rate': 0.05021699264796058, 'depth': 10, 'bootstrap_type': 'Poisson', 'bagging_temperature': 0.09682310937116634, 'od_wait': 12, 'min_data_in_leaf': 76, 'simple_ctr': None, 'combinations_ctr': 'Buckets'}. Best is trial 33 with value: 0.17679024272430865.\n",
      "Change of combinations ctrs will not affect simple ctrs\n",
      "Change of combinations ctrs will not affect simple ctrs\n",
      "Change of combinations ctrs will not affect simple ctrs\n",
      "Change of combinations ctrs will not affect simple ctrs\n",
      "[I 2024-06-26 23:36:42,775] Trial 35 finished with value: 0.16942998910807214 and parameters: {'iterations': 849, 'learning_rate': 0.06711144314471743, 'depth': 10, 'bootstrap_type': 'Bayesian', 'bagging_temperature': 0.28603019886615494, 'od_wait': 10, 'min_data_in_leaf': 87, 'simple_ctr': None, 'combinations_ctr': 'Buckets'}. Best is trial 33 with value: 0.17679024272430865.\n",
      "[I 2024-06-26 23:36:59,740] Trial 36 finished with value: 0.0 and parameters: {'iterations': 868, 'learning_rate': 0.06677509423358445, 'depth': 10, 'bootstrap_type': 'Poisson', 'bagging_temperature': 0.27732119515827613, 'od_wait': 10, 'min_data_in_leaf': 89, 'simple_ctr': 'FeatureFreq', 'combinations_ctr': 'Buckets'}. Best is trial 33 with value: 0.17679024272430865.\n",
      "Change of combinations ctrs will not affect simple ctrs\n",
      "Change of combinations ctrs will not affect simple ctrs\n",
      "Change of combinations ctrs will not affect simple ctrs\n",
      "Change of combinations ctrs will not affect simple ctrs\n",
      "[I 2024-06-26 23:38:10,587] Trial 37 finished with value: 0.12143379663496708 and parameters: {'iterations': 818, 'learning_rate': 0.035419598900599814, 'depth': 10, 'bootstrap_type': 'Bayesian', 'bagging_temperature': 0.10579033419632673, 'od_wait': 14, 'min_data_in_leaf': 67, 'simple_ctr': None, 'combinations_ctr': 'FeatureFreq'}. Best is trial 33 with value: 0.17679024272430865.\n",
      "Change of simpleCtr will not affect combinations ctrs.\n",
      "Change of simpleCtr will not affect combinations ctrs.\n",
      "Change of simpleCtr will not affect combinations ctrs.\n",
      "Change of simpleCtr will not affect combinations ctrs.\n",
      "[I 2024-06-26 23:38:24,704] Trial 38 finished with value: 0.0 and parameters: {'iterations': 692, 'learning_rate': 0.025175581627437996, 'depth': 10, 'bootstrap_type': 'Poisson', 'bagging_temperature': 0.33000394453062226, 'od_wait': 21, 'min_data_in_leaf': 86, 'simple_ctr': 'FeatureFreq', 'combinations_ctr': None}. Best is trial 33 with value: 0.17679024272430865.\n",
      "[I 2024-06-26 23:39:30,676] Trial 39 finished with value: 0.04003930238270695 and parameters: {'iterations': 759, 'learning_rate': 0.011098532444763831, 'depth': 10, 'bootstrap_type': 'Bayesian', 'bagging_temperature': 0.21664695045413002, 'od_wait': 34, 'min_data_in_leaf': 92, 'simple_ctr': 'Buckets', 'combinations_ctr': 'Buckets'}. Best is trial 33 with value: 0.17679024272430865.\n",
      "Change of combinations ctrs will not affect simple ctrs\n",
      "Change of combinations ctrs will not affect simple ctrs\n",
      "Change of combinations ctrs will not affect simple ctrs\n",
      "Change of combinations ctrs will not affect simple ctrs\n",
      "[I 2024-06-26 23:40:52,821] Trial 40 finished with value: 0.04458364038319823 and parameters: {'iterations': 932, 'learning_rate': 0.007262403728100838, 'depth': 10, 'bootstrap_type': 'Bayesian', 'bagging_temperature': 0.0856404630025168, 'od_wait': 31, 'min_data_in_leaf': 98, 'simple_ctr': None, 'combinations_ctr': 'FeatureFreq'}. Best is trial 33 with value: 0.17679024272430865.\n",
      "Change of combinations ctrs will not affect simple ctrs\n",
      "Change of combinations ctrs will not affect simple ctrs\n",
      "Change of combinations ctrs will not affect simple ctrs\n",
      "Change of combinations ctrs will not affect simple ctrs\n",
      "[I 2024-06-26 23:41:59,296] Trial 41 finished with value: 0.17528631705846895 and parameters: {'iterations': 938, 'learning_rate': 0.09929642886879486, 'depth': 9, 'bootstrap_type': 'Bayesian', 'bagging_temperature': 0.15293320314234812, 'od_wait': 10, 'min_data_in_leaf': 79, 'simple_ctr': None, 'combinations_ctr': 'Buckets'}. Best is trial 33 with value: 0.17679024272430865.\n",
      "Change of combinations ctrs will not affect simple ctrs\n",
      "Change of combinations ctrs will not affect simple ctrs\n",
      "Change of combinations ctrs will not affect simple ctrs\n",
      "Change of combinations ctrs will not affect simple ctrs\n",
      "[I 2024-06-26 23:42:59,843] Trial 42 finished with value: 0.14786936991623165 and parameters: {'iterations': 839, 'learning_rate': 0.07191785967352977, 'depth': 9, 'bootstrap_type': 'Bayesian', 'bagging_temperature': 0.14727284812223684, 'od_wait': 10, 'min_data_in_leaf': 79, 'simple_ctr': None, 'combinations_ctr': 'Buckets'}. Best is trial 33 with value: 0.17679024272430865.\n",
      "Change of combinations ctrs will not affect simple ctrs\n",
      "Change of combinations ctrs will not affect simple ctrs\n",
      "Change of combinations ctrs will not affect simple ctrs\n",
      "Change of combinations ctrs will not affect simple ctrs\n",
      "[I 2024-06-26 23:44:21,275] Trial 43 finished with value: 0.15722431153706176 and parameters: {'iterations': 941, 'learning_rate': 0.05213532110137271, 'depth': 10, 'bootstrap_type': 'Bayesian', 'bagging_temperature': 0.21768717632800394, 'od_wait': 13, 'min_data_in_leaf': 85, 'simple_ctr': None, 'combinations_ctr': 'Buckets'}. Best is trial 33 with value: 0.17679024272430865.\n",
      "Change of combinations ctrs will not affect simple ctrs\n",
      "Change of combinations ctrs will not affect simple ctrs\n",
      "Change of combinations ctrs will not affect simple ctrs\n",
      "Change of combinations ctrs will not affect simple ctrs\n",
      "[I 2024-06-26 23:45:21,896] Trial 44 finished with value: 0.14915048543689322 and parameters: {'iterations': 852, 'learning_rate': 0.07513620471943154, 'depth': 9, 'bootstrap_type': 'Bayesian', 'bagging_temperature': 0.04380965079832949, 'od_wait': 18, 'min_data_in_leaf': 70, 'simple_ctr': None, 'combinations_ctr': 'Buckets'}. Best is trial 33 with value: 0.17679024272430865.\n",
      "[I 2024-06-26 23:46:27,596] Trial 45 finished with value: 0.12262542620555285 and parameters: {'iterations': 794, 'learning_rate': 0.037161673734901444, 'depth': 10, 'bootstrap_type': 'Bayesian', 'bagging_temperature': 0.25368087735327033, 'od_wait': 12, 'min_data_in_leaf': 77, 'simple_ctr': 'FeatureFreq', 'combinations_ctr': 'Buckets'}. Best is trial 33 with value: 0.17679024272430865.\n",
      "Change of combinations ctrs will not affect simple ctrs\n",
      "Change of combinations ctrs will not affect simple ctrs\n",
      "Change of combinations ctrs will not affect simple ctrs\n",
      "Change of combinations ctrs will not affect simple ctrs\n",
      "[I 2024-06-26 23:46:44,250] Trial 46 finished with value: 0.0 and parameters: {'iterations': 679, 'learning_rate': 0.09815565768199362, 'depth': 9, 'bootstrap_type': 'Poisson', 'bagging_temperature': 0.359878492947829, 'od_wait': 14, 'min_data_in_leaf': 93, 'simple_ctr': None, 'combinations_ctr': 'Buckets'}. Best is trial 33 with value: 0.17679024272430865.\n",
      "[I 2024-06-26 23:47:40,664] Trial 47 finished with value: 0.1161714564052606 and parameters: {'iterations': 933, 'learning_rate': 0.05457698706733542, 'depth': 8, 'bootstrap_type': 'Bayesian', 'bagging_temperature': 0.12854567409200734, 'od_wait': 10, 'min_data_in_leaf': 84, 'simple_ctr': None, 'combinations_ctr': None}. Best is trial 33 with value: 0.17679024272430865.\n",
      "Change of combinations ctrs will not affect simple ctrs\n",
      "Change of combinations ctrs will not affect simple ctrs\n",
      "Change of combinations ctrs will not affect simple ctrs\n",
      "Change of combinations ctrs will not affect simple ctrs\n",
      "[I 2024-06-26 23:48:43,937] Trial 48 finished with value: 0.16880290205562273 and parameters: {'iterations': 725, 'learning_rate': 0.07852245089401395, 'depth': 10, 'bootstrap_type': 'Bayesian', 'bagging_temperature': 0.051175290006600094, 'od_wait': 15, 'min_data_in_leaf': 68, 'simple_ctr': None, 'combinations_ctr': 'Buckets'}. Best is trial 33 with value: 0.17679024272430865.\n",
      "Change of combinations ctrs will not affect simple ctrs\n",
      "Change of combinations ctrs will not affect simple ctrs\n",
      "Change of combinations ctrs will not affect simple ctrs\n",
      "Change of combinations ctrs will not affect simple ctrs\n",
      "[I 2024-06-26 23:49:07,500] Trial 49 finished with value: 0.029757531227038943 and parameters: {'iterations': 594, 'learning_rate': 0.06482146486760615, 'depth': 3, 'bootstrap_type': 'Bayesian', 'bagging_temperature': 0.5204280362359808, 'od_wait': 12, 'min_data_in_leaf': 46, 'simple_ctr': None, 'combinations_ctr': 'Buckets'}. Best is trial 33 with value: 0.17679024272430865.\n",
      "[I 2024-06-26 23:49:54,884] Trial 50 finished with value: 0.009297136481963555 and parameters: {'iterations': 953, 'learning_rate': 0.002960646010187974, 'depth': 7, 'bootstrap_type': 'Bayesian', 'bagging_temperature': 0.19023116201537435, 'od_wait': 17, 'min_data_in_leaf': 72, 'simple_ctr': 'FeatureFreq', 'combinations_ctr': 'Buckets'}. Best is trial 33 with value: 0.17679024272430865.\n",
      "Change of combinations ctrs will not affect simple ctrs\n",
      "Change of combinations ctrs will not affect simple ctrs\n",
      "Change of combinations ctrs will not affect simple ctrs\n",
      "Change of combinations ctrs will not affect simple ctrs\n",
      "[I 2024-06-26 23:50:59,045] Trial 51 finished with value: 0.16741260433047053 and parameters: {'iterations': 732, 'learning_rate': 0.0762611182848259, 'depth': 10, 'bootstrap_type': 'Bayesian', 'bagging_temperature': 0.05580909917995406, 'od_wait': 15, 'min_data_in_leaf': 66, 'simple_ctr': None, 'combinations_ctr': 'Buckets'}. Best is trial 33 with value: 0.17679024272430865.\n",
      "Change of combinations ctrs will not affect simple ctrs\n",
      "Change of combinations ctrs will not affect simple ctrs\n",
      "Change of combinations ctrs will not affect simple ctrs\n",
      "Change of combinations ctrs will not affect simple ctrs\n",
      "[I 2024-06-26 23:52:08,527] Trial 52 finished with value: 0.1733558994197292 and parameters: {'iterations': 790, 'learning_rate': 0.08000588064746907, 'depth': 10, 'bootstrap_type': 'Bayesian', 'bagging_temperature': 0.0027197628758896947, 'od_wait': 12, 'min_data_in_leaf': 89, 'simple_ctr': None, 'combinations_ctr': 'Buckets'}. Best is trial 33 with value: 0.17679024272430865.\n",
      "Change of combinations ctrs will not affect simple ctrs\n",
      "Change of combinations ctrs will not affect simple ctrs\n",
      "Change of combinations ctrs will not affect simple ctrs\n",
      "Change of combinations ctrs will not affect simple ctrs\n",
      "[I 2024-06-26 23:53:05,841] Trial 53 finished with value: 0.16803675048355898 and parameters: {'iterations': 790, 'learning_rate': 0.09983091488146041, 'depth': 9, 'bootstrap_type': 'Bayesian', 'bagging_temperature': 0.013635974925881273, 'od_wait': 10, 'min_data_in_leaf': 96, 'simple_ctr': None, 'combinations_ctr': 'Buckets'}. Best is trial 33 with value: 0.17679024272430865.\n",
      "Change of combinations ctrs will not affect simple ctrs\n",
      "Change of combinations ctrs will not affect simple ctrs\n",
      "Change of combinations ctrs will not affect simple ctrs\n",
      "Change of combinations ctrs will not affect simple ctrs\n",
      "[I 2024-06-26 23:54:21,575] Trial 54 finished with value: 0.15272550685929343 and parameters: {'iterations': 869, 'learning_rate': 0.051542935404226116, 'depth': 10, 'bootstrap_type': 'Bayesian', 'bagging_temperature': 0.0817740719725258, 'od_wait': 12, 'min_data_in_leaf': 91, 'simple_ctr': None, 'combinations_ctr': 'Buckets'}. Best is trial 33 with value: 0.17679024272430865.\n",
      "Change of combinations ctrs will not affect simple ctrs\n",
      "Change of combinations ctrs will not affect simple ctrs\n",
      "Change of combinations ctrs will not affect simple ctrs\n",
      "Change of combinations ctrs will not affect simple ctrs\n",
      "[I 2024-06-26 23:54:51,076] Trial 55 finished with value: 0.06582957454589784 and parameters: {'iterations': 620, 'learning_rate': 0.08169327798295618, 'depth': 5, 'bootstrap_type': 'Bayesian', 'bagging_temperature': 0.001418786718011364, 'od_wait': 11, 'min_data_in_leaf': 100, 'simple_ctr': None, 'combinations_ctr': 'Buckets'}. Best is trial 33 with value: 0.17679024272430865.\n",
      "[I 2024-06-26 23:55:30,782] Trial 56 finished with value: 0.06097710297538876 and parameters: {'iterations': 666, 'learning_rate': 0.06307463569280695, 'depth': 8, 'bootstrap_type': 'Bayesian', 'bagging_temperature': 0.24651838180136976, 'od_wait': 16, 'min_data_in_leaf': 87, 'simple_ctr': 'Buckets', 'combinations_ctr': 'FeatureFreq'}. Best is trial 33 with value: 0.17679024272430865.\n",
      "Change of combinations ctrs will not affect simple ctrs\n",
      "Change of combinations ctrs will not affect simple ctrs\n",
      "Change of combinations ctrs will not affect simple ctrs\n",
      "Change of combinations ctrs will not affect simple ctrs\n",
      "[I 2024-06-26 23:55:44,722] Trial 57 finished with value: 0.009429280397022333 and parameters: {'iterations': 132, 'learning_rate': 0.01392944784994089, 'depth': 9, 'bootstrap_type': 'Bayesian', 'bagging_temperature': 0.12356536418803557, 'od_wait': 14, 'min_data_in_leaf': 82, 'simple_ctr': None, 'combinations_ctr': 'Buckets'}. Best is trial 33 with value: 0.17679024272430865.\n",
      "[I 2024-06-26 23:56:25,508] Trial 58 finished with value: 0.0902641878669276 and parameters: {'iterations': 540, 'learning_rate': 0.042479074326422624, 'depth': 9, 'bootstrap_type': 'Bayesian', 'bagging_temperature': 0.3009935598851259, 'od_wait': 38, 'min_data_in_leaf': 36, 'simple_ctr': None, 'combinations_ctr': None}. Best is trial 33 with value: 0.17679024272430865.\n",
      "Change of combinations ctrs will not affect simple ctrs\n",
      "Change of combinations ctrs will not affect simple ctrs\n",
      "Change of combinations ctrs will not affect simple ctrs\n",
      "Change of combinations ctrs will not affect simple ctrs\n",
      "[I 2024-06-26 23:56:46,153] Trial 59 finished with value: 0.0 and parameters: {'iterations': 909, 'learning_rate': 0.09850732338042954, 'depth': 10, 'bootstrap_type': 'Poisson', 'bagging_temperature': 0.1394326393170629, 'od_wait': 21, 'min_data_in_leaf': 89, 'simple_ctr': None, 'combinations_ctr': 'Buckets'}. Best is trial 33 with value: 0.17679024272430865.\n",
      "Change of combinations ctrs will not affect simple ctrs\n",
      "Change of combinations ctrs will not affect simple ctrs\n",
      "Change of combinations ctrs will not affect simple ctrs\n",
      "Change of combinations ctrs will not affect simple ctrs\n",
      "[I 2024-06-26 23:57:08,253] Trial 60 finished with value: 0.08861222995239838 and parameters: {'iterations': 249, 'learning_rate': 0.0825205327527914, 'depth': 9, 'bootstrap_type': 'Bayesian', 'bagging_temperature': 0.6462256922612933, 'od_wait': 12, 'min_data_in_leaf': 77, 'simple_ctr': None, 'combinations_ctr': 'Buckets'}. Best is trial 33 with value: 0.17679024272430865.\n",
      "Change of combinations ctrs will not affect simple ctrs\n",
      "Change of combinations ctrs will not affect simple ctrs\n",
      "Change of combinations ctrs will not affect simple ctrs\n",
      "Change of combinations ctrs will not affect simple ctrs\n",
      "[I 2024-06-26 23:58:10,747] Trial 61 finished with value: 0.1619590253364044 and parameters: {'iterations': 722, 'learning_rate': 0.07939714247006684, 'depth': 10, 'bootstrap_type': 'Bayesian', 'bagging_temperature': 0.06472357757407239, 'od_wait': 15, 'min_data_in_leaf': 84, 'simple_ctr': None, 'combinations_ctr': 'Buckets'}. Best is trial 33 with value: 0.17679024272430865.\n",
      "Change of combinations ctrs will not affect simple ctrs\n",
      "Change of combinations ctrs will not affect simple ctrs\n",
      "Change of combinations ctrs will not affect simple ctrs\n",
      "Change of combinations ctrs will not affect simple ctrs\n",
      "[I 2024-06-26 23:59:18,655] Trial 62 finished with value: 0.1553727008712488 and parameters: {'iterations': 771, 'learning_rate': 0.05953273828092331, 'depth': 10, 'bootstrap_type': 'Bayesian', 'bagging_temperature': 0.03891010522658119, 'od_wait': 13, 'min_data_in_leaf': 58, 'simple_ctr': None, 'combinations_ctr': 'Buckets'}. Best is trial 33 with value: 0.17679024272430865.\n",
      "Change of combinations ctrs will not affect simple ctrs\n",
      "Change of combinations ctrs will not affect simple ctrs\n",
      "Change of combinations ctrs will not affect simple ctrs\n",
      "Change of combinations ctrs will not affect simple ctrs\n",
      "[I 2024-06-27 00:00:24,092] Trial 63 finished with value: 0.16310938636914868 and parameters: {'iterations': 739, 'learning_rate': 0.07018053735571386, 'depth': 10, 'bootstrap_type': 'Bayesian', 'bagging_temperature': 0.16760996439305575, 'od_wait': 18, 'min_data_in_leaf': 79, 'simple_ctr': None, 'combinations_ctr': 'Buckets'}. Best is trial 33 with value: 0.17679024272430865.\n",
      "Change of combinations ctrs will not affect simple ctrs\n",
      "Change of combinations ctrs will not affect simple ctrs\n",
      "Change of combinations ctrs will not affect simple ctrs\n",
      "Change of combinations ctrs will not affect simple ctrs\n",
      "[I 2024-06-27 00:01:50,054] Trial 64 finished with value: 0.18853150222864715 and parameters: {'iterations': 997, 'learning_rate': 0.08194245230489242, 'depth': 10, 'bootstrap_type': 'Bayesian', 'bagging_temperature': 0.19147259963082935, 'od_wait': 11, 'min_data_in_leaf': 71, 'simple_ctr': None, 'combinations_ctr': 'Buckets'}. Best is trial 64 with value: 0.18853150222864715.\n",
      "Change of combinations ctrs will not affect simple ctrs\n",
      "Change of combinations ctrs will not affect simple ctrs\n",
      "Change of combinations ctrs will not affect simple ctrs\n",
      "Change of combinations ctrs will not affect simple ctrs\n",
      "[I 2024-06-27 00:02:56,417] Trial 65 finished with value: 0.17038023734560426 and parameters: {'iterations': 922, 'learning_rate': 0.08661866817455038, 'depth': 9, 'bootstrap_type': 'Bayesian', 'bagging_temperature': 0.19230209381294333, 'od_wait': 11, 'min_data_in_leaf': 74, 'simple_ctr': None, 'combinations_ctr': 'Buckets'}. Best is trial 64 with value: 0.18853150222864715.\n",
      "Change of combinations ctrs will not affect simple ctrs\n",
      "Change of combinations ctrs will not affect simple ctrs\n",
      "Change of combinations ctrs will not affect simple ctrs\n",
      "Change of combinations ctrs will not affect simple ctrs\n",
      "[I 2024-06-27 00:03:56,217] Trial 66 finished with value: 0.1109082055028001 and parameters: {'iterations': 991, 'learning_rate': 0.04857593451602784, 'depth': 8, 'bootstrap_type': 'Bayesian', 'bagging_temperature': 0.1995280062159345, 'od_wait': 11, 'min_data_in_leaf': 76, 'simple_ctr': None, 'combinations_ctr': 'Buckets'}. Best is trial 64 with value: 0.18853150222864715.\n",
      "[I 2024-06-27 00:05:01,390] Trial 67 finished with value: 0.09165758566412399 and parameters: {'iterations': 968, 'learning_rate': 0.08676826950900479, 'depth': 9, 'bootstrap_type': 'Bayesian', 'bagging_temperature': 0.17764077138431988, 'od_wait': 23, 'min_data_in_leaf': 63, 'simple_ctr': 'Buckets', 'combinations_ctr': 'Buckets'}. Best is trial 64 with value: 0.18853150222864715.\n",
      "Change of combinations ctrs will not affect simple ctrs\n",
      "Change of combinations ctrs will not affect simple ctrs\n",
      "Change of combinations ctrs will not affect simple ctrs\n",
      "Change of combinations ctrs will not affect simple ctrs\n",
      "[I 2024-06-27 00:05:57,890] Trial 68 finished with value: 0.020221948212083847 and parameters: {'iterations': 916, 'learning_rate': 0.0054540845116605036, 'depth': 8, 'bootstrap_type': 'Bayesian', 'bagging_temperature': 0.115436740032008, 'od_wait': 13, 'min_data_in_leaf': 73, 'simple_ctr': None, 'combinations_ctr': 'Buckets'}. Best is trial 64 with value: 0.18853150222864715.\n",
      "Change of combinations ctrs will not affect simple ctrs\n",
      "Change of combinations ctrs will not affect simple ctrs\n",
      "Change of combinations ctrs will not affect simple ctrs\n",
      "Change of combinations ctrs will not affect simple ctrs\n",
      "[I 2024-06-27 00:07:00,927] Trial 69 finished with value: 0.1744017403915881 and parameters: {'iterations': 874, 'learning_rate': 0.0998478640337383, 'depth': 9, 'bootstrap_type': 'Bayesian', 'bagging_temperature': 0.22190861505627898, 'od_wait': 11, 'min_data_in_leaf': 70, 'simple_ctr': None, 'combinations_ctr': 'FeatureFreq'}. Best is trial 64 with value: 0.18853150222864715.\n",
      "Change of combinations ctrs will not affect simple ctrs\n",
      "Change of combinations ctrs will not affect simple ctrs\n",
      "Change of combinations ctrs will not affect simple ctrs\n",
      "Change of combinations ctrs will not affect simple ctrs\n",
      "[I 2024-06-27 00:08:06,261] Trial 70 finished with value: 0.1402187120291616 and parameters: {'iterations': 894, 'learning_rate': 0.054838740388229765, 'depth': 9, 'bootstrap_type': 'Bayesian', 'bagging_temperature': 0.7274597441848786, 'od_wait': 11, 'min_data_in_leaf': 96, 'simple_ctr': None, 'combinations_ctr': 'FeatureFreq'}. Best is trial 64 with value: 0.18853150222864715.\n",
      "Change of combinations ctrs will not affect simple ctrs\n",
      "Change of combinations ctrs will not affect simple ctrs\n",
      "Change of combinations ctrs will not affect simple ctrs\n",
      "Change of combinations ctrs will not affect simple ctrs\n",
      "[I 2024-06-27 00:09:16,296] Trial 71 finished with value: 0.1787991818072434 and parameters: {'iterations': 980, 'learning_rate': 0.09887043863717723, 'depth': 9, 'bootstrap_type': 'Bayesian', 'bagging_temperature': 0.24476552076844402, 'od_wait': 11, 'min_data_in_leaf': 70, 'simple_ctr': None, 'combinations_ctr': 'FeatureFreq'}. Best is trial 64 with value: 0.18853150222864715.\n",
      "Change of combinations ctrs will not affect simple ctrs\n",
      "Change of combinations ctrs will not affect simple ctrs\n",
      "Change of combinations ctrs will not affect simple ctrs\n",
      "Change of combinations ctrs will not affect simple ctrs\n",
      "[I 2024-06-27 00:10:27,303] Trial 72 finished with value: 0.17684693384838243 and parameters: {'iterations': 1000, 'learning_rate': 0.08689841281959068, 'depth': 9, 'bootstrap_type': 'Bayesian', 'bagging_temperature': 0.33287527790999394, 'od_wait': 11, 'min_data_in_leaf': 70, 'simple_ctr': None, 'combinations_ctr': 'FeatureFreq'}. Best is trial 64 with value: 0.18853150222864715.\n",
      "Change of combinations ctrs will not affect simple ctrs\n",
      "Change of combinations ctrs will not affect simple ctrs\n",
      "Change of combinations ctrs will not affect simple ctrs\n",
      "Change of combinations ctrs will not affect simple ctrs\n",
      "[I 2024-06-27 00:11:39,104] Trial 73 finished with value: 0.1748792270531401 and parameters: {'iterations': 1000, 'learning_rate': 0.08472075353591121, 'depth': 9, 'bootstrap_type': 'Bayesian', 'bagging_temperature': 0.2400818717930893, 'od_wait': 11, 'min_data_in_leaf': 71, 'simple_ctr': None, 'combinations_ctr': 'FeatureFreq'}. Best is trial 64 with value: 0.18853150222864715.\n",
      "Change of combinations ctrs will not affect simple ctrs\n",
      "Change of combinations ctrs will not affect simple ctrs\n",
      "Change of combinations ctrs will not affect simple ctrs\n",
      "Change of combinations ctrs will not affect simple ctrs\n",
      "[I 2024-06-27 00:12:39,070] Trial 74 finished with value: 0.13464576497751854 and parameters: {'iterations': 991, 'learning_rate': 0.06999102395019274, 'depth': 8, 'bootstrap_type': 'Bayesian', 'bagging_temperature': 0.23698377038034654, 'od_wait': 10, 'min_data_in_leaf': 63, 'simple_ctr': None, 'combinations_ctr': 'FeatureFreq'}. Best is trial 64 with value: 0.18853150222864715.\n",
      "Change of combinations ctrs will not affect simple ctrs\n",
      "Change of combinations ctrs will not affect simple ctrs\n",
      "Change of combinations ctrs will not affect simple ctrs\n",
      "Change of combinations ctrs will not affect simple ctrs\n",
      "[I 2024-06-27 00:13:47,948] Trial 75 finished with value: 0.17164269309802974 and parameters: {'iterations': 963, 'learning_rate': 0.0851931865734372, 'depth': 9, 'bootstrap_type': 'Bayesian', 'bagging_temperature': 0.3447415572438575, 'od_wait': 12, 'min_data_in_leaf': 59, 'simple_ctr': None, 'combinations_ctr': 'FeatureFreq'}. Best is trial 64 with value: 0.18853150222864715.\n",
      "[I 2024-06-27 00:14:54,835] Trial 76 finished with value: 0.14817509397356615 and parameters: {'iterations': 984, 'learning_rate': 0.05833044303885311, 'depth': 9, 'bootstrap_type': 'Bayesian', 'bagging_temperature': 0.4092620804294836, 'od_wait': 14, 'min_data_in_leaf': 71, 'simple_ctr': 'FeatureFreq', 'combinations_ctr': 'FeatureFreq'}. Best is trial 64 with value: 0.18853150222864715.\n",
      "Change of combinations ctrs will not affect simple ctrs\n",
      "Change of combinations ctrs will not affect simple ctrs\n",
      "Change of combinations ctrs will not affect simple ctrs\n",
      "Change of combinations ctrs will not affect simple ctrs\n",
      "[I 2024-06-27 00:15:17,252] Trial 77 finished with value: 0.0 and parameters: {'iterations': 1000, 'learning_rate': 0.09016641825549282, 'depth': 10, 'bootstrap_type': 'Poisson', 'bagging_temperature': 0.2681154972418071, 'od_wait': 11, 'min_data_in_leaf': 65, 'simple_ctr': None, 'combinations_ctr': 'FeatureFreq'}. Best is trial 64 with value: 0.18853150222864715.\n",
      "Change of combinations ctrs will not affect simple ctrs\n",
      "Change of combinations ctrs will not affect simple ctrs\n",
      "Change of combinations ctrs will not affect simple ctrs\n",
      "Change of combinations ctrs will not affect simple ctrs\n",
      "[I 2024-06-27 00:16:15,904] Trial 78 finished with value: 0.10045160502868303 and parameters: {'iterations': 960, 'learning_rate': 0.03892448782998134, 'depth': 8, 'bootstrap_type': 'Bayesian', 'bagging_temperature': 0.30794334219309644, 'od_wait': 16, 'min_data_in_leaf': 70, 'simple_ctr': None, 'combinations_ctr': 'FeatureFreq'}. Best is trial 64 with value: 0.18853150222864715.\n",
      "Change of combinations ctrs will not affect simple ctrs\n",
      "Change of combinations ctrs will not affect simple ctrs\n",
      "Change of combinations ctrs will not affect simple ctrs\n",
      "Change of combinations ctrs will not affect simple ctrs\n",
      "[I 2024-06-27 00:17:19,864] Trial 79 finished with value: 0.1558944565480513 and parameters: {'iterations': 889, 'learning_rate': 0.07276074008201622, 'depth': 9, 'bootstrap_type': 'Bayesian', 'bagging_temperature': 0.23274908860401744, 'od_wait': 43, 'min_data_in_leaf': 54, 'simple_ctr': None, 'combinations_ctr': 'FeatureFreq'}. Best is trial 64 with value: 0.18853150222864715.\n",
      "Change of combinations ctrs will not affect simple ctrs\n",
      "Change of combinations ctrs will not affect simple ctrs\n",
      "Change of combinations ctrs will not affect simple ctrs\n",
      "Change of combinations ctrs will not affect simple ctrs\n",
      "[I 2024-06-27 00:18:42,565] Trial 80 finished with value: 0.11895185862279098 and parameters: {'iterations': 940, 'learning_rate': 0.028917706651791705, 'depth': 10, 'bootstrap_type': 'Bayesian', 'bagging_temperature': 0.3217935554346821, 'od_wait': 13, 'min_data_in_leaf': 69, 'simple_ctr': None, 'combinations_ctr': 'FeatureFreq'}. Best is trial 64 with value: 0.18853150222864715.\n",
      "Change of combinations ctrs will not affect simple ctrs\n",
      "Change of combinations ctrs will not affect simple ctrs\n",
      "Change of combinations ctrs will not affect simple ctrs\n",
      "Change of combinations ctrs will not affect simple ctrs\n",
      "[I 2024-06-27 00:19:51,891] Trial 81 finished with value: 0.17347185310461463 and parameters: {'iterations': 963, 'learning_rate': 0.08599549961330272, 'depth': 9, 'bootstrap_type': 'Bayesian', 'bagging_temperature': 0.35838417201333567, 'od_wait': 12, 'min_data_in_leaf': 60, 'simple_ctr': None, 'combinations_ctr': 'FeatureFreq'}. Best is trial 64 with value: 0.18853150222864715.\n",
      "Change of combinations ctrs will not affect simple ctrs\n",
      "Change of combinations ctrs will not affect simple ctrs\n",
      "Change of combinations ctrs will not affect simple ctrs\n",
      "Change of combinations ctrs will not affect simple ctrs\n",
      "[I 2024-06-27 00:20:54,304] Trial 82 finished with value: 0.16569767441860464 and parameters: {'iterations': 868, 'learning_rate': 0.08810586730176106, 'depth': 9, 'bootstrap_type': 'Bayesian', 'bagging_temperature': 0.3871554723871516, 'od_wait': 10, 'min_data_in_leaf': 60, 'simple_ctr': None, 'combinations_ctr': 'FeatureFreq'}. Best is trial 64 with value: 0.18853150222864715.\n",
      "Change of combinations ctrs will not affect simple ctrs\n",
      "Change of combinations ctrs will not affect simple ctrs\n",
      "Change of combinations ctrs will not affect simple ctrs\n",
      "Change of combinations ctrs will not affect simple ctrs\n",
      "[I 2024-06-27 00:22:04,635] Trial 83 finished with value: 0.1540140674266311 and parameters: {'iterations': 971, 'learning_rate': 0.06307993032375743, 'depth': 9, 'bootstrap_type': 'Bayesian', 'bagging_temperature': 0.4473551883002198, 'od_wait': 12, 'min_data_in_leaf': 63, 'simple_ctr': None, 'combinations_ctr': 'FeatureFreq'}. Best is trial 64 with value: 0.18853150222864715.\n",
      "Change of combinations ctrs will not affect simple ctrs\n",
      "Change of combinations ctrs will not affect simple ctrs\n",
      "Change of combinations ctrs will not affect simple ctrs\n",
      "Change of combinations ctrs will not affect simple ctrs\n",
      "[I 2024-06-27 00:23:26,750] Trial 84 finished with value: 0.008677327383165985 and parameters: {'iterations': 948, 'learning_rate': 0.0016495663058013646, 'depth': 10, 'bootstrap_type': 'Bayesian', 'bagging_temperature': 0.27299372264659605, 'od_wait': 14, 'min_data_in_leaf': 56, 'simple_ctr': None, 'combinations_ctr': 'FeatureFreq'}. Best is trial 64 with value: 0.18853150222864715.\n",
      "Change of combinations ctrs will not affect simple ctrs\n",
      "Change of combinations ctrs will not affect simple ctrs\n",
      "Change of combinations ctrs will not affect simple ctrs\n",
      "Change of combinations ctrs will not affect simple ctrs\n",
      "[I 2024-06-27 00:24:22,839] Trial 85 finished with value: 0.13720732742933398 and parameters: {'iterations': 922, 'learning_rate': 0.07691774630165235, 'depth': 8, 'bootstrap_type': 'Bayesian', 'bagging_temperature': 0.15339493304282348, 'od_wait': 11, 'min_data_in_leaf': 65, 'simple_ctr': None, 'combinations_ctr': 'FeatureFreq'}. Best is trial 64 with value: 0.18853150222864715.\n",
      "[I 2024-06-27 00:25:29,860] Trial 86 finished with value: 0.07210834553440702 and parameters: {'iterations': 1000, 'learning_rate': 0.04832836610751304, 'depth': 9, 'bootstrap_type': 'Bayesian', 'bagging_temperature': 0.20945479164243896, 'od_wait': 15, 'min_data_in_leaf': 51, 'simple_ctr': 'Buckets', 'combinations_ctr': 'FeatureFreq'}. Best is trial 64 with value: 0.18853150222864715.\n",
      "Change of combinations ctrs will not affect simple ctrs\n",
      "Change of combinations ctrs will not affect simple ctrs\n",
      "Change of combinations ctrs will not affect simple ctrs\n",
      "Change of combinations ctrs will not affect simple ctrs\n",
      "[I 2024-06-27 00:26:16,966] Trial 87 finished with value: 0.10754257907542579 and parameters: {'iterations': 971, 'learning_rate': 0.0909898442041759, 'depth': 6, 'bootstrap_type': 'Bayesian', 'bagging_temperature': 0.49849523610634183, 'od_wait': 12, 'min_data_in_leaf': 75, 'simple_ctr': None, 'combinations_ctr': 'FeatureFreq'}. Best is trial 64 with value: 0.18853150222864715.\n",
      "Change of combinations ctrs will not affect simple ctrs\n",
      "Change of combinations ctrs will not affect simple ctrs\n",
      "Change of combinations ctrs will not affect simple ctrs\n",
      "Change of combinations ctrs will not affect simple ctrs\n",
      "[I 2024-06-27 00:27:35,191] Trial 88 finished with value: 0.19711365003006615 and parameters: {'iterations': 902, 'learning_rate': 0.09892754692258024, 'depth': 10, 'bootstrap_type': 'Bayesian', 'bagging_temperature': 0.28979194050830664, 'od_wait': 10, 'min_data_in_leaf': 78, 'simple_ctr': None, 'combinations_ctr': 'FeatureFreq'}. Best is trial 88 with value: 0.19711365003006615.\n",
      "[I 2024-06-27 00:27:52,915] Trial 89 finished with value: 0.0 and parameters: {'iterations': 903, 'learning_rate': 0.06809875876443539, 'depth': 9, 'bootstrap_type': 'Poisson', 'bagging_temperature': 0.34510035345048795, 'od_wait': 10, 'min_data_in_leaf': 72, 'simple_ctr': 'FeatureFreq', 'combinations_ctr': 'FeatureFreq'}. Best is trial 88 with value: 0.19711365003006615.\n",
      "Change of combinations ctrs will not affect simple ctrs\n",
      "Change of combinations ctrs will not affect simple ctrs\n",
      "Change of combinations ctrs will not affect simple ctrs\n",
      "Change of combinations ctrs will not affect simple ctrs\n",
      "[I 2024-06-27 00:28:50,021] Trial 90 finished with value: 0.15241906147690068 and parameters: {'iterations': 945, 'learning_rate': 0.09839779847313682, 'depth': 8, 'bootstrap_type': 'Bayesian', 'bagging_temperature': 0.24746163377459496, 'od_wait': 48, 'min_data_in_leaf': 78, 'simple_ctr': None, 'combinations_ctr': 'FeatureFreq'}. Best is trial 88 with value: 0.19711365003006615.\n",
      "Change of combinations ctrs will not affect simple ctrs\n",
      "Change of combinations ctrs will not affect simple ctrs\n",
      "Change of combinations ctrs will not affect simple ctrs\n",
      "Change of combinations ctrs will not affect simple ctrs\n",
      "[I 2024-06-27 00:30:06,679] Trial 91 finished with value: 0.1832005792903693 and parameters: {'iterations': 879, 'learning_rate': 0.07996807721968434, 'depth': 10, 'bootstrap_type': 'Bayesian', 'bagging_temperature': 0.37288455110185376, 'od_wait': 13, 'min_data_in_leaf': 81, 'simple_ctr': None, 'combinations_ctr': 'FeatureFreq'}. Best is trial 88 with value: 0.19711365003006615.\n",
      "Change of combinations ctrs will not affect simple ctrs\n",
      "Change of combinations ctrs will not affect simple ctrs\n",
      "Change of combinations ctrs will not affect simple ctrs\n",
      "Change of combinations ctrs will not affect simple ctrs\n",
      "[I 2024-06-27 00:30:42,784] Trial 92 finished with value: 0.14141904184354154 and parameters: {'iterations': 381, 'learning_rate': 0.09979138961020623, 'depth': 10, 'bootstrap_type': 'Bayesian', 'bagging_temperature': 0.2869948652380121, 'od_wait': 10, 'min_data_in_leaf': 83, 'simple_ctr': None, 'combinations_ctr': 'FeatureFreq'}. Best is trial 88 with value: 0.19711365003006615.\n",
      "Change of combinations ctrs will not affect simple ctrs\n",
      "Change of combinations ctrs will not affect simple ctrs\n",
      "Change of combinations ctrs will not affect simple ctrs\n",
      "Change of combinations ctrs will not affect simple ctrs\n",
      "[I 2024-06-27 00:31:58,010] Trial 93 finished with value: 0.18002421307506053 and parameters: {'iterations': 861, 'learning_rate': 0.07432410844466443, 'depth': 10, 'bootstrap_type': 'Bayesian', 'bagging_temperature': 0.37879018453134716, 'od_wait': 13, 'min_data_in_leaf': 81, 'simple_ctr': None, 'combinations_ctr': 'FeatureFreq'}. Best is trial 88 with value: 0.19711365003006615.\n",
      "Change of combinations ctrs will not affect simple ctrs\n",
      "Change of combinations ctrs will not affect simple ctrs\n",
      "Change of combinations ctrs will not affect simple ctrs\n",
      "Change of combinations ctrs will not affect simple ctrs\n",
      "[I 2024-06-27 00:33:14,238] Trial 94 finished with value: 0.16420261754726126 and parameters: {'iterations': 871, 'learning_rate': 0.058849812339440796, 'depth': 10, 'bootstrap_type': 'Bayesian', 'bagging_temperature': 0.44014574609627866, 'od_wait': 14, 'min_data_in_leaf': 81, 'simple_ctr': None, 'combinations_ctr': 'FeatureFreq'}. Best is trial 88 with value: 0.19711365003006615.\n",
      "Change of combinations ctrs will not affect simple ctrs\n",
      "Change of combinations ctrs will not affect simple ctrs\n",
      "Change of combinations ctrs will not affect simple ctrs\n",
      "Change of combinations ctrs will not affect simple ctrs\n",
      "[I 2024-06-27 00:34:28,760] Trial 95 finished with value: 0.1726844583987441 and parameters: {'iterations': 850, 'learning_rate': 0.0733301625453629, 'depth': 10, 'bootstrap_type': 'Bayesian', 'bagging_temperature': 0.38914793622824373, 'od_wait': 13, 'min_data_in_leaf': 80, 'simple_ctr': None, 'combinations_ctr': 'FeatureFreq'}. Best is trial 88 with value: 0.19711365003006615.\n",
      "Change of combinations ctrs will not affect simple ctrs\n",
      "Change of combinations ctrs will not affect simple ctrs\n",
      "Change of combinations ctrs will not affect simple ctrs\n",
      "Change of combinations ctrs will not affect simple ctrs\n",
      "[I 2024-06-27 00:35:39,316] Trial 96 finished with value: 0.16291727140783743 and parameters: {'iterations': 805, 'learning_rate': 0.06564613725665497, 'depth': 10, 'bootstrap_type': 'Bayesian', 'bagging_temperature': 0.313781092763479, 'od_wait': 11, 'min_data_in_leaf': 75, 'simple_ctr': None, 'combinations_ctr': 'FeatureFreq'}. Best is trial 88 with value: 0.19711365003006615.\n",
      "Change of combinations ctrs will not affect simple ctrs\n",
      "Change of combinations ctrs will not affect simple ctrs\n",
      "Change of combinations ctrs will not affect simple ctrs\n",
      "Change of combinations ctrs will not affect simple ctrs\n",
      "[I 2024-06-27 00:36:56,715] Trial 97 finished with value: 0.18263075250634134 and parameters: {'iterations': 889, 'learning_rate': 0.07936103936273915, 'depth': 10, 'bootstrap_type': 'Bayesian', 'bagging_temperature': 0.22083126458949376, 'od_wait': 10, 'min_data_in_leaf': 68, 'simple_ctr': None, 'combinations_ctr': 'FeatureFreq'}. Best is trial 88 with value: 0.19711365003006615.\n",
      "Change of combinations ctrs will not affect simple ctrs\n",
      "Change of combinations ctrs will not affect simple ctrs\n",
      "Change of combinations ctrs will not affect simple ctrs\n",
      "Change of combinations ctrs will not affect simple ctrs\n",
      "[I 2024-06-27 00:38:17,196] Trial 98 finished with value: 0.19048192771084338 and parameters: {'iterations': 915, 'learning_rate': 0.07936282029719653, 'depth': 10, 'bootstrap_type': 'Bayesian', 'bagging_temperature': 0.5284576894739492, 'od_wait': 10, 'min_data_in_leaf': 68, 'simple_ctr': None, 'combinations_ctr': 'FeatureFreq'}. Best is trial 88 with value: 0.19711365003006615.\n",
      "[I 2024-06-27 00:39:31,331] Trial 99 finished with value: 0.17869665094909926 and parameters: {'iterations': 838, 'learning_rate': 0.07216206687103605, 'depth': 10, 'bootstrap_type': 'Bayesian', 'bagging_temperature': 0.5232501041621157, 'od_wait': 32, 'min_data_in_leaf': 67, 'simple_ctr': None, 'combinations_ctr': None}. Best is trial 88 with value: 0.19711365003006615.\n"
     ]
    }
   ],
   "source": [
    "study_cat_no_enc = optuna.create_study(study_name=\"catboost_no_enc\", direction='maximize', pruner=\"HyperbandPruner\", sampler=sampler)\n",
    "study_cat_no_enc.optimize(objective_cat_no_enc, n_trials=100)"
   ]
  },
  {
   "cell_type": "code",
   "execution_count": 142,
   "metadata": {},
   "outputs": [
    {
     "name": "stdout",
     "output_type": "stream",
     "text": [
      "Best hyperparameters:\n",
      "{'iterations': 902, 'learning_rate': 0.09892754692258024, 'depth': 10, 'bootstrap_type': 'Bayesian', 'bagging_temperature': 0.28979194050830664, 'od_wait': 10, 'min_data_in_leaf': 78, 'simple_ctr': None, 'combinations_ctr': 'FeatureFreq'}\n",
      "-----------------------------------------------------------------------------------------------------------------\n",
      "Best CSI Index:\n",
      "0.19711365003006615\n"
     ]
    }
   ],
   "source": [
    "print(\"Best hyperparameters:\", study_cat_no_enc.best_params, sep=\"\\n\")\n",
    "print(\"-----------------------------------------------------------------------------------------------------------------\")\n",
    "print(\"Best CSI Index:\", study_cat_no_enc.best_value, sep=\"\\n\")"
   ]
  },
  {
   "cell_type": "code",
   "execution_count": 150,
   "metadata": {},
   "outputs": [
    {
     "ename": "ValueError",
     "evalue": "Mime type rendering requires nbformat>=4.2.0 but it is not installed",
     "output_type": "error",
     "traceback": [
      "\u001b[1;31m---------------------------------------------------------------------------\u001b[0m",
      "\u001b[1;31mValueError\u001b[0m                                Traceback (most recent call last)",
      "File \u001b[1;32mc:\\Users\\aryij\\anaconda3\\envs\\weather2\\Lib\\site-packages\\IPython\\core\\formatters.py:925\u001b[0m, in \u001b[0;36mIPythonDisplayFormatter.__call__\u001b[1;34m(self, obj)\u001b[0m\n\u001b[0;32m    923\u001b[0m method \u001b[38;5;241m=\u001b[39m get_real_method(obj, \u001b[38;5;28mself\u001b[39m\u001b[38;5;241m.\u001b[39mprint_method)\n\u001b[0;32m    924\u001b[0m \u001b[38;5;28;01mif\u001b[39;00m method \u001b[38;5;129;01mis\u001b[39;00m \u001b[38;5;129;01mnot\u001b[39;00m \u001b[38;5;28;01mNone\u001b[39;00m:\n\u001b[1;32m--> 925\u001b[0m     method()\n\u001b[0;32m    926\u001b[0m     \u001b[38;5;28;01mreturn\u001b[39;00m \u001b[38;5;28;01mTrue\u001b[39;00m\n",
      "File \u001b[1;32mc:\\Users\\aryij\\anaconda3\\envs\\weather2\\Lib\\site-packages\\plotly\\basedatatypes.py:832\u001b[0m, in \u001b[0;36mBaseFigure._ipython_display_\u001b[1;34m(self)\u001b[0m\n\u001b[0;32m    829\u001b[0m \u001b[38;5;28;01mimport\u001b[39;00m \u001b[38;5;21;01mplotly\u001b[39;00m\u001b[38;5;21;01m.\u001b[39;00m\u001b[38;5;21;01mio\u001b[39;00m \u001b[38;5;28;01mas\u001b[39;00m \u001b[38;5;21;01mpio\u001b[39;00m\n\u001b[0;32m    831\u001b[0m \u001b[38;5;28;01mif\u001b[39;00m pio\u001b[38;5;241m.\u001b[39mrenderers\u001b[38;5;241m.\u001b[39mrender_on_display \u001b[38;5;129;01mand\u001b[39;00m pio\u001b[38;5;241m.\u001b[39mrenderers\u001b[38;5;241m.\u001b[39mdefault:\n\u001b[1;32m--> 832\u001b[0m     pio\u001b[38;5;241m.\u001b[39mshow(\u001b[38;5;28mself\u001b[39m)\n\u001b[0;32m    833\u001b[0m \u001b[38;5;28;01melse\u001b[39;00m:\n\u001b[0;32m    834\u001b[0m     \u001b[38;5;28mprint\u001b[39m(\u001b[38;5;28mrepr\u001b[39m(\u001b[38;5;28mself\u001b[39m))\n",
      "File \u001b[1;32mc:\\Users\\aryij\\anaconda3\\envs\\weather2\\Lib\\site-packages\\plotly\\io\\_renderers.py:394\u001b[0m, in \u001b[0;36mshow\u001b[1;34m(fig, renderer, validate, **kwargs)\u001b[0m\n\u001b[0;32m    389\u001b[0m         \u001b[38;5;28;01mraise\u001b[39;00m \u001b[38;5;167;01mValueError\u001b[39;00m(\n\u001b[0;32m    390\u001b[0m             \u001b[38;5;124m\"\u001b[39m\u001b[38;5;124mMime type rendering requires ipython but it is not installed\u001b[39m\u001b[38;5;124m\"\u001b[39m\n\u001b[0;32m    391\u001b[0m         )\n\u001b[0;32m    393\u001b[0m     \u001b[38;5;28;01mif\u001b[39;00m \u001b[38;5;129;01mnot\u001b[39;00m nbformat \u001b[38;5;129;01mor\u001b[39;00m Version(nbformat\u001b[38;5;241m.\u001b[39m__version__) \u001b[38;5;241m<\u001b[39m Version(\u001b[38;5;124m\"\u001b[39m\u001b[38;5;124m4.2.0\u001b[39m\u001b[38;5;124m\"\u001b[39m):\n\u001b[1;32m--> 394\u001b[0m         \u001b[38;5;28;01mraise\u001b[39;00m \u001b[38;5;167;01mValueError\u001b[39;00m(\n\u001b[0;32m    395\u001b[0m             \u001b[38;5;124m\"\u001b[39m\u001b[38;5;124mMime type rendering requires nbformat>=4.2.0 but it is not installed\u001b[39m\u001b[38;5;124m\"\u001b[39m\n\u001b[0;32m    396\u001b[0m         )\n\u001b[0;32m    398\u001b[0m     ipython_display\u001b[38;5;241m.\u001b[39mdisplay(bundle, raw\u001b[38;5;241m=\u001b[39m\u001b[38;5;28;01mTrue\u001b[39;00m)\n\u001b[0;32m    400\u001b[0m \u001b[38;5;66;03m# external renderers\u001b[39;00m\n",
      "\u001b[1;31mValueError\u001b[0m: Mime type rendering requires nbformat>=4.2.0 but it is not installed"
     ]
    },
    {
     "data": {
      "application/vnd.plotly.v1+json": {
       "config": {
        "plotlyServerURL": "https://plot.ly"
       },
       "data": [
        {
         "cliponaxis": false,
         "hovertemplate": [
          "combinations_ctr (CategoricalDistribution): 0.003271696619148365<extra></extra>",
          "od_wait (IntDistribution): 0.004440799968081603<extra></extra>",
          "bagging_temperature (FloatDistribution): 0.004878026057178792<extra></extra>",
          "min_data_in_leaf (IntDistribution): 0.01848430627699678<extra></extra>",
          "depth (IntDistribution): 0.0241353051620846<extra></extra>",
          "simple_ctr (CategoricalDistribution): 0.024264439950968157<extra></extra>",
          "iterations (IntDistribution): 0.036231346987425105<extra></extra>",
          "learning_rate (FloatDistribution): 0.21681863345994146<extra></extra>",
          "bootstrap_type (CategoricalDistribution): 0.6674754455181752<extra></extra>"
         ],
         "name": "Objective Value",
         "orientation": "h",
         "text": [
          "<0.01",
          "<0.01",
          "<0.01",
          "0.02",
          "0.02",
          "0.02",
          "0.04",
          "0.22",
          "0.67"
         ],
         "textposition": "outside",
         "type": "bar",
         "x": [
          0.003271696619148365,
          0.004440799968081603,
          0.004878026057178792,
          0.01848430627699678,
          0.0241353051620846,
          0.024264439950968157,
          0.036231346987425105,
          0.21681863345994146,
          0.6674754455181752
         ],
         "y": [
          "combinations_ctr",
          "od_wait",
          "bagging_temperature",
          "min_data_in_leaf",
          "depth",
          "simple_ctr",
          "iterations",
          "learning_rate",
          "bootstrap_type"
         ]
        }
       ],
       "layout": {
        "template": {
         "data": {
          "bar": [
           {
            "error_x": {
             "color": "#2a3f5f"
            },
            "error_y": {
             "color": "#2a3f5f"
            },
            "marker": {
             "line": {
              "color": "#E5ECF6",
              "width": 0.5
             },
             "pattern": {
              "fillmode": "overlay",
              "size": 10,
              "solidity": 0.2
             }
            },
            "type": "bar"
           }
          ],
          "barpolar": [
           {
            "marker": {
             "line": {
              "color": "#E5ECF6",
              "width": 0.5
             },
             "pattern": {
              "fillmode": "overlay",
              "size": 10,
              "solidity": 0.2
             }
            },
            "type": "barpolar"
           }
          ],
          "carpet": [
           {
            "aaxis": {
             "endlinecolor": "#2a3f5f",
             "gridcolor": "white",
             "linecolor": "white",
             "minorgridcolor": "white",
             "startlinecolor": "#2a3f5f"
            },
            "baxis": {
             "endlinecolor": "#2a3f5f",
             "gridcolor": "white",
             "linecolor": "white",
             "minorgridcolor": "white",
             "startlinecolor": "#2a3f5f"
            },
            "type": "carpet"
           }
          ],
          "choropleth": [
           {
            "colorbar": {
             "outlinewidth": 0,
             "ticks": ""
            },
            "type": "choropleth"
           }
          ],
          "contour": [
           {
            "colorbar": {
             "outlinewidth": 0,
             "ticks": ""
            },
            "colorscale": [
             [
              0,
              "#0d0887"
             ],
             [
              0.1111111111111111,
              "#46039f"
             ],
             [
              0.2222222222222222,
              "#7201a8"
             ],
             [
              0.3333333333333333,
              "#9c179e"
             ],
             [
              0.4444444444444444,
              "#bd3786"
             ],
             [
              0.5555555555555556,
              "#d8576b"
             ],
             [
              0.6666666666666666,
              "#ed7953"
             ],
             [
              0.7777777777777778,
              "#fb9f3a"
             ],
             [
              0.8888888888888888,
              "#fdca26"
             ],
             [
              1,
              "#f0f921"
             ]
            ],
            "type": "contour"
           }
          ],
          "contourcarpet": [
           {
            "colorbar": {
             "outlinewidth": 0,
             "ticks": ""
            },
            "type": "contourcarpet"
           }
          ],
          "heatmap": [
           {
            "colorbar": {
             "outlinewidth": 0,
             "ticks": ""
            },
            "colorscale": [
             [
              0,
              "#0d0887"
             ],
             [
              0.1111111111111111,
              "#46039f"
             ],
             [
              0.2222222222222222,
              "#7201a8"
             ],
             [
              0.3333333333333333,
              "#9c179e"
             ],
             [
              0.4444444444444444,
              "#bd3786"
             ],
             [
              0.5555555555555556,
              "#d8576b"
             ],
             [
              0.6666666666666666,
              "#ed7953"
             ],
             [
              0.7777777777777778,
              "#fb9f3a"
             ],
             [
              0.8888888888888888,
              "#fdca26"
             ],
             [
              1,
              "#f0f921"
             ]
            ],
            "type": "heatmap"
           }
          ],
          "heatmapgl": [
           {
            "colorbar": {
             "outlinewidth": 0,
             "ticks": ""
            },
            "colorscale": [
             [
              0,
              "#0d0887"
             ],
             [
              0.1111111111111111,
              "#46039f"
             ],
             [
              0.2222222222222222,
              "#7201a8"
             ],
             [
              0.3333333333333333,
              "#9c179e"
             ],
             [
              0.4444444444444444,
              "#bd3786"
             ],
             [
              0.5555555555555556,
              "#d8576b"
             ],
             [
              0.6666666666666666,
              "#ed7953"
             ],
             [
              0.7777777777777778,
              "#fb9f3a"
             ],
             [
              0.8888888888888888,
              "#fdca26"
             ],
             [
              1,
              "#f0f921"
             ]
            ],
            "type": "heatmapgl"
           }
          ],
          "histogram": [
           {
            "marker": {
             "pattern": {
              "fillmode": "overlay",
              "size": 10,
              "solidity": 0.2
             }
            },
            "type": "histogram"
           }
          ],
          "histogram2d": [
           {
            "colorbar": {
             "outlinewidth": 0,
             "ticks": ""
            },
            "colorscale": [
             [
              0,
              "#0d0887"
             ],
             [
              0.1111111111111111,
              "#46039f"
             ],
             [
              0.2222222222222222,
              "#7201a8"
             ],
             [
              0.3333333333333333,
              "#9c179e"
             ],
             [
              0.4444444444444444,
              "#bd3786"
             ],
             [
              0.5555555555555556,
              "#d8576b"
             ],
             [
              0.6666666666666666,
              "#ed7953"
             ],
             [
              0.7777777777777778,
              "#fb9f3a"
             ],
             [
              0.8888888888888888,
              "#fdca26"
             ],
             [
              1,
              "#f0f921"
             ]
            ],
            "type": "histogram2d"
           }
          ],
          "histogram2dcontour": [
           {
            "colorbar": {
             "outlinewidth": 0,
             "ticks": ""
            },
            "colorscale": [
             [
              0,
              "#0d0887"
             ],
             [
              0.1111111111111111,
              "#46039f"
             ],
             [
              0.2222222222222222,
              "#7201a8"
             ],
             [
              0.3333333333333333,
              "#9c179e"
             ],
             [
              0.4444444444444444,
              "#bd3786"
             ],
             [
              0.5555555555555556,
              "#d8576b"
             ],
             [
              0.6666666666666666,
              "#ed7953"
             ],
             [
              0.7777777777777778,
              "#fb9f3a"
             ],
             [
              0.8888888888888888,
              "#fdca26"
             ],
             [
              1,
              "#f0f921"
             ]
            ],
            "type": "histogram2dcontour"
           }
          ],
          "mesh3d": [
           {
            "colorbar": {
             "outlinewidth": 0,
             "ticks": ""
            },
            "type": "mesh3d"
           }
          ],
          "parcoords": [
           {
            "line": {
             "colorbar": {
              "outlinewidth": 0,
              "ticks": ""
             }
            },
            "type": "parcoords"
           }
          ],
          "pie": [
           {
            "automargin": true,
            "type": "pie"
           }
          ],
          "scatter": [
           {
            "fillpattern": {
             "fillmode": "overlay",
             "size": 10,
             "solidity": 0.2
            },
            "type": "scatter"
           }
          ],
          "scatter3d": [
           {
            "line": {
             "colorbar": {
              "outlinewidth": 0,
              "ticks": ""
             }
            },
            "marker": {
             "colorbar": {
              "outlinewidth": 0,
              "ticks": ""
             }
            },
            "type": "scatter3d"
           }
          ],
          "scattercarpet": [
           {
            "marker": {
             "colorbar": {
              "outlinewidth": 0,
              "ticks": ""
             }
            },
            "type": "scattercarpet"
           }
          ],
          "scattergeo": [
           {
            "marker": {
             "colorbar": {
              "outlinewidth": 0,
              "ticks": ""
             }
            },
            "type": "scattergeo"
           }
          ],
          "scattergl": [
           {
            "marker": {
             "colorbar": {
              "outlinewidth": 0,
              "ticks": ""
             }
            },
            "type": "scattergl"
           }
          ],
          "scattermapbox": [
           {
            "marker": {
             "colorbar": {
              "outlinewidth": 0,
              "ticks": ""
             }
            },
            "type": "scattermapbox"
           }
          ],
          "scatterpolar": [
           {
            "marker": {
             "colorbar": {
              "outlinewidth": 0,
              "ticks": ""
             }
            },
            "type": "scatterpolar"
           }
          ],
          "scatterpolargl": [
           {
            "marker": {
             "colorbar": {
              "outlinewidth": 0,
              "ticks": ""
             }
            },
            "type": "scatterpolargl"
           }
          ],
          "scatterternary": [
           {
            "marker": {
             "colorbar": {
              "outlinewidth": 0,
              "ticks": ""
             }
            },
            "type": "scatterternary"
           }
          ],
          "surface": [
           {
            "colorbar": {
             "outlinewidth": 0,
             "ticks": ""
            },
            "colorscale": [
             [
              0,
              "#0d0887"
             ],
             [
              0.1111111111111111,
              "#46039f"
             ],
             [
              0.2222222222222222,
              "#7201a8"
             ],
             [
              0.3333333333333333,
              "#9c179e"
             ],
             [
              0.4444444444444444,
              "#bd3786"
             ],
             [
              0.5555555555555556,
              "#d8576b"
             ],
             [
              0.6666666666666666,
              "#ed7953"
             ],
             [
              0.7777777777777778,
              "#fb9f3a"
             ],
             [
              0.8888888888888888,
              "#fdca26"
             ],
             [
              1,
              "#f0f921"
             ]
            ],
            "type": "surface"
           }
          ],
          "table": [
           {
            "cells": {
             "fill": {
              "color": "#EBF0F8"
             },
             "line": {
              "color": "white"
             }
            },
            "header": {
             "fill": {
              "color": "#C8D4E3"
             },
             "line": {
              "color": "white"
             }
            },
            "type": "table"
           }
          ]
         },
         "layout": {
          "annotationdefaults": {
           "arrowcolor": "#2a3f5f",
           "arrowhead": 0,
           "arrowwidth": 1
          },
          "autotypenumbers": "strict",
          "coloraxis": {
           "colorbar": {
            "outlinewidth": 0,
            "ticks": ""
           }
          },
          "colorscale": {
           "diverging": [
            [
             0,
             "#8e0152"
            ],
            [
             0.1,
             "#c51b7d"
            ],
            [
             0.2,
             "#de77ae"
            ],
            [
             0.3,
             "#f1b6da"
            ],
            [
             0.4,
             "#fde0ef"
            ],
            [
             0.5,
             "#f7f7f7"
            ],
            [
             0.6,
             "#e6f5d0"
            ],
            [
             0.7,
             "#b8e186"
            ],
            [
             0.8,
             "#7fbc41"
            ],
            [
             0.9,
             "#4d9221"
            ],
            [
             1,
             "#276419"
            ]
           ],
           "sequential": [
            [
             0,
             "#0d0887"
            ],
            [
             0.1111111111111111,
             "#46039f"
            ],
            [
             0.2222222222222222,
             "#7201a8"
            ],
            [
             0.3333333333333333,
             "#9c179e"
            ],
            [
             0.4444444444444444,
             "#bd3786"
            ],
            [
             0.5555555555555556,
             "#d8576b"
            ],
            [
             0.6666666666666666,
             "#ed7953"
            ],
            [
             0.7777777777777778,
             "#fb9f3a"
            ],
            [
             0.8888888888888888,
             "#fdca26"
            ],
            [
             1,
             "#f0f921"
            ]
           ],
           "sequentialminus": [
            [
             0,
             "#0d0887"
            ],
            [
             0.1111111111111111,
             "#46039f"
            ],
            [
             0.2222222222222222,
             "#7201a8"
            ],
            [
             0.3333333333333333,
             "#9c179e"
            ],
            [
             0.4444444444444444,
             "#bd3786"
            ],
            [
             0.5555555555555556,
             "#d8576b"
            ],
            [
             0.6666666666666666,
             "#ed7953"
            ],
            [
             0.7777777777777778,
             "#fb9f3a"
            ],
            [
             0.8888888888888888,
             "#fdca26"
            ],
            [
             1,
             "#f0f921"
            ]
           ]
          },
          "colorway": [
           "#636efa",
           "#EF553B",
           "#00cc96",
           "#ab63fa",
           "#FFA15A",
           "#19d3f3",
           "#FF6692",
           "#B6E880",
           "#FF97FF",
           "#FECB52"
          ],
          "font": {
           "color": "#2a3f5f"
          },
          "geo": {
           "bgcolor": "white",
           "lakecolor": "white",
           "landcolor": "#E5ECF6",
           "showlakes": true,
           "showland": true,
           "subunitcolor": "white"
          },
          "hoverlabel": {
           "align": "left"
          },
          "hovermode": "closest",
          "mapbox": {
           "style": "light"
          },
          "paper_bgcolor": "white",
          "plot_bgcolor": "#E5ECF6",
          "polar": {
           "angularaxis": {
            "gridcolor": "white",
            "linecolor": "white",
            "ticks": ""
           },
           "bgcolor": "#E5ECF6",
           "radialaxis": {
            "gridcolor": "white",
            "linecolor": "white",
            "ticks": ""
           }
          },
          "scene": {
           "xaxis": {
            "backgroundcolor": "#E5ECF6",
            "gridcolor": "white",
            "gridwidth": 2,
            "linecolor": "white",
            "showbackground": true,
            "ticks": "",
            "zerolinecolor": "white"
           },
           "yaxis": {
            "backgroundcolor": "#E5ECF6",
            "gridcolor": "white",
            "gridwidth": 2,
            "linecolor": "white",
            "showbackground": true,
            "ticks": "",
            "zerolinecolor": "white"
           },
           "zaxis": {
            "backgroundcolor": "#E5ECF6",
            "gridcolor": "white",
            "gridwidth": 2,
            "linecolor": "white",
            "showbackground": true,
            "ticks": "",
            "zerolinecolor": "white"
           }
          },
          "shapedefaults": {
           "line": {
            "color": "#2a3f5f"
           }
          },
          "ternary": {
           "aaxis": {
            "gridcolor": "white",
            "linecolor": "white",
            "ticks": ""
           },
           "baxis": {
            "gridcolor": "white",
            "linecolor": "white",
            "ticks": ""
           },
           "bgcolor": "#E5ECF6",
           "caxis": {
            "gridcolor": "white",
            "linecolor": "white",
            "ticks": ""
           }
          },
          "title": {
           "x": 0.05
          },
          "xaxis": {
           "automargin": true,
           "gridcolor": "white",
           "linecolor": "white",
           "ticks": "",
           "title": {
            "standoff": 15
           },
           "zerolinecolor": "white",
           "zerolinewidth": 2
          },
          "yaxis": {
           "automargin": true,
           "gridcolor": "white",
           "linecolor": "white",
           "ticks": "",
           "title": {
            "standoff": 15
           },
           "zerolinecolor": "white",
           "zerolinewidth": 2
          }
         }
        },
        "title": {
         "text": "Hyperparameter Importances"
        },
        "xaxis": {
         "title": {
          "text": "Hyperparameter Importance"
         }
        },
        "yaxis": {
         "title": {
          "text": "Hyperparameter"
         }
        }
       }
      },
      "text/html": [
       "<div>                        <script type=\"text/javascript\">window.PlotlyConfig = {MathJaxConfig: 'local'};</script>\n",
       "        <script charset=\"utf-8\" src=\"https://cdn.plot.ly/plotly-2.32.0.min.js\"></script>                <div id=\"43ee0533-3f24-45c6-8fde-3eb055478688\" class=\"plotly-graph-div\" style=\"height:100%; width:100%;\"></div>            <script type=\"text/javascript\">                                    window.PLOTLYENV=window.PLOTLYENV || {};                                    if (document.getElementById(\"43ee0533-3f24-45c6-8fde-3eb055478688\")) {                    Plotly.newPlot(                        \"43ee0533-3f24-45c6-8fde-3eb055478688\",                        [{\"cliponaxis\":false,\"hovertemplate\":[\"combinations_ctr (CategoricalDistribution): 0.003271696619148365\\u003cextra\\u003e\\u003c\\u002fextra\\u003e\",\"od_wait (IntDistribution): 0.004440799968081603\\u003cextra\\u003e\\u003c\\u002fextra\\u003e\",\"bagging_temperature (FloatDistribution): 0.004878026057178792\\u003cextra\\u003e\\u003c\\u002fextra\\u003e\",\"min_data_in_leaf (IntDistribution): 0.01848430627699678\\u003cextra\\u003e\\u003c\\u002fextra\\u003e\",\"depth (IntDistribution): 0.0241353051620846\\u003cextra\\u003e\\u003c\\u002fextra\\u003e\",\"simple_ctr (CategoricalDistribution): 0.024264439950968157\\u003cextra\\u003e\\u003c\\u002fextra\\u003e\",\"iterations (IntDistribution): 0.036231346987425105\\u003cextra\\u003e\\u003c\\u002fextra\\u003e\",\"learning_rate (FloatDistribution): 0.21681863345994146\\u003cextra\\u003e\\u003c\\u002fextra\\u003e\",\"bootstrap_type (CategoricalDistribution): 0.6674754455181752\\u003cextra\\u003e\\u003c\\u002fextra\\u003e\"],\"name\":\"Objective Value\",\"orientation\":\"h\",\"text\":[\"\\u003c0.01\",\"\\u003c0.01\",\"\\u003c0.01\",\"0.02\",\"0.02\",\"0.02\",\"0.04\",\"0.22\",\"0.67\"],\"textposition\":\"outside\",\"x\":[0.003271696619148365,0.004440799968081603,0.004878026057178792,0.01848430627699678,0.0241353051620846,0.024264439950968157,0.036231346987425105,0.21681863345994146,0.6674754455181752],\"y\":[\"combinations_ctr\",\"od_wait\",\"bagging_temperature\",\"min_data_in_leaf\",\"depth\",\"simple_ctr\",\"iterations\",\"learning_rate\",\"bootstrap_type\"],\"type\":\"bar\"}],                        {\"title\":{\"text\":\"Hyperparameter Importances\"},\"xaxis\":{\"title\":{\"text\":\"Hyperparameter Importance\"}},\"yaxis\":{\"title\":{\"text\":\"Hyperparameter\"}},\"template\":{\"data\":{\"histogram2dcontour\":[{\"type\":\"histogram2dcontour\",\"colorbar\":{\"outlinewidth\":0,\"ticks\":\"\"},\"colorscale\":[[0.0,\"#0d0887\"],[0.1111111111111111,\"#46039f\"],[0.2222222222222222,\"#7201a8\"],[0.3333333333333333,\"#9c179e\"],[0.4444444444444444,\"#bd3786\"],[0.5555555555555556,\"#d8576b\"],[0.6666666666666666,\"#ed7953\"],[0.7777777777777778,\"#fb9f3a\"],[0.8888888888888888,\"#fdca26\"],[1.0,\"#f0f921\"]]}],\"choropleth\":[{\"type\":\"choropleth\",\"colorbar\":{\"outlinewidth\":0,\"ticks\":\"\"}}],\"histogram2d\":[{\"type\":\"histogram2d\",\"colorbar\":{\"outlinewidth\":0,\"ticks\":\"\"},\"colorscale\":[[0.0,\"#0d0887\"],[0.1111111111111111,\"#46039f\"],[0.2222222222222222,\"#7201a8\"],[0.3333333333333333,\"#9c179e\"],[0.4444444444444444,\"#bd3786\"],[0.5555555555555556,\"#d8576b\"],[0.6666666666666666,\"#ed7953\"],[0.7777777777777778,\"#fb9f3a\"],[0.8888888888888888,\"#fdca26\"],[1.0,\"#f0f921\"]]}],\"heatmap\":[{\"type\":\"heatmap\",\"colorbar\":{\"outlinewidth\":0,\"ticks\":\"\"},\"colorscale\":[[0.0,\"#0d0887\"],[0.1111111111111111,\"#46039f\"],[0.2222222222222222,\"#7201a8\"],[0.3333333333333333,\"#9c179e\"],[0.4444444444444444,\"#bd3786\"],[0.5555555555555556,\"#d8576b\"],[0.6666666666666666,\"#ed7953\"],[0.7777777777777778,\"#fb9f3a\"],[0.8888888888888888,\"#fdca26\"],[1.0,\"#f0f921\"]]}],\"heatmapgl\":[{\"type\":\"heatmapgl\",\"colorbar\":{\"outlinewidth\":0,\"ticks\":\"\"},\"colorscale\":[[0.0,\"#0d0887\"],[0.1111111111111111,\"#46039f\"],[0.2222222222222222,\"#7201a8\"],[0.3333333333333333,\"#9c179e\"],[0.4444444444444444,\"#bd3786\"],[0.5555555555555556,\"#d8576b\"],[0.6666666666666666,\"#ed7953\"],[0.7777777777777778,\"#fb9f3a\"],[0.8888888888888888,\"#fdca26\"],[1.0,\"#f0f921\"]]}],\"contourcarpet\":[{\"type\":\"contourcarpet\",\"colorbar\":{\"outlinewidth\":0,\"ticks\":\"\"}}],\"contour\":[{\"type\":\"contour\",\"colorbar\":{\"outlinewidth\":0,\"ticks\":\"\"},\"colorscale\":[[0.0,\"#0d0887\"],[0.1111111111111111,\"#46039f\"],[0.2222222222222222,\"#7201a8\"],[0.3333333333333333,\"#9c179e\"],[0.4444444444444444,\"#bd3786\"],[0.5555555555555556,\"#d8576b\"],[0.6666666666666666,\"#ed7953\"],[0.7777777777777778,\"#fb9f3a\"],[0.8888888888888888,\"#fdca26\"],[1.0,\"#f0f921\"]]}],\"surface\":[{\"type\":\"surface\",\"colorbar\":{\"outlinewidth\":0,\"ticks\":\"\"},\"colorscale\":[[0.0,\"#0d0887\"],[0.1111111111111111,\"#46039f\"],[0.2222222222222222,\"#7201a8\"],[0.3333333333333333,\"#9c179e\"],[0.4444444444444444,\"#bd3786\"],[0.5555555555555556,\"#d8576b\"],[0.6666666666666666,\"#ed7953\"],[0.7777777777777778,\"#fb9f3a\"],[0.8888888888888888,\"#fdca26\"],[1.0,\"#f0f921\"]]}],\"mesh3d\":[{\"type\":\"mesh3d\",\"colorbar\":{\"outlinewidth\":0,\"ticks\":\"\"}}],\"scatter\":[{\"fillpattern\":{\"fillmode\":\"overlay\",\"size\":10,\"solidity\":0.2},\"type\":\"scatter\"}],\"parcoords\":[{\"type\":\"parcoords\",\"line\":{\"colorbar\":{\"outlinewidth\":0,\"ticks\":\"\"}}}],\"scatterpolargl\":[{\"type\":\"scatterpolargl\",\"marker\":{\"colorbar\":{\"outlinewidth\":0,\"ticks\":\"\"}}}],\"bar\":[{\"error_x\":{\"color\":\"#2a3f5f\"},\"error_y\":{\"color\":\"#2a3f5f\"},\"marker\":{\"line\":{\"color\":\"#E5ECF6\",\"width\":0.5},\"pattern\":{\"fillmode\":\"overlay\",\"size\":10,\"solidity\":0.2}},\"type\":\"bar\"}],\"scattergeo\":[{\"type\":\"scattergeo\",\"marker\":{\"colorbar\":{\"outlinewidth\":0,\"ticks\":\"\"}}}],\"scatterpolar\":[{\"type\":\"scatterpolar\",\"marker\":{\"colorbar\":{\"outlinewidth\":0,\"ticks\":\"\"}}}],\"histogram\":[{\"marker\":{\"pattern\":{\"fillmode\":\"overlay\",\"size\":10,\"solidity\":0.2}},\"type\":\"histogram\"}],\"scattergl\":[{\"type\":\"scattergl\",\"marker\":{\"colorbar\":{\"outlinewidth\":0,\"ticks\":\"\"}}}],\"scatter3d\":[{\"type\":\"scatter3d\",\"line\":{\"colorbar\":{\"outlinewidth\":0,\"ticks\":\"\"}},\"marker\":{\"colorbar\":{\"outlinewidth\":0,\"ticks\":\"\"}}}],\"scattermapbox\":[{\"type\":\"scattermapbox\",\"marker\":{\"colorbar\":{\"outlinewidth\":0,\"ticks\":\"\"}}}],\"scatterternary\":[{\"type\":\"scatterternary\",\"marker\":{\"colorbar\":{\"outlinewidth\":0,\"ticks\":\"\"}}}],\"scattercarpet\":[{\"type\":\"scattercarpet\",\"marker\":{\"colorbar\":{\"outlinewidth\":0,\"ticks\":\"\"}}}],\"carpet\":[{\"aaxis\":{\"endlinecolor\":\"#2a3f5f\",\"gridcolor\":\"white\",\"linecolor\":\"white\",\"minorgridcolor\":\"white\",\"startlinecolor\":\"#2a3f5f\"},\"baxis\":{\"endlinecolor\":\"#2a3f5f\",\"gridcolor\":\"white\",\"linecolor\":\"white\",\"minorgridcolor\":\"white\",\"startlinecolor\":\"#2a3f5f\"},\"type\":\"carpet\"}],\"table\":[{\"cells\":{\"fill\":{\"color\":\"#EBF0F8\"},\"line\":{\"color\":\"white\"}},\"header\":{\"fill\":{\"color\":\"#C8D4E3\"},\"line\":{\"color\":\"white\"}},\"type\":\"table\"}],\"barpolar\":[{\"marker\":{\"line\":{\"color\":\"#E5ECF6\",\"width\":0.5},\"pattern\":{\"fillmode\":\"overlay\",\"size\":10,\"solidity\":0.2}},\"type\":\"barpolar\"}],\"pie\":[{\"automargin\":true,\"type\":\"pie\"}]},\"layout\":{\"autotypenumbers\":\"strict\",\"colorway\":[\"#636efa\",\"#EF553B\",\"#00cc96\",\"#ab63fa\",\"#FFA15A\",\"#19d3f3\",\"#FF6692\",\"#B6E880\",\"#FF97FF\",\"#FECB52\"],\"font\":{\"color\":\"#2a3f5f\"},\"hovermode\":\"closest\",\"hoverlabel\":{\"align\":\"left\"},\"paper_bgcolor\":\"white\",\"plot_bgcolor\":\"#E5ECF6\",\"polar\":{\"bgcolor\":\"#E5ECF6\",\"angularaxis\":{\"gridcolor\":\"white\",\"linecolor\":\"white\",\"ticks\":\"\"},\"radialaxis\":{\"gridcolor\":\"white\",\"linecolor\":\"white\",\"ticks\":\"\"}},\"ternary\":{\"bgcolor\":\"#E5ECF6\",\"aaxis\":{\"gridcolor\":\"white\",\"linecolor\":\"white\",\"ticks\":\"\"},\"baxis\":{\"gridcolor\":\"white\",\"linecolor\":\"white\",\"ticks\":\"\"},\"caxis\":{\"gridcolor\":\"white\",\"linecolor\":\"white\",\"ticks\":\"\"}},\"coloraxis\":{\"colorbar\":{\"outlinewidth\":0,\"ticks\":\"\"}},\"colorscale\":{\"sequential\":[[0.0,\"#0d0887\"],[0.1111111111111111,\"#46039f\"],[0.2222222222222222,\"#7201a8\"],[0.3333333333333333,\"#9c179e\"],[0.4444444444444444,\"#bd3786\"],[0.5555555555555556,\"#d8576b\"],[0.6666666666666666,\"#ed7953\"],[0.7777777777777778,\"#fb9f3a\"],[0.8888888888888888,\"#fdca26\"],[1.0,\"#f0f921\"]],\"sequentialminus\":[[0.0,\"#0d0887\"],[0.1111111111111111,\"#46039f\"],[0.2222222222222222,\"#7201a8\"],[0.3333333333333333,\"#9c179e\"],[0.4444444444444444,\"#bd3786\"],[0.5555555555555556,\"#d8576b\"],[0.6666666666666666,\"#ed7953\"],[0.7777777777777778,\"#fb9f3a\"],[0.8888888888888888,\"#fdca26\"],[1.0,\"#f0f921\"]],\"diverging\":[[0,\"#8e0152\"],[0.1,\"#c51b7d\"],[0.2,\"#de77ae\"],[0.3,\"#f1b6da\"],[0.4,\"#fde0ef\"],[0.5,\"#f7f7f7\"],[0.6,\"#e6f5d0\"],[0.7,\"#b8e186\"],[0.8,\"#7fbc41\"],[0.9,\"#4d9221\"],[1,\"#276419\"]]},\"xaxis\":{\"gridcolor\":\"white\",\"linecolor\":\"white\",\"ticks\":\"\",\"title\":{\"standoff\":15},\"zerolinecolor\":\"white\",\"automargin\":true,\"zerolinewidth\":2},\"yaxis\":{\"gridcolor\":\"white\",\"linecolor\":\"white\",\"ticks\":\"\",\"title\":{\"standoff\":15},\"zerolinecolor\":\"white\",\"automargin\":true,\"zerolinewidth\":2},\"scene\":{\"xaxis\":{\"backgroundcolor\":\"#E5ECF6\",\"gridcolor\":\"white\",\"linecolor\":\"white\",\"showbackground\":true,\"ticks\":\"\",\"zerolinecolor\":\"white\",\"gridwidth\":2},\"yaxis\":{\"backgroundcolor\":\"#E5ECF6\",\"gridcolor\":\"white\",\"linecolor\":\"white\",\"showbackground\":true,\"ticks\":\"\",\"zerolinecolor\":\"white\",\"gridwidth\":2},\"zaxis\":{\"backgroundcolor\":\"#E5ECF6\",\"gridcolor\":\"white\",\"linecolor\":\"white\",\"showbackground\":true,\"ticks\":\"\",\"zerolinecolor\":\"white\",\"gridwidth\":2}},\"shapedefaults\":{\"line\":{\"color\":\"#2a3f5f\"}},\"annotationdefaults\":{\"arrowcolor\":\"#2a3f5f\",\"arrowhead\":0,\"arrowwidth\":1},\"geo\":{\"bgcolor\":\"white\",\"landcolor\":\"#E5ECF6\",\"subunitcolor\":\"white\",\"showland\":true,\"showlakes\":true,\"lakecolor\":\"white\"},\"title\":{\"x\":0.05},\"mapbox\":{\"style\":\"light\"}}}},                        {\"responsive\": true}                    )                };                            </script>        </div>"
      ],
      "text/plain": [
       "Figure({\n",
       "    'data': [{'cliponaxis': False,\n",
       "              'hovertemplate': [combinations_ctr (CategoricalDistribution):\n",
       "                                0.003271696619148365<extra></extra>, od_wait\n",
       "                                (IntDistribution):\n",
       "                                0.004440799968081603<extra></extra>,\n",
       "                                bagging_temperature (FloatDistribution):\n",
       "                                0.004878026057178792<extra></extra>,\n",
       "                                min_data_in_leaf (IntDistribution):\n",
       "                                0.01848430627699678<extra></extra>, depth\n",
       "                                (IntDistribution):\n",
       "                                0.0241353051620846<extra></extra>, simple_ctr\n",
       "                                (CategoricalDistribution):\n",
       "                                0.024264439950968157<extra></extra>, iterations\n",
       "                                (IntDistribution):\n",
       "                                0.036231346987425105<extra></extra>, learning_rate\n",
       "                                (FloatDistribution):\n",
       "                                0.21681863345994146<extra></extra>, bootstrap_type\n",
       "                                (CategoricalDistribution):\n",
       "                                0.6674754455181752<extra></extra>],\n",
       "              'name': 'Objective Value',\n",
       "              'orientation': 'h',\n",
       "              'text': [<0.01, <0.01, <0.01, 0.02, 0.02, 0.02, 0.04, 0.22, 0.67],\n",
       "              'textposition': 'outside',\n",
       "              'type': 'bar',\n",
       "              'x': [0.003271696619148365, 0.004440799968081603,\n",
       "                    0.004878026057178792, 0.01848430627699678, 0.0241353051620846,\n",
       "                    0.024264439950968157, 0.036231346987425105,\n",
       "                    0.21681863345994146, 0.6674754455181752],\n",
       "              'y': [combinations_ctr, od_wait, bagging_temperature,\n",
       "                    min_data_in_leaf, depth, simple_ctr, iterations, learning_rate,\n",
       "                    bootstrap_type]}],\n",
       "    'layout': {'template': '...',\n",
       "               'title': {'text': 'Hyperparameter Importances'},\n",
       "               'xaxis': {'title': {'text': 'Hyperparameter Importance'}},\n",
       "               'yaxis': {'title': {'text': 'Hyperparameter'}}}\n",
       "})"
      ]
     },
     "execution_count": 150,
     "metadata": {},
     "output_type": "execute_result"
    }
   ],
   "source": [
    "# 하이퍼파라미터별 중요도를 확인할 수 있는 그래프\n",
    "optuna.visualization.plot_param_importances(study_cat_no_enc)"
   ]
  },
  {
   "cell_type": "code",
   "execution_count": 148,
   "metadata": {},
   "outputs": [
    {
     "ename": "ValueError",
     "evalue": "Mime type rendering requires nbformat>=4.2.0 but it is not installed",
     "output_type": "error",
     "traceback": [
      "\u001b[1;31m---------------------------------------------------------------------------\u001b[0m",
      "\u001b[1;31mValueError\u001b[0m                                Traceback (most recent call last)",
      "File \u001b[1;32mc:\\Users\\aryij\\anaconda3\\envs\\weather2\\Lib\\site-packages\\IPython\\core\\formatters.py:925\u001b[0m, in \u001b[0;36mIPythonDisplayFormatter.__call__\u001b[1;34m(self, obj)\u001b[0m\n\u001b[0;32m    923\u001b[0m method \u001b[38;5;241m=\u001b[39m get_real_method(obj, \u001b[38;5;28mself\u001b[39m\u001b[38;5;241m.\u001b[39mprint_method)\n\u001b[0;32m    924\u001b[0m \u001b[38;5;28;01mif\u001b[39;00m method \u001b[38;5;129;01mis\u001b[39;00m \u001b[38;5;129;01mnot\u001b[39;00m \u001b[38;5;28;01mNone\u001b[39;00m:\n\u001b[1;32m--> 925\u001b[0m     method()\n\u001b[0;32m    926\u001b[0m     \u001b[38;5;28;01mreturn\u001b[39;00m \u001b[38;5;28;01mTrue\u001b[39;00m\n",
      "File \u001b[1;32mc:\\Users\\aryij\\anaconda3\\envs\\weather2\\Lib\\site-packages\\plotly\\basedatatypes.py:832\u001b[0m, in \u001b[0;36mBaseFigure._ipython_display_\u001b[1;34m(self)\u001b[0m\n\u001b[0;32m    829\u001b[0m \u001b[38;5;28;01mimport\u001b[39;00m \u001b[38;5;21;01mplotly\u001b[39;00m\u001b[38;5;21;01m.\u001b[39;00m\u001b[38;5;21;01mio\u001b[39;00m \u001b[38;5;28;01mas\u001b[39;00m \u001b[38;5;21;01mpio\u001b[39;00m\n\u001b[0;32m    831\u001b[0m \u001b[38;5;28;01mif\u001b[39;00m pio\u001b[38;5;241m.\u001b[39mrenderers\u001b[38;5;241m.\u001b[39mrender_on_display \u001b[38;5;129;01mand\u001b[39;00m pio\u001b[38;5;241m.\u001b[39mrenderers\u001b[38;5;241m.\u001b[39mdefault:\n\u001b[1;32m--> 832\u001b[0m     pio\u001b[38;5;241m.\u001b[39mshow(\u001b[38;5;28mself\u001b[39m)\n\u001b[0;32m    833\u001b[0m \u001b[38;5;28;01melse\u001b[39;00m:\n\u001b[0;32m    834\u001b[0m     \u001b[38;5;28mprint\u001b[39m(\u001b[38;5;28mrepr\u001b[39m(\u001b[38;5;28mself\u001b[39m))\n",
      "File \u001b[1;32mc:\\Users\\aryij\\anaconda3\\envs\\weather2\\Lib\\site-packages\\plotly\\io\\_renderers.py:394\u001b[0m, in \u001b[0;36mshow\u001b[1;34m(fig, renderer, validate, **kwargs)\u001b[0m\n\u001b[0;32m    389\u001b[0m         \u001b[38;5;28;01mraise\u001b[39;00m \u001b[38;5;167;01mValueError\u001b[39;00m(\n\u001b[0;32m    390\u001b[0m             \u001b[38;5;124m\"\u001b[39m\u001b[38;5;124mMime type rendering requires ipython but it is not installed\u001b[39m\u001b[38;5;124m\"\u001b[39m\n\u001b[0;32m    391\u001b[0m         )\n\u001b[0;32m    393\u001b[0m     \u001b[38;5;28;01mif\u001b[39;00m \u001b[38;5;129;01mnot\u001b[39;00m nbformat \u001b[38;5;129;01mor\u001b[39;00m Version(nbformat\u001b[38;5;241m.\u001b[39m__version__) \u001b[38;5;241m<\u001b[39m Version(\u001b[38;5;124m\"\u001b[39m\u001b[38;5;124m4.2.0\u001b[39m\u001b[38;5;124m\"\u001b[39m):\n\u001b[1;32m--> 394\u001b[0m         \u001b[38;5;28;01mraise\u001b[39;00m \u001b[38;5;167;01mValueError\u001b[39;00m(\n\u001b[0;32m    395\u001b[0m             \u001b[38;5;124m\"\u001b[39m\u001b[38;5;124mMime type rendering requires nbformat>=4.2.0 but it is not installed\u001b[39m\u001b[38;5;124m\"\u001b[39m\n\u001b[0;32m    396\u001b[0m         )\n\u001b[0;32m    398\u001b[0m     ipython_display\u001b[38;5;241m.\u001b[39mdisplay(bundle, raw\u001b[38;5;241m=\u001b[39m\u001b[38;5;28;01mTrue\u001b[39;00m)\n\u001b[0;32m    400\u001b[0m \u001b[38;5;66;03m# external renderers\u001b[39;00m\n",
      "\u001b[1;31mValueError\u001b[0m: Mime type rendering requires nbformat>=4.2.0 but it is not installed"
     ]
    },
    {
     "data": {
      "application/vnd.plotly.v1+json": {
       "config": {
        "plotlyServerURL": "https://plot.ly"
       },
       "data": [
        {
         "mode": "markers",
         "name": "Objective Value",
         "type": "scatter",
         "x": [
          0,
          1,
          2,
          3,
          4,
          5,
          6,
          7,
          8,
          9,
          10,
          11,
          12,
          13,
          14,
          15,
          16,
          17,
          18,
          19,
          20,
          21,
          22,
          23,
          24,
          25,
          26,
          27,
          28,
          29,
          30,
          31,
          32,
          33,
          34,
          35,
          36,
          37,
          38,
          39,
          40,
          41,
          42,
          43,
          44,
          45,
          46,
          47,
          48,
          49,
          50,
          51,
          52,
          53,
          54,
          55,
          56,
          57,
          58,
          59,
          60,
          61,
          62,
          63,
          64,
          65,
          66,
          67,
          68,
          69,
          70,
          71,
          72,
          73,
          74,
          75,
          76,
          77,
          78,
          79,
          80,
          81,
          82,
          83,
          84,
          85,
          86,
          87,
          88,
          89,
          90,
          91,
          92,
          93,
          94,
          95,
          96,
          97,
          98,
          99
         ],
         "y": [
          0.00422360248447205,
          0,
          0,
          0.007199602780536246,
          0,
          0,
          0,
          0,
          0.017559045381476443,
          0,
          0.09782608695652174,
          0.1316461856673561,
          0.13215109923478682,
          0.164166465037503,
          0.1483050847457627,
          0.17001452081316554,
          0.05815950920245399,
          0.1532864419112297,
          0.08024464831804282,
          0.04022072348252606,
          0.028683500858053445,
          0.15183881539021726,
          0.14112365004247057,
          0.09341799975576993,
          0.16990701606086223,
          0.10298598415600244,
          0,
          0.0780523611450942,
          0.030797546012269937,
          0.1276621638067421,
          0.0329036218538981,
          0.14731980065637534,
          0.1205742791093807,
          0.17679024272430865,
          0,
          0.16942998910807214,
          0,
          0.12143379663496708,
          0,
          0.04003930238270695,
          0.04458364038319823,
          0.17528631705846895,
          0.14786936991623165,
          0.15722431153706176,
          0.14915048543689322,
          0.12262542620555285,
          0,
          0.1161714564052606,
          0.16880290205562273,
          0.029757531227038943,
          0.009297136481963555,
          0.16741260433047053,
          0.1733558994197292,
          0.16803675048355898,
          0.15272550685929343,
          0.06582957454589784,
          0.06097710297538876,
          0.009429280397022333,
          0.0902641878669276,
          0,
          0.08861222995239838,
          0.1619590253364044,
          0.1553727008712488,
          0.16310938636914868,
          0.18853150222864715,
          0.17038023734560426,
          0.1109082055028001,
          0.09165758566412399,
          0.020221948212083847,
          0.1744017403915881,
          0.1402187120291616,
          0.1787991818072434,
          0.17684693384838243,
          0.1748792270531401,
          0.13464576497751854,
          0.17164269309802974,
          0.14817509397356615,
          0,
          0.10045160502868303,
          0.1558944565480513,
          0.11895185862279098,
          0.17347185310461463,
          0.16569767441860464,
          0.1540140674266311,
          0.008677327383165985,
          0.13720732742933398,
          0.07210834553440702,
          0.10754257907542579,
          0.19711365003006615,
          0,
          0.15241906147690068,
          0.1832005792903693,
          0.14141904184354154,
          0.18002421307506053,
          0.16420261754726126,
          0.1726844583987441,
          0.16291727140783743,
          0.18263075250634134,
          0.19048192771084338,
          0.17869665094909926
         ]
        },
        {
         "mode": "lines",
         "name": "Best Value",
         "type": "scatter",
         "x": [
          0,
          1,
          2,
          3,
          4,
          5,
          6,
          7,
          8,
          9,
          10,
          11,
          12,
          13,
          14,
          15,
          16,
          17,
          18,
          19,
          20,
          21,
          22,
          23,
          24,
          25,
          26,
          27,
          28,
          29,
          30,
          31,
          32,
          33,
          34,
          35,
          36,
          37,
          38,
          39,
          40,
          41,
          42,
          43,
          44,
          45,
          46,
          47,
          48,
          49,
          50,
          51,
          52,
          53,
          54,
          55,
          56,
          57,
          58,
          59,
          60,
          61,
          62,
          63,
          64,
          65,
          66,
          67,
          68,
          69,
          70,
          71,
          72,
          73,
          74,
          75,
          76,
          77,
          78,
          79,
          80,
          81,
          82,
          83,
          84,
          85,
          86,
          87,
          88,
          89,
          90,
          91,
          92,
          93,
          94,
          95,
          96,
          97,
          98,
          99
         ],
         "y": [
          0.00422360248447205,
          0.00422360248447205,
          0.00422360248447205,
          0.007199602780536246,
          0.007199602780536246,
          0.007199602780536246,
          0.007199602780536246,
          0.007199602780536246,
          0.017559045381476443,
          0.017559045381476443,
          0.09782608695652174,
          0.1316461856673561,
          0.13215109923478682,
          0.164166465037503,
          0.164166465037503,
          0.17001452081316554,
          0.17001452081316554,
          0.17001452081316554,
          0.17001452081316554,
          0.17001452081316554,
          0.17001452081316554,
          0.17001452081316554,
          0.17001452081316554,
          0.17001452081316554,
          0.17001452081316554,
          0.17001452081316554,
          0.17001452081316554,
          0.17001452081316554,
          0.17001452081316554,
          0.17001452081316554,
          0.17001452081316554,
          0.17001452081316554,
          0.17001452081316554,
          0.17679024272430865,
          0.17679024272430865,
          0.17679024272430865,
          0.17679024272430865,
          0.17679024272430865,
          0.17679024272430865,
          0.17679024272430865,
          0.17679024272430865,
          0.17679024272430865,
          0.17679024272430865,
          0.17679024272430865,
          0.17679024272430865,
          0.17679024272430865,
          0.17679024272430865,
          0.17679024272430865,
          0.17679024272430865,
          0.17679024272430865,
          0.17679024272430865,
          0.17679024272430865,
          0.17679024272430865,
          0.17679024272430865,
          0.17679024272430865,
          0.17679024272430865,
          0.17679024272430865,
          0.17679024272430865,
          0.17679024272430865,
          0.17679024272430865,
          0.17679024272430865,
          0.17679024272430865,
          0.17679024272430865,
          0.17679024272430865,
          0.18853150222864715,
          0.18853150222864715,
          0.18853150222864715,
          0.18853150222864715,
          0.18853150222864715,
          0.18853150222864715,
          0.18853150222864715,
          0.18853150222864715,
          0.18853150222864715,
          0.18853150222864715,
          0.18853150222864715,
          0.18853150222864715,
          0.18853150222864715,
          0.18853150222864715,
          0.18853150222864715,
          0.18853150222864715,
          0.18853150222864715,
          0.18853150222864715,
          0.18853150222864715,
          0.18853150222864715,
          0.18853150222864715,
          0.18853150222864715,
          0.18853150222864715,
          0.18853150222864715,
          0.19711365003006615,
          0.19711365003006615,
          0.19711365003006615,
          0.19711365003006615,
          0.19711365003006615,
          0.19711365003006615,
          0.19711365003006615,
          0.19711365003006615,
          0.19711365003006615,
          0.19711365003006615,
          0.19711365003006615,
          0.19711365003006615
         ]
        },
        {
         "marker": {
          "color": "#cccccc"
         },
         "mode": "markers",
         "name": "Infeasible Trial",
         "showlegend": false,
         "type": "scatter",
         "x": [],
         "y": []
        }
       ],
       "layout": {
        "template": {
         "data": {
          "bar": [
           {
            "error_x": {
             "color": "#2a3f5f"
            },
            "error_y": {
             "color": "#2a3f5f"
            },
            "marker": {
             "line": {
              "color": "#E5ECF6",
              "width": 0.5
             },
             "pattern": {
              "fillmode": "overlay",
              "size": 10,
              "solidity": 0.2
             }
            },
            "type": "bar"
           }
          ],
          "barpolar": [
           {
            "marker": {
             "line": {
              "color": "#E5ECF6",
              "width": 0.5
             },
             "pattern": {
              "fillmode": "overlay",
              "size": 10,
              "solidity": 0.2
             }
            },
            "type": "barpolar"
           }
          ],
          "carpet": [
           {
            "aaxis": {
             "endlinecolor": "#2a3f5f",
             "gridcolor": "white",
             "linecolor": "white",
             "minorgridcolor": "white",
             "startlinecolor": "#2a3f5f"
            },
            "baxis": {
             "endlinecolor": "#2a3f5f",
             "gridcolor": "white",
             "linecolor": "white",
             "minorgridcolor": "white",
             "startlinecolor": "#2a3f5f"
            },
            "type": "carpet"
           }
          ],
          "choropleth": [
           {
            "colorbar": {
             "outlinewidth": 0,
             "ticks": ""
            },
            "type": "choropleth"
           }
          ],
          "contour": [
           {
            "colorbar": {
             "outlinewidth": 0,
             "ticks": ""
            },
            "colorscale": [
             [
              0,
              "#0d0887"
             ],
             [
              0.1111111111111111,
              "#46039f"
             ],
             [
              0.2222222222222222,
              "#7201a8"
             ],
             [
              0.3333333333333333,
              "#9c179e"
             ],
             [
              0.4444444444444444,
              "#bd3786"
             ],
             [
              0.5555555555555556,
              "#d8576b"
             ],
             [
              0.6666666666666666,
              "#ed7953"
             ],
             [
              0.7777777777777778,
              "#fb9f3a"
             ],
             [
              0.8888888888888888,
              "#fdca26"
             ],
             [
              1,
              "#f0f921"
             ]
            ],
            "type": "contour"
           }
          ],
          "contourcarpet": [
           {
            "colorbar": {
             "outlinewidth": 0,
             "ticks": ""
            },
            "type": "contourcarpet"
           }
          ],
          "heatmap": [
           {
            "colorbar": {
             "outlinewidth": 0,
             "ticks": ""
            },
            "colorscale": [
             [
              0,
              "#0d0887"
             ],
             [
              0.1111111111111111,
              "#46039f"
             ],
             [
              0.2222222222222222,
              "#7201a8"
             ],
             [
              0.3333333333333333,
              "#9c179e"
             ],
             [
              0.4444444444444444,
              "#bd3786"
             ],
             [
              0.5555555555555556,
              "#d8576b"
             ],
             [
              0.6666666666666666,
              "#ed7953"
             ],
             [
              0.7777777777777778,
              "#fb9f3a"
             ],
             [
              0.8888888888888888,
              "#fdca26"
             ],
             [
              1,
              "#f0f921"
             ]
            ],
            "type": "heatmap"
           }
          ],
          "heatmapgl": [
           {
            "colorbar": {
             "outlinewidth": 0,
             "ticks": ""
            },
            "colorscale": [
             [
              0,
              "#0d0887"
             ],
             [
              0.1111111111111111,
              "#46039f"
             ],
             [
              0.2222222222222222,
              "#7201a8"
             ],
             [
              0.3333333333333333,
              "#9c179e"
             ],
             [
              0.4444444444444444,
              "#bd3786"
             ],
             [
              0.5555555555555556,
              "#d8576b"
             ],
             [
              0.6666666666666666,
              "#ed7953"
             ],
             [
              0.7777777777777778,
              "#fb9f3a"
             ],
             [
              0.8888888888888888,
              "#fdca26"
             ],
             [
              1,
              "#f0f921"
             ]
            ],
            "type": "heatmapgl"
           }
          ],
          "histogram": [
           {
            "marker": {
             "pattern": {
              "fillmode": "overlay",
              "size": 10,
              "solidity": 0.2
             }
            },
            "type": "histogram"
           }
          ],
          "histogram2d": [
           {
            "colorbar": {
             "outlinewidth": 0,
             "ticks": ""
            },
            "colorscale": [
             [
              0,
              "#0d0887"
             ],
             [
              0.1111111111111111,
              "#46039f"
             ],
             [
              0.2222222222222222,
              "#7201a8"
             ],
             [
              0.3333333333333333,
              "#9c179e"
             ],
             [
              0.4444444444444444,
              "#bd3786"
             ],
             [
              0.5555555555555556,
              "#d8576b"
             ],
             [
              0.6666666666666666,
              "#ed7953"
             ],
             [
              0.7777777777777778,
              "#fb9f3a"
             ],
             [
              0.8888888888888888,
              "#fdca26"
             ],
             [
              1,
              "#f0f921"
             ]
            ],
            "type": "histogram2d"
           }
          ],
          "histogram2dcontour": [
           {
            "colorbar": {
             "outlinewidth": 0,
             "ticks": ""
            },
            "colorscale": [
             [
              0,
              "#0d0887"
             ],
             [
              0.1111111111111111,
              "#46039f"
             ],
             [
              0.2222222222222222,
              "#7201a8"
             ],
             [
              0.3333333333333333,
              "#9c179e"
             ],
             [
              0.4444444444444444,
              "#bd3786"
             ],
             [
              0.5555555555555556,
              "#d8576b"
             ],
             [
              0.6666666666666666,
              "#ed7953"
             ],
             [
              0.7777777777777778,
              "#fb9f3a"
             ],
             [
              0.8888888888888888,
              "#fdca26"
             ],
             [
              1,
              "#f0f921"
             ]
            ],
            "type": "histogram2dcontour"
           }
          ],
          "mesh3d": [
           {
            "colorbar": {
             "outlinewidth": 0,
             "ticks": ""
            },
            "type": "mesh3d"
           }
          ],
          "parcoords": [
           {
            "line": {
             "colorbar": {
              "outlinewidth": 0,
              "ticks": ""
             }
            },
            "type": "parcoords"
           }
          ],
          "pie": [
           {
            "automargin": true,
            "type": "pie"
           }
          ],
          "scatter": [
           {
            "fillpattern": {
             "fillmode": "overlay",
             "size": 10,
             "solidity": 0.2
            },
            "type": "scatter"
           }
          ],
          "scatter3d": [
           {
            "line": {
             "colorbar": {
              "outlinewidth": 0,
              "ticks": ""
             }
            },
            "marker": {
             "colorbar": {
              "outlinewidth": 0,
              "ticks": ""
             }
            },
            "type": "scatter3d"
           }
          ],
          "scattercarpet": [
           {
            "marker": {
             "colorbar": {
              "outlinewidth": 0,
              "ticks": ""
             }
            },
            "type": "scattercarpet"
           }
          ],
          "scattergeo": [
           {
            "marker": {
             "colorbar": {
              "outlinewidth": 0,
              "ticks": ""
             }
            },
            "type": "scattergeo"
           }
          ],
          "scattergl": [
           {
            "marker": {
             "colorbar": {
              "outlinewidth": 0,
              "ticks": ""
             }
            },
            "type": "scattergl"
           }
          ],
          "scattermapbox": [
           {
            "marker": {
             "colorbar": {
              "outlinewidth": 0,
              "ticks": ""
             }
            },
            "type": "scattermapbox"
           }
          ],
          "scatterpolar": [
           {
            "marker": {
             "colorbar": {
              "outlinewidth": 0,
              "ticks": ""
             }
            },
            "type": "scatterpolar"
           }
          ],
          "scatterpolargl": [
           {
            "marker": {
             "colorbar": {
              "outlinewidth": 0,
              "ticks": ""
             }
            },
            "type": "scatterpolargl"
           }
          ],
          "scatterternary": [
           {
            "marker": {
             "colorbar": {
              "outlinewidth": 0,
              "ticks": ""
             }
            },
            "type": "scatterternary"
           }
          ],
          "surface": [
           {
            "colorbar": {
             "outlinewidth": 0,
             "ticks": ""
            },
            "colorscale": [
             [
              0,
              "#0d0887"
             ],
             [
              0.1111111111111111,
              "#46039f"
             ],
             [
              0.2222222222222222,
              "#7201a8"
             ],
             [
              0.3333333333333333,
              "#9c179e"
             ],
             [
              0.4444444444444444,
              "#bd3786"
             ],
             [
              0.5555555555555556,
              "#d8576b"
             ],
             [
              0.6666666666666666,
              "#ed7953"
             ],
             [
              0.7777777777777778,
              "#fb9f3a"
             ],
             [
              0.8888888888888888,
              "#fdca26"
             ],
             [
              1,
              "#f0f921"
             ]
            ],
            "type": "surface"
           }
          ],
          "table": [
           {
            "cells": {
             "fill": {
              "color": "#EBF0F8"
             },
             "line": {
              "color": "white"
             }
            },
            "header": {
             "fill": {
              "color": "#C8D4E3"
             },
             "line": {
              "color": "white"
             }
            },
            "type": "table"
           }
          ]
         },
         "layout": {
          "annotationdefaults": {
           "arrowcolor": "#2a3f5f",
           "arrowhead": 0,
           "arrowwidth": 1
          },
          "autotypenumbers": "strict",
          "coloraxis": {
           "colorbar": {
            "outlinewidth": 0,
            "ticks": ""
           }
          },
          "colorscale": {
           "diverging": [
            [
             0,
             "#8e0152"
            ],
            [
             0.1,
             "#c51b7d"
            ],
            [
             0.2,
             "#de77ae"
            ],
            [
             0.3,
             "#f1b6da"
            ],
            [
             0.4,
             "#fde0ef"
            ],
            [
             0.5,
             "#f7f7f7"
            ],
            [
             0.6,
             "#e6f5d0"
            ],
            [
             0.7,
             "#b8e186"
            ],
            [
             0.8,
             "#7fbc41"
            ],
            [
             0.9,
             "#4d9221"
            ],
            [
             1,
             "#276419"
            ]
           ],
           "sequential": [
            [
             0,
             "#0d0887"
            ],
            [
             0.1111111111111111,
             "#46039f"
            ],
            [
             0.2222222222222222,
             "#7201a8"
            ],
            [
             0.3333333333333333,
             "#9c179e"
            ],
            [
             0.4444444444444444,
             "#bd3786"
            ],
            [
             0.5555555555555556,
             "#d8576b"
            ],
            [
             0.6666666666666666,
             "#ed7953"
            ],
            [
             0.7777777777777778,
             "#fb9f3a"
            ],
            [
             0.8888888888888888,
             "#fdca26"
            ],
            [
             1,
             "#f0f921"
            ]
           ],
           "sequentialminus": [
            [
             0,
             "#0d0887"
            ],
            [
             0.1111111111111111,
             "#46039f"
            ],
            [
             0.2222222222222222,
             "#7201a8"
            ],
            [
             0.3333333333333333,
             "#9c179e"
            ],
            [
             0.4444444444444444,
             "#bd3786"
            ],
            [
             0.5555555555555556,
             "#d8576b"
            ],
            [
             0.6666666666666666,
             "#ed7953"
            ],
            [
             0.7777777777777778,
             "#fb9f3a"
            ],
            [
             0.8888888888888888,
             "#fdca26"
            ],
            [
             1,
             "#f0f921"
            ]
           ]
          },
          "colorway": [
           "#636efa",
           "#EF553B",
           "#00cc96",
           "#ab63fa",
           "#FFA15A",
           "#19d3f3",
           "#FF6692",
           "#B6E880",
           "#FF97FF",
           "#FECB52"
          ],
          "font": {
           "color": "#2a3f5f"
          },
          "geo": {
           "bgcolor": "white",
           "lakecolor": "white",
           "landcolor": "#E5ECF6",
           "showlakes": true,
           "showland": true,
           "subunitcolor": "white"
          },
          "hoverlabel": {
           "align": "left"
          },
          "hovermode": "closest",
          "mapbox": {
           "style": "light"
          },
          "paper_bgcolor": "white",
          "plot_bgcolor": "#E5ECF6",
          "polar": {
           "angularaxis": {
            "gridcolor": "white",
            "linecolor": "white",
            "ticks": ""
           },
           "bgcolor": "#E5ECF6",
           "radialaxis": {
            "gridcolor": "white",
            "linecolor": "white",
            "ticks": ""
           }
          },
          "scene": {
           "xaxis": {
            "backgroundcolor": "#E5ECF6",
            "gridcolor": "white",
            "gridwidth": 2,
            "linecolor": "white",
            "showbackground": true,
            "ticks": "",
            "zerolinecolor": "white"
           },
           "yaxis": {
            "backgroundcolor": "#E5ECF6",
            "gridcolor": "white",
            "gridwidth": 2,
            "linecolor": "white",
            "showbackground": true,
            "ticks": "",
            "zerolinecolor": "white"
           },
           "zaxis": {
            "backgroundcolor": "#E5ECF6",
            "gridcolor": "white",
            "gridwidth": 2,
            "linecolor": "white",
            "showbackground": true,
            "ticks": "",
            "zerolinecolor": "white"
           }
          },
          "shapedefaults": {
           "line": {
            "color": "#2a3f5f"
           }
          },
          "ternary": {
           "aaxis": {
            "gridcolor": "white",
            "linecolor": "white",
            "ticks": ""
           },
           "baxis": {
            "gridcolor": "white",
            "linecolor": "white",
            "ticks": ""
           },
           "bgcolor": "#E5ECF6",
           "caxis": {
            "gridcolor": "white",
            "linecolor": "white",
            "ticks": ""
           }
          },
          "title": {
           "x": 0.05
          },
          "xaxis": {
           "automargin": true,
           "gridcolor": "white",
           "linecolor": "white",
           "ticks": "",
           "title": {
            "standoff": 15
           },
           "zerolinecolor": "white",
           "zerolinewidth": 2
          },
          "yaxis": {
           "automargin": true,
           "gridcolor": "white",
           "linecolor": "white",
           "ticks": "",
           "title": {
            "standoff": 15
           },
           "zerolinecolor": "white",
           "zerolinewidth": 2
          }
         }
        },
        "title": {
         "text": "Optimization History Plot"
        },
        "xaxis": {
         "title": {
          "text": "Trial"
         }
        },
        "yaxis": {
         "title": {
          "text": "Objective Value"
         }
        }
       }
      },
      "text/html": [
       "<div>                        <script type=\"text/javascript\">window.PlotlyConfig = {MathJaxConfig: 'local'};</script>\n",
       "        <script charset=\"utf-8\" src=\"https://cdn.plot.ly/plotly-2.32.0.min.js\"></script>                <div id=\"c746a406-2af0-4f8e-8885-a1c8d0c02709\" class=\"plotly-graph-div\" style=\"height:100%; width:100%;\"></div>            <script type=\"text/javascript\">                                    window.PLOTLYENV=window.PLOTLYENV || {};                                    if (document.getElementById(\"c746a406-2af0-4f8e-8885-a1c8d0c02709\")) {                    Plotly.newPlot(                        \"c746a406-2af0-4f8e-8885-a1c8d0c02709\",                        [{\"mode\":\"markers\",\"name\":\"Objective Value\",\"x\":[0,1,2,3,4,5,6,7,8,9,10,11,12,13,14,15,16,17,18,19,20,21,22,23,24,25,26,27,28,29,30,31,32,33,34,35,36,37,38,39,40,41,42,43,44,45,46,47,48,49,50,51,52,53,54,55,56,57,58,59,60,61,62,63,64,65,66,67,68,69,70,71,72,73,74,75,76,77,78,79,80,81,82,83,84,85,86,87,88,89,90,91,92,93,94,95,96,97,98,99],\"y\":[0.00422360248447205,0.0,0.0,0.007199602780536246,0.0,0.0,0.0,0.0,0.017559045381476443,0.0,0.09782608695652174,0.1316461856673561,0.13215109923478682,0.164166465037503,0.1483050847457627,0.17001452081316554,0.05815950920245399,0.1532864419112297,0.08024464831804282,0.04022072348252606,0.028683500858053445,0.15183881539021726,0.14112365004247057,0.09341799975576993,0.16990701606086223,0.10298598415600244,0.0,0.0780523611450942,0.030797546012269937,0.1276621638067421,0.0329036218538981,0.14731980065637534,0.1205742791093807,0.17679024272430865,0.0,0.16942998910807214,0.0,0.12143379663496708,0.0,0.04003930238270695,0.04458364038319823,0.17528631705846895,0.14786936991623165,0.15722431153706176,0.14915048543689322,0.12262542620555285,0.0,0.1161714564052606,0.16880290205562273,0.029757531227038943,0.009297136481963555,0.16741260433047053,0.1733558994197292,0.16803675048355898,0.15272550685929343,0.06582957454589784,0.06097710297538876,0.009429280397022333,0.0902641878669276,0.0,0.08861222995239838,0.1619590253364044,0.1553727008712488,0.16310938636914868,0.18853150222864715,0.17038023734560426,0.1109082055028001,0.09165758566412399,0.020221948212083847,0.1744017403915881,0.1402187120291616,0.1787991818072434,0.17684693384838243,0.1748792270531401,0.13464576497751854,0.17164269309802974,0.14817509397356615,0.0,0.10045160502868303,0.1558944565480513,0.11895185862279098,0.17347185310461463,0.16569767441860464,0.1540140674266311,0.008677327383165985,0.13720732742933398,0.07210834553440702,0.10754257907542579,0.19711365003006615,0.0,0.15241906147690068,0.1832005792903693,0.14141904184354154,0.18002421307506053,0.16420261754726126,0.1726844583987441,0.16291727140783743,0.18263075250634134,0.19048192771084338,0.17869665094909926],\"type\":\"scatter\"},{\"mode\":\"lines\",\"name\":\"Best Value\",\"x\":[0,1,2,3,4,5,6,7,8,9,10,11,12,13,14,15,16,17,18,19,20,21,22,23,24,25,26,27,28,29,30,31,32,33,34,35,36,37,38,39,40,41,42,43,44,45,46,47,48,49,50,51,52,53,54,55,56,57,58,59,60,61,62,63,64,65,66,67,68,69,70,71,72,73,74,75,76,77,78,79,80,81,82,83,84,85,86,87,88,89,90,91,92,93,94,95,96,97,98,99],\"y\":[0.00422360248447205,0.00422360248447205,0.00422360248447205,0.007199602780536246,0.007199602780536246,0.007199602780536246,0.007199602780536246,0.007199602780536246,0.017559045381476443,0.017559045381476443,0.09782608695652174,0.1316461856673561,0.13215109923478682,0.164166465037503,0.164166465037503,0.17001452081316554,0.17001452081316554,0.17001452081316554,0.17001452081316554,0.17001452081316554,0.17001452081316554,0.17001452081316554,0.17001452081316554,0.17001452081316554,0.17001452081316554,0.17001452081316554,0.17001452081316554,0.17001452081316554,0.17001452081316554,0.17001452081316554,0.17001452081316554,0.17001452081316554,0.17001452081316554,0.17679024272430865,0.17679024272430865,0.17679024272430865,0.17679024272430865,0.17679024272430865,0.17679024272430865,0.17679024272430865,0.17679024272430865,0.17679024272430865,0.17679024272430865,0.17679024272430865,0.17679024272430865,0.17679024272430865,0.17679024272430865,0.17679024272430865,0.17679024272430865,0.17679024272430865,0.17679024272430865,0.17679024272430865,0.17679024272430865,0.17679024272430865,0.17679024272430865,0.17679024272430865,0.17679024272430865,0.17679024272430865,0.17679024272430865,0.17679024272430865,0.17679024272430865,0.17679024272430865,0.17679024272430865,0.17679024272430865,0.18853150222864715,0.18853150222864715,0.18853150222864715,0.18853150222864715,0.18853150222864715,0.18853150222864715,0.18853150222864715,0.18853150222864715,0.18853150222864715,0.18853150222864715,0.18853150222864715,0.18853150222864715,0.18853150222864715,0.18853150222864715,0.18853150222864715,0.18853150222864715,0.18853150222864715,0.18853150222864715,0.18853150222864715,0.18853150222864715,0.18853150222864715,0.18853150222864715,0.18853150222864715,0.18853150222864715,0.19711365003006615,0.19711365003006615,0.19711365003006615,0.19711365003006615,0.19711365003006615,0.19711365003006615,0.19711365003006615,0.19711365003006615,0.19711365003006615,0.19711365003006615,0.19711365003006615,0.19711365003006615],\"type\":\"scatter\"},{\"marker\":{\"color\":\"#cccccc\"},\"mode\":\"markers\",\"name\":\"Infeasible Trial\",\"showlegend\":false,\"x\":[],\"y\":[],\"type\":\"scatter\"}],                        {\"title\":{\"text\":\"Optimization History Plot\"},\"xaxis\":{\"title\":{\"text\":\"Trial\"}},\"yaxis\":{\"title\":{\"text\":\"Objective Value\"}},\"template\":{\"data\":{\"histogram2dcontour\":[{\"type\":\"histogram2dcontour\",\"colorbar\":{\"outlinewidth\":0,\"ticks\":\"\"},\"colorscale\":[[0.0,\"#0d0887\"],[0.1111111111111111,\"#46039f\"],[0.2222222222222222,\"#7201a8\"],[0.3333333333333333,\"#9c179e\"],[0.4444444444444444,\"#bd3786\"],[0.5555555555555556,\"#d8576b\"],[0.6666666666666666,\"#ed7953\"],[0.7777777777777778,\"#fb9f3a\"],[0.8888888888888888,\"#fdca26\"],[1.0,\"#f0f921\"]]}],\"choropleth\":[{\"type\":\"choropleth\",\"colorbar\":{\"outlinewidth\":0,\"ticks\":\"\"}}],\"histogram2d\":[{\"type\":\"histogram2d\",\"colorbar\":{\"outlinewidth\":0,\"ticks\":\"\"},\"colorscale\":[[0.0,\"#0d0887\"],[0.1111111111111111,\"#46039f\"],[0.2222222222222222,\"#7201a8\"],[0.3333333333333333,\"#9c179e\"],[0.4444444444444444,\"#bd3786\"],[0.5555555555555556,\"#d8576b\"],[0.6666666666666666,\"#ed7953\"],[0.7777777777777778,\"#fb9f3a\"],[0.8888888888888888,\"#fdca26\"],[1.0,\"#f0f921\"]]}],\"heatmap\":[{\"type\":\"heatmap\",\"colorbar\":{\"outlinewidth\":0,\"ticks\":\"\"},\"colorscale\":[[0.0,\"#0d0887\"],[0.1111111111111111,\"#46039f\"],[0.2222222222222222,\"#7201a8\"],[0.3333333333333333,\"#9c179e\"],[0.4444444444444444,\"#bd3786\"],[0.5555555555555556,\"#d8576b\"],[0.6666666666666666,\"#ed7953\"],[0.7777777777777778,\"#fb9f3a\"],[0.8888888888888888,\"#fdca26\"],[1.0,\"#f0f921\"]]}],\"heatmapgl\":[{\"type\":\"heatmapgl\",\"colorbar\":{\"outlinewidth\":0,\"ticks\":\"\"},\"colorscale\":[[0.0,\"#0d0887\"],[0.1111111111111111,\"#46039f\"],[0.2222222222222222,\"#7201a8\"],[0.3333333333333333,\"#9c179e\"],[0.4444444444444444,\"#bd3786\"],[0.5555555555555556,\"#d8576b\"],[0.6666666666666666,\"#ed7953\"],[0.7777777777777778,\"#fb9f3a\"],[0.8888888888888888,\"#fdca26\"],[1.0,\"#f0f921\"]]}],\"contourcarpet\":[{\"type\":\"contourcarpet\",\"colorbar\":{\"outlinewidth\":0,\"ticks\":\"\"}}],\"contour\":[{\"type\":\"contour\",\"colorbar\":{\"outlinewidth\":0,\"ticks\":\"\"},\"colorscale\":[[0.0,\"#0d0887\"],[0.1111111111111111,\"#46039f\"],[0.2222222222222222,\"#7201a8\"],[0.3333333333333333,\"#9c179e\"],[0.4444444444444444,\"#bd3786\"],[0.5555555555555556,\"#d8576b\"],[0.6666666666666666,\"#ed7953\"],[0.7777777777777778,\"#fb9f3a\"],[0.8888888888888888,\"#fdca26\"],[1.0,\"#f0f921\"]]}],\"surface\":[{\"type\":\"surface\",\"colorbar\":{\"outlinewidth\":0,\"ticks\":\"\"},\"colorscale\":[[0.0,\"#0d0887\"],[0.1111111111111111,\"#46039f\"],[0.2222222222222222,\"#7201a8\"],[0.3333333333333333,\"#9c179e\"],[0.4444444444444444,\"#bd3786\"],[0.5555555555555556,\"#d8576b\"],[0.6666666666666666,\"#ed7953\"],[0.7777777777777778,\"#fb9f3a\"],[0.8888888888888888,\"#fdca26\"],[1.0,\"#f0f921\"]]}],\"mesh3d\":[{\"type\":\"mesh3d\",\"colorbar\":{\"outlinewidth\":0,\"ticks\":\"\"}}],\"scatter\":[{\"fillpattern\":{\"fillmode\":\"overlay\",\"size\":10,\"solidity\":0.2},\"type\":\"scatter\"}],\"parcoords\":[{\"type\":\"parcoords\",\"line\":{\"colorbar\":{\"outlinewidth\":0,\"ticks\":\"\"}}}],\"scatterpolargl\":[{\"type\":\"scatterpolargl\",\"marker\":{\"colorbar\":{\"outlinewidth\":0,\"ticks\":\"\"}}}],\"bar\":[{\"error_x\":{\"color\":\"#2a3f5f\"},\"error_y\":{\"color\":\"#2a3f5f\"},\"marker\":{\"line\":{\"color\":\"#E5ECF6\",\"width\":0.5},\"pattern\":{\"fillmode\":\"overlay\",\"size\":10,\"solidity\":0.2}},\"type\":\"bar\"}],\"scattergeo\":[{\"type\":\"scattergeo\",\"marker\":{\"colorbar\":{\"outlinewidth\":0,\"ticks\":\"\"}}}],\"scatterpolar\":[{\"type\":\"scatterpolar\",\"marker\":{\"colorbar\":{\"outlinewidth\":0,\"ticks\":\"\"}}}],\"histogram\":[{\"marker\":{\"pattern\":{\"fillmode\":\"overlay\",\"size\":10,\"solidity\":0.2}},\"type\":\"histogram\"}],\"scattergl\":[{\"type\":\"scattergl\",\"marker\":{\"colorbar\":{\"outlinewidth\":0,\"ticks\":\"\"}}}],\"scatter3d\":[{\"type\":\"scatter3d\",\"line\":{\"colorbar\":{\"outlinewidth\":0,\"ticks\":\"\"}},\"marker\":{\"colorbar\":{\"outlinewidth\":0,\"ticks\":\"\"}}}],\"scattermapbox\":[{\"type\":\"scattermapbox\",\"marker\":{\"colorbar\":{\"outlinewidth\":0,\"ticks\":\"\"}}}],\"scatterternary\":[{\"type\":\"scatterternary\",\"marker\":{\"colorbar\":{\"outlinewidth\":0,\"ticks\":\"\"}}}],\"scattercarpet\":[{\"type\":\"scattercarpet\",\"marker\":{\"colorbar\":{\"outlinewidth\":0,\"ticks\":\"\"}}}],\"carpet\":[{\"aaxis\":{\"endlinecolor\":\"#2a3f5f\",\"gridcolor\":\"white\",\"linecolor\":\"white\",\"minorgridcolor\":\"white\",\"startlinecolor\":\"#2a3f5f\"},\"baxis\":{\"endlinecolor\":\"#2a3f5f\",\"gridcolor\":\"white\",\"linecolor\":\"white\",\"minorgridcolor\":\"white\",\"startlinecolor\":\"#2a3f5f\"},\"type\":\"carpet\"}],\"table\":[{\"cells\":{\"fill\":{\"color\":\"#EBF0F8\"},\"line\":{\"color\":\"white\"}},\"header\":{\"fill\":{\"color\":\"#C8D4E3\"},\"line\":{\"color\":\"white\"}},\"type\":\"table\"}],\"barpolar\":[{\"marker\":{\"line\":{\"color\":\"#E5ECF6\",\"width\":0.5},\"pattern\":{\"fillmode\":\"overlay\",\"size\":10,\"solidity\":0.2}},\"type\":\"barpolar\"}],\"pie\":[{\"automargin\":true,\"type\":\"pie\"}]},\"layout\":{\"autotypenumbers\":\"strict\",\"colorway\":[\"#636efa\",\"#EF553B\",\"#00cc96\",\"#ab63fa\",\"#FFA15A\",\"#19d3f3\",\"#FF6692\",\"#B6E880\",\"#FF97FF\",\"#FECB52\"],\"font\":{\"color\":\"#2a3f5f\"},\"hovermode\":\"closest\",\"hoverlabel\":{\"align\":\"left\"},\"paper_bgcolor\":\"white\",\"plot_bgcolor\":\"#E5ECF6\",\"polar\":{\"bgcolor\":\"#E5ECF6\",\"angularaxis\":{\"gridcolor\":\"white\",\"linecolor\":\"white\",\"ticks\":\"\"},\"radialaxis\":{\"gridcolor\":\"white\",\"linecolor\":\"white\",\"ticks\":\"\"}},\"ternary\":{\"bgcolor\":\"#E5ECF6\",\"aaxis\":{\"gridcolor\":\"white\",\"linecolor\":\"white\",\"ticks\":\"\"},\"baxis\":{\"gridcolor\":\"white\",\"linecolor\":\"white\",\"ticks\":\"\"},\"caxis\":{\"gridcolor\":\"white\",\"linecolor\":\"white\",\"ticks\":\"\"}},\"coloraxis\":{\"colorbar\":{\"outlinewidth\":0,\"ticks\":\"\"}},\"colorscale\":{\"sequential\":[[0.0,\"#0d0887\"],[0.1111111111111111,\"#46039f\"],[0.2222222222222222,\"#7201a8\"],[0.3333333333333333,\"#9c179e\"],[0.4444444444444444,\"#bd3786\"],[0.5555555555555556,\"#d8576b\"],[0.6666666666666666,\"#ed7953\"],[0.7777777777777778,\"#fb9f3a\"],[0.8888888888888888,\"#fdca26\"],[1.0,\"#f0f921\"]],\"sequentialminus\":[[0.0,\"#0d0887\"],[0.1111111111111111,\"#46039f\"],[0.2222222222222222,\"#7201a8\"],[0.3333333333333333,\"#9c179e\"],[0.4444444444444444,\"#bd3786\"],[0.5555555555555556,\"#d8576b\"],[0.6666666666666666,\"#ed7953\"],[0.7777777777777778,\"#fb9f3a\"],[0.8888888888888888,\"#fdca26\"],[1.0,\"#f0f921\"]],\"diverging\":[[0,\"#8e0152\"],[0.1,\"#c51b7d\"],[0.2,\"#de77ae\"],[0.3,\"#f1b6da\"],[0.4,\"#fde0ef\"],[0.5,\"#f7f7f7\"],[0.6,\"#e6f5d0\"],[0.7,\"#b8e186\"],[0.8,\"#7fbc41\"],[0.9,\"#4d9221\"],[1,\"#276419\"]]},\"xaxis\":{\"gridcolor\":\"white\",\"linecolor\":\"white\",\"ticks\":\"\",\"title\":{\"standoff\":15},\"zerolinecolor\":\"white\",\"automargin\":true,\"zerolinewidth\":2},\"yaxis\":{\"gridcolor\":\"white\",\"linecolor\":\"white\",\"ticks\":\"\",\"title\":{\"standoff\":15},\"zerolinecolor\":\"white\",\"automargin\":true,\"zerolinewidth\":2},\"scene\":{\"xaxis\":{\"backgroundcolor\":\"#E5ECF6\",\"gridcolor\":\"white\",\"linecolor\":\"white\",\"showbackground\":true,\"ticks\":\"\",\"zerolinecolor\":\"white\",\"gridwidth\":2},\"yaxis\":{\"backgroundcolor\":\"#E5ECF6\",\"gridcolor\":\"white\",\"linecolor\":\"white\",\"showbackground\":true,\"ticks\":\"\",\"zerolinecolor\":\"white\",\"gridwidth\":2},\"zaxis\":{\"backgroundcolor\":\"#E5ECF6\",\"gridcolor\":\"white\",\"linecolor\":\"white\",\"showbackground\":true,\"ticks\":\"\",\"zerolinecolor\":\"white\",\"gridwidth\":2}},\"shapedefaults\":{\"line\":{\"color\":\"#2a3f5f\"}},\"annotationdefaults\":{\"arrowcolor\":\"#2a3f5f\",\"arrowhead\":0,\"arrowwidth\":1},\"geo\":{\"bgcolor\":\"white\",\"landcolor\":\"#E5ECF6\",\"subunitcolor\":\"white\",\"showland\":true,\"showlakes\":true,\"lakecolor\":\"white\"},\"title\":{\"x\":0.05},\"mapbox\":{\"style\":\"light\"}}}},                        {\"responsive\": true}                    )                };                            </script>        </div>"
      ],
      "text/plain": [
       "Figure({\n",
       "    'data': [{'mode': 'markers',\n",
       "              'name': 'Objective Value',\n",
       "              'type': 'scatter',\n",
       "              'x': [0, 1, 2, 3, 4, 5, 6, 7, 8, 9, 10, 11, 12, 13, 14, 15, 16, 17,\n",
       "                    18, 19, 20, 21, 22, 23, 24, 25, 26, 27, 28, 29, 30, 31, 32, 33,\n",
       "                    34, 35, 36, 37, 38, 39, 40, 41, 42, 43, 44, 45, 46, 47, 48, 49,\n",
       "                    50, 51, 52, 53, 54, 55, 56, 57, 58, 59, 60, 61, 62, 63, 64, 65,\n",
       "                    66, 67, 68, 69, 70, 71, 72, 73, 74, 75, 76, 77, 78, 79, 80, 81,\n",
       "                    82, 83, 84, 85, 86, 87, 88, 89, 90, 91, 92, 93, 94, 95, 96, 97,\n",
       "                    98, 99],\n",
       "              'y': [0.00422360248447205, 0.0, 0.0, 0.007199602780536246, 0.0, 0.0,\n",
       "                    0.0, 0.0, 0.017559045381476443, 0.0, 0.09782608695652174,\n",
       "                    0.1316461856673561, 0.13215109923478682, 0.164166465037503,\n",
       "                    0.1483050847457627, 0.17001452081316554, 0.05815950920245399,\n",
       "                    0.1532864419112297, 0.08024464831804282, 0.04022072348252606,\n",
       "                    0.028683500858053445, 0.15183881539021726, 0.14112365004247057,\n",
       "                    0.09341799975576993, 0.16990701606086223, 0.10298598415600244,\n",
       "                    0.0, 0.0780523611450942, 0.030797546012269937,\n",
       "                    0.1276621638067421, 0.0329036218538981, 0.14731980065637534,\n",
       "                    0.1205742791093807, 0.17679024272430865, 0.0,\n",
       "                    0.16942998910807214, 0.0, 0.12143379663496708, 0.0,\n",
       "                    0.04003930238270695, 0.04458364038319823, 0.17528631705846895,\n",
       "                    0.14786936991623165, 0.15722431153706176, 0.14915048543689322,\n",
       "                    0.12262542620555285, 0.0, 0.1161714564052606,\n",
       "                    0.16880290205562273, 0.029757531227038943,\n",
       "                    0.009297136481963555, 0.16741260433047053, 0.1733558994197292,\n",
       "                    0.16803675048355898, 0.15272550685929343, 0.06582957454589784,\n",
       "                    0.06097710297538876, 0.009429280397022333, 0.0902641878669276,\n",
       "                    0.0, 0.08861222995239838, 0.1619590253364044,\n",
       "                    0.1553727008712488, 0.16310938636914868, 0.18853150222864715,\n",
       "                    0.17038023734560426, 0.1109082055028001, 0.09165758566412399,\n",
       "                    0.020221948212083847, 0.1744017403915881, 0.1402187120291616,\n",
       "                    0.1787991818072434, 0.17684693384838243, 0.1748792270531401,\n",
       "                    0.13464576497751854, 0.17164269309802974, 0.14817509397356615,\n",
       "                    0.0, 0.10045160502868303, 0.1558944565480513,\n",
       "                    0.11895185862279098, 0.17347185310461463, 0.16569767441860464,\n",
       "                    0.1540140674266311, 0.008677327383165985, 0.13720732742933398,\n",
       "                    0.07210834553440702, 0.10754257907542579, 0.19711365003006615,\n",
       "                    0.0, 0.15241906147690068, 0.1832005792903693,\n",
       "                    0.14141904184354154, 0.18002421307506053, 0.16420261754726126,\n",
       "                    0.1726844583987441, 0.16291727140783743, 0.18263075250634134,\n",
       "                    0.19048192771084338, 0.17869665094909926]},\n",
       "             {'mode': 'lines',\n",
       "              'name': 'Best Value',\n",
       "              'type': 'scatter',\n",
       "              'x': [0, 1, 2, 3, 4, 5, 6, 7, 8, 9, 10, 11, 12, 13, 14, 15, 16, 17,\n",
       "                    18, 19, 20, 21, 22, 23, 24, 25, 26, 27, 28, 29, 30, 31, 32, 33,\n",
       "                    34, 35, 36, 37, 38, 39, 40, 41, 42, 43, 44, 45, 46, 47, 48, 49,\n",
       "                    50, 51, 52, 53, 54, 55, 56, 57, 58, 59, 60, 61, 62, 63, 64, 65,\n",
       "                    66, 67, 68, 69, 70, 71, 72, 73, 74, 75, 76, 77, 78, 79, 80, 81,\n",
       "                    82, 83, 84, 85, 86, 87, 88, 89, 90, 91, 92, 93, 94, 95, 96, 97,\n",
       "                    98, 99],\n",
       "              'y': [0.00422360248447205, 0.00422360248447205, 0.00422360248447205,\n",
       "                    0.007199602780536246, 0.007199602780536246,\n",
       "                    0.007199602780536246, 0.007199602780536246,\n",
       "                    0.007199602780536246, 0.017559045381476443,\n",
       "                    0.017559045381476443, 0.09782608695652174, 0.1316461856673561,\n",
       "                    0.13215109923478682, 0.164166465037503, 0.164166465037503,\n",
       "                    0.17001452081316554, 0.17001452081316554, 0.17001452081316554,\n",
       "                    0.17001452081316554, 0.17001452081316554, 0.17001452081316554,\n",
       "                    0.17001452081316554, 0.17001452081316554, 0.17001452081316554,\n",
       "                    0.17001452081316554, 0.17001452081316554, 0.17001452081316554,\n",
       "                    0.17001452081316554, 0.17001452081316554, 0.17001452081316554,\n",
       "                    0.17001452081316554, 0.17001452081316554, 0.17001452081316554,\n",
       "                    0.17679024272430865, 0.17679024272430865, 0.17679024272430865,\n",
       "                    0.17679024272430865, 0.17679024272430865, 0.17679024272430865,\n",
       "                    0.17679024272430865, 0.17679024272430865, 0.17679024272430865,\n",
       "                    0.17679024272430865, 0.17679024272430865, 0.17679024272430865,\n",
       "                    0.17679024272430865, 0.17679024272430865, 0.17679024272430865,\n",
       "                    0.17679024272430865, 0.17679024272430865, 0.17679024272430865,\n",
       "                    0.17679024272430865, 0.17679024272430865, 0.17679024272430865,\n",
       "                    0.17679024272430865, 0.17679024272430865, 0.17679024272430865,\n",
       "                    0.17679024272430865, 0.17679024272430865, 0.17679024272430865,\n",
       "                    0.17679024272430865, 0.17679024272430865, 0.17679024272430865,\n",
       "                    0.17679024272430865, 0.18853150222864715, 0.18853150222864715,\n",
       "                    0.18853150222864715, 0.18853150222864715, 0.18853150222864715,\n",
       "                    0.18853150222864715, 0.18853150222864715, 0.18853150222864715,\n",
       "                    0.18853150222864715, 0.18853150222864715, 0.18853150222864715,\n",
       "                    0.18853150222864715, 0.18853150222864715, 0.18853150222864715,\n",
       "                    0.18853150222864715, 0.18853150222864715, 0.18853150222864715,\n",
       "                    0.18853150222864715, 0.18853150222864715, 0.18853150222864715,\n",
       "                    0.18853150222864715, 0.18853150222864715, 0.18853150222864715,\n",
       "                    0.18853150222864715, 0.19711365003006615, 0.19711365003006615,\n",
       "                    0.19711365003006615, 0.19711365003006615, 0.19711365003006615,\n",
       "                    0.19711365003006615, 0.19711365003006615, 0.19711365003006615,\n",
       "                    0.19711365003006615, 0.19711365003006615, 0.19711365003006615,\n",
       "                    0.19711365003006615]},\n",
       "             {'marker': {'color': '#cccccc'},\n",
       "              'mode': 'markers',\n",
       "              'name': 'Infeasible Trial',\n",
       "              'showlegend': False,\n",
       "              'type': 'scatter',\n",
       "              'x': [],\n",
       "              'y': []}],\n",
       "    'layout': {'template': '...',\n",
       "               'title': {'text': 'Optimization History Plot'},\n",
       "               'xaxis': {'title': {'text': 'Trial'}},\n",
       "               'yaxis': {'title': {'text': 'Objective Value'}}}\n",
       "})"
      ]
     },
     "execution_count": 148,
     "metadata": {},
     "output_type": "execute_result"
    }
   ],
   "source": [
    "# 하이퍼파라미터 최적화 과정을 확인\n",
    "optuna.visualization.plot_optimization_history(study_cat_no_enc)"
   ]
  },
  {
   "cell_type": "code",
   "execution_count": 145,
   "metadata": {},
   "outputs": [],
   "source": [
    "# 하이퍼파라미터 튜닝을 통해 나온 최적의 하이퍼 파라미터 best_params에 선언\n",
    "best_params_no_enc = study_cat_no_enc.best_params"
   ]
  },
  {
   "cell_type": "code",
   "execution_count": 146,
   "metadata": {},
   "outputs": [
    {
     "data": {
      "text/plain": [
       "{'iterations': 902,\n",
       " 'learning_rate': 0.09892754692258024,\n",
       " 'depth': 10,\n",
       " 'bootstrap_type': 'Bayesian',\n",
       " 'bagging_temperature': 0.28979194050830664,\n",
       " 'od_wait': 10,\n",
       " 'min_data_in_leaf': 78,\n",
       " 'simple_ctr': None,\n",
       " 'combinations_ctr': 'FeatureFreq'}"
      ]
     },
     "execution_count": 146,
     "metadata": {},
     "output_type": "execute_result"
    }
   ],
   "source": [
    "best_params_no_enc"
   ]
  },
  {
   "cell_type": "code",
   "execution_count": 116,
   "metadata": {},
   "outputs": [],
   "source": [
    "# 튜닝한 하이퍼 파라미터를 바탕으로, CatBoostClassifier 선언\n",
    "# cat_optuna_no_enc = CatBoostClassifier(**params(best_params_no_enc))\n",
    "best_params_no_enc = {'iterations': 969, \n",
    "                      'learning_rate': 0.09185833755448329, \n",
    "                      'depth': 10, \n",
    "                      'bootstrap_type': 'Bayesian', \n",
    "                      'bagging_temperature': 0.5563853663136828, \n",
    "                      'od_wait': 12, \n",
    "                      'min_data_in_leaf': 73,\n",
    "                      \"loss_function\" : \"MultiClass\",\n",
    "                      \"verbose\" : 0,\n",
    "                      \"task_type\" : \"GPU\",\n",
    "                      \"devices\" : \"0\",\n",
    "                      \"random_state\" : 42}\n",
    "\n",
    "cat_optuna_no_enc = CatBoostClassifier(**best_params_no_enc)"
   ]
  },
  {
   "cell_type": "code",
   "execution_count": 117,
   "metadata": {},
   "outputs": [
    {
     "data": {
      "text/plain": [
       "{'iterations': 969,\n",
       " 'learning_rate': 0.09185833755448329,\n",
       " 'depth': 10,\n",
       " 'loss_function': 'MultiClass',\n",
       " 'od_wait': 12,\n",
       " 'verbose': 0,\n",
       " 'bagging_temperature': 0.5563853663136828,\n",
       " 'task_type': 'GPU',\n",
       " 'devices': '0',\n",
       " 'bootstrap_type': 'Bayesian',\n",
       " 'random_state': 42,\n",
       " 'min_data_in_leaf': 73}"
      ]
     },
     "execution_count": 117,
     "metadata": {},
     "output_type": "execute_result"
    }
   ],
   "source": [
    "cat_optuna_no_enc.get_params()"
   ]
  },
  {
   "cell_type": "markdown",
   "metadata": {},
   "source": [
    "#### 4-3. 모델 비교"
   ]
  },
  {
   "cell_type": "code",
   "execution_count": 188,
   "metadata": {},
   "outputs": [],
   "source": [
    "\n",
    "models_tuned = [\n",
    "    (\"Decision Tree\", DecisionTreeClassifier(random_state=42)),\n",
    "    (\"CatBoost\", CatBoostClassifier(**params_dict)),\n",
    "    (\"CatBoost_tuned\", cat_optuna),\n",
    "    (\"CatBoost_tuned_no_enc\", cat_optuna_no_enc),\n",
    "]"
   ]
  },
  {
   "cell_type": "code",
   "execution_count": 189,
   "metadata": {},
   "outputs": [
    {
     "name": "stdout",
     "output_type": "stream",
     "text": [
      "\n",
      "======== Models After Hyper Parameter Tuning ========\n",
      "\n"
     ]
    },
    {
     "data": {
      "text/html": [
       "<div>\n",
       "<style scoped>\n",
       "    .dataframe tbody tr th:only-of-type {\n",
       "        vertical-align: middle;\n",
       "    }\n",
       "\n",
       "    .dataframe tbody tr th {\n",
       "        vertical-align: top;\n",
       "    }\n",
       "\n",
       "    .dataframe thead th {\n",
       "        text-align: right;\n",
       "    }\n",
       "</style>\n",
       "<table border=\"1\" class=\"dataframe\">\n",
       "  <thead>\n",
       "    <tr style=\"text-align: right;\">\n",
       "      <th></th>\n",
       "      <th>Model</th>\n",
       "      <th>Accuracy</th>\n",
       "      <th>Precision</th>\n",
       "      <th>Recall</th>\n",
       "      <th>F1 Score</th>\n",
       "      <th>CSI Index</th>\n",
       "    </tr>\n",
       "  </thead>\n",
       "  <tbody>\n",
       "    <tr>\n",
       "      <th>0</th>\n",
       "      <td>CatBoost_tuned_no_enc</td>\n",
       "      <td>0.9917</td>\n",
       "      <td>0.9893</td>\n",
       "      <td>0.9917</td>\n",
       "      <td>0.9897</td>\n",
       "      <td>0.2585</td>\n",
       "    </tr>\n",
       "    <tr>\n",
       "      <th>1</th>\n",
       "      <td>CatBoost_tuned</td>\n",
       "      <td>0.9917</td>\n",
       "      <td>0.9892</td>\n",
       "      <td>0.9917</td>\n",
       "      <td>0.9896</td>\n",
       "      <td>0.2516</td>\n",
       "    </tr>\n",
       "    <tr>\n",
       "      <th>2</th>\n",
       "      <td>Decision Tree</td>\n",
       "      <td>0.9875</td>\n",
       "      <td>0.9884</td>\n",
       "      <td>0.9875</td>\n",
       "      <td>0.9879</td>\n",
       "      <td>0.2378</td>\n",
       "    </tr>\n",
       "    <tr>\n",
       "      <th>3</th>\n",
       "      <td>CatBoost</td>\n",
       "      <td>0.9911</td>\n",
       "      <td>0.9881</td>\n",
       "      <td>0.9911</td>\n",
       "      <td>0.9885</td>\n",
       "      <td>0.1947</td>\n",
       "    </tr>\n",
       "  </tbody>\n",
       "</table>\n",
       "</div>"
      ],
      "text/plain": [
       "                   Model  Accuracy  Precision  Recall  F1 Score  CSI Index\n",
       "0  CatBoost_tuned_no_enc    0.9917     0.9893  0.9917    0.9897     0.2585\n",
       "1         CatBoost_tuned    0.9917     0.9892  0.9917    0.9896     0.2516\n",
       "2          Decision Tree    0.9875     0.9884  0.9875    0.9879     0.2378\n",
       "3               CatBoost    0.9911     0.9881  0.9911    0.9885     0.1947"
      ]
     },
     "execution_count": 189,
     "metadata": {},
     "output_type": "execute_result"
    }
   ],
   "source": [
    "model_comparison_cat(models_tuned, X_train_labeled, y_train, X_val_labeled, y_val, when=\"After\")"
   ]
  },
  {
   "cell_type": "markdown",
   "metadata": {},
   "source": [
    "#### 4-4. 튜닝한 모델 학습 (인코딩 X)"
   ]
  },
  {
   "cell_type": "code",
   "execution_count": 118,
   "metadata": {},
   "outputs": [
    {
     "data": {
      "text/plain": [
       "<catboost.core.CatBoostClassifier at 0x1a82f793e50>"
      ]
     },
     "execution_count": 118,
     "metadata": {},
     "output_type": "execute_result"
    }
   ],
   "source": [
    "cat_optuna_no_enc.fit(X_train_no_enc, y_train, cat_features=cat_features)"
   ]
  },
  {
   "cell_type": "code",
   "execution_count": 119,
   "metadata": {},
   "outputs": [],
   "source": [
    "y_val_pred_no_enc = cat_optuna_no_enc.predict(X_val_no_enc)"
   ]
  },
  {
   "cell_type": "code",
   "execution_count": 120,
   "metadata": {},
   "outputs": [
    {
     "name": "stdout",
     "output_type": "stream",
     "text": [
      "[[   788    229     12    938]\n",
      " [   192    898     96   1836]\n",
      " [    27    215    282   2521]\n",
      " [    40    140     97 775175]]\n"
     ]
    },
    {
     "data": {
      "text/plain": [
       "0.23679460955360365"
      ]
     },
     "execution_count": 120,
     "metadata": {},
     "output_type": "execute_result"
    }
   ],
   "source": [
    "cat_cm = confusion_matrix(y_val, y_val_pred_no_enc)\n",
    "print(cat_cm)\n",
    "\n",
    "csi_cat = csi_index(y_val, y_val_pred_no_enc)\n",
    "csi_cat"
   ]
  },
  {
   "cell_type": "code",
   "execution_count": 121,
   "metadata": {},
   "outputs": [],
   "source": [
    "# y_val_pred_no_enc = cat_optuna_no_enc.predict(X_val)"
   ]
  },
  {
   "cell_type": "code",
   "execution_count": 122,
   "metadata": {},
   "outputs": [],
   "source": [
    "# cat_cm_no_enc = confusion_matrix(y_val, y_val_pred_no_enc)\n",
    "# print(cat_cm_no_enc)\n",
    "\n",
    "# csi_cat_no_enc = csi_index(y_val, y_val_pred_no_enc)\n",
    "# # csi_cat_no_enc"
   ]
  },
  {
   "cell_type": "code",
   "execution_count": 123,
   "metadata": {},
   "outputs": [
    {
     "data": {
      "image/png": "[encoded data removed]",
      "text/plain": [
       "<Figure size 1000x500 with 2 Axes>"
      ]
     },
     "metadata": {
      "image/png": {
       "height": 473,
       "width": 810
      }
     },
     "output_type": "display_data"
    }
   ],
   "source": [
    "# Confusion Matrix 시각화\n",
    "\n",
    "plt.figure(figsize=(10,5))\n",
    "\n",
    "# target 컬럼 값들 unique_value에 선언\n",
    "unique_value = np.unique(y_val_pred_no_enc, return_counts = False)\n",
    "\n",
    "# Confusion Matrix에 label 표시하기 위해 \"class\" + value 합쳐준다\n",
    "unique_value_list = []\n",
    "for i, value in enumerate(unique_value):\n",
    "    unique_value_list.append(\"class \" + str(int(value)))\n",
    "\n",
    "\n",
    "pred_labels = unique_value_list\n",
    "sns.heatmap(cat_cm, \n",
    "            annot=True, \n",
    "            fmt=\"d\", \n",
    "            cmap=\"Blues\", \n",
    "            xticklabels = pred_labels, \n",
    "            yticklabels = pred_labels)\n",
    "\n",
    "plt.title(f'Confusion Matrix with CatBoost (No Encoded, CSI Index : {np.round(csi_cat, 4)})')\n",
    "plt.xlabel('Predicted Label')\n",
    "plt.ylabel('True Label')\n",
    "plt.show()"
   ]
  },
  {
   "cell_type": "code",
   "execution_count": null,
   "metadata": {},
   "outputs": [],
   "source": []
  },
  {
   "cell_type": "markdown",
   "metadata": {},
   "source": [
    "#### 4-5. 모델 저장 (pickle)"
   ]
  },
  {
   "cell_type": "code",
   "execution_count": 117,
   "metadata": {},
   "outputs": [],
   "source": [
    "# 전처리 마친 데이터셋 저장할 경로 설정하는 함수\n",
    "\n",
    "def save_pickle_path(model_name):\n",
    "        \n",
    "    # 작업 디렉토리 origin_dir에 선언\n",
    "    origin_dir = os.getcwd()\n",
    "\n",
    "    # \"..\" : 상위 디렉토리로 이동\n",
    "    os.chdir(\"..\")\n",
    "\n",
    "    # pickle 저장 이름 설정\n",
    "    save_pickle = model_name + \".pkl\"\n",
    "    # 전처리 거친 데이터셋 저장 경로 설정\n",
    "    pickle_save_path = os.path.join(os.getcwd(), \"fog_data\", save_pickle)\n",
    "    \n",
    "    \n",
    "    # 운영체제가 윈도우일 경우, \"\\\\\"를 \"/\"로 바꿔줘야 한다\n",
    "    if os.name == \"nt\":\n",
    "        pickle_save_path = pickle_save_path.replace(\"\\\\\", \"/\")\n",
    "\n",
    "    # # origin_dir로 경로 다시 변경 (초기화)\n",
    "    os.chdir(origin_dir)\n",
    "\n",
    "    return pickle_save_path"
   ]
  },
  {
   "cell_type": "code",
   "execution_count": 104,
   "metadata": {},
   "outputs": [
    {
     "data": {
      "text/plain": [
       "'c:/Users/aryij/Documents/DataStudy/fog_data/cat_optuna.pkl'"
      ]
     },
     "execution_count": 104,
     "metadata": {},
     "output_type": "execute_result"
    }
   ],
   "source": [
    "save_pickle_path(\"cat_optuna\")"
   ]
  },
  {
   "cell_type": "code",
   "execution_count": 124,
   "metadata": {},
   "outputs": [
    {
     "ename": "NameError",
     "evalue": "name 'save_pickle_path' is not defined",
     "output_type": "error",
     "traceback": [
      "\u001b[1;31m---------------------------------------------------------------------------\u001b[0m",
      "\u001b[1;31mNameError\u001b[0m                                 Traceback (most recent call last)",
      "Cell \u001b[1;32mIn[124], line 1\u001b[0m\n\u001b[1;32m----> 1\u001b[0m save_pickle_path(\u001b[38;5;124m\"\u001b[39m\u001b[38;5;124mcat_optuna_no_enc\u001b[39m\u001b[38;5;124m\"\u001b[39m)\n",
      "\u001b[1;31mNameError\u001b[0m: name 'save_pickle_path' is not defined"
     ]
    }
   ],
   "source": [
    "save_pickle_path(\"cat_optuna_no_enc\")"
   ]
  },
  {
   "cell_type": "code",
   "execution_count": 105,
   "metadata": {},
   "outputs": [],
   "source": [
    "# 하이퍼파라미터 튜닝 거친 모델 pickle 저장\n",
    "with open(file=save_pickle_path(\"cat_optuna\"), mode='wb') as f:\n",
    "    pickle.dump(cat_optuna, f)"
   ]
  },
  {
   "cell_type": "code",
   "execution_count": 119,
   "metadata": {},
   "outputs": [],
   "source": [
    "# 하이퍼파라미터 튜닝 거친 모델 pickle 저장\n",
    "with open(file=save_pickle_path(\"cat_optuna_no_enc\"), mode='wb') as f:\n",
    "    pickle.dump(cat_optuna_no_enc, f)"
   ]
  },
  {
   "cell_type": "code",
   "execution_count": 107,
   "metadata": {},
   "outputs": [],
   "source": [
    "# pickle로 저장한 모델 불러오기\n",
    "with open(file=save_pickle_path(\"cat_optuna\"), mode=\"rb\") as f:\n",
    "    # loaded_model 이라는 이름에 모델 불러온다\n",
    "    loaded_model = pickle.load(f)"
   ]
  },
  {
   "cell_type": "code",
   "execution_count": 121,
   "metadata": {},
   "outputs": [
    {
     "data": {
      "text/html": [
       "<div>\n",
       "<style scoped>\n",
       "    .dataframe tbody tr th:only-of-type {\n",
       "        vertical-align: middle;\n",
       "    }\n",
       "\n",
       "    .dataframe tbody tr th {\n",
       "        vertical-align: top;\n",
       "    }\n",
       "\n",
       "    .dataframe thead th {\n",
       "        text-align: right;\n",
       "    }\n",
       "</style>\n",
       "<table border=\"1\" class=\"dataframe\">\n",
       "  <thead>\n",
       "    <tr style=\"text-align: right;\">\n",
       "      <th></th>\n",
       "      <th>month</th>\n",
       "      <th>time</th>\n",
       "      <th>stn_id</th>\n",
       "      <th>ta</th>\n",
       "      <th>ts</th>\n",
       "      <th>temp_diff</th>\n",
       "      <th>hm</th>\n",
       "      <th>re</th>\n",
       "      <th>ws10_deg</th>\n",
       "      <th>ws10_ms</th>\n",
       "      <th>sun10</th>\n",
       "      <th>dew_reached</th>\n",
       "    </tr>\n",
       "  </thead>\n",
       "  <tbody>\n",
       "    <tr>\n",
       "      <th>0</th>\n",
       "      <td>4</td>\n",
       "      <td>15</td>\n",
       "      <td>B</td>\n",
       "      <td>10.3</td>\n",
       "      <td>13.8</td>\n",
       "      <td>-3.5</td>\n",
       "      <td>59.3</td>\n",
       "      <td>0</td>\n",
       "      <td>112.4</td>\n",
       "      <td>2.2</td>\n",
       "      <td>0.14</td>\n",
       "      <td>0</td>\n",
       "    </tr>\n",
       "    <tr>\n",
       "      <th>1</th>\n",
       "      <td>4</td>\n",
       "      <td>9</td>\n",
       "      <td>B</td>\n",
       "      <td>10.1</td>\n",
       "      <td>18.3</td>\n",
       "      <td>-8.2</td>\n",
       "      <td>54.4</td>\n",
       "      <td>0</td>\n",
       "      <td>273.6</td>\n",
       "      <td>4.8</td>\n",
       "      <td>0.31</td>\n",
       "      <td>0</td>\n",
       "    </tr>\n",
       "    <tr>\n",
       "      <th>2</th>\n",
       "      <td>3</td>\n",
       "      <td>10</td>\n",
       "      <td>D</td>\n",
       "      <td>18.1</td>\n",
       "      <td>20.1</td>\n",
       "      <td>-2.0</td>\n",
       "      <td>47.0</td>\n",
       "      <td>0</td>\n",
       "      <td>158.2</td>\n",
       "      <td>3.1</td>\n",
       "      <td>0.22</td>\n",
       "      <td>0</td>\n",
       "    </tr>\n",
       "    <tr>\n",
       "      <th>3</th>\n",
       "      <td>7</td>\n",
       "      <td>23</td>\n",
       "      <td>A</td>\n",
       "      <td>24.0</td>\n",
       "      <td>24.3</td>\n",
       "      <td>-0.3</td>\n",
       "      <td>81.8</td>\n",
       "      <td>0</td>\n",
       "      <td>238.0</td>\n",
       "      <td>0.9</td>\n",
       "      <td>0.00</td>\n",
       "      <td>0</td>\n",
       "    </tr>\n",
       "    <tr>\n",
       "      <th>4</th>\n",
       "      <td>1</td>\n",
       "      <td>0</td>\n",
       "      <td>D</td>\n",
       "      <td>-3.8</td>\n",
       "      <td>-3.0</td>\n",
       "      <td>-0.8</td>\n",
       "      <td>81.6</td>\n",
       "      <td>0</td>\n",
       "      <td>303.7</td>\n",
       "      <td>1.0</td>\n",
       "      <td>0.00</td>\n",
       "      <td>0</td>\n",
       "    </tr>\n",
       "    <tr>\n",
       "      <th>...</th>\n",
       "      <td>...</td>\n",
       "      <td>...</td>\n",
       "      <td>...</td>\n",
       "      <td>...</td>\n",
       "      <td>...</td>\n",
       "      <td>...</td>\n",
       "      <td>...</td>\n",
       "      <td>...</td>\n",
       "      <td>...</td>\n",
       "      <td>...</td>\n",
       "      <td>...</td>\n",
       "      <td>...</td>\n",
       "    </tr>\n",
       "    <tr>\n",
       "      <th>2210951</th>\n",
       "      <td>3</td>\n",
       "      <td>15</td>\n",
       "      <td>A</td>\n",
       "      <td>3.7</td>\n",
       "      <td>9.2</td>\n",
       "      <td>-5.5</td>\n",
       "      <td>50.9</td>\n",
       "      <td>0</td>\n",
       "      <td>291.9</td>\n",
       "      <td>4.7</td>\n",
       "      <td>0.06</td>\n",
       "      <td>0</td>\n",
       "    </tr>\n",
       "    <tr>\n",
       "      <th>2210952</th>\n",
       "      <td>3</td>\n",
       "      <td>0</td>\n",
       "      <td>A</td>\n",
       "      <td>10.4</td>\n",
       "      <td>7.2</td>\n",
       "      <td>3.2</td>\n",
       "      <td>64.0</td>\n",
       "      <td>0</td>\n",
       "      <td>120.0</td>\n",
       "      <td>1.2</td>\n",
       "      <td>0.00</td>\n",
       "      <td>0</td>\n",
       "    </tr>\n",
       "    <tr>\n",
       "      <th>2210953</th>\n",
       "      <td>8</td>\n",
       "      <td>2</td>\n",
       "      <td>D</td>\n",
       "      <td>25.4</td>\n",
       "      <td>25.3</td>\n",
       "      <td>0.1</td>\n",
       "      <td>92.7</td>\n",
       "      <td>0</td>\n",
       "      <td>239.4</td>\n",
       "      <td>3.4</td>\n",
       "      <td>0.00</td>\n",
       "      <td>0</td>\n",
       "    </tr>\n",
       "    <tr>\n",
       "      <th>2210954</th>\n",
       "      <td>11</td>\n",
       "      <td>21</td>\n",
       "      <td>A</td>\n",
       "      <td>11.4</td>\n",
       "      <td>5.5</td>\n",
       "      <td>5.9</td>\n",
       "      <td>83.4</td>\n",
       "      <td>0</td>\n",
       "      <td>184.6</td>\n",
       "      <td>0.7</td>\n",
       "      <td>0.00</td>\n",
       "      <td>1</td>\n",
       "    </tr>\n",
       "    <tr>\n",
       "      <th>2210955</th>\n",
       "      <td>9</td>\n",
       "      <td>13</td>\n",
       "      <td>B</td>\n",
       "      <td>22.1</td>\n",
       "      <td>29.5</td>\n",
       "      <td>-7.4</td>\n",
       "      <td>63.1</td>\n",
       "      <td>0</td>\n",
       "      <td>80.4</td>\n",
       "      <td>1.9</td>\n",
       "      <td>0.25</td>\n",
       "      <td>0</td>\n",
       "    </tr>\n",
       "  </tbody>\n",
       "</table>\n",
       "<p>2210956 rows × 12 columns</p>\n",
       "</div>"
      ],
      "text/plain": [
       "         month  time stn_id    ta    ts  temp_diff    hm  re  ws10_deg  \\\n",
       "0            4    15      B  10.3  13.8       -3.5  59.3   0     112.4   \n",
       "1            4     9      B  10.1  18.3       -8.2  54.4   0     273.6   \n",
       "2            3    10      D  18.1  20.1       -2.0  47.0   0     158.2   \n",
       "3            7    23      A  24.0  24.3       -0.3  81.8   0     238.0   \n",
       "4            1     0      D  -3.8  -3.0       -0.8  81.6   0     303.7   \n",
       "...        ...   ...    ...   ...   ...        ...   ...  ..       ...   \n",
       "2210951      3    15      A   3.7   9.2       -5.5  50.9   0     291.9   \n",
       "2210952      3     0      A  10.4   7.2        3.2  64.0   0     120.0   \n",
       "2210953      8     2      D  25.4  25.3        0.1  92.7   0     239.4   \n",
       "2210954     11    21      A  11.4   5.5        5.9  83.4   0     184.6   \n",
       "2210955      9    13      B  22.1  29.5       -7.4  63.1   0      80.4   \n",
       "\n",
       "         ws10_ms  sun10  dew_reached  \n",
       "0            2.2   0.14            0  \n",
       "1            4.8   0.31            0  \n",
       "2            3.1   0.22            0  \n",
       "3            0.9   0.00            0  \n",
       "4            1.0   0.00            0  \n",
       "...          ...    ...          ...  \n",
       "2210951      4.7   0.06            0  \n",
       "2210952      1.2   0.00            0  \n",
       "2210953      3.4   0.00            0  \n",
       "2210954      0.7   0.00            1  \n",
       "2210955      1.9   0.25            0  \n",
       "\n",
       "[2210956 rows x 12 columns]"
      ]
     },
     "execution_count": 121,
     "metadata": {},
     "output_type": "execute_result"
    }
   ],
   "source": [
    "X_train_no_enc"
   ]
  },
  {
   "cell_type": "code",
   "execution_count": 120,
   "metadata": {},
   "outputs": [
    {
     "data": {
      "text/html": [
       "<div>\n",
       "<style scoped>\n",
       "    .dataframe tbody tr th:only-of-type {\n",
       "        vertical-align: middle;\n",
       "    }\n",
       "\n",
       "    .dataframe tbody tr th {\n",
       "        vertical-align: top;\n",
       "    }\n",
       "\n",
       "    .dataframe thead th {\n",
       "        text-align: right;\n",
       "    }\n",
       "</style>\n",
       "<table border=\"1\" class=\"dataframe\">\n",
       "  <thead>\n",
       "    <tr style=\"text-align: right;\">\n",
       "      <th></th>\n",
       "      <th>month</th>\n",
       "      <th>time</th>\n",
       "      <th>stn_id</th>\n",
       "      <th>ta</th>\n",
       "      <th>ts</th>\n",
       "      <th>temp_diff</th>\n",
       "      <th>hm</th>\n",
       "      <th>re</th>\n",
       "      <th>ws10_deg</th>\n",
       "      <th>ws10_ms</th>\n",
       "      <th>sun10</th>\n",
       "      <th>dew_reached</th>\n",
       "    </tr>\n",
       "  </thead>\n",
       "  <tbody>\n",
       "    <tr>\n",
       "      <th>0</th>\n",
       "      <td>1</td>\n",
       "      <td>0</td>\n",
       "      <td>A</td>\n",
       "      <td>-2.5</td>\n",
       "      <td>-1.6</td>\n",
       "      <td>-0.9</td>\n",
       "      <td>87.5</td>\n",
       "      <td>0</td>\n",
       "      <td>329.5</td>\n",
       "      <td>0.6</td>\n",
       "      <td>0.0</td>\n",
       "      <td>0</td>\n",
       "    </tr>\n",
       "    <tr>\n",
       "      <th>1</th>\n",
       "      <td>1</td>\n",
       "      <td>0</td>\n",
       "      <td>A</td>\n",
       "      <td>-2.5</td>\n",
       "      <td>-1.6</td>\n",
       "      <td>-0.9</td>\n",
       "      <td>88.2</td>\n",
       "      <td>0</td>\n",
       "      <td>321.8</td>\n",
       "      <td>1.2</td>\n",
       "      <td>0.0</td>\n",
       "      <td>0</td>\n",
       "    </tr>\n",
       "    <tr>\n",
       "      <th>2</th>\n",
       "      <td>1</td>\n",
       "      <td>0</td>\n",
       "      <td>A</td>\n",
       "      <td>-2.5</td>\n",
       "      <td>-1.7</td>\n",
       "      <td>-0.8</td>\n",
       "      <td>88.6</td>\n",
       "      <td>0</td>\n",
       "      <td>0.4</td>\n",
       "      <td>0.4</td>\n",
       "      <td>0.0</td>\n",
       "      <td>0</td>\n",
       "    </tr>\n",
       "    <tr>\n",
       "      <th>3</th>\n",
       "      <td>1</td>\n",
       "      <td>0</td>\n",
       "      <td>A</td>\n",
       "      <td>-2.6</td>\n",
       "      <td>-1.6</td>\n",
       "      <td>-1.0</td>\n",
       "      <td>88.7</td>\n",
       "      <td>0</td>\n",
       "      <td>323.6</td>\n",
       "      <td>0.7</td>\n",
       "      <td>0.0</td>\n",
       "      <td>0</td>\n",
       "    </tr>\n",
       "    <tr>\n",
       "      <th>4</th>\n",
       "      <td>1</td>\n",
       "      <td>0</td>\n",
       "      <td>A</td>\n",
       "      <td>-2.6</td>\n",
       "      <td>-1.6</td>\n",
       "      <td>-1.0</td>\n",
       "      <td>89.0</td>\n",
       "      <td>0</td>\n",
       "      <td>208.4</td>\n",
       "      <td>0.2</td>\n",
       "      <td>0.0</td>\n",
       "      <td>0</td>\n",
       "    </tr>\n",
       "    <tr>\n",
       "      <th>...</th>\n",
       "      <td>...</td>\n",
       "      <td>...</td>\n",
       "      <td>...</td>\n",
       "      <td>...</td>\n",
       "      <td>...</td>\n",
       "      <td>...</td>\n",
       "      <td>...</td>\n",
       "      <td>...</td>\n",
       "      <td>...</td>\n",
       "      <td>...</td>\n",
       "      <td>...</td>\n",
       "      <td>...</td>\n",
       "    </tr>\n",
       "    <tr>\n",
       "      <th>262795</th>\n",
       "      <td>12</td>\n",
       "      <td>23</td>\n",
       "      <td>E</td>\n",
       "      <td>4.5</td>\n",
       "      <td>1.9</td>\n",
       "      <td>2.6</td>\n",
       "      <td>71.3</td>\n",
       "      <td>0</td>\n",
       "      <td>338.8</td>\n",
       "      <td>6.1</td>\n",
       "      <td>0.0</td>\n",
       "      <td>0</td>\n",
       "    </tr>\n",
       "    <tr>\n",
       "      <th>262796</th>\n",
       "      <td>12</td>\n",
       "      <td>23</td>\n",
       "      <td>E</td>\n",
       "      <td>4.6</td>\n",
       "      <td>1.9</td>\n",
       "      <td>2.7</td>\n",
       "      <td>71.4</td>\n",
       "      <td>0</td>\n",
       "      <td>335.2</td>\n",
       "      <td>5.8</td>\n",
       "      <td>0.0</td>\n",
       "      <td>0</td>\n",
       "    </tr>\n",
       "    <tr>\n",
       "      <th>262797</th>\n",
       "      <td>12</td>\n",
       "      <td>23</td>\n",
       "      <td>E</td>\n",
       "      <td>4.5</td>\n",
       "      <td>1.8</td>\n",
       "      <td>2.7</td>\n",
       "      <td>72.1</td>\n",
       "      <td>0</td>\n",
       "      <td>337.1</td>\n",
       "      <td>5.3</td>\n",
       "      <td>0.0</td>\n",
       "      <td>0</td>\n",
       "    </tr>\n",
       "    <tr>\n",
       "      <th>262798</th>\n",
       "      <td>12</td>\n",
       "      <td>23</td>\n",
       "      <td>E</td>\n",
       "      <td>4.3</td>\n",
       "      <td>1.4</td>\n",
       "      <td>2.9</td>\n",
       "      <td>72.5</td>\n",
       "      <td>0</td>\n",
       "      <td>322.0</td>\n",
       "      <td>3.7</td>\n",
       "      <td>0.0</td>\n",
       "      <td>0</td>\n",
       "    </tr>\n",
       "    <tr>\n",
       "      <th>262799</th>\n",
       "      <td>12</td>\n",
       "      <td>23</td>\n",
       "      <td>E</td>\n",
       "      <td>4.3</td>\n",
       "      <td>1.3</td>\n",
       "      <td>3.0</td>\n",
       "      <td>73.7</td>\n",
       "      <td>0</td>\n",
       "      <td>33.6</td>\n",
       "      <td>2.8</td>\n",
       "      <td>0.0</td>\n",
       "      <td>0</td>\n",
       "    </tr>\n",
       "  </tbody>\n",
       "</table>\n",
       "<p>262800 rows × 12 columns</p>\n",
       "</div>"
      ],
      "text/plain": [
       "        month  time stn_id   ta   ts  temp_diff    hm  re  ws10_deg  ws10_ms  \\\n",
       "0           1     0      A -2.5 -1.6       -0.9  87.5   0     329.5      0.6   \n",
       "1           1     0      A -2.5 -1.6       -0.9  88.2   0     321.8      1.2   \n",
       "2           1     0      A -2.5 -1.7       -0.8  88.6   0       0.4      0.4   \n",
       "3           1     0      A -2.6 -1.6       -1.0  88.7   0     323.6      0.7   \n",
       "4           1     0      A -2.6 -1.6       -1.0  89.0   0     208.4      0.2   \n",
       "...       ...   ...    ...  ...  ...        ...   ...  ..       ...      ...   \n",
       "262795     12    23      E  4.5  1.9        2.6  71.3   0     338.8      6.1   \n",
       "262796     12    23      E  4.6  1.9        2.7  71.4   0     335.2      5.8   \n",
       "262797     12    23      E  4.5  1.8        2.7  72.1   0     337.1      5.3   \n",
       "262798     12    23      E  4.3  1.4        2.9  72.5   0     322.0      3.7   \n",
       "262799     12    23      E  4.3  1.3        3.0  73.7   0      33.6      2.8   \n",
       "\n",
       "        sun10  dew_reached  \n",
       "0         0.0            0  \n",
       "1         0.0            0  \n",
       "2         0.0            0  \n",
       "3         0.0            0  \n",
       "4         0.0            0  \n",
       "...       ...          ...  \n",
       "262795    0.0            0  \n",
       "262796    0.0            0  \n",
       "262797    0.0            0  \n",
       "262798    0.0            0  \n",
       "262799    0.0            0  \n",
       "\n",
       "[262800 rows x 12 columns]"
      ]
     },
     "execution_count": 120,
     "metadata": {},
     "output_type": "execute_result"
    }
   ],
   "source": [
    "X_test"
   ]
  },
  {
   "cell_type": "code",
   "execution_count": 125,
   "metadata": {},
   "outputs": [],
   "source": [
    "y_test_pred = cat_optuna_no_enc.predict(X_test)"
   ]
  },
  {
   "cell_type": "code",
   "execution_count": 126,
   "metadata": {},
   "outputs": [],
   "source": [
    "y_test_pred_df = pd.DataFrame(y_test_pred)"
   ]
  },
  {
   "cell_type": "code",
   "execution_count": 127,
   "metadata": {},
   "outputs": [],
   "source": [
    "y_test_pred_df.to_csv(\"C:/Users/aryij/Documents/DataStudy/weather-contest/data/y_test_pred_df_many_rows.csv\")"
   ]
  },
  {
   "cell_type": "code",
   "execution_count": null,
   "metadata": {},
   "outputs": [],
   "source": []
  }
 ],
 "metadata": {
  "kernelspec": {
   "display_name": "weather2",
   "language": "python",
   "name": "python3"
  },
  "language_info": {
   "codemirror_mode": {
    "name": "ipython",
    "version": 3
   },
   "file_extension": ".py",
   "mimetype": "text/x-python",
   "name": "python",
   "nbconvert_exporter": "python",
   "pygments_lexer": "ipython3",
   "version": "3.11.0"
  }
 },
 "nbformat": 4,
 "nbformat_minor": 2
}
