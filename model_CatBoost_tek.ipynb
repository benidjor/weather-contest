{
  "cells": [
    {
      "cell_type": "markdown",
      "metadata": {
        "id": "S9WgIXxbZLig"
      },
      "source": [
        "# 안개 발생 진단 분류 모델 생성"
      ]
    },
    {
      "cell_type": "markdown",
      "metadata": {
        "id": "Uucy3YRjZLih"
      },
      "source": [
        "## 데이터 설명\n",
        "- 컬럼\n",
        "\n",
        "    - `Year` : 년도\n",
        "    - `Month` : 월\n",
        "    - `Day` : 일\n",
        "    - `Time` : 시간 (0 ~ 23)\n",
        "    - `Minute` : 분 (10분 단위)\n",
        "    - `STN_ID` : 지점 번호\n",
        "    - `WS10(deg)` : 10분 평균 풍향, 단위: deg\n",
        "    - `WS10(m/s)` : 10분 평균 풍속, 단위: m/s\n",
        "    - `TA` : 1분 평균 기온 10분 주기, 단위: C\n",
        "    - `RE` : 강수 유무 (0:무강수, 1:강수)\n",
        "    - `HM` : 1분 평균 상대 습도 10분 주기, 단위: %\n",
        "    - `sun10` : 1분 일사량 10분단위 합계, 단위: MJ\n",
        "    - `TS` : 1분 평균 지면온도 10분 주기, 단위: C\n",
        "    - `VIS1` : 1분 평균 시정 10분 주기, 단위: C (VIS1 변수는 시정 구간을 알 수 있는 변수로 검증 데이터에서는 제외)\n",
        "    - `class` : 시정 구간\n",
        "\n",
        "- 시정 계급 기준 (비고: 안개의 기준)\n",
        "\n",
        "    - `1` : 0 < 시정 < 200\n",
        "    - `2` : 200 <= 시정 < 500\n",
        "    - `3` : 500 <= 시정 < 1000\n",
        "    - `4` : 1000 <= 시정\n"
      ]
    },
    {
      "cell_type": "markdown",
      "metadata": {
        "id": "0OI_H5hCZLih"
      },
      "source": [
        "## 데이터 불러오기"
      ]
    },
    {
      "cell_type": "code",
      "execution_count": 1,
      "metadata": {
        "colab": {
          "base_uri": "https://localhost:8080/"
        },
        "id": "fSoaAj-Ac979",
        "outputId": "219f09fc-69b8-4f37-a0b6-2b280d355b91"
      },
      "outputs": [],
      "source": [
        "# from google.colab import drive\n",
        "# drive.mount('/content/drive')"
      ]
    },
    {
      "cell_type": "code",
      "execution_count": 1,
      "metadata": {
        "id": "WGlbpx38xZWE"
      },
      "outputs": [
        {
          "name": "stderr",
          "output_type": "stream",
          "text": [
            "c:\\Users\\aryij\\anaconda3\\envs\\weather\\Lib\\site-packages\\tqdm\\auto.py:21: TqdmWarning: IProgress not found. Please update jupyter and ipywidgets. See https://ipywidgets.readthedocs.io/en/stable/user_install.html\n",
            "  from .autonotebook import tqdm as notebook_tqdm\n"
          ]
        }
      ],
      "source": [
        "import os\n",
        "\n",
        "import numpy as np\n",
        "import pandas as pd\n",
        "import matplotlib.pyplot as plt\n",
        "import seaborn as sns\n",
        "%matplotlib inline\n",
        "\n",
        "import pickle\n",
        "import optuna\n",
        "from optuna.samplers import TPESampler\n",
        "\n",
        "from sklearn import metrics\n",
        "from sklearn.tree import DecisionTreeClassifier\n",
        "from sklearn.ensemble import RandomForestClassifier\n",
        "# from xgboost import XGBClassifier\n",
        "# from lightgbm import LGBMClassifier\n",
        "from catboost import CatBoostClassifier\n",
        "from sklearn.naive_bayes import GaussianNB\n",
        "from sklearn.naive_bayes import MultinomialNB\n",
        "from sklearn.naive_bayes import CategoricalNB\n",
        "\n",
        "from sklearn.model_selection import train_test_split\n",
        "\n",
        "# from sklearn.preprocessing import TargetEncoder\n",
        "from sklearn.preprocessing import LabelEncoder\n",
        "\n",
        "from sklearn.metrics import accuracy_score\n",
        "from sklearn.metrics import precision_score\n",
        "from sklearn.metrics import recall_score\n",
        "from sklearn.metrics import f1_score\n",
        "from sklearn.metrics import confusion_matrix\n",
        "from sklearn.metrics import classification_report\n",
        "from sklearn.metrics import make_scorer\n",
        "\n",
        "\n",
        "import warnings\n",
        "warnings.filterwarnings(action='ignore')"
      ]
    },
    {
      "cell_type": "code",
      "execution_count": 2,
      "metadata": {
        "colab": {
          "base_uri": "https://localhost:8080/",
          "height": 35
        },
        "id": "-mVOfHFMxbLF",
        "outputId": "ce3773dd-b1d3-4283-edb6-46966b8b9a2e"
      },
      "outputs": [
        {
          "data": {
            "text/plain": [
              "'c:\\\\Users\\\\aryij\\\\Documents\\\\DataStudy\\\\weather-contest'"
            ]
          },
          "execution_count": 2,
          "metadata": {},
          "output_type": "execute_result"
        }
      ],
      "source": [
        "os.getcwd()"
      ]
    },
    {
      "cell_type": "code",
      "execution_count": 3,
      "metadata": {
        "id": "0-Z9SknuxbI6"
      },
      "outputs": [],
      "source": [
        "def get_colab_path(train_dataset_name, test_dataset_name):\n",
        "\n",
        "    fog_folder = \"drive/MyDrive/weather_bigdata/fog_data\"\n",
        "    os.makedirs(fog_folder, exist_ok=True)\n",
        "\n",
        "    # train/test 데이터셋 경로 잡아준다\n",
        "    train_path = os.path.join(os.getcwd(), fog_folder, train_dataset_name)\n",
        "    test_path = os.path.join(os.getcwd(), fog_folder, test_dataset_name)\n",
        "\n",
        "    return train_path, test_path"
      ]
    },
    {
      "cell_type": "code",
      "execution_count": 4,
      "metadata": {
        "id": "kf2y6ZIJ2Lto"
      },
      "outputs": [],
      "source": [
        "def get_local_path(train_dataset_name, test_dataset_name):\n",
        "\n",
        "    # 작업 디렉토리 origin_dir에 선언\n",
        "    origin_dir = os.getcwd()\n",
        "\n",
        "    # \"..\" : 상위 디렉토리로 이동\n",
        "    os.chdir(\"..\")\n",
        "\n",
        "    # 상위 디렉토리에 fog_data가 없다면 fog_data 폴더 생성\n",
        "    # (이미 폴더 있어도 exist_ok=True면 넘어감)\n",
        "    os.makedirs(\"fog_data\", exist_ok=True)\n",
        "\n",
        "    # train/test 데이터셋 경로 잡아준다\n",
        "    train_path = os.path.join(os.getcwd(), \"fog_data\", train_dataset_name)\n",
        "    test_path = os.path.join(os.getcwd(), \"fog_data\", test_dataset_name)\n",
        "\n",
        "    # 운영체제가 윈도우일 경우, \"\\\\\"를 \"/\"로 바꿔줘야 한다\n",
        "    if os.name == \"nt\":\n",
        "        train_path = train_path.replace(\"\\\\\", \"/\")\n",
        "        test_path = test_path.replace(\"\\\\\", \"/\")\n",
        "\n",
        "    # origin_dir로 경로 다시 변경 (초기화)\n",
        "    os.chdir(origin_dir)\n",
        "\n",
        "    return train_path, test_path"
      ]
    },
    {
      "cell_type": "code",
      "execution_count": 5,
      "metadata": {
        "id": "n9x6KZht2Lq9"
      },
      "outputs": [],
      "source": [
        "# train_path, test_path = get_colab_path(\"fog_train_mod.csv\", \"fog_test_mod.csv\")\n",
        "train_path, test_path = get_local_path(\"fog_train_mod.csv\", \"fog_test_mod.csv\")"
      ]
    },
    {
      "cell_type": "code",
      "execution_count": 6,
      "metadata": {
        "id": "Jpec8aVGeWda"
      },
      "outputs": [],
      "source": [
        "train_df = pd.read_csv(train_path)\n",
        "test_df = pd.read_csv(test_path)"
      ]
    },
    {
      "cell_type": "code",
      "execution_count": 7,
      "metadata": {
        "colab": {
          "base_uri": "https://localhost:8080/",
          "height": 173
        },
        "id": "bFtxO569ex7i",
        "outputId": "9af45f3d-2166-4232-ecb7-b96210abafe7"
      },
      "outputs": [
        {
          "data": {
            "text/html": [
              "<div>\n",
              "<style scoped>\n",
              "    .dataframe tbody tr th:only-of-type {\n",
              "        vertical-align: middle;\n",
              "    }\n",
              "\n",
              "    .dataframe tbody tr th {\n",
              "        vertical-align: top;\n",
              "    }\n",
              "\n",
              "    .dataframe thead th {\n",
              "        text-align: right;\n",
              "    }\n",
              "</style>\n",
              "<table border=\"1\" class=\"dataframe\">\n",
              "  <thead>\n",
              "    <tr style=\"text-align: right;\">\n",
              "      <th></th>\n",
              "      <th>year</th>\n",
              "      <th>month</th>\n",
              "      <th>day</th>\n",
              "      <th>time</th>\n",
              "      <th>minute</th>\n",
              "      <th>stn_id</th>\n",
              "      <th>ws10_deg</th>\n",
              "      <th>ws10_ms</th>\n",
              "      <th>ta</th>\n",
              "      <th>re</th>\n",
              "      <th>...</th>\n",
              "      <th>ts</th>\n",
              "      <th>vis1</th>\n",
              "      <th>class</th>\n",
              "      <th>is_fog</th>\n",
              "      <th>ws10_dir</th>\n",
              "      <th>season</th>\n",
              "      <th>dew_point</th>\n",
              "      <th>t-td</th>\n",
              "      <th>t-sst</th>\n",
              "      <th>dew_reached</th>\n",
              "    </tr>\n",
              "  </thead>\n",
              "  <tbody>\n",
              "    <tr>\n",
              "      <th>0</th>\n",
              "      <td>I</td>\n",
              "      <td>1</td>\n",
              "      <td>1</td>\n",
              "      <td>0</td>\n",
              "      <td>10</td>\n",
              "      <td>A</td>\n",
              "      <td>0.0</td>\n",
              "      <td>0.0</td>\n",
              "      <td>-6.4</td>\n",
              "      <td>0.0</td>\n",
              "      <td>...</td>\n",
              "      <td>-2.8</td>\n",
              "      <td>20000.0</td>\n",
              "      <td>4</td>\n",
              "      <td>0</td>\n",
              "      <td>N</td>\n",
              "      <td>winter</td>\n",
              "      <td>-17.680941</td>\n",
              "      <td>11.280941</td>\n",
              "      <td>14.880941</td>\n",
              "      <td>0</td>\n",
              "    </tr>\n",
              "    <tr>\n",
              "      <th>1</th>\n",
              "      <td>I</td>\n",
              "      <td>1</td>\n",
              "      <td>1</td>\n",
              "      <td>0</td>\n",
              "      <td>20</td>\n",
              "      <td>A</td>\n",
              "      <td>0.0</td>\n",
              "      <td>0.0</td>\n",
              "      <td>-6.3</td>\n",
              "      <td>0.0</td>\n",
              "      <td>...</td>\n",
              "      <td>-2.7</td>\n",
              "      <td>20000.0</td>\n",
              "      <td>4</td>\n",
              "      <td>0</td>\n",
              "      <td>N</td>\n",
              "      <td>winter</td>\n",
              "      <td>-17.886195</td>\n",
              "      <td>11.586195</td>\n",
              "      <td>15.186195</td>\n",
              "      <td>0</td>\n",
              "    </tr>\n",
              "    <tr>\n",
              "      <th>2</th>\n",
              "      <td>I</td>\n",
              "      <td>1</td>\n",
              "      <td>1</td>\n",
              "      <td>0</td>\n",
              "      <td>30</td>\n",
              "      <td>A</td>\n",
              "      <td>0.0</td>\n",
              "      <td>0.0</td>\n",
              "      <td>-6.3</td>\n",
              "      <td>0.0</td>\n",
              "      <td>...</td>\n",
              "      <td>-2.6</td>\n",
              "      <td>20000.0</td>\n",
              "      <td>4</td>\n",
              "      <td>0</td>\n",
              "      <td>N</td>\n",
              "      <td>winter</td>\n",
              "      <td>-17.273211</td>\n",
              "      <td>10.973211</td>\n",
              "      <td>14.673211</td>\n",
              "      <td>0</td>\n",
              "    </tr>\n",
              "  </tbody>\n",
              "</table>\n",
              "<p>3 rows × 22 columns</p>\n",
              "</div>"
            ],
            "text/plain": [
              "  year  month  day  time  minute stn_id  ws10_deg  ws10_ms   ta   re  ...  \\\n",
              "0    I      1    1     0      10      A       0.0      0.0 -6.4  0.0  ...   \n",
              "1    I      1    1     0      20      A       0.0      0.0 -6.3  0.0  ...   \n",
              "2    I      1    1     0      30      A       0.0      0.0 -6.3  0.0  ...   \n",
              "\n",
              "    ts     vis1  class  is_fog  ws10_dir  season  dew_point       t-td  \\\n",
              "0 -2.8  20000.0      4       0         N  winter -17.680941  11.280941   \n",
              "1 -2.7  20000.0      4       0         N  winter -17.886195  11.586195   \n",
              "2 -2.6  20000.0      4       0         N  winter -17.273211  10.973211   \n",
              "\n",
              "       t-sst  dew_reached  \n",
              "0  14.880941            0  \n",
              "1  15.186195            0  \n",
              "2  14.673211            0  \n",
              "\n",
              "[3 rows x 22 columns]"
            ]
          },
          "execution_count": 7,
          "metadata": {},
          "output_type": "execute_result"
        }
      ],
      "source": [
        "train_df.head(3)"
      ]
    },
    {
      "cell_type": "code",
      "execution_count": 8,
      "metadata": {
        "colab": {
          "base_uri": "https://localhost:8080/",
          "height": 143
        },
        "id": "nCol4LCMe0iL",
        "outputId": "dd14883f-d90b-41fd-bd4f-5649baed6f4b"
      },
      "outputs": [
        {
          "data": {
            "text/html": [
              "<div>\n",
              "<style scoped>\n",
              "    .dataframe tbody tr th:only-of-type {\n",
              "        vertical-align: middle;\n",
              "    }\n",
              "\n",
              "    .dataframe tbody tr th {\n",
              "        vertical-align: top;\n",
              "    }\n",
              "\n",
              "    .dataframe thead th {\n",
              "        text-align: right;\n",
              "    }\n",
              "</style>\n",
              "<table border=\"1\" class=\"dataframe\">\n",
              "  <thead>\n",
              "    <tr style=\"text-align: right;\">\n",
              "      <th></th>\n",
              "      <th>year</th>\n",
              "      <th>month</th>\n",
              "      <th>day</th>\n",
              "      <th>time</th>\n",
              "      <th>minute</th>\n",
              "      <th>stn_id</th>\n",
              "      <th>ws10_deg</th>\n",
              "      <th>ws10_ms</th>\n",
              "      <th>ta</th>\n",
              "      <th>re</th>\n",
              "      <th>hm</th>\n",
              "      <th>sun10</th>\n",
              "      <th>ts</th>\n",
              "      <th>class</th>\n",
              "    </tr>\n",
              "  </thead>\n",
              "  <tbody>\n",
              "    <tr>\n",
              "      <th>0</th>\n",
              "      <td>L</td>\n",
              "      <td>1</td>\n",
              "      <td>1</td>\n",
              "      <td>0</td>\n",
              "      <td>0</td>\n",
              "      <td>AI</td>\n",
              "      <td>329.5</td>\n",
              "      <td>0.6</td>\n",
              "      <td>-2.5</td>\n",
              "      <td>0.0</td>\n",
              "      <td>87.5</td>\n",
              "      <td>0.0</td>\n",
              "      <td>-1.6</td>\n",
              "      <td>NaN</td>\n",
              "    </tr>\n",
              "    <tr>\n",
              "      <th>1</th>\n",
              "      <td>L</td>\n",
              "      <td>1</td>\n",
              "      <td>1</td>\n",
              "      <td>0</td>\n",
              "      <td>10</td>\n",
              "      <td>AI</td>\n",
              "      <td>321.8</td>\n",
              "      <td>1.2</td>\n",
              "      <td>-2.5</td>\n",
              "      <td>0.0</td>\n",
              "      <td>88.2</td>\n",
              "      <td>0.0</td>\n",
              "      <td>-1.6</td>\n",
              "      <td>NaN</td>\n",
              "    </tr>\n",
              "    <tr>\n",
              "      <th>2</th>\n",
              "      <td>L</td>\n",
              "      <td>1</td>\n",
              "      <td>1</td>\n",
              "      <td>0</td>\n",
              "      <td>20</td>\n",
              "      <td>AI</td>\n",
              "      <td>0.4</td>\n",
              "      <td>0.4</td>\n",
              "      <td>-2.5</td>\n",
              "      <td>0.0</td>\n",
              "      <td>88.6</td>\n",
              "      <td>0.0</td>\n",
              "      <td>-1.7</td>\n",
              "      <td>NaN</td>\n",
              "    </tr>\n",
              "  </tbody>\n",
              "</table>\n",
              "</div>"
            ],
            "text/plain": [
              "  year  month  day  time  minute stn_id  ws10_deg  ws10_ms   ta   re    hm  \\\n",
              "0    L      1    1     0       0     AI     329.5      0.6 -2.5  0.0  87.5   \n",
              "1    L      1    1     0      10     AI     321.8      1.2 -2.5  0.0  88.2   \n",
              "2    L      1    1     0      20     AI       0.4      0.4 -2.5  0.0  88.6   \n",
              "\n",
              "   sun10   ts  class  \n",
              "0    0.0 -1.6    NaN  \n",
              "1    0.0 -1.6    NaN  \n",
              "2    0.0 -1.7    NaN  "
            ]
          },
          "execution_count": 8,
          "metadata": {},
          "output_type": "execute_result"
        }
      ],
      "source": [
        "test_df.head(3)"
      ]
    },
    {
      "cell_type": "code",
      "execution_count": 9,
      "metadata": {
        "id": "cuU1Mf4Oe_dz"
      },
      "outputs": [],
      "source": [
        "# 상관관계 높은 컬럼 리스트\n",
        "high_corr = [\"dew_point\", \"t-td\", \"t-sst\", \"ts\"]"
      ]
    },
    {
      "cell_type": "code",
      "execution_count": 10,
      "metadata": {
        "id": "NgZD6tuFfM5Y"
      },
      "outputs": [],
      "source": [
        "# 상관관계 높은 컬럼 삭제\n",
        "train_df = train_df.drop(high_corr, axis=1)"
      ]
    },
    {
      "cell_type": "code",
      "execution_count": 11,
      "metadata": {
        "id": "mRj_vRo2gJoN"
      },
      "outputs": [],
      "source": [
        "# 월 데이터 담은 컬럼도 삭제\n",
        "date_cols = [\"year\", \"month\", \"day\", \"time\", \"minute\"]\n",
        "train_df = train_df.drop(date_cols, axis=1)"
      ]
    },
    {
      "cell_type": "code",
      "execution_count": 12,
      "metadata": {
        "id": "Kmr7pnBQjMHg"
      },
      "outputs": [],
      "source": [
        "# 방위, vis1 담은 컬럼도 삭제\n",
        "train_df = train_df.drop([\"ws10_deg\", \"vis1\", \"is_fog\"], axis=1)"
      ]
    },
    {
      "cell_type": "markdown",
      "metadata": {
        "id": "NsxbNOB8ZLim"
      },
      "source": [
        "## 모델링"
      ]
    },
    {
      "cell_type": "markdown",
      "metadata": {
        "id": "fDU7owOtZLim"
      },
      "source": [
        "### 데이터 분리"
      ]
    },
    {
      "cell_type": "markdown",
      "metadata": {
        "id": "VCJOd-ijZLim"
      },
      "source": [
        "#### Train, Validation 데이터 분리"
      ]
    },
    {
      "cell_type": "code",
      "execution_count": 13,
      "metadata": {
        "id": "9aUfwE7oZLim"
      },
      "outputs": [],
      "source": [
        "# Target 컬럼 : class\n",
        "target = \"class\"\n",
        "\n",
        "# train_df의 컬럼들 중 target (class) 제외한 컬럼들 features에 선언\n",
        "features = train_df.drop(columns=[target]).columns"
      ]
    },
    {
      "cell_type": "code",
      "execution_count": 14,
      "metadata": {
        "id": "0Xl_MdXjZLin"
      },
      "outputs": [],
      "source": [
        "# validation 데이터셋 생성\n",
        "# stratify=train_df[target] : validation 데이터의 분류 target 비율을 train 데이터와 같게 맞춰준다\n",
        "train, val = train_test_split(train_df, train_size=0.75, random_state=42, stratify=train_df[target])"
      ]
    },
    {
      "cell_type": "code",
      "execution_count": 15,
      "metadata": {
        "colab": {
          "base_uri": "https://localhost:8080/"
        },
        "id": "V3M6xMCDZLin",
        "outputId": "c2eeaa70-d0ef-4ced-97a8-9df7b7ec4824"
      },
      "outputs": [
        {
          "data": {
            "text/plain": [
              "((2246137, 10), (748713, 10))"
            ]
          },
          "execution_count": 15,
          "metadata": {},
          "output_type": "execute_result"
        }
      ],
      "source": [
        "# train, validation 데이터셋 shape 확인\n",
        "train.shape, val.shape"
      ]
    },
    {
      "cell_type": "code",
      "execution_count": 16,
      "metadata": {
        "colab": {
          "base_uri": "https://localhost:8080/"
        },
        "id": "TT1N5C8PZLin",
        "outputId": "369e8d9b-4246-4c7f-9204-8367134c02c0"
      },
      "outputs": [
        {
          "data": {
            "text/plain": [
              "class\n",
              "4    0.989408\n",
              "2    0.003998\n",
              "3    0.003987\n",
              "1    0.002607\n",
              "Name: proportion, dtype: float64"
            ]
          },
          "execution_count": 16,
          "metadata": {},
          "output_type": "execute_result"
        }
      ],
      "source": [
        "train[target].value_counts(normalize=True)"
      ]
    },
    {
      "cell_type": "code",
      "execution_count": 17,
      "metadata": {
        "colab": {
          "base_uri": "https://localhost:8080/"
        },
        "id": "rl0dRmDjZLin",
        "outputId": "74e257dd-436d-47ea-89cd-9a5dd74b2301"
      },
      "outputs": [
        {
          "data": {
            "text/plain": [
              "class\n",
              "4    0.989408\n",
              "2    0.003999\n",
              "3    0.003987\n",
              "1    0.002606\n",
              "Name: proportion, dtype: float64"
            ]
          },
          "execution_count": 17,
          "metadata": {},
          "output_type": "execute_result"
        }
      ],
      "source": [
        "val[target].value_counts(normalize=True)"
      ]
    },
    {
      "cell_type": "markdown",
      "metadata": {
        "id": "tMuAy3uKZLin"
      },
      "source": [
        "### 인코딩"
      ]
    },
    {
      "cell_type": "markdown",
      "metadata": {
        "id": "_ND8HoQWZLio"
      },
      "source": [
        "#### Label Encoding"
      ]
    },
    {
      "cell_type": "code",
      "execution_count": 18,
      "metadata": {
        "id": "2Yt3jkmbZLio"
      },
      "outputs": [],
      "source": [
        "# stn_id를 각각 1 ~ 5로 정한 딕셔너리 생성\n",
        "stn_id_map = {\"A\" : 1,\n",
        "              \"B\" : 2,\n",
        "              \"C\" : 3,\n",
        "              \"D\" : 4,\n",
        "              \"E\" : 5}"
      ]
    },
    {
      "cell_type": "code",
      "execution_count": 19,
      "metadata": {
        "id": "dRUktHVgguZN"
      },
      "outputs": [],
      "source": [
        "season_map = {\"spring\" : 1,\n",
        "              \"summer\" : 2,\n",
        "              \"autumn\" : 3,\n",
        "              \"winter\" : 4}"
      ]
    },
    {
      "cell_type": "code",
      "execution_count": 20,
      "metadata": {
        "id": "9BxnlFivjgLn"
      },
      "outputs": [],
      "source": [
        "ws10_dir_map = {\"N\" : 1,\n",
        "           \"NE\" : 2,\n",
        "           \"E\" : 3,\n",
        "           \"SE\" : 4,\n",
        "           \"S\" :5,\n",
        "           \"SW\" : 6,\n",
        "           \"W\" : 7,\n",
        "           \"NW\" : 8}"
      ]
    },
    {
      "cell_type": "code",
      "execution_count": 21,
      "metadata": {
        "id": "yDwL54yjZLio"
      },
      "outputs": [],
      "source": [
        "# Label Encoding 적용을 위해 train, val, test 데이터 copy()\n",
        "train_labeled = train.copy()\n",
        "val_labeled = val.copy()\n",
        "test_labeled = test_df.copy()"
      ]
    },
    {
      "cell_type": "code",
      "execution_count": 22,
      "metadata": {
        "id": "wQ5ncN7hZLio"
      },
      "outputs": [],
      "source": [
        "# stn_id_map을 바탕으로 stn_id 컬럼 mapping\n",
        "train_labeled[\"stn_id\"] = train_labeled[\"stn_id\"].map(stn_id_map)\n",
        "val_labeled[\"stn_id\"] = val_labeled[\"stn_id\"].map(stn_id_map)\n",
        "test_labeled[\"stn_id\"] = test_labeled[\"stn_id\"].map(stn_id_map)"
      ]
    },
    {
      "cell_type": "code",
      "execution_count": 23,
      "metadata": {
        "colab": {
          "base_uri": "https://localhost:8080/",
          "height": 424
        },
        "id": "602BVW_khi45",
        "outputId": "d6af63d5-5fef-441f-cd31-1dab2a96064b"
      },
      "outputs": [
        {
          "data": {
            "text/html": [
              "<div>\n",
              "<style scoped>\n",
              "    .dataframe tbody tr th:only-of-type {\n",
              "        vertical-align: middle;\n",
              "    }\n",
              "\n",
              "    .dataframe tbody tr th {\n",
              "        vertical-align: top;\n",
              "    }\n",
              "\n",
              "    .dataframe thead th {\n",
              "        text-align: right;\n",
              "    }\n",
              "</style>\n",
              "<table border=\"1\" class=\"dataframe\">\n",
              "  <thead>\n",
              "    <tr style=\"text-align: right;\">\n",
              "      <th></th>\n",
              "      <th>stn_id</th>\n",
              "      <th>ws10_ms</th>\n",
              "      <th>ta</th>\n",
              "      <th>re</th>\n",
              "      <th>hm</th>\n",
              "      <th>sun10</th>\n",
              "      <th>class</th>\n",
              "      <th>ws10_dir</th>\n",
              "      <th>season</th>\n",
              "      <th>dew_reached</th>\n",
              "    </tr>\n",
              "  </thead>\n",
              "  <tbody>\n",
              "    <tr>\n",
              "      <th>1542855</th>\n",
              "      <td>2</td>\n",
              "      <td>1.1</td>\n",
              "      <td>27.5</td>\n",
              "      <td>0.0</td>\n",
              "      <td>79.8</td>\n",
              "      <td>0.00</td>\n",
              "      <td>4</td>\n",
              "      <td>SE</td>\n",
              "      <td>summer</td>\n",
              "      <td>0</td>\n",
              "    </tr>\n",
              "    <tr>\n",
              "      <th>2801577</th>\n",
              "      <td>4</td>\n",
              "      <td>3.2</td>\n",
              "      <td>6.8</td>\n",
              "      <td>0.0</td>\n",
              "      <td>81.2</td>\n",
              "      <td>0.00</td>\n",
              "      <td>4</td>\n",
              "      <td>N</td>\n",
              "      <td>spring</td>\n",
              "      <td>0</td>\n",
              "    </tr>\n",
              "    <tr>\n",
              "      <th>1217538</th>\n",
              "      <td>1</td>\n",
              "      <td>1.3</td>\n",
              "      <td>-3.8</td>\n",
              "      <td>0.0</td>\n",
              "      <td>83.3</td>\n",
              "      <td>0.00</td>\n",
              "      <td>4</td>\n",
              "      <td>N</td>\n",
              "      <td>winter</td>\n",
              "      <td>0</td>\n",
              "    </tr>\n",
              "    <tr>\n",
              "      <th>2730986</th>\n",
              "      <td>4</td>\n",
              "      <td>3.4</td>\n",
              "      <td>12.8</td>\n",
              "      <td>0.0</td>\n",
              "      <td>35.0</td>\n",
              "      <td>0.16</td>\n",
              "      <td>4</td>\n",
              "      <td>W</td>\n",
              "      <td>autumn</td>\n",
              "      <td>0</td>\n",
              "    </tr>\n",
              "    <tr>\n",
              "      <th>1208</th>\n",
              "      <td>1</td>\n",
              "      <td>3.6</td>\n",
              "      <td>-1.5</td>\n",
              "      <td>0.0</td>\n",
              "      <td>62.8</td>\n",
              "      <td>0.19</td>\n",
              "      <td>4</td>\n",
              "      <td>NW</td>\n",
              "      <td>winter</td>\n",
              "      <td>0</td>\n",
              "    </tr>\n",
              "    <tr>\n",
              "      <th>...</th>\n",
              "      <td>...</td>\n",
              "      <td>...</td>\n",
              "      <td>...</td>\n",
              "      <td>...</td>\n",
              "      <td>...</td>\n",
              "      <td>...</td>\n",
              "      <td>...</td>\n",
              "      <td>...</td>\n",
              "      <td>...</td>\n",
              "      <td>...</td>\n",
              "    </tr>\n",
              "    <tr>\n",
              "      <th>2920168</th>\n",
              "      <td>5</td>\n",
              "      <td>1.3</td>\n",
              "      <td>25.1</td>\n",
              "      <td>0.0</td>\n",
              "      <td>83.8</td>\n",
              "      <td>0.05</td>\n",
              "      <td>4</td>\n",
              "      <td>SW</td>\n",
              "      <td>summer</td>\n",
              "      <td>0</td>\n",
              "    </tr>\n",
              "    <tr>\n",
              "      <th>2260247</th>\n",
              "      <td>1</td>\n",
              "      <td>1.7</td>\n",
              "      <td>17.9</td>\n",
              "      <td>0.0</td>\n",
              "      <td>49.1</td>\n",
              "      <td>0.00</td>\n",
              "      <td>4</td>\n",
              "      <td>NW</td>\n",
              "      <td>autumn</td>\n",
              "      <td>0</td>\n",
              "    </tr>\n",
              "    <tr>\n",
              "      <th>1459946</th>\n",
              "      <td>2</td>\n",
              "      <td>1.7</td>\n",
              "      <td>21.2</td>\n",
              "      <td>0.0</td>\n",
              "      <td>60.1</td>\n",
              "      <td>0.23</td>\n",
              "      <td>4</td>\n",
              "      <td>N</td>\n",
              "      <td>autumn</td>\n",
              "      <td>0</td>\n",
              "    </tr>\n",
              "    <tr>\n",
              "      <th>1152528</th>\n",
              "      <td>1</td>\n",
              "      <td>2.1</td>\n",
              "      <td>23.5</td>\n",
              "      <td>0.0</td>\n",
              "      <td>74.7</td>\n",
              "      <td>0.00</td>\n",
              "      <td>4</td>\n",
              "      <td>SE</td>\n",
              "      <td>summer</td>\n",
              "      <td>0</td>\n",
              "    </tr>\n",
              "    <tr>\n",
              "      <th>2287094</th>\n",
              "      <td>1</td>\n",
              "      <td>0.9</td>\n",
              "      <td>14.8</td>\n",
              "      <td>0.0</td>\n",
              "      <td>82.9</td>\n",
              "      <td>0.01</td>\n",
              "      <td>4</td>\n",
              "      <td>SW</td>\n",
              "      <td>spring</td>\n",
              "      <td>0</td>\n",
              "    </tr>\n",
              "  </tbody>\n",
              "</table>\n",
              "<p>2246137 rows × 10 columns</p>\n",
              "</div>"
            ],
            "text/plain": [
              "         stn_id  ws10_ms    ta   re    hm  sun10  class ws10_dir  season  \\\n",
              "1542855       2      1.1  27.5  0.0  79.8   0.00      4       SE  summer   \n",
              "2801577       4      3.2   6.8  0.0  81.2   0.00      4        N  spring   \n",
              "1217538       1      1.3  -3.8  0.0  83.3   0.00      4        N  winter   \n",
              "2730986       4      3.4  12.8  0.0  35.0   0.16      4        W  autumn   \n",
              "1208          1      3.6  -1.5  0.0  62.8   0.19      4       NW  winter   \n",
              "...         ...      ...   ...  ...   ...    ...    ...      ...     ...   \n",
              "2920168       5      1.3  25.1  0.0  83.8   0.05      4       SW  summer   \n",
              "2260247       1      1.7  17.9  0.0  49.1   0.00      4       NW  autumn   \n",
              "1459946       2      1.7  21.2  0.0  60.1   0.23      4        N  autumn   \n",
              "1152528       1      2.1  23.5  0.0  74.7   0.00      4       SE  summer   \n",
              "2287094       1      0.9  14.8  0.0  82.9   0.01      4       SW  spring   \n",
              "\n",
              "         dew_reached  \n",
              "1542855            0  \n",
              "2801577            0  \n",
              "1217538            0  \n",
              "2730986            0  \n",
              "1208               0  \n",
              "...              ...  \n",
              "2920168            0  \n",
              "2260247            0  \n",
              "1459946            0  \n",
              "1152528            0  \n",
              "2287094            0  \n",
              "\n",
              "[2246137 rows x 10 columns]"
            ]
          },
          "execution_count": 23,
          "metadata": {},
          "output_type": "execute_result"
        }
      ],
      "source": [
        "train_labeled"
      ]
    },
    {
      "cell_type": "code",
      "execution_count": 24,
      "metadata": {
        "id": "jtYnN97djxBs"
      },
      "outputs": [],
      "source": [
        "# season_map을 바탕으로 stn_id 컬럼 mapping\n",
        "train_labeled[\"season\"] = train_labeled[\"season\"].map(season_map)\n",
        "val_labeled[\"season\"] = val_labeled[\"season\"].map(season_map)\n",
        "# test_labeled[\"season\"] = test_labeled[\"season\"].map(season_map)"
      ]
    },
    {
      "cell_type": "code",
      "execution_count": 25,
      "metadata": {
        "id": "bcMaRxt2kCLr"
      },
      "outputs": [],
      "source": [
        "# ws10_dir_map을 바탕으로 stn_id 컬럼 mapping\n",
        "train_labeled[\"ws10_dir\"] = train_labeled[\"ws10_dir\"].map(ws10_dir_map)\n",
        "val_labeled[\"ws10_dir\"] = val_labeled[\"ws10_dir\"].map(ws10_dir_map)\n",
        "# test_labeled[\"ws10_dir\"] = test_labeled[\"ws10_dir\"].map(ws10_dir_map)"
      ]
    },
    {
      "cell_type": "code",
      "execution_count": 26,
      "metadata": {
        "colab": {
          "base_uri": "https://localhost:8080/",
          "height": 143
        },
        "id": "uDSLbkpsZLio",
        "outputId": "27cdf9f8-9861-4951-8127-7bd7fb1b3545"
      },
      "outputs": [
        {
          "data": {
            "text/html": [
              "<div>\n",
              "<style scoped>\n",
              "    .dataframe tbody tr th:only-of-type {\n",
              "        vertical-align: middle;\n",
              "    }\n",
              "\n",
              "    .dataframe tbody tr th {\n",
              "        vertical-align: top;\n",
              "    }\n",
              "\n",
              "    .dataframe thead th {\n",
              "        text-align: right;\n",
              "    }\n",
              "</style>\n",
              "<table border=\"1\" class=\"dataframe\">\n",
              "  <thead>\n",
              "    <tr style=\"text-align: right;\">\n",
              "      <th></th>\n",
              "      <th>stn_id</th>\n",
              "      <th>ws10_ms</th>\n",
              "      <th>ta</th>\n",
              "      <th>re</th>\n",
              "      <th>hm</th>\n",
              "      <th>sun10</th>\n",
              "      <th>class</th>\n",
              "      <th>ws10_dir</th>\n",
              "      <th>season</th>\n",
              "      <th>dew_reached</th>\n",
              "    </tr>\n",
              "  </thead>\n",
              "  <tbody>\n",
              "    <tr>\n",
              "      <th>1542855</th>\n",
              "      <td>2</td>\n",
              "      <td>1.1</td>\n",
              "      <td>27.5</td>\n",
              "      <td>0.0</td>\n",
              "      <td>79.8</td>\n",
              "      <td>0.0</td>\n",
              "      <td>4</td>\n",
              "      <td>4</td>\n",
              "      <td>2</td>\n",
              "      <td>0</td>\n",
              "    </tr>\n",
              "    <tr>\n",
              "      <th>2801577</th>\n",
              "      <td>4</td>\n",
              "      <td>3.2</td>\n",
              "      <td>6.8</td>\n",
              "      <td>0.0</td>\n",
              "      <td>81.2</td>\n",
              "      <td>0.0</td>\n",
              "      <td>4</td>\n",
              "      <td>1</td>\n",
              "      <td>1</td>\n",
              "      <td>0</td>\n",
              "    </tr>\n",
              "    <tr>\n",
              "      <th>1217538</th>\n",
              "      <td>1</td>\n",
              "      <td>1.3</td>\n",
              "      <td>-3.8</td>\n",
              "      <td>0.0</td>\n",
              "      <td>83.3</td>\n",
              "      <td>0.0</td>\n",
              "      <td>4</td>\n",
              "      <td>1</td>\n",
              "      <td>4</td>\n",
              "      <td>0</td>\n",
              "    </tr>\n",
              "  </tbody>\n",
              "</table>\n",
              "</div>"
            ],
            "text/plain": [
              "         stn_id  ws10_ms    ta   re    hm  sun10  class  ws10_dir  season  \\\n",
              "1542855       2      1.1  27.5  0.0  79.8    0.0      4         4       2   \n",
              "2801577       4      3.2   6.8  0.0  81.2    0.0      4         1       1   \n",
              "1217538       1      1.3  -3.8  0.0  83.3    0.0      4         1       4   \n",
              "\n",
              "         dew_reached  \n",
              "1542855            0  \n",
              "2801577            0  \n",
              "1217538            0  "
            ]
          },
          "execution_count": 26,
          "metadata": {},
          "output_type": "execute_result"
        }
      ],
      "source": [
        "train_labeled.head(3)"
      ]
    },
    {
      "cell_type": "code",
      "execution_count": 27,
      "metadata": {
        "colab": {
          "base_uri": "https://localhost:8080/",
          "height": 143
        },
        "id": "hLTHJxdNZLio",
        "outputId": "cf273120-5f03-456c-b1e2-9cdea2217fd2"
      },
      "outputs": [
        {
          "data": {
            "text/html": [
              "<div>\n",
              "<style scoped>\n",
              "    .dataframe tbody tr th:only-of-type {\n",
              "        vertical-align: middle;\n",
              "    }\n",
              "\n",
              "    .dataframe tbody tr th {\n",
              "        vertical-align: top;\n",
              "    }\n",
              "\n",
              "    .dataframe thead th {\n",
              "        text-align: right;\n",
              "    }\n",
              "</style>\n",
              "<table border=\"1\" class=\"dataframe\">\n",
              "  <thead>\n",
              "    <tr style=\"text-align: right;\">\n",
              "      <th></th>\n",
              "      <th>stn_id</th>\n",
              "      <th>ws10_ms</th>\n",
              "      <th>ta</th>\n",
              "      <th>re</th>\n",
              "      <th>hm</th>\n",
              "      <th>sun10</th>\n",
              "      <th>class</th>\n",
              "      <th>ws10_dir</th>\n",
              "      <th>season</th>\n",
              "      <th>dew_reached</th>\n",
              "    </tr>\n",
              "  </thead>\n",
              "  <tbody>\n",
              "    <tr>\n",
              "      <th>1551862</th>\n",
              "      <td>2</td>\n",
              "      <td>2.5</td>\n",
              "      <td>20.7</td>\n",
              "      <td>0.0</td>\n",
              "      <td>60.8</td>\n",
              "      <td>0.00</td>\n",
              "      <td>4</td>\n",
              "      <td>3</td>\n",
              "      <td>3</td>\n",
              "      <td>0</td>\n",
              "    </tr>\n",
              "    <tr>\n",
              "      <th>2971059</th>\n",
              "      <td>5</td>\n",
              "      <td>6.2</td>\n",
              "      <td>29.1</td>\n",
              "      <td>0.0</td>\n",
              "      <td>59.8</td>\n",
              "      <td>0.24</td>\n",
              "      <td>4</td>\n",
              "      <td>7</td>\n",
              "      <td>2</td>\n",
              "      <td>0</td>\n",
              "    </tr>\n",
              "    <tr>\n",
              "      <th>234559</th>\n",
              "      <td>1</td>\n",
              "      <td>2.6</td>\n",
              "      <td>29.9</td>\n",
              "      <td>0.0</td>\n",
              "      <td>73.9</td>\n",
              "      <td>0.06</td>\n",
              "      <td>4</td>\n",
              "      <td>7</td>\n",
              "      <td>2</td>\n",
              "      <td>0</td>\n",
              "    </tr>\n",
              "  </tbody>\n",
              "</table>\n",
              "</div>"
            ],
            "text/plain": [
              "         stn_id  ws10_ms    ta   re    hm  sun10  class  ws10_dir  season  \\\n",
              "1551862       2      2.5  20.7  0.0  60.8   0.00      4         3       3   \n",
              "2971059       5      6.2  29.1  0.0  59.8   0.24      4         7       2   \n",
              "234559        1      2.6  29.9  0.0  73.9   0.06      4         7       2   \n",
              "\n",
              "         dew_reached  \n",
              "1551862            0  \n",
              "2971059            0  \n",
              "234559             0  "
            ]
          },
          "execution_count": 27,
          "metadata": {},
          "output_type": "execute_result"
        }
      ],
      "source": [
        "val_labeled.head(3)"
      ]
    },
    {
      "cell_type": "code",
      "execution_count": 28,
      "metadata": {
        "colab": {
          "base_uri": "https://localhost:8080/",
          "height": 143
        },
        "id": "Q3cbPDgCZLio",
        "outputId": "a6587ed6-6ee2-4582-97ba-3f02b2f56bb7"
      },
      "outputs": [
        {
          "data": {
            "text/html": [
              "<div>\n",
              "<style scoped>\n",
              "    .dataframe tbody tr th:only-of-type {\n",
              "        vertical-align: middle;\n",
              "    }\n",
              "\n",
              "    .dataframe tbody tr th {\n",
              "        vertical-align: top;\n",
              "    }\n",
              "\n",
              "    .dataframe thead th {\n",
              "        text-align: right;\n",
              "    }\n",
              "</style>\n",
              "<table border=\"1\" class=\"dataframe\">\n",
              "  <thead>\n",
              "    <tr style=\"text-align: right;\">\n",
              "      <th></th>\n",
              "      <th>year</th>\n",
              "      <th>month</th>\n",
              "      <th>day</th>\n",
              "      <th>time</th>\n",
              "      <th>minute</th>\n",
              "      <th>stn_id</th>\n",
              "      <th>ws10_deg</th>\n",
              "      <th>ws10_ms</th>\n",
              "      <th>ta</th>\n",
              "      <th>re</th>\n",
              "      <th>hm</th>\n",
              "      <th>sun10</th>\n",
              "      <th>ts</th>\n",
              "      <th>class</th>\n",
              "    </tr>\n",
              "  </thead>\n",
              "  <tbody>\n",
              "    <tr>\n",
              "      <th>0</th>\n",
              "      <td>L</td>\n",
              "      <td>1</td>\n",
              "      <td>1</td>\n",
              "      <td>0</td>\n",
              "      <td>0</td>\n",
              "      <td>NaN</td>\n",
              "      <td>329.5</td>\n",
              "      <td>0.6</td>\n",
              "      <td>-2.5</td>\n",
              "      <td>0.0</td>\n",
              "      <td>87.5</td>\n",
              "      <td>0.0</td>\n",
              "      <td>-1.6</td>\n",
              "      <td>NaN</td>\n",
              "    </tr>\n",
              "    <tr>\n",
              "      <th>1</th>\n",
              "      <td>L</td>\n",
              "      <td>1</td>\n",
              "      <td>1</td>\n",
              "      <td>0</td>\n",
              "      <td>10</td>\n",
              "      <td>NaN</td>\n",
              "      <td>321.8</td>\n",
              "      <td>1.2</td>\n",
              "      <td>-2.5</td>\n",
              "      <td>0.0</td>\n",
              "      <td>88.2</td>\n",
              "      <td>0.0</td>\n",
              "      <td>-1.6</td>\n",
              "      <td>NaN</td>\n",
              "    </tr>\n",
              "    <tr>\n",
              "      <th>2</th>\n",
              "      <td>L</td>\n",
              "      <td>1</td>\n",
              "      <td>1</td>\n",
              "      <td>0</td>\n",
              "      <td>20</td>\n",
              "      <td>NaN</td>\n",
              "      <td>0.4</td>\n",
              "      <td>0.4</td>\n",
              "      <td>-2.5</td>\n",
              "      <td>0.0</td>\n",
              "      <td>88.6</td>\n",
              "      <td>0.0</td>\n",
              "      <td>-1.7</td>\n",
              "      <td>NaN</td>\n",
              "    </tr>\n",
              "  </tbody>\n",
              "</table>\n",
              "</div>"
            ],
            "text/plain": [
              "  year  month  day  time  minute  stn_id  ws10_deg  ws10_ms   ta   re    hm  \\\n",
              "0    L      1    1     0       0     NaN     329.5      0.6 -2.5  0.0  87.5   \n",
              "1    L      1    1     0      10     NaN     321.8      1.2 -2.5  0.0  88.2   \n",
              "2    L      1    1     0      20     NaN       0.4      0.4 -2.5  0.0  88.6   \n",
              "\n",
              "   sun10   ts  class  \n",
              "0    0.0 -1.6    NaN  \n",
              "1    0.0 -1.6    NaN  \n",
              "2    0.0 -1.7    NaN  "
            ]
          },
          "execution_count": 28,
          "metadata": {},
          "output_type": "execute_result"
        }
      ],
      "source": [
        "test_labeled.head(3)"
      ]
    },
    {
      "cell_type": "markdown",
      "metadata": {
        "id": "MBH_s21wZLip"
      },
      "source": [
        "#### X, y 데이터 분리"
      ]
    },
    {
      "cell_type": "code",
      "execution_count": 29,
      "metadata": {
        "id": "wxOsF2k0ZLip"
      },
      "outputs": [],
      "source": [
        "# train, validation, test 데이터 나눠준다\n",
        "X_train_labeled = train_labeled[features]\n",
        "y_train_labeled = train_labeled[target]\n",
        "\n",
        "# validation 데이터 나눠준다\n",
        "X_val_labeled = val_labeled[features]\n",
        "y_val_labeled = val_labeled[target]\n",
        "\n",
        "# test 데이터 나눠준다 (class 제거)\n",
        "# X_test_labeled = test_labeled[features]"
      ]
    },
    {
      "cell_type": "code",
      "execution_count": 30,
      "metadata": {
        "colab": {
          "base_uri": "https://localhost:8080/"
        },
        "id": "S1Zs0T1lZLip",
        "outputId": "c860848b-f3af-4ea0-fad7-8d98e4040606"
      },
      "outputs": [
        {
          "data": {
            "text/plain": [
              "((2246137, 9), (2246137,), (748713, 9), (748713,))"
            ]
          },
          "execution_count": 30,
          "metadata": {},
          "output_type": "execute_result"
        }
      ],
      "source": [
        "X_train_labeled.shape, y_train_labeled.shape, X_val_labeled.shape, y_val_labeled.shape"
      ]
    },
    {
      "cell_type": "markdown",
      "metadata": {
        "id": "QY9xWY5LZLip"
      },
      "source": [
        "### Baseline 모델 생성"
      ]
    },
    {
      "cell_type": "code",
      "execution_count": 31,
      "metadata": {
        "colab": {
          "base_uri": "https://localhost:8080/",
          "height": 75
        },
        "id": "UiosmMYMZLip",
        "outputId": "ca59599b-bda0-4577-efde-05488b9816ac"
      },
      "outputs": [
        {
          "data": {
            "text/html": [
              "<style>#sk-container-id-1 {\n",
              "  /* Definition of color scheme common for light and dark mode */\n",
              "  --sklearn-color-text: black;\n",
              "  --sklearn-color-line: gray;\n",
              "  /* Definition of color scheme for unfitted estimators */\n",
              "  --sklearn-color-unfitted-level-0: #fff5e6;\n",
              "  --sklearn-color-unfitted-level-1: #f6e4d2;\n",
              "  --sklearn-color-unfitted-level-2: #ffe0b3;\n",
              "  --sklearn-color-unfitted-level-3: chocolate;\n",
              "  /* Definition of color scheme for fitted estimators */\n",
              "  --sklearn-color-fitted-level-0: #f0f8ff;\n",
              "  --sklearn-color-fitted-level-1: #d4ebff;\n",
              "  --sklearn-color-fitted-level-2: #b3dbfd;\n",
              "  --sklearn-color-fitted-level-3: cornflowerblue;\n",
              "\n",
              "  /* Specific color for light theme */\n",
              "  --sklearn-color-text-on-default-background: var(--sg-text-color, var(--theme-code-foreground, var(--jp-content-font-color1, black)));\n",
              "  --sklearn-color-background: var(--sg-background-color, var(--theme-background, var(--jp-layout-color0, white)));\n",
              "  --sklearn-color-border-box: var(--sg-text-color, var(--theme-code-foreground, var(--jp-content-font-color1, black)));\n",
              "  --sklearn-color-icon: #696969;\n",
              "\n",
              "  @media (prefers-color-scheme: dark) {\n",
              "    /* Redefinition of color scheme for dark theme */\n",
              "    --sklearn-color-text-on-default-background: var(--sg-text-color, var(--theme-code-foreground, var(--jp-content-font-color1, white)));\n",
              "    --sklearn-color-background: var(--sg-background-color, var(--theme-background, var(--jp-layout-color0, #111)));\n",
              "    --sklearn-color-border-box: var(--sg-text-color, var(--theme-code-foreground, var(--jp-content-font-color1, white)));\n",
              "    --sklearn-color-icon: #878787;\n",
              "  }\n",
              "}\n",
              "\n",
              "#sk-container-id-1 {\n",
              "  color: var(--sklearn-color-text);\n",
              "}\n",
              "\n",
              "#sk-container-id-1 pre {\n",
              "  padding: 0;\n",
              "}\n",
              "\n",
              "#sk-container-id-1 input.sk-hidden--visually {\n",
              "  border: 0;\n",
              "  clip: rect(1px 1px 1px 1px);\n",
              "  clip: rect(1px, 1px, 1px, 1px);\n",
              "  height: 1px;\n",
              "  margin: -1px;\n",
              "  overflow: hidden;\n",
              "  padding: 0;\n",
              "  position: absolute;\n",
              "  width: 1px;\n",
              "}\n",
              "\n",
              "#sk-container-id-1 div.sk-dashed-wrapped {\n",
              "  border: 1px dashed var(--sklearn-color-line);\n",
              "  margin: 0 0.4em 0.5em 0.4em;\n",
              "  box-sizing: border-box;\n",
              "  padding-bottom: 0.4em;\n",
              "  background-color: var(--sklearn-color-background);\n",
              "}\n",
              "\n",
              "#sk-container-id-1 div.sk-container {\n",
              "  /* jupyter's `normalize.less` sets `[hidden] { display: none; }`\n",
              "     but bootstrap.min.css set `[hidden] { display: none !important; }`\n",
              "     so we also need the `!important` here to be able to override the\n",
              "     default hidden behavior on the sphinx rendered scikit-learn.org.\n",
              "     See: https://github.com/scikit-learn/scikit-learn/issues/21755 */\n",
              "  display: inline-block !important;\n",
              "  position: relative;\n",
              "}\n",
              "\n",
              "#sk-container-id-1 div.sk-text-repr-fallback {\n",
              "  display: none;\n",
              "}\n",
              "\n",
              "div.sk-parallel-item,\n",
              "div.sk-serial,\n",
              "div.sk-item {\n",
              "  /* draw centered vertical line to link estimators */\n",
              "  background-image: linear-gradient(var(--sklearn-color-text-on-default-background), var(--sklearn-color-text-on-default-background));\n",
              "  background-size: 2px 100%;\n",
              "  background-repeat: no-repeat;\n",
              "  background-position: center center;\n",
              "}\n",
              "\n",
              "/* Parallel-specific style estimator block */\n",
              "\n",
              "#sk-container-id-1 div.sk-parallel-item::after {\n",
              "  content: \"\";\n",
              "  width: 100%;\n",
              "  border-bottom: 2px solid var(--sklearn-color-text-on-default-background);\n",
              "  flex-grow: 1;\n",
              "}\n",
              "\n",
              "#sk-container-id-1 div.sk-parallel {\n",
              "  display: flex;\n",
              "  align-items: stretch;\n",
              "  justify-content: center;\n",
              "  background-color: var(--sklearn-color-background);\n",
              "  position: relative;\n",
              "}\n",
              "\n",
              "#sk-container-id-1 div.sk-parallel-item {\n",
              "  display: flex;\n",
              "  flex-direction: column;\n",
              "}\n",
              "\n",
              "#sk-container-id-1 div.sk-parallel-item:first-child::after {\n",
              "  align-self: flex-end;\n",
              "  width: 50%;\n",
              "}\n",
              "\n",
              "#sk-container-id-1 div.sk-parallel-item:last-child::after {\n",
              "  align-self: flex-start;\n",
              "  width: 50%;\n",
              "}\n",
              "\n",
              "#sk-container-id-1 div.sk-parallel-item:only-child::after {\n",
              "  width: 0;\n",
              "}\n",
              "\n",
              "/* Serial-specific style estimator block */\n",
              "\n",
              "#sk-container-id-1 div.sk-serial {\n",
              "  display: flex;\n",
              "  flex-direction: column;\n",
              "  align-items: center;\n",
              "  background-color: var(--sklearn-color-background);\n",
              "  padding-right: 1em;\n",
              "  padding-left: 1em;\n",
              "}\n",
              "\n",
              "\n",
              "/* Toggleable style: style used for estimator/Pipeline/ColumnTransformer box that is\n",
              "clickable and can be expanded/collapsed.\n",
              "- Pipeline and ColumnTransformer use this feature and define the default style\n",
              "- Estimators will overwrite some part of the style using the `sk-estimator` class\n",
              "*/\n",
              "\n",
              "/* Pipeline and ColumnTransformer style (default) */\n",
              "\n",
              "#sk-container-id-1 div.sk-toggleable {\n",
              "  /* Default theme specific background. It is overwritten whether we have a\n",
              "  specific estimator or a Pipeline/ColumnTransformer */\n",
              "  background-color: var(--sklearn-color-background);\n",
              "}\n",
              "\n",
              "/* Toggleable label */\n",
              "#sk-container-id-1 label.sk-toggleable__label {\n",
              "  cursor: pointer;\n",
              "  display: block;\n",
              "  width: 100%;\n",
              "  margin-bottom: 0;\n",
              "  padding: 0.5em;\n",
              "  box-sizing: border-box;\n",
              "  text-align: center;\n",
              "}\n",
              "\n",
              "#sk-container-id-1 label.sk-toggleable__label-arrow:before {\n",
              "  /* Arrow on the left of the label */\n",
              "  content: \"▸\";\n",
              "  float: left;\n",
              "  margin-right: 0.25em;\n",
              "  color: var(--sklearn-color-icon);\n",
              "}\n",
              "\n",
              "#sk-container-id-1 label.sk-toggleable__label-arrow:hover:before {\n",
              "  color: var(--sklearn-color-text);\n",
              "}\n",
              "\n",
              "/* Toggleable content - dropdown */\n",
              "\n",
              "#sk-container-id-1 div.sk-toggleable__content {\n",
              "  max-height: 0;\n",
              "  max-width: 0;\n",
              "  overflow: hidden;\n",
              "  text-align: left;\n",
              "  /* unfitted */\n",
              "  background-color: var(--sklearn-color-unfitted-level-0);\n",
              "}\n",
              "\n",
              "#sk-container-id-1 div.sk-toggleable__content.fitted {\n",
              "  /* fitted */\n",
              "  background-color: var(--sklearn-color-fitted-level-0);\n",
              "}\n",
              "\n",
              "#sk-container-id-1 div.sk-toggleable__content pre {\n",
              "  margin: 0.2em;\n",
              "  border-radius: 0.25em;\n",
              "  color: var(--sklearn-color-text);\n",
              "  /* unfitted */\n",
              "  background-color: var(--sklearn-color-unfitted-level-0);\n",
              "}\n",
              "\n",
              "#sk-container-id-1 div.sk-toggleable__content.fitted pre {\n",
              "  /* unfitted */\n",
              "  background-color: var(--sklearn-color-fitted-level-0);\n",
              "}\n",
              "\n",
              "#sk-container-id-1 input.sk-toggleable__control:checked~div.sk-toggleable__content {\n",
              "  /* Expand drop-down */\n",
              "  max-height: 200px;\n",
              "  max-width: 100%;\n",
              "  overflow: auto;\n",
              "}\n",
              "\n",
              "#sk-container-id-1 input.sk-toggleable__control:checked~label.sk-toggleable__label-arrow:before {\n",
              "  content: \"▾\";\n",
              "}\n",
              "\n",
              "/* Pipeline/ColumnTransformer-specific style */\n",
              "\n",
              "#sk-container-id-1 div.sk-label input.sk-toggleable__control:checked~label.sk-toggleable__label {\n",
              "  color: var(--sklearn-color-text);\n",
              "  background-color: var(--sklearn-color-unfitted-level-2);\n",
              "}\n",
              "\n",
              "#sk-container-id-1 div.sk-label.fitted input.sk-toggleable__control:checked~label.sk-toggleable__label {\n",
              "  background-color: var(--sklearn-color-fitted-level-2);\n",
              "}\n",
              "\n",
              "/* Estimator-specific style */\n",
              "\n",
              "/* Colorize estimator box */\n",
              "#sk-container-id-1 div.sk-estimator input.sk-toggleable__control:checked~label.sk-toggleable__label {\n",
              "  /* unfitted */\n",
              "  background-color: var(--sklearn-color-unfitted-level-2);\n",
              "}\n",
              "\n",
              "#sk-container-id-1 div.sk-estimator.fitted input.sk-toggleable__control:checked~label.sk-toggleable__label {\n",
              "  /* fitted */\n",
              "  background-color: var(--sklearn-color-fitted-level-2);\n",
              "}\n",
              "\n",
              "#sk-container-id-1 div.sk-label label.sk-toggleable__label,\n",
              "#sk-container-id-1 div.sk-label label {\n",
              "  /* The background is the default theme color */\n",
              "  color: var(--sklearn-color-text-on-default-background);\n",
              "}\n",
              "\n",
              "/* On hover, darken the color of the background */\n",
              "#sk-container-id-1 div.sk-label:hover label.sk-toggleable__label {\n",
              "  color: var(--sklearn-color-text);\n",
              "  background-color: var(--sklearn-color-unfitted-level-2);\n",
              "}\n",
              "\n",
              "/* Label box, darken color on hover, fitted */\n",
              "#sk-container-id-1 div.sk-label.fitted:hover label.sk-toggleable__label.fitted {\n",
              "  color: var(--sklearn-color-text);\n",
              "  background-color: var(--sklearn-color-fitted-level-2);\n",
              "}\n",
              "\n",
              "/* Estimator label */\n",
              "\n",
              "#sk-container-id-1 div.sk-label label {\n",
              "  font-family: monospace;\n",
              "  font-weight: bold;\n",
              "  display: inline-block;\n",
              "  line-height: 1.2em;\n",
              "}\n",
              "\n",
              "#sk-container-id-1 div.sk-label-container {\n",
              "  text-align: center;\n",
              "}\n",
              "\n",
              "/* Estimator-specific */\n",
              "#sk-container-id-1 div.sk-estimator {\n",
              "  font-family: monospace;\n",
              "  border: 1px dotted var(--sklearn-color-border-box);\n",
              "  border-radius: 0.25em;\n",
              "  box-sizing: border-box;\n",
              "  margin-bottom: 0.5em;\n",
              "  /* unfitted */\n",
              "  background-color: var(--sklearn-color-unfitted-level-0);\n",
              "}\n",
              "\n",
              "#sk-container-id-1 div.sk-estimator.fitted {\n",
              "  /* fitted */\n",
              "  background-color: var(--sklearn-color-fitted-level-0);\n",
              "}\n",
              "\n",
              "/* on hover */\n",
              "#sk-container-id-1 div.sk-estimator:hover {\n",
              "  /* unfitted */\n",
              "  background-color: var(--sklearn-color-unfitted-level-2);\n",
              "}\n",
              "\n",
              "#sk-container-id-1 div.sk-estimator.fitted:hover {\n",
              "  /* fitted */\n",
              "  background-color: var(--sklearn-color-fitted-level-2);\n",
              "}\n",
              "\n",
              "/* Specification for estimator info (e.g. \"i\" and \"?\") */\n",
              "\n",
              "/* Common style for \"i\" and \"?\" */\n",
              "\n",
              ".sk-estimator-doc-link,\n",
              "a:link.sk-estimator-doc-link,\n",
              "a:visited.sk-estimator-doc-link {\n",
              "  float: right;\n",
              "  font-size: smaller;\n",
              "  line-height: 1em;\n",
              "  font-family: monospace;\n",
              "  background-color: var(--sklearn-color-background);\n",
              "  border-radius: 1em;\n",
              "  height: 1em;\n",
              "  width: 1em;\n",
              "  text-decoration: none !important;\n",
              "  margin-left: 1ex;\n",
              "  /* unfitted */\n",
              "  border: var(--sklearn-color-unfitted-level-1) 1pt solid;\n",
              "  color: var(--sklearn-color-unfitted-level-1);\n",
              "}\n",
              "\n",
              ".sk-estimator-doc-link.fitted,\n",
              "a:link.sk-estimator-doc-link.fitted,\n",
              "a:visited.sk-estimator-doc-link.fitted {\n",
              "  /* fitted */\n",
              "  border: var(--sklearn-color-fitted-level-1) 1pt solid;\n",
              "  color: var(--sklearn-color-fitted-level-1);\n",
              "}\n",
              "\n",
              "/* On hover */\n",
              "div.sk-estimator:hover .sk-estimator-doc-link:hover,\n",
              ".sk-estimator-doc-link:hover,\n",
              "div.sk-label-container:hover .sk-estimator-doc-link:hover,\n",
              ".sk-estimator-doc-link:hover {\n",
              "  /* unfitted */\n",
              "  background-color: var(--sklearn-color-unfitted-level-3);\n",
              "  color: var(--sklearn-color-background);\n",
              "  text-decoration: none;\n",
              "}\n",
              "\n",
              "div.sk-estimator.fitted:hover .sk-estimator-doc-link.fitted:hover,\n",
              ".sk-estimator-doc-link.fitted:hover,\n",
              "div.sk-label-container:hover .sk-estimator-doc-link.fitted:hover,\n",
              ".sk-estimator-doc-link.fitted:hover {\n",
              "  /* fitted */\n",
              "  background-color: var(--sklearn-color-fitted-level-3);\n",
              "  color: var(--sklearn-color-background);\n",
              "  text-decoration: none;\n",
              "}\n",
              "\n",
              "/* Span, style for the box shown on hovering the info icon */\n",
              ".sk-estimator-doc-link span {\n",
              "  display: none;\n",
              "  z-index: 9999;\n",
              "  position: relative;\n",
              "  font-weight: normal;\n",
              "  right: .2ex;\n",
              "  padding: .5ex;\n",
              "  margin: .5ex;\n",
              "  width: min-content;\n",
              "  min-width: 20ex;\n",
              "  max-width: 50ex;\n",
              "  color: var(--sklearn-color-text);\n",
              "  box-shadow: 2pt 2pt 4pt #999;\n",
              "  /* unfitted */\n",
              "  background: var(--sklearn-color-unfitted-level-0);\n",
              "  border: .5pt solid var(--sklearn-color-unfitted-level-3);\n",
              "}\n",
              "\n",
              ".sk-estimator-doc-link.fitted span {\n",
              "  /* fitted */\n",
              "  background: var(--sklearn-color-fitted-level-0);\n",
              "  border: var(--sklearn-color-fitted-level-3);\n",
              "}\n",
              "\n",
              ".sk-estimator-doc-link:hover span {\n",
              "  display: block;\n",
              "}\n",
              "\n",
              "/* \"?\"-specific style due to the `<a>` HTML tag */\n",
              "\n",
              "#sk-container-id-1 a.estimator_doc_link {\n",
              "  float: right;\n",
              "  font-size: 1rem;\n",
              "  line-height: 1em;\n",
              "  font-family: monospace;\n",
              "  background-color: var(--sklearn-color-background);\n",
              "  border-radius: 1rem;\n",
              "  height: 1rem;\n",
              "  width: 1rem;\n",
              "  text-decoration: none;\n",
              "  /* unfitted */\n",
              "  color: var(--sklearn-color-unfitted-level-1);\n",
              "  border: var(--sklearn-color-unfitted-level-1) 1pt solid;\n",
              "}\n",
              "\n",
              "#sk-container-id-1 a.estimator_doc_link.fitted {\n",
              "  /* fitted */\n",
              "  border: var(--sklearn-color-fitted-level-1) 1pt solid;\n",
              "  color: var(--sklearn-color-fitted-level-1);\n",
              "}\n",
              "\n",
              "/* On hover */\n",
              "#sk-container-id-1 a.estimator_doc_link:hover {\n",
              "  /* unfitted */\n",
              "  background-color: var(--sklearn-color-unfitted-level-3);\n",
              "  color: var(--sklearn-color-background);\n",
              "  text-decoration: none;\n",
              "}\n",
              "\n",
              "#sk-container-id-1 a.estimator_doc_link.fitted:hover {\n",
              "  /* fitted */\n",
              "  background-color: var(--sklearn-color-fitted-level-3);\n",
              "}\n",
              "</style><div id=\"sk-container-id-1\" class=\"sk-top-container\"><div class=\"sk-text-repr-fallback\"><pre>DecisionTreeClassifier(random_state=42)</pre><b>In a Jupyter environment, please rerun this cell to show the HTML representation or trust the notebook. <br />On GitHub, the HTML representation is unable to render, please try loading this page with nbviewer.org.</b></div><div class=\"sk-container\" hidden><div class=\"sk-item\"><div class=\"sk-estimator fitted sk-toggleable\"><input class=\"sk-toggleable__control sk-hidden--visually\" id=\"sk-estimator-id-1\" type=\"checkbox\" checked><label for=\"sk-estimator-id-1\" class=\"sk-toggleable__label fitted sk-toggleable__label-arrow fitted\">&nbsp;&nbsp;DecisionTreeClassifier<a class=\"sk-estimator-doc-link fitted\" rel=\"noreferrer\" target=\"_blank\" href=\"https://scikit-learn.org/1.4/modules/generated/sklearn.tree.DecisionTreeClassifier.html\">?<span>Documentation for DecisionTreeClassifier</span></a><span class=\"sk-estimator-doc-link fitted\">i<span>Fitted</span></span></label><div class=\"sk-toggleable__content fitted\"><pre>DecisionTreeClassifier(random_state=42)</pre></div> </div></div></div></div>"
            ],
            "text/plain": [
              "DecisionTreeClassifier(random_state=42)"
            ]
          },
          "execution_count": 31,
          "metadata": {},
          "output_type": "execute_result"
        }
      ],
      "source": [
        "# 의사결정나무 모델로 Baseline 모델 생성\n",
        "dt = DecisionTreeClassifier(random_state=42)\n",
        "dt.fit(X_train_labeled, y_train_labeled)"
      ]
    },
    {
      "cell_type": "code",
      "execution_count": 32,
      "metadata": {
        "id": "8d9K2n4aZLip"
      },
      "outputs": [],
      "source": [
        "y_val_pred = dt.predict(X_val_labeled)\n",
        "# accuracy_score(y_val_labeled, y_val_pred)"
      ]
    },
    {
      "cell_type": "markdown",
      "metadata": {
        "id": "ERJdWNRvt0VF"
      },
      "source": [
        "### CSI 지수 생성"
      ]
    },
    {
      "cell_type": "code",
      "execution_count": 33,
      "metadata": {
        "id": "IPBmsoTvZLiq"
      },
      "outputs": [],
      "source": [
        "# CSI 지수 함수 생성\n",
        "def csi_index(y_true, y_pred):\n",
        "\n",
        "    model_cm = confusion_matrix(y_true, y_pred)\n",
        "\n",
        "    H = (model_cm[0][0] + model_cm[1][1] + model_cm[2][2])\n",
        "    F = (model_cm[0][1] + model_cm[0][2] +\n",
        "            model_cm[1][0] + model_cm[1][2] +\n",
        "            model_cm[2][0] + model_cm[2][1] +\n",
        "            model_cm[3][0] + model_cm[3][1] + model_cm[3][2])\n",
        "    M = (model_cm[0][3] + model_cm[1][3] + model_cm[2][3])\n",
        "\n",
        "    model_csi = H / (H + F + M)\n",
        "\n",
        "    return model_csi\n",
        "\n",
        "csi_scorer = make_scorer(csi_index, greater_is_better=True)"
      ]
    },
    {
      "cell_type": "code",
      "execution_count": 34,
      "metadata": {
        "id": "FaDtNZf6ZLiq"
      },
      "outputs": [],
      "source": [
        "def model_comparison(models, X_train, y_train, X_val, y_val, when=\"Before\"):\n",
        "    models_results = []\n",
        "\n",
        "    for model_name, model in models:\n",
        "\n",
        "        # 모델 생성 및 훈련\n",
        "        # 트리 기반 모델들은 각 변수의 information gain을 기반으로 판단하기 때문에 굳이 스케일링 해줄 필요가 없다\n",
        "\n",
        "        model.fit(X_train, y_train)\n",
        "\n",
        "        y_train_pred = model.predict(X_train)\n",
        "        y_val_pred = model.predict(X_val)\n",
        "\n",
        "        # 모델의 Accuracy, Precision, Recall, F1 score 확인\n",
        "        accuracy = accuracy_score(y_val, y_val_pred)\n",
        "        precision = precision_score(y_val, y_val_pred, average=\"weighted\")\n",
        "        recall = recall_score(y_val, y_val_pred, average=\"weighted\")\n",
        "        f1_score_ = f1_score(y_val, y_val_pred, average=\"weighted\")\n",
        "        csi_index_ = csi_index(y_val, y_val_pred)\n",
        "        # rootMeanSqLogErr = get_rmsle(y_val, y_val_pred)\n",
        "\n",
        "        # 결과를 리스트에 저장\n",
        "        models_results.append({\"Model\" : model_name,\n",
        "                               \"Accuracy\" : np.round(accuracy, 4),\n",
        "                               \"Precision\" : np.round(precision, 4),\n",
        "                               \"Recall\" : np.round(recall, 4),\n",
        "                               \"F1 Score\" : np.round(f1_score_, 4),\n",
        "                               \"CSI Index\" : np.round(csi_index_, 4)\n",
        "                               # \"Accuracy\" : '{:.2f}'.format(accuracy),\n",
        "                               # \"Precision\" : '{:.2f}'.format(precision),\n",
        "                               # \"Recall\" : '{:.2f}'.format(recall),\n",
        "                               # \"F1 Score\" : '{:.2f}'.format(f1_score_),\n",
        "                               # \"R2 Score\" : '{:.2f}'.format(model.score(X_val, y_val))\n",
        "                               })\n",
        "\n",
        "    # 결과 리스트를 DataFrame으로 변환\n",
        "    models_df = pd.DataFrame(models_results)\n",
        "\n",
        "    print(f\"\\n======== Models {when} Hyper Parameter Tuning ========\\n\")\n",
        "\n",
        "    # return models_df.sort_values(by=[\"RMSLE\", \"R2 Score\"], ascending=[True, False]).reset_index(drop=True)\n",
        "    return models_df.sort_values(by=[\"CSI Index\", \"Accuracy\", \"F1 Score\"],\n",
        "                                 ascending=[False, True, False]\n",
        "                                 ).reset_index(drop=True)\n"
      ]
    },
    {
      "cell_type": "code",
      "execution_count": 35,
      "metadata": {
        "id": "P_TGq96fZLiq"
      },
      "outputs": [],
      "source": [
        "# baseline_model = [(\"Decision Tree\", DecisionTreeClassifier(random_state=42))]\n",
        "# model_comparison(baseline_model, X_train_labeled, y_train_labeled, X_val_labeled, y_val_labeled)"
      ]
    },
    {
      "cell_type": "markdown",
      "metadata": {
        "id": "XIk2CKwhZLiq"
      },
      "source": [
        "### 하이퍼 파라미터 튜닝 전 모델 생성 (CatBoost, Naive Bayes)"
      ]
    },
    {
      "cell_type": "code",
      "execution_count": 36,
      "metadata": {
        "id": "qsqDZpPgZLir"
      },
      "outputs": [],
      "source": [
        "models = [\n",
        "    (\"Decision Tree\", DecisionTreeClassifier(random_state=42)),\n",
        "    (\"CatBoost\", CatBoostClassifier(loss_function='MultiClass', verbose=0, task_type=\"GPU\",random_state=42)),\n",
        "    # (\"Naive Bayes\", GaussianNB()),\n",
        "    # (\"Random Forest\", RandomForestClassifier(random_state=42))\n",
        "]"
      ]
    },
    {
      "cell_type": "code",
      "execution_count": 37,
      "metadata": {
        "colab": {
          "base_uri": "https://localhost:8080/",
          "height": 164
        },
        "id": "-jZq3gpPZLir",
        "outputId": "ae331ddb-8fe6-40b7-e426-633f3384539c"
      },
      "outputs": [
        {
          "name": "stdout",
          "output_type": "stream",
          "text": [
            "\n",
            "======== Models Before Hyper Parameter Tuning ========\n",
            "\n"
          ]
        },
        {
          "data": {
            "text/html": [
              "<div>\n",
              "<style scoped>\n",
              "    .dataframe tbody tr th:only-of-type {\n",
              "        vertical-align: middle;\n",
              "    }\n",
              "\n",
              "    .dataframe tbody tr th {\n",
              "        vertical-align: top;\n",
              "    }\n",
              "\n",
              "    .dataframe thead th {\n",
              "        text-align: right;\n",
              "    }\n",
              "</style>\n",
              "<table border=\"1\" class=\"dataframe\">\n",
              "  <thead>\n",
              "    <tr style=\"text-align: right;\">\n",
              "      <th></th>\n",
              "      <th>Model</th>\n",
              "      <th>Accuracy</th>\n",
              "      <th>Precision</th>\n",
              "      <th>Recall</th>\n",
              "      <th>F1 Score</th>\n",
              "      <th>CSI Index</th>\n",
              "    </tr>\n",
              "  </thead>\n",
              "  <tbody>\n",
              "    <tr>\n",
              "      <th>0</th>\n",
              "      <td>Decision Tree</td>\n",
              "      <td>0.9854</td>\n",
              "      <td>0.9864</td>\n",
              "      <td>0.9854</td>\n",
              "      <td>0.9859</td>\n",
              "      <td>0.1735</td>\n",
              "    </tr>\n",
              "    <tr>\n",
              "      <th>1</th>\n",
              "      <td>CatBoost</td>\n",
              "      <td>0.9900</td>\n",
              "      <td>0.9859</td>\n",
              "      <td>0.9900</td>\n",
              "      <td>0.9863</td>\n",
              "      <td>0.0927</td>\n",
              "    </tr>\n",
              "  </tbody>\n",
              "</table>\n",
              "</div>"
            ],
            "text/plain": [
              "           Model  Accuracy  Precision  Recall  F1 Score  CSI Index\n",
              "0  Decision Tree    0.9854     0.9864  0.9854    0.9859     0.1735\n",
              "1       CatBoost    0.9900     0.9859  0.9900    0.9863     0.0927"
            ]
          },
          "execution_count": 37,
          "metadata": {},
          "output_type": "execute_result"
        }
      ],
      "source": [
        "model_comparison(models, X_train_labeled, y_train_labeled, X_val_labeled, y_val_labeled)"
      ]
    },
    {
      "cell_type": "markdown",
      "metadata": {
        "id": "TGnuVLlmrRE7"
      },
      "source": [
        "## 하이퍼 파라미터 튜닝"
      ]
    },
    {
      "cell_type": "markdown",
      "metadata": {
        "id": "m5tWR70hG-XI"
      },
      "source": [
        "### CatBoost"
      ]
    },
    {
      "cell_type": "code",
      "execution_count": 38,
      "metadata": {
        "id": "AxsJL2gcrMn_"
      },
      "outputs": [],
      "source": [
        "# optuna sampling seed 고정\n",
        "sampler = TPESampler(seed=42)"
      ]
    },
    {
      "cell_type": "code",
      "execution_count": 40,
      "metadata": {
        "id": "L_T6g6VmrW9k"
      },
      "outputs": [],
      "source": [
        "# https://practicaldatascience.co.uk/machine-learning/how-to-tune-a-catboostclassifier-model-with-optuna\n",
        "# https://optuna.readthedocs.io/en/stable/tutorial/10_key_features/002_configurations.html#configurations\n",
        "# https://catboost.ai/en/docs/concepts/parameter-tuning#methods-for-hyperparameter-search-by-optuna\n",
        "\n",
        "def objective_cat(trial):\n",
        "    params = {\n",
        "        # \"loss_function\":'MultiClass',\n",
        "        \"iterations\": trial.suggest_int(\"iterations\", 100, 1000),\n",
        "        # \"iterations\" : trial.suggest_int('n_estimators', 500, 4000),\n",
        "        \"learning_rate\": trial.suggest_float(\"learning_rate\", 1e-3, 1e-1, log=True),\n",
        "        \"depth\": trial.suggest_int(\"depth\", 3, 10),\n",
        "        \"l2_leaf_reg\": trial.suggest_float(\"l2_leaf_reg\", 1e-8, 100.0, log=True),\n",
        "        \"bootstrap_type\": trial.suggest_categorical(\"bootstrap_type\", [\"Bayesian\", \"Poisson\"]),\n",
        "        \"random_strength\": trial.suggest_float(\"random_strength\", 1e-8, 10.0, log=True),\n",
        "        \"bagging_temperature\": trial.suggest_float(\"bagging_temperature\", 0.0, 1.0),\n",
        "        \"od_type\": trial.suggest_categorical(\"od_type\", [\"IncToDec\", \"Iter\"]),\n",
        "        \"od_wait\": trial.suggest_int(\"od_wait\", 10, 50),\n",
        "        # \"subsample\": trial.suggest_float(\"subsample\", 0.05, 1.0),\n",
        "        # \"colsample_bylevel\": trial.suggest_float(\"colsample_bylevel\", 0.05, 1.0),\n",
        "        \"min_data_in_leaf\": trial.suggest_int(\"min_data_in_leaf\", 1, 100),\n",
        "        # \"verbose\": False\n",
        "    }\n",
        "\n",
        "    model = CatBoostClassifier(**params,\n",
        "                               loss_function=\"MultiClass\",\n",
        "                               silent=True,\n",
        "                               task_type=\"GPU\",\n",
        "                               random_state=42)\n",
        "\n",
        "    model.fit(X_train_labeled, y_train_labeled)\n",
        "    predictions = model.predict(X_val_labeled)\n",
        "    csi = csi_index(y_val_labeled, predictions)\n",
        "\n",
        "    return csi"
      ]
    },
    {
      "cell_type": "code",
      "execution_count": 41,
      "metadata": {
        "colab": {
          "base_uri": "https://localhost:8080/"
        },
        "id": "9Kr6cI0BtrTE",
        "outputId": "4f980413-d7e0-4102-afd6-b4285d4062b8"
      },
      "outputs": [
        {
          "name": "stderr",
          "output_type": "stream",
          "text": [
            "[I 2024-06-18 19:24:34,862] A new study created in memory with name: catboost\n",
            "[I 2024-06-18 19:24:51,281] Trial 0 finished with value: 0.05268389662027833 and parameters: {'iterations': 437, 'learning_rate': 0.07969454818643935, 'depth': 8, 'l2_leaf_reg': 0.00969582664451522, 'bootstrap_type': 'Bayesian', 'random_strength': 3.3323645788192616e-08, 'bagging_temperature': 0.8661761457749352, 'od_type': 'Iter', 'od_wait': 10, 'min_data_in_leaf': 97}. Best is trial 0 with value: 0.05268389662027833.\n",
            "[I 2024-06-18 19:24:57,433] Trial 1 finished with value: 0.0 and parameters: {'iterations': 850, 'learning_rate': 0.0026587543983272706, 'depth': 4, 'l2_leaf_reg': 6.8240955406304e-07, 'bootstrap_type': 'Poisson', 'random_strength': 7.71800699380605e-05, 'bagging_temperature': 0.2912291401980419, 'od_type': 'IncToDec', 'od_wait': 21, 'min_data_in_leaf': 37}. Best is trial 0 with value: 0.05268389662027833.\n",
            "[I 2024-06-18 19:25:07,099] Trial 2 finished with value: 0.003582158539403744 and parameters: {'iterations': 510, 'learning_rate': 0.037183641805732096, 'depth': 4, 'l2_leaf_reg': 0.0013878559259972313, 'bootstrap_type': 'Bayesian', 'random_strength': 0.0029369981104377003, 'bagging_temperature': 0.17052412368729153, 'od_type': 'Iter', 'od_wait': 49, 'min_data_in_leaf': 81}. Best is trial 0 with value: 0.05268389662027833.\n",
            "[I 2024-06-18 19:25:11,105] Trial 3 finished with value: 0.0 and parameters: {'iterations': 374, 'learning_rate': 0.0015679933916723015, 'depth': 8, 'l2_leaf_reg': 0.0002520721916536751, 'bootstrap_type': 'Poisson', 'random_strength': 2.039373116525212e-08, 'bagging_temperature': 0.9093204020787821, 'od_type': 'Iter', 'od_wait': 22, 'min_data_in_leaf': 53}. Best is trial 0 with value: 0.05268389662027833.\n",
            "[I 2024-06-18 19:25:42,662] Trial 4 finished with value: 0.0015124779430299975 and parameters: {'iterations': 592, 'learning_rate': 0.0023426581058204046, 'depth': 10, 'l2_leaf_reg': 0.5640638061927871, 'bootstrap_type': 'Bayesian', 'random_strength': 0.002404915432737351, 'bagging_temperature': 0.9218742350231168, 'od_type': 'Iter', 'od_wait': 11, 'min_data_in_leaf': 33}. Best is trial 0 with value: 0.05268389662027833.\n",
            "[I 2024-06-18 19:25:46,483] Trial 5 finished with value: 0.0 and parameters: {'iterations': 450, 'learning_rate': 0.003488976654890368, 'depth': 9, 'l2_leaf_reg': 3.6943094166639305e-05, 'bootstrap_type': 'Poisson', 'random_strength': 1.8548894229694903e-07, 'bagging_temperature': 0.8021969807540397, 'od_type': 'Iter', 'od_wait': 41, 'min_data_in_leaf': 20}. Best is trial 0 with value: 0.05268389662027833.\n",
            "[I 2024-06-18 19:25:50,892] Trial 6 finished with value: 0.001890359168241966 and parameters: {'iterations': 104, 'learning_rate': 0.04274869455295218, 'depth': 8, 'l2_leaf_reg': 0.19501664486433953, 'bootstrap_type': 'Bayesian', 'random_strength': 1.683416412018213e-05, 'bagging_temperature': 0.11586905952512971, 'od_type': 'IncToDec', 'od_wait': 23, 'min_data_in_leaf': 7}. Best is trial 0 with value: 0.05268389662027833.\n",
            "[I 2024-06-18 19:26:03,861] Trial 7 finished with value: 0.0 and parameters: {'iterations': 380, 'learning_rate': 0.004470608546778492, 'depth': 8, 'l2_leaf_reg': 0.023745138854603057, 'bootstrap_type': 'Bayesian', 'random_strength': 1.1921975182604538e-07, 'bagging_temperature': 0.713244787222995, 'od_type': 'IncToDec', 'od_wait': 41, 'min_data_in_leaf': 50}. Best is trial 0 with value: 0.05268389662027833.\n",
            "[I 2024-06-18 19:26:08,731] Trial 8 finished with value: 0.0 and parameters: {'iterations': 570, 'learning_rate': 0.007162786999897343, 'depth': 3, 'l2_leaf_reg': 1.1992625444272377e-07, 'bootstrap_type': 'Poisson', 'random_strength': 6.748446817464346e-06, 'bagging_temperature': 0.5085706911647028, 'od_type': 'IncToDec', 'od_wait': 26, 'min_data_in_leaf': 76}. Best is trial 0 with value: 0.05268389662027833.\n",
            "[I 2024-06-18 19:26:16,235] Trial 9 finished with value: 0.02403732110381909 and parameters: {'iterations': 306, 'learning_rate': 0.0014254757044027432, 'depth': 5, 'l2_leaf_reg': 4.094613109347322e-07, 'bootstrap_type': 'Bayesian', 'random_strength': 0.005019191993687105, 'bagging_temperature': 0.8714605901877177, 'od_type': 'IncToDec', 'od_wait': 46, 'min_data_in_leaf': 54}. Best is trial 0 with value: 0.05268389662027833.\n",
            "[I 2024-06-18 19:26:36,012] Trial 10 finished with value: 0.02196285140562249 and parameters: {'iterations': 800, 'learning_rate': 0.07340472227986776, 'depth': 6, 'l2_leaf_reg': 21.033106415444113, 'bootstrap_type': 'Bayesian', 'random_strength': 1.4756493047283814, 'bagging_temperature': 0.6074415617554525, 'od_type': 'Iter', 'od_wait': 11, 'min_data_in_leaf': 100}. Best is trial 0 with value: 0.05268389662027833.\n",
            "[I 2024-06-18 19:26:41,913] Trial 11 finished with value: 0.023853519233999664 and parameters: {'iterations': 190, 'learning_rate': 0.016477491846875882, 'depth': 6, 'l2_leaf_reg': 6.8427459090495295e-06, 'bootstrap_type': 'Bayesian', 'random_strength': 0.11876075168707294, 'bagging_temperature': 0.9925090159361865, 'od_type': 'IncToDec', 'od_wait': 34, 'min_data_in_leaf': 77}. Best is trial 0 with value: 0.05268389662027833.\n",
            "[I 2024-06-18 19:26:47,900] Trial 12 finished with value: 0.0 and parameters: {'iterations': 250, 'learning_rate': 0.0010604908835920414, 'depth': 5, 'l2_leaf_reg': 0.004429237805889631, 'bootstrap_type': 'Bayesian', 'random_strength': 0.020541200045164146, 'bagging_temperature': 0.738439187197169, 'od_type': 'Iter', 'od_wait': 50, 'min_data_in_leaf': 100}. Best is trial 0 with value: 0.05268389662027833.\n",
            "[I 2024-06-18 19:27:13,895] Trial 13 finished with value: 0.03674894041386188 and parameters: {'iterations': 1000, 'learning_rate': 0.013479814725389807, 'depth': 7, 'l2_leaf_reg': 2.6034505302942695e-06, 'bootstrap_type': 'Bayesian', 'random_strength': 8.92098695270594, 'bagging_temperature': 0.3480365032313655, 'od_type': 'IncToDec', 'od_wait': 34, 'min_data_in_leaf': 62}. Best is trial 0 with value: 0.05268389662027833.\n",
            "[I 2024-06-18 19:27:42,365] Trial 14 finished with value: 0.05390060979883648 and parameters: {'iterations': 1000, 'learning_rate': 0.017547211877485116, 'depth': 7, 'l2_leaf_reg': 1.9426337848150213e-05, 'bootstrap_type': 'Bayesian', 'random_strength': 4.6545424486577875, 'bagging_temperature': 0.32157679030786457, 'od_type': 'IncToDec', 'od_wait': 32, 'min_data_in_leaf': 68}. Best is trial 14 with value: 0.05390060979883648.\n",
            "[I 2024-06-18 19:28:19,303] Trial 15 finished with value: 0.04363500745897563 and parameters: {'iterations': 727, 'learning_rate': 0.09096015328440264, 'depth': 10, 'l2_leaf_reg': 59.24676691373907, 'bootstrap_type': 'Bayesian', 'random_strength': 2.9878977504993343e-06, 'bagging_temperature': 0.0017334829790311979, 'od_type': 'Iter', 'od_wait': 16, 'min_data_in_leaf': 86}. Best is trial 14 with value: 0.05390060979883648.\n",
            "[I 2024-06-18 19:28:46,928] Trial 16 finished with value: 0.022873937767554788 and parameters: {'iterations': 992, 'learning_rate': 0.025965037677653797, 'depth': 7, 'l2_leaf_reg': 0.00016400763036021672, 'bootstrap_type': 'Bayesian', 'random_strength': 0.0002648976777559709, 'bagging_temperature': 0.41597725561227566, 'od_type': 'Iter', 'od_wait': 29, 'min_data_in_leaf': 66}. Best is trial 14 with value: 0.05390060979883648.\n",
            "[I 2024-06-18 19:29:15,437] Trial 17 finished with value: 0.06599110232328226 and parameters: {'iterations': 683, 'learning_rate': 0.054469069183485305, 'depth': 9, 'l2_leaf_reg': 0.047634816421452786, 'bootstrap_type': 'Bayesian', 'random_strength': 1.0081379912535343e-08, 'bagging_temperature': 0.5927901399137347, 'od_type': 'IncToDec', 'od_wait': 34, 'min_data_in_leaf': 93}. Best is trial 17 with value: 0.06599110232328226.\n",
            "[I 2024-06-18 19:29:20,826] Trial 18 finished with value: 0.0 and parameters: {'iterations': 670, 'learning_rate': 0.023066090533406556, 'depth': 9, 'l2_leaf_reg': 2.6199292009585087e-08, 'bootstrap_type': 'Poisson', 'random_strength': 0.22859138674847515, 'bagging_temperature': 0.5305969023526922, 'od_type': 'IncToDec', 'od_wait': 35, 'min_data_in_leaf': 87}. Best is trial 17 with value: 0.06599110232328226.\n",
            "[I 2024-06-18 19:29:56,792] Trial 19 finished with value: 0.006419939577039275 and parameters: {'iterations': 864, 'learning_rate': 0.007627138112823353, 'depth': 9, 'l2_leaf_reg': 0.7637261734984765, 'bootstrap_type': 'Bayesian', 'random_strength': 1.1554818302882552e-06, 'bagging_temperature': 0.6027989900406138, 'od_type': 'IncToDec', 'od_wait': 39, 'min_data_in_leaf': 70}. Best is trial 17 with value: 0.06599110232328226.\n",
            "[I 2024-06-18 19:30:19,928] Trial 20 finished with value: 0.03661127077345995 and parameters: {'iterations': 919, 'learning_rate': 0.04724017035737109, 'depth': 7, 'l2_leaf_reg': 0.048834898822475076, 'bootstrap_type': 'Bayesian', 'random_strength': 7.114137565786799, 'bagging_temperature': 0.26292670159546344, 'od_type': 'IncToDec', 'od_wait': 29, 'min_data_in_leaf': 88}. Best is trial 17 with value: 0.06599110232328226.\n",
            "[I 2024-06-18 19:30:42,418] Trial 21 finished with value: 0.05775188994918825 and parameters: {'iterations': 662, 'learning_rate': 0.0628961172180964, 'depth': 8, 'l2_leaf_reg': 0.007999153986580614, 'bootstrap_type': 'Bayesian', 'random_strength': 1.1368180138363114e-08, 'bagging_temperature': 0.4176569657882857, 'od_type': 'IncToDec', 'od_wait': 17, 'min_data_in_leaf': 95}. Best is trial 17 with value: 0.06599110232328226.\n",
            "[I 2024-06-18 19:31:08,927] Trial 22 finished with value: 0.023111877154497022 and parameters: {'iterations': 657, 'learning_rate': 0.05755094635217656, 'depth': 9, 'l2_leaf_reg': 2.9744302761307732e-05, 'bootstrap_type': 'Bayesian', 'random_strength': 7.389868251095584e-07, 'bagging_temperature': 0.44096576535125054, 'od_type': 'IncToDec', 'od_wait': 16, 'min_data_in_leaf': 89}. Best is trial 17 with value: 0.06599110232328226.\n",
            "[I 2024-06-18 19:31:48,773] Trial 23 finished with value: 0.039695418799151165 and parameters: {'iterations': 779, 'learning_rate': 0.02706862081445086, 'depth': 10, 'l2_leaf_reg': 5.453019124912345, 'bootstrap_type': 'Bayesian', 'random_strength': 1.1378409673310916e-08, 'bagging_temperature': 0.6174640923896435, 'od_type': 'IncToDec', 'od_wait': 37, 'min_data_in_leaf': 73}. Best is trial 17 with value: 0.06599110232328226.\n",
            "[I 2024-06-18 19:32:08,743] Trial 24 finished with value: 0.0030818278427205102 and parameters: {'iterations': 680, 'learning_rate': 0.014846387301286816, 'depth': 7, 'l2_leaf_reg': 0.0006877872533698744, 'bootstrap_type': 'Bayesian', 'random_strength': 2.0287402834735115e-07, 'bagging_temperature': 0.3875171977443399, 'od_type': 'IncToDec', 'od_wait': 31, 'min_data_in_leaf': 93}. Best is trial 17 with value: 0.06599110232328226.\n",
            "[I 2024-06-18 19:32:39,123] Trial 25 finished with value: 0.04527313544524819 and parameters: {'iterations': 904, 'learning_rate': 0.03489211782426656, 'depth': 8, 'l2_leaf_reg': 0.0638333842197013, 'bootstrap_type': 'Bayesian', 'random_strength': 5.3193623119894256e-05, 'bagging_temperature': 0.2670164569746867, 'od_type': 'IncToDec', 'od_wait': 26, 'min_data_in_leaf': 81}. Best is trial 17 with value: 0.06599110232328226.\n",
            "[I 2024-06-18 19:32:45,174] Trial 26 finished with value: 0.0 and parameters: {'iterations': 795, 'learning_rate': 0.06159459881278172, 'depth': 6, 'l2_leaf_reg': 2.068480626222267, 'bootstrap_type': 'Poisson', 'random_strength': 5.764931040539957e-08, 'bagging_temperature': 0.1746827522238307, 'od_type': 'IncToDec', 'od_wait': 17, 'min_data_in_leaf': 41}. Best is trial 17 with value: 0.06599110232328226.\n",
            "[I 2024-06-18 19:33:11,106] Trial 27 finished with value: 0.01465380388325803 and parameters: {'iterations': 614, 'learning_rate': 0.01989905501380002, 'depth': 9, 'l2_leaf_reg': 0.0033073517597883733, 'bootstrap_type': 'Bayesian', 'random_strength': 6.694661924349807e-07, 'bagging_temperature': 0.4540273890003454, 'od_type': 'IncToDec', 'od_wait': 31, 'min_data_in_leaf': 61}. Best is trial 17 with value: 0.06599110232328226.\n",
            "[I 2024-06-18 19:33:29,022] Trial 28 finished with value: 0.037620535107972294 and parameters: {'iterations': 513, 'learning_rate': 0.09598555339381329, 'depth': 8, 'l2_leaf_reg': 5.187722049470973e-05, 'bootstrap_type': 'Bayesian', 'random_strength': 0.00043252463898553017, 'bagging_temperature': 0.5521652186583703, 'od_type': 'IncToDec', 'od_wait': 44, 'min_data_in_leaf': 81}. Best is trial 17 with value: 0.06599110232328226.\n",
            "[I 2024-06-18 19:33:50,078] Trial 29 finished with value: 0.003637275805844726 and parameters: {'iterations': 722, 'learning_rate': 0.01009503638057436, 'depth': 7, 'l2_leaf_reg': 0.006791597355541899, 'bootstrap_type': 'Bayesian', 'random_strength': 4.7849859967260095e-08, 'bagging_temperature': 0.6985617654678913, 'od_type': 'IncToDec', 'od_wait': 27, 'min_data_in_leaf': 94}. Best is trial 17 with value: 0.06599110232328226.\n",
            "[I 2024-06-18 19:34:08,755] Trial 30 finished with value: 0.030647934080265577 and parameters: {'iterations': 451, 'learning_rate': 0.03180308825073182, 'depth': 9, 'l2_leaf_reg': 5.828161434061121e-06, 'bootstrap_type': 'Bayesian', 'random_strength': 1.1197657466284527e-08, 'bagging_temperature': 0.32624665281029114, 'od_type': 'IncToDec', 'od_wait': 20, 'min_data_in_leaf': 93}. Best is trial 17 with value: 0.06599110232328226.\n",
            "[I 2024-06-18 19:34:23,842] Trial 31 finished with value: 0.0392156862745098 and parameters: {'iterations': 431, 'learning_rate': 0.05820578493542378, 'depth': 8, 'l2_leaf_reg': 0.010153806877210986, 'bootstrap_type': 'Bayesian', 'random_strength': 3.4481577544985185e-08, 'bagging_temperature': 0.7965911092006056, 'od_type': 'Iter', 'od_wait': 10, 'min_data_in_leaf': 99}. Best is trial 17 with value: 0.06599110232328226.\n",
            "[I 2024-06-18 19:34:42,743] Trial 32 finished with value: 0.014409855901440985 and parameters: {'iterations': 527, 'learning_rate': 0.07319678896227298, 'depth': 8, 'l2_leaf_reg': 0.0005497687035212369, 'bootstrap_type': 'Bayesian', 'random_strength': 2.6932715979807784e-07, 'bagging_temperature': 0.2015908016258966, 'od_type': 'Iter', 'od_wait': 14, 'min_data_in_leaf': 84}. Best is trial 17 with value: 0.06599110232328226.\n",
            "[I 2024-06-18 19:34:46,132] Trial 33 finished with value: 0.0 and parameters: {'iterations': 348, 'learning_rate': 0.04446573515475317, 'depth': 7, 'l2_leaf_reg': 0.17771275630082553, 'bootstrap_type': 'Poisson', 'random_strength': 4.109864268496877e-08, 'bagging_temperature': 0.6544988082366325, 'od_type': 'Iter', 'od_wait': 13, 'min_data_in_leaf': 95}. Best is trial 17 with value: 0.06599110232328226.\n",
            "[I 2024-06-18 19:35:22,125] Trial 34 finished with value: 0.019958962880059692 and parameters: {'iterations': 630, 'learning_rate': 0.09514956849578535, 'depth': 10, 'l2_leaf_reg': 0.0018360257881048097, 'bootstrap_type': 'Bayesian', 'random_strength': 1.072595747280176e-08, 'bagging_temperature': 0.36576443054290675, 'od_type': 'IncToDec', 'od_wait': 21, 'min_data_in_leaf': 40}. Best is trial 17 with value: 0.06599110232328226.\n",
            "[I 2024-06-18 19:35:39,274] Trial 35 finished with value: 0.024592220828105395 and parameters: {'iterations': 486, 'learning_rate': 0.03387694596392385, 'depth': 8, 'l2_leaf_reg': 0.021440938465367605, 'bootstrap_type': 'Bayesian', 'random_strength': 4.892096331630327e-06, 'bagging_temperature': 0.4556852267850246, 'od_type': 'Iter', 'od_wait': 19, 'min_data_in_leaf': 30}. Best is trial 17 with value: 0.06599110232328226.\n",
            "[I 2024-06-18 19:35:43,917] Trial 36 finished with value: 0.0 and parameters: {'iterations': 556, 'learning_rate': 0.07147266667385573, 'depth': 5, 'l2_leaf_reg': 0.00015652678242290298, 'bootstrap_type': 'Poisson', 'random_strength': 2.45782180724443e-05, 'bagging_temperature': 0.08833292954303404, 'od_type': 'Iter', 'od_wait': 32, 'min_data_in_leaf': 70}. Best is trial 17 with value: 0.06599110232328226.\n",
            "[I 2024-06-18 19:36:14,169] Trial 37 finished with value: 0.06338811318423329 and parameters: {'iterations': 730, 'learning_rate': 0.04854266543092305, 'depth': 9, 'l2_leaf_reg': 0.13863349342658152, 'bootstrap_type': 'Bayesian', 'random_strength': 1.8680335990677642e-07, 'bagging_temperature': 0.8161989722673094, 'od_type': 'IncToDec', 'od_wait': 23, 'min_data_in_leaf': 78}. Best is trial 17 with value: 0.06599110232328226.\n",
            "[I 2024-06-18 19:36:44,461] Trial 38 finished with value: 0.06467969329705664 and parameters: {'iterations': 739, 'learning_rate': 0.048380462227891136, 'depth': 9, 'l2_leaf_reg': 0.09622872485575938, 'bootstrap_type': 'Bayesian', 'random_strength': 1.1177047764760249e-07, 'bagging_temperature': 0.7998590936922276, 'od_type': 'IncToDec', 'od_wait': 22, 'min_data_in_leaf': 78}. Best is trial 17 with value: 0.06599110232328226.\n",
            "[I 2024-06-18 19:37:22,202] Trial 39 finished with value: 0.07747259514718562 and parameters: {'iterations': 735, 'learning_rate': 0.04718827076396266, 'depth': 10, 'l2_leaf_reg': 0.26590111524471327, 'bootstrap_type': 'Bayesian', 'random_strength': 9.727102429287593e-08, 'bagging_temperature': 0.7943879588967706, 'od_type': 'IncToDec', 'od_wait': 24, 'min_data_in_leaf': 77}. Best is trial 39 with value: 0.07747259514718562.\n",
            "[I 2024-06-18 19:37:28,186] Trial 40 finished with value: 0.0 and parameters: {'iterations': 748, 'learning_rate': 0.04864163533464676, 'depth': 10, 'l2_leaf_reg': 0.18975816964979986, 'bootstrap_type': 'Poisson', 'random_strength': 1.0833428190561586e-07, 'bagging_temperature': 0.8053776326741761, 'od_type': 'IncToDec', 'od_wait': 24, 'min_data_in_leaf': 77}. Best is trial 39 with value: 0.07747259514718562.\n",
            "[I 2024-06-18 19:37:57,094] Trial 41 finished with value: 0.051931917008324016 and parameters: {'iterations': 697, 'learning_rate': 0.04138705229539424, 'depth': 9, 'l2_leaf_reg': 1.007732523390258, 'bootstrap_type': 'Bayesian', 'random_strength': 3.1567074248459815e-07, 'bagging_temperature': 0.9459569677200245, 'od_type': 'IncToDec', 'od_wait': 25, 'min_data_in_leaf': 81}. Best is trial 39 with value: 0.07747259514718562.\n",
            "[I 2024-06-18 19:38:40,423] Trial 42 finished with value: 0.09730520668211194 and parameters: {'iterations': 836, 'learning_rate': 0.05812796607485096, 'depth': 10, 'l2_leaf_reg': 0.1009898152149344, 'bootstrap_type': 'Bayesian', 'random_strength': 2.1302030712401544e-06, 'bagging_temperature': 0.8416323530903975, 'od_type': 'IncToDec', 'od_wait': 22, 'min_data_in_leaf': 58}. Best is trial 42 with value: 0.09730520668211194.\n",
            "[I 2024-06-18 19:39:23,391] Trial 43 finished with value: 0.04899888073622684 and parameters: {'iterations': 832, 'learning_rate': 0.03099822103022865, 'depth': 10, 'l2_leaf_reg': 4.555708928671189, 'bootstrap_type': 'Bayesian', 'random_strength': 1.592751027301871e-06, 'bagging_temperature': 0.8438866138562595, 'od_type': 'IncToDec', 'od_wait': 28, 'min_data_in_leaf': 58}. Best is trial 42 with value: 0.09730520668211194.\n",
            "[I 2024-06-18 19:40:07,515] Trial 44 finished with value: 0.08938615798483737 and parameters: {'iterations': 853, 'learning_rate': 0.05114393677868153, 'depth': 10, 'l2_leaf_reg': 0.1018781424769389, 'bootstrap_type': 'Bayesian', 'random_strength': 1.1037122610720002e-07, 'bagging_temperature': 0.7545544693329626, 'od_type': 'IncToDec', 'od_wait': 23, 'min_data_in_leaf': 48}. Best is trial 42 with value: 0.09730520668211194.\n",
            "[I 2024-06-18 19:40:52,806] Trial 45 finished with value: 0.07795566502463054 and parameters: {'iterations': 872, 'learning_rate': 0.038869464091919145, 'depth': 10, 'l2_leaf_reg': 0.033001509041841445, 'bootstrap_type': 'Bayesian', 'random_strength': 1.128323332144091e-05, 'bagging_temperature': 0.735485600301421, 'od_type': 'IncToDec', 'od_wait': 22, 'min_data_in_leaf': 49}. Best is trial 42 with value: 0.09730520668211194.\n",
            "[I 2024-06-18 19:41:40,918] Trial 46 finished with value: 0.08221703330465774 and parameters: {'iterations': 928, 'learning_rate': 0.03847329227186372, 'depth': 10, 'l2_leaf_reg': 0.024299676371717253, 'bootstrap_type': 'Bayesian', 'random_strength': 1.0411082276103034e-05, 'bagging_temperature': 0.7545004209619471, 'od_type': 'IncToDec', 'od_wait': 20, 'min_data_in_leaf': 48}. Best is trial 42 with value: 0.09730520668211194.\n",
            "[I 2024-06-18 19:42:29,603] Trial 47 finished with value: 0.053194133731046485 and parameters: {'iterations': 933, 'learning_rate': 0.022190370338761554, 'depth': 10, 'l2_leaf_reg': 0.3108861233980463, 'bootstrap_type': 'Bayesian', 'random_strength': 1.2068973621490012e-05, 'bagging_temperature': 0.735777662038821, 'od_type': 'IncToDec', 'od_wait': 19, 'min_data_in_leaf': 49}. Best is trial 42 with value: 0.09730520668211194.\n",
            "[I 2024-06-18 19:43:14,344] Trial 48 finished with value: 0.076592082616179 and parameters: {'iterations': 874, 'learning_rate': 0.03819254663571375, 'depth': 10, 'l2_leaf_reg': 0.02614474260560509, 'bootstrap_type': 'Bayesian', 'random_strength': 8.04890178847944e-05, 'bagging_temperature': 0.8783569211588329, 'od_type': 'IncToDec', 'od_wait': 24, 'min_data_in_leaf': 46}. Best is trial 42 with value: 0.09730520668211194.\n",
            "[I 2024-06-18 19:44:04,608] Trial 49 finished with value: 0.03182957393483709 and parameters: {'iterations': 956, 'learning_rate': 0.012232472403286074, 'depth': 10, 'l2_leaf_reg': 0.42676874019110617, 'bootstrap_type': 'Bayesian', 'random_strength': 4.7368101422583805e-06, 'bagging_temperature': 0.6798171343170423, 'od_type': 'IncToDec', 'od_wait': 19, 'min_data_in_leaf': 27}. Best is trial 42 with value: 0.09730520668211194.\n",
            "[I 2024-06-18 19:44:17,951] Trial 50 finished with value: 0.0015122873345935729 and parameters: {'iterations': 817, 'learning_rate': 0.027577569246612015, 'depth': 3, 'l2_leaf_reg': 2.4350657054405356, 'bootstrap_type': 'Bayesian', 'random_strength': 2.0564909854354757e-06, 'bagging_temperature': 0.7520804969344589, 'od_type': 'IncToDec', 'od_wait': 22, 'min_data_in_leaf': 55}. Best is trial 42 with value: 0.09730520668211194.\n",
            "[I 2024-06-18 19:45:03,239] Trial 51 finished with value: 0.07701771653543307 and parameters: {'iterations': 876, 'learning_rate': 0.03860602421600897, 'depth': 10, 'l2_leaf_reg': 0.030271393423709495, 'bootstrap_type': 'Bayesian', 'random_strength': 0.0001056310313231642, 'bagging_temperature': 0.9006194694604113, 'od_type': 'IncToDec', 'od_wait': 25, 'min_data_in_leaf': 46}. Best is trial 42 with value: 0.09730520668211194.\n",
            "[I 2024-06-18 19:45:48,932] Trial 52 finished with value: 0.11997585998792999 and parameters: {'iterations': 883, 'learning_rate': 0.07861743454059292, 'depth': 10, 'l2_leaf_reg': 0.03226829730280175, 'bootstrap_type': 'Bayesian', 'random_strength': 0.00034644059054821157, 'bagging_temperature': 0.9293301872205102, 'od_type': 'IncToDec', 'od_wait': 26, 'min_data_in_leaf': 46}. Best is trial 52 with value: 0.11997585998792999.\n",
            "[I 2024-06-18 19:46:37,538] Trial 53 finished with value: 0.0742513500245459 and parameters: {'iterations': 965, 'learning_rate': 0.08106999300126196, 'depth': 10, 'l2_leaf_reg': 15.867919134802781, 'bootstrap_type': 'Bayesian', 'random_strength': 0.0005345679928868892, 'bagging_temperature': 0.9645418588279958, 'od_type': 'IncToDec', 'od_wait': 27, 'min_data_in_leaf': 36}. Best is trial 52 with value: 0.11997585998792999.\n",
            "[I 2024-06-18 19:47:23,581] Trial 54 finished with value: 0.11544028950542823 and parameters: {'iterations': 892, 'learning_rate': 0.07648900798803744, 'depth': 10, 'l2_leaf_reg': 0.014041509741457067, 'bootstrap_type': 'Bayesian', 'random_strength': 0.0017021209721946745, 'bagging_temperature': 0.7648882460124482, 'od_type': 'IncToDec', 'od_wait': 21, 'min_data_in_leaf': 52}. Best is trial 52 with value: 0.11997585998792999.\n",
            "[I 2024-06-18 19:48:09,518] Trial 55 finished with value: 0.11797346200241254 and parameters: {'iterations': 890, 'learning_rate': 0.07950745207721215, 'depth': 10, 'l2_leaf_reg': 0.01630378310054388, 'bootstrap_type': 'Bayesian', 'random_strength': 0.0014031685184388732, 'bagging_temperature': 0.9225428310795901, 'od_type': 'IncToDec', 'od_wait': 21, 'min_data_in_leaf': 52}. Best is trial 52 with value: 0.11997585998792999.\n",
            "[I 2024-06-18 19:48:56,387] Trial 56 finished with value: 0.023551784669397308 and parameters: {'iterations': 837, 'learning_rate': 0.07979402604951479, 'depth': 10, 'l2_leaf_reg': 0.0028149324483715044, 'bootstrap_type': 'Bayesian', 'random_strength': 0.001729685442112729, 'bagging_temperature': 0.9935057042266573, 'od_type': 'IncToDec', 'od_wait': 20, 'min_data_in_leaf': 55}. Best is trial 52 with value: 0.11997585998792999.\n",
            "[I 2024-06-18 19:49:03,220] Trial 57 finished with value: 0.0 and parameters: {'iterations': 905, 'learning_rate': 0.06240314982913037, 'depth': 9, 'l2_leaf_reg': 0.011543655411877907, 'bootstrap_type': 'Poisson', 'random_strength': 0.02406081743831996, 'bagging_temperature': 0.9283433750709331, 'od_type': 'IncToDec', 'od_wait': 17, 'min_data_in_leaf': 63}. Best is trial 52 with value: 0.11997585998792999.\n",
            "[I 2024-06-18 19:49:20,915] Trial 58 finished with value: 0.009778864318257583 and parameters: {'iterations': 959, 'learning_rate': 0.0854458989930554, 'depth': 4, 'l2_leaf_reg': 0.0015741991574380635, 'bootstrap_type': 'Bayesian', 'random_strength': 0.001191072748102048, 'bagging_temperature': 0.8930032247290649, 'od_type': 'IncToDec', 'od_wait': 14, 'min_data_in_leaf': 44}. Best is trial 52 with value: 0.11997585998792999.\n",
            "[I 2024-06-18 19:50:00,955] Trial 59 finished with value: 0.003905757843013733 and parameters: {'iterations': 769, 'learning_rate': 0.004331738032253972, 'depth': 10, 'l2_leaf_reg': 0.015294814196779341, 'bootstrap_type': 'Bayesian', 'random_strength': 0.008503809043968876, 'bagging_temperature': 0.8604772811730532, 'od_type': 'IncToDec', 'od_wait': 21, 'min_data_in_leaf': 52}. Best is trial 52 with value: 0.11997585998792999.\n",
            "[I 2024-06-18 19:50:37,954] Trial 60 finished with value: 0.09425679795146934 and parameters: {'iterations': 904, 'learning_rate': 0.07038495959343541, 'depth': 9, 'l2_leaf_reg': 0.07832129830998989, 'bootstrap_type': 'Bayesian', 'random_strength': 0.00018253369526330382, 'bagging_temperature': 0.7698551224045187, 'od_type': 'IncToDec', 'od_wait': 18, 'min_data_in_leaf': 58}. Best is trial 52 with value: 0.11997585998792999.\n",
            "[I 2024-06-18 19:51:25,424] Trial 61 finished with value: 0.11349062310949788 and parameters: {'iterations': 931, 'learning_rate': 0.06898968920302832, 'depth': 10, 'l2_leaf_reg': 0.06978865423171672, 'bootstrap_type': 'Bayesian', 'random_strength': 0.000848823025622804, 'bagging_temperature': 0.8454626729374376, 'od_type': 'IncToDec', 'od_wait': 18, 'min_data_in_leaf': 65}. Best is trial 52 with value: 0.11997585998792999.\n",
            "[I 2024-06-18 19:52:02,146] Trial 62 finished with value: 0.09290684898058844 and parameters: {'iterations': 896, 'learning_rate': 0.07053243053245288, 'depth': 9, 'l2_leaf_reg': 0.08736390035132584, 'bootstrap_type': 'Bayesian', 'random_strength': 0.00016812265468492556, 'bagging_temperature': 0.8366384500887966, 'od_type': 'IncToDec', 'od_wait': 18, 'min_data_in_leaf': 1}. Best is trial 52 with value: 0.11997585998792999.\n",
            "[I 2024-06-18 19:52:38,207] Trial 63 finished with value: 0.08657849620377174 and parameters: {'iterations': 888, 'learning_rate': 0.06910222103582458, 'depth': 9, 'l2_leaf_reg': 0.6156089952862505, 'bootstrap_type': 'Bayesian', 'random_strength': 0.00017538015774710245, 'bagging_temperature': 0.9636004579282571, 'od_type': 'IncToDec', 'od_wait': 18, 'min_data_in_leaf': 17}. Best is trial 52 with value: 0.11997585998792999.\n",
            "[I 2024-06-18 19:53:17,895] Trial 64 finished with value: 0.11190332326283987 and parameters: {'iterations': 976, 'learning_rate': 0.09528906464151665, 'depth': 9, 'l2_leaf_reg': 0.0683787114743257, 'bootstrap_type': 'Bayesian', 'random_strength': 0.0008680738583411878, 'bagging_temperature': 0.9205119421639835, 'od_type': 'IncToDec', 'od_wait': 15, 'min_data_in_leaf': 6}. Best is trial 52 with value: 0.11997585998792999.\n",
            "[I 2024-06-18 19:54:01,767] Trial 65 finished with value: 0.032427895620326566 and parameters: {'iterations': 986, 'learning_rate': 0.09221248507612438, 'depth': 9, 'l2_leaf_reg': 0.005221247558278242, 'bootstrap_type': 'Bayesian', 'random_strength': 0.0008759402606893586, 'bagging_temperature': 0.9176760935317152, 'od_type': 'IncToDec', 'od_wait': 15, 'min_data_in_leaf': 60}. Best is trial 52 with value: 0.11997585998792999.\n",
            "[I 2024-06-18 19:54:40,455] Trial 66 finished with value: 0.11202516331962255 and parameters: {'iterations': 944, 'learning_rate': 0.09637918819288115, 'depth': 9, 'l2_leaf_reg': 0.06519763550266962, 'bootstrap_type': 'Bayesian', 'random_strength': 0.005412882725951002, 'bagging_temperature': 0.8727088300022124, 'od_type': 'IncToDec', 'od_wait': 16, 'min_data_in_leaf': 65}. Best is trial 52 with value: 0.11997585998792999.\n",
            "[I 2024-06-18 19:55:28,563] Trial 67 finished with value: 0.13155693631258214 and parameters: {'iterations': 948, 'learning_rate': 0.09795450072649659, 'depth': 10, 'l2_leaf_reg': 0.0468180572468348, 'bootstrap_type': 'Bayesian', 'random_strength': 0.004255209790701141, 'bagging_temperature': 0.8673356868440557, 'od_type': 'IncToDec', 'od_wait': 13, 'min_data_in_leaf': 65}. Best is trial 67 with value: 0.13155693631258214.\n",
            "[I 2024-06-18 19:56:15,788] Trial 68 finished with value: 0.10687856362974645 and parameters: {'iterations': 932, 'learning_rate': 0.08378995206841897, 'depth': 10, 'l2_leaf_reg': 1.574457878332445, 'bootstrap_type': 'Bayesian', 'random_strength': 0.0036828903492065915, 'bagging_temperature': 0.9618419668653594, 'od_type': 'IncToDec', 'od_wait': 12, 'min_data_in_leaf': 65}. Best is trial 67 with value: 0.13155693631258214.\n",
            "[I 2024-06-18 19:56:23,078] Trial 69 finished with value: 0.0 and parameters: {'iterations': 969, 'learning_rate': 0.09932860261510319, 'depth': 9, 'l2_leaf_reg': 0.0004945129045823599, 'bootstrap_type': 'Poisson', 'random_strength': 0.02159150576347674, 'bagging_temperature': 0.8770817414580828, 'od_type': 'IncToDec', 'od_wait': 12, 'min_data_in_leaf': 68}. Best is trial 67 with value: 0.13155693631258214.\n",
            "[I 2024-06-18 19:57:10,148] Trial 70 finished with value: 0.12343900096061479 and parameters: {'iterations': 935, 'learning_rate': 0.08241551717001486, 'depth': 10, 'l2_leaf_reg': 0.004739290846762892, 'bootstrap_type': 'Bayesian', 'random_strength': 0.007171581466331318, 'bagging_temperature': 0.9217059715306333, 'od_type': 'IncToDec', 'od_wait': 16, 'min_data_in_leaf': 13}. Best is trial 67 with value: 0.13155693631258214.\n",
            "[I 2024-06-18 19:57:58,027] Trial 71 finished with value: 0.1228660735753787 and parameters: {'iterations': 941, 'learning_rate': 0.08085027300606701, 'depth': 10, 'l2_leaf_reg': 0.006456328544986128, 'bootstrap_type': 'Bayesian', 'random_strength': 0.006427612439003849, 'bagging_temperature': 0.9323593282164581, 'od_type': 'IncToDec', 'od_wait': 15, 'min_data_in_leaf': 12}. Best is trial 67 with value: 0.13155693631258214.\n",
            "[I 2024-06-18 19:58:45,718] Trial 72 finished with value: 0.1256311613368598 and parameters: {'iterations': 944, 'learning_rate': 0.08321641216058784, 'depth': 10, 'l2_leaf_reg': 0.004486928563745398, 'bootstrap_type': 'Bayesian', 'random_strength': 0.00804945737937798, 'bagging_temperature': 0.9406432279528201, 'od_type': 'IncToDec', 'od_wait': 16, 'min_data_in_leaf': 14}. Best is trial 67 with value: 0.13155693631258214.\n",
            "[I 2024-06-18 19:59:35,091] Trial 73 finished with value: 0.0008031698436496038 and parameters: {'iterations': 925, 'learning_rate': 0.0020462219309126755, 'depth': 10, 'l2_leaf_reg': 0.0009037275100693049, 'bootstrap_type': 'Bayesian', 'random_strength': 0.11992792963824317, 'bagging_temperature': 0.9917502600049704, 'od_type': 'IncToDec', 'od_wait': 10, 'min_data_in_leaf': 18}. Best is trial 67 with value: 0.13155693631258214.\n",
            "[I 2024-06-18 20:00:25,996] Trial 74 finished with value: 0.12253249879634087 and parameters: {'iterations': 997, 'learning_rate': 0.0790027555154448, 'depth': 10, 'l2_leaf_reg': 0.006453960484664751, 'bootstrap_type': 'Bayesian', 'random_strength': 0.010509147438017584, 'bagging_temperature': 0.9350512867117158, 'od_type': 'IncToDec', 'od_wait': 14, 'min_data_in_leaf': 12}. Best is trial 67 with value: 0.13155693631258214.\n",
            "[I 2024-06-18 20:01:16,539] Trial 75 finished with value: 0.12670986321094313 and parameters: {'iterations': 997, 'learning_rate': 0.08075499020551213, 'depth': 10, 'l2_leaf_reg': 0.0037909076182406523, 'bootstrap_type': 'Bayesian', 'random_strength': 0.01094627909041439, 'bagging_temperature': 0.9408880504393051, 'od_type': 'IncToDec', 'od_wait': 13, 'min_data_in_leaf': 13}. Best is trial 67 with value: 0.13155693631258214.\n",
            "[I 2024-06-18 20:02:11,916] Trial 76 finished with value: 0.03629105425512611 and parameters: {'iterations': 998, 'learning_rate': 0.05695609743255932, 'depth': 10, 'l2_leaf_reg': 0.0002868737207831976, 'bootstrap_type': 'Bayesian', 'random_strength': 0.013076786089520908, 'bagging_temperature': 0.9418689964701271, 'od_type': 'IncToDec', 'od_wait': 12, 'min_data_in_leaf': 11}. Best is trial 67 with value: 0.13155693631258214.\n",
            "[I 2024-06-18 20:03:00,724] Trial 77 finished with value: 0.12360628222035727 and parameters: {'iterations': 952, 'learning_rate': 0.08318947417593803, 'depth': 10, 'l2_leaf_reg': 0.004689384817051109, 'bootstrap_type': 'Bayesian', 'random_strength': 0.05375479666815976, 'bagging_temperature': 0.9021340852436099, 'od_type': 'Iter', 'od_wait': 14, 'min_data_in_leaf': 13}. Best is trial 67 with value: 0.13155693631258214.\n",
            "[I 2024-06-18 20:03:49,919] Trial 78 finished with value: 0.1054031185785084 and parameters: {'iterations': 953, 'learning_rate': 0.06281970424421736, 'depth': 10, 'l2_leaf_reg': 0.0026025941569335536, 'bootstrap_type': 'Bayesian', 'random_strength': 0.047712315611084306, 'bagging_temperature': 0.9985717090885646, 'od_type': 'Iter', 'od_wait': 14, 'min_data_in_leaf': 13}. Best is trial 67 with value: 0.13155693631258214.\n",
            "[I 2024-06-18 20:03:56,245] Trial 79 finished with value: 0.019073911406700967 and parameters: {'iterations': 100, 'learning_rate': 0.08251306771775788, 'depth': 10, 'l2_leaf_reg': 0.005461251560108649, 'bootstrap_type': 'Bayesian', 'random_strength': 0.47031553552542293, 'bagging_temperature': 0.9676953308353632, 'od_type': 'Iter', 'od_wait': 11, 'min_data_in_leaf': 12}. Best is trial 67 with value: 0.13155693631258214.\n",
            "[I 2024-06-18 20:04:05,708] Trial 80 finished with value: 0.015614953614402498 and parameters: {'iterations': 154, 'learning_rate': 0.06642228413046852, 'depth': 10, 'l2_leaf_reg': 9.791840788173348e-05, 'bootstrap_type': 'Bayesian', 'random_strength': 0.08063532477611589, 'bagging_temperature': 0.8999127278054637, 'od_type': 'Iter', 'od_wait': 13, 'min_data_in_leaf': 22}. Best is trial 67 with value: 0.13155693631258214.\n",
            "[I 2024-06-18 20:04:56,782] Trial 81 finished with value: 0.12678250449370881 and parameters: {'iterations': 998, 'learning_rate': 0.08321809827957996, 'depth': 10, 'l2_leaf_reg': 0.0013901302047658198, 'bootstrap_type': 'Bayesian', 'random_strength': 0.0071094823057109135, 'bagging_temperature': 0.9464617555428033, 'od_type': 'Iter', 'od_wait': 15, 'min_data_in_leaf': 24}. Best is trial 67 with value: 0.13155693631258214.\n",
            "[I 2024-06-18 20:05:52,764] Trial 82 finished with value: 0.03189648067254595 and parameters: {'iterations': 996, 'learning_rate': 0.05340017933828916, 'depth': 10, 'l2_leaf_reg': 0.001860735820306336, 'bootstrap_type': 'Bayesian', 'random_strength': 0.04182441136152972, 'bagging_temperature': 0.9479753910643748, 'od_type': 'Iter', 'od_wait': 15, 'min_data_in_leaf': 7}. Best is trial 67 with value: 0.13155693631258214.\n",
            "[I 2024-06-18 20:06:48,970] Trial 83 finished with value: 0.043772968558595346 and parameters: {'iterations': 976, 'learning_rate': 0.08457685577755865, 'depth': 10, 'l2_leaf_reg': 0.001098249389217165, 'bootstrap_type': 'Bayesian', 'random_strength': 0.008421186893428738, 'bagging_temperature': 0.9033485263169225, 'od_type': 'Iter', 'od_wait': 13, 'min_data_in_leaf': 22}. Best is trial 67 with value: 0.13155693631258214.\n",
            "[I 2024-06-18 20:07:39,669] Trial 84 finished with value: 0.046146572104018915 and parameters: {'iterations': 912, 'learning_rate': 0.08872813778712141, 'depth': 10, 'l2_leaf_reg': 0.003844937744492423, 'bootstrap_type': 'Bayesian', 'random_strength': 0.002923306742020023, 'bagging_temperature': 0.9751810356455024, 'od_type': 'Iter', 'od_wait': 16, 'min_data_in_leaf': 14}. Best is trial 67 with value: 0.13155693631258214.\n",
            "[I 2024-06-18 20:07:47,008] Trial 85 finished with value: 0.0 and parameters: {'iterations': 950, 'learning_rate': 0.07510434888846054, 'depth': 10, 'l2_leaf_reg': 0.008088620791295787, 'bootstrap_type': 'Poisson', 'random_strength': 0.011521511975999542, 'bagging_temperature': 0.9374203178966993, 'od_type': 'Iter', 'od_wait': 11, 'min_data_in_leaf': 9}. Best is trial 67 with value: 0.13155693631258214.\n",
            "[I 2024-06-18 20:08:42,159] Trial 86 finished with value: 0.036847269159489805 and parameters: {'iterations': 999, 'learning_rate': 0.05405769638751267, 'depth': 10, 'l2_leaf_reg': 0.0003874631098776096, 'bootstrap_type': 'Bayesian', 'random_strength': 0.005462398357280804, 'bagging_temperature': 0.8666634991284947, 'od_type': 'Iter', 'od_wait': 14, 'min_data_in_leaf': 2}. Best is trial 67 with value: 0.13155693631258214.\n",
            "[I 2024-06-18 20:09:21,400] Trial 87 finished with value: 0.07420969119980471 and parameters: {'iterations': 946, 'learning_rate': 0.0627291192929013, 'depth': 9, 'l2_leaf_reg': 0.0075451110240177255, 'bootstrap_type': 'Bayesian', 'random_strength': 0.2717575295249408, 'bagging_temperature': 0.8878793440894857, 'od_type': 'Iter', 'od_wait': 10, 'min_data_in_leaf': 26}. Best is trial 67 with value: 0.13155693631258214.\n",
            "[I 2024-06-18 20:10:17,323] Trial 88 finished with value: 0.04444612134017507 and parameters: {'iterations': 980, 'learning_rate': 0.08738935840577187, 'depth': 10, 'l2_leaf_reg': 0.0010923476106302977, 'bootstrap_type': 'Bayesian', 'random_strength': 0.037400671935871536, 'bagging_temperature': 0.8175726515586506, 'od_type': 'Iter', 'od_wait': 15, 'min_data_in_leaf': 16}. Best is trial 67 with value: 0.13155693631258214.\n",
            "[I 2024-06-18 20:11:02,161] Trial 89 finished with value: 0.06844660194174758 and parameters: {'iterations': 858, 'learning_rate': 0.04390615884596548, 'depth': 10, 'l2_leaf_reg': 0.0029276393594617383, 'bootstrap_type': 'Bayesian', 'random_strength': 0.002816517894970129, 'bagging_temperature': 0.9786743991205147, 'od_type': 'Iter', 'od_wait': 13, 'min_data_in_leaf': 9}. Best is trial 67 with value: 0.13155693631258214.\n",
            "[I 2024-06-18 20:11:35,738] Trial 90 finished with value: 0.09361233480176212 and parameters: {'iterations': 815, 'learning_rate': 0.07344813411328606, 'depth': 9, 'l2_leaf_reg': 0.03938966967311687, 'bootstrap_type': 'Bayesian', 'random_strength': 0.013986776736003822, 'bagging_temperature': 0.943534927019908, 'od_type': 'IncToDec', 'od_wait': 17, 'min_data_in_leaf': 5}. Best is trial 67 with value: 0.13155693631258214.\n",
            "[I 2024-06-18 20:12:22,787] Trial 91 finished with value: 0.11632677687944974 and parameters: {'iterations': 915, 'learning_rate': 0.07662186740859571, 'depth': 10, 'l2_leaf_reg': 0.015221504975977029, 'bootstrap_type': 'Bayesian', 'random_strength': 0.006965312046920242, 'bagging_temperature': 0.9181813666404651, 'od_type': 'IncToDec', 'od_wait': 16, 'min_data_in_leaf': 20}. Best is trial 67 with value: 0.13155693631258214.\n",
            "[I 2024-06-18 20:13:12,666] Trial 92 finished with value: 0.13132760267430754 and parameters: {'iterations': 969, 'learning_rate': 0.0970861850364153, 'depth': 10, 'l2_leaf_reg': 0.00482940590245419, 'bootstrap_type': 'Bayesian', 'random_strength': 0.001920449390997335, 'bagging_temperature': 0.9032494954400011, 'od_type': 'IncToDec', 'od_wait': 12, 'min_data_in_leaf': 24}. Best is trial 67 with value: 0.13155693631258214.\n",
            "[I 2024-06-18 20:14:08,004] Trial 93 finished with value: 0.05503626710536155 and parameters: {'iterations': 970, 'learning_rate': 0.09661798831598743, 'depth': 10, 'l2_leaf_reg': 0.002192236423914946, 'bootstrap_type': 'Bayesian', 'random_strength': 0.003928767305577388, 'bagging_temperature': 0.8594382130297721, 'od_type': 'IncToDec', 'od_wait': 12, 'min_data_in_leaf': 15}. Best is trial 67 with value: 0.13155693631258214.\n",
            "[I 2024-06-18 20:14:58,441] Trial 94 finished with value: 0.11951305162121034 and parameters: {'iterations': 945, 'learning_rate': 0.09972371916250364, 'depth': 10, 'l2_leaf_reg': 0.005180888557335052, 'bootstrap_type': 'Bayesian', 'random_strength': 0.00042165800774466086, 'bagging_temperature': 0.8261098494789634, 'od_type': 'IncToDec', 'od_wait': 14, 'min_data_in_leaf': 24}. Best is trial 67 with value: 0.13155693631258214.\n",
            "[I 2024-06-18 20:15:49,495] Trial 95 finished with value: 0.021898417985012488 and parameters: {'iterations': 978, 'learning_rate': 0.00753245539413086, 'depth': 10, 'l2_leaf_reg': 0.00015462013910907954, 'bootstrap_type': 'Bayesian', 'random_strength': 0.02710551862691654, 'bagging_temperature': 0.9022919622271676, 'od_type': 'IncToDec', 'od_wait': 13, 'min_data_in_leaf': 30}. Best is trial 67 with value: 0.13155693631258214.\n",
            "[I 2024-06-18 20:16:06,867] Trial 96 finished with value: 0.013304882640893686 and parameters: {'iterations': 919, 'learning_rate': 0.06588511406895875, 'depth': 4, 'l2_leaf_reg': 0.009591798688895382, 'bootstrap_type': 'Bayesian', 'random_strength': 0.06724635213718327, 'bagging_temperature': 0.9521868397288077, 'od_type': 'IncToDec', 'od_wait': 10, 'min_data_in_leaf': 19}. Best is trial 67 with value: 0.13155693631258214.\n",
            "[I 2024-06-18 20:16:31,260] Trial 97 finished with value: 0.010520231213872832 and parameters: {'iterations': 958, 'learning_rate': 0.05916731540907393, 'depth': 6, 'l2_leaf_reg': 0.004499221322099118, 'bootstrap_type': 'Bayesian', 'random_strength': 0.014548616285776673, 'bagging_temperature': 0.8851552164612025, 'od_type': 'IncToDec', 'od_wait': 15, 'min_data_in_leaf': 10}. Best is trial 67 with value: 0.13155693631258214.\n",
            "[I 2024-06-18 20:17:25,122] Trial 98 finished with value: 0.04409660107334526 and parameters: {'iterations': 937, 'learning_rate': 0.08824948525743403, 'depth': 10, 'l2_leaf_reg': 0.0007904254311539014, 'bootstrap_type': 'Bayesian', 'random_strength': 0.002505477807735596, 'bagging_temperature': 0.9309893084105253, 'od_type': 'IncToDec', 'od_wait': 46, 'min_data_in_leaf': 4}. Best is trial 67 with value: 0.13155693631258214.\n",
            "[I 2024-06-18 20:17:31,901] Trial 99 finished with value: 0.0 and parameters: {'iterations': 869, 'learning_rate': 0.006240088968557054, 'depth': 10, 'l2_leaf_reg': 0.021727543317808608, 'bootstrap_type': 'Poisson', 'random_strength': 0.008806704444348905, 'bagging_temperature': 0.7803616587389669, 'od_type': 'Iter', 'od_wait': 11, 'min_data_in_leaf': 30}. Best is trial 67 with value: 0.13155693631258214.\n"
          ]
        }
      ],
      "source": [
        "study_cat = optuna.create_study(study_name=\"catboost\", direction='maximize', pruner=\"MedianPruner\", sampler=sampler)\n",
        "study_cat.optimize(objective_cat, n_trials=100)"
      ]
    },
    {
      "cell_type": "code",
      "execution_count": 42,
      "metadata": {
        "colab": {
          "base_uri": "https://localhost:8080/"
        },
        "id": "WJK0chTGuaCR",
        "outputId": "ee3125a6-f009-4478-9824-a8301c199f1b"
      },
      "outputs": [
        {
          "name": "stdout",
          "output_type": "stream",
          "text": [
            "Best hyperparameters:\n",
            "{'iterations': 948, 'learning_rate': 0.09795450072649659, 'depth': 10, 'l2_leaf_reg': 0.0468180572468348, 'bootstrap_type': 'Bayesian', 'random_strength': 0.004255209790701141, 'bagging_temperature': 0.8673356868440557, 'od_type': 'IncToDec', 'od_wait': 13, 'min_data_in_leaf': 65}\n",
            "-----------------------------------------------------------------------------------------------------------------\n",
            "Best CSI Index:\n",
            "0.13155693631258214\n"
          ]
        }
      ],
      "source": [
        "print(\"Best hyperparameters:\", study_cat.best_params, sep=\"\\n\")\n",
        "print(\"-----------------------------------------------------------------------------------------------------------------\")\n",
        "print(\"Best CSI Index:\", study_cat.best_value, sep=\"\\n\")"
      ]
    },
    {
      "cell_type": "code",
      "execution_count": 44,
      "metadata": {
        "colab": {
          "base_uri": "https://localhost:8080/",
          "height": 542
        },
        "id": "Oe3LUaxGFg_9",
        "outputId": "229ffa60-e90a-406f-8db7-eb7f8a535a18"
      },
      "outputs": [
        {
          "ename": "ValueError",
          "evalue": "Mime type rendering requires nbformat>=4.2.0 but it is not installed",
          "output_type": "error",
          "traceback": [
            "\u001b[1;31m---------------------------------------------------------------------------\u001b[0m",
            "\u001b[1;31mValueError\u001b[0m                                Traceback (most recent call last)",
            "File \u001b[1;32mc:\\Users\\aryij\\anaconda3\\envs\\weather\\Lib\\site-packages\\IPython\\core\\formatters.py:922\u001b[0m, in \u001b[0;36mIPythonDisplayFormatter.__call__\u001b[1;34m(self, obj)\u001b[0m\n\u001b[0;32m    920\u001b[0m method \u001b[38;5;241m=\u001b[39m get_real_method(obj, \u001b[38;5;28mself\u001b[39m\u001b[38;5;241m.\u001b[39mprint_method)\n\u001b[0;32m    921\u001b[0m \u001b[38;5;28;01mif\u001b[39;00m method \u001b[38;5;129;01mis\u001b[39;00m \u001b[38;5;129;01mnot\u001b[39;00m \u001b[38;5;28;01mNone\u001b[39;00m:\n\u001b[1;32m--> 922\u001b[0m     method()\n\u001b[0;32m    923\u001b[0m     \u001b[38;5;28;01mreturn\u001b[39;00m \u001b[38;5;28;01mTrue\u001b[39;00m\n",
            "File \u001b[1;32mc:\\Users\\aryij\\anaconda3\\envs\\weather\\Lib\\site-packages\\plotly\\basedatatypes.py:832\u001b[0m, in \u001b[0;36mBaseFigure._ipython_display_\u001b[1;34m(self)\u001b[0m\n\u001b[0;32m    829\u001b[0m \u001b[38;5;28;01mimport\u001b[39;00m \u001b[38;5;21;01mplotly\u001b[39;00m\u001b[38;5;21;01m.\u001b[39;00m\u001b[38;5;21;01mio\u001b[39;00m \u001b[38;5;28;01mas\u001b[39;00m \u001b[38;5;21;01mpio\u001b[39;00m\n\u001b[0;32m    831\u001b[0m \u001b[38;5;28;01mif\u001b[39;00m pio\u001b[38;5;241m.\u001b[39mrenderers\u001b[38;5;241m.\u001b[39mrender_on_display \u001b[38;5;129;01mand\u001b[39;00m pio\u001b[38;5;241m.\u001b[39mrenderers\u001b[38;5;241m.\u001b[39mdefault:\n\u001b[1;32m--> 832\u001b[0m     pio\u001b[38;5;241m.\u001b[39mshow(\u001b[38;5;28mself\u001b[39m)\n\u001b[0;32m    833\u001b[0m \u001b[38;5;28;01melse\u001b[39;00m:\n\u001b[0;32m    834\u001b[0m     \u001b[38;5;28mprint\u001b[39m(\u001b[38;5;28mrepr\u001b[39m(\u001b[38;5;28mself\u001b[39m))\n",
            "File \u001b[1;32mc:\\Users\\aryij\\anaconda3\\envs\\weather\\Lib\\site-packages\\plotly\\io\\_renderers.py:394\u001b[0m, in \u001b[0;36mshow\u001b[1;34m(fig, renderer, validate, **kwargs)\u001b[0m\n\u001b[0;32m    389\u001b[0m         \u001b[38;5;28;01mraise\u001b[39;00m \u001b[38;5;167;01mValueError\u001b[39;00m(\n\u001b[0;32m    390\u001b[0m             \u001b[38;5;124m\"\u001b[39m\u001b[38;5;124mMime type rendering requires ipython but it is not installed\u001b[39m\u001b[38;5;124m\"\u001b[39m\n\u001b[0;32m    391\u001b[0m         )\n\u001b[0;32m    393\u001b[0m     \u001b[38;5;28;01mif\u001b[39;00m \u001b[38;5;129;01mnot\u001b[39;00m nbformat \u001b[38;5;129;01mor\u001b[39;00m Version(nbformat\u001b[38;5;241m.\u001b[39m__version__) \u001b[38;5;241m<\u001b[39m Version(\u001b[38;5;124m\"\u001b[39m\u001b[38;5;124m4.2.0\u001b[39m\u001b[38;5;124m\"\u001b[39m):\n\u001b[1;32m--> 394\u001b[0m         \u001b[38;5;28;01mraise\u001b[39;00m \u001b[38;5;167;01mValueError\u001b[39;00m(\n\u001b[0;32m    395\u001b[0m             \u001b[38;5;124m\"\u001b[39m\u001b[38;5;124mMime type rendering requires nbformat>=4.2.0 but it is not installed\u001b[39m\u001b[38;5;124m\"\u001b[39m\n\u001b[0;32m    396\u001b[0m         )\n\u001b[0;32m    398\u001b[0m     ipython_display\u001b[38;5;241m.\u001b[39mdisplay(bundle, raw\u001b[38;5;241m=\u001b[39m\u001b[38;5;28;01mTrue\u001b[39;00m)\n\u001b[0;32m    400\u001b[0m \u001b[38;5;66;03m# external renderers\u001b[39;00m\n",
            "\u001b[1;31mValueError\u001b[0m: Mime type rendering requires nbformat>=4.2.0 but it is not installed"
          ]
        },
        {
          "data": {
            "application/vnd.plotly.v1+json": {
              "config": {
                "plotlyServerURL": "https://plot.ly"
              },
              "data": [
                {
                  "cliponaxis": false,
                  "hovertemplate": [
                    "random_strength (FloatDistribution): 0.0019130534898835242<extra></extra>",
                    "l2_leaf_reg (FloatDistribution): 0.0036378293017144537<extra></extra>",
                    "od_type (CategoricalDistribution): 0.010858114827891535<extra></extra>",
                    "od_wait (IntDistribution): 0.03192745130585982<extra></extra>",
                    "min_data_in_leaf (IntDistribution): 0.037440954601312526<extra></extra>",
                    "bagging_temperature (FloatDistribution): 0.05494779618863898<extra></extra>",
                    "depth (IntDistribution): 0.0907599681761942<extra></extra>",
                    "bootstrap_type (CategoricalDistribution): 0.13681383211230366<extra></extra>",
                    "iterations (IntDistribution): 0.16455463438990864<extra></extra>",
                    "learning_rate (FloatDistribution): 0.4671463656062927<extra></extra>"
                  ],
                  "name": "Objective Value",
                  "orientation": "h",
                  "text": [
                    "<0.01",
                    "<0.01",
                    "0.01",
                    "0.03",
                    "0.04",
                    "0.05",
                    "0.09",
                    "0.14",
                    "0.16",
                    "0.47"
                  ],
                  "textposition": "outside",
                  "type": "bar",
                  "x": [
                    0.0019130534898835242,
                    0.0036378293017144537,
                    0.010858114827891535,
                    0.03192745130585982,
                    0.037440954601312526,
                    0.05494779618863898,
                    0.0907599681761942,
                    0.13681383211230366,
                    0.16455463438990864,
                    0.4671463656062927
                  ],
                  "y": [
                    "random_strength",
                    "l2_leaf_reg",
                    "od_type",
                    "od_wait",
                    "min_data_in_leaf",
                    "bagging_temperature",
                    "depth",
                    "bootstrap_type",
                    "iterations",
                    "learning_rate"
                  ]
                }
              ],
              "layout": {
                "template": {
                  "data": {
                    "bar": [
                      {
                        "error_x": {
                          "color": "#2a3f5f"
                        },
                        "error_y": {
                          "color": "#2a3f5f"
                        },
                        "marker": {
                          "line": {
                            "color": "#E5ECF6",
                            "width": 0.5
                          },
                          "pattern": {
                            "fillmode": "overlay",
                            "size": 10,
                            "solidity": 0.2
                          }
                        },
                        "type": "bar"
                      }
                    ],
                    "barpolar": [
                      {
                        "marker": {
                          "line": {
                            "color": "#E5ECF6",
                            "width": 0.5
                          },
                          "pattern": {
                            "fillmode": "overlay",
                            "size": 10,
                            "solidity": 0.2
                          }
                        },
                        "type": "barpolar"
                      }
                    ],
                    "carpet": [
                      {
                        "aaxis": {
                          "endlinecolor": "#2a3f5f",
                          "gridcolor": "white",
                          "linecolor": "white",
                          "minorgridcolor": "white",
                          "startlinecolor": "#2a3f5f"
                        },
                        "baxis": {
                          "endlinecolor": "#2a3f5f",
                          "gridcolor": "white",
                          "linecolor": "white",
                          "minorgridcolor": "white",
                          "startlinecolor": "#2a3f5f"
                        },
                        "type": "carpet"
                      }
                    ],
                    "choropleth": [
                      {
                        "colorbar": {
                          "outlinewidth": 0,
                          "ticks": ""
                        },
                        "type": "choropleth"
                      }
                    ],
                    "contour": [
                      {
                        "colorbar": {
                          "outlinewidth": 0,
                          "ticks": ""
                        },
                        "colorscale": [
                          [
                            0,
                            "#0d0887"
                          ],
                          [
                            0.1111111111111111,
                            "#46039f"
                          ],
                          [
                            0.2222222222222222,
                            "#7201a8"
                          ],
                          [
                            0.3333333333333333,
                            "#9c179e"
                          ],
                          [
                            0.4444444444444444,
                            "#bd3786"
                          ],
                          [
                            0.5555555555555556,
                            "#d8576b"
                          ],
                          [
                            0.6666666666666666,
                            "#ed7953"
                          ],
                          [
                            0.7777777777777778,
                            "#fb9f3a"
                          ],
                          [
                            0.8888888888888888,
                            "#fdca26"
                          ],
                          [
                            1,
                            "#f0f921"
                          ]
                        ],
                        "type": "contour"
                      }
                    ],
                    "contourcarpet": [
                      {
                        "colorbar": {
                          "outlinewidth": 0,
                          "ticks": ""
                        },
                        "type": "contourcarpet"
                      }
                    ],
                    "heatmap": [
                      {
                        "colorbar": {
                          "outlinewidth": 0,
                          "ticks": ""
                        },
                        "colorscale": [
                          [
                            0,
                            "#0d0887"
                          ],
                          [
                            0.1111111111111111,
                            "#46039f"
                          ],
                          [
                            0.2222222222222222,
                            "#7201a8"
                          ],
                          [
                            0.3333333333333333,
                            "#9c179e"
                          ],
                          [
                            0.4444444444444444,
                            "#bd3786"
                          ],
                          [
                            0.5555555555555556,
                            "#d8576b"
                          ],
                          [
                            0.6666666666666666,
                            "#ed7953"
                          ],
                          [
                            0.7777777777777778,
                            "#fb9f3a"
                          ],
                          [
                            0.8888888888888888,
                            "#fdca26"
                          ],
                          [
                            1,
                            "#f0f921"
                          ]
                        ],
                        "type": "heatmap"
                      }
                    ],
                    "heatmapgl": [
                      {
                        "colorbar": {
                          "outlinewidth": 0,
                          "ticks": ""
                        },
                        "colorscale": [
                          [
                            0,
                            "#0d0887"
                          ],
                          [
                            0.1111111111111111,
                            "#46039f"
                          ],
                          [
                            0.2222222222222222,
                            "#7201a8"
                          ],
                          [
                            0.3333333333333333,
                            "#9c179e"
                          ],
                          [
                            0.4444444444444444,
                            "#bd3786"
                          ],
                          [
                            0.5555555555555556,
                            "#d8576b"
                          ],
                          [
                            0.6666666666666666,
                            "#ed7953"
                          ],
                          [
                            0.7777777777777778,
                            "#fb9f3a"
                          ],
                          [
                            0.8888888888888888,
                            "#fdca26"
                          ],
                          [
                            1,
                            "#f0f921"
                          ]
                        ],
                        "type": "heatmapgl"
                      }
                    ],
                    "histogram": [
                      {
                        "marker": {
                          "pattern": {
                            "fillmode": "overlay",
                            "size": 10,
                            "solidity": 0.2
                          }
                        },
                        "type": "histogram"
                      }
                    ],
                    "histogram2d": [
                      {
                        "colorbar": {
                          "outlinewidth": 0,
                          "ticks": ""
                        },
                        "colorscale": [
                          [
                            0,
                            "#0d0887"
                          ],
                          [
                            0.1111111111111111,
                            "#46039f"
                          ],
                          [
                            0.2222222222222222,
                            "#7201a8"
                          ],
                          [
                            0.3333333333333333,
                            "#9c179e"
                          ],
                          [
                            0.4444444444444444,
                            "#bd3786"
                          ],
                          [
                            0.5555555555555556,
                            "#d8576b"
                          ],
                          [
                            0.6666666666666666,
                            "#ed7953"
                          ],
                          [
                            0.7777777777777778,
                            "#fb9f3a"
                          ],
                          [
                            0.8888888888888888,
                            "#fdca26"
                          ],
                          [
                            1,
                            "#f0f921"
                          ]
                        ],
                        "type": "histogram2d"
                      }
                    ],
                    "histogram2dcontour": [
                      {
                        "colorbar": {
                          "outlinewidth": 0,
                          "ticks": ""
                        },
                        "colorscale": [
                          [
                            0,
                            "#0d0887"
                          ],
                          [
                            0.1111111111111111,
                            "#46039f"
                          ],
                          [
                            0.2222222222222222,
                            "#7201a8"
                          ],
                          [
                            0.3333333333333333,
                            "#9c179e"
                          ],
                          [
                            0.4444444444444444,
                            "#bd3786"
                          ],
                          [
                            0.5555555555555556,
                            "#d8576b"
                          ],
                          [
                            0.6666666666666666,
                            "#ed7953"
                          ],
                          [
                            0.7777777777777778,
                            "#fb9f3a"
                          ],
                          [
                            0.8888888888888888,
                            "#fdca26"
                          ],
                          [
                            1,
                            "#f0f921"
                          ]
                        ],
                        "type": "histogram2dcontour"
                      }
                    ],
                    "mesh3d": [
                      {
                        "colorbar": {
                          "outlinewidth": 0,
                          "ticks": ""
                        },
                        "type": "mesh3d"
                      }
                    ],
                    "parcoords": [
                      {
                        "line": {
                          "colorbar": {
                            "outlinewidth": 0,
                            "ticks": ""
                          }
                        },
                        "type": "parcoords"
                      }
                    ],
                    "pie": [
                      {
                        "automargin": true,
                        "type": "pie"
                      }
                    ],
                    "scatter": [
                      {
                        "fillpattern": {
                          "fillmode": "overlay",
                          "size": 10,
                          "solidity": 0.2
                        },
                        "type": "scatter"
                      }
                    ],
                    "scatter3d": [
                      {
                        "line": {
                          "colorbar": {
                            "outlinewidth": 0,
                            "ticks": ""
                          }
                        },
                        "marker": {
                          "colorbar": {
                            "outlinewidth": 0,
                            "ticks": ""
                          }
                        },
                        "type": "scatter3d"
                      }
                    ],
                    "scattercarpet": [
                      {
                        "marker": {
                          "colorbar": {
                            "outlinewidth": 0,
                            "ticks": ""
                          }
                        },
                        "type": "scattercarpet"
                      }
                    ],
                    "scattergeo": [
                      {
                        "marker": {
                          "colorbar": {
                            "outlinewidth": 0,
                            "ticks": ""
                          }
                        },
                        "type": "scattergeo"
                      }
                    ],
                    "scattergl": [
                      {
                        "marker": {
                          "colorbar": {
                            "outlinewidth": 0,
                            "ticks": ""
                          }
                        },
                        "type": "scattergl"
                      }
                    ],
                    "scattermapbox": [
                      {
                        "marker": {
                          "colorbar": {
                            "outlinewidth": 0,
                            "ticks": ""
                          }
                        },
                        "type": "scattermapbox"
                      }
                    ],
                    "scatterpolar": [
                      {
                        "marker": {
                          "colorbar": {
                            "outlinewidth": 0,
                            "ticks": ""
                          }
                        },
                        "type": "scatterpolar"
                      }
                    ],
                    "scatterpolargl": [
                      {
                        "marker": {
                          "colorbar": {
                            "outlinewidth": 0,
                            "ticks": ""
                          }
                        },
                        "type": "scatterpolargl"
                      }
                    ],
                    "scatterternary": [
                      {
                        "marker": {
                          "colorbar": {
                            "outlinewidth": 0,
                            "ticks": ""
                          }
                        },
                        "type": "scatterternary"
                      }
                    ],
                    "surface": [
                      {
                        "colorbar": {
                          "outlinewidth": 0,
                          "ticks": ""
                        },
                        "colorscale": [
                          [
                            0,
                            "#0d0887"
                          ],
                          [
                            0.1111111111111111,
                            "#46039f"
                          ],
                          [
                            0.2222222222222222,
                            "#7201a8"
                          ],
                          [
                            0.3333333333333333,
                            "#9c179e"
                          ],
                          [
                            0.4444444444444444,
                            "#bd3786"
                          ],
                          [
                            0.5555555555555556,
                            "#d8576b"
                          ],
                          [
                            0.6666666666666666,
                            "#ed7953"
                          ],
                          [
                            0.7777777777777778,
                            "#fb9f3a"
                          ],
                          [
                            0.8888888888888888,
                            "#fdca26"
                          ],
                          [
                            1,
                            "#f0f921"
                          ]
                        ],
                        "type": "surface"
                      }
                    ],
                    "table": [
                      {
                        "cells": {
                          "fill": {
                            "color": "#EBF0F8"
                          },
                          "line": {
                            "color": "white"
                          }
                        },
                        "header": {
                          "fill": {
                            "color": "#C8D4E3"
                          },
                          "line": {
                            "color": "white"
                          }
                        },
                        "type": "table"
                      }
                    ]
                  },
                  "layout": {
                    "annotationdefaults": {
                      "arrowcolor": "#2a3f5f",
                      "arrowhead": 0,
                      "arrowwidth": 1
                    },
                    "autotypenumbers": "strict",
                    "coloraxis": {
                      "colorbar": {
                        "outlinewidth": 0,
                        "ticks": ""
                      }
                    },
                    "colorscale": {
                      "diverging": [
                        [
                          0,
                          "#8e0152"
                        ],
                        [
                          0.1,
                          "#c51b7d"
                        ],
                        [
                          0.2,
                          "#de77ae"
                        ],
                        [
                          0.3,
                          "#f1b6da"
                        ],
                        [
                          0.4,
                          "#fde0ef"
                        ],
                        [
                          0.5,
                          "#f7f7f7"
                        ],
                        [
                          0.6,
                          "#e6f5d0"
                        ],
                        [
                          0.7,
                          "#b8e186"
                        ],
                        [
                          0.8,
                          "#7fbc41"
                        ],
                        [
                          0.9,
                          "#4d9221"
                        ],
                        [
                          1,
                          "#276419"
                        ]
                      ],
                      "sequential": [
                        [
                          0,
                          "#0d0887"
                        ],
                        [
                          0.1111111111111111,
                          "#46039f"
                        ],
                        [
                          0.2222222222222222,
                          "#7201a8"
                        ],
                        [
                          0.3333333333333333,
                          "#9c179e"
                        ],
                        [
                          0.4444444444444444,
                          "#bd3786"
                        ],
                        [
                          0.5555555555555556,
                          "#d8576b"
                        ],
                        [
                          0.6666666666666666,
                          "#ed7953"
                        ],
                        [
                          0.7777777777777778,
                          "#fb9f3a"
                        ],
                        [
                          0.8888888888888888,
                          "#fdca26"
                        ],
                        [
                          1,
                          "#f0f921"
                        ]
                      ],
                      "sequentialminus": [
                        [
                          0,
                          "#0d0887"
                        ],
                        [
                          0.1111111111111111,
                          "#46039f"
                        ],
                        [
                          0.2222222222222222,
                          "#7201a8"
                        ],
                        [
                          0.3333333333333333,
                          "#9c179e"
                        ],
                        [
                          0.4444444444444444,
                          "#bd3786"
                        ],
                        [
                          0.5555555555555556,
                          "#d8576b"
                        ],
                        [
                          0.6666666666666666,
                          "#ed7953"
                        ],
                        [
                          0.7777777777777778,
                          "#fb9f3a"
                        ],
                        [
                          0.8888888888888888,
                          "#fdca26"
                        ],
                        [
                          1,
                          "#f0f921"
                        ]
                      ]
                    },
                    "colorway": [
                      "#636efa",
                      "#EF553B",
                      "#00cc96",
                      "#ab63fa",
                      "#FFA15A",
                      "#19d3f3",
                      "#FF6692",
                      "#B6E880",
                      "#FF97FF",
                      "#FECB52"
                    ],
                    "font": {
                      "color": "#2a3f5f"
                    },
                    "geo": {
                      "bgcolor": "white",
                      "lakecolor": "white",
                      "landcolor": "#E5ECF6",
                      "showlakes": true,
                      "showland": true,
                      "subunitcolor": "white"
                    },
                    "hoverlabel": {
                      "align": "left"
                    },
                    "hovermode": "closest",
                    "mapbox": {
                      "style": "light"
                    },
                    "paper_bgcolor": "white",
                    "plot_bgcolor": "#E5ECF6",
                    "polar": {
                      "angularaxis": {
                        "gridcolor": "white",
                        "linecolor": "white",
                        "ticks": ""
                      },
                      "bgcolor": "#E5ECF6",
                      "radialaxis": {
                        "gridcolor": "white",
                        "linecolor": "white",
                        "ticks": ""
                      }
                    },
                    "scene": {
                      "xaxis": {
                        "backgroundcolor": "#E5ECF6",
                        "gridcolor": "white",
                        "gridwidth": 2,
                        "linecolor": "white",
                        "showbackground": true,
                        "ticks": "",
                        "zerolinecolor": "white"
                      },
                      "yaxis": {
                        "backgroundcolor": "#E5ECF6",
                        "gridcolor": "white",
                        "gridwidth": 2,
                        "linecolor": "white",
                        "showbackground": true,
                        "ticks": "",
                        "zerolinecolor": "white"
                      },
                      "zaxis": {
                        "backgroundcolor": "#E5ECF6",
                        "gridcolor": "white",
                        "gridwidth": 2,
                        "linecolor": "white",
                        "showbackground": true,
                        "ticks": "",
                        "zerolinecolor": "white"
                      }
                    },
                    "shapedefaults": {
                      "line": {
                        "color": "#2a3f5f"
                      }
                    },
                    "ternary": {
                      "aaxis": {
                        "gridcolor": "white",
                        "linecolor": "white",
                        "ticks": ""
                      },
                      "baxis": {
                        "gridcolor": "white",
                        "linecolor": "white",
                        "ticks": ""
                      },
                      "bgcolor": "#E5ECF6",
                      "caxis": {
                        "gridcolor": "white",
                        "linecolor": "white",
                        "ticks": ""
                      }
                    },
                    "title": {
                      "x": 0.05
                    },
                    "xaxis": {
                      "automargin": true,
                      "gridcolor": "white",
                      "linecolor": "white",
                      "ticks": "",
                      "title": {
                        "standoff": 15
                      },
                      "zerolinecolor": "white",
                      "zerolinewidth": 2
                    },
                    "yaxis": {
                      "automargin": true,
                      "gridcolor": "white",
                      "linecolor": "white",
                      "ticks": "",
                      "title": {
                        "standoff": 15
                      },
                      "zerolinecolor": "white",
                      "zerolinewidth": 2
                    }
                  }
                },
                "title": {
                  "text": "Hyperparameter Importances"
                },
                "xaxis": {
                  "title": {
                    "text": "Hyperparameter Importance"
                  }
                },
                "yaxis": {
                  "title": {
                    "text": "Hyperparameter"
                  }
                }
              }
            },
            "text/html": [
              "<div>                        <script type=\"text/javascript\">window.PlotlyConfig = {MathJaxConfig: 'local'};</script>\n",
              "        <script charset=\"utf-8\" src=\"https://cdn.plot.ly/plotly-2.29.1.min.js\"></script>                <div id=\"4ca2752e-39db-435c-8c9d-e0ceefdbcdfb\" class=\"plotly-graph-div\" style=\"height:100%; width:100%;\"></div>            <script type=\"text/javascript\">                                    window.PLOTLYENV=window.PLOTLYENV || {};                                    if (document.getElementById(\"4ca2752e-39db-435c-8c9d-e0ceefdbcdfb\")) {                    Plotly.newPlot(                        \"4ca2752e-39db-435c-8c9d-e0ceefdbcdfb\",                        [{\"cliponaxis\":false,\"hovertemplate\":[\"random_strength (FloatDistribution): 0.0019130534898835242\\u003cextra\\u003e\\u003c\\u002fextra\\u003e\",\"l2_leaf_reg (FloatDistribution): 0.0036378293017144537\\u003cextra\\u003e\\u003c\\u002fextra\\u003e\",\"od_type (CategoricalDistribution): 0.010858114827891535\\u003cextra\\u003e\\u003c\\u002fextra\\u003e\",\"od_wait (IntDistribution): 0.03192745130585982\\u003cextra\\u003e\\u003c\\u002fextra\\u003e\",\"min_data_in_leaf (IntDistribution): 0.037440954601312526\\u003cextra\\u003e\\u003c\\u002fextra\\u003e\",\"bagging_temperature (FloatDistribution): 0.05494779618863898\\u003cextra\\u003e\\u003c\\u002fextra\\u003e\",\"depth (IntDistribution): 0.0907599681761942\\u003cextra\\u003e\\u003c\\u002fextra\\u003e\",\"bootstrap_type (CategoricalDistribution): 0.13681383211230366\\u003cextra\\u003e\\u003c\\u002fextra\\u003e\",\"iterations (IntDistribution): 0.16455463438990864\\u003cextra\\u003e\\u003c\\u002fextra\\u003e\",\"learning_rate (FloatDistribution): 0.4671463656062927\\u003cextra\\u003e\\u003c\\u002fextra\\u003e\"],\"name\":\"Objective Value\",\"orientation\":\"h\",\"text\":[\"\\u003c0.01\",\"\\u003c0.01\",\"0.01\",\"0.03\",\"0.04\",\"0.05\",\"0.09\",\"0.14\",\"0.16\",\"0.47\"],\"textposition\":\"outside\",\"x\":[0.0019130534898835242,0.0036378293017144537,0.010858114827891535,0.03192745130585982,0.037440954601312526,0.05494779618863898,0.0907599681761942,0.13681383211230366,0.16455463438990864,0.4671463656062927],\"y\":[\"random_strength\",\"l2_leaf_reg\",\"od_type\",\"od_wait\",\"min_data_in_leaf\",\"bagging_temperature\",\"depth\",\"bootstrap_type\",\"iterations\",\"learning_rate\"],\"type\":\"bar\"}],                        {\"title\":{\"text\":\"Hyperparameter Importances\"},\"xaxis\":{\"title\":{\"text\":\"Hyperparameter Importance\"}},\"yaxis\":{\"title\":{\"text\":\"Hyperparameter\"}},\"template\":{\"data\":{\"histogram2dcontour\":[{\"type\":\"histogram2dcontour\",\"colorbar\":{\"outlinewidth\":0,\"ticks\":\"\"},\"colorscale\":[[0.0,\"#0d0887\"],[0.1111111111111111,\"#46039f\"],[0.2222222222222222,\"#7201a8\"],[0.3333333333333333,\"#9c179e\"],[0.4444444444444444,\"#bd3786\"],[0.5555555555555556,\"#d8576b\"],[0.6666666666666666,\"#ed7953\"],[0.7777777777777778,\"#fb9f3a\"],[0.8888888888888888,\"#fdca26\"],[1.0,\"#f0f921\"]]}],\"choropleth\":[{\"type\":\"choropleth\",\"colorbar\":{\"outlinewidth\":0,\"ticks\":\"\"}}],\"histogram2d\":[{\"type\":\"histogram2d\",\"colorbar\":{\"outlinewidth\":0,\"ticks\":\"\"},\"colorscale\":[[0.0,\"#0d0887\"],[0.1111111111111111,\"#46039f\"],[0.2222222222222222,\"#7201a8\"],[0.3333333333333333,\"#9c179e\"],[0.4444444444444444,\"#bd3786\"],[0.5555555555555556,\"#d8576b\"],[0.6666666666666666,\"#ed7953\"],[0.7777777777777778,\"#fb9f3a\"],[0.8888888888888888,\"#fdca26\"],[1.0,\"#f0f921\"]]}],\"heatmap\":[{\"type\":\"heatmap\",\"colorbar\":{\"outlinewidth\":0,\"ticks\":\"\"},\"colorscale\":[[0.0,\"#0d0887\"],[0.1111111111111111,\"#46039f\"],[0.2222222222222222,\"#7201a8\"],[0.3333333333333333,\"#9c179e\"],[0.4444444444444444,\"#bd3786\"],[0.5555555555555556,\"#d8576b\"],[0.6666666666666666,\"#ed7953\"],[0.7777777777777778,\"#fb9f3a\"],[0.8888888888888888,\"#fdca26\"],[1.0,\"#f0f921\"]]}],\"heatmapgl\":[{\"type\":\"heatmapgl\",\"colorbar\":{\"outlinewidth\":0,\"ticks\":\"\"},\"colorscale\":[[0.0,\"#0d0887\"],[0.1111111111111111,\"#46039f\"],[0.2222222222222222,\"#7201a8\"],[0.3333333333333333,\"#9c179e\"],[0.4444444444444444,\"#bd3786\"],[0.5555555555555556,\"#d8576b\"],[0.6666666666666666,\"#ed7953\"],[0.7777777777777778,\"#fb9f3a\"],[0.8888888888888888,\"#fdca26\"],[1.0,\"#f0f921\"]]}],\"contourcarpet\":[{\"type\":\"contourcarpet\",\"colorbar\":{\"outlinewidth\":0,\"ticks\":\"\"}}],\"contour\":[{\"type\":\"contour\",\"colorbar\":{\"outlinewidth\":0,\"ticks\":\"\"},\"colorscale\":[[0.0,\"#0d0887\"],[0.1111111111111111,\"#46039f\"],[0.2222222222222222,\"#7201a8\"],[0.3333333333333333,\"#9c179e\"],[0.4444444444444444,\"#bd3786\"],[0.5555555555555556,\"#d8576b\"],[0.6666666666666666,\"#ed7953\"],[0.7777777777777778,\"#fb9f3a\"],[0.8888888888888888,\"#fdca26\"],[1.0,\"#f0f921\"]]}],\"surface\":[{\"type\":\"surface\",\"colorbar\":{\"outlinewidth\":0,\"ticks\":\"\"},\"colorscale\":[[0.0,\"#0d0887\"],[0.1111111111111111,\"#46039f\"],[0.2222222222222222,\"#7201a8\"],[0.3333333333333333,\"#9c179e\"],[0.4444444444444444,\"#bd3786\"],[0.5555555555555556,\"#d8576b\"],[0.6666666666666666,\"#ed7953\"],[0.7777777777777778,\"#fb9f3a\"],[0.8888888888888888,\"#fdca26\"],[1.0,\"#f0f921\"]]}],\"mesh3d\":[{\"type\":\"mesh3d\",\"colorbar\":{\"outlinewidth\":0,\"ticks\":\"\"}}],\"scatter\":[{\"fillpattern\":{\"fillmode\":\"overlay\",\"size\":10,\"solidity\":0.2},\"type\":\"scatter\"}],\"parcoords\":[{\"type\":\"parcoords\",\"line\":{\"colorbar\":{\"outlinewidth\":0,\"ticks\":\"\"}}}],\"scatterpolargl\":[{\"type\":\"scatterpolargl\",\"marker\":{\"colorbar\":{\"outlinewidth\":0,\"ticks\":\"\"}}}],\"bar\":[{\"error_x\":{\"color\":\"#2a3f5f\"},\"error_y\":{\"color\":\"#2a3f5f\"},\"marker\":{\"line\":{\"color\":\"#E5ECF6\",\"width\":0.5},\"pattern\":{\"fillmode\":\"overlay\",\"size\":10,\"solidity\":0.2}},\"type\":\"bar\"}],\"scattergeo\":[{\"type\":\"scattergeo\",\"marker\":{\"colorbar\":{\"outlinewidth\":0,\"ticks\":\"\"}}}],\"scatterpolar\":[{\"type\":\"scatterpolar\",\"marker\":{\"colorbar\":{\"outlinewidth\":0,\"ticks\":\"\"}}}],\"histogram\":[{\"marker\":{\"pattern\":{\"fillmode\":\"overlay\",\"size\":10,\"solidity\":0.2}},\"type\":\"histogram\"}],\"scattergl\":[{\"type\":\"scattergl\",\"marker\":{\"colorbar\":{\"outlinewidth\":0,\"ticks\":\"\"}}}],\"scatter3d\":[{\"type\":\"scatter3d\",\"line\":{\"colorbar\":{\"outlinewidth\":0,\"ticks\":\"\"}},\"marker\":{\"colorbar\":{\"outlinewidth\":0,\"ticks\":\"\"}}}],\"scattermapbox\":[{\"type\":\"scattermapbox\",\"marker\":{\"colorbar\":{\"outlinewidth\":0,\"ticks\":\"\"}}}],\"scatterternary\":[{\"type\":\"scatterternary\",\"marker\":{\"colorbar\":{\"outlinewidth\":0,\"ticks\":\"\"}}}],\"scattercarpet\":[{\"type\":\"scattercarpet\",\"marker\":{\"colorbar\":{\"outlinewidth\":0,\"ticks\":\"\"}}}],\"carpet\":[{\"aaxis\":{\"endlinecolor\":\"#2a3f5f\",\"gridcolor\":\"white\",\"linecolor\":\"white\",\"minorgridcolor\":\"white\",\"startlinecolor\":\"#2a3f5f\"},\"baxis\":{\"endlinecolor\":\"#2a3f5f\",\"gridcolor\":\"white\",\"linecolor\":\"white\",\"minorgridcolor\":\"white\",\"startlinecolor\":\"#2a3f5f\"},\"type\":\"carpet\"}],\"table\":[{\"cells\":{\"fill\":{\"color\":\"#EBF0F8\"},\"line\":{\"color\":\"white\"}},\"header\":{\"fill\":{\"color\":\"#C8D4E3\"},\"line\":{\"color\":\"white\"}},\"type\":\"table\"}],\"barpolar\":[{\"marker\":{\"line\":{\"color\":\"#E5ECF6\",\"width\":0.5},\"pattern\":{\"fillmode\":\"overlay\",\"size\":10,\"solidity\":0.2}},\"type\":\"barpolar\"}],\"pie\":[{\"automargin\":true,\"type\":\"pie\"}]},\"layout\":{\"autotypenumbers\":\"strict\",\"colorway\":[\"#636efa\",\"#EF553B\",\"#00cc96\",\"#ab63fa\",\"#FFA15A\",\"#19d3f3\",\"#FF6692\",\"#B6E880\",\"#FF97FF\",\"#FECB52\"],\"font\":{\"color\":\"#2a3f5f\"},\"hovermode\":\"closest\",\"hoverlabel\":{\"align\":\"left\"},\"paper_bgcolor\":\"white\",\"plot_bgcolor\":\"#E5ECF6\",\"polar\":{\"bgcolor\":\"#E5ECF6\",\"angularaxis\":{\"gridcolor\":\"white\",\"linecolor\":\"white\",\"ticks\":\"\"},\"radialaxis\":{\"gridcolor\":\"white\",\"linecolor\":\"white\",\"ticks\":\"\"}},\"ternary\":{\"bgcolor\":\"#E5ECF6\",\"aaxis\":{\"gridcolor\":\"white\",\"linecolor\":\"white\",\"ticks\":\"\"},\"baxis\":{\"gridcolor\":\"white\",\"linecolor\":\"white\",\"ticks\":\"\"},\"caxis\":{\"gridcolor\":\"white\",\"linecolor\":\"white\",\"ticks\":\"\"}},\"coloraxis\":{\"colorbar\":{\"outlinewidth\":0,\"ticks\":\"\"}},\"colorscale\":{\"sequential\":[[0.0,\"#0d0887\"],[0.1111111111111111,\"#46039f\"],[0.2222222222222222,\"#7201a8\"],[0.3333333333333333,\"#9c179e\"],[0.4444444444444444,\"#bd3786\"],[0.5555555555555556,\"#d8576b\"],[0.6666666666666666,\"#ed7953\"],[0.7777777777777778,\"#fb9f3a\"],[0.8888888888888888,\"#fdca26\"],[1.0,\"#f0f921\"]],\"sequentialminus\":[[0.0,\"#0d0887\"],[0.1111111111111111,\"#46039f\"],[0.2222222222222222,\"#7201a8\"],[0.3333333333333333,\"#9c179e\"],[0.4444444444444444,\"#bd3786\"],[0.5555555555555556,\"#d8576b\"],[0.6666666666666666,\"#ed7953\"],[0.7777777777777778,\"#fb9f3a\"],[0.8888888888888888,\"#fdca26\"],[1.0,\"#f0f921\"]],\"diverging\":[[0,\"#8e0152\"],[0.1,\"#c51b7d\"],[0.2,\"#de77ae\"],[0.3,\"#f1b6da\"],[0.4,\"#fde0ef\"],[0.5,\"#f7f7f7\"],[0.6,\"#e6f5d0\"],[0.7,\"#b8e186\"],[0.8,\"#7fbc41\"],[0.9,\"#4d9221\"],[1,\"#276419\"]]},\"xaxis\":{\"gridcolor\":\"white\",\"linecolor\":\"white\",\"ticks\":\"\",\"title\":{\"standoff\":15},\"zerolinecolor\":\"white\",\"automargin\":true,\"zerolinewidth\":2},\"yaxis\":{\"gridcolor\":\"white\",\"linecolor\":\"white\",\"ticks\":\"\",\"title\":{\"standoff\":15},\"zerolinecolor\":\"white\",\"automargin\":true,\"zerolinewidth\":2},\"scene\":{\"xaxis\":{\"backgroundcolor\":\"#E5ECF6\",\"gridcolor\":\"white\",\"linecolor\":\"white\",\"showbackground\":true,\"ticks\":\"\",\"zerolinecolor\":\"white\",\"gridwidth\":2},\"yaxis\":{\"backgroundcolor\":\"#E5ECF6\",\"gridcolor\":\"white\",\"linecolor\":\"white\",\"showbackground\":true,\"ticks\":\"\",\"zerolinecolor\":\"white\",\"gridwidth\":2},\"zaxis\":{\"backgroundcolor\":\"#E5ECF6\",\"gridcolor\":\"white\",\"linecolor\":\"white\",\"showbackground\":true,\"ticks\":\"\",\"zerolinecolor\":\"white\",\"gridwidth\":2}},\"shapedefaults\":{\"line\":{\"color\":\"#2a3f5f\"}},\"annotationdefaults\":{\"arrowcolor\":\"#2a3f5f\",\"arrowhead\":0,\"arrowwidth\":1},\"geo\":{\"bgcolor\":\"white\",\"landcolor\":\"#E5ECF6\",\"subunitcolor\":\"white\",\"showland\":true,\"showlakes\":true,\"lakecolor\":\"white\"},\"title\":{\"x\":0.05},\"mapbox\":{\"style\":\"light\"}}}},                        {\"responsive\": true}                    )                };                            </script>        </div>"
            ],
            "text/plain": [
              "Figure({\n",
              "    'data': [{'cliponaxis': False,\n",
              "              'hovertemplate': [random_strength (FloatDistribution):\n",
              "                                0.0019130534898835242<extra></extra>, l2_leaf_reg\n",
              "                                (FloatDistribution):\n",
              "                                0.0036378293017144537<extra></extra>, od_type\n",
              "                                (CategoricalDistribution):\n",
              "                                0.010858114827891535<extra></extra>, od_wait\n",
              "                                (IntDistribution):\n",
              "                                0.03192745130585982<extra></extra>,\n",
              "                                min_data_in_leaf (IntDistribution):\n",
              "                                0.037440954601312526<extra></extra>,\n",
              "                                bagging_temperature (FloatDistribution):\n",
              "                                0.05494779618863898<extra></extra>, depth\n",
              "                                (IntDistribution):\n",
              "                                0.0907599681761942<extra></extra>, bootstrap_type\n",
              "                                (CategoricalDistribution):\n",
              "                                0.13681383211230366<extra></extra>, iterations\n",
              "                                (IntDistribution):\n",
              "                                0.16455463438990864<extra></extra>, learning_rate\n",
              "                                (FloatDistribution):\n",
              "                                0.4671463656062927<extra></extra>],\n",
              "              'name': 'Objective Value',\n",
              "              'orientation': 'h',\n",
              "              'text': [<0.01, <0.01, 0.01, 0.03, 0.04, 0.05, 0.09, 0.14, 0.16,\n",
              "                       0.47],\n",
              "              'textposition': 'outside',\n",
              "              'type': 'bar',\n",
              "              'x': [0.0019130534898835242, 0.0036378293017144537,\n",
              "                    0.010858114827891535, 0.03192745130585982,\n",
              "                    0.037440954601312526, 0.05494779618863898, 0.0907599681761942,\n",
              "                    0.13681383211230366, 0.16455463438990864, 0.4671463656062927],\n",
              "              'y': [random_strength, l2_leaf_reg, od_type, od_wait,\n",
              "                    min_data_in_leaf, bagging_temperature, depth, bootstrap_type,\n",
              "                    iterations, learning_rate]}],\n",
              "    'layout': {'template': '...',\n",
              "               'title': {'text': 'Hyperparameter Importances'},\n",
              "               'xaxis': {'title': {'text': 'Hyperparameter Importance'}},\n",
              "               'yaxis': {'title': {'text': 'Hyperparameter'}}}\n",
              "})"
            ]
          },
          "execution_count": 44,
          "metadata": {},
          "output_type": "execute_result"
        }
      ],
      "source": [
        "# 하이퍼파라미터별 중요도를 확인할 수 있는 그래프\n",
        "optuna.visualization.plot_param_importances(study_cat)"
      ]
    },
    {
      "cell_type": "code",
      "execution_count": 46,
      "metadata": {
        "colab": {
          "base_uri": "https://localhost:8080/",
          "height": 542
        },
        "id": "gf-DiDSgFuQe",
        "outputId": "7e9cea98-63de-441b-ff38-25f0cf4dd23c"
      },
      "outputs": [
        {
          "ename": "ValueError",
          "evalue": "Mime type rendering requires nbformat>=4.2.0 but it is not installed",
          "output_type": "error",
          "traceback": [
            "\u001b[1;31m---------------------------------------------------------------------------\u001b[0m",
            "\u001b[1;31mValueError\u001b[0m                                Traceback (most recent call last)",
            "File \u001b[1;32mc:\\Users\\aryij\\anaconda3\\envs\\weather\\Lib\\site-packages\\IPython\\core\\formatters.py:922\u001b[0m, in \u001b[0;36mIPythonDisplayFormatter.__call__\u001b[1;34m(self, obj)\u001b[0m\n\u001b[0;32m    920\u001b[0m method \u001b[38;5;241m=\u001b[39m get_real_method(obj, \u001b[38;5;28mself\u001b[39m\u001b[38;5;241m.\u001b[39mprint_method)\n\u001b[0;32m    921\u001b[0m \u001b[38;5;28;01mif\u001b[39;00m method \u001b[38;5;129;01mis\u001b[39;00m \u001b[38;5;129;01mnot\u001b[39;00m \u001b[38;5;28;01mNone\u001b[39;00m:\n\u001b[1;32m--> 922\u001b[0m     method()\n\u001b[0;32m    923\u001b[0m     \u001b[38;5;28;01mreturn\u001b[39;00m \u001b[38;5;28;01mTrue\u001b[39;00m\n",
            "File \u001b[1;32mc:\\Users\\aryij\\anaconda3\\envs\\weather\\Lib\\site-packages\\plotly\\basedatatypes.py:832\u001b[0m, in \u001b[0;36mBaseFigure._ipython_display_\u001b[1;34m(self)\u001b[0m\n\u001b[0;32m    829\u001b[0m \u001b[38;5;28;01mimport\u001b[39;00m \u001b[38;5;21;01mplotly\u001b[39;00m\u001b[38;5;21;01m.\u001b[39;00m\u001b[38;5;21;01mio\u001b[39;00m \u001b[38;5;28;01mas\u001b[39;00m \u001b[38;5;21;01mpio\u001b[39;00m\n\u001b[0;32m    831\u001b[0m \u001b[38;5;28;01mif\u001b[39;00m pio\u001b[38;5;241m.\u001b[39mrenderers\u001b[38;5;241m.\u001b[39mrender_on_display \u001b[38;5;129;01mand\u001b[39;00m pio\u001b[38;5;241m.\u001b[39mrenderers\u001b[38;5;241m.\u001b[39mdefault:\n\u001b[1;32m--> 832\u001b[0m     pio\u001b[38;5;241m.\u001b[39mshow(\u001b[38;5;28mself\u001b[39m)\n\u001b[0;32m    833\u001b[0m \u001b[38;5;28;01melse\u001b[39;00m:\n\u001b[0;32m    834\u001b[0m     \u001b[38;5;28mprint\u001b[39m(\u001b[38;5;28mrepr\u001b[39m(\u001b[38;5;28mself\u001b[39m))\n",
            "File \u001b[1;32mc:\\Users\\aryij\\anaconda3\\envs\\weather\\Lib\\site-packages\\plotly\\io\\_renderers.py:394\u001b[0m, in \u001b[0;36mshow\u001b[1;34m(fig, renderer, validate, **kwargs)\u001b[0m\n\u001b[0;32m    389\u001b[0m         \u001b[38;5;28;01mraise\u001b[39;00m \u001b[38;5;167;01mValueError\u001b[39;00m(\n\u001b[0;32m    390\u001b[0m             \u001b[38;5;124m\"\u001b[39m\u001b[38;5;124mMime type rendering requires ipython but it is not installed\u001b[39m\u001b[38;5;124m\"\u001b[39m\n\u001b[0;32m    391\u001b[0m         )\n\u001b[0;32m    393\u001b[0m     \u001b[38;5;28;01mif\u001b[39;00m \u001b[38;5;129;01mnot\u001b[39;00m nbformat \u001b[38;5;129;01mor\u001b[39;00m Version(nbformat\u001b[38;5;241m.\u001b[39m__version__) \u001b[38;5;241m<\u001b[39m Version(\u001b[38;5;124m\"\u001b[39m\u001b[38;5;124m4.2.0\u001b[39m\u001b[38;5;124m\"\u001b[39m):\n\u001b[1;32m--> 394\u001b[0m         \u001b[38;5;28;01mraise\u001b[39;00m \u001b[38;5;167;01mValueError\u001b[39;00m(\n\u001b[0;32m    395\u001b[0m             \u001b[38;5;124m\"\u001b[39m\u001b[38;5;124mMime type rendering requires nbformat>=4.2.0 but it is not installed\u001b[39m\u001b[38;5;124m\"\u001b[39m\n\u001b[0;32m    396\u001b[0m         )\n\u001b[0;32m    398\u001b[0m     ipython_display\u001b[38;5;241m.\u001b[39mdisplay(bundle, raw\u001b[38;5;241m=\u001b[39m\u001b[38;5;28;01mTrue\u001b[39;00m)\n\u001b[0;32m    400\u001b[0m \u001b[38;5;66;03m# external renderers\u001b[39;00m\n",
            "\u001b[1;31mValueError\u001b[0m: Mime type rendering requires nbformat>=4.2.0 but it is not installed"
          ]
        },
        {
          "data": {
            "application/vnd.plotly.v1+json": {
              "config": {
                "plotlyServerURL": "https://plot.ly"
              },
              "data": [
                {
                  "mode": "markers",
                  "name": "Objective Value",
                  "type": "scatter",
                  "x": [
                    0,
                    1,
                    2,
                    3,
                    4,
                    5,
                    6,
                    7,
                    8,
                    9,
                    10,
                    11,
                    12,
                    13,
                    14,
                    15,
                    16,
                    17,
                    18,
                    19,
                    20,
                    21,
                    22,
                    23,
                    24,
                    25,
                    26,
                    27,
                    28,
                    29,
                    30,
                    31,
                    32,
                    33,
                    34,
                    35,
                    36,
                    37,
                    38,
                    39,
                    40,
                    41,
                    42,
                    43,
                    44,
                    45,
                    46,
                    47,
                    48,
                    49,
                    50,
                    51,
                    52,
                    53,
                    54,
                    55,
                    56,
                    57,
                    58,
                    59,
                    60,
                    61,
                    62,
                    63,
                    64,
                    65,
                    66,
                    67,
                    68,
                    69,
                    70,
                    71,
                    72,
                    73,
                    74,
                    75,
                    76,
                    77,
                    78,
                    79,
                    80,
                    81,
                    82,
                    83,
                    84,
                    85,
                    86,
                    87,
                    88,
                    89,
                    90,
                    91,
                    92,
                    93,
                    94,
                    95,
                    96,
                    97,
                    98,
                    99
                  ],
                  "y": [
                    0.05268389662027833,
                    0,
                    0.003582158539403744,
                    0,
                    0.0015124779430299975,
                    0,
                    0.001890359168241966,
                    0,
                    0,
                    0.02403732110381909,
                    0.02196285140562249,
                    0.023853519233999664,
                    0,
                    0.03674894041386188,
                    0.05390060979883648,
                    0.04363500745897563,
                    0.022873937767554788,
                    0.06599110232328226,
                    0,
                    0.006419939577039275,
                    0.03661127077345995,
                    0.05775188994918825,
                    0.023111877154497022,
                    0.039695418799151165,
                    0.0030818278427205102,
                    0.04527313544524819,
                    0,
                    0.01465380388325803,
                    0.037620535107972294,
                    0.003637275805844726,
                    0.030647934080265577,
                    0.0392156862745098,
                    0.014409855901440985,
                    0,
                    0.019958962880059692,
                    0.024592220828105395,
                    0,
                    0.06338811318423329,
                    0.06467969329705664,
                    0.07747259514718562,
                    0,
                    0.051931917008324016,
                    0.09730520668211194,
                    0.04899888073622684,
                    0.08938615798483737,
                    0.07795566502463054,
                    0.08221703330465774,
                    0.053194133731046485,
                    0.076592082616179,
                    0.03182957393483709,
                    0.0015122873345935729,
                    0.07701771653543307,
                    0.11997585998792999,
                    0.0742513500245459,
                    0.11544028950542823,
                    0.11797346200241254,
                    0.023551784669397308,
                    0,
                    0.009778864318257583,
                    0.003905757843013733,
                    0.09425679795146934,
                    0.11349062310949788,
                    0.09290684898058844,
                    0.08657849620377174,
                    0.11190332326283987,
                    0.032427895620326566,
                    0.11202516331962255,
                    0.13155693631258214,
                    0.10687856362974645,
                    0,
                    0.12343900096061479,
                    0.1228660735753787,
                    0.1256311613368598,
                    0.0008031698436496038,
                    0.12253249879634087,
                    0.12670986321094313,
                    0.03629105425512611,
                    0.12360628222035727,
                    0.1054031185785084,
                    0.019073911406700967,
                    0.015614953614402498,
                    0.12678250449370881,
                    0.03189648067254595,
                    0.043772968558595346,
                    0.046146572104018915,
                    0,
                    0.036847269159489805,
                    0.07420969119980471,
                    0.04444612134017507,
                    0.06844660194174758,
                    0.09361233480176212,
                    0.11632677687944974,
                    0.13132760267430754,
                    0.05503626710536155,
                    0.11951305162121034,
                    0.021898417985012488,
                    0.013304882640893686,
                    0.010520231213872832,
                    0.04409660107334526,
                    0
                  ]
                },
                {
                  "mode": "lines",
                  "name": "Best Value",
                  "type": "scatter",
                  "x": [
                    0,
                    1,
                    2,
                    3,
                    4,
                    5,
                    6,
                    7,
                    8,
                    9,
                    10,
                    11,
                    12,
                    13,
                    14,
                    15,
                    16,
                    17,
                    18,
                    19,
                    20,
                    21,
                    22,
                    23,
                    24,
                    25,
                    26,
                    27,
                    28,
                    29,
                    30,
                    31,
                    32,
                    33,
                    34,
                    35,
                    36,
                    37,
                    38,
                    39,
                    40,
                    41,
                    42,
                    43,
                    44,
                    45,
                    46,
                    47,
                    48,
                    49,
                    50,
                    51,
                    52,
                    53,
                    54,
                    55,
                    56,
                    57,
                    58,
                    59,
                    60,
                    61,
                    62,
                    63,
                    64,
                    65,
                    66,
                    67,
                    68,
                    69,
                    70,
                    71,
                    72,
                    73,
                    74,
                    75,
                    76,
                    77,
                    78,
                    79,
                    80,
                    81,
                    82,
                    83,
                    84,
                    85,
                    86,
                    87,
                    88,
                    89,
                    90,
                    91,
                    92,
                    93,
                    94,
                    95,
                    96,
                    97,
                    98,
                    99
                  ],
                  "y": [
                    0.05268389662027833,
                    0.05268389662027833,
                    0.05268389662027833,
                    0.05268389662027833,
                    0.05268389662027833,
                    0.05268389662027833,
                    0.05268389662027833,
                    0.05268389662027833,
                    0.05268389662027833,
                    0.05268389662027833,
                    0.05268389662027833,
                    0.05268389662027833,
                    0.05268389662027833,
                    0.05268389662027833,
                    0.05390060979883648,
                    0.05390060979883648,
                    0.05390060979883648,
                    0.06599110232328226,
                    0.06599110232328226,
                    0.06599110232328226,
                    0.06599110232328226,
                    0.06599110232328226,
                    0.06599110232328226,
                    0.06599110232328226,
                    0.06599110232328226,
                    0.06599110232328226,
                    0.06599110232328226,
                    0.06599110232328226,
                    0.06599110232328226,
                    0.06599110232328226,
                    0.06599110232328226,
                    0.06599110232328226,
                    0.06599110232328226,
                    0.06599110232328226,
                    0.06599110232328226,
                    0.06599110232328226,
                    0.06599110232328226,
                    0.06599110232328226,
                    0.06599110232328226,
                    0.07747259514718562,
                    0.07747259514718562,
                    0.07747259514718562,
                    0.09730520668211194,
                    0.09730520668211194,
                    0.09730520668211194,
                    0.09730520668211194,
                    0.09730520668211194,
                    0.09730520668211194,
                    0.09730520668211194,
                    0.09730520668211194,
                    0.09730520668211194,
                    0.09730520668211194,
                    0.11997585998792999,
                    0.11997585998792999,
                    0.11997585998792999,
                    0.11997585998792999,
                    0.11997585998792999,
                    0.11997585998792999,
                    0.11997585998792999,
                    0.11997585998792999,
                    0.11997585998792999,
                    0.11997585998792999,
                    0.11997585998792999,
                    0.11997585998792999,
                    0.11997585998792999,
                    0.11997585998792999,
                    0.11997585998792999,
                    0.13155693631258214,
                    0.13155693631258214,
                    0.13155693631258214,
                    0.13155693631258214,
                    0.13155693631258214,
                    0.13155693631258214,
                    0.13155693631258214,
                    0.13155693631258214,
                    0.13155693631258214,
                    0.13155693631258214,
                    0.13155693631258214,
                    0.13155693631258214,
                    0.13155693631258214,
                    0.13155693631258214,
                    0.13155693631258214,
                    0.13155693631258214,
                    0.13155693631258214,
                    0.13155693631258214,
                    0.13155693631258214,
                    0.13155693631258214,
                    0.13155693631258214,
                    0.13155693631258214,
                    0.13155693631258214,
                    0.13155693631258214,
                    0.13155693631258214,
                    0.13155693631258214,
                    0.13155693631258214,
                    0.13155693631258214,
                    0.13155693631258214,
                    0.13155693631258214,
                    0.13155693631258214,
                    0.13155693631258214,
                    0.13155693631258214
                  ]
                },
                {
                  "marker": {
                    "color": "#cccccc"
                  },
                  "mode": "markers",
                  "name": "Infeasible Trial",
                  "showlegend": false,
                  "type": "scatter",
                  "x": [],
                  "y": []
                }
              ],
              "layout": {
                "template": {
                  "data": {
                    "bar": [
                      {
                        "error_x": {
                          "color": "#2a3f5f"
                        },
                        "error_y": {
                          "color": "#2a3f5f"
                        },
                        "marker": {
                          "line": {
                            "color": "#E5ECF6",
                            "width": 0.5
                          },
                          "pattern": {
                            "fillmode": "overlay",
                            "size": 10,
                            "solidity": 0.2
                          }
                        },
                        "type": "bar"
                      }
                    ],
                    "barpolar": [
                      {
                        "marker": {
                          "line": {
                            "color": "#E5ECF6",
                            "width": 0.5
                          },
                          "pattern": {
                            "fillmode": "overlay",
                            "size": 10,
                            "solidity": 0.2
                          }
                        },
                        "type": "barpolar"
                      }
                    ],
                    "carpet": [
                      {
                        "aaxis": {
                          "endlinecolor": "#2a3f5f",
                          "gridcolor": "white",
                          "linecolor": "white",
                          "minorgridcolor": "white",
                          "startlinecolor": "#2a3f5f"
                        },
                        "baxis": {
                          "endlinecolor": "#2a3f5f",
                          "gridcolor": "white",
                          "linecolor": "white",
                          "minorgridcolor": "white",
                          "startlinecolor": "#2a3f5f"
                        },
                        "type": "carpet"
                      }
                    ],
                    "choropleth": [
                      {
                        "colorbar": {
                          "outlinewidth": 0,
                          "ticks": ""
                        },
                        "type": "choropleth"
                      }
                    ],
                    "contour": [
                      {
                        "colorbar": {
                          "outlinewidth": 0,
                          "ticks": ""
                        },
                        "colorscale": [
                          [
                            0,
                            "#0d0887"
                          ],
                          [
                            0.1111111111111111,
                            "#46039f"
                          ],
                          [
                            0.2222222222222222,
                            "#7201a8"
                          ],
                          [
                            0.3333333333333333,
                            "#9c179e"
                          ],
                          [
                            0.4444444444444444,
                            "#bd3786"
                          ],
                          [
                            0.5555555555555556,
                            "#d8576b"
                          ],
                          [
                            0.6666666666666666,
                            "#ed7953"
                          ],
                          [
                            0.7777777777777778,
                            "#fb9f3a"
                          ],
                          [
                            0.8888888888888888,
                            "#fdca26"
                          ],
                          [
                            1,
                            "#f0f921"
                          ]
                        ],
                        "type": "contour"
                      }
                    ],
                    "contourcarpet": [
                      {
                        "colorbar": {
                          "outlinewidth": 0,
                          "ticks": ""
                        },
                        "type": "contourcarpet"
                      }
                    ],
                    "heatmap": [
                      {
                        "colorbar": {
                          "outlinewidth": 0,
                          "ticks": ""
                        },
                        "colorscale": [
                          [
                            0,
                            "#0d0887"
                          ],
                          [
                            0.1111111111111111,
                            "#46039f"
                          ],
                          [
                            0.2222222222222222,
                            "#7201a8"
                          ],
                          [
                            0.3333333333333333,
                            "#9c179e"
                          ],
                          [
                            0.4444444444444444,
                            "#bd3786"
                          ],
                          [
                            0.5555555555555556,
                            "#d8576b"
                          ],
                          [
                            0.6666666666666666,
                            "#ed7953"
                          ],
                          [
                            0.7777777777777778,
                            "#fb9f3a"
                          ],
                          [
                            0.8888888888888888,
                            "#fdca26"
                          ],
                          [
                            1,
                            "#f0f921"
                          ]
                        ],
                        "type": "heatmap"
                      }
                    ],
                    "heatmapgl": [
                      {
                        "colorbar": {
                          "outlinewidth": 0,
                          "ticks": ""
                        },
                        "colorscale": [
                          [
                            0,
                            "#0d0887"
                          ],
                          [
                            0.1111111111111111,
                            "#46039f"
                          ],
                          [
                            0.2222222222222222,
                            "#7201a8"
                          ],
                          [
                            0.3333333333333333,
                            "#9c179e"
                          ],
                          [
                            0.4444444444444444,
                            "#bd3786"
                          ],
                          [
                            0.5555555555555556,
                            "#d8576b"
                          ],
                          [
                            0.6666666666666666,
                            "#ed7953"
                          ],
                          [
                            0.7777777777777778,
                            "#fb9f3a"
                          ],
                          [
                            0.8888888888888888,
                            "#fdca26"
                          ],
                          [
                            1,
                            "#f0f921"
                          ]
                        ],
                        "type": "heatmapgl"
                      }
                    ],
                    "histogram": [
                      {
                        "marker": {
                          "pattern": {
                            "fillmode": "overlay",
                            "size": 10,
                            "solidity": 0.2
                          }
                        },
                        "type": "histogram"
                      }
                    ],
                    "histogram2d": [
                      {
                        "colorbar": {
                          "outlinewidth": 0,
                          "ticks": ""
                        },
                        "colorscale": [
                          [
                            0,
                            "#0d0887"
                          ],
                          [
                            0.1111111111111111,
                            "#46039f"
                          ],
                          [
                            0.2222222222222222,
                            "#7201a8"
                          ],
                          [
                            0.3333333333333333,
                            "#9c179e"
                          ],
                          [
                            0.4444444444444444,
                            "#bd3786"
                          ],
                          [
                            0.5555555555555556,
                            "#d8576b"
                          ],
                          [
                            0.6666666666666666,
                            "#ed7953"
                          ],
                          [
                            0.7777777777777778,
                            "#fb9f3a"
                          ],
                          [
                            0.8888888888888888,
                            "#fdca26"
                          ],
                          [
                            1,
                            "#f0f921"
                          ]
                        ],
                        "type": "histogram2d"
                      }
                    ],
                    "histogram2dcontour": [
                      {
                        "colorbar": {
                          "outlinewidth": 0,
                          "ticks": ""
                        },
                        "colorscale": [
                          [
                            0,
                            "#0d0887"
                          ],
                          [
                            0.1111111111111111,
                            "#46039f"
                          ],
                          [
                            0.2222222222222222,
                            "#7201a8"
                          ],
                          [
                            0.3333333333333333,
                            "#9c179e"
                          ],
                          [
                            0.4444444444444444,
                            "#bd3786"
                          ],
                          [
                            0.5555555555555556,
                            "#d8576b"
                          ],
                          [
                            0.6666666666666666,
                            "#ed7953"
                          ],
                          [
                            0.7777777777777778,
                            "#fb9f3a"
                          ],
                          [
                            0.8888888888888888,
                            "#fdca26"
                          ],
                          [
                            1,
                            "#f0f921"
                          ]
                        ],
                        "type": "histogram2dcontour"
                      }
                    ],
                    "mesh3d": [
                      {
                        "colorbar": {
                          "outlinewidth": 0,
                          "ticks": ""
                        },
                        "type": "mesh3d"
                      }
                    ],
                    "parcoords": [
                      {
                        "line": {
                          "colorbar": {
                            "outlinewidth": 0,
                            "ticks": ""
                          }
                        },
                        "type": "parcoords"
                      }
                    ],
                    "pie": [
                      {
                        "automargin": true,
                        "type": "pie"
                      }
                    ],
                    "scatter": [
                      {
                        "fillpattern": {
                          "fillmode": "overlay",
                          "size": 10,
                          "solidity": 0.2
                        },
                        "type": "scatter"
                      }
                    ],
                    "scatter3d": [
                      {
                        "line": {
                          "colorbar": {
                            "outlinewidth": 0,
                            "ticks": ""
                          }
                        },
                        "marker": {
                          "colorbar": {
                            "outlinewidth": 0,
                            "ticks": ""
                          }
                        },
                        "type": "scatter3d"
                      }
                    ],
                    "scattercarpet": [
                      {
                        "marker": {
                          "colorbar": {
                            "outlinewidth": 0,
                            "ticks": ""
                          }
                        },
                        "type": "scattercarpet"
                      }
                    ],
                    "scattergeo": [
                      {
                        "marker": {
                          "colorbar": {
                            "outlinewidth": 0,
                            "ticks": ""
                          }
                        },
                        "type": "scattergeo"
                      }
                    ],
                    "scattergl": [
                      {
                        "marker": {
                          "colorbar": {
                            "outlinewidth": 0,
                            "ticks": ""
                          }
                        },
                        "type": "scattergl"
                      }
                    ],
                    "scattermapbox": [
                      {
                        "marker": {
                          "colorbar": {
                            "outlinewidth": 0,
                            "ticks": ""
                          }
                        },
                        "type": "scattermapbox"
                      }
                    ],
                    "scatterpolar": [
                      {
                        "marker": {
                          "colorbar": {
                            "outlinewidth": 0,
                            "ticks": ""
                          }
                        },
                        "type": "scatterpolar"
                      }
                    ],
                    "scatterpolargl": [
                      {
                        "marker": {
                          "colorbar": {
                            "outlinewidth": 0,
                            "ticks": ""
                          }
                        },
                        "type": "scatterpolargl"
                      }
                    ],
                    "scatterternary": [
                      {
                        "marker": {
                          "colorbar": {
                            "outlinewidth": 0,
                            "ticks": ""
                          }
                        },
                        "type": "scatterternary"
                      }
                    ],
                    "surface": [
                      {
                        "colorbar": {
                          "outlinewidth": 0,
                          "ticks": ""
                        },
                        "colorscale": [
                          [
                            0,
                            "#0d0887"
                          ],
                          [
                            0.1111111111111111,
                            "#46039f"
                          ],
                          [
                            0.2222222222222222,
                            "#7201a8"
                          ],
                          [
                            0.3333333333333333,
                            "#9c179e"
                          ],
                          [
                            0.4444444444444444,
                            "#bd3786"
                          ],
                          [
                            0.5555555555555556,
                            "#d8576b"
                          ],
                          [
                            0.6666666666666666,
                            "#ed7953"
                          ],
                          [
                            0.7777777777777778,
                            "#fb9f3a"
                          ],
                          [
                            0.8888888888888888,
                            "#fdca26"
                          ],
                          [
                            1,
                            "#f0f921"
                          ]
                        ],
                        "type": "surface"
                      }
                    ],
                    "table": [
                      {
                        "cells": {
                          "fill": {
                            "color": "#EBF0F8"
                          },
                          "line": {
                            "color": "white"
                          }
                        },
                        "header": {
                          "fill": {
                            "color": "#C8D4E3"
                          },
                          "line": {
                            "color": "white"
                          }
                        },
                        "type": "table"
                      }
                    ]
                  },
                  "layout": {
                    "annotationdefaults": {
                      "arrowcolor": "#2a3f5f",
                      "arrowhead": 0,
                      "arrowwidth": 1
                    },
                    "autotypenumbers": "strict",
                    "coloraxis": {
                      "colorbar": {
                        "outlinewidth": 0,
                        "ticks": ""
                      }
                    },
                    "colorscale": {
                      "diverging": [
                        [
                          0,
                          "#8e0152"
                        ],
                        [
                          0.1,
                          "#c51b7d"
                        ],
                        [
                          0.2,
                          "#de77ae"
                        ],
                        [
                          0.3,
                          "#f1b6da"
                        ],
                        [
                          0.4,
                          "#fde0ef"
                        ],
                        [
                          0.5,
                          "#f7f7f7"
                        ],
                        [
                          0.6,
                          "#e6f5d0"
                        ],
                        [
                          0.7,
                          "#b8e186"
                        ],
                        [
                          0.8,
                          "#7fbc41"
                        ],
                        [
                          0.9,
                          "#4d9221"
                        ],
                        [
                          1,
                          "#276419"
                        ]
                      ],
                      "sequential": [
                        [
                          0,
                          "#0d0887"
                        ],
                        [
                          0.1111111111111111,
                          "#46039f"
                        ],
                        [
                          0.2222222222222222,
                          "#7201a8"
                        ],
                        [
                          0.3333333333333333,
                          "#9c179e"
                        ],
                        [
                          0.4444444444444444,
                          "#bd3786"
                        ],
                        [
                          0.5555555555555556,
                          "#d8576b"
                        ],
                        [
                          0.6666666666666666,
                          "#ed7953"
                        ],
                        [
                          0.7777777777777778,
                          "#fb9f3a"
                        ],
                        [
                          0.8888888888888888,
                          "#fdca26"
                        ],
                        [
                          1,
                          "#f0f921"
                        ]
                      ],
                      "sequentialminus": [
                        [
                          0,
                          "#0d0887"
                        ],
                        [
                          0.1111111111111111,
                          "#46039f"
                        ],
                        [
                          0.2222222222222222,
                          "#7201a8"
                        ],
                        [
                          0.3333333333333333,
                          "#9c179e"
                        ],
                        [
                          0.4444444444444444,
                          "#bd3786"
                        ],
                        [
                          0.5555555555555556,
                          "#d8576b"
                        ],
                        [
                          0.6666666666666666,
                          "#ed7953"
                        ],
                        [
                          0.7777777777777778,
                          "#fb9f3a"
                        ],
                        [
                          0.8888888888888888,
                          "#fdca26"
                        ],
                        [
                          1,
                          "#f0f921"
                        ]
                      ]
                    },
                    "colorway": [
                      "#636efa",
                      "#EF553B",
                      "#00cc96",
                      "#ab63fa",
                      "#FFA15A",
                      "#19d3f3",
                      "#FF6692",
                      "#B6E880",
                      "#FF97FF",
                      "#FECB52"
                    ],
                    "font": {
                      "color": "#2a3f5f"
                    },
                    "geo": {
                      "bgcolor": "white",
                      "lakecolor": "white",
                      "landcolor": "#E5ECF6",
                      "showlakes": true,
                      "showland": true,
                      "subunitcolor": "white"
                    },
                    "hoverlabel": {
                      "align": "left"
                    },
                    "hovermode": "closest",
                    "mapbox": {
                      "style": "light"
                    },
                    "paper_bgcolor": "white",
                    "plot_bgcolor": "#E5ECF6",
                    "polar": {
                      "angularaxis": {
                        "gridcolor": "white",
                        "linecolor": "white",
                        "ticks": ""
                      },
                      "bgcolor": "#E5ECF6",
                      "radialaxis": {
                        "gridcolor": "white",
                        "linecolor": "white",
                        "ticks": ""
                      }
                    },
                    "scene": {
                      "xaxis": {
                        "backgroundcolor": "#E5ECF6",
                        "gridcolor": "white",
                        "gridwidth": 2,
                        "linecolor": "white",
                        "showbackground": true,
                        "ticks": "",
                        "zerolinecolor": "white"
                      },
                      "yaxis": {
                        "backgroundcolor": "#E5ECF6",
                        "gridcolor": "white",
                        "gridwidth": 2,
                        "linecolor": "white",
                        "showbackground": true,
                        "ticks": "",
                        "zerolinecolor": "white"
                      },
                      "zaxis": {
                        "backgroundcolor": "#E5ECF6",
                        "gridcolor": "white",
                        "gridwidth": 2,
                        "linecolor": "white",
                        "showbackground": true,
                        "ticks": "",
                        "zerolinecolor": "white"
                      }
                    },
                    "shapedefaults": {
                      "line": {
                        "color": "#2a3f5f"
                      }
                    },
                    "ternary": {
                      "aaxis": {
                        "gridcolor": "white",
                        "linecolor": "white",
                        "ticks": ""
                      },
                      "baxis": {
                        "gridcolor": "white",
                        "linecolor": "white",
                        "ticks": ""
                      },
                      "bgcolor": "#E5ECF6",
                      "caxis": {
                        "gridcolor": "white",
                        "linecolor": "white",
                        "ticks": ""
                      }
                    },
                    "title": {
                      "x": 0.05
                    },
                    "xaxis": {
                      "automargin": true,
                      "gridcolor": "white",
                      "linecolor": "white",
                      "ticks": "",
                      "title": {
                        "standoff": 15
                      },
                      "zerolinecolor": "white",
                      "zerolinewidth": 2
                    },
                    "yaxis": {
                      "automargin": true,
                      "gridcolor": "white",
                      "linecolor": "white",
                      "ticks": "",
                      "title": {
                        "standoff": 15
                      },
                      "zerolinecolor": "white",
                      "zerolinewidth": 2
                    }
                  }
                },
                "title": {
                  "text": "Optimization History Plot"
                },
                "xaxis": {
                  "title": {
                    "text": "Trial"
                  }
                },
                "yaxis": {
                  "title": {
                    "text": "Objective Value"
                  }
                }
              }
            },
            "text/html": [
              "<div>                        <script type=\"text/javascript\">window.PlotlyConfig = {MathJaxConfig: 'local'};</script>\n",
              "        <script charset=\"utf-8\" src=\"https://cdn.plot.ly/plotly-2.29.1.min.js\"></script>                <div id=\"5d9fcac6-ebd2-4df3-9914-eff13a770bad\" class=\"plotly-graph-div\" style=\"height:100%; width:100%;\"></div>            <script type=\"text/javascript\">                                    window.PLOTLYENV=window.PLOTLYENV || {};                                    if (document.getElementById(\"5d9fcac6-ebd2-4df3-9914-eff13a770bad\")) {                    Plotly.newPlot(                        \"5d9fcac6-ebd2-4df3-9914-eff13a770bad\",                        [{\"mode\":\"markers\",\"name\":\"Objective Value\",\"x\":[0,1,2,3,4,5,6,7,8,9,10,11,12,13,14,15,16,17,18,19,20,21,22,23,24,25,26,27,28,29,30,31,32,33,34,35,36,37,38,39,40,41,42,43,44,45,46,47,48,49,50,51,52,53,54,55,56,57,58,59,60,61,62,63,64,65,66,67,68,69,70,71,72,73,74,75,76,77,78,79,80,81,82,83,84,85,86,87,88,89,90,91,92,93,94,95,96,97,98,99],\"y\":[0.05268389662027833,0.0,0.003582158539403744,0.0,0.0015124779430299975,0.0,0.001890359168241966,0.0,0.0,0.02403732110381909,0.02196285140562249,0.023853519233999664,0.0,0.03674894041386188,0.05390060979883648,0.04363500745897563,0.022873937767554788,0.06599110232328226,0.0,0.006419939577039275,0.03661127077345995,0.05775188994918825,0.023111877154497022,0.039695418799151165,0.0030818278427205102,0.04527313544524819,0.0,0.01465380388325803,0.037620535107972294,0.003637275805844726,0.030647934080265577,0.0392156862745098,0.014409855901440985,0.0,0.019958962880059692,0.024592220828105395,0.0,0.06338811318423329,0.06467969329705664,0.07747259514718562,0.0,0.051931917008324016,0.09730520668211194,0.04899888073622684,0.08938615798483737,0.07795566502463054,0.08221703330465774,0.053194133731046485,0.076592082616179,0.03182957393483709,0.0015122873345935729,0.07701771653543307,0.11997585998792999,0.0742513500245459,0.11544028950542823,0.11797346200241254,0.023551784669397308,0.0,0.009778864318257583,0.003905757843013733,0.09425679795146934,0.11349062310949788,0.09290684898058844,0.08657849620377174,0.11190332326283987,0.032427895620326566,0.11202516331962255,0.13155693631258214,0.10687856362974645,0.0,0.12343900096061479,0.1228660735753787,0.1256311613368598,0.0008031698436496038,0.12253249879634087,0.12670986321094313,0.03629105425512611,0.12360628222035727,0.1054031185785084,0.019073911406700967,0.015614953614402498,0.12678250449370881,0.03189648067254595,0.043772968558595346,0.046146572104018915,0.0,0.036847269159489805,0.07420969119980471,0.04444612134017507,0.06844660194174758,0.09361233480176212,0.11632677687944974,0.13132760267430754,0.05503626710536155,0.11951305162121034,0.021898417985012488,0.013304882640893686,0.010520231213872832,0.04409660107334526,0.0],\"type\":\"scatter\"},{\"mode\":\"lines\",\"name\":\"Best Value\",\"x\":[0,1,2,3,4,5,6,7,8,9,10,11,12,13,14,15,16,17,18,19,20,21,22,23,24,25,26,27,28,29,30,31,32,33,34,35,36,37,38,39,40,41,42,43,44,45,46,47,48,49,50,51,52,53,54,55,56,57,58,59,60,61,62,63,64,65,66,67,68,69,70,71,72,73,74,75,76,77,78,79,80,81,82,83,84,85,86,87,88,89,90,91,92,93,94,95,96,97,98,99],\"y\":[0.05268389662027833,0.05268389662027833,0.05268389662027833,0.05268389662027833,0.05268389662027833,0.05268389662027833,0.05268389662027833,0.05268389662027833,0.05268389662027833,0.05268389662027833,0.05268389662027833,0.05268389662027833,0.05268389662027833,0.05268389662027833,0.05390060979883648,0.05390060979883648,0.05390060979883648,0.06599110232328226,0.06599110232328226,0.06599110232328226,0.06599110232328226,0.06599110232328226,0.06599110232328226,0.06599110232328226,0.06599110232328226,0.06599110232328226,0.06599110232328226,0.06599110232328226,0.06599110232328226,0.06599110232328226,0.06599110232328226,0.06599110232328226,0.06599110232328226,0.06599110232328226,0.06599110232328226,0.06599110232328226,0.06599110232328226,0.06599110232328226,0.06599110232328226,0.07747259514718562,0.07747259514718562,0.07747259514718562,0.09730520668211194,0.09730520668211194,0.09730520668211194,0.09730520668211194,0.09730520668211194,0.09730520668211194,0.09730520668211194,0.09730520668211194,0.09730520668211194,0.09730520668211194,0.11997585998792999,0.11997585998792999,0.11997585998792999,0.11997585998792999,0.11997585998792999,0.11997585998792999,0.11997585998792999,0.11997585998792999,0.11997585998792999,0.11997585998792999,0.11997585998792999,0.11997585998792999,0.11997585998792999,0.11997585998792999,0.11997585998792999,0.13155693631258214,0.13155693631258214,0.13155693631258214,0.13155693631258214,0.13155693631258214,0.13155693631258214,0.13155693631258214,0.13155693631258214,0.13155693631258214,0.13155693631258214,0.13155693631258214,0.13155693631258214,0.13155693631258214,0.13155693631258214,0.13155693631258214,0.13155693631258214,0.13155693631258214,0.13155693631258214,0.13155693631258214,0.13155693631258214,0.13155693631258214,0.13155693631258214,0.13155693631258214,0.13155693631258214,0.13155693631258214,0.13155693631258214,0.13155693631258214,0.13155693631258214,0.13155693631258214,0.13155693631258214,0.13155693631258214,0.13155693631258214,0.13155693631258214],\"type\":\"scatter\"},{\"marker\":{\"color\":\"#cccccc\"},\"mode\":\"markers\",\"name\":\"Infeasible Trial\",\"showlegend\":false,\"x\":[],\"y\":[],\"type\":\"scatter\"}],                        {\"title\":{\"text\":\"Optimization History Plot\"},\"xaxis\":{\"title\":{\"text\":\"Trial\"}},\"yaxis\":{\"title\":{\"text\":\"Objective Value\"}},\"template\":{\"data\":{\"histogram2dcontour\":[{\"type\":\"histogram2dcontour\",\"colorbar\":{\"outlinewidth\":0,\"ticks\":\"\"},\"colorscale\":[[0.0,\"#0d0887\"],[0.1111111111111111,\"#46039f\"],[0.2222222222222222,\"#7201a8\"],[0.3333333333333333,\"#9c179e\"],[0.4444444444444444,\"#bd3786\"],[0.5555555555555556,\"#d8576b\"],[0.6666666666666666,\"#ed7953\"],[0.7777777777777778,\"#fb9f3a\"],[0.8888888888888888,\"#fdca26\"],[1.0,\"#f0f921\"]]}],\"choropleth\":[{\"type\":\"choropleth\",\"colorbar\":{\"outlinewidth\":0,\"ticks\":\"\"}}],\"histogram2d\":[{\"type\":\"histogram2d\",\"colorbar\":{\"outlinewidth\":0,\"ticks\":\"\"},\"colorscale\":[[0.0,\"#0d0887\"],[0.1111111111111111,\"#46039f\"],[0.2222222222222222,\"#7201a8\"],[0.3333333333333333,\"#9c179e\"],[0.4444444444444444,\"#bd3786\"],[0.5555555555555556,\"#d8576b\"],[0.6666666666666666,\"#ed7953\"],[0.7777777777777778,\"#fb9f3a\"],[0.8888888888888888,\"#fdca26\"],[1.0,\"#f0f921\"]]}],\"heatmap\":[{\"type\":\"heatmap\",\"colorbar\":{\"outlinewidth\":0,\"ticks\":\"\"},\"colorscale\":[[0.0,\"#0d0887\"],[0.1111111111111111,\"#46039f\"],[0.2222222222222222,\"#7201a8\"],[0.3333333333333333,\"#9c179e\"],[0.4444444444444444,\"#bd3786\"],[0.5555555555555556,\"#d8576b\"],[0.6666666666666666,\"#ed7953\"],[0.7777777777777778,\"#fb9f3a\"],[0.8888888888888888,\"#fdca26\"],[1.0,\"#f0f921\"]]}],\"heatmapgl\":[{\"type\":\"heatmapgl\",\"colorbar\":{\"outlinewidth\":0,\"ticks\":\"\"},\"colorscale\":[[0.0,\"#0d0887\"],[0.1111111111111111,\"#46039f\"],[0.2222222222222222,\"#7201a8\"],[0.3333333333333333,\"#9c179e\"],[0.4444444444444444,\"#bd3786\"],[0.5555555555555556,\"#d8576b\"],[0.6666666666666666,\"#ed7953\"],[0.7777777777777778,\"#fb9f3a\"],[0.8888888888888888,\"#fdca26\"],[1.0,\"#f0f921\"]]}],\"contourcarpet\":[{\"type\":\"contourcarpet\",\"colorbar\":{\"outlinewidth\":0,\"ticks\":\"\"}}],\"contour\":[{\"type\":\"contour\",\"colorbar\":{\"outlinewidth\":0,\"ticks\":\"\"},\"colorscale\":[[0.0,\"#0d0887\"],[0.1111111111111111,\"#46039f\"],[0.2222222222222222,\"#7201a8\"],[0.3333333333333333,\"#9c179e\"],[0.4444444444444444,\"#bd3786\"],[0.5555555555555556,\"#d8576b\"],[0.6666666666666666,\"#ed7953\"],[0.7777777777777778,\"#fb9f3a\"],[0.8888888888888888,\"#fdca26\"],[1.0,\"#f0f921\"]]}],\"surface\":[{\"type\":\"surface\",\"colorbar\":{\"outlinewidth\":0,\"ticks\":\"\"},\"colorscale\":[[0.0,\"#0d0887\"],[0.1111111111111111,\"#46039f\"],[0.2222222222222222,\"#7201a8\"],[0.3333333333333333,\"#9c179e\"],[0.4444444444444444,\"#bd3786\"],[0.5555555555555556,\"#d8576b\"],[0.6666666666666666,\"#ed7953\"],[0.7777777777777778,\"#fb9f3a\"],[0.8888888888888888,\"#fdca26\"],[1.0,\"#f0f921\"]]}],\"mesh3d\":[{\"type\":\"mesh3d\",\"colorbar\":{\"outlinewidth\":0,\"ticks\":\"\"}}],\"scatter\":[{\"fillpattern\":{\"fillmode\":\"overlay\",\"size\":10,\"solidity\":0.2},\"type\":\"scatter\"}],\"parcoords\":[{\"type\":\"parcoords\",\"line\":{\"colorbar\":{\"outlinewidth\":0,\"ticks\":\"\"}}}],\"scatterpolargl\":[{\"type\":\"scatterpolargl\",\"marker\":{\"colorbar\":{\"outlinewidth\":0,\"ticks\":\"\"}}}],\"bar\":[{\"error_x\":{\"color\":\"#2a3f5f\"},\"error_y\":{\"color\":\"#2a3f5f\"},\"marker\":{\"line\":{\"color\":\"#E5ECF6\",\"width\":0.5},\"pattern\":{\"fillmode\":\"overlay\",\"size\":10,\"solidity\":0.2}},\"type\":\"bar\"}],\"scattergeo\":[{\"type\":\"scattergeo\",\"marker\":{\"colorbar\":{\"outlinewidth\":0,\"ticks\":\"\"}}}],\"scatterpolar\":[{\"type\":\"scatterpolar\",\"marker\":{\"colorbar\":{\"outlinewidth\":0,\"ticks\":\"\"}}}],\"histogram\":[{\"marker\":{\"pattern\":{\"fillmode\":\"overlay\",\"size\":10,\"solidity\":0.2}},\"type\":\"histogram\"}],\"scattergl\":[{\"type\":\"scattergl\",\"marker\":{\"colorbar\":{\"outlinewidth\":0,\"ticks\":\"\"}}}],\"scatter3d\":[{\"type\":\"scatter3d\",\"line\":{\"colorbar\":{\"outlinewidth\":0,\"ticks\":\"\"}},\"marker\":{\"colorbar\":{\"outlinewidth\":0,\"ticks\":\"\"}}}],\"scattermapbox\":[{\"type\":\"scattermapbox\",\"marker\":{\"colorbar\":{\"outlinewidth\":0,\"ticks\":\"\"}}}],\"scatterternary\":[{\"type\":\"scatterternary\",\"marker\":{\"colorbar\":{\"outlinewidth\":0,\"ticks\":\"\"}}}],\"scattercarpet\":[{\"type\":\"scattercarpet\",\"marker\":{\"colorbar\":{\"outlinewidth\":0,\"ticks\":\"\"}}}],\"carpet\":[{\"aaxis\":{\"endlinecolor\":\"#2a3f5f\",\"gridcolor\":\"white\",\"linecolor\":\"white\",\"minorgridcolor\":\"white\",\"startlinecolor\":\"#2a3f5f\"},\"baxis\":{\"endlinecolor\":\"#2a3f5f\",\"gridcolor\":\"white\",\"linecolor\":\"white\",\"minorgridcolor\":\"white\",\"startlinecolor\":\"#2a3f5f\"},\"type\":\"carpet\"}],\"table\":[{\"cells\":{\"fill\":{\"color\":\"#EBF0F8\"},\"line\":{\"color\":\"white\"}},\"header\":{\"fill\":{\"color\":\"#C8D4E3\"},\"line\":{\"color\":\"white\"}},\"type\":\"table\"}],\"barpolar\":[{\"marker\":{\"line\":{\"color\":\"#E5ECF6\",\"width\":0.5},\"pattern\":{\"fillmode\":\"overlay\",\"size\":10,\"solidity\":0.2}},\"type\":\"barpolar\"}],\"pie\":[{\"automargin\":true,\"type\":\"pie\"}]},\"layout\":{\"autotypenumbers\":\"strict\",\"colorway\":[\"#636efa\",\"#EF553B\",\"#00cc96\",\"#ab63fa\",\"#FFA15A\",\"#19d3f3\",\"#FF6692\",\"#B6E880\",\"#FF97FF\",\"#FECB52\"],\"font\":{\"color\":\"#2a3f5f\"},\"hovermode\":\"closest\",\"hoverlabel\":{\"align\":\"left\"},\"paper_bgcolor\":\"white\",\"plot_bgcolor\":\"#E5ECF6\",\"polar\":{\"bgcolor\":\"#E5ECF6\",\"angularaxis\":{\"gridcolor\":\"white\",\"linecolor\":\"white\",\"ticks\":\"\"},\"radialaxis\":{\"gridcolor\":\"white\",\"linecolor\":\"white\",\"ticks\":\"\"}},\"ternary\":{\"bgcolor\":\"#E5ECF6\",\"aaxis\":{\"gridcolor\":\"white\",\"linecolor\":\"white\",\"ticks\":\"\"},\"baxis\":{\"gridcolor\":\"white\",\"linecolor\":\"white\",\"ticks\":\"\"},\"caxis\":{\"gridcolor\":\"white\",\"linecolor\":\"white\",\"ticks\":\"\"}},\"coloraxis\":{\"colorbar\":{\"outlinewidth\":0,\"ticks\":\"\"}},\"colorscale\":{\"sequential\":[[0.0,\"#0d0887\"],[0.1111111111111111,\"#46039f\"],[0.2222222222222222,\"#7201a8\"],[0.3333333333333333,\"#9c179e\"],[0.4444444444444444,\"#bd3786\"],[0.5555555555555556,\"#d8576b\"],[0.6666666666666666,\"#ed7953\"],[0.7777777777777778,\"#fb9f3a\"],[0.8888888888888888,\"#fdca26\"],[1.0,\"#f0f921\"]],\"sequentialminus\":[[0.0,\"#0d0887\"],[0.1111111111111111,\"#46039f\"],[0.2222222222222222,\"#7201a8\"],[0.3333333333333333,\"#9c179e\"],[0.4444444444444444,\"#bd3786\"],[0.5555555555555556,\"#d8576b\"],[0.6666666666666666,\"#ed7953\"],[0.7777777777777778,\"#fb9f3a\"],[0.8888888888888888,\"#fdca26\"],[1.0,\"#f0f921\"]],\"diverging\":[[0,\"#8e0152\"],[0.1,\"#c51b7d\"],[0.2,\"#de77ae\"],[0.3,\"#f1b6da\"],[0.4,\"#fde0ef\"],[0.5,\"#f7f7f7\"],[0.6,\"#e6f5d0\"],[0.7,\"#b8e186\"],[0.8,\"#7fbc41\"],[0.9,\"#4d9221\"],[1,\"#276419\"]]},\"xaxis\":{\"gridcolor\":\"white\",\"linecolor\":\"white\",\"ticks\":\"\",\"title\":{\"standoff\":15},\"zerolinecolor\":\"white\",\"automargin\":true,\"zerolinewidth\":2},\"yaxis\":{\"gridcolor\":\"white\",\"linecolor\":\"white\",\"ticks\":\"\",\"title\":{\"standoff\":15},\"zerolinecolor\":\"white\",\"automargin\":true,\"zerolinewidth\":2},\"scene\":{\"xaxis\":{\"backgroundcolor\":\"#E5ECF6\",\"gridcolor\":\"white\",\"linecolor\":\"white\",\"showbackground\":true,\"ticks\":\"\",\"zerolinecolor\":\"white\",\"gridwidth\":2},\"yaxis\":{\"backgroundcolor\":\"#E5ECF6\",\"gridcolor\":\"white\",\"linecolor\":\"white\",\"showbackground\":true,\"ticks\":\"\",\"zerolinecolor\":\"white\",\"gridwidth\":2},\"zaxis\":{\"backgroundcolor\":\"#E5ECF6\",\"gridcolor\":\"white\",\"linecolor\":\"white\",\"showbackground\":true,\"ticks\":\"\",\"zerolinecolor\":\"white\",\"gridwidth\":2}},\"shapedefaults\":{\"line\":{\"color\":\"#2a3f5f\"}},\"annotationdefaults\":{\"arrowcolor\":\"#2a3f5f\",\"arrowhead\":0,\"arrowwidth\":1},\"geo\":{\"bgcolor\":\"white\",\"landcolor\":\"#E5ECF6\",\"subunitcolor\":\"white\",\"showland\":true,\"showlakes\":true,\"lakecolor\":\"white\"},\"title\":{\"x\":0.05},\"mapbox\":{\"style\":\"light\"}}}},                        {\"responsive\": true}                    )                };                            </script>        </div>"
            ],
            "text/plain": [
              "Figure({\n",
              "    'data': [{'mode': 'markers',\n",
              "              'name': 'Objective Value',\n",
              "              'type': 'scatter',\n",
              "              'x': [0, 1, 2, 3, 4, 5, 6, 7, 8, 9, 10, 11, 12, 13, 14, 15, 16, 17,\n",
              "                    18, 19, 20, 21, 22, 23, 24, 25, 26, 27, 28, 29, 30, 31, 32, 33,\n",
              "                    34, 35, 36, 37, 38, 39, 40, 41, 42, 43, 44, 45, 46, 47, 48, 49,\n",
              "                    50, 51, 52, 53, 54, 55, 56, 57, 58, 59, 60, 61, 62, 63, 64, 65,\n",
              "                    66, 67, 68, 69, 70, 71, 72, 73, 74, 75, 76, 77, 78, 79, 80, 81,\n",
              "                    82, 83, 84, 85, 86, 87, 88, 89, 90, 91, 92, 93, 94, 95, 96, 97,\n",
              "                    98, 99],\n",
              "              'y': [0.05268389662027833, 0.0, 0.003582158539403744, 0.0,\n",
              "                    0.0015124779430299975, 0.0, 0.001890359168241966, 0.0, 0.0,\n",
              "                    0.02403732110381909, 0.02196285140562249, 0.023853519233999664,\n",
              "                    0.0, 0.03674894041386188, 0.05390060979883648,\n",
              "                    0.04363500745897563, 0.022873937767554788, 0.06599110232328226,\n",
              "                    0.0, 0.006419939577039275, 0.03661127077345995,\n",
              "                    0.05775188994918825, 0.023111877154497022,\n",
              "                    0.039695418799151165, 0.0030818278427205102,\n",
              "                    0.04527313544524819, 0.0, 0.01465380388325803,\n",
              "                    0.037620535107972294, 0.003637275805844726,\n",
              "                    0.030647934080265577, 0.0392156862745098, 0.014409855901440985,\n",
              "                    0.0, 0.019958962880059692, 0.024592220828105395, 0.0,\n",
              "                    0.06338811318423329, 0.06467969329705664, 0.07747259514718562,\n",
              "                    0.0, 0.051931917008324016, 0.09730520668211194,\n",
              "                    0.04899888073622684, 0.08938615798483737, 0.07795566502463054,\n",
              "                    0.08221703330465774, 0.053194133731046485, 0.076592082616179,\n",
              "                    0.03182957393483709, 0.0015122873345935729,\n",
              "                    0.07701771653543307, 0.11997585998792999, 0.0742513500245459,\n",
              "                    0.11544028950542823, 0.11797346200241254, 0.023551784669397308,\n",
              "                    0.0, 0.009778864318257583, 0.003905757843013733,\n",
              "                    0.09425679795146934, 0.11349062310949788, 0.09290684898058844,\n",
              "                    0.08657849620377174, 0.11190332326283987, 0.032427895620326566,\n",
              "                    0.11202516331962255, 0.13155693631258214, 0.10687856362974645,\n",
              "                    0.0, 0.12343900096061479, 0.1228660735753787,\n",
              "                    0.1256311613368598, 0.0008031698436496038, 0.12253249879634087,\n",
              "                    0.12670986321094313, 0.03629105425512611, 0.12360628222035727,\n",
              "                    0.1054031185785084, 0.019073911406700967, 0.015614953614402498,\n",
              "                    0.12678250449370881, 0.03189648067254595, 0.043772968558595346,\n",
              "                    0.046146572104018915, 0.0, 0.036847269159489805,\n",
              "                    0.07420969119980471, 0.04444612134017507, 0.06844660194174758,\n",
              "                    0.09361233480176212, 0.11632677687944974, 0.13132760267430754,\n",
              "                    0.05503626710536155, 0.11951305162121034, 0.021898417985012488,\n",
              "                    0.013304882640893686, 0.010520231213872832,\n",
              "                    0.04409660107334526, 0.0]},\n",
              "             {'mode': 'lines',\n",
              "              'name': 'Best Value',\n",
              "              'type': 'scatter',\n",
              "              'x': [0, 1, 2, 3, 4, 5, 6, 7, 8, 9, 10, 11, 12, 13, 14, 15, 16, 17,\n",
              "                    18, 19, 20, 21, 22, 23, 24, 25, 26, 27, 28, 29, 30, 31, 32, 33,\n",
              "                    34, 35, 36, 37, 38, 39, 40, 41, 42, 43, 44, 45, 46, 47, 48, 49,\n",
              "                    50, 51, 52, 53, 54, 55, 56, 57, 58, 59, 60, 61, 62, 63, 64, 65,\n",
              "                    66, 67, 68, 69, 70, 71, 72, 73, 74, 75, 76, 77, 78, 79, 80, 81,\n",
              "                    82, 83, 84, 85, 86, 87, 88, 89, 90, 91, 92, 93, 94, 95, 96, 97,\n",
              "                    98, 99],\n",
              "              'y': [0.05268389662027833, 0.05268389662027833, 0.05268389662027833,\n",
              "                    0.05268389662027833, 0.05268389662027833, 0.05268389662027833,\n",
              "                    0.05268389662027833, 0.05268389662027833, 0.05268389662027833,\n",
              "                    0.05268389662027833, 0.05268389662027833, 0.05268389662027833,\n",
              "                    0.05268389662027833, 0.05268389662027833, 0.05390060979883648,\n",
              "                    0.05390060979883648, 0.05390060979883648, 0.06599110232328226,\n",
              "                    0.06599110232328226, 0.06599110232328226, 0.06599110232328226,\n",
              "                    0.06599110232328226, 0.06599110232328226, 0.06599110232328226,\n",
              "                    0.06599110232328226, 0.06599110232328226, 0.06599110232328226,\n",
              "                    0.06599110232328226, 0.06599110232328226, 0.06599110232328226,\n",
              "                    0.06599110232328226, 0.06599110232328226, 0.06599110232328226,\n",
              "                    0.06599110232328226, 0.06599110232328226, 0.06599110232328226,\n",
              "                    0.06599110232328226, 0.06599110232328226, 0.06599110232328226,\n",
              "                    0.07747259514718562, 0.07747259514718562, 0.07747259514718562,\n",
              "                    0.09730520668211194, 0.09730520668211194, 0.09730520668211194,\n",
              "                    0.09730520668211194, 0.09730520668211194, 0.09730520668211194,\n",
              "                    0.09730520668211194, 0.09730520668211194, 0.09730520668211194,\n",
              "                    0.09730520668211194, 0.11997585998792999, 0.11997585998792999,\n",
              "                    0.11997585998792999, 0.11997585998792999, 0.11997585998792999,\n",
              "                    0.11997585998792999, 0.11997585998792999, 0.11997585998792999,\n",
              "                    0.11997585998792999, 0.11997585998792999, 0.11997585998792999,\n",
              "                    0.11997585998792999, 0.11997585998792999, 0.11997585998792999,\n",
              "                    0.11997585998792999, 0.13155693631258214, 0.13155693631258214,\n",
              "                    0.13155693631258214, 0.13155693631258214, 0.13155693631258214,\n",
              "                    0.13155693631258214, 0.13155693631258214, 0.13155693631258214,\n",
              "                    0.13155693631258214, 0.13155693631258214, 0.13155693631258214,\n",
              "                    0.13155693631258214, 0.13155693631258214, 0.13155693631258214,\n",
              "                    0.13155693631258214, 0.13155693631258214, 0.13155693631258214,\n",
              "                    0.13155693631258214, 0.13155693631258214, 0.13155693631258214,\n",
              "                    0.13155693631258214, 0.13155693631258214, 0.13155693631258214,\n",
              "                    0.13155693631258214, 0.13155693631258214, 0.13155693631258214,\n",
              "                    0.13155693631258214, 0.13155693631258214, 0.13155693631258214,\n",
              "                    0.13155693631258214, 0.13155693631258214, 0.13155693631258214,\n",
              "                    0.13155693631258214]},\n",
              "             {'marker': {'color': '#cccccc'},\n",
              "              'mode': 'markers',\n",
              "              'name': 'Infeasible Trial',\n",
              "              'showlegend': False,\n",
              "              'type': 'scatter',\n",
              "              'x': [],\n",
              "              'y': []}],\n",
              "    'layout': {'template': '...',\n",
              "               'title': {'text': 'Optimization History Plot'},\n",
              "               'xaxis': {'title': {'text': 'Trial'}},\n",
              "               'yaxis': {'title': {'text': 'Objective Value'}}}\n",
              "})"
            ]
          },
          "execution_count": 46,
          "metadata": {},
          "output_type": "execute_result"
        }
      ],
      "source": [
        "# 하이퍼파라미터 최적화 과정을 확인\n",
        "optuna.visualization.plot_optimization_history(study_cat)"
      ]
    },
    {
      "cell_type": "code",
      "execution_count": null,
      "metadata": {
        "id": "ZAI2qt7QFxJC"
      },
      "outputs": [],
      "source": [
        "cat_optuna = CatBoostClassifier(**study_cat.best_params)"
      ]
    },
    {
      "cell_type": "code",
      "execution_count": 2,
      "metadata": {},
      "outputs": [
        {
          "name": "stdout",
          "output_type": "stream",
          "text": [
            "xgb (cpu): 소요시간: 29.21316123008728 초\n",
            "xgb (gpu): 소요시간: 8.708850860595703 초\n"
          ]
        }
      ],
      "source": [
        "import time\n",
        "from sklearn.datasets import make_regression\n",
        "from xgboost import XGBRegressor\n",
        "\n",
        "def model_test(model_name, model):\n",
        "    x, y = make_regression(n_samples=100000, n_features=100)\n",
        "    \n",
        "    start_time = time.time()\n",
        "    model.fit(x, y)\n",
        "    end_time = time.time()\n",
        "    return f'{model_name}: 소요시간: {(end_time - start_time)} 초'\n",
        "\n",
        "xgb = XGBRegressor(n_estimators=1000, \n",
        "                   learning_rate=0.01, \n",
        "                   subsample=0.8, \n",
        "                   colsample_bytree=0.8,\n",
        "                   objective='reg:squarederror', \n",
        "                  )\n",
        "\n",
        "print(model_test('xgb (cpu)', xgb))\n",
        "\n",
        "xgb = XGBRegressor(n_estimators=1000, \n",
        "                   learning_rate=0.01, \n",
        "                   subsample=0.8, \n",
        "                   colsample_bytree=0.8,\n",
        "                   objective='reg:squarederror', \n",
        "                #    tree_method='gpu_hist',\n",
        "                device=\"cuda\" \n",
        "                )\n",
        "\n",
        "print(model_test('xgb (gpu)', xgb))"
      ]
    },
    {
      "cell_type": "markdown",
      "metadata": {
        "id": "f5bDONhrHBYk"
      },
      "source": [
        "### Naive Bayes"
      ]
    },
    {
      "cell_type": "code",
      "execution_count": null,
      "metadata": {
        "id": "txEb7U-vGO5N"
      },
      "outputs": [],
      "source": [
        "def objective_gnb(trial):\n",
        "    params = {\n",
        "        \"var_smoothing\" : trial.suggest_float(\"var_smoothing\", 0, 1e-9, log=True)\n",
        "    }\n",
        "\n",
        "    model = GaussianNB(**params)\n",
        "\n",
        "    model.fit(X_train_labeled, y_train_labeled)\n",
        "    predictions = model.predict(X_val_labeled)\n",
        "    csi = csi_index(y_val_labeled, predictions)\n",
        "\n",
        "    return csi"
      ]
    },
    {
      "cell_type": "code",
      "execution_count": null,
      "metadata": {
        "colab": {
          "base_uri": "https://localhost:8080/",
          "height": 530
        },
        "id": "sDmeKxLMJigY",
        "outputId": "13f3ee9c-4d8f-4653-956a-66b4489aec2c"
      },
      "outputs": [
        {
          "name": "stderr",
          "output_type": "stream",
          "text": [
            "[I 2024-06-06 10:55:38,985] A new study created in memory with name: GaussianNB\n",
            "[W 2024-06-06 10:55:38,988] Trial 0 failed with parameters: {} because of the following error: ValueError('The `low` value must be larger than 0 for a log distribution (low=0, high=1e-09).').\n",
            "Traceback (most recent call last):\n",
            "  File \"/usr/local/lib/python3.10/dist-packages/optuna/study/_optimize.py\", line 196, in _run_trial\n",
            "    value_or_values = func(trial)\n",
            "  File \"<ipython-input-93-1f0d25c080af>\", line 3, in objective_gnb\n",
            "    \"var_smoothing\" : trial.suggest_float(\"var_smoothing\", 0, 1e-9, log=True)\n",
            "  File \"/usr/local/lib/python3.10/dist-packages/optuna/trial/_trial.py\", line 162, in suggest_float\n",
            "    distribution = FloatDistribution(low, high, log=log, step=step)\n",
            "  File \"/usr/local/lib/python3.10/dist-packages/optuna/distributions.py\", line 148, in __init__\n",
            "    raise ValueError(\n",
            "ValueError: The `low` value must be larger than 0 for a log distribution (low=0, high=1e-09).\n",
            "[W 2024-06-06 10:55:38,989] Trial 0 failed with value None.\n"
          ]
        },
        {
          "ename": "ValueError",
          "evalue": "The `low` value must be larger than 0 for a log distribution (low=0, high=1e-09).",
          "output_type": "error",
          "traceback": [
            "\u001b[0;31m---------------------------------------------------------------------------\u001b[0m",
            "\u001b[0;31mValueError\u001b[0m                                Traceback (most recent call last)",
            "\u001b[0;32m<ipython-input-94-95345b7a4baf>\u001b[0m in \u001b[0;36m<cell line: 2>\u001b[0;34m()\u001b[0m\n\u001b[1;32m      1\u001b[0m \u001b[0mstudy_gnb\u001b[0m \u001b[0;34m=\u001b[0m \u001b[0moptuna\u001b[0m\u001b[0;34m.\u001b[0m\u001b[0mcreate_study\u001b[0m\u001b[0;34m(\u001b[0m\u001b[0mstudy_name\u001b[0m\u001b[0;34m=\u001b[0m\u001b[0;34m\"GaussianNB\"\u001b[0m\u001b[0;34m,\u001b[0m \u001b[0mdirection\u001b[0m\u001b[0;34m=\u001b[0m\u001b[0;34m'maximize'\u001b[0m\u001b[0;34m,\u001b[0m \u001b[0msampler\u001b[0m\u001b[0;34m=\u001b[0m\u001b[0msampler\u001b[0m\u001b[0;34m)\u001b[0m\u001b[0;34m\u001b[0m\u001b[0;34m\u001b[0m\u001b[0m\n\u001b[0;32m----> 2\u001b[0;31m \u001b[0mstudy_gnb\u001b[0m\u001b[0;34m.\u001b[0m\u001b[0moptimize\u001b[0m\u001b[0;34m(\u001b[0m\u001b[0mobjective_gnb\u001b[0m\u001b[0;34m,\u001b[0m \u001b[0mn_trials\u001b[0m\u001b[0;34m=\u001b[0m\u001b[0;36m100\u001b[0m\u001b[0;34m)\u001b[0m\u001b[0;34m\u001b[0m\u001b[0;34m\u001b[0m\u001b[0m\n\u001b[0m",
            "\u001b[0;32m/usr/local/lib/python3.10/dist-packages/optuna/study/study.py\u001b[0m in \u001b[0;36moptimize\u001b[0;34m(self, func, n_trials, timeout, n_jobs, catch, callbacks, gc_after_trial, show_progress_bar)\u001b[0m\n\u001b[1;32m    449\u001b[0m                 \u001b[0mIf\u001b[0m \u001b[0mnested\u001b[0m \u001b[0minvocation\u001b[0m \u001b[0mof\u001b[0m \u001b[0mthis\u001b[0m \u001b[0mmethod\u001b[0m \u001b[0moccurs\u001b[0m\u001b[0;34m.\u001b[0m\u001b[0;34m\u001b[0m\u001b[0;34m\u001b[0m\u001b[0m\n\u001b[1;32m    450\u001b[0m         \"\"\"\n\u001b[0;32m--> 451\u001b[0;31m         _optimize(\n\u001b[0m\u001b[1;32m    452\u001b[0m             \u001b[0mstudy\u001b[0m\u001b[0;34m=\u001b[0m\u001b[0mself\u001b[0m\u001b[0;34m,\u001b[0m\u001b[0;34m\u001b[0m\u001b[0;34m\u001b[0m\u001b[0m\n\u001b[1;32m    453\u001b[0m             \u001b[0mfunc\u001b[0m\u001b[0;34m=\u001b[0m\u001b[0mfunc\u001b[0m\u001b[0;34m,\u001b[0m\u001b[0;34m\u001b[0m\u001b[0;34m\u001b[0m\u001b[0m\n",
            "\u001b[0;32m/usr/local/lib/python3.10/dist-packages/optuna/study/_optimize.py\u001b[0m in \u001b[0;36m_optimize\u001b[0;34m(study, func, n_trials, timeout, n_jobs, catch, callbacks, gc_after_trial, show_progress_bar)\u001b[0m\n\u001b[1;32m     60\u001b[0m     \u001b[0;32mtry\u001b[0m\u001b[0;34m:\u001b[0m\u001b[0;34m\u001b[0m\u001b[0;34m\u001b[0m\u001b[0m\n\u001b[1;32m     61\u001b[0m         \u001b[0;32mif\u001b[0m \u001b[0mn_jobs\u001b[0m \u001b[0;34m==\u001b[0m \u001b[0;36m1\u001b[0m\u001b[0;34m:\u001b[0m\u001b[0;34m\u001b[0m\u001b[0;34m\u001b[0m\u001b[0m\n\u001b[0;32m---> 62\u001b[0;31m             _optimize_sequential(\n\u001b[0m\u001b[1;32m     63\u001b[0m                 \u001b[0mstudy\u001b[0m\u001b[0;34m,\u001b[0m\u001b[0;34m\u001b[0m\u001b[0;34m\u001b[0m\u001b[0m\n\u001b[1;32m     64\u001b[0m                 \u001b[0mfunc\u001b[0m\u001b[0;34m,\u001b[0m\u001b[0;34m\u001b[0m\u001b[0;34m\u001b[0m\u001b[0m\n",
            "\u001b[0;32m/usr/local/lib/python3.10/dist-packages/optuna/study/_optimize.py\u001b[0m in \u001b[0;36m_optimize_sequential\u001b[0;34m(study, func, n_trials, timeout, catch, callbacks, gc_after_trial, reseed_sampler_rng, time_start, progress_bar)\u001b[0m\n\u001b[1;32m    157\u001b[0m \u001b[0;34m\u001b[0m\u001b[0m\n\u001b[1;32m    158\u001b[0m         \u001b[0;32mtry\u001b[0m\u001b[0;34m:\u001b[0m\u001b[0;34m\u001b[0m\u001b[0;34m\u001b[0m\u001b[0m\n\u001b[0;32m--> 159\u001b[0;31m             \u001b[0mfrozen_trial\u001b[0m \u001b[0;34m=\u001b[0m \u001b[0m_run_trial\u001b[0m\u001b[0;34m(\u001b[0m\u001b[0mstudy\u001b[0m\u001b[0;34m,\u001b[0m \u001b[0mfunc\u001b[0m\u001b[0;34m,\u001b[0m \u001b[0mcatch\u001b[0m\u001b[0;34m)\u001b[0m\u001b[0;34m\u001b[0m\u001b[0;34m\u001b[0m\u001b[0m\n\u001b[0m\u001b[1;32m    160\u001b[0m         \u001b[0;32mfinally\u001b[0m\u001b[0;34m:\u001b[0m\u001b[0;34m\u001b[0m\u001b[0;34m\u001b[0m\u001b[0m\n\u001b[1;32m    161\u001b[0m             \u001b[0;31m# The following line mitigates memory problems that can be occurred in some\u001b[0m\u001b[0;34m\u001b[0m\u001b[0;34m\u001b[0m\u001b[0m\n",
            "\u001b[0;32m/usr/local/lib/python3.10/dist-packages/optuna/study/_optimize.py\u001b[0m in \u001b[0;36m_run_trial\u001b[0;34m(study, func, catch)\u001b[0m\n\u001b[1;32m    245\u001b[0m         \u001b[0;32mand\u001b[0m \u001b[0;32mnot\u001b[0m \u001b[0misinstance\u001b[0m\u001b[0;34m(\u001b[0m\u001b[0mfunc_err\u001b[0m\u001b[0;34m,\u001b[0m \u001b[0mcatch\u001b[0m\u001b[0;34m)\u001b[0m\u001b[0;34m\u001b[0m\u001b[0;34m\u001b[0m\u001b[0m\n\u001b[1;32m    246\u001b[0m     ):\n\u001b[0;32m--> 247\u001b[0;31m         \u001b[0;32mraise\u001b[0m \u001b[0mfunc_err\u001b[0m\u001b[0;34m\u001b[0m\u001b[0;34m\u001b[0m\u001b[0m\n\u001b[0m\u001b[1;32m    248\u001b[0m     \u001b[0;32mreturn\u001b[0m \u001b[0mfrozen_trial\u001b[0m\u001b[0;34m\u001b[0m\u001b[0;34m\u001b[0m\u001b[0m\n\u001b[1;32m    249\u001b[0m \u001b[0;34m\u001b[0m\u001b[0m\n",
            "\u001b[0;32m/usr/local/lib/python3.10/dist-packages/optuna/study/_optimize.py\u001b[0m in \u001b[0;36m_run_trial\u001b[0;34m(study, func, catch)\u001b[0m\n\u001b[1;32m    194\u001b[0m     \u001b[0;32mwith\u001b[0m \u001b[0mget_heartbeat_thread\u001b[0m\u001b[0;34m(\u001b[0m\u001b[0mtrial\u001b[0m\u001b[0;34m.\u001b[0m\u001b[0m_trial_id\u001b[0m\u001b[0;34m,\u001b[0m \u001b[0mstudy\u001b[0m\u001b[0;34m.\u001b[0m\u001b[0m_storage\u001b[0m\u001b[0;34m)\u001b[0m\u001b[0;34m:\u001b[0m\u001b[0;34m\u001b[0m\u001b[0;34m\u001b[0m\u001b[0m\n\u001b[1;32m    195\u001b[0m         \u001b[0;32mtry\u001b[0m\u001b[0;34m:\u001b[0m\u001b[0;34m\u001b[0m\u001b[0;34m\u001b[0m\u001b[0m\n\u001b[0;32m--> 196\u001b[0;31m             \u001b[0mvalue_or_values\u001b[0m \u001b[0;34m=\u001b[0m \u001b[0mfunc\u001b[0m\u001b[0;34m(\u001b[0m\u001b[0mtrial\u001b[0m\u001b[0;34m)\u001b[0m\u001b[0;34m\u001b[0m\u001b[0;34m\u001b[0m\u001b[0m\n\u001b[0m\u001b[1;32m    197\u001b[0m         \u001b[0;32mexcept\u001b[0m \u001b[0mexceptions\u001b[0m\u001b[0;34m.\u001b[0m\u001b[0mTrialPruned\u001b[0m \u001b[0;32mas\u001b[0m \u001b[0me\u001b[0m\u001b[0;34m:\u001b[0m\u001b[0;34m\u001b[0m\u001b[0;34m\u001b[0m\u001b[0m\n\u001b[1;32m    198\u001b[0m             \u001b[0;31m# TODO(mamu): Handle multi-objective cases.\u001b[0m\u001b[0;34m\u001b[0m\u001b[0;34m\u001b[0m\u001b[0m\n",
            "\u001b[0;32m<ipython-input-93-1f0d25c080af>\u001b[0m in \u001b[0;36mobjective_gnb\u001b[0;34m(trial)\u001b[0m\n\u001b[1;32m      1\u001b[0m \u001b[0;32mdef\u001b[0m \u001b[0mobjective_gnb\u001b[0m\u001b[0;34m(\u001b[0m\u001b[0mtrial\u001b[0m\u001b[0;34m)\u001b[0m\u001b[0;34m:\u001b[0m\u001b[0;34m\u001b[0m\u001b[0;34m\u001b[0m\u001b[0m\n\u001b[1;32m      2\u001b[0m     params = {\n\u001b[0;32m----> 3\u001b[0;31m         \u001b[0;34m\"var_smoothing\"\u001b[0m \u001b[0;34m:\u001b[0m \u001b[0mtrial\u001b[0m\u001b[0;34m.\u001b[0m\u001b[0msuggest_float\u001b[0m\u001b[0;34m(\u001b[0m\u001b[0;34m\"var_smoothing\"\u001b[0m\u001b[0;34m,\u001b[0m \u001b[0;36m0\u001b[0m\u001b[0;34m,\u001b[0m \u001b[0;36m1e-9\u001b[0m\u001b[0;34m,\u001b[0m \u001b[0mlog\u001b[0m\u001b[0;34m=\u001b[0m\u001b[0;32mTrue\u001b[0m\u001b[0;34m)\u001b[0m\u001b[0;34m\u001b[0m\u001b[0;34m\u001b[0m\u001b[0m\n\u001b[0m\u001b[1;32m      4\u001b[0m     }\n\u001b[1;32m      5\u001b[0m \u001b[0;34m\u001b[0m\u001b[0m\n",
            "\u001b[0;32m/usr/local/lib/python3.10/dist-packages/optuna/trial/_trial.py\u001b[0m in \u001b[0;36msuggest_float\u001b[0;34m(self, name, low, high, step, log)\u001b[0m\n\u001b[1;32m    160\u001b[0m         \"\"\"\n\u001b[1;32m    161\u001b[0m \u001b[0;34m\u001b[0m\u001b[0m\n\u001b[0;32m--> 162\u001b[0;31m         \u001b[0mdistribution\u001b[0m \u001b[0;34m=\u001b[0m \u001b[0mFloatDistribution\u001b[0m\u001b[0;34m(\u001b[0m\u001b[0mlow\u001b[0m\u001b[0;34m,\u001b[0m \u001b[0mhigh\u001b[0m\u001b[0;34m,\u001b[0m \u001b[0mlog\u001b[0m\u001b[0;34m=\u001b[0m\u001b[0mlog\u001b[0m\u001b[0;34m,\u001b[0m \u001b[0mstep\u001b[0m\u001b[0;34m=\u001b[0m\u001b[0mstep\u001b[0m\u001b[0;34m)\u001b[0m\u001b[0;34m\u001b[0m\u001b[0;34m\u001b[0m\u001b[0m\n\u001b[0m\u001b[1;32m    163\u001b[0m         \u001b[0msuggested_value\u001b[0m \u001b[0;34m=\u001b[0m \u001b[0mself\u001b[0m\u001b[0;34m.\u001b[0m\u001b[0m_suggest\u001b[0m\u001b[0;34m(\u001b[0m\u001b[0mname\u001b[0m\u001b[0;34m,\u001b[0m \u001b[0mdistribution\u001b[0m\u001b[0;34m)\u001b[0m\u001b[0;34m\u001b[0m\u001b[0;34m\u001b[0m\u001b[0m\n\u001b[1;32m    164\u001b[0m         \u001b[0mself\u001b[0m\u001b[0;34m.\u001b[0m\u001b[0m_check_distribution\u001b[0m\u001b[0;34m(\u001b[0m\u001b[0mname\u001b[0m\u001b[0;34m,\u001b[0m \u001b[0mdistribution\u001b[0m\u001b[0;34m)\u001b[0m\u001b[0;34m\u001b[0m\u001b[0;34m\u001b[0m\u001b[0m\n",
            "\u001b[0;32m/usr/local/lib/python3.10/dist-packages/optuna/distributions.py\u001b[0m in \u001b[0;36m__init__\u001b[0;34m(self, low, high, log, step)\u001b[0m\n\u001b[1;32m    146\u001b[0m \u001b[0;34m\u001b[0m\u001b[0m\n\u001b[1;32m    147\u001b[0m         \u001b[0;32mif\u001b[0m \u001b[0mlog\u001b[0m \u001b[0;32mand\u001b[0m \u001b[0mlow\u001b[0m \u001b[0;34m<=\u001b[0m \u001b[0;36m0.0\u001b[0m\u001b[0;34m:\u001b[0m\u001b[0;34m\u001b[0m\u001b[0;34m\u001b[0m\u001b[0m\n\u001b[0;32m--> 148\u001b[0;31m             raise ValueError(\n\u001b[0m\u001b[1;32m    149\u001b[0m                 \u001b[0;34m\"The `low` value must be larger than 0 for a log distribution \"\u001b[0m\u001b[0;34m\u001b[0m\u001b[0;34m\u001b[0m\u001b[0m\n\u001b[1;32m    150\u001b[0m                 \u001b[0;34m\"(low={}, high={}).\"\u001b[0m\u001b[0;34m.\u001b[0m\u001b[0mformat\u001b[0m\u001b[0;34m(\u001b[0m\u001b[0mlow\u001b[0m\u001b[0;34m,\u001b[0m \u001b[0mhigh\u001b[0m\u001b[0;34m)\u001b[0m\u001b[0;34m\u001b[0m\u001b[0;34m\u001b[0m\u001b[0m\n",
            "\u001b[0;31mValueError\u001b[0m: The `low` value must be larger than 0 for a log distribution (low=0, high=1e-09)."
          ]
        }
      ],
      "source": [
        "study_gnb = optuna.create_study(study_name=\"GaussianNB\", direction='maximize', sampler=sampler)\n",
        "study_gnb.optimize(objective_gnb, n_trials=100)"
      ]
    },
    {
      "cell_type": "markdown",
      "metadata": {
        "id": "tl9l2YbEmgm0"
      },
      "source": [
        "## 데이터 불균형 문제"
      ]
    },
    {
      "cell_type": "markdown",
      "metadata": {
        "id": "9mH30c67mi39"
      },
      "source": [
        "### 언더샘플링"
      ]
    },
    {
      "cell_type": "markdown",
      "metadata": {
        "id": "-O3RlRAgh_JM"
      },
      "source": [
        "#### RandomUnderSampler"
      ]
    },
    {
      "cell_type": "code",
      "execution_count": 50,
      "metadata": {
        "id": "wVgXrQ-hKa0S"
      },
      "outputs": [],
      "source": [
        "# https://wndofla123.tistory.com/30\n",
        "# https://datascienceschool.net/03%20machine%20learning/14.02%20%EB%B9%84%EB%8C%80%EC%B9%AD%20%EB%8D%B0%EC%9D%B4%ED%84%B0%20%EB%AC%B8%EC%A0%9C.html#edited-nearest-neighbours\n",
        "\n",
        "# 불균형 데이터 처리 - 언더 샘플링\n",
        "from imblearn.under_sampling import RandomUnderSampler\n",
        "from imblearn.under_sampling import TomekLinks\n",
        "from imblearn.under_sampling import OneSidedSelection\n",
        "from imblearn.under_sampling import EditedNearestNeighbours\n",
        "from imblearn.under_sampling import NeighbourhoodCleaningRule\n",
        "\n",
        "# 불균형 데이터 처리 - 오버 샘플링\n",
        "from imblearn.over_sampling import RandomOverSampler\n",
        "from imblearn.over_sampling import SMOTE\n",
        "from imblearn.over_sampling import ADASYN\n",
        "from imblearn.over_sampling import BorderlineSMOTE\n",
        "\n",
        "# 데이터 검증\n",
        "from sklearn.ensemble import RandomForestClassifier #랜덤 포레스트\n",
        "from sklearn.model_selection import RepeatedStratifiedKFold\n",
        "from sklearn.model_selection import cross_validate"
      ]
    },
    {
      "cell_type": "code",
      "execution_count": 51,
      "metadata": {
        "id": "qAlOKzrpH7Wx"
      },
      "outputs": [],
      "source": [
        "# count_and_plot 그리기 함수\n",
        "from collections import Counter\n",
        "from matplotlib import pyplot\n",
        "\n",
        "def count_and_plot(y):\n",
        "    counter = Counter(y)\n",
        "    for k,v in counter.items():\n",
        "        print('Class=%d, n=%d (%.3f%%)'%(k,v,v / len(y) * 100))\n",
        "    pyplot.bar(counter.keys(), counter.values())\n",
        "    pyplot.show()"
      ]
    },
    {
      "cell_type": "code",
      "execution_count": null,
      "metadata": {
        "colab": {
          "base_uri": "https://localhost:8080/",
          "height": 375
        },
        "id": "ViSsv9Q7nrVw",
        "outputId": "39a846a1-3397-4a8b-cbbd-20a1e1a33051"
      },
      "outputs": [
        {
          "name": "stdout",
          "output_type": "stream",
          "text": [
            "Class=4, n=2222346 (98.941%)\n",
            "Class=2, n=8981 (0.400%)\n",
            "Class=3, n=8955 (0.399%)\n",
            "Class=1, n=5855 (0.261%)\n"
          ]
        },
        {
          "data": {
            "image/png": "[encoded data removed]",
            "text/plain": [
              "<Figure size 500x300 with 1 Axes>"
            ]
          },
          "metadata": {},
          "output_type": "display_data"
        }
      ],
      "source": [
        "plt.figure(figsize=(5, 3))\n",
        "count_and_plot(y_train_labeled)"
      ]
    },
    {
      "cell_type": "code",
      "execution_count": null,
      "metadata": {
        "id": "QNHXaSr2nzpD"
      },
      "outputs": [],
      "source": [
        "rus = RandomUnderSampler(sampling_strategy=\"auto\", random_state=42)\n",
        "X_train_res, y_train_res = rus.fit_resample(X_train_labeled, y_train_labeled)"
      ]
    },
    {
      "cell_type": "code",
      "execution_count": null,
      "metadata": {
        "colab": {
          "base_uri": "https://localhost:8080/",
          "height": 360
        },
        "id": "T8EwR2ekri48",
        "outputId": "07bb04b6-6498-4e5b-c9d1-49c18db40371"
      },
      "outputs": [
        {
          "name": "stdout",
          "output_type": "stream",
          "text": [
            "Class=1, n=5855 (25.000%)\n",
            "Class=2, n=5855 (25.000%)\n",
            "Class=3, n=5855 (25.000%)\n",
            "Class=4, n=5855 (25.000%)\n"
          ]
        },
        {
          "data": {
            "image/png": "[encoded data removed]",
            "text/plain": [
              "<Figure size 500x300 with 1 Axes>"
            ]
          },
          "metadata": {},
          "output_type": "display_data"
        }
      ],
      "source": [
        "plt.figure(figsize=(5, 3))\n",
        "count_and_plot(y_train_res)"
      ]
    },
    {
      "cell_type": "code",
      "execution_count": null,
      "metadata": {
        "id": "TaqQq1RIWgP8"
      },
      "outputs": [],
      "source": []
    },
    {
      "cell_type": "code",
      "execution_count": null,
      "metadata": {
        "id": "pEM32tEPV7at"
      },
      "outputs": [],
      "source": [
        "# tl = TomekLinks()\n",
        "# X_train_tl, y_train_tl = tl.fit_resample(X_train_labeled, y_train_labeled)"
      ]
    },
    {
      "cell_type": "code",
      "execution_count": null,
      "metadata": {
        "id": "v3ENOyFgWHA9"
      },
      "outputs": [],
      "source": [
        "# plt.figure(figsize=(5, 3))\n",
        "# count_and_plot(y_train_tl)"
      ]
    },
    {
      "cell_type": "code",
      "execution_count": null,
      "metadata": {
        "id": "URIRGfqtrlCS"
      },
      "outputs": [],
      "source": [
        "# # 전체 데이터셋으로 하이퍼파라미터 튜닝했던 데이터 로드\n",
        "# pkl_path = \"/content/drive/MyDrive/weather-contest/fog_data/cat_model_tek.pkl\"\n",
        "# with open(pkl_path, 'rb') as f:\n",
        "# \tcat_opt = pickle.load(f)"
      ]
    },
    {
      "cell_type": "code",
      "execution_count": null,
      "metadata": {
        "id": "LzDMN27isHoc"
      },
      "outputs": [],
      "source": [
        "# ruv_cat = cat_opt.fit(X_res, y_res)"
      ]
    },
    {
      "cell_type": "code",
      "execution_count": null,
      "metadata": {
        "id": "dy-OlYX8skE3"
      },
      "outputs": [],
      "source": [
        "# y_pred_ruv = ruv_cat.predict(X_val_labeled)"
      ]
    },
    {
      "cell_type": "code",
      "execution_count": null,
      "metadata": {
        "id": "rv9kCYnEteYK"
      },
      "outputs": [],
      "source": [
        "# csi_index : 0.03681626651277146\n",
        "# csi_index(y_val_labeled, y_pred_ruv)"
      ]
    },
    {
      "cell_type": "markdown",
      "metadata": {
        "id": "pzetGE6dSY2A"
      },
      "source": [
        "##### RandomUnderSampler 통한 Train dataset으로 다시 모델링 (하이퍼파라미터 튜닝 전)"
      ]
    },
    {
      "cell_type": "code",
      "execution_count": null,
      "metadata": {
        "id": "ltXplhETtnGa"
      },
      "outputs": [],
      "source": [
        "models = [\n",
        "    (\"Decision Tree\", DecisionTreeClassifier(random_state=42)),\n",
        "    (\"CatBoost\", CatBoostClassifier(loss_function='MultiClass', verbose=0, task_type=\"GPU\",random_state=42)),\n",
        "    (\"Naive Bayes\", GaussianNB()),\n",
        "    (\"Random Forest\", RandomForestClassifier(random_state=42))\n",
        "]"
      ]
    },
    {
      "cell_type": "code",
      "execution_count": null,
      "metadata": {
        "colab": {
          "base_uri": "https://localhost:8080/",
          "height": 227
        },
        "id": "Dr-c6AgNSiq0",
        "outputId": "1be08204-6152-4f9b-a4c9-e8c6211b1fbb"
      },
      "outputs": [
        {
          "name": "stdout",
          "output_type": "stream",
          "text": [
            "\n",
            "======== Models Before Hyper Parameter Tuning ========\n",
            "\n"
          ]
        },
        {
          "data": {
            "application/vnd.google.colaboratory.intrinsic+json": {
              "summary": "{\n  \"name\": \"model_comparison(models, X_train_res, y_train_res, X_val_labeled, y_val_labeled)\",\n  \"rows\": 4,\n  \"fields\": [\n    {\n      \"column\": \"Model\",\n      \"properties\": {\n        \"dtype\": \"string\",\n        \"num_unique_values\": 4,\n        \"samples\": [\n          \"CatBoost\",\n          \"Naive Bayes\",\n          \"Random Forest\"\n        ],\n        \"semantic_type\": \"\",\n        \"description\": \"\"\n      }\n    },\n    {\n      \"column\": \"Accuracy\",\n      \"properties\": {\n        \"dtype\": \"number\",\n        \"std\": 0.0940058641787841,\n        \"min\": 0.6464,\n        \"max\": 0.8504,\n        \"num_unique_values\": 4,\n        \"samples\": [\n          0.837,\n          0.6464,\n          0.8504\n        ],\n        \"semantic_type\": \"\",\n        \"description\": \"\"\n      }\n    },\n    {\n      \"column\": \"Precision\",\n      \"properties\": {\n        \"dtype\": \"number\",\n        \"std\": 0.00029999999999996696,\n        \"min\": 0.9887,\n        \"max\": 0.9893,\n        \"num_unique_values\": 3,\n        \"samples\": [\n          0.9893,\n          0.9891,\n          0.9887\n        ],\n        \"semantic_type\": \"\",\n        \"description\": \"\"\n      }\n    },\n    {\n      \"column\": \"Recall\",\n      \"properties\": {\n        \"dtype\": \"number\",\n        \"std\": 0.0940058641787841,\n        \"min\": 0.6464,\n        \"max\": 0.8504,\n        \"num_unique_values\": 4,\n        \"samples\": [\n          0.837,\n          0.6464,\n          0.8504\n        ],\n        \"semantic_type\": \"\",\n        \"description\": \"\"\n      }\n    },\n    {\n      \"column\": \"F1 Score\",\n      \"properties\": {\n        \"dtype\": \"number\",\n        \"std\": 0.06104266267674325,\n        \"min\": 0.7791,\n        \"max\": 0.9116,\n        \"num_unique_values\": 4,\n        \"samples\": [\n          0.9037,\n          0.7791,\n          0.9116\n        ],\n        \"semantic_type\": \"\",\n        \"description\": \"\"\n      }\n    },\n    {\n      \"column\": \"CSI Index\",\n      \"properties\": {\n        \"dtype\": \"number\",\n        \"std\": 0.013579641625119078,\n        \"min\": 0.0109,\n        \"max\": 0.0408,\n        \"num_unique_values\": 4,\n        \"samples\": [\n          0.0359,\n          0.0109,\n          0.0408\n        ],\n        \"semantic_type\": \"\",\n        \"description\": \"\"\n      }\n    }\n  ]\n}",
              "type": "dataframe"
            },
            "text/html": [
              "\n",
              "  <div id=\"df-a11f848e-e7cb-4e07-87a3-92155062d25c\" class=\"colab-df-container\">\n",
              "    <div>\n",
              "<style scoped>\n",
              "    .dataframe tbody tr th:only-of-type {\n",
              "        vertical-align: middle;\n",
              "    }\n",
              "\n",
              "    .dataframe tbody tr th {\n",
              "        vertical-align: top;\n",
              "    }\n",
              "\n",
              "    .dataframe thead th {\n",
              "        text-align: right;\n",
              "    }\n",
              "</style>\n",
              "<table border=\"1\" class=\"dataframe\">\n",
              "  <thead>\n",
              "    <tr style=\"text-align: right;\">\n",
              "      <th></th>\n",
              "      <th>Model</th>\n",
              "      <th>Accuracy</th>\n",
              "      <th>Precision</th>\n",
              "      <th>Recall</th>\n",
              "      <th>F1 Score</th>\n",
              "      <th>CSI Index</th>\n",
              "    </tr>\n",
              "  </thead>\n",
              "  <tbody>\n",
              "    <tr>\n",
              "      <th>0</th>\n",
              "      <td>Random Forest</td>\n",
              "      <td>0.8504</td>\n",
              "      <td>0.9893</td>\n",
              "      <td>0.8504</td>\n",
              "      <td>0.9116</td>\n",
              "      <td>0.0408</td>\n",
              "    </tr>\n",
              "    <tr>\n",
              "      <th>1</th>\n",
              "      <td>CatBoost</td>\n",
              "      <td>0.8370</td>\n",
              "      <td>0.9891</td>\n",
              "      <td>0.8370</td>\n",
              "      <td>0.9037</td>\n",
              "      <td>0.0359</td>\n",
              "    </tr>\n",
              "    <tr>\n",
              "      <th>2</th>\n",
              "      <td>Decision Tree</td>\n",
              "      <td>0.7529</td>\n",
              "      <td>0.9887</td>\n",
              "      <td>0.7529</td>\n",
              "      <td>0.8516</td>\n",
              "      <td>0.0220</td>\n",
              "    </tr>\n",
              "    <tr>\n",
              "      <th>3</th>\n",
              "      <td>Naive Bayes</td>\n",
              "      <td>0.6464</td>\n",
              "      <td>0.9887</td>\n",
              "      <td>0.6464</td>\n",
              "      <td>0.7791</td>\n",
              "      <td>0.0109</td>\n",
              "    </tr>\n",
              "  </tbody>\n",
              "</table>\n",
              "</div>\n",
              "    <div class=\"colab-df-buttons\">\n",
              "\n",
              "  <div class=\"colab-df-container\">\n",
              "    <button class=\"colab-df-convert\" onclick=\"convertToInteractive('df-a11f848e-e7cb-4e07-87a3-92155062d25c')\"\n",
              "            title=\"Convert this dataframe to an interactive table.\"\n",
              "            style=\"display:none;\">\n",
              "\n",
              "  <svg xmlns=\"http://www.w3.org/2000/svg\" height=\"24px\" viewBox=\"0 -960 960 960\">\n",
              "    <path d=\"M120-120v-720h720v720H120Zm60-500h600v-160H180v160Zm220 220h160v-160H400v160Zm0 220h160v-160H400v160ZM180-400h160v-160H180v160Zm440 0h160v-160H620v160ZM180-180h160v-160H180v160Zm440 0h160v-160H620v160Z\"/>\n",
              "  </svg>\n",
              "    </button>\n",
              "\n",
              "  <style>\n",
              "    .colab-df-container {\n",
              "      display:flex;\n",
              "      gap: 12px;\n",
              "    }\n",
              "\n",
              "    .colab-df-convert {\n",
              "      background-color: #E8F0FE;\n",
              "      border: none;\n",
              "      border-radius: 50%;\n",
              "      cursor: pointer;\n",
              "      display: none;\n",
              "      fill: #1967D2;\n",
              "      height: 32px;\n",
              "      padding: 0 0 0 0;\n",
              "      width: 32px;\n",
              "    }\n",
              "\n",
              "    .colab-df-convert:hover {\n",
              "      background-color: #E2EBFA;\n",
              "      box-shadow: 0px 1px 2px rgba(60, 64, 67, 0.3), 0px 1px 3px 1px rgba(60, 64, 67, 0.15);\n",
              "      fill: #174EA6;\n",
              "    }\n",
              "\n",
              "    .colab-df-buttons div {\n",
              "      margin-bottom: 4px;\n",
              "    }\n",
              "\n",
              "    [theme=dark] .colab-df-convert {\n",
              "      background-color: #3B4455;\n",
              "      fill: #D2E3FC;\n",
              "    }\n",
              "\n",
              "    [theme=dark] .colab-df-convert:hover {\n",
              "      background-color: #434B5C;\n",
              "      box-shadow: 0px 1px 3px 1px rgba(0, 0, 0, 0.15);\n",
              "      filter: drop-shadow(0px 1px 2px rgba(0, 0, 0, 0.3));\n",
              "      fill: #FFFFFF;\n",
              "    }\n",
              "  </style>\n",
              "\n",
              "    <script>\n",
              "      const buttonEl =\n",
              "        document.querySelector('#df-a11f848e-e7cb-4e07-87a3-92155062d25c button.colab-df-convert');\n",
              "      buttonEl.style.display =\n",
              "        google.colab.kernel.accessAllowed ? 'block' : 'none';\n",
              "\n",
              "      async function convertToInteractive(key) {\n",
              "        const element = document.querySelector('#df-a11f848e-e7cb-4e07-87a3-92155062d25c');\n",
              "        const dataTable =\n",
              "          await google.colab.kernel.invokeFunction('convertToInteractive',\n",
              "                                                    [key], {});\n",
              "        if (!dataTable) return;\n",
              "\n",
              "        const docLinkHtml = 'Like what you see? Visit the ' +\n",
              "          '<a target=\"_blank\" href=https://colab.research.google.com/notebooks/data_table.ipynb>data table notebook</a>'\n",
              "          + ' to learn more about interactive tables.';\n",
              "        element.innerHTML = '';\n",
              "        dataTable['output_type'] = 'display_data';\n",
              "        await google.colab.output.renderOutput(dataTable, element);\n",
              "        const docLink = document.createElement('div');\n",
              "        docLink.innerHTML = docLinkHtml;\n",
              "        element.appendChild(docLink);\n",
              "      }\n",
              "    </script>\n",
              "  </div>\n",
              "\n",
              "\n",
              "<div id=\"df-4df77e4f-d887-463d-86a9-97817adca788\">\n",
              "  <button class=\"colab-df-quickchart\" onclick=\"quickchart('df-4df77e4f-d887-463d-86a9-97817adca788')\"\n",
              "            title=\"Suggest charts\"\n",
              "            style=\"display:none;\">\n",
              "\n",
              "<svg xmlns=\"http://www.w3.org/2000/svg\" height=\"24px\"viewBox=\"0 0 24 24\"\n",
              "     width=\"24px\">\n",
              "    <g>\n",
              "        <path d=\"M19 3H5c-1.1 0-2 .9-2 2v14c0 1.1.9 2 2 2h14c1.1 0 2-.9 2-2V5c0-1.1-.9-2-2-2zM9 17H7v-7h2v7zm4 0h-2V7h2v10zm4 0h-2v-4h2v4z\"/>\n",
              "    </g>\n",
              "</svg>\n",
              "  </button>\n",
              "\n",
              "<style>\n",
              "  .colab-df-quickchart {\n",
              "      --bg-color: #E8F0FE;\n",
              "      --fill-color: #1967D2;\n",
              "      --hover-bg-color: #E2EBFA;\n",
              "      --hover-fill-color: #174EA6;\n",
              "      --disabled-fill-color: #AAA;\n",
              "      --disabled-bg-color: #DDD;\n",
              "  }\n",
              "\n",
              "  [theme=dark] .colab-df-quickchart {\n",
              "      --bg-color: #3B4455;\n",
              "      --fill-color: #D2E3FC;\n",
              "      --hover-bg-color: #434B5C;\n",
              "      --hover-fill-color: #FFFFFF;\n",
              "      --disabled-bg-color: #3B4455;\n",
              "      --disabled-fill-color: #666;\n",
              "  }\n",
              "\n",
              "  .colab-df-quickchart {\n",
              "    background-color: var(--bg-color);\n",
              "    border: none;\n",
              "    border-radius: 50%;\n",
              "    cursor: pointer;\n",
              "    display: none;\n",
              "    fill: var(--fill-color);\n",
              "    height: 32px;\n",
              "    padding: 0;\n",
              "    width: 32px;\n",
              "  }\n",
              "\n",
              "  .colab-df-quickchart:hover {\n",
              "    background-color: var(--hover-bg-color);\n",
              "    box-shadow: 0 1px 2px rgba(60, 64, 67, 0.3), 0 1px 3px 1px rgba(60, 64, 67, 0.15);\n",
              "    fill: var(--button-hover-fill-color);\n",
              "  }\n",
              "\n",
              "  .colab-df-quickchart-complete:disabled,\n",
              "  .colab-df-quickchart-complete:disabled:hover {\n",
              "    background-color: var(--disabled-bg-color);\n",
              "    fill: var(--disabled-fill-color);\n",
              "    box-shadow: none;\n",
              "  }\n",
              "\n",
              "  .colab-df-spinner {\n",
              "    border: 2px solid var(--fill-color);\n",
              "    border-color: transparent;\n",
              "    border-bottom-color: var(--fill-color);\n",
              "    animation:\n",
              "      spin 1s steps(1) infinite;\n",
              "  }\n",
              "\n",
              "  @keyframes spin {\n",
              "    0% {\n",
              "      border-color: transparent;\n",
              "      border-bottom-color: var(--fill-color);\n",
              "      border-left-color: var(--fill-color);\n",
              "    }\n",
              "    20% {\n",
              "      border-color: transparent;\n",
              "      border-left-color: var(--fill-color);\n",
              "      border-top-color: var(--fill-color);\n",
              "    }\n",
              "    30% {\n",
              "      border-color: transparent;\n",
              "      border-left-color: var(--fill-color);\n",
              "      border-top-color: var(--fill-color);\n",
              "      border-right-color: var(--fill-color);\n",
              "    }\n",
              "    40% {\n",
              "      border-color: transparent;\n",
              "      border-right-color: var(--fill-color);\n",
              "      border-top-color: var(--fill-color);\n",
              "    }\n",
              "    60% {\n",
              "      border-color: transparent;\n",
              "      border-right-color: var(--fill-color);\n",
              "    }\n",
              "    80% {\n",
              "      border-color: transparent;\n",
              "      border-right-color: var(--fill-color);\n",
              "      border-bottom-color: var(--fill-color);\n",
              "    }\n",
              "    90% {\n",
              "      border-color: transparent;\n",
              "      border-bottom-color: var(--fill-color);\n",
              "    }\n",
              "  }\n",
              "</style>\n",
              "\n",
              "  <script>\n",
              "    async function quickchart(key) {\n",
              "      const quickchartButtonEl =\n",
              "        document.querySelector('#' + key + ' button');\n",
              "      quickchartButtonEl.disabled = true;  // To prevent multiple clicks.\n",
              "      quickchartButtonEl.classList.add('colab-df-spinner');\n",
              "      try {\n",
              "        const charts = await google.colab.kernel.invokeFunction(\n",
              "            'suggestCharts', [key], {});\n",
              "      } catch (error) {\n",
              "        console.error('Error during call to suggestCharts:', error);\n",
              "      }\n",
              "      quickchartButtonEl.classList.remove('colab-df-spinner');\n",
              "      quickchartButtonEl.classList.add('colab-df-quickchart-complete');\n",
              "    }\n",
              "    (() => {\n",
              "      let quickchartButtonEl =\n",
              "        document.querySelector('#df-4df77e4f-d887-463d-86a9-97817adca788 button');\n",
              "      quickchartButtonEl.style.display =\n",
              "        google.colab.kernel.accessAllowed ? 'block' : 'none';\n",
              "    })();\n",
              "  </script>\n",
              "</div>\n",
              "\n",
              "    </div>\n",
              "  </div>\n"
            ],
            "text/plain": [
              "           Model  Accuracy  Precision  Recall  F1 Score  CSI Index\n",
              "0  Random Forest    0.8504     0.9893  0.8504    0.9116     0.0408\n",
              "1       CatBoost    0.8370     0.9891  0.8370    0.9037     0.0359\n",
              "2  Decision Tree    0.7529     0.9887  0.7529    0.8516     0.0220\n",
              "3    Naive Bayes    0.6464     0.9887  0.6464    0.7791     0.0109"
            ]
          },
          "execution_count": 76,
          "metadata": {},
          "output_type": "execute_result"
        }
      ],
      "source": [
        "model_comparison(models, X_train_res, y_train_res, X_val_labeled, y_val_labeled)"
      ]
    },
    {
      "cell_type": "markdown",
      "metadata": {
        "id": "7-TSjUUmiXap"
      },
      "source": [
        "#### TomekLinks"
      ]
    },
    {
      "cell_type": "code",
      "execution_count": 52,
      "metadata": {
        "id": "AkURXRRQibx4"
      },
      "outputs": [],
      "source": [
        "tl = TomekLinks()\n",
        "X_train_tl, y_train_tl = tl.fit_resample(X_train_labeled, y_train_labeled)"
      ]
    },
    {
      "cell_type": "code",
      "execution_count": 53,
      "metadata": {
        "colab": {
          "base_uri": "https://localhost:8080/",
          "height": 375
        },
        "id": "Qc-qZ-8gibvJ",
        "outputId": "9928351e-9f6c-4731-d0f0-be458f2c8ae7"
      },
      "outputs": [
        {
          "name": "stdout",
          "output_type": "stream",
          "text": [
            "Class=4, n=2222293 (99.089%)\n",
            "Class=2, n=7072 (0.315%)\n",
            "Class=3, n=7511 (0.335%)\n",
            "Class=1, n=5855 (0.261%)\n"
          ]
        },
        {
          "data": {
            "image/png": "[encoded data removed]",
            "text/plain": [
              "<Figure size 500x300 with 1 Axes>"
            ]
          },
          "metadata": {},
          "output_type": "display_data"
        }
      ],
      "source": [
        "plt.figure(figsize=(5, 3))\n",
        "count_and_plot(y_train_tl)"
      ]
    },
    {
      "cell_type": "markdown",
      "metadata": {
        "id": "1VkTcjZ6jpsG"
      },
      "source": [
        "##### TomekLinks 통한 Train dataset으로 다시 모델링 (하이퍼파라미터 튜닝 전)"
      ]
    },
    {
      "cell_type": "code",
      "execution_count": 54,
      "metadata": {
        "colab": {
          "base_uri": "https://localhost:8080/",
          "height": 164
        },
        "id": "h90tIKwFjHzX",
        "outputId": "82219bd1-1d84-4ff2-fd9c-fb05fa0294f8"
      },
      "outputs": [
        {
          "name": "stdout",
          "output_type": "stream",
          "text": [
            "\n",
            "======== Models Before Hyper Parameter Tuning ========\n",
            "\n"
          ]
        },
        {
          "data": {
            "application/vnd.google.colaboratory.intrinsic+json": {
              "summary": "{\n  \"name\": \"model_comparison(models, X_train_tl, y_train_tl, X_val_labeled, y_val_labeled)\",\n  \"rows\": 2,\n  \"fields\": [\n    {\n      \"column\": \"Model\",\n      \"properties\": {\n        \"dtype\": \"string\",\n        \"num_unique_values\": 2,\n        \"samples\": [\n          \"Decision Tree\",\n          \"CatBoost\"\n        ],\n        \"semantic_type\": \"\",\n        \"description\": \"\"\n      }\n    },\n    {\n      \"column\": \"Accuracy\",\n      \"properties\": {\n        \"dtype\": \"number\",\n        \"std\": 0.00028284271247458785,\n        \"min\": 0.9955,\n        \"max\": 0.9959,\n        \"num_unique_values\": 2,\n        \"samples\": [\n          0.9955,\n          0.9959\n        ],\n        \"semantic_type\": \"\",\n        \"description\": \"\"\n      }\n    },\n    {\n      \"column\": \"Precision\",\n      \"properties\": {\n        \"dtype\": \"number\",\n        \"std\": 0.00028284271247458785,\n        \"min\": 0.9955,\n        \"max\": 0.9959,\n        \"num_unique_values\": 2,\n        \"samples\": [\n          0.9955,\n          0.9959\n        ],\n        \"semantic_type\": \"\",\n        \"description\": \"\"\n      }\n    },\n    {\n      \"column\": \"Recall\",\n      \"properties\": {\n        \"dtype\": \"number\",\n        \"std\": 0.00028284271247458785,\n        \"min\": 0.9955,\n        \"max\": 0.9959,\n        \"num_unique_values\": 2,\n        \"samples\": [\n          0.9955,\n          0.9959\n        ],\n        \"semantic_type\": \"\",\n        \"description\": \"\"\n      }\n    },\n    {\n      \"column\": \"F1 Score\",\n      \"properties\": {\n        \"dtype\": \"number\",\n        \"std\": 0.00028284271247458785,\n        \"min\": 0.9955,\n        \"max\": 0.9959,\n        \"num_unique_values\": 2,\n        \"samples\": [\n          0.9955,\n          0.9959\n        ],\n        \"semantic_type\": \"\",\n        \"description\": \"\"\n      }\n    },\n    {\n      \"column\": \"CSI Index\",\n      \"properties\": {\n        \"dtype\": \"number\",\n        \"std\": 0.0275771644662753,\n        \"min\": 0.5731,\n        \"max\": 0.6121,\n        \"num_unique_values\": 2,\n        \"samples\": [\n          0.5731,\n          0.6121\n        ],\n        \"semantic_type\": \"\",\n        \"description\": \"\"\n      }\n    }\n  ]\n}",
              "type": "dataframe"
            },
            "text/html": [
              "\n",
              "  <div id=\"df-fffd6b0d-8cc7-4ad8-9c34-53005741b674\" class=\"colab-df-container\">\n",
              "    <div>\n",
              "<style scoped>\n",
              "    .dataframe tbody tr th:only-of-type {\n",
              "        vertical-align: middle;\n",
              "    }\n",
              "\n",
              "    .dataframe tbody tr th {\n",
              "        vertical-align: top;\n",
              "    }\n",
              "\n",
              "    .dataframe thead th {\n",
              "        text-align: right;\n",
              "    }\n",
              "</style>\n",
              "<table border=\"1\" class=\"dataframe\">\n",
              "  <thead>\n",
              "    <tr style=\"text-align: right;\">\n",
              "      <th></th>\n",
              "      <th>Model</th>\n",
              "      <th>Accuracy</th>\n",
              "      <th>Precision</th>\n",
              "      <th>Recall</th>\n",
              "      <th>F1 Score</th>\n",
              "      <th>CSI Index</th>\n",
              "    </tr>\n",
              "  </thead>\n",
              "  <tbody>\n",
              "    <tr>\n",
              "      <th>0</th>\n",
              "      <td>CatBoost</td>\n",
              "      <td>0.9959</td>\n",
              "      <td>0.9959</td>\n",
              "      <td>0.9959</td>\n",
              "      <td>0.9959</td>\n",
              "      <td>0.6121</td>\n",
              "    </tr>\n",
              "    <tr>\n",
              "      <th>1</th>\n",
              "      <td>Decision Tree</td>\n",
              "      <td>0.9955</td>\n",
              "      <td>0.9955</td>\n",
              "      <td>0.9955</td>\n",
              "      <td>0.9955</td>\n",
              "      <td>0.5731</td>\n",
              "    </tr>\n",
              "  </tbody>\n",
              "</table>\n",
              "</div>\n",
              "    <div class=\"colab-df-buttons\">\n",
              "\n",
              "  <div class=\"colab-df-container\">\n",
              "    <button class=\"colab-df-convert\" onclick=\"convertToInteractive('df-fffd6b0d-8cc7-4ad8-9c34-53005741b674')\"\n",
              "            title=\"Convert this dataframe to an interactive table.\"\n",
              "            style=\"display:none;\">\n",
              "\n",
              "  <svg xmlns=\"http://www.w3.org/2000/svg\" height=\"24px\" viewBox=\"0 -960 960 960\">\n",
              "    <path d=\"M120-120v-720h720v720H120Zm60-500h600v-160H180v160Zm220 220h160v-160H400v160Zm0 220h160v-160H400v160ZM180-400h160v-160H180v160Zm440 0h160v-160H620v160ZM180-180h160v-160H180v160Zm440 0h160v-160H620v160Z\"/>\n",
              "  </svg>\n",
              "    </button>\n",
              "\n",
              "  <style>\n",
              "    .colab-df-container {\n",
              "      display:flex;\n",
              "      gap: 12px;\n",
              "    }\n",
              "\n",
              "    .colab-df-convert {\n",
              "      background-color: #E8F0FE;\n",
              "      border: none;\n",
              "      border-radius: 50%;\n",
              "      cursor: pointer;\n",
              "      display: none;\n",
              "      fill: #1967D2;\n",
              "      height: 32px;\n",
              "      padding: 0 0 0 0;\n",
              "      width: 32px;\n",
              "    }\n",
              "\n",
              "    .colab-df-convert:hover {\n",
              "      background-color: #E2EBFA;\n",
              "      box-shadow: 0px 1px 2px rgba(60, 64, 67, 0.3), 0px 1px 3px 1px rgba(60, 64, 67, 0.15);\n",
              "      fill: #174EA6;\n",
              "    }\n",
              "\n",
              "    .colab-df-buttons div {\n",
              "      margin-bottom: 4px;\n",
              "    }\n",
              "\n",
              "    [theme=dark] .colab-df-convert {\n",
              "      background-color: #3B4455;\n",
              "      fill: #D2E3FC;\n",
              "    }\n",
              "\n",
              "    [theme=dark] .colab-df-convert:hover {\n",
              "      background-color: #434B5C;\n",
              "      box-shadow: 0px 1px 3px 1px rgba(0, 0, 0, 0.15);\n",
              "      filter: drop-shadow(0px 1px 2px rgba(0, 0, 0, 0.3));\n",
              "      fill: #FFFFFF;\n",
              "    }\n",
              "  </style>\n",
              "\n",
              "    <script>\n",
              "      const buttonEl =\n",
              "        document.querySelector('#df-fffd6b0d-8cc7-4ad8-9c34-53005741b674 button.colab-df-convert');\n",
              "      buttonEl.style.display =\n",
              "        google.colab.kernel.accessAllowed ? 'block' : 'none';\n",
              "\n",
              "      async function convertToInteractive(key) {\n",
              "        const element = document.querySelector('#df-fffd6b0d-8cc7-4ad8-9c34-53005741b674');\n",
              "        const dataTable =\n",
              "          await google.colab.kernel.invokeFunction('convertToInteractive',\n",
              "                                                    [key], {});\n",
              "        if (!dataTable) return;\n",
              "\n",
              "        const docLinkHtml = 'Like what you see? Visit the ' +\n",
              "          '<a target=\"_blank\" href=https://colab.research.google.com/notebooks/data_table.ipynb>data table notebook</a>'\n",
              "          + ' to learn more about interactive tables.';\n",
              "        element.innerHTML = '';\n",
              "        dataTable['output_type'] = 'display_data';\n",
              "        await google.colab.output.renderOutput(dataTable, element);\n",
              "        const docLink = document.createElement('div');\n",
              "        docLink.innerHTML = docLinkHtml;\n",
              "        element.appendChild(docLink);\n",
              "      }\n",
              "    </script>\n",
              "  </div>\n",
              "\n",
              "\n",
              "<div id=\"df-6fcb3031-7dcb-4a65-bca3-d4e662a7a558\">\n",
              "  <button class=\"colab-df-quickchart\" onclick=\"quickchart('df-6fcb3031-7dcb-4a65-bca3-d4e662a7a558')\"\n",
              "            title=\"Suggest charts\"\n",
              "            style=\"display:none;\">\n",
              "\n",
              "<svg xmlns=\"http://www.w3.org/2000/svg\" height=\"24px\"viewBox=\"0 0 24 24\"\n",
              "     width=\"24px\">\n",
              "    <g>\n",
              "        <path d=\"M19 3H5c-1.1 0-2 .9-2 2v14c0 1.1.9 2 2 2h14c1.1 0 2-.9 2-2V5c0-1.1-.9-2-2-2zM9 17H7v-7h2v7zm4 0h-2V7h2v10zm4 0h-2v-4h2v4z\"/>\n",
              "    </g>\n",
              "</svg>\n",
              "  </button>\n",
              "\n",
              "<style>\n",
              "  .colab-df-quickchart {\n",
              "      --bg-color: #E8F0FE;\n",
              "      --fill-color: #1967D2;\n",
              "      --hover-bg-color: #E2EBFA;\n",
              "      --hover-fill-color: #174EA6;\n",
              "      --disabled-fill-color: #AAA;\n",
              "      --disabled-bg-color: #DDD;\n",
              "  }\n",
              "\n",
              "  [theme=dark] .colab-df-quickchart {\n",
              "      --bg-color: #3B4455;\n",
              "      --fill-color: #D2E3FC;\n",
              "      --hover-bg-color: #434B5C;\n",
              "      --hover-fill-color: #FFFFFF;\n",
              "      --disabled-bg-color: #3B4455;\n",
              "      --disabled-fill-color: #666;\n",
              "  }\n",
              "\n",
              "  .colab-df-quickchart {\n",
              "    background-color: var(--bg-color);\n",
              "    border: none;\n",
              "    border-radius: 50%;\n",
              "    cursor: pointer;\n",
              "    display: none;\n",
              "    fill: var(--fill-color);\n",
              "    height: 32px;\n",
              "    padding: 0;\n",
              "    width: 32px;\n",
              "  }\n",
              "\n",
              "  .colab-df-quickchart:hover {\n",
              "    background-color: var(--hover-bg-color);\n",
              "    box-shadow: 0 1px 2px rgba(60, 64, 67, 0.3), 0 1px 3px 1px rgba(60, 64, 67, 0.15);\n",
              "    fill: var(--button-hover-fill-color);\n",
              "  }\n",
              "\n",
              "  .colab-df-quickchart-complete:disabled,\n",
              "  .colab-df-quickchart-complete:disabled:hover {\n",
              "    background-color: var(--disabled-bg-color);\n",
              "    fill: var(--disabled-fill-color);\n",
              "    box-shadow: none;\n",
              "  }\n",
              "\n",
              "  .colab-df-spinner {\n",
              "    border: 2px solid var(--fill-color);\n",
              "    border-color: transparent;\n",
              "    border-bottom-color: var(--fill-color);\n",
              "    animation:\n",
              "      spin 1s steps(1) infinite;\n",
              "  }\n",
              "\n",
              "  @keyframes spin {\n",
              "    0% {\n",
              "      border-color: transparent;\n",
              "      border-bottom-color: var(--fill-color);\n",
              "      border-left-color: var(--fill-color);\n",
              "    }\n",
              "    20% {\n",
              "      border-color: transparent;\n",
              "      border-left-color: var(--fill-color);\n",
              "      border-top-color: var(--fill-color);\n",
              "    }\n",
              "    30% {\n",
              "      border-color: transparent;\n",
              "      border-left-color: var(--fill-color);\n",
              "      border-top-color: var(--fill-color);\n",
              "      border-right-color: var(--fill-color);\n",
              "    }\n",
              "    40% {\n",
              "      border-color: transparent;\n",
              "      border-right-color: var(--fill-color);\n",
              "      border-top-color: var(--fill-color);\n",
              "    }\n",
              "    60% {\n",
              "      border-color: transparent;\n",
              "      border-right-color: var(--fill-color);\n",
              "    }\n",
              "    80% {\n",
              "      border-color: transparent;\n",
              "      border-right-color: var(--fill-color);\n",
              "      border-bottom-color: var(--fill-color);\n",
              "    }\n",
              "    90% {\n",
              "      border-color: transparent;\n",
              "      border-bottom-color: var(--fill-color);\n",
              "    }\n",
              "  }\n",
              "</style>\n",
              "\n",
              "  <script>\n",
              "    async function quickchart(key) {\n",
              "      const quickchartButtonEl =\n",
              "        document.querySelector('#' + key + ' button');\n",
              "      quickchartButtonEl.disabled = true;  // To prevent multiple clicks.\n",
              "      quickchartButtonEl.classList.add('colab-df-spinner');\n",
              "      try {\n",
              "        const charts = await google.colab.kernel.invokeFunction(\n",
              "            'suggestCharts', [key], {});\n",
              "      } catch (error) {\n",
              "        console.error('Error during call to suggestCharts:', error);\n",
              "      }\n",
              "      quickchartButtonEl.classList.remove('colab-df-spinner');\n",
              "      quickchartButtonEl.classList.add('colab-df-quickchart-complete');\n",
              "    }\n",
              "    (() => {\n",
              "      let quickchartButtonEl =\n",
              "        document.querySelector('#df-6fcb3031-7dcb-4a65-bca3-d4e662a7a558 button');\n",
              "      quickchartButtonEl.style.display =\n",
              "        google.colab.kernel.accessAllowed ? 'block' : 'none';\n",
              "    })();\n",
              "  </script>\n",
              "</div>\n",
              "\n",
              "    </div>\n",
              "  </div>\n"
            ],
            "text/plain": [
              "           Model  Accuracy  Precision  Recall  F1 Score  CSI Index\n",
              "0       CatBoost    0.9959     0.9959  0.9959    0.9959     0.6121\n",
              "1  Decision Tree    0.9955     0.9955  0.9955    0.9955     0.5731"
            ]
          },
          "execution_count": 54,
          "metadata": {},
          "output_type": "execute_result"
        }
      ],
      "source": [
        "model_comparison(models, X_train_tl, y_train_tl, X_val_labeled, y_val_labeled)"
      ]
    },
    {
      "cell_type": "markdown",
      "metadata": {
        "id": "O0Bv6xxAjhEE"
      },
      "source": [
        "#### OSS (OneSidedSelection)"
      ]
    },
    {
      "cell_type": "code",
      "execution_count": 55,
      "metadata": {
        "id": "Zl1HKmWYjc1D"
      },
      "outputs": [],
      "source": [
        "oss = OneSidedSelection(random_state=42)\n",
        "X_train_oss, y_train_oss = oss.fit_resample(X_train_labeled, y_train_labeled)"
      ]
    },
    {
      "cell_type": "code",
      "execution_count": 56,
      "metadata": {
        "colab": {
          "base_uri": "https://localhost:8080/",
          "height": 375
        },
        "id": "VIYT14IPl2MG",
        "outputId": "106ca1c2-1817-416c-b4dd-2cbf3e5a2538"
      },
      "outputs": [
        {
          "name": "stdout",
          "output_type": "stream",
          "text": [
            "Class=1, n=5855 (0.265%)\n",
            "Class=2, n=7073 (0.320%)\n",
            "Class=3, n=7496 (0.339%)\n",
            "Class=4, n=2192696 (99.077%)\n"
          ]
        },
        {
          "data": {
            "image/png": "[encoded data removed]",
            "text/plain": [
              "<Figure size 500x300 with 1 Axes>"
            ]
          },
          "metadata": {},
          "output_type": "display_data"
        }
      ],
      "source": [
        "plt.figure(figsize=(5, 3))\n",
        "count_and_plot(y_train_oss)"
      ]
    },
    {
      "cell_type": "markdown",
      "metadata": {
        "id": "HBfUl8nJl-pL"
      },
      "source": [
        "##### OSS 통한 Train dataset으로 다시 모델링 (하이퍼파라미터 튜닝 전)"
      ]
    },
    {
      "cell_type": "code",
      "execution_count": 57,
      "metadata": {
        "colab": {
          "base_uri": "https://localhost:8080/",
          "height": 164
        },
        "id": "aVm4wbpdj8jd",
        "outputId": "906c13c0-b54c-4326-e3ac-c91df26041f1"
      },
      "outputs": [
        {
          "name": "stdout",
          "output_type": "stream",
          "text": [
            "\n",
            "======== Models Before Hyper Parameter Tuning ========\n",
            "\n"
          ]
        },
        {
          "data": {
            "application/vnd.google.colaboratory.intrinsic+json": {
              "summary": "{\n  \"name\": \"model_comparison(models, X_train_oss, y_train_oss, X_val_labeled, y_val_labeled)\",\n  \"rows\": 2,\n  \"fields\": [\n    {\n      \"column\": \"Model\",\n      \"properties\": {\n        \"dtype\": \"string\",\n        \"num_unique_values\": 2,\n        \"samples\": [\n          \"Decision Tree\",\n          \"CatBoost\"\n        ],\n        \"semantic_type\": \"\",\n        \"description\": \"\"\n      }\n    },\n    {\n      \"column\": \"Accuracy\",\n      \"properties\": {\n        \"dtype\": \"number\",\n        \"std\": 0.00028284271247458785,\n        \"min\": 0.9955,\n        \"max\": 0.9959,\n        \"num_unique_values\": 2,\n        \"samples\": [\n          0.9955,\n          0.9959\n        ],\n        \"semantic_type\": \"\",\n        \"description\": \"\"\n      }\n    },\n    {\n      \"column\": \"Precision\",\n      \"properties\": {\n        \"dtype\": \"number\",\n        \"std\": 0.00028284271247458785,\n        \"min\": 0.9955,\n        \"max\": 0.9959,\n        \"num_unique_values\": 2,\n        \"samples\": [\n          0.9955,\n          0.9959\n        ],\n        \"semantic_type\": \"\",\n        \"description\": \"\"\n      }\n    },\n    {\n      \"column\": \"Recall\",\n      \"properties\": {\n        \"dtype\": \"number\",\n        \"std\": 0.00028284271247458785,\n        \"min\": 0.9955,\n        \"max\": 0.9959,\n        \"num_unique_values\": 2,\n        \"samples\": [\n          0.9955,\n          0.9959\n        ],\n        \"semantic_type\": \"\",\n        \"description\": \"\"\n      }\n    },\n    {\n      \"column\": \"F1 Score\",\n      \"properties\": {\n        \"dtype\": \"number\",\n        \"std\": 0.00028284271247458785,\n        \"min\": 0.9955,\n        \"max\": 0.9959,\n        \"num_unique_values\": 2,\n        \"samples\": [\n          0.9955,\n          0.9959\n        ],\n        \"semantic_type\": \"\",\n        \"description\": \"\"\n      }\n    },\n    {\n      \"column\": \"CSI Index\",\n      \"properties\": {\n        \"dtype\": \"number\",\n        \"std\": 0.026445793616376872,\n        \"min\": 0.5731,\n        \"max\": 0.6105,\n        \"num_unique_values\": 2,\n        \"samples\": [\n          0.5731,\n          0.6105\n        ],\n        \"semantic_type\": \"\",\n        \"description\": \"\"\n      }\n    }\n  ]\n}",
              "type": "dataframe"
            },
            "text/html": [
              "\n",
              "  <div id=\"df-eb0d5088-938d-408d-b3e9-0c709c6448ad\" class=\"colab-df-container\">\n",
              "    <div>\n",
              "<style scoped>\n",
              "    .dataframe tbody tr th:only-of-type {\n",
              "        vertical-align: middle;\n",
              "    }\n",
              "\n",
              "    .dataframe tbody tr th {\n",
              "        vertical-align: top;\n",
              "    }\n",
              "\n",
              "    .dataframe thead th {\n",
              "        text-align: right;\n",
              "    }\n",
              "</style>\n",
              "<table border=\"1\" class=\"dataframe\">\n",
              "  <thead>\n",
              "    <tr style=\"text-align: right;\">\n",
              "      <th></th>\n",
              "      <th>Model</th>\n",
              "      <th>Accuracy</th>\n",
              "      <th>Precision</th>\n",
              "      <th>Recall</th>\n",
              "      <th>F1 Score</th>\n",
              "      <th>CSI Index</th>\n",
              "    </tr>\n",
              "  </thead>\n",
              "  <tbody>\n",
              "    <tr>\n",
              "      <th>0</th>\n",
              "      <td>CatBoost</td>\n",
              "      <td>0.9959</td>\n",
              "      <td>0.9959</td>\n",
              "      <td>0.9959</td>\n",
              "      <td>0.9959</td>\n",
              "      <td>0.6105</td>\n",
              "    </tr>\n",
              "    <tr>\n",
              "      <th>1</th>\n",
              "      <td>Decision Tree</td>\n",
              "      <td>0.9955</td>\n",
              "      <td>0.9955</td>\n",
              "      <td>0.9955</td>\n",
              "      <td>0.9955</td>\n",
              "      <td>0.5731</td>\n",
              "    </tr>\n",
              "  </tbody>\n",
              "</table>\n",
              "</div>\n",
              "    <div class=\"colab-df-buttons\">\n",
              "\n",
              "  <div class=\"colab-df-container\">\n",
              "    <button class=\"colab-df-convert\" onclick=\"convertToInteractive('df-eb0d5088-938d-408d-b3e9-0c709c6448ad')\"\n",
              "            title=\"Convert this dataframe to an interactive table.\"\n",
              "            style=\"display:none;\">\n",
              "\n",
              "  <svg xmlns=\"http://www.w3.org/2000/svg\" height=\"24px\" viewBox=\"0 -960 960 960\">\n",
              "    <path d=\"M120-120v-720h720v720H120Zm60-500h600v-160H180v160Zm220 220h160v-160H400v160Zm0 220h160v-160H400v160ZM180-400h160v-160H180v160Zm440 0h160v-160H620v160ZM180-180h160v-160H180v160Zm440 0h160v-160H620v160Z\"/>\n",
              "  </svg>\n",
              "    </button>\n",
              "\n",
              "  <style>\n",
              "    .colab-df-container {\n",
              "      display:flex;\n",
              "      gap: 12px;\n",
              "    }\n",
              "\n",
              "    .colab-df-convert {\n",
              "      background-color: #E8F0FE;\n",
              "      border: none;\n",
              "      border-radius: 50%;\n",
              "      cursor: pointer;\n",
              "      display: none;\n",
              "      fill: #1967D2;\n",
              "      height: 32px;\n",
              "      padding: 0 0 0 0;\n",
              "      width: 32px;\n",
              "    }\n",
              "\n",
              "    .colab-df-convert:hover {\n",
              "      background-color: #E2EBFA;\n",
              "      box-shadow: 0px 1px 2px rgba(60, 64, 67, 0.3), 0px 1px 3px 1px rgba(60, 64, 67, 0.15);\n",
              "      fill: #174EA6;\n",
              "    }\n",
              "\n",
              "    .colab-df-buttons div {\n",
              "      margin-bottom: 4px;\n",
              "    }\n",
              "\n",
              "    [theme=dark] .colab-df-convert {\n",
              "      background-color: #3B4455;\n",
              "      fill: #D2E3FC;\n",
              "    }\n",
              "\n",
              "    [theme=dark] .colab-df-convert:hover {\n",
              "      background-color: #434B5C;\n",
              "      box-shadow: 0px 1px 3px 1px rgba(0, 0, 0, 0.15);\n",
              "      filter: drop-shadow(0px 1px 2px rgba(0, 0, 0, 0.3));\n",
              "      fill: #FFFFFF;\n",
              "    }\n",
              "  </style>\n",
              "\n",
              "    <script>\n",
              "      const buttonEl =\n",
              "        document.querySelector('#df-eb0d5088-938d-408d-b3e9-0c709c6448ad button.colab-df-convert');\n",
              "      buttonEl.style.display =\n",
              "        google.colab.kernel.accessAllowed ? 'block' : 'none';\n",
              "\n",
              "      async function convertToInteractive(key) {\n",
              "        const element = document.querySelector('#df-eb0d5088-938d-408d-b3e9-0c709c6448ad');\n",
              "        const dataTable =\n",
              "          await google.colab.kernel.invokeFunction('convertToInteractive',\n",
              "                                                    [key], {});\n",
              "        if (!dataTable) return;\n",
              "\n",
              "        const docLinkHtml = 'Like what you see? Visit the ' +\n",
              "          '<a target=\"_blank\" href=https://colab.research.google.com/notebooks/data_table.ipynb>data table notebook</a>'\n",
              "          + ' to learn more about interactive tables.';\n",
              "        element.innerHTML = '';\n",
              "        dataTable['output_type'] = 'display_data';\n",
              "        await google.colab.output.renderOutput(dataTable, element);\n",
              "        const docLink = document.createElement('div');\n",
              "        docLink.innerHTML = docLinkHtml;\n",
              "        element.appendChild(docLink);\n",
              "      }\n",
              "    </script>\n",
              "  </div>\n",
              "\n",
              "\n",
              "<div id=\"df-07743ff7-6095-4a08-a58d-347cabb0cade\">\n",
              "  <button class=\"colab-df-quickchart\" onclick=\"quickchart('df-07743ff7-6095-4a08-a58d-347cabb0cade')\"\n",
              "            title=\"Suggest charts\"\n",
              "            style=\"display:none;\">\n",
              "\n",
              "<svg xmlns=\"http://www.w3.org/2000/svg\" height=\"24px\"viewBox=\"0 0 24 24\"\n",
              "     width=\"24px\">\n",
              "    <g>\n",
              "        <path d=\"M19 3H5c-1.1 0-2 .9-2 2v14c0 1.1.9 2 2 2h14c1.1 0 2-.9 2-2V5c0-1.1-.9-2-2-2zM9 17H7v-7h2v7zm4 0h-2V7h2v10zm4 0h-2v-4h2v4z\"/>\n",
              "    </g>\n",
              "</svg>\n",
              "  </button>\n",
              "\n",
              "<style>\n",
              "  .colab-df-quickchart {\n",
              "      --bg-color: #E8F0FE;\n",
              "      --fill-color: #1967D2;\n",
              "      --hover-bg-color: #E2EBFA;\n",
              "      --hover-fill-color: #174EA6;\n",
              "      --disabled-fill-color: #AAA;\n",
              "      --disabled-bg-color: #DDD;\n",
              "  }\n",
              "\n",
              "  [theme=dark] .colab-df-quickchart {\n",
              "      --bg-color: #3B4455;\n",
              "      --fill-color: #D2E3FC;\n",
              "      --hover-bg-color: #434B5C;\n",
              "      --hover-fill-color: #FFFFFF;\n",
              "      --disabled-bg-color: #3B4455;\n",
              "      --disabled-fill-color: #666;\n",
              "  }\n",
              "\n",
              "  .colab-df-quickchart {\n",
              "    background-color: var(--bg-color);\n",
              "    border: none;\n",
              "    border-radius: 50%;\n",
              "    cursor: pointer;\n",
              "    display: none;\n",
              "    fill: var(--fill-color);\n",
              "    height: 32px;\n",
              "    padding: 0;\n",
              "    width: 32px;\n",
              "  }\n",
              "\n",
              "  .colab-df-quickchart:hover {\n",
              "    background-color: var(--hover-bg-color);\n",
              "    box-shadow: 0 1px 2px rgba(60, 64, 67, 0.3), 0 1px 3px 1px rgba(60, 64, 67, 0.15);\n",
              "    fill: var(--button-hover-fill-color);\n",
              "  }\n",
              "\n",
              "  .colab-df-quickchart-complete:disabled,\n",
              "  .colab-df-quickchart-complete:disabled:hover {\n",
              "    background-color: var(--disabled-bg-color);\n",
              "    fill: var(--disabled-fill-color);\n",
              "    box-shadow: none;\n",
              "  }\n",
              "\n",
              "  .colab-df-spinner {\n",
              "    border: 2px solid var(--fill-color);\n",
              "    border-color: transparent;\n",
              "    border-bottom-color: var(--fill-color);\n",
              "    animation:\n",
              "      spin 1s steps(1) infinite;\n",
              "  }\n",
              "\n",
              "  @keyframes spin {\n",
              "    0% {\n",
              "      border-color: transparent;\n",
              "      border-bottom-color: var(--fill-color);\n",
              "      border-left-color: var(--fill-color);\n",
              "    }\n",
              "    20% {\n",
              "      border-color: transparent;\n",
              "      border-left-color: var(--fill-color);\n",
              "      border-top-color: var(--fill-color);\n",
              "    }\n",
              "    30% {\n",
              "      border-color: transparent;\n",
              "      border-left-color: var(--fill-color);\n",
              "      border-top-color: var(--fill-color);\n",
              "      border-right-color: var(--fill-color);\n",
              "    }\n",
              "    40% {\n",
              "      border-color: transparent;\n",
              "      border-right-color: var(--fill-color);\n",
              "      border-top-color: var(--fill-color);\n",
              "    }\n",
              "    60% {\n",
              "      border-color: transparent;\n",
              "      border-right-color: var(--fill-color);\n",
              "    }\n",
              "    80% {\n",
              "      border-color: transparent;\n",
              "      border-right-color: var(--fill-color);\n",
              "      border-bottom-color: var(--fill-color);\n",
              "    }\n",
              "    90% {\n",
              "      border-color: transparent;\n",
              "      border-bottom-color: var(--fill-color);\n",
              "    }\n",
              "  }\n",
              "</style>\n",
              "\n",
              "  <script>\n",
              "    async function quickchart(key) {\n",
              "      const quickchartButtonEl =\n",
              "        document.querySelector('#' + key + ' button');\n",
              "      quickchartButtonEl.disabled = true;  // To prevent multiple clicks.\n",
              "      quickchartButtonEl.classList.add('colab-df-spinner');\n",
              "      try {\n",
              "        const charts = await google.colab.kernel.invokeFunction(\n",
              "            'suggestCharts', [key], {});\n",
              "      } catch (error) {\n",
              "        console.error('Error during call to suggestCharts:', error);\n",
              "      }\n",
              "      quickchartButtonEl.classList.remove('colab-df-spinner');\n",
              "      quickchartButtonEl.classList.add('colab-df-quickchart-complete');\n",
              "    }\n",
              "    (() => {\n",
              "      let quickchartButtonEl =\n",
              "        document.querySelector('#df-07743ff7-6095-4a08-a58d-347cabb0cade button');\n",
              "      quickchartButtonEl.style.display =\n",
              "        google.colab.kernel.accessAllowed ? 'block' : 'none';\n",
              "    })();\n",
              "  </script>\n",
              "</div>\n",
              "\n",
              "    </div>\n",
              "  </div>\n"
            ],
            "text/plain": [
              "           Model  Accuracy  Precision  Recall  F1 Score  CSI Index\n",
              "0       CatBoost    0.9959     0.9959  0.9959    0.9959     0.6105\n",
              "1  Decision Tree    0.9955     0.9955  0.9955    0.9955     0.5731"
            ]
          },
          "execution_count": 57,
          "metadata": {},
          "output_type": "execute_result"
        }
      ],
      "source": [
        "model_comparison(models, X_train_oss, y_train_oss, X_val_labeled, y_val_labeled)"
      ]
    },
    {
      "cell_type": "markdown",
      "metadata": {
        "id": "dDdSXWhcim43"
      },
      "source": [
        "#### ENN (Edited Nearest Neighbours)"
      ]
    },
    {
      "cell_type": "code",
      "execution_count": 58,
      "metadata": {
        "id": "ilo5Ahdgi4bg"
      },
      "outputs": [],
      "source": [
        "enn = EditedNearestNeighbours(kind_sel=\"all\", n_neighbors=5)\n",
        "X_train_enn, y_train_enn = enn.fit_resample(X_train_labeled, y_train_labeled)"
      ]
    },
    {
      "cell_type": "code",
      "execution_count": 59,
      "metadata": {
        "colab": {
          "base_uri": "https://localhost:8080/",
          "height": 375
        },
        "id": "YO3lwY_Oi4ZH",
        "outputId": "48aef74d-b54e-4f92-d1da-b8b9d3b73af7"
      },
      "outputs": [
        {
          "name": "stdout",
          "output_type": "stream",
          "text": [
            "Class=1, n=5855 (0.263%)\n",
            "Class=2, n=552 (0.025%)\n",
            "Class=3, n=780 (0.035%)\n",
            "Class=4, n=2220313 (99.677%)\n"
          ]
        },
        {
          "data": {
            "image/png": "[encoded data removed]",
            "text/plain": [
              "<Figure size 500x300 with 1 Axes>"
            ]
          },
          "metadata": {},
          "output_type": "display_data"
        }
      ],
      "source": [
        "plt.figure(figsize=(5, 3))\n",
        "count_and_plot(y_train_enn)"
      ]
    },
    {
      "cell_type": "code",
      "execution_count": 60,
      "metadata": {
        "colab": {
          "base_uri": "https://localhost:8080/",
          "height": 164
        },
        "id": "s6rHLmUWi4U_",
        "outputId": "e2b90b6a-8008-470a-c789-27c7942dba35"
      },
      "outputs": [
        {
          "name": "stdout",
          "output_type": "stream",
          "text": [
            "\n",
            "======== Models Before Hyper Parameter Tuning ========\n",
            "\n"
          ]
        },
        {
          "data": {
            "application/vnd.google.colaboratory.intrinsic+json": {
              "summary": "{\n  \"name\": \"model_comparison(models, X_train_enn, y_train_enn, X_val_labeled, y_val_labeled)\",\n  \"rows\": 2,\n  \"fields\": [\n    {\n      \"column\": \"Model\",\n      \"properties\": {\n        \"dtype\": \"string\",\n        \"num_unique_values\": 2,\n        \"samples\": [\n          \"CatBoost\",\n          \"Decision Tree\"\n        ],\n        \"semantic_type\": \"\",\n        \"description\": \"\"\n      }\n    },\n    {\n      \"column\": \"Accuracy\",\n      \"properties\": {\n        \"dtype\": \"number\",\n        \"std\": 0.00014142135623729392,\n        \"min\": 0.9932,\n        \"max\": 0.9934,\n        \"num_unique_values\": 2,\n        \"samples\": [\n          0.9932,\n          0.9934\n        ],\n        \"semantic_type\": \"\",\n        \"description\": \"\"\n      }\n    },\n    {\n      \"column\": \"Precision\",\n      \"properties\": {\n        \"dtype\": \"number\",\n        \"std\": 0.0004949747468305288,\n        \"min\": 0.9956,\n        \"max\": 0.9963,\n        \"num_unique_values\": 2,\n        \"samples\": [\n          0.9963,\n          0.9956\n        ],\n        \"semantic_type\": \"\",\n        \"description\": \"\"\n      }\n    },\n    {\n      \"column\": \"Recall\",\n      \"properties\": {\n        \"dtype\": \"number\",\n        \"std\": 0.00014142135623729392,\n        \"min\": 0.9932,\n        \"max\": 0.9934,\n        \"num_unique_values\": 2,\n        \"samples\": [\n          0.9932,\n          0.9934\n        ],\n        \"semantic_type\": \"\",\n        \"description\": \"\"\n      }\n    },\n    {\n      \"column\": \"F1 Score\",\n      \"properties\": {\n        \"dtype\": \"number\",\n        \"std\": 0.00021213203435594088,\n        \"min\": 0.9926,\n        \"max\": 0.9929,\n        \"num_unique_values\": 2,\n        \"samples\": [\n          0.9926,\n          0.9929\n        ],\n        \"semantic_type\": \"\",\n        \"description\": \"\"\n      }\n    },\n    {\n      \"column\": \"CSI Index\",\n      \"properties\": {\n        \"dtype\": \"number\",\n        \"std\": 0.010677312395916868,\n        \"min\": 0.3612,\n        \"max\": 0.3763,\n        \"num_unique_values\": 2,\n        \"samples\": [\n          0.3612,\n          0.3763\n        ],\n        \"semantic_type\": \"\",\n        \"description\": \"\"\n      }\n    }\n  ]\n}",
              "type": "dataframe"
            },
            "text/html": [
              "\n",
              "  <div id=\"df-bd1f2a35-f0c8-45fa-b290-98e712c7804d\" class=\"colab-df-container\">\n",
              "    <div>\n",
              "<style scoped>\n",
              "    .dataframe tbody tr th:only-of-type {\n",
              "        vertical-align: middle;\n",
              "    }\n",
              "\n",
              "    .dataframe tbody tr th {\n",
              "        vertical-align: top;\n",
              "    }\n",
              "\n",
              "    .dataframe thead th {\n",
              "        text-align: right;\n",
              "    }\n",
              "</style>\n",
              "<table border=\"1\" class=\"dataframe\">\n",
              "  <thead>\n",
              "    <tr style=\"text-align: right;\">\n",
              "      <th></th>\n",
              "      <th>Model</th>\n",
              "      <th>Accuracy</th>\n",
              "      <th>Precision</th>\n",
              "      <th>Recall</th>\n",
              "      <th>F1 Score</th>\n",
              "      <th>CSI Index</th>\n",
              "    </tr>\n",
              "  </thead>\n",
              "  <tbody>\n",
              "    <tr>\n",
              "      <th>0</th>\n",
              "      <td>Decision Tree</td>\n",
              "      <td>0.9934</td>\n",
              "      <td>0.9956</td>\n",
              "      <td>0.9934</td>\n",
              "      <td>0.9929</td>\n",
              "      <td>0.3763</td>\n",
              "    </tr>\n",
              "    <tr>\n",
              "      <th>1</th>\n",
              "      <td>CatBoost</td>\n",
              "      <td>0.9932</td>\n",
              "      <td>0.9963</td>\n",
              "      <td>0.9932</td>\n",
              "      <td>0.9926</td>\n",
              "      <td>0.3612</td>\n",
              "    </tr>\n",
              "  </tbody>\n",
              "</table>\n",
              "</div>\n",
              "    <div class=\"colab-df-buttons\">\n",
              "\n",
              "  <div class=\"colab-df-container\">\n",
              "    <button class=\"colab-df-convert\" onclick=\"convertToInteractive('df-bd1f2a35-f0c8-45fa-b290-98e712c7804d')\"\n",
              "            title=\"Convert this dataframe to an interactive table.\"\n",
              "            style=\"display:none;\">\n",
              "\n",
              "  <svg xmlns=\"http://www.w3.org/2000/svg\" height=\"24px\" viewBox=\"0 -960 960 960\">\n",
              "    <path d=\"M120-120v-720h720v720H120Zm60-500h600v-160H180v160Zm220 220h160v-160H400v160Zm0 220h160v-160H400v160ZM180-400h160v-160H180v160Zm440 0h160v-160H620v160ZM180-180h160v-160H180v160Zm440 0h160v-160H620v160Z\"/>\n",
              "  </svg>\n",
              "    </button>\n",
              "\n",
              "  <style>\n",
              "    .colab-df-container {\n",
              "      display:flex;\n",
              "      gap: 12px;\n",
              "    }\n",
              "\n",
              "    .colab-df-convert {\n",
              "      background-color: #E8F0FE;\n",
              "      border: none;\n",
              "      border-radius: 50%;\n",
              "      cursor: pointer;\n",
              "      display: none;\n",
              "      fill: #1967D2;\n",
              "      height: 32px;\n",
              "      padding: 0 0 0 0;\n",
              "      width: 32px;\n",
              "    }\n",
              "\n",
              "    .colab-df-convert:hover {\n",
              "      background-color: #E2EBFA;\n",
              "      box-shadow: 0px 1px 2px rgba(60, 64, 67, 0.3), 0px 1px 3px 1px rgba(60, 64, 67, 0.15);\n",
              "      fill: #174EA6;\n",
              "    }\n",
              "\n",
              "    .colab-df-buttons div {\n",
              "      margin-bottom: 4px;\n",
              "    }\n",
              "\n",
              "    [theme=dark] .colab-df-convert {\n",
              "      background-color: #3B4455;\n",
              "      fill: #D2E3FC;\n",
              "    }\n",
              "\n",
              "    [theme=dark] .colab-df-convert:hover {\n",
              "      background-color: #434B5C;\n",
              "      box-shadow: 0px 1px 3px 1px rgba(0, 0, 0, 0.15);\n",
              "      filter: drop-shadow(0px 1px 2px rgba(0, 0, 0, 0.3));\n",
              "      fill: #FFFFFF;\n",
              "    }\n",
              "  </style>\n",
              "\n",
              "    <script>\n",
              "      const buttonEl =\n",
              "        document.querySelector('#df-bd1f2a35-f0c8-45fa-b290-98e712c7804d button.colab-df-convert');\n",
              "      buttonEl.style.display =\n",
              "        google.colab.kernel.accessAllowed ? 'block' : 'none';\n",
              "\n",
              "      async function convertToInteractive(key) {\n",
              "        const element = document.querySelector('#df-bd1f2a35-f0c8-45fa-b290-98e712c7804d');\n",
              "        const dataTable =\n",
              "          await google.colab.kernel.invokeFunction('convertToInteractive',\n",
              "                                                    [key], {});\n",
              "        if (!dataTable) return;\n",
              "\n",
              "        const docLinkHtml = 'Like what you see? Visit the ' +\n",
              "          '<a target=\"_blank\" href=https://colab.research.google.com/notebooks/data_table.ipynb>data table notebook</a>'\n",
              "          + ' to learn more about interactive tables.';\n",
              "        element.innerHTML = '';\n",
              "        dataTable['output_type'] = 'display_data';\n",
              "        await google.colab.output.renderOutput(dataTable, element);\n",
              "        const docLink = document.createElement('div');\n",
              "        docLink.innerHTML = docLinkHtml;\n",
              "        element.appendChild(docLink);\n",
              "      }\n",
              "    </script>\n",
              "  </div>\n",
              "\n",
              "\n",
              "<div id=\"df-7c0a97b6-7779-4601-842f-d6007d5441d1\">\n",
              "  <button class=\"colab-df-quickchart\" onclick=\"quickchart('df-7c0a97b6-7779-4601-842f-d6007d5441d1')\"\n",
              "            title=\"Suggest charts\"\n",
              "            style=\"display:none;\">\n",
              "\n",
              "<svg xmlns=\"http://www.w3.org/2000/svg\" height=\"24px\"viewBox=\"0 0 24 24\"\n",
              "     width=\"24px\">\n",
              "    <g>\n",
              "        <path d=\"M19 3H5c-1.1 0-2 .9-2 2v14c0 1.1.9 2 2 2h14c1.1 0 2-.9 2-2V5c0-1.1-.9-2-2-2zM9 17H7v-7h2v7zm4 0h-2V7h2v10zm4 0h-2v-4h2v4z\"/>\n",
              "    </g>\n",
              "</svg>\n",
              "  </button>\n",
              "\n",
              "<style>\n",
              "  .colab-df-quickchart {\n",
              "      --bg-color: #E8F0FE;\n",
              "      --fill-color: #1967D2;\n",
              "      --hover-bg-color: #E2EBFA;\n",
              "      --hover-fill-color: #174EA6;\n",
              "      --disabled-fill-color: #AAA;\n",
              "      --disabled-bg-color: #DDD;\n",
              "  }\n",
              "\n",
              "  [theme=dark] .colab-df-quickchart {\n",
              "      --bg-color: #3B4455;\n",
              "      --fill-color: #D2E3FC;\n",
              "      --hover-bg-color: #434B5C;\n",
              "      --hover-fill-color: #FFFFFF;\n",
              "      --disabled-bg-color: #3B4455;\n",
              "      --disabled-fill-color: #666;\n",
              "  }\n",
              "\n",
              "  .colab-df-quickchart {\n",
              "    background-color: var(--bg-color);\n",
              "    border: none;\n",
              "    border-radius: 50%;\n",
              "    cursor: pointer;\n",
              "    display: none;\n",
              "    fill: var(--fill-color);\n",
              "    height: 32px;\n",
              "    padding: 0;\n",
              "    width: 32px;\n",
              "  }\n",
              "\n",
              "  .colab-df-quickchart:hover {\n",
              "    background-color: var(--hover-bg-color);\n",
              "    box-shadow: 0 1px 2px rgba(60, 64, 67, 0.3), 0 1px 3px 1px rgba(60, 64, 67, 0.15);\n",
              "    fill: var(--button-hover-fill-color);\n",
              "  }\n",
              "\n",
              "  .colab-df-quickchart-complete:disabled,\n",
              "  .colab-df-quickchart-complete:disabled:hover {\n",
              "    background-color: var(--disabled-bg-color);\n",
              "    fill: var(--disabled-fill-color);\n",
              "    box-shadow: none;\n",
              "  }\n",
              "\n",
              "  .colab-df-spinner {\n",
              "    border: 2px solid var(--fill-color);\n",
              "    border-color: transparent;\n",
              "    border-bottom-color: var(--fill-color);\n",
              "    animation:\n",
              "      spin 1s steps(1) infinite;\n",
              "  }\n",
              "\n",
              "  @keyframes spin {\n",
              "    0% {\n",
              "      border-color: transparent;\n",
              "      border-bottom-color: var(--fill-color);\n",
              "      border-left-color: var(--fill-color);\n",
              "    }\n",
              "    20% {\n",
              "      border-color: transparent;\n",
              "      border-left-color: var(--fill-color);\n",
              "      border-top-color: var(--fill-color);\n",
              "    }\n",
              "    30% {\n",
              "      border-color: transparent;\n",
              "      border-left-color: var(--fill-color);\n",
              "      border-top-color: var(--fill-color);\n",
              "      border-right-color: var(--fill-color);\n",
              "    }\n",
              "    40% {\n",
              "      border-color: transparent;\n",
              "      border-right-color: var(--fill-color);\n",
              "      border-top-color: var(--fill-color);\n",
              "    }\n",
              "    60% {\n",
              "      border-color: transparent;\n",
              "      border-right-color: var(--fill-color);\n",
              "    }\n",
              "    80% {\n",
              "      border-color: transparent;\n",
              "      border-right-color: var(--fill-color);\n",
              "      border-bottom-color: var(--fill-color);\n",
              "    }\n",
              "    90% {\n",
              "      border-color: transparent;\n",
              "      border-bottom-color: var(--fill-color);\n",
              "    }\n",
              "  }\n",
              "</style>\n",
              "\n",
              "  <script>\n",
              "    async function quickchart(key) {\n",
              "      const quickchartButtonEl =\n",
              "        document.querySelector('#' + key + ' button');\n",
              "      quickchartButtonEl.disabled = true;  // To prevent multiple clicks.\n",
              "      quickchartButtonEl.classList.add('colab-df-spinner');\n",
              "      try {\n",
              "        const charts = await google.colab.kernel.invokeFunction(\n",
              "            'suggestCharts', [key], {});\n",
              "      } catch (error) {\n",
              "        console.error('Error during call to suggestCharts:', error);\n",
              "      }\n",
              "      quickchartButtonEl.classList.remove('colab-df-spinner');\n",
              "      quickchartButtonEl.classList.add('colab-df-quickchart-complete');\n",
              "    }\n",
              "    (() => {\n",
              "      let quickchartButtonEl =\n",
              "        document.querySelector('#df-7c0a97b6-7779-4601-842f-d6007d5441d1 button');\n",
              "      quickchartButtonEl.style.display =\n",
              "        google.colab.kernel.accessAllowed ? 'block' : 'none';\n",
              "    })();\n",
              "  </script>\n",
              "</div>\n",
              "\n",
              "    </div>\n",
              "  </div>\n"
            ],
            "text/plain": [
              "           Model  Accuracy  Precision  Recall  F1 Score  CSI Index\n",
              "0  Decision Tree    0.9934     0.9956  0.9934    0.9929     0.3763\n",
              "1       CatBoost    0.9932     0.9963  0.9932    0.9926     0.3612"
            ]
          },
          "execution_count": 60,
          "metadata": {},
          "output_type": "execute_result"
        }
      ],
      "source": [
        "model_comparison(models, X_train_enn, y_train_enn, X_val_labeled, y_val_labeled)"
      ]
    },
    {
      "cell_type": "markdown",
      "metadata": {
        "id": "6yg2zx-rlAP7"
      },
      "source": [
        "#### Neighbourhood Cleaning Rule"
      ]
    },
    {
      "cell_type": "code",
      "execution_count": 61,
      "metadata": {
        "id": "RpfT51halGFx"
      },
      "outputs": [],
      "source": [
        "ncr = NeighbourhoodCleaningRule(kind_sel=\"all\", n_neighbors=5)\n",
        "X_train_ncr, y_train_ncr = ncr.fit_resample(X_train_labeled, y_train_labeled)"
      ]
    },
    {
      "cell_type": "code",
      "execution_count": 62,
      "metadata": {
        "colab": {
          "base_uri": "https://localhost:8080/",
          "height": 164
        },
        "id": "cHGybe_jlGDr",
        "outputId": "6e1983c9-06be-4823-8e15-0128b64aaa4b"
      },
      "outputs": [
        {
          "name": "stdout",
          "output_type": "stream",
          "text": [
            "\n",
            "======== Models Before Hyper Parameter Tuning ========\n",
            "\n"
          ]
        },
        {
          "data": {
            "application/vnd.google.colaboratory.intrinsic+json": {
              "summary": "{\n  \"name\": \"model_comparison(models, X_train_ncr, y_train_ncr, X_val_labeled, y_val_labeled)\",\n  \"rows\": 2,\n  \"fields\": [\n    {\n      \"column\": \"Model\",\n      \"properties\": {\n        \"dtype\": \"string\",\n        \"num_unique_values\": 2,\n        \"samples\": [\n          \"Decision Tree\",\n          \"CatBoost\"\n        ],\n        \"semantic_type\": \"\",\n        \"description\": \"\"\n      }\n    },\n    {\n      \"column\": \"Accuracy\",\n      \"properties\": {\n        \"dtype\": \"number\",\n        \"std\": 7.071067811864696e-05,\n        \"min\": 0.9951,\n        \"max\": 0.9952,\n        \"num_unique_values\": 2,\n        \"samples\": [\n          0.9951,\n          0.9952\n        ],\n        \"semantic_type\": \"\",\n        \"description\": \"\"\n      }\n    },\n    {\n      \"column\": \"Precision\",\n      \"properties\": {\n        \"dtype\": \"number\",\n        \"std\": 0.00014142135623729392,\n        \"min\": 0.9956,\n        \"max\": 0.9958,\n        \"num_unique_values\": 2,\n        \"samples\": [\n          0.9956,\n          0.9958\n        ],\n        \"semantic_type\": \"\",\n        \"description\": \"\"\n      }\n    },\n    {\n      \"column\": \"Recall\",\n      \"properties\": {\n        \"dtype\": \"number\",\n        \"std\": 7.071067811864696e-05,\n        \"min\": 0.9951,\n        \"max\": 0.9952,\n        \"num_unique_values\": 2,\n        \"samples\": [\n          0.9951,\n          0.9952\n        ],\n        \"semantic_type\": \"\",\n        \"description\": \"\"\n      }\n    },\n    {\n      \"column\": \"F1 Score\",\n      \"properties\": {\n        \"dtype\": \"number\",\n        \"std\": 7.071067811864696e-05,\n        \"min\": 0.9951,\n        \"max\": 0.9952,\n        \"num_unique_values\": 2,\n        \"samples\": [\n          0.9951,\n          0.9952\n        ],\n        \"semantic_type\": \"\",\n        \"description\": \"\"\n      }\n    },\n    {\n      \"column\": \"CSI Index\",\n      \"properties\": {\n        \"dtype\": \"number\",\n        \"std\": 0.009899494936611674,\n        \"min\": 0.534,\n        \"max\": 0.548,\n        \"num_unique_values\": 2,\n        \"samples\": [\n          0.534,\n          0.548\n        ],\n        \"semantic_type\": \"\",\n        \"description\": \"\"\n      }\n    }\n  ]\n}",
              "type": "dataframe"
            },
            "text/html": [
              "\n",
              "  <div id=\"df-77d2b3c4-564c-44ba-a44d-22fb3e0d40bb\" class=\"colab-df-container\">\n",
              "    <div>\n",
              "<style scoped>\n",
              "    .dataframe tbody tr th:only-of-type {\n",
              "        vertical-align: middle;\n",
              "    }\n",
              "\n",
              "    .dataframe tbody tr th {\n",
              "        vertical-align: top;\n",
              "    }\n",
              "\n",
              "    .dataframe thead th {\n",
              "        text-align: right;\n",
              "    }\n",
              "</style>\n",
              "<table border=\"1\" class=\"dataframe\">\n",
              "  <thead>\n",
              "    <tr style=\"text-align: right;\">\n",
              "      <th></th>\n",
              "      <th>Model</th>\n",
              "      <th>Accuracy</th>\n",
              "      <th>Precision</th>\n",
              "      <th>Recall</th>\n",
              "      <th>F1 Score</th>\n",
              "      <th>CSI Index</th>\n",
              "    </tr>\n",
              "  </thead>\n",
              "  <tbody>\n",
              "    <tr>\n",
              "      <th>0</th>\n",
              "      <td>CatBoost</td>\n",
              "      <td>0.9952</td>\n",
              "      <td>0.9958</td>\n",
              "      <td>0.9952</td>\n",
              "      <td>0.9952</td>\n",
              "      <td>0.548</td>\n",
              "    </tr>\n",
              "    <tr>\n",
              "      <th>1</th>\n",
              "      <td>Decision Tree</td>\n",
              "      <td>0.9951</td>\n",
              "      <td>0.9956</td>\n",
              "      <td>0.9951</td>\n",
              "      <td>0.9951</td>\n",
              "      <td>0.534</td>\n",
              "    </tr>\n",
              "  </tbody>\n",
              "</table>\n",
              "</div>\n",
              "    <div class=\"colab-df-buttons\">\n",
              "\n",
              "  <div class=\"colab-df-container\">\n",
              "    <button class=\"colab-df-convert\" onclick=\"convertToInteractive('df-77d2b3c4-564c-44ba-a44d-22fb3e0d40bb')\"\n",
              "            title=\"Convert this dataframe to an interactive table.\"\n",
              "            style=\"display:none;\">\n",
              "\n",
              "  <svg xmlns=\"http://www.w3.org/2000/svg\" height=\"24px\" viewBox=\"0 -960 960 960\">\n",
              "    <path d=\"M120-120v-720h720v720H120Zm60-500h600v-160H180v160Zm220 220h160v-160H400v160Zm0 220h160v-160H400v160ZM180-400h160v-160H180v160Zm440 0h160v-160H620v160ZM180-180h160v-160H180v160Zm440 0h160v-160H620v160Z\"/>\n",
              "  </svg>\n",
              "    </button>\n",
              "\n",
              "  <style>\n",
              "    .colab-df-container {\n",
              "      display:flex;\n",
              "      gap: 12px;\n",
              "    }\n",
              "\n",
              "    .colab-df-convert {\n",
              "      background-color: #E8F0FE;\n",
              "      border: none;\n",
              "      border-radius: 50%;\n",
              "      cursor: pointer;\n",
              "      display: none;\n",
              "      fill: #1967D2;\n",
              "      height: 32px;\n",
              "      padding: 0 0 0 0;\n",
              "      width: 32px;\n",
              "    }\n",
              "\n",
              "    .colab-df-convert:hover {\n",
              "      background-color: #E2EBFA;\n",
              "      box-shadow: 0px 1px 2px rgba(60, 64, 67, 0.3), 0px 1px 3px 1px rgba(60, 64, 67, 0.15);\n",
              "      fill: #174EA6;\n",
              "    }\n",
              "\n",
              "    .colab-df-buttons div {\n",
              "      margin-bottom: 4px;\n",
              "    }\n",
              "\n",
              "    [theme=dark] .colab-df-convert {\n",
              "      background-color: #3B4455;\n",
              "      fill: #D2E3FC;\n",
              "    }\n",
              "\n",
              "    [theme=dark] .colab-df-convert:hover {\n",
              "      background-color: #434B5C;\n",
              "      box-shadow: 0px 1px 3px 1px rgba(0, 0, 0, 0.15);\n",
              "      filter: drop-shadow(0px 1px 2px rgba(0, 0, 0, 0.3));\n",
              "      fill: #FFFFFF;\n",
              "    }\n",
              "  </style>\n",
              "\n",
              "    <script>\n",
              "      const buttonEl =\n",
              "        document.querySelector('#df-77d2b3c4-564c-44ba-a44d-22fb3e0d40bb button.colab-df-convert');\n",
              "      buttonEl.style.display =\n",
              "        google.colab.kernel.accessAllowed ? 'block' : 'none';\n",
              "\n",
              "      async function convertToInteractive(key) {\n",
              "        const element = document.querySelector('#df-77d2b3c4-564c-44ba-a44d-22fb3e0d40bb');\n",
              "        const dataTable =\n",
              "          await google.colab.kernel.invokeFunction('convertToInteractive',\n",
              "                                                    [key], {});\n",
              "        if (!dataTable) return;\n",
              "\n",
              "        const docLinkHtml = 'Like what you see? Visit the ' +\n",
              "          '<a target=\"_blank\" href=https://colab.research.google.com/notebooks/data_table.ipynb>data table notebook</a>'\n",
              "          + ' to learn more about interactive tables.';\n",
              "        element.innerHTML = '';\n",
              "        dataTable['output_type'] = 'display_data';\n",
              "        await google.colab.output.renderOutput(dataTable, element);\n",
              "        const docLink = document.createElement('div');\n",
              "        docLink.innerHTML = docLinkHtml;\n",
              "        element.appendChild(docLink);\n",
              "      }\n",
              "    </script>\n",
              "  </div>\n",
              "\n",
              "\n",
              "<div id=\"df-5bf3aba8-f310-4c88-9cd9-e63b81e3c50f\">\n",
              "  <button class=\"colab-df-quickchart\" onclick=\"quickchart('df-5bf3aba8-f310-4c88-9cd9-e63b81e3c50f')\"\n",
              "            title=\"Suggest charts\"\n",
              "            style=\"display:none;\">\n",
              "\n",
              "<svg xmlns=\"http://www.w3.org/2000/svg\" height=\"24px\"viewBox=\"0 0 24 24\"\n",
              "     width=\"24px\">\n",
              "    <g>\n",
              "        <path d=\"M19 3H5c-1.1 0-2 .9-2 2v14c0 1.1.9 2 2 2h14c1.1 0 2-.9 2-2V5c0-1.1-.9-2-2-2zM9 17H7v-7h2v7zm4 0h-2V7h2v10zm4 0h-2v-4h2v4z\"/>\n",
              "    </g>\n",
              "</svg>\n",
              "  </button>\n",
              "\n",
              "<style>\n",
              "  .colab-df-quickchart {\n",
              "      --bg-color: #E8F0FE;\n",
              "      --fill-color: #1967D2;\n",
              "      --hover-bg-color: #E2EBFA;\n",
              "      --hover-fill-color: #174EA6;\n",
              "      --disabled-fill-color: #AAA;\n",
              "      --disabled-bg-color: #DDD;\n",
              "  }\n",
              "\n",
              "  [theme=dark] .colab-df-quickchart {\n",
              "      --bg-color: #3B4455;\n",
              "      --fill-color: #D2E3FC;\n",
              "      --hover-bg-color: #434B5C;\n",
              "      --hover-fill-color: #FFFFFF;\n",
              "      --disabled-bg-color: #3B4455;\n",
              "      --disabled-fill-color: #666;\n",
              "  }\n",
              "\n",
              "  .colab-df-quickchart {\n",
              "    background-color: var(--bg-color);\n",
              "    border: none;\n",
              "    border-radius: 50%;\n",
              "    cursor: pointer;\n",
              "    display: none;\n",
              "    fill: var(--fill-color);\n",
              "    height: 32px;\n",
              "    padding: 0;\n",
              "    width: 32px;\n",
              "  }\n",
              "\n",
              "  .colab-df-quickchart:hover {\n",
              "    background-color: var(--hover-bg-color);\n",
              "    box-shadow: 0 1px 2px rgba(60, 64, 67, 0.3), 0 1px 3px 1px rgba(60, 64, 67, 0.15);\n",
              "    fill: var(--button-hover-fill-color);\n",
              "  }\n",
              "\n",
              "  .colab-df-quickchart-complete:disabled,\n",
              "  .colab-df-quickchart-complete:disabled:hover {\n",
              "    background-color: var(--disabled-bg-color);\n",
              "    fill: var(--disabled-fill-color);\n",
              "    box-shadow: none;\n",
              "  }\n",
              "\n",
              "  .colab-df-spinner {\n",
              "    border: 2px solid var(--fill-color);\n",
              "    border-color: transparent;\n",
              "    border-bottom-color: var(--fill-color);\n",
              "    animation:\n",
              "      spin 1s steps(1) infinite;\n",
              "  }\n",
              "\n",
              "  @keyframes spin {\n",
              "    0% {\n",
              "      border-color: transparent;\n",
              "      border-bottom-color: var(--fill-color);\n",
              "      border-left-color: var(--fill-color);\n",
              "    }\n",
              "    20% {\n",
              "      border-color: transparent;\n",
              "      border-left-color: var(--fill-color);\n",
              "      border-top-color: var(--fill-color);\n",
              "    }\n",
              "    30% {\n",
              "      border-color: transparent;\n",
              "      border-left-color: var(--fill-color);\n",
              "      border-top-color: var(--fill-color);\n",
              "      border-right-color: var(--fill-color);\n",
              "    }\n",
              "    40% {\n",
              "      border-color: transparent;\n",
              "      border-right-color: var(--fill-color);\n",
              "      border-top-color: var(--fill-color);\n",
              "    }\n",
              "    60% {\n",
              "      border-color: transparent;\n",
              "      border-right-color: var(--fill-color);\n",
              "    }\n",
              "    80% {\n",
              "      border-color: transparent;\n",
              "      border-right-color: var(--fill-color);\n",
              "      border-bottom-color: var(--fill-color);\n",
              "    }\n",
              "    90% {\n",
              "      border-color: transparent;\n",
              "      border-bottom-color: var(--fill-color);\n",
              "    }\n",
              "  }\n",
              "</style>\n",
              "\n",
              "  <script>\n",
              "    async function quickchart(key) {\n",
              "      const quickchartButtonEl =\n",
              "        document.querySelector('#' + key + ' button');\n",
              "      quickchartButtonEl.disabled = true;  // To prevent multiple clicks.\n",
              "      quickchartButtonEl.classList.add('colab-df-spinner');\n",
              "      try {\n",
              "        const charts = await google.colab.kernel.invokeFunction(\n",
              "            'suggestCharts', [key], {});\n",
              "      } catch (error) {\n",
              "        console.error('Error during call to suggestCharts:', error);\n",
              "      }\n",
              "      quickchartButtonEl.classList.remove('colab-df-spinner');\n",
              "      quickchartButtonEl.classList.add('colab-df-quickchart-complete');\n",
              "    }\n",
              "    (() => {\n",
              "      let quickchartButtonEl =\n",
              "        document.querySelector('#df-5bf3aba8-f310-4c88-9cd9-e63b81e3c50f button');\n",
              "      quickchartButtonEl.style.display =\n",
              "        google.colab.kernel.accessAllowed ? 'block' : 'none';\n",
              "    })();\n",
              "  </script>\n",
              "</div>\n",
              "\n",
              "    </div>\n",
              "  </div>\n"
            ],
            "text/plain": [
              "           Model  Accuracy  Precision  Recall  F1 Score  CSI Index\n",
              "0       CatBoost    0.9952     0.9958  0.9952    0.9952      0.548\n",
              "1  Decision Tree    0.9951     0.9956  0.9951    0.9951      0.534"
            ]
          },
          "execution_count": 62,
          "metadata": {},
          "output_type": "execute_result"
        }
      ],
      "source": [
        "model_comparison(models, X_train_ncr, y_train_ncr, X_val_labeled, y_val_labeled)"
      ]
    },
    {
      "cell_type": "markdown",
      "metadata": {
        "id": "2yi77CDCZG16"
      },
      "source": [
        "### 오버샘플링"
      ]
    },
    {
      "cell_type": "markdown",
      "metadata": {
        "id": "J0F8M8zIZ__c"
      },
      "source": [
        "#### RandomOverSampler"
      ]
    },
    {
      "cell_type": "code",
      "execution_count": null,
      "metadata": {
        "id": "ytkQztUeZI0q"
      },
      "outputs": [],
      "source": [
        "# 랜덤오버샘플링\n",
        "ros = RandomOverSampler(random_state=42)\n",
        "X_train_ros, y_train_ros = ros.fit_resample(X_train_labeled, y_train_labeled)"
      ]
    },
    {
      "cell_type": "code",
      "execution_count": null,
      "metadata": {
        "colab": {
          "base_uri": "https://localhost:8080/",
          "height": 375
        },
        "id": "9MqrSuCraL5s",
        "outputId": "b42e23f2-631f-447d-e6ce-110bef975067"
      },
      "outputs": [
        {
          "name": "stdout",
          "output_type": "stream",
          "text": [
            "Class=4, n=2222346 (25.000%)\n",
            "Class=2, n=2222346 (25.000%)\n",
            "Class=3, n=2222346 (25.000%)\n",
            "Class=1, n=2222346 (25.000%)\n"
          ]
        },
        {
          "data": {
            "image/png": "[encoded data removed]",
            "text/plain": [
              "<Figure size 500x300 with 1 Axes>"
            ]
          },
          "metadata": {},
          "output_type": "display_data"
        }
      ],
      "source": [
        "plt.figure(figsize=(5, 3))\n",
        "count_and_plot(y_train_ros)"
      ]
    },
    {
      "cell_type": "code",
      "execution_count": null,
      "metadata": {
        "colab": {
          "base_uri": "https://localhost:8080/",
          "height": 196
        },
        "id": "7yurqjdDaLlV",
        "outputId": "8c2d5b3d-e057-4013-847b-7ec4239f9ca8"
      },
      "outputs": [
        {
          "name": "stdout",
          "output_type": "stream",
          "text": [
            "\n",
            "======== Models Before Hyper Parameter Tuning ========\n",
            "\n"
          ]
        },
        {
          "data": {
            "application/vnd.google.colaboratory.intrinsic+json": {
              "summary": "{\n  \"name\": \"model_comparison(models, X_train_ros, y_train_ros, X_val_labeled, y_val_labeled)\",\n  \"rows\": 3,\n  \"fields\": [\n    {\n      \"column\": \"Model\",\n      \"properties\": {\n        \"dtype\": \"string\",\n        \"num_unique_values\": 3,\n        \"samples\": [\n          \"Decision Tree\",\n          \"CatBoost\",\n          \"Naive Bayes\"\n        ],\n        \"semantic_type\": \"\",\n        \"description\": \"\"\n      }\n    },\n    {\n      \"column\": \"Accuracy\",\n      \"properties\": {\n        \"dtype\": \"number\",\n        \"std\": 0.17559211257912466,\n        \"min\": 0.6468,\n        \"max\": 0.9861,\n        \"num_unique_values\": 3,\n        \"samples\": [\n          0.9861,\n          0.8949,\n          0.6468\n        ],\n        \"semantic_type\": \"\",\n        \"description\": \"\"\n      }\n    },\n    {\n      \"column\": \"Precision\",\n      \"properties\": {\n        \"dtype\": \"number\",\n        \"std\": 0.0015143755588800968,\n        \"min\": 0.9863,\n        \"max\": 0.9891,\n        \"num_unique_values\": 3,\n        \"samples\": [\n          0.9863,\n          0.9891,\n          0.9887\n        ],\n        \"semantic_type\": \"\",\n        \"description\": \"\"\n      }\n    },\n    {\n      \"column\": \"Recall\",\n      \"properties\": {\n        \"dtype\": \"number\",\n        \"std\": 0.17559211257912466,\n        \"min\": 0.6468,\n        \"max\": 0.9861,\n        \"num_unique_values\": 3,\n        \"samples\": [\n          0.9861,\n          0.8949,\n          0.6468\n        ],\n        \"semantic_type\": \"\",\n        \"description\": \"\"\n      }\n    },\n    {\n      \"column\": \"F1 Score\",\n      \"properties\": {\n        \"dtype\": \"number\",\n        \"std\": 0.10810431690424455,\n        \"min\": 0.7793,\n        \"max\": 0.9862,\n        \"num_unique_values\": 3,\n        \"samples\": [\n          0.9862,\n          0.9371,\n          0.7793\n        ],\n        \"semantic_type\": \"\",\n        \"description\": \"\"\n      }\n    },\n    {\n      \"column\": \"CSI Index\",\n      \"properties\": {\n        \"dtype\": \"number\",\n        \"std\": 0.08493309131310364,\n        \"min\": 0.011,\n        \"max\": 0.1753,\n        \"num_unique_values\": 3,\n        \"samples\": [\n          0.1753,\n          0.0558,\n          0.011\n        ],\n        \"semantic_type\": \"\",\n        \"description\": \"\"\n      }\n    }\n  ]\n}",
              "type": "dataframe"
            },
            "text/html": [
              "\n",
              "  <div id=\"df-08a16afa-037f-41f8-9538-925004eb8450\" class=\"colab-df-container\">\n",
              "    <div>\n",
              "<style scoped>\n",
              "    .dataframe tbody tr th:only-of-type {\n",
              "        vertical-align: middle;\n",
              "    }\n",
              "\n",
              "    .dataframe tbody tr th {\n",
              "        vertical-align: top;\n",
              "    }\n",
              "\n",
              "    .dataframe thead th {\n",
              "        text-align: right;\n",
              "    }\n",
              "</style>\n",
              "<table border=\"1\" class=\"dataframe\">\n",
              "  <thead>\n",
              "    <tr style=\"text-align: right;\">\n",
              "      <th></th>\n",
              "      <th>Model</th>\n",
              "      <th>Accuracy</th>\n",
              "      <th>Precision</th>\n",
              "      <th>Recall</th>\n",
              "      <th>F1 Score</th>\n",
              "      <th>CSI Index</th>\n",
              "    </tr>\n",
              "  </thead>\n",
              "  <tbody>\n",
              "    <tr>\n",
              "      <th>0</th>\n",
              "      <td>Decision Tree</td>\n",
              "      <td>0.9861</td>\n",
              "      <td>0.9863</td>\n",
              "      <td>0.9861</td>\n",
              "      <td>0.9862</td>\n",
              "      <td>0.1753</td>\n",
              "    </tr>\n",
              "    <tr>\n",
              "      <th>1</th>\n",
              "      <td>CatBoost</td>\n",
              "      <td>0.8949</td>\n",
              "      <td>0.9891</td>\n",
              "      <td>0.8949</td>\n",
              "      <td>0.9371</td>\n",
              "      <td>0.0558</td>\n",
              "    </tr>\n",
              "    <tr>\n",
              "      <th>2</th>\n",
              "      <td>Naive Bayes</td>\n",
              "      <td>0.6468</td>\n",
              "      <td>0.9887</td>\n",
              "      <td>0.6468</td>\n",
              "      <td>0.7793</td>\n",
              "      <td>0.0110</td>\n",
              "    </tr>\n",
              "  </tbody>\n",
              "</table>\n",
              "</div>\n",
              "    <div class=\"colab-df-buttons\">\n",
              "\n",
              "  <div class=\"colab-df-container\">\n",
              "    <button class=\"colab-df-convert\" onclick=\"convertToInteractive('df-08a16afa-037f-41f8-9538-925004eb8450')\"\n",
              "            title=\"Convert this dataframe to an interactive table.\"\n",
              "            style=\"display:none;\">\n",
              "\n",
              "  <svg xmlns=\"http://www.w3.org/2000/svg\" height=\"24px\" viewBox=\"0 -960 960 960\">\n",
              "    <path d=\"M120-120v-720h720v720H120Zm60-500h600v-160H180v160Zm220 220h160v-160H400v160Zm0 220h160v-160H400v160ZM180-400h160v-160H180v160Zm440 0h160v-160H620v160ZM180-180h160v-160H180v160Zm440 0h160v-160H620v160Z\"/>\n",
              "  </svg>\n",
              "    </button>\n",
              "\n",
              "  <style>\n",
              "    .colab-df-container {\n",
              "      display:flex;\n",
              "      gap: 12px;\n",
              "    }\n",
              "\n",
              "    .colab-df-convert {\n",
              "      background-color: #E8F0FE;\n",
              "      border: none;\n",
              "      border-radius: 50%;\n",
              "      cursor: pointer;\n",
              "      display: none;\n",
              "      fill: #1967D2;\n",
              "      height: 32px;\n",
              "      padding: 0 0 0 0;\n",
              "      width: 32px;\n",
              "    }\n",
              "\n",
              "    .colab-df-convert:hover {\n",
              "      background-color: #E2EBFA;\n",
              "      box-shadow: 0px 1px 2px rgba(60, 64, 67, 0.3), 0px 1px 3px 1px rgba(60, 64, 67, 0.15);\n",
              "      fill: #174EA6;\n",
              "    }\n",
              "\n",
              "    .colab-df-buttons div {\n",
              "      margin-bottom: 4px;\n",
              "    }\n",
              "\n",
              "    [theme=dark] .colab-df-convert {\n",
              "      background-color: #3B4455;\n",
              "      fill: #D2E3FC;\n",
              "    }\n",
              "\n",
              "    [theme=dark] .colab-df-convert:hover {\n",
              "      background-color: #434B5C;\n",
              "      box-shadow: 0px 1px 3px 1px rgba(0, 0, 0, 0.15);\n",
              "      filter: drop-shadow(0px 1px 2px rgba(0, 0, 0, 0.3));\n",
              "      fill: #FFFFFF;\n",
              "    }\n",
              "  </style>\n",
              "\n",
              "    <script>\n",
              "      const buttonEl =\n",
              "        document.querySelector('#df-08a16afa-037f-41f8-9538-925004eb8450 button.colab-df-convert');\n",
              "      buttonEl.style.display =\n",
              "        google.colab.kernel.accessAllowed ? 'block' : 'none';\n",
              "\n",
              "      async function convertToInteractive(key) {\n",
              "        const element = document.querySelector('#df-08a16afa-037f-41f8-9538-925004eb8450');\n",
              "        const dataTable =\n",
              "          await google.colab.kernel.invokeFunction('convertToInteractive',\n",
              "                                                    [key], {});\n",
              "        if (!dataTable) return;\n",
              "\n",
              "        const docLinkHtml = 'Like what you see? Visit the ' +\n",
              "          '<a target=\"_blank\" href=https://colab.research.google.com/notebooks/data_table.ipynb>data table notebook</a>'\n",
              "          + ' to learn more about interactive tables.';\n",
              "        element.innerHTML = '';\n",
              "        dataTable['output_type'] = 'display_data';\n",
              "        await google.colab.output.renderOutput(dataTable, element);\n",
              "        const docLink = document.createElement('div');\n",
              "        docLink.innerHTML = docLinkHtml;\n",
              "        element.appendChild(docLink);\n",
              "      }\n",
              "    </script>\n",
              "  </div>\n",
              "\n",
              "\n",
              "<div id=\"df-d9691744-7ae9-4643-bfbb-d35c8c947f94\">\n",
              "  <button class=\"colab-df-quickchart\" onclick=\"quickchart('df-d9691744-7ae9-4643-bfbb-d35c8c947f94')\"\n",
              "            title=\"Suggest charts\"\n",
              "            style=\"display:none;\">\n",
              "\n",
              "<svg xmlns=\"http://www.w3.org/2000/svg\" height=\"24px\"viewBox=\"0 0 24 24\"\n",
              "     width=\"24px\">\n",
              "    <g>\n",
              "        <path d=\"M19 3H5c-1.1 0-2 .9-2 2v14c0 1.1.9 2 2 2h14c1.1 0 2-.9 2-2V5c0-1.1-.9-2-2-2zM9 17H7v-7h2v7zm4 0h-2V7h2v10zm4 0h-2v-4h2v4z\"/>\n",
              "    </g>\n",
              "</svg>\n",
              "  </button>\n",
              "\n",
              "<style>\n",
              "  .colab-df-quickchart {\n",
              "      --bg-color: #E8F0FE;\n",
              "      --fill-color: #1967D2;\n",
              "      --hover-bg-color: #E2EBFA;\n",
              "      --hover-fill-color: #174EA6;\n",
              "      --disabled-fill-color: #AAA;\n",
              "      --disabled-bg-color: #DDD;\n",
              "  }\n",
              "\n",
              "  [theme=dark] .colab-df-quickchart {\n",
              "      --bg-color: #3B4455;\n",
              "      --fill-color: #D2E3FC;\n",
              "      --hover-bg-color: #434B5C;\n",
              "      --hover-fill-color: #FFFFFF;\n",
              "      --disabled-bg-color: #3B4455;\n",
              "      --disabled-fill-color: #666;\n",
              "  }\n",
              "\n",
              "  .colab-df-quickchart {\n",
              "    background-color: var(--bg-color);\n",
              "    border: none;\n",
              "    border-radius: 50%;\n",
              "    cursor: pointer;\n",
              "    display: none;\n",
              "    fill: var(--fill-color);\n",
              "    height: 32px;\n",
              "    padding: 0;\n",
              "    width: 32px;\n",
              "  }\n",
              "\n",
              "  .colab-df-quickchart:hover {\n",
              "    background-color: var(--hover-bg-color);\n",
              "    box-shadow: 0 1px 2px rgba(60, 64, 67, 0.3), 0 1px 3px 1px rgba(60, 64, 67, 0.15);\n",
              "    fill: var(--button-hover-fill-color);\n",
              "  }\n",
              "\n",
              "  .colab-df-quickchart-complete:disabled,\n",
              "  .colab-df-quickchart-complete:disabled:hover {\n",
              "    background-color: var(--disabled-bg-color);\n",
              "    fill: var(--disabled-fill-color);\n",
              "    box-shadow: none;\n",
              "  }\n",
              "\n",
              "  .colab-df-spinner {\n",
              "    border: 2px solid var(--fill-color);\n",
              "    border-color: transparent;\n",
              "    border-bottom-color: var(--fill-color);\n",
              "    animation:\n",
              "      spin 1s steps(1) infinite;\n",
              "  }\n",
              "\n",
              "  @keyframes spin {\n",
              "    0% {\n",
              "      border-color: transparent;\n",
              "      border-bottom-color: var(--fill-color);\n",
              "      border-left-color: var(--fill-color);\n",
              "    }\n",
              "    20% {\n",
              "      border-color: transparent;\n",
              "      border-left-color: var(--fill-color);\n",
              "      border-top-color: var(--fill-color);\n",
              "    }\n",
              "    30% {\n",
              "      border-color: transparent;\n",
              "      border-left-color: var(--fill-color);\n",
              "      border-top-color: var(--fill-color);\n",
              "      border-right-color: var(--fill-color);\n",
              "    }\n",
              "    40% {\n",
              "      border-color: transparent;\n",
              "      border-right-color: var(--fill-color);\n",
              "      border-top-color: var(--fill-color);\n",
              "    }\n",
              "    60% {\n",
              "      border-color: transparent;\n",
              "      border-right-color: var(--fill-color);\n",
              "    }\n",
              "    80% {\n",
              "      border-color: transparent;\n",
              "      border-right-color: var(--fill-color);\n",
              "      border-bottom-color: var(--fill-color);\n",
              "    }\n",
              "    90% {\n",
              "      border-color: transparent;\n",
              "      border-bottom-color: var(--fill-color);\n",
              "    }\n",
              "  }\n",
              "</style>\n",
              "\n",
              "  <script>\n",
              "    async function quickchart(key) {\n",
              "      const quickchartButtonEl =\n",
              "        document.querySelector('#' + key + ' button');\n",
              "      quickchartButtonEl.disabled = true;  // To prevent multiple clicks.\n",
              "      quickchartButtonEl.classList.add('colab-df-spinner');\n",
              "      try {\n",
              "        const charts = await google.colab.kernel.invokeFunction(\n",
              "            'suggestCharts', [key], {});\n",
              "      } catch (error) {\n",
              "        console.error('Error during call to suggestCharts:', error);\n",
              "      }\n",
              "      quickchartButtonEl.classList.remove('colab-df-spinner');\n",
              "      quickchartButtonEl.classList.add('colab-df-quickchart-complete');\n",
              "    }\n",
              "    (() => {\n",
              "      let quickchartButtonEl =\n",
              "        document.querySelector('#df-d9691744-7ae9-4643-bfbb-d35c8c947f94 button');\n",
              "      quickchartButtonEl.style.display =\n",
              "        google.colab.kernel.accessAllowed ? 'block' : 'none';\n",
              "    })();\n",
              "  </script>\n",
              "</div>\n",
              "\n",
              "    </div>\n",
              "  </div>\n"
            ],
            "text/plain": [
              "           Model  Accuracy  Precision  Recall  F1 Score  CSI Index\n",
              "0  Decision Tree    0.9861     0.9863  0.9861    0.9862     0.1753\n",
              "1       CatBoost    0.8949     0.9891  0.8949    0.9371     0.0558\n",
              "2    Naive Bayes    0.6468     0.9887  0.6468    0.7793     0.0110"
            ]
          },
          "execution_count": 60,
          "metadata": {},
          "output_type": "execute_result"
        }
      ],
      "source": [
        "model_comparison(models, X_train_ros, y_train_ros, X_val_labeled, y_val_labeled)"
      ]
    },
    {
      "cell_type": "markdown",
      "metadata": {
        "id": "0fRMjrD0bPH5"
      },
      "source": [
        "#### SMOTE"
      ]
    },
    {
      "cell_type": "code",
      "execution_count": null,
      "metadata": {
        "id": "xLY-mVxbbTRs"
      },
      "outputs": [],
      "source": [
        "smote = SMOTE()\n",
        "X_train_sm, y_train_sm = smote.fit_resample(X_train_labeled, y_train_labeled)"
      ]
    },
    {
      "cell_type": "code",
      "execution_count": null,
      "metadata": {
        "colab": {
          "base_uri": "https://localhost:8080/",
          "height": 375
        },
        "id": "7mXuD2yTbTPV",
        "outputId": "77288646-4811-454a-b54b-95bc351338c6"
      },
      "outputs": [
        {
          "name": "stdout",
          "output_type": "stream",
          "text": [
            "Class=4, n=2222346 (25.000%)\n",
            "Class=2, n=2222346 (25.000%)\n",
            "Class=3, n=2222346 (25.000%)\n",
            "Class=1, n=2222346 (25.000%)\n"
          ]
        },
        {
          "data": {
            "image/png": "[encoded data removed]",
            "text/plain": [
              "<Figure size 500x300 with 1 Axes>"
            ]
          },
          "metadata": {},
          "output_type": "display_data"
        }
      ],
      "source": [
        "plt.figure(figsize=(5, 3))\n",
        "count_and_plot(y_train_sm)"
      ]
    },
    {
      "cell_type": "code",
      "execution_count": null,
      "metadata": {
        "id": "-vD4J764bcKi"
      },
      "outputs": [],
      "source": [
        "model_comparison(models, X_train_sm, y_train_sm, X_val_labeled, y_val_labeled)"
      ]
    },
    {
      "cell_type": "markdown",
      "metadata": {
        "id": "zQmZxcifcxtJ"
      },
      "source": [
        "#### Borderline SMOTE"
      ]
    },
    {
      "cell_type": "code",
      "execution_count": 66,
      "metadata": {
        "id": "nRU8wGfzbb5U"
      },
      "outputs": [],
      "source": [
        "bor_sm = BorderlineSMOTE(random_state=42)\n",
        "X_train_bsm, y_train_bsm = bor_sm.fit_resample(X_train_labeled, y_train_labeled)"
      ]
    },
    {
      "cell_type": "code",
      "execution_count": 67,
      "metadata": {
        "colab": {
          "base_uri": "https://localhost:8080/",
          "height": 375
        },
        "id": "Sby6CNmPbbxj",
        "outputId": "e6daed29-aa09-4336-bdaa-c47e19e47a0d"
      },
      "outputs": [
        {
          "name": "stdout",
          "output_type": "stream",
          "text": [
            "Class=4, n=2222346 (25.000%)\n",
            "Class=2, n=2222346 (25.000%)\n",
            "Class=3, n=2222346 (25.000%)\n",
            "Class=1, n=2222346 (25.000%)\n"
          ]
        },
        {
          "data": {
            "image/png": "[encoded data removed]",
            "text/plain": [
              "<Figure size 500x300 with 1 Axes>"
            ]
          },
          "metadata": {},
          "output_type": "display_data"
        }
      ],
      "source": [
        "plt.figure(figsize=(5, 3))\n",
        "count_and_plot(y_train_bsm)"
      ]
    },
    {
      "cell_type": "code",
      "execution_count": 68,
      "metadata": {
        "colab": {
          "base_uri": "https://localhost:8080/",
          "height": 164
        },
        "id": "Ul9bLxnAbbuk",
        "outputId": "f65689a4-eb95-453c-bc76-77cc69d25896"
      },
      "outputs": [
        {
          "name": "stdout",
          "output_type": "stream",
          "text": [
            "\n",
            "======== Models Before Hyper Parameter Tuning ========\n",
            "\n"
          ]
        },
        {
          "data": {
            "application/vnd.google.colaboratory.intrinsic+json": {
              "summary": "{\n  \"name\": \"model_comparison(models, X_train_bsm, y_train_bsm, X_val_labeled, y_val_labeled)\",\n  \"rows\": 2,\n  \"fields\": [\n    {\n      \"column\": \"Model\",\n      \"properties\": {\n        \"dtype\": \"string\",\n        \"num_unique_values\": 2,\n        \"samples\": [\n          \"Decision Tree\",\n          \"CatBoost\"\n        ],\n        \"semantic_type\": \"\",\n        \"description\": \"\"\n      }\n    },\n    {\n      \"column\": \"Accuracy\",\n      \"properties\": {\n        \"dtype\": \"number\",\n        \"std\": 7.071067811864696e-05,\n        \"min\": 0.9955,\n        \"max\": 0.9956,\n        \"num_unique_values\": 2,\n        \"samples\": [\n          0.9955,\n          0.9956\n        ],\n        \"semantic_type\": \"\",\n        \"description\": \"\"\n      }\n    },\n    {\n      \"column\": \"Precision\",\n      \"properties\": {\n        \"dtype\": \"number\",\n        \"std\": 7.071067811864696e-05,\n        \"min\": 0.9955,\n        \"max\": 0.9956,\n        \"num_unique_values\": 2,\n        \"samples\": [\n          0.9955,\n          0.9956\n        ],\n        \"semantic_type\": \"\",\n        \"description\": \"\"\n      }\n    },\n    {\n      \"column\": \"Recall\",\n      \"properties\": {\n        \"dtype\": \"number\",\n        \"std\": 7.071067811864696e-05,\n        \"min\": 0.9955,\n        \"max\": 0.9956,\n        \"num_unique_values\": 2,\n        \"samples\": [\n          0.9955,\n          0.9956\n        ],\n        \"semantic_type\": \"\",\n        \"description\": \"\"\n      }\n    },\n    {\n      \"column\": \"F1 Score\",\n      \"properties\": {\n        \"dtype\": \"number\",\n        \"std\": 7.071067811864696e-05,\n        \"min\": 0.9955,\n        \"max\": 0.9956,\n        \"num_unique_values\": 2,\n        \"samples\": [\n          0.9955,\n          0.9956\n        ],\n        \"semantic_type\": \"\",\n        \"description\": \"\"\n      }\n    },\n    {\n      \"column\": \"CSI Index\",\n      \"properties\": {\n        \"dtype\": \"number\",\n        \"std\": 0.004242640687119289,\n        \"min\": 0.576,\n        \"max\": 0.582,\n        \"num_unique_values\": 2,\n        \"samples\": [\n          0.576,\n          0.582\n        ],\n        \"semantic_type\": \"\",\n        \"description\": \"\"\n      }\n    }\n  ]\n}",
              "type": "dataframe"
            },
            "text/html": [
              "\n",
              "  <div id=\"df-7723fdb3-e265-4441-903b-4853ad6a5798\" class=\"colab-df-container\">\n",
              "    <div>\n",
              "<style scoped>\n",
              "    .dataframe tbody tr th:only-of-type {\n",
              "        vertical-align: middle;\n",
              "    }\n",
              "\n",
              "    .dataframe tbody tr th {\n",
              "        vertical-align: top;\n",
              "    }\n",
              "\n",
              "    .dataframe thead th {\n",
              "        text-align: right;\n",
              "    }\n",
              "</style>\n",
              "<table border=\"1\" class=\"dataframe\">\n",
              "  <thead>\n",
              "    <tr style=\"text-align: right;\">\n",
              "      <th></th>\n",
              "      <th>Model</th>\n",
              "      <th>Accuracy</th>\n",
              "      <th>Precision</th>\n",
              "      <th>Recall</th>\n",
              "      <th>F1 Score</th>\n",
              "      <th>CSI Index</th>\n",
              "    </tr>\n",
              "  </thead>\n",
              "  <tbody>\n",
              "    <tr>\n",
              "      <th>0</th>\n",
              "      <td>CatBoost</td>\n",
              "      <td>0.9956</td>\n",
              "      <td>0.9956</td>\n",
              "      <td>0.9956</td>\n",
              "      <td>0.9956</td>\n",
              "      <td>0.582</td>\n",
              "    </tr>\n",
              "    <tr>\n",
              "      <th>1</th>\n",
              "      <td>Decision Tree</td>\n",
              "      <td>0.9955</td>\n",
              "      <td>0.9955</td>\n",
              "      <td>0.9955</td>\n",
              "      <td>0.9955</td>\n",
              "      <td>0.576</td>\n",
              "    </tr>\n",
              "  </tbody>\n",
              "</table>\n",
              "</div>\n",
              "    <div class=\"colab-df-buttons\">\n",
              "\n",
              "  <div class=\"colab-df-container\">\n",
              "    <button class=\"colab-df-convert\" onclick=\"convertToInteractive('df-7723fdb3-e265-4441-903b-4853ad6a5798')\"\n",
              "            title=\"Convert this dataframe to an interactive table.\"\n",
              "            style=\"display:none;\">\n",
              "\n",
              "  <svg xmlns=\"http://www.w3.org/2000/svg\" height=\"24px\" viewBox=\"0 -960 960 960\">\n",
              "    <path d=\"M120-120v-720h720v720H120Zm60-500h600v-160H180v160Zm220 220h160v-160H400v160Zm0 220h160v-160H400v160ZM180-400h160v-160H180v160Zm440 0h160v-160H620v160ZM180-180h160v-160H180v160Zm440 0h160v-160H620v160Z\"/>\n",
              "  </svg>\n",
              "    </button>\n",
              "\n",
              "  <style>\n",
              "    .colab-df-container {\n",
              "      display:flex;\n",
              "      gap: 12px;\n",
              "    }\n",
              "\n",
              "    .colab-df-convert {\n",
              "      background-color: #E8F0FE;\n",
              "      border: none;\n",
              "      border-radius: 50%;\n",
              "      cursor: pointer;\n",
              "      display: none;\n",
              "      fill: #1967D2;\n",
              "      height: 32px;\n",
              "      padding: 0 0 0 0;\n",
              "      width: 32px;\n",
              "    }\n",
              "\n",
              "    .colab-df-convert:hover {\n",
              "      background-color: #E2EBFA;\n",
              "      box-shadow: 0px 1px 2px rgba(60, 64, 67, 0.3), 0px 1px 3px 1px rgba(60, 64, 67, 0.15);\n",
              "      fill: #174EA6;\n",
              "    }\n",
              "\n",
              "    .colab-df-buttons div {\n",
              "      margin-bottom: 4px;\n",
              "    }\n",
              "\n",
              "    [theme=dark] .colab-df-convert {\n",
              "      background-color: #3B4455;\n",
              "      fill: #D2E3FC;\n",
              "    }\n",
              "\n",
              "    [theme=dark] .colab-df-convert:hover {\n",
              "      background-color: #434B5C;\n",
              "      box-shadow: 0px 1px 3px 1px rgba(0, 0, 0, 0.15);\n",
              "      filter: drop-shadow(0px 1px 2px rgba(0, 0, 0, 0.3));\n",
              "      fill: #FFFFFF;\n",
              "    }\n",
              "  </style>\n",
              "\n",
              "    <script>\n",
              "      const buttonEl =\n",
              "        document.querySelector('#df-7723fdb3-e265-4441-903b-4853ad6a5798 button.colab-df-convert');\n",
              "      buttonEl.style.display =\n",
              "        google.colab.kernel.accessAllowed ? 'block' : 'none';\n",
              "\n",
              "      async function convertToInteractive(key) {\n",
              "        const element = document.querySelector('#df-7723fdb3-e265-4441-903b-4853ad6a5798');\n",
              "        const dataTable =\n",
              "          await google.colab.kernel.invokeFunction('convertToInteractive',\n",
              "                                                    [key], {});\n",
              "        if (!dataTable) return;\n",
              "\n",
              "        const docLinkHtml = 'Like what you see? Visit the ' +\n",
              "          '<a target=\"_blank\" href=https://colab.research.google.com/notebooks/data_table.ipynb>data table notebook</a>'\n",
              "          + ' to learn more about interactive tables.';\n",
              "        element.innerHTML = '';\n",
              "        dataTable['output_type'] = 'display_data';\n",
              "        await google.colab.output.renderOutput(dataTable, element);\n",
              "        const docLink = document.createElement('div');\n",
              "        docLink.innerHTML = docLinkHtml;\n",
              "        element.appendChild(docLink);\n",
              "      }\n",
              "    </script>\n",
              "  </div>\n",
              "\n",
              "\n",
              "<div id=\"df-76b6f82c-ca8b-45f4-bf0e-69dd7a539090\">\n",
              "  <button class=\"colab-df-quickchart\" onclick=\"quickchart('df-76b6f82c-ca8b-45f4-bf0e-69dd7a539090')\"\n",
              "            title=\"Suggest charts\"\n",
              "            style=\"display:none;\">\n",
              "\n",
              "<svg xmlns=\"http://www.w3.org/2000/svg\" height=\"24px\"viewBox=\"0 0 24 24\"\n",
              "     width=\"24px\">\n",
              "    <g>\n",
              "        <path d=\"M19 3H5c-1.1 0-2 .9-2 2v14c0 1.1.9 2 2 2h14c1.1 0 2-.9 2-2V5c0-1.1-.9-2-2-2zM9 17H7v-7h2v7zm4 0h-2V7h2v10zm4 0h-2v-4h2v4z\"/>\n",
              "    </g>\n",
              "</svg>\n",
              "  </button>\n",
              "\n",
              "<style>\n",
              "  .colab-df-quickchart {\n",
              "      --bg-color: #E8F0FE;\n",
              "      --fill-color: #1967D2;\n",
              "      --hover-bg-color: #E2EBFA;\n",
              "      --hover-fill-color: #174EA6;\n",
              "      --disabled-fill-color: #AAA;\n",
              "      --disabled-bg-color: #DDD;\n",
              "  }\n",
              "\n",
              "  [theme=dark] .colab-df-quickchart {\n",
              "      --bg-color: #3B4455;\n",
              "      --fill-color: #D2E3FC;\n",
              "      --hover-bg-color: #434B5C;\n",
              "      --hover-fill-color: #FFFFFF;\n",
              "      --disabled-bg-color: #3B4455;\n",
              "      --disabled-fill-color: #666;\n",
              "  }\n",
              "\n",
              "  .colab-df-quickchart {\n",
              "    background-color: var(--bg-color);\n",
              "    border: none;\n",
              "    border-radius: 50%;\n",
              "    cursor: pointer;\n",
              "    display: none;\n",
              "    fill: var(--fill-color);\n",
              "    height: 32px;\n",
              "    padding: 0;\n",
              "    width: 32px;\n",
              "  }\n",
              "\n",
              "  .colab-df-quickchart:hover {\n",
              "    background-color: var(--hover-bg-color);\n",
              "    box-shadow: 0 1px 2px rgba(60, 64, 67, 0.3), 0 1px 3px 1px rgba(60, 64, 67, 0.15);\n",
              "    fill: var(--button-hover-fill-color);\n",
              "  }\n",
              "\n",
              "  .colab-df-quickchart-complete:disabled,\n",
              "  .colab-df-quickchart-complete:disabled:hover {\n",
              "    background-color: var(--disabled-bg-color);\n",
              "    fill: var(--disabled-fill-color);\n",
              "    box-shadow: none;\n",
              "  }\n",
              "\n",
              "  .colab-df-spinner {\n",
              "    border: 2px solid var(--fill-color);\n",
              "    border-color: transparent;\n",
              "    border-bottom-color: var(--fill-color);\n",
              "    animation:\n",
              "      spin 1s steps(1) infinite;\n",
              "  }\n",
              "\n",
              "  @keyframes spin {\n",
              "    0% {\n",
              "      border-color: transparent;\n",
              "      border-bottom-color: var(--fill-color);\n",
              "      border-left-color: var(--fill-color);\n",
              "    }\n",
              "    20% {\n",
              "      border-color: transparent;\n",
              "      border-left-color: var(--fill-color);\n",
              "      border-top-color: var(--fill-color);\n",
              "    }\n",
              "    30% {\n",
              "      border-color: transparent;\n",
              "      border-left-color: var(--fill-color);\n",
              "      border-top-color: var(--fill-color);\n",
              "      border-right-color: var(--fill-color);\n",
              "    }\n",
              "    40% {\n",
              "      border-color: transparent;\n",
              "      border-right-color: var(--fill-color);\n",
              "      border-top-color: var(--fill-color);\n",
              "    }\n",
              "    60% {\n",
              "      border-color: transparent;\n",
              "      border-right-color: var(--fill-color);\n",
              "    }\n",
              "    80% {\n",
              "      border-color: transparent;\n",
              "      border-right-color: var(--fill-color);\n",
              "      border-bottom-color: var(--fill-color);\n",
              "    }\n",
              "    90% {\n",
              "      border-color: transparent;\n",
              "      border-bottom-color: var(--fill-color);\n",
              "    }\n",
              "  }\n",
              "</style>\n",
              "\n",
              "  <script>\n",
              "    async function quickchart(key) {\n",
              "      const quickchartButtonEl =\n",
              "        document.querySelector('#' + key + ' button');\n",
              "      quickchartButtonEl.disabled = true;  // To prevent multiple clicks.\n",
              "      quickchartButtonEl.classList.add('colab-df-spinner');\n",
              "      try {\n",
              "        const charts = await google.colab.kernel.invokeFunction(\n",
              "            'suggestCharts', [key], {});\n",
              "      } catch (error) {\n",
              "        console.error('Error during call to suggestCharts:', error);\n",
              "      }\n",
              "      quickchartButtonEl.classList.remove('colab-df-spinner');\n",
              "      quickchartButtonEl.classList.add('colab-df-quickchart-complete');\n",
              "    }\n",
              "    (() => {\n",
              "      let quickchartButtonEl =\n",
              "        document.querySelector('#df-76b6f82c-ca8b-45f4-bf0e-69dd7a539090 button');\n",
              "      quickchartButtonEl.style.display =\n",
              "        google.colab.kernel.accessAllowed ? 'block' : 'none';\n",
              "    })();\n",
              "  </script>\n",
              "</div>\n",
              "\n",
              "    </div>\n",
              "  </div>\n"
            ],
            "text/plain": [
              "           Model  Accuracy  Precision  Recall  F1 Score  CSI Index\n",
              "0       CatBoost    0.9956     0.9956  0.9956    0.9956      0.582\n",
              "1  Decision Tree    0.9955     0.9955  0.9955    0.9955      0.576"
            ]
          },
          "execution_count": 68,
          "metadata": {},
          "output_type": "execute_result"
        }
      ],
      "source": [
        "model_comparison(models, X_train_bsm, y_train_bsm, X_val_labeled, y_val_labeled)"
      ]
    },
    {
      "cell_type": "markdown",
      "metadata": {
        "id": "FKxQ88cKfpFH"
      },
      "source": [
        "#### ADASYN"
      ]
    },
    {
      "cell_type": "code",
      "execution_count": 63,
      "metadata": {
        "id": "rbCur39HeRLD"
      },
      "outputs": [],
      "source": [
        "ada = ADASYN(random_state=42)\n",
        "X_train_ada, y_train_ada = ada.fit_resample(X_train_labeled, y_train_labeled)"
      ]
    },
    {
      "cell_type": "code",
      "execution_count": 64,
      "metadata": {
        "colab": {
          "base_uri": "https://localhost:8080/",
          "height": 375
        },
        "id": "lcIdZch8eYJO",
        "outputId": "936113f0-f85c-49fd-f8c1-ff6b5f207399"
      },
      "outputs": [
        {
          "name": "stdout",
          "output_type": "stream",
          "text": [
            "Class=4, n=2222346 (24.992%)\n",
            "Class=2, n=2223257 (25.003%)\n",
            "Class=3, n=2223843 (25.009%)\n",
            "Class=1, n=2222671 (24.996%)\n"
          ]
        },
        {
          "data": {
            "image/png": "[encoded data removed]",
            "text/plain": [
              "<Figure size 500x300 with 1 Axes>"
            ]
          },
          "metadata": {},
          "output_type": "display_data"
        }
      ],
      "source": [
        "plt.figure(figsize=(5, 3))\n",
        "count_and_plot(y_train_ada)"
      ]
    },
    {
      "cell_type": "code",
      "execution_count": 65,
      "metadata": {
        "colab": {
          "base_uri": "https://localhost:8080/",
          "height": 164
        },
        "id": "RwoVx-NueX4C",
        "outputId": "d70ffbf8-72ed-4d1f-f499-9ad348b4f39e"
      },
      "outputs": [
        {
          "name": "stdout",
          "output_type": "stream",
          "text": [
            "\n",
            "======== Models Before Hyper Parameter Tuning ========\n",
            "\n"
          ]
        },
        {
          "data": {
            "application/vnd.google.colaboratory.intrinsic+json": {
              "summary": "{\n  \"name\": \"model_comparison(models, X_train_ada, y_train_ada, X_val_labeled, y_val_labeled)\",\n  \"rows\": 2,\n  \"fields\": [\n    {\n      \"column\": \"Model\",\n      \"properties\": {\n        \"dtype\": \"string\",\n        \"num_unique_values\": 2,\n        \"samples\": [\n          \"Decision Tree\",\n          \"CatBoost\"\n        ],\n        \"semantic_type\": \"\",\n        \"description\": \"\"\n      }\n    },\n    {\n      \"column\": \"Accuracy\",\n      \"properties\": {\n        \"dtype\": \"number\",\n        \"std\": 0.00014142135623729392,\n        \"min\": 0.9955,\n        \"max\": 0.9957,\n        \"num_unique_values\": 2,\n        \"samples\": [\n          0.9955,\n          0.9957\n        ],\n        \"semantic_type\": \"\",\n        \"description\": \"\"\n      }\n    },\n    {\n      \"column\": \"Precision\",\n      \"properties\": {\n        \"dtype\": \"number\",\n        \"std\": 0.00014142135623729392,\n        \"min\": 0.9955,\n        \"max\": 0.9957,\n        \"num_unique_values\": 2,\n        \"samples\": [\n          0.9955,\n          0.9957\n        ],\n        \"semantic_type\": \"\",\n        \"description\": \"\"\n      }\n    },\n    {\n      \"column\": \"Recall\",\n      \"properties\": {\n        \"dtype\": \"number\",\n        \"std\": 0.00014142135623729392,\n        \"min\": 0.9955,\n        \"max\": 0.9957,\n        \"num_unique_values\": 2,\n        \"samples\": [\n          0.9955,\n          0.9957\n        ],\n        \"semantic_type\": \"\",\n        \"description\": \"\"\n      }\n    },\n    {\n      \"column\": \"F1 Score\",\n      \"properties\": {\n        \"dtype\": \"number\",\n        \"std\": 0.00014142135623729392,\n        \"min\": 0.9955,\n        \"max\": 0.9957,\n        \"num_unique_values\": 2,\n        \"samples\": [\n          0.9955,\n          0.9957\n        ],\n        \"semantic_type\": \"\",\n        \"description\": \"\"\n      }\n    },\n    {\n      \"column\": \"CSI Index\",\n      \"properties\": {\n        \"dtype\": \"number\",\n        \"std\": 0.015414927829866766,\n        \"min\": 0.5715,\n        \"max\": 0.5933,\n        \"num_unique_values\": 2,\n        \"samples\": [\n          0.5715,\n          0.5933\n        ],\n        \"semantic_type\": \"\",\n        \"description\": \"\"\n      }\n    }\n  ]\n}",
              "type": "dataframe"
            },
            "text/html": [
              "\n",
              "  <div id=\"df-3225025a-77c1-4f85-b926-5e8128676abe\" class=\"colab-df-container\">\n",
              "    <div>\n",
              "<style scoped>\n",
              "    .dataframe tbody tr th:only-of-type {\n",
              "        vertical-align: middle;\n",
              "    }\n",
              "\n",
              "    .dataframe tbody tr th {\n",
              "        vertical-align: top;\n",
              "    }\n",
              "\n",
              "    .dataframe thead th {\n",
              "        text-align: right;\n",
              "    }\n",
              "</style>\n",
              "<table border=\"1\" class=\"dataframe\">\n",
              "  <thead>\n",
              "    <tr style=\"text-align: right;\">\n",
              "      <th></th>\n",
              "      <th>Model</th>\n",
              "      <th>Accuracy</th>\n",
              "      <th>Precision</th>\n",
              "      <th>Recall</th>\n",
              "      <th>F1 Score</th>\n",
              "      <th>CSI Index</th>\n",
              "    </tr>\n",
              "  </thead>\n",
              "  <tbody>\n",
              "    <tr>\n",
              "      <th>0</th>\n",
              "      <td>CatBoost</td>\n",
              "      <td>0.9957</td>\n",
              "      <td>0.9957</td>\n",
              "      <td>0.9957</td>\n",
              "      <td>0.9957</td>\n",
              "      <td>0.5933</td>\n",
              "    </tr>\n",
              "    <tr>\n",
              "      <th>1</th>\n",
              "      <td>Decision Tree</td>\n",
              "      <td>0.9955</td>\n",
              "      <td>0.9955</td>\n",
              "      <td>0.9955</td>\n",
              "      <td>0.9955</td>\n",
              "      <td>0.5715</td>\n",
              "    </tr>\n",
              "  </tbody>\n",
              "</table>\n",
              "</div>\n",
              "    <div class=\"colab-df-buttons\">\n",
              "\n",
              "  <div class=\"colab-df-container\">\n",
              "    <button class=\"colab-df-convert\" onclick=\"convertToInteractive('df-3225025a-77c1-4f85-b926-5e8128676abe')\"\n",
              "            title=\"Convert this dataframe to an interactive table.\"\n",
              "            style=\"display:none;\">\n",
              "\n",
              "  <svg xmlns=\"http://www.w3.org/2000/svg\" height=\"24px\" viewBox=\"0 -960 960 960\">\n",
              "    <path d=\"M120-120v-720h720v720H120Zm60-500h600v-160H180v160Zm220 220h160v-160H400v160Zm0 220h160v-160H400v160ZM180-400h160v-160H180v160Zm440 0h160v-160H620v160ZM180-180h160v-160H180v160Zm440 0h160v-160H620v160Z\"/>\n",
              "  </svg>\n",
              "    </button>\n",
              "\n",
              "  <style>\n",
              "    .colab-df-container {\n",
              "      display:flex;\n",
              "      gap: 12px;\n",
              "    }\n",
              "\n",
              "    .colab-df-convert {\n",
              "      background-color: #E8F0FE;\n",
              "      border: none;\n",
              "      border-radius: 50%;\n",
              "      cursor: pointer;\n",
              "      display: none;\n",
              "      fill: #1967D2;\n",
              "      height: 32px;\n",
              "      padding: 0 0 0 0;\n",
              "      width: 32px;\n",
              "    }\n",
              "\n",
              "    .colab-df-convert:hover {\n",
              "      background-color: #E2EBFA;\n",
              "      box-shadow: 0px 1px 2px rgba(60, 64, 67, 0.3), 0px 1px 3px 1px rgba(60, 64, 67, 0.15);\n",
              "      fill: #174EA6;\n",
              "    }\n",
              "\n",
              "    .colab-df-buttons div {\n",
              "      margin-bottom: 4px;\n",
              "    }\n",
              "\n",
              "    [theme=dark] .colab-df-convert {\n",
              "      background-color: #3B4455;\n",
              "      fill: #D2E3FC;\n",
              "    }\n",
              "\n",
              "    [theme=dark] .colab-df-convert:hover {\n",
              "      background-color: #434B5C;\n",
              "      box-shadow: 0px 1px 3px 1px rgba(0, 0, 0, 0.15);\n",
              "      filter: drop-shadow(0px 1px 2px rgba(0, 0, 0, 0.3));\n",
              "      fill: #FFFFFF;\n",
              "    }\n",
              "  </style>\n",
              "\n",
              "    <script>\n",
              "      const buttonEl =\n",
              "        document.querySelector('#df-3225025a-77c1-4f85-b926-5e8128676abe button.colab-df-convert');\n",
              "      buttonEl.style.display =\n",
              "        google.colab.kernel.accessAllowed ? 'block' : 'none';\n",
              "\n",
              "      async function convertToInteractive(key) {\n",
              "        const element = document.querySelector('#df-3225025a-77c1-4f85-b926-5e8128676abe');\n",
              "        const dataTable =\n",
              "          await google.colab.kernel.invokeFunction('convertToInteractive',\n",
              "                                                    [key], {});\n",
              "        if (!dataTable) return;\n",
              "\n",
              "        const docLinkHtml = 'Like what you see? Visit the ' +\n",
              "          '<a target=\"_blank\" href=https://colab.research.google.com/notebooks/data_table.ipynb>data table notebook</a>'\n",
              "          + ' to learn more about interactive tables.';\n",
              "        element.innerHTML = '';\n",
              "        dataTable['output_type'] = 'display_data';\n",
              "        await google.colab.output.renderOutput(dataTable, element);\n",
              "        const docLink = document.createElement('div');\n",
              "        docLink.innerHTML = docLinkHtml;\n",
              "        element.appendChild(docLink);\n",
              "      }\n",
              "    </script>\n",
              "  </div>\n",
              "\n",
              "\n",
              "<div id=\"df-f5ace85f-ba11-40c4-88be-d0e8499af8c2\">\n",
              "  <button class=\"colab-df-quickchart\" onclick=\"quickchart('df-f5ace85f-ba11-40c4-88be-d0e8499af8c2')\"\n",
              "            title=\"Suggest charts\"\n",
              "            style=\"display:none;\">\n",
              "\n",
              "<svg xmlns=\"http://www.w3.org/2000/svg\" height=\"24px\"viewBox=\"0 0 24 24\"\n",
              "     width=\"24px\">\n",
              "    <g>\n",
              "        <path d=\"M19 3H5c-1.1 0-2 .9-2 2v14c0 1.1.9 2 2 2h14c1.1 0 2-.9 2-2V5c0-1.1-.9-2-2-2zM9 17H7v-7h2v7zm4 0h-2V7h2v10zm4 0h-2v-4h2v4z\"/>\n",
              "    </g>\n",
              "</svg>\n",
              "  </button>\n",
              "\n",
              "<style>\n",
              "  .colab-df-quickchart {\n",
              "      --bg-color: #E8F0FE;\n",
              "      --fill-color: #1967D2;\n",
              "      --hover-bg-color: #E2EBFA;\n",
              "      --hover-fill-color: #174EA6;\n",
              "      --disabled-fill-color: #AAA;\n",
              "      --disabled-bg-color: #DDD;\n",
              "  }\n",
              "\n",
              "  [theme=dark] .colab-df-quickchart {\n",
              "      --bg-color: #3B4455;\n",
              "      --fill-color: #D2E3FC;\n",
              "      --hover-bg-color: #434B5C;\n",
              "      --hover-fill-color: #FFFFFF;\n",
              "      --disabled-bg-color: #3B4455;\n",
              "      --disabled-fill-color: #666;\n",
              "  }\n",
              "\n",
              "  .colab-df-quickchart {\n",
              "    background-color: var(--bg-color);\n",
              "    border: none;\n",
              "    border-radius: 50%;\n",
              "    cursor: pointer;\n",
              "    display: none;\n",
              "    fill: var(--fill-color);\n",
              "    height: 32px;\n",
              "    padding: 0;\n",
              "    width: 32px;\n",
              "  }\n",
              "\n",
              "  .colab-df-quickchart:hover {\n",
              "    background-color: var(--hover-bg-color);\n",
              "    box-shadow: 0 1px 2px rgba(60, 64, 67, 0.3), 0 1px 3px 1px rgba(60, 64, 67, 0.15);\n",
              "    fill: var(--button-hover-fill-color);\n",
              "  }\n",
              "\n",
              "  .colab-df-quickchart-complete:disabled,\n",
              "  .colab-df-quickchart-complete:disabled:hover {\n",
              "    background-color: var(--disabled-bg-color);\n",
              "    fill: var(--disabled-fill-color);\n",
              "    box-shadow: none;\n",
              "  }\n",
              "\n",
              "  .colab-df-spinner {\n",
              "    border: 2px solid var(--fill-color);\n",
              "    border-color: transparent;\n",
              "    border-bottom-color: var(--fill-color);\n",
              "    animation:\n",
              "      spin 1s steps(1) infinite;\n",
              "  }\n",
              "\n",
              "  @keyframes spin {\n",
              "    0% {\n",
              "      border-color: transparent;\n",
              "      border-bottom-color: var(--fill-color);\n",
              "      border-left-color: var(--fill-color);\n",
              "    }\n",
              "    20% {\n",
              "      border-color: transparent;\n",
              "      border-left-color: var(--fill-color);\n",
              "      border-top-color: var(--fill-color);\n",
              "    }\n",
              "    30% {\n",
              "      border-color: transparent;\n",
              "      border-left-color: var(--fill-color);\n",
              "      border-top-color: var(--fill-color);\n",
              "      border-right-color: var(--fill-color);\n",
              "    }\n",
              "    40% {\n",
              "      border-color: transparent;\n",
              "      border-right-color: var(--fill-color);\n",
              "      border-top-color: var(--fill-color);\n",
              "    }\n",
              "    60% {\n",
              "      border-color: transparent;\n",
              "      border-right-color: var(--fill-color);\n",
              "    }\n",
              "    80% {\n",
              "      border-color: transparent;\n",
              "      border-right-color: var(--fill-color);\n",
              "      border-bottom-color: var(--fill-color);\n",
              "    }\n",
              "    90% {\n",
              "      border-color: transparent;\n",
              "      border-bottom-color: var(--fill-color);\n",
              "    }\n",
              "  }\n",
              "</style>\n",
              "\n",
              "  <script>\n",
              "    async function quickchart(key) {\n",
              "      const quickchartButtonEl =\n",
              "        document.querySelector('#' + key + ' button');\n",
              "      quickchartButtonEl.disabled = true;  // To prevent multiple clicks.\n",
              "      quickchartButtonEl.classList.add('colab-df-spinner');\n",
              "      try {\n",
              "        const charts = await google.colab.kernel.invokeFunction(\n",
              "            'suggestCharts', [key], {});\n",
              "      } catch (error) {\n",
              "        console.error('Error during call to suggestCharts:', error);\n",
              "      }\n",
              "      quickchartButtonEl.classList.remove('colab-df-spinner');\n",
              "      quickchartButtonEl.classList.add('colab-df-quickchart-complete');\n",
              "    }\n",
              "    (() => {\n",
              "      let quickchartButtonEl =\n",
              "        document.querySelector('#df-f5ace85f-ba11-40c4-88be-d0e8499af8c2 button');\n",
              "      quickchartButtonEl.style.display =\n",
              "        google.colab.kernel.accessAllowed ? 'block' : 'none';\n",
              "    })();\n",
              "  </script>\n",
              "</div>\n",
              "\n",
              "    </div>\n",
              "  </div>\n"
            ],
            "text/plain": [
              "           Model  Accuracy  Precision  Recall  F1 Score  CSI Index\n",
              "0       CatBoost    0.9957     0.9957  0.9957    0.9957     0.5933\n",
              "1  Decision Tree    0.9955     0.9955  0.9955    0.9955     0.5715"
            ]
          },
          "execution_count": 65,
          "metadata": {},
          "output_type": "execute_result"
        }
      ],
      "source": [
        "model_comparison(models, X_train_ada, y_train_ada, X_val_labeled, y_val_labeled)"
      ]
    },
    {
      "cell_type": "markdown",
      "metadata": {
        "id": "JQAAWbPUWy8T"
      },
      "source": [
        "## 하이퍼 파라미터 튜닝"
      ]
    },
    {
      "cell_type": "markdown",
      "metadata": {
        "id": "_ld0D0KWY6Gk"
      },
      "source": [
        "### 언더샘플링한 데이터로 진행 (RandomUnderSampler)"
      ]
    },
    {
      "cell_type": "markdown",
      "metadata": {
        "id": "yx_AS2PNW56h"
      },
      "source": [
        "#### CatBoost"
      ]
    },
    {
      "cell_type": "code",
      "execution_count": null,
      "metadata": {
        "id": "aZOMBjmDWkt7"
      },
      "outputs": [],
      "source": [
        "# optuna sampling seed 고정\n",
        "sampler = TPESampler(seed=42)"
      ]
    },
    {
      "cell_type": "code",
      "execution_count": null,
      "metadata": {
        "id": "08eNNEwEXiJ4"
      },
      "outputs": [],
      "source": [
        "# 전체 데이터셋으로 서치했던 하이퍼파라미터 범위 참고\n",
        "# -> 범위를 참고하여 좁혀서 다시 Optuna를 통해 하이퍼파라미터 튜닝 시도\n",
        "\n",
        "# {'iterations': 904,\n",
        "#  'learning_rate': 0.08791641275815368,\n",
        "#  'depth': 10,\n",
        "#  'l2_leaf_reg': 0.20316887640148765,\n",
        "#  'bootstrap_type': 'Poisson',\n",
        "#  'random_strength': 0.0013974245504260433,\n",
        "#  'bagging_temperature': 0.783946059928889,\n",
        "#  'od_type': 'IncToDec',\n",
        "#  'od_wait': 34,\n",
        "#  'min_data_in_leaf': 65}"
      ]
    },
    {
      "cell_type": "code",
      "execution_count": null,
      "metadata": {
        "id": "vo8raIQtW5K5"
      },
      "outputs": [],
      "source": [
        "# https://practicaldatascience.co.uk/machine-learning/how-to-tune-a-catboostclassifier-model-with-optuna\n",
        "# https://optuna.readthedocs.io/en/stable/tutorial/10_key_features/002_configurations.html#configurations\n",
        "# https://catboost.ai/en/docs/concepts/parameter-tuning#methods-for-hyperparameter-search-by-optuna\n",
        "\n",
        "def objective_res_cat(trial):\n",
        "    params = {\n",
        "        # \"loss_function\":'MultiClass',\n",
        "        \"iterations\": trial.suggest_int(\"iterations\", 700, 1000),\n",
        "        # \"iterations\" : trial.suggest_int('n_estimators', 500, 4000),\n",
        "        \"learning_rate\": trial.suggest_float(\"learning_rate\", 1e-3, 1e-2, log=True),\n",
        "        \"depth\": trial.suggest_int(\"depth\", 3, 10),\n",
        "        \"l2_leaf_reg\": trial.suggest_float(\"l2_leaf_reg\", 1e-1, 1.0, log=True),\n",
        "        \"bootstrap_type\": trial.suggest_categorical(\"bootstrap_type\", [\"Bayesian\", \"Poisson\"]),\n",
        "        \"random_strength\": trial.suggest_float(\"random_strength\", 1e-3, 1e-1, log=True),\n",
        "        \"bagging_temperature\": trial.suggest_float(\"bagging_temperature\", 0.5, 1.0),\n",
        "        \"od_type\": trial.suggest_categorical(\"od_type\", [\"IncToDec\", \"Iter\"]),\n",
        "        \"od_wait\": trial.suggest_int(\"od_wait\", 30, 50),\n",
        "        # \"subsample\": trial.suggest_float(\"subsample\", 0.05, 1.0),\n",
        "        # \"colsample_bylevel\": trial.suggest_float(\"colsample_bylevel\", 0.05, 1.0),\n",
        "        \"min_data_in_leaf\": trial.suggest_int(\"min_data_in_leaf\", 50, 100),\n",
        "        # \"verbose\": False\n",
        "    }\n",
        "\n",
        "    model = CatBoostClassifier(**params,\n",
        "                               loss_function=\"MultiClass\",\n",
        "                               silent=True,\n",
        "                               task_type=\"GPU\",\n",
        "                               random_state=42)\n",
        "\n",
        "    model.fit(X_train_res, y_train_res)\n",
        "    predictions = model.predict(X_val_labeled)\n",
        "    csi = csi_index(y_val_labeled, predictions)\n",
        "\n",
        "    return csi"
      ]
    },
    {
      "cell_type": "code",
      "execution_count": null,
      "metadata": {
        "colab": {
          "base_uri": "https://localhost:8080/"
        },
        "id": "6aRpkBtdX_cv",
        "outputId": "96743be7-6fac-4530-f993-0eaefbad0dc0"
      },
      "outputs": [
        {
          "name": "stderr",
          "output_type": "stream",
          "text": [
            "[I 2024-06-09 09:42:31,194] A new study created in memory with name: catboost_res\n",
            "[I 2024-06-09 09:42:40,065] Trial 0 finished with value: 0.031961789982903624 and parameters: {'iterations': 812, 'learning_rate': 0.00892718030435363, 'depth': 8, 'l2_leaf_reg': 0.3968793330444371, 'bootstrap_type': 'Bayesian', 'random_strength': 0.0013066739238053278, 'bagging_temperature': 0.9330880728874675, 'od_type': 'Iter', 'od_wait': 30, 'min_data_in_leaf': 99}. Best is trial 0 with value: 0.031961789982903624.\n",
            "[I 2024-06-09 09:42:43,944] Trial 1 finished with value: 0.024714263458297334 and parameters: {'iterations': 950, 'learning_rate': 0.0016305687346221474, 'depth': 4, 'l2_leaf_reg': 0.1525472945805261, 'bootstrap_type': 'Poisson', 'random_strength': 0.007309539835912915, 'bagging_temperature': 0.645614570099021, 'od_type': 'IncToDec', 'od_wait': 36, 'min_data_in_leaf': 68}. Best is trial 0 with value: 0.031961789982903624.\n",
            "[I 2024-06-09 09:42:47,291] Trial 2 finished with value: 0.026573263790381833 and parameters: {'iterations': 837, 'learning_rate': 0.006097839109531512, 'depth': 4, 'l2_leaf_reg': 0.3267641765781762, 'bootstrap_type': 'Bayesian', 'random_strength': 0.016409286730647923, 'bagging_temperature': 0.5852620618436457, 'od_type': 'Iter', 'od_wait': 50, 'min_data_in_leaf': 91}. Best is trial 0 with value: 0.031961789982903624.\n",
            "[I 2024-06-09 09:42:55,469] Trial 3 finished with value: 0.02781622337224696 and parameters: {'iterations': 791, 'learning_rate': 0.0012521954287060388, 'depth': 8, 'l2_leaf_reg': 0.27551959649510765, 'bootstrap_type': 'Poisson', 'random_strength': 0.001171593739230706, 'bagging_temperature': 0.954660201039391, 'od_type': 'Iter', 'od_wait': 36, 'min_data_in_leaf': 76}. Best is trial 0 with value: 0.031961789982903624.\n",
            "[I 2024-06-09 09:43:16,717] Trial 4 finished with value: 0.02919226734602128 and parameters: {'iterations': 864, 'learning_rate': 0.001530574436550018, 'depth': 10, 'l2_leaf_reg': 0.5958443469672517, 'bootstrap_type': 'Bayesian', 'random_strength': 0.015696396388661146, 'bagging_temperature': 0.9609371175115584, 'od_type': 'Iter', 'od_wait': 30, 'min_data_in_leaf': 66}. Best is trial 0 with value: 0.031961789982903624.\n",
            "[I 2024-06-09 09:43:29,587] Trial 5 finished with value: 0.02902780725960518 and parameters: {'iterations': 816, 'learning_rate': 0.0018678802571070686, 'depth': 9, 'l2_leaf_reg': 0.22738055735631824, 'bootstrap_type': 'Poisson', 'random_strength': 0.00191358804876923, 'bagging_temperature': 0.9010984903770198, 'od_type': 'Iter', 'od_wait': 46, 'min_data_in_leaf': 60}. Best is trial 0 with value: 0.031961789982903624.\n",
            "[I 2024-06-09 09:43:37,208] Trial 6 finished with value: 0.030115099595311924 and parameters: {'iterations': 701, 'learning_rate': 0.006538248584518042, 'depth': 8, 'l2_leaf_reg': 0.5358055009231864, 'bootstrap_type': 'Bayesian', 'random_strength': 0.005211124595788265, 'bagging_temperature': 0.5579345297625649, 'od_type': 'IncToDec', 'od_wait': 36, 'min_data_in_leaf': 53}. Best is trial 0 with value: 0.031961789982903624.\n",
            "[I 2024-06-09 09:43:45,673] Trial 7 finished with value: 0.028414257137661394 and parameters: {'iterations': 793, 'learning_rate': 0.0021143813626634373, 'depth': 8, 'l2_leaf_reg': 0.4340677011889399, 'bootstrap_type': 'Bayesian', 'random_strength': 0.0017345566642360942, 'bagging_temperature': 0.8566223936114975, 'od_type': 'IncToDec', 'od_wait': 46, 'min_data_in_leaf': 75}. Best is trial 0 with value: 0.031961789982903624.\n",
            "[I 2024-06-09 09:43:48,770] Trial 8 finished with value: 0.025064290370412818 and parameters: {'iterations': 857, 'learning_rate': 0.0026763383567660758, 'depth': 3, 'l2_leaf_reg': 0.12820100418916902, 'bootstrap_type': 'Poisson', 'random_strength': 0.00425316236379087, 'bagging_temperature': 0.7542853455823514, 'od_type': 'IncToDec', 'od_wait': 38, 'min_data_in_leaf': 88}. Best is trial 0 with value: 0.031961789982903624.\n",
            "[I 2024-06-09 09:43:52,560] Trial 9 finished with value: 0.024802370173471224 and parameters: {'iterations': 768, 'learning_rate': 0.0011939328726535445, 'depth': 5, 'l2_leaf_reg': 0.14495102383254685, 'bootstrap_type': 'Bayesian', 'random_strength': 0.018484491720988625, 'bagging_temperature': 0.9357302950938589, 'od_type': 'IncToDec', 'od_wait': 48, 'min_data_in_leaf': 77}. Best is trial 0 with value: 0.031961789982903624.\n",
            "[I 2024-06-09 09:43:58,266] Trial 10 finished with value: 0.029870779870779872 and parameters: {'iterations': 933, 'learning_rate': 0.00856765558830815, 'depth': 6, 'l2_leaf_reg': 0.8556385477088205, 'bootstrap_type': 'Bayesian', 'random_strength': 0.06536264082965731, 'bagging_temperature': 0.803720780877726, 'od_type': 'Iter', 'od_wait': 30, 'min_data_in_leaf': 100}. Best is trial 0 with value: 0.031961789982903624.\n",
            "[I 2024-06-09 09:44:03,959] Trial 11 finished with value: 0.02863506917712483 and parameters: {'iterations': 703, 'learning_rate': 0.004979157893318772, 'depth': 7, 'l2_leaf_reg': 0.5431595312630112, 'bootstrap_type': 'Bayesian', 'random_strength': 0.003888859503823756, 'bagging_temperature': 0.5373090861395147, 'od_type': 'IncToDec', 'od_wait': 33, 'min_data_in_leaf': 50}. Best is trial 0 with value: 0.031961789982903624.\n",
            "[I 2024-06-09 09:44:09,736] Trial 12 finished with value: 0.030478072508930608 and parameters: {'iterations': 726, 'learning_rate': 0.009982450621180302, 'depth': 7, 'l2_leaf_reg': 0.7854704107683338, 'bootstrap_type': 'Bayesian', 'random_strength': 0.003873147408736688, 'bagging_temperature': 0.6735782653976132, 'od_type': 'Iter', 'od_wait': 42, 'min_data_in_leaf': 51}. Best is trial 0 with value: 0.031961789982903624.\n",
            "[I 2024-06-09 09:44:14,520] Trial 13 finished with value: 0.029581715603008978 and parameters: {'iterations': 749, 'learning_rate': 0.009683338697084477, 'depth': 6, 'l2_leaf_reg': 0.9783908979273614, 'bootstrap_type': 'Bayesian', 'random_strength': 0.002467638863851556, 'bagging_temperature': 0.6740182516156827, 'od_type': 'Iter', 'od_wait': 42, 'min_data_in_leaf': 100}. Best is trial 0 with value: 0.031961789982903624.\n",
            "[I 2024-06-09 09:44:36,728] Trial 14 finished with value: 0.031108661345978148 and parameters: {'iterations': 889, 'learning_rate': 0.004199640265576676, 'depth': 10, 'l2_leaf_reg': 0.7748859119476473, 'bootstrap_type': 'Bayesian', 'random_strength': 0.0012131965555370137, 'bagging_temperature': 0.6919939481935029, 'od_type': 'Iter', 'od_wait': 42, 'min_data_in_leaf': 86}. Best is trial 0 with value: 0.031961789982903624.\n",
            "[I 2024-06-09 09:44:59,114] Trial 15 finished with value: 0.031064260976089293 and parameters: {'iterations': 901, 'learning_rate': 0.0037315114418400275, 'depth': 10, 'l2_leaf_reg': 0.37789706363078857, 'bootstrap_type': 'Bayesian', 'random_strength': 0.0010412850944390166, 'bagging_temperature': 0.7461470518630605, 'od_type': 'Iter', 'od_wait': 41, 'min_data_in_leaf': 88}. Best is trial 0 with value: 0.031961789982903624.\n",
            "[I 2024-06-09 09:45:14,796] Trial 16 finished with value: 0.030341226253713875 and parameters: {'iterations': 993, 'learning_rate': 0.0036275707640412574, 'depth': 9, 'l2_leaf_reg': 0.6595497148266104, 'bootstrap_type': 'Bayesian', 'random_strength': 0.07305225733440743, 'bagging_temperature': 0.843625566043863, 'od_type': 'Iter', 'od_wait': 45, 'min_data_in_leaf': 93}. Best is trial 0 with value: 0.031961789982903624.\n",
            "[I 2024-06-09 09:45:29,039] Trial 17 finished with value: 0.03093313962286994 and parameters: {'iterations': 894, 'learning_rate': 0.00469069254102183, 'depth': 9, 'l2_leaf_reg': 0.21500526053610058, 'bootstrap_type': 'Bayesian', 'random_strength': 0.03203023322213188, 'bagging_temperature': 0.754980170568609, 'od_type': 'Iter', 'od_wait': 39, 'min_data_in_leaf': 83}. Best is trial 0 with value: 0.031961789982903624.\n",
            "[I 2024-06-09 09:45:51,209] Trial 18 finished with value: 0.033279422741975616 and parameters: {'iterations': 893, 'learning_rate': 0.006948361282050675, 'depth': 10, 'l2_leaf_reg': 0.4344369070755596, 'bootstrap_type': 'Poisson', 'random_strength': 0.002347525590037948, 'bagging_temperature': 0.9986243866270482, 'od_type': 'Iter', 'od_wait': 33, 'min_data_in_leaf': 82}. Best is trial 18 with value: 0.033279422741975616.\n",
            "[I 2024-06-09 09:46:06,056] Trial 19 finished with value: 0.03274865580984551 and parameters: {'iterations': 938, 'learning_rate': 0.007387055345478693, 'depth': 9, 'l2_leaf_reg': 0.43075900407537143, 'bootstrap_type': 'Poisson', 'random_strength': 0.0024434397136747763, 'bagging_temperature': 0.9853976139545324, 'od_type': 'Iter', 'od_wait': 33, 'min_data_in_leaf': 82}. Best is trial 18 with value: 0.033279422741975616.\n",
            "[I 2024-06-09 09:46:21,632] Trial 20 finished with value: 0.032821364542992185 and parameters: {'iterations': 990, 'learning_rate': 0.006647813537951354, 'depth': 9, 'l2_leaf_reg': 0.10298351653580168, 'bootstrap_type': 'Poisson', 'random_strength': 0.002545560541817861, 'bagging_temperature': 0.9880786586809482, 'od_type': 'Iter', 'od_wait': 33, 'min_data_in_leaf': 81}. Best is trial 18 with value: 0.033279422741975616.\n",
            "[I 2024-06-09 09:46:37,363] Trial 21 finished with value: 0.032848300575523945 and parameters: {'iterations': 1000, 'learning_rate': 0.006790952902574559, 'depth': 9, 'l2_leaf_reg': 0.19805242453314378, 'bootstrap_type': 'Poisson', 'random_strength': 0.002314946933297441, 'bagging_temperature': 0.9851899024509025, 'od_type': 'Iter', 'od_wait': 33, 'min_data_in_leaf': 80}. Best is trial 18 with value: 0.033279422741975616.\n",
            "[I 2024-06-09 09:47:01,931] Trial 22 finished with value: 0.033372292348449434 and parameters: {'iterations': 1000, 'learning_rate': 0.0056584312067291965, 'depth': 10, 'l2_leaf_reg': 0.10168251763702324, 'bootstrap_type': 'Poisson', 'random_strength': 0.007402040026340417, 'bagging_temperature': 0.9952461704310686, 'od_type': 'Iter', 'od_wait': 33, 'min_data_in_leaf': 70}. Best is trial 22 with value: 0.033372292348449434.\n",
            "[I 2024-06-09 09:47:25,941] Trial 23 finished with value: 0.03294891640866873 and parameters: {'iterations': 965, 'learning_rate': 0.005313604444975775, 'depth': 10, 'l2_leaf_reg': 0.1861237887751558, 'bootstrap_type': 'Poisson', 'random_strength': 0.008674704318508156, 'bagging_temperature': 0.8800307446514624, 'od_type': 'Iter', 'od_wait': 32, 'min_data_in_leaf': 69}. Best is trial 22 with value: 0.033372292348449434.\n",
            "[I 2024-06-09 09:47:50,005] Trial 24 finished with value: 0.03319485964980394 and parameters: {'iterations': 966, 'learning_rate': 0.005464961280388285, 'depth': 10, 'l2_leaf_reg': 0.10028358698476969, 'bootstrap_type': 'Poisson', 'random_strength': 0.01048264914138786, 'bagging_temperature': 0.8691335460688419, 'od_type': 'Iter', 'od_wait': 35, 'min_data_in_leaf': 69}. Best is trial 22 with value: 0.033372292348449434.\n",
            "[I 2024-06-09 09:48:13,998] Trial 25 finished with value: 0.03081302664541107 and parameters: {'iterations': 970, 'learning_rate': 0.002864156077303335, 'depth': 10, 'l2_leaf_reg': 0.10144288473883313, 'bootstrap_type': 'Poisson', 'random_strength': 0.012390152252662564, 'bagging_temperature': 0.9076590174372186, 'od_type': 'Iter', 'od_wait': 35, 'min_data_in_leaf': 64}. Best is trial 22 with value: 0.033372292348449434.\n",
            "[I 2024-06-09 09:48:36,850] Trial 26 finished with value: 0.032672761869401774 and parameters: {'iterations': 927, 'learning_rate': 0.005185054815119507, 'depth': 10, 'l2_leaf_reg': 0.12073175561709418, 'bootstrap_type': 'Poisson', 'random_strength': 0.030005040736321844, 'bagging_temperature': 0.8157917401480089, 'od_type': 'Iter', 'od_wait': 38, 'min_data_in_leaf': 71}. Best is trial 22 with value: 0.033372292348449434.\n",
            "[I 2024-06-09 09:48:59,594] Trial 27 finished with value: 0.03392085655250141 and parameters: {'iterations': 915, 'learning_rate': 0.007914495750504855, 'depth': 10, 'l2_leaf_reg': 0.257802705551009, 'bootstrap_type': 'Poisson', 'random_strength': 0.006734219114628078, 'bagging_temperature': 0.9067373847028879, 'od_type': 'Iter', 'od_wait': 34, 'min_data_in_leaf': 60}. Best is trial 27 with value: 0.03392085655250141.\n",
            "[I 2024-06-09 09:49:06,816] Trial 28 finished with value: 0.030690207206318616 and parameters: {'iterations': 917, 'learning_rate': 0.008062506968109453, 'depth': 7, 'l2_leaf_reg': 0.25952578507773305, 'bootstrap_type': 'Poisson', 'random_strength': 0.007986240883371857, 'bagging_temperature': 0.9190179996893346, 'od_type': 'Iter', 'od_wait': 32, 'min_data_in_leaf': 58}. Best is trial 27 with value: 0.03392085655250141.\n",
            "[I 2024-06-09 09:49:16,015] Trial 29 finished with value: 0.03150665047023141 and parameters: {'iterations': 874, 'learning_rate': 0.007706178966081105, 'depth': 8, 'l2_leaf_reg': 0.3241951905702998, 'bootstrap_type': 'Poisson', 'random_strength': 0.005825305227609246, 'bagging_temperature': 0.9612824922201847, 'od_type': 'Iter', 'od_wait': 31, 'min_data_in_leaf': 61}. Best is trial 27 with value: 0.03392085655250141.\n",
            "[I 2024-06-09 09:49:24,702] Trial 30 finished with value: 0.029563698248467597 and parameters: {'iterations': 832, 'learning_rate': 0.004318846112342478, 'depth': 8, 'l2_leaf_reg': 0.16873515415099033, 'bootstrap_type': 'Poisson', 'random_strength': 0.003257863706902797, 'bagging_temperature': 0.9998331253521919, 'od_type': 'Iter', 'od_wait': 35, 'min_data_in_leaf': 57}. Best is trial 27 with value: 0.03392085655250141.\n",
            "[I 2024-06-09 09:49:48,299] Trial 31 finished with value: 0.03332063531551983 and parameters: {'iterations': 966, 'learning_rate': 0.0057632239426762795, 'depth': 10, 'l2_leaf_reg': 0.12746215156713356, 'bootstrap_type': 'Poisson', 'random_strength': 0.010839721251019084, 'bagging_temperature': 0.8804038237890022, 'od_type': 'Iter', 'od_wait': 35, 'min_data_in_leaf': 72}. Best is trial 27 with value: 0.03392085655250141.\n",
            "[I 2024-06-09 09:50:10,775] Trial 32 finished with value: 0.033150844496214325 and parameters: {'iterations': 912, 'learning_rate': 0.006104185813434482, 'depth': 10, 'l2_leaf_reg': 0.12480182982364858, 'bootstrap_type': 'Poisson', 'random_strength': 0.006579708568616952, 'bagging_temperature': 0.9169299726447117, 'od_type': 'Iter', 'od_wait': 37, 'min_data_in_leaf': 64}. Best is trial 27 with value: 0.03392085655250141.\n",
            "[I 2024-06-09 09:50:25,737] Trial 33 finished with value: 0.033484473114258555 and parameters: {'iterations': 953, 'learning_rate': 0.008548196008686747, 'depth': 9, 'l2_leaf_reg': 0.14548240611865124, 'bootstrap_type': 'Poisson', 'random_strength': 0.025288610430272345, 'bagging_temperature': 0.9365108407815819, 'od_type': 'Iter', 'od_wait': 34, 'min_data_in_leaf': 73}. Best is trial 27 with value: 0.03392085655250141.\n",
            "[I 2024-06-09 09:50:40,786] Trial 34 finished with value: 0.03341355702502512 and parameters: {'iterations': 950, 'learning_rate': 0.008509146078294281, 'depth': 9, 'l2_leaf_reg': 0.15043813691617702, 'bootstrap_type': 'Poisson', 'random_strength': 0.02777266471789876, 'bagging_temperature': 0.9414114791972179, 'od_type': 'Iter', 'od_wait': 34, 'min_data_in_leaf': 73}. Best is trial 27 with value: 0.03392085655250141.\n",
            "[I 2024-06-09 09:50:55,740] Trial 35 finished with value: 0.03355751825728731 and parameters: {'iterations': 947, 'learning_rate': 0.008888868956758068, 'depth': 9, 'l2_leaf_reg': 0.1555850705754486, 'bootstrap_type': 'Poisson', 'random_strength': 0.025136148701684312, 'bagging_temperature': 0.94311516180042, 'od_type': 'Iter', 'od_wait': 34, 'min_data_in_leaf': 73}. Best is trial 27 with value: 0.03392085655250141.\n",
            "[I 2024-06-09 09:51:10,819] Trial 36 finished with value: 0.03352303734310439 and parameters: {'iterations': 954, 'learning_rate': 0.008745990861279402, 'depth': 9, 'l2_leaf_reg': 0.15416803637873489, 'bootstrap_type': 'Poisson', 'random_strength': 0.028849336817633672, 'bagging_temperature': 0.9453657174416399, 'od_type': 'IncToDec', 'od_wait': 37, 'min_data_in_leaf': 78}. Best is trial 27 with value: 0.03392085655250141.\n",
            "[I 2024-06-09 09:51:20,766] Trial 37 finished with value: 0.03239790624207346 and parameters: {'iterations': 945, 'learning_rate': 0.009048636023140492, 'depth': 8, 'l2_leaf_reg': 0.24351630268936994, 'bootstrap_type': 'Poisson', 'random_strength': 0.03840135825702308, 'bagging_temperature': 0.8310136065542297, 'od_type': 'IncToDec', 'od_wait': 37, 'min_data_in_leaf': 77}. Best is trial 27 with value: 0.03392085655250141.\n",
            "[I 2024-06-09 09:51:36,079] Trial 38 finished with value: 0.03321803620952915 and parameters: {'iterations': 979, 'learning_rate': 0.00793695661596826, 'depth': 9, 'l2_leaf_reg': 0.17261987579651783, 'bootstrap_type': 'Poisson', 'random_strength': 0.04729195400819869, 'bagging_temperature': 0.9603920730309781, 'od_type': 'IncToDec', 'od_wait': 40, 'min_data_in_leaf': 67}. Best is trial 27 with value: 0.03392085655250141.\n",
            "[I 2024-06-09 09:51:45,772] Trial 39 finished with value: 0.03268493298662819 and parameters: {'iterations': 916, 'learning_rate': 0.009874949943742857, 'depth': 8, 'l2_leaf_reg': 0.16601046329296154, 'bootstrap_type': 'Poisson', 'random_strength': 0.02101410960223218, 'bagging_temperature': 0.7867328320130942, 'od_type': 'IncToDec', 'od_wait': 37, 'min_data_in_leaf': 75}. Best is trial 27 with value: 0.03392085655250141.\n",
            "[I 2024-06-09 09:51:49,610] Trial 40 finished with value: 0.02734813153078694 and parameters: {'iterations': 959, 'learning_rate': 0.007161873121290575, 'depth': 4, 'l2_leaf_reg': 0.21345034373517033, 'bootstrap_type': 'Poisson', 'random_strength': 0.0538379355633942, 'bagging_temperature': 0.8868160376773818, 'od_type': 'IncToDec', 'od_wait': 36, 'min_data_in_leaf': 79}. Best is trial 27 with value: 0.03392085655250141.\n",
            "[I 2024-06-09 09:52:04,487] Trial 41 finished with value: 0.03346287712069423 and parameters: {'iterations': 950, 'learning_rate': 0.008764671363310914, 'depth': 9, 'l2_leaf_reg': 0.15305661327337564, 'bootstrap_type': 'Poisson', 'random_strength': 0.02506843911644747, 'bagging_temperature': 0.9396938628717754, 'od_type': 'IncToDec', 'od_wait': 34, 'min_data_in_leaf': 73}. Best is trial 27 with value: 0.03392085655250141.\n",
            "[I 2024-06-09 09:52:19,388] Trial 42 finished with value: 0.03327352797259827 and parameters: {'iterations': 943, 'learning_rate': 0.008514264828751622, 'depth': 9, 'l2_leaf_reg': 0.2954644384291092, 'bootstrap_type': 'Poisson', 'random_strength': 0.02333210328543299, 'bagging_temperature': 0.9352943781246618, 'od_type': 'IncToDec', 'od_wait': 31, 'min_data_in_leaf': 74}. Best is trial 27 with value: 0.03392085655250141.\n",
            "[I 2024-06-09 09:52:34,048] Trial 43 finished with value: 0.03343301295314537 and parameters: {'iterations': 926, 'learning_rate': 0.008996748382096976, 'depth': 9, 'l2_leaf_reg': 0.14061854860478734, 'bootstrap_type': 'Poisson', 'random_strength': 0.09909037294219968, 'bagging_temperature': 0.8957315736171823, 'od_type': 'IncToDec', 'od_wait': 34, 'min_data_in_leaf': 65}. Best is trial 27 with value: 0.03392085655250141.\n",
            "[I 2024-06-09 09:52:44,298] Trial 44 finished with value: 0.03141133010577519 and parameters: {'iterations': 981, 'learning_rate': 0.006280906016636826, 'depth': 8, 'l2_leaf_reg': 0.18168565160185635, 'bootstrap_type': 'Poisson', 'random_strength': 0.018772581359904183, 'bagging_temperature': 0.9593936283386927, 'od_type': 'IncToDec', 'od_wait': 34, 'min_data_in_leaf': 78}. Best is trial 27 with value: 0.03392085655250141.\n",
            "[I 2024-06-09 09:52:51,130] Trial 45 finished with value: 0.030509375237227663 and parameters: {'iterations': 874, 'learning_rate': 0.007587677727825071, 'depth': 7, 'l2_leaf_reg': 0.13808573076433295, 'bootstrap_type': 'Poisson', 'random_strength': 0.015925889416352697, 'bagging_temperature': 0.6154432499594399, 'od_type': 'IncToDec', 'od_wait': 38, 'min_data_in_leaf': 73}. Best is trial 27 with value: 0.03392085655250141.\n",
            "[I 2024-06-09 09:53:06,035] Trial 46 finished with value: 0.03352168958681298 and parameters: {'iterations': 954, 'learning_rate': 0.009018224174984494, 'depth': 9, 'l2_leaf_reg': 0.15653326064010983, 'bootstrap_type': 'Poisson', 'random_strength': 0.012668634934888859, 'bagging_temperature': 0.8582808460806872, 'od_type': 'IncToDec', 'od_wait': 31, 'min_data_in_leaf': 55}. Best is trial 27 with value: 0.03392085655250141.\n",
            "[I 2024-06-09 09:53:15,529] Trial 47 finished with value: 0.028362340272248134 and parameters: {'iterations': 909, 'learning_rate': 0.001648818029406336, 'depth': 8, 'l2_leaf_reg': 0.19988217502577613, 'bootstrap_type': 'Poisson', 'random_strength': 0.03736383155803375, 'bagging_temperature': 0.8569559980617715, 'od_type': 'IncToDec', 'od_wait': 30, 'min_data_in_leaf': 54}. Best is trial 27 with value: 0.03392085655250141.\n",
            "[I 2024-06-09 09:53:21,094] Trial 48 finished with value: 0.030176116022225433 and parameters: {'iterations': 931, 'learning_rate': 0.009994057717755625, 'depth': 6, 'l2_leaf_reg': 0.11323646938203569, 'bootstrap_type': 'Poisson', 'random_strength': 0.01354443928797117, 'bagging_temperature': 0.9261330998350288, 'od_type': 'IncToDec', 'od_wait': 32, 'min_data_in_leaf': 61}. Best is trial 27 with value: 0.03392085655250141.\n",
            "[I 2024-06-09 09:53:24,612] Trial 49 finished with value: 0.026597059636162695 and parameters: {'iterations': 955, 'learning_rate': 0.00915168678582123, 'depth': 3, 'l2_leaf_reg': 0.237453499388234, 'bootstrap_type': 'Poisson', 'random_strength': 0.0388913933806585, 'bagging_temperature': 0.8998305011219488, 'od_type': 'IncToDec', 'od_wait': 31, 'min_data_in_leaf': 54}. Best is trial 27 with value: 0.03392085655250141.\n",
            "[I 2024-06-09 09:53:39,872] Trial 50 finished with value: 0.02860602737222108 and parameters: {'iterations': 980, 'learning_rate': 0.0011146743066596425, 'depth': 9, 'l2_leaf_reg': 0.1554206913919109, 'bootstrap_type': 'Poisson', 'random_strength': 0.014846231396841615, 'bagging_temperature': 0.8394231924190472, 'od_type': 'IncToDec', 'od_wait': 36, 'min_data_in_leaf': 95}. Best is trial 27 with value: 0.03392085655250141.\n",
            "[I 2024-06-09 09:53:54,724] Trial 51 finished with value: 0.03321199676435816 and parameters: {'iterations': 949, 'learning_rate': 0.008098637572755274, 'depth': 9, 'l2_leaf_reg': 0.16015554522063666, 'bootstrap_type': 'Poisson', 'random_strength': 0.025211314101795362, 'bagging_temperature': 0.9469280781427991, 'od_type': 'IncToDec', 'od_wait': 34, 'min_data_in_leaf': 57}. Best is trial 27 with value: 0.03392085655250141.\n",
            "[I 2024-06-09 09:54:09,528] Trial 52 finished with value: 0.029235094171823066 and parameters: {'iterations': 933, 'learning_rate': 0.0021843453901766656, 'depth': 9, 'l2_leaf_reg': 0.13641619209317143, 'bootstrap_type': 'Poisson', 'random_strength': 0.021076150645859205, 'bagging_temperature': 0.9718947016417756, 'od_type': 'IncToDec', 'od_wait': 32, 'min_data_in_leaf': 85}. Best is trial 27 with value: 0.03392085655250141.\n",
            "[I 2024-06-09 09:54:24,825] Trial 53 finished with value: 0.03365249445503108 and parameters: {'iterations': 976, 'learning_rate': 0.009050441839102648, 'depth': 9, 'l2_leaf_reg': 0.18720072866272236, 'bootstrap_type': 'Poisson', 'random_strength': 0.03317310824617635, 'bagging_temperature': 0.9291566102302192, 'od_type': 'IncToDec', 'od_wait': 36, 'min_data_in_leaf': 52}. Best is trial 27 with value: 0.03392085655250141.\n",
            "[I 2024-06-09 09:54:35,151] Trial 54 finished with value: 0.03193154784744072 and parameters: {'iterations': 977, 'learning_rate': 0.00737827274665322, 'depth': 8, 'l2_leaf_reg': 0.1929453942190219, 'bootstrap_type': 'Poisson', 'random_strength': 0.04886627619898334, 'bagging_temperature': 0.9092755286014591, 'od_type': 'IncToDec', 'od_wait': 39, 'min_data_in_leaf': 52}. Best is trial 27 with value: 0.03392085655250141.\n",
            "[I 2024-06-09 09:54:40,087] Trial 55 finished with value: 0.028620870238393405 and parameters: {'iterations': 988, 'learning_rate': 0.006460037762478315, 'depth': 5, 'l2_leaf_reg': 0.29143798486859807, 'bootstrap_type': 'Poisson', 'random_strength': 0.017873160234663454, 'bagging_temperature': 0.8619299663020912, 'od_type': 'IncToDec', 'od_wait': 50, 'min_data_in_leaf': 50}. Best is trial 27 with value: 0.03392085655250141.\n",
            "[I 2024-06-09 09:54:55,184] Trial 56 finished with value: 0.033497452383367536 and parameters: {'iterations': 961, 'learning_rate': 0.009010888518803196, 'depth': 9, 'l2_leaf_reg': 0.21522512067854838, 'bootstrap_type': 'Poisson', 'random_strength': 0.004765399246450276, 'bagging_temperature': 0.505019990613049, 'od_type': 'IncToDec', 'od_wait': 37, 'min_data_in_leaf': 55}. Best is trial 27 with value: 0.03392085655250141.\n",
            "[I 2024-06-09 09:55:14,963] Trial 57 finished with value: 0.0331136111305212 and parameters: {'iterations': 800, 'learning_rate': 0.007085663750168265, 'depth': 10, 'l2_leaf_reg': 0.3569213038956982, 'bootstrap_type': 'Poisson', 'random_strength': 0.005127172125757002, 'bagging_temperature': 0.7199713540430216, 'od_type': 'IncToDec', 'od_wait': 39, 'min_data_in_leaf': 55}. Best is trial 27 with value: 0.03392085655250141.\n",
            "[I 2024-06-09 09:55:30,295] Trial 58 finished with value: 0.03350499424339546 and parameters: {'iterations': 970, 'learning_rate': 0.009374043003347477, 'depth': 9, 'l2_leaf_reg': 0.21547828593536358, 'bootstrap_type': 'Bayesian', 'random_strength': 0.008995419187585705, 'bagging_temperature': 0.5033981540412538, 'od_type': 'IncToDec', 'od_wait': 37, 'min_data_in_leaf': 60}. Best is trial 27 with value: 0.03392085655250141.\n",
            "[I 2024-06-09 09:55:53,477] Trial 59 finished with value: 0.034417442152917505 and parameters: {'iterations': 938, 'learning_rate': 0.009395195435175464, 'depth': 10, 'l2_leaf_reg': 0.2663438769267117, 'bootstrap_type': 'Bayesian', 'random_strength': 0.008940150353342328, 'bagging_temperature': 0.5910870964661693, 'od_type': 'IncToDec', 'od_wait': 36, 'min_data_in_leaf': 59}. Best is trial 59 with value: 0.034417442152917505.\n",
            "[I 2024-06-09 09:56:14,569] Trial 60 finished with value: 0.03330521786905416 and parameters: {'iterations': 846, 'learning_rate': 0.007791575329353953, 'depth': 10, 'l2_leaf_reg': 0.2619126508613776, 'bootstrap_type': 'Bayesian', 'random_strength': 0.01176580792532009, 'bagging_temperature': 0.6214599733520999, 'od_type': 'IncToDec', 'od_wait': 36, 'min_data_in_leaf': 63}. Best is trial 59 with value: 0.034417442152917505.\n",
            "[I 2024-06-09 09:56:37,532] Trial 61 finished with value: 0.034513621731962 and parameters: {'iterations': 938, 'learning_rate': 0.009519645030885876, 'depth': 10, 'l2_leaf_reg': 0.21401329282327589, 'bootstrap_type': 'Bayesian', 'random_strength': 0.008908477941163105, 'bagging_temperature': 0.5615431740855065, 'od_type': 'IncToDec', 'od_wait': 38, 'min_data_in_leaf': 58}. Best is trial 61 with value: 0.034513621731962.\n",
            "[I 2024-06-09 09:57:00,651] Trial 62 finished with value: 0.03457977711761839 and parameters: {'iterations': 923, 'learning_rate': 0.00979258152234309, 'depth': 10, 'l2_leaf_reg': 0.2353487947977851, 'bootstrap_type': 'Bayesian', 'random_strength': 0.006712500647052562, 'bagging_temperature': 0.567278569703178, 'od_type': 'IncToDec', 'od_wait': 38, 'min_data_in_leaf': 59}. Best is trial 62 with value: 0.03457977711761839.\n",
            "[I 2024-06-09 09:57:23,312] Trial 63 finished with value: 0.03440566681571082 and parameters: {'iterations': 902, 'learning_rate': 0.009492516119695323, 'depth': 10, 'l2_leaf_reg': 0.25427705785648624, 'bootstrap_type': 'Bayesian', 'random_strength': 0.005924337451515463, 'bagging_temperature': 0.5682049191864333, 'od_type': 'IncToDec', 'od_wait': 38, 'min_data_in_leaf': 59}. Best is trial 62 with value: 0.03457977711761839.\n",
            "[I 2024-06-09 09:57:45,396] Trial 64 finished with value: 0.03438977164940776 and parameters: {'iterations': 885, 'learning_rate': 0.009789145047883925, 'depth': 10, 'l2_leaf_reg': 0.27403331248493507, 'bootstrap_type': 'Bayesian', 'random_strength': 0.0062724978777492415, 'bagging_temperature': 0.5533838668803698, 'od_type': 'IncToDec', 'od_wait': 40, 'min_data_in_leaf': 58}. Best is trial 62 with value: 0.03457977711761839.\n",
            "[I 2024-06-09 09:58:07,402] Trial 65 finished with value: 0.03430267155250712 and parameters: {'iterations': 883, 'learning_rate': 0.00960608428793693, 'depth': 10, 'l2_leaf_reg': 0.34642348062582773, 'bootstrap_type': 'Bayesian', 'random_strength': 0.006468317403769707, 'bagging_temperature': 0.5700269381695388, 'od_type': 'IncToDec', 'od_wait': 40, 'min_data_in_leaf': 58}. Best is trial 62 with value: 0.03457977711761839.\n",
            "[I 2024-06-09 09:58:29,250] Trial 66 finished with value: 0.03424920628699095 and parameters: {'iterations': 886, 'learning_rate': 0.00989909780766778, 'depth': 10, 'l2_leaf_reg': 0.35143851719876074, 'bootstrap_type': 'Bayesian', 'random_strength': 0.006837912148217569, 'bagging_temperature': 0.5681598014685998, 'od_type': 'IncToDec', 'od_wait': 41, 'min_data_in_leaf': 58}. Best is trial 62 with value: 0.03457977711761839.\n",
            "[I 2024-06-09 09:58:51,162] Trial 67 finished with value: 0.03439818841431404 and parameters: {'iterations': 884, 'learning_rate': 0.009930793851837427, 'depth': 10, 'l2_leaf_reg': 0.34750597800876337, 'bootstrap_type': 'Bayesian', 'random_strength': 0.0035201287713318985, 'bagging_temperature': 0.5665656273548965, 'od_type': 'IncToDec', 'od_wait': 43, 'min_data_in_leaf': 62}. Best is trial 62 with value: 0.03457977711761839.\n",
            "[I 2024-06-09 09:59:12,801] Trial 68 finished with value: 0.03415091391970005 and parameters: {'iterations': 866, 'learning_rate': 0.009924058912957888, 'depth': 10, 'l2_leaf_reg': 0.48405173732598417, 'bootstrap_type': 'Bayesian', 'random_strength': 0.005733364987115553, 'bagging_temperature': 0.5415120875400259, 'od_type': 'IncToDec', 'od_wait': 44, 'min_data_in_leaf': 62}. Best is trial 62 with value: 0.03457977711761839.\n",
            "[I 2024-06-09 09:59:35,315] Trial 69 finished with value: 0.03342286346783494 and parameters: {'iterations': 903, 'learning_rate': 0.006802871542411975, 'depth': 10, 'l2_leaf_reg': 0.28549810471770426, 'bootstrap_type': 'Bayesian', 'random_strength': 0.003199916554538001, 'bagging_temperature': 0.5888402894425795, 'od_type': 'IncToDec', 'od_wait': 40, 'min_data_in_leaf': 59}. Best is trial 62 with value: 0.03457977711761839.\n",
            "[I 2024-06-09 09:59:57,099] Trial 70 finished with value: 0.03351690971144896 and parameters: {'iterations': 881, 'learning_rate': 0.00815024403988018, 'depth': 10, 'l2_leaf_reg': 0.4208952311421213, 'bootstrap_type': 'Bayesian', 'random_strength': 0.0035262373313911174, 'bagging_temperature': 0.5854549024856752, 'od_type': 'IncToDec', 'od_wait': 43, 'min_data_in_leaf': 56}. Best is trial 62 with value: 0.03457977711761839.\n",
            "[I 2024-06-09 10:00:19,160] Trial 71 finished with value: 0.03425377937552001 and parameters: {'iterations': 888, 'learning_rate': 0.009881321071418678, 'depth': 10, 'l2_leaf_reg': 0.34012742925442757, 'bootstrap_type': 'Bayesian', 'random_strength': 0.009413849650417765, 'bagging_temperature': 0.5650424277086245, 'od_type': 'IncToDec', 'od_wait': 41, 'min_data_in_leaf': 58}. Best is trial 62 with value: 0.03457977711761839.\n",
            "[I 2024-06-09 10:00:41,515] Trial 72 finished with value: 0.03423396604805289 and parameters: {'iterations': 897, 'learning_rate': 0.009544398084889116, 'depth': 10, 'l2_leaf_reg': 0.32797399375906, 'bootstrap_type': 'Bayesian', 'random_strength': 0.009486957536976294, 'bagging_temperature': 0.5614529601387145, 'od_type': 'IncToDec', 'od_wait': 41, 'min_data_in_leaf': 59}. Best is trial 62 with value: 0.03457977711761839.\n",
            "[I 2024-06-09 10:01:03,024] Trial 73 finished with value: 0.033516428022033515 and parameters: {'iterations': 865, 'learning_rate': 0.008309259993023845, 'depth': 10, 'l2_leaf_reg': 0.3888941509353949, 'bootstrap_type': 'Bayesian', 'random_strength': 0.004187469747361053, 'bagging_temperature': 0.5316093199381351, 'od_type': 'IncToDec', 'od_wait': 42, 'min_data_in_leaf': 66}. Best is trial 62 with value: 0.03457977711761839.\n",
            "[I 2024-06-09 10:01:24,153] Trial 74 finished with value: 0.03418937586336808 and parameters: {'iterations': 847, 'learning_rate': 0.009985454206594649, 'depth': 10, 'l2_leaf_reg': 0.2710734950452073, 'bootstrap_type': 'Bayesian', 'random_strength': 0.008088851866094333, 'bagging_temperature': 0.6054798831118406, 'od_type': 'IncToDec', 'od_wait': 43, 'min_data_in_leaf': 62}. Best is trial 62 with value: 0.03457977711761839.\n",
            "[I 2024-06-09 10:01:46,635] Trial 75 finished with value: 0.03336720998611316 and parameters: {'iterations': 905, 'learning_rate': 0.0074510644976066576, 'depth': 10, 'l2_leaf_reg': 0.32113516742198783, 'bootstrap_type': 'Bayesian', 'random_strength': 0.005899223270159109, 'bagging_temperature': 0.6356845383377099, 'od_type': 'IncToDec', 'od_wait': 40, 'min_data_in_leaf': 57}. Best is trial 62 with value: 0.03457977711761839.\n",
            "[I 2024-06-09 10:02:09,373] Trial 76 finished with value: 0.03428177488092254 and parameters: {'iterations': 922, 'learning_rate': 0.00938848704189516, 'depth': 10, 'l2_leaf_reg': 0.3049655523399104, 'bootstrap_type': 'Bayesian', 'random_strength': 0.001821081698578889, 'bagging_temperature': 0.5260877395133493, 'od_type': 'IncToDec', 'od_wait': 38, 'min_data_in_leaf': 59}. Best is trial 62 with value: 0.03457977711761839.\n",
            "[I 2024-06-09 10:02:32,243] Trial 77 finished with value: 0.03441244745592572 and parameters: {'iterations': 926, 'learning_rate': 0.009394887188700326, 'depth': 10, 'l2_leaf_reg': 0.2399047988490761, 'bootstrap_type': 'Bayesian', 'random_strength': 0.0013369234139833743, 'bagging_temperature': 0.5222839431525486, 'od_type': 'IncToDec', 'od_wait': 47, 'min_data_in_leaf': 61}. Best is trial 62 with value: 0.03457977711761839.\n",
            "[I 2024-06-09 10:02:53,937] Trial 78 finished with value: 0.03382657268667631 and parameters: {'iterations': 877, 'learning_rate': 0.008368579536866923, 'depth': 10, 'l2_leaf_reg': 0.24326882064350686, 'bootstrap_type': 'Bayesian', 'random_strength': 0.0013656289782945721, 'bagging_temperature': 0.5494819768866129, 'od_type': 'IncToDec', 'od_wait': 48, 'min_data_in_leaf': 63}. Best is trial 62 with value: 0.03457977711761839.\n",
            "[I 2024-06-09 10:03:17,048] Trial 79 finished with value: 0.030958631302616096 and parameters: {'iterations': 921, 'learning_rate': 0.0035599955895776205, 'depth': 10, 'l2_leaf_reg': 0.2741035220006729, 'bootstrap_type': 'Bayesian', 'random_strength': 0.0014937521909162965, 'bagging_temperature': 0.5173957476673693, 'od_type': 'IncToDec', 'od_wait': 39, 'min_data_in_leaf': 61}. Best is trial 62 with value: 0.03457977711761839.\n",
            "[I 2024-06-09 10:03:38,426] Trial 80 finished with value: 0.0327073335794266 and parameters: {'iterations': 856, 'learning_rate': 0.005938667015886675, 'depth': 10, 'l2_leaf_reg': 0.23443286103621938, 'bootstrap_type': 'Bayesian', 'random_strength': 0.004634494155531465, 'bagging_temperature': 0.5761452493384694, 'od_type': 'IncToDec', 'od_wait': 47, 'min_data_in_leaf': 65}. Best is trial 62 with value: 0.03457977711761839.\n",
            "[I 2024-06-09 10:04:01,079] Trial 81 finished with value: 0.03433890357033633 and parameters: {'iterations': 922, 'learning_rate': 0.009436815421246188, 'depth': 10, 'l2_leaf_reg': 0.25290408735585457, 'bootstrap_type': 'Bayesian', 'random_strength': 0.0020037843732083403, 'bagging_temperature': 0.5296606919779466, 'od_type': 'IncToDec', 'od_wait': 38, 'min_data_in_leaf': 59}. Best is trial 62 with value: 0.03457977711761839.\n",
            "[I 2024-06-09 10:04:24,107] Trial 82 finished with value: 0.034119276608731715 and parameters: {'iterations': 939, 'learning_rate': 0.008584299314321878, 'depth': 10, 'l2_leaf_reg': 0.25094416979061385, 'bootstrap_type': 'Bayesian', 'random_strength': 0.0029265230627278167, 'bagging_temperature': 0.6001895180485857, 'od_type': 'IncToDec', 'od_wait': 39, 'min_data_in_leaf': 56}. Best is trial 62 with value: 0.03457977711761839.\n",
            "[I 2024-06-09 10:04:46,294] Trial 83 finished with value: 0.03426549891599552 and parameters: {'iterations': 897, 'learning_rate': 0.009396377363009202, 'depth': 10, 'l2_leaf_reg': 0.22523198654648424, 'bootstrap_type': 'Bayesian', 'random_strength': 0.0010553260342508375, 'bagging_temperature': 0.5460728041920789, 'od_type': 'IncToDec', 'od_wait': 38, 'min_data_in_leaf': 60}. Best is trial 62 with value: 0.03457977711761839.\n",
            "[I 2024-06-09 10:05:08,771] Trial 84 finished with value: 0.03354148082069581 and parameters: {'iterations': 912, 'learning_rate': 0.007866665217345034, 'depth': 10, 'l2_leaf_reg': 0.30666550673339593, 'bootstrap_type': 'Bayesian', 'random_strength': 0.001986068823540001, 'bagging_temperature': 0.5542125180809747, 'od_type': 'IncToDec', 'od_wait': 45, 'min_data_in_leaf': 53}. Best is trial 62 with value: 0.03457977711761839.\n",
            "[I 2024-06-09 10:05:29,347] Trial 85 finished with value: 0.03369551661782129 and parameters: {'iterations': 826, 'learning_rate': 0.008607232514471664, 'depth': 10, 'l2_leaf_reg': 0.2263328566017345, 'bootstrap_type': 'Bayesian', 'random_strength': 0.0015303853075125079, 'bagging_temperature': 0.6587458825195384, 'od_type': 'IncToDec', 'od_wait': 40, 'min_data_in_leaf': 62}. Best is trial 62 with value: 0.03457977711761839.\n",
            "[I 2024-06-09 10:05:52,458] Trial 86 finished with value: 0.0300077096385452 and parameters: {'iterations': 933, 'learning_rate': 0.002393542941439377, 'depth': 10, 'l2_leaf_reg': 0.2794825967959166, 'bootstrap_type': 'Bayesian', 'random_strength': 0.007594476242828674, 'bagging_temperature': 0.5187807822699062, 'od_type': 'IncToDec', 'od_wait': 39, 'min_data_in_leaf': 68}. Best is trial 62 with value: 0.03457977711761839.\n",
            "[I 2024-06-09 10:06:14,815] Trial 87 finished with value: 0.0341815449400825 and parameters: {'iterations': 906, 'learning_rate': 0.00939238427016784, 'depth': 10, 'l2_leaf_reg': 0.369815403975732, 'bootstrap_type': 'Bayesian', 'random_strength': 0.006023365297626704, 'bagging_temperature': 0.5781459534676614, 'od_type': 'IncToDec', 'od_wait': 38, 'min_data_in_leaf': 57}. Best is trial 62 with value: 0.03457977711761839.\n",
            "[I 2024-06-09 10:06:36,614] Trial 88 finished with value: 0.029268694246542538 and parameters: {'iterations': 892, 'learning_rate': 0.0013698143102859022, 'depth': 10, 'l2_leaf_reg': 0.2073799180412504, 'bootstrap_type': 'Bayesian', 'random_strength': 0.0027308992952892134, 'bagging_temperature': 0.5921195997527671, 'od_type': 'IncToDec', 'od_wait': 49, 'min_data_in_leaf': 59}. Best is trial 62 with value: 0.03457977711761839.\n",
            "[I 2024-06-09 10:06:59,520] Trial 89 finished with value: 0.03347150660519893 and parameters: {'iterations': 925, 'learning_rate': 0.007111287653937804, 'depth': 10, 'l2_leaf_reg': 0.2541594957215378, 'bootstrap_type': 'Bayesian', 'random_strength': 0.002172578217496864, 'bagging_temperature': 0.5348269598737534, 'od_type': 'IncToDec', 'od_wait': 41, 'min_data_in_leaf': 63}. Best is trial 62 with value: 0.03457977711761839.\n",
            "[I 2024-06-09 10:07:21,560] Trial 90 finished with value: 0.03334573816501527 and parameters: {'iterations': 884, 'learning_rate': 0.00761042803141504, 'depth': 10, 'l2_leaf_reg': 0.26493805346454063, 'bootstrap_type': 'Bayesian', 'random_strength': 0.010874453171056078, 'bagging_temperature': 0.5551845731056524, 'od_type': 'IncToDec', 'od_wait': 38, 'min_data_in_leaf': 56}. Best is trial 62 with value: 0.03457977711761839.\n",
            "[I 2024-06-09 10:07:44,276] Trial 91 finished with value: 0.03421466767927468 and parameters: {'iterations': 919, 'learning_rate': 0.009428878810323482, 'depth': 10, 'l2_leaf_reg': 0.30062670026017835, 'bootstrap_type': 'Bayesian', 'random_strength': 0.001800644677427868, 'bagging_temperature': 0.5234045246462983, 'od_type': 'IncToDec', 'od_wait': 38, 'min_data_in_leaf': 59}. Best is trial 62 with value: 0.03457977711761839.\n",
            "[I 2024-06-09 10:08:07,567] Trial 92 finished with value: 0.03434511043972386 and parameters: {'iterations': 940, 'learning_rate': 0.009297364384794593, 'depth': 10, 'l2_leaf_reg': 0.3073421799871882, 'bootstrap_type': 'Bayesian', 'random_strength': 0.0011853765498702196, 'bagging_temperature': 0.570995751749303, 'od_type': 'IncToDec', 'od_wait': 40, 'min_data_in_leaf': 61}. Best is trial 62 with value: 0.03457977711761839.\n",
            "[I 2024-06-09 10:08:11,927] Trial 93 finished with value: 0.028887592877322406 and parameters: {'iterations': 933, 'learning_rate': 0.008130201252054103, 'depth': 5, 'l2_leaf_reg': 0.3364690077669894, 'bootstrap_type': 'Bayesian', 'random_strength': 0.0012347848855822012, 'bagging_temperature': 0.5741899575933591, 'od_type': 'IncToDec', 'od_wait': 40, 'min_data_in_leaf': 61}. Best is trial 62 with value: 0.03457977711761839.\n",
            "[I 2024-06-09 10:08:33,412] Trial 94 finished with value: 0.03379943381659089 and parameters: {'iterations': 870, 'learning_rate': 0.008801130649743293, 'depth': 10, 'l2_leaf_reg': 0.31149368608260347, 'bootstrap_type': 'Bayesian', 'random_strength': 0.0015473855617274138, 'bagging_temperature': 0.5976581496964113, 'od_type': 'IncToDec', 'od_wait': 39, 'min_data_in_leaf': 64}. Best is trial 62 with value: 0.03457977711761839.\n",
            "[I 2024-06-09 10:08:56,786] Trial 95 finished with value: 0.034541131267321744 and parameters: {'iterations': 941, 'learning_rate': 0.009428561249331923, 'depth': 10, 'l2_leaf_reg': 0.23199543682936993, 'bootstrap_type': 'Bayesian', 'random_strength': 0.008215309733351205, 'bagging_temperature': 0.6081104270173404, 'od_type': 'IncToDec', 'od_wait': 43, 'min_data_in_leaf': 58}. Best is trial 62 with value: 0.03457977711761839.\n",
            "[I 2024-06-09 10:09:11,580] Trial 96 finished with value: 0.03301242212048453 and parameters: {'iterations': 940, 'learning_rate': 0.008393496383311787, 'depth': 9, 'l2_leaf_reg': 0.22913690462752787, 'bootstrap_type': 'Bayesian', 'random_strength': 0.0010387014649599817, 'bagging_temperature': 0.5110873338219634, 'od_type': 'IncToDec', 'od_wait': 43, 'min_data_in_leaf': 54}. Best is trial 62 with value: 0.03457977711761839.\n",
            "[I 2024-06-09 10:09:34,544] Trial 97 finished with value: 0.03426991880133813 and parameters: {'iterations': 927, 'learning_rate': 0.009148708093823133, 'depth': 10, 'l2_leaf_reg': 0.2465079551585979, 'bootstrap_type': 'Bayesian', 'random_strength': 0.00821964465701758, 'bagging_temperature': 0.6125334024216542, 'od_type': 'IncToDec', 'od_wait': 37, 'min_data_in_leaf': 60}. Best is trial 62 with value: 0.03457977711761839.\n",
            "[I 2024-06-09 10:09:49,488] Trial 98 finished with value: 0.033351672620477495 and parameters: {'iterations': 943, 'learning_rate': 0.00884126048620672, 'depth': 9, 'l2_leaf_reg': 0.20334763887432994, 'bootstrap_type': 'Bayesian', 'random_strength': 0.007194321620434411, 'bagging_temperature': 0.636191279630506, 'od_type': 'IncToDec', 'od_wait': 45, 'min_data_in_leaf': 66}. Best is trial 62 with value: 0.03457977711761839.\n",
            "[I 2024-06-09 10:10:12,191] Trial 99 finished with value: 0.030563414193703727 and parameters: {'iterations': 912, 'learning_rate': 0.0030536729861363274, 'depth': 10, 'l2_leaf_reg': 0.17884796863943284, 'bootstrap_type': 'Bayesian', 'random_strength': 0.0038907339737831803, 'bagging_temperature': 0.5403833856327787, 'od_type': 'IncToDec', 'od_wait': 44, 'min_data_in_leaf': 62}. Best is trial 62 with value: 0.03457977711761839.\n"
          ]
        }
      ],
      "source": [
        "study_res_cat = optuna.create_study(study_name=\"catboost_res\",\n",
        "                                    direction='maximize',\n",
        "                                    pruner=\"MedianPruner\",\n",
        "                                    sampler=sampler)\n",
        "\n",
        "study_res_cat.optimize(objective_res_cat, n_trials=100)"
      ]
    },
    {
      "cell_type": "code",
      "execution_count": null,
      "metadata": {
        "colab": {
          "base_uri": "https://localhost:8080/"
        },
        "id": "P_k-Rb0YYLxk",
        "outputId": "11106909-ee53-44d6-adce-b0f502b111c8"
      },
      "outputs": [
        {
          "name": "stdout",
          "output_type": "stream",
          "text": [
            "Best hyperparameters:\n",
            "{'iterations': 923, 'learning_rate': 0.00979258152234309, 'depth': 10, 'l2_leaf_reg': 0.2353487947977851, 'bootstrap_type': 'Bayesian', 'random_strength': 0.006712500647052562, 'bagging_temperature': 0.567278569703178, 'od_type': 'IncToDec', 'od_wait': 38, 'min_data_in_leaf': 59}\n",
            "-----------------------------------------------------------------------------------------------------------------\n",
            "Best CSI Index:\n",
            "0.03457977711761839\n"
          ]
        }
      ],
      "source": [
        "print(\"Best hyperparameters:\", study_res_cat.best_params, sep=\"\\n\")\n",
        "print(\"-----------------------------------------------------------------------------------------------------------------\")\n",
        "print(\"Best CSI Index:\", study_res_cat.best_value, sep=\"\\n\")"
      ]
    },
    {
      "cell_type": "code",
      "execution_count": null,
      "metadata": {
        "colab": {
          "base_uri": "https://localhost:8080/",
          "height": 542
        },
        "id": "2c3QDVilfGHS",
        "outputId": "54c0914b-6b79-4c3c-acd8-2618ec61d7c9"
      },
      "outputs": [
        {
          "data": {
            "text/html": [
              "<html>\n",
              "<head><meta charset=\"utf-8\" /></head>\n",
              "<body>\n",
              "    <div>            <script src=\"https://cdnjs.cloudflare.com/ajax/libs/mathjax/2.7.5/MathJax.js?config=TeX-AMS-MML_SVG\"></script><script type=\"text/javascript\">if (window.MathJax && window.MathJax.Hub && window.MathJax.Hub.Config) {window.MathJax.Hub.Config({SVG: {font: \"STIX-Web\"}});}</script>                <script type=\"text/javascript\">window.PlotlyConfig = {MathJaxConfig: 'local'};</script>\n",
              "        <script charset=\"utf-8\" src=\"https://cdn.plot.ly/plotly-2.24.1.min.js\"></script>                <div id=\"f050014f-644a-4fcb-b450-600029cdedae\" class=\"plotly-graph-div\" style=\"height:525px; width:100%;\"></div>            <script type=\"text/javascript\">                                    window.PLOTLYENV=window.PLOTLYENV || {};                                    if (document.getElementById(\"f050014f-644a-4fcb-b450-600029cdedae\")) {                    Plotly.newPlot(                        \"f050014f-644a-4fcb-b450-600029cdedae\",                        [{\"cliponaxis\":false,\"hovertemplate\":[\"bootstrap_type (CategoricalDistribution): 0.0005384178471737211\\u003cextra\\u003e\\u003c\\u002fextra\\u003e\",\"od_type (CategoricalDistribution): 0.0013985827099413839\\u003cextra\\u003e\\u003c\\u002fextra\\u003e\",\"od_wait (IntDistribution): 0.0017876074125462783\\u003cextra\\u003e\\u003c\\u002fextra\\u003e\",\"bagging_temperature (FloatDistribution): 0.003346962996130359\\u003cextra\\u003e\\u003c\\u002fextra\\u003e\",\"random_strength (FloatDistribution): 0.004008445087124432\\u003cextra\\u003e\\u003c\\u002fextra\\u003e\",\"min_data_in_leaf (IntDistribution): 0.005978276979992328\\u003cextra\\u003e\\u003c\\u002fextra\\u003e\",\"iterations (IntDistribution): 0.006404254956157762\\u003cextra\\u003e\\u003c\\u002fextra\\u003e\",\"l2_leaf_reg (FloatDistribution): 0.015399776692537271\\u003cextra\\u003e\\u003c\\u002fextra\\u003e\",\"learning_rate (FloatDistribution): 0.2600240696598547\\u003cextra\\u003e\\u003c\\u002fextra\\u003e\",\"depth (IntDistribution): 0.7011136056585419\\u003cextra\\u003e\\u003c\\u002fextra\\u003e\"],\"name\":\"Objective Value\",\"orientation\":\"h\",\"text\":[\"\\u003c0.01\",\"\\u003c0.01\",\"\\u003c0.01\",\"\\u003c0.01\",\"\\u003c0.01\",\"\\u003c0.01\",\"\\u003c0.01\",\"0.02\",\"0.26\",\"0.70\"],\"textposition\":\"outside\",\"x\":[0.0005384178471737211,0.0013985827099413839,0.0017876074125462783,0.003346962996130359,0.004008445087124432,0.005978276979992328,0.006404254956157762,0.015399776692537271,0.2600240696598547,0.7011136056585419],\"y\":[\"bootstrap_type\",\"od_type\",\"od_wait\",\"bagging_temperature\",\"random_strength\",\"min_data_in_leaf\",\"iterations\",\"l2_leaf_reg\",\"learning_rate\",\"depth\"],\"type\":\"bar\"}],                        {\"title\":{\"text\":\"Hyperparameter Importances\"},\"xaxis\":{\"title\":{\"text\":\"Hyperparameter Importance\"}},\"yaxis\":{\"title\":{\"text\":\"Hyperparameter\"}},\"template\":{\"data\":{\"histogram2dcontour\":[{\"type\":\"histogram2dcontour\",\"colorbar\":{\"outlinewidth\":0,\"ticks\":\"\"},\"colorscale\":[[0.0,\"#0d0887\"],[0.1111111111111111,\"#46039f\"],[0.2222222222222222,\"#7201a8\"],[0.3333333333333333,\"#9c179e\"],[0.4444444444444444,\"#bd3786\"],[0.5555555555555556,\"#d8576b\"],[0.6666666666666666,\"#ed7953\"],[0.7777777777777778,\"#fb9f3a\"],[0.8888888888888888,\"#fdca26\"],[1.0,\"#f0f921\"]]}],\"choropleth\":[{\"type\":\"choropleth\",\"colorbar\":{\"outlinewidth\":0,\"ticks\":\"\"}}],\"histogram2d\":[{\"type\":\"histogram2d\",\"colorbar\":{\"outlinewidth\":0,\"ticks\":\"\"},\"colorscale\":[[0.0,\"#0d0887\"],[0.1111111111111111,\"#46039f\"],[0.2222222222222222,\"#7201a8\"],[0.3333333333333333,\"#9c179e\"],[0.4444444444444444,\"#bd3786\"],[0.5555555555555556,\"#d8576b\"],[0.6666666666666666,\"#ed7953\"],[0.7777777777777778,\"#fb9f3a\"],[0.8888888888888888,\"#fdca26\"],[1.0,\"#f0f921\"]]}],\"heatmap\":[{\"type\":\"heatmap\",\"colorbar\":{\"outlinewidth\":0,\"ticks\":\"\"},\"colorscale\":[[0.0,\"#0d0887\"],[0.1111111111111111,\"#46039f\"],[0.2222222222222222,\"#7201a8\"],[0.3333333333333333,\"#9c179e\"],[0.4444444444444444,\"#bd3786\"],[0.5555555555555556,\"#d8576b\"],[0.6666666666666666,\"#ed7953\"],[0.7777777777777778,\"#fb9f3a\"],[0.8888888888888888,\"#fdca26\"],[1.0,\"#f0f921\"]]}],\"heatmapgl\":[{\"type\":\"heatmapgl\",\"colorbar\":{\"outlinewidth\":0,\"ticks\":\"\"},\"colorscale\":[[0.0,\"#0d0887\"],[0.1111111111111111,\"#46039f\"],[0.2222222222222222,\"#7201a8\"],[0.3333333333333333,\"#9c179e\"],[0.4444444444444444,\"#bd3786\"],[0.5555555555555556,\"#d8576b\"],[0.6666666666666666,\"#ed7953\"],[0.7777777777777778,\"#fb9f3a\"],[0.8888888888888888,\"#fdca26\"],[1.0,\"#f0f921\"]]}],\"contourcarpet\":[{\"type\":\"contourcarpet\",\"colorbar\":{\"outlinewidth\":0,\"ticks\":\"\"}}],\"contour\":[{\"type\":\"contour\",\"colorbar\":{\"outlinewidth\":0,\"ticks\":\"\"},\"colorscale\":[[0.0,\"#0d0887\"],[0.1111111111111111,\"#46039f\"],[0.2222222222222222,\"#7201a8\"],[0.3333333333333333,\"#9c179e\"],[0.4444444444444444,\"#bd3786\"],[0.5555555555555556,\"#d8576b\"],[0.6666666666666666,\"#ed7953\"],[0.7777777777777778,\"#fb9f3a\"],[0.8888888888888888,\"#fdca26\"],[1.0,\"#f0f921\"]]}],\"surface\":[{\"type\":\"surface\",\"colorbar\":{\"outlinewidth\":0,\"ticks\":\"\"},\"colorscale\":[[0.0,\"#0d0887\"],[0.1111111111111111,\"#46039f\"],[0.2222222222222222,\"#7201a8\"],[0.3333333333333333,\"#9c179e\"],[0.4444444444444444,\"#bd3786\"],[0.5555555555555556,\"#d8576b\"],[0.6666666666666666,\"#ed7953\"],[0.7777777777777778,\"#fb9f3a\"],[0.8888888888888888,\"#fdca26\"],[1.0,\"#f0f921\"]]}],\"mesh3d\":[{\"type\":\"mesh3d\",\"colorbar\":{\"outlinewidth\":0,\"ticks\":\"\"}}],\"scatter\":[{\"fillpattern\":{\"fillmode\":\"overlay\",\"size\":10,\"solidity\":0.2},\"type\":\"scatter\"}],\"parcoords\":[{\"type\":\"parcoords\",\"line\":{\"colorbar\":{\"outlinewidth\":0,\"ticks\":\"\"}}}],\"scatterpolargl\":[{\"type\":\"scatterpolargl\",\"marker\":{\"colorbar\":{\"outlinewidth\":0,\"ticks\":\"\"}}}],\"bar\":[{\"error_x\":{\"color\":\"#2a3f5f\"},\"error_y\":{\"color\":\"#2a3f5f\"},\"marker\":{\"line\":{\"color\":\"#E5ECF6\",\"width\":0.5},\"pattern\":{\"fillmode\":\"overlay\",\"size\":10,\"solidity\":0.2}},\"type\":\"bar\"}],\"scattergeo\":[{\"type\":\"scattergeo\",\"marker\":{\"colorbar\":{\"outlinewidth\":0,\"ticks\":\"\"}}}],\"scatterpolar\":[{\"type\":\"scatterpolar\",\"marker\":{\"colorbar\":{\"outlinewidth\":0,\"ticks\":\"\"}}}],\"histogram\":[{\"marker\":{\"pattern\":{\"fillmode\":\"overlay\",\"size\":10,\"solidity\":0.2}},\"type\":\"histogram\"}],\"scattergl\":[{\"type\":\"scattergl\",\"marker\":{\"colorbar\":{\"outlinewidth\":0,\"ticks\":\"\"}}}],\"scatter3d\":[{\"type\":\"scatter3d\",\"line\":{\"colorbar\":{\"outlinewidth\":0,\"ticks\":\"\"}},\"marker\":{\"colorbar\":{\"outlinewidth\":0,\"ticks\":\"\"}}}],\"scattermapbox\":[{\"type\":\"scattermapbox\",\"marker\":{\"colorbar\":{\"outlinewidth\":0,\"ticks\":\"\"}}}],\"scatterternary\":[{\"type\":\"scatterternary\",\"marker\":{\"colorbar\":{\"outlinewidth\":0,\"ticks\":\"\"}}}],\"scattercarpet\":[{\"type\":\"scattercarpet\",\"marker\":{\"colorbar\":{\"outlinewidth\":0,\"ticks\":\"\"}}}],\"carpet\":[{\"aaxis\":{\"endlinecolor\":\"#2a3f5f\",\"gridcolor\":\"white\",\"linecolor\":\"white\",\"minorgridcolor\":\"white\",\"startlinecolor\":\"#2a3f5f\"},\"baxis\":{\"endlinecolor\":\"#2a3f5f\",\"gridcolor\":\"white\",\"linecolor\":\"white\",\"minorgridcolor\":\"white\",\"startlinecolor\":\"#2a3f5f\"},\"type\":\"carpet\"}],\"table\":[{\"cells\":{\"fill\":{\"color\":\"#EBF0F8\"},\"line\":{\"color\":\"white\"}},\"header\":{\"fill\":{\"color\":\"#C8D4E3\"},\"line\":{\"color\":\"white\"}},\"type\":\"table\"}],\"barpolar\":[{\"marker\":{\"line\":{\"color\":\"#E5ECF6\",\"width\":0.5},\"pattern\":{\"fillmode\":\"overlay\",\"size\":10,\"solidity\":0.2}},\"type\":\"barpolar\"}],\"pie\":[{\"automargin\":true,\"type\":\"pie\"}]},\"layout\":{\"autotypenumbers\":\"strict\",\"colorway\":[\"#636efa\",\"#EF553B\",\"#00cc96\",\"#ab63fa\",\"#FFA15A\",\"#19d3f3\",\"#FF6692\",\"#B6E880\",\"#FF97FF\",\"#FECB52\"],\"font\":{\"color\":\"#2a3f5f\"},\"hovermode\":\"closest\",\"hoverlabel\":{\"align\":\"left\"},\"paper_bgcolor\":\"white\",\"plot_bgcolor\":\"#E5ECF6\",\"polar\":{\"bgcolor\":\"#E5ECF6\",\"angularaxis\":{\"gridcolor\":\"white\",\"linecolor\":\"white\",\"ticks\":\"\"},\"radialaxis\":{\"gridcolor\":\"white\",\"linecolor\":\"white\",\"ticks\":\"\"}},\"ternary\":{\"bgcolor\":\"#E5ECF6\",\"aaxis\":{\"gridcolor\":\"white\",\"linecolor\":\"white\",\"ticks\":\"\"},\"baxis\":{\"gridcolor\":\"white\",\"linecolor\":\"white\",\"ticks\":\"\"},\"caxis\":{\"gridcolor\":\"white\",\"linecolor\":\"white\",\"ticks\":\"\"}},\"coloraxis\":{\"colorbar\":{\"outlinewidth\":0,\"ticks\":\"\"}},\"colorscale\":{\"sequential\":[[0.0,\"#0d0887\"],[0.1111111111111111,\"#46039f\"],[0.2222222222222222,\"#7201a8\"],[0.3333333333333333,\"#9c179e\"],[0.4444444444444444,\"#bd3786\"],[0.5555555555555556,\"#d8576b\"],[0.6666666666666666,\"#ed7953\"],[0.7777777777777778,\"#fb9f3a\"],[0.8888888888888888,\"#fdca26\"],[1.0,\"#f0f921\"]],\"sequentialminus\":[[0.0,\"#0d0887\"],[0.1111111111111111,\"#46039f\"],[0.2222222222222222,\"#7201a8\"],[0.3333333333333333,\"#9c179e\"],[0.4444444444444444,\"#bd3786\"],[0.5555555555555556,\"#d8576b\"],[0.6666666666666666,\"#ed7953\"],[0.7777777777777778,\"#fb9f3a\"],[0.8888888888888888,\"#fdca26\"],[1.0,\"#f0f921\"]],\"diverging\":[[0,\"#8e0152\"],[0.1,\"#c51b7d\"],[0.2,\"#de77ae\"],[0.3,\"#f1b6da\"],[0.4,\"#fde0ef\"],[0.5,\"#f7f7f7\"],[0.6,\"#e6f5d0\"],[0.7,\"#b8e186\"],[0.8,\"#7fbc41\"],[0.9,\"#4d9221\"],[1,\"#276419\"]]},\"xaxis\":{\"gridcolor\":\"white\",\"linecolor\":\"white\",\"ticks\":\"\",\"title\":{\"standoff\":15},\"zerolinecolor\":\"white\",\"automargin\":true,\"zerolinewidth\":2},\"yaxis\":{\"gridcolor\":\"white\",\"linecolor\":\"white\",\"ticks\":\"\",\"title\":{\"standoff\":15},\"zerolinecolor\":\"white\",\"automargin\":true,\"zerolinewidth\":2},\"scene\":{\"xaxis\":{\"backgroundcolor\":\"#E5ECF6\",\"gridcolor\":\"white\",\"linecolor\":\"white\",\"showbackground\":true,\"ticks\":\"\",\"zerolinecolor\":\"white\",\"gridwidth\":2},\"yaxis\":{\"backgroundcolor\":\"#E5ECF6\",\"gridcolor\":\"white\",\"linecolor\":\"white\",\"showbackground\":true,\"ticks\":\"\",\"zerolinecolor\":\"white\",\"gridwidth\":2},\"zaxis\":{\"backgroundcolor\":\"#E5ECF6\",\"gridcolor\":\"white\",\"linecolor\":\"white\",\"showbackground\":true,\"ticks\":\"\",\"zerolinecolor\":\"white\",\"gridwidth\":2}},\"shapedefaults\":{\"line\":{\"color\":\"#2a3f5f\"}},\"annotationdefaults\":{\"arrowcolor\":\"#2a3f5f\",\"arrowhead\":0,\"arrowwidth\":1},\"geo\":{\"bgcolor\":\"white\",\"landcolor\":\"#E5ECF6\",\"subunitcolor\":\"white\",\"showland\":true,\"showlakes\":true,\"lakecolor\":\"white\"},\"title\":{\"x\":0.05},\"mapbox\":{\"style\":\"light\"}}}},                        {\"responsive\": true}                    ).then(function(){\n",
              "                            \n",
              "var gd = document.getElementById('f050014f-644a-4fcb-b450-600029cdedae');\n",
              "var x = new MutationObserver(function (mutations, observer) {{\n",
              "        var display = window.getComputedStyle(gd).display;\n",
              "        if (!display || display === 'none') {{\n",
              "            console.log([gd, 'removed!']);\n",
              "            Plotly.purge(gd);\n",
              "            observer.disconnect();\n",
              "        }}\n",
              "}});\n",
              "\n",
              "// Listen for the removal of the full notebook cells\n",
              "var notebookContainer = gd.closest('#notebook-container');\n",
              "if (notebookContainer) {{\n",
              "    x.observe(notebookContainer, {childList: true});\n",
              "}}\n",
              "\n",
              "// Listen for the clearing of the current output cell\n",
              "var outputEl = gd.closest('.output');\n",
              "if (outputEl) {{\n",
              "    x.observe(outputEl, {childList: true});\n",
              "}}\n",
              "\n",
              "                        })                };                            </script>        </div>\n",
              "</body>\n",
              "</html>"
            ]
          },
          "metadata": {},
          "output_type": "display_data"
        }
      ],
      "source": [
        "# 하이퍼파라미터별 중요도를 확인할 수 있는 그래프\n",
        "optuna.visualization.plot_param_importances(study_res_cat)"
      ]
    },
    {
      "cell_type": "code",
      "execution_count": null,
      "metadata": {
        "colab": {
          "base_uri": "https://localhost:8080/",
          "height": 542
        },
        "id": "yiusc0YVfae8",
        "outputId": "1ea809aa-8ef5-48ac-f6bf-d8b8a67287b7"
      },
      "outputs": [
        {
          "data": {
            "text/html": [
              "<html>\n",
              "<head><meta charset=\"utf-8\" /></head>\n",
              "<body>\n",
              "    <div>            <script src=\"https://cdnjs.cloudflare.com/ajax/libs/mathjax/2.7.5/MathJax.js?config=TeX-AMS-MML_SVG\"></script><script type=\"text/javascript\">if (window.MathJax && window.MathJax.Hub && window.MathJax.Hub.Config) {window.MathJax.Hub.Config({SVG: {font: \"STIX-Web\"}});}</script>                <script type=\"text/javascript\">window.PlotlyConfig = {MathJaxConfig: 'local'};</script>\n",
              "        <script charset=\"utf-8\" src=\"https://cdn.plot.ly/plotly-2.24.1.min.js\"></script>                <div id=\"2a04dfcb-9055-431a-a8ff-15be2cf8e956\" class=\"plotly-graph-div\" style=\"height:525px; width:100%;\"></div>            <script type=\"text/javascript\">                                    window.PLOTLYENV=window.PLOTLYENV || {};                                    if (document.getElementById(\"2a04dfcb-9055-431a-a8ff-15be2cf8e956\")) {                    Plotly.newPlot(                        \"2a04dfcb-9055-431a-a8ff-15be2cf8e956\",                        [{\"mode\":\"markers\",\"name\":\"Objective Value\",\"x\":[0,1,2,3,4,5,6,7,8,9,10,11,12,13,14,15,16,17,18,19,20,21,22,23,24,25,26,27,28,29,30,31,32,33,34,35,36,37,38,39,40,41,42,43,44,45,46,47,48,49,50,51,52,53,54,55,56,57,58,59,60,61,62,63,64,65,66,67,68,69,70,71,72,73,74,75,76,77,78,79,80,81,82,83,84,85,86,87,88,89,90,91,92,93,94,95,96,97,98,99],\"y\":[0.031961789982903624,0.024714263458297334,0.026573263790381833,0.02781622337224696,0.02919226734602128,0.02902780725960518,0.030115099595311924,0.028414257137661394,0.025064290370412818,0.024802370173471224,0.029870779870779872,0.02863506917712483,0.030478072508930608,0.029581715603008978,0.031108661345978148,0.031064260976089293,0.030341226253713875,0.03093313962286994,0.033279422741975616,0.03274865580984551,0.032821364542992185,0.032848300575523945,0.033372292348449434,0.03294891640866873,0.03319485964980394,0.03081302664541107,0.032672761869401774,0.03392085655250141,0.030690207206318616,0.03150665047023141,0.029563698248467597,0.03332063531551983,0.033150844496214325,0.033484473114258555,0.03341355702502512,0.03355751825728731,0.03352303734310439,0.03239790624207346,0.03321803620952915,0.03268493298662819,0.02734813153078694,0.03346287712069423,0.03327352797259827,0.03343301295314537,0.03141133010577519,0.030509375237227663,0.03352168958681298,0.028362340272248134,0.030176116022225433,0.026597059636162695,0.02860602737222108,0.03321199676435816,0.029235094171823066,0.03365249445503108,0.03193154784744072,0.028620870238393405,0.033497452383367536,0.0331136111305212,0.03350499424339546,0.034417442152917505,0.03330521786905416,0.034513621731962,0.03457977711761839,0.03440566681571082,0.03438977164940776,0.03430267155250712,0.03424920628699095,0.03439818841431404,0.03415091391970005,0.03342286346783494,0.03351690971144896,0.03425377937552001,0.03423396604805289,0.033516428022033515,0.03418937586336808,0.03336720998611316,0.03428177488092254,0.03441244745592572,0.03382657268667631,0.030958631302616096,0.0327073335794266,0.03433890357033633,0.034119276608731715,0.03426549891599552,0.03354148082069581,0.03369551661782129,0.0300077096385452,0.0341815449400825,0.029268694246542538,0.03347150660519893,0.03334573816501527,0.03421466767927468,0.03434511043972386,0.028887592877322406,0.03379943381659089,0.034541131267321744,0.03301242212048453,0.03426991880133813,0.033351672620477495,0.030563414193703727],\"type\":\"scatter\"},{\"mode\":\"lines\",\"name\":\"Best Value\",\"x\":[0,1,2,3,4,5,6,7,8,9,10,11,12,13,14,15,16,17,18,19,20,21,22,23,24,25,26,27,28,29,30,31,32,33,34,35,36,37,38,39,40,41,42,43,44,45,46,47,48,49,50,51,52,53,54,55,56,57,58,59,60,61,62,63,64,65,66,67,68,69,70,71,72,73,74,75,76,77,78,79,80,81,82,83,84,85,86,87,88,89,90,91,92,93,94,95,96,97,98,99],\"y\":[0.031961789982903624,0.031961789982903624,0.031961789982903624,0.031961789982903624,0.031961789982903624,0.031961789982903624,0.031961789982903624,0.031961789982903624,0.031961789982903624,0.031961789982903624,0.031961789982903624,0.031961789982903624,0.031961789982903624,0.031961789982903624,0.031961789982903624,0.031961789982903624,0.031961789982903624,0.031961789982903624,0.033279422741975616,0.033279422741975616,0.033279422741975616,0.033279422741975616,0.033372292348449434,0.033372292348449434,0.033372292348449434,0.033372292348449434,0.033372292348449434,0.03392085655250141,0.03392085655250141,0.03392085655250141,0.03392085655250141,0.03392085655250141,0.03392085655250141,0.03392085655250141,0.03392085655250141,0.03392085655250141,0.03392085655250141,0.03392085655250141,0.03392085655250141,0.03392085655250141,0.03392085655250141,0.03392085655250141,0.03392085655250141,0.03392085655250141,0.03392085655250141,0.03392085655250141,0.03392085655250141,0.03392085655250141,0.03392085655250141,0.03392085655250141,0.03392085655250141,0.03392085655250141,0.03392085655250141,0.03392085655250141,0.03392085655250141,0.03392085655250141,0.03392085655250141,0.03392085655250141,0.03392085655250141,0.034417442152917505,0.034417442152917505,0.034513621731962,0.03457977711761839,0.03457977711761839,0.03457977711761839,0.03457977711761839,0.03457977711761839,0.03457977711761839,0.03457977711761839,0.03457977711761839,0.03457977711761839,0.03457977711761839,0.03457977711761839,0.03457977711761839,0.03457977711761839,0.03457977711761839,0.03457977711761839,0.03457977711761839,0.03457977711761839,0.03457977711761839,0.03457977711761839,0.03457977711761839,0.03457977711761839,0.03457977711761839,0.03457977711761839,0.03457977711761839,0.03457977711761839,0.03457977711761839,0.03457977711761839,0.03457977711761839,0.03457977711761839,0.03457977711761839,0.03457977711761839,0.03457977711761839,0.03457977711761839,0.03457977711761839,0.03457977711761839,0.03457977711761839,0.03457977711761839,0.03457977711761839],\"type\":\"scatter\"},{\"marker\":{\"color\":\"#cccccc\"},\"mode\":\"markers\",\"name\":\"Infeasible Trial\",\"showlegend\":false,\"x\":[],\"y\":[],\"type\":\"scatter\"}],                        {\"title\":{\"text\":\"Optimization History Plot\"},\"xaxis\":{\"title\":{\"text\":\"Trial\"}},\"yaxis\":{\"title\":{\"text\":\"Objective Value\"}},\"template\":{\"data\":{\"histogram2dcontour\":[{\"type\":\"histogram2dcontour\",\"colorbar\":{\"outlinewidth\":0,\"ticks\":\"\"},\"colorscale\":[[0.0,\"#0d0887\"],[0.1111111111111111,\"#46039f\"],[0.2222222222222222,\"#7201a8\"],[0.3333333333333333,\"#9c179e\"],[0.4444444444444444,\"#bd3786\"],[0.5555555555555556,\"#d8576b\"],[0.6666666666666666,\"#ed7953\"],[0.7777777777777778,\"#fb9f3a\"],[0.8888888888888888,\"#fdca26\"],[1.0,\"#f0f921\"]]}],\"choropleth\":[{\"type\":\"choropleth\",\"colorbar\":{\"outlinewidth\":0,\"ticks\":\"\"}}],\"histogram2d\":[{\"type\":\"histogram2d\",\"colorbar\":{\"outlinewidth\":0,\"ticks\":\"\"},\"colorscale\":[[0.0,\"#0d0887\"],[0.1111111111111111,\"#46039f\"],[0.2222222222222222,\"#7201a8\"],[0.3333333333333333,\"#9c179e\"],[0.4444444444444444,\"#bd3786\"],[0.5555555555555556,\"#d8576b\"],[0.6666666666666666,\"#ed7953\"],[0.7777777777777778,\"#fb9f3a\"],[0.8888888888888888,\"#fdca26\"],[1.0,\"#f0f921\"]]}],\"heatmap\":[{\"type\":\"heatmap\",\"colorbar\":{\"outlinewidth\":0,\"ticks\":\"\"},\"colorscale\":[[0.0,\"#0d0887\"],[0.1111111111111111,\"#46039f\"],[0.2222222222222222,\"#7201a8\"],[0.3333333333333333,\"#9c179e\"],[0.4444444444444444,\"#bd3786\"],[0.5555555555555556,\"#d8576b\"],[0.6666666666666666,\"#ed7953\"],[0.7777777777777778,\"#fb9f3a\"],[0.8888888888888888,\"#fdca26\"],[1.0,\"#f0f921\"]]}],\"heatmapgl\":[{\"type\":\"heatmapgl\",\"colorbar\":{\"outlinewidth\":0,\"ticks\":\"\"},\"colorscale\":[[0.0,\"#0d0887\"],[0.1111111111111111,\"#46039f\"],[0.2222222222222222,\"#7201a8\"],[0.3333333333333333,\"#9c179e\"],[0.4444444444444444,\"#bd3786\"],[0.5555555555555556,\"#d8576b\"],[0.6666666666666666,\"#ed7953\"],[0.7777777777777778,\"#fb9f3a\"],[0.8888888888888888,\"#fdca26\"],[1.0,\"#f0f921\"]]}],\"contourcarpet\":[{\"type\":\"contourcarpet\",\"colorbar\":{\"outlinewidth\":0,\"ticks\":\"\"}}],\"contour\":[{\"type\":\"contour\",\"colorbar\":{\"outlinewidth\":0,\"ticks\":\"\"},\"colorscale\":[[0.0,\"#0d0887\"],[0.1111111111111111,\"#46039f\"],[0.2222222222222222,\"#7201a8\"],[0.3333333333333333,\"#9c179e\"],[0.4444444444444444,\"#bd3786\"],[0.5555555555555556,\"#d8576b\"],[0.6666666666666666,\"#ed7953\"],[0.7777777777777778,\"#fb9f3a\"],[0.8888888888888888,\"#fdca26\"],[1.0,\"#f0f921\"]]}],\"surface\":[{\"type\":\"surface\",\"colorbar\":{\"outlinewidth\":0,\"ticks\":\"\"},\"colorscale\":[[0.0,\"#0d0887\"],[0.1111111111111111,\"#46039f\"],[0.2222222222222222,\"#7201a8\"],[0.3333333333333333,\"#9c179e\"],[0.4444444444444444,\"#bd3786\"],[0.5555555555555556,\"#d8576b\"],[0.6666666666666666,\"#ed7953\"],[0.7777777777777778,\"#fb9f3a\"],[0.8888888888888888,\"#fdca26\"],[1.0,\"#f0f921\"]]}],\"mesh3d\":[{\"type\":\"mesh3d\",\"colorbar\":{\"outlinewidth\":0,\"ticks\":\"\"}}],\"scatter\":[{\"fillpattern\":{\"fillmode\":\"overlay\",\"size\":10,\"solidity\":0.2},\"type\":\"scatter\"}],\"parcoords\":[{\"type\":\"parcoords\",\"line\":{\"colorbar\":{\"outlinewidth\":0,\"ticks\":\"\"}}}],\"scatterpolargl\":[{\"type\":\"scatterpolargl\",\"marker\":{\"colorbar\":{\"outlinewidth\":0,\"ticks\":\"\"}}}],\"bar\":[{\"error_x\":{\"color\":\"#2a3f5f\"},\"error_y\":{\"color\":\"#2a3f5f\"},\"marker\":{\"line\":{\"color\":\"#E5ECF6\",\"width\":0.5},\"pattern\":{\"fillmode\":\"overlay\",\"size\":10,\"solidity\":0.2}},\"type\":\"bar\"}],\"scattergeo\":[{\"type\":\"scattergeo\",\"marker\":{\"colorbar\":{\"outlinewidth\":0,\"ticks\":\"\"}}}],\"scatterpolar\":[{\"type\":\"scatterpolar\",\"marker\":{\"colorbar\":{\"outlinewidth\":0,\"ticks\":\"\"}}}],\"histogram\":[{\"marker\":{\"pattern\":{\"fillmode\":\"overlay\",\"size\":10,\"solidity\":0.2}},\"type\":\"histogram\"}],\"scattergl\":[{\"type\":\"scattergl\",\"marker\":{\"colorbar\":{\"outlinewidth\":0,\"ticks\":\"\"}}}],\"scatter3d\":[{\"type\":\"scatter3d\",\"line\":{\"colorbar\":{\"outlinewidth\":0,\"ticks\":\"\"}},\"marker\":{\"colorbar\":{\"outlinewidth\":0,\"ticks\":\"\"}}}],\"scattermapbox\":[{\"type\":\"scattermapbox\",\"marker\":{\"colorbar\":{\"outlinewidth\":0,\"ticks\":\"\"}}}],\"scatterternary\":[{\"type\":\"scatterternary\",\"marker\":{\"colorbar\":{\"outlinewidth\":0,\"ticks\":\"\"}}}],\"scattercarpet\":[{\"type\":\"scattercarpet\",\"marker\":{\"colorbar\":{\"outlinewidth\":0,\"ticks\":\"\"}}}],\"carpet\":[{\"aaxis\":{\"endlinecolor\":\"#2a3f5f\",\"gridcolor\":\"white\",\"linecolor\":\"white\",\"minorgridcolor\":\"white\",\"startlinecolor\":\"#2a3f5f\"},\"baxis\":{\"endlinecolor\":\"#2a3f5f\",\"gridcolor\":\"white\",\"linecolor\":\"white\",\"minorgridcolor\":\"white\",\"startlinecolor\":\"#2a3f5f\"},\"type\":\"carpet\"}],\"table\":[{\"cells\":{\"fill\":{\"color\":\"#EBF0F8\"},\"line\":{\"color\":\"white\"}},\"header\":{\"fill\":{\"color\":\"#C8D4E3\"},\"line\":{\"color\":\"white\"}},\"type\":\"table\"}],\"barpolar\":[{\"marker\":{\"line\":{\"color\":\"#E5ECF6\",\"width\":0.5},\"pattern\":{\"fillmode\":\"overlay\",\"size\":10,\"solidity\":0.2}},\"type\":\"barpolar\"}],\"pie\":[{\"automargin\":true,\"type\":\"pie\"}]},\"layout\":{\"autotypenumbers\":\"strict\",\"colorway\":[\"#636efa\",\"#EF553B\",\"#00cc96\",\"#ab63fa\",\"#FFA15A\",\"#19d3f3\",\"#FF6692\",\"#B6E880\",\"#FF97FF\",\"#FECB52\"],\"font\":{\"color\":\"#2a3f5f\"},\"hovermode\":\"closest\",\"hoverlabel\":{\"align\":\"left\"},\"paper_bgcolor\":\"white\",\"plot_bgcolor\":\"#E5ECF6\",\"polar\":{\"bgcolor\":\"#E5ECF6\",\"angularaxis\":{\"gridcolor\":\"white\",\"linecolor\":\"white\",\"ticks\":\"\"},\"radialaxis\":{\"gridcolor\":\"white\",\"linecolor\":\"white\",\"ticks\":\"\"}},\"ternary\":{\"bgcolor\":\"#E5ECF6\",\"aaxis\":{\"gridcolor\":\"white\",\"linecolor\":\"white\",\"ticks\":\"\"},\"baxis\":{\"gridcolor\":\"white\",\"linecolor\":\"white\",\"ticks\":\"\"},\"caxis\":{\"gridcolor\":\"white\",\"linecolor\":\"white\",\"ticks\":\"\"}},\"coloraxis\":{\"colorbar\":{\"outlinewidth\":0,\"ticks\":\"\"}},\"colorscale\":{\"sequential\":[[0.0,\"#0d0887\"],[0.1111111111111111,\"#46039f\"],[0.2222222222222222,\"#7201a8\"],[0.3333333333333333,\"#9c179e\"],[0.4444444444444444,\"#bd3786\"],[0.5555555555555556,\"#d8576b\"],[0.6666666666666666,\"#ed7953\"],[0.7777777777777778,\"#fb9f3a\"],[0.8888888888888888,\"#fdca26\"],[1.0,\"#f0f921\"]],\"sequentialminus\":[[0.0,\"#0d0887\"],[0.1111111111111111,\"#46039f\"],[0.2222222222222222,\"#7201a8\"],[0.3333333333333333,\"#9c179e\"],[0.4444444444444444,\"#bd3786\"],[0.5555555555555556,\"#d8576b\"],[0.6666666666666666,\"#ed7953\"],[0.7777777777777778,\"#fb9f3a\"],[0.8888888888888888,\"#fdca26\"],[1.0,\"#f0f921\"]],\"diverging\":[[0,\"#8e0152\"],[0.1,\"#c51b7d\"],[0.2,\"#de77ae\"],[0.3,\"#f1b6da\"],[0.4,\"#fde0ef\"],[0.5,\"#f7f7f7\"],[0.6,\"#e6f5d0\"],[0.7,\"#b8e186\"],[0.8,\"#7fbc41\"],[0.9,\"#4d9221\"],[1,\"#276419\"]]},\"xaxis\":{\"gridcolor\":\"white\",\"linecolor\":\"white\",\"ticks\":\"\",\"title\":{\"standoff\":15},\"zerolinecolor\":\"white\",\"automargin\":true,\"zerolinewidth\":2},\"yaxis\":{\"gridcolor\":\"white\",\"linecolor\":\"white\",\"ticks\":\"\",\"title\":{\"standoff\":15},\"zerolinecolor\":\"white\",\"automargin\":true,\"zerolinewidth\":2},\"scene\":{\"xaxis\":{\"backgroundcolor\":\"#E5ECF6\",\"gridcolor\":\"white\",\"linecolor\":\"white\",\"showbackground\":true,\"ticks\":\"\",\"zerolinecolor\":\"white\",\"gridwidth\":2},\"yaxis\":{\"backgroundcolor\":\"#E5ECF6\",\"gridcolor\":\"white\",\"linecolor\":\"white\",\"showbackground\":true,\"ticks\":\"\",\"zerolinecolor\":\"white\",\"gridwidth\":2},\"zaxis\":{\"backgroundcolor\":\"#E5ECF6\",\"gridcolor\":\"white\",\"linecolor\":\"white\",\"showbackground\":true,\"ticks\":\"\",\"zerolinecolor\":\"white\",\"gridwidth\":2}},\"shapedefaults\":{\"line\":{\"color\":\"#2a3f5f\"}},\"annotationdefaults\":{\"arrowcolor\":\"#2a3f5f\",\"arrowhead\":0,\"arrowwidth\":1},\"geo\":{\"bgcolor\":\"white\",\"landcolor\":\"#E5ECF6\",\"subunitcolor\":\"white\",\"showland\":true,\"showlakes\":true,\"lakecolor\":\"white\"},\"title\":{\"x\":0.05},\"mapbox\":{\"style\":\"light\"}}}},                        {\"responsive\": true}                    ).then(function(){\n",
              "                            \n",
              "var gd = document.getElementById('2a04dfcb-9055-431a-a8ff-15be2cf8e956');\n",
              "var x = new MutationObserver(function (mutations, observer) {{\n",
              "        var display = window.getComputedStyle(gd).display;\n",
              "        if (!display || display === 'none') {{\n",
              "            console.log([gd, 'removed!']);\n",
              "            Plotly.purge(gd);\n",
              "            observer.disconnect();\n",
              "        }}\n",
              "}});\n",
              "\n",
              "// Listen for the removal of the full notebook cells\n",
              "var notebookContainer = gd.closest('#notebook-container');\n",
              "if (notebookContainer) {{\n",
              "    x.observe(notebookContainer, {childList: true});\n",
              "}}\n",
              "\n",
              "// Listen for the clearing of the current output cell\n",
              "var outputEl = gd.closest('.output');\n",
              "if (outputEl) {{\n",
              "    x.observe(outputEl, {childList: true});\n",
              "}}\n",
              "\n",
              "                        })                };                            </script>        </div>\n",
              "</body>\n",
              "</html>"
            ]
          },
          "metadata": {},
          "output_type": "display_data"
        }
      ],
      "source": [
        "# 하이퍼파라미터 최적화 과정을 확인\n",
        "optuna.visualization.plot_optimization_history(study_res_cat)"
      ]
    },
    {
      "cell_type": "code",
      "execution_count": null,
      "metadata": {
        "id": "DUobKSYafgvr"
      },
      "outputs": [],
      "source": [
        "cat_res_optuna = CatBoostClassifier(**study_res_cat.best_params)"
      ]
    },
    {
      "cell_type": "code",
      "execution_count": null,
      "metadata": {
        "id": "T9vAcGaYfpmH"
      },
      "outputs": [],
      "source": [
        "# 언더샘플링 후 하이퍼파라미터 튜닝 거친 모델 pickle 저장\n",
        "with open(file='/content/drive/MyDrive/weather-contest/fog_data/cat_res_model_tek.pkl', mode='wb') as f:\n",
        "    pickle.dump(study_res_cat, f)"
      ]
    },
    {
      "cell_type": "code",
      "execution_count": null,
      "metadata": {
        "id": "hlCWo2_jgRur"
      },
      "outputs": [],
      "source": []
    },
    {
      "cell_type": "code",
      "execution_count": null,
      "metadata": {
        "id": "9MFud8qKhMRy"
      },
      "outputs": [],
      "source": []
    },
    {
      "cell_type": "markdown",
      "metadata": {
        "id": "yMYnhdWmrnV6"
      },
      "source": [
        "## 모델링 (CatBoost)\n",
        "- 임시로 임의의 하이퍼파라미터 사용"
      ]
    },
    {
      "cell_type": "code",
      "execution_count": 72,
      "metadata": {
        "id": "HGFMuFaTrt6s"
      },
      "outputs": [],
      "source": [
        "best_params = {'iterations': 923,\n",
        "               'learning_rate': 0.00979258152234309,\n",
        "               'depth': 10,\n",
        "               'l2_leaf_reg': 0.2353487947977851,\n",
        "               'bootstrap_type': 'Bayesian',\n",
        "               'random_strength': 0.006712500647052562,\n",
        "               'bagging_temperature': 0.567278569703178,\n",
        "               'od_type': 'IncToDec',\n",
        "               'od_wait': 38,\n",
        "               'min_data_in_leaf': 59,\n",
        "               }"
      ]
    },
    {
      "cell_type": "code",
      "execution_count": 77,
      "metadata": {
        "id": "enqbQ8WWtaOG"
      },
      "outputs": [],
      "source": [
        "cat = CatBoostClassifier(loss_function='MultiClass', verbose=0, task_type=\"GPU\",random_state=42,\n",
        "                         iterations= 923,\n",
        "                         learning_rate= 0.00979258152234309,\n",
        "                         depth= 10,\n",
        "                         l2_leaf_reg= 0.2353487947977851,\n",
        "                         bootstrap_type= \"Bayesian\",\n",
        "                         random_strength= 0.006712500647052562,\n",
        "                         bagging_temperature= 0.567278569703178,\n",
        "                         od_type= \"IncToDec\",\n",
        "                         od_wait= 38,\n",
        "                         min_data_in_leaf= 59)"
      ]
    },
    {
      "cell_type": "code",
      "execution_count": 78,
      "metadata": {
        "id": "cnaJGHnLuu3Y"
      },
      "outputs": [],
      "source": [
        "cat_model = [(\"CatBoost\", cat)]"
      ]
    },
    {
      "cell_type": "code",
      "execution_count": 79,
      "metadata": {
        "colab": {
          "base_uri": "https://localhost:8080/",
          "height": 133
        },
        "id": "GC-b0JV8r12c",
        "outputId": "c7e9ab58-6c2b-409f-e17d-72bdb11e21aa"
      },
      "outputs": [
        {
          "name": "stdout",
          "output_type": "stream",
          "text": [
            "\n",
            "======== Models Before Hyper Parameter Tuning ========\n",
            "\n"
          ]
        },
        {
          "data": {
            "application/vnd.google.colaboratory.intrinsic+json": {
              "summary": "{\n  \"name\": \"model_comparison(cat_model, X_train_labeled, y_train_labeled, X_val_labeled, y_val_labeled)\",\n  \"rows\": 1,\n  \"fields\": [\n    {\n      \"column\": \"Model\",\n      \"properties\": {\n        \"dtype\": \"string\",\n        \"num_unique_values\": 1,\n        \"samples\": [\n          \"CatBoost\"\n        ],\n        \"semantic_type\": \"\",\n        \"description\": \"\"\n      }\n    },\n    {\n      \"column\": \"Accuracy\",\n      \"properties\": {\n        \"dtype\": \"number\",\n        \"std\": null,\n        \"min\": 0.9958,\n        \"max\": 0.9958,\n        \"num_unique_values\": 1,\n        \"samples\": [\n          0.9958\n        ],\n        \"semantic_type\": \"\",\n        \"description\": \"\"\n      }\n    },\n    {\n      \"column\": \"Precision\",\n      \"properties\": {\n        \"dtype\": \"number\",\n        \"std\": null,\n        \"min\": 0.9959,\n        \"max\": 0.9959,\n        \"num_unique_values\": 1,\n        \"samples\": [\n          0.9959\n        ],\n        \"semantic_type\": \"\",\n        \"description\": \"\"\n      }\n    },\n    {\n      \"column\": \"Recall\",\n      \"properties\": {\n        \"dtype\": \"number\",\n        \"std\": null,\n        \"min\": 0.9958,\n        \"max\": 0.9958,\n        \"num_unique_values\": 1,\n        \"samples\": [\n          0.9958\n        ],\n        \"semantic_type\": \"\",\n        \"description\": \"\"\n      }\n    },\n    {\n      \"column\": \"F1 Score\",\n      \"properties\": {\n        \"dtype\": \"number\",\n        \"std\": null,\n        \"min\": 0.9958,\n        \"max\": 0.9958,\n        \"num_unique_values\": 1,\n        \"samples\": [\n          0.9958\n        ],\n        \"semantic_type\": \"\",\n        \"description\": \"\"\n      }\n    },\n    {\n      \"column\": \"CSI Index\",\n      \"properties\": {\n        \"dtype\": \"number\",\n        \"std\": null,\n        \"min\": 0.6047,\n        \"max\": 0.6047,\n        \"num_unique_values\": 1,\n        \"samples\": [\n          0.6047\n        ],\n        \"semantic_type\": \"\",\n        \"description\": \"\"\n      }\n    }\n  ]\n}",
              "type": "dataframe"
            },
            "text/html": [
              "\n",
              "  <div id=\"df-b5f13772-fce5-43ab-8924-aea304991688\" class=\"colab-df-container\">\n",
              "    <div>\n",
              "<style scoped>\n",
              "    .dataframe tbody tr th:only-of-type {\n",
              "        vertical-align: middle;\n",
              "    }\n",
              "\n",
              "    .dataframe tbody tr th {\n",
              "        vertical-align: top;\n",
              "    }\n",
              "\n",
              "    .dataframe thead th {\n",
              "        text-align: right;\n",
              "    }\n",
              "</style>\n",
              "<table border=\"1\" class=\"dataframe\">\n",
              "  <thead>\n",
              "    <tr style=\"text-align: right;\">\n",
              "      <th></th>\n",
              "      <th>Model</th>\n",
              "      <th>Accuracy</th>\n",
              "      <th>Precision</th>\n",
              "      <th>Recall</th>\n",
              "      <th>F1 Score</th>\n",
              "      <th>CSI Index</th>\n",
              "    </tr>\n",
              "  </thead>\n",
              "  <tbody>\n",
              "    <tr>\n",
              "      <th>0</th>\n",
              "      <td>CatBoost</td>\n",
              "      <td>0.9958</td>\n",
              "      <td>0.9959</td>\n",
              "      <td>0.9958</td>\n",
              "      <td>0.9958</td>\n",
              "      <td>0.6047</td>\n",
              "    </tr>\n",
              "  </tbody>\n",
              "</table>\n",
              "</div>\n",
              "    <div class=\"colab-df-buttons\">\n",
              "\n",
              "  <div class=\"colab-df-container\">\n",
              "    <button class=\"colab-df-convert\" onclick=\"convertToInteractive('df-b5f13772-fce5-43ab-8924-aea304991688')\"\n",
              "            title=\"Convert this dataframe to an interactive table.\"\n",
              "            style=\"display:none;\">\n",
              "\n",
              "  <svg xmlns=\"http://www.w3.org/2000/svg\" height=\"24px\" viewBox=\"0 -960 960 960\">\n",
              "    <path d=\"M120-120v-720h720v720H120Zm60-500h600v-160H180v160Zm220 220h160v-160H400v160Zm0 220h160v-160H400v160ZM180-400h160v-160H180v160Zm440 0h160v-160H620v160ZM180-180h160v-160H180v160Zm440 0h160v-160H620v160Z\"/>\n",
              "  </svg>\n",
              "    </button>\n",
              "\n",
              "  <style>\n",
              "    .colab-df-container {\n",
              "      display:flex;\n",
              "      gap: 12px;\n",
              "    }\n",
              "\n",
              "    .colab-df-convert {\n",
              "      background-color: #E8F0FE;\n",
              "      border: none;\n",
              "      border-radius: 50%;\n",
              "      cursor: pointer;\n",
              "      display: none;\n",
              "      fill: #1967D2;\n",
              "      height: 32px;\n",
              "      padding: 0 0 0 0;\n",
              "      width: 32px;\n",
              "    }\n",
              "\n",
              "    .colab-df-convert:hover {\n",
              "      background-color: #E2EBFA;\n",
              "      box-shadow: 0px 1px 2px rgba(60, 64, 67, 0.3), 0px 1px 3px 1px rgba(60, 64, 67, 0.15);\n",
              "      fill: #174EA6;\n",
              "    }\n",
              "\n",
              "    .colab-df-buttons div {\n",
              "      margin-bottom: 4px;\n",
              "    }\n",
              "\n",
              "    [theme=dark] .colab-df-convert {\n",
              "      background-color: #3B4455;\n",
              "      fill: #D2E3FC;\n",
              "    }\n",
              "\n",
              "    [theme=dark] .colab-df-convert:hover {\n",
              "      background-color: #434B5C;\n",
              "      box-shadow: 0px 1px 3px 1px rgba(0, 0, 0, 0.15);\n",
              "      filter: drop-shadow(0px 1px 2px rgba(0, 0, 0, 0.3));\n",
              "      fill: #FFFFFF;\n",
              "    }\n",
              "  </style>\n",
              "\n",
              "    <script>\n",
              "      const buttonEl =\n",
              "        document.querySelector('#df-b5f13772-fce5-43ab-8924-aea304991688 button.colab-df-convert');\n",
              "      buttonEl.style.display =\n",
              "        google.colab.kernel.accessAllowed ? 'block' : 'none';\n",
              "\n",
              "      async function convertToInteractive(key) {\n",
              "        const element = document.querySelector('#df-b5f13772-fce5-43ab-8924-aea304991688');\n",
              "        const dataTable =\n",
              "          await google.colab.kernel.invokeFunction('convertToInteractive',\n",
              "                                                    [key], {});\n",
              "        if (!dataTable) return;\n",
              "\n",
              "        const docLinkHtml = 'Like what you see? Visit the ' +\n",
              "          '<a target=\"_blank\" href=https://colab.research.google.com/notebooks/data_table.ipynb>data table notebook</a>'\n",
              "          + ' to learn more about interactive tables.';\n",
              "        element.innerHTML = '';\n",
              "        dataTable['output_type'] = 'display_data';\n",
              "        await google.colab.output.renderOutput(dataTable, element);\n",
              "        const docLink = document.createElement('div');\n",
              "        docLink.innerHTML = docLinkHtml;\n",
              "        element.appendChild(docLink);\n",
              "      }\n",
              "    </script>\n",
              "  </div>\n",
              "\n",
              "\n",
              "    </div>\n",
              "  </div>\n"
            ],
            "text/plain": [
              "      Model  Accuracy  Precision  Recall  F1 Score  CSI Index\n",
              "0  CatBoost    0.9958     0.9959  0.9958    0.9958     0.6047"
            ]
          },
          "execution_count": 79,
          "metadata": {},
          "output_type": "execute_result"
        }
      ],
      "source": [
        "model_comparison(cat_model, X_train_labeled, y_train_labeled, X_val_labeled, y_val_labeled)"
      ]
    },
    {
      "cell_type": "code",
      "execution_count": 81,
      "metadata": {
        "id": "SVGaZ1KIu0Lt"
      },
      "outputs": [],
      "source": [
        "cat_model_default =[\n",
        "    (\"CatBoost\", CatBoostClassifier(loss_function='MultiClass', verbose=0, task_type=\"GPU\",random_state=42))\n",
        "]"
      ]
    },
    {
      "cell_type": "code",
      "execution_count": 82,
      "metadata": {
        "colab": {
          "base_uri": "https://localhost:8080/",
          "height": 133
        },
        "id": "lFmKe5EGvMm6",
        "outputId": "abcae615-0e68-4edb-a1e8-c8dc591334c2"
      },
      "outputs": [
        {
          "name": "stdout",
          "output_type": "stream",
          "text": [
            "\n",
            "======== Models Before Hyper Parameter Tuning ========\n",
            "\n"
          ]
        },
        {
          "data": {
            "application/vnd.google.colaboratory.intrinsic+json": {
              "summary": "{\n  \"name\": \"model_comparison(cat_model_default, X_train_labeled, y_train_labeled, X_val_labeled, y_val_labeled)\",\n  \"rows\": 1,\n  \"fields\": [\n    {\n      \"column\": \"Model\",\n      \"properties\": {\n        \"dtype\": \"string\",\n        \"num_unique_values\": 1,\n        \"samples\": [\n          \"CatBoost\"\n        ],\n        \"semantic_type\": \"\",\n        \"description\": \"\"\n      }\n    },\n    {\n      \"column\": \"Accuracy\",\n      \"properties\": {\n        \"dtype\": \"number\",\n        \"std\": null,\n        \"min\": 0.9959,\n        \"max\": 0.9959,\n        \"num_unique_values\": 1,\n        \"samples\": [\n          0.9959\n        ],\n        \"semantic_type\": \"\",\n        \"description\": \"\"\n      }\n    },\n    {\n      \"column\": \"Precision\",\n      \"properties\": {\n        \"dtype\": \"number\",\n        \"std\": null,\n        \"min\": 0.996,\n        \"max\": 0.996,\n        \"num_unique_values\": 1,\n        \"samples\": [\n          0.996\n        ],\n        \"semantic_type\": \"\",\n        \"description\": \"\"\n      }\n    },\n    {\n      \"column\": \"Recall\",\n      \"properties\": {\n        \"dtype\": \"number\",\n        \"std\": null,\n        \"min\": 0.9959,\n        \"max\": 0.9959,\n        \"num_unique_values\": 1,\n        \"samples\": [\n          0.9959\n        ],\n        \"semantic_type\": \"\",\n        \"description\": \"\"\n      }\n    },\n    {\n      \"column\": \"F1 Score\",\n      \"properties\": {\n        \"dtype\": \"number\",\n        \"std\": null,\n        \"min\": 0.996,\n        \"max\": 0.996,\n        \"num_unique_values\": 1,\n        \"samples\": [\n          0.996\n        ],\n        \"semantic_type\": \"\",\n        \"description\": \"\"\n      }\n    },\n    {\n      \"column\": \"CSI Index\",\n      \"properties\": {\n        \"dtype\": \"number\",\n        \"std\": null,\n        \"min\": 0.6174,\n        \"max\": 0.6174,\n        \"num_unique_values\": 1,\n        \"samples\": [\n          0.6174\n        ],\n        \"semantic_type\": \"\",\n        \"description\": \"\"\n      }\n    }\n  ]\n}",
              "type": "dataframe"
            },
            "text/html": [
              "\n",
              "  <div id=\"df-d2e97db6-1cc1-4a07-b441-418498d1ad47\" class=\"colab-df-container\">\n",
              "    <div>\n",
              "<style scoped>\n",
              "    .dataframe tbody tr th:only-of-type {\n",
              "        vertical-align: middle;\n",
              "    }\n",
              "\n",
              "    .dataframe tbody tr th {\n",
              "        vertical-align: top;\n",
              "    }\n",
              "\n",
              "    .dataframe thead th {\n",
              "        text-align: right;\n",
              "    }\n",
              "</style>\n",
              "<table border=\"1\" class=\"dataframe\">\n",
              "  <thead>\n",
              "    <tr style=\"text-align: right;\">\n",
              "      <th></th>\n",
              "      <th>Model</th>\n",
              "      <th>Accuracy</th>\n",
              "      <th>Precision</th>\n",
              "      <th>Recall</th>\n",
              "      <th>F1 Score</th>\n",
              "      <th>CSI Index</th>\n",
              "    </tr>\n",
              "  </thead>\n",
              "  <tbody>\n",
              "    <tr>\n",
              "      <th>0</th>\n",
              "      <td>CatBoost</td>\n",
              "      <td>0.9959</td>\n",
              "      <td>0.996</td>\n",
              "      <td>0.9959</td>\n",
              "      <td>0.996</td>\n",
              "      <td>0.6174</td>\n",
              "    </tr>\n",
              "  </tbody>\n",
              "</table>\n",
              "</div>\n",
              "    <div class=\"colab-df-buttons\">\n",
              "\n",
              "  <div class=\"colab-df-container\">\n",
              "    <button class=\"colab-df-convert\" onclick=\"convertToInteractive('df-d2e97db6-1cc1-4a07-b441-418498d1ad47')\"\n",
              "            title=\"Convert this dataframe to an interactive table.\"\n",
              "            style=\"display:none;\">\n",
              "\n",
              "  <svg xmlns=\"http://www.w3.org/2000/svg\" height=\"24px\" viewBox=\"0 -960 960 960\">\n",
              "    <path d=\"M120-120v-720h720v720H120Zm60-500h600v-160H180v160Zm220 220h160v-160H400v160Zm0 220h160v-160H400v160ZM180-400h160v-160H180v160Zm440 0h160v-160H620v160ZM180-180h160v-160H180v160Zm440 0h160v-160H620v160Z\"/>\n",
              "  </svg>\n",
              "    </button>\n",
              "\n",
              "  <style>\n",
              "    .colab-df-container {\n",
              "      display:flex;\n",
              "      gap: 12px;\n",
              "    }\n",
              "\n",
              "    .colab-df-convert {\n",
              "      background-color: #E8F0FE;\n",
              "      border: none;\n",
              "      border-radius: 50%;\n",
              "      cursor: pointer;\n",
              "      display: none;\n",
              "      fill: #1967D2;\n",
              "      height: 32px;\n",
              "      padding: 0 0 0 0;\n",
              "      width: 32px;\n",
              "    }\n",
              "\n",
              "    .colab-df-convert:hover {\n",
              "      background-color: #E2EBFA;\n",
              "      box-shadow: 0px 1px 2px rgba(60, 64, 67, 0.3), 0px 1px 3px 1px rgba(60, 64, 67, 0.15);\n",
              "      fill: #174EA6;\n",
              "    }\n",
              "\n",
              "    .colab-df-buttons div {\n",
              "      margin-bottom: 4px;\n",
              "    }\n",
              "\n",
              "    [theme=dark] .colab-df-convert {\n",
              "      background-color: #3B4455;\n",
              "      fill: #D2E3FC;\n",
              "    }\n",
              "\n",
              "    [theme=dark] .colab-df-convert:hover {\n",
              "      background-color: #434B5C;\n",
              "      box-shadow: 0px 1px 3px 1px rgba(0, 0, 0, 0.15);\n",
              "      filter: drop-shadow(0px 1px 2px rgba(0, 0, 0, 0.3));\n",
              "      fill: #FFFFFF;\n",
              "    }\n",
              "  </style>\n",
              "\n",
              "    <script>\n",
              "      const buttonEl =\n",
              "        document.querySelector('#df-d2e97db6-1cc1-4a07-b441-418498d1ad47 button.colab-df-convert');\n",
              "      buttonEl.style.display =\n",
              "        google.colab.kernel.accessAllowed ? 'block' : 'none';\n",
              "\n",
              "      async function convertToInteractive(key) {\n",
              "        const element = document.querySelector('#df-d2e97db6-1cc1-4a07-b441-418498d1ad47');\n",
              "        const dataTable =\n",
              "          await google.colab.kernel.invokeFunction('convertToInteractive',\n",
              "                                                    [key], {});\n",
              "        if (!dataTable) return;\n",
              "\n",
              "        const docLinkHtml = 'Like what you see? Visit the ' +\n",
              "          '<a target=\"_blank\" href=https://colab.research.google.com/notebooks/data_table.ipynb>data table notebook</a>'\n",
              "          + ' to learn more about interactive tables.';\n",
              "        element.innerHTML = '';\n",
              "        dataTable['output_type'] = 'display_data';\n",
              "        await google.colab.output.renderOutput(dataTable, element);\n",
              "        const docLink = document.createElement('div');\n",
              "        docLink.innerHTML = docLinkHtml;\n",
              "        element.appendChild(docLink);\n",
              "      }\n",
              "    </script>\n",
              "  </div>\n",
              "\n",
              "\n",
              "    </div>\n",
              "  </div>\n"
            ],
            "text/plain": [
              "      Model  Accuracy  Precision  Recall  F1 Score  CSI Index\n",
              "0  CatBoost    0.9959      0.996  0.9959     0.996     0.6174"
            ]
          },
          "execution_count": 82,
          "metadata": {},
          "output_type": "execute_result"
        }
      ],
      "source": [
        "model_comparison(cat_model_default, X_train_labeled, y_train_labeled, X_val_labeled, y_val_labeled)"
      ]
    },
    {
      "cell_type": "code",
      "execution_count": 83,
      "metadata": {
        "id": "nR_vopnhvO6I"
      },
      "outputs": [],
      "source": [
        "cat_default = CatBoostClassifier(loss_function='MultiClass', verbose=0, task_type=\"GPU\",random_state=42)"
      ]
    },
    {
      "cell_type": "code",
      "execution_count": 84,
      "metadata": {
        "colab": {
          "base_uri": "https://localhost:8080/"
        },
        "id": "iaVn7MjMvZFf",
        "outputId": "ed7bc291-88dc-48be-ceb1-761a5f3136c4"
      },
      "outputs": [
        {
          "data": {
            "text/plain": [
              "<catboost.core.CatBoostClassifier at 0x7e26ebe0ca90>"
            ]
          },
          "execution_count": 84,
          "metadata": {},
          "output_type": "execute_result"
        }
      ],
      "source": [
        "cat_default.fit(X_train_labeled, y_train_labeled)"
      ]
    },
    {
      "cell_type": "code",
      "execution_count": 85,
      "metadata": {
        "colab": {
          "base_uri": "https://localhost:8080/",
          "height": 35
        },
        "id": "2dYKy-u3v-PY",
        "outputId": "ec1b963a-ba6a-467e-8e7a-3f497af5b721"
      },
      "outputs": [
        {
          "data": {
            "application/vnd.google.colaboratory.intrinsic+json": {
              "type": "string"
            },
            "text/plain": [
              "'/content/drive/MyDrive/weather_bigdata/fog_data/fog_train_mod.csv'"
            ]
          },
          "execution_count": 85,
          "metadata": {},
          "output_type": "execute_result"
        }
      ],
      "source": [
        "train_path"
      ]
    },
    {
      "cell_type": "code",
      "execution_count": 87,
      "metadata": {
        "id": "1amccn27ve2k"
      },
      "outputs": [],
      "source": [
        "# cat_default 모델 pickle 저장\n",
        "with open(file='/content/drive/MyDrive/weather_bigdata/fog_data/cat_model_default.pkl', mode='wb') as f:\n",
        "    pickle.dump(cat_default, f)"
      ]
    },
    {
      "cell_type": "code",
      "execution_count": null,
      "metadata": {
        "id": "1ygH4-wWwBwB"
      },
      "outputs": [],
      "source": []
    }
  ],
  "metadata": {
    "accelerator": "GPU",
    "colab": {
      "collapsed_sections": [
        "TGnuVLlmrRE7",
        "m5tWR70hG-XI",
        "f5bDONhrHBYk",
        "-O3RlRAgh_JM",
        "J0F8M8zIZ__c",
        "0fRMjrD0bPH5"
      ],
      "gpuType": "L4",
      "machine_shape": "hm",
      "provenance": []
    },
    "kernelspec": {
      "display_name": "Python 3",
      "name": "python3"
    },
    "language_info": {
      "codemirror_mode": {
        "name": "ipython",
        "version": 3
      },
      "file_extension": ".py",
      "mimetype": "text/x-python",
      "name": "python",
      "nbconvert_exporter": "python",
      "pygments_lexer": "ipython3",
      "version": "3.12.3"
    }
  },
  "nbformat": 4,
  "nbformat_minor": 0
}
