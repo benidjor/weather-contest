{
 "cells": [
  {
   "cell_type": "code",
   "execution_count": 43,
   "id": "f1e503d3",
   "metadata": {
    "ExecuteTime": {
     "end_time": "2024-06-06T11:34:17.768971Z",
     "start_time": "2024-06-06T11:34:17.765294Z"
    }
   },
   "outputs": [],
   "source": [
    "import pandas as pd\n",
    "import numpy as np\n",
    "import matplotlib.pyplot as plt\n",
    "import pickle\n",
    "from datetime import datetime\n",
    "\n",
    "from sklearn.model_selection import train_test_split, GridSearchCV\n",
    "from sklearn.metrics import confusion_matrix, accuracy_score, precision_score, recall_score, f1_score\n",
    "from xgboost import XGBClassifier\n",
    "from lightgbm import LGBMClassifier"
   ]
  },
  {
   "cell_type": "code",
   "execution_count": 47,
   "id": "27524ff0",
   "metadata": {
    "ExecuteTime": {
     "end_time": "2024-06-06T11:36:53.186482Z",
     "start_time": "2024-06-06T11:36:51.170546Z"
    }
   },
   "outputs": [],
   "source": [
    "train = pd.read_csv('fog_train.csv', index_col=0).rename(columns=lambda x: x.split('.')[1])\n",
    "test = pd.read_csv('fog_test.csv', index_col=0).rename(columns=lambda x: x.split('.')[1])"
   ]
  },
  {
   "cell_type": "code",
   "execution_count": 55,
   "id": "d3136a41",
   "metadata": {
    "ExecuteTime": {
     "end_time": "2024-06-06T11:38:07.384365Z",
     "start_time": "2024-06-06T11:38:07.361649Z"
    }
   },
   "outputs": [
    {
     "data": {
      "text/html": [
       "<div>\n",
       "<style scoped>\n",
       "    .dataframe tbody tr th:only-of-type {\n",
       "        vertical-align: middle;\n",
       "    }\n",
       "\n",
       "    .dataframe tbody tr th {\n",
       "        vertical-align: top;\n",
       "    }\n",
       "\n",
       "    .dataframe thead th {\n",
       "        text-align: right;\n",
       "    }\n",
       "</style>\n",
       "<table border=\"1\" class=\"dataframe\">\n",
       "  <thead>\n",
       "    <tr style=\"text-align: right;\">\n",
       "      <th></th>\n",
       "      <th>class</th>\n",
       "    </tr>\n",
       "    <tr>\n",
       "      <th>index</th>\n",
       "      <th></th>\n",
       "    </tr>\n",
       "  </thead>\n",
       "  <tbody>\n",
       "    <tr>\n",
       "      <th>-99</th>\n",
       "      <td>0.713%</td>\n",
       "    </tr>\n",
       "    <tr>\n",
       "      <th>1</th>\n",
       "      <td>0.249%</td>\n",
       "    </tr>\n",
       "    <tr>\n",
       "      <th>2</th>\n",
       "      <td>0.383%</td>\n",
       "    </tr>\n",
       "    <tr>\n",
       "      <th>3</th>\n",
       "      <td>0.386%</td>\n",
       "    </tr>\n",
       "    <tr>\n",
       "      <th>4</th>\n",
       "      <td>98.269%</td>\n",
       "    </tr>\n",
       "  </tbody>\n",
       "</table>\n",
       "</div>"
      ],
      "text/plain": [
       "         class\n",
       "index         \n",
       "-99     0.713%\n",
       " 1      0.249%\n",
       " 2      0.383%\n",
       " 3      0.386%\n",
       " 4     98.269%"
      ]
     },
     "execution_count": 55,
     "metadata": {},
     "output_type": "execute_result"
    }
   ],
   "source": [
    "# 클래스별 비율 확인\n",
    "np.round(\n",
    "    train['class'].value_counts(normalize=True).to_frame().reset_index().sort_values('index').set_index('index') * 100\n",
    ", 3).astype(str) + '%'"
   ]
  },
  {
   "cell_type": "code",
   "execution_count": 56,
   "id": "68f19fbe",
   "metadata": {
    "ExecuteTime": {
     "end_time": "2024-06-06T11:38:57.947881Z",
     "start_time": "2024-06-06T11:38:57.900419Z"
    }
   },
   "outputs": [
    {
     "data": {
      "text/html": [
       "<div>\n",
       "<style scoped>\n",
       "    .dataframe tbody tr th:only-of-type {\n",
       "        vertical-align: middle;\n",
       "    }\n",
       "\n",
       "    .dataframe tbody tr th {\n",
       "        vertical-align: top;\n",
       "    }\n",
       "\n",
       "    .dataframe thead th {\n",
       "        text-align: right;\n",
       "    }\n",
       "</style>\n",
       "<table border=\"1\" class=\"dataframe\">\n",
       "  <thead>\n",
       "    <tr style=\"text-align: right;\">\n",
       "      <th></th>\n",
       "      <th>class</th>\n",
       "    </tr>\n",
       "    <tr>\n",
       "      <th>index</th>\n",
       "      <th></th>\n",
       "    </tr>\n",
       "  </thead>\n",
       "  <tbody>\n",
       "    <tr>\n",
       "      <th>1.0</th>\n",
       "      <td>0.251%</td>\n",
       "    </tr>\n",
       "    <tr>\n",
       "      <th>2.0</th>\n",
       "      <td>0.386%</td>\n",
       "    </tr>\n",
       "    <tr>\n",
       "      <th>3.0</th>\n",
       "      <td>0.389%</td>\n",
       "    </tr>\n",
       "    <tr>\n",
       "      <th>4.0</th>\n",
       "      <td>98.975%</td>\n",
       "    </tr>\n",
       "  </tbody>\n",
       "</table>\n",
       "</div>"
      ],
      "text/plain": [
       "         class\n",
       "index         \n",
       "1.0     0.251%\n",
       "2.0     0.386%\n",
       "3.0     0.389%\n",
       "4.0    98.975%"
      ]
     },
     "execution_count": 56,
     "metadata": {},
     "output_type": "execute_result"
    }
   ],
   "source": [
    "np.round(\n",
    "    train['class'].replace(-99, np.nan).replace(-99.9, np.nan)\\\n",
    "    .value_counts(normalize=True).to_frame().reset_index().sort_values('index').set_index('index') * 100\n",
    ", 3).astype(str) + '%'"
   ]
  },
  {
   "cell_type": "code",
   "execution_count": 58,
   "id": "cb4d0a93",
   "metadata": {
    "ExecuteTime": {
     "end_time": "2024-06-06T11:39:33.748309Z",
     "start_time": "2024-06-06T11:39:33.692709Z"
    }
   },
   "outputs": [
    {
     "data": {
      "text/html": [
       "<div>\n",
       "<style scoped>\n",
       "    .dataframe tbody tr th:only-of-type {\n",
       "        vertical-align: middle;\n",
       "    }\n",
       "\n",
       "    .dataframe tbody tr th {\n",
       "        vertical-align: top;\n",
       "    }\n",
       "\n",
       "    .dataframe thead th {\n",
       "        text-align: right;\n",
       "    }\n",
       "</style>\n",
       "<table border=\"1\" class=\"dataframe\">\n",
       "  <thead>\n",
       "    <tr style=\"text-align: right;\">\n",
       "      <th></th>\n",
       "      <th>class</th>\n",
       "    </tr>\n",
       "    <tr>\n",
       "      <th>index</th>\n",
       "      <th></th>\n",
       "    </tr>\n",
       "  </thead>\n",
       "  <tbody>\n",
       "    <tr>\n",
       "      <th>1.0</th>\n",
       "      <td>7866</td>\n",
       "    </tr>\n",
       "    <tr>\n",
       "      <th>2.0</th>\n",
       "      <td>12088</td>\n",
       "    </tr>\n",
       "    <tr>\n",
       "      <th>3.0</th>\n",
       "      <td>12180</td>\n",
       "    </tr>\n",
       "    <tr>\n",
       "      <th>4.0</th>\n",
       "      <td>3101809</td>\n",
       "    </tr>\n",
       "  </tbody>\n",
       "</table>\n",
       "</div>"
      ],
      "text/plain": [
       "         class\n",
       "index         \n",
       "1.0       7866\n",
       "2.0      12088\n",
       "3.0      12180\n",
       "4.0    3101809"
      ]
     },
     "execution_count": 58,
     "metadata": {},
     "output_type": "execute_result"
    }
   ],
   "source": [
    "np.round(\n",
    "    train['class'].replace(-99, np.nan).replace(-99.9, np.nan)\\\n",
    "    .value_counts().to_frame().reset_index().sort_values('index').set_index('index')\n",
    ", 3)"
   ]
  },
  {
   "cell_type": "code",
   "execution_count": 31,
   "id": "5b764f89",
   "metadata": {
    "ExecuteTime": {
     "end_time": "2024-06-06T11:29:05.584761Z",
     "start_time": "2024-06-06T11:29:04.900634Z"
    }
   },
   "outputs": [],
   "source": [
    "# 지역 처리\n",
    "train['stn_group'] = train['stn_id'].str[0]\n",
    "train['stn_group_binary'] = train['stn_group'].map({'A': 1, 'B': 2, 'C': 3, 'D': 4, 'E': 5})\n",
    "\n",
    "test['stn_group'] = test['stn_id'].str[0]\n",
    "test['stn_group_binary'] = test['stn_group'].map({'A': 1, 'B': 2, 'C': 3, 'D': 4, 'E': 5})"
   ]
  },
  {
   "cell_type": "code",
   "execution_count": 34,
   "id": "976dc112",
   "metadata": {
    "ExecuteTime": {
     "end_time": "2024-06-06T11:30:22.153911Z",
     "start_time": "2024-06-06T11:30:20.985505Z"
    }
   },
   "outputs": [
    {
     "data": {
      "text/plain": [
       "((3133943, 9), (262800, 9))"
      ]
     },
     "execution_count": 34,
     "metadata": {},
     "output_type": "execute_result"
    }
   ],
   "source": [
    "# 안 쓰는 컬럼 drop\n",
    "drop_columns = ['year', 'month', 'day', 'time', 'minute'] + ['stn_id', 'stn_group']\n",
    "\n",
    "# train에서 class가 -99인 데이터(결측치) drop\n",
    "train['class'] = train['class'].replace(-99, np.nan).replace(-99.9, np.nan) - 1\n",
    "\n",
    "train_drop = train.dropna().drop(drop_columns, axis=1).drop('vis1', axis=1).reset_index(drop=True)\n",
    "test_drop = test.drop(drop_columns, axis=1).reset_index(drop=True)\n",
    "\n",
    "train_drop.shape, test_drop.shape"
   ]
  },
  {
   "cell_type": "code",
   "execution_count": 35,
   "id": "fadcb60a",
   "metadata": {
    "ExecuteTime": {
     "end_time": "2024-06-06T11:30:39.639389Z",
     "start_time": "2024-06-06T11:30:39.158448Z"
    }
   },
   "outputs": [
    {
     "data": {
      "text/plain": [
       "((2350457, 8), (783486, 8), (2350457,), (783486,))"
      ]
     },
     "execution_count": 35,
     "metadata": {},
     "output_type": "execute_result"
    }
   ],
   "source": [
    "X = train_drop.drop('class', axis=1)\n",
    "y = train_drop['class']\n",
    "\n",
    "X_test = test_drop\n",
    "\n",
    "X_train, X_val, y_train, y_val = train_test_split(X, y, random_state=42, train_size=0.75)\n",
    "X_train.shape, X_val.shape, y_train.shape, y_val.shape"
   ]
  },
  {
   "cell_type": "code",
   "execution_count": 36,
   "id": "1c5b9d52",
   "metadata": {
    "ExecuteTime": {
     "end_time": "2024-06-06T11:30:42.954521Z",
     "start_time": "2024-06-06T11:30:42.937545Z"
    }
   },
   "outputs": [],
   "source": [
    "from sklearn.metrics import make_scorer\n",
    "\n",
    "def grid_csi_index(y_true, y_pred):\n",
    "    \n",
    "    model_cm = confusion_matrix(y_true, y_pred)\n",
    "\n",
    "    H = (model_cm[0][0] + model_cm[1][1] + model_cm[2][2])\n",
    "    F = (model_cm[0][1] + model_cm[0][2] + \n",
    "            model_cm[1][0] + model_cm[1][2] + \n",
    "            model_cm[2][0] + model_cm[2][1] +\n",
    "            model_cm[3][0] + model_cm[3][1] + model_cm[3][2])\n",
    "    M = (model_cm[0][3] + model_cm[1][3] + model_cm[2][3])\n",
    "\n",
    "    model_csi = H / (H + F + M)\n",
    "\n",
    "    return model_csi\n",
    "\n",
    "custom_scorer = make_scorer(grid_csi_index)"
   ]
  },
  {
   "cell_type": "code",
   "execution_count": 60,
   "id": "e758e45a",
   "metadata": {
    "ExecuteTime": {
     "end_time": "2024-06-06T11:41:10.646990Z",
     "start_time": "2024-06-06T11:40:53.407885Z"
    }
   },
   "outputs": [
    {
     "name": "stdout",
     "output_type": "stream",
     "text": [
      "XGBoost 학습 완료! CSI: 0.04667, Accuracy: 0.99009, 학습 시간: 6.40s\n",
      "LightGBM 학습 완료! CSI: 0.04923, Accuracy: 0.98753, 학습 시간: 10.77s\n"
     ]
    }
   ],
   "source": [
    "models = {\n",
    "    'XGBoost': XGBClassifier(tree_method='hist', device='cuda', random_state=42),\n",
    "    'LightGBM': LGBMClassifier(verbosity=-1, device='gpu', random_state=42)\n",
    "}\n",
    "\n",
    "model_results = {}\n",
    "confusion_matrixes = {}\n",
    "\n",
    "for name, model in models.items():\n",
    "    start_time = datetime.now()\n",
    "    model.fit(X_train, y_train)\n",
    "    y_pred = model.predict(X_val)\n",
    "    csi = grid_csi_index(y_val, y_pred)\n",
    "    accuracy = accuracy_score(y_val, y_pred)\n",
    "#     precision = precision_score(y_val, y_pred)\n",
    "#     recall = recall_score(y_val, y_pred)\n",
    "#     f1 = f1_score(y_val, y_pred)\n",
    "    model_results[name] = csi\n",
    "    confusion_matrixes[name] = confusion_matrix(y_val, y_pred)\n",
    "    time_delta = datetime.now() - start_time\n",
    "    with open(f'''{name}(튜닝X)_{start_time.strftime('%Y%m%d%H%M%S')}.pkl''', 'wb') as file:\n",
    "        pickle.dump(model, file)\n",
    "    print(f\"{name} 학습 완료! CSI: {np.round(csi, 5)}, Accuracy: {np.round(accuracy, 5)}, 학습 시간: {time_delta.seconds}.{time_delta.microseconds // 10000}s\")\n",
    "#     print(f\"{name} 학습 완료! CSI: {np.round(csi, 5)}, 정확도: {np.round(accuracy, 5)}, F1: {np.round(f1, 5)}, 학습 시간: {time_delta.seconds}.{time_delta.microseconds // 10000}s\")\n",
    "#     print(f\"{name} 학습 완료! CSI: {np.round(csi, 5)}, Accuracy: {np.round(accuracy, 5)}, Recall: {np.round(recall, 5)}, Precision: {np.round(precision, 5)}, 학습 시간: {time_delta.seconds}.{time_delta.microseconds // 10000}s\")"
   ]
  },
  {
   "cell_type": "code",
   "execution_count": 85,
   "id": "48b63c49",
   "metadata": {
    "ExecuteTime": {
     "end_time": "2024-06-06T11:45:20.135452Z",
     "start_time": "2024-06-06T11:45:19.930908Z"
    }
   },
   "outputs": [
    {
     "data": {
      "image/png": "[encoded data removed]",
      "text/plain": [
       "<Figure size 640x480 with 2 Axes>"
      ]
     },
     "metadata": {},
     "output_type": "display_data"
    }
   ],
   "source": [
    "import seaborn as sns\n",
    "\n",
    "sns.heatmap(\n",
    "    pd.DataFrame(confusion_matrixes['XGBoost']),\n",
    "    annot=True,\n",
    "    vmax=1000,\n",
    "    fmt=\".0f\"\n",
    ")\n",
    "\n",
    "plt.show()"
   ]
  },
  {
   "cell_type": "code",
   "execution_count": 84,
   "id": "1515e3d8",
   "metadata": {
    "ExecuteTime": {
     "end_time": "2024-06-06T11:45:11.514978Z",
     "start_time": "2024-06-06T11:45:11.413158Z"
    }
   },
   "outputs": [
    {
     "data": {
      "image/png": "[encoded data removed]",
      "text/plain": [
       "<Figure size 640x480 with 2 Axes>"
      ]
     },
     "metadata": {},
     "output_type": "display_data"
    }
   ],
   "source": [
    "sns.heatmap(\n",
    "    pd.DataFrame(confusion_matrixes['LightGBM']),\n",
    "    annot=True,\n",
    "    vmax=1000,\n",
    "    fmt=\".0f\"\n",
    ")\n",
    "\n",
    "plt.show()"
   ]
  }
 ],
 "metadata": {
  "kernelspec": {
   "display_name": "Python 3 (ipykernel)",
   "language": "python",
   "name": "python3"
  },
  "language_info": {
   "codemirror_mode": {
    "name": "ipython",
    "version": 3
   },
   "file_extension": ".py",
   "mimetype": "text/x-python",
   "name": "python",
   "nbconvert_exporter": "python",
   "pygments_lexer": "ipython3",
   "version": "3.9.16"
  },
  "toc": {
   "base_numbering": 1,
   "nav_menu": {},
   "number_sections": false,
   "sideBar": true,
   "skip_h1_title": false,
   "title_cell": "Table of Contents",
   "title_sidebar": "Contents",
   "toc_cell": false,
   "toc_position": {},
   "toc_section_display": true,
   "toc_window_display": false
  }
 },
 "nbformat": 4,
 "nbformat_minor": 5
}
