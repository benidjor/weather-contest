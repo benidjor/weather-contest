{
 "cells": [
  {
   "cell_type": "markdown",
   "id": "75f84c24",
   "metadata": {},
   "source": [
    "## 1. 데이터셋 로딩 및 전처리"
   ]
  },
  {
   "cell_type": "markdown",
   "id": "ec9865c7",
   "metadata": {},
   "source": [
    "### 1-1. 데이터셋 불러오기"
   ]
  },
  {
   "cell_type": "code",
   "execution_count": 1,
   "id": "12d7bc5a",
   "metadata": {
    "ExecuteTime": {
     "end_time": "2024-06-10T08:38:05.827347Z",
     "start_time": "2024-06-10T08:38:03.955459Z"
    }
   },
   "outputs": [],
   "source": [
    "import pandas as pd\n",
    "import numpy as np\n",
    "import matplotlib.pyplot as plt\n",
    "import pickle\n",
    "from datetime import datetime\n",
    "\n",
    "from sklearn.model_selection import train_test_split, GridSearchCV\n",
    "from sklearn.metrics import confusion_matrix, accuracy_score, precision_score, recall_score, f1_score\n",
    "from xgboost import XGBClassifier\n",
    "from lightgbm import LGBMClassifier"
   ]
  },
  {
   "cell_type": "code",
   "execution_count": 2,
   "id": "ed8bd5d8",
   "metadata": {
    "ExecuteTime": {
     "end_time": "2024-06-10T08:38:08.779727Z",
     "start_time": "2024-06-10T08:38:05.829608Z"
    }
   },
   "outputs": [],
   "source": [
    "train = pd.read_csv('fog_train.csv', index_col=0).rename(columns=lambda x: x.split('.')[1])\n",
    "test = pd.read_csv('fog_test.csv', index_col=0).rename(columns=lambda x: x.split('.')[1])"
   ]
  },
  {
   "cell_type": "markdown",
   "id": "bcf114d3",
   "metadata": {},
   "source": [
    "### 1-2. 데이터셋 분포 확인"
   ]
  },
  {
   "cell_type": "code",
   "execution_count": 92,
   "id": "23b6d3ae",
   "metadata": {
    "ExecuteTime": {
     "end_time": "2024-06-06T12:17:24.507169Z",
     "start_time": "2024-06-06T12:17:24.478279Z"
    }
   },
   "outputs": [
    {
     "data": {
      "text/html": [
       "<div>\n",
       "<style scoped>\n",
       "    .dataframe tbody tr th:only-of-type {\n",
       "        vertical-align: middle;\n",
       "    }\n",
       "\n",
       "    .dataframe tbody tr th {\n",
       "        vertical-align: top;\n",
       "    }\n",
       "\n",
       "    .dataframe thead th {\n",
       "        text-align: right;\n",
       "    }\n",
       "</style>\n",
       "<table border=\"1\" class=\"dataframe\">\n",
       "  <thead>\n",
       "    <tr style=\"text-align: right;\">\n",
       "      <th></th>\n",
       "      <th>class</th>\n",
       "    </tr>\n",
       "    <tr>\n",
       "      <th>index</th>\n",
       "      <th></th>\n",
       "    </tr>\n",
       "  </thead>\n",
       "  <tbody>\n",
       "    <tr>\n",
       "      <th>-99</th>\n",
       "      <td>0.713%</td>\n",
       "    </tr>\n",
       "    <tr>\n",
       "      <th>1</th>\n",
       "      <td>0.249%</td>\n",
       "    </tr>\n",
       "    <tr>\n",
       "      <th>2</th>\n",
       "      <td>0.383%</td>\n",
       "    </tr>\n",
       "    <tr>\n",
       "      <th>3</th>\n",
       "      <td>0.386%</td>\n",
       "    </tr>\n",
       "    <tr>\n",
       "      <th>4</th>\n",
       "      <td>98.269%</td>\n",
       "    </tr>\n",
       "  </tbody>\n",
       "</table>\n",
       "</div>"
      ],
      "text/plain": [
       "         class\n",
       "index         \n",
       "-99     0.713%\n",
       " 1      0.249%\n",
       " 2      0.383%\n",
       " 3      0.386%\n",
       " 4     98.269%"
      ]
     },
     "execution_count": 92,
     "metadata": {},
     "output_type": "execute_result"
    }
   ],
   "source": [
    "# 클래스별 비율 확인\n",
    "np.round(\n",
    "    train['class'].value_counts(normalize=True).to_frame().reset_index().sort_values('index').set_index('index') * 100\n",
    ", 3).astype(str) + '%'"
   ]
  },
  {
   "cell_type": "code",
   "execution_count": 93,
   "id": "354758df",
   "metadata": {
    "ExecuteTime": {
     "end_time": "2024-06-06T12:17:24.568762Z",
     "start_time": "2024-06-06T12:17:24.508778Z"
    }
   },
   "outputs": [
    {
     "data": {
      "text/html": [
       "<div>\n",
       "<style scoped>\n",
       "    .dataframe tbody tr th:only-of-type {\n",
       "        vertical-align: middle;\n",
       "    }\n",
       "\n",
       "    .dataframe tbody tr th {\n",
       "        vertical-align: top;\n",
       "    }\n",
       "\n",
       "    .dataframe thead th {\n",
       "        text-align: right;\n",
       "    }\n",
       "</style>\n",
       "<table border=\"1\" class=\"dataframe\">\n",
       "  <thead>\n",
       "    <tr style=\"text-align: right;\">\n",
       "      <th></th>\n",
       "      <th>class</th>\n",
       "    </tr>\n",
       "    <tr>\n",
       "      <th>index</th>\n",
       "      <th></th>\n",
       "    </tr>\n",
       "  </thead>\n",
       "  <tbody>\n",
       "    <tr>\n",
       "      <th>1.0</th>\n",
       "      <td>0.251%</td>\n",
       "    </tr>\n",
       "    <tr>\n",
       "      <th>2.0</th>\n",
       "      <td>0.386%</td>\n",
       "    </tr>\n",
       "    <tr>\n",
       "      <th>3.0</th>\n",
       "      <td>0.389%</td>\n",
       "    </tr>\n",
       "    <tr>\n",
       "      <th>4.0</th>\n",
       "      <td>98.975%</td>\n",
       "    </tr>\n",
       "  </tbody>\n",
       "</table>\n",
       "</div>"
      ],
      "text/plain": [
       "         class\n",
       "index         \n",
       "1.0     0.251%\n",
       "2.0     0.386%\n",
       "3.0     0.389%\n",
       "4.0    98.975%"
      ]
     },
     "execution_count": 93,
     "metadata": {},
     "output_type": "execute_result"
    }
   ],
   "source": [
    "np.round(\n",
    "    train['class'].replace(-99, np.nan).replace(-99.9, np.nan)\\\n",
    "    .value_counts(normalize=True).to_frame().reset_index().sort_values('index').set_index('index') * 100\n",
    ", 3).astype(str) + '%'"
   ]
  },
  {
   "cell_type": "code",
   "execution_count": 94,
   "id": "48a025b1",
   "metadata": {
    "ExecuteTime": {
     "end_time": "2024-06-06T12:17:24.630577Z",
     "start_time": "2024-06-06T12:17:24.570991Z"
    }
   },
   "outputs": [
    {
     "data": {
      "text/html": [
       "<div>\n",
       "<style scoped>\n",
       "    .dataframe tbody tr th:only-of-type {\n",
       "        vertical-align: middle;\n",
       "    }\n",
       "\n",
       "    .dataframe tbody tr th {\n",
       "        vertical-align: top;\n",
       "    }\n",
       "\n",
       "    .dataframe thead th {\n",
       "        text-align: right;\n",
       "    }\n",
       "</style>\n",
       "<table border=\"1\" class=\"dataframe\">\n",
       "  <thead>\n",
       "    <tr style=\"text-align: right;\">\n",
       "      <th></th>\n",
       "      <th>class</th>\n",
       "    </tr>\n",
       "    <tr>\n",
       "      <th>index</th>\n",
       "      <th></th>\n",
       "    </tr>\n",
       "  </thead>\n",
       "  <tbody>\n",
       "    <tr>\n",
       "      <th>1.0</th>\n",
       "      <td>7866</td>\n",
       "    </tr>\n",
       "    <tr>\n",
       "      <th>2.0</th>\n",
       "      <td>12088</td>\n",
       "    </tr>\n",
       "    <tr>\n",
       "      <th>3.0</th>\n",
       "      <td>12180</td>\n",
       "    </tr>\n",
       "    <tr>\n",
       "      <th>4.0</th>\n",
       "      <td>3101809</td>\n",
       "    </tr>\n",
       "  </tbody>\n",
       "</table>\n",
       "</div>"
      ],
      "text/plain": [
       "         class\n",
       "index         \n",
       "1.0       7866\n",
       "2.0      12088\n",
       "3.0      12180\n",
       "4.0    3101809"
      ]
     },
     "execution_count": 94,
     "metadata": {},
     "output_type": "execute_result"
    }
   ],
   "source": [
    "np.round(\n",
    "    train['class'].replace(-99, np.nan).replace(-99.9, np.nan)\\\n",
    "    .value_counts().to_frame().reset_index().sort_values('index').set_index('index')\n",
    ", 3)"
   ]
  },
  {
   "cell_type": "markdown",
   "id": "399d7b12",
   "metadata": {},
   "source": [
    "### 1-3. 전처리"
   ]
  },
  {
   "cell_type": "code",
   "execution_count": 3,
   "id": "fb808f34",
   "metadata": {
    "ExecuteTime": {
     "end_time": "2024-06-10T08:38:13.252480Z",
     "start_time": "2024-06-10T08:38:12.522887Z"
    }
   },
   "outputs": [],
   "source": [
    "# 지역 처리\n",
    "train['stn_group'] = train['stn_id'].str[0]\n",
    "train['stn_group_binary'] = train['stn_group'].map({'A': 1, 'B': 2, 'C': 3, 'D': 4, 'E': 5})\n",
    "\n",
    "test['stn_group'] = test['stn_id'].str[0]\n",
    "test['stn_group_binary'] = test['stn_group'].map({'A': 1, 'B': 2, 'C': 3, 'D': 4, 'E': 5})"
   ]
  },
  {
   "cell_type": "code",
   "execution_count": 4,
   "id": "6b6bebd9",
   "metadata": {
    "ExecuteTime": {
     "end_time": "2024-06-10T08:38:16.744958Z",
     "start_time": "2024-06-10T08:38:15.440632Z"
    }
   },
   "outputs": [
    {
     "data": {
      "text/plain": [
       "((3133943, 9), (262800, 9))"
      ]
     },
     "execution_count": 4,
     "metadata": {},
     "output_type": "execute_result"
    }
   ],
   "source": [
    "# 안 쓰는 컬럼 drop\n",
    "drop_columns = ['year', 'month', 'day', 'time', 'minute'] + ['stn_id', 'stn_group']\n",
    "\n",
    "# train에서 class가 -99인 데이터(결측치) drop\n",
    "train['class'] = train['class'].replace(-99, np.nan).replace(-99.9, np.nan) - 1\n",
    "\n",
    "train_drop = train.dropna().drop(drop_columns, axis=1).drop('vis1', axis=1).reset_index(drop=True)\n",
    "test_drop = test.drop(drop_columns, axis=1).drop('class', axis=1).reset_index(drop=True)\n",
    "\n",
    "train_drop.shape, test_drop.shape"
   ]
  },
  {
   "cell_type": "markdown",
   "id": "9babe591",
   "metadata": {},
   "source": [
    "### 1-4. 과소표집"
   ]
  },
  {
   "cell_type": "markdown",
   "id": "acc0819e",
   "metadata": {},
   "source": [
    "```imbalanced-learn``` 모듈을 이용하면 좋다.\n",
    "\n",
    "1. **랜덤 과소표집 (Random Under-Sampling)**:\n",
    "   - 가장 기본적인 방법으로, 다수 클래스의 샘플을 무작위로 선택하여 소수 클래스의 샘플 수와 같거나 비슷하게 맞춥니다.\n",
    "   - 장점: 구현이 간단하고 빠름.\n",
    "   - 단점: 중요한 정보를 잃을 가능성이 있음.\n",
    "\n",
    "\n",
    "2. **클러스터 중심 과소표집 (Cluster Centroids)**:\n",
    "   - K-means 클러스터링을 사용하여 다수 클래스 샘플을 몇 개의 클러스터로 묶은 다음, 각 클러스터의 중심을 대표 샘플로 사용합니다.\n",
    "   - 장점: 데이터의 구조를 고려하여 샘플 수를 줄임.\n",
    "   - 단점: 클러스터링의 결과에 따라 성능이 달라질 수 있음.\n",
    "\n",
    "\n",
    "3. **토메크 링크 (Tomek Links)**:\n",
    "   - 서로 다른 클래스에 속하는 샘플 쌍(토메크 링크)을 찾아 제거하여 클래스 간의 경계를 더 명확히 함.\n",
    "   - 장점: 데이터의 경계를 명확히 하여 모델의 성능을 향상시킬 수 있음.\n",
    "   - 단점: 처리 속도가 상대적으로 느릴 수 있음.\n",
    "\n",
    "\n",
    "4. **편향된 무작위 과소표집 (NearMiss)**:\n",
    "   - 다수 클래스 샘플 중 소수 클래스 샘플과 가장 가까운 샘플을 선택하거나, 소수 클래스 샘플과의 평균 거리가 가까운 샘플을 선택하는 방식.\n",
    "   - 여러 가지 변형이 있으며, 데이터의 특성에 맞게 선택할 수 있음.\n",
    "   - 장점: 중요한 샘플을 유지할 가능성이 높음.\n",
    "   - 단점: 설정과 튜닝이 필요함.\n",
    "\n",
    "\n",
    "5. **Condensed Nearest Neighbor (CNN)**:\n",
    "   - KNN(K-Nearest Neighbor) 알고리즘을 사용하여 다수 클래스 샘플 중에서 필수적인 샘플만 남기고 나머지를 제거함.\n",
    "   - 장점: 모델의 성능을 향상시킬 수 있는 중요한 샘플만 유지.\n",
    "   - 단점: 연산 비용이 높을 수 있음.\n",
    "\n",
    "\n",
    "6. **Edited Nearest Neighbor (ENN)**:\n",
    "   - KNN 알고리즘을 사용하여 잘못 분류된 샘플을 제거함으로써 데이터의 품질을 높임.\n",
    "   - 장점: 데이터의 노이즈를 줄여 모델의 성능을 향상시킬 수 있음.\n",
    "   - 단점: 과소표집 과정에서 데이터 손실이 발생할 수 있음."
   ]
  },
  {
   "cell_type": "code",
   "execution_count": 17,
   "id": "58165c2e",
   "metadata": {
    "ExecuteTime": {
     "end_time": "2024-06-10T09:03:59.590503Z",
     "start_time": "2024-06-10T09:03:58.925589Z"
    }
   },
   "outputs": [
    {
     "name": "stdout",
     "output_type": "stream",
     "text": [
      "[Random Under-Sampling] Resampled dataset shape: Counter({0.0: 7866, 1.0: 7866, 2.0: 7866, 3.0: 7866}), 학습 시간: 0.54s\n"
     ]
    }
   ],
   "source": [
    "from imblearn.under_sampling import RandomUnderSampler\n",
    "from collections import Counter\n",
    "\n",
    "X = train_drop.drop('class', axis=1)\n",
    "y = train_drop['class']\n",
    "\n",
    "start_time = datetime.now()\n",
    "rus = RandomUnderSampler(random_state=42)\n",
    "X_res_rus, y_res_rus = rus.fit_resample(X, y)\n",
    "time_delta = datetime.now() - start_time\n",
    "print(f'''[Random Under-Sampling] Resampled dataset shape: {Counter(y_res_rus)}, 학습 시간: {time_delta.seconds}.{time_delta.microseconds // 10000}s''')"
   ]
  },
  {
   "cell_type": "markdown",
   "id": "91f2d408",
   "metadata": {},
   "source": [
    "### 1-5. 데이터셋 분리"
   ]
  },
  {
   "cell_type": "code",
   "execution_count": 18,
   "id": "23c74d2e",
   "metadata": {
    "ExecuteTime": {
     "end_time": "2024-06-10T09:04:41.705327Z",
     "start_time": "2024-06-10T09:04:41.669243Z"
    }
   },
   "outputs": [
    {
     "data": {
      "text/plain": [
       "((23598, 8), (7866, 8), (23598,), (7866,))"
      ]
     },
     "execution_count": 18,
     "metadata": {},
     "output_type": "execute_result"
    }
   ],
   "source": [
    "X_test = test_drop\n",
    "\n",
    "X_train, X_val, y_train, y_val = train_test_split(X_res_rus, y_res_rus, random_state=42, train_size=0.75, stratify=y_res_rus)\n",
    "X_train.shape, X_val.shape, y_train.shape, y_val.shape"
   ]
  },
  {
   "cell_type": "markdown",
   "id": "19db205a",
   "metadata": {},
   "source": [
    "---"
   ]
  },
  {
   "cell_type": "markdown",
   "id": "d3db831b",
   "metadata": {},
   "source": [
    "## 2. 모델링"
   ]
  },
  {
   "cell_type": "markdown",
   "id": "b572f395",
   "metadata": {},
   "source": [
    "### 2-1. 베이스라인 모델 생성"
   ]
  },
  {
   "cell_type": "code",
   "execution_count": 19,
   "id": "dc2e5bbc",
   "metadata": {
    "ExecuteTime": {
     "end_time": "2024-06-10T09:04:47.028134Z",
     "start_time": "2024-06-10T09:04:47.012992Z"
    }
   },
   "outputs": [],
   "source": [
    "from sklearn.metrics import make_scorer\n",
    "\n",
    "def grid_csi_index(y_true, y_pred):\n",
    "    \n",
    "    model_cm = confusion_matrix(y_true, y_pred)\n",
    "\n",
    "    H = (model_cm[0][0] + model_cm[1][1] + model_cm[2][2])\n",
    "    F = (model_cm[0][1] + model_cm[0][2] + \n",
    "            model_cm[1][0] + model_cm[1][2] + \n",
    "            model_cm[2][0] + model_cm[2][1] +\n",
    "            model_cm[3][0] + model_cm[3][1] + model_cm[3][2])\n",
    "    M = (model_cm[0][3] + model_cm[1][3] + model_cm[2][3])\n",
    "\n",
    "    model_csi = H / (H + F + M)\n",
    "\n",
    "    return model_csi\n",
    "\n",
    "custom_scorer = make_scorer(grid_csi_index)"
   ]
  },
  {
   "cell_type": "code",
   "execution_count": 22,
   "id": "737486e7",
   "metadata": {
    "ExecuteTime": {
     "end_time": "2024-06-10T09:06:55.154392Z",
     "start_time": "2024-06-10T09:06:49.733379Z"
    }
   },
   "outputs": [
    {
     "name": "stdout",
     "output_type": "stream",
     "text": [
      "XGBoost 학습 완료! CSI: 0.54478, Accuracy: 0.63946, Recall: 0.63946, Precision: 0.6387, 학습 시간: 1.36s\n",
      "LightGBM 학습 완료! CSI: 0.52847, Accuracy: 0.62738, Recall: 0.62738, Precision: 0.62698, 학습 시간: 3.94s\n"
     ]
    }
   ],
   "source": [
    "models = {\n",
    "    'XGBoost': XGBClassifier(tree_method='hist', device='cuda', random_state=42),\n",
    "    'LightGBM': LGBMClassifier(verbosity=-1, device='gpu', random_state=42)\n",
    "}\n",
    "\n",
    "model_results = {}\n",
    "confusion_matrixes = {}\n",
    "importance = {}\n",
    "\n",
    "for name, model in models.items():\n",
    "    start_time = datetime.now()\n",
    "    model.fit(X_train, y_train)\n",
    "    y_pred = model.predict(X_val)\n",
    "    csi = grid_csi_index(y_val, y_pred)\n",
    "    accuracy = accuracy_score(y_val, y_pred)\n",
    "    precision = precision_score(y_val, y_pred, average='weighted')\n",
    "    recall = recall_score(y_val, y_pred, average='weighted')\n",
    "    f1 = f1_score(y_val, y_pred, average='weighted')\n",
    "    model_results[name] = csi\n",
    "    confusion_matrixes[name] = confusion_matrix(y_val, y_pred)\n",
    "#     if name == 'XGBoost':\n",
    "#         importance[name] = model.get_score(importance_type='weight')\n",
    "#         continue\n",
    "#     elif name == 'LightGBM':\n",
    "#         importance[name] = model.feature_importance(importance_type='split')\n",
    "    time_delta = datetime.now() - start_time\n",
    "    with open(f'''{name}(튜닝X)_{start_time.strftime('%Y%m%d%H%M%S')}.pkl''', 'wb') as file:\n",
    "        pickle.dump(model, file)\n",
    "#     print(f\"{name} 학습 완료! CSI: {np.round(csi, 5)}, Accuracy: {np.round(accuracy, 5)}, 학습 시간: {time_delta.seconds}.{time_delta.microseconds // 10000}s\")\n",
    "#     print(f\"{name} 학습 완료! CSI: {np.round(csi, 5)}, 정확도: {np.round(accuracy, 5)}, F1: {np.round(f1, 5)}, 학습 시간: {time_delta.seconds}.{time_delta.microseconds // 10000}s\")\n",
    "    print(f\"{name} 학습 완료! CSI: {np.round(csi, 5)}, Accuracy: {np.round(accuracy, 5)}, Recall: {np.round(recall, 5)}, Precision: {np.round(precision, 5)}, 학습 시간: {time_delta.seconds}.{time_delta.microseconds // 10000}s\")"
   ]
  },
  {
   "cell_type": "code",
   "execution_count": 26,
   "id": "73cb8156",
   "metadata": {
    "ExecuteTime": {
     "end_time": "2024-06-10T09:08:36.665355Z",
     "start_time": "2024-06-10T09:08:36.357605Z"
    }
   },
   "outputs": [
    {
     "data": {
      "image/png": "[encoded data removed]",
      "text/plain": [
       "<Figure size 1200x400 with 4 Axes>"
      ]
     },
     "metadata": {},
     "output_type": "display_data"
    }
   ],
   "source": [
    "import seaborn as sns\n",
    "\n",
    "fig, axes = plt.subplots(ncols=2, figsize=(12, 4))\n",
    "\n",
    "sns.heatmap(\n",
    "    pd.DataFrame(confusion_matrixes['XGBoost']),\n",
    "    annot=True,\n",
    "#     vmax=1000,\n",
    "    fmt=\".0f\",\n",
    "    ax=axes[0]\n",
    ")\n",
    "axes[0].set_title('XGBoost')\n",
    "\n",
    "sns.heatmap(\n",
    "    pd.DataFrame(confusion_matrixes['LightGBM']),\n",
    "    annot=True,\n",
    "#     vmax=1000,\n",
    "    fmt=\".0f\",\n",
    "    ax=axes[1]\n",
    ")\n",
    "axes[1].set_title('LightGBM')\n",
    "\n",
    "plt.show()"
   ]
  },
  {
   "cell_type": "markdown",
   "id": "081f9eed",
   "metadata": {},
   "source": [
    "성능에 큰 차이 없이 두 모델 모두 비슷하게 예측하는 점 확인 가능했다."
   ]
  },
  {
   "cell_type": "markdown",
   "id": "38c9ac4a",
   "metadata": {},
   "source": [
    "### 2-2. 하이퍼파라미터 튜닝"
   ]
  },
  {
   "cell_type": "code",
   "execution_count": 29,
   "id": "6b63b0ea",
   "metadata": {
    "ExecuteTime": {
     "end_time": "2024-06-10T09:59:57.575906Z",
     "start_time": "2024-06-10T09:26:56.380607Z"
    }
   },
   "outputs": [
    {
     "name": "stdout",
     "output_type": "stream",
     "text": [
      "Fitting 3 folds for each of 243 candidates, totalling 729 fits\n",
      "Best parameters found: {'colsample_bytree': 0.9, 'learning_rate': 0.1, 'max_depth': 7, 'n_estimators': 300, 'subsample': 0.8}\n",
      "Best cross-validation accuracy: 0.5492423328348598\n"
     ]
    }
   ],
   "source": [
    "xgb = XGBClassifier(tree_method='hist', device='cuda', random_state=42)\n",
    "\n",
    "param_grid = {\n",
    "    'max_depth': [3, 5, 7],\n",
    "    'learning_rate': [0.01, 0.1, 0.2],\n",
    "    'n_estimators': [100, 200, 300],\n",
    "    'subsample': [0.7, 0.8, 0.9],\n",
    "    'colsample_bytree': [0.7, 0.8, 0.9]\n",
    "}\n",
    "\n",
    "grid_search = GridSearchCV(estimator=xgb, param_grid=param_grid, scoring=custom_scorer, cv=3, verbose=1, n_jobs=-1)\n",
    "grid_search.fit(X_train, y_train)\n",
    "\n",
    "print(f\"Best parameters found: {grid_search.best_params_}\")\n",
    "print(f\"Best cross-validation accuracy: {grid_search.best_score_}\")"
   ]
  },
  {
   "cell_type": "code",
   "execution_count": 30,
   "id": "3e106701",
   "metadata": {
    "ExecuteTime": {
     "end_time": "2024-06-10T10:00:56.988593Z",
     "start_time": "2024-06-10T10:00:56.981046Z"
    }
   },
   "outputs": [],
   "source": [
    "best_model = grid_search.best_estimator_"
   ]
  },
  {
   "cell_type": "code",
   "execution_count": 32,
   "id": "15f63f71",
   "metadata": {
    "ExecuteTime": {
     "end_time": "2024-06-10T10:02:08.742266Z",
     "start_time": "2024-06-10T10:02:08.691658Z"
    }
   },
   "outputs": [],
   "source": [
    "with open(f'''XGBoost_{datetime.now().strftime('%Y%m%d%H%M%S')}.pkl''', 'wb') as file:\n",
    "    pickle.dump(best_model, file)"
   ]
  },
  {
   "cell_type": "markdown",
   "id": "e84fe6df",
   "metadata": {},
   "source": [
    "### 2-3. 결과 확인"
   ]
  },
  {
   "cell_type": "code",
   "execution_count": 33,
   "id": "2c303a61",
   "metadata": {
    "ExecuteTime": {
     "end_time": "2024-06-10T10:03:52.276487Z",
     "start_time": "2024-06-10T10:03:52.159415Z"
    }
   },
   "outputs": [
    {
     "name": "stdout",
     "output_type": "stream",
     "text": [
      "CSI: 0.5605, Accuracy: 0.65319, Recall: 0.65319, Precision: 0.65311\n"
     ]
    }
   ],
   "source": [
    "y_pred = best_model.predict(X_val)\n",
    "csi = grid_csi_index(y_val, y_pred)\n",
    "accuracy = accuracy_score(y_val, y_pred)\n",
    "precision = precision_score(y_val, y_pred, average='weighted')\n",
    "recall = recall_score(y_val, y_pred, average='weighted')\n",
    "f1 = f1_score(y_val, y_pred, average='weighted')\n",
    "\n",
    "print(f\"CSI: {np.round(csi, 5)}, Accuracy: {np.round(accuracy, 5)}, Recall: {np.round(recall, 5)}, Precision: {np.round(precision, 5)}\")"
   ]
  },
  {
   "cell_type": "code",
   "execution_count": 36,
   "id": "a5834edf",
   "metadata": {
    "ExecuteTime": {
     "end_time": "2024-06-10T10:06:57.701911Z",
     "start_time": "2024-06-10T10:06:57.333045Z"
    }
   },
   "outputs": [],
   "source": [
    "y_pred = best_model.predict(X_test)\n",
    "X_test['class'] = y_pred"
   ]
  },
  {
   "cell_type": "code",
   "execution_count": 40,
   "id": "c69da6b8",
   "metadata": {
    "ExecuteTime": {
     "end_time": "2024-06-10T10:07:58.594037Z",
     "start_time": "2024-06-10T10:07:58.574873Z"
    }
   },
   "outputs": [
    {
     "data": {
      "text/html": [
       "<div>\n",
       "<style scoped>\n",
       "    .dataframe tbody tr th:only-of-type {\n",
       "        vertical-align: middle;\n",
       "    }\n",
       "\n",
       "    .dataframe tbody tr th {\n",
       "        vertical-align: top;\n",
       "    }\n",
       "\n",
       "    .dataframe thead th {\n",
       "        text-align: right;\n",
       "    }\n",
       "</style>\n",
       "<table border=\"1\" class=\"dataframe\">\n",
       "  <thead>\n",
       "    <tr style=\"text-align: right;\">\n",
       "      <th></th>\n",
       "      <th>class</th>\n",
       "    </tr>\n",
       "    <tr>\n",
       "      <th>index</th>\n",
       "      <th></th>\n",
       "    </tr>\n",
       "  </thead>\n",
       "  <tbody>\n",
       "    <tr>\n",
       "      <th>0</th>\n",
       "      <td>3.881%</td>\n",
       "    </tr>\n",
       "    <tr>\n",
       "      <th>1</th>\n",
       "      <td>6.755%</td>\n",
       "    </tr>\n",
       "    <tr>\n",
       "      <th>2</th>\n",
       "      <td>8.927%</td>\n",
       "    </tr>\n",
       "    <tr>\n",
       "      <th>3</th>\n",
       "      <td>80.438%</td>\n",
       "    </tr>\n",
       "  </tbody>\n",
       "</table>\n",
       "</div>"
      ],
      "text/plain": [
       "         class\n",
       "index         \n",
       "0       3.881%\n",
       "1       6.755%\n",
       "2       8.927%\n",
       "3      80.438%"
      ]
     },
     "execution_count": 40,
     "metadata": {},
     "output_type": "execute_result"
    }
   ],
   "source": [
    "np.round(\n",
    "    X_test['class'].value_counts(normalize=True).to_frame().reset_index().sort_values('index').set_index('index') * 100\n",
    ", 3).astype(str) + '%'"
   ]
  }
 ],
 "metadata": {
  "kernelspec": {
   "display_name": "Python 3 (ipykernel)",
   "language": "python",
   "name": "python3"
  },
  "language_info": {
   "codemirror_mode": {
    "name": "ipython",
    "version": 3
   },
   "file_extension": ".py",
   "mimetype": "text/x-python",
   "name": "python",
   "nbconvert_exporter": "python",
   "pygments_lexer": "ipython3",
   "version": "3.9.16"
  },
  "toc": {
   "base_numbering": 1,
   "nav_menu": {},
   "number_sections": false,
   "sideBar": true,
   "skip_h1_title": false,
   "title_cell": "Table of Contents",
   "title_sidebar": "Contents",
   "toc_cell": false,
   "toc_position": {
    "height": "calc(100% - 180px)",
    "left": "10px",
    "top": "150px",
    "width": "285.6px"
   },
   "toc_section_display": true,
   "toc_window_display": true
  }
 },
 "nbformat": 4,
 "nbformat_minor": 5
}
